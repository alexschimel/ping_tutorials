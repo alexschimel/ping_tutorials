{
 "cells": [
  {
   "cell_type": "markdown",
   "metadata": {},
   "source": [
    "### `themachinethatgoesping` tutorial series\n",
    "# Tutorial 1: Opening a file\n",
    "\n",
    "In this tutorial, we use `themachinethatgoesping` to access the data from a single file. \n",
    "\n",
    "This short sequence illustrates a few core objects of the `themachinethatgoesping`, and how to use them to load and access data.\n",
    "\n",
    "`themachinethatgoesping` concepts covered:\n",
    "- finding .all/.wcd files\n",
    "- data loading\n",
    "- \"File Handler\" object\n"
   ]
  },
  {
   "cell_type": "markdown",
   "metadata": {},
   "source": [
    "## Summary"
   ]
  },
  {
   "cell_type": "code",
   "execution_count": null,
   "metadata": {},
   "outputs": [
    {
     "name": "stdout",
     "output_type": "stream",
     "text": [
      "Found 16 files\n",
      "Found 11 files\n",
      "indexing files ⠐ 100% [00m:00s<00m:00s] [..7506659992808476.all (1/16)]                               \n",
      "indexing files ⠠ 100% [00m:00s<00m:00s] [..2155654265012286.wcd (16/16)]                                \n",
      "indexing files ⢀ 100% [00m:00s<00m:00s] [Found: 1168 datagrams in 16 files (21MB)]                                          \n",
      "Initializing datagramdata interface ⠈ 0% [00m:00s<00m:00s]           \n"
     ]
    }
   ],
   "source": [
    "# First you have to import themachinethatgoesping\n",
    "# here we import it as 'Ping', note the capital P\n",
    "import themachinethatgoesping as Ping\n",
    "from themachinethatgoesping.echosounders import index_functions\n",
    "\n",
    "#set the data folders where data files can be found (../../unittest data holds a couple of very small test files)\n",
    "data_folders = []\n",
    "data_folders.append(\"../../unittest_data\")\n",
    "\n",
    "# To find all find all Kongsberg files in the list of data_folders\n",
    "kongsberg_files = index_functions.find_files(data_folders, [\".all\",\"wcd\"])\n",
    "\n",
    "# To find all find all simrad raw files in the list of data_folders\n",
    "simrad_files = index_functions.find_files(data_folders, [\".raw\"])\n",
    "\n",
    "# load the data with the appropriate file handler:\n",
    "fh_kongsberg = Ping.echosounders.kongsbergall.KongsbergAllFileHandler(kongsberg_files, init=True)\n",
    "fh_simrad = Ping.echosounders.simradraw.SimradRawFileHandler(simrad_files, init=True)\n",
    "\n",
    "#access the tenth datagram\n",
    "package = fh_simrad.datagram_interface.datagrams()[10]\n",
    "package.print()"
   ]
  },
  {
   "cell_type": "markdown",
   "metadata": {},
   "source": [
    "## Step-by-step"
   ]
  },
  {
   "cell_type": "markdown",
   "metadata": {},
   "source": [
    "### 0. Basic setup and imports"
   ]
  },
  {
   "cell_type": "code",
   "execution_count": 2,
   "metadata": {},
   "outputs": [],
   "source": [
    "# First you have to import themachinethatgoesping\n",
    "# here we import it as 'Ping', note the capital P\n",
    "import themachinethatgoesping as Ping\n",
    "\n",
    "#set the data folders where data files can be found (../../unittest data holds a couple of very small test files)\n",
    "data_folders = []\n",
    "data_folders.append(\"../../unittest_data\")\n"
   ]
  },
  {
   "cell_type": "markdown",
   "metadata": {},
   "source": [
    "### 1. List raw data files (kongsberg .all/.wcd files)"
   ]
  },
  {
   "cell_type": "code",
   "execution_count": 3,
   "metadata": {},
   "outputs": [
    {
     "name": "stdout",
     "output_type": "stream",
     "text": [
      "Found 16 files\n",
      "Found 11 files\n"
     ]
    }
   ],
   "source": [
    "# To use ping we need a list of .all/.wcd or .raw files (pathes)\n",
    "# Ping provides functions to find these files in a list of folders\n",
    "# The function is hidden in the namespace Ping.echosounders.index_functions\n",
    "# here we import this namespace it as index_functions\n",
    "from themachinethatgoesping.echosounders import index_functions\n",
    "\n",
    "# To find all find all Kongsberg files in the list of data_folders\n",
    "kongsberg_files = index_functions.find_files(data_folders, [\".all\",\"wcd\"])\n",
    "\n",
    "# To find all find all simrad raw files in the list of data_folders\n",
    "simrad_files = index_functions.find_files(data_folders, [\".raw\"])"
   ]
  },
  {
   "cell_type": "code",
   "execution_count": 4,
   "metadata": {},
   "outputs": [
    {
     "name": "stdout",
     "output_type": "stream",
     "text": [
      "The output is a <class 'list'> object with 16 elements:\n",
      "(0/16) ../../unittest_data/kongsberg/a/c/519880139284219668.all\n",
      "(1/16) ../../unittest_data/kongsberg/a/c/519880139284219668.wcd\n",
      "(2/16) ../../unittest_data/kongsberg/a/f/ALL/6516408039690331208.all\n",
      "(3/16) ../../unittest_data/kongsberg/a/f/WCD/6516408039690331208.wcd\n",
      "(4/16) ../../unittest_data/kongsberg/a/y/-1333931979274893952.all\n",
      "(5/16) ../../unittest_data/kongsberg/a/y/-1333931979274893952.wcd\n",
      "(6/16) ../../unittest_data/kongsberg/g/-7041029013895133878.all\n",
      "(7/16) ../../unittest_data/kongsberg/g/-7041029013895133878.wcd\n",
      "(8/16) ../../unittest_data/kongsberg/he/-3092155654265012286.all\n",
      "(9/16) ../../unittest_data/kongsberg/he/-3092155654265012286.wcd\n",
      "(10/16) ../../unittest_data/kongsberg/simon/7287506659992808476.all\n",
      "(11/16) ../../unittest_data/kongsberg/simon/7287506659992808476.wcd\n",
      "(12/16) ../../unittest_data/kongsberg/turbeams/6641182978793103390.all\n",
      "(13/16) ../../unittest_data/kongsberg/turbeams/6641182978793103390.wcd\n",
      "(14/16) ../../unittest_data/kongsberg/turbeams/9142459809945665151.all\n",
      "(15/16) ../../unittest_data/kongsberg/turbeams/9142459809945665151.wcd\n"
     ]
    }
   ],
   "source": [
    "# show files found\n",
    "print(f\"The output is a {type(kongsberg_files)} object with {len(kongsberg_files)} elements:\")\n",
    "kongsberg_files.sort()\n",
    "for i, file in enumerate(kongsberg_files):\n",
    "    print(f\"({i}/{len(kongsberg_files)}) {file}\")"
   ]
  },
  {
   "cell_type": "markdown",
   "metadata": {},
   "source": [
    "### 2. Load files' data"
   ]
  },
  {
   "cell_type": "code",
   "execution_count": 9,
   "metadata": {},
   "outputs": [
    {
     "name": "stdout",
     "output_type": "stream",
     "text": [
      "indexing files ⠐ 100% [00m:00s<00m:00s] [..9880139284219668.all (1/2)]                              \n",
      "indexing files ⠠ 100% [00m:00s<00m:00s] [..9880139284219668.wcd (2/2)]                              \n",
      "indexing files ⢀ 100% [00m:00s<00m:00s] [Found: 156 datagrams in 2 files (6MB)]                                       \n",
      "Initializing datagramdata interface ⠈ 0% [00m:00s<00m:00s]           \n",
      "Initializing ping interface ⠐ 0% [00m:00s<00m:00s] [Done]                                              \n",
      "indexing file ⠐ 100% [00m:00s<00m:00s]           \n",
      "indexing file ⠠ 100% [00m:00s<00m:00s] [Found: 116 datagrams]                      \n",
      "Initializing ping interface ⡀ 85% [00m:00s<00m:00s] [Done]                                                      \n",
      "\n",
      "\n",
      "A File Handler is a <class 'themachinethatgoesping.echosounders_cppy.kongsbergall.KongsbergAllFileHandler'> object.\n",
      "\n",
      "SimradRawFileHandler\n",
      "####################\n",
      "-\n",
      "File infos \n",
      "-------------                                      \n",
      "- File path:         ...st_data/simrad/y/2917763601822576513.raw \n",
      "- Total file size: : 212.97 KB                                   \n",
      "\n",
      " Detected datagrams \n",
      "^^^^^^^^^^^^^^^^^^^^ \n",
      "- timestamp_first:  09/05/2018 12:12:27.33 \n",
      "- timestamp_last:   09/05/2018 12:12:28.38 \n",
      "- Total:            116                    \n",
      "- Datagrams [NME0]: 80                     [NMEA text datagram]\n",
      "- Datagrams [XML0]: 14                     [XML0 text datagram]\n",
      "- Datagrams [MRU0]: 6                      [Motion binary datagram]\n",
      "- Datagrams [FIL1]: 4                      [Filter binary datagram]\n",
      "- Datagrams [RAW3]: 12                     [Sample binary datagram]\n",
      "\n",
      " Detected Pings \n",
      "---------------- \n",
      "\n",
      " Time info \n",
      "^^^^^^^^^^^             \n",
      "- Start time: 09/05/2018 12:12:27.33 \n",
      "- End time:   09/05/2018 12:12:28.38 \n",
      "- Sorted:     ascending              \n",
      "\n",
      " Contained pings \n",
      "^^^^^^^^^^^^^^^^^    \n",
      "- Total:                             12 \n",
      "- WBT Mini 253617-7 ES38-18|200-18C: 6  \n",
      "- WBT Mini 253617-8 ES38-18|200-18C: 6  \n"
     ]
    }
   ],
   "source": [
    "# load the data with the appropriate file handler:\n",
    "\n",
    "fh_kongsberg = Ping.echosounders.kongsbergall.KongsbergAllFileHandler(kongsberg_files[0:2])\n",
    "fh_simrad = Ping.echosounders.simradraw.SimradRawFileHandler(simrad_files[0])\n",
    "print(\"\\n\")\n",
    "\n",
    "# the output is a \"File Handler\" object. \n",
    "print(f\"A File Handler is a {type(fh_kongsberg)} object.\\n\")\n",
    "\n",
    "# a File Handler manages the entire dataset.\n",
    "\n",
    "# print a summary of the File Handler's contents\n",
    "#print(fh_kongsberg)\n",
    "print(fh_simrad)\n",
    "\n",
    "# notes:\n",
    "#   - it is initalized with the list of files\n",
    "#   - the cache file paths are optional but recommended\n",
    "#   - File pairs will be grouped together at this stage"
   ]
  },
  {
   "cell_type": "markdown",
   "metadata": {},
   "source": [
    "### 3. Accessing data"
   ]
  },
  {
   "cell_type": "code",
   "execution_count": 12,
   "metadata": {},
   "outputs": [
    {
     "name": "stdout",
     "output_type": "stream",
     "text": [
      "DatagramContainer\n",
      "#################\n",
      "-\n",
      "Time info (Datagrams) \n",
      "------------------------ \n",
      "- Start time: 30/07/2022 20:47:43.51 \n",
      "- End time:   30/07/2022 20:47:44.62 \n",
      "- Sorted:     no                     \n",
      "\n",
      " Contained datagrams \n",
      "---------------------       \n",
      "- Total:                                       156 \n",
      "- Datagrams [AttitudeDatagram]:                1   [41]\n",
      "- Datagrams [ClockDatagram]:                   1   [43]\n",
      "- Datagrams [InstallationParametersStart]:     2   [49]\n",
      "- Datagrams [RawRangeAndAngle]:                12  [4e]\n",
      "- Datagrams [PositionDatagram]:                2   [50]\n",
      "- Datagrams [RuntimeParameters]:               3   [52]\n",
      "- Datagrams [SoundSpeedProfileDatagram]:       2   [55]\n",
      "- Datagrams [XYZDatagram]:                     12  [58]\n",
      "- Datagrams [SeabedImageData]:                 12  [59]\n",
      "- Datagrams [WatercolumnDatagram]:             105 [6b]\n",
      "- Datagrams [NetworkAttitudeVelocityDatagram]: 4   [6e]\n"
     ]
    }
   ],
   "source": [
    "fh_kongsberg.datagram_interface.datagrams().print()"
   ]
  },
  {
   "cell_type": "code",
   "execution_count": 15,
   "metadata": {},
   "outputs": [
    {
     "name": "stdout",
     "output_type": "stream",
     "text": [
      "WatercolumnDatagram\n",
      "###################\n",
      "- bytes:               62812    \n",
      "- stx:                 0x02     \n",
      "- datagram_identifier: 0x6b     [WatercolumnDatagram]\n",
      "- model_number:        EM2040   \n",
      "- date:                20220730 [YYYYMMDD]\n",
      "- time_since_midnight: 74864022 [ms]\n",
      "\n",
      " date/time \n",
      "-----------   \n",
      "- timestamp: 1659214064.02 [s]\n",
      "- date:      30/07/2022    [MM/DD/YYYY]\n",
      "- time:      20:47:44.022  [HH:MM:SS]\n",
      "\n",
      " datagram content \n",
      "------------------    \n",
      "- ping_counter:                63074      \n",
      "- system_serial_number:        2106       \n",
      "- number_of_datagrams:         9          \n",
      "- datagram_number:             1          \n",
      "- number_of_transmit_sectors:  3          \n",
      "- total_no_of_receive_beams:   256        \n",
      "- number_of_beams_in_datagram: 20         \n",
      "- sound_speed:                 15092      [0.1 m/s]\n",
      "- sampling_frequency:          2042484    [0.01 Hz]\n",
      "- tx_time_heave:               -38        [cm]\n",
      "- tvg_function_applied:        30         \n",
      "- tvg_offset_in_db:            20         \n",
      "- scanning_info:               0b00000000 \n",
      "- spare:                       0x000      \n",
      "- spare_byte:                  0          \n",
      "\n",
      " processed \n",
      "-----------       \n",
      "- sound_speed:        1509.20  [m/s]\n",
      "- sampling_frequency: 20424.84 [Hz]\n",
      "- tx_time_heave:      -0.38    [m]\n",
      "\n",
      " substructures \n",
      "--------------- \n",
      "- transmit_sectors: 3  [WatercolumnDatagramTransmitSector]\n",
      "- beams:            20 [WatercolumnDatagramBeams]\n"
     ]
    }
   ],
   "source": [
    "package = fh_kongsberg.datagram_interface.datagrams('WatercolumnDatagram')[0]\n",
    "package.print()"
   ]
  },
  {
   "cell_type": "code",
   "execution_count": 25,
   "metadata": {},
   "outputs": [
    {
     "data": {
      "text/plain": [
       "15092"
      ]
     },
     "execution_count": 25,
     "metadata": {},
     "output_type": "execute_result"
    }
   ],
   "source": [
    "package.get_sound_speed()"
   ]
  },
  {
   "cell_type": "code",
   "execution_count": 26,
   "metadata": {},
   "outputs": [
    {
     "data": {
      "text/plain": [
       "1509.2000732421875"
      ]
     },
     "execution_count": 26,
     "metadata": {},
     "output_type": "execute_result"
    }
   ],
   "source": [
    "package.get_sound_speed_m_s()"
   ]
  },
  {
   "cell_type": "code",
   "execution_count": 29,
   "metadata": {},
   "outputs": [
    {
     "data": {
      "application/vnd.jupyter.widget-view+json": {
       "model_id": "8ac24c7048b64e47bdc26b15c6425399",
       "version_major": 2,
       "version_minor": 0
      },
      "text/plain": [
       "  0%|          | 0/2 [00:00<?, ?it/s]"
      ]
     },
     "metadata": {},
     "output_type": "display_data"
    },
    {
     "name": "stdout",
     "output_type": "stream",
     "text": [
      "57.0742968\n",
      "57.0743016\n"
     ]
    }
   ],
   "source": [
    "from tqdm.auto import tqdm\n",
    "\n",
    "for package in tqdm(fh_kongsberg.datagram_interface.datagrams('PositionDatagram')):\n",
    "    print(package.get_latitude_in_degrees())"
   ]
  },
  {
   "cell_type": "code",
   "execution_count": null,
   "metadata": {},
   "outputs": [],
   "source": []
  }
 ],
 "metadata": {
  "kernelspec": {
   "display_name": "Python 3 (ipykernel)",
   "language": "python",
   "name": "python3"
  },
  "language_info": {
   "codemirror_mode": {
    "name": "ipython",
    "version": 3
   },
   "file_extension": ".py",
   "mimetype": "text/x-python",
   "name": "python",
   "nbconvert_exporter": "python",
   "pygments_lexer": "ipython3",
   "version": "3.12.3"
  },
  "widgets": {
   "application/vnd.jupyter.widget-state+json": {
    "state": {
     "0004584b615d41a6bcfb33ce0dbfe5e5": {
      "model_module": "@jupyter-widgets/base",
      "model_module_version": "2.0.0",
      "model_name": "LayoutModel",
      "state": {}
     },
     "04b5c7e8cdc54acabbf5e58c23d815e9": {
      "model_module": "@jupyter-widgets/controls",
      "model_module_version": "2.0.0",
      "model_name": "HTMLModel",
      "state": {
       "layout": "IPY_MODEL_e3d30b37cbb84511b6e519587300f23d",
       "style": "IPY_MODEL_c0d73e3fbdac43d7964d649ce28b2560",
       "value": " 16/16 [00:00&lt;00:00, 5282.08it/s]"
      }
     },
     "0821abd14925479495b6b6b7e563a20b": {
      "model_module": "@jupyter-widgets/controls",
      "model_module_version": "2.0.0",
      "model_name": "HTMLStyleModel",
      "state": {
       "description_width": "",
       "font_size": null,
       "text_color": null
      }
     },
     "0826c81ce3d34654b670b37ed32151c1": {
      "model_module": "@jupyter-widgets/controls",
      "model_module_version": "2.0.0",
      "model_name": "HBoxModel",
      "state": {
       "children": [
        "IPY_MODEL_8b9a43db9ac44d10b974e98af1cc95db",
        "IPY_MODEL_f3bf09f950374c8f88919063ebc2770d",
        "IPY_MODEL_6762062d596749f9b9d30becbbcdc3fa"
       ],
       "layout": "IPY_MODEL_29c33bf3d5704c1b9bdcc9c9515b4d67"
      }
     },
     "095711caef3b477895649afa66a295a3": {
      "model_module": "@jupyter-widgets/controls",
      "model_module_version": "2.0.0",
      "model_name": "HBoxModel",
      "state": {
       "children": [
        "IPY_MODEL_665efff13ba64d1ab9d594c4ec31e2a8",
        "IPY_MODEL_e172378b2beb47c3b9499e275f50b9f5",
        "IPY_MODEL_671cc311d6ca45b7930ea67d6de19a85"
       ],
       "layout": "IPY_MODEL_f1d99f3a063246ebb392a1a9893da5dd"
      }
     },
     "0e998df9581a4b749207a186bc90024f": {
      "model_module": "@jupyter-widgets/base",
      "model_module_version": "2.0.0",
      "model_name": "LayoutModel",
      "state": {}
     },
     "0faeb7286ead47a7bd42968505320f67": {
      "model_module": "@jupyter-widgets/base",
      "model_module_version": "2.0.0",
      "model_name": "LayoutModel",
      "state": {}
     },
     "0fc0eb25d279449aaf1407fd6cb245ca": {
      "model_module": "@jupyter-widgets/controls",
      "model_module_version": "2.0.0",
      "model_name": "HTMLStyleModel",
      "state": {
       "description_width": "",
       "font_size": null,
       "text_color": null
      }
     },
     "0ff17b5221054a7e898f49882ee6bc34": {
      "model_module": "@jupyter-widgets/base",
      "model_module_version": "2.0.0",
      "model_name": "LayoutModel",
      "state": {}
     },
     "102c0402632b4777815fb3b18c604ec4": {
      "model_module": "@jupyter-widgets/controls",
      "model_module_version": "2.0.0",
      "model_name": "HTMLModel",
      "state": {
       "layout": "IPY_MODEL_6658e6febd4b447284305f99cf22077f",
       "style": "IPY_MODEL_af90bcbd0ed640fab9963b355eca9301",
       "value": "removing duplicates: 100%"
      }
     },
     "14d762816a7a43e1b38cc733005948be": {
      "model_module": "@jupyter-widgets/base",
      "model_module_version": "2.0.0",
      "model_name": "LayoutModel",
      "state": {}
     },
     "181da6b785cc49f098c16c8c578ccdf5": {
      "model_module": "@jupyter-widgets/controls",
      "model_module_version": "2.0.0",
      "model_name": "HTMLModel",
      "state": {
       "layout": "IPY_MODEL_f50976f408c44a22ab937630a23a17f6",
       "style": "IPY_MODEL_f1cf9a0beb234ad39b40494873582e55",
       "value": " 11/11 [00:00&lt;00:00, 4771.18it/s]"
      }
     },
     "191fd4e586d14b929cad74f48ed3e234": {
      "model_module": "@jupyter-widgets/base",
      "model_module_version": "2.0.0",
      "model_name": "LayoutModel",
      "state": {}
     },
     "19b3fd3bdbd34455a11845e97a8edcce": {
      "model_module": "@jupyter-widgets/controls",
      "model_module_version": "2.0.0",
      "model_name": "HBoxModel",
      "state": {
       "children": [
        "IPY_MODEL_774626e2555f4753871b17979060796c",
        "IPY_MODEL_f645a26687604cb2b8a5577af33f5763",
        "IPY_MODEL_2b1cd1d74fc641118a8fee9139da949d"
       ],
       "layout": "IPY_MODEL_81e2f5d77d494ef4996304e93609639b"
      }
     },
     "1dae0a480f9e48e69b44840bb5302b92": {
      "model_module": "@jupyter-widgets/controls",
      "model_module_version": "2.0.0",
      "model_name": "HTMLStyleModel",
      "state": {
       "description_width": "",
       "font_size": null,
       "text_color": null
      }
     },
     "20a023ad94bd400e820b38578d3149f8": {
      "model_module": "@jupyter-widgets/base",
      "model_module_version": "2.0.0",
      "model_name": "LayoutModel",
      "state": {}
     },
     "2418423773cf462db764b5fceecc5f22": {
      "model_module": "@jupyter-widgets/controls",
      "model_module_version": "2.0.0",
      "model_name": "ProgressStyleModel",
      "state": {
       "description_width": ""
      }
     },
     "29c33bf3d5704c1b9bdcc9c9515b4d67": {
      "model_module": "@jupyter-widgets/base",
      "model_module_version": "2.0.0",
      "model_name": "LayoutModel",
      "state": {}
     },
     "2b1cd1d74fc641118a8fee9139da949d": {
      "model_module": "@jupyter-widgets/controls",
      "model_module_version": "2.0.0",
      "model_name": "HTMLModel",
      "state": {
       "layout": "IPY_MODEL_a5f2c9d81d744bed87f66fb2c71a7d6a",
       "style": "IPY_MODEL_fb019a60e23f4076ba681e35eeb00ac2",
       "value": " 11/11 [00:00&lt;00:00, 5821.75it/s]"
      }
     },
     "2ceefd29d55e4994965c09dd58904916": {
      "model_module": "@jupyter-widgets/base",
      "model_module_version": "2.0.0",
      "model_name": "LayoutModel",
      "state": {}
     },
     "2d3017cf820c45aa803f5275573fa0d4": {
      "model_module": "@jupyter-widgets/controls",
      "model_module_version": "2.0.0",
      "model_name": "HBoxModel",
      "state": {
       "children": [
        "IPY_MODEL_38f370d05fcb4749b039ec40910426dd",
        "IPY_MODEL_e49855d54cee42f29e5f68c0e48b198f",
        "IPY_MODEL_8cc2a29fdea04d868a2a58a39bc3d6d2"
       ],
       "layout": "IPY_MODEL_71471869a53d4ef1919b498017c47c4e"
      }
     },
     "2d7971d4c8a046f98cf26af7d00daf65": {
      "model_module": "@jupyter-widgets/controls",
      "model_module_version": "2.0.0",
      "model_name": "ProgressStyleModel",
      "state": {
       "description_width": ""
      }
     },
     "2eed13f342af42288a24dfe6be04c9df": {
      "model_module": "@jupyter-widgets/base",
      "model_module_version": "2.0.0",
      "model_name": "LayoutModel",
      "state": {}
     },
     "2ff2235671c345b38e3509bfeb580f63": {
      "model_module": "@jupyter-widgets/controls",
      "model_module_version": "2.0.0",
      "model_name": "HTMLStyleModel",
      "state": {
       "description_width": "",
       "font_size": null,
       "text_color": null
      }
     },
     "36060514a4a840969e8c80922e04bfc1": {
      "model_module": "@jupyter-widgets/base",
      "model_module_version": "2.0.0",
      "model_name": "LayoutModel",
      "state": {}
     },
     "371024ea6f314058995558e0206c9c10": {
      "model_module": "@jupyter-widgets/controls",
      "model_module_version": "2.0.0",
      "model_name": "ProgressStyleModel",
      "state": {
       "description_width": ""
      }
     },
     "378a40532f48471598a9f1fed02a9eba": {
      "model_module": "@jupyter-widgets/base",
      "model_module_version": "2.0.0",
      "model_name": "LayoutModel",
      "state": {}
     },
     "382a454d92b44794b72a1af514055b71": {
      "model_module": "@jupyter-widgets/controls",
      "model_module_version": "2.0.0",
      "model_name": "HTMLStyleModel",
      "state": {
       "description_width": "",
       "font_size": null,
       "text_color": null
      }
     },
     "38ca5677cb814f129929cf44e24f1913": {
      "model_module": "@jupyter-widgets/base",
      "model_module_version": "2.0.0",
      "model_name": "LayoutModel",
      "state": {}
     },
     "38f370d05fcb4749b039ec40910426dd": {
      "model_module": "@jupyter-widgets/controls",
      "model_module_version": "2.0.0",
      "model_name": "HTMLModel",
      "state": {
       "layout": "IPY_MODEL_d78b83de612d4913ae1f28f8bc0f1f2a",
       "style": "IPY_MODEL_a36f41c7a9574c7289d10405d4033c6f",
       "value": "removing duplicates: 100%"
      }
     },
     "3a4be973bb5a4b6d96395881169b3491": {
      "model_module": "@jupyter-widgets/controls",
      "model_module_version": "2.0.0",
      "model_name": "HBoxModel",
      "state": {
       "children": [
        "IPY_MODEL_5ef817393f1a474ca7ec360acad6c496",
        "IPY_MODEL_791f441be87942adaf3937359efd54c8",
        "IPY_MODEL_ea19d31adb97474f82821b22532f163c"
       ],
       "layout": "IPY_MODEL_8b0feb9a4e1345a2a8f60afae922e42b"
      }
     },
     "3b80c97cc26548099679d8a98ef3b20f": {
      "model_module": "@jupyter-widgets/controls",
      "model_module_version": "2.0.0",
      "model_name": "HTMLModel",
      "state": {
       "layout": "IPY_MODEL_9ef80c6c05c941fba18c971036dd7c68",
       "style": "IPY_MODEL_b985dd26d03b4405afc997de509f9514",
       "value": "removing duplicates: 100%"
      }
     },
     "3da9bd5938ea40d09378cfc7db4764de": {
      "model_module": "@jupyter-widgets/controls",
      "model_module_version": "2.0.0",
      "model_name": "HTMLStyleModel",
      "state": {
       "description_width": "",
       "font_size": null,
       "text_color": null
      }
     },
     "3f0e178292554c42850eaa89e8de26a3": {
      "model_module": "@jupyter-widgets/controls",
      "model_module_version": "2.0.0",
      "model_name": "HTMLStyleModel",
      "state": {
       "description_width": "",
       "font_size": null,
       "text_color": null
      }
     },
     "406da1547c384628a11dc19bec509ff0": {
      "model_module": "@jupyter-widgets/controls",
      "model_module_version": "2.0.0",
      "model_name": "HBoxModel",
      "state": {
       "children": [
        "IPY_MODEL_64a0e3cead4f431ea9b80ebb386d2ccc",
        "IPY_MODEL_d5fa8015b8fa4133b8940e9abbd91394",
        "IPY_MODEL_d3b24bebe3d24994988fecf79fbf0ce4"
       ],
       "layout": "IPY_MODEL_0faeb7286ead47a7bd42968505320f67"
      }
     },
     "4180575e1acc472b9c9f5c7e054360e5": {
      "model_module": "@jupyter-widgets/controls",
      "model_module_version": "2.0.0",
      "model_name": "HTMLModel",
      "state": {
       "layout": "IPY_MODEL_0e998df9581a4b749207a186bc90024f",
       "style": "IPY_MODEL_3da9bd5938ea40d09378cfc7db4764de",
       "value": " 11/11 [00:00&lt;00:00, 5601.23it/s]"
      }
     },
     "42278fa27ef5439588b75f7552d8b701": {
      "model_module": "@jupyter-widgets/base",
      "model_module_version": "2.0.0",
      "model_name": "LayoutModel",
      "state": {}
     },
     "458acb25c99643e8a63d6abfe505812d": {
      "model_module": "@jupyter-widgets/controls",
      "model_module_version": "2.0.0",
      "model_name": "HTMLStyleModel",
      "state": {
       "description_width": "",
       "font_size": null,
       "text_color": null
      }
     },
     "464a18ceb0884c7eb5f7efea82811d59": {
      "model_module": "@jupyter-widgets/controls",
      "model_module_version": "2.0.0",
      "model_name": "ProgressStyleModel",
      "state": {
       "description_width": ""
      }
     },
     "4b612a272138437ea6480cb13a86ead1": {
      "model_module": "@jupyter-widgets/controls",
      "model_module_version": "2.0.0",
      "model_name": "FloatProgressModel",
      "state": {
       "bar_style": "success",
       "layout": "IPY_MODEL_d23e79adac4942bcb0fc1d6fee768e4c",
       "max": 11,
       "style": "IPY_MODEL_f2768a4a2ccd437991d91877e13bd396",
       "value": 11
      }
     },
     "4d11008b88274f13857320328b019b91": {
      "model_module": "@jupyter-widgets/controls",
      "model_module_version": "2.0.0",
      "model_name": "FloatProgressModel",
      "state": {
       "bar_style": "success",
       "layout": "IPY_MODEL_378a40532f48471598a9f1fed02a9eba",
       "max": 16,
       "style": "IPY_MODEL_6b172d04856f45689b8ac0f8d8cf3b4b",
       "value": 16
      }
     },
     "4e662a279c7341799c94fa08d58c8838": {
      "model_module": "@jupyter-widgets/base",
      "model_module_version": "2.0.0",
      "model_name": "LayoutModel",
      "state": {}
     },
     "51b83f8c32124098aca79b5d3ce7c101": {
      "model_module": "@jupyter-widgets/base",
      "model_module_version": "2.0.0",
      "model_name": "LayoutModel",
      "state": {}
     },
     "52a6d28de7904644a34c061f4605a7bd": {
      "model_module": "@jupyter-widgets/base",
      "model_module_version": "2.0.0",
      "model_name": "LayoutModel",
      "state": {}
     },
     "534c5467f0c0487aa21f799db0c0a83e": {
      "model_module": "@jupyter-widgets/base",
      "model_module_version": "2.0.0",
      "model_name": "LayoutModel",
      "state": {}
     },
     "55b4ce1858164d34b3f6349cab9c9c0a": {
      "model_module": "@jupyter-widgets/base",
      "model_module_version": "2.0.0",
      "model_name": "LayoutModel",
      "state": {}
     },
     "58ffbeafdd2f49ee9ddb4a35a4984538": {
      "model_module": "@jupyter-widgets/base",
      "model_module_version": "2.0.0",
      "model_name": "LayoutModel",
      "state": {}
     },
     "59f31729946748179d1f18dce325b0f1": {
      "model_module": "@jupyter-widgets/controls",
      "model_module_version": "2.0.0",
      "model_name": "ProgressStyleModel",
      "state": {
       "description_width": ""
      }
     },
     "5ef817393f1a474ca7ec360acad6c496": {
      "model_module": "@jupyter-widgets/controls",
      "model_module_version": "2.0.0",
      "model_name": "HTMLModel",
      "state": {
       "layout": "IPY_MODEL_51b83f8c32124098aca79b5d3ce7c101",
       "style": "IPY_MODEL_3f0e178292554c42850eaa89e8de26a3",
       "value": "removing duplicates: 100%"
      }
     },
     "622ba68ba3b74acfab8401cc24c66224": {
      "model_module": "@jupyter-widgets/controls",
      "model_module_version": "2.0.0",
      "model_name": "HBoxModel",
      "state": {
       "children": [
        "IPY_MODEL_102c0402632b4777815fb3b18c604ec4",
        "IPY_MODEL_9df1ca471cbf4e1f89286606900dac84",
        "IPY_MODEL_181da6b785cc49f098c16c8c578ccdf5"
       ],
       "layout": "IPY_MODEL_d210f6f9b1ee4bd2b05ba019f1bdfd35"
      }
     },
     "6476affc250142e699bcba4078856993": {
      "model_module": "@jupyter-widgets/controls",
      "model_module_version": "2.0.0",
      "model_name": "HTMLStyleModel",
      "state": {
       "description_width": "",
       "font_size": null,
       "text_color": null
      }
     },
     "64a0e3cead4f431ea9b80ebb386d2ccc": {
      "model_module": "@jupyter-widgets/controls",
      "model_module_version": "2.0.0",
      "model_name": "HTMLModel",
      "state": {
       "layout": "IPY_MODEL_67bf2d7d9c874dd7971f153412bc7c17",
       "style": "IPY_MODEL_a7b37b9f7248444d908cb4b401bd27fa",
       "value": "removing duplicates: 100%"
      }
     },
     "6658e6febd4b447284305f99cf22077f": {
      "model_module": "@jupyter-widgets/base",
      "model_module_version": "2.0.0",
      "model_name": "LayoutModel",
      "state": {}
     },
     "665efff13ba64d1ab9d594c4ec31e2a8": {
      "model_module": "@jupyter-widgets/controls",
      "model_module_version": "2.0.0",
      "model_name": "HTMLModel",
      "state": {
       "layout": "IPY_MODEL_0004584b615d41a6bcfb33ce0dbfe5e5",
       "style": "IPY_MODEL_cc8908d74d3f419385016faafdbbd092",
       "value": "removing duplicates: 100%"
      }
     },
     "66611e1dd0da4365a9e4f8cff619ae54": {
      "model_module": "@jupyter-widgets/base",
      "model_module_version": "2.0.0",
      "model_name": "LayoutModel",
      "state": {}
     },
     "671cc311d6ca45b7930ea67d6de19a85": {
      "model_module": "@jupyter-widgets/controls",
      "model_module_version": "2.0.0",
      "model_name": "HTMLModel",
      "state": {
       "layout": "IPY_MODEL_534c5467f0c0487aa21f799db0c0a83e",
       "style": "IPY_MODEL_db83e08c29d045578ba6cadee0239c35",
       "value": " 16/16 [00:00&lt;00:00, 6928.44it/s]"
      }
     },
     "6762062d596749f9b9d30becbbcdc3fa": {
      "model_module": "@jupyter-widgets/controls",
      "model_module_version": "2.0.0",
      "model_name": "HTMLModel",
      "state": {
       "layout": "IPY_MODEL_52a6d28de7904644a34c061f4605a7bd",
       "style": "IPY_MODEL_0821abd14925479495b6b6b7e563a20b",
       "value": " 16/16 [00:00&lt;00:00, 3058.33it/s]"
      }
     },
     "67bf2d7d9c874dd7971f153412bc7c17": {
      "model_module": "@jupyter-widgets/base",
      "model_module_version": "2.0.0",
      "model_name": "LayoutModel",
      "state": {}
     },
     "68c93da7497f46c39545a21b8217c40d": {
      "model_module": "@jupyter-widgets/controls",
      "model_module_version": "2.0.0",
      "model_name": "HTMLStyleModel",
      "state": {
       "description_width": "",
       "font_size": null,
       "text_color": null
      }
     },
     "6ab1cec01d9d4b7185e6112f3947ed69": {
      "model_module": "@jupyter-widgets/controls",
      "model_module_version": "2.0.0",
      "model_name": "HBoxModel",
      "state": {
       "children": [
        "IPY_MODEL_3b80c97cc26548099679d8a98ef3b20f",
        "IPY_MODEL_e4c751d530564e06a36bbdc0224af71d",
        "IPY_MODEL_04b5c7e8cdc54acabbf5e58c23d815e9"
       ],
       "layout": "IPY_MODEL_36060514a4a840969e8c80922e04bfc1"
      }
     },
     "6b172d04856f45689b8ac0f8d8cf3b4b": {
      "model_module": "@jupyter-widgets/controls",
      "model_module_version": "2.0.0",
      "model_name": "ProgressStyleModel",
      "state": {
       "description_width": ""
      }
     },
     "71471869a53d4ef1919b498017c47c4e": {
      "model_module": "@jupyter-widgets/base",
      "model_module_version": "2.0.0",
      "model_name": "LayoutModel",
      "state": {}
     },
     "74196b0aaad6481aaf0b027c409e1690": {
      "model_module": "@jupyter-widgets/base",
      "model_module_version": "2.0.0",
      "model_name": "LayoutModel",
      "state": {}
     },
     "756be8feb1204e0e87b3af1396203ee6": {
      "model_module": "@jupyter-widgets/controls",
      "model_module_version": "2.0.0",
      "model_name": "HTMLModel",
      "state": {
       "layout": "IPY_MODEL_b23750eca5e64affbfb4375271d48533",
       "style": "IPY_MODEL_d94eb0fc8f604094a530894f79f1c725",
       "value": " 16/16 [00:00&lt;00:00, 6709.54it/s]"
      }
     },
     "774626e2555f4753871b17979060796c": {
      "model_module": "@jupyter-widgets/controls",
      "model_module_version": "2.0.0",
      "model_name": "HTMLModel",
      "state": {
       "layout": "IPY_MODEL_2ceefd29d55e4994965c09dd58904916",
       "style": "IPY_MODEL_d5d08d7bac2c4faa94d6708de0650279",
       "value": "removing duplicates: 100%"
      }
     },
     "791f441be87942adaf3937359efd54c8": {
      "model_module": "@jupyter-widgets/controls",
      "model_module_version": "2.0.0",
      "model_name": "FloatProgressModel",
      "state": {
       "bar_style": "success",
       "layout": "IPY_MODEL_a7063b4684f54cd5b7d45768b1c74840",
       "max": 11,
       "style": "IPY_MODEL_ea76537994f94248a655ca697be53e4a",
       "value": 11
      }
     },
     "7c45f5f630d242f6b592b687a2d9be56": {
      "model_module": "@jupyter-widgets/controls",
      "model_module_version": "2.0.0",
      "model_name": "HTMLStyleModel",
      "state": {
       "description_width": "",
       "font_size": null,
       "text_color": null
      }
     },
     "7cae6e5d4e14452aa7cf838293a3f373": {
      "model_module": "@jupyter-widgets/controls",
      "model_module_version": "2.0.0",
      "model_name": "HTMLModel",
      "state": {
       "layout": "IPY_MODEL_14d762816a7a43e1b38cc733005948be",
       "style": "IPY_MODEL_1dae0a480f9e48e69b44840bb5302b92",
       "value": "removing duplicates: 100%"
      }
     },
     "7d5345ae37574d859ccc62510b6d1093": {
      "model_module": "@jupyter-widgets/base",
      "model_module_version": "2.0.0",
      "model_name": "LayoutModel",
      "state": {}
     },
     "7e26e1a54e974878a756a94533fffa43": {
      "model_module": "@jupyter-widgets/controls",
      "model_module_version": "2.0.0",
      "model_name": "ProgressStyleModel",
      "state": {
       "description_width": ""
      }
     },
     "7e6da83b66e14beda424045e37d0b4d9": {
      "model_module": "@jupyter-widgets/controls",
      "model_module_version": "2.0.0",
      "model_name": "HTMLModel",
      "state": {
       "layout": "IPY_MODEL_d82e558f8b2c4fde93cba77c3a3b4152",
       "style": "IPY_MODEL_382a454d92b44794b72a1af514055b71",
       "value": "removing duplicates: 100%"
      }
     },
     "7ebcce9796f54d2482d78671d8351b98": {
      "model_module": "@jupyter-widgets/controls",
      "model_module_version": "2.0.0",
      "model_name": "HTMLModel",
      "state": {
       "layout": "IPY_MODEL_7fa1b0944e454840904ad144ecf40eee",
       "style": "IPY_MODEL_458acb25c99643e8a63d6abfe505812d",
       "value": " 2/2 [00:00&lt;00:00, 395.13it/s]"
      }
     },
     "7fa1b0944e454840904ad144ecf40eee": {
      "model_module": "@jupyter-widgets/base",
      "model_module_version": "2.0.0",
      "model_name": "LayoutModel",
      "state": {}
     },
     "81e2f5d77d494ef4996304e93609639b": {
      "model_module": "@jupyter-widgets/base",
      "model_module_version": "2.0.0",
      "model_name": "LayoutModel",
      "state": {}
     },
     "87eca62fb3ae40f5b1e09d5a37540985": {
      "model_module": "@jupyter-widgets/base",
      "model_module_version": "2.0.0",
      "model_name": "LayoutModel",
      "state": {}
     },
     "8ac24c7048b64e47bdc26b15c6425399": {
      "model_module": "@jupyter-widgets/controls",
      "model_module_version": "2.0.0",
      "model_name": "HBoxModel",
      "state": {
       "children": [
        "IPY_MODEL_c79b814e195a49d7a91176a6b1c990f8",
        "IPY_MODEL_ea1f49fdbc0e4ea0b7f04ab9be0dd24a",
        "IPY_MODEL_8b720e0d67464d79aca0cc0cbc803ac3"
       ],
       "layout": "IPY_MODEL_58ffbeafdd2f49ee9ddb4a35a4984538"
      }
     },
     "8b0feb9a4e1345a2a8f60afae922e42b": {
      "model_module": "@jupyter-widgets/base",
      "model_module_version": "2.0.0",
      "model_name": "LayoutModel",
      "state": {}
     },
     "8b720e0d67464d79aca0cc0cbc803ac3": {
      "model_module": "@jupyter-widgets/controls",
      "model_module_version": "2.0.0",
      "model_name": "HTMLModel",
      "state": {
       "layout": "IPY_MODEL_f962db22751d46d2b6c7d53bb1b831dc",
       "style": "IPY_MODEL_ac9fc2552d904a5880ca164ccb68abe0",
       "value": " 2/2 [00:00&lt;00:00, 498.28it/s]"
      }
     },
     "8b9a43db9ac44d10b974e98af1cc95db": {
      "model_module": "@jupyter-widgets/controls",
      "model_module_version": "2.0.0",
      "model_name": "HTMLModel",
      "state": {
       "layout": "IPY_MODEL_4e662a279c7341799c94fa08d58c8838",
       "style": "IPY_MODEL_2ff2235671c345b38e3509bfeb580f63",
       "value": "removing duplicates: 100%"
      }
     },
     "8cb2bb5dd072405090906d8ab6e19d57": {
      "model_module": "@jupyter-widgets/base",
      "model_module_version": "2.0.0",
      "model_name": "LayoutModel",
      "state": {}
     },
     "8cc2a29fdea04d868a2a58a39bc3d6d2": {
      "model_module": "@jupyter-widgets/controls",
      "model_module_version": "2.0.0",
      "model_name": "HTMLModel",
      "state": {
       "layout": "IPY_MODEL_c0420dda54bf49aba33439f3bb692bd6",
       "style": "IPY_MODEL_6476affc250142e699bcba4078856993",
       "value": " 11/11 [00:00&lt;00:00, 5866.91it/s]"
      }
     },
     "8dc507592d804cc1857e8e21213b7989": {
      "model_module": "@jupyter-widgets/controls",
      "model_module_version": "2.0.0",
      "model_name": "HBoxModel",
      "state": {
       "children": [
        "IPY_MODEL_cbfda832d4104c6ea1a768f4b0113dcc",
        "IPY_MODEL_4b612a272138437ea6480cb13a86ead1",
        "IPY_MODEL_4180575e1acc472b9c9f5c7e054360e5"
       ],
       "layout": "IPY_MODEL_e2d0494f980e4fe8a6628914b6ec38d3"
      }
     },
     "8dd40188ff934efb853988bfe4f09466": {
      "model_module": "@jupyter-widgets/base",
      "model_module_version": "2.0.0",
      "model_name": "LayoutModel",
      "state": {}
     },
     "8ea47d292f4c4dbba9de8a1784b946d2": {
      "model_module": "@jupyter-widgets/controls",
      "model_module_version": "2.0.0",
      "model_name": "HBoxModel",
      "state": {
       "children": [
        "IPY_MODEL_b2fe43bbf8ee46c6a25f23e4a0bb6339",
        "IPY_MODEL_a56e400dd9054afd88e118edc4bc43f3",
        "IPY_MODEL_7ebcce9796f54d2482d78671d8351b98"
       ],
       "layout": "IPY_MODEL_8cb2bb5dd072405090906d8ab6e19d57"
      }
     },
     "8f4b03bc4b444ec293ac9941f240fbd7": {
      "model_module": "@jupyter-widgets/base",
      "model_module_version": "2.0.0",
      "model_name": "LayoutModel",
      "state": {}
     },
     "911efb89d47b41ed911b5d8686f7b8fc": {
      "model_module": "@jupyter-widgets/base",
      "model_module_version": "2.0.0",
      "model_name": "LayoutModel",
      "state": {}
     },
     "92ea927c24d943ffb8fe5c06cec4e436": {
      "model_module": "@jupyter-widgets/controls",
      "model_module_version": "2.0.0",
      "model_name": "HTMLModel",
      "state": {
       "layout": "IPY_MODEL_911efb89d47b41ed911b5d8686f7b8fc",
       "style": "IPY_MODEL_b9b011140338471f83be252c42ead1dc",
       "value": " 16/16 [00:00&lt;00:00, 7483.98it/s]"
      }
     },
     "9c00f076a6c44cca944596215a4c39b8": {
      "model_module": "@jupyter-widgets/base",
      "model_module_version": "2.0.0",
      "model_name": "LayoutModel",
      "state": {}
     },
     "9df1ca471cbf4e1f89286606900dac84": {
      "model_module": "@jupyter-widgets/controls",
      "model_module_version": "2.0.0",
      "model_name": "FloatProgressModel",
      "state": {
       "bar_style": "success",
       "layout": "IPY_MODEL_55b4ce1858164d34b3f6349cab9c9c0a",
       "max": 11,
       "style": "IPY_MODEL_7e26e1a54e974878a756a94533fffa43",
       "value": 11
      }
     },
     "9ef80c6c05c941fba18c971036dd7c68": {
      "model_module": "@jupyter-widgets/base",
      "model_module_version": "2.0.0",
      "model_name": "LayoutModel",
      "state": {}
     },
     "a3534a02a633446c9b8e3ce88fc9e7cc": {
      "model_module": "@jupyter-widgets/controls",
      "model_module_version": "2.0.0",
      "model_name": "HBoxModel",
      "state": {
       "children": [
        "IPY_MODEL_7cae6e5d4e14452aa7cf838293a3f373",
        "IPY_MODEL_c273c2eeb39a4d69959ef4d1f4c3b0ce",
        "IPY_MODEL_d479e57f0d814f308b152fd1b4609ce8"
       ],
       "layout": "IPY_MODEL_d1f93fc945c84300ba2c39a46b8c253a"
      }
     },
     "a36f41c7a9574c7289d10405d4033c6f": {
      "model_module": "@jupyter-widgets/controls",
      "model_module_version": "2.0.0",
      "model_name": "HTMLStyleModel",
      "state": {
       "description_width": "",
       "font_size": null,
       "text_color": null
      }
     },
     "a56e400dd9054afd88e118edc4bc43f3": {
      "model_module": "@jupyter-widgets/controls",
      "model_module_version": "2.0.0",
      "model_name": "FloatProgressModel",
      "state": {
       "bar_style": "success",
       "layout": "IPY_MODEL_7d5345ae37574d859ccc62510b6d1093",
       "max": 2,
       "style": "IPY_MODEL_59f31729946748179d1f18dce325b0f1",
       "value": 2
      }
     },
     "a5f2c9d81d744bed87f66fb2c71a7d6a": {
      "model_module": "@jupyter-widgets/base",
      "model_module_version": "2.0.0",
      "model_name": "LayoutModel",
      "state": {}
     },
     "a7063b4684f54cd5b7d45768b1c74840": {
      "model_module": "@jupyter-widgets/base",
      "model_module_version": "2.0.0",
      "model_name": "LayoutModel",
      "state": {}
     },
     "a7b37b9f7248444d908cb4b401bd27fa": {
      "model_module": "@jupyter-widgets/controls",
      "model_module_version": "2.0.0",
      "model_name": "HTMLStyleModel",
      "state": {
       "description_width": "",
       "font_size": null,
       "text_color": null
      }
     },
     "a8e36284826c490cbd293aa163340d6e": {
      "model_module": "@jupyter-widgets/base",
      "model_module_version": "2.0.0",
      "model_name": "LayoutModel",
      "state": {}
     },
     "ac9fc2552d904a5880ca164ccb68abe0": {
      "model_module": "@jupyter-widgets/controls",
      "model_module_version": "2.0.0",
      "model_name": "HTMLStyleModel",
      "state": {
       "description_width": "",
       "font_size": null,
       "text_color": null
      }
     },
     "af7489d6e3dc4a8283fd1c34d1aa4e02": {
      "model_module": "@jupyter-widgets/controls",
      "model_module_version": "2.0.0",
      "model_name": "HBoxModel",
      "state": {
       "children": [
        "IPY_MODEL_f7d4a3a34a7542fdb36dab1b7d72555e",
        "IPY_MODEL_4d11008b88274f13857320328b019b91",
        "IPY_MODEL_92ea927c24d943ffb8fe5c06cec4e436"
       ],
       "layout": "IPY_MODEL_f2389b36328649729080f976eb273c48"
      }
     },
     "af90bcbd0ed640fab9963b355eca9301": {
      "model_module": "@jupyter-widgets/controls",
      "model_module_version": "2.0.0",
      "model_name": "HTMLStyleModel",
      "state": {
       "description_width": "",
       "font_size": null,
       "text_color": null
      }
     },
     "b0d121d1432d4d88a09c64ed8b63a48f": {
      "model_module": "@jupyter-widgets/controls",
      "model_module_version": "2.0.0",
      "model_name": "HBoxModel",
      "state": {
       "children": [
        "IPY_MODEL_7e6da83b66e14beda424045e37d0b4d9",
        "IPY_MODEL_cb00f30b3b78494484ec0a4ea23c4f39",
        "IPY_MODEL_756be8feb1204e0e87b3af1396203ee6"
       ],
       "layout": "IPY_MODEL_b594590c9bbc430bbec74ff10222fbff"
      }
     },
     "b23750eca5e64affbfb4375271d48533": {
      "model_module": "@jupyter-widgets/base",
      "model_module_version": "2.0.0",
      "model_name": "LayoutModel",
      "state": {}
     },
     "b23b227bfc1944e8bc4b4307a02e494a": {
      "model_module": "@jupyter-widgets/controls",
      "model_module_version": "2.0.0",
      "model_name": "ProgressStyleModel",
      "state": {
       "description_width": ""
      }
     },
     "b2fe43bbf8ee46c6a25f23e4a0bb6339": {
      "model_module": "@jupyter-widgets/controls",
      "model_module_version": "2.0.0",
      "model_name": "HTMLModel",
      "state": {
       "layout": "IPY_MODEL_38ca5677cb814f129929cf44e24f1913",
       "style": "IPY_MODEL_f676339b7fd04d43bda36fefa8f6b29b",
       "value": "100%"
      }
     },
     "b594590c9bbc430bbec74ff10222fbff": {
      "model_module": "@jupyter-widgets/base",
      "model_module_version": "2.0.0",
      "model_name": "LayoutModel",
      "state": {}
     },
     "b985dd26d03b4405afc997de509f9514": {
      "model_module": "@jupyter-widgets/controls",
      "model_module_version": "2.0.0",
      "model_name": "HTMLStyleModel",
      "state": {
       "description_width": "",
       "font_size": null,
       "text_color": null
      }
     },
     "b9b011140338471f83be252c42ead1dc": {
      "model_module": "@jupyter-widgets/controls",
      "model_module_version": "2.0.0",
      "model_name": "HTMLStyleModel",
      "state": {
       "description_width": "",
       "font_size": null,
       "text_color": null
      }
     },
     "c0420dda54bf49aba33439f3bb692bd6": {
      "model_module": "@jupyter-widgets/base",
      "model_module_version": "2.0.0",
      "model_name": "LayoutModel",
      "state": {}
     },
     "c0d73e3fbdac43d7964d649ce28b2560": {
      "model_module": "@jupyter-widgets/controls",
      "model_module_version": "2.0.0",
      "model_name": "HTMLStyleModel",
      "state": {
       "description_width": "",
       "font_size": null,
       "text_color": null
      }
     },
     "c20ff3eb61ad4f928aaf7bf0472d2416": {
      "model_module": "@jupyter-widgets/controls",
      "model_module_version": "2.0.0",
      "model_name": "ProgressStyleModel",
      "state": {
       "description_width": ""
      }
     },
     "c273c2eeb39a4d69959ef4d1f4c3b0ce": {
      "model_module": "@jupyter-widgets/controls",
      "model_module_version": "2.0.0",
      "model_name": "FloatProgressModel",
      "state": {
       "bar_style": "success",
       "layout": "IPY_MODEL_ccfa3369938646a6a15e4254935196da",
       "max": 11,
       "style": "IPY_MODEL_c20ff3eb61ad4f928aaf7bf0472d2416",
       "value": 11
      }
     },
     "c75e2637aadd46cd8f6577f66ec817f6": {
      "model_module": "@jupyter-widgets/base",
      "model_module_version": "2.0.0",
      "model_name": "LayoutModel",
      "state": {}
     },
     "c79b814e195a49d7a91176a6b1c990f8": {
      "model_module": "@jupyter-widgets/controls",
      "model_module_version": "2.0.0",
      "model_name": "HTMLModel",
      "state": {
       "layout": "IPY_MODEL_66611e1dd0da4365a9e4f8cff619ae54",
       "style": "IPY_MODEL_0fc0eb25d279449aaf1407fd6cb245ca",
       "value": "100%"
      }
     },
     "cb00f30b3b78494484ec0a4ea23c4f39": {
      "model_module": "@jupyter-widgets/controls",
      "model_module_version": "2.0.0",
      "model_name": "FloatProgressModel",
      "state": {
       "bar_style": "success",
       "layout": "IPY_MODEL_0ff17b5221054a7e898f49882ee6bc34",
       "max": 16,
       "style": "IPY_MODEL_371024ea6f314058995558e0206c9c10",
       "value": 16
      }
     },
     "cb24e8c8255d4ddbbe6e36f0bfee9d89": {
      "model_module": "@jupyter-widgets/controls",
      "model_module_version": "2.0.0",
      "model_name": "HTMLStyleModel",
      "state": {
       "description_width": "",
       "font_size": null,
       "text_color": null
      }
     },
     "cbfda832d4104c6ea1a768f4b0113dcc": {
      "model_module": "@jupyter-widgets/controls",
      "model_module_version": "2.0.0",
      "model_name": "HTMLModel",
      "state": {
       "layout": "IPY_MODEL_8f4b03bc4b444ec293ac9941f240fbd7",
       "style": "IPY_MODEL_dc1ce80112d445cb9bfd7a92b13f8293",
       "value": "removing duplicates: 100%"
      }
     },
     "cc8908d74d3f419385016faafdbbd092": {
      "model_module": "@jupyter-widgets/controls",
      "model_module_version": "2.0.0",
      "model_name": "HTMLStyleModel",
      "state": {
       "description_width": "",
       "font_size": null,
       "text_color": null
      }
     },
     "ccfa3369938646a6a15e4254935196da": {
      "model_module": "@jupyter-widgets/base",
      "model_module_version": "2.0.0",
      "model_name": "LayoutModel",
      "state": {}
     },
     "d1f93fc945c84300ba2c39a46b8c253a": {
      "model_module": "@jupyter-widgets/base",
      "model_module_version": "2.0.0",
      "model_name": "LayoutModel",
      "state": {}
     },
     "d210f6f9b1ee4bd2b05ba019f1bdfd35": {
      "model_module": "@jupyter-widgets/base",
      "model_module_version": "2.0.0",
      "model_name": "LayoutModel",
      "state": {}
     },
     "d23e79adac4942bcb0fc1d6fee768e4c": {
      "model_module": "@jupyter-widgets/base",
      "model_module_version": "2.0.0",
      "model_name": "LayoutModel",
      "state": {}
     },
     "d3b24bebe3d24994988fecf79fbf0ce4": {
      "model_module": "@jupyter-widgets/controls",
      "model_module_version": "2.0.0",
      "model_name": "HTMLModel",
      "state": {
       "layout": "IPY_MODEL_191fd4e586d14b929cad74f48ed3e234",
       "style": "IPY_MODEL_cb24e8c8255d4ddbbe6e36f0bfee9d89",
       "value": " 16/16 [00:00&lt;00:00, 5210.72it/s]"
      }
     },
     "d479e57f0d814f308b152fd1b4609ce8": {
      "model_module": "@jupyter-widgets/controls",
      "model_module_version": "2.0.0",
      "model_name": "HTMLModel",
      "state": {
       "layout": "IPY_MODEL_2eed13f342af42288a24dfe6be04c9df",
       "style": "IPY_MODEL_7c45f5f630d242f6b592b687a2d9be56",
       "value": " 11/11 [00:00&lt;00:00, 5449.08it/s]"
      }
     },
     "d5d08d7bac2c4faa94d6708de0650279": {
      "model_module": "@jupyter-widgets/controls",
      "model_module_version": "2.0.0",
      "model_name": "HTMLStyleModel",
      "state": {
       "description_width": "",
       "font_size": null,
       "text_color": null
      }
     },
     "d5fa8015b8fa4133b8940e9abbd91394": {
      "model_module": "@jupyter-widgets/controls",
      "model_module_version": "2.0.0",
      "model_name": "FloatProgressModel",
      "state": {
       "bar_style": "success",
       "layout": "IPY_MODEL_9c00f076a6c44cca944596215a4c39b8",
       "max": 16,
       "style": "IPY_MODEL_2418423773cf462db764b5fceecc5f22",
       "value": 16
      }
     },
     "d78b83de612d4913ae1f28f8bc0f1f2a": {
      "model_module": "@jupyter-widgets/base",
      "model_module_version": "2.0.0",
      "model_name": "LayoutModel",
      "state": {}
     },
     "d82e558f8b2c4fde93cba77c3a3b4152": {
      "model_module": "@jupyter-widgets/base",
      "model_module_version": "2.0.0",
      "model_name": "LayoutModel",
      "state": {}
     },
     "d94eb0fc8f604094a530894f79f1c725": {
      "model_module": "@jupyter-widgets/controls",
      "model_module_version": "2.0.0",
      "model_name": "HTMLStyleModel",
      "state": {
       "description_width": "",
       "font_size": null,
       "text_color": null
      }
     },
     "d9a4b7287ffd49d5a677ba6e10047e5b": {
      "model_module": "@jupyter-widgets/controls",
      "model_module_version": "2.0.0",
      "model_name": "HTMLStyleModel",
      "state": {
       "description_width": "",
       "font_size": null,
       "text_color": null
      }
     },
     "db83e08c29d045578ba6cadee0239c35": {
      "model_module": "@jupyter-widgets/controls",
      "model_module_version": "2.0.0",
      "model_name": "HTMLStyleModel",
      "state": {
       "description_width": "",
       "font_size": null,
       "text_color": null
      }
     },
     "dc1ce80112d445cb9bfd7a92b13f8293": {
      "model_module": "@jupyter-widgets/controls",
      "model_module_version": "2.0.0",
      "model_name": "HTMLStyleModel",
      "state": {
       "description_width": "",
       "font_size": null,
       "text_color": null
      }
     },
     "e172378b2beb47c3b9499e275f50b9f5": {
      "model_module": "@jupyter-widgets/controls",
      "model_module_version": "2.0.0",
      "model_name": "FloatProgressModel",
      "state": {
       "bar_style": "success",
       "layout": "IPY_MODEL_87eca62fb3ae40f5b1e09d5a37540985",
       "max": 16,
       "style": "IPY_MODEL_b23b227bfc1944e8bc4b4307a02e494a",
       "value": 16
      }
     },
     "e2d0494f980e4fe8a6628914b6ec38d3": {
      "model_module": "@jupyter-widgets/base",
      "model_module_version": "2.0.0",
      "model_name": "LayoutModel",
      "state": {}
     },
     "e3d30b37cbb84511b6e519587300f23d": {
      "model_module": "@jupyter-widgets/base",
      "model_module_version": "2.0.0",
      "model_name": "LayoutModel",
      "state": {}
     },
     "e49855d54cee42f29e5f68c0e48b198f": {
      "model_module": "@jupyter-widgets/controls",
      "model_module_version": "2.0.0",
      "model_name": "FloatProgressModel",
      "state": {
       "bar_style": "success",
       "layout": "IPY_MODEL_fad18a62766f496d86656eab5a1835b0",
       "max": 11,
       "style": "IPY_MODEL_e75149929f294ac78986e1953d813727",
       "value": 11
      }
     },
     "e4c751d530564e06a36bbdc0224af71d": {
      "model_module": "@jupyter-widgets/controls",
      "model_module_version": "2.0.0",
      "model_name": "FloatProgressModel",
      "state": {
       "bar_style": "success",
       "layout": "IPY_MODEL_42278fa27ef5439588b75f7552d8b701",
       "max": 16,
       "style": "IPY_MODEL_e873e2931f8e4b2fa47d64c9f51c1031",
       "value": 16
      }
     },
     "e75149929f294ac78986e1953d813727": {
      "model_module": "@jupyter-widgets/controls",
      "model_module_version": "2.0.0",
      "model_name": "ProgressStyleModel",
      "state": {
       "description_width": ""
      }
     },
     "e873e2931f8e4b2fa47d64c9f51c1031": {
      "model_module": "@jupyter-widgets/controls",
      "model_module_version": "2.0.0",
      "model_name": "ProgressStyleModel",
      "state": {
       "description_width": ""
      }
     },
     "ea19d31adb97474f82821b22532f163c": {
      "model_module": "@jupyter-widgets/controls",
      "model_module_version": "2.0.0",
      "model_name": "HTMLModel",
      "state": {
       "layout": "IPY_MODEL_a8e36284826c490cbd293aa163340d6e",
       "style": "IPY_MODEL_d9a4b7287ffd49d5a677ba6e10047e5b",
       "value": " 11/11 [00:00&lt;00:00, 4660.34it/s]"
      }
     },
     "ea1f49fdbc0e4ea0b7f04ab9be0dd24a": {
      "model_module": "@jupyter-widgets/controls",
      "model_module_version": "2.0.0",
      "model_name": "FloatProgressModel",
      "state": {
       "bar_style": "success",
       "layout": "IPY_MODEL_8dd40188ff934efb853988bfe4f09466",
       "max": 2,
       "style": "IPY_MODEL_464a18ceb0884c7eb5f7efea82811d59",
       "value": 2
      }
     },
     "ea76537994f94248a655ca697be53e4a": {
      "model_module": "@jupyter-widgets/controls",
      "model_module_version": "2.0.0",
      "model_name": "ProgressStyleModel",
      "state": {
       "description_width": ""
      }
     },
     "f1cf9a0beb234ad39b40494873582e55": {
      "model_module": "@jupyter-widgets/controls",
      "model_module_version": "2.0.0",
      "model_name": "HTMLStyleModel",
      "state": {
       "description_width": "",
       "font_size": null,
       "text_color": null
      }
     },
     "f1d99f3a063246ebb392a1a9893da5dd": {
      "model_module": "@jupyter-widgets/base",
      "model_module_version": "2.0.0",
      "model_name": "LayoutModel",
      "state": {}
     },
     "f2389b36328649729080f976eb273c48": {
      "model_module": "@jupyter-widgets/base",
      "model_module_version": "2.0.0",
      "model_name": "LayoutModel",
      "state": {}
     },
     "f2768a4a2ccd437991d91877e13bd396": {
      "model_module": "@jupyter-widgets/controls",
      "model_module_version": "2.0.0",
      "model_name": "ProgressStyleModel",
      "state": {
       "description_width": ""
      }
     },
     "f31535b1dea7485ea4867251f1c34f46": {
      "model_module": "@jupyter-widgets/controls",
      "model_module_version": "2.0.0",
      "model_name": "ProgressStyleModel",
      "state": {
       "description_width": ""
      }
     },
     "f3bf09f950374c8f88919063ebc2770d": {
      "model_module": "@jupyter-widgets/controls",
      "model_module_version": "2.0.0",
      "model_name": "FloatProgressModel",
      "state": {
       "bar_style": "success",
       "layout": "IPY_MODEL_74196b0aaad6481aaf0b027c409e1690",
       "max": 16,
       "style": "IPY_MODEL_f31535b1dea7485ea4867251f1c34f46",
       "value": 16
      }
     },
     "f50976f408c44a22ab937630a23a17f6": {
      "model_module": "@jupyter-widgets/base",
      "model_module_version": "2.0.0",
      "model_name": "LayoutModel",
      "state": {}
     },
     "f645a26687604cb2b8a5577af33f5763": {
      "model_module": "@jupyter-widgets/controls",
      "model_module_version": "2.0.0",
      "model_name": "FloatProgressModel",
      "state": {
       "bar_style": "success",
       "layout": "IPY_MODEL_20a023ad94bd400e820b38578d3149f8",
       "max": 11,
       "style": "IPY_MODEL_2d7971d4c8a046f98cf26af7d00daf65",
       "value": 11
      }
     },
     "f676339b7fd04d43bda36fefa8f6b29b": {
      "model_module": "@jupyter-widgets/controls",
      "model_module_version": "2.0.0",
      "model_name": "HTMLStyleModel",
      "state": {
       "description_width": "",
       "font_size": null,
       "text_color": null
      }
     },
     "f7d4a3a34a7542fdb36dab1b7d72555e": {
      "model_module": "@jupyter-widgets/controls",
      "model_module_version": "2.0.0",
      "model_name": "HTMLModel",
      "state": {
       "layout": "IPY_MODEL_c75e2637aadd46cd8f6577f66ec817f6",
       "style": "IPY_MODEL_68c93da7497f46c39545a21b8217c40d",
       "value": "removing duplicates: 100%"
      }
     },
     "f962db22751d46d2b6c7d53bb1b831dc": {
      "model_module": "@jupyter-widgets/base",
      "model_module_version": "2.0.0",
      "model_name": "LayoutModel",
      "state": {}
     },
     "fad18a62766f496d86656eab5a1835b0": {
      "model_module": "@jupyter-widgets/base",
      "model_module_version": "2.0.0",
      "model_name": "LayoutModel",
      "state": {}
     },
     "fb019a60e23f4076ba681e35eeb00ac2": {
      "model_module": "@jupyter-widgets/controls",
      "model_module_version": "2.0.0",
      "model_name": "HTMLStyleModel",
      "state": {
       "description_width": "",
       "font_size": null,
       "text_color": null
      }
     }
    },
    "version_major": 2,
    "version_minor": 0
   }
  }
 },
 "nbformat": 4,
 "nbformat_minor": 4
}
