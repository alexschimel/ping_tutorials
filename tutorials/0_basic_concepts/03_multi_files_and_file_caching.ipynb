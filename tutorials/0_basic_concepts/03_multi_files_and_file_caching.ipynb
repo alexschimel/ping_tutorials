{
 "cells": [
  {
   "cell_type": "markdown",
   "metadata": {},
   "source": [
    "### `themachinethatgoesping` tutorial series\n",
    "# Tutorial 3: multiple files file caching\n",
    "\n",
    "In this tutorial, we show how open multiple files at once and how to speed up repeated file opening using caching.\n",
    "\n",
    "`themachinethatgoesping` concepts covered:\n",
    "- \"File Handler\" object\n",
    "- data loading for multiple files\n",
    "- file caching"
   ]
  },
  {
   "cell_type": "markdown",
   "metadata": {},
   "source": [
    "## Summary"
   ]
  },
  {
   "cell_type": "code",
   "execution_count": 18,
   "metadata": {},
   "outputs": [
    {
     "name": "stdout",
     "output_type": "stream",
     "text": [
      "Found 288 files\n",
      "indexing files ⠠ 100% [00m:05s<00m:00s] [..1_180312_Belgica.wcd (286/288)]                                  \n",
      "indexing files ⢀ 100% [00m:05s<00m:00s] [..1_181812_Belgica.wcd (288/288)]                                  \n",
      "indexing files ⡀ 100% [00m:05s<00m:00s] [Found: 5130471 datagrams in 288 files (25571MB)]                                                 \n",
      "Initializing navigation ⠁ 96% [00m:05s<00m:00s] [141/144]                   \n",
      "Initializing ping interface ⠁ 99% [00m:14s<00m:00s] [Done]                                              \n",
      "indexing files ⠂ 100% [00m:04s<00m:00s] [..1_181812_Belgica.all (287/288)]                                  \n",
      "indexing files ⠁ 100% [00m:04s<00m:00s] [..1_181812_Belgica.wcd (288/288)]                                  \n",
      "indexing files ⠈ 100% [00m:04s<00m:00s] [Found: 5130471 datagrams in 288 files (25571MB)]                                                 \n",
      "Initializing navigation ⠄ 96% [00m:03s<00m:00s] [141/144]                   \n",
      "Initializing ping interface ⠠ 99% [00m:11s<00m:00s] [Done]                                              \n",
      "indexing files ⠐ 99% [00m:01s<00m:00s] [Found: 5130471 datagrams in 288 files (25571MB)]                                                 \n",
      "Initializing navigation ⠁ 95% [00m:02s<00m:00s] [139/144]                   \n",
      "Initializing ping interface ⠄ 99% [00m:07s<00m:00s] [Done]                                              \n",
      "\n",
      "-- Compare loading times --\n",
      "Time without cache: 21.762 seconds\n",
      "Time with cache:    13.067 seconds\n",
      "\n",
      "-- Cache file statistics --\n",
      "FilePackageIndex: 126.83 'MB' / 0.5 %\n",
      "NavigationInterpolatorLatLon: 1172.94 'MB' / 4.59 %\n",
      "FilePackageCache<RuntimeParameters>: 5.25 'MB' / 0.02 %\n",
      "FilePackageCache<WaterColumnInformation>: 627.01 'MB' / 2.45 %\n",
      "FilePackageCache<SystemInformation>: 12.07 'MB' / 0.05 %\n",
      "- Combined -: 1944.1 'MB' / 7.6 %\n",
      "- Source files -: 25571.09 'MB' / 100.0 %\n"
     ]
    }
   ],
   "source": [
    "%matplotlib widget\n",
    "import os\n",
    "\n",
    "from matplotlib import pyplot as plt\n",
    "from themachinethatgoesping.echosounders import index_functions\n",
    "from themachinethatgoesping.echosounders import kongsbergall\n",
    "from time import time\n",
    "\n",
    "folders = []\n",
    "folders.append(\"../../unittest_data\")\n",
    "folders = ['/home/data/turbeams/TURBEAMS_data_crunshing/campaigns/TURBEAMS_April_2023/']\n",
    "\n",
    "# list raw data files\n",
    "files = index_functions.find_files(folders, [\".all\",\"wcd\"])\n",
    "files.sort()\n",
    "\n",
    "# -- File caching --\n",
    "# So the steps where the same as in the previous demo, no we create cache directories using the get_cache_file_paths function\n",
    "cacheFilePaths = index_functions.get_cache_file_paths(file_paths=files)\n",
    "index_functions.print_cache_file_statistics(cacheFilePaths)\n",
    "index_functions.remove_name_from_cache(cacheFilePaths, \"FilePackageIndex\")\n",
    "# cacheFilePaths is a dictionary with the same keys as files, but the values are the paths to the cache files\n",
    "# Passing cacheFilePahts to the FileHandler causes the FileHandler to either \n",
    "# - create the cache files (if they don't exist) \n",
    "# - or load them (if they do exist)\n",
    "fh = kongsbergall.KongsbergAllFileHandler(files, file_cache_paths = cacheFilePaths)\n",
    "\n",
    "# compare loading times in repeated file loading\n",
    "t1 = time()\n",
    "# without using the cache\n",
    "fh = kongsbergall.KongsbergAllFileHandler(files)\n",
    "t2 = time()\n",
    "# using the cache\n",
    "fh = kongsbergall.KongsbergAllFileHandler(files, file_cache_paths = cacheFilePaths)\n",
    "t3 = time()\n",
    "\n",
    "print(\"\\n-- Compare loading times --\")\n",
    "print(f\"Time without cache: {round(t2-t1,3)} seconds\")\n",
    "print(f\"Time with cache:    {round(t3-t2,3)} seconds\")\n",
    "\n",
    "# -- Investigate the created cache --\n",
    "# Here we print the created cache files to understand how big they are\n",
    "print(\"\\n-- Cache file statistics --\")\n",
    "index_functions.print_cache_file_statistics(cacheFilePaths)"
   ]
  },
  {
   "cell_type": "markdown",
   "metadata": {},
   "source": [
    "## Step-by-step"
   ]
  },
  {
   "cell_type": "markdown",
   "metadata": {},
   "source": [
    "### 0. Basic Setup"
   ]
  },
  {
   "cell_type": "code",
   "execution_count": 19,
   "metadata": {},
   "outputs": [
    {
     "name": "stdout",
     "output_type": "stream",
     "text": [
      "Found 16 files\n"
     ]
    }
   ],
   "source": [
    "# First you have to import themachinethatgoesping\n",
    "# here we import it as 'Ping', note the capital P\n",
    "import themachinethatgoesping as Ping\n",
    "\n",
    "#set the data folders where data files can be found (../../unittest data holds a couple of very small test files)\n",
    "data_folders = []\n",
    "data_folders.append(\"../../unittest_data\")\n",
    "\n",
    "import themachinethatgoesping as Ping\n",
    "from themachinethatgoesping.echosounders import index_functions\n",
    "\n",
    "\n",
    "#set the data folders where data files can be found (../../unittest data holds a couple of very small test files)\n",
    "data_folders = []\n",
    "data_folders.append(\"../../unittest_data\")\n",
    "\n",
    "# To find all find all Kongsberg files in the list of data_folders\n",
    "kongsberg_files = index_functions.find_files(data_folders, [\".all\",\"wcd\"])"
   ]
  },
  {
   "cell_type": "markdown",
   "metadata": {},
   "source": [
    "### 2. Find/create cacheFilePaths data"
   ]
  },
  {
   "cell_type": "code",
   "execution_count": 20,
   "metadata": {},
   "outputs": [
    {
     "name": "stdout",
     "output_type": "stream",
     "text": [
      "File: ../../unittest_data/kongsberg/simon/7287506659992808476.all\n",
      "    Cache: /ssd/src/themachinethatgoesping/tutorials/tutorials/0_basic_concepts/cache/root_/ssd/src/themachinethatgoesping/tutorials/unittest_data/kongsberg/simon/7287506659992808476.all.tmtgp.cache\n",
      "File: ../../unittest_data/kongsberg/simon/7287506659992808476.wcd\n",
      "    Cache: /ssd/src/themachinethatgoesping/tutorials/tutorials/0_basic_concepts/cache/root_/ssd/src/themachinethatgoesping/tutorials/unittest_data/kongsberg/simon/7287506659992808476.wcd.tmtgp.cache\n",
      "File: ../../unittest_data/kongsberg/a/y/-1333931979274893952.wcd\n",
      "    Cache: /ssd/src/themachinethatgoesping/tutorials/tutorials/0_basic_concepts/cache/root_/ssd/src/themachinethatgoesping/tutorials/unittest_data/kongsberg/a/y/-1333931979274893952.wcd.tmtgp.cache\n",
      "File: ../../unittest_data/kongsberg/a/y/-1333931979274893952.all\n",
      "    Cache: /ssd/src/themachinethatgoesping/tutorials/tutorials/0_basic_concepts/cache/root_/ssd/src/themachinethatgoesping/tutorials/unittest_data/kongsberg/a/y/-1333931979274893952.all.tmtgp.cache\n",
      "File: ../../unittest_data/kongsberg/a/f/ALL/6516408039690331208.all\n",
      "    Cache: /ssd/src/themachinethatgoesping/tutorials/tutorials/0_basic_concepts/cache/root_/ssd/src/themachinethatgoesping/tutorials/unittest_data/kongsberg/a/f/ALL/6516408039690331208.all.tmtgp.cache\n",
      "File: ../../unittest_data/kongsberg/a/f/WCD/6516408039690331208.wcd\n",
      "    Cache: /ssd/src/themachinethatgoesping/tutorials/tutorials/0_basic_concepts/cache/root_/ssd/src/themachinethatgoesping/tutorials/unittest_data/kongsberg/a/f/WCD/6516408039690331208.wcd.tmtgp.cache\n",
      "File: ../../unittest_data/kongsberg/a/c/519880139284219668.wcd\n",
      "    Cache: /ssd/src/themachinethatgoesping/tutorials/tutorials/0_basic_concepts/cache/root_/ssd/src/themachinethatgoesping/tutorials/unittest_data/kongsberg/a/c/519880139284219668.wcd.tmtgp.cache\n",
      "File: ../../unittest_data/kongsberg/a/c/519880139284219668.all\n",
      "    Cache: /ssd/src/themachinethatgoesping/tutorials/tutorials/0_basic_concepts/cache/root_/ssd/src/themachinethatgoesping/tutorials/unittest_data/kongsberg/a/c/519880139284219668.all.tmtgp.cache\n",
      "File: ../../unittest_data/kongsberg/g/-7041029013895133878.wcd\n",
      "    Cache: /ssd/src/themachinethatgoesping/tutorials/tutorials/0_basic_concepts/cache/root_/ssd/src/themachinethatgoesping/tutorials/unittest_data/kongsberg/g/-7041029013895133878.wcd.tmtgp.cache\n",
      "File: ../../unittest_data/kongsberg/g/-7041029013895133878.all\n",
      "    Cache: /ssd/src/themachinethatgoesping/tutorials/tutorials/0_basic_concepts/cache/root_/ssd/src/themachinethatgoesping/tutorials/unittest_data/kongsberg/g/-7041029013895133878.all.tmtgp.cache\n",
      "File: ../../unittest_data/kongsberg/turbeams/6641182978793103390.wcd\n",
      "    Cache: /ssd/src/themachinethatgoesping/tutorials/tutorials/0_basic_concepts/cache/root_/ssd/src/themachinethatgoesping/tutorials/unittest_data/kongsberg/turbeams/6641182978793103390.wcd.tmtgp.cache\n",
      "File: ../../unittest_data/kongsberg/turbeams/9142459809945665151.wcd\n",
      "    Cache: /ssd/src/themachinethatgoesping/tutorials/tutorials/0_basic_concepts/cache/root_/ssd/src/themachinethatgoesping/tutorials/unittest_data/kongsberg/turbeams/9142459809945665151.wcd.tmtgp.cache\n",
      "File: ../../unittest_data/kongsberg/turbeams/9142459809945665151.all\n",
      "    Cache: /ssd/src/themachinethatgoesping/tutorials/tutorials/0_basic_concepts/cache/root_/ssd/src/themachinethatgoesping/tutorials/unittest_data/kongsberg/turbeams/9142459809945665151.all.tmtgp.cache\n",
      "File: ../../unittest_data/kongsberg/turbeams/6641182978793103390.all\n",
      "    Cache: /ssd/src/themachinethatgoesping/tutorials/tutorials/0_basic_concepts/cache/root_/ssd/src/themachinethatgoesping/tutorials/unittest_data/kongsberg/turbeams/6641182978793103390.all.tmtgp.cache\n",
      "File: ../../unittest_data/kongsberg/he/-3092155654265012286.all\n",
      "    Cache: /ssd/src/themachinethatgoesping/tutorials/tutorials/0_basic_concepts/cache/root_/ssd/src/themachinethatgoesping/tutorials/unittest_data/kongsberg/he/-3092155654265012286.all.tmtgp.cache\n",
      "File: ../../unittest_data/kongsberg/he/-3092155654265012286.wcd\n",
      "    Cache: /ssd/src/themachinethatgoesping/tutorials/tutorials/0_basic_concepts/cache/root_/ssd/src/themachinethatgoesping/tutorials/unittest_data/kongsberg/he/-3092155654265012286.wcd.tmtgp.cache\n"
     ]
    }
   ],
   "source": [
    "# caching files when read the first time allows speeding-up loading next times\n",
    "\n",
    "# each file has a corresponding cache file, by default:\n",
    "cacheFilePaths_kongsberg = index_functions.get_cache_file_paths(kongsberg_files)\n",
    "\n",
    "# By default, the cache files are stored in the same directory \n",
    "# as the notebook in a newly created \"cache\" folder\n",
    "\n",
    "for f, c in cacheFilePaths_kongsberg.items():\n",
    "    print(f\"File: {f}\")\n",
    "    print(f\"    Cache: {c}\")"
   ]
  },
  {
   "cell_type": "code",
   "execution_count": 21,
   "metadata": {},
   "outputs": [
    {
     "name": "stdout",
     "output_type": "stream",
     "text": [
      "\n",
      "-- Cache file statistics --\n",
      "FilePackageIndex: 0.03 'MB' / 0.15 %\n",
      "NavigationInterpolatorLatLon: 0.1 'MB' / 0.45 %\n",
      "FilePackageCache<RuntimeParameters>: 0.0 'MB' / 0.01 %\n",
      "FilePackageCache<WaterColumnInformation>: 0.37 'MB' / 1.72 %\n",
      "FilePackageCache<SystemInformation>: 0.01 'MB' / 0.04 %\n",
      "- Combined -: 0.51 'MB' / 2.36 %\n",
      "- Source files -: 21.56 'MB' / 100.0 %\n"
     ]
    }
   ],
   "source": [
    "# -- Investigate the created cache --\n",
    "# Here we print the created cache files to understand how big they are\n",
    "print(\"\\n-- Cache file statistics --\")\n",
    "index_functions.print_cache_file_statistics(cacheFilePaths_kongsberg)\n",
    "\n",
    "# Note, if this is the first time you run the code, \n",
    "# the cache files do not exist yet, and there are no statistics to print"
   ]
  },
  {
   "cell_type": "markdown",
   "metadata": {},
   "source": [
    "### 3. Load data with cache file paths"
   ]
  },
  {
   "cell_type": "code",
   "execution_count": 22,
   "metadata": {},
   "outputs": [
    {
     "name": "stdout",
     "output_type": "stream",
     "text": [
      "indexing files ⢀ 98% [00m:00s<00m:00s] [Found: 1168 datagrams in 16 files (21MB)]                                          \n",
      "Initializing datagramdata interface ⠈ 0% [00m:00s<00m:00s]           \n",
      "Initializing ping interface ⢀ 87% [00m:00s<00m:00s] [Done]                                              \n"
     ]
    }
   ],
   "source": [
    "# load the data with the cache files (if this is the first time you run it, the cache files will be created):\n",
    "from themachinethatgoesping.echosounders import kongsbergall\n",
    "fh = kongsbergall.KongsbergAllFileHandler(kongsberg_files, file_cache_paths = cacheFilePaths_kongsberg)\n"
   ]
  },
  {
   "cell_type": "markdown",
   "metadata": {},
   "source": [
    "### 4. Compare loading times"
   ]
  },
  {
   "cell_type": "code",
   "execution_count": 23,
   "metadata": {},
   "outputs": [
    {
     "name": "stdout",
     "output_type": "stream",
     "text": [
      "indexing files ⠐ 100% [00m:00s<00m:00s] [..7506659992808476.all (1/16)]                               \n",
      "indexing files ⠠ 100% [00m:00s<00m:00s] [..2155654265012286.wcd (16/16)]                                \n",
      "indexing files ⢀ 100% [00m:00s<00m:00s] [Found: 1168 datagrams in 16 files (21MB)]                                          \n",
      "Initializing datagramdata interface ⠈ 0% [00m:00s<00m:00s]           \n",
      "Initializing ping interface ⢀ 87% [00m:00s<00m:00s] [Done]                                              \n",
      "indexing files ⢀ 98% [00m:00s<00m:00s] [Found: 1168 datagrams in 16 files (21MB)]                                          \n",
      "Initializing datagramdata interface ⠈ 0% [00m:00s<00m:00s]           \n",
      "Initializing ping interface ⢀ 87% [00m:00s<00m:00s] [Done]                                              \n",
      "\n",
      "-- Compare loading times --\n",
      "Time without cache: 0.017 seconds\n",
      "Time with cache:    0.007 seconds\n"
     ]
    }
   ],
   "source": [
    "# compare loading times in repeated file loading\n",
    "t1 = time()\n",
    "# load data without using the cache\n",
    "fh = kongsbergall.KongsbergAllFileHandler(kongsberg_files)\n",
    "t2 = time()\n",
    "# load data using the cache files\n",
    "fh = kongsbergall.KongsbergAllFileHandler(kongsberg_files, file_cache_paths = cacheFilePaths_kongsberg)\n",
    "t3 = time()\n",
    "\n",
    "print(\"\\n-- Compare loading times --\")\n",
    "print(f\"Time without cache: {round(t2-t1,3)} seconds\")\n",
    "print(f\"Time with cache:    {round(t3-t2,3)} seconds\")"
   ]
  },
  {
   "cell_type": "markdown",
   "metadata": {},
   "source": [
    "### 4. Investigate cache files"
   ]
  },
  {
   "cell_type": "code",
   "execution_count": 24,
   "metadata": {},
   "outputs": [
    {
     "name": "stdout",
     "output_type": "stream",
     "text": [
      "\n",
      "-- Cache file statistics --\n",
      "FilePackageIndex: 0.03 'MB' / 0.15 %\n",
      "NavigationInterpolatorLatLon: 0.1 'MB' / 0.45 %\n",
      "FilePackageCache<RuntimeParameters>: 0.0 'MB' / 0.01 %\n",
      "FilePackageCache<WaterColumnInformation>: 0.37 'MB' / 1.72 %\n",
      "FilePackageCache<SystemInformation>: 0.01 'MB' / 0.04 %\n",
      "- Combined -: 0.51 'MB' / 2.36 %\n",
      "- Source files -: 21.56 'MB' / 100.0 %\n"
     ]
    }
   ],
   "source": [
    "# -- Investigate the created cache --\n",
    "# Here we print the created cache files to understand how big they are\n",
    "print(\"\\n-- Cache file statistics --\")\n",
    "index_functions.print_cache_file_statistics(cacheFilePaths_kongsberg)"
   ]
  },
  {
   "cell_type": "code",
   "execution_count": null,
   "metadata": {},
   "outputs": [],
   "source": []
  }
 ],
 "metadata": {
  "kernelspec": {
   "display_name": "Python 3 (ipykernel)",
   "language": "python",
   "name": "python3"
  },
  "language_info": {
   "codemirror_mode": {
    "name": "ipython",
    "version": 3
   },
   "file_extension": ".py",
   "mimetype": "text/x-python",
   "name": "python",
   "nbconvert_exporter": "python",
   "pygments_lexer": "ipython3",
   "version": "3.12.3"
  },
  "widgets": {
   "application/vnd.jupyter.widget-state+json": {
    "state": {
     "0186b597e4ee4947be17676bd6b5fe20": {
      "model_module": "@jupyter-widgets/base",
      "model_module_version": "2.0.0",
      "model_name": "LayoutModel",
      "state": {}
     },
     "01e90e600b6a4cc7b1a39f28c46ff766": {
      "model_module": "@jupyter-widgets/controls",
      "model_module_version": "2.0.0",
      "model_name": "HTMLModel",
      "state": {
       "layout": "IPY_MODEL_4f07e6b9844e42af9c360e9453cbd4b4",
       "style": "IPY_MODEL_176e29b0f91b401589d8e0f98b553413",
       "value": " 16/16 [00:00&lt;00:00, 2213.43it/s]"
      }
     },
     "031da4328d35411e95dca87af1689b25": {
      "model_module": "@jupyter-widgets/controls",
      "model_module_version": "2.0.0",
      "model_name": "ProgressStyleModel",
      "state": {
       "description_width": ""
      }
     },
     "037d5a06408f432985c5a1540fc152c1": {
      "model_module": "@jupyter-widgets/controls",
      "model_module_version": "2.0.0",
      "model_name": "HTMLModel",
      "state": {
       "layout": "IPY_MODEL_5ab9ccbe423d4f80a6ad6af7b57ec9b1",
       "style": "IPY_MODEL_d5f95c3979de428d8532e4a9abc7f431",
       "value": "100%"
      }
     },
     "040a0915d7af44eb8499727a4f60e9fb": {
      "model_module": "@jupyter-widgets/controls",
      "model_module_version": "2.0.0",
      "model_name": "HTMLStyleModel",
      "state": {
       "description_width": "",
       "font_size": null,
       "text_color": null
      }
     },
     "04fb93726f3d4474bc8b6fe9b0dd7748": {
      "model_module": "@jupyter-widgets/base",
      "model_module_version": "2.0.0",
      "model_name": "LayoutModel",
      "state": {}
     },
     "05cb77b53dcb4ac89f325831ecd1fc39": {
      "model_module": "@jupyter-widgets/base",
      "model_module_version": "2.0.0",
      "model_name": "LayoutModel",
      "state": {}
     },
     "08a8b09324744cba89eb62448fd886dc": {
      "model_module": "@jupyter-widgets/controls",
      "model_module_version": "2.0.0",
      "model_name": "HBoxModel",
      "state": {
       "children": [
        "IPY_MODEL_a20361ab73d841659c2195a309274995",
        "IPY_MODEL_0e80f00c848447d4b07e2911f6f733c4",
        "IPY_MODEL_a7ae153d82c747b29eeb413db7ae47be"
       ],
       "layout": "IPY_MODEL_4a823e6ff6384aeda2a551d067b415f7"
      }
     },
     "08d01301f799447795f785e4f40d9323": {
      "model_module": "@jupyter-widgets/controls",
      "model_module_version": "2.0.0",
      "model_name": "HTMLModel",
      "state": {
       "layout": "IPY_MODEL_4f41791c37b247af992a4336a7ead2bd",
       "style": "IPY_MODEL_940f3c69aea1488d9c8854593887eb02",
       "value": " 288/288 [00:00&lt;00:00, 81071.11it/s]"
      }
     },
     "0943b8f5c8604ddb9b1a480997868948": {
      "model_module": "@jupyter-widgets/base",
      "model_module_version": "2.0.0",
      "model_name": "LayoutModel",
      "state": {}
     },
     "09bc368afa664d74ad37bc5111e12023": {
      "model_module": "@jupyter-widgets/base",
      "model_module_version": "2.0.0",
      "model_name": "LayoutModel",
      "state": {}
     },
     "09d646d882e6438481730d91bf3e9379": {
      "model_module": "@jupyter-widgets/controls",
      "model_module_version": "2.0.0",
      "model_name": "HTMLStyleModel",
      "state": {
       "description_width": "",
       "font_size": null,
       "text_color": null
      }
     },
     "0b56336b1261494c8c0b84e6968093f9": {
      "model_module": "@jupyter-widgets/base",
      "model_module_version": "2.0.0",
      "model_name": "LayoutModel",
      "state": {}
     },
     "0c6c2bb15d9a4a51ad192b6068593aaf": {
      "model_module": "@jupyter-widgets/controls",
      "model_module_version": "2.0.0",
      "model_name": "HTMLStyleModel",
      "state": {
       "description_width": "",
       "font_size": null,
       "text_color": null
      }
     },
     "0d51c4bc5cab4664a3e32dd6e9e7845b": {
      "model_module": "@jupyter-widgets/base",
      "model_module_version": "2.0.0",
      "model_name": "LayoutModel",
      "state": {}
     },
     "0d79c15706104a00bfafa1c70d496dbc": {
      "model_module": "@jupyter-widgets/controls",
      "model_module_version": "2.0.0",
      "model_name": "FloatProgressModel",
      "state": {
       "bar_style": "success",
       "layout": "IPY_MODEL_a9a386b3172b4cc2b19f97d416d0b309",
       "max": 16,
       "style": "IPY_MODEL_63a14463255d47d9a6bb445e107caa0e",
       "value": 16
      }
     },
     "0e80f00c848447d4b07e2911f6f733c4": {
      "model_module": "@jupyter-widgets/controls",
      "model_module_version": "2.0.0",
      "model_name": "FloatProgressModel",
      "state": {
       "bar_style": "success",
       "layout": "IPY_MODEL_7e357c1a6d954bc29ba34b150ccba87d",
       "max": 16,
       "style": "IPY_MODEL_031da4328d35411e95dca87af1689b25",
       "value": 16
      }
     },
     "10dfd99e58cb4fb698f93687986eac9b": {
      "model_module": "@jupyter-widgets/base",
      "model_module_version": "2.0.0",
      "model_name": "LayoutModel",
      "state": {}
     },
     "1129e18b362f4496b0aadd713c54b35f": {
      "model_module": "@jupyter-widgets/base",
      "model_module_version": "2.0.0",
      "model_name": "LayoutModel",
      "state": {}
     },
     "11b0cfbddb4d4f6f9fc11cc4c416d9a5": {
      "model_module": "@jupyter-widgets/controls",
      "model_module_version": "2.0.0",
      "model_name": "ProgressStyleModel",
      "state": {
       "description_width": ""
      }
     },
     "11f1dc46946c4858a2de0b46fec7142a": {
      "model_module": "@jupyter-widgets/base",
      "model_module_version": "2.0.0",
      "model_name": "LayoutModel",
      "state": {}
     },
     "1254dd53de8c45b196ff9fcfc8d80c66": {
      "model_module": "@jupyter-widgets/controls",
      "model_module_version": "2.0.0",
      "model_name": "HTMLModel",
      "state": {
       "layout": "IPY_MODEL_6db9c739b45c423581d5d5c95d7212e3",
       "style": "IPY_MODEL_37313c1fe352487f827c76b4fd9d11fb",
       "value": " 16/16 [00:00&lt;00:00, 8056.29it/s]"
      }
     },
     "139af4f1f8f14bdaa814f40849facdf1": {
      "model_module": "@jupyter-widgets/base",
      "model_module_version": "2.0.0",
      "model_name": "LayoutModel",
      "state": {}
     },
     "141027c0432446b5b0ec6c04cc4c3315": {
      "model_module": "@jupyter-widgets/controls",
      "model_module_version": "2.0.0",
      "model_name": "HTMLModel",
      "state": {
       "layout": "IPY_MODEL_e14692a74f0a4daf98d0a1370f11366f",
       "style": "IPY_MODEL_8f24c4f717e64cb2a93224ad4f9d5b75",
       "value": "removing duplicates: 100%"
      }
     },
     "142728fd38454856b3cdc2ef0bc6c8e3": {
      "model_module": "@jupyter-widgets/controls",
      "model_module_version": "2.0.0",
      "model_name": "ProgressStyleModel",
      "state": {
       "description_width": ""
      }
     },
     "143cd76c37ad4301a5081695861c7461": {
      "model_module": "@jupyter-widgets/base",
      "model_module_version": "2.0.0",
      "model_name": "LayoutModel",
      "state": {}
     },
     "151a0acd530c4ad4a82e0c6cd015c066": {
      "model_module": "@jupyter-widgets/controls",
      "model_module_version": "2.0.0",
      "model_name": "FloatProgressModel",
      "state": {
       "bar_style": "success",
       "layout": "IPY_MODEL_542907e4d11d4ea49e09400160a03442",
       "max": 288,
       "style": "IPY_MODEL_676cb7002ede40ebb3b88c17c7be6038",
       "value": 288
      }
     },
     "153cdc80b3784a72ae25230b747543b5": {
      "model_module": "@jupyter-widgets/base",
      "model_module_version": "2.0.0",
      "model_name": "LayoutModel",
      "state": {}
     },
     "15544ec534cc4e4cb0c4daba382c6bd6": {
      "model_module": "@jupyter-widgets/controls",
      "model_module_version": "2.0.0",
      "model_name": "HTMLModel",
      "state": {
       "layout": "IPY_MODEL_e670b57d46744ad6ab7ccacc81162d83",
       "style": "IPY_MODEL_553d64458f92419bb004e39863fa6a7a",
       "value": " 16/16 [00:00&lt;00:00, 3830.85it/s]"
      }
     },
     "16acbea743cf43f0a6c846916baa5012": {
      "model_module": "@jupyter-widgets/controls",
      "model_module_version": "2.0.0",
      "model_name": "ProgressStyleModel",
      "state": {
       "description_width": ""
      }
     },
     "17103aef9c354303ab52ccb60c7a8bf9": {
      "model_module": "@jupyter-widgets/base",
      "model_module_version": "2.0.0",
      "model_name": "LayoutModel",
      "state": {}
     },
     "176e29b0f91b401589d8e0f98b553413": {
      "model_module": "@jupyter-widgets/controls",
      "model_module_version": "2.0.0",
      "model_name": "HTMLStyleModel",
      "state": {
       "description_width": "",
       "font_size": null,
       "text_color": null
      }
     },
     "18ed89dbdcb2406992bc93e04f7564f8": {
      "model_module": "@jupyter-widgets/base",
      "model_module_version": "2.0.0",
      "model_name": "LayoutModel",
      "state": {}
     },
     "197be5662d934d98b1f591084e1572da": {
      "model_module": "@jupyter-widgets/base",
      "model_module_version": "2.0.0",
      "model_name": "LayoutModel",
      "state": {}
     },
     "1a6e72e991a646e8a7a4410dd8b7a979": {
      "model_module": "@jupyter-widgets/controls",
      "model_module_version": "2.0.0",
      "model_name": "HBoxModel",
      "state": {
       "children": [
        "IPY_MODEL_db18620774c64b89aaf2698b7c8c009b",
        "IPY_MODEL_84fbfeec72fb4a3bbbd2bcde184321e7",
        "IPY_MODEL_fdeedebb7c31423581178c910a0178ff"
       ],
       "layout": "IPY_MODEL_0186b597e4ee4947be17676bd6b5fe20"
      }
     },
     "1aa15c44fd28446bad5ec57177a0842a": {
      "model_module": "@jupyter-widgets/controls",
      "model_module_version": "2.0.0",
      "model_name": "HTMLStyleModel",
      "state": {
       "description_width": "",
       "font_size": null,
       "text_color": null
      }
     },
     "1b63006041a34c69830cf53bad827530": {
      "model_module": "@jupyter-widgets/controls",
      "model_module_version": "2.0.0",
      "model_name": "HBoxModel",
      "state": {
       "children": [
        "IPY_MODEL_398f950da8bb43ee97b784372bdb7300",
        "IPY_MODEL_a22038b9ad2b4f5d9bd04e7bae6ce9d7",
        "IPY_MODEL_8edb92da92434286b6ecedb274d1b3c9"
       ],
       "layout": "IPY_MODEL_f2d26b734eb94cbe95765ccd414b0e54"
      }
     },
     "1b869e131e6d414498e99b421b6cd3ed": {
      "model_module": "@jupyter-widgets/base",
      "model_module_version": "2.0.0",
      "model_name": "LayoutModel",
      "state": {
       "width": "20px"
      }
     },
     "1bcdac6e861648098c9fa7ab23fb225b": {
      "model_module": "@jupyter-widgets/base",
      "model_module_version": "2.0.0",
      "model_name": "LayoutModel",
      "state": {}
     },
     "1c91980c2a5a4021bc2f1c428ef978a8": {
      "model_module": "@jupyter-widgets/base",
      "model_module_version": "2.0.0",
      "model_name": "LayoutModel",
      "state": {}
     },
     "1dd6161c3fcc4a669729a1664ddf89c0": {
      "model_module": "@jupyter-widgets/base",
      "model_module_version": "2.0.0",
      "model_name": "LayoutModel",
      "state": {}
     },
     "1e986c697f5a4212abfb1595a501f17c": {
      "model_module": "@jupyter-widgets/base",
      "model_module_version": "2.0.0",
      "model_name": "LayoutModel",
      "state": {}
     },
     "1faa5e0e781742bbab1af233ee93367b": {
      "model_module": "@jupyter-widgets/controls",
      "model_module_version": "2.0.0",
      "model_name": "ProgressStyleModel",
      "state": {
       "description_width": ""
      }
     },
     "1fc3975ddb2f4656aefe7aa4c81c2df2": {
      "model_module": "@jupyter-widgets/controls",
      "model_module_version": "2.0.0",
      "model_name": "ProgressStyleModel",
      "state": {
       "description_width": ""
      }
     },
     "2358bf5f918047f889feaba16a748e95": {
      "model_module": "@jupyter-widgets/controls",
      "model_module_version": "2.0.0",
      "model_name": "ProgressStyleModel",
      "state": {
       "description_width": ""
      }
     },
     "2411238388e943d68b948c6ebfb50eec": {
      "model_module": "@jupyter-widgets/controls",
      "model_module_version": "2.0.0",
      "model_name": "HTMLStyleModel",
      "state": {
       "description_width": "",
       "font_size": null,
       "text_color": null
      }
     },
     "24b26fbfec8f4bcb92737a6c4ca04076": {
      "model_module": "@jupyter-widgets/base",
      "model_module_version": "2.0.0",
      "model_name": "LayoutModel",
      "state": {}
     },
     "2583f6e85bc84968b9b98c3741b8ad02": {
      "model_module": "@jupyter-widgets/controls",
      "model_module_version": "2.0.0",
      "model_name": "HTMLStyleModel",
      "state": {
       "description_width": "",
       "font_size": null,
       "text_color": null
      }
     },
     "270ac1d1c2cd428ca037d9bcc45377e2": {
      "model_module": "@jupyter-widgets/controls",
      "model_module_version": "2.0.0",
      "model_name": "HTMLStyleModel",
      "state": {
       "description_width": "",
       "font_size": null,
       "text_color": null
      }
     },
     "27fe374899b7483789382d209a76dbe9": {
      "model_module": "@jupyter-widgets/base",
      "model_module_version": "2.0.0",
      "model_name": "LayoutModel",
      "state": {
       "width": "20px"
      }
     },
     "29440d7e91f2469eba90b212eadb852f": {
      "model_module": "@jupyter-widgets/base",
      "model_module_version": "2.0.0",
      "model_name": "LayoutModel",
      "state": {}
     },
     "29588d848dae45469cc2bb2caf2adae4": {
      "model_module": "@jupyter-widgets/controls",
      "model_module_version": "2.0.0",
      "model_name": "HTMLModel",
      "state": {
       "layout": "IPY_MODEL_636c0d73616c4717bc123f9ea7c41e10",
       "style": "IPY_MODEL_500ab82dd96c4dd8b512f75ee045e9ec",
       "value": "removing duplicates: 100%"
      }
     },
     "29a59045c7ac4d20b0de6d066ad4eb81": {
      "model_module": "@jupyter-widgets/controls",
      "model_module_version": "2.0.0",
      "model_name": "HTMLStyleModel",
      "state": {
       "description_width": "",
       "font_size": null,
       "text_color": null
      }
     },
     "2bebdcb48ea145b8bb90f79b2a1e67b7": {
      "model_module": "@jupyter-widgets/controls",
      "model_module_version": "2.0.0",
      "model_name": "HTMLModel",
      "state": {
       "layout": "IPY_MODEL_7abd17adf20f413d81878134565f3a19",
       "style": "IPY_MODEL_3707b966f6724555bce8c3b7f1d98be3",
       "value": "removing duplicates: "
      }
     },
     "2c03214cc976434d956f128a7940f7ef": {
      "model_module": "@jupyter-widgets/controls",
      "model_module_version": "2.0.0",
      "model_name": "HTMLStyleModel",
      "state": {
       "description_width": "",
       "font_size": null,
       "text_color": null
      }
     },
     "2c55144e87794bca89eb21b7ff9b6692": {
      "model_module": "@jupyter-widgets/controls",
      "model_module_version": "2.0.0",
      "model_name": "HTMLModel",
      "state": {
       "layout": "IPY_MODEL_b291e1f6dda94cf6abfe0ff54508c556",
       "style": "IPY_MODEL_7b023b2543914880b8d1f5cb8676252d",
       "value": "100%"
      }
     },
     "2d41613b00e74b96b2a35b2a481ae439": {
      "model_module": "@jupyter-widgets/base",
      "model_module_version": "2.0.0",
      "model_name": "LayoutModel",
      "state": {}
     },
     "2d5dd09c13aa4895a55f505cae9f0eba": {
      "model_module": "@jupyter-widgets/controls",
      "model_module_version": "2.0.0",
      "model_name": "FloatProgressModel",
      "state": {
       "bar_style": "success",
       "layout": "IPY_MODEL_86e6c9c6669b404ab753f73e80e4bd2d",
       "max": 16,
       "style": "IPY_MODEL_f0ea8f7d9e954d09aee4fb782987df26",
       "value": 16
      }
     },
     "2fc368684df44021915f630e439a21b4": {
      "model_module": "@jupyter-widgets/controls",
      "model_module_version": "2.0.0",
      "model_name": "HTMLModel",
      "state": {
       "layout": "IPY_MODEL_197be5662d934d98b1f591084e1572da",
       "style": "IPY_MODEL_51babc4f7e0549888ffe4edb49c11e3b",
       "value": " 16/16 [00:00&lt;00:00, 6346.59it/s]"
      }
     },
     "30de72dc940f407182f3e22ecb8fd879": {
      "model_module": "@jupyter-widgets/controls",
      "model_module_version": "2.0.0",
      "model_name": "FloatProgressModel",
      "state": {
       "bar_style": "success",
       "layout": "IPY_MODEL_153cdc80b3784a72ae25230b747543b5",
       "max": 288,
       "style": "IPY_MODEL_c3fee7afeef84bbbb504964bb5f0e10c",
       "value": 288
      }
     },
     "31d85d644fdf49ea9cdddac74d856d03": {
      "model_module": "@jupyter-widgets/controls",
      "model_module_version": "2.0.0",
      "model_name": "HTMLModel",
      "state": {
       "layout": "IPY_MODEL_8b00ac3bfe8b484a9250a65a971581ec",
       "style": "IPY_MODEL_fa50a4be2ca64d17b329d02d940a2cd7",
       "value": " 16/16 [00:00&lt;00:00, 7006.56it/s]"
      }
     },
     "3403a80888c84c1c9666125bbededf9c": {
      "model_module": "@jupyter-widgets/base",
      "model_module_version": "2.0.0",
      "model_name": "LayoutModel",
      "state": {}
     },
     "3445c58c3206445980b92eadbb91929f": {
      "model_module": "@jupyter-widgets/controls",
      "model_module_version": "2.0.0",
      "model_name": "ProgressStyleModel",
      "state": {
       "description_width": ""
      }
     },
     "34c0af91fcf34eb4b077f75fffe130b5": {
      "model_module": "@jupyter-widgets/controls",
      "model_module_version": "2.0.0",
      "model_name": "HBoxModel",
      "state": {
       "children": [
        "IPY_MODEL_8e0aa18b916b41e8bbda78ee06adf7e0",
        "IPY_MODEL_6056a834425e49f89b60b10926942b16",
        "IPY_MODEL_15544ec534cc4e4cb0c4daba382c6bd6"
       ],
       "layout": "IPY_MODEL_9b416f2fe4d44e20aaf7cb446943b22b"
      }
     },
     "359cb95101b546bfa36eb66e7d391a5b": {
      "model_module": "@jupyter-widgets/controls",
      "model_module_version": "2.0.0",
      "model_name": "HTMLModel",
      "state": {
       "layout": "IPY_MODEL_0943b8f5c8604ddb9b1a480997868948",
       "style": "IPY_MODEL_4b0a208c1c1948dd88e07162572557bb",
       "value": "100%"
      }
     },
     "35d2ce3236ae4e1ebf5f120938126d72": {
      "model_module": "@jupyter-widgets/base",
      "model_module_version": "2.0.0",
      "model_name": "LayoutModel",
      "state": {}
     },
     "368fa593920d4e819f570ecb6f6e37f8": {
      "model_module": "@jupyter-widgets/controls",
      "model_module_version": "2.0.0",
      "model_name": "HTMLModel",
      "state": {
       "layout": "IPY_MODEL_95bb04b86cc140829706b0775c449dfb",
       "style": "IPY_MODEL_44f3048806c9443a937aa818acf28a14",
       "value": "100%"
      }
     },
     "3707b966f6724555bce8c3b7f1d98be3": {
      "model_module": "@jupyter-widgets/controls",
      "model_module_version": "2.0.0",
      "model_name": "HTMLStyleModel",
      "state": {
       "description_width": "",
       "font_size": null,
       "text_color": null
      }
     },
     "37313c1fe352487f827c76b4fd9d11fb": {
      "model_module": "@jupyter-widgets/controls",
      "model_module_version": "2.0.0",
      "model_name": "HTMLStyleModel",
      "state": {
       "description_width": "",
       "font_size": null,
       "text_color": null
      }
     },
     "398f950da8bb43ee97b784372bdb7300": {
      "model_module": "@jupyter-widgets/controls",
      "model_module_version": "2.0.0",
      "model_name": "HTMLModel",
      "state": {
       "layout": "IPY_MODEL_2d41613b00e74b96b2a35b2a481ae439",
       "style": "IPY_MODEL_270ac1d1c2cd428ca037d9bcc45377e2"
      }
     },
     "39b7a99b1e364ccd9714b8fc08e1d403": {
      "model_module": "@jupyter-widgets/controls",
      "model_module_version": "2.0.0",
      "model_name": "HTMLModel",
      "state": {
       "layout": "IPY_MODEL_1c91980c2a5a4021bc2f1c428ef978a8",
       "style": "IPY_MODEL_b35ccb14a61d4720841a9ac05c6b946a",
       "value": "removing duplicates: 100%"
      }
     },
     "3ae93541188e4ff58dec5ce20fb8539f": {
      "model_module": "@jupyter-widgets/controls",
      "model_module_version": "2.0.0",
      "model_name": "HTMLStyleModel",
      "state": {
       "description_width": "",
       "font_size": null,
       "text_color": null
      }
     },
     "3cbd3b00b2894f3c9b0df89d65201760": {
      "model_module": "@jupyter-widgets/controls",
      "model_module_version": "2.0.0",
      "model_name": "ProgressStyleModel",
      "state": {
       "description_width": ""
      }
     },
     "3d5400df7af549f99c5b18841f8b7b39": {
      "model_module": "@jupyter-widgets/controls",
      "model_module_version": "2.0.0",
      "model_name": "HTMLModel",
      "state": {
       "layout": "IPY_MODEL_aec5dfddf10447bb981077000dd93b19",
       "style": "IPY_MODEL_2411238388e943d68b948c6ebfb50eec",
       "value": " 288/288 [00:00&lt;00:00, 960.03it/s]"
      }
     },
     "3d6c44664cc74d89afdddce190d67eb2": {
      "model_module": "@jupyter-widgets/controls",
      "model_module_version": "2.0.0",
      "model_name": "HTMLModel",
      "state": {
       "layout": "IPY_MODEL_82afd7f4798d40efa9f9eed21f8240ea",
       "style": "IPY_MODEL_c332b118b4474883b095815261da45d8",
       "value": " 16/16 [00:00&lt;00:00, 3003.57it/s]"
      }
     },
     "42dd8611df614469832d51cc09af6abc": {
      "model_module": "@jupyter-widgets/controls",
      "model_module_version": "2.0.0",
      "model_name": "HTMLStyleModel",
      "state": {
       "description_width": "",
       "font_size": null,
       "text_color": null
      }
     },
     "43938d0da2b447768d277f2c23f4fe00": {
      "model_module": "@jupyter-widgets/base",
      "model_module_version": "2.0.0",
      "model_name": "LayoutModel",
      "state": {}
     },
     "43cdd946b28d48b8897a4d01f10c0f68": {
      "model_module": "@jupyter-widgets/controls",
      "model_module_version": "2.0.0",
      "model_name": "FloatProgressModel",
      "state": {
       "bar_style": "success",
       "layout": "IPY_MODEL_d41275c3ffc547d2a33473a10ff3025e",
       "max": 11,
       "style": "IPY_MODEL_a268c94ea9a44a32b7be835ea1251418",
       "value": 11
      }
     },
     "43ff5c8dcc5345249a6ab0d036379a6d": {
      "model_module": "@jupyter-widgets/controls",
      "model_module_version": "2.0.0",
      "model_name": "HBoxModel",
      "state": {
       "children": [
        "IPY_MODEL_6a1e136231c149f4acb90a71d66a7793",
        "IPY_MODEL_0d79c15706104a00bfafa1c70d496dbc",
        "IPY_MODEL_51db1b728095494a85efc6448b97931f"
       ],
       "layout": "IPY_MODEL_788c221ca35b4a8f8e10dc8936d060da"
      }
     },
     "44f3048806c9443a937aa818acf28a14": {
      "model_module": "@jupyter-widgets/controls",
      "model_module_version": "2.0.0",
      "model_name": "HTMLStyleModel",
      "state": {
       "description_width": "",
       "font_size": null,
       "text_color": null
      }
     },
     "46e3a268551247c0937c16ae41e38b7d": {
      "model_module": "@jupyter-widgets/base",
      "model_module_version": "2.0.0",
      "model_name": "LayoutModel",
      "state": {}
     },
     "4788926b090b4250ae1c97e8932d4fa2": {
      "model_module": "@jupyter-widgets/controls",
      "model_module_version": "2.0.0",
      "model_name": "HTMLModel",
      "state": {
       "layout": "IPY_MODEL_d5a69b61ecea4d4a8199b4887b179cea",
       "style": "IPY_MODEL_fe0c9134f13543298b4ab70406f25483",
       "value": "removing duplicates: 100%"
      }
     },
     "49cfc2c7e418483f8e8a033d771d4548": {
      "model_module": "@jupyter-widgets/controls",
      "model_module_version": "2.0.0",
      "model_name": "ProgressStyleModel",
      "state": {
       "description_width": ""
      }
     },
     "4a823e6ff6384aeda2a551d067b415f7": {
      "model_module": "@jupyter-widgets/base",
      "model_module_version": "2.0.0",
      "model_name": "LayoutModel",
      "state": {}
     },
     "4ad3a5df263a4db19a2438d376fefd71": {
      "model_module": "@jupyter-widgets/controls",
      "model_module_version": "2.0.0",
      "model_name": "ProgressStyleModel",
      "state": {
       "description_width": ""
      }
     },
     "4b0a208c1c1948dd88e07162572557bb": {
      "model_module": "@jupyter-widgets/controls",
      "model_module_version": "2.0.0",
      "model_name": "HTMLStyleModel",
      "state": {
       "description_width": "",
       "font_size": null,
       "text_color": null
      }
     },
     "4c64e4f16f97496bbb0f5073e8900cb9": {
      "model_module": "@jupyter-widgets/base",
      "model_module_version": "2.0.0",
      "model_name": "LayoutModel",
      "state": {}
     },
     "4f07e6b9844e42af9c360e9453cbd4b4": {
      "model_module": "@jupyter-widgets/base",
      "model_module_version": "2.0.0",
      "model_name": "LayoutModel",
      "state": {}
     },
     "4f41791c37b247af992a4336a7ead2bd": {
      "model_module": "@jupyter-widgets/base",
      "model_module_version": "2.0.0",
      "model_name": "LayoutModel",
      "state": {}
     },
     "500ab82dd96c4dd8b512f75ee045e9ec": {
      "model_module": "@jupyter-widgets/controls",
      "model_module_version": "2.0.0",
      "model_name": "HTMLStyleModel",
      "state": {
       "description_width": "",
       "font_size": null,
       "text_color": null
      }
     },
     "51babc4f7e0549888ffe4edb49c11e3b": {
      "model_module": "@jupyter-widgets/controls",
      "model_module_version": "2.0.0",
      "model_name": "HTMLStyleModel",
      "state": {
       "description_width": "",
       "font_size": null,
       "text_color": null
      }
     },
     "51db1b728095494a85efc6448b97931f": {
      "model_module": "@jupyter-widgets/controls",
      "model_module_version": "2.0.0",
      "model_name": "HTMLModel",
      "state": {
       "layout": "IPY_MODEL_11f1dc46946c4858a2de0b46fec7142a",
       "style": "IPY_MODEL_65556c1786d64abaaf1a575358ebef65",
       "value": " 16/16 [00:00&lt;00:00, 3204.05it/s]"
      }
     },
     "52be2457e5784a45be3bfdae91377600": {
      "model_module": "@jupyter-widgets/controls",
      "model_module_version": "2.0.0",
      "model_name": "HTMLStyleModel",
      "state": {
       "description_width": "",
       "font_size": null,
       "text_color": null
      }
     },
     "542907e4d11d4ea49e09400160a03442": {
      "model_module": "@jupyter-widgets/base",
      "model_module_version": "2.0.0",
      "model_name": "LayoutModel",
      "state": {}
     },
     "553d64458f92419bb004e39863fa6a7a": {
      "model_module": "@jupyter-widgets/controls",
      "model_module_version": "2.0.0",
      "model_name": "HTMLStyleModel",
      "state": {
       "description_width": "",
       "font_size": null,
       "text_color": null
      }
     },
     "55e284a7461e4a6bbd7e58ebe6a5f7eb": {
      "model_module": "@jupyter-widgets/controls",
      "model_module_version": "2.0.0",
      "model_name": "HBoxModel",
      "state": {
       "children": [
        "IPY_MODEL_141027c0432446b5b0ec6c04cc4c3315",
        "IPY_MODEL_b4a9e088f96d4171be492c4af14146cb",
        "IPY_MODEL_31d85d644fdf49ea9cdddac74d856d03"
       ],
       "layout": "IPY_MODEL_f471771f3b094903bab8f275b2595a59"
      }
     },
     "56e6d1b2a8c147d6932f029f57441605": {
      "model_module": "@jupyter-widgets/controls",
      "model_module_version": "2.0.0",
      "model_name": "HTMLModel",
      "state": {
       "layout": "IPY_MODEL_d18eb818a2f741848bed09c29537ab58",
       "style": "IPY_MODEL_0c6c2bb15d9a4a51ad192b6068593aaf",
       "value": " 288/288 [00:00&lt;00:00, 97165.34it/s]"
      }
     },
     "57c58b1f6a0f43af9143c965ba09ee50": {
      "model_module": "@jupyter-widgets/controls",
      "model_module_version": "2.0.0",
      "model_name": "HTMLStyleModel",
      "state": {
       "description_width": "",
       "font_size": null,
       "text_color": null
      }
     },
     "5a2e779c3d9f404eaa311232afb845b2": {
      "model_module": "@jupyter-widgets/base",
      "model_module_version": "2.0.0",
      "model_name": "LayoutModel",
      "state": {}
     },
     "5ab9ccbe423d4f80a6ad6af7b57ec9b1": {
      "model_module": "@jupyter-widgets/base",
      "model_module_version": "2.0.0",
      "model_name": "LayoutModel",
      "state": {}
     },
     "5cb08008459a454ca17d4f7cb739ae5a": {
      "model_module": "@jupyter-widgets/controls",
      "model_module_version": "2.0.0",
      "model_name": "HTMLStyleModel",
      "state": {
       "description_width": "",
       "font_size": null,
       "text_color": null
      }
     },
     "5d25afcf7b1b4cb3a2afa9d64a127314": {
      "model_module": "@jupyter-widgets/controls",
      "model_module_version": "2.0.0",
      "model_name": "HBoxModel",
      "state": {
       "children": [
        "IPY_MODEL_4788926b090b4250ae1c97e8932d4fa2",
        "IPY_MODEL_a596ab0869e5498cba85b601eaf12977",
        "IPY_MODEL_b871631db81949fdba29c9a94ab5b4ce"
       ],
       "layout": "IPY_MODEL_1dd6161c3fcc4a669729a1664ddf89c0"
      }
     },
     "5dd9f8217e7c43ca83ced0b8f70b5588": {
      "model_module": "@jupyter-widgets/base",
      "model_module_version": "2.0.0",
      "model_name": "LayoutModel",
      "state": {
       "width": "20px"
      }
     },
     "6056a834425e49f89b60b10926942b16": {
      "model_module": "@jupyter-widgets/controls",
      "model_module_version": "2.0.0",
      "model_name": "FloatProgressModel",
      "state": {
       "bar_style": "success",
       "layout": "IPY_MODEL_87609143f24142008df0d44ebf1a78a5",
       "max": 16,
       "style": "IPY_MODEL_1fc3975ddb2f4656aefe7aa4c81c2df2",
       "value": 16
      }
     },
     "61ac3e8b46ab42aabd680cf3d63f79e8": {
      "model_module": "@jupyter-widgets/controls",
      "model_module_version": "2.0.0",
      "model_name": "HTMLModel",
      "state": {
       "layout": "IPY_MODEL_18ed89dbdcb2406992bc93e04f7564f8",
       "style": "IPY_MODEL_29a59045c7ac4d20b0de6d066ad4eb81",
       "value": " 0/0 [00:00&lt;?, ?it/s]"
      }
     },
     "636c0d73616c4717bc123f9ea7c41e10": {
      "model_module": "@jupyter-widgets/base",
      "model_module_version": "2.0.0",
      "model_name": "LayoutModel",
      "state": {}
     },
     "63a14463255d47d9a6bb445e107caa0e": {
      "model_module": "@jupyter-widgets/controls",
      "model_module_version": "2.0.0",
      "model_name": "ProgressStyleModel",
      "state": {
       "description_width": ""
      }
     },
     "65556c1786d64abaaf1a575358ebef65": {
      "model_module": "@jupyter-widgets/controls",
      "model_module_version": "2.0.0",
      "model_name": "HTMLStyleModel",
      "state": {
       "description_width": "",
       "font_size": null,
       "text_color": null
      }
     },
     "6627ad6688c04a688d553acffef47d28": {
      "model_module": "@jupyter-widgets/base",
      "model_module_version": "2.0.0",
      "model_name": "LayoutModel",
      "state": {}
     },
     "676cb7002ede40ebb3b88c17c7be6038": {
      "model_module": "@jupyter-widgets/controls",
      "model_module_version": "2.0.0",
      "model_name": "ProgressStyleModel",
      "state": {
       "description_width": ""
      }
     },
     "6778c3d36bda442bba885588c1e14eaa": {
      "model_module": "@jupyter-widgets/controls",
      "model_module_version": "2.0.0",
      "model_name": "HTMLModel",
      "state": {
       "layout": "IPY_MODEL_1bcdac6e861648098c9fa7ab23fb225b",
       "style": "IPY_MODEL_f73c98d75257409db91e6a7ba4d6414d",
       "value": " 0/0 [00:00&lt;?, ?it/s]"
      }
     },
     "69184f39855c403baacd58b72f3fbda4": {
      "model_module": "@jupyter-widgets/controls",
      "model_module_version": "2.0.0",
      "model_name": "HTMLModel",
      "state": {
       "layout": "IPY_MODEL_0b56336b1261494c8c0b84e6968093f9",
       "style": "IPY_MODEL_3ae93541188e4ff58dec5ce20fb8539f",
       "value": " 11/11 [00:00&lt;00:00, 5207.96it/s]"
      }
     },
     "6a1e136231c149f4acb90a71d66a7793": {
      "model_module": "@jupyter-widgets/controls",
      "model_module_version": "2.0.0",
      "model_name": "HTMLModel",
      "state": {
       "layout": "IPY_MODEL_04fb93726f3d4474bc8b6fe9b0dd7748",
       "style": "IPY_MODEL_040a0915d7af44eb8499727a4f60e9fb",
       "value": "100%"
      }
     },
     "6ae79b3d022347f885f77b5fbee4334f": {
      "model_module": "@jupyter-widgets/controls",
      "model_module_version": "2.0.0",
      "model_name": "HTMLModel",
      "state": {
       "layout": "IPY_MODEL_d1d05cfc43c14156a823644877b889fd",
       "style": "IPY_MODEL_1aa15c44fd28446bad5ec57177a0842a",
       "value": " 0/0 [00:00&lt;?, ?it/s]"
      }
     },
     "6b2048548805445e97d1511602ec1385": {
      "model_module": "@jupyter-widgets/controls",
      "model_module_version": "2.0.0",
      "model_name": "HTMLModel",
      "state": {
       "layout": "IPY_MODEL_e05b1de284a84f54a6422946020d5006",
       "style": "IPY_MODEL_09d646d882e6438481730d91bf3e9379",
       "value": "removing duplicates: 100%"
      }
     },
     "6c49419352da40cf9280c108ab10dbaa": {
      "model_module": "@jupyter-widgets/controls",
      "model_module_version": "2.0.0",
      "model_name": "FloatProgressModel",
      "state": {
       "bar_style": "success",
       "layout": "IPY_MODEL_8dcc56c59d9d49d6ab1652e3551c462a",
       "max": 16,
       "style": "IPY_MODEL_d46fe412d10143d58bfd2f87e3be6cf4",
       "value": 16
      }
     },
     "6c9b86732073424a9e67fa03ba7317e0": {
      "model_module": "@jupyter-widgets/controls",
      "model_module_version": "2.0.0",
      "model_name": "HTMLModel",
      "state": {
       "layout": "IPY_MODEL_1e986c697f5a4212abfb1595a501f17c",
       "style": "IPY_MODEL_c9005d218ea04bde9e676a782fdf78c6",
       "value": " 288/288 [00:00&lt;00:00, 83804.60it/s]"
      }
     },
     "6d697004c7d6419a927f1332ff8b47a4": {
      "model_module": "@jupyter-widgets/base",
      "model_module_version": "2.0.0",
      "model_name": "LayoutModel",
      "state": {}
     },
     "6db9c739b45c423581d5d5c95d7212e3": {
      "model_module": "@jupyter-widgets/base",
      "model_module_version": "2.0.0",
      "model_name": "LayoutModel",
      "state": {}
     },
     "6dbf24d742214425b26b4325727872c5": {
      "model_module": "@jupyter-widgets/controls",
      "model_module_version": "2.0.0",
      "model_name": "FloatProgressModel",
      "state": {
       "bar_style": "success",
       "layout": "IPY_MODEL_5dd9f8217e7c43ca83ced0b8f70b5588",
       "max": 1,
       "style": "IPY_MODEL_16acbea743cf43f0a6c846916baa5012"
      }
     },
     "6df1f2b93a224e3c9270e874dfed9304": {
      "model_module": "@jupyter-widgets/controls",
      "model_module_version": "2.0.0",
      "model_name": "FloatProgressModel",
      "state": {
       "bar_style": "success",
       "layout": "IPY_MODEL_f643c9b2e8124000885ef80dbb933c93",
       "max": 1,
       "style": "IPY_MODEL_2358bf5f918047f889feaba16a748e95"
      }
     },
     "6eb8bbcafca1425787b6ae3c60f1d264": {
      "model_module": "@jupyter-widgets/controls",
      "model_module_version": "2.0.0",
      "model_name": "HTMLModel",
      "state": {
       "layout": "IPY_MODEL_d5ba55eb93034227a17911c5ecdbaf4d",
       "style": "IPY_MODEL_2c03214cc976434d956f128a7940f7ef",
       "value": "removing duplicates: 100%"
      }
     },
     "785fa663ad07485e9f12e70332b25c45": {
      "model_module": "@jupyter-widgets/base",
      "model_module_version": "2.0.0",
      "model_name": "LayoutModel",
      "state": {}
     },
     "788c221ca35b4a8f8e10dc8936d060da": {
      "model_module": "@jupyter-widgets/base",
      "model_module_version": "2.0.0",
      "model_name": "LayoutModel",
      "state": {}
     },
     "7abd17adf20f413d81878134565f3a19": {
      "model_module": "@jupyter-widgets/base",
      "model_module_version": "2.0.0",
      "model_name": "LayoutModel",
      "state": {}
     },
     "7b023b2543914880b8d1f5cb8676252d": {
      "model_module": "@jupyter-widgets/controls",
      "model_module_version": "2.0.0",
      "model_name": "HTMLStyleModel",
      "state": {
       "description_width": "",
       "font_size": null,
       "text_color": null
      }
     },
     "7e357c1a6d954bc29ba34b150ccba87d": {
      "model_module": "@jupyter-widgets/base",
      "model_module_version": "2.0.0",
      "model_name": "LayoutModel",
      "state": {}
     },
     "82afd7f4798d40efa9f9eed21f8240ea": {
      "model_module": "@jupyter-widgets/base",
      "model_module_version": "2.0.0",
      "model_name": "LayoutModel",
      "state": {}
     },
     "832084f3d00c4e2da3cbf53dcbf87209": {
      "model_module": "@jupyter-widgets/controls",
      "model_module_version": "2.0.0",
      "model_name": "FloatProgressModel",
      "state": {
       "bar_style": "success",
       "layout": "IPY_MODEL_a64e0abbc4104dbaaab53ffb61027749",
       "max": 16,
       "style": "IPY_MODEL_1faa5e0e781742bbab1af233ee93367b",
       "value": 16
      }
     },
     "84fbfeec72fb4a3bbbd2bcde184321e7": {
      "model_module": "@jupyter-widgets/controls",
      "model_module_version": "2.0.0",
      "model_name": "FloatProgressModel",
      "state": {
       "bar_style": "success",
       "layout": "IPY_MODEL_d7d7d8a8928342fd9d76870e77885f0a",
       "max": 11,
       "style": "IPY_MODEL_f125ad2759394c2c89edd5255234f91e",
       "value": 11
      }
     },
     "85cf7ab901a44e0ea7114de2bd73cbee": {
      "model_module": "@jupyter-widgets/controls",
      "model_module_version": "2.0.0",
      "model_name": "ProgressStyleModel",
      "state": {
       "description_width": ""
      }
     },
     "86e6c9c6669b404ab753f73e80e4bd2d": {
      "model_module": "@jupyter-widgets/base",
      "model_module_version": "2.0.0",
      "model_name": "LayoutModel",
      "state": {}
     },
     "87609143f24142008df0d44ebf1a78a5": {
      "model_module": "@jupyter-widgets/base",
      "model_module_version": "2.0.0",
      "model_name": "LayoutModel",
      "state": {}
     },
     "88a6769208374c4990128649ae6900f8": {
      "model_module": "@jupyter-widgets/controls",
      "model_module_version": "2.0.0",
      "model_name": "HTMLStyleModel",
      "state": {
       "description_width": "",
       "font_size": null,
       "text_color": null
      }
     },
     "8b00ac3bfe8b484a9250a65a971581ec": {
      "model_module": "@jupyter-widgets/base",
      "model_module_version": "2.0.0",
      "model_name": "LayoutModel",
      "state": {}
     },
     "8b5f8223580f49739e27b0c9437c2e87": {
      "model_module": "@jupyter-widgets/controls",
      "model_module_version": "2.0.0",
      "model_name": "ProgressStyleModel",
      "state": {
       "description_width": ""
      }
     },
     "8c2a045b2f4e453c994e7b815bbb9026": {
      "model_module": "@jupyter-widgets/controls",
      "model_module_version": "2.0.0",
      "model_name": "HBoxModel",
      "state": {
       "children": [
        "IPY_MODEL_b3900944691649efb8feabbfb0c3c138",
        "IPY_MODEL_95f29815c47e478ab4723d7ab407387f",
        "IPY_MODEL_56e6d1b2a8c147d6932f029f57441605"
       ],
       "layout": "IPY_MODEL_fb7bcf6312a34f28b469b55e764fdfb2"
      }
     },
     "8ca6d3a0d8c8401da44bd7446f460319": {
      "model_module": "@jupyter-widgets/controls",
      "model_module_version": "2.0.0",
      "model_name": "HTMLStyleModel",
      "state": {
       "description_width": "",
       "font_size": null,
       "text_color": null
      }
     },
     "8dcc56c59d9d49d6ab1652e3551c462a": {
      "model_module": "@jupyter-widgets/base",
      "model_module_version": "2.0.0",
      "model_name": "LayoutModel",
      "state": {}
     },
     "8e0aa18b916b41e8bbda78ee06adf7e0": {
      "model_module": "@jupyter-widgets/controls",
      "model_module_version": "2.0.0",
      "model_name": "HTMLModel",
      "state": {
       "layout": "IPY_MODEL_9cf118b4bdd34860a617274789c20aa5",
       "style": "IPY_MODEL_d4093dd1d0d7429bbd46b14aec894243",
       "value": "100%"
      }
     },
     "8e2b0a37fa3e47c098ab805a19113e03": {
      "model_module": "@jupyter-widgets/controls",
      "model_module_version": "2.0.0",
      "model_name": "HBoxModel",
      "state": {
       "children": [
        "IPY_MODEL_9437b5a7fc374b869d38386daba09dc6",
        "IPY_MODEL_151a0acd530c4ad4a82e0c6cd015c066",
        "IPY_MODEL_6c9b86732073424a9e67fa03ba7317e0"
       ],
       "layout": "IPY_MODEL_abb15457065f41228bbc48a92a2b08c4"
      }
     },
     "8edb92da92434286b6ecedb274d1b3c9": {
      "model_module": "@jupyter-widgets/controls",
      "model_module_version": "2.0.0",
      "model_name": "HTMLModel",
      "state": {
       "layout": "IPY_MODEL_24b26fbfec8f4bcb92737a6c4ca04076",
       "style": "IPY_MODEL_8ca6d3a0d8c8401da44bd7446f460319",
       "value": " 0/0 [00:00&lt;?, ?it/s]"
      }
     },
     "8f24c4f717e64cb2a93224ad4f9d5b75": {
      "model_module": "@jupyter-widgets/controls",
      "model_module_version": "2.0.0",
      "model_name": "HTMLStyleModel",
      "state": {
       "description_width": "",
       "font_size": null,
       "text_color": null
      }
     },
     "904038ef8a124d119563e68355ba6145": {
      "model_module": "@jupyter-widgets/base",
      "model_module_version": "2.0.0",
      "model_name": "LayoutModel",
      "state": {}
     },
     "93142943b934413b992d254129fbc4db": {
      "model_module": "@jupyter-widgets/controls",
      "model_module_version": "2.0.0",
      "model_name": "ProgressStyleModel",
      "state": {
       "description_width": ""
      }
     },
     "940f3c69aea1488d9c8854593887eb02": {
      "model_module": "@jupyter-widgets/controls",
      "model_module_version": "2.0.0",
      "model_name": "HTMLStyleModel",
      "state": {
       "description_width": "",
       "font_size": null,
       "text_color": null
      }
     },
     "9437b5a7fc374b869d38386daba09dc6": {
      "model_module": "@jupyter-widgets/controls",
      "model_module_version": "2.0.0",
      "model_name": "HTMLModel",
      "state": {
       "layout": "IPY_MODEL_785fa663ad07485e9f12e70332b25c45",
       "style": "IPY_MODEL_5cb08008459a454ca17d4f7cb739ae5a",
       "value": "100%"
      }
     },
     "94c549d5ae0b45538d7403fcf5b8e645": {
      "model_module": "@jupyter-widgets/controls",
      "model_module_version": "2.0.0",
      "model_name": "HTMLModel",
      "state": {
       "layout": "IPY_MODEL_46e3a268551247c0937c16ae41e38b7d",
       "style": "IPY_MODEL_88a6769208374c4990128649ae6900f8",
       "value": " 16/16 [00:00&lt;00:00, 7295.23it/s]"
      }
     },
     "95bb04b86cc140829706b0775c449dfb": {
      "model_module": "@jupyter-widgets/base",
      "model_module_version": "2.0.0",
      "model_name": "LayoutModel",
      "state": {}
     },
     "95f29815c47e478ab4723d7ab407387f": {
      "model_module": "@jupyter-widgets/controls",
      "model_module_version": "2.0.0",
      "model_name": "FloatProgressModel",
      "state": {
       "bar_style": "success",
       "layout": "IPY_MODEL_1129e18b362f4496b0aadd713c54b35f",
       "max": 288,
       "style": "IPY_MODEL_85cf7ab901a44e0ea7114de2bd73cbee",
       "value": 288
      }
     },
     "975b1aace2d7442ba232f1d960d679c7": {
      "model_module": "@jupyter-widgets/controls",
      "model_module_version": "2.0.0",
      "model_name": "FloatProgressModel",
      "state": {
       "bar_style": "success",
       "layout": "IPY_MODEL_6627ad6688c04a688d553acffef47d28",
       "max": 16,
       "style": "IPY_MODEL_11b0cfbddb4d4f6f9fc11cc4c416d9a5",
       "value": 16
      }
     },
     "99ce738289d642b39557d55041c91801": {
      "model_module": "@jupyter-widgets/controls",
      "model_module_version": "2.0.0",
      "model_name": "HBoxModel",
      "state": {
       "children": [
        "IPY_MODEL_6b2048548805445e97d1511602ec1385",
        "IPY_MODEL_2d5dd09c13aa4895a55f505cae9f0eba",
        "IPY_MODEL_2fc368684df44021915f630e439a21b4"
       ],
       "layout": "IPY_MODEL_3403a80888c84c1c9666125bbededf9c"
      }
     },
     "99e0225507fc46b6a8240b3d668a5bca": {
      "model_module": "@jupyter-widgets/base",
      "model_module_version": "2.0.0",
      "model_name": "LayoutModel",
      "state": {}
     },
     "9ae107bfa0414a5295b5d150a1b19c56": {
      "model_module": "@jupyter-widgets/controls",
      "model_module_version": "2.0.0",
      "model_name": "HBoxModel",
      "state": {
       "children": [
        "IPY_MODEL_2bebdcb48ea145b8bb90f79b2a1e67b7",
        "IPY_MODEL_6dbf24d742214425b26b4325727872c5",
        "IPY_MODEL_61ac3e8b46ab42aabd680cf3d63f79e8"
       ],
       "layout": "IPY_MODEL_9dcad8b83cc44d17b486e87e54ae98e8"
      }
     },
     "9b416f2fe4d44e20aaf7cb446943b22b": {
      "model_module": "@jupyter-widgets/base",
      "model_module_version": "2.0.0",
      "model_name": "LayoutModel",
      "state": {}
     },
     "9cf118b4bdd34860a617274789c20aa5": {
      "model_module": "@jupyter-widgets/base",
      "model_module_version": "2.0.0",
      "model_name": "LayoutModel",
      "state": {}
     },
     "9dcad8b83cc44d17b486e87e54ae98e8": {
      "model_module": "@jupyter-widgets/base",
      "model_module_version": "2.0.0",
      "model_name": "LayoutModel",
      "state": {}
     },
     "a1174686e11d4b53a3c5a0e6376843ab": {
      "model_module": "@jupyter-widgets/controls",
      "model_module_version": "2.0.0",
      "model_name": "HBoxModel",
      "state": {
       "children": [
        "IPY_MODEL_f10da60a10974ed791d0fd84395fbaeb",
        "IPY_MODEL_6df1f2b93a224e3c9270e874dfed9304",
        "IPY_MODEL_6778c3d36bda442bba885588c1e14eaa"
       ],
       "layout": "IPY_MODEL_bc24419d47964f86a2db116f87706c7f"
      }
     },
     "a135ba4ec51e4d0ab8228a94bbc9f09d": {
      "model_module": "@jupyter-widgets/controls",
      "model_module_version": "2.0.0",
      "model_name": "HTMLStyleModel",
      "state": {
       "description_width": "",
       "font_size": null,
       "text_color": null
      }
     },
     "a20361ab73d841659c2195a309274995": {
      "model_module": "@jupyter-widgets/controls",
      "model_module_version": "2.0.0",
      "model_name": "HTMLModel",
      "state": {
       "layout": "IPY_MODEL_ceab7ad3c86348e285702374cd1818b9",
       "style": "IPY_MODEL_f69778c16d36453897d9b8220d1810af",
       "value": "removing duplicates: 100%"
      }
     },
     "a22038b9ad2b4f5d9bd04e7bae6ce9d7": {
      "model_module": "@jupyter-widgets/controls",
      "model_module_version": "2.0.0",
      "model_name": "FloatProgressModel",
      "state": {
       "bar_style": "success",
       "layout": "IPY_MODEL_1b869e131e6d414498e99b421b6cd3ed",
       "max": 1,
       "style": "IPY_MODEL_142728fd38454856b3cdc2ef0bc6c8e3"
      }
     },
     "a268c94ea9a44a32b7be835ea1251418": {
      "model_module": "@jupyter-widgets/controls",
      "model_module_version": "2.0.0",
      "model_name": "ProgressStyleModel",
      "state": {
       "description_width": ""
      }
     },
     "a313ab94ee3a46a3b8776476f432f6bb": {
      "model_module": "@jupyter-widgets/controls",
      "model_module_version": "2.0.0",
      "model_name": "HTMLStyleModel",
      "state": {
       "description_width": "",
       "font_size": null,
       "text_color": null
      }
     },
     "a45e2d08bc9a4461857cd4c448f468fb": {
      "model_module": "@jupyter-widgets/base",
      "model_module_version": "2.0.0",
      "model_name": "LayoutModel",
      "state": {}
     },
     "a596ab0869e5498cba85b601eaf12977": {
      "model_module": "@jupyter-widgets/controls",
      "model_module_version": "2.0.0",
      "model_name": "FloatProgressModel",
      "state": {
       "bar_style": "success",
       "layout": "IPY_MODEL_c9f278c687bf4d1dbee7603d129fc29a",
       "max": 16,
       "style": "IPY_MODEL_3cbd3b00b2894f3c9b0df89d65201760",
       "value": 16
      }
     },
     "a5b93dd945cb49e0907ff39ce71373b4": {
      "model_module": "@jupyter-widgets/controls",
      "model_module_version": "2.0.0",
      "model_name": "HTMLModel",
      "state": {
       "layout": "IPY_MODEL_ff33634de9264ddea04e5f05bbcd0f68",
       "style": "IPY_MODEL_c29b76dc76904628ae1ca3c5e0f57b1b"
      }
     },
     "a64e0abbc4104dbaaab53ffb61027749": {
      "model_module": "@jupyter-widgets/base",
      "model_module_version": "2.0.0",
      "model_name": "LayoutModel",
      "state": {}
     },
     "a7ae153d82c747b29eeb413db7ae47be": {
      "model_module": "@jupyter-widgets/controls",
      "model_module_version": "2.0.0",
      "model_name": "HTMLModel",
      "state": {
       "layout": "IPY_MODEL_ed22b596259647fe800588084896dcd1",
       "style": "IPY_MODEL_df8432e690b549588262cc6b5f597dca",
       "value": " 16/16 [00:00&lt;00:00, 7140.76it/s]"
      }
     },
     "a9a386b3172b4cc2b19f97d416d0b309": {
      "model_module": "@jupyter-widgets/base",
      "model_module_version": "2.0.0",
      "model_name": "LayoutModel",
      "state": {}
     },
     "abb15457065f41228bbc48a92a2b08c4": {
      "model_module": "@jupyter-widgets/base",
      "model_module_version": "2.0.0",
      "model_name": "LayoutModel",
      "state": {}
     },
     "acd910274eb34541af9e908b590a610a": {
      "model_module": "@jupyter-widgets/controls",
      "model_module_version": "2.0.0",
      "model_name": "HTMLStyleModel",
      "state": {
       "description_width": "",
       "font_size": null,
       "text_color": null
      }
     },
     "aec5dfddf10447bb981077000dd93b19": {
      "model_module": "@jupyter-widgets/base",
      "model_module_version": "2.0.0",
      "model_name": "LayoutModel",
      "state": {}
     },
     "b26dfd5e93de4613836ce26ad23d22bd": {
      "model_module": "@jupyter-widgets/controls",
      "model_module_version": "2.0.0",
      "model_name": "HBoxModel",
      "state": {
       "children": [
        "IPY_MODEL_a5b93dd945cb49e0907ff39ce71373b4",
        "IPY_MODEL_f6b794afff7a4dde979eb46289fbc300",
        "IPY_MODEL_6ae79b3d022347f885f77b5fbee4334f"
       ],
       "layout": "IPY_MODEL_e652a02b043549de872ea4231861b382"
      }
     },
     "b291e1f6dda94cf6abfe0ff54508c556": {
      "model_module": "@jupyter-widgets/base",
      "model_module_version": "2.0.0",
      "model_name": "LayoutModel",
      "state": {}
     },
     "b35ccb14a61d4720841a9ac05c6b946a": {
      "model_module": "@jupyter-widgets/controls",
      "model_module_version": "2.0.0",
      "model_name": "HTMLStyleModel",
      "state": {
       "description_width": "",
       "font_size": null,
       "text_color": null
      }
     },
     "b3900944691649efb8feabbfb0c3c138": {
      "model_module": "@jupyter-widgets/controls",
      "model_module_version": "2.0.0",
      "model_name": "HTMLModel",
      "state": {
       "layout": "IPY_MODEL_f4f9a1d9c2d54be69192dee92edb4040",
       "style": "IPY_MODEL_a135ba4ec51e4d0ab8228a94bbc9f09d",
       "value": "100%"
      }
     },
     "b4164ccfcbda441ebdb247e477d7e96b": {
      "model_module": "@jupyter-widgets/controls",
      "model_module_version": "2.0.0",
      "model_name": "ProgressStyleModel",
      "state": {
       "description_width": ""
      }
     },
     "b4a9e088f96d4171be492c4af14146cb": {
      "model_module": "@jupyter-widgets/controls",
      "model_module_version": "2.0.0",
      "model_name": "FloatProgressModel",
      "state": {
       "bar_style": "success",
       "layout": "IPY_MODEL_0d51c4bc5cab4664a3e32dd6e9e7845b",
       "max": 16,
       "style": "IPY_MODEL_4ad3a5df263a4db19a2438d376fefd71",
       "value": 16
      }
     },
     "b871631db81949fdba29c9a94ab5b4ce": {
      "model_module": "@jupyter-widgets/controls",
      "model_module_version": "2.0.0",
      "model_name": "HTMLModel",
      "state": {
       "layout": "IPY_MODEL_4c64e4f16f97496bbb0f5073e8900cb9",
       "style": "IPY_MODEL_f7272cdb487e45f0a864a276d7f7ce5a",
       "value": " 16/16 [00:00&lt;00:00, 5753.50it/s]"
      }
     },
     "ba8b236920cc4f3a91badc648618dc51": {
      "model_module": "@jupyter-widgets/controls",
      "model_module_version": "2.0.0",
      "model_name": "FloatProgressModel",
      "state": {
       "bar_style": "success",
       "layout": "IPY_MODEL_ea71191ab8f54cd8b4c5569ef88df8de",
       "max": 16,
       "style": "IPY_MODEL_b4164ccfcbda441ebdb247e477d7e96b",
       "value": 16
      }
     },
     "bc24419d47964f86a2db116f87706c7f": {
      "model_module": "@jupyter-widgets/base",
      "model_module_version": "2.0.0",
      "model_name": "LayoutModel",
      "state": {}
     },
     "bdaa400a50e74698b969f1e272608db2": {
      "model_module": "@jupyter-widgets/controls",
      "model_module_version": "2.0.0",
      "model_name": "HBoxModel",
      "state": {
       "children": [
        "IPY_MODEL_6eb8bbcafca1425787b6ae3c60f1d264",
        "IPY_MODEL_975b1aace2d7442ba232f1d960d679c7",
        "IPY_MODEL_94c549d5ae0b45538d7403fcf5b8e645"
       ],
       "layout": "IPY_MODEL_35d2ce3236ae4e1ebf5f120938126d72"
      }
     },
     "be8a6dc45fba4a5e95077c03fe208ddf": {
      "model_module": "@jupyter-widgets/controls",
      "model_module_version": "2.0.0",
      "model_name": "HBoxModel",
      "state": {
       "children": [
        "IPY_MODEL_368fa593920d4e819f570ecb6f6e37f8",
        "IPY_MODEL_ba8b236920cc4f3a91badc648618dc51",
        "IPY_MODEL_3d6c44664cc74d89afdddce190d67eb2"
       ],
       "layout": "IPY_MODEL_904038ef8a124d119563e68355ba6145"
      }
     },
     "bf30d1edce7f4fe3bc8671b152e7cc5d": {
      "model_module": "@jupyter-widgets/controls",
      "model_module_version": "2.0.0",
      "model_name": "HBoxModel",
      "state": {
       "children": [
        "IPY_MODEL_f4409c1f3d774ed482a65d67a1b724bd",
        "IPY_MODEL_f18ae45255614d2297992169a7a9d8f5",
        "IPY_MODEL_01e90e600b6a4cc7b1a39f28c46ff766"
       ],
       "layout": "IPY_MODEL_05cb77b53dcb4ac89f325831ecd1fc39"
      }
     },
     "c29b76dc76904628ae1ca3c5e0f57b1b": {
      "model_module": "@jupyter-widgets/controls",
      "model_module_version": "2.0.0",
      "model_name": "HTMLStyleModel",
      "state": {
       "description_width": "",
       "font_size": null,
       "text_color": null
      }
     },
     "c332b118b4474883b095815261da45d8": {
      "model_module": "@jupyter-widgets/controls",
      "model_module_version": "2.0.0",
      "model_name": "HTMLStyleModel",
      "state": {
       "description_width": "",
       "font_size": null,
       "text_color": null
      }
     },
     "c3a07d89fe9d4729addddbb42a255048": {
      "model_module": "@jupyter-widgets/base",
      "model_module_version": "2.0.0",
      "model_name": "LayoutModel",
      "state": {}
     },
     "c3fee7afeef84bbbb504964bb5f0e10c": {
      "model_module": "@jupyter-widgets/controls",
      "model_module_version": "2.0.0",
      "model_name": "ProgressStyleModel",
      "state": {
       "description_width": ""
      }
     },
     "c4628ae8d3984800a1128f7028b15542": {
      "model_module": "@jupyter-widgets/base",
      "model_module_version": "2.0.0",
      "model_name": "LayoutModel",
      "state": {}
     },
     "c6a5f708091a44b5925430c96c1a975e": {
      "model_module": "@jupyter-widgets/controls",
      "model_module_version": "2.0.0",
      "model_name": "HTMLStyleModel",
      "state": {
       "description_width": "",
       "font_size": null,
       "text_color": null
      }
     },
     "c9005d218ea04bde9e676a782fdf78c6": {
      "model_module": "@jupyter-widgets/controls",
      "model_module_version": "2.0.0",
      "model_name": "HTMLStyleModel",
      "state": {
       "description_width": "",
       "font_size": null,
       "text_color": null
      }
     },
     "c9f278c687bf4d1dbee7603d129fc29a": {
      "model_module": "@jupyter-widgets/base",
      "model_module_version": "2.0.0",
      "model_name": "LayoutModel",
      "state": {}
     },
     "ceab7ad3c86348e285702374cd1818b9": {
      "model_module": "@jupyter-widgets/base",
      "model_module_version": "2.0.0",
      "model_name": "LayoutModel",
      "state": {}
     },
     "cfac3d4288d4444bb9dc7692911a8fb8": {
      "model_module": "@jupyter-widgets/controls",
      "model_module_version": "2.0.0",
      "model_name": "HTMLModel",
      "state": {
       "layout": "IPY_MODEL_09bc368afa664d74ad37bc5111e12023",
       "style": "IPY_MODEL_2583f6e85bc84968b9b98c3741b8ad02",
       "value": " 16/16 [00:00&lt;00:00, 7450.75it/s]"
      }
     },
     "d09f3ff926d540519550b9b0e53e71ee": {
      "model_module": "@jupyter-widgets/controls",
      "model_module_version": "2.0.0",
      "model_name": "HBoxModel",
      "state": {
       "children": [
        "IPY_MODEL_29588d848dae45469cc2bb2caf2adae4",
        "IPY_MODEL_43cdd946b28d48b8897a4d01f10c0f68",
        "IPY_MODEL_69184f39855c403baacd58b72f3fbda4"
       ],
       "layout": "IPY_MODEL_c4628ae8d3984800a1128f7028b15542"
      }
     },
     "d1593c9cb2ca44c796c7662e553e38dd": {
      "model_module": "@jupyter-widgets/controls",
      "model_module_version": "2.0.0",
      "model_name": "FloatProgressModel",
      "state": {
       "bar_style": "success",
       "layout": "IPY_MODEL_139af4f1f8f14bdaa814f40849facdf1",
       "max": 288,
       "style": "IPY_MODEL_3445c58c3206445980b92eadbb91929f",
       "value": 288
      }
     },
     "d18eb818a2f741848bed09c29537ab58": {
      "model_module": "@jupyter-widgets/base",
      "model_module_version": "2.0.0",
      "model_name": "LayoutModel",
      "state": {}
     },
     "d1d05cfc43c14156a823644877b889fd": {
      "model_module": "@jupyter-widgets/base",
      "model_module_version": "2.0.0",
      "model_name": "LayoutModel",
      "state": {}
     },
     "d4093dd1d0d7429bbd46b14aec894243": {
      "model_module": "@jupyter-widgets/controls",
      "model_module_version": "2.0.0",
      "model_name": "HTMLStyleModel",
      "state": {
       "description_width": "",
       "font_size": null,
       "text_color": null
      }
     },
     "d41275c3ffc547d2a33473a10ff3025e": {
      "model_module": "@jupyter-widgets/base",
      "model_module_version": "2.0.0",
      "model_name": "LayoutModel",
      "state": {}
     },
     "d46fe412d10143d58bfd2f87e3be6cf4": {
      "model_module": "@jupyter-widgets/controls",
      "model_module_version": "2.0.0",
      "model_name": "ProgressStyleModel",
      "state": {
       "description_width": ""
      }
     },
     "d54b89b3ac444d3e987a881a6a1a1ea5": {
      "model_module": "@jupyter-widgets/base",
      "model_module_version": "2.0.0",
      "model_name": "LayoutModel",
      "state": {}
     },
     "d581951eb5c54902bfbad0042a0ae55a": {
      "model_module": "@jupyter-widgets/base",
      "model_module_version": "2.0.0",
      "model_name": "LayoutModel",
      "state": {}
     },
     "d5a69b61ecea4d4a8199b4887b179cea": {
      "model_module": "@jupyter-widgets/base",
      "model_module_version": "2.0.0",
      "model_name": "LayoutModel",
      "state": {}
     },
     "d5ba55eb93034227a17911c5ecdbaf4d": {
      "model_module": "@jupyter-widgets/base",
      "model_module_version": "2.0.0",
      "model_name": "LayoutModel",
      "state": {}
     },
     "d5f95c3979de428d8532e4a9abc7f431": {
      "model_module": "@jupyter-widgets/controls",
      "model_module_version": "2.0.0",
      "model_name": "HTMLStyleModel",
      "state": {
       "description_width": "",
       "font_size": null,
       "text_color": null
      }
     },
     "d7d7d8a8928342fd9d76870e77885f0a": {
      "model_module": "@jupyter-widgets/base",
      "model_module_version": "2.0.0",
      "model_name": "LayoutModel",
      "state": {}
     },
     "d9c63927ff9f4c39b1435ed4f65532e4": {
      "model_module": "@jupyter-widgets/controls",
      "model_module_version": "2.0.0",
      "model_name": "HBoxModel",
      "state": {
       "children": [
        "IPY_MODEL_359cb95101b546bfa36eb66e7d391a5b",
        "IPY_MODEL_ec24acb19da34cbebc8ffa282324d199",
        "IPY_MODEL_dcc42ee375ba4601be58af64c39fb3d8"
       ],
       "layout": "IPY_MODEL_17103aef9c354303ab52ccb60c7a8bf9"
      }
     },
     "db18620774c64b89aaf2698b7c8c009b": {
      "model_module": "@jupyter-widgets/controls",
      "model_module_version": "2.0.0",
      "model_name": "HTMLModel",
      "state": {
       "layout": "IPY_MODEL_29440d7e91f2469eba90b212eadb852f",
       "style": "IPY_MODEL_c6a5f708091a44b5925430c96c1a975e",
       "value": "removing duplicates: 100%"
      }
     },
     "db4acd125e3f4ad1960fcfbf243f7a5d": {
      "model_module": "@jupyter-widgets/controls",
      "model_module_version": "2.0.0",
      "model_name": "HTMLModel",
      "state": {
       "layout": "IPY_MODEL_a45e2d08bc9a4461857cd4c448f468fb",
       "style": "IPY_MODEL_42dd8611df614469832d51cc09af6abc",
       "value": "100%"
      }
     },
     "dcc42ee375ba4601be58af64c39fb3d8": {
      "model_module": "@jupyter-widgets/controls",
      "model_module_version": "2.0.0",
      "model_name": "HTMLModel",
      "state": {
       "layout": "IPY_MODEL_99e0225507fc46b6a8240b3d668a5bca",
       "style": "IPY_MODEL_a313ab94ee3a46a3b8776476f432f6bb",
       "value": " 16/16 [00:00&lt;00:00, 4865.43it/s]"
      }
     },
     "dee84e2cbdbf4d2aa12cf2458c0f6ac5": {
      "model_module": "@jupyter-widgets/controls",
      "model_module_version": "2.0.0",
      "model_name": "HBoxModel",
      "state": {
       "children": [
        "IPY_MODEL_39b7a99b1e364ccd9714b8fc08e1d403",
        "IPY_MODEL_30de72dc940f407182f3e22ecb8fd879",
        "IPY_MODEL_08d01301f799447795f785e4f40d9323"
       ],
       "layout": "IPY_MODEL_5a2e779c3d9f404eaa311232afb845b2"
      }
     },
     "df8432e690b549588262cc6b5f597dca": {
      "model_module": "@jupyter-widgets/controls",
      "model_module_version": "2.0.0",
      "model_name": "HTMLStyleModel",
      "state": {
       "description_width": "",
       "font_size": null,
       "text_color": null
      }
     },
     "e05b1de284a84f54a6422946020d5006": {
      "model_module": "@jupyter-widgets/base",
      "model_module_version": "2.0.0",
      "model_name": "LayoutModel",
      "state": {}
     },
     "e14692a74f0a4daf98d0a1370f11366f": {
      "model_module": "@jupyter-widgets/base",
      "model_module_version": "2.0.0",
      "model_name": "LayoutModel",
      "state": {}
     },
     "e28b637b0aef43849210fc02a4453fd1": {
      "model_module": "@jupyter-widgets/controls",
      "model_module_version": "2.0.0",
      "model_name": "HBoxModel",
      "state": {
       "children": [
        "IPY_MODEL_2c55144e87794bca89eb21b7ff9b6692",
        "IPY_MODEL_832084f3d00c4e2da3cbf53dcbf87209",
        "IPY_MODEL_cfac3d4288d4444bb9dc7692911a8fb8"
       ],
       "layout": "IPY_MODEL_e913dcf1560f4829b8ea654a69e0c0b9"
      }
     },
     "e652a02b043549de872ea4231861b382": {
      "model_module": "@jupyter-widgets/base",
      "model_module_version": "2.0.0",
      "model_name": "LayoutModel",
      "state": {}
     },
     "e670b57d46744ad6ab7ccacc81162d83": {
      "model_module": "@jupyter-widgets/base",
      "model_module_version": "2.0.0",
      "model_name": "LayoutModel",
      "state": {}
     },
     "e913dcf1560f4829b8ea654a69e0c0b9": {
      "model_module": "@jupyter-widgets/base",
      "model_module_version": "2.0.0",
      "model_name": "LayoutModel",
      "state": {}
     },
     "ea71191ab8f54cd8b4c5569ef88df8de": {
      "model_module": "@jupyter-widgets/base",
      "model_module_version": "2.0.0",
      "model_name": "LayoutModel",
      "state": {}
     },
     "ec24acb19da34cbebc8ffa282324d199": {
      "model_module": "@jupyter-widgets/controls",
      "model_module_version": "2.0.0",
      "model_name": "FloatProgressModel",
      "state": {
       "bar_style": "success",
       "layout": "IPY_MODEL_c3a07d89fe9d4729addddbb42a255048",
       "max": 16,
       "style": "IPY_MODEL_93142943b934413b992d254129fbc4db",
       "value": 16
      }
     },
     "ed22b596259647fe800588084896dcd1": {
      "model_module": "@jupyter-widgets/base",
      "model_module_version": "2.0.0",
      "model_name": "LayoutModel",
      "state": {}
     },
     "f0ea8f7d9e954d09aee4fb782987df26": {
      "model_module": "@jupyter-widgets/controls",
      "model_module_version": "2.0.0",
      "model_name": "ProgressStyleModel",
      "state": {
       "description_width": ""
      }
     },
     "f10da60a10974ed791d0fd84395fbaeb": {
      "model_module": "@jupyter-widgets/controls",
      "model_module_version": "2.0.0",
      "model_name": "HTMLModel",
      "state": {
       "layout": "IPY_MODEL_6d697004c7d6419a927f1332ff8b47a4",
       "style": "IPY_MODEL_57c58b1f6a0f43af9143c965ba09ee50",
       "value": "removing duplicates: "
      }
     },
     "f125ad2759394c2c89edd5255234f91e": {
      "model_module": "@jupyter-widgets/controls",
      "model_module_version": "2.0.0",
      "model_name": "ProgressStyleModel",
      "state": {
       "description_width": ""
      }
     },
     "f1318f113ff94e0c845ab7fc9a1f1347": {
      "model_module": "@jupyter-widgets/controls",
      "model_module_version": "2.0.0",
      "model_name": "HBoxModel",
      "state": {
       "children": [
        "IPY_MODEL_037d5a06408f432985c5a1540fc152c1",
        "IPY_MODEL_6c49419352da40cf9280c108ab10dbaa",
        "IPY_MODEL_1254dd53de8c45b196ff9fcfc8d80c66"
       ],
       "layout": "IPY_MODEL_d581951eb5c54902bfbad0042a0ae55a"
      }
     },
     "f18ae45255614d2297992169a7a9d8f5": {
      "model_module": "@jupyter-widgets/controls",
      "model_module_version": "2.0.0",
      "model_name": "FloatProgressModel",
      "state": {
       "bar_style": "success",
       "layout": "IPY_MODEL_43938d0da2b447768d277f2c23f4fe00",
       "max": 16,
       "style": "IPY_MODEL_49cfc2c7e418483f8e8a033d771d4548",
       "value": 16
      }
     },
     "f2d26b734eb94cbe95765ccd414b0e54": {
      "model_module": "@jupyter-widgets/base",
      "model_module_version": "2.0.0",
      "model_name": "LayoutModel",
      "state": {}
     },
     "f4409c1f3d774ed482a65d67a1b724bd": {
      "model_module": "@jupyter-widgets/controls",
      "model_module_version": "2.0.0",
      "model_name": "HTMLModel",
      "state": {
       "layout": "IPY_MODEL_d54b89b3ac444d3e987a881a6a1a1ea5",
       "style": "IPY_MODEL_52be2457e5784a45be3bfdae91377600",
       "value": "100%"
      }
     },
     "f471771f3b094903bab8f275b2595a59": {
      "model_module": "@jupyter-widgets/base",
      "model_module_version": "2.0.0",
      "model_name": "LayoutModel",
      "state": {}
     },
     "f4f9a1d9c2d54be69192dee92edb4040": {
      "model_module": "@jupyter-widgets/base",
      "model_module_version": "2.0.0",
      "model_name": "LayoutModel",
      "state": {}
     },
     "f643c9b2e8124000885ef80dbb933c93": {
      "model_module": "@jupyter-widgets/base",
      "model_module_version": "2.0.0",
      "model_name": "LayoutModel",
      "state": {
       "width": "20px"
      }
     },
     "f69778c16d36453897d9b8220d1810af": {
      "model_module": "@jupyter-widgets/controls",
      "model_module_version": "2.0.0",
      "model_name": "HTMLStyleModel",
      "state": {
       "description_width": "",
       "font_size": null,
       "text_color": null
      }
     },
     "f6b794afff7a4dde979eb46289fbc300": {
      "model_module": "@jupyter-widgets/controls",
      "model_module_version": "2.0.0",
      "model_name": "FloatProgressModel",
      "state": {
       "bar_style": "success",
       "layout": "IPY_MODEL_27fe374899b7483789382d209a76dbe9",
       "max": 1,
       "style": "IPY_MODEL_8b5f8223580f49739e27b0c9437c2e87"
      }
     },
     "f7272cdb487e45f0a864a276d7f7ce5a": {
      "model_module": "@jupyter-widgets/controls",
      "model_module_version": "2.0.0",
      "model_name": "HTMLStyleModel",
      "state": {
       "description_width": "",
       "font_size": null,
       "text_color": null
      }
     },
     "f73c98d75257409db91e6a7ba4d6414d": {
      "model_module": "@jupyter-widgets/controls",
      "model_module_version": "2.0.0",
      "model_name": "HTMLStyleModel",
      "state": {
       "description_width": "",
       "font_size": null,
       "text_color": null
      }
     },
     "fa50a4be2ca64d17b329d02d940a2cd7": {
      "model_module": "@jupyter-widgets/controls",
      "model_module_version": "2.0.0",
      "model_name": "HTMLStyleModel",
      "state": {
       "description_width": "",
       "font_size": null,
       "text_color": null
      }
     },
     "fb7bcf6312a34f28b469b55e764fdfb2": {
      "model_module": "@jupyter-widgets/base",
      "model_module_version": "2.0.0",
      "model_name": "LayoutModel",
      "state": {}
     },
     "fb7c86abd0a44aa1a59c0c2eb83e4b7a": {
      "model_module": "@jupyter-widgets/controls",
      "model_module_version": "2.0.0",
      "model_name": "HBoxModel",
      "state": {
       "children": [
        "IPY_MODEL_db4acd125e3f4ad1960fcfbf243f7a5d",
        "IPY_MODEL_d1593c9cb2ca44c796c7662e553e38dd",
        "IPY_MODEL_3d5400df7af549f99c5b18841f8b7b39"
       ],
       "layout": "IPY_MODEL_143cd76c37ad4301a5081695861c7461"
      }
     },
     "fdeedebb7c31423581178c910a0178ff": {
      "model_module": "@jupyter-widgets/controls",
      "model_module_version": "2.0.0",
      "model_name": "HTMLModel",
      "state": {
       "layout": "IPY_MODEL_10dfd99e58cb4fb698f93687986eac9b",
       "style": "IPY_MODEL_acd910274eb34541af9e908b590a610a",
       "value": " 11/11 [00:00&lt;00:00, 4200.80it/s]"
      }
     },
     "fe0c9134f13543298b4ab70406f25483": {
      "model_module": "@jupyter-widgets/controls",
      "model_module_version": "2.0.0",
      "model_name": "HTMLStyleModel",
      "state": {
       "description_width": "",
       "font_size": null,
       "text_color": null
      }
     },
     "ff33634de9264ddea04e5f05bbcd0f68": {
      "model_module": "@jupyter-widgets/base",
      "model_module_version": "2.0.0",
      "model_name": "LayoutModel",
      "state": {}
     }
    },
    "version_major": 2,
    "version_minor": 0
   }
  }
 },
 "nbformat": 4,
 "nbformat_minor": 4
}
