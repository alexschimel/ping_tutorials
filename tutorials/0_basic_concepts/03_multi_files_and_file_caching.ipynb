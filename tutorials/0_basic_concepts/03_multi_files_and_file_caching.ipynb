{
 "cells": [
  {
   "cell_type": "markdown",
   "metadata": {},
   "source": [
    "### `themachinethatgoesping` tutorial series\n",
    "# Tutorial 3: multiple files file caching\n",
    "\n",
    "In this tutorial, we show how open multiple files at once and how to speed up repeated file opening using caching.\n",
    "\n",
    "`themachinethatgoesping` concepts covered:\n",
    "- \"File Handler\" object\n",
    "- data loading for multiple files\n",
    "- file caching"
   ]
  },
  {
   "cell_type": "markdown",
   "metadata": {},
   "source": [
    "## Summary"
   ]
  },
  {
   "cell_type": "code",
   "execution_count": 18,
   "metadata": {},
   "outputs": [
    {
     "name": "stdout",
     "output_type": "stream",
     "text": [
      "Found 288 files\n",
      "indexing files ⠠ 100% [00m:05s<00m:00s] [..1_180312_Belgica.wcd (286/288)]                                  \n",
      "indexing files ⢀ 100% [00m:05s<00m:00s] [..1_181812_Belgica.wcd (288/288)]                                  \n",
      "indexing files ⡀ 100% [00m:05s<00m:00s] [Found: 5130471 datagrams in 288 files (25571MB)]                                                 \n",
      "Initializing navigation ⠁ 96% [00m:05s<00m:00s] [141/144]                   \n",
      "Initializing ping interface ⠁ 99% [00m:14s<00m:00s] [Done]                                              \n",
      "indexing files ⠂ 100% [00m:04s<00m:00s] [..1_181812_Belgica.all (287/288)]                                  \n",
      "indexing files ⠁ 100% [00m:04s<00m:00s] [..1_181812_Belgica.wcd (288/288)]                                  \n",
      "indexing files ⠈ 100% [00m:04s<00m:00s] [Found: 5130471 datagrams in 288 files (25571MB)]                                                 \n",
      "Initializing navigation ⠄ 96% [00m:03s<00m:00s] [141/144]                   \n",
      "Initializing ping interface ⠠ 99% [00m:11s<00m:00s] [Done]                                              \n",
      "indexing files ⠐ 99% [00m:01s<00m:00s] [Found: 5130471 datagrams in 288 files (25571MB)]                                                 \n",
      "Initializing navigation ⠁ 95% [00m:02s<00m:00s] [139/144]                   \n",
      "Initializing ping interface ⠄ 99% [00m:07s<00m:00s] [Done]                                              \n",
      "\n",
      "-- Compare loading times --\n",
      "Time without cache: 21.762 seconds\n",
      "Time with cache:    13.067 seconds\n",
      "\n",
      "-- Cache file statistics --\n",
      "FilePackageIndex: 126.83 'MB' / 0.5 %\n",
      "NavigationInterpolatorLatLon: 1172.94 'MB' / 4.59 %\n",
      "FilePackageCache<RuntimeParameters>: 5.25 'MB' / 0.02 %\n",
      "FilePackageCache<WaterColumnInformation>: 627.01 'MB' / 2.45 %\n",
      "FilePackageCache<SystemInformation>: 12.07 'MB' / 0.05 %\n",
      "- Combined -: 1944.1 'MB' / 7.6 %\n",
      "- Source files -: 25571.09 'MB' / 100.0 %\n"
     ]
    }
   ],
   "source": [
    "%matplotlib widget\n",
    "import os\n",
    "\n",
    "from matplotlib import pyplot as plt\n",
    "from themachinethatgoesping.echosounders import index_functions\n",
    "from themachinethatgoesping.echosounders import kongsbergall\n",
    "from time import time\n",
    "\n",
    "folders = []\n",
    "folders.append(\"../../unittest_data\")\n",
    "folders = ['/home/data/turbeams/TURBEAMS_data_crunshing/campaigns/TURBEAMS_April_2023/']\n",
    "\n",
    "# list raw data files\n",
    "files = index_functions.find_files(folders, [\".all\",\"wcd\"])\n",
    "files.sort()\n",
    "\n",
    "# -- File caching --\n",
    "# So the steps where the same as in the previous demo, no we create cache directories using the get_cache_file_paths function\n",
    "cacheFilePaths = index_functions.get_cache_file_paths(file_paths=files)\n",
    "index_functions.print_cache_file_statistics(cacheFilePaths)\n",
    "index_functions.remove_name_from_cache(cacheFilePaths, \"FilePackageIndex\")\n",
    "# cacheFilePaths is a dictionary with the same keys as files, but the values are the paths to the cache files\n",
    "# Passing cacheFilePahts to the FileHandler causes the FileHandler to either \n",
    "# - create the cache files (if they don't exist) \n",
    "# - or load them (if they do exist)\n",
    "fh = kongsbergall.KongsbergAllFileHandler(files, file_cache_paths = cacheFilePaths)\n",
    "\n",
    "# compare loading times in repeated file loading\n",
    "t1 = time()\n",
    "# without using the cache\n",
    "fh = kongsbergall.KongsbergAllFileHandler(files)\n",
    "t2 = time()\n",
    "# using the cache\n",
    "fh = kongsbergall.KongsbergAllFileHandler(files, file_cache_paths = cacheFilePaths)\n",
    "t3 = time()\n",
    "\n",
    "print(\"\\n-- Compare loading times --\")\n",
    "print(f\"Time without cache: {round(t2-t1,3)} seconds\")\n",
    "print(f\"Time with cache:    {round(t3-t2,3)} seconds\")\n",
    "\n",
    "# -- Investigate the created cache --\n",
    "# Here we print the created cache files to understand how big they are\n",
    "print(\"\\n-- Cache file statistics --\")\n",
    "index_functions.print_cache_file_statistics(cacheFilePaths)"
   ]
  },
  {
   "cell_type": "markdown",
   "metadata": {},
   "source": [
    "## Step-by-step"
   ]
  },
  {
   "cell_type": "markdown",
   "metadata": {},
   "source": [
    "### 0. Basic Setup"
   ]
  },
  {
   "cell_type": "code",
   "execution_count": 19,
   "metadata": {},
   "outputs": [
    {
     "name": "stdout",
     "output_type": "stream",
     "text": [
      "Found 16 files\n"
     ]
    }
   ],
   "source": [
    "# First you have to import themachinethatgoesping\n",
    "# here we import it as 'Ping', note the capital P\n",
    "import themachinethatgoesping as Ping\n",
    "\n",
    "#set the data folders where data files can be found (../../unittest data holds a couple of very small test files)\n",
    "data_folders = []\n",
    "data_folders.append(\"../../unittest_data\")\n",
    "\n",
    "import themachinethatgoesping as Ping\n",
    "from themachinethatgoesping.echosounders import index_functions\n",
    "\n",
    "\n",
    "#set the data folders where data files can be found (../../unittest data holds a couple of very small test files)\n",
    "data_folders = []\n",
    "data_folders.append(\"../../unittest_data\")\n",
    "\n",
    "# To find all find all Kongsberg files in the list of data_folders\n",
    "kongsberg_files = index_functions.find_files(data_folders, [\".all\",\"wcd\"])"
   ]
  },
  {
   "cell_type": "markdown",
   "metadata": {},
   "source": [
    "### 2. Find/create cacheFilePaths data"
   ]
  },
  {
   "cell_type": "code",
   "execution_count": 20,
   "metadata": {},
   "outputs": [
    {
     "name": "stdout",
     "output_type": "stream",
     "text": [
      "File: ../../unittest_data/kongsberg/simon/7287506659992808476.all\n",
      "    Cache: /ssd/src/themachinethatgoesping/tutorials/tutorials/0_basic_concepts/cache/root_/ssd/src/themachinethatgoesping/tutorials/unittest_data/kongsberg/simon/7287506659992808476.all.tmtgp.cache\n",
      "File: ../../unittest_data/kongsberg/simon/7287506659992808476.wcd\n",
      "    Cache: /ssd/src/themachinethatgoesping/tutorials/tutorials/0_basic_concepts/cache/root_/ssd/src/themachinethatgoesping/tutorials/unittest_data/kongsberg/simon/7287506659992808476.wcd.tmtgp.cache\n",
      "File: ../../unittest_data/kongsberg/a/y/-1333931979274893952.wcd\n",
      "    Cache: /ssd/src/themachinethatgoesping/tutorials/tutorials/0_basic_concepts/cache/root_/ssd/src/themachinethatgoesping/tutorials/unittest_data/kongsberg/a/y/-1333931979274893952.wcd.tmtgp.cache\n",
      "File: ../../unittest_data/kongsberg/a/y/-1333931979274893952.all\n",
      "    Cache: /ssd/src/themachinethatgoesping/tutorials/tutorials/0_basic_concepts/cache/root_/ssd/src/themachinethatgoesping/tutorials/unittest_data/kongsberg/a/y/-1333931979274893952.all.tmtgp.cache\n",
      "File: ../../unittest_data/kongsberg/a/f/ALL/6516408039690331208.all\n",
      "    Cache: /ssd/src/themachinethatgoesping/tutorials/tutorials/0_basic_concepts/cache/root_/ssd/src/themachinethatgoesping/tutorials/unittest_data/kongsberg/a/f/ALL/6516408039690331208.all.tmtgp.cache\n",
      "File: ../../unittest_data/kongsberg/a/f/WCD/6516408039690331208.wcd\n",
      "    Cache: /ssd/src/themachinethatgoesping/tutorials/tutorials/0_basic_concepts/cache/root_/ssd/src/themachinethatgoesping/tutorials/unittest_data/kongsberg/a/f/WCD/6516408039690331208.wcd.tmtgp.cache\n",
      "File: ../../unittest_data/kongsberg/a/c/519880139284219668.wcd\n",
      "    Cache: /ssd/src/themachinethatgoesping/tutorials/tutorials/0_basic_concepts/cache/root_/ssd/src/themachinethatgoesping/tutorials/unittest_data/kongsberg/a/c/519880139284219668.wcd.tmtgp.cache\n",
      "File: ../../unittest_data/kongsberg/a/c/519880139284219668.all\n",
      "    Cache: /ssd/src/themachinethatgoesping/tutorials/tutorials/0_basic_concepts/cache/root_/ssd/src/themachinethatgoesping/tutorials/unittest_data/kongsberg/a/c/519880139284219668.all.tmtgp.cache\n",
      "File: ../../unittest_data/kongsberg/g/-7041029013895133878.wcd\n",
      "    Cache: /ssd/src/themachinethatgoesping/tutorials/tutorials/0_basic_concepts/cache/root_/ssd/src/themachinethatgoesping/tutorials/unittest_data/kongsberg/g/-7041029013895133878.wcd.tmtgp.cache\n",
      "File: ../../unittest_data/kongsberg/g/-7041029013895133878.all\n",
      "    Cache: /ssd/src/themachinethatgoesping/tutorials/tutorials/0_basic_concepts/cache/root_/ssd/src/themachinethatgoesping/tutorials/unittest_data/kongsberg/g/-7041029013895133878.all.tmtgp.cache\n",
      "File: ../../unittest_data/kongsberg/turbeams/6641182978793103390.wcd\n",
      "    Cache: /ssd/src/themachinethatgoesping/tutorials/tutorials/0_basic_concepts/cache/root_/ssd/src/themachinethatgoesping/tutorials/unittest_data/kongsberg/turbeams/6641182978793103390.wcd.tmtgp.cache\n",
      "File: ../../unittest_data/kongsberg/turbeams/9142459809945665151.wcd\n",
      "    Cache: /ssd/src/themachinethatgoesping/tutorials/tutorials/0_basic_concepts/cache/root_/ssd/src/themachinethatgoesping/tutorials/unittest_data/kongsberg/turbeams/9142459809945665151.wcd.tmtgp.cache\n",
      "File: ../../unittest_data/kongsberg/turbeams/9142459809945665151.all\n",
      "    Cache: /ssd/src/themachinethatgoesping/tutorials/tutorials/0_basic_concepts/cache/root_/ssd/src/themachinethatgoesping/tutorials/unittest_data/kongsberg/turbeams/9142459809945665151.all.tmtgp.cache\n",
      "File: ../../unittest_data/kongsberg/turbeams/6641182978793103390.all\n",
      "    Cache: /ssd/src/themachinethatgoesping/tutorials/tutorials/0_basic_concepts/cache/root_/ssd/src/themachinethatgoesping/tutorials/unittest_data/kongsberg/turbeams/6641182978793103390.all.tmtgp.cache\n",
      "File: ../../unittest_data/kongsberg/he/-3092155654265012286.all\n",
      "    Cache: /ssd/src/themachinethatgoesping/tutorials/tutorials/0_basic_concepts/cache/root_/ssd/src/themachinethatgoesping/tutorials/unittest_data/kongsberg/he/-3092155654265012286.all.tmtgp.cache\n",
      "File: ../../unittest_data/kongsberg/he/-3092155654265012286.wcd\n",
      "    Cache: /ssd/src/themachinethatgoesping/tutorials/tutorials/0_basic_concepts/cache/root_/ssd/src/themachinethatgoesping/tutorials/unittest_data/kongsberg/he/-3092155654265012286.wcd.tmtgp.cache\n"
     ]
    }
   ],
   "source": [
    "# caching files when read the first time allows speeding-up loading next times\n",
    "\n",
    "# each file has a corresponding cache file, by default:\n",
    "cacheFilePaths_kongsberg = index_functions.get_cache_file_paths(kongsberg_files)\n",
    "\n",
    "# By default, the cache files are stored in the same directory \n",
    "# as the notebook in a newly created \"cache\" folder\n",
    "\n",
    "for f, c in cacheFilePaths_kongsberg.items():\n",
    "    print(f\"File: {f}\")\n",
    "    print(f\"    Cache: {c}\")"
   ]
  },
  {
   "cell_type": "code",
   "execution_count": 21,
   "metadata": {},
   "outputs": [
    {
     "name": "stdout",
     "output_type": "stream",
     "text": [
      "\n",
      "-- Cache file statistics --\n",
      "FilePackageIndex: 0.03 'MB' / 0.15 %\n",
      "NavigationInterpolatorLatLon: 0.1 'MB' / 0.45 %\n",
      "FilePackageCache<RuntimeParameters>: 0.0 'MB' / 0.01 %\n",
      "FilePackageCache<WaterColumnInformation>: 0.37 'MB' / 1.72 %\n",
      "FilePackageCache<SystemInformation>: 0.01 'MB' / 0.04 %\n",
      "- Combined -: 0.51 'MB' / 2.36 %\n",
      "- Source files -: 21.56 'MB' / 100.0 %\n"
     ]
    }
   ],
   "source": [
    "# -- Investigate the created cache --\n",
    "# Here we print the created cache files to understand how big they are\n",
    "print(\"\\n-- Cache file statistics --\")\n",
    "index_functions.print_cache_file_statistics(cacheFilePaths_kongsberg)\n",
    "\n",
    "# Note, if this is the first time you run the code, \n",
    "# the cache files do not exist yet, and there are no statistics to print"
   ]
  },
  {
   "cell_type": "markdown",
   "metadata": {},
   "source": [
    "### 3. Load data with cache file paths"
   ]
  },
  {
   "cell_type": "code",
   "execution_count": 22,
   "metadata": {},
   "outputs": [
    {
     "name": "stdout",
     "output_type": "stream",
     "text": [
      "indexing files ⢀ 98% [00m:00s<00m:00s] [Found: 1168 datagrams in 16 files (21MB)]                                          \n",
      "Initializing datagramdata interface ⠈ 0% [00m:00s<00m:00s]           \n",
      "Initializing ping interface ⢀ 87% [00m:00s<00m:00s] [Done]                                              \n"
     ]
    }
   ],
   "source": [
    "# load the data with the cache files (if this is the first time you run it, the cache files will be created):\n",
    "from themachinethatgoesping.echosounders import kongsbergall\n",
    "fh = kongsbergall.KongsbergAllFileHandler(kongsberg_files, file_cache_paths = cacheFilePaths_kongsberg)\n"
   ]
  },
  {
   "cell_type": "markdown",
   "metadata": {},
   "source": [
    "### 4. Compare loading times"
   ]
  },
  {
   "cell_type": "code",
   "execution_count": 23,
   "metadata": {},
   "outputs": [
    {
     "name": "stdout",
     "output_type": "stream",
     "text": [
      "indexing files ⠐ 100% [00m:00s<00m:00s] [..7506659992808476.all (1/16)]                               \n",
      "indexing files ⠠ 100% [00m:00s<00m:00s] [..2155654265012286.wcd (16/16)]                                \n",
      "indexing files ⢀ 100% [00m:00s<00m:00s] [Found: 1168 datagrams in 16 files (21MB)]                                          \n",
      "Initializing datagramdata interface ⠈ 0% [00m:00s<00m:00s]           \n",
      "Initializing ping interface ⢀ 87% [00m:00s<00m:00s] [Done]                                              \n",
      "indexing files ⢀ 98% [00m:00s<00m:00s] [Found: 1168 datagrams in 16 files (21MB)]                                          \n",
      "Initializing datagramdata interface ⠈ 0% [00m:00s<00m:00s]           \n",
      "Initializing ping interface ⢀ 87% [00m:00s<00m:00s] [Done]                                              \n",
      "\n",
      "-- Compare loading times --\n",
      "Time without cache: 0.017 seconds\n",
      "Time with cache:    0.007 seconds\n"
     ]
    }
   ],
   "source": [
    "# compare loading times in repeated file loading\n",
    "t1 = time()\n",
    "# load data without using the cache\n",
    "fh = kongsbergall.KongsbergAllFileHandler(kongsberg_files)\n",
    "t2 = time()\n",
    "# load data using the cache files\n",
    "fh = kongsbergall.KongsbergAllFileHandler(kongsberg_files, file_cache_paths = cacheFilePaths_kongsberg)\n",
    "t3 = time()\n",
    "\n",
    "print(\"\\n-- Compare loading times --\")\n",
    "print(f\"Time without cache: {round(t2-t1,3)} seconds\")\n",
    "print(f\"Time with cache:    {round(t3-t2,3)} seconds\")"
   ]
  },
  {
   "cell_type": "markdown",
   "metadata": {},
   "source": [
    "### 4. Investigate cache files"
   ]
  },
  {
   "cell_type": "code",
   "execution_count": 24,
   "metadata": {},
   "outputs": [
    {
     "name": "stdout",
     "output_type": "stream",
     "text": [
      "\n",
      "-- Cache file statistics --\n",
      "FilePackageIndex: 0.03 'MB' / 0.15 %\n",
      "NavigationInterpolatorLatLon: 0.1 'MB' / 0.45 %\n",
      "FilePackageCache<RuntimeParameters>: 0.0 'MB' / 0.01 %\n",
      "FilePackageCache<WaterColumnInformation>: 0.37 'MB' / 1.72 %\n",
      "FilePackageCache<SystemInformation>: 0.01 'MB' / 0.04 %\n",
      "- Combined -: 0.51 'MB' / 2.36 %\n",
      "- Source files -: 21.56 'MB' / 100.0 %\n"
     ]
    }
   ],
   "source": [
    "# -- Investigate the created cache --\n",
    "# Here we print the created cache files to understand how big they are\n",
    "print(\"\\n-- Cache file statistics --\")\n",
    "index_functions.print_cache_file_statistics(cacheFilePaths_kongsberg)"
   ]
  },
  {
   "cell_type": "code",
   "execution_count": null,
   "metadata": {},
   "outputs": [],
   "source": []
  }
 ],
 "metadata": {
  "kernelspec": {
   "display_name": "Python 3 (ipykernel)",
   "language": "python",
   "name": "python3"
  },
  "language_info": {
   "codemirror_mode": {
    "name": "ipython",
    "version": 3
   },
   "file_extension": ".py",
   "mimetype": "text/x-python",
   "name": "python",
   "nbconvert_exporter": "python",
   "pygments_lexer": "ipython3",
   "version": "3.12.3"
  },
  "widgets": {
   "application/vnd.jupyter.widget-state+json": {
    "state": {},
    "version_major": 2,
    "version_minor": 0
   }
  }
 },
 "nbformat": 4,
 "nbformat_minor": 4
}
