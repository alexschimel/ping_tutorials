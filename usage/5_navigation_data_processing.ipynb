{
 "cells": [
  {
   "cell_type": "markdown",
   "id": "e713fe78-95cb-4943-a12b-f99297a52a72",
   "metadata": {},
   "source": [
    "# Interpolate and transform (rotate and translate) navigation data"
   ]
  },
  {
   "cell_type": "code",
   "execution_count": null,
   "id": "de080f22-6708-44b4-b235-2b28bb3e3836",
   "metadata": {},
   "outputs": [],
   "source": [
    "# import the navigation module\n",
    "import themachinethatgoesping.navigation as nav"
   ]
  },
  {
   "cell_type": "markdown",
   "id": "f538f328-3dcb-4558-a5e2-13dc65658a10",
   "metadata": {},
   "source": [
    "## Setup sensor configuration object\n",
    "This object stores the offsets of all used navigation sensors and of the target sensor (e.g. the MBES)."
   ]
  },
  {
   "cell_type": "code",
   "execution_count": null,
   "id": "17684d7e-8514-4645-a722-081cf474c710",
   "metadata": {},
   "outputs": [],
   "source": [
    "# initialize\n",
    "scs = nav.SensorConfiguration()\n",
    "\n",
    "# add sensor offsets\n",
    "scs.set_heading_source(\"compass\",9)                      # yaw\n",
    "scs.set_depth_source(\"altitude-meter\",0, 0, 1)           # x, y, z\n",
    "scs.set_position_source(\"gps\",1, 2, 3)        # x, y, z\n",
    "scs.set_attitude_source(\"IMU\",10, -10, -30)   # yaw, pitch, roll\n",
    "\n",
    "# add a target sensor with offsets\n",
    "scs.add_target(\n",
    "  target_id = \"mbes\",\n",
    "  x = 1,     # in m, positive forward\n",
    "  y = 2,     # in m, positive starboard\n",
    "  z = 3,     # in m, positive down\n",
    "  yaw = 0,   # in degrees, positive clockwise\n",
    "  pitch = 0, # in degrees, positive bow up\n",
    "  roll = 0)  # in degrees, positive port up\n",
    "\n",
    "# Note(1): The offsets are relative to the origin of the vessels coordinate system."
   ]
  },
  {
   "cell_type": "markdown",
   "id": "c7f8099b-918f-488b-a08c-0035333fe762",
   "metadata": {},
   "source": [
    "## Add navigation data\n",
    "First a NavigationInterpolator object must be initialzied.\n",
    "\n",
    "The user has two options: \n",
    "- NavigationInterpolatorLocal stores norhting and easting (in meter)\n",
    "- NavigationInterpolatorLatLon stores and interpolates latitudes and longitudes (in °)\n",
    "\n",
    "In this example we use latitude and longitude."
   ]
  },
  {
   "cell_type": "code",
   "execution_count": null,
   "id": "216456ba-0d3a-427f-837a-5048835872b1",
   "metadata": {},
   "outputs": [],
   "source": [
    "#example data\n",
    "# pos sys\n",
    "timestamps_possys = [10,   20  , 30]   # time since epoch (in s)\n",
    "latitude          = [54.0, 54.1, 54.2] # (in °)\n",
    "longitude         = [10.0, 10.1, 10.2] # (in °)\n",
    "\n",
    "# attitude sensor\n",
    "timestamps_attitude = [  1, 15, 22, 32] # time since epoch (in s)\n",
    "yaw                 = [-1 ,  1, 10,  5] # clockwise rotation (in °) (0° is north)\n",
    "pitch               = [0.1, -2,  1,  2] # positve is bow up (in °)\n",
    "roll                = [1  ,  2,  3, -4] # positive is port up (in °)"
   ]
  },
  {
   "cell_type": "code",
   "execution_count": null,
   "id": "1c8c0f24-a776-4e79-82f1-14a0bfb5edd6",
   "metadata": {},
   "outputs": [],
   "source": [
    "# initialize the NavigationInterpolator using the previously created sensor configuration\n",
    "navi = nav.NavigationInterpolatorLatLon(scs)\n",
    "\n",
    "# add data\n",
    "navi.set_data_position(timestamps_possys, latitude, longitude)\n",
    "navi.set_data_attitude(timestamps_attitude, pitch, roll)\n",
    "navi.set_data_heading(timestamps_attitude, yaw)\n",
    "\n",
    "# Note: data that are not set are assumed to be 0.0 (e.g depth in the above example)"
   ]
  },
  {
   "cell_type": "markdown",
   "id": "f06062b0-a5b2-4613-be52-2ba23fc4dc97",
   "metadata": {},
   "source": [
    "## Get sensor position and attitude for random ping time points\n",
    "\n",
    "The user can now retrieve the position and attitude of the registered target sensors (add_target) as Geolocation object. \n",
    "\n",
    "The returned type of Geolocation (GeolocationLocal or GeolocationLatLon) is determined by the type of the navigation interpolator (NavigationInterpolatorLocal or NavigationInterpolatorLatLon)"
   ]
  },
  {
   "cell_type": "code",
   "execution_count": null,
   "id": "8df85454-09cf-4d42-a675-55e470b99e28",
   "metadata": {},
   "outputs": [],
   "source": [
    "# get the location of the \"mbes\" at timestamp 25 (seconds since 1970)\n",
    "location_mbes = navi.compute_target_position(\"mbes\",timestamp=25)\n",
    "\n",
    "print(location_mbes)"
   ]
  },
  {
   "cell_type": "markdown",
   "id": "b1e9fc62-2330-4e01-8bad-df9a17004f64",
   "metadata": {},
   "source": [
    "Note: the compute_target_position time stamps can exceed the time stamps of data inside the NavigationInterpolator. \n",
    "The behavior is then determined by the extrapolation mode parameter (navi.set_extrapolation_mode()).\n",
    "This parameter can be:\n",
    "\n",
    "1. \"extrapolate\" (default): The data is extrapolated (linear continuation of the used akima spline)\n",
    "2. \"nearest\": The last (or respective first) data point is used\n",
    "3. \"fail\": An exception is thrown if the time stamp is outside the data range"
   ]
  },
  {
   "cell_type": "markdown",
   "id": "a6b83c86-5cbd-47dc-a141-d4d311e22f05",
   "metadata": {},
   "source": [
    "## UTM/LatLon conversion of Geolocation objects\n",
    "The NavigationInterpolatorLatLon object computes GeolocationLatLon objects.\n",
    "This stores latitude and longitude values in °.\n",
    "\n",
    "The NavigationInterpolatorLocal object computes GeolocationLocal objects.\n",
    "This stores northing and easting values in m (without zone or hemisphere information)"
   ]
  },
  {
   "cell_type": "code",
   "execution_count": null,
   "id": "f6fa3a14-6b7c-458f-8e67-4104e8fae794",
   "metadata": {},
   "outputs": [],
   "source": [
    "#location_mbes is a GeolocationLatLon object\n",
    "print(location_mbes)"
   ]
  },
  {
   "cell_type": "markdown",
   "id": "a343141f-f2d6-4f63-af5c-bef01df086f4",
   "metadata": {},
   "source": [
    "### ---\n",
    "\n",
    "The Geolocation objects are part of the 'datastructures' name space and allow for implicit conversion.\n",
    "\n",
    "GeolocationLatLon can be converted to GeolocationUTM:"
   ]
  },
  {
   "cell_type": "code",
   "execution_count": null,
   "id": "958978ae-5943-4dc6-99e5-c54caad7f8ce",
   "metadata": {},
   "outputs": [],
   "source": [
    "#convert this object to UTM\n",
    "location_mbes_utm = nav.datastructures.GeolocationUTM(location_mbes)\n",
    "print(location_mbes_utm)"
   ]
  },
  {
   "cell_type": "markdown",
   "id": "b539d959-61ec-42d0-96ae-e2d1d668f76d",
   "metadata": {},
   "source": [
    "Other conversion e.g. to/from GeolocationLocal are also possible. See the Geolocation module Api for details"
   ]
  },
  {
   "cell_type": "code",
   "execution_count": null,
   "id": "cfbd6dfc-c34b-4ddb-a56e-caaf191aaddf",
   "metadata": {},
   "outputs": [],
   "source": []
  }
 ],
 "metadata": {
  "kernelspec": {
   "display_name": "Python 3 (ipykernel)",
   "language": "python",
   "name": "python3"
  },
  "language_info": {
   "codemirror_mode": {
    "name": "ipython",
    "version": 3
   },
   "file_extension": ".py",
   "mimetype": "text/x-python",
   "name": "python",
   "nbconvert_exporter": "python",
   "pygments_lexer": "ipython3",
   "version": "3.12.1"
  },
  "vscode": {
   "interpreter": {
    "hash": "004b4bd4169e17fdcb87bfc8104a00130ef938c56c6e2bd3919919f77c66ace3"
   }
  },
  "widgets": {
   "application/vnd.jupyter.widget-state+json": {
    "state": {},
    "version_major": 2,
    "version_minor": 0
   }
  }
 },
 "nbformat": 4,
 "nbformat_minor": 5
}
