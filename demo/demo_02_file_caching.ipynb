{
 "cells": [
  {
   "cell_type": "markdown",
   "metadata": {},
   "source": [
    "### `themachinethatgoesping` tutorial series\n",
    "# Tutorial 2: Introduction\n",
    "\n",
    "In this tutorial, we show how to speed op repeated file opening using caching.\n",
    "\n",
    "`themachinethatgoesping` concepts covered:\n",
    "- \"File Handler\" object\n",
    "- data loading\n",
    "- file caching"
   ]
  },
  {
   "cell_type": "markdown",
   "metadata": {},
   "source": [
    "## Summary"
   ]
  },
  {
   "cell_type": "code",
   "execution_count": null,
   "metadata": {},
   "outputs": [],
   "source": [
    "%matplotlib widget\n",
    "import os\n",
    "\n",
    "from matplotlib import pyplot as plt\n",
    "from themachinethatgoesping.echosounders import index_functions\n",
    "from themachinethatgoesping.echosounders import kongsbergall\n",
    "from time import time\n",
    "\n",
    "folders = []\n",
    "folders.append(\"../unittest_data\")\n",
    "\n",
    "# list raw data files\n",
    "files = index_functions.find_files(folders, [\".all\",\"wcd\"])\n",
    "files.sort()\n",
    "\n",
    "# -- File caching --\n",
    "# So the steps where the same as in the previous demo, no we create cache directories using the get_cache_file_paths function\n",
    "cacheFilePaths = index_functions.get_cache_file_paths(file_paths=files)\n",
    "index_functions.print_cache_file_statistics(cacheFilePaths)\n",
    "index_functions.remove_name_from_cache(cacheFilePaths, \"FilePackageIndex\")\n",
    "# cacheFilePaths is a dictionary with the same keys as files, but the values are the paths to the cache files\n",
    "# Passing cacheFilePahts to the FileHandler causes the FileHandler to either \n",
    "# - create the cache files (if they don't exist) \n",
    "# - or load them (if they do exist)\n",
    "fh = kongsbergall.KongsbergAllFileHandler(files, file_cache_paths = cacheFilePaths)\n",
    "\n",
    "# compare loading times in repeated file loading\n",
    "t1 = time()\n",
    "# without using the cache\n",
    "fh = kongsbergall.KongsbergAllFileHandler(files)\n",
    "t2 = time()\n",
    "# using the cache\n",
    "fh = kongsbergall.KongsbergAllFileHandler(files, file_cache_paths = cacheFilePaths)\n",
    "t3 = time()\n",
    "\n",
    "print(\"\\n-- Compare loading times --\")\n",
    "print(f\"Time without cache: {round(t2-t1,3)} seconds\")\n",
    "print(f\"Time with cache:    {round(t3-t2,3)} seconds\")\n",
    "\n",
    "# -- Investigate the created cache --\n",
    "# Here we print the created cache files to understand how big they are\n",
    "print(\"\\n-- Cache file statistics --\")\n",
    "index_functions.print_cache_file_statistics(cacheFilePaths)"
   ]
  },
  {
   "cell_type": "code",
   "execution_count": null,
   "metadata": {},
   "outputs": [],
   "source": [
    "ping = fh.get_pings()[0]\n",
    "print(ping)"
   ]
  },
  {
   "cell_type": "markdown",
   "metadata": {},
   "source": [
    "## Step-by-step\n",
    "### 1. Find raw data files (see previous demo)"
   ]
  },
  {
   "cell_type": "code",
   "execution_count": null,
   "metadata": {},
   "outputs": [],
   "source": [
    "# define a list of folder(s) to search for raw data files\n",
    "# notes: \n",
    "#   - subdirectories will be searched as well\n",
    "#   - you can add multiple folders by appending them to the list\n",
    "#   - pair of files (e.g. .all and .wcd) don't have to be in the same folder\n",
    "folders = []\n",
    "folders.append(\"../unittest_data\")\n",
    "\n",
    "# find all Kongsberg files in the list of folders\n",
    "from themachinethatgoesping.echosounders import index_functions\n",
    "files = index_functions.find_files(folders, [\".all\",\"wcd\"])\n",
    "\n",
    "# show files found\n",
    "print(f\"The output is a {type(files)} object with {len(files)} elements:\")\n",
    "files.sort()\n",
    "for i, file in enumerate(files):\n",
    "    print(f\"({i}/{len(files)}) {file}\")"
   ]
  },
  {
   "cell_type": "markdown",
   "metadata": {},
   "source": [
    "### 2. Find/create cacheFilePaths data"
   ]
  },
  {
   "cell_type": "code",
   "execution_count": null,
   "metadata": {},
   "outputs": [],
   "source": [
    "# caching files when read the first time allows speeding-up loading next times\n",
    "\n",
    "# each file has a corresponding cache file, by default:\n",
    "cacheFilePaths = index_functions.get_cache_file_paths(file_paths=files)\n",
    "\n",
    "# By default, the cache files are stored in the same directory \n",
    "# as the notebook in a newly created \"cache\" folder\n",
    "\n",
    "for f, c in cacheFilePaths.items():\n",
    "    print(f\"File: {f}\")\n",
    "    print(f\"    Cache: {c}\")"
   ]
  },
  {
   "cell_type": "code",
   "execution_count": null,
   "metadata": {},
   "outputs": [],
   "source": [
    "# -- Investigate the created cache --\n",
    "# Here we print the created cache files to understand how big they are\n",
    "print(\"\\n-- Cache file statistics --\")\n",
    "index_functions.print_cache_file_statistics(cacheFilePaths)\n",
    "\n",
    "# Note, if this is the first time you run the code, \n",
    "# the cache files do not exist yet, and there are no statistics to print"
   ]
  },
  {
   "cell_type": "markdown",
   "metadata": {},
   "source": [
    "### 3. Load data with cache file paths"
   ]
  },
  {
   "cell_type": "code",
   "execution_count": null,
   "metadata": {},
   "outputs": [],
   "source": [
    "# load the data with the cache files (if this is the first time you run it, the cache files will be created):\n",
    "from themachinethatgoesping.echosounders import kongsbergall\n",
    "fh = kongsbergall.KongsbergAllFileHandler(files, file_cache_paths = cacheFilePaths)\n"
   ]
  },
  {
   "cell_type": "markdown",
   "metadata": {},
   "source": [
    "### 4. Compare loading times"
   ]
  },
  {
   "cell_type": "code",
   "execution_count": null,
   "metadata": {},
   "outputs": [],
   "source": [
    "# compare loading times in repeated file loading\n",
    "t1 = time()\n",
    "# load data without using the cache\n",
    "fh = kongsbergall.KongsbergAllFileHandler(files)\n",
    "t2 = time()\n",
    "# load data using the cache files\n",
    "fh = kongsbergall.KongsbergAllFileHandler(files, file_cache_paths = cacheFilePaths)\n",
    "t3 = time()\n",
    "\n",
    "print(\"\\n-- Compare loading times --\")\n",
    "print(f\"Time without cache: {round(t2-t1,3)} seconds\")\n",
    "print(f\"Time with cache:    {round(t3-t2,3)} seconds\")"
   ]
  },
  {
   "cell_type": "markdown",
   "metadata": {},
   "source": [
    "### 4. Investigate cache files"
   ]
  },
  {
   "cell_type": "code",
   "execution_count": null,
   "metadata": {},
   "outputs": [],
   "source": [
    "# -- Investigate the created cache --\n",
    "# Here we print the created cache files to understand how big they are\n",
    "print(\"\\n-- Cache file statistics --\")\n",
    "index_functions.print_cache_file_statistics(cacheFilePaths)"
   ]
  }
 ],
 "metadata": {
  "kernelspec": {
   "display_name": "Python 3 (ipykernel)",
   "language": "python",
   "name": "python3"
  },
  "language_info": {
   "codemirror_mode": {
    "name": "ipython",
    "version": 3
   },
   "file_extension": ".py",
   "mimetype": "text/x-python",
   "name": "python",
   "nbconvert_exporter": "python",
   "pygments_lexer": "ipython3",
   "version": "3.12.3"
  },
  "widgets": {
   "application/vnd.jupyter.widget-state+json": {
    "state": {},
    "version_major": 2,
    "version_minor": 0
   }
  }
 },
 "nbformat": 4,
 "nbformat_minor": 4
}
