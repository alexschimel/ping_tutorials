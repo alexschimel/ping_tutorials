{
 "cells": [
  {
   "cell_type": "markdown",
   "metadata": {},
   "source": [
    "### `themachinethatgoesping` tutorial series\n",
    "# Tutorial 2: Introduction\n",
    "\n",
    "In this tutorial, we show how to speed op repeated file opening using caching.\n",
    "\n",
    "`themachinethatgoesping` concepts covered:\n",
    "- \"File Handler\" object\n",
    "- data loading\n",
    "- file caching"
   ]
  },
  {
   "cell_type": "markdown",
   "metadata": {},
   "source": [
    "## Summary"
   ]
  },
  {
   "cell_type": "code",
   "execution_count": 1,
   "metadata": {},
   "outputs": [
    {
     "name": "stdout",
     "output_type": "stream",
     "text": [
      "Found 16 files\n",
      "FilePackageIndex: 0.03 'MB' / 0.15 %\n",
      "NavigationInterpolatorLatLon: 0.1 'MB' / 0.45 %\n",
      "FilePackageCache<RuntimeParameters>: 0.0 'MB' / 0.01 %\n",
      "FilePackageCache<WaterColumnInformation>: 0.37 'MB' / 1.72 %\n",
      "FilePackageCache<SystemInformation>: 0.01 'MB' / 0.04 %\n",
      "- Combined -: 0.51 'MB' / 2.36 %\n",
      "- Source files -: 21.56 'MB' / 100.0 %\n",
      "indexing files ⠄ 100% [00m:00s<00m:00s] [..2459809945665151.wcd (16/16)]                                \n",
      "indexing files ⠂ 100% [00m:00s<00m:00s] [Found: 1168 datagrams in 16 files (21MB)]                                          \n",
      "Initializing datagramdata interface ⠈ 0% [00m:00s<00m:00s]           \n",
      "Initializing ping interface ⢀ 87% [00m:00s<00m:00s] [Done]                                              \n",
      "indexing files ⠐ 100% [00m:00s<00m:00s] [..9880139284219668.all (1/16)]                               \n",
      "indexing files ⠠ 100% [00m:00s<00m:00s] [..2459809945665151.wcd (16/16)]                                \n",
      "indexing files ⢀ 100% [00m:00s<00m:00s] [Found: 1168 datagrams in 16 files (21MB)]                                          \n",
      "Initializing datagramdata interface ⠈ 0% [00m:00s<00m:00s]           \n",
      "Initializing ping interface ⢀ 87% [00m:00s<00m:00s] [Done]                                              \n",
      "indexing files ⢀ 98% [00m:00s<00m:00s] [Found: 1168 datagrams in 16 files (21MB)]                                          \n",
      "Initializing datagramdata interface ⠈ 0% [00m:00s<00m:00s]           \n",
      "Initializing ping interface ⢀ 87% [00m:00s<00m:00s] [Done]                                              \n",
      "\n",
      "-- Compare loading times --\n",
      "Time without cache: 0.013 seconds\n",
      "Time with cache:    0.008 seconds\n",
      "\n",
      "-- Cache file statistics --\n",
      "FilePackageIndex: 0.03 'MB' / 0.15 %\n",
      "NavigationInterpolatorLatLon: 0.1 'MB' / 0.45 %\n",
      "FilePackageCache<RuntimeParameters>: 0.0 'MB' / 0.01 %\n",
      "FilePackageCache<WaterColumnInformation>: 0.37 'MB' / 1.72 %\n",
      "FilePackageCache<SystemInformation>: 0.01 'MB' / 0.04 %\n",
      "- Combined -: 0.51 'MB' / 2.36 %\n",
      "- Source files -: 21.56 'MB' / 100.0 %\n"
     ]
    }
   ],
   "source": [
    "%matplotlib widget\n",
    "import os\n",
    "\n",
    "from matplotlib import pyplot as plt\n",
    "from themachinethatgoesping.echosounders import index_functions\n",
    "from themachinethatgoesping.echosounders import kongsbergall\n",
    "from time import time\n",
    "\n",
    "folders = []\n",
    "folders.append(\"../unittest_data\")\n",
    "\n",
    "# list raw data files\n",
    "files = index_functions.find_files(folders, [\".all\",\"wcd\"])\n",
    "files.sort()\n",
    "\n",
    "# -- File caching --\n",
    "# So the steps where the same as in the previous demo, no we create cache directories using the get_cache_file_paths function\n",
    "cacheFilePaths = index_functions.get_cache_file_paths(file_paths=files)\n",
    "index_functions.print_cache_file_statistics(cacheFilePaths)\n",
    "index_functions.remove_name_from_cache(cacheFilePaths, \"FilePackageIndex\")\n",
    "# cacheFilePaths is a dictionary with the same keys as files, but the values are the paths to the cache files\n",
    "# Passing cacheFilePahts to the FileHandler causes the FileHandler to either \n",
    "# - create the cache files (if they don't exist) \n",
    "# - or load them (if they do exist)\n",
    "fh = kongsbergall.KongsbergAllFileHandler(files, file_cache_paths = cacheFilePaths)\n",
    "\n",
    "# compare loading times in repeated file loading\n",
    "t1 = time()\n",
    "# without using the cache\n",
    "fh = kongsbergall.KongsbergAllFileHandler(files)\n",
    "t2 = time()\n",
    "# using the cache\n",
    "fh = kongsbergall.KongsbergAllFileHandler(files, file_cache_paths = cacheFilePaths)\n",
    "t3 = time()\n",
    "\n",
    "print(\"\\n-- Compare loading times --\")\n",
    "print(f\"Time without cache: {round(t2-t1,3)} seconds\")\n",
    "print(f\"Time with cache:    {round(t3-t2,3)} seconds\")\n",
    "\n",
    "# -- Investigate the created cache --\n",
    "# Here we print the created cache files to understand how big they are\n",
    "print(\"\\n-- Cache file statistics --\")\n",
    "index_functions.print_cache_file_statistics(cacheFilePaths)"
   ]
  },
  {
   "cell_type": "code",
   "execution_count": 2,
   "metadata": {},
   "outputs": [
    {
     "name": "stdout",
     "output_type": "stream",
     "text": [
      "KongsbergAllPing\n",
      "################\n",
      "-\n",
      "Ping infos \n",
      "-------------                                                                                                                                \n",
      "- Channel id:             TRX-210                                                                                                                          \n",
      "- Time info:              21/08/2012 17:09:42.36                                                                                                          \n",
      "                          [1345568982.359000]\n",
      "- Features:               .get_timestamp, .get_datetime, .get_channel_id, .get_sensor_configuration, .get_sensor_data_latlon, .get_geolocation             \n",
      "- Feature groups:         .bottom, .watercolumn                                                                                                            \n",
      "- Features(.bottom):      .bottom : .get_two_way_travel_times, .get_xyz, .get_tx_signal_parameters, .get_number_of_tx_sectors, .get_beam_crosstrack_angles \n",
      "- Features(.watercolumn): .watercolumn : .get_amplitudes, .get_tx_signal_parameters, .get_number_of_tx_sectors, .get_av, .get_bottom_range_samples        \n",
      "                          [Not:.get_sv, .get_calibration]\n",
      "\n",
      " Geolocation \n",
      "------------- \n",
      "- latitude:  78°31'36.2\"N  [ddd°mm',ss.s''N/S]\n",
      "- longitude: 10°17'17.7\"E  [ddd°mm',ss.s''E/W]\n",
      "- z:         3.78          [positive downwards, m]\n",
      "- yaw:       334.59        [90 ° at east]\n",
      "- pitch:     0.36          [° positive bow up]\n",
      "- roll:      -0.06         [° positive port up]\n"
     ]
    }
   ],
   "source": [
    "ping = fh.get_pings()[0]\n",
    "print(ping)"
   ]
  },
  {
   "cell_type": "markdown",
   "metadata": {},
   "source": [
    "## Step-by-step\n",
    "### 1. Find raw data files (see previous demo)"
   ]
  },
  {
   "cell_type": "code",
   "execution_count": 3,
   "metadata": {},
   "outputs": [
    {
     "name": "stdout",
     "output_type": "stream",
     "text": [
      "Found 16 files\n",
      "The output is a <class 'list'> object with 16 elements:\n",
      "(0/16) ../unittest_data/kongsberg/a/c/519880139284219668.all\n",
      "(1/16) ../unittest_data/kongsberg/a/c/519880139284219668.wcd\n",
      "(2/16) ../unittest_data/kongsberg/a/f/ALL/6516408039690331208.all\n",
      "(3/16) ../unittest_data/kongsberg/a/f/WCD/6516408039690331208.wcd\n",
      "(4/16) ../unittest_data/kongsberg/a/y/-1333931979274893952.all\n",
      "(5/16) ../unittest_data/kongsberg/a/y/-1333931979274893952.wcd\n",
      "(6/16) ../unittest_data/kongsberg/g/-7041029013895133878.all\n",
      "(7/16) ../unittest_data/kongsberg/g/-7041029013895133878.wcd\n",
      "(8/16) ../unittest_data/kongsberg/he/-3092155654265012286.all\n",
      "(9/16) ../unittest_data/kongsberg/he/-3092155654265012286.wcd\n",
      "(10/16) ../unittest_data/kongsberg/simon/7287506659992808476.all\n",
      "(11/16) ../unittest_data/kongsberg/simon/7287506659992808476.wcd\n",
      "(12/16) ../unittest_data/kongsberg/turbeams/6641182978793103390.all\n",
      "(13/16) ../unittest_data/kongsberg/turbeams/6641182978793103390.wcd\n",
      "(14/16) ../unittest_data/kongsberg/turbeams/9142459809945665151.all\n",
      "(15/16) ../unittest_data/kongsberg/turbeams/9142459809945665151.wcd\n"
     ]
    }
   ],
   "source": [
    "# define a list of folder(s) to search for raw data files\n",
    "# notes: \n",
    "#   - subdirectories will be searched as well\n",
    "#   - you can add multiple folders by appending them to the list\n",
    "#   - pair of files (e.g. .all and .wcd) don't have to be in the same folder\n",
    "folders = []\n",
    "folders.append(\"../unittest_data\")\n",
    "\n",
    "# find all Kongsberg files in the list of folders\n",
    "from themachinethatgoesping.echosounders import index_functions\n",
    "files = index_functions.find_files(folders, [\".all\",\"wcd\"])\n",
    "\n",
    "# show files found\n",
    "print(f\"The output is a {type(files)} object with {len(files)} elements:\")\n",
    "files.sort()\n",
    "for i, file in enumerate(files):\n",
    "    print(f\"({i}/{len(files)}) {file}\")"
   ]
  },
  {
   "cell_type": "markdown",
   "metadata": {},
   "source": [
    "### 2. Find/create cacheFilePaths data"
   ]
  },
  {
   "cell_type": "code",
   "execution_count": 4,
   "metadata": {},
   "outputs": [
    {
     "name": "stdout",
     "output_type": "stream",
     "text": [
      "File: ../unittest_data/kongsberg/a/c/519880139284219668.all\n",
      "    Cache: /ssd/src/themachinethatgoesping/tutorials/demo/cache/root_/ssd/src/themachinethatgoesping/tutorials/unittest_data/kongsberg/a/c/519880139284219668.all.tmtgp.cache\n",
      "File: ../unittest_data/kongsberg/a/c/519880139284219668.wcd\n",
      "    Cache: /ssd/src/themachinethatgoesping/tutorials/demo/cache/root_/ssd/src/themachinethatgoesping/tutorials/unittest_data/kongsberg/a/c/519880139284219668.wcd.tmtgp.cache\n",
      "File: ../unittest_data/kongsberg/a/f/ALL/6516408039690331208.all\n",
      "    Cache: /ssd/src/themachinethatgoesping/tutorials/demo/cache/root_/ssd/src/themachinethatgoesping/tutorials/unittest_data/kongsberg/a/f/ALL/6516408039690331208.all.tmtgp.cache\n",
      "File: ../unittest_data/kongsberg/a/f/WCD/6516408039690331208.wcd\n",
      "    Cache: /ssd/src/themachinethatgoesping/tutorials/demo/cache/root_/ssd/src/themachinethatgoesping/tutorials/unittest_data/kongsberg/a/f/WCD/6516408039690331208.wcd.tmtgp.cache\n",
      "File: ../unittest_data/kongsberg/a/y/-1333931979274893952.all\n",
      "    Cache: /ssd/src/themachinethatgoesping/tutorials/demo/cache/root_/ssd/src/themachinethatgoesping/tutorials/unittest_data/kongsberg/a/y/-1333931979274893952.all.tmtgp.cache\n",
      "File: ../unittest_data/kongsberg/a/y/-1333931979274893952.wcd\n",
      "    Cache: /ssd/src/themachinethatgoesping/tutorials/demo/cache/root_/ssd/src/themachinethatgoesping/tutorials/unittest_data/kongsberg/a/y/-1333931979274893952.wcd.tmtgp.cache\n",
      "File: ../unittest_data/kongsberg/g/-7041029013895133878.all\n",
      "    Cache: /ssd/src/themachinethatgoesping/tutorials/demo/cache/root_/ssd/src/themachinethatgoesping/tutorials/unittest_data/kongsberg/g/-7041029013895133878.all.tmtgp.cache\n",
      "File: ../unittest_data/kongsberg/g/-7041029013895133878.wcd\n",
      "    Cache: /ssd/src/themachinethatgoesping/tutorials/demo/cache/root_/ssd/src/themachinethatgoesping/tutorials/unittest_data/kongsberg/g/-7041029013895133878.wcd.tmtgp.cache\n",
      "File: ../unittest_data/kongsberg/he/-3092155654265012286.all\n",
      "    Cache: /ssd/src/themachinethatgoesping/tutorials/demo/cache/root_/ssd/src/themachinethatgoesping/tutorials/unittest_data/kongsberg/he/-3092155654265012286.all.tmtgp.cache\n",
      "File: ../unittest_data/kongsberg/he/-3092155654265012286.wcd\n",
      "    Cache: /ssd/src/themachinethatgoesping/tutorials/demo/cache/root_/ssd/src/themachinethatgoesping/tutorials/unittest_data/kongsberg/he/-3092155654265012286.wcd.tmtgp.cache\n",
      "File: ../unittest_data/kongsberg/simon/7287506659992808476.all\n",
      "    Cache: /ssd/src/themachinethatgoesping/tutorials/demo/cache/root_/ssd/src/themachinethatgoesping/tutorials/unittest_data/kongsberg/simon/7287506659992808476.all.tmtgp.cache\n",
      "File: ../unittest_data/kongsberg/simon/7287506659992808476.wcd\n",
      "    Cache: /ssd/src/themachinethatgoesping/tutorials/demo/cache/root_/ssd/src/themachinethatgoesping/tutorials/unittest_data/kongsberg/simon/7287506659992808476.wcd.tmtgp.cache\n",
      "File: ../unittest_data/kongsberg/turbeams/6641182978793103390.all\n",
      "    Cache: /ssd/src/themachinethatgoesping/tutorials/demo/cache/root_/ssd/src/themachinethatgoesping/tutorials/unittest_data/kongsberg/turbeams/6641182978793103390.all.tmtgp.cache\n",
      "File: ../unittest_data/kongsberg/turbeams/6641182978793103390.wcd\n",
      "    Cache: /ssd/src/themachinethatgoesping/tutorials/demo/cache/root_/ssd/src/themachinethatgoesping/tutorials/unittest_data/kongsberg/turbeams/6641182978793103390.wcd.tmtgp.cache\n",
      "File: ../unittest_data/kongsberg/turbeams/9142459809945665151.all\n",
      "    Cache: /ssd/src/themachinethatgoesping/tutorials/demo/cache/root_/ssd/src/themachinethatgoesping/tutorials/unittest_data/kongsberg/turbeams/9142459809945665151.all.tmtgp.cache\n",
      "File: ../unittest_data/kongsberg/turbeams/9142459809945665151.wcd\n",
      "    Cache: /ssd/src/themachinethatgoesping/tutorials/demo/cache/root_/ssd/src/themachinethatgoesping/tutorials/unittest_data/kongsberg/turbeams/9142459809945665151.wcd.tmtgp.cache\n"
     ]
    }
   ],
   "source": [
    "# caching files when read the first time allows speeding-up loading next times\n",
    "\n",
    "# each file has a corresponding cache file, by default:\n",
    "cacheFilePaths = index_functions.get_cache_file_paths(file_paths=files)\n",
    "\n",
    "# By default, the cache files are stored in the same directory \n",
    "# as the notebook in a newly created \"cache\" folder\n",
    "\n",
    "for f, c in cacheFilePaths.items():\n",
    "    print(f\"File: {f}\")\n",
    "    print(f\"    Cache: {c}\")"
   ]
  },
  {
   "cell_type": "code",
   "execution_count": 5,
   "metadata": {},
   "outputs": [
    {
     "name": "stdout",
     "output_type": "stream",
     "text": [
      "\n",
      "-- Cache file statistics --\n",
      "FilePackageIndex: 0.03 'MB' / 0.15 %\n",
      "NavigationInterpolatorLatLon: 0.1 'MB' / 0.45 %\n",
      "FilePackageCache<RuntimeParameters>: 0.0 'MB' / 0.01 %\n",
      "FilePackageCache<WaterColumnInformation>: 0.37 'MB' / 1.72 %\n",
      "FilePackageCache<SystemInformation>: 0.01 'MB' / 0.04 %\n",
      "- Combined -: 0.51 'MB' / 2.36 %\n",
      "- Source files -: 21.56 'MB' / 100.0 %\n"
     ]
    }
   ],
   "source": [
    "# -- Investigate the created cache --\n",
    "# Here we print the created cache files to understand how big they are\n",
    "print(\"\\n-- Cache file statistics --\")\n",
    "index_functions.print_cache_file_statistics(cacheFilePaths)\n",
    "\n",
    "# Note, if this is the first time you run the code, \n",
    "# the cache files do not exist yet, and there are no statistics to print"
   ]
  },
  {
   "cell_type": "markdown",
   "metadata": {},
   "source": [
    "### 3. Load data with cache file paths"
   ]
  },
  {
   "cell_type": "code",
   "execution_count": 6,
   "metadata": {},
   "outputs": [
    {
     "name": "stdout",
     "output_type": "stream",
     "text": [
      "indexing files ⢀ 98% [00m:00s<00m:00s] [Found: 1168 datagrams in 16 files (21MB)]                                          \n",
      "Initializing datagramdata interface ⠈ 0% [00m:00s<00m:00s]           \n",
      "Initializing ping interface ⢀ 87% [00m:00s<00m:00s] [Done]                                              \n"
     ]
    }
   ],
   "source": [
    "# load the data with the cache files (if this is the first time you run it, the cache files will be created):\n",
    "from themachinethatgoesping.echosounders import kongsbergall\n",
    "fh = kongsbergall.KongsbergAllFileHandler(files, file_cache_paths = cacheFilePaths)\n"
   ]
  },
  {
   "cell_type": "markdown",
   "metadata": {},
   "source": [
    "### 4. Compare loading times"
   ]
  },
  {
   "cell_type": "code",
   "execution_count": 7,
   "metadata": {},
   "outputs": [
    {
     "name": "stdout",
     "output_type": "stream",
     "text": [
      "indexing files ⠐ 100% [00m:00s<00m:00s] [..9880139284219668.all (1/16)]                               \n",
      "indexing files ⠠ 100% [00m:00s<00m:00s] [..2459809945665151.wcd (16/16)]                                \n",
      "indexing files ⢀ 100% [00m:00s<00m:00s] [Found: 1168 datagrams in 16 files (21MB)]                                          \n",
      "Initializing datagramdata interface ⠈ 0% [00m:00s<00m:00s]           \n",
      "Initializing ping interface ⢀ 87% [00m:00s<00m:00s] [Done]                                              \n",
      "indexing files ⢀ 98% [00m:00s<00m:00s] [Found: 1168 datagrams in 16 files (21MB)]                                          \n",
      "Initializing datagramdata interface ⠈ 0% [00m:00s<00m:00s]           \n",
      "Initializing ping interface ⢀ 87% [00m:00s<00m:00s] [Done]                                              \n",
      "\n",
      "-- Compare loading times --\n",
      "Time without cache: 0.014 seconds\n",
      "Time with cache:    0.008 seconds\n"
     ]
    }
   ],
   "source": [
    "# compare loading times in repeated file loading\n",
    "t1 = time()\n",
    "# load data without using the cache\n",
    "fh = kongsbergall.KongsbergAllFileHandler(files)\n",
    "t2 = time()\n",
    "# load data using the cache files\n",
    "fh = kongsbergall.KongsbergAllFileHandler(files, file_cache_paths = cacheFilePaths)\n",
    "t3 = time()\n",
    "\n",
    "print(\"\\n-- Compare loading times --\")\n",
    "print(f\"Time without cache: {round(t2-t1,3)} seconds\")\n",
    "print(f\"Time with cache:    {round(t3-t2,3)} seconds\")"
   ]
  },
  {
   "cell_type": "markdown",
   "metadata": {},
   "source": [
    "### 4. Investigate cache files"
   ]
  },
  {
   "cell_type": "code",
   "execution_count": 8,
   "metadata": {},
   "outputs": [
    {
     "name": "stdout",
     "output_type": "stream",
     "text": [
      "\n",
      "-- Cache file statistics --\n",
      "FilePackageIndex: 0.03 'MB' / 0.15 %\n",
      "NavigationInterpolatorLatLon: 0.1 'MB' / 0.45 %\n",
      "FilePackageCache<RuntimeParameters>: 0.0 'MB' / 0.01 %\n",
      "FilePackageCache<WaterColumnInformation>: 0.37 'MB' / 1.72 %\n",
      "FilePackageCache<SystemInformation>: 0.01 'MB' / 0.04 %\n",
      "- Combined -: 0.51 'MB' / 2.36 %\n",
      "- Source files -: 21.56 'MB' / 100.0 %\n"
     ]
    }
   ],
   "source": [
    "# -- Investigate the created cache --\n",
    "# Here we print the created cache files to understand how big they are\n",
    "print(\"\\n-- Cache file statistics --\")\n",
    "index_functions.print_cache_file_statistics(cacheFilePaths)"
   ]
  }
 ],
 "metadata": {
  "kernelspec": {
   "display_name": "Python 3 (ipykernel)",
   "language": "python",
   "name": "python3"
  },
  "language_info": {
   "codemirror_mode": {
    "name": "ipython",
    "version": 3
   },
   "file_extension": ".py",
   "mimetype": "text/x-python",
   "name": "python",
   "nbconvert_exporter": "python",
   "pygments_lexer": "ipython3",
   "version": "3.12.3"
  },
  "widgets": {
   "application/vnd.jupyter.widget-state+json": {
    "state": {},
    "version_major": 2,
    "version_minor": 0
   }
  }
 },
 "nbformat": 4,
 "nbformat_minor": 4
}
