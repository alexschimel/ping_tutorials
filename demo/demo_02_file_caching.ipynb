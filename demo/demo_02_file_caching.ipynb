{
 "cells": [
  {
   "cell_type": "markdown",
   "metadata": {},
   "source": [
    "### `themachinethatgoesping` tutorial series\n",
    "# Tutorial 2: Introduction\n",
    "\n",
    "In this tutorial, we show how to speed op repeated file opening using caching.\n",
    "\n",
    "`themachinethatgoesping` concepts covered:\n",
    "- \"File Handler\" object\n",
    "- data loading\n",
    "- file caching"
   ]
  },
  {
   "cell_type": "markdown",
   "metadata": {},
   "source": [
    "## Summary"
   ]
  },
  {
   "cell_type": "code",
   "execution_count": 1,
   "metadata": {
    "execution": {
     "iopub.execute_input": "2024-10-25T10:55:26.683406Z",
     "iopub.status.busy": "2024-10-25T10:55:26.683167Z",
     "iopub.status.idle": "2024-10-25T10:55:27.186195Z",
     "shell.execute_reply": "2024-10-25T10:55:27.185930Z",
     "shell.execute_reply.started": "2024-10-25T10:55:26.683387Z"
    }
   },
   "outputs": [
    {
     "name": "stdout",
     "output_type": "stream",
     "text": [
      "Found 18 files\n",
      "FilePackageIndex: 0.04 'MB' / 0.15 %\n",
      "NavigationInterpolatorLatLon: 0.09 'MB' / 0.33 %\n",
      "FilePackageCache<WaterColumnInformation>: 0.51 'MB' / 1.93 %\n",
      "FilePackageCache<SystemInformation>: 0.01 'MB' / 0.04 %\n",
      "- Combined -: 0.65 'MB' / 2.46 %\n",
      "- Source files -: 26.58 'MB' / 100.0 %\n",
      "indexing files ⠐ 100% [00m:00s<00m:00s] [..6328335172073169.all (1/18)]                               \n",
      "indexing files ⠠ 100% [00m:00s<00m:00s] [..3858047591065953.wcd (18/18)]                                \n",
      "indexing files ⢀ 100% [00m:00s<00m:00s] [Found: 1509 datagrams in 18 files (26MB)]                                          \n",
      "Initializing ping interface ⢀ 90% [00m:00s<00m:00s] [Done]                                              \n",
      "indexing files ⠐ 100% [00m:00s<00m:00s] [..6328335172073169.all (1/18)]                               \n",
      "indexing files ⠠ 100% [00m:00s<00m:00s] [..3858047591065953.wcd (18/18)]                                \n",
      "indexing files ⢀ 100% [00m:00s<00m:00s] [Found: 1509 datagrams in 18 files (26MB)]                                          \n",
      "Initializing ping interface ⢀ 90% [00m:00s<00m:00s] [Done]                                              \n",
      "indexing files ⢀ 99% [00m:00s<00m:00s] [Found: 1509 datagrams in 18 files (26MB)]                                          \n",
      "Initializing ping interface ⢀ 90% [00m:00s<00m:00s] [Done]                                              \n",
      "\n",
      "-- Compare loading times --\n",
      "Time without cache: 0.016 seconds\n",
      "Time with cache:    0.01 seconds\n",
      "\n",
      "-- Cache file statistics --\n",
      "FilePackageIndex: 0.04 'MB' / 0.15 %\n",
      "NavigationInterpolatorLatLon: 0.09 'MB' / 0.33 %\n",
      "FilePackageCache<WaterColumnInformation>: 0.51 'MB' / 1.93 %\n",
      "FilePackageCache<SystemInformation>: 0.01 'MB' / 0.04 %\n",
      "- Combined -: 0.65 'MB' / 2.46 %\n",
      "- Source files -: 26.58 'MB' / 100.0 %\n"
     ]
    },
    {
     "name": "stderr",
     "output_type": "stream",
     "text": [
      "WARNING: get_depth_sensor_offsets: Only DSH (Depth (pressure) sensor heave) == NI is supported yet, but DSH is IN\n",
      "WARNING: get_depth_sensor_offsets: Only DSH (Depth (pressure) sensor heave) == NI is supported yet, but DSH is IN\n",
      "WARNING: get_depth_sensor_offsets: Only DSH (Depth (pressure) sensor heave) == NI is supported yet, but DSH is IN\n",
      "WARNING: get_depth_sensor_offsets: Only DSH (Depth (pressure) sensor heave) == NI is supported yet, but DSH is IN\n",
      "WARNING: get_depth_sensor_offsets: Only DSH (Depth (pressure) sensor heave) == NI is supported yet, but DSH is IN\n",
      "WARNING: get_depth_sensor_offsets: Only DSH (Depth (pressure) sensor heave) == NI is supported yet, but DSH is IN\n"
     ]
    }
   ],
   "source": [
    "%matplotlib widget\n",
    "import os\n",
    "\n",
    "from matplotlib import pyplot as plt\n",
    "from themachinethatgoesping.echosounders import index_functions\n",
    "from themachinethatgoesping.echosounders import kongsbergall\n",
    "from time import time\n",
    "\n",
    "folders = []\n",
    "folders.append(\"../unittest_data\")\n",
    "\n",
    "# list raw data files\n",
    "files = index_functions.find_files(folders, [\".all\",\"wcd\"])\n",
    "files.sort()\n",
    "\n",
    "# -- File caching --\n",
    "# So the steps where the same as in the previous demo, no we create cache directories using the get_cache_file_paths function\n",
    "cacheFilePaths = index_functions.get_cache_file_paths(file_paths=files)\n",
    "index_functions.print_cache_file_statistics(cacheFilePaths)\n",
    "index_functions.remove_name_from_cache(cacheFilePaths, \"FilePackageIndex\")\n",
    "# cacheFilePaths is a dictionary with the same keys as files, but the values are the paths to the cache files\n",
    "# Passing cacheFilePahts to the FileHandler causes the FileHandler to either \n",
    "# - create the cache files (if they don't exist) \n",
    "# - or load them (if they do exist)\n",
    "fh = kongsbergall.KongsbergAllFileHandler(files, file_cache_paths = cacheFilePaths)\n",
    "\n",
    "# compare loading times in repeated file loading\n",
    "t1 = time()\n",
    "# without using the cache\n",
    "fh = kongsbergall.KongsbergAllFileHandler(files)\n",
    "t2 = time()\n",
    "# using the cache\n",
    "fh = kongsbergall.KongsbergAllFileHandler(files, file_cache_paths = cacheFilePaths)\n",
    "t3 = time()\n",
    "\n",
    "print(\"\\n-- Compare loading times --\")\n",
    "print(f\"Time without cache: {round(t2-t1,3)} seconds\")\n",
    "print(f\"Time with cache:    {round(t3-t2,3)} seconds\")\n",
    "\n",
    "# -- Investigate the created cache --\n",
    "# Here we print the created cache files to understand how big they are\n",
    "print(\"\\n-- Cache file statistics --\")\n",
    "index_functions.print_cache_file_statistics(cacheFilePaths)"
   ]
  },
  {
   "cell_type": "markdown",
   "metadata": {},
   "source": [
    "## Step-by-step\n",
    "### 1. Find raw data files (see previous demo)"
   ]
  },
  {
   "cell_type": "code",
   "execution_count": 2,
   "metadata": {
    "execution": {
     "iopub.execute_input": "2024-10-25T10:55:27.186718Z",
     "iopub.status.busy": "2024-10-25T10:55:27.186520Z",
     "iopub.status.idle": "2024-10-25T10:55:27.192642Z",
     "shell.execute_reply": "2024-10-25T10:55:27.192317Z",
     "shell.execute_reply.started": "2024-10-25T10:55:27.186707Z"
    }
   },
   "outputs": [
    {
     "name": "stdout",
     "output_type": "stream",
     "text": [
      "Found 18 files\n",
      "The output is a <class 'list'> object with 18 elements:\n",
      "(0/18) ../unittest_data/kongsberg/a/c/8136328335172073169.all\n",
      "(1/18) ../unittest_data/kongsberg/a/c/8136328335172073169.wcd\n",
      "(2/18) ../unittest_data/kongsberg/a/f/ALL/7940434004712898291.all\n",
      "(3/18) ../unittest_data/kongsberg/a/f/WCD/7940434004712898291.wcd\n",
      "(4/18) ../unittest_data/kongsberg/a/y/-6430362035178526648.all\n",
      "(5/18) ../unittest_data/kongsberg/a/y/-6430362035178526648.wcd\n",
      "(6/18) ../unittest_data/kongsberg/e/-7731314027977193437.all\n",
      "(7/18) ../unittest_data/kongsberg/e/76411649188412698.all\n",
      "(8/18) ../unittest_data/kongsberg/g/-2784638328592650682.all\n",
      "(9/18) ../unittest_data/kongsberg/g/-2784638328592650682.wcd\n",
      "(10/18) ../unittest_data/kongsberg/he/-3740211369500593285.all\n",
      "(11/18) ../unittest_data/kongsberg/he/-3740211369500593285.wcd\n",
      "(12/18) ../unittest_data/kongsberg/simon/-4564033532462129271.all\n",
      "(13/18) ../unittest_data/kongsberg/simon/-4564033532462129271.wcd\n",
      "(14/18) ../unittest_data/kongsberg/turbeams/-7867389334864073581.all\n",
      "(15/18) ../unittest_data/kongsberg/turbeams/-7867389334864073581.wcd\n",
      "(16/18) ../unittest_data/kongsberg/turbeams/-943858047591065953.all\n",
      "(17/18) ../unittest_data/kongsberg/turbeams/-943858047591065953.wcd\n"
     ]
    }
   ],
   "source": [
    "# define a list of folder(s) to search for raw data files\n",
    "# notes: \n",
    "#   - subdirectories will be searched as well\n",
    "#   - you can add multiple folders by appending them to the list\n",
    "#   - pair of files (e.g. .all and .wcd) don't have to be in the same folder\n",
    "folders = []\n",
    "folders.append(\"../unittest_data\")\n",
    "\n",
    "# find all Kongsberg files in the list of folders\n",
    "from themachinethatgoesping.echosounders import index_functions\n",
    "files = index_functions.find_files(folders, [\".all\",\"wcd\"])\n",
    "\n",
    "# show files found\n",
    "print(f\"The output is a {type(files)} object with {len(files)} elements:\")\n",
    "files.sort()\n",
    "for i, file in enumerate(files):\n",
    "    print(f\"({i}/{len(files)}) {file}\")"
   ]
  },
  {
   "cell_type": "markdown",
   "metadata": {},
   "source": [
    "### 2. Find/create cacheFilePaths data"
   ]
  },
  {
   "cell_type": "code",
   "execution_count": 3,
   "metadata": {
    "execution": {
     "iopub.execute_input": "2024-10-25T10:55:27.193153Z",
     "iopub.status.busy": "2024-10-25T10:55:27.193003Z",
     "iopub.status.idle": "2024-10-25T10:55:27.197698Z",
     "shell.execute_reply": "2024-10-25T10:55:27.197438Z",
     "shell.execute_reply.started": "2024-10-25T10:55:27.193142Z"
    }
   },
   "outputs": [
    {
     "name": "stdout",
     "output_type": "stream",
     "text": [
      "File: ../unittest_data/kongsberg/a/c/8136328335172073169.all\n",
      "    Cache: /ssd/src/themachinethatgoesping/tutorials/demo/cache/root_/ssd/src/themachinethatgoesping/tutorials/unittest_data/kongsberg/a/c/8136328335172073169.all.tmtgp.cache\n",
      "File: ../unittest_data/kongsberg/a/c/8136328335172073169.wcd\n",
      "    Cache: /ssd/src/themachinethatgoesping/tutorials/demo/cache/root_/ssd/src/themachinethatgoesping/tutorials/unittest_data/kongsberg/a/c/8136328335172073169.wcd.tmtgp.cache\n",
      "File: ../unittest_data/kongsberg/a/f/ALL/7940434004712898291.all\n",
      "    Cache: /ssd/src/themachinethatgoesping/tutorials/demo/cache/root_/ssd/src/themachinethatgoesping/tutorials/unittest_data/kongsberg/a/f/ALL/7940434004712898291.all.tmtgp.cache\n",
      "File: ../unittest_data/kongsberg/a/f/WCD/7940434004712898291.wcd\n",
      "    Cache: /ssd/src/themachinethatgoesping/tutorials/demo/cache/root_/ssd/src/themachinethatgoesping/tutorials/unittest_data/kongsberg/a/f/WCD/7940434004712898291.wcd.tmtgp.cache\n",
      "File: ../unittest_data/kongsberg/a/y/-6430362035178526648.all\n",
      "    Cache: /ssd/src/themachinethatgoesping/tutorials/demo/cache/root_/ssd/src/themachinethatgoesping/tutorials/unittest_data/kongsberg/a/y/-6430362035178526648.all.tmtgp.cache\n",
      "File: ../unittest_data/kongsberg/a/y/-6430362035178526648.wcd\n",
      "    Cache: /ssd/src/themachinethatgoesping/tutorials/demo/cache/root_/ssd/src/themachinethatgoesping/tutorials/unittest_data/kongsberg/a/y/-6430362035178526648.wcd.tmtgp.cache\n",
      "File: ../unittest_data/kongsberg/e/-7731314027977193437.all\n",
      "    Cache: /ssd/src/themachinethatgoesping/tutorials/demo/cache/root_/ssd/src/themachinethatgoesping/tutorials/unittest_data/kongsberg/e/-7731314027977193437.all.tmtgp.cache\n",
      "File: ../unittest_data/kongsberg/e/76411649188412698.all\n",
      "    Cache: /ssd/src/themachinethatgoesping/tutorials/demo/cache/root_/ssd/src/themachinethatgoesping/tutorials/unittest_data/kongsberg/e/76411649188412698.all.tmtgp.cache\n",
      "File: ../unittest_data/kongsberg/g/-2784638328592650682.all\n",
      "    Cache: /ssd/src/themachinethatgoesping/tutorials/demo/cache/root_/ssd/src/themachinethatgoesping/tutorials/unittest_data/kongsberg/g/-2784638328592650682.all.tmtgp.cache\n",
      "File: ../unittest_data/kongsberg/g/-2784638328592650682.wcd\n",
      "    Cache: /ssd/src/themachinethatgoesping/tutorials/demo/cache/root_/ssd/src/themachinethatgoesping/tutorials/unittest_data/kongsberg/g/-2784638328592650682.wcd.tmtgp.cache\n",
      "File: ../unittest_data/kongsberg/he/-3740211369500593285.all\n",
      "    Cache: /ssd/src/themachinethatgoesping/tutorials/demo/cache/root_/ssd/src/themachinethatgoesping/tutorials/unittest_data/kongsberg/he/-3740211369500593285.all.tmtgp.cache\n",
      "File: ../unittest_data/kongsberg/he/-3740211369500593285.wcd\n",
      "    Cache: /ssd/src/themachinethatgoesping/tutorials/demo/cache/root_/ssd/src/themachinethatgoesping/tutorials/unittest_data/kongsberg/he/-3740211369500593285.wcd.tmtgp.cache\n",
      "File: ../unittest_data/kongsberg/simon/-4564033532462129271.all\n",
      "    Cache: /ssd/src/themachinethatgoesping/tutorials/demo/cache/root_/ssd/src/themachinethatgoesping/tutorials/unittest_data/kongsberg/simon/-4564033532462129271.all.tmtgp.cache\n",
      "File: ../unittest_data/kongsberg/simon/-4564033532462129271.wcd\n",
      "    Cache: /ssd/src/themachinethatgoesping/tutorials/demo/cache/root_/ssd/src/themachinethatgoesping/tutorials/unittest_data/kongsberg/simon/-4564033532462129271.wcd.tmtgp.cache\n",
      "File: ../unittest_data/kongsberg/turbeams/-7867389334864073581.all\n",
      "    Cache: /ssd/src/themachinethatgoesping/tutorials/demo/cache/root_/ssd/src/themachinethatgoesping/tutorials/unittest_data/kongsberg/turbeams/-7867389334864073581.all.tmtgp.cache\n",
      "File: ../unittest_data/kongsberg/turbeams/-7867389334864073581.wcd\n",
      "    Cache: /ssd/src/themachinethatgoesping/tutorials/demo/cache/root_/ssd/src/themachinethatgoesping/tutorials/unittest_data/kongsberg/turbeams/-7867389334864073581.wcd.tmtgp.cache\n",
      "File: ../unittest_data/kongsberg/turbeams/-943858047591065953.all\n",
      "    Cache: /ssd/src/themachinethatgoesping/tutorials/demo/cache/root_/ssd/src/themachinethatgoesping/tutorials/unittest_data/kongsberg/turbeams/-943858047591065953.all.tmtgp.cache\n",
      "File: ../unittest_data/kongsberg/turbeams/-943858047591065953.wcd\n",
      "    Cache: /ssd/src/themachinethatgoesping/tutorials/demo/cache/root_/ssd/src/themachinethatgoesping/tutorials/unittest_data/kongsberg/turbeams/-943858047591065953.wcd.tmtgp.cache\n"
     ]
    }
   ],
   "source": [
    "# caching files when read the first time allows speeding-up loading next times\n",
    "\n",
    "# each file has a corresponding cache file, by default:\n",
    "cacheFilePaths = index_functions.get_cache_file_paths(file_paths=files)\n",
    "\n",
    "# By default, the cache files are stored in the same directory \n",
    "# as the notebook in a newly created \"cache\" folder\n",
    "\n",
    "for f, c in cacheFilePaths.items():\n",
    "    print(f\"File: {f}\")\n",
    "    print(f\"    Cache: {c}\")"
   ]
  },
  {
   "cell_type": "code",
   "execution_count": 4,
   "metadata": {
    "execution": {
     "iopub.execute_input": "2024-10-25T10:55:27.198108Z",
     "iopub.status.busy": "2024-10-25T10:55:27.197990Z",
     "iopub.status.idle": "2024-10-25T10:55:27.250679Z",
     "shell.execute_reply": "2024-10-25T10:55:27.250391Z",
     "shell.execute_reply.started": "2024-10-25T10:55:27.198099Z"
    }
   },
   "outputs": [
    {
     "name": "stdout",
     "output_type": "stream",
     "text": [
      "\n",
      "-- Cache file statistics --\n",
      "FilePackageIndex: 0.04 'MB' / 0.15 %\n",
      "NavigationInterpolatorLatLon: 0.09 'MB' / 0.33 %\n",
      "FilePackageCache<WaterColumnInformation>: 0.51 'MB' / 1.93 %\n",
      "FilePackageCache<SystemInformation>: 0.01 'MB' / 0.04 %\n",
      "- Combined -: 0.65 'MB' / 2.46 %\n",
      "- Source files -: 26.58 'MB' / 100.0 %\n"
     ]
    }
   ],
   "source": [
    "# -- Investigate the created cache --\n",
    "# Here we print the created cache files to understand how big they are\n",
    "print(\"\\n-- Cache file statistics --\")\n",
    "index_functions.print_cache_file_statistics(cacheFilePaths)\n",
    "\n",
    "# Note, if this is the first time you run the code, \n",
    "# the cache files do not exist yet, and there are no statistics to print"
   ]
  },
  {
   "cell_type": "markdown",
   "metadata": {},
   "source": [
    "### 3. Load data with cache file paths"
   ]
  },
  {
   "cell_type": "code",
   "execution_count": 5,
   "metadata": {
    "execution": {
     "iopub.execute_input": "2024-10-25T10:55:27.251168Z",
     "iopub.status.busy": "2024-10-25T10:55:27.251028Z",
     "iopub.status.idle": "2024-10-25T10:55:27.263253Z",
     "shell.execute_reply": "2024-10-25T10:55:27.262976Z",
     "shell.execute_reply.started": "2024-10-25T10:55:27.251158Z"
    }
   },
   "outputs": [
    {
     "name": "stdout",
     "output_type": "stream",
     "text": [
      "indexing files ⢀ 99% [00m:00s<00m:00s] [Found: 1509 datagrams in 18 files (26MB)]                                          \n",
      "Initializing ping interface ⢀ 90% [00m:00s<00m:00s] [Done]                                              \n"
     ]
    },
    {
     "name": "stderr",
     "output_type": "stream",
     "text": [
      "WARNING: get_depth_sensor_offsets: Only DSH (Depth (pressure) sensor heave) == NI is supported yet, but DSH is IN\n",
      "WARNING: get_depth_sensor_offsets: Only DSH (Depth (pressure) sensor heave) == NI is supported yet, but DSH is IN\n"
     ]
    }
   ],
   "source": [
    "# load the data with the cache files (if this is the first time you run it, the cache files will be created):\n",
    "from themachinethatgoesping.echosounders import kongsbergall\n",
    "fh = kongsbergall.KongsbergAllFileHandler(files, file_cache_paths = cacheFilePaths)\n"
   ]
  },
  {
   "cell_type": "markdown",
   "metadata": {},
   "source": [
    "### 4. Compare loading times"
   ]
  },
  {
   "cell_type": "code",
   "execution_count": 6,
   "metadata": {
    "execution": {
     "iopub.execute_input": "2024-10-25T10:55:27.264522Z",
     "iopub.status.busy": "2024-10-25T10:55:27.264333Z",
     "iopub.status.idle": "2024-10-25T10:55:27.288773Z",
     "shell.execute_reply": "2024-10-25T10:55:27.288486Z",
     "shell.execute_reply.started": "2024-10-25T10:55:27.264511Z"
    }
   },
   "outputs": [
    {
     "name": "stdout",
     "output_type": "stream",
     "text": [
      "indexing files ⠐ 100% [00m:00s<00m:00s] [..6328335172073169.all (1/18)]                               \n",
      "indexing files ⠠ 100% [00m:00s<00m:00s] [..3858047591065953.wcd (18/18)]                                \n",
      "indexing files ⢀ 100% [00m:00s<00m:00s] [Found: 1509 datagrams in 18 files (26MB)]                                          \n",
      "Initializing ping interface ⢀ 90% [00m:00s<00m:00s] [Done]                                              \n",
      "indexing files ⢀ 99% [00m:00s<00m:00s] [Found: 1509 datagrams in 18 files (26MB)]                                          \n",
      "Initializing ping interface ⢀ 90% [00m:00s<00m:00s] [Done]                                              \n",
      "\n",
      "-- Compare loading times --\n",
      "Time without cache: 0.014 seconds\n",
      "Time with cache:    0.008 seconds\n"
     ]
    },
    {
     "name": "stderr",
     "output_type": "stream",
     "text": [
      "WARNING: get_depth_sensor_offsets: Only DSH (Depth (pressure) sensor heave) == NI is supported yet, but DSH is IN\n",
      "WARNING: get_depth_sensor_offsets: Only DSH (Depth (pressure) sensor heave) == NI is supported yet, but DSH is IN\n",
      "WARNING: get_depth_sensor_offsets: Only DSH (Depth (pressure) sensor heave) == NI is supported yet, but DSH is IN\n",
      "WARNING: get_depth_sensor_offsets: Only DSH (Depth (pressure) sensor heave) == NI is supported yet, but DSH is IN\n"
     ]
    }
   ],
   "source": [
    "# compare loading times in repeated file loading\n",
    "t1 = time()\n",
    "# load data without using the cache\n",
    "fh = kongsbergall.KongsbergAllFileHandler(files)\n",
    "t2 = time()\n",
    "# load data using the cache files\n",
    "fh = kongsbergall.KongsbergAllFileHandler(files, file_cache_paths = cacheFilePaths)\n",
    "t3 = time()\n",
    "\n",
    "print(\"\\n-- Compare loading times --\")\n",
    "print(f\"Time without cache: {round(t2-t1,3)} seconds\")\n",
    "print(f\"Time with cache:    {round(t3-t2,3)} seconds\")"
   ]
  },
  {
   "cell_type": "markdown",
   "metadata": {},
   "source": [
    "### 4. Investigate cache files"
   ]
  },
  {
   "cell_type": "code",
   "execution_count": 7,
   "metadata": {
    "execution": {
     "iopub.execute_input": "2024-10-25T10:55:27.289203Z",
     "iopub.status.busy": "2024-10-25T10:55:27.289093Z",
     "iopub.status.idle": "2024-10-25T10:55:27.295157Z",
     "shell.execute_reply": "2024-10-25T10:55:27.294891Z",
     "shell.execute_reply.started": "2024-10-25T10:55:27.289193Z"
    }
   },
   "outputs": [
    {
     "name": "stdout",
     "output_type": "stream",
     "text": [
      "\n",
      "-- Cache file statistics --\n",
      "FilePackageIndex: 0.04 'MB' / 0.15 %\n",
      "NavigationInterpolatorLatLon: 0.09 'MB' / 0.33 %\n",
      "FilePackageCache<WaterColumnInformation>: 0.51 'MB' / 1.93 %\n",
      "FilePackageCache<SystemInformation>: 0.01 'MB' / 0.04 %\n",
      "- Combined -: 0.65 'MB' / 2.46 %\n",
      "- Source files -: 26.58 'MB' / 100.0 %\n"
     ]
    }
   ],
   "source": [
    "# -- Investigate the created cache --\n",
    "# Here we print the created cache files to understand how big they are\n",
    "print(\"\\n-- Cache file statistics --\")\n",
    "index_functions.print_cache_file_statistics(cacheFilePaths)"
   ]
  },
  {
   "cell_type": "code",
   "execution_count": null,
   "metadata": {},
   "outputs": [],
   "source": []
  }
 ],
 "metadata": {
  "kernelspec": {
   "display_name": "Python 3 (ipykernel)",
   "language": "python",
   "name": "python3"
  },
  "language_info": {
   "codemirror_mode": {
    "name": "ipython",
    "version": 3
   },
   "file_extension": ".py",
   "mimetype": "text/x-python",
   "name": "python",
   "nbconvert_exporter": "python",
   "pygments_lexer": "ipython3",
   "version": "3.12.7"
  },
  "widgets": {
   "application/vnd.jupyter.widget-state+json": {
    "state": {
     "005a27533b5e4a56bb6b0f8d1ed2a429": {
      "model_module": "@jupyter-widgets/controls",
      "model_module_version": "2.0.0",
      "model_name": "HTMLStyleModel",
      "state": {
       "description_width": "",
       "font_size": null,
       "text_color": null
      }
     },
     "085e59328b654b75b7f3dd6f63d4a1f7": {
      "model_module": "@jupyter-widgets/base",
      "model_module_version": "2.0.0",
      "model_name": "LayoutModel",
      "state": {}
     },
     "08be5160d54948c0be1a54b4959c07e1": {
      "model_module": "@jupyter-widgets/controls",
      "model_module_version": "2.0.0",
      "model_name": "HTMLStyleModel",
      "state": {
       "description_width": "",
       "font_size": null,
       "text_color": null
      }
     },
     "0a0e783daf0b4897b535e7cae0d910d3": {
      "model_module": "@jupyter-widgets/controls",
      "model_module_version": "2.0.0",
      "model_name": "HTMLModel",
      "state": {
       "layout": "IPY_MODEL_29f98ef4b5614400a457de091c89e38c",
       "style": "IPY_MODEL_005a27533b5e4a56bb6b0f8d1ed2a429",
       "value": " 18/18 [00:00&lt;00:00, 5411.23it/s]"
      }
     },
     "18416a984e8340098fdd14e96647dbb8": {
      "model_module": "@jupyter-widgets/base",
      "model_module_version": "2.0.0",
      "model_name": "LayoutModel",
      "state": {}
     },
     "1c23caff2d5641b5a24016114811c6df": {
      "model_module": "@jupyter-widgets/base",
      "model_module_version": "2.0.0",
      "model_name": "LayoutModel",
      "state": {}
     },
     "1fa4cd7f316e402084aab53cab9e2829": {
      "model_module": "@jupyter-widgets/base",
      "model_module_version": "2.0.0",
      "model_name": "LayoutModel",
      "state": {}
     },
     "209eb231ba1a4692a34db145d180f540": {
      "model_module": "@jupyter-widgets/base",
      "model_module_version": "2.0.0",
      "model_name": "LayoutModel",
      "state": {}
     },
     "220442db71654732ac56aa93f876a4b9": {
      "model_module": "@jupyter-widgets/controls",
      "model_module_version": "2.0.0",
      "model_name": "HTMLStyleModel",
      "state": {
       "description_width": "",
       "font_size": null,
       "text_color": null
      }
     },
     "2272ab921ad44ddcb93fb0b565a27ac9": {
      "model_module": "@jupyter-widgets/controls",
      "model_module_version": "2.0.0",
      "model_name": "HTMLModel",
      "state": {
       "layout": "IPY_MODEL_f6860c231c5e4f1399080b8568ae1fa5",
       "style": "IPY_MODEL_8845c23b05c04c719370775f9b3b9334",
       "value": " 18/18 [00:00&lt;00:00, 5504.34it/s]"
      }
     },
     "24ebbc9b8ce346d989815aee4d590fa7": {
      "model_module": "@jupyter-widgets/controls",
      "model_module_version": "2.0.0",
      "model_name": "HTMLModel",
      "state": {
       "layout": "IPY_MODEL_d2786e2d02ef4a11802807b3092f2417",
       "style": "IPY_MODEL_b8f3e15580bf4b9f8fa62731bd9fa753",
       "value": "removing duplicates: 100%"
      }
     },
     "29f98ef4b5614400a457de091c89e38c": {
      "model_module": "@jupyter-widgets/base",
      "model_module_version": "2.0.0",
      "model_name": "LayoutModel",
      "state": {}
     },
     "2b64cf561c85419983e62a60c97983f7": {
      "model_module": "@jupyter-widgets/base",
      "model_module_version": "2.0.0",
      "model_name": "LayoutModel",
      "state": {}
     },
     "34ffe76dad2b4961a76ef86f4cd4e6ae": {
      "model_module": "@jupyter-widgets/controls",
      "model_module_version": "2.0.0",
      "model_name": "HTMLStyleModel",
      "state": {
       "description_width": "",
       "font_size": null,
       "text_color": null
      }
     },
     "354a6e64b353423dabdfb5915adc384a": {
      "model_module": "@jupyter-widgets/controls",
      "model_module_version": "2.0.0",
      "model_name": "HTMLModel",
      "state": {
       "layout": "IPY_MODEL_1fa4cd7f316e402084aab53cab9e2829",
       "style": "IPY_MODEL_455e37a200d94181a7f6a48540247422",
       "value": " 18/18 [00:00&lt;00:00, 6502.24it/s]"
      }
     },
     "3aeac03218cc4bdab353922e84c45ea1": {
      "model_module": "@jupyter-widgets/controls",
      "model_module_version": "2.0.0",
      "model_name": "FloatProgressModel",
      "state": {
       "bar_style": "success",
       "layout": "IPY_MODEL_18416a984e8340098fdd14e96647dbb8",
       "max": 18,
       "style": "IPY_MODEL_636f32a233954308a4208b7836686832",
       "value": 18
      }
     },
     "3b18311fb3a4469bae19d4d2db46a9df": {
      "model_module": "@jupyter-widgets/base",
      "model_module_version": "2.0.0",
      "model_name": "LayoutModel",
      "state": {}
     },
     "3c1850f9a29c424dad011ca584768adc": {
      "model_module": "@jupyter-widgets/controls",
      "model_module_version": "2.0.0",
      "model_name": "FloatProgressModel",
      "state": {
       "bar_style": "success",
       "layout": "IPY_MODEL_75bc13a905684a928ab6aa4bed41a30e",
       "max": 18,
       "style": "IPY_MODEL_7f426f980f554c2f9aa71027a25f1e31",
       "value": 18
      }
     },
     "455e37a200d94181a7f6a48540247422": {
      "model_module": "@jupyter-widgets/controls",
      "model_module_version": "2.0.0",
      "model_name": "HTMLStyleModel",
      "state": {
       "description_width": "",
       "font_size": null,
       "text_color": null
      }
     },
     "4839040de86b4ba48f091eeead49e97b": {
      "model_module": "@jupyter-widgets/base",
      "model_module_version": "2.0.0",
      "model_name": "LayoutModel",
      "state": {}
     },
     "509ca1a3622d4eaca7883b869801fe3d": {
      "model_module": "@jupyter-widgets/controls",
      "model_module_version": "2.0.0",
      "model_name": "ProgressStyleModel",
      "state": {
       "description_width": ""
      }
     },
     "55b71e824f7649fcb4cd503f72ceab4b": {
      "model_module": "@jupyter-widgets/controls",
      "model_module_version": "2.0.0",
      "model_name": "FloatProgressModel",
      "state": {
       "bar_style": "success",
       "layout": "IPY_MODEL_aae6fdc213dd4f15a4de9895c573f6e6",
       "max": 18,
       "style": "IPY_MODEL_af9491bb49a943cb992ad49e6a152237",
       "value": 18
      }
     },
     "59410ab661d6409eb23dd949f37841db": {
      "model_module": "@jupyter-widgets/controls",
      "model_module_version": "2.0.0",
      "model_name": "FloatProgressModel",
      "state": {
       "bar_style": "success",
       "layout": "IPY_MODEL_61e9a78c94c2423eb1e91f7f455185ca",
       "max": 18,
       "style": "IPY_MODEL_509ca1a3622d4eaca7883b869801fe3d",
       "value": 18
      }
     },
     "599a28ec7aeb4a26afd5cbb250119df8": {
      "model_module": "@jupyter-widgets/controls",
      "model_module_version": "2.0.0",
      "model_name": "HTMLModel",
      "state": {
       "layout": "IPY_MODEL_87c7d8a68a194985a0ec1d0537498b66",
       "style": "IPY_MODEL_34ffe76dad2b4961a76ef86f4cd4e6ae",
       "value": " 18/18 [00:00&lt;00:00, 9797.23it/s]"
      }
     },
     "5f7302490c4446ccadcada5c9029b849": {
      "model_module": "@jupyter-widgets/base",
      "model_module_version": "2.0.0",
      "model_name": "LayoutModel",
      "state": {}
     },
     "61e9a78c94c2423eb1e91f7f455185ca": {
      "model_module": "@jupyter-widgets/base",
      "model_module_version": "2.0.0",
      "model_name": "LayoutModel",
      "state": {}
     },
     "636f32a233954308a4208b7836686832": {
      "model_module": "@jupyter-widgets/controls",
      "model_module_version": "2.0.0",
      "model_name": "ProgressStyleModel",
      "state": {
       "description_width": ""
      }
     },
     "695950ce2a054b89979e98134ce7e109": {
      "model_module": "@jupyter-widgets/controls",
      "model_module_version": "2.0.0",
      "model_name": "HTMLModel",
      "state": {
       "layout": "IPY_MODEL_cf6306b12eb34cb3bba814effb209428",
       "style": "IPY_MODEL_08be5160d54948c0be1a54b4959c07e1",
       "value": "100%"
      }
     },
     "6970d8d83a45431ea986bb23b74eae4f": {
      "model_module": "@jupyter-widgets/base",
      "model_module_version": "2.0.0",
      "model_name": "LayoutModel",
      "state": {}
     },
     "6a8843b479d74a598bd8733e8a47c123": {
      "model_module": "@jupyter-widgets/base",
      "model_module_version": "2.0.0",
      "model_name": "LayoutModel",
      "state": {}
     },
     "6aafe07e98fd4a6abb7c1685eb22fd50": {
      "model_module": "@jupyter-widgets/controls",
      "model_module_version": "2.0.0",
      "model_name": "HBoxModel",
      "state": {
       "children": [
        "IPY_MODEL_da39b299ec3c497bbc94aee7f8079dc4",
        "IPY_MODEL_beda6b50d37a43a9b649072ef7a7c62b",
        "IPY_MODEL_354a6e64b353423dabdfb5915adc384a"
       ],
       "layout": "IPY_MODEL_3b18311fb3a4469bae19d4d2db46a9df"
      }
     },
     "739ea2f67a69499484c3de70433895e8": {
      "model_module": "@jupyter-widgets/controls",
      "model_module_version": "2.0.0",
      "model_name": "HBoxModel",
      "state": {
       "children": [
        "IPY_MODEL_24ebbc9b8ce346d989815aee4d590fa7",
        "IPY_MODEL_3aeac03218cc4bdab353922e84c45ea1",
        "IPY_MODEL_acc8a3b611de48ba8addbc302ff1ccf1"
       ],
       "layout": "IPY_MODEL_1c23caff2d5641b5a24016114811c6df"
      }
     },
     "75bc13a905684a928ab6aa4bed41a30e": {
      "model_module": "@jupyter-widgets/base",
      "model_module_version": "2.0.0",
      "model_name": "LayoutModel",
      "state": {}
     },
     "7b875a743d8442eabd9c3c39bde18efc": {
      "model_module": "@jupyter-widgets/base",
      "model_module_version": "2.0.0",
      "model_name": "LayoutModel",
      "state": {}
     },
     "7f426f980f554c2f9aa71027a25f1e31": {
      "model_module": "@jupyter-widgets/controls",
      "model_module_version": "2.0.0",
      "model_name": "ProgressStyleModel",
      "state": {
       "description_width": ""
      }
     },
     "87c7d8a68a194985a0ec1d0537498b66": {
      "model_module": "@jupyter-widgets/base",
      "model_module_version": "2.0.0",
      "model_name": "LayoutModel",
      "state": {}
     },
     "8845c23b05c04c719370775f9b3b9334": {
      "model_module": "@jupyter-widgets/controls",
      "model_module_version": "2.0.0",
      "model_name": "HTMLStyleModel",
      "state": {
       "description_width": "",
       "font_size": null,
       "text_color": null
      }
     },
     "885991fb630c446a82ec8a4cb7ce01ff": {
      "model_module": "@jupyter-widgets/base",
      "model_module_version": "2.0.0",
      "model_name": "LayoutModel",
      "state": {}
     },
     "8bd9cb9695884b7a8707bd088f0aeb15": {
      "model_module": "@jupyter-widgets/controls",
      "model_module_version": "2.0.0",
      "model_name": "FloatProgressModel",
      "state": {
       "bar_style": "success",
       "layout": "IPY_MODEL_939cf02991df47e19cff7976c37712b6",
       "max": 18,
       "style": "IPY_MODEL_f64bbe95bfdc45e79e10e08b0954c308",
       "value": 18
      }
     },
     "939cf02991df47e19cff7976c37712b6": {
      "model_module": "@jupyter-widgets/base",
      "model_module_version": "2.0.0",
      "model_name": "LayoutModel",
      "state": {}
     },
     "992b7aec0fd94df7934ea2545f2bf317": {
      "model_module": "@jupyter-widgets/controls",
      "model_module_version": "2.0.0",
      "model_name": "HTMLStyleModel",
      "state": {
       "description_width": "",
       "font_size": null,
       "text_color": null
      }
     },
     "999f28aafd1a40bd92f6926b4a03ea7d": {
      "model_module": "@jupyter-widgets/controls",
      "model_module_version": "2.0.0",
      "model_name": "HTMLStyleModel",
      "state": {
       "description_width": "",
       "font_size": null,
       "text_color": null
      }
     },
     "99efe0ec94a14e45a8093abc63515a76": {
      "model_module": "@jupyter-widgets/controls",
      "model_module_version": "2.0.0",
      "model_name": "HBoxModel",
      "state": {
       "children": [
        "IPY_MODEL_695950ce2a054b89979e98134ce7e109",
        "IPY_MODEL_55b71e824f7649fcb4cd503f72ceab4b",
        "IPY_MODEL_bc010c7c810a429eb4d4f2c843d09f1b"
       ],
       "layout": "IPY_MODEL_6a8843b479d74a598bd8733e8a47c123"
      }
     },
     "a296bf74bff64896950f80bf29be943c": {
      "model_module": "@jupyter-widgets/controls",
      "model_module_version": "2.0.0",
      "model_name": "HTMLModel",
      "state": {
       "layout": "IPY_MODEL_085e59328b654b75b7f3dd6f63d4a1f7",
       "style": "IPY_MODEL_aa02be95ef7e4c9c9828e5881ce5b841",
       "value": "100%"
      }
     },
     "aa02be95ef7e4c9c9828e5881ce5b841": {
      "model_module": "@jupyter-widgets/controls",
      "model_module_version": "2.0.0",
      "model_name": "HTMLStyleModel",
      "state": {
       "description_width": "",
       "font_size": null,
       "text_color": null
      }
     },
     "aae6fdc213dd4f15a4de9895c573f6e6": {
      "model_module": "@jupyter-widgets/base",
      "model_module_version": "2.0.0",
      "model_name": "LayoutModel",
      "state": {}
     },
     "acc8a3b611de48ba8addbc302ff1ccf1": {
      "model_module": "@jupyter-widgets/controls",
      "model_module_version": "2.0.0",
      "model_name": "HTMLModel",
      "state": {
       "layout": "IPY_MODEL_885991fb630c446a82ec8a4cb7ce01ff",
       "style": "IPY_MODEL_c7e800c700ba46fcbc27bfb1199ae376",
       "value": " 18/18 [00:00&lt;00:00, 8509.63it/s]"
      }
     },
     "af9491bb49a943cb992ad49e6a152237": {
      "model_module": "@jupyter-widgets/controls",
      "model_module_version": "2.0.0",
      "model_name": "ProgressStyleModel",
      "state": {
       "description_width": ""
      }
     },
     "b1a4b4baaaf14cb7ac4733bca9c08388": {
      "model_module": "@jupyter-widgets/controls",
      "model_module_version": "2.0.0",
      "model_name": "HTMLStyleModel",
      "state": {
       "description_width": "",
       "font_size": null,
       "text_color": null
      }
     },
     "b255d9c517e94aebb82eedb36743ad26": {
      "model_module": "@jupyter-widgets/base",
      "model_module_version": "2.0.0",
      "model_name": "LayoutModel",
      "state": {}
     },
     "b8f3e15580bf4b9f8fa62731bd9fa753": {
      "model_module": "@jupyter-widgets/controls",
      "model_module_version": "2.0.0",
      "model_name": "HTMLStyleModel",
      "state": {
       "description_width": "",
       "font_size": null,
       "text_color": null
      }
     },
     "bc010c7c810a429eb4d4f2c843d09f1b": {
      "model_module": "@jupyter-widgets/controls",
      "model_module_version": "2.0.0",
      "model_name": "HTMLModel",
      "state": {
       "layout": "IPY_MODEL_fa6e1e98a4ed4d84a3cdd92e88bf8bab",
       "style": "IPY_MODEL_220442db71654732ac56aa93f876a4b9",
       "value": " 18/18 [00:00&lt;00:00, 5480.36it/s]"
      }
     },
     "beda6b50d37a43a9b649072ef7a7c62b": {
      "model_module": "@jupyter-widgets/controls",
      "model_module_version": "2.0.0",
      "model_name": "FloatProgressModel",
      "state": {
       "bar_style": "success",
       "layout": "IPY_MODEL_209eb231ba1a4692a34db145d180f540",
       "max": 18,
       "style": "IPY_MODEL_fbf194bee910429d8154e146687a9ea4",
       "value": 18
      }
     },
     "c5ab6f977ce648bd9048a1bae7e12522": {
      "model_module": "@jupyter-widgets/controls",
      "model_module_version": "2.0.0",
      "model_name": "HBoxModel",
      "state": {
       "children": [
        "IPY_MODEL_e7a97ebc3bc7405ba0efb2c4df2813ed",
        "IPY_MODEL_8bd9cb9695884b7a8707bd088f0aeb15",
        "IPY_MODEL_0a0e783daf0b4897b535e7cae0d910d3"
       ],
       "layout": "IPY_MODEL_5f7302490c4446ccadcada5c9029b849"
      }
     },
     "c7e800c700ba46fcbc27bfb1199ae376": {
      "model_module": "@jupyter-widgets/controls",
      "model_module_version": "2.0.0",
      "model_name": "HTMLStyleModel",
      "state": {
       "description_width": "",
       "font_size": null,
       "text_color": null
      }
     },
     "c98b971ee3544f668d0a3a701ae29ce8": {
      "model_module": "@jupyter-widgets/base",
      "model_module_version": "2.0.0",
      "model_name": "LayoutModel",
      "state": {}
     },
     "cac2efa48d86431d8bef21b1d715b414": {
      "model_module": "@jupyter-widgets/controls",
      "model_module_version": "2.0.0",
      "model_name": "FloatProgressModel",
      "state": {
       "bar_style": "success",
       "layout": "IPY_MODEL_6970d8d83a45431ea986bb23b74eae4f",
       "max": 18,
       "style": "IPY_MODEL_e622944c1fe34e2f93c983f93f1162ce",
       "value": 18
      }
     },
     "cf6306b12eb34cb3bba814effb209428": {
      "model_module": "@jupyter-widgets/base",
      "model_module_version": "2.0.0",
      "model_name": "LayoutModel",
      "state": {}
     },
     "d2786e2d02ef4a11802807b3092f2417": {
      "model_module": "@jupyter-widgets/base",
      "model_module_version": "2.0.0",
      "model_name": "LayoutModel",
      "state": {}
     },
     "d60a66c59c474d718430dd30bfd1437e": {
      "model_module": "@jupyter-widgets/base",
      "model_module_version": "2.0.0",
      "model_name": "LayoutModel",
      "state": {}
     },
     "d60c7e38ed7642a789dbadc91eeaf549": {
      "model_module": "@jupyter-widgets/controls",
      "model_module_version": "2.0.0",
      "model_name": "HBoxModel",
      "state": {
       "children": [
        "IPY_MODEL_a296bf74bff64896950f80bf29be943c",
        "IPY_MODEL_59410ab661d6409eb23dd949f37841db",
        "IPY_MODEL_2272ab921ad44ddcb93fb0b565a27ac9"
       ],
       "layout": "IPY_MODEL_2b64cf561c85419983e62a60c97983f7"
      }
     },
     "d72e98ab58594feba33dafef729601f0": {
      "model_module": "@jupyter-widgets/base",
      "model_module_version": "2.0.0",
      "model_name": "LayoutModel",
      "state": {}
     },
     "d961ed0ef90b486c860d64ab47d9ef0d": {
      "model_module": "@jupyter-widgets/controls",
      "model_module_version": "2.0.0",
      "model_name": "HTMLStyleModel",
      "state": {
       "description_width": "",
       "font_size": null,
       "text_color": null
      }
     },
     "da39b299ec3c497bbc94aee7f8079dc4": {
      "model_module": "@jupyter-widgets/controls",
      "model_module_version": "2.0.0",
      "model_name": "HTMLModel",
      "state": {
       "layout": "IPY_MODEL_d60a66c59c474d718430dd30bfd1437e",
       "style": "IPY_MODEL_d961ed0ef90b486c860d64ab47d9ef0d",
       "value": "100%"
      }
     },
     "e1c85aacb1ac4f4f9945cefb555108ed": {
      "model_module": "@jupyter-widgets/controls",
      "model_module_version": "2.0.0",
      "model_name": "HTMLModel",
      "state": {
       "layout": "IPY_MODEL_f189558d092c4d02b4c5e5ae60d52a50",
       "style": "IPY_MODEL_992b7aec0fd94df7934ea2545f2bf317",
       "value": " 18/18 [00:00&lt;00:00, 373.42it/s]"
      }
     },
     "e56cb832cf0141c79e1a7d439cdb1efd": {
      "model_module": "@jupyter-widgets/controls",
      "model_module_version": "2.0.0",
      "model_name": "HTMLModel",
      "state": {
       "layout": "IPY_MODEL_7b875a743d8442eabd9c3c39bde18efc",
       "style": "IPY_MODEL_f92d64fcbf554bccafd3f2f24d660377",
       "value": "removing duplicates: 100%"
      }
     },
     "e622944c1fe34e2f93c983f93f1162ce": {
      "model_module": "@jupyter-widgets/controls",
      "model_module_version": "2.0.0",
      "model_name": "ProgressStyleModel",
      "state": {
       "description_width": ""
      }
     },
     "e7a97ebc3bc7405ba0efb2c4df2813ed": {
      "model_module": "@jupyter-widgets/controls",
      "model_module_version": "2.0.0",
      "model_name": "HTMLModel",
      "state": {
       "layout": "IPY_MODEL_4839040de86b4ba48f091eeead49e97b",
       "style": "IPY_MODEL_b1a4b4baaaf14cb7ac4733bca9c08388",
       "value": "100%"
      }
     },
     "e9e8aeb5a36048d299fe28ec7b99d9e9": {
      "model_module": "@jupyter-widgets/controls",
      "model_module_version": "2.0.0",
      "model_name": "HBoxModel",
      "state": {
       "children": [
        "IPY_MODEL_fc21aee084a344c493191966b58b9227",
        "IPY_MODEL_cac2efa48d86431d8bef21b1d715b414",
        "IPY_MODEL_e1c85aacb1ac4f4f9945cefb555108ed"
       ],
       "layout": "IPY_MODEL_c98b971ee3544f668d0a3a701ae29ce8"
      }
     },
     "f189558d092c4d02b4c5e5ae60d52a50": {
      "model_module": "@jupyter-widgets/base",
      "model_module_version": "2.0.0",
      "model_name": "LayoutModel",
      "state": {}
     },
     "f64bbe95bfdc45e79e10e08b0954c308": {
      "model_module": "@jupyter-widgets/controls",
      "model_module_version": "2.0.0",
      "model_name": "ProgressStyleModel",
      "state": {
       "description_width": ""
      }
     },
     "f6860c231c5e4f1399080b8568ae1fa5": {
      "model_module": "@jupyter-widgets/base",
      "model_module_version": "2.0.0",
      "model_name": "LayoutModel",
      "state": {}
     },
     "f92d64fcbf554bccafd3f2f24d660377": {
      "model_module": "@jupyter-widgets/controls",
      "model_module_version": "2.0.0",
      "model_name": "HTMLStyleModel",
      "state": {
       "description_width": "",
       "font_size": null,
       "text_color": null
      }
     },
     "fa6e1e98a4ed4d84a3cdd92e88bf8bab": {
      "model_module": "@jupyter-widgets/base",
      "model_module_version": "2.0.0",
      "model_name": "LayoutModel",
      "state": {}
     },
     "fbf194bee910429d8154e146687a9ea4": {
      "model_module": "@jupyter-widgets/controls",
      "model_module_version": "2.0.0",
      "model_name": "ProgressStyleModel",
      "state": {
       "description_width": ""
      }
     },
     "fc21aee084a344c493191966b58b9227": {
      "model_module": "@jupyter-widgets/controls",
      "model_module_version": "2.0.0",
      "model_name": "HTMLModel",
      "state": {
       "layout": "IPY_MODEL_d72e98ab58594feba33dafef729601f0",
       "style": "IPY_MODEL_999f28aafd1a40bd92f6926b4a03ea7d",
       "value": "100%"
      }
     },
     "fd59785807db43edab6e0d35ee45ce44": {
      "model_module": "@jupyter-widgets/controls",
      "model_module_version": "2.0.0",
      "model_name": "HBoxModel",
      "state": {
       "children": [
        "IPY_MODEL_e56cb832cf0141c79e1a7d439cdb1efd",
        "IPY_MODEL_3c1850f9a29c424dad011ca584768adc",
        "IPY_MODEL_599a28ec7aeb4a26afd5cbb250119df8"
       ],
       "layout": "IPY_MODEL_b255d9c517e94aebb82eedb36743ad26"
      }
     }
    },
    "version_major": 2,
    "version_minor": 0
   }
  }
 },
 "nbformat": 4,
 "nbformat_minor": 4
}
