{
 "cells": [
  {
   "cell_type": "markdown",
   "metadata": {},
   "source": [
    "# Demo 03: Filter pings\n",
    "\n",
    "## Introduction\n",
    "\n",
    "This Jupyter Notebook contains an introduction to filtering pings by e.g. available features\n",
    "\n",
    "## Here you will learn\n",
    "\n",
    "- \n",
    "\n",
    "## Short version\n",
    "\n",
    "At the end of the notebook you will find the important parts of this notebook, compiled into a single cell\n",
    "\n",
    "\n",
    "## ---"
   ]
  },
  {
   "cell_type": "markdown",
   "metadata": {
    "notebookRunGroups": {
     "groupValue": "1"
    }
   },
   "source": [
    "### First: Import the necessary modules"
   ]
  },
  {
   "cell_type": "code",
   "execution_count": 1,
   "metadata": {
    "notebookRunGroups": {
     "groupValue": "1"
    }
   },
   "outputs": [],
   "source": [
    "%matplotlib widget\n",
    "import os\n",
    "from tqdm.auto import tqdm\n",
    "\n",
    "import numpy as np\n",
    "\n",
    "from matplotlib import pyplot as plt\n",
    "from themachinethatgoesping.echosounders import index_functions\n",
    "from themachinethatgoesping.echosounders import kongsbergall\n",
    "import themachinethatgoesping as Ping\n"
   ]
  },
  {
   "cell_type": "code",
   "execution_count": 2,
   "metadata": {
    "notebookRunGroups": {
     "groupValue": "1"
    },
    "tags": []
   },
   "outputs": [
    {
     "name": "stdout",
     "output_type": "stream",
     "text": [
      "Found 16 files\n",
      "indexing files ⢀ 98% [00m:00s<00m:00s] [Found: 158 datagrams in 2 files (5MB)]                                       \n",
      "Initializing datagramdata interface ⠈ 0% [00m:00s<00m:00s]           \n",
      "Initializing ping interface ⠐ 0% [00m:00s<00m:00s] [Done]                                              \n"
     ]
    }
   ],
   "source": [
    "# define a list of folder(s) to search for raw data files\n",
    "folders = []\n",
    "folders.append(\"/home/data/turbeams/TURBEAMS_data_crunshing/campaigns/05_TURBEAMS_April_2023/Stations\")\n",
    "folders.append(\"/home/data/turbeams/TURBEAMS_data_crunshing/campaigns/05_TURBEAMS_April_2023/Transect\")\n",
    "\n",
    "folders = [\"../unittest_data/\"]\n",
    "\n",
    "# find all .all/.wcd files and cache file positions\n",
    "files = index_functions.find_files(folders, [\".all\",\"wcd\"])\n",
    "\n",
    "files = ['../unittest_data/kongsberg/turbeams/9142459809945665151.all',\n",
    " '../unittest_data/kongsberg/turbeams/9142459809945665151.wcd']\n",
    "\n",
    "folders = [\"../unittest_data/\"]\n",
    "\n",
    "cache_files = index_functions.get_cache_file_paths(files)\n",
    "\n",
    "# open all files and index\n",
    "fm = kongsbergall.KongsbergAllFileHandler(files,cache_files)    "
   ]
  },
  {
   "cell_type": "code",
   "execution_count": 3,
   "metadata": {
    "notebookRunGroups": {
     "groupValue": ""
    },
    "tags": []
   },
   "outputs": [],
   "source": [
    "from collections import OrderedDict\n",
    "\n",
    "class fake_tqdm(object):\n",
    "    def __init__(self, w_prg):\n",
    "        self.w_prg = w_prg\n",
    "        \n",
    "    def __call__(self, list_like):\n",
    "        self.list_like = list_like\n",
    "        self.list_iter = iter(list_like)\n",
    "        self.index = 0\n",
    "        self.total = len(list_like)\n",
    "        self.w_prg.max = self.total\n",
    "        self.w_prg.value = 0\n",
    "        return self\n",
    "        \n",
    "    def __iter__(self):\n",
    "        return self\n",
    "    \n",
    "    def __next__(self):\n",
    "        self.index += 1\n",
    "        self.w_prg.value = self.index\n",
    "        return next(self.list_iter)\n",
    "    \n",
    "    def __len__(self):\n",
    "        return self.total\n",
    "    \n",
    "    def update(self):\n",
    "        self.index += 1\n",
    "        next(self.list_iter)\n",
    "        self.w_prg.value = self.index\n",
    "        \n",
    "    def close(self):\n",
    "        pass"
   ]
  },
  {
   "cell_type": "markdown",
   "metadata": {},
   "source": [
    "## Filter pings\n",
    "Pings must contain watercolumn amplitudes to view watercolumn data\n"
   ]
  },
  {
   "cell_type": "code",
   "execution_count": 4,
   "metadata": {},
   "outputs": [
    {
     "name": "stdout",
     "output_type": "stream",
     "text": [
      "KongsbergAllPing\n",
      "################\n",
      "-\n",
      "Ping infos \n",
      "-------------                                                                                                                                \n",
      "- Channel id:             TRX-2031                                                                                                                         \n",
      "- Time info:              18/03/2023 17:37:53.10                                                                                                          \n",
      "                          [1679161073.100000]\n",
      "- Features:               .get_timestamp, .get_datetime, .get_channel_id, .get_sensor_configuration, .get_sensor_data_latlon, .get_geolocation             \n",
      "- Feature groups:         .bottom, .watercolumn                                                                                                            \n",
      "- Features(.bottom):      .bottom : .get_two_way_travel_times, .get_xyz, .get_tx_signal_parameters, .get_number_of_tx_sectors, .get_beam_crosstrack_angles \n",
      "- Features(.watercolumn): .watercolumn : .get_amplitudes, .get_tx_signal_parameters, .get_number_of_tx_sectors, .get_av, .get_bottom_range_samples        \n",
      "                          [Not:.get_sv, .get_calibration]\n",
      "\n",
      " Geolocation \n",
      "------------- \n",
      "- latitude:  51°38'21.1\"N  [ddd°mm',ss.s''N/S]\n",
      "- longitude: 2°33'54.3\"E   [ddd°mm',ss.s''E/W]\n",
      "- z:         4.80          [positive downwards, m]\n",
      "- yaw:       332.86        [90 ° at east]\n",
      "- pitch:     -1.72         [° positive bow up]\n",
      "- roll:      -35.20        [° positive port up]\n"
     ]
    }
   ],
   "source": [
    "print(fm.get_pings()[0])"
   ]
  },
  {
   "cell_type": "markdown",
   "metadata": {},
   "source": [
    "\"feature\" object callable with method \"get_[name_of_feature]\"\n",
    "\n",
    "\"geolocation\" is a feature of ping: ping.get_geolocation()\n",
    "\n",
    "ping\n",
    "* geolocation\n",
    "\n",
    "ping.bottom features\n",
    "* tx_signal_parameters\n",
    "* number_of_tx_sectors\n",
    "* two_way_travel_times\n",
    "* xyz\n",
    "\n",
    "ping.watercolumn features\n",
    "* tx_signal_parameters\n",
    "* number_of_tx_sectors\n",
    "* bottom_range_sample\n",
    "* amplitudes\n",
    "* av"
   ]
  },
  {
   "cell_type": "code",
   "execution_count": 5,
   "metadata": {},
   "outputs": [
    {
     "name": "stdout",
     "output_type": "stream",
     "text": [
      "KongsbergAllPing\n",
      "################\n",
      "-\n",
      "Ping infos \n",
      "-------------                                                                                                                                \n",
      "- Channel id:             TRX-2031                                                                                                                         \n",
      "- Time info:              18/03/2023 17:37:53.10                                                                                                          \n",
      "                          [1679161073.100000]\n",
      "- Features:               .get_timestamp, .get_datetime, .get_channel_id, .get_sensor_configuration, .get_sensor_data_latlon, .get_geolocation             \n",
      "- Feature groups:         .bottom, .watercolumn                                                                                                            \n",
      "- Features(.bottom):      .bottom : .get_two_way_travel_times, .get_xyz, .get_tx_signal_parameters, .get_number_of_tx_sectors, .get_beam_crosstrack_angles \n",
      "- Features(.watercolumn): .watercolumn : .get_amplitudes, .get_tx_signal_parameters, .get_number_of_tx_sectors, .get_av, .get_bottom_range_samples        \n",
      "                          [Not:.get_sv, .get_calibration]\n",
      "\n",
      " Geolocation \n",
      "------------- \n",
      "- latitude:  51°38'21.1\"N  [ddd°mm',ss.s''N/S]\n",
      "- longitude: 2°33'54.3\"E   [ddd°mm',ss.s''E/W]\n",
      "- z:         4.80          [positive downwards, m]\n",
      "- yaw:       332.86        [90 ° at east]\n",
      "- pitch:     -1.72         [° positive bow up]\n",
      "- roll:      -35.20        [° positive port up]\n"
     ]
    }
   ],
   "source": [
    "\n",
    "#ping.bottom.number_of_tx_sectors\n",
    "#ping.bottom.get_xyz()\n",
    "#ping.watercolumn.get_bottom_range_sample()\n",
    "#ping.watercolumn.get_amplitudes()\n",
    "#ping.watercolumn.get_av()\n",
    "\n",
    "#txSignalPar = ping.bottom.get_tx_signal_parameters()\n",
    "#txSignalPar[0].print()\n",
    "#txSignalPar[0].effective_pulse_duration\n",
    "\n",
    "\n",
    "ping = fm.get_pings()[0]\n",
    "ping.print()\n",
    "\n"
   ]
  },
  {
   "cell_type": "code",
   "execution_count": 6,
   "metadata": {},
   "outputs": [
    {
     "data": {
      "application/vnd.jupyter.widget-view+json": {
       "model_id": "bd4ea28ea7aa4251afb3dfdc3322fc12",
       "version_major": 2,
       "version_minor": 0
      },
      "text/plain": [
       "  0%|          | 0/12 [00:00<?, ?it/s]"
      ]
     },
     "metadata": {},
     "output_type": "display_data"
    },
    {
     "name": "stdout",
     "output_type": "stream",
     "text": [
      "12/12\n"
     ]
    }
   ],
   "source": [
    "#version one write loop yourself\n",
    "filtered_pings = []\n",
    "for ping in tqdm(fm.get_pings()):\n",
    "    if ping.has_watercolumn():\n",
    "        if ping.watercolumn.has_feature('av'):\n",
    "            filtered_pings.append(ping)\n",
    "print(f'{len(filtered_pings)}/{len(fm.get_pings())}')"
   ]
  },
  {
   "cell_type": "code",
   "execution_count": 7,
   "metadata": {},
   "outputs": [
    {
     "name": "stdout",
     "output_type": "stream",
     "text": [
      "12/12\n",
      "KongsbergAllPing\n",
      "################\n",
      "-\n",
      "Ping infos \n",
      "-------------                                                                                                                                \n",
      "- Channel id:             TRX-2031                                                                                                                         \n",
      "- Time info:              18/03/2023 17:37:53.10                                                                                                          \n",
      "                          [1679161073.100000]\n",
      "- Features:               .get_timestamp, .get_datetime, .get_channel_id, .get_sensor_configuration, .get_sensor_data_latlon, .get_geolocation             \n",
      "- Feature groups:         .bottom, .watercolumn                                                                                                            \n",
      "- Features(.bottom):      .bottom : .get_two_way_travel_times, .get_xyz, .get_tx_signal_parameters, .get_number_of_tx_sectors, .get_beam_crosstrack_angles \n",
      "- Features(.watercolumn): .watercolumn : .get_amplitudes, .get_tx_signal_parameters, .get_number_of_tx_sectors, .get_av, .get_bottom_range_samples        \n",
      "                          [Not:.get_sv, .get_calibration]\n",
      "\n",
      " Geolocation \n",
      "------------- \n",
      "- latitude:  51°38'21.1\"N  [ddd°mm',ss.s''N/S]\n",
      "- longitude: 2°33'54.3\"E   [ddd°mm',ss.s''E/W]\n",
      "- z:         4.80          [positive downwards, m]\n",
      "- yaw:       332.86        [90 ° at east]\n",
      "- pitch:     -1.72         [° positive bow up]\n",
      "- roll:      -35.20        [° positive port up]\n"
     ]
    }
   ],
   "source": [
    "#version2 use built in function\n",
    "from themachinethatgoesping.pingprocessing import filter_pings\n",
    "filtered_pings = filter_pings.by_features(fm.get_pings(),['watercolumn.av'],progress=True)\n",
    "print(f'{len(filtered_pings)}/{len(fm.get_pings())}')\n",
    "print(filtered_pings[0])"
   ]
  },
  {
   "cell_type": "code",
   "execution_count": 8,
   "metadata": {
    "notebookRunGroups": {
     "groupValue": "1"
    },
    "tags": []
   },
   "outputs": [
    {
     "data": {
      "text/plain": [
       "<matplotlib.legend.Legend at 0x7328de32a8a0>"
      ]
     },
     "execution_count": 8,
     "metadata": {},
     "output_type": "execute_result"
    },
    {
     "data": {
      "application/vnd.jupyter.widget-view+json": {
       "model_id": "bb1548c963da4ebb9ff471d097fe50ce",
       "version_major": 2,
       "version_minor": 0
      },
      "image/png": "[encoded data removed]",
      "text/html": [
       "\n",
       "            <div style=\"display: inline-block;\">\n",
       "                <div class=\"jupyter-widgets widget-label\" style=\"text-align: center;\">\n",
       "                    Navigation data\n",
       "                </div>\n",
       "                <img src='data:image/png;base64,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' width=640.0/>\n",
       "            </div>\n",
       "        "
      ],
      "text/plain": [
       "Canvas(toolbar=Toolbar(toolitems=[('Home', 'Reset original view', 'home', 'home'), ('Back', 'Back to previous …"
      ]
     },
     "metadata": {},
     "output_type": "display_data"
    }
   ],
   "source": [
    "# navigation overview (short version)\n",
    "from themachinethatgoesping.pingprocessing import overview, split_pings\n",
    "fig,ax = overview.nav_plot.create_figure('Navigation data', aspect='auto')\n",
    "\n",
    "# split pings if time difference between pings > 15 minutes\n",
    "ping_containers = split_pings.by_time_difference(filtered_pings, 15*60)\n",
    "\n",
    "for key, pings in ping_containers.items():\n",
    "    stats = overview.get_ping_overview(pings)\n",
    "    start_time = pings[0].get_datetime()\n",
    "    stats.plot_navigation(ax, label=f'Survey {start_time}')\n",
    "\n",
    "ax.legend()"
   ]
  },
  {
   "cell_type": "code",
   "execution_count": 9,
   "metadata": {},
   "outputs": [
    {
     "data": {
      "application/vnd.jupyter.widget-view+json": {
       "model_id": "d637c107905546249cd024e0d45bf038",
       "version_major": 2,
       "version_minor": 0
      },
      "text/plain": [
       "  0%|          | 0/12 [00:00<?, ?it/s]"
      ]
     },
     "metadata": {},
     "output_type": "display_data"
    },
    {
     "name": "stdout",
     "output_type": "stream",
     "text": [
      "WatercolumnDatagram\n",
      "###################\n",
      "- bytes:               62790    \n",
      "- stx:                 0x02     \n",
      "- datagram_identifier: 0x6b     [WatercolumnDatagram]\n",
      "- model_number:        EM2040   \n",
      "- date:                20230318 [YYYYMMDD]\n",
      "- time_since_midnight: 63474152 [ms]\n",
      "\n",
      " date/time \n",
      "-----------   \n",
      "- timestamp: 1679161074.15 [s]\n",
      "- date:      18/03/2023    [MM/DD/YYYY]\n",
      "- time:      17:37:54.152  [HH:MM:SS]\n",
      "\n",
      " datagram content \n",
      "------------------    \n",
      "- ping_counter:                29608      \n",
      "- system_serial_number:        2004       \n",
      "- number_of_datagrams:         7          \n",
      "- datagram_number:             1          \n",
      "- number_of_transmit_sectors:  1          \n",
      "- total_no_of_receive_beams:   256        \n",
      "- number_of_beams_in_datagram: 256        \n",
      "- sound_speed:                 14816      [0.1 m/s]\n",
      "- sampling_frequency:          2941176    [0.01 Hz]\n",
      "- tx_time_heave:               -1         [cm]\n",
      "- tvg_function_applied:        30         \n",
      "- tvg_offset_in_db:            40         \n",
      "- scanning_info:               0b00000000 \n",
      "- spare:                       0x000      \n",
      "- spare_byte:                  0          \n",
      "\n",
      " processed \n",
      "-----------       \n",
      "- sound_speed:        1481.60  [m/s]\n",
      "- sampling_frequency: 29411.76 [Hz]\n",
      "- tx_time_heave:      -0.01    [m]\n",
      "\n",
      " substructures \n",
      "--------------- \n",
      "- transmit_sectors: 1   [WatercolumnDatagramTransmitSector]\n",
      "- beams:            256 [WatercolumnDatagramBeams]\n"
     ]
    }
   ],
   "source": [
    "for ping in tqdm(pings[:20000]):\n",
    "    if ping.has_watercolumn():\n",
    "        w = ping.file_data.read_merged_watercolumndatagram()\n",
    "print(w)"
   ]
  },
  {
   "cell_type": "code",
   "execution_count": 10,
   "metadata": {},
   "outputs": [
    {
     "data": {
      "application/vnd.jupyter.widget-view+json": {
       "model_id": "ce233457960f444d97c5b3cfe2da2d0a",
       "version_major": 2,
       "version_minor": 0
      },
      "text/plain": [
       "  0%|          | 0/12 [00:00<?, ?it/s]"
      ]
     },
     "metadata": {},
     "output_type": "display_data"
    },
    {
     "name": "stdout",
     "output_type": "stream",
     "text": [
      "[[-128. -128. -128. ...  -19.   -7.  -26.]\n",
      " [-128. -128. -128. ...   nan   nan   nan]\n",
      " [-128. -128. -128. ...   nan   nan   nan]\n",
      " ...\n",
      " [-128. -128. -128. ...   nan   nan   nan]\n",
      " [-128. -128. -128. ...   nan   nan   nan]\n",
      " [-128. -128. -128. ...   nan   nan   nan]]\n"
     ]
    }
   ],
   "source": [
    "for ping in tqdm(pings[:20000]):\n",
    "    if ping.has_watercolumn():\n",
    "        a = ping.watercolumn.get_amplitudes()\n",
    "print(a)"
   ]
  },
  {
   "cell_type": "code",
   "execution_count": 11,
   "metadata": {},
   "outputs": [
    {
     "data": {
      "application/vnd.jupyter.widget-view+json": {
       "model_id": "80cf9b1ebda641a9be8f745716e96b17",
       "version_major": 2,
       "version_minor": 0
      },
      "text/plain": [
       "  0%|          | 0/12 [00:00<?, ?it/s]"
      ]
     },
     "metadata": {},
     "output_type": "display_data"
    },
    {
     "name": "stdout",
     "output_type": "stream",
     "text": [
      "[[-85.97043  -90.74164  -92.96013  ... -69.02841  -63.029938 -72.53146 ]\n",
      " [-85.97043  -90.74164  -92.96013  ...        nan        nan        nan]\n",
      " [-85.97043  -90.74164  -92.96013  ...        nan        nan        nan]\n",
      " ...\n",
      " [-85.97043  -90.74164  -92.96013  ...        nan        nan        nan]\n",
      " [-85.97043  -90.74164  -92.96013  ...        nan        nan        nan]\n",
      " [-85.97043  -90.74164  -92.96013  ...        nan        nan        nan]]\n"
     ]
    }
   ],
   "source": [
    "for ping in tqdm(pings[:20000]):\n",
    "    if ping.has_watercolumn():\n",
    "        av = ping.watercolumn.get_av()\n",
    "print(av)"
   ]
  },
  {
   "cell_type": "code",
   "execution_count": null,
   "metadata": {},
   "outputs": [],
   "source": []
  },
  {
   "cell_type": "code",
   "execution_count": 12,
   "metadata": {},
   "outputs": [
    {
     "data": {
      "text/plain": [
       "[KongsbergAllPing,\n",
       " KongsbergAllPing,\n",
       " KongsbergAllPing,\n",
       " KongsbergAllPing,\n",
       " KongsbergAllPing,\n",
       " KongsbergAllPing,\n",
       " KongsbergAllPing,\n",
       " KongsbergAllPing,\n",
       " KongsbergAllPing,\n",
       " KongsbergAllPing,\n",
       " KongsbergAllPing,\n",
       " KongsbergAllPing]"
      ]
     },
     "execution_count": 12,
     "metadata": {},
     "output_type": "execute_result"
    }
   ],
   "source": [
    "filtered_pings"
   ]
  },
  {
   "cell_type": "code",
   "execution_count": 13,
   "metadata": {
    "notebookRunGroups": {
     "groupValue": "1"
    },
    "tags": []
   },
   "outputs": [
    {
     "data": {
      "application/vnd.jupyter.widget-view+json": {
       "model_id": "4ff4b3df0b314514b6c68f4570456fbf",
       "version_major": 2,
       "version_minor": 0
      },
      "image/png": "[encoded data removed]",
      "text/html": [
       "\n",
       "            <div style=\"display: inline-block;\">\n",
       "                <div class=\"jupyter-widgets widget-label\" style=\"text-align: center;\">\n",
       "                    WCI\n",
       "                </div>\n",
       "                <img src='data:image/png;base64,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' width=640.0/>\n",
       "            </div>\n",
       "        "
      ],
      "text/plain": [
       "Canvas(toolbar=Toolbar(toolitems=[('Home', 'Reset original view', 'home', 'home'), ('Back', 'Back to previous …"
      ]
     },
     "metadata": {},
     "output_type": "display_data"
    }
   ],
   "source": [
    "plt.close(\"WCI\")\n",
    "fig_wci = plt.figure(\"WCI\")\n",
    "ax_wci = fig_wci.subplots()"
   ]
  },
  {
   "cell_type": "code",
   "execution_count": null,
   "metadata": {
    "notebookRunGroups": {
     "groupValue": "2"
    },
    "tags": []
   },
   "outputs": [],
   "source": [
    "from ipywidgets import *\n",
    "from time import time\n",
    "import themachinethatgoesping.pingprocessing.watercolumn.image as mi\n",
    "import themachinethatgoesping.pingprocessing.watercolumn.helper.make_image_helper as mi_hlp\n",
    "\n",
    "#filtered_pings, transducers = group_dual_pings(fm.get_pings.get_sorted_by_time())\n",
    "\n",
    "fig_wci.set_tight_layout(True)\n",
    "\n",
    "last_split_plot = 100\n",
    "\n",
    "output = Output()\n",
    "\n",
    "pss = Ping.echosounders.pingtools.PingSampleSelector()\n",
    "#pss.select_beam_range_by_angles(-60,-30)\n",
    "\n",
    "\n",
    "#@widgets.interact\n",
    "#@debounce(0.1)\n",
    "@output.capture()\n",
    "def update(w):  \n",
    "    try:\n",
    "        if w_protect_stack.value:\n",
    "            if w['owner'] != w_wci_stack:\n",
    "                if float(w_text_execut2ion_time.value) > 0.5:\n",
    "                    w_wci_stack.value = w_wci_stack.value * 0.5 / float(w_text_execution_time.value)\n",
    "        if w_wci_stack.value > 1:\n",
    "            w_wci.step = int(w_wci_stack.value/2)\n",
    "    except Exception as e:\n",
    "        pass\n",
    "    \n",
    "    w_text_num_total.value = str(int(w_text_num_total.value) +1)\n",
    "    w_text_num_active.value = str(int(w_text_num_active.value) +1)\n",
    "    \n",
    "    t = time()\n",
    "    global a, last_split_plot, ax_wci, fig_wci, ping1, ping2,wci\n",
    "    a = w\n",
    "    #print(w)\n",
    "    wci_index = w_wci.value\n",
    "    wci_stack = w_wci_stack.value\n",
    "    wci_stack_step = w_wci_stack_step.value\n",
    "    cmin = w_cmin.value\n",
    "    cmax = w_cmax.value\n",
    "    aspect = w_aspect.value\n",
    "    hsize = w_hsize.value\n",
    "    heads = w_heads.value\n",
    "    interpolation = w_interpolation.value\n",
    "    maxz = w_z.value\n",
    "    from_bottom = w_from_bottom.value\n",
    "    threshold_white = w_threshold.value\n",
    "    linear_mean = w_linear_stack.value\n",
    "     \n",
    "    ping = filtered_pings[wci_index]\n",
    "    \n",
    "    if wci_stack > 1:\n",
    "        max_index = wci_index+wci_stack\n",
    "        if max_index > len(filtered_pings):\n",
    "            max_index = len(filtered_pings)\n",
    "        pings = []\n",
    "        for p in filtered_pings[wci_index:max_index:wci_stack_step]:\n",
    "            pings.append(p)\n",
    "                \n",
    "        #pings = pings[::2]\n",
    "    \n",
    "\n",
    "    try:\n",
    "        if wci_stack > 1:\n",
    "            wci,extent = mi.make_wci_stack(\n",
    "                pings,\n",
    "                hsize,\n",
    "                progress_bar=progress_bar,\n",
    "                linear_mean=linear_mean,\n",
    "                from_bottom_xyz=from_bottom,\n",
    "                mp_cores=w_cores.value)\n",
    "        else:\n",
    "            if heads == 'split_dual_rect':\n",
    "                wci = ping.watercolumn.get_amplitudes()\n",
    "                extent = [0, ping.watercolumn.get_number_of_beams(),0, ping.watercolumn.get_number_of_samples_per_beam()[0]]\n",
    "            else:        \n",
    "                wci,extent = mi.make_wci(\n",
    "                    ping,\n",
    "                    hsize,\n",
    "                    from_bottom_xyz=from_bottom,\n",
    "                    ping_sample_selector = pss,\n",
    "                    mp_cores=w_cores.value)\n",
    "        \n",
    "                    \n",
    "        ax_wci.clear()\n",
    "            \n",
    "        mapable = ax_wci.imshow(wci.transpose(),aspect=aspect, extent = extent, cmap='YlGnBu_r',vmin=cmin, vmax=cmax,interpolation=interpolation)\n",
    "        \n",
    "        if not heads == 'split_dual_rect':\n",
    "            if not maxz == -1:\n",
    "                ax_wci.set_ylim(maxz,0)\n",
    "                               \n",
    "        w_text_num_active.value = str(int(w_text_num_active.value) -1)\n",
    "        w_text_execution_time.value = str(round(time()-t,3))\n",
    "            \n",
    "        \n",
    "    except Exception as e:\n",
    "        #print(e)\n",
    "        #pass\n",
    "        raise (e)\n",
    "\n",
    "\n",
    "w_z = FloatSlider(min=-1, max=50, step=1, value = -1)\n",
    "w_cmin = FloatSlider(min=-150, max=150, step=5, value = -90)\n",
    "w_cmax = FloatSlider(min=-150, max=150, step=5, value = 50)\n",
    "w_wci = IntSlider(min=0, max=len(filtered_pings)-1, step=1, value =0)\n",
    "w_hsize = IntSlider(min=1, max=2048, step=1, value = 1024)\n",
    "\n",
    "w_from_bottom = Checkbox(description=\"from bottom\", value=False)\n",
    "w_linear_stack = Checkbox(description=\"linear stack\", value=True)\n",
    "w_protect_stack = Checkbox(description=\"protect stacking time\", value=False)\n",
    "w_threshold = Checkbox(description=\"threshhold white\", value=False)\n",
    "w_av = Checkbox(description=\"compute AV\", value=True)\n",
    "\n",
    "w_aspect = Dropdown(options=['auto', 'equal'], value='equal')\n",
    "w_heads = Dropdown(options=['blend_dual', 'blend_dual_inverse', 'split_dual', 'split_dual_rect'], value='blend_dual')\n",
    "w_interpolation = Dropdown(options=['antialiased', 'none', 'nearest', 'bilinear', 'bicubic', 'spline16', 'spline36', 'hanning', 'hamming', 'hermite', 'kaiser', 'quadric', 'catrom', 'gaussian', 'bessel', 'mitchell', 'sinc', 'lanczos', 'blackman'], value='nearest')\n",
    "w_wci_stack = IntText(\n",
    "    value=1,\n",
    "    description='stack:',\n",
    "    disabled=False\n",
    ")\n",
    "w_wci_stack_step = IntText(\n",
    "    value=1,\n",
    "    description='stack step:',\n",
    "    disabled=False\n",
    ")\n",
    "w_cores = IntText(\n",
    "    value=1,\n",
    "    description='cores:',\n",
    "    disabled=False\n",
    ")\n",
    "\n",
    "w_text_num_total = Text(\n",
    "    value='0',\n",
    "    placeholder='0',\n",
    "    description='Total executions:',\n",
    "    disabled=False   \n",
    ")\n",
    "w_text_num_active = Text(\n",
    "    value='0',\n",
    "    placeholder='0',\n",
    "    description='Active executions:',\n",
    "    disabled=False   \n",
    ")\n",
    "w_text_execution_time = Text(\n",
    "    value='0',\n",
    "    placeholder='0',\n",
    "    description='Time of last execution:',\n",
    "    disabled=False   \n",
    ")\n",
    "w_progress = IntProgress(\n",
    "    value=0,\n",
    "    min=0,\n",
    "    max=10,\n",
    "    step=1,\n",
    "    description='Stacking:',\n",
    "    bar_style='', # 'success', 'info', 'warning', 'danger' or ''\n",
    "    orientation='horizontal'\n",
    ")\n",
    "progress_bar = fake_tqdm(w_progress)\n",
    "\n",
    "box_text = HBox([w_text_num_total,w_text_num_active,w_text_execution_time])\n",
    "box_options = HBox([w_aspect,w_heads,w_interpolation,w_wci_stack,w_wci_stack_step, w_cores])\n",
    "box_check = HBox([w_from_bottom,w_linear_stack,w_protect_stack, w_threshold, w_av])\n",
    "\n",
    "w_z.observe(update, names=['value'])\n",
    "w_cmin.observe(update, names=['value'])\n",
    "w_cmax.observe(update, names=['value'])\n",
    "w_wci.observe(update, names=['value'])\n",
    "w_cores.observe(update, names=['value'])\n",
    "w_wci_stack.observe(update, names=['value'])\n",
    "w_wci_stack_step.observe(update, names=['value'])\n",
    "w_hsize.observe(update, names=['value'])\n",
    "w_aspect.observe(update, names=['value'])\n",
    "w_from_bottom.observe(update, names=['value'])\n",
    "w_threshold.observe(update, names=['value'])\n",
    "w_av.observe(update, names=['value'])\n",
    "w_linear_stack.observe(update, names=['value'])\n",
    "w_heads.observe(update, names=['value'])\n",
    "w_interpolation.observe(update, names=['value'])\n",
    "\n",
    "\n",
    "update(0)\n",
    "display(fig_wci.canvas,output,w_progress, box_text, box_options, box_check, w_z, w_cmin,w_cmax,w_wci,w_hsize)"
   ]
  },
  {
   "cell_type": "code",
   "execution_count": null,
   "metadata": {},
   "outputs": [],
   "source": []
  },
  {
   "cell_type": "code",
   "execution_count": null,
   "metadata": {},
   "outputs": [],
   "source": [
    "grouped_pings = Ping.pingprocessing.group_pings.dual_head(filtered_pings)"
   ]
  },
  {
   "cell_type": "code",
   "execution_count": null,
   "metadata": {},
   "outputs": [],
   "source": [
    "from ipywidgets import *\n",
    "from time import time\n",
    "import themachinethatgoesping.pingprocessing.watercolumn.image as mi\n",
    "import themachinethatgoesping.pingprocessing.watercolumn.helper.make_image_helper as mi_hlp\n",
    "\n",
    "#filtered_pings, transducers = group_dual_pings(fm.get_pings.get_sorted_by_time())\n",
    "\n",
    "fig_wci.set_tight_layout(True)\n",
    "\n",
    "last_split_plot = 100\n",
    "\n",
    "output = Output()\n",
    "\n",
    "pss = Ping.echosounders.pingtools.PingSampleSelector()\n",
    "#pss.select_beam_range_by_angles(-60,-30)\n",
    "\n",
    "\n",
    "#@widgets.interact\n",
    "#@debounce(0.1)\n",
    "@output.capture()\n",
    "def update(w):  \n",
    "    try:\n",
    "        if w_protect_stack.value:\n",
    "            if w['owner'] != w_wci_stack:\n",
    "                if float(w_text_execut2ion_time.value) > 0.5:\n",
    "                    w_wci_stack.value = w_wci_stack.value * 0.5 / float(w_text_execution_time.value)\n",
    "        if w_wci_stack.value > 1:\n",
    "            w_wci.step = int(w_wci_stack.value/2)\n",
    "    except Exception as e:\n",
    "        pass\n",
    "    \n",
    "    w_text_num_total.value = str(int(w_text_num_total.value) +1)\n",
    "    w_text_num_active.value = str(int(w_text_num_active.value) +1)\n",
    "    \n",
    "    t = time()\n",
    "    global a, last_split_plot, ax_wci, fig_wci, ping1, ping2,wci\n",
    "    a = w\n",
    "    #print(w)\n",
    "    wci_index = w_wci.value\n",
    "    wci_stack = w_wci_stack.value\n",
    "    wci_stack_step = w_wci_stack_step.value\n",
    "    cmin = w_cmin.value\n",
    "    cmax = w_cmax.value\n",
    "    aspect = w_aspect.value\n",
    "    hsize = w_hsize.value\n",
    "    heads = w_heads.value\n",
    "    interpolation = w_interpolation.value\n",
    "    maxz = w_z.value\n",
    "    from_bottom = w_from_bottom.value\n",
    "    threshold_white = w_threshold.value\n",
    "    linear_mean = w_linear_stack.value\n",
    "     \n",
    "    ping = grouped_pings[wci_index]\n",
    "    \n",
    "    if wci_stack > 1:\n",
    "        max_index = wci_index+wci_stack\n",
    "        if max_index > len(grouped_pings):\n",
    "            max_index = len(grouped_pings)\n",
    "        pings = []\n",
    "        for p in grouped_pings[wci_index:max_index:wci_stack_step]:\n",
    "            pings.append(p)\n",
    "                \n",
    "        #pings = pings[::2]\n",
    "    \n",
    "\n",
    "    try:\n",
    "        if wci_stack > 1:\n",
    "            wci,extent = mi.make_wci_stack(\n",
    "                pings,\n",
    "                hsize,\n",
    "                progress_bar=progress_bar,\n",
    "                linear_mean=linear_mean,\n",
    "                from_bottom_xyz=from_bottom,\n",
    "                mp_cores=w_cores.value)\n",
    "        else:\n",
    "            if heads == 'split_dual_rect':\n",
    "                wci = ping.watercolumn.get_amplitudes()\n",
    "                extent = [0, ping.watercolumn.get_number_of_beams(),0, ping.watercolumn.get_number_of_samples_per_beam()[0]]\n",
    "            else:        \n",
    "                wci,extent = mi.make_wci_dual_head(\n",
    "                    ping,\n",
    "                    hsize,\n",
    "                    from_bottom_xyz=from_bottom,\n",
    "                    ping_sample_selector = pss,\n",
    "                    mp_cores=w_cores.value)\n",
    "        \n",
    "                    \n",
    "        ax_wci.clear()\n",
    "            \n",
    "        mapable = ax_wci.imshow(wci.transpose(),aspect=aspect, extent = extent, cmap='YlGnBu_r',vmin=cmin, vmax=cmax,interpolation=interpolation)\n",
    "        \n",
    "        if not heads == 'split_dual_rect':\n",
    "            if not maxz == -1:\n",
    "                ax_wci.set_ylim(maxz,0)\n",
    "                               \n",
    "        w_text_num_active.value = str(int(w_text_num_active.value) -1)\n",
    "        w_text_execution_time.value = str(round(time()-t,3))\n",
    "            \n",
    "        \n",
    "    except Exception as e:\n",
    "        print(e)\n",
    "        pass\n",
    "        #raise (e)\n",
    "\n",
    "\n",
    "w_z = FloatSlider(min=-1, max=50, step=1, value = -1)\n",
    "w_cmin = FloatSlider(min=-150, max=150, step=5, value = -90)\n",
    "w_cmax = FloatSlider(min=-150, max=150, step=5, value = 50)\n",
    "w_wci = IntSlider(min=0, max=len(grouped_pings)-1, step=1, value =0)\n",
    "w_hsize = IntSlider(min=1, max=2048, step=1, value = 1024)\n",
    "\n",
    "w_from_bottom = Checkbox(description=\"from bottom\", value=False)\n",
    "w_linear_stack = Checkbox(description=\"linear stack\", value=True)\n",
    "w_protect_stack = Checkbox(description=\"protect stacking time\", value=False)\n",
    "w_threshold = Checkbox(description=\"threshhold white\", value=False)\n",
    "w_av = Checkbox(description=\"compute AV\", value=True)\n",
    "\n",
    "w_aspect = Dropdown(options=['auto', 'equal'], value='equal')\n",
    "w_heads = Dropdown(options=['blend_dual', 'blend_dual_inverse', 'split_dual', 'split_dual_rect'], value='blend_dual')\n",
    "w_interpolation = Dropdown(options=['antialiased', 'none', 'nearest', 'bilinear', 'bicubic', 'spline16', 'spline36', 'hanning', 'hamming', 'hermite', 'kaiser', 'quadric', 'catrom', 'gaussian', 'bessel', 'mitchell', 'sinc', 'lanczos', 'blackman'], value='nearest')\n",
    "w_wci_stack = IntText(\n",
    "    value=1,\n",
    "    description='stack:',\n",
    "    disabled=False\n",
    ")\n",
    "w_wci_stack_step = IntText(\n",
    "    value=1,\n",
    "    description='stack step:',\n",
    "    disabled=False\n",
    ")\n",
    "w_cores = IntText(\n",
    "    value=1,\n",
    "    description='cores:',\n",
    "    disabled=False\n",
    ")\n",
    "\n",
    "w_text_num_total = Text(\n",
    "    value='0',\n",
    "    placeholder='0',\n",
    "    description='Total executions:',\n",
    "    disabled=False   \n",
    ")\n",
    "w_text_num_active = Text(\n",
    "    value='0',\n",
    "    placeholder='0',\n",
    "    description='Active executions:',\n",
    "    disabled=False   \n",
    ")\n",
    "w_text_execution_time = Text(\n",
    "    value='0',\n",
    "    placeholder='0',\n",
    "    description='Time of last execution:',\n",
    "    disabled=False   \n",
    ")\n",
    "w_progress = IntProgress(\n",
    "    value=0,\n",
    "    min=0,\n",
    "    max=10,\n",
    "    step=1,\n",
    "    description='Stacking:',\n",
    "    bar_style='', # 'success', 'info', 'warning', 'danger' or ''\n",
    "    orientation='horizontal'\n",
    ")\n",
    "progress_bar = fake_tqdm(w_progress)\n",
    "\n",
    "box_text = HBox([w_text_num_total,w_text_num_active,w_text_execution_time])\n",
    "box_options = HBox([w_aspect,w_heads,w_interpolation,w_wci_stack,w_wci_stack_step, w_cores])\n",
    "box_check = HBox([w_from_bottom,w_linear_stack,w_protect_stack, w_threshold, w_av])\n",
    "\n",
    "w_z.observe(update, names=['value'])\n",
    "w_cmin.observe(update, names=['value'])\n",
    "w_cmax.observe(update, names=['value'])\n",
    "w_wci.observe(update, names=['value'])\n",
    "w_cores.observe(update, names=['value'])\n",
    "w_wci_stack.observe(update, names=['value'])\n",
    "w_wci_stack_step.observe(update, names=['value'])\n",
    "w_hsize.observe(update, names=['value'])\n",
    "w_aspect.observe(update, names=['value'])\n",
    "w_from_bottom.observe(update, names=['value'])\n",
    "w_threshold.observe(update, names=['value'])\n",
    "w_av.observe(update, names=['value'])\n",
    "w_linear_stack.observe(update, names=['value'])\n",
    "w_heads.observe(update, names=['value'])\n",
    "w_interpolation.observe(update, names=['value'])\n",
    "\n",
    "\n",
    "update(0)\n",
    "display(fig_wci.canvas,output,w_progress, box_text, box_options, box_check, w_z, w_cmin,w_cmax,w_wci,w_hsize)"
   ]
  },
  {
   "cell_type": "code",
   "execution_count": null,
   "metadata": {},
   "outputs": [],
   "source": [
    "np.arange(3,12+0.5,0.5)"
   ]
  },
  {
   "cell_type": "code",
   "execution_count": null,
   "metadata": {},
   "outputs": [],
   "source": []
  }
 ],
 "metadata": {
  "kernelspec": {
   "display_name": "Python 3 (ipykernel)",
   "language": "python",
   "name": "python3"
  },
  "language_info": {
   "codemirror_mode": {
    "name": "ipython",
    "version": 3
   },
   "file_extension": ".py",
   "mimetype": "text/x-python",
   "name": "python",
   "nbconvert_exporter": "python",
   "pygments_lexer": "ipython3",
   "version": "3.12.3"
  },
  "widgets": {
   "application/vnd.jupyter.widget-state+json": {
    "state": {
     "01753807df55463289cf6604d78f2d47": {
      "model_module": "@jupyter-widgets/base",
      "model_module_version": "2.0.0",
      "model_name": "LayoutModel",
      "state": {}
     },
     "0b1cc19e92414b23b5fd35273307ffb4": {
      "model_module": "@jupyter-widgets/base",
      "model_module_version": "2.0.0",
      "model_name": "LayoutModel",
      "state": {}
     },
     "0d2857de9fe746ab9505e907a5ecc1a4": {
      "model_module": "jupyter-matplotlib",
      "model_module_version": "^0.11",
      "model_name": "ToolbarModel",
      "state": {
       "_model_module_version": "^0.11",
       "_view_module_version": "^0.11",
       "collapsed": true,
       "layout": "IPY_MODEL_01753807df55463289cf6604d78f2d47",
       "orientation": "vertical",
       "toolitems": [
        [
         "Home",
         "Reset original view",
         "home",
         "home"
        ],
        [
         "Back",
         "Back to previous view",
         "arrow-left",
         "back"
        ],
        [
         "Forward",
         "Forward to next view",
         "arrow-right",
         "forward"
        ],
        [
         "Pan",
         "Left button pans, Right button zooms\nx/y fixes axis, CTRL fixes aspect",
         "arrows",
         "pan"
        ],
        [
         "Zoom",
         "Zoom to rectangle\nx/y fixes axis",
         "square-o",
         "zoom"
        ],
        [
         "Download",
         "Download plot",
         "floppy-o",
         "save_figure"
        ]
       ]
      }
     },
     "174ba08101474821b13295bed511b876": {
      "model_module": "@jupyter-widgets/controls",
      "model_module_version": "2.0.0",
      "model_name": "FloatProgressModel",
      "state": {
       "bar_style": "success",
       "layout": "IPY_MODEL_6c92fabb02884f448518ad96a69e3b4b",
       "max": 16,
       "style": "IPY_MODEL_e61b516a4e1b43b8a49b1cbeb75efbb1",
       "value": 16
      }
     },
     "1d3f9b28e0294267ac64860a20e5d4c8": {
      "model_module": "@jupyter-widgets/base",
      "model_module_version": "2.0.0",
      "model_name": "LayoutModel",
      "state": {}
     },
     "1d88aafa7dd14e2098ea8bab9745dac5": {
      "model_module": "@jupyter-widgets/base",
      "model_module_version": "2.0.0",
      "model_name": "LayoutModel",
      "state": {}
     },
     "2226d2df367649e1a8b99f9c1ea2b90f": {
      "model_module": "@jupyter-widgets/controls",
      "model_module_version": "2.0.0",
      "model_name": "ProgressStyleModel",
      "state": {
       "description_width": ""
      }
     },
     "22cd3f242871425f8e6ec7bf3a3b6d47": {
      "model_module": "@jupyter-widgets/controls",
      "model_module_version": "2.0.0",
      "model_name": "ProgressStyleModel",
      "state": {
       "description_width": ""
      }
     },
     "22deeccfd95842f4879d514031b5d417": {
      "model_module": "@jupyter-widgets/controls",
      "model_module_version": "2.0.0",
      "model_name": "HTMLStyleModel",
      "state": {
       "description_width": "",
       "font_size": null,
       "text_color": null
      }
     },
     "23449c11c5264df6985c570ab35ae5a1": {
      "model_module": "@jupyter-widgets/base",
      "model_module_version": "2.0.0",
      "model_name": "LayoutModel",
      "state": {}
     },
     "249f1915cf12458a9014527f7ea8ef99": {
      "model_module": "@jupyter-widgets/base",
      "model_module_version": "2.0.0",
      "model_name": "LayoutModel",
      "state": {}
     },
     "340c6d12b67f4395a10333d38cd6b5ee": {
      "model_module": "@jupyter-widgets/controls",
      "model_module_version": "2.0.0",
      "model_name": "HTMLModel",
      "state": {
       "layout": "IPY_MODEL_dfebe39538304b26aead0bfa8f2a7941",
       "style": "IPY_MODEL_52d6482216f44b6f969a39c1ada22881",
       "value": " 12/12 [00:00&lt;00:00, 752.51it/s]"
      }
     },
     "365a1d8cd98246a4a9d0032f5ca4f53b": {
      "model_module": "@jupyter-widgets/base",
      "model_module_version": "2.0.0",
      "model_name": "LayoutModel",
      "state": {}
     },
     "37ad2058703f4d8a9c249cd53a777e7b": {
      "model_module": "@jupyter-widgets/controls",
      "model_module_version": "2.0.0",
      "model_name": "ProgressStyleModel",
      "state": {
       "description_width": ""
      }
     },
     "37edb53ea0224f9daf2bcf485072a23d": {
      "model_module": "@jupyter-widgets/controls",
      "model_module_version": "2.0.0",
      "model_name": "HTMLModel",
      "state": {
       "layout": "IPY_MODEL_249f1915cf12458a9014527f7ea8ef99",
       "style": "IPY_MODEL_d91b176e995149bfba0dd6ca241353c3",
       "value": "100%"
      }
     },
     "38b581829fe64443b4d5ea3a5d478380": {
      "model_module": "@jupyter-widgets/controls",
      "model_module_version": "2.0.0",
      "model_name": "ProgressStyleModel",
      "state": {
       "description_width": ""
      }
     },
     "4104c52919e34936a0a246f905267e71": {
      "model_module": "@jupyter-widgets/controls",
      "model_module_version": "2.0.0",
      "model_name": "HTMLModel",
      "state": {
       "layout": "IPY_MODEL_1d88aafa7dd14e2098ea8bab9745dac5",
       "style": "IPY_MODEL_60a23c12e2eb48caaec2c1bdbf7ac19c",
       "value": "Filter pings by features: 100%"
      }
     },
     "44ce985bd444455a8148781eb3cd51cb": {
      "model_module": "@jupyter-widgets/controls",
      "model_module_version": "2.0.0",
      "model_name": "HTMLModel",
      "state": {
       "layout": "IPY_MODEL_1d3f9b28e0294267ac64860a20e5d4c8",
       "style": "IPY_MODEL_ae2e1087c4ee49ed9e8640277969998a",
       "value": "removing duplicates: 100%"
      }
     },
     "45beccdbe9e74000b4b5e8f42b0ae3ab": {
      "model_module": "@jupyter-widgets/controls",
      "model_module_version": "2.0.0",
      "model_name": "FloatProgressModel",
      "state": {
       "bar_style": "success",
       "layout": "IPY_MODEL_d94c56974d8744cc81e33efee3b58421",
       "max": 12,
       "style": "IPY_MODEL_37ad2058703f4d8a9c249cd53a777e7b",
       "value": 12
      }
     },
     "47cb77cb07f041bfb290c2953c3b5bd0": {
      "model_module": "@jupyter-widgets/controls",
      "model_module_version": "2.0.0",
      "model_name": "FloatProgressModel",
      "state": {
       "bar_style": "success",
       "layout": "IPY_MODEL_23449c11c5264df6985c570ab35ae5a1",
       "max": 12,
       "style": "IPY_MODEL_38b581829fe64443b4d5ea3a5d478380",
       "value": 12
      }
     },
     "4ea5836b00f1420480a6bea483b5062c": {
      "model_module": "@jupyter-widgets/controls",
      "model_module_version": "2.0.0",
      "model_name": "HTMLModel",
      "state": {
       "layout": "IPY_MODEL_f43a7a3531224739bef6cdcef14f59f5",
       "style": "IPY_MODEL_9247d39e9f1e4ac69ecf14dc736d679b",
       "value": "100%"
      }
     },
     "4ff4b3df0b314514b6c68f4570456fbf": {
      "model_module": "jupyter-matplotlib",
      "model_module_version": "^0.11",
      "model_name": "MPLCanvasModel",
      "state": {
       "_data_url": "data:image/png;base64,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",
       "_figure_label": "WCI",
       "_model_module_version": "^0.11",
       "_size": [
        640,
        480
       ],
       "_view_module_version": "^0.11",
       "layout": "IPY_MODEL_797f30bf342346e2bbc0621b9446d6eb",
       "toolbar": "IPY_MODEL_0d2857de9fe746ab9505e907a5ecc1a4",
       "toolbar_position": "left"
      }
     },
     "52d6482216f44b6f969a39c1ada22881": {
      "model_module": "@jupyter-widgets/controls",
      "model_module_version": "2.0.0",
      "model_name": "HTMLStyleModel",
      "state": {
       "description_width": "",
       "font_size": null,
       "text_color": null
      }
     },
     "54fbc94cc3334252a63219f4c09eb6d7": {
      "model_module": "@jupyter-widgets/base",
      "model_module_version": "2.0.0",
      "model_name": "LayoutModel",
      "state": {}
     },
     "5c7c53ddca024048a31848054a353141": {
      "model_module": "@jupyter-widgets/controls",
      "model_module_version": "2.0.0",
      "model_name": "HTMLModel",
      "state": {
       "layout": "IPY_MODEL_365a1d8cd98246a4a9d0032f5ca4f53b",
       "style": "IPY_MODEL_8f8a7a627a09449283ac76625677b89d",
       "value": " 12/12 [00:00&lt;00:00, 2119.58it/s]"
      }
     },
     "5d6cd1b913094d1bb5b73eaea68fce20": {
      "model_module": "@jupyter-widgets/base",
      "model_module_version": "2.0.0",
      "model_name": "LayoutModel",
      "state": {}
     },
     "60101ae7a6ae4130a2559a7cfb944b7a": {
      "model_module": "@jupyter-widgets/controls",
      "model_module_version": "2.0.0",
      "model_name": "FloatProgressModel",
      "state": {
       "bar_style": "success",
       "layout": "IPY_MODEL_a2f8411ac5b54087ac060fd796de85d3",
       "max": 12,
       "style": "IPY_MODEL_2226d2df367649e1a8b99f9c1ea2b90f",
       "value": 12
      }
     },
     "60a23c12e2eb48caaec2c1bdbf7ac19c": {
      "model_module": "@jupyter-widgets/controls",
      "model_module_version": "2.0.0",
      "model_name": "HTMLStyleModel",
      "state": {
       "description_width": "",
       "font_size": null,
       "text_color": null
      }
     },
     "679828fe524b4e59b312dde84731aa82": {
      "model_module": "@jupyter-widgets/base",
      "model_module_version": "2.0.0",
      "model_name": "LayoutModel",
      "state": {}
     },
     "6c57aacf296441a69d28b895b73bf56b": {
      "model_module": "@jupyter-widgets/base",
      "model_module_version": "2.0.0",
      "model_name": "LayoutModel",
      "state": {}
     },
     "6c92fabb02884f448518ad96a69e3b4b": {
      "model_module": "@jupyter-widgets/base",
      "model_module_version": "2.0.0",
      "model_name": "LayoutModel",
      "state": {}
     },
     "6ea537b1cb034887bf90e86623a1cf4f": {
      "model_module": "@jupyter-widgets/controls",
      "model_module_version": "2.0.0",
      "model_name": "FloatProgressModel",
      "state": {
       "bar_style": "success",
       "layout": "IPY_MODEL_7220ccb6ef70493d95ef5f52533e91fc",
       "max": 12,
       "style": "IPY_MODEL_22cd3f242871425f8e6ec7bf3a3b6d47",
       "value": 12
      }
     },
     "70e5eaf59aa24934aa4ce1d848ba46d1": {
      "model_module": "@jupyter-widgets/base",
      "model_module_version": "2.0.0",
      "model_name": "LayoutModel",
      "state": {}
     },
     "7220ccb6ef70493d95ef5f52533e91fc": {
      "model_module": "@jupyter-widgets/base",
      "model_module_version": "2.0.0",
      "model_name": "LayoutModel",
      "state": {}
     },
     "737a4577e5df440fbacec5ec13fce0f6": {
      "model_module": "@jupyter-widgets/controls",
      "model_module_version": "2.0.0",
      "model_name": "HTMLModel",
      "state": {
       "layout": "IPY_MODEL_cdbd6a6182c142419282df1fe892f613",
       "style": "IPY_MODEL_22deeccfd95842f4879d514031b5d417",
       "value": " 12/12 [00:00&lt;00:00, 1956.07it/s]"
      }
     },
     "767a9c58a6c94dc697ba95a39c654eaf": {
      "model_module": "@jupyter-widgets/controls",
      "model_module_version": "2.0.0",
      "model_name": "HTMLStyleModel",
      "state": {
       "description_width": "",
       "font_size": null,
       "text_color": null
      }
     },
     "797f30bf342346e2bbc0621b9446d6eb": {
      "model_module": "@jupyter-widgets/base",
      "model_module_version": "2.0.0",
      "model_name": "LayoutModel",
      "state": {}
     },
     "7c50348619cc46d78c582ebd44c513c4": {
      "model_module": "@jupyter-widgets/controls",
      "model_module_version": "2.0.0",
      "model_name": "FloatProgressModel",
      "state": {
       "bar_style": "success",
       "layout": "IPY_MODEL_9184c22f580e445bae788017750f2eef",
       "max": 12,
       "style": "IPY_MODEL_a5063a128b054219bde0f268f11a9928",
       "value": 12
      }
     },
     "80cf9b1ebda641a9be8f745716e96b17": {
      "model_module": "@jupyter-widgets/controls",
      "model_module_version": "2.0.0",
      "model_name": "HBoxModel",
      "state": {
       "children": [
        "IPY_MODEL_ce1b15416b6b40d2afc038b9f4d4a8f2",
        "IPY_MODEL_7c50348619cc46d78c582ebd44c513c4",
        "IPY_MODEL_c86662d2a92945f7a9026a26fecc65b9"
       ],
       "layout": "IPY_MODEL_6c57aacf296441a69d28b895b73bf56b"
      }
     },
     "88a4c8458df64c0589b522672dc2da0a": {
      "model_module": "@jupyter-widgets/base",
      "model_module_version": "2.0.0",
      "model_name": "LayoutModel",
      "state": {}
     },
     "8f8a7a627a09449283ac76625677b89d": {
      "model_module": "@jupyter-widgets/controls",
      "model_module_version": "2.0.0",
      "model_name": "HTMLStyleModel",
      "state": {
       "description_width": "",
       "font_size": null,
       "text_color": null
      }
     },
     "90912cb478c545e98f71b0f68115b5a7": {
      "model_module": "@jupyter-widgets/controls",
      "model_module_version": "2.0.0",
      "model_name": "HTMLModel",
      "state": {
       "layout": "IPY_MODEL_b781a980f0c44e7b8c695895b4267766",
       "style": "IPY_MODEL_d55ca9d66a70425685bbd0a27e041d39",
       "value": "100%"
      }
     },
     "9184c22f580e445bae788017750f2eef": {
      "model_module": "@jupyter-widgets/base",
      "model_module_version": "2.0.0",
      "model_name": "LayoutModel",
      "state": {}
     },
     "9247d39e9f1e4ac69ecf14dc736d679b": {
      "model_module": "@jupyter-widgets/controls",
      "model_module_version": "2.0.0",
      "model_name": "HTMLStyleModel",
      "state": {
       "description_width": "",
       "font_size": null,
       "text_color": null
      }
     },
     "999cf0138bb6430eaa615fca5a5bad7b": {
      "model_module": "@jupyter-widgets/controls",
      "model_module_version": "2.0.0",
      "model_name": "HBoxModel",
      "state": {
       "children": [
        "IPY_MODEL_4104c52919e34936a0a246f905267e71",
        "IPY_MODEL_60101ae7a6ae4130a2559a7cfb944b7a",
        "IPY_MODEL_b4ca1c1c464a49ab96752f9b68583355"
       ],
       "layout": "IPY_MODEL_c481e01d456b485091381d1feecbac57"
      }
     },
     "a2f8411ac5b54087ac060fd796de85d3": {
      "model_module": "@jupyter-widgets/base",
      "model_module_version": "2.0.0",
      "model_name": "LayoutModel",
      "state": {}
     },
     "a5063a128b054219bde0f268f11a9928": {
      "model_module": "@jupyter-widgets/controls",
      "model_module_version": "2.0.0",
      "model_name": "ProgressStyleModel",
      "state": {
       "description_width": ""
      }
     },
     "a92f4d2e630848c7ae4dd16bbbd20a1b": {
      "model_module": "@jupyter-widgets/base",
      "model_module_version": "2.0.0",
      "model_name": "LayoutModel",
      "state": {}
     },
     "ae2e1087c4ee49ed9e8640277969998a": {
      "model_module": "@jupyter-widgets/controls",
      "model_module_version": "2.0.0",
      "model_name": "HTMLStyleModel",
      "state": {
       "description_width": "",
       "font_size": null,
       "text_color": null
      }
     },
     "b4ca1c1c464a49ab96752f9b68583355": {
      "model_module": "@jupyter-widgets/controls",
      "model_module_version": "2.0.0",
      "model_name": "HTMLModel",
      "state": {
       "layout": "IPY_MODEL_5d6cd1b913094d1bb5b73eaea68fce20",
       "style": "IPY_MODEL_fae443bfe93044cca03e930da3f5fd04",
       "value": " 12/12 [00:00&lt;00:00, 4109.38it/s]"
      }
     },
     "b6a83e1a02c946ca99052588dd69528a": {
      "model_module": "@jupyter-widgets/base",
      "model_module_version": "2.0.0",
      "model_name": "LayoutModel",
      "state": {}
     },
     "b781a980f0c44e7b8c695895b4267766": {
      "model_module": "@jupyter-widgets/base",
      "model_module_version": "2.0.0",
      "model_name": "LayoutModel",
      "state": {}
     },
     "bb1548c963da4ebb9ff471d097fe50ce": {
      "model_module": "jupyter-matplotlib",
      "model_module_version": "^0.11",
      "model_name": "MPLCanvasModel",
      "state": {
       "_data_url": "data:image/png;base64,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",
       "_figure_label": "Navigation data",
       "_model_module_version": "^0.11",
       "_size": [
        640,
        480
       ],
       "_view_module_version": "^0.11",
       "layout": "IPY_MODEL_cf4b216b40f2467c8211c56013f0c42b",
       "toolbar": "IPY_MODEL_cbf348397bb5434e9edacacfc860cebc",
       "toolbar_position": "left"
      }
     },
     "bd4ea28ea7aa4251afb3dfdc3322fc12": {
      "model_module": "@jupyter-widgets/controls",
      "model_module_version": "2.0.0",
      "model_name": "HBoxModel",
      "state": {
       "children": [
        "IPY_MODEL_4ea5836b00f1420480a6bea483b5062c",
        "IPY_MODEL_47cb77cb07f041bfb290c2953c3b5bd0",
        "IPY_MODEL_737a4577e5df440fbacec5ec13fce0f6"
       ],
       "layout": "IPY_MODEL_e1fb5db4b339458788d05ebf9ab0bc48"
      }
     },
     "c481e01d456b485091381d1feecbac57": {
      "model_module": "@jupyter-widgets/base",
      "model_module_version": "2.0.0",
      "model_name": "LayoutModel",
      "state": {}
     },
     "c86662d2a92945f7a9026a26fecc65b9": {
      "model_module": "@jupyter-widgets/controls",
      "model_module_version": "2.0.0",
      "model_name": "HTMLModel",
      "state": {
       "layout": "IPY_MODEL_54fbc94cc3334252a63219f4c09eb6d7",
       "style": "IPY_MODEL_fc7e5159d14e44a2a52cae3dba7ae949",
       "value": " 12/12 [00:00&lt;00:00, 519.53it/s]"
      }
     },
     "ca2563d15e224c68840ae34b98deee41": {
      "model_module": "@jupyter-widgets/controls",
      "model_module_version": "2.0.0",
      "model_name": "HBoxModel",
      "state": {
       "children": [
        "IPY_MODEL_44ce985bd444455a8148781eb3cd51cb",
        "IPY_MODEL_174ba08101474821b13295bed511b876",
        "IPY_MODEL_d35b494e4f754cb2803d775431daea91"
       ],
       "layout": "IPY_MODEL_70e5eaf59aa24934aa4ce1d848ba46d1"
      }
     },
     "cbf348397bb5434e9edacacfc860cebc": {
      "model_module": "jupyter-matplotlib",
      "model_module_version": "^0.11",
      "model_name": "ToolbarModel",
      "state": {
       "_model_module_version": "^0.11",
       "_view_module_version": "^0.11",
       "collapsed": true,
       "layout": "IPY_MODEL_0b1cc19e92414b23b5fd35273307ffb4",
       "orientation": "vertical",
       "toolitems": [
        [
         "Home",
         "Reset original view",
         "home",
         "home"
        ],
        [
         "Back",
         "Back to previous view",
         "arrow-left",
         "back"
        ],
        [
         "Forward",
         "Forward to next view",
         "arrow-right",
         "forward"
        ],
        [
         "Pan",
         "Left button pans, Right button zooms\nx/y fixes axis, CTRL fixes aspect",
         "arrows",
         "pan"
        ],
        [
         "Zoom",
         "Zoom to rectangle\nx/y fixes axis",
         "square-o",
         "zoom"
        ],
        [
         "Download",
         "Download plot",
         "floppy-o",
         "save_figure"
        ]
       ]
      }
     },
     "cdbd6a6182c142419282df1fe892f613": {
      "model_module": "@jupyter-widgets/base",
      "model_module_version": "2.0.0",
      "model_name": "LayoutModel",
      "state": {}
     },
     "ce1b15416b6b40d2afc038b9f4d4a8f2": {
      "model_module": "@jupyter-widgets/controls",
      "model_module_version": "2.0.0",
      "model_name": "HTMLModel",
      "state": {
       "layout": "IPY_MODEL_679828fe524b4e59b312dde84731aa82",
       "style": "IPY_MODEL_ef5cd287e35045fa8579a864a72846d5",
       "value": "100%"
      }
     },
     "ce233457960f444d97c5b3cfe2da2d0a": {
      "model_module": "@jupyter-widgets/controls",
      "model_module_version": "2.0.0",
      "model_name": "HBoxModel",
      "state": {
       "children": [
        "IPY_MODEL_90912cb478c545e98f71b0f68115b5a7",
        "IPY_MODEL_6ea537b1cb034887bf90e86623a1cf4f",
        "IPY_MODEL_340c6d12b67f4395a10333d38cd6b5ee"
       ],
       "layout": "IPY_MODEL_a92f4d2e630848c7ae4dd16bbbd20a1b"
      }
     },
     "cf4b216b40f2467c8211c56013f0c42b": {
      "model_module": "@jupyter-widgets/base",
      "model_module_version": "2.0.0",
      "model_name": "LayoutModel",
      "state": {}
     },
     "d35b494e4f754cb2803d775431daea91": {
      "model_module": "@jupyter-widgets/controls",
      "model_module_version": "2.0.0",
      "model_name": "HTMLModel",
      "state": {
       "layout": "IPY_MODEL_b6a83e1a02c946ca99052588dd69528a",
       "style": "IPY_MODEL_767a9c58a6c94dc697ba95a39c654eaf",
       "value": " 16/16 [00:00&lt;00:00, 6335.81it/s]"
      }
     },
     "d55ca9d66a70425685bbd0a27e041d39": {
      "model_module": "@jupyter-widgets/controls",
      "model_module_version": "2.0.0",
      "model_name": "HTMLStyleModel",
      "state": {
       "description_width": "",
       "font_size": null,
       "text_color": null
      }
     },
     "d637c107905546249cd024e0d45bf038": {
      "model_module": "@jupyter-widgets/controls",
      "model_module_version": "2.0.0",
      "model_name": "HBoxModel",
      "state": {
       "children": [
        "IPY_MODEL_37edb53ea0224f9daf2bcf485072a23d",
        "IPY_MODEL_45beccdbe9e74000b4b5e8f42b0ae3ab",
        "IPY_MODEL_5c7c53ddca024048a31848054a353141"
       ],
       "layout": "IPY_MODEL_88a4c8458df64c0589b522672dc2da0a"
      }
     },
     "d91b176e995149bfba0dd6ca241353c3": {
      "model_module": "@jupyter-widgets/controls",
      "model_module_version": "2.0.0",
      "model_name": "HTMLStyleModel",
      "state": {
       "description_width": "",
       "font_size": null,
       "text_color": null
      }
     },
     "d94c56974d8744cc81e33efee3b58421": {
      "model_module": "@jupyter-widgets/base",
      "model_module_version": "2.0.0",
      "model_name": "LayoutModel",
      "state": {}
     },
     "dfebe39538304b26aead0bfa8f2a7941": {
      "model_module": "@jupyter-widgets/base",
      "model_module_version": "2.0.0",
      "model_name": "LayoutModel",
      "state": {}
     },
     "e1fb5db4b339458788d05ebf9ab0bc48": {
      "model_module": "@jupyter-widgets/base",
      "model_module_version": "2.0.0",
      "model_name": "LayoutModel",
      "state": {}
     },
     "e61b516a4e1b43b8a49b1cbeb75efbb1": {
      "model_module": "@jupyter-widgets/controls",
      "model_module_version": "2.0.0",
      "model_name": "ProgressStyleModel",
      "state": {
       "description_width": ""
      }
     },
     "ef5cd287e35045fa8579a864a72846d5": {
      "model_module": "@jupyter-widgets/controls",
      "model_module_version": "2.0.0",
      "model_name": "HTMLStyleModel",
      "state": {
       "description_width": "",
       "font_size": null,
       "text_color": null
      }
     },
     "f43a7a3531224739bef6cdcef14f59f5": {
      "model_module": "@jupyter-widgets/base",
      "model_module_version": "2.0.0",
      "model_name": "LayoutModel",
      "state": {}
     },
     "fae443bfe93044cca03e930da3f5fd04": {
      "model_module": "@jupyter-widgets/controls",
      "model_module_version": "2.0.0",
      "model_name": "HTMLStyleModel",
      "state": {
       "description_width": "",
       "font_size": null,
       "text_color": null
      }
     },
     "fc7e5159d14e44a2a52cae3dba7ae949": {
      "model_module": "@jupyter-widgets/controls",
      "model_module_version": "2.0.0",
      "model_name": "HTMLStyleModel",
      "state": {
       "description_width": "",
       "font_size": null,
       "text_color": null
      }
     }
    },
    "version_major": 2,
    "version_minor": 0
   }
  }
 },
 "nbformat": 4,
 "nbformat_minor": 4
}
