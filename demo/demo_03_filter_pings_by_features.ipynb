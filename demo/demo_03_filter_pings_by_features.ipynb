{
 "cells": [
  {
   "cell_type": "markdown",
   "metadata": {},
   "source": [
    "# Demo 03: Filter pings\n",
    "\n",
    "## Introduction\n",
    "\n",
    "This Jupyter Notebook contains an introduction to filtering pings by e.g. available features\n",
    "\n",
    "## Here you will learn\n",
    "\n",
    "- \n",
    "\n",
    "## Short version\n",
    "\n",
    "At the end of the notebook you will find the important parts of this notebook, compiled into a single cell\n",
    "\n",
    "\n",
    "## ---"
   ]
  },
  {
   "cell_type": "markdown",
   "metadata": {
    "notebookRunGroups": {
     "groupValue": "1"
    }
   },
   "source": [
    "### First: Import the necessary modules"
   ]
  },
  {
   "cell_type": "code",
   "execution_count": 1,
   "metadata": {
    "execution": {
     "iopub.execute_input": "2024-10-25T10:55:39.253701Z",
     "iopub.status.busy": "2024-10-25T10:55:39.253503Z",
     "iopub.status.idle": "2024-10-25T10:55:39.696784Z",
     "shell.execute_reply": "2024-10-25T10:55:39.696443Z",
     "shell.execute_reply.started": "2024-10-25T10:55:39.253689Z"
    },
    "notebookRunGroups": {
     "groupValue": "1"
    }
   },
   "outputs": [],
   "source": [
    "%matplotlib widget\n",
    "import os\n",
    "from tqdm.auto import tqdm\n",
    "\n",
    "import numpy as np\n",
    "\n",
    "from matplotlib import pyplot as plt\n",
    "from themachinethatgoesping.echosounders import index_functions\n",
    "from themachinethatgoesping.echosounders import kongsbergall\n",
    "import themachinethatgoesping as Ping\n"
   ]
  },
  {
   "cell_type": "code",
   "execution_count": 2,
   "metadata": {
    "execution": {
     "iopub.execute_input": "2024-10-25T10:55:39.697243Z",
     "iopub.status.busy": "2024-10-25T10:55:39.697109Z",
     "iopub.status.idle": "2024-10-25T10:55:39.714719Z",
     "shell.execute_reply": "2024-10-25T10:55:39.714434Z",
     "shell.execute_reply.started": "2024-10-25T10:55:39.697233Z"
    },
    "notebookRunGroups": {
     "groupValue": "1"
    },
    "tags": []
   },
   "outputs": [
    {
     "name": "stdout",
     "output_type": "stream",
     "text": [
      "Found 18 files\n",
      "indexing files ⢀ 99% [00m:00s<00m:00s] [Found: 1509 datagrams in 18 files (26MB)]                                          \n",
      "Initializing ping interface ⢀ 90% [00m:00s<00m:00s] [Done]                                              \n"
     ]
    },
    {
     "name": "stderr",
     "output_type": "stream",
     "text": [
      "WARNING: get_depth_sensor_offsets: Only DSH (Depth (pressure) sensor heave) == NI is supported yet, but DSH is IN\n",
      "WARNING: get_depth_sensor_offsets: Only DSH (Depth (pressure) sensor heave) == NI is supported yet, but DSH is IN\n"
     ]
    }
   ],
   "source": [
    "# define a list of folder(s) to search for raw data files\n",
    "folders = []\n",
    "\n",
    "folders = [\"../unittest_data/\"]\n",
    "\n",
    "# find all .all/.wcd files and cache file positions\n",
    "files = index_functions.find_files(folders, [\".all\",\"wcd\"])\n",
    "\n",
    "cache_files = index_functions.get_cache_file_paths(files)\n",
    "\n",
    "# open all files and index\n",
    "fm = kongsbergall.KongsbergAllFileHandler(files,cache_files)    "
   ]
  },
  {
   "cell_type": "markdown",
   "metadata": {},
   "source": [
    "## Filter pings\n",
    "Pings must contain watercolumn amplitudes to view watercolumn data\n"
   ]
  },
  {
   "cell_type": "markdown",
   "metadata": {},
   "source": [
    "\"feature\" object callable with method \"get_[name_of_feature]\"\n",
    "\n",
    "\"geolocation\" is a feature of ping: ping.get_geolocation()\n",
    "\n",
    "ping\n",
    "* geolocation\n",
    "\n",
    "ping.bottom features\n",
    "* tx_signal_parameters\n",
    "* number_of_tx_sectors\n",
    "* two_way_travel_times\n",
    "* xyz\n",
    "\n",
    "ping.watercolumn features\n",
    "* tx_signal_parameters\n",
    "* number_of_tx_sectors\n",
    "* bottom_range_sample\n",
    "* amplitudes\n",
    "* av"
   ]
  },
  {
   "cell_type": "code",
   "execution_count": 3,
   "metadata": {
    "execution": {
     "iopub.execute_input": "2024-10-25T10:55:39.715193Z",
     "iopub.status.busy": "2024-10-25T10:55:39.715055Z",
     "iopub.status.idle": "2024-10-25T10:55:39.724768Z",
     "shell.execute_reply": "2024-10-25T10:55:39.724476Z",
     "shell.execute_reply.started": "2024-10-25T10:55:39.715183Z"
    }
   },
   "outputs": [
    {
     "data": {
      "application/vnd.jupyter.widget-view+json": {
       "model_id": "71c744c34d204ced8ed2f672328f48d1",
       "version_major": 2,
       "version_minor": 0
      },
      "text/plain": [
       "  0%|          | 0/174 [00:00<?, ?it/s]"
      ]
     },
     "metadata": {},
     "output_type": "display_data"
    },
    {
     "name": "stdout",
     "output_type": "stream",
     "text": [
      "140/174\n"
     ]
    }
   ],
   "source": [
    "#version one write loop yourself\n",
    "filtered_pings = []\n",
    "for ping in tqdm(fm.get_pings()):\n",
    "    if ping.has_watercolumn():\n",
    "        if ping.watercolumn.has_feature('av'):\n",
    "            filtered_pings.append(ping)\n",
    "print(f'{len(filtered_pings)}/{len(fm.get_pings())}')"
   ]
  },
  {
   "cell_type": "code",
   "execution_count": 4,
   "metadata": {
    "execution": {
     "iopub.execute_input": "2024-10-25T10:55:39.725231Z",
     "iopub.status.busy": "2024-10-25T10:55:39.725108Z",
     "iopub.status.idle": "2024-10-25T10:55:39.735490Z",
     "shell.execute_reply": "2024-10-25T10:55:39.735222Z",
     "shell.execute_reply.started": "2024-10-25T10:55:39.725221Z"
    }
   },
   "outputs": [
    {
     "name": "stdout",
     "output_type": "stream",
     "text": [
      "148/174\n",
      "KongsbergAllPing\n",
      "################\n",
      "-\n",
      "Ping infos \n",
      "-------------                                                                                                                                                                                                                                                                                                                                                                                 \n",
      "- Channel id:             TRX-210                                                                                                                                                                                                                                                                                                                                                                           \n",
      "- Time info:              21/08/2012 17:09:42.36                                                                                                                                                                                                                                                                                                                                                           \n",
      "                          [1345568982.359000]\n",
      "- Features:               .get_timestamp, .get_datetime, .get_channel_id, .get_sensor_configuration, .get_sensor_data_latlon, .get_geolocation                                                                                                                                                                                                                                                              \n",
      "- Feature groups:         .bottom, .watercolumn                                                                                                                                                                                                                                                                                                                                                             \n",
      "- Features(.bottom):      .bottom : .get_two_way_travel_times, .get_xyz, .get_tx_signal_parameters, .get_number_of_tx_sectors, .get_beam_crosstrack_angles                                                                                                                                                                                                                                                  \n",
      "- Features(.watercolumn): .watercolumn : .get_amplitudes, .get_tx_signal_parameters, .get_number_of_tx_sectors, .get_beam_numbers_per_tx_sector, .get_beam_selection_all, .get_number_of_beams, .get_tx_sector_per_beam, .get_beam_crosstrack_angles, .get_bottom_range_samples, .get_amplitudes, .get_rp, .get_rv, .get_pp, .get_pv, .get_ap, .get_av, .get_power, .get_multisectorwatercolumn_calibration\n",
      "                          [Not:.get_sp, .get_sv, .get_watercolumn_calibration]\n",
      "\n",
      " Geolocation \n",
      "------------- \n",
      "- latitude:  78°31'36.2\"N  [ddd°mm',ss.s''N/S]\n",
      "- longitude: 10°17'17.7\"E  [ddd°mm',ss.s''E/W]\n",
      "- z:         3.775         [positive downwards, m]\n",
      "- yaw:       334.592       [90 ° at east]\n",
      "- pitch:     0.360         [° positive bow up]\n",
      "- roll:      -60.024e⁻³    [° positive port up]\n"
     ]
    }
   ],
   "source": [
    "#version2 use built in function\n",
    "from themachinethatgoesping.pingprocessing import filter_pings\n",
    "filtered_pings = filter_pings.by_features(fm.get_pings(),['watercolumn.amplitudes'],progress=True)\n",
    "print(f'{len(filtered_pings)}/{len(fm.get_pings())}')\n",
    "print(filtered_pings[0])"
   ]
  },
  {
   "cell_type": "code",
   "execution_count": null,
   "metadata": {},
   "outputs": [],
   "source": []
  }
 ],
 "metadata": {
  "kernelspec": {
   "display_name": "Python 3 (ipykernel)",
   "language": "python",
   "name": "python3"
  },
  "language_info": {
   "codemirror_mode": {
    "name": "ipython",
    "version": 3
   },
   "file_extension": ".py",
   "mimetype": "text/x-python",
   "name": "python",
   "nbconvert_exporter": "python",
   "pygments_lexer": "ipython3",
   "version": "3.12.7"
  },
  "widgets": {
   "application/vnd.jupyter.widget-state+json": {
    "state": {
     "03667f3a1ac24b7c87e574f6c4c7d59b": {
      "model_module": "@jupyter-widgets/base",
      "model_module_version": "2.0.0",
      "model_name": "LayoutModel",
      "state": {}
     },
     "043f3d619e1e4cba92dbd3606d619b53": {
      "model_module": "@jupyter-widgets/base",
      "model_module_version": "2.0.0",
      "model_name": "LayoutModel",
      "state": {}
     },
     "06bba3f6ff3d49649618bb0c3d063ca4": {
      "model_module": "@jupyter-widgets/controls",
      "model_module_version": "2.0.0",
      "model_name": "HTMLStyleModel",
      "state": {
       "description_width": "",
       "font_size": null,
       "text_color": null
      }
     },
     "14333ff13dd74e1b869910dc1925efde": {
      "model_module": "@jupyter-widgets/controls",
      "model_module_version": "2.0.0",
      "model_name": "HTMLStyleModel",
      "state": {
       "description_width": "",
       "font_size": null,
       "text_color": null
      }
     },
     "18316de8e3df433f9b313cd8db9b755f": {
      "model_module": "@jupyter-widgets/base",
      "model_module_version": "2.0.0",
      "model_name": "LayoutModel",
      "state": {}
     },
     "25be8ac924c04042b54232fa37720c33": {
      "model_module": "@jupyter-widgets/controls",
      "model_module_version": "2.0.0",
      "model_name": "ProgressStyleModel",
      "state": {
       "description_width": ""
      }
     },
     "2cb6914322ce4b2f9cc7abca7ace1089": {
      "model_module": "@jupyter-widgets/base",
      "model_module_version": "2.0.0",
      "model_name": "LayoutModel",
      "state": {}
     },
     "33268b06e52947638704ec1c3e596482": {
      "model_module": "@jupyter-widgets/base",
      "model_module_version": "2.0.0",
      "model_name": "LayoutModel",
      "state": {}
     },
     "36641929db21447488a01ff3269e850e": {
      "model_module": "@jupyter-widgets/controls",
      "model_module_version": "2.0.0",
      "model_name": "ProgressStyleModel",
      "state": {
       "description_width": ""
      }
     },
     "3db00578b4754531b016c4075488b588": {
      "model_module": "@jupyter-widgets/base",
      "model_module_version": "2.0.0",
      "model_name": "LayoutModel",
      "state": {}
     },
     "3f2a86bfee88458d92547c1f59a310a3": {
      "model_module": "@jupyter-widgets/controls",
      "model_module_version": "2.0.0",
      "model_name": "FloatProgressModel",
      "state": {
       "bar_style": "success",
       "layout": "IPY_MODEL_c609015c557b44199d3ebabd33984eef",
       "max": 174,
       "style": "IPY_MODEL_25be8ac924c04042b54232fa37720c33",
       "value": 174
      }
     },
     "3f4713c788fd402d9c8af17017a348c7": {
      "model_module": "@jupyter-widgets/base",
      "model_module_version": "2.0.0",
      "model_name": "LayoutModel",
      "state": {}
     },
     "4459f1f94af54f1ebd3e2399c3ed671a": {
      "model_module": "@jupyter-widgets/controls",
      "model_module_version": "2.0.0",
      "model_name": "HTMLStyleModel",
      "state": {
       "description_width": "",
       "font_size": null,
       "text_color": null
      }
     },
     "4e1c376382d240e98bf5aa7ad80cb631": {
      "model_module": "@jupyter-widgets/controls",
      "model_module_version": "2.0.0",
      "model_name": "FloatProgressModel",
      "state": {
       "bar_style": "success",
       "layout": "IPY_MODEL_33268b06e52947638704ec1c3e596482",
       "max": 174,
       "style": "IPY_MODEL_6c05fd44e1a441f8acf16ef04ac5b59b",
       "value": 174
      }
     },
     "53ec2f3fef9944e788e78756ed1c1b66": {
      "model_module": "@jupyter-widgets/controls",
      "model_module_version": "2.0.0",
      "model_name": "HTMLModel",
      "state": {
       "layout": "IPY_MODEL_2cb6914322ce4b2f9cc7abca7ace1089",
       "style": "IPY_MODEL_bacb44cd5d844ea1b03283d16adbdb98",
       "value": " 174/174 [00:00&lt;00:00, 24914.11it/s]"
      }
     },
     "5520494d7a344a169289ba88fe6f277f": {
      "model_module": "@jupyter-widgets/controls",
      "model_module_version": "2.0.0",
      "model_name": "HTMLModel",
      "state": {
       "layout": "IPY_MODEL_d0f9778e1cfc4823bf7ee9a057b4d978",
       "style": "IPY_MODEL_06bba3f6ff3d49649618bb0c3d063ca4",
       "value": " 18/18 [00:00&lt;00:00, 7739.36it/s]"
      }
     },
     "68037f29899a4e2e9f8185e76982cb06": {
      "model_module": "@jupyter-widgets/controls",
      "model_module_version": "2.0.0",
      "model_name": "HTMLModel",
      "state": {
       "layout": "IPY_MODEL_3db00578b4754531b016c4075488b588",
       "style": "IPY_MODEL_14333ff13dd74e1b869910dc1925efde",
       "value": "removing duplicates: 100%"
      }
     },
     "6c05fd44e1a441f8acf16ef04ac5b59b": {
      "model_module": "@jupyter-widgets/controls",
      "model_module_version": "2.0.0",
      "model_name": "ProgressStyleModel",
      "state": {
       "description_width": ""
      }
     },
     "6c2e00d4d11846118e31058d4ee485b0": {
      "model_module": "@jupyter-widgets/base",
      "model_module_version": "2.0.0",
      "model_name": "LayoutModel",
      "state": {}
     },
     "6cb1e0103a4542b4b200da8a705972de": {
      "model_module": "@jupyter-widgets/base",
      "model_module_version": "2.0.0",
      "model_name": "LayoutModel",
      "state": {}
     },
     "71c744c34d204ced8ed2f672328f48d1": {
      "model_module": "@jupyter-widgets/controls",
      "model_module_version": "2.0.0",
      "model_name": "HBoxModel",
      "state": {
       "children": [
        "IPY_MODEL_8ba4f1845e94438b9504c934530d2f25",
        "IPY_MODEL_4e1c376382d240e98bf5aa7ad80cb631",
        "IPY_MODEL_cba30be8dfeb4a30949f5e3c28f1c60a"
       ],
       "layout": "IPY_MODEL_03667f3a1ac24b7c87e574f6c4c7d59b"
      }
     },
     "764a7cf5a00245b7b281d1d0ca5478bf": {
      "model_module": "@jupyter-widgets/controls",
      "model_module_version": "2.0.0",
      "model_name": "HTMLStyleModel",
      "state": {
       "description_width": "",
       "font_size": null,
       "text_color": null
      }
     },
     "83aa625cc2ed4e838764c2608bdd2bfe": {
      "model_module": "@jupyter-widgets/controls",
      "model_module_version": "2.0.0",
      "model_name": "HBoxModel",
      "state": {
       "children": [
        "IPY_MODEL_68037f29899a4e2e9f8185e76982cb06",
        "IPY_MODEL_94faec584ad743d499e662eafbde2de1",
        "IPY_MODEL_5520494d7a344a169289ba88fe6f277f"
       ],
       "layout": "IPY_MODEL_043f3d619e1e4cba92dbd3606d619b53"
      }
     },
     "83b28ab9dfc74047abf94c778d79ce8f": {
      "model_module": "@jupyter-widgets/controls",
      "model_module_version": "2.0.0",
      "model_name": "HBoxModel",
      "state": {
       "children": [
        "IPY_MODEL_ba9c3f82084744a2b5fcf1d5ce2fb3b3",
        "IPY_MODEL_3f2a86bfee88458d92547c1f59a310a3",
        "IPY_MODEL_53ec2f3fef9944e788e78756ed1c1b66"
       ],
       "layout": "IPY_MODEL_6c2e00d4d11846118e31058d4ee485b0"
      }
     },
     "8ba4f1845e94438b9504c934530d2f25": {
      "model_module": "@jupyter-widgets/controls",
      "model_module_version": "2.0.0",
      "model_name": "HTMLModel",
      "state": {
       "layout": "IPY_MODEL_3f4713c788fd402d9c8af17017a348c7",
       "style": "IPY_MODEL_4459f1f94af54f1ebd3e2399c3ed671a",
       "value": "100%"
      }
     },
     "94faec584ad743d499e662eafbde2de1": {
      "model_module": "@jupyter-widgets/controls",
      "model_module_version": "2.0.0",
      "model_name": "FloatProgressModel",
      "state": {
       "bar_style": "success",
       "layout": "IPY_MODEL_6cb1e0103a4542b4b200da8a705972de",
       "max": 18,
       "style": "IPY_MODEL_36641929db21447488a01ff3269e850e",
       "value": 18
      }
     },
     "ba9c3f82084744a2b5fcf1d5ce2fb3b3": {
      "model_module": "@jupyter-widgets/controls",
      "model_module_version": "2.0.0",
      "model_name": "HTMLModel",
      "state": {
       "layout": "IPY_MODEL_18316de8e3df433f9b313cd8db9b755f",
       "style": "IPY_MODEL_d32d48322658409a99165c947d94b6e9",
       "value": "Filter pings by features: 100%"
      }
     },
     "bacb44cd5d844ea1b03283d16adbdb98": {
      "model_module": "@jupyter-widgets/controls",
      "model_module_version": "2.0.0",
      "model_name": "HTMLStyleModel",
      "state": {
       "description_width": "",
       "font_size": null,
       "text_color": null
      }
     },
     "c609015c557b44199d3ebabd33984eef": {
      "model_module": "@jupyter-widgets/base",
      "model_module_version": "2.0.0",
      "model_name": "LayoutModel",
      "state": {}
     },
     "cba30be8dfeb4a30949f5e3c28f1c60a": {
      "model_module": "@jupyter-widgets/controls",
      "model_module_version": "2.0.0",
      "model_name": "HTMLModel",
      "state": {
       "layout": "IPY_MODEL_e293d5b86ee943b09d65481eccddd55a",
       "style": "IPY_MODEL_764a7cf5a00245b7b281d1d0ca5478bf",
       "value": " 174/174 [00:00&lt;00:00, 25542.80it/s]"
      }
     },
     "d0f9778e1cfc4823bf7ee9a057b4d978": {
      "model_module": "@jupyter-widgets/base",
      "model_module_version": "2.0.0",
      "model_name": "LayoutModel",
      "state": {}
     },
     "d32d48322658409a99165c947d94b6e9": {
      "model_module": "@jupyter-widgets/controls",
      "model_module_version": "2.0.0",
      "model_name": "HTMLStyleModel",
      "state": {
       "description_width": "",
       "font_size": null,
       "text_color": null
      }
     },
     "e293d5b86ee943b09d65481eccddd55a": {
      "model_module": "@jupyter-widgets/base",
      "model_module_version": "2.0.0",
      "model_name": "LayoutModel",
      "state": {}
     }
    },
    "version_major": 2,
    "version_minor": 0
   }
  }
 },
 "nbformat": 4,
 "nbformat_minor": 4
}
