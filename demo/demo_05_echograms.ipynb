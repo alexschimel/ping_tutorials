{
 "cells": [
  {
   "cell_type": "markdown",
   "metadata": {},
   "source": [
    "#### Demo 04: View water column data\n",
    "\n",
    "## Introduction\n",
    "\n",
    "This Jupyter Notebook contains an introduction to viewing water column data using Ping.\n",
    "\n",
    "## Here you will learn\n",
    "\n",
    "- \n",
    "\n",
    "## Short version\n",
    "\n",
    "At the end of the notebook you will find the important parts of this notebook, compiled into a single cell\n",
    "\n",
    "\n",
    "## ---"
   ]
  },
  {
   "cell_type": "markdown",
   "metadata": {
    "notebookRunGroups": {
     "groupValue": "1"
    }
   },
   "source": [
    "### First: Import the necessary modules"
   ]
  },
  {
   "cell_type": "code",
   "execution_count": null,
   "metadata": {
    "notebookRunGroups": {
     "groupValue": "1"
    }
   },
   "outputs": [],
   "source": [
    "%matplotlib widget\n",
    "import os\n",
    "from tqdm.auto import tqdm\n",
    "\n",
    "import numpy as np\n",
    "\n",
    "from matplotlib import pyplot as plt\n",
    "from themachinethatgoesping.echosounders import index_functions\n",
    "from themachinethatgoesping.echosounders import kongsbergall\n",
    "import themachinethatgoesping as Ping\n"
   ]
  },
  {
   "cell_type": "code",
   "execution_count": null,
   "metadata": {
    "notebookRunGroups": {
     "groupValue": "1"
    },
    "tags": []
   },
   "outputs": [],
   "source": [
    "# define a list of folder(s) to search for raw data files\n",
    "folders = []\n",
    "\n",
    "#folders = [\"../unittest_data/\"]\n",
    "\n",
    "folders.append(\"/home/data/turbeams/TURBEAMS_data_crunshing/campaigns/05_TURBEAMS_April_2023/Stations\")\n",
    "folders.append(\"/home/data/turbeams/TURBEAMS_data_crunshing/campaigns/05_TURBEAMS_April_2023/Transect\")\n",
    "# folders = [\n",
    "#    '/home/data/test_data/alex_yolla/'\n",
    "# ]\n",
    "folders = [\"../unittest_data/\"]\n",
    "\n",
    "# find all .all/.wcd files and cache file positions\n",
    "files = index_functions.find_files(folders, [\".all\",\"wcd\"])\n",
    "cache_files = index_functions.get_cache_file_paths(files)\n",
    "\n",
    "# open all files and index\n",
    "fm = kongsbergall.KongsbergAllFileHandler(files,cache_files)    \n",
    "Ping.pingprocessing.core.clear_memory()"
   ]
  },
  {
   "cell_type": "markdown",
   "metadata": {},
   "source": [
    "## Add ping calibration"
   ]
  },
  {
   "cell_type": "code",
   "execution_count": null,
   "metadata": {},
   "outputs": [],
   "source": [
    "#load calibration\n",
    "import pandas as pd\n",
    "from collections import defaultdict\n",
    "calib = {}\n",
    "calib['TRX-2004'] = pd.read_excel('calibration/calib-TRX-2004.xlsx')\n",
    "calib['TRX-2031'] = pd.read_excel('calibration/calib-TRX-2031.xlsx')\n",
    "layer = 18\n",
    "\n",
    "\n",
    "static_calib = defaultdict(Ping.echosounders.filetemplates.WaterColumnCalibration)\n",
    "\n",
    "fig,ax = Ping.pingprocessing.core.create_figure('Calibration')\n",
    "for k,d in calib.items():\n",
    "    for plot_layer in [6,10,12,14,16,18]:\n",
    "        ax.plot(d['water_angle'], d[plot_layer], label=f'{plot_layer}-{k}', marker='+')\n",
    "        \n",
    "    ax.plot(d['water_angle'], d[layer], label=f'{layer}-{k}', color='black')\n",
    "    static_calib[k].set_offset_per_beamangle(d['water_angle'], -d[layer])\n",
    "    \n",
    "fig.legend()\n",
    "fig.set_size_inches(10,3)\n",
    "\n",
    "for ping in tqdm(fm.get_pings()):    \n",
    "    channel_id = ping.get_channel_id()\n",
    "    if True:\n",
    "        ping.watercolumn.set_calibration(static_calib[channel_id])\n",
    "    else:\n",
    "        calib_data = calib[channel_id]\n",
    "        sort_arg = np.argsort(ping.bottom.get_beam_crosstrack_angles())\n",
    "        I = Ping.tools.vectorinterpolators.AkimaInterpolatorFF(\n",
    "            ping.bottom.get_beam_crosstrack_angles()[sort_arg],\n",
    "            ping.watercolumn.get_beam_crosstrack_angles()[sort_arg]\n",
    "        )\n",
    "        per_ping_calib = Ping.echosounders.filetemplates.WaterColumnCalibration()\n",
    "        per_ping_calib.set_offset_per_beamangle(I(calib_data['angle']), -calib_data[layer])\n",
    "        \n",
    "        ping.watercolumn.set_calibration(per_ping_calib)"
   ]
  },
  {
   "cell_type": "markdown",
   "metadata": {},
   "source": [
    "## Filter pings\n",
    "Pings must contain watercolumn amplitudes to view watercolumn data\n"
   ]
  },
  {
   "cell_type": "code",
   "execution_count": null,
   "metadata": {},
   "outputs": [],
   "source": [
    "filtered_pings = Ping.pingprocessing.filter_pings.by_features(fm.get_pings(), ['watercolumn.av', 'bottom.xyz'], progress = True)\n",
    "\n",
    "grouped_pings = Ping.pingprocessing.group_pings.dual_head(filtered_pings, progress = True)\n",
    "\n",
    "pings_per_transducer = Ping.pingprocessing.split_pings.by_channel_id(filtered_pings, progress = True)\n",
    "\n",
    "for k,v in pings_per_transducer.items():\n",
    "    print(f'-{k: <10}: {len(v)}')"
   ]
  },
  {
   "cell_type": "code",
   "execution_count": null,
   "metadata": {},
   "outputs": [],
   "source": [
    "del fm \n",
    "Ping.pingprocessing.core.clear_memory()"
   ]
  },
  {
   "cell_type": "markdown",
   "metadata": {},
   "source": [
    "## Create and view echograms"
   ]
  },
  {
   "cell_type": "code",
   "execution_count": null,
   "metadata": {},
   "outputs": [],
   "source": [
    "pss = Ping.echosounders.pingtools.PingSampleSelector()\n",
    "pss.select_beam_range_by_angles(-3.5,3.5,1)\n",
    "\n",
    "echodata = Ping.pingprocessing.watercolumn.echograms.EchoData.from_pings(\n",
    "    pings_per_transducer['TRX-2004'][::],\n",
    "    pss = pss,\n",
    "    wci_value = 'sv', \n",
    "    linear_mean = False)"
   ]
  },
  {
   "cell_type": "code",
   "execution_count": null,
   "metadata": {},
   "outputs": [],
   "source": [
    "\n",
    "echodata.set_x_axis_ping_nr(max_steps=5000)\n",
    "echodata.set_y_axis_depth()\n",
    "echodata.set_x_axis_date_time(max_steps=5000)\n",
    "image,extent = echodata.build_image()\n",
    "\n",
    "fig,ax = Ping.pingprocessing.core.create_figure('echogram')\n",
    "fig.set_size_inches(12,4)\n",
    "\n",
    "ax.imshow(image.transpose(), extent=extent, cmap='YlGnBu_r', aspect='auto', vmin=-90, vmax=-50)"
   ]
  },
  {
   "cell_type": "code",
   "execution_count": null,
   "metadata": {},
   "outputs": [],
   "source": [
    "import matplotlib.dates as mdates\n",
    "xlim = ax.get_xlim()\n",
    "ylim = ax.get_ylim()\n",
    "\n",
    "xmin = mdates.num2date(xlim[0]).timestamp()\n",
    "xmax = mdates.num2date(xlim[1]).timestamp()\n",
    "\n",
    "echodata.set_x_axis_date_time(min_ping_time = xmin, max_ping_time = xmax, max_steps=5000)\n",
    "\n",
    "image,extent = echodata.build_image()\n",
    "\n",
    "ax.imshow(image.transpose(), extent=extent, cmap='YlGnBu_r', aspect='auto', vmin=-90, vmax=-50)\n",
    "ax.set_xlim(xlim)\n",
    "ax.set_ylim(ylim)\n",
    "xmin,xmax"
   ]
  },
  {
   "cell_type": "code",
   "execution_count": null,
   "metadata": {},
   "outputs": [],
   "source": [
    "%%timeit -n1 -r1\n",
    "\n",
    "import pickle\n",
    "with open('echo.pkl','wb') as ofi:\n",
    "    pickle.dump(echodata, ofi)"
   ]
  },
  {
   "cell_type": "code",
   "execution_count": null,
   "metadata": {},
   "outputs": [],
   "source": [
    "#%%timeit -n1 -r1\n",
    "\n",
    "import pickle\n",
    "echodata = pickle.load(open('echo.pkl','rb'))"
   ]
  },
  {
   "cell_type": "code",
   "execution_count": null,
   "metadata": {},
   "outputs": [],
   "source": [
    "echodata.set_x_axis_date_time(max_steps=20000)\n",
    "echodata.set_y_axis_depth()\n",
    "image,extent =  echodata.build_image()\n",
    "\n",
    "fig,ax = Ping.pingprocessing.core.create_figure('echogram')\n",
    "fig.set_size_inches(12,4)\n",
    "\n",
    "ax.imshow(image.transpose(), extent=extent, cmap='YlGnBu_r', aspect='auto', vmin=-90, vmax=-50)"
   ]
  },
  {
   "cell_type": "markdown",
   "metadata": {
    "notebookRunGroups": {
     "groupValue": "1"
    },
    "tags": []
   },
   "source": [
    "## Plot pings"
   ]
  },
  {
   "cell_type": "code",
   "execution_count": null,
   "metadata": {},
   "outputs": [],
   "source": [
    "pss = Ping.echosounders.pingtools.PingSampleSelector()\n",
    "pss.select_beam_range_by_angles(-90,90,1)\n",
    "\n",
    "plotter = Ping.pingprocessing.widgets.WCIViewer(grouped_pings[::], ping_sample_selector = pss)"
   ]
  },
  {
   "cell_type": "code",
   "execution_count": null,
   "metadata": {},
   "outputs": [],
   "source": [
    "import ipywidgets\n",
    "import matplotlib.dates as mdates\n",
    "\n",
    "if 'cid' in globals():\n",
    "    fig.canvas.mpl_disconnect(cid)\n",
    "    del cid\n",
    "\n",
    "output=ipywidgets.Output()\n",
    "\n",
    "times, ping_numbers = [],[]\n",
    "for pn,pg in enumerate(tqdm(grouped_pings)):\n",
    "    ping = next(iter(pg.values()))\n",
    "    times.append(ping.get_timestamp())\n",
    "    ping_numbers.append(pn)\n",
    "\n",
    "closest_ping = Ping.tools.vectorinterpolators.NearestInterpolatorDI(times, ping_numbers)\n",
    "    \n",
    "\n",
    "def onclick(event):\n",
    "    with output:\n",
    "        # print('%s click: button=%d, x=%d, y=%d, xdata=%f, ydata=%f' %\n",
    "        #       ('double' if event.dblclick else 'single', event.button,\n",
    "        #        event.x, event.y, event.xdata, event.ydata))\n",
    "        \n",
    "        if event.button == 1:\n",
    "                time = mdates.num2date(event.xdata).timestamp()\n",
    "                ping_number = closest_ping(time)\n",
    "                # find closest time in grouped pings\n",
    "                #print(time, closest_ping(time))\n",
    "                plotter.w_index.value = ping_number\n",
    "        else:\n",
    "            if event.button == 3:\n",
    "                xmin, xmax = ax.get_xlim()\n",
    "                time1 = mdates.num2date(xmin).timestamp()\n",
    "                time2 = mdates.num2date(xmax).timestamp()\n",
    "                echodata.set_x_axis_date_time(max_steps=20000, min_ping_time = time1, max_ping_time = time2)\n",
    "                image,extent =  echodata.build_image()\n",
    "                ax.imshow(image.transpose(), extent=extent, cmap='YlGnBu_r', aspect='auto', vmin=-90, vmax=-50)\n",
    "                e.set_x_axis_date_time(max_steps=20000, min_ping_time = time1, max_ping_time = time2)\n",
    "                image,extent =  e.build_image()\n",
    "                ax.imshow(image.transpose(), extent=extent, cmap='jet', aspect='auto', vmin=-90, vmax=-50)\n",
    "                # ping_number1 = closest_ping(time1)\n",
    "                # ping_number2 = closest_ping(time2)\n",
    "                # plotter.w_index.value = ping_number11\n",
    "                # plotter.w_stack.value = ping_number2-ping_number1\n",
    "                \n",
    "        \n",
    "        \n",
    "\n",
    "cid = fig.canvas.mpl_connect('button_press_event', onclick)\n",
    "output"
   ]
  },
  {
   "cell_type": "code",
   "execution_count": null,
   "metadata": {},
   "outputs": [],
   "source": [
    "help(echodata.set_x_axis_date_time)"
   ]
  },
  {
   "cell_type": "code",
   "execution_count": null,
   "metadata": {},
   "outputs": [],
   "source": [
    "from jupyter_ui_poll import ui_events\n",
    "import ipywidgets\n",
    "\n",
    "prg = tqdm('ping video')\n",
    "plotter.stop_botton = ipywidgets.ToggleButton(description = 'loop controll', value = 0)\n",
    "plotter.layout.children = (*plotter.layout.children, plotter.stop_botton)\n",
    "\n",
    "plotter.stop_botton.value = 1\n",
    "display(plotter.stop_botton)\n",
    "\n",
    "\n",
    "plotter.w_index.value=0\n",
    "while plotter.stop_botton.value == 1:\n",
    "    plotter.stop_botton.button_style = 'success'\n",
    "    di = int(plotter.w_stack.value/2)\n",
    "    if di < 1: di = 1\n",
    "    \n",
    "    i = plotter.w_index.value + di\n",
    "    if i >= len(plotter.imagebuilder.pings):\n",
    "        i = 0\n",
    "        \n",
    "    plotter.w_index.value = i\n",
    "    #ipywidgets.\n",
    "    with ui_events() as ui_poll:\n",
    "        ui_poll(10) # poll queued UI events including button\n",
    "    prg.update()\n",
    "    \n",
    "plotter.stop_botton.button_style = ''\n",
    "plotter.layout.children = list(plotter.layout.children[:-1])"
   ]
  },
  {
   "cell_type": "code",
   "execution_count": null,
   "metadata": {},
   "outputs": [],
   "source": [
    "#load calibration\n",
    "import pandas as pd\n",
    "from collections import defaultdict\n",
    "calib = {}\n",
    "calib['TRX-2004'] = pd.read_excel('calibration/calib-TRX-2004.xlsx')\n",
    "calib['TRX-2031'] = pd.read_excel('calibration/calib-TRX-2031.xlsx')\n",
    "layer = 18\n",
    "\n",
    "\n",
    "static_calib = defaultdict(Ping.echosounders.filetemplates.WaterColumnCalibration)\n",
    "\n",
    "fig,ax = Ping.pingprocessing.core.create_figure('Calibration')\n",
    "for k,d in calib.items():\n",
    "    for plot_layer in [6,10,12,14,16,18]:\n",
    "        ax.plot(d['water_angle'], d[plot_layer], label=f'{plot_layer}-{k}', marker='+')\n",
    "        \n",
    "    ax.plot(d['water_angle'], d[layer], label=f'{layer}-{k}', color='black')\n",
    "    static_calib[k].set_offset_per_beamangle(d['water_angle'], -d[layer])\n",
    "    \n",
    "fig.legend()\n",
    "fig.set_size_inches(10,3)\n",
    "\n",
    "for ping in tqdm(filtered_pings):    \n",
    "    channel_id = ping.get_channel_id()\n",
    "    if True:\n",
    "        ping.watercolumn.set_calibration(static_calib[channel_id])\n",
    "    else:\n",
    "        calib_data = calib[channel_id]\n",
    "        sort_arg = np.argsort(ping.bottom.get_beam_crosstrack_angles())\n",
    "        I = Ping.tools.vectorinterpolators.AkimaInterpolatorFF(\n",
    "            ping.bottom.get_beam_crosstrack_angles()[sort_arg],\n",
    "            ping.watercolumn.get_beam_crosstrack_angles()[sort_arg]\n",
    "        )\n",
    "        per_ping_calib = Ping.echosounders.filetemplates.WaterColumnCalibration()\n",
    "        per_ping_calib.set_offset_per_beamangle(I(calib_data['angle']), -calib_data[layer])\n",
    "        \n",
    "        ping.watercolumn.set_calibration(per_ping_calib)"
   ]
  },
  {
   "cell_type": "code",
   "execution_count": null,
   "metadata": {},
   "outputs": [],
   "source": [
    "print(c)"
   ]
  },
  {
   "cell_type": "code",
   "execution_count": null,
   "metadata": {},
   "outputs": [],
   "source": []
  }
 ],
 "metadata": {
  "kernelspec": {
   "display_name": "Python 3 (ipykernel)",
   "language": "python",
   "name": "python3"
  },
  "language_info": {
   "codemirror_mode": {
    "name": "ipython",
    "version": 3
   },
   "file_extension": ".py",
   "mimetype": "text/x-python",
   "name": "python",
   "nbconvert_exporter": "python",
   "pygments_lexer": "ipython3",
   "version": "3.12.3"
  },
  "widgets": {
   "application/vnd.jupyter.widget-state+json": {
    "state": {},
    "version_major": 2,
    "version_minor": 0
   }
  }
 },
 "nbformat": 4,
 "nbformat_minor": 4
}
