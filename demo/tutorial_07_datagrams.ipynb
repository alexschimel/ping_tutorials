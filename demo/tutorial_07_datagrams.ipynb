{
 "cells": [
  {
   "cell_type": "code",
   "execution_count": 7,
   "id": "08ff223e-100f-4605-b3a9-4a4351f2da13",
   "metadata": {
    "execution": {
     "iopub.execute_input": "2024-11-22T10:52:44.615018Z",
     "iopub.status.busy": "2024-11-22T10:52:44.614800Z",
     "iopub.status.idle": "2024-11-22T10:52:44.636943Z",
     "shell.execute_reply": "2024-11-22T10:52:44.636217Z",
     "shell.execute_reply.started": "2024-11-22T10:52:44.615006Z"
    }
   },
   "outputs": [
    {
     "name": "stdout",
     "output_type": "stream",
     "text": [
      "Found 18 files\n",
      "indexing files ⠐ 100% [00m:00s<00m:00s] [..0871266855321420.all (1/18)]                               \n",
      "indexing files ⠠ 100% [00m:00s<00m:00s] [..3008643552583898.wcd (18/18)]                                \n",
      "indexing files ⢀ 100% [00m:00s<00m:00s] [Found: 729 datagrams in 18 files (10MB)]                                         \n",
      "Initializing ping interface ⢀ 90% [00m:00s<00m:00s] [Done]                                              \n"
     ]
    },
    {
     "name": "stderr",
     "output_type": "stream",
     "text": [
      "WARNING: get_depth_sensor_offsets: Only DSH (Depth (pressure) sensor heave) == NI is supported yet, but DSH is IN\n",
      "WARNING: get_depth_sensor_offsets: Only DSH (Depth (pressure) sensor heave) == NI is supported yet, but DSH is IN\n"
     ]
    }
   ],
   "source": [
    "%matplotlib widget\n",
    "import os\n",
    "\n",
    "from matplotlib import pyplot as plt\n",
    "from themachinethatgoesping.echosounders import index_functions\n",
    "from themachinethatgoesping.echosounders import kongsbergall\n",
    "from tqdm.auto import tqdm\n",
    "\n",
    "folders = []\n",
    "folders.append(\"../unittest_data\")\n",
    "\n",
    "# list raw data files\n",
    "files = index_functions.find_files(folders, [\".all\",\"wcd\"])\n",
    "files.sort()\n",
    "\n",
    "# load files' data\n",
    "fh = kongsbergall.KongsbergAllFileHandler(files)\n"
   ]
  },
  {
   "cell_type": "code",
   "execution_count": 2,
   "id": "2c1755b9-bfc4-4ab6-9e60-70313cf1ad64",
   "metadata": {
    "execution": {
     "iopub.execute_input": "2024-11-22T10:50:58.547248Z",
     "iopub.status.busy": "2024-11-22T10:50:58.546945Z",
     "iopub.status.idle": "2024-11-22T10:50:58.550813Z",
     "shell.execute_reply": "2024-11-22T10:50:58.550523Z",
     "shell.execute_reply.started": "2024-11-22T10:50:58.547232Z"
    }
   },
   "outputs": [
    {
     "name": "stdout",
     "output_type": "stream",
     "text": [
      "['../unittest_data/kongsberg/a/y/-7609271985000766481.all', '../unittest_data/kongsberg/a/y/-7609271985000766481.wcd']\n",
      "../unittest_data/kongsberg/a/y/-7609271985000766481.all\n"
     ]
    }
   ],
   "source": [
    "#get file paths from pings\n",
    "ping = fh.get_pings()[10]\n",
    "\n",
    "#all files used for a ping (relevant if .all and .wcd are used)\n",
    "files = ping.file_data.get_file_paths()\n",
    "print(files)\n",
    "\n",
    "#primary file is always the .all (except if there is no .all file)\n",
    "file = ping.file_data.get_primary_file_path()\n",
    "print(file)\n",
    "\n",
    "\n"
   ]
  },
  {
   "cell_type": "code",
   "execution_count": 4,
   "id": "ef81c24d-89c9-4726-8731-20e56526fb61",
   "metadata": {
    "execution": {
     "iopub.execute_input": "2024-11-22T10:51:19.548767Z",
     "iopub.status.busy": "2024-11-22T10:51:19.548521Z",
     "iopub.status.idle": "2024-11-22T10:51:19.555580Z",
     "shell.execute_reply": "2024-11-22T10:51:19.555261Z",
     "shell.execute_reply.started": "2024-11-22T10:51:19.548755Z"
    }
   },
   "outputs": [
    {
     "name": "stdout",
     "output_type": "stream",
     "text": [
      "indexing file ⠐ 100% [00m:00s<00m:00s]           \n",
      "indexing file ⠠ 100% [00m:00s<00m:00s] [Found: 127 datagrams]                      \n",
      "Initializing ping interface ⠐ 0% [00m:00s<00m:00s] [Done]                                              \n"
     ]
    }
   ],
   "source": [
    "#open for a single file\n",
    "fh = kongsbergall.KongsbergAllFileHandler(file)"
   ]
  },
  {
   "cell_type": "code",
   "execution_count": 5,
   "id": "def3c9a9-6b63-4964-84ea-80e03f0b200f",
   "metadata": {
    "execution": {
     "iopub.execute_input": "2024-11-22T10:52:21.365909Z",
     "iopub.status.busy": "2024-11-22T10:52:21.365679Z",
     "iopub.status.idle": "2024-11-22T10:52:21.368777Z",
     "shell.execute_reply": "2024-11-22T10:52:21.368322Z",
     "shell.execute_reply.started": "2024-11-22T10:52:21.365896Z"
    }
   },
   "outputs": [
    {
     "name": "stdout",
     "output_type": "stream",
     "text": [
      "DatagramContainer\n",
      "#################\n",
      "-\n",
      "Time info (Datagrams) \n",
      "------------------------ \n",
      "- Start time: 13/02/2014 08:12:41.58 \n",
      "- End time:   13/02/2014 08:12:42.78 \n",
      "- Sorted:     no                     \n",
      "\n",
      " Contained datagrams \n",
      "---------------------       \n",
      "- Total:                                       127 \n",
      "- Datagrams [PUStatusOutput]:                  1   [31]\n",
      "- Datagrams [AttitudeDatagram]:                1   [41]\n",
      "- Datagrams [ClockDatagram]:                   1   [43]\n",
      "- Datagrams [InstallationParametersStart]:     1   [49]\n",
      "- Datagrams [RawRangeAndAngle]:                35  [4e]\n",
      "- Datagrams [PositionDatagram]:                1   [50]\n",
      "- Datagrams [RuntimeParameters]:               3   [52]\n",
      "- Datagrams [SoundSpeedProfileDatagram]:       1   [55]\n",
      "- Datagrams [XYZDatagram]:                     35  [58]\n",
      "- Datagrams [SeabedImageData]:                 35  [59]\n",
      "- Datagrams [DepthOrHeightDatagram]:           1   [68]\n",
      "- Datagrams [NetworkAttitudeVelocityDatagram]: 12  [6e]\n"
     ]
    }
   ],
   "source": [
    "#display all datagrams\n",
    "print(fh.datagram_interface.datagrams())"
   ]
  },
  {
   "cell_type": "code",
   "execution_count": 9,
   "id": "50d497f5-59b5-456a-9ee6-9c3150389546",
   "metadata": {
    "execution": {
     "iopub.execute_input": "2024-11-22T10:53:02.495159Z",
     "iopub.status.busy": "2024-11-22T10:53:02.494765Z",
     "iopub.status.idle": "2024-11-22T10:53:02.503673Z",
     "shell.execute_reply": "2024-11-22T10:53:02.503150Z",
     "shell.execute_reply.started": "2024-11-22T10:53:02.495144Z"
    }
   },
   "outputs": [
    {
     "data": {
      "application/vnd.jupyter.widget-view+json": {
       "model_id": "cc4b722bf2f84168aaff2503e4351082",
       "version_major": 2,
       "version_minor": 0
      },
      "text/plain": [
       "  0%|          | 0/729 [00:00<?, ?it/s]"
      ]
     },
     "metadata": {},
     "output_type": "display_data"
    },
    {
     "name": "stdout",
     "output_type": "stream",
     "text": [
      "t_KongsbergAllDatagramIdentifier.InstallationParametersStart\n"
     ]
    }
   ],
   "source": [
    "#loop through all datagrams\n",
    "for d in tqdm(fh.datagram_interface.datagrams()):\n",
    "    print(d.get_datagram_identifier())\n",
    "    break"
   ]
  },
  {
   "cell_type": "code",
   "execution_count": 10,
   "id": "37d4a4ee-f894-4938-9c65-44e77abcb747",
   "metadata": {
    "execution": {
     "iopub.execute_input": "2024-11-22T10:53:49.026961Z",
     "iopub.status.busy": "2024-11-22T10:53:49.026720Z",
     "iopub.status.idle": "2024-11-22T10:53:49.033619Z",
     "shell.execute_reply": "2024-11-22T10:53:49.033245Z",
     "shell.execute_reply.started": "2024-11-22T10:53:49.026949Z"
    }
   },
   "outputs": [
    {
     "data": {
      "application/vnd.jupyter.widget-view+json": {
       "model_id": "96d2a1889dbb48c88815c75822a108f8",
       "version_major": 2,
       "version_minor": 0
      },
      "text/plain": [
       "  0%|          | 0/93 [00:00<?, ?it/s]"
      ]
     },
     "metadata": {},
     "output_type": "display_data"
    },
    {
     "name": "stdout",
     "output_type": "stream",
     "text": [
      "t_KongsbergAllDatagramIdentifier.XYZDatagram\n"
     ]
    }
   ],
   "source": [
    "#loop through all XYZDatagrams\n",
    "\n",
    "for d in tqdm(fh.datagram_interface.datagrams(\"XYZDatagram\")):\n",
    "    print(d.get_datagram_identifier())\n",
    "    break"
   ]
  },
  {
   "cell_type": "code",
   "execution_count": 11,
   "id": "5fd89605-f09f-4c8b-89c8-7c24935460c1",
   "metadata": {
    "execution": {
     "iopub.execute_input": "2024-11-22T10:54:18.509082Z",
     "iopub.status.busy": "2024-11-22T10:54:18.508855Z",
     "iopub.status.idle": "2024-11-22T10:54:18.511708Z",
     "shell.execute_reply": "2024-11-22T10:54:18.511408Z",
     "shell.execute_reply.started": "2024-11-22T10:54:18.509069Z"
    }
   },
   "outputs": [
    {
     "name": "stdout",
     "output_type": "stream",
     "text": [
      "InstallationParameters\n",
      "######################\n",
      "- bytes:               1073     \n",
      "- stx:                 0x02     \n",
      "- datagram_identifier: 0x49     [InstallationParametersStart]\n",
      "- model_number:        EM2040   \n",
      "- date:                20220730 [YYYYMMDD]\n",
      "- time_since_midnight: 74863867 [ms]\n",
      "\n",
      " date/time \n",
      "-----------  \n",
      "- timestamp: 1659.214e⁶   [s]\n",
      "- date:      30/07/2022   [MM/DD/YYYY]\n",
      "- time:      20:47:43.867 [HH:MM:SS]\n",
      "\n",
      " datagram content \n",
      "------------------   \n",
      "- installation_parameters_counter: 6     \n",
      "- system_serial_number:            2106  \n",
      "- secondary_system_serial_number:  2086  \n",
      "- etx:                             0x03  \n",
      "- checksum:                        63519 \n",
      "\n",
      " substructures \n",
      "---------------                                                 \n",
      "- installation_parameters: WLZ=-2.040,SMH=2106,STC=3,S1X=0.000,S1Y=0.000,S1Z=... \n",
      "\n",
      " processed (installation parameter fields) \n",
      "------------------------------------------- \n",
      "- AHE: 2                                      [Active heave sensor]\n",
      "- AHS: 2                                      [Active heading sensor]\n",
      "- APS: 0                                      [Active position system number]\n",
      "- ARO: 2                                      [Active roll/pitch sensor]\n",
      "- BSV: 1.11 18.02.20                          [BSP software version]\n",
      "- CLO: 0                                      [Clock offset in seconds]\n",
      "- CLS: 1                                      [Clock source]\n",
      "- DDS: 4.60 140106                            [DDS software version]\n",
      "- DSD: 0                                      [Depth (pressure) sensor time delay in millisec]\n",
      "- DSF: 1.000000                               [Depth (pressure) sensor scale factor]\n",
      "- DSH: NI                                     [Depth (pressure) sensor heave]\n",
      "- DSO: 0.000000                               [Depth (pressure) sensor offset]\n",
      "- DSV: 3.1.8 141125                           [Datagram format version]\n",
      "- DSX: 0.000                                  [Depth (pressure) sensor along location in m]\n",
      "- DSY: 0.000                                  [Depth (pressure) sensor athwart location in m]\n",
      "- DSZ: 0.000                                  [Depth (pressure) sensor vertical location in m]\n",
      "- GCG: 0.000                                  [Gyrocompass heading offset in degrees]\n",
      "- GO1: 0.00                                   [System (sonar head 1) gain offset]\n",
      "- GO2: 0.00                                   [Sonar head 2 gain offset]\n",
      "- MAS: 1.000                                  [Roll scaling factor]\n",
      "- MRP: RP                                     [Attitude sensor 1 roll reference plane]\n",
      "- MSD: 3                                      [Attitude sensor 1 time delay in milliseconds]\n",
      "- MSG: 0.000                                  [Attitude sensor 1 HEADING offset in degrees]\n",
      "- MSP: 0.000                                  [Attitude sensor 1 pitch offset in degrees]\n",
      "- MSR: 0.000                                  [Attitude sensor 1 roll offset in degrees]\n",
      "- MSX: 0.000                                  [Attitude sensor 1 along location in m]\n",
      "- MSY: 0.000                                  [Attitude sensor 1 athwart location in m]\n",
      "- MSZ: 0.000                                  [Attitude sensor 1 vertical location in m]\n",
      "- NRP: RP                                     [Attitude sensor 2 roll reference plane]\n",
      "- NSD: 0                                      [Attitude sensor 2 time delay in milliseconds]\n",
      "- NSG: 0.000                                  [Attitude sensor 2 HEADING offset in degrees]\n",
      "- NSP: 0.000                                  [Attitude sensor 2 pitch offset in degrees]\n",
      "- NSR: 0.000                                  [Attitude sensor 2 roll offset in degrees]\n",
      "- NSX: 0.000                                  [Attitude sensor 2 along location in m]\n",
      "- NSY: 0.000                                  [Attitude sensor 2 athwart location in m]\n",
      "- NSZ: 0.000                                  [Attitude sensor 2 vertical location in m]\n",
      "- OSV: SIS 4.3.2                              [Operator station software version]\n",
      "- P1D: 0.000                                  [Position system 1 time delay in seconds]\n",
      "- P1G: WGS84                                  [Position system 1 geodetic datum]\n",
      "- P1M: 0                                      [Position system 1 motion compensation]\n",
      "- P1Q: 1                                      [Position system 1, quality check of position, 0=off, 1=on]\n",
      "- P1T: 1                                      [Position system 1 time stamp used]\n",
      "- P1X: 0.000                                  [Position system 1 along location in m]\n",
      "- P1Y: 0.000                                  [Position system 1 athwart location in m]\n",
      "- P1Z: 0.000                                  [Position system 1 vertical location in m]\n",
      "- P2D: 0.000                                  [Position system 2 time delay in seconds]\n",
      "- P2G: WGS84                                  [Position system 2 geodetic datum]\n",
      "- P2M: 0                                      [Position system 2 motion compensation]\n",
      "- P2Q: 1                                      [Position system 2, quality check of position, 0=off, 2=on]\n",
      "- P2T: 0                                      [Position system 2 time stamp used]\n",
      "- P2X: 0.000                                  [Position system 2 along location in m]\n",
      "- P2Y: 0.000                                  [Position system 2 athwart location in m]\n",
      "- P2Z: 0.000                                  [Position system 2 vertical location in m]\n",
      "- P3D: 0.000                                  [Position system 3 time delay in seconds]\n",
      "- P3G: WGS84                                  [Position system 3 geodetic datum]\n",
      "- P3M: 0                                      [Position system 3 motion compensation]\n",
      "- P3Q: 1                                      [Position system 3, quality check of position, 0=off, 1=on]\n",
      "- P3S: 1                                      [Position system 3 on serial line or Ethernet]\n",
      "- P3T: 0                                      [Position system 3 time stamp used]\n",
      "- P3X: 0.000                                  [Position system 3 along location in m]\n",
      "- P3Y: 0.000                                  [Position system 3 athwart location in m]\n",
      "- P3Z: 0.000                                  [Position system 3 vertical location in m]\n",
      "- PPS: 1                                      [1PPS clock synchronization]\n",
      "- PSV: 2.6.1 210330                           [Processing unit software version]\n",
      "- R1S: 2106                                   [RX no. 1, serial number]\n",
      "- R2S: 2086                                   [RX no. 2, serial number]\n",
      "- RFN: 0006_20220730_204743_NorthernStorm.all [Raw File Name]\n",
      "- RSV: 1.02   Nov 12 2012                     [Receiver (sonar head 2) software version]\n",
      "- S1H: 0.190                                  [Transducer 1 heading in degrees]\n",
      "- S1P: 1.790                                  [Transducer 1 pitch in degrees]\n",
      "- S1R: 0.510                                  [Transducer 1 roll in degrees re horizontal]\n",
      "- S1S: 0                                      [TX array size (0=0.5°, 1=1°, 2=2°)]\n",
      "- S1X: 0.000                                  [Transducer 1 along location in m]\n",
      "- S1Y: 0.000                                  [Transducer 1 athwart location in m]\n",
      "- S1Z: 0.000                                  [Transducer 1 vertical location in m]\n",
      "- S2H: 178.840                                [Transducer 2 heading in degrees]\n",
      "- S2P: -1.910                                 [Transducer 2 pitch in degrees]\n",
      "- S2R: -35.440                                [Transducer 2 roll in degrees re horizontal]\n",
      "- S2S: 1                                      [RX array size (0=0.5°, 1=1°, 2=2°)]\n",
      "- S2X: -0.006                                 [Transducer 2 along location in m]\n",
      "- S2Y: -0.334                                 [Transducer 2 athwart location in m]\n",
      "- S2Z: -0.170                                 [Transducer 2 vertical location in m]\n",
      "- S3H: 181.310                                [Transducer 3 heading in degrees]\n",
      "- S3P: -1.450                                 [Transducer 3 pitch in degrees]\n",
      "- S3R: 34.980                                 [Transducer 3 roll in degrees re horizontal]\n",
      "- S3S: 1                                      [RX2 array size (0=0.5°, 1=1°, 2=2°)]\n",
      "- S3X: -0.008                                 [Transducer 3 along location in m]\n",
      "- S3Y: 0.338                                  [Transducer 3 athwart location in m]\n",
      "- S3Z: -0.164                                 [Transducer 3 vertical location in m]\n",
      "- SID: 2022011_NHS_Mareano2022_B29_002        [Survey identifier]\n",
      "- SMH: 2106                                   [System main head serial number]\n",
      "- STC: 3                                      [System transducer configuration]\n",
      "- TSV: 1.07   Mar  8 2018                     [Transmitter (sonar head no1) software version]\n",
      "- TXS: 243                                    [TX serial number]\n",
      "- VSE: 2                                      [Attitude velocity sensor 1 Ethernet port]\n",
      "- VSI: 192.168.30.10                          [Ethernet 2 address]\n",
      "- VSM: 255.255.255.0                          [Ethernet 2 IP network mask]\n",
      "- VSN: 1                                      [Active attitude velocity sensor]\n",
      "- VSU: 3001                                   [Attitude velocity sensor 1 UDP port address (UDP5)]\n",
      "- VTE: 0                                      [Attitude velocity sensor 2 Ethernet port]\n",
      "- VTU: 3000                                   [Attitude velocity sensor 2 UDP port address (UDP6)]\n",
      "- WLZ: -2.040                                 [Water line vertical location in m]\n"
     ]
    }
   ],
   "source": [
    "#get the first installationparametersstart datagrams\n",
    "d  = fh.datagram_interface.datagrams(\"InstallationParametersStart\")[0]\n",
    "print(d)"
   ]
  },
  {
   "cell_type": "code",
   "execution_count": 18,
   "id": "bacd4ddc-ee0a-4969-baeb-fdc7975385a6",
   "metadata": {
    "execution": {
     "iopub.execute_input": "2024-11-22T10:55:46.363176Z",
     "iopub.status.busy": "2024-11-22T10:55:46.362709Z",
     "iopub.status.idle": "2024-11-22T10:55:46.365826Z",
     "shell.execute_reply": "2024-11-22T10:55:46.365301Z",
     "shell.execute_reply.started": "2024-11-22T10:55:46.363154Z"
    }
   },
   "outputs": [
    {
     "name": "stdout",
     "output_type": "stream",
     "text": [
      "t_KongsbergAllActiveSensor.MotionSensor1\n"
     ]
    }
   ],
   "source": [
    "#get the data as string (as described in the file format)\n",
    "print(d.get_active_heave_sensor())"
   ]
  },
  {
   "cell_type": "code",
   "execution_count": 19,
   "id": "e3590057-8811-4411-8b49-84eeada253de",
   "metadata": {
    "execution": {
     "iopub.execute_input": "2024-11-22T10:56:09.956941Z",
     "iopub.status.busy": "2024-11-22T10:56:09.956229Z",
     "iopub.status.idle": "2024-11-22T10:56:09.959415Z",
     "shell.execute_reply": "2024-11-22T10:56:09.959168Z",
     "shell.execute_reply.started": "2024-11-22T10:56:09.956892Z"
    }
   },
   "outputs": [
    {
     "data": {
      "text/plain": [
       "2040"
      ]
     },
     "execution_count": 19,
     "metadata": {},
     "output_type": "execute_result"
    }
   ],
   "source": [
    "d.get_model_number()"
   ]
  },
  {
   "cell_type": "code",
   "execution_count": 22,
   "id": "6c7170d5-9817-478a-a49d-caed48e906df",
   "metadata": {
    "execution": {
     "iopub.execute_input": "2024-11-22T10:58:27.139446Z",
     "iopub.status.busy": "2024-11-22T10:58:27.139178Z",
     "iopub.status.idle": "2024-11-22T10:58:27.147647Z",
     "shell.execute_reply": "2024-11-22T10:58:27.147240Z",
     "shell.execute_reply.started": "2024-11-22T10:58:27.139428Z"
    }
   },
   "outputs": [
    {
     "data": {
      "application/vnd.jupyter.widget-view+json": {
       "model_id": "ab60060ce3c44e70a1972e5d2fb66cec",
       "version_major": 2,
       "version_minor": 0
      },
      "text/plain": [
       "  0%|          | 0/38 [00:00<?, ?it/s]"
      ]
     },
     "metadata": {},
     "output_type": "display_data"
    },
    {
     "name": "stdout",
     "output_type": "stream",
     "text": [
      "t_KongsbergAllDatagramIdentifier.RuntimeParameters\n",
      "RuntimeParameters\n",
      "#################\n",
      "- bytes:               52       \n",
      "- stx:                 0x02     \n",
      "- datagram_identifier: 0x52     [RuntimeParameters]\n",
      "- model_number:        EM2040   \n",
      "- date:                20220730 [YYYYMMDD]\n",
      "- time_since_midnight: 74864309 [ms]\n",
      "\n",
      " date/time \n",
      "-----------  \n",
      "- timestamp: 1659.214e⁶   [s]\n",
      "- date:      30/07/2022   [MM/DD/YYYY]\n",
      "- time:      20:47:44.309 [HH:MM:SS]\n",
      "\n",
      " datagram content \n",
      "------------------        \n",
      "- ping_counter:                         63074 \n",
      "- system_serial_number:                 2106  \n",
      "- operator_station_status:              0     \n",
      "- processing_unit_status:               0     \n",
      "- bsp_status:                           0     \n",
      "- sonar_head_or_transceiver_status:     0     \n",
      "- mode:                                 129   \n",
      "- filter_identifier:                    130   \n",
      "- minimum_depth:                        20    [m]\n",
      "- maximum_depth:                        100   [m]\n",
      "- absorption_coefficient:               6910  [0.01 db/km]\n",
      "- transmit_pulse_length:                107   [μs]\n",
      "- transmit_beamwidth:                   5     [0.1°]\n",
      "- transmit_power_relative_maximum:      0     [dB]\n",
      "- receive_bandwidth_degree:             10    [0.1°]\n",
      "- receive_bandwidth_50hz:               255   [50Hz]\n",
      "- mode2_or_receiver_fixed_gain_setting: 7     [dB]\n",
      "- tvg_law_crossover_angle:              10    [°]\n",
      "- source_of_sound_speed_at_transducer:  0     \n",
      "- maximum_port_swath_width:             160   [m]\n",
      "- beam_spacing:                         3     \n",
      "- maximum_port_coverage:                60    [°]\n",
      "- yaw_and_pitch_stabilization_mode:     138   \n",
      "- maximum_starboard_coverage:           60    [°]\n",
      "- maximum_starboard_swath_width:        160   [m]\n",
      "- transmit_along_tilt:                  0     [0.1°]\n",
      "- filter_identifier2:                   16    \n",
      "- etx:                                  0x03  \n",
      "- checksum:                             3036  \n",
      "\n",
      " processed \n",
      "-----------               \n",
      "- absorption_coefficient: 69.100e⁻³    [db/m]\n",
      "- transmit_pulse_length:  0.107e⁻³     [s]\n",
      "- transmit_beamwidth:     0.500        [°]\n",
      "- receive_bandwidth:      1.000        [°]\n",
      "- receive_bandwidth:      12.750e³     [Hz]\n",
      "- transmit_along_tilt:    0.000        [°]\n"
     ]
    },
    {
     "data": {
      "text/plain": [
       "129"
      ]
     },
     "execution_count": 22,
     "metadata": {},
     "output_type": "execute_result"
    }
   ],
   "source": [
    "#get runtime parametser\n",
    "for d in tqdm(fh.datagram_interface.datagrams(\"RuntimeParameters\")):\n",
    "    print(d.get_datagram_identifier())\n",
    "    break\n",
    "print(d)\n",
    "d.get_mode()"
   ]
  },
  {
   "cell_type": "code",
   "execution_count": 24,
   "id": "1d31a939-b601-490f-8d2f-000c54eb92cc",
   "metadata": {
    "execution": {
     "iopub.execute_input": "2024-11-22T10:59:04.155719Z",
     "iopub.status.busy": "2024-11-22T10:59:04.155413Z",
     "iopub.status.idle": "2024-11-22T10:59:04.158101Z",
     "shell.execute_reply": "2024-11-22T10:59:04.157823Z",
     "shell.execute_reply.started": "2024-11-22T10:59:04.155707Z"
    }
   },
   "outputs": [
    {
     "name": "stdout",
     "output_type": "stream",
     "text": [
      "107\n",
      "0.00010699999984353781\n"
     ]
    }
   ],
   "source": [
    "#raw\n",
    "print(d.get_transmit_pulse_length())\n",
    "\n",
    "#processed\n",
    "print(d.get_transmit_pulse_length_in_seconds())"
   ]
  },
  {
   "cell_type": "code",
   "execution_count": 26,
   "id": "8c71b508-e6a6-492b-9cd0-9b04eb339c38",
   "metadata": {
    "execution": {
     "iopub.execute_input": "2024-11-22T10:59:41.791688Z",
     "iopub.status.busy": "2024-11-22T10:59:41.791133Z",
     "iopub.status.idle": "2024-11-22T10:59:41.796497Z",
     "shell.execute_reply": "2024-11-22T10:59:41.796188Z",
     "shell.execute_reply.started": "2024-11-22T10:59:41.791662Z"
    }
   },
   "outputs": [
    {
     "name": "stdout",
     "output_type": "stream",
     "text": [
      "RuntimeParameters\n",
      "#################\n",
      "- bytes:               52       \n",
      "- stx:                 0x02     \n",
      "- datagram_identifier: 0x52     [RuntimeParameters]\n",
      "- model_number:        EM710    \n",
      "- date:                20120821 [YYYYMMDD]\n",
      "- time_since_midnight: 61782856 [ms]\n",
      "\n",
      " date/time \n",
      "-----------  \n",
      "- timestamp: 1345.569e⁶   [s]\n",
      "- date:      21/08/2012   [MM/DD/YYYY]\n",
      "- time:      17:09:42.856 [HH:MM:SS]\n",
      "\n",
      " datagram content \n",
      "------------------        \n",
      "- ping_counter:                         62485 \n",
      "- system_serial_number:                 210   \n",
      "- operator_station_status:              0     \n",
      "- processing_unit_status:               0     \n",
      "- bsp_status:                           0     \n",
      "- sonar_head_or_transceiver_status:     0     \n",
      "- mode:                                 129   \n",
      "- filter_identifier:                    111   \n",
      "- minimum_depth:                        30    [m]\n",
      "- maximum_depth:                        250   [m]\n",
      "- absorption_coefficient:               2407  [0.01 db/km]\n",
      "- transmit_pulse_length:                500   [μs]\n",
      "- transmit_beamwidth:                   10    [0.1°]\n",
      "- transmit_power_relative_maximum:      0     [dB]\n",
      "- receive_bandwidth_degree:             20    [0.1°]\n",
      "- receive_bandwidth_50hz:               255   [50Hz]\n",
      "- mode2_or_receiver_fixed_gain_setting: 0     [dB]\n",
      "- tvg_law_crossover_angle:              5     [°]\n",
      "- source_of_sound_speed_at_transducer:  2     \n",
      "- maximum_port_swath_width:             2000  [m]\n",
      "- beam_spacing:                         1     \n",
      "- maximum_port_coverage:                65    [°]\n",
      "- yaw_and_pitch_stabilization_mode:     0     \n",
      "- maximum_starboard_coverage:           65    [°]\n",
      "- maximum_starboard_swath_width:        2000  [m]\n",
      "- transmit_along_tilt:                  5     [0.1°]\n",
      "- filter_identifier2:                   2     \n",
      "- etx:                                  0x03  \n",
      "- checksum:                             3231  \n",
      "\n",
      " processed \n",
      "-----------               \n",
      "- absorption_coefficient: 24.070e⁻³    [db/m]\n",
      "- transmit_pulse_length:  0.500e⁻³     [s]\n",
      "- transmit_beamwidth:     1.000        [°]\n",
      "- receive_bandwidth:      2.000        [°]\n",
      "- receive_bandwidth:      12.750e³     [Hz]\n",
      "- transmit_along_tilt:    0.500        [°]\n"
     ]
    }
   ],
   "source": [
    "ping = fh.get_pings()[0]\n",
    "\n",
    "rp = ping.file_data.get_runtime_parameters()\n",
    "print(rp)"
   ]
  },
  {
   "cell_type": "code",
   "execution_count": 31,
   "id": "06fd6a01-0f40-478b-9b28-06ea4f68c8d7",
   "metadata": {
    "execution": {
     "iopub.execute_input": "2024-11-22T11:02:00.337059Z",
     "iopub.status.busy": "2024-11-22T11:02:00.336861Z",
     "iopub.status.idle": "2024-11-22T11:02:00.339943Z",
     "shell.execute_reply": "2024-11-22T11:02:00.339671Z",
     "shell.execute_reply.started": "2024-11-22T11:02:00.337047Z"
    }
   },
   "outputs": [
    {
     "data": {
      "text/plain": [
       "'10000001'"
      ]
     },
     "execution_count": 31,
     "metadata": {},
     "output_type": "execute_result"
    }
   ],
   "source": [
    "f'{rp.get_mode():b}'"
   ]
  },
  {
   "cell_type": "code",
   "execution_count": null,
   "id": "b96639fe-b55c-4b7d-8482-131a5ffe7747",
   "metadata": {},
   "outputs": [],
   "source": []
  }
 ],
 "metadata": {
  "kernelspec": {
   "display_name": "Python 3 (ipykernel)",
   "language": "python",
   "name": "python3"
  },
  "language_info": {
   "codemirror_mode": {
    "name": "ipython",
    "version": 3
   },
   "file_extension": ".py",
   "mimetype": "text/x-python",
   "name": "python",
   "nbconvert_exporter": "python",
   "pygments_lexer": "ipython3",
   "version": "3.12.7"
  },
  "widgets": {
   "application/vnd.jupyter.widget-state+json": {
    "state": {
     "010838c8eb7d4ef4b5e125ddc02b9f56": {
      "model_module": "@jupyter-widgets/controls",
      "model_module_version": "1.5.0",
      "model_name": "HBoxModel",
      "state": {
       "children": [
        "IPY_MODEL_da02f463537249018b2717743bdcf372",
        "IPY_MODEL_38904c1abf19466fbc4f4e7e7dadc68a",
        "IPY_MODEL_40da599c2f8947a88c0f872860c2e77a"
       ],
       "layout": "IPY_MODEL_790f33b279624cbd8303176f322fcacc"
      }
     },
     "06fa250b8b324ba39d251a896b153b88": {
      "model_module": "@jupyter-widgets/base",
      "model_module_version": "1.2.0",
      "model_name": "LayoutModel",
      "state": {}
     },
     "0bc0030084354c1cbcf2899b79e92aa8": {
      "model_module": "@jupyter-widgets/base",
      "model_module_version": "1.2.0",
      "model_name": "LayoutModel",
      "state": {}
     },
     "0f0784593fd8491a8326fe26174d393b": {
      "model_module": "@jupyter-widgets/controls",
      "model_module_version": "1.5.0",
      "model_name": "DescriptionStyleModel",
      "state": {
       "description_width": ""
      }
     },
     "18c76dc7871a42d0aa4022bfc2f8526c": {
      "model_module": "@jupyter-widgets/controls",
      "model_module_version": "1.5.0",
      "model_name": "ProgressStyleModel",
      "state": {
       "description_width": ""
      }
     },
     "1b463b396dc2445095861eb626ecb604": {
      "model_module": "@jupyter-widgets/base",
      "model_module_version": "1.2.0",
      "model_name": "LayoutModel",
      "state": {}
     },
     "1c86b66ee0ba40958641f02691fdcc2a": {
      "model_module": "@jupyter-widgets/controls",
      "model_module_version": "1.5.0",
      "model_name": "HTMLModel",
      "state": {
       "layout": "IPY_MODEL_bb83e45fbc204c00995b5b2f93c56199",
       "style": "IPY_MODEL_7f36df16969943b68d88a5dcc750fe24",
       "value": "  0%"
      }
     },
     "1e174c5cb37b409d8b7cfaea429fa259": {
      "model_module": "@jupyter-widgets/controls",
      "model_module_version": "1.5.0",
      "model_name": "DescriptionStyleModel",
      "state": {
       "description_width": ""
      }
     },
     "1e689375a0f14c37a562b906ec44174c": {
      "model_module": "@jupyter-widgets/controls",
      "model_module_version": "1.5.0",
      "model_name": "ProgressStyleModel",
      "state": {
       "description_width": ""
      }
     },
     "1f5052e75cbf453895db07f283976bc8": {
      "model_module": "@jupyter-widgets/controls",
      "model_module_version": "1.5.0",
      "model_name": "DescriptionStyleModel",
      "state": {
       "description_width": ""
      }
     },
     "2168f7f0dc434cbbb57947b954a84ff9": {
      "model_module": "@jupyter-widgets/base",
      "model_module_version": "1.2.0",
      "model_name": "LayoutModel",
      "state": {}
     },
     "22cae86e153341819c5c3fecbfc24b43": {
      "model_module": "@jupyter-widgets/controls",
      "model_module_version": "1.5.0",
      "model_name": "ProgressStyleModel",
      "state": {
       "description_width": ""
      }
     },
     "293c4516a0e743b6acb9a1559e33da74": {
      "model_module": "@jupyter-widgets/base",
      "model_module_version": "1.2.0",
      "model_name": "LayoutModel",
      "state": {}
     },
     "29df490cb8c841bfa85dcd8dd24c6bfa": {
      "model_module": "@jupyter-widgets/base",
      "model_module_version": "1.2.0",
      "model_name": "LayoutModel",
      "state": {}
     },
     "34bd5792aac64222b45c2e865a6c6e44": {
      "model_module": "@jupyter-widgets/controls",
      "model_module_version": "1.5.0",
      "model_name": "FloatProgressModel",
      "state": {
       "bar_style": "danger",
       "layout": "IPY_MODEL_a23a649fdc074ec582d575ef24cb3e67",
       "max": 93,
       "style": "IPY_MODEL_92249c41a69245399db72ddd321e09c3"
      }
     },
     "35bd7292b69446f1bac75ddda6de77c2": {
      "model_module": "@jupyter-widgets/base",
      "model_module_version": "1.2.0",
      "model_name": "LayoutModel",
      "state": {}
     },
     "3822d30b4db24d01825e1b0d16983ce5": {
      "model_module": "@jupyter-widgets/controls",
      "model_module_version": "1.5.0",
      "model_name": "FloatProgressModel",
      "state": {
       "bar_style": "danger",
       "layout": "IPY_MODEL_2168f7f0dc434cbbb57947b954a84ff9",
       "max": 729,
       "style": "IPY_MODEL_6a7c1734ba1149218ce1952fe8bcf07e"
      }
     },
     "38904c1abf19466fbc4f4e7e7dadc68a": {
      "model_module": "@jupyter-widgets/controls",
      "model_module_version": "1.5.0",
      "model_name": "FloatProgressModel",
      "state": {
       "bar_style": "danger",
       "layout": "IPY_MODEL_293c4516a0e743b6acb9a1559e33da74",
       "max": 38,
       "style": "IPY_MODEL_5a40974efb22481cbb976ef835de2f81"
      }
     },
     "3b83ea5f12ea458eb51c601a186f76fc": {
      "model_module": "@jupyter-widgets/controls",
      "model_module_version": "1.5.0",
      "model_name": "DescriptionStyleModel",
      "state": {
       "description_width": ""
      }
     },
     "40da599c2f8947a88c0f872860c2e77a": {
      "model_module": "@jupyter-widgets/controls",
      "model_module_version": "1.5.0",
      "model_name": "HTMLModel",
      "state": {
       "layout": "IPY_MODEL_b9545c06bb1241bf9e9566385f61802d",
       "style": "IPY_MODEL_a0819f19c8e340e487d0da1e620d309b",
       "value": " 0/38 [00:00&lt;?, ?it/s]"
      }
     },
     "4b511e90e8b9461ba5df4e36e13fdd28": {
      "model_module": "@jupyter-widgets/base",
      "model_module_version": "1.2.0",
      "model_name": "LayoutModel",
      "state": {}
     },
     "4df7319de0244b699c93dc9ccc4106a7": {
      "model_module": "@jupyter-widgets/controls",
      "model_module_version": "1.5.0",
      "model_name": "DescriptionStyleModel",
      "state": {
       "description_width": ""
      }
     },
     "509c5eb39b8b4069a8a77fe88bcf4f16": {
      "model_module": "@jupyter-widgets/base",
      "model_module_version": "1.2.0",
      "model_name": "LayoutModel",
      "state": {}
     },
     "552bf096386c4c3fa5c0fd86914d94bb": {
      "model_module": "@jupyter-widgets/base",
      "model_module_version": "1.2.0",
      "model_name": "LayoutModel",
      "state": {}
     },
     "579aaa4ef88b47cf8b1e254e61e41630": {
      "model_module": "@jupyter-widgets/controls",
      "model_module_version": "1.5.0",
      "model_name": "DescriptionStyleModel",
      "state": {
       "description_width": ""
      }
     },
     "5a40974efb22481cbb976ef835de2f81": {
      "model_module": "@jupyter-widgets/controls",
      "model_module_version": "1.5.0",
      "model_name": "ProgressStyleModel",
      "state": {
       "description_width": ""
      }
     },
     "5bd83ebd32124937927264a0190d50b9": {
      "model_module": "@jupyter-widgets/controls",
      "model_module_version": "1.5.0",
      "model_name": "HTMLModel",
      "state": {
       "layout": "IPY_MODEL_e861487168a44a4c9ca38fc7d61b708d",
       "style": "IPY_MODEL_0f0784593fd8491a8326fe26174d393b",
       "value": " 0/38 [00:00&lt;?, ?it/s]"
      }
     },
     "68da8d4bcce0480dab3eff13945939cd": {
      "model_module": "@jupyter-widgets/controls",
      "model_module_version": "1.5.0",
      "model_name": "HTMLModel",
      "state": {
       "layout": "IPY_MODEL_fb7b2d2d9f4f421c8efda754021c9757",
       "style": "IPY_MODEL_baec2b09a6d344898eb19b83d55e5040",
       "value": "100%"
      }
     },
     "6a7c1734ba1149218ce1952fe8bcf07e": {
      "model_module": "@jupyter-widgets/controls",
      "model_module_version": "1.5.0",
      "model_name": "ProgressStyleModel",
      "state": {
       "description_width": ""
      }
     },
     "73eee5935b73455ea2122778c6ad767a": {
      "model_module": "@jupyter-widgets/base",
      "model_module_version": "1.2.0",
      "model_name": "LayoutModel",
      "state": {}
     },
     "74302c7c6beb475bbae95e7095e7a1f4": {
      "model_module": "@jupyter-widgets/controls",
      "model_module_version": "1.5.0",
      "model_name": "HTMLModel",
      "state": {
       "layout": "IPY_MODEL_552bf096386c4c3fa5c0fd86914d94bb",
       "style": "IPY_MODEL_840570cb0a0b4d41b70e918f44b30572",
       "value": "  0%"
      }
     },
     "743bc19b0208425c81d5f65763aace97": {
      "model_module": "@jupyter-widgets/controls",
      "model_module_version": "1.5.0",
      "model_name": "FloatProgressModel",
      "state": {
       "bar_style": "success",
       "layout": "IPY_MODEL_06fa250b8b324ba39d251a896b153b88",
       "max": 18,
       "style": "IPY_MODEL_22cae86e153341819c5c3fecbfc24b43",
       "value": 18
      }
     },
     "7475fafab97142d195603564a4b8b50e": {
      "model_module": "@jupyter-widgets/base",
      "model_module_version": "1.2.0",
      "model_name": "LayoutModel",
      "state": {}
     },
     "790f33b279624cbd8303176f322fcacc": {
      "model_module": "@jupyter-widgets/base",
      "model_module_version": "1.2.0",
      "model_name": "LayoutModel",
      "state": {}
     },
     "79b6a0559d824eaa90391654c4f3ffb7": {
      "model_module": "@jupyter-widgets/base",
      "model_module_version": "1.2.0",
      "model_name": "LayoutModel",
      "state": {}
     },
     "7cd8c340ec8544658102bf23a89c700e": {
      "model_module": "@jupyter-widgets/base",
      "model_module_version": "1.2.0",
      "model_name": "LayoutModel",
      "state": {}
     },
     "7e593bba5ff4455bbb55bff49bc1fd33": {
      "model_module": "@jupyter-widgets/controls",
      "model_module_version": "1.5.0",
      "model_name": "HTMLModel",
      "state": {
       "layout": "IPY_MODEL_f1ad861f9b2846368409ffafc4d1e765",
       "style": "IPY_MODEL_caa77afbbf204070b4b6f4f491991eed",
       "value": "  0%"
      }
     },
     "7f36df16969943b68d88a5dcc750fe24": {
      "model_module": "@jupyter-widgets/controls",
      "model_module_version": "1.5.0",
      "model_name": "DescriptionStyleModel",
      "state": {
       "description_width": ""
      }
     },
     "7fab8af58426481d859a6b613183577b": {
      "model_module": "@jupyter-widgets/base",
      "model_module_version": "1.2.0",
      "model_name": "LayoutModel",
      "state": {}
     },
     "8310a127171a4aa9989af664dd6879c2": {
      "model_module": "@jupyter-widgets/controls",
      "model_module_version": "1.5.0",
      "model_name": "HBoxModel",
      "state": {
       "children": [
        "IPY_MODEL_e29f4301e51e40899539511e915955fa",
        "IPY_MODEL_743bc19b0208425c81d5f65763aace97",
        "IPY_MODEL_fc676b5cbc6c4af188f34ca450c96ab8"
       ],
       "layout": "IPY_MODEL_73eee5935b73455ea2122778c6ad767a"
      }
     },
     "840570cb0a0b4d41b70e918f44b30572": {
      "model_module": "@jupyter-widgets/controls",
      "model_module_version": "1.5.0",
      "model_name": "DescriptionStyleModel",
      "state": {
       "description_width": ""
      }
     },
     "860ed6f4fbf04db085ee969b787ce213": {
      "model_module": "@jupyter-widgets/controls",
      "model_module_version": "1.5.0",
      "model_name": "DescriptionStyleModel",
      "state": {
       "description_width": ""
      }
     },
     "87ac692da10d470f816723aca1c46524": {
      "model_module": "@jupyter-widgets/base",
      "model_module_version": "1.2.0",
      "model_name": "LayoutModel",
      "state": {}
     },
     "8ecb7b740ac3445bac4e1af36e347dd0": {
      "model_module": "@jupyter-widgets/base",
      "model_module_version": "1.2.0",
      "model_name": "LayoutModel",
      "state": {}
     },
     "91dcbaba04904501b0b2833f1b7cc753": {
      "model_module": "@jupyter-widgets/base",
      "model_module_version": "1.2.0",
      "model_name": "LayoutModel",
      "state": {}
     },
     "92249c41a69245399db72ddd321e09c3": {
      "model_module": "@jupyter-widgets/controls",
      "model_module_version": "1.5.0",
      "model_name": "ProgressStyleModel",
      "state": {
       "description_width": ""
      }
     },
     "953cb101d66048e1a2979478e30f4d26": {
      "model_module": "@jupyter-widgets/controls",
      "model_module_version": "1.5.0",
      "model_name": "DescriptionStyleModel",
      "state": {
       "description_width": ""
      }
     },
     "96d2a1889dbb48c88815c75822a108f8": {
      "model_module": "@jupyter-widgets/controls",
      "model_module_version": "1.5.0",
      "model_name": "HBoxModel",
      "state": {
       "children": [
        "IPY_MODEL_74302c7c6beb475bbae95e7095e7a1f4",
        "IPY_MODEL_34bd5792aac64222b45c2e865a6c6e44",
        "IPY_MODEL_ddc8bbd606fc41d69375a29f07d7ec39"
       ],
       "layout": "IPY_MODEL_29df490cb8c841bfa85dcd8dd24c6bfa"
      }
     },
     "9850d869500d4df4842181d76b0030c8": {
      "model_module": "@jupyter-widgets/controls",
      "model_module_version": "1.5.0",
      "model_name": "FloatProgressModel",
      "state": {
       "bar_style": "danger",
       "layout": "IPY_MODEL_1b463b396dc2445095861eb626ecb604",
       "max": 38,
       "style": "IPY_MODEL_1e689375a0f14c37a562b906ec44174c"
      }
     },
     "98e85bd52c254cfc818e73ad1eed55cd": {
      "model_module": "@jupyter-widgets/base",
      "model_module_version": "1.2.0",
      "model_name": "LayoutModel",
      "state": {}
     },
     "9fcc73813435494da27a7da2015e3663": {
      "model_module": "@jupyter-widgets/base",
      "model_module_version": "1.2.0",
      "model_name": "LayoutModel",
      "state": {}
     },
     "a054430077c842e38295d49b7a6c527b": {
      "model_module": "@jupyter-widgets/controls",
      "model_module_version": "1.5.0",
      "model_name": "HBoxModel",
      "state": {
       "children": [
        "IPY_MODEL_68da8d4bcce0480dab3eff13945939cd",
        "IPY_MODEL_a5165d5ad6fd459ebd8247b4b6ff479f",
        "IPY_MODEL_de5f47407c5b401a84d81231d84243bf"
       ],
       "layout": "IPY_MODEL_8ecb7b740ac3445bac4e1af36e347dd0"
      }
     },
     "a0819f19c8e340e487d0da1e620d309b": {
      "model_module": "@jupyter-widgets/controls",
      "model_module_version": "1.5.0",
      "model_name": "DescriptionStyleModel",
      "state": {
       "description_width": ""
      }
     },
     "a23a649fdc074ec582d575ef24cb3e67": {
      "model_module": "@jupyter-widgets/base",
      "model_module_version": "1.2.0",
      "model_name": "LayoutModel",
      "state": {}
     },
     "a3e359fa4c354fa98a8a42c90158aed4": {
      "model_module": "@jupyter-widgets/controls",
      "model_module_version": "1.5.0",
      "model_name": "DescriptionStyleModel",
      "state": {
       "description_width": ""
      }
     },
     "a5165d5ad6fd459ebd8247b4b6ff479f": {
      "model_module": "@jupyter-widgets/controls",
      "model_module_version": "1.5.0",
      "model_name": "FloatProgressModel",
      "state": {
       "bar_style": "success",
       "layout": "IPY_MODEL_7cd8c340ec8544658102bf23a89c700e",
       "max": 729,
       "style": "IPY_MODEL_fef1f0ddbba945caa3bddc35debde9eb",
       "value": 729
      }
     },
     "a71477853fad42648206c9561cf48f68": {
      "model_module": "@jupyter-widgets/controls",
      "model_module_version": "1.5.0",
      "model_name": "ProgressStyleModel",
      "state": {
       "description_width": ""
      }
     },
     "a87858249e8d484e87995ef15f4094fb": {
      "model_module": "@jupyter-widgets/controls",
      "model_module_version": "1.5.0",
      "model_name": "DescriptionStyleModel",
      "state": {
       "description_width": ""
      }
     },
     "a8b22207619d4412b2df63cc42745f1b": {
      "model_module": "@jupyter-widgets/base",
      "model_module_version": "1.2.0",
      "model_name": "LayoutModel",
      "state": {}
     },
     "a95b637d4a084b80b47ff072f701ca54": {
      "model_module": "@jupyter-widgets/controls",
      "model_module_version": "1.5.0",
      "model_name": "HTMLModel",
      "state": {
       "layout": "IPY_MODEL_f3fcc116106d4f01a62329503405b4fa",
       "style": "IPY_MODEL_a87858249e8d484e87995ef15f4094fb",
       "value": " 0/38 [00:00&lt;?, ?it/s]"
      }
     },
     "ab60060ce3c44e70a1972e5d2fb66cec": {
      "model_module": "@jupyter-widgets/controls",
      "model_module_version": "1.5.0",
      "model_name": "HBoxModel",
      "state": {
       "children": [
        "IPY_MODEL_7e593bba5ff4455bbb55bff49bc1fd33",
        "IPY_MODEL_9850d869500d4df4842181d76b0030c8",
        "IPY_MODEL_5bd83ebd32124937927264a0190d50b9"
       ],
       "layout": "IPY_MODEL_87ac692da10d470f816723aca1c46524"
      }
     },
     "adb112dea26f44dfae9e9fa10e815304": {
      "model_module": "@jupyter-widgets/base",
      "model_module_version": "1.2.0",
      "model_name": "LayoutModel",
      "state": {}
     },
     "b136ccf8d99c47ce80accce01e9d931f": {
      "model_module": "@jupyter-widgets/controls",
      "model_module_version": "1.5.0",
      "model_name": "HBoxModel",
      "state": {
       "children": [
        "IPY_MODEL_1c86b66ee0ba40958641f02691fdcc2a",
        "IPY_MODEL_cdbdf3f32c14447f9096036cd887e166",
        "IPY_MODEL_a95b637d4a084b80b47ff072f701ca54"
       ],
       "layout": "IPY_MODEL_35bd7292b69446f1bac75ddda6de77c2"
      }
     },
     "b4f2d1726a7243ccbc4a4929ecf2e615": {
      "model_module": "@jupyter-widgets/controls",
      "model_module_version": "1.5.0",
      "model_name": "FloatProgressModel",
      "state": {
       "bar_style": "success",
       "layout": "IPY_MODEL_7fab8af58426481d859a6b613183577b",
       "max": 18,
       "style": "IPY_MODEL_18c76dc7871a42d0aa4022bfc2f8526c",
       "value": 18
      }
     },
     "b9545c06bb1241bf9e9566385f61802d": {
      "model_module": "@jupyter-widgets/base",
      "model_module_version": "1.2.0",
      "model_name": "LayoutModel",
      "state": {}
     },
     "baec2b09a6d344898eb19b83d55e5040": {
      "model_module": "@jupyter-widgets/controls",
      "model_module_version": "1.5.0",
      "model_name": "DescriptionStyleModel",
      "state": {
       "description_width": ""
      }
     },
     "bb83e45fbc204c00995b5b2f93c56199": {
      "model_module": "@jupyter-widgets/base",
      "model_module_version": "1.2.0",
      "model_name": "LayoutModel",
      "state": {}
     },
     "c9db6d432d4e4872b60b5f7c360bd750": {
      "model_module": "@jupyter-widgets/base",
      "model_module_version": "1.2.0",
      "model_name": "LayoutModel",
      "state": {}
     },
     "caa383a0ea2b4bc3af5ebdd408be8b47": {
      "model_module": "@jupyter-widgets/controls",
      "model_module_version": "1.5.0",
      "model_name": "HTMLModel",
      "state": {
       "layout": "IPY_MODEL_7475fafab97142d195603564a4b8b50e",
       "style": "IPY_MODEL_953cb101d66048e1a2979478e30f4d26",
       "value": "removing duplicates: 100%"
      }
     },
     "caa77afbbf204070b4b6f4f491991eed": {
      "model_module": "@jupyter-widgets/controls",
      "model_module_version": "1.5.0",
      "model_name": "DescriptionStyleModel",
      "state": {
       "description_width": ""
      }
     },
     "cba52dc27a5245d8a7e48076baf81238": {
      "model_module": "@jupyter-widgets/controls",
      "model_module_version": "1.5.0",
      "model_name": "HTMLModel",
      "state": {
       "layout": "IPY_MODEL_9fcc73813435494da27a7da2015e3663",
       "style": "IPY_MODEL_4df7319de0244b699c93dc9ccc4106a7",
       "value": "  0%"
      }
     },
     "cc4b722bf2f84168aaff2503e4351082": {
      "model_module": "@jupyter-widgets/controls",
      "model_module_version": "1.5.0",
      "model_name": "HBoxModel",
      "state": {
       "children": [
        "IPY_MODEL_cba52dc27a5245d8a7e48076baf81238",
        "IPY_MODEL_3822d30b4db24d01825e1b0d16983ce5",
        "IPY_MODEL_f1473e12c8b947a5947f9a36a739a668"
       ],
       "layout": "IPY_MODEL_4b511e90e8b9461ba5df4e36e13fdd28"
      }
     },
     "cdbdf3f32c14447f9096036cd887e166": {
      "model_module": "@jupyter-widgets/controls",
      "model_module_version": "1.5.0",
      "model_name": "FloatProgressModel",
      "state": {
       "bar_style": "danger",
       "layout": "IPY_MODEL_79b6a0559d824eaa90391654c4f3ffb7",
       "max": 38,
       "style": "IPY_MODEL_a71477853fad42648206c9561cf48f68"
      }
     },
     "d3111cb0509e4154a7264c92ff642dc9": {
      "model_module": "@jupyter-widgets/controls",
      "model_module_version": "1.5.0",
      "model_name": "HTMLModel",
      "state": {
       "layout": "IPY_MODEL_ea55f09beda54cff8cae75645f6ff6f5",
       "style": "IPY_MODEL_a3e359fa4c354fa98a8a42c90158aed4",
       "value": " 18/18 [00:00&lt;00:00, 8194.67it/s]"
      }
     },
     "d33a0a2ea3e447bda795e5ee5a591130": {
      "model_module": "@jupyter-widgets/controls",
      "model_module_version": "1.5.0",
      "model_name": "DescriptionStyleModel",
      "state": {
       "description_width": ""
      }
     },
     "da02f463537249018b2717743bdcf372": {
      "model_module": "@jupyter-widgets/controls",
      "model_module_version": "1.5.0",
      "model_name": "HTMLModel",
      "state": {
       "layout": "IPY_MODEL_509c5eb39b8b4069a8a77fe88bcf4f16",
       "style": "IPY_MODEL_1e174c5cb37b409d8b7cfaea429fa259",
       "value": "  0%"
      }
     },
     "ddc8bbd606fc41d69375a29f07d7ec39": {
      "model_module": "@jupyter-widgets/controls",
      "model_module_version": "1.5.0",
      "model_name": "HTMLModel",
      "state": {
       "layout": "IPY_MODEL_0bc0030084354c1cbcf2899b79e92aa8",
       "style": "IPY_MODEL_d33a0a2ea3e447bda795e5ee5a591130",
       "value": " 0/93 [00:00&lt;?, ?it/s]"
      }
     },
     "de5f47407c5b401a84d81231d84243bf": {
      "model_module": "@jupyter-widgets/controls",
      "model_module_version": "1.5.0",
      "model_name": "HTMLModel",
      "state": {
       "layout": "IPY_MODEL_c9db6d432d4e4872b60b5f7c360bd750",
       "style": "IPY_MODEL_579aaa4ef88b47cf8b1e254e61e41630",
       "value": " 729/729 [00:00&lt;00:00, 45054.85it/s]"
      }
     },
     "e29f4301e51e40899539511e915955fa": {
      "model_module": "@jupyter-widgets/controls",
      "model_module_version": "1.5.0",
      "model_name": "HTMLModel",
      "state": {
       "layout": "IPY_MODEL_98e85bd52c254cfc818e73ad1eed55cd",
       "style": "IPY_MODEL_1f5052e75cbf453895db07f283976bc8",
       "value": "removing duplicates: 100%"
      }
     },
     "e861487168a44a4c9ca38fc7d61b708d": {
      "model_module": "@jupyter-widgets/base",
      "model_module_version": "1.2.0",
      "model_name": "LayoutModel",
      "state": {}
     },
     "ea55f09beda54cff8cae75645f6ff6f5": {
      "model_module": "@jupyter-widgets/base",
      "model_module_version": "1.2.0",
      "model_name": "LayoutModel",
      "state": {}
     },
     "f1473e12c8b947a5947f9a36a739a668": {
      "model_module": "@jupyter-widgets/controls",
      "model_module_version": "1.5.0",
      "model_name": "HTMLModel",
      "state": {
       "layout": "IPY_MODEL_91dcbaba04904501b0b2833f1b7cc753",
       "style": "IPY_MODEL_860ed6f4fbf04db085ee969b787ce213",
       "value": " 0/729 [00:00&lt;?, ?it/s]"
      }
     },
     "f1ad861f9b2846368409ffafc4d1e765": {
      "model_module": "@jupyter-widgets/base",
      "model_module_version": "1.2.0",
      "model_name": "LayoutModel",
      "state": {}
     },
     "f3fcc116106d4f01a62329503405b4fa": {
      "model_module": "@jupyter-widgets/base",
      "model_module_version": "1.2.0",
      "model_name": "LayoutModel",
      "state": {}
     },
     "f5761368e2ed46ca825040d9769db3a0": {
      "model_module": "@jupyter-widgets/controls",
      "model_module_version": "1.5.0",
      "model_name": "HBoxModel",
      "state": {
       "children": [
        "IPY_MODEL_caa383a0ea2b4bc3af5ebdd408be8b47",
        "IPY_MODEL_b4f2d1726a7243ccbc4a4929ecf2e615",
        "IPY_MODEL_d3111cb0509e4154a7264c92ff642dc9"
       ],
       "layout": "IPY_MODEL_adb112dea26f44dfae9e9fa10e815304"
      }
     },
     "fb7b2d2d9f4f421c8efda754021c9757": {
      "model_module": "@jupyter-widgets/base",
      "model_module_version": "1.2.0",
      "model_name": "LayoutModel",
      "state": {}
     },
     "fc676b5cbc6c4af188f34ca450c96ab8": {
      "model_module": "@jupyter-widgets/controls",
      "model_module_version": "1.5.0",
      "model_name": "HTMLModel",
      "state": {
       "layout": "IPY_MODEL_a8b22207619d4412b2df63cc42745f1b",
       "style": "IPY_MODEL_3b83ea5f12ea458eb51c601a186f76fc",
       "value": " 18/18 [00:00&lt;00:00, 7362.73it/s]"
      }
     },
     "fef1f0ddbba945caa3bddc35debde9eb": {
      "model_module": "@jupyter-widgets/controls",
      "model_module_version": "1.5.0",
      "model_name": "ProgressStyleModel",
      "state": {
       "description_width": ""
      }
     }
    },
    "version_major": 2,
    "version_minor": 0
   }
  }
 },
 "nbformat": 4,
 "nbformat_minor": 5
}
