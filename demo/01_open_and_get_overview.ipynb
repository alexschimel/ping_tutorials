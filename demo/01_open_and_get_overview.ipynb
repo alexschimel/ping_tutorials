{
 "cells": [
  {
   "cell_type": "markdown",
   "metadata": {},
   "source": [
    "# Jupyter Notebook Documentation\n",
    "\n",
    "## Introduction\n",
    "\n",
    "This Jupyter Notebook contains a simple introduction to basic concepts of ping.\n",
    "\n",
    "## Here you will learn\n",
    "\n",
    "- how to open files (ping opens many files at once)\n",
    "- how to access datagrams and pings (and also the concept of what a ping is for themachinethatgoesping)\n",
    "- how to get an overview of the data by:\n",
    "    - sorting pings\n",
    "    - extracting and plotting the navigation data onto a map\n",
    "    - Extra: if you have a nice geotiff you can also learn how to plot it onto a map"
   ]
  },
  {
   "cell_type": "markdown",
   "metadata": {},
   "source": [
    "### Importing the necessary modules"
   ]
  },
  {
   "cell_type": "code",
   "execution_count": 1,
   "metadata": {
    "notebookRunGroups": {
     "groupValue": "1"
    },
    "tags": []
   },
   "outputs": [],
   "source": [
    "# use widgets as matplotlib backend\n",
    "%matplotlib widget\n",
    "\n",
    "# imports\n",
    "from matplotlib import pyplot as plt\n",
    "import os, sys\n",
    "import numpy as np\n",
    "from collections import defaultdict\n",
    "from time import time\n",
    "from tqdm.auto import tqdm #progress bar, auto selects a backend based on the environment e.g. for a jupyter notebook it will use the widget version\n",
    "\n",
    "import matplotlib as mpl\n",
    "\n",
    "# import the file object for opening kongsberg files\n",
    "# Note: function and library naming to be discussed\n",
    "from themachinethatgoesping.echosounders import em3000\n",
    "from themachinethatgoesping.echosounders import index_functions\n",
    "import themachinethatgoesping.tools as ptools\n",
    "\n",
    "\n",
    "#simplify creating figures\n",
    "mpl.rcParams['figure.dpi'] = 100\n",
    "close_plots = True\n",
    "\n",
    "def create_figure(name, return_ax=True):\n",
    "    if close_plots: plt.close(name)\n",
    "    fig = plt.figure(name)\n",
    "    fig.suptitle = name\n",
    "\n",
    "    if return_ax:\n",
    "        return fig, fig.subplots()\n",
    "    return fig"
   ]
  },
  {
   "cell_type": "markdown",
   "metadata": {},
   "source": [
    "### Find files to open\n",
    "\n",
    "This is a simple python loop to find .all and .wcd files in the specified directories\n",
    "\n",
    "Note: we are removing files with the same name even if they are found in different folders"
   ]
  },
  {
   "cell_type": "code",
   "execution_count": 2,
   "metadata": {
    "tags": []
   },
   "outputs": [
    {
     "name": "stdout",
     "output_type": "stream",
     "text": [
      "Number of files found: 215\n"
     ]
    }
   ],
   "source": [
    "# Define the folder(s) to search for Kongsberg files\n",
    "# Note: subdirectories will be searched as well\n",
    "folders = []\n",
    "folders.append(\"/home/users/data/koen campaign 2\")\n",
    "\n",
    "# Initialize lists for storing file paths and names\n",
    "files = []\n",
    "found_filenames = set()\n",
    "\n",
    "# Loop through each folder and its subfolders to find Kongsberg files\n",
    "for folder in folders:\n",
    "    for root, dirs, filenames in os.walk(folder):\n",
    "        for filename in filenames:\n",
    "            # check if this filename has already been found\n",
    "            # if so, skip it\n",
    "            if filename in found_filenames:\n",
    "                continue\n",
    "            found_filenames.add(filename)\n",
    "\n",
    "            # Check if the file is a Kongsberg file\n",
    "            if filename.endswith('.wcd') or filename.endswith('.all'):\n",
    "                filepath = os.path.join(root, filename)\n",
    "                files.append(filepath)\n",
    "\n",
    "# Sort the list of file paths and print the number of files found\n",
    "files.sort()\n",
    "print(\"Number of files found:\", len(files))\n",
    "\n",
    "# for f in files:\n",
    "#     print(f)"
   ]
  },
  {
   "cell_type": "markdown",
   "metadata": {},
   "source": [
    "## Open files\n",
    "\n",
    "This code calls the `FileEM3000_mapped` function to index all the specified files and provide access to them as a combined file stream.\n",
    "Ping is build around opening multiple files at once, so that they can be treated as a single file stream. If a `.all` and a `.wcd` file with the same name (one `.all` and one `.wcd`) are added, they will be matched to a single file.\n",
    "\n",
    "You do not need to worry about sorting the files in time or anything like that. Instead, we will sort the pings of these files later.\n",
    "\n",
    "## Notes\n",
    "\n",
    "- `FileEM3000_mapped(files)` scans and indexes all files and provides access to all files like a combined file stream.\n",
    "- Note that if the files are not sorted in time, the datagram packages will not be sorted by time either. However, it is simple to sort the pings at a later stage.\n",
    "\n",
    "## Index\n",
    "\n",
    "- We will first try to load an existing index file, to speed up the file opening process.\n",
    "- If it does not exist it will be created in the third cell from here\n",
    "\n",
    "## What happens when calling FileEM3000_mapped(files)\n",
    "\n",
    "1) First we will create an index for all files. This means that we safe the position, type and timestamp of each datagram. For indexing only the datagram headers are read, so this is process is much faster than e.g. copying the files into a new format.\n",
    "2) Ping then initializes the navigation by reading all navigation datagrams and creating a navigation interpolator\n",
    "   This interpolator allows for fast access to the navigation at any time and also for transforming between different coordinate systems (from antenna to transducer)\n",
    "3) Finally the datagrams in the files that belong to the same ping number are sorted to the ping object that will then use these datagrams to provide high and low level data access to the user.\n"
   ]
  },
  {
   "cell_type": "code",
   "execution_count": 3,
   "metadata": {
    "tags": []
   },
   "outputs": [],
   "source": [
    "# This creates a folder called index, where an index file for each folder where a .all or .wcd file was found is stored\n",
    "# The index files are created later to speed up repeated executions of this (or other) notebook\n",
    "cached_index = index_functions.load_index_files(file_paths=files)"
   ]
  },
  {
   "cell_type": "code",
   "execution_count": 4,
   "metadata": {
    "tags": []
   },
   "outputs": [
    {
     "name": "stdout",
     "output_type": "stream",
     "text": [
      "indexing files ⢀ 99% [00m:01s<00m:00s] [Found: 4972140 datagrams in 215 files (139406MB)]                                                  \n",
      "Initializing navigation ⠁ 31% [00m:00s<00m:00s] [75/122]            \r"
     ]
    },
    {
     "name": "stderr",
     "output_type": "stream",
     "text": [
      "WARNING[EM3000NavigationDataInterface::init_from_file]: Could not merge file navigation (34) because: ERROR[Interpolation::_check_XY]: X list contains double x values!\n",
      "WARNING[EM3000NavigationDataInterface::init_from_file]: Could not merge file navigation (35) because: ERROR[Interpolation::_check_XY]: X list contains double x values!\n",
      "WARNING[EM3000NavigationDataInterface::init_from_file]: Could not merge file navigation (36) because: ERROR[Interpolation::_check_XY]: X list contains double x values!\n",
      "WARNING[EM3000NavigationDataInterface::init_from_file]: Could not merge file navigation (142) because: ERROR[Interpolation::_check_XY]: X list contains double x values!\n",
      "WARNING[EM3000NavigationDataInterface::init_from_file]: Could not merge file navigation (143) because: ERROR[Interpolation::_check_XY]: X list contains double x values!\n",
      "WARNING[EM3000NavigationDataInterface::init_from_file]: Could not merge file navigation (144) because: ERROR[Interpolation::_check_XY]: X list contains double x values!\n",
      "WARNING[EM3000NavigationDataInterface::init_from_file]: Could not merge file navigation (145) because: ERROR[Interpolation::_check_XY]: X list contains double x values!\n",
      "WARNING[EM3000NavigationDataInterface::init_from_file]: Could not merge file navigation (41) because: ERROR[Interpolation::_check_XY]: X list contains double x values!\n",
      "WARNING[EM3000NavigationDataInterface::init_from_file]: Could not merge file navigation (42) because: ERROR[Interpolation::_check_XY]: X list contains double x values!\n",
      "WARNING[EM3000NavigationDataInterface::init_from_file]: Could not merge file navigation (148) because: ERROR[Interpolation::_check_XY]: X list contains double x values!\n",
      "WARNING[EM3000NavigationDataInterface::init_from_file]: Could not merge file navigation (44) because: ERROR[Interpolation::_check_XY]: X list contains double x values!\n",
      "WARNING[EM3000NavigationDataInterface::init_from_file]: Could not merge file navigation (154) because: ERROR[Interpolation::_check_XY]: X list contains double x values!\n"
     ]
    },
    {
     "name": "stdout",
     "output_type": "stream",
     "text": [
      "Initializing ping interface ⢀ 99% [00m:07s<00m:00s] [Done]                                              \n"
     ]
    }
   ],
   "source": [
    "# Finally: Tell Ping to index all these files\n",
    "# Note (1): em3000 is the the .all/.wcd file reader\n",
    "# Note (2): You will note a large speedup if the cached_index is already created (And not just an empty dictionary)\n",
    "# Note (3): fm is the object that will contain the functions to access the data\n",
    "# Note (4): FileEM3000_mapped uses memory mapping internally. This is faster than the default FileEM3000, but requires more memory. \n",
    "#           if you run into Memory issues try using FileEM3000 instead\n",
    "\n",
    "\n",
    "fm = em3000.FileEM3000_mapped(files, cached_index = cached_index)\n",
    "\n",
    "# If you get warnings or Errors: contact me or create an issue on github"
   ]
  },
  {
   "cell_type": "code",
   "execution_count": 5,
   "metadata": {},
   "outputs": [],
   "source": [
    "# save the index of fm to disk for later reuse\n",
    "# Note(1): At this moment only the datagram index is saved. \n",
    "#          This means that the navigation data and the pings still have to be initialized when opening FileEM3000\n",
    "#          In the future we will save more information to further speed up the file loading process\n",
    "# Note(2): The index is saved in a folder called index in the current working directory\n",
    "# Note(3): If you restart the notebook after executing this cell you should notice that FileEM3000 will load much faster\n",
    "\n",
    "index_functions.update_index_files(fm.get_cached_file_index())"
   ]
  },
  {
   "cell_type": "markdown",
   "metadata": {},
   "source": [
    "# Working with the fm object()\n",
    "\n",
    "fm represents all the files that where opened with FileEM3000_mapped(files). \n",
    "Fm provides different data interfaces:\n",
    "\n",
    "- raw datagram access (datagram_interface)\n",
    "- configuration access (configuration_interface)\n",
    "- navigation access (navigation_interface)\n",
    "- environment parameters access (environment_interface)\n",
    "- ping access (ping_interface) \n",
    "\n",
    "Most of the time, however you will only need the pings created by the ping_interface. \n",
    "This you can access with: fm.pings()"
   ]
  },
  {
   "cell_type": "code",
   "execution_count": 6,
   "metadata": {},
   "outputs": [
    {
     "name": "stdout",
     "output_type": "stream",
     "text": [
      "FileEM3000\n",
      "##########\n",
      "-\n",
      "File infos \n",
      "-------------                \n",
      "- Number of loaded .all files: : 110       \n",
      "- Number of loaded .wcd files: : 105       \n",
      "- Total file size: :             136.14 GB \n",
      "\n",
      " Detected datagrams \n",
      "^^^^^^^^^^^^^^^^^^^^ \n",
      "- timestamp_first:  17/03/2023 12:41:26.96 \n",
      "- Total:            4972140                \n",
      "- Datagrams [0x30]: 123                    [PUIDOutput]\n",
      "- Datagrams [0x31]: 44091                  [PUStatusOutput]\n",
      "- Datagrams [0x41]: 170186                 [AttitudeDatagram]\n",
      "- Datagrams [0x43]: 44198                  [ClockDatagram]\n",
      "- Datagrams [0x47]: 888                    [SurfaceSoundSpeedDatagram]\n",
      "- Datagrams [0x49]: 259                    [InstallationParametersStart]\n",
      "- Datagrams [0x4e]: 405099                 [RawRangeAndAngle]\n",
      "- Datagrams [0x50]: 171890                 [PositionDatagram]\n",
      "- Datagrams [0x52]: 38354                  [RuntimeParameters]\n",
      "- Datagrams [0x55]: 281                    [SoundSpeedProfileDatagram]\n",
      "- Datagrams [0x58]: 405098                 [XYZDatagram]\n",
      "- Datagrams [0x59]: 405097                 [SeabedImageData]\n",
      "- Datagrams [0x68]: 43662                  [DepthOrHeightDatagram]\n",
      "- Datagrams [0x69]: 210                    [InstallationParametersStop]\n",
      "- Datagrams [0x6b]: 2358726                [WatercolumnDatagram]\n",
      "- Datagrams [0x6e]: 883978                 [NetworkAttitudeVelocityDatagram]\n",
      "\n",
      " Detected Pings \n",
      "---------------- \n",
      "\n",
      " Time info \n",
      "^^^^^^^^^^^             \n",
      "- Start time: 17/03/2023 12:41:50.47 \n",
      "- End time:   19/03/2023 18:40:40.90 \n",
      "- Sorted:     no                     \n",
      "\n",
      " Contained pings \n",
      "^^^^^^^^^^^^^^^^^ \n",
      "- Total:    482085 \n",
      "- TRX-2004: 241380 \n",
      "- TRX-2031: 240705 \n"
     ]
    }
   ],
   "source": [
    "# First, lets print some information about the files we just opened\n",
    "# You will find infos on:\n",
    "# - the number of files and the file size\n",
    "# - the datagrams and datagram types in the files\n",
    "# - the number of detected pings sorted by channel_id (channel_id is the transducer name)\n",
    "print(fm)"
   ]
  },
  {
   "cell_type": "markdown",
   "metadata": {},
   "source": [
    "## themachinethatgoesping revolves around pings\n",
    "\n",
    "This will be your main access point, so all this raw datagram access and interfaces will be explained later.\n",
    "\n",
    "### What is a ping?\n",
    "\n",
    "A ping is a single sonar transmission. It is the basic unit of data in themachinethatgoesping.\n",
    "A pingobject holds some cached data, such as timestamp geolocation and sonar settings, but it also provides access to the raw datagrams that belong to this ping.\n",
    "\n",
    "You can copy pings as much as you like because a ping is only a reference. Copying and sorting pings in new lists does thus not take up much memory.\n",
    "Pings also contain pointers to the datagrams that belong to them. These datagrams will only be read when you access them or call functions that require them.\n",
    "\n",
    "### How to access pings\n",
    "\n",
    "Call fm.pings() to get a list of all pings. This list is sorted by time.\n",
    "\n",
    "pings = fm.pings() will create PingContainer that contains all pings of all loaded files.\n",
    "\n",
    "### What is a PingContainer\n",
    "\n",
    "A PingContainer is a list of pings. It acts like a list and supports the same functions. You can thus iterate over it, sort it, slice etc.\n",
    "\n",
    "Access the 10th ping by calling pings[10]\n",
    "\n",
    "Additionally, a PingContainer provides some additiona lfunctions to sort and select pings.\n",
    "\n",
    "e.g.:\n",
    "\n",
    "- pings.sort_by_time() will sort the pings by time\n",
    "- pings.break_at_time(t) will split the PingContainer into PingContainers when the time difference between two pings is larger than t\n",
    "\n",
    "You can also sort pings into default python lists. However, the extra functions provided by PingContainer are not available then\n"
   ]
  },
  {
   "cell_type": "code",
   "execution_count": 7,
   "metadata": {},
   "outputs": [
    {
     "name": "stdout",
     "output_type": "stream",
     "text": [
      "PingContainer\n",
      "#############\n",
      "-\n",
      "Time info \n",
      "------------            \n",
      "- Start time: 17/03/2023 12:41:50.47 \n",
      "- End time:   19/03/2023 18:40:40.90 \n",
      "- Sorted:     ascending              \n",
      "\n",
      " Contained pings \n",
      "----------------- \n",
      "- Total:    482085 \n",
      "- TRX-2004: 241380 \n",
      "- TRX-2031: 240705 \n"
     ]
    }
   ],
   "source": [
    "# Create a object that holds all pings\n",
    "# We access the pings sorted by time\n",
    "pings = fm.pings().get_sorted_by_time()\n",
    "\n",
    "print(pings)"
   ]
  },
  {
   "cell_type": "code",
   "execution_count": 8,
   "metadata": {},
   "outputs": [
    {
     "name": "stdout",
     "output_type": "stream",
     "text": [
      "EM3000Ping\n",
      "##########\n",
      "-\n",
      "Ping infos \n",
      "-------------                                                                                                                       \n",
      "- Source file: /home/users/data/koen campaign 2/em2040/C2503_TESTINTERFERENCE_HARBOR/00_RAW_TIDE_DRAUGHT_AC_DATA/0000_20230317_124150_Belgica.all [169]\n",
      "- Channel id:  TRX-2031                                                                                                                           \n",
      "- Time info:   17/03/2023 12:41:50.47                                                                                                             [1679056910.472000]\n",
      "- -Features:   watercolumn                                                                                                                        [Not:bottom]\n",
      "- -Features:   bottom_range_sample, amplitudes                                                                                                    \n",
      "\n",
      " Geolocation \n",
      "------------- \n",
      "- latitude:  51°20'20.0\"N  [ddd°mm',ss.s''N/S]\n",
      "- longitude: 3°12'9.8\"E    [ddd°mm',ss.s''E/W]\n",
      "- z:         4.67          [positive downwards, m]\n",
      "- yaw:       317.12        [90 ° at east]\n",
      "- pitch:     -1.68         [° positive bow up]\n",
      "- roll:      -35.13        [° positive port up]\n",
      "\n",
      " Sensor data \n",
      "------------- \n",
      "- latitude:  51°20'20.2\"N  [ddd°mm',ss.s''N/S]\n",
      "- longitude: 3°12'9.5\"E    [ddd°mm',ss.s''E/W]\n",
      "- depth:     0.00          [positive downwards, m]\n",
      "- heave:     0.02          [positive upwards, m]\n",
      "- heading:   136.58        [0° is north, 90 ° is east]\n",
      "- pitch:     0.01          [° positive bow up]\n",
      "- roll:      0.70          [° positive port up]\n",
      "\n",
      " Sensor configuration \n",
      "---------------------- \n",
      "\n",
      " Target offsets \"Transducer\" \n",
      "----------------------------- \n",
      "- name:  TRX-2031 [The name of the sensor]\n",
      "- x:     0.01     [positive forwards, m]\n",
      "- y:     0.39     [positive starboard, m]\n",
      "- z:     0.37     [positive downwards, m]\n",
      "- yaw:   180.52   [° positive means clockwise rotation]\n",
      "- pitch: -1.68    [° positive means bow up]\n",
      "- roll:  -34.29   [° positive means port up]\n",
      "\n",
      " Target offsets \"TRX-2004\" \n",
      "--------------------------- \n",
      "- name:  TRX-2004 [The name of the sensor]\n",
      "- x:     0.01     [positive forwards, m]\n",
      "- y:     -0.37    [positive starboard, m]\n",
      "- z:     0.36     [positive downwards, m]\n",
      "- yaw:   180.52   [° positive means clockwise rotation]\n",
      "- pitch: -1.68    [° positive means bow up]\n",
      "- roll:  35.66    [° positive means port up]\n",
      "\n",
      " Target offsets \"TX-214\" \n",
      "------------------------- \n",
      "- name:  TX-214 [The name of the sensor]\n",
      "- x:     0.38   [positive forwards, m]\n",
      "- y:     0.01   [positive starboard, m]\n",
      "- z:     0.43   [positive downwards, m]\n",
      "- yaw:   180.52 [° positive means clockwise rotation]\n",
      "- pitch: -1.68  [° positive means bow up]\n",
      "- roll:  -0.84  [° positive means port up]\n",
      "\n",
      " Target offsets \"TRX-2031\" \n",
      "--------------------------- \n",
      "- name:  TRX-2031 [The name of the sensor]\n",
      "- x:     0.01     [positive forwards, m]\n",
      "- y:     0.39     [positive starboard, m]\n",
      "- z:     0.37     [positive downwards, m]\n",
      "- yaw:   180.52   [° positive means clockwise rotation]\n",
      "- pitch: -1.68    [° positive means bow up]\n",
      "- roll:  -34.29   [° positive means port up]\n",
      "\n",
      " Target offsets \"RX-2031\" \n",
      "-------------------------- \n",
      "- name:  RX-2031 [The name of the sensor]\n",
      "- x:     0.23    [positive forwards, m]\n",
      "- y:     0.39    [positive starboard, m]\n",
      "- z:     0.31    [positive downwards, m]\n",
      "- yaw:   1.29    [° positive means clockwise rotation]\n",
      "- pitch: 3.19    [° positive means bow up]\n",
      "- roll:  -34.29  [° positive means port up]\n",
      "\n",
      " Target offsets \"RX-2004\" \n",
      "-------------------------- \n",
      "- name:  RX-2004 [The name of the sensor]\n",
      "- x:     0.25    [positive forwards, m]\n",
      "- y:     -0.37   [positive starboard, m]\n",
      "- z:     0.30    [positive downwards, m]\n",
      "- yaw:   0.32    [° positive means clockwise rotation]\n",
      "- pitch: 3.21    [° positive means bow up]\n",
      "- roll:  35.66   [° positive means port up]\n",
      "\n",
      " Target offsets \"0\" \n",
      "-------------------- \n",
      "- name:  0    [The name of the sensor]\n",
      "- x:     0.00 [positive forwards, m]\n",
      "- y:     0.00 [positive starboard, m]\n",
      "- z:     0.00 [positive downwards, m]\n",
      "- yaw:   0.00 [° positive means clockwise rotation]\n",
      "- pitch: 0.00 [° positive means bow up]\n",
      "- roll:  0.00 [° positive means port up]\n",
      "\n",
      " Attitude sensor offsets \n",
      "------------------------- \n",
      "- name:  Attitude sensor 1 [The name of the sensor]\n",
      "- x:     0.00              [positive forwards, m]\n",
      "- y:     0.00              [positive starboard, m]\n",
      "- z:     0.00              [positive downwards, m]\n",
      "- yaw:   -0.23             [° positive means clockwise rotation]\n",
      "- pitch: 0.00              [° positive means bow up]\n",
      "- roll:  -0.14             [° positive means port up]\n",
      "\n",
      " Compass offsets \n",
      "----------------- \n",
      "- name:  Gyrocompass [The name of the sensor]\n",
      "- x:     0.00        [positive forwards, m]\n",
      "- y:     0.00        [positive starboard, m]\n",
      "- z:     0.00        [positive downwards, m]\n",
      "- yaw:   0.00        [° positive means clockwise rotation]\n",
      "- pitch: 0.00        [° positive means bow up]\n",
      "- roll:  0.00        [° positive means port up]\n",
      "\n",
      " Position system offsets \n",
      "------------------------- \n",
      "- name:  Position system 1 [The name of the sensor]\n",
      "- x:     -7.89             [positive forwards, m]\n",
      "- y:     0.88              [positive starboard, m]\n",
      "- z:     -5.97             [positive downwards, m]\n",
      "- yaw:   0.00              [° positive means clockwise rotation]\n",
      "- pitch: 0.00              [° positive means bow up]\n",
      "- roll:  0.00              [° positive means port up]\n",
      "\n",
      " Depth sensor offsets \n",
      "---------------------- \n",
      "- name:  Depth sensor [The name of the sensor]\n",
      "- x:     0.00         [positive forwards, m]\n",
      "- y:     0.00         [positive starboard, m]\n",
      "- z:     0.00         [positive downwards, m]\n",
      "- yaw:   0.00         [° positive means clockwise rotation]\n",
      "- pitch: 0.00         [° positive means bow up]\n",
      "- roll:  0.00         [° positive means port up]\n",
      "\n",
      " waterline offsets \n",
      "------------------- \n",
      "- Waterline offset: -4.32 [m]\n"
     ]
    }
   ],
   "source": [
    "# print a ping (the first one)\n",
    "# TODO: this function prints to much unimport information\n",
    "\n",
    "print(pings[0])"
   ]
  },
  {
   "cell_type": "code",
   "execution_count": 9,
   "metadata": {},
   "outputs": [
    {
     "name": "stdout",
     "output_type": "stream",
     "text": [
      "EM3000Ping\n",
      "##########\n",
      "-\n",
      "Ping infos \n",
      "-------------                                                                                                                       \n",
      "- Source file: /home/users/data/koen campaign 2/em2040/C2503_TESTINTERFERENCE_HARBOR/00_RAW_TIDE_DRAUGHT_AC_DATA/0000_20230317_124150_Belgica.all [169]\n",
      "- Channel id:  TRX-2004                                                                                                                           \n",
      "- Time info:   17/03/2023 12:41:51.72                                                                                                             [1679056911.719000]\n",
      "- -Features:   watercolumn                                                                                                                        [Not:bottom]\n",
      "- -Features:   bottom_range_sample, amplitudes                                                                                                    \n",
      "\n",
      " Geolocation \n",
      "------------- \n",
      "- latitude:  51°20'20.0\"N  [ddd°mm',ss.s''N/S]\n",
      "- longitude: 3°12'9.9\"E    [ddd°mm',ss.s''E/W]\n",
      "- z:         4.66          [positive downwards, m]\n",
      "- yaw:       317.12        [90 ° at east]\n",
      "- pitch:     -1.69         [° positive bow up]\n",
      "- roll:      34.81         [° positive port up]\n",
      "\n",
      " Sensor data \n",
      "------------- \n",
      "- latitude:  51°20'20.2\"N  [ddd°mm',ss.s''N/S]\n",
      "- longitude: 3°12'9.5\"E    [ddd°mm',ss.s''E/W]\n",
      "- depth:     0.00          [positive downwards, m]\n",
      "- heave:     0.02          [positive upwards, m]\n",
      "- heading:   136.58        [0° is north, 90 ° is east]\n",
      "- pitch:     0.02          [° positive bow up]\n",
      "- roll:      0.71          [° positive port up]\n",
      "\n",
      " Sensor configuration \n",
      "---------------------- \n",
      "\n",
      " Target offsets \"Transducer\" \n",
      "----------------------------- \n",
      "- name:  TRX-2004 [The name of the sensor]\n",
      "- x:     0.01     [positive forwards, m]\n",
      "- y:     -0.37    [positive starboard, m]\n",
      "- z:     0.36     [positive downwards, m]\n",
      "- yaw:   180.52   [° positive means clockwise rotation]\n",
      "- pitch: -1.68    [° positive means bow up]\n",
      "- roll:  35.66    [° positive means port up]\n",
      "\n",
      " Target offsets \"TRX-2004\" \n",
      "--------------------------- \n",
      "- name:  TRX-2004 [The name of the sensor]\n",
      "- x:     0.01     [positive forwards, m]\n",
      "- y:     -0.37    [positive starboard, m]\n",
      "- z:     0.36     [positive downwards, m]\n",
      "- yaw:   180.52   [° positive means clockwise rotation]\n",
      "- pitch: -1.68    [° positive means bow up]\n",
      "- roll:  35.66    [° positive means port up]\n",
      "\n",
      " Target offsets \"TX-214\" \n",
      "------------------------- \n",
      "- name:  TX-214 [The name of the sensor]\n",
      "- x:     0.38   [positive forwards, m]\n",
      "- y:     0.01   [positive starboard, m]\n",
      "- z:     0.43   [positive downwards, m]\n",
      "- yaw:   180.52 [° positive means clockwise rotation]\n",
      "- pitch: -1.68  [° positive means bow up]\n",
      "- roll:  -0.84  [° positive means port up]\n",
      "\n",
      " Target offsets \"TRX-2031\" \n",
      "--------------------------- \n",
      "- name:  TRX-2031 [The name of the sensor]\n",
      "- x:     0.01     [positive forwards, m]\n",
      "- y:     0.39     [positive starboard, m]\n",
      "- z:     0.37     [positive downwards, m]\n",
      "- yaw:   180.52   [° positive means clockwise rotation]\n",
      "- pitch: -1.68    [° positive means bow up]\n",
      "- roll:  -34.29   [° positive means port up]\n",
      "\n",
      " Target offsets \"RX-2031\" \n",
      "-------------------------- \n",
      "- name:  RX-2031 [The name of the sensor]\n",
      "- x:     0.23    [positive forwards, m]\n",
      "- y:     0.39    [positive starboard, m]\n",
      "- z:     0.31    [positive downwards, m]\n",
      "- yaw:   1.29    [° positive means clockwise rotation]\n",
      "- pitch: 3.19    [° positive means bow up]\n",
      "- roll:  -34.29  [° positive means port up]\n",
      "\n",
      " Target offsets \"RX-2004\" \n",
      "-------------------------- \n",
      "- name:  RX-2004 [The name of the sensor]\n",
      "- x:     0.25    [positive forwards, m]\n",
      "- y:     -0.37   [positive starboard, m]\n",
      "- z:     0.30    [positive downwards, m]\n",
      "- yaw:   0.32    [° positive means clockwise rotation]\n",
      "- pitch: 3.21    [° positive means bow up]\n",
      "- roll:  35.66   [° positive means port up]\n",
      "\n",
      " Target offsets \"0\" \n",
      "-------------------- \n",
      "- name:  0    [The name of the sensor]\n",
      "- x:     0.00 [positive forwards, m]\n",
      "- y:     0.00 [positive starboard, m]\n",
      "- z:     0.00 [positive downwards, m]\n",
      "- yaw:   0.00 [° positive means clockwise rotation]\n",
      "- pitch: 0.00 [° positive means bow up]\n",
      "- roll:  0.00 [° positive means port up]\n",
      "\n",
      " Attitude sensor offsets \n",
      "------------------------- \n",
      "- name:  Attitude sensor 1 [The name of the sensor]\n",
      "- x:     0.00              [positive forwards, m]\n",
      "- y:     0.00              [positive starboard, m]\n",
      "- z:     0.00              [positive downwards, m]\n",
      "- yaw:   -0.23             [° positive means clockwise rotation]\n",
      "- pitch: 0.00              [° positive means bow up]\n",
      "- roll:  -0.14             [° positive means port up]\n",
      "\n",
      " Compass offsets \n",
      "----------------- \n",
      "- name:  Gyrocompass [The name of the sensor]\n",
      "- x:     0.00        [positive forwards, m]\n",
      "- y:     0.00        [positive starboard, m]\n",
      "- z:     0.00        [positive downwards, m]\n",
      "- yaw:   0.00        [° positive means clockwise rotation]\n",
      "- pitch: 0.00        [° positive means bow up]\n",
      "- roll:  0.00        [° positive means port up]\n",
      "\n",
      " Position system offsets \n",
      "------------------------- \n",
      "- name:  Position system 1 [The name of the sensor]\n",
      "- x:     -7.89             [positive forwards, m]\n",
      "- y:     0.88              [positive starboard, m]\n",
      "- z:     -5.97             [positive downwards, m]\n",
      "- yaw:   0.00              [° positive means clockwise rotation]\n",
      "- pitch: 0.00              [° positive means bow up]\n",
      "- roll:  0.00              [° positive means port up]\n",
      "\n",
      " Depth sensor offsets \n",
      "---------------------- \n",
      "- name:  Depth sensor [The name of the sensor]\n",
      "- x:     0.00         [positive forwards, m]\n",
      "- y:     0.00         [positive starboard, m]\n",
      "- z:     0.00         [positive downwards, m]\n",
      "- yaw:   0.00         [° positive means clockwise rotation]\n",
      "- pitch: 0.00         [° positive means bow up]\n",
      "- roll:  0.00         [° positive means port up]\n",
      "\n",
      " waterline offsets \n",
      "------------------- \n",
      "- Waterline offset: -4.32 [m]\n"
     ]
    }
   ],
   "source": [
    "# pings is a PingContainer\n",
    "# This is special object that acts like a list of pings, but also contains some extra information\n",
    "# you can access individual pings by indexing pings and also slices are available to select multiple pings\n",
    "# Note: pings do not hold much data, think of them as references to the data in the file\n",
    "#       This means that pings are very cheap to create and you can create as many as you want\n",
    "\n",
    "# select the hundreth ping\n",
    "p = pings[100]\n",
    "print(p)"
   ]
  },
  {
   "cell_type": "code",
   "execution_count": 10,
   "metadata": {},
   "outputs": [
    {
     "data": {
      "application/vnd.jupyter.widget-view+json": {
       "model_id": "f3930e971110472bb43af7f46d114ede",
       "version_major": 2,
       "version_minor": 0
      },
      "text/plain": [
       "  0%|          | 0/482085 [00:00<?, ?it/s]"
      ]
     },
     "metadata": {},
     "output_type": "display_data"
    },
    {
     "name": "stdout",
     "output_type": "stream",
     "text": [
      "mean timestamp of each ping: 1679154975.72557\n",
      "mean date/time of each ping: 18-03-2023 15:56:16\n"
     ]
    }
   ],
   "source": [
    "# working with ping containers\n",
    "# access the pings sorted by time\n",
    "pings = fm.pings().get_sorted_by_time()\n",
    "\n",
    "# loop through every ping and get the timestamp\n",
    "# Note: tqdm is a progress bar\n",
    "# Note: this is fast, because no data is read, the timestamp was read when initializing FileEM3000\n",
    "t = []\n",
    "for p in tqdm(pings):\n",
    "    t.append(p.get_timestamp())\n",
    "\n",
    "mean_t = np.mean(t)\n",
    "\n",
    "print(\"mean timestamp of each ping:\", np.mean(t))\n",
    "print(\"mean date/time of each ping:\", ptools.timeconv.unixtime_to_datestring(mean_t, format=\"%d-%m-%Y %H:%M:%S\"))"
   ]
  },
  {
   "cell_type": "code",
   "execution_count": 11,
   "metadata": {},
   "outputs": [
    {
     "data": {
      "application/vnd.jupyter.widget-view+json": {
       "model_id": "d9abaf633379491c8e2e5c66d36a3f3d",
       "version_major": 2,
       "version_minor": 0
      },
      "text/plain": [
       "  0%|          | 0/120522 [00:00<?, ?it/s]"
      ]
     },
     "metadata": {},
     "output_type": "display_data"
    },
    {
     "data": {
      "text/plain": [
       "Text(0, 0.5, 'latitude')"
      ]
     },
     "execution_count": 11,
     "metadata": {},
     "output_type": "execute_result"
    },
    {
     "data": {
      "application/vnd.jupyter.widget-view+json": {
       "model_id": "5c30828410b64abcb44020c488f85eb3",
       "version_major": 2,
       "version_minor": 0
      },
      "image/png": "[encoded data removed]",
      "text/html": [
       "\n",
       "            <div style=\"display: inline-block;\">\n",
       "                <div class=\"jupyter-widgets widget-label\" style=\"text-align: center;\">\n",
       "                    navigation\n",
       "                </div>\n",
       "                <img src='data:image/png;base64,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' width=640.0/>\n",
       "            </div>\n",
       "        "
      ],
      "text/plain": [
       "Canvas(toolbar=Toolbar(toolitems=[('Home', 'Reset original view', 'home', 'home'), ('Back', 'Back to previous …"
      ]
     },
     "metadata": {},
     "output_type": "display_data"
    }
   ],
   "source": [
    "# lets plot the navigation of your file (naive approach)\n",
    "\n",
    "\n",
    "# first downsample the pings to not plot more than 100000 points (This is more a problem for Matplatlib than for ping btw.)\n",
    "# remember: creating new ping lists barely costs memory because pings are just references\n",
    "if len(pings)   > 100000:\n",
    "    plot_pings = pings[::int(len(pings)//100000)]\n",
    "else:\n",
    "    plot_pings = pings\n",
    "\n",
    "# plot_pings is now python list that contains a subset of the pings\n",
    "# lets iterator of this list and get the navigation data\n",
    "\n",
    "lat = []\n",
    "lon = []\n",
    "for p in tqdm(plot_pings):\n",
    "    # each ping has a function called get_geolocation\n",
    "    # this function returns a Geolocation object holding the latitude and longitude of the transducer at the time of the ping\n",
    "    # and also the attitude data (pitch, roll, heave, heading)\n",
    "    # The geolocation was created during pinginterface initialization above\n",
    "    # This will thus also be very fast\n",
    "    g = p.get_geolocation()\n",
    "    lat.append(g.latitude)\n",
    "    lon.append(g.longitude)\n",
    "\n",
    "# create a figure\n",
    "fig, ax = create_figure(\"navigation\")\n",
    "ax.plot(lon, lat, label=\"navigation\")\n",
    "ax.set_xlabel(\"longitude\")\n",
    "ax.set_ylabel(\"latitude\")\n"
   ]
  },
  {
   "cell_type": "code",
   "execution_count": 12,
   "metadata": {},
   "outputs": [
    {
     "name": "stdout",
     "output_type": "stream",
     "text": [
      "ping container nr 0 with 10670 pings\n",
      "ping container nr 1 with 100098 pings\n",
      "ping container nr 2 with 10192 pings\n",
      "ping container nr 3 with 8492 pings\n",
      "ping container nr 4 with 193 pings\n",
      "ping container nr 5 with 1252 pings\n",
      "ping container nr 6 with 26 pings\n",
      "ping container nr 7 with 696 pings\n",
      "ping container nr 8 with 24310 pings\n",
      "ping container nr 9 with 45012 pings\n",
      "ping container nr 10 with 4408 pings\n",
      "ping container nr 11 with 92450 pings\n",
      "ping container nr 12 with 15200 pings\n",
      "ping container nr 13 with 60544 pings\n",
      "ping container nr 14 with 21804 pings\n",
      "ping container nr 15 with 11804 pings\n",
      "ping container nr 16 with 74934 pings\n"
     ]
    }
   ],
   "source": [
    "# So far so good, but this does not yet give a good overview over the data does it?\n",
    "# Lets first order your pings into surveys and then plot the navigation of each survey\n",
    "\n",
    "# For this: lets split the pings into containers depending on the time difference between the pings\n",
    "# Here is the rational: between surveys recording is often turned off and the ship moves to a new location\n",
    "# So we break the pings into new containers when the time difference between pings is larger than 15 minutes\n",
    "# you can do this with a simple loop in python, but for convenience a PingContainer has a function that does this for you\n",
    "\n",
    "# Note: the function returns a list of PingContainers\n",
    "ping_containers = fm.pings().get_sorted_by_time().break_by_time_diff(15 * 60)\n",
    "\n",
    "# lets print some information about the ping containers\n",
    "for i,p in enumerate(ping_containers):\n",
    "    print(\"ping container nr {} with {} pings\".format(i, len(p)))\n",
    "\n",
    "# If you only see one container, then your files do not contain gaps between pings larger than 15 minutes"
   ]
  },
  {
   "cell_type": "code",
   "execution_count": 13,
   "metadata": {},
   "outputs": [
    {
     "data": {
      "application/vnd.jupyter.widget-view+json": {
       "model_id": "b0c42a1b133a4396804e7beb0183d826",
       "version_major": 2,
       "version_minor": 0
      },
      "text/plain": [
       "Get navigation from pings:   0%|          | 0/482085 [00:00<?, ?it/s]"
      ]
     },
     "metadata": {},
     "output_type": "display_data"
    }
   ],
   "source": [
    "# lets get the navigation data for each ping in each container\n",
    "\n",
    "# get number of pings in the ping_containers\n",
    "total = np.sum([len(p) for p in ping_containers])\n",
    "\n",
    "# create progressbar\n",
    "prg = tqdm(total=total, desc=\"Get navigation from pings\")\n",
    "\n",
    "# create dictionary to store the navigation data\n",
    "# Note: defaultdict is a special dictionary that automatically creates a new list if you try to access a key that does not exist\n",
    "nav_locations = defaultdict(list)\n",
    "\n",
    "for i, pings in enumerate(ping_containers):\n",
    "    prg.set_description(\"ping_container nr {}\".format(i))\n",
    "\n",
    "    for p in pings:\n",
    "        # sort the navigation data into the list depending on ping_container index\n",
    "        g = p.get_geolocation()\n",
    "        nav_locations[i].append([g.latitude,g.longitude])\n",
    "\n",
    "        # update the progressbar\n",
    "        prg.update(1)\n"
   ]
  },
  {
   "cell_type": "code",
   "execution_count": 16,
   "metadata": {},
   "outputs": [
    {
     "data": {
      "application/vnd.jupyter.widget-view+json": {
       "model_id": "4fb093b0a568459488259aabc334c142",
       "version_major": 2,
       "version_minor": 0
      },
      "text/plain": [
       "Map(center=[51.61788158822635, 2.565423797821274], controls=(ZoomControl(options=['position', 'zoom_in_text', …"
      ]
     },
     "execution_count": 16,
     "metadata": {},
     "output_type": "execute_result"
    }
   ],
   "source": [
    "# This code uses ipyleaflet for plotting the navigaiton data on background map (needs internet)\n",
    "# the code is thus unreleated to ping\n",
    "\n",
    "from ipyleaflet import Map, basemaps, basemap_to_tiles, AntPath, projections, Marker, AwesomeIcon\n",
    "from ipywidgets import Layout, HTML\n",
    "from matplotlib import colormaps,colors\n",
    "\n",
    "# create a colormap for the different surveys\n",
    "cmap = colormaps.get_cmap(\"tab20\")\n",
    "\n",
    "# create a map\n",
    "m = Map(\n",
    "    basemap=basemap_to_tiles(basemaps.Esri.NatGeoWorldMap),\n",
    "    center=(np.nanmedian(lat), np.nanmedian(lon)),\n",
    "    layout=Layout(width='80%', height='600px'),\n",
    "    zoom=9,\n",
    "    crs=projections.EPSG3857\n",
    ")\n",
    "\n",
    "# for each survey create an AntPath\n",
    "for k,n in nav_locations.items():\n",
    "\n",
    "    ant_path = AntPath(\n",
    "        locations=n,\n",
    "        color=colors.to_hex(cmap(k))\n",
    "    )\n",
    "\n",
    "    # add the AntPath to the map\n",
    "    m.add(ant_path)\n",
    "\n",
    "    # create a marker for the first location of the survey\n",
    "    icon = AwesomeIcon(\n",
    "        name='ship',\n",
    "        marker_color=\"white\",\n",
    "        icon_color=colors.to_hex(cmap(k)),\n",
    "        #spin=True\n",
    "        )\n",
    "    marker = Marker(\n",
    "        location = n[0],\n",
    "        icon=icon,\n",
    "        title=str(k)\n",
    "    )\n",
    "    message = HTML()\n",
    "    message.value = str(k)\n",
    "    marker.popup = message\n",
    "\n",
    "    # add the marker to the map\n",
    "    m.add(marker)\n",
    "\n",
    "\n",
    "\n",
    "\n",
    "m"
   ]
  },
  {
   "cell_type": "code",
   "execution_count": 17,
   "metadata": {},
   "outputs": [],
   "source": [
    "# This is a better overview right?\n",
    "# if you click on the icons you will see the survey number (ping_contaiener number)\n",
    "\n",
    "# If you have a nice geotiff for the background, you can add it using localtileserver\n",
    "# Note: Local tile server will tile you tiff, so don't be afraid to add a large tiff\n",
    "background_map_path = \"\"\n",
    "background_map_path = \"/home/ssd/src/themachinethatgoesping/tutorials/usage/map/210412_BELGIUM_BCP_DTM_20m_LAT.tiff\"\n",
    "\n",
    "if background_map_path:\n",
    "    from localtileserver import get_leaflet_tile_layer, TileClient\n",
    "\n",
    "    client = TileClient(background_map_path)\n",
    "    t = get_leaflet_tile_layer(client,band=1,cmap=\"YlGnBu_r\")\n",
    "    m.add_layer(t)"
   ]
  },
  {
   "cell_type": "markdown",
   "metadata": {},
   "source": [
    "# Conclusion\n",
    "\n",
    "That is it for today. Here is what you have learned:\n",
    "\n",
    "- How to open files (ping opens many files at once)\n",
    "- Opening files means indexing them, this process can be speed up by using an index file\n",
    "- Ping evolves around pings and the main function to access them is fm.pings()\n",
    "- These pings can be sorted into new list and copied as much as you like. This allows for sorting and selecting pings before doing expensive data processing\n",
    "- Pings are the basic unit of data in themachinethatgoesping. They contain cached data and provide access to the raw datagrams that belong to them.\n",
    "- Datagrams are only read completely if the datagram is loaded into memory, or if a function is called that requires the datagram data.\n",
    "- Pings provide high level functions to the user. E.g. get_geolocation which provides the interpolated and transformed geolocation of the pings transducer at ping time. To speed these functions up, some data is cached in the ping object.\n",
    "- Additionaly showed you how sorting and selecting pings can be used to create a overview of the data by plotting the navigation data onto an interactive map.\n",
    "\n",
    "Now it is time to play around. Stay tuned for the next tutorial where we will actually access data and do something with that"
   ]
  }
 ],
 "metadata": {
  "kernelspec": {
   "display_name": "Python 3 (ipykernel)",
   "language": "python",
   "name": "python3"
  },
  "language_info": {
   "codemirror_mode": {
    "name": "ipython",
    "version": 3
   },
   "file_extension": ".py",
   "mimetype": "text/x-python",
   "name": "python",
   "nbconvert_exporter": "python",
   "pygments_lexer": "ipython3",
   "version": "3.11.6"
  }
 },
 "nbformat": 4,
 "nbformat_minor": 4
}
