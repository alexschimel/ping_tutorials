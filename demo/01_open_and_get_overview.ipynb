{
 "cells": [
  {
   "cell_type": "markdown",
   "metadata": {},
   "source": [
    "# Demo 01: Open files, and create an overview\n",
    "\n",
    "## Introduction\n",
    "\n",
    "This Jupyter Notebook contains a simple introduction to basic concepts of themachinethatgoesping (short: Ping).\n",
    "\n",
    "## Here you will learn\n",
    "\n",
    "- how to open files (ping opens many files at once)\n",
    "- how to access datagrams and pings (and also the concept of what a ping is for themachinethatgoesping)\n",
    "- how to get an overview of the data by:\n",
    "    - sorting pings\n",
    "    - extracting and plotting the navigation data onto a map\n",
    "    - Extra: if you have a nice geotiff you can also learn how to plot it onto a map\n",
    "\n",
    "## Short version\n",
    "\n",
    "At the end of the notebook you will find the important parts of this notebook, compiled into a single cell\n",
    "\n",
    "\n",
    "## ---"
   ]
  },
  {
   "cell_type": "markdown",
   "metadata": {},
   "source": [
    "### First: Import the necessary modules"
   ]
  },
  {
   "cell_type": "code",
   "execution_count": 1,
   "metadata": {
    "notebookRunGroups": {
     "groupValue": "1"
    },
    "tags": []
   },
   "outputs": [],
   "source": [
    "# use widgets as matplotlib backend\n",
    "%matplotlib widget\n",
    "\n",
    "# imports\n",
    "from matplotlib import pyplot as plt\n",
    "import os\n",
    "import sys\n",
    "import numpy as np\n",
    "from collections import defaultdict\n",
    "from time import time\n",
    "from tqdm.auto import tqdm #progress bar, auto selects a backend based on the environment e.g. for a jupyter notebook it will use the widget version\n",
    "\n",
    "from typing import Union, Tuple\n",
    "\n",
    "import matplotlib as mpl\n",
    "\n",
    "# import the file object for opening kongsberg files\n",
    "# Note: function and library naming to be discussed\n",
    "from themachinethatgoesping.echosounders import em3000          # This is the filereader module for .all/.wcd files\n",
    "from themachinethatgoesping.echosounders import index_functions # This is the module for creating and using indexes to speed up file initialization\n",
    "import themachinethatgoesping.tools as ptools                   # Some tools for working with ping (here we use timeconv for timestamp conversion)\n",
    "\n",
    "# simplify creating figures\n",
    "mpl.rcParams['figure.dpi'] = 100\n",
    "close_plots: bool = True\n",
    "\n",
    "def create_figure(name: str, return_ax: bool = True) -> Union[Tuple[plt.Figure, plt.Axes], plt.Figure]:\n",
    "    \"\"\"Helper function to create a figure with a given name that returns the figure and axis\n",
    "    \"\"\"\n",
    "    if close_plots:\n",
    "        plt.close(name)\n",
    "    fig = plt.figure(name)\n",
    "    fig.suptitle = name\n",
    "\n",
    "    if return_ax:\n",
    "        return fig, fig.subplots()\n",
    "    return fig"
   ]
  },
  {
   "cell_type": "markdown",
   "metadata": {},
   "source": [
    "### Find files to open\n",
    "\n",
    "This is a simple python loop to find .all and .wcd files in the specified directories"
   ]
  },
  {
   "cell_type": "code",
   "execution_count": 2,
   "metadata": {
    "tags": []
   },
   "outputs": [
    {
     "name": "stdout",
     "output_type": "stream",
     "text": [
      "Number of Kongsberg files found: 289\n"
     ]
    }
   ],
   "source": [
    "# Define the folder(s) to search for Kongsberg files\n",
    "# Note: subdirectories will be searched as well\n",
    "folders = []\n",
    "folders.append(\"/home/users/data/2023_8_TURBEAMS/\")\n",
    "\n",
    "# Initialize lists for storing file paths and names\n",
    "files = []\n",
    "\n",
    "# Loop through each folder and its subfolders to find Kongsberg files\n",
    "for folder in folders:\n",
    "    for root, dirs, filenames in os.walk(folder):\n",
    "        for filename in filenames:\n",
    "            # Check if the file is a Kongsberg .all/.wcd file\n",
    "            if filename.endswith('.wcd') or filename.endswith('.all'):\n",
    "                # Add its full path to the list of files\n",
    "                filepath = os.path.join(root, filename)\n",
    "                files.append(filepath)\n",
    "\n",
    "# Print the number of files found\n",
    "print(\"Number of Kongsberg files found:\", len(files))\n",
    "\n",
    "# Uncomment the following lines to print the full paths of the found files\n",
    "# for f in files:\n",
    "#     print(f)"
   ]
  },
  {
   "cell_type": "markdown",
   "metadata": {},
   "source": [
    "## Open files\n",
    "\n",
    "We will use the `FileEM3000_mapped` function to index all the specified files and provide access to them as a combined file stream. Ping is built around opening multiple files at once, so that they can be treated as a single file stream. If a `.all` and a `.wcd` file with the same name (one `.all` and one `.wcd`) are added, they will be matched to a single file.\n",
    "\n",
    "You do not need to worry about sorting the files in time or anything like that. Instead, we will sort the pings of these files later.\n",
    "\n",
    "## What happens when calling em3000.FileEM3000_mapped(files)\n",
    "\n",
    "1. First, an index is created for all files. This means that the position, type, and timestamp of each datagram are saved. For indexing, only the datagram headers are read, so this process is much faster than, for example, copying the files into a new format.\n",
    "2. Ping then initializes the navigation by reading all navigation datagrams and creating a navigation interpolator. This interpolator allows for fast access to the navigation at any time and also for transforming between different coordinate systems (from antenna to transducer).\n",
    "3. Finally, the datagrams in the files that belong to the same ping number are sorted to the ping object that will then use these datagrams to provide high and low-level data access to the user.\n",
    "\n",
    "## What is cached_index\n",
    "\n",
    "- We will first try to load an existing index file, to speed up the file opening process.\n",
    "- If it does not exist it will be created from the em3000.FileEM3000_mapped object after first initialization. (Third cell from here)\n",
    "- If it does exist, it will speed up the file opening process when initializing the em3000.FileEM3000_mapped object."
   ]
  },
  {
   "cell_type": "code",
   "execution_count": 3,
   "metadata": {
    "tags": []
   },
   "outputs": [],
   "source": [
    "# This code creates a folder called 'index', where an index file for each folder where a .all or .wcd file was found is stored.\n",
    "# The index files are created later. If you previously run this notebook already, \n",
    "# the cached_index will speed up the initialization of FileEM3000 (next cell)\n",
    "\n",
    "cached_index = index_functions.load_index_files(file_paths=files)"
   ]
  },
  {
   "cell_type": "code",
   "execution_count": 4,
   "metadata": {
    "tags": []
   },
   "outputs": [
    {
     "name": "stdout",
     "output_type": "stream",
     "text": [
      "indexing files ⠁ 99% [00m:00s<00m:00s] [Found: 5133208 datagrams in 289 files (25574MB)]                                                 \n",
      "Initializing ping interface ⠁ 99% [00m:06s<00m:00s] [Done]                                              \n"
     ]
    }
   ],
   "source": [
    "# Finally, we tell Ping to index all these files\n",
    "# Note (1): em3000 is the .all/.wcd file reader module\n",
    "# Note (2): If the cached_index already exists (i.e., it is not an empty dictionary), you will notice a significant speedup\n",
    "# Note (3): fm is the object that will contain the functions to access the data\n",
    "# Note (4): em3000.FileEM3000_mapped uses memory mapping internally. This is faster than the default FileEM3000 which is based on iostreams. \n",
    "#           However, it requires more memory. If you run into memory issues, try using FileEM3000 instead.\n",
    "\n",
    "fm = em3000.FileEM3000_mapped(files, cached_index=cached_index)\n",
    "\n",
    "# If you encounter warnings or errors, contact me (peter.urban@ugent.be) or create an issue on GitHub.\n"
   ]
  },
  {
   "cell_type": "code",
   "execution_count": 5,
   "metadata": {},
   "outputs": [],
   "source": [
    "# save the index of fm to disk for later reuse\n",
    "# Note(1): At this moment only the datagram index is saved. \n",
    "#          This means that the navigation data and the pings still have to be initialized when opening FileEM3000\n",
    "#          In the future we will save more information to further speed up the file loading process\n",
    "# Note(2): The index is saved in a folder called index in the current working directory\n",
    "# Note(3): If you restart the notebook after executing this cell you should notice that FileEM3000 will load much faster\n",
    "\n",
    "index_functions.update_index_files(fm.get_cached_file_index())"
   ]
  },
  {
   "cell_type": "markdown",
   "metadata": {},
   "source": [
    "# Working with the fm object()\n",
    "\n",
    "fm represents all the files that where opened with em3000.FileEM3000_mapped(files). \n",
    "Fm provides different data interfaces:\n",
    "\n",
    "- raw datagram access (datagram_interface)\n",
    "- configuration access (configuration_interface)\n",
    "- navigation access (navigation_interface)\n",
    "- environment parameters access (environment_interface)\n",
    "- ping access (ping_interface) \n",
    "\n",
    "Most of the time, however you will only need the pings created by the ping_interface. \n",
    "This you can access with: fm.pings()"
   ]
  },
  {
   "cell_type": "code",
   "execution_count": 6,
   "metadata": {},
   "outputs": [
    {
     "name": "stdout",
     "output_type": "stream",
     "text": [
      "Overview of the data in the files:\n",
      "FileEM3000\n",
      "##########\n",
      "-\n",
      "File infos \n",
      "-------------               \n",
      "- Number of loaded .all files: : 145      \n",
      "- Number of loaded .wcd files: : 144      \n",
      "- Total file size: :             24.97 GB \n",
      "\n",
      " Detected datagrams \n",
      "^^^^^^^^^^^^^^^^^^^^ \n",
      "- timestamp_first:  19/04/2023 18:36:51.89 \n",
      "- Total:            5133208                \n",
      "- Datagrams [0x30]: 166                    [PUIDOutput]\n",
      "- Datagrams [0x31]: 127464                 [PUStatusOutput]\n",
      "- Datagrams [0x41]: 505688                 [AttitudeDatagram]\n",
      "- Datagrams [0x43]: 127765                 [ClockDatagram]\n",
      "- Datagrams [0x47]: 2555                   [SurfaceSoundSpeedDatagram]\n",
      "- Datagrams [0x49]: 311                    [InstallationParametersStart]\n",
      "- Datagrams [0x4e]: 210627                 [RawRangeAndAngle]\n",
      "- Datagrams [0x50]: 510887                 [PositionDatagram]\n",
      "- Datagrams [0x52]: 105535                 [RuntimeParameters]\n",
      "- Datagrams [0x55]: 341                    [SoundSpeedProfileDatagram]\n",
      "- Datagrams [0x58]: 210627                 [XYZDatagram]\n",
      "- Datagrams [0x59]: 210627                 [SeabedImageData]\n",
      "- Datagrams [0x68]: 125731                 [DepthOrHeightDatagram]\n",
      "- Datagrams [0x69]: 288                    [InstallationParametersStop]\n",
      "- Datagrams [0x6b]: 439307                 [WatercolumnDatagram]\n",
      "- Datagrams [0x6e]: 2555289                [NetworkAttitudeVelocityDatagram]\n",
      "\n",
      " Detected Pings \n",
      "---------------- \n",
      "\n",
      " Time info \n",
      "^^^^^^^^^^^             \n",
      "- Start time: 19/04/2023 18:37:18.37 \n",
      "- End time:   22/04/2023 05:17:33.15 \n",
      "- Sorted:     no                     \n",
      "\n",
      " Contained pings \n",
      "^^^^^^^^^^^^^^^^^ \n",
      "- Total:    210813 \n",
      "- TRX-2004: 105409 \n",
      "- TRX-2031: 105404 \n"
     ]
    }
   ],
   "source": [
    "# First, let's print some information about the files we just opened\n",
    "# This will give us an overview of:\n",
    "# - the number of files and their total size\n",
    "# - the datagrams and datagram types in the files\n",
    "# - the number of detected pings sorted by channel_id (channel_id is the transducer name)\n",
    "\n",
    "# fm is the object that contains all the functions to access the data in the files\n",
    "# We can print it to get an overview of the data in the files\n",
    "print(\"Overview of the data in the files:\")\n",
    "print(fm)  # fm is the object that contains all the functions to access the data in the files\n"
   ]
  },
  {
   "cell_type": "markdown",
   "metadata": {},
   "source": [
    "## themachinethatgoesping revolves around pings\n",
    "\n",
    "This will be your main access point, so all this raw datagram access and interfaces will be explained later.\n",
    "\n",
    "### What is a ping?\n",
    "\n",
    "A ping is a single sonar transmission. It is the basic unit of data in themachinethatgoesping.\n",
    "A ping object holds some cached data, such as timestamp geolocation and sonar settings, but it also provides access to the raw datagrams that belong to this ping.\n",
    "\n",
    "You can copy pings as much as you like because a ping is only a reference. Copying and sorting pings in new lists does thus not take up much memory.\n",
    "Pings also contain pointers to the datagrams that belong to them. These datagrams will only be read when you access them or call functions that require them.\n",
    "\n",
    "### How to access pings\n",
    "\n",
    "Call fm.pings() to get a list of all pings. This list is sorted by time.\n",
    "\n",
    "pings = fm.pings() will create PingContainer that contains all pings of all loaded files.\n",
    "\n",
    "### What is a PingContainer\n",
    "\n",
    "A PingContainer is a list of pings. It acts like a list and supports the same functions. You can thus iterate over it, sort it, slice etc.\n",
    "\n",
    "Access the 10th ping by calling pings[10]\n",
    "\n",
    "Additionally, a PingContainer provides some additional functions to sort and select pings.\n",
    "\n",
    "e.g.:\n",
    "\n",
    "- pings.sort_by_time() will sort the pings by time\n",
    "- pings.break_at_time(t) will split the PingContainer into PingContainers when the time difference between two pings is larger than t\n",
    "\n",
    "You can also sort pings into default python lists. However, the extra functions provided by PingContainer are not available then\n"
   ]
  },
  {
   "cell_type": "code",
   "execution_count": 7,
   "metadata": {},
   "outputs": [
    {
     "name": "stdout",
     "output_type": "stream",
     "text": [
      "PingContainer\n",
      "#############\n",
      "-\n",
      "Time info \n",
      "------------            \n",
      "- Start time: 19/04/2023 18:37:18.37 \n",
      "- End time:   22/04/2023 05:17:33.15 \n",
      "- Sorted:     ascending              \n",
      "\n",
      " Contained pings \n",
      "----------------- \n",
      "- Total:    210813 \n",
      "- TRX-2004: 105409 \n",
      "- TRX-2031: 105404 \n"
     ]
    }
   ],
   "source": [
    "# Create a object that holds all pings\n",
    "# We access the pings sorted by time\n",
    "pings = fm.pings().get_sorted_by_time()\n",
    "\n",
    "#Get an overview of the ping container (e.g. time of first and last ping, number of pings, number of pings per channel)\n",
    "print(pings)"
   ]
  },
  {
   "cell_type": "code",
   "execution_count": 8,
   "metadata": {},
   "outputs": [
    {
     "name": "stdout",
     "output_type": "stream",
     "text": [
      "EM3000Ping\n",
      "##########\n",
      "-\n",
      "Ping infos \n",
      "-------------                                                             \n",
      "- Source file: /home/users/data/2023_8_TURBEAMS/em2040/0000_20230419_183719_Belgica.all [77]\n",
      "- Channel id:  TRX-2004                                                                 \n",
      "- Time info:   19/04/2023 18:37:18.37                                                   [1681929438.366000]\n",
      "- -Features:   watercolumn, bottom                                                      \n",
      "- -Features:   xyz, two_way_travel_times, beam_crosstrack_angles                        \n",
      "- -Features:   bottom_range_sample, amplitudes                                          \n",
      "\n",
      " Geolocation \n",
      "------------- \n",
      "- latitude:  51°24'15.0\"N  [ddd°mm',ss.s''N/S]\n",
      "- longitude: 2°48'35.6\"E   [ddd°mm',ss.s''E/W]\n",
      "- z:         3.72          [positive downwards, m]\n",
      "- yaw:       236.58        [90 ° at east]\n",
      "- pitch:     -2.40         [° positive bow up]\n",
      "- roll:      34.52         [° positive port up]\n",
      "\n",
      " Sensor data \n",
      "------------- \n",
      "- latitude:  51°24'14.9\"N  [ddd°mm',ss.s''N/S]\n",
      "- longitude: 2°48'35.3\"E   [ddd°mm',ss.s''E/W]\n",
      "- depth:     0.00          [positive downwards, m]\n",
      "- heave:     0.86          [positive upwards, m]\n",
      "- heading:   56.03         [0° is north, 90 ° is east]\n",
      "- pitch:     0.73          [° positive bow up]\n",
      "- roll:      0.99          [° positive port up]\n",
      "\n",
      " Sensor configuration \n",
      "---------------------- \n",
      "\n",
      " Target offsets \"Transducer\" \n",
      "----------------------------- \n",
      "- name:  TRX-2004 [The name of the sensor]\n",
      "- x:     0.01     [positive forwards, m]\n",
      "- y:     -0.37    [positive starboard, m]\n",
      "- z:     0.36     [positive downwards, m]\n",
      "- yaw:   180.52   [° positive means clockwise rotation]\n",
      "- pitch: -1.68    [° positive means bow up]\n",
      "- roll:  35.66    [° positive means port up]\n",
      "\n",
      " Target offsets \"TRX-2004\" \n",
      "--------------------------- \n",
      "- name:  TRX-2004 [The name of the sensor]\n",
      "- x:     0.01     [positive forwards, m]\n",
      "- y:     -0.37    [positive starboard, m]\n",
      "- z:     0.36     [positive downwards, m]\n",
      "- yaw:   180.52   [° positive means clockwise rotation]\n",
      "- pitch: -1.68    [° positive means bow up]\n",
      "- roll:  35.66    [° positive means port up]\n",
      "\n",
      " Target offsets \"TX-214\" \n",
      "------------------------- \n",
      "- name:  TX-214 [The name of the sensor]\n",
      "- x:     0.38   [positive forwards, m]\n",
      "- y:     0.01   [positive starboard, m]\n",
      "- z:     0.43   [positive downwards, m]\n",
      "- yaw:   180.52 [° positive means clockwise rotation]\n",
      "- pitch: -1.68  [° positive means bow up]\n",
      "- roll:  -0.84  [° positive means port up]\n",
      "\n",
      " Target offsets \"TRX-2031\" \n",
      "--------------------------- \n",
      "- name:  TRX-2031 [The name of the sensor]\n",
      "- x:     0.01     [positive forwards, m]\n",
      "- y:     0.39     [positive starboard, m]\n",
      "- z:     0.37     [positive downwards, m]\n",
      "- yaw:   180.52   [° positive means clockwise rotation]\n",
      "- pitch: -1.68    [° positive means bow up]\n",
      "- roll:  -34.29   [° positive means port up]\n",
      "\n",
      " Target offsets \"RX-2031\" \n",
      "-------------------------- \n",
      "- name:  RX-2031 [The name of the sensor]\n",
      "- x:     0.23    [positive forwards, m]\n",
      "- y:     0.39    [positive starboard, m]\n",
      "- z:     0.31    [positive downwards, m]\n",
      "- yaw:   1.29    [° positive means clockwise rotation]\n",
      "- pitch: 3.19    [° positive means bow up]\n",
      "- roll:  -34.29  [° positive means port up]\n",
      "\n",
      " Target offsets \"RX-2004\" \n",
      "-------------------------- \n",
      "- name:  RX-2004 [The name of the sensor]\n",
      "- x:     0.25    [positive forwards, m]\n",
      "- y:     -0.37   [positive starboard, m]\n",
      "- z:     0.30    [positive downwards, m]\n",
      "- yaw:   0.32    [° positive means clockwise rotation]\n",
      "- pitch: 3.21    [° positive means bow up]\n",
      "- roll:  35.66   [° positive means port up]\n",
      "\n",
      " Target offsets \"0\" \n",
      "-------------------- \n",
      "- name:  0    [The name of the sensor]\n",
      "- x:     0.00 [positive forwards, m]\n",
      "- y:     0.00 [positive starboard, m]\n",
      "- z:     0.00 [positive downwards, m]\n",
      "- yaw:   0.00 [° positive means clockwise rotation]\n",
      "- pitch: 0.00 [° positive means bow up]\n",
      "- roll:  0.00 [° positive means port up]\n",
      "\n",
      " Attitude sensor offsets \n",
      "------------------------- \n",
      "- name:  Attitude sensor 1 [The name of the sensor]\n",
      "- x:     0.00              [positive forwards, m]\n",
      "- y:     0.00              [positive starboard, m]\n",
      "- z:     0.00              [positive downwards, m]\n",
      "- yaw:   -0.23             [° positive means clockwise rotation]\n",
      "- pitch: 0.00              [° positive means bow up]\n",
      "- roll:  -0.14             [° positive means port up]\n",
      "\n",
      " Compass offsets \n",
      "----------------- \n",
      "- name:  Gyrocompass [The name of the sensor]\n",
      "- x:     0.00        [positive forwards, m]\n",
      "- y:     0.00        [positive starboard, m]\n",
      "- z:     0.00        [positive downwards, m]\n",
      "- yaw:   0.00        [° positive means clockwise rotation]\n",
      "- pitch: 0.00        [° positive means bow up]\n",
      "- roll:  0.00        [° positive means port up]\n",
      "\n",
      " Position system offsets \n",
      "------------------------- \n",
      "- name:  Position system 1 [The name of the sensor]\n",
      "- x:     -7.89             [positive forwards, m]\n",
      "- y:     0.88              [positive starboard, m]\n",
      "- z:     -5.97             [positive downwards, m]\n",
      "- yaw:   0.00              [° positive means clockwise rotation]\n",
      "- pitch: 0.00              [° positive means bow up]\n",
      "- roll:  0.00              [° positive means port up]\n",
      "\n",
      " Depth sensor offsets \n",
      "---------------------- \n",
      "- name:  Depth sensor [The name of the sensor]\n",
      "- x:     0.00         [positive forwards, m]\n",
      "- y:     0.00         [positive starboard, m]\n",
      "- z:     0.00         [positive downwards, m]\n",
      "- yaw:   0.00         [° positive means clockwise rotation]\n",
      "- pitch: 0.00         [° positive means bow up]\n",
      "- roll:  0.00         [° positive means port up]\n",
      "\n",
      " waterline offsets \n",
      "------------------- \n",
      "- Waterline offset: -4.22 [m]\n"
     ]
    }
   ],
   "source": [
    "# Print the first ping in the pings list\n",
    "# TODO: This function currently prints too much unimportant information\n",
    "print(pings[0])"
   ]
  },
  {
   "cell_type": "code",
   "execution_count": 9,
   "metadata": {},
   "outputs": [
    {
     "name": "stdout",
     "output_type": "stream",
     "text": [
      "EM3000Ping\n",
      "##########\n",
      "-\n",
      "Ping infos \n",
      "-------------                                                             \n",
      "- Source file: /home/users/data/2023_8_TURBEAMS/em2040/0000_20230419_183719_Belgica.all [77]\n",
      "- Channel id:  TRX-2031                                                                 \n",
      "- Time info:   19/04/2023 18:38:18.97                                                   [1681929498.967000]\n",
      "- -Features:   watercolumn, bottom                                                      \n",
      "- -Features:   xyz, two_way_travel_times, beam_crosstrack_angles                        \n",
      "- -Features:   bottom_range_sample, amplitudes                                          \n",
      "\n",
      " Geolocation \n",
      "------------- \n",
      "- latitude:  51°24'14.1\"N  [ddd°mm',ss.s''N/S]\n",
      "- longitude: 2°48'34.4\"E   [ddd°mm',ss.s''E/W]\n",
      "- z:         4.57          [positive downwards, m]\n",
      "- yaw:       207.28        [90 ° at east]\n",
      "- pitch:     -1.75         [° positive bow up]\n",
      "- roll:      -35.40        [° positive port up]\n",
      "\n",
      " Sensor data \n",
      "------------- \n",
      "- latitude:  51°24'13.9\"N  [ddd°mm',ss.s''N/S]\n",
      "- longitude: 2°48'34.3\"E   [ddd°mm',ss.s''E/W]\n",
      "- depth:     0.00          [positive downwards, m]\n",
      "- heave:     0.02          [positive upwards, m]\n",
      "- heading:   26.73         [0° is north, 90 ° is east]\n",
      "- pitch:     0.08          [° positive bow up]\n",
      "- roll:      0.97          [° positive port up]\n",
      "\n",
      " Sensor configuration \n",
      "---------------------- \n",
      "\n",
      " Target offsets \"Transducer\" \n",
      "----------------------------- \n",
      "- name:  TRX-2031 [The name of the sensor]\n",
      "- x:     0.01     [positive forwards, m]\n",
      "- y:     0.39     [positive starboard, m]\n",
      "- z:     0.37     [positive downwards, m]\n",
      "- yaw:   180.52   [° positive means clockwise rotation]\n",
      "- pitch: -1.68    [° positive means bow up]\n",
      "- roll:  -34.29   [° positive means port up]\n",
      "\n",
      " Target offsets \"TRX-2004\" \n",
      "--------------------------- \n",
      "- name:  TRX-2004 [The name of the sensor]\n",
      "- x:     0.01     [positive forwards, m]\n",
      "- y:     -0.37    [positive starboard, m]\n",
      "- z:     0.36     [positive downwards, m]\n",
      "- yaw:   180.52   [° positive means clockwise rotation]\n",
      "- pitch: -1.68    [° positive means bow up]\n",
      "- roll:  35.66    [° positive means port up]\n",
      "\n",
      " Target offsets \"TX-214\" \n",
      "------------------------- \n",
      "- name:  TX-214 [The name of the sensor]\n",
      "- x:     0.38   [positive forwards, m]\n",
      "- y:     0.01   [positive starboard, m]\n",
      "- z:     0.43   [positive downwards, m]\n",
      "- yaw:   180.52 [° positive means clockwise rotation]\n",
      "- pitch: -1.68  [° positive means bow up]\n",
      "- roll:  -0.84  [° positive means port up]\n",
      "\n",
      " Target offsets \"TRX-2031\" \n",
      "--------------------------- \n",
      "- name:  TRX-2031 [The name of the sensor]\n",
      "- x:     0.01     [positive forwards, m]\n",
      "- y:     0.39     [positive starboard, m]\n",
      "- z:     0.37     [positive downwards, m]\n",
      "- yaw:   180.52   [° positive means clockwise rotation]\n",
      "- pitch: -1.68    [° positive means bow up]\n",
      "- roll:  -34.29   [° positive means port up]\n",
      "\n",
      " Target offsets \"RX-2031\" \n",
      "-------------------------- \n",
      "- name:  RX-2031 [The name of the sensor]\n",
      "- x:     0.23    [positive forwards, m]\n",
      "- y:     0.39    [positive starboard, m]\n",
      "- z:     0.31    [positive downwards, m]\n",
      "- yaw:   1.29    [° positive means clockwise rotation]\n",
      "- pitch: 3.19    [° positive means bow up]\n",
      "- roll:  -34.29  [° positive means port up]\n",
      "\n",
      " Target offsets \"RX-2004\" \n",
      "-------------------------- \n",
      "- name:  RX-2004 [The name of the sensor]\n",
      "- x:     0.25    [positive forwards, m]\n",
      "- y:     -0.37   [positive starboard, m]\n",
      "- z:     0.30    [positive downwards, m]\n",
      "- yaw:   0.32    [° positive means clockwise rotation]\n",
      "- pitch: 3.21    [° positive means bow up]\n",
      "- roll:  35.66   [° positive means port up]\n",
      "\n",
      " Target offsets \"0\" \n",
      "-------------------- \n",
      "- name:  0    [The name of the sensor]\n",
      "- x:     0.00 [positive forwards, m]\n",
      "- y:     0.00 [positive starboard, m]\n",
      "- z:     0.00 [positive downwards, m]\n",
      "- yaw:   0.00 [° positive means clockwise rotation]\n",
      "- pitch: 0.00 [° positive means bow up]\n",
      "- roll:  0.00 [° positive means port up]\n",
      "\n",
      " Attitude sensor offsets \n",
      "------------------------- \n",
      "- name:  Attitude sensor 1 [The name of the sensor]\n",
      "- x:     0.00              [positive forwards, m]\n",
      "- y:     0.00              [positive starboard, m]\n",
      "- z:     0.00              [positive downwards, m]\n",
      "- yaw:   -0.23             [° positive means clockwise rotation]\n",
      "- pitch: 0.00              [° positive means bow up]\n",
      "- roll:  -0.14             [° positive means port up]\n",
      "\n",
      " Compass offsets \n",
      "----------------- \n",
      "- name:  Gyrocompass [The name of the sensor]\n",
      "- x:     0.00        [positive forwards, m]\n",
      "- y:     0.00        [positive starboard, m]\n",
      "- z:     0.00        [positive downwards, m]\n",
      "- yaw:   0.00        [° positive means clockwise rotation]\n",
      "- pitch: 0.00        [° positive means bow up]\n",
      "- roll:  0.00        [° positive means port up]\n",
      "\n",
      " Position system offsets \n",
      "------------------------- \n",
      "- name:  Position system 1 [The name of the sensor]\n",
      "- x:     -7.89             [positive forwards, m]\n",
      "- y:     0.88              [positive starboard, m]\n",
      "- z:     -5.97             [positive downwards, m]\n",
      "- yaw:   0.00              [° positive means clockwise rotation]\n",
      "- pitch: 0.00              [° positive means bow up]\n",
      "- roll:  0.00              [° positive means port up]\n",
      "\n",
      " Depth sensor offsets \n",
      "---------------------- \n",
      "- name:  Depth sensor [The name of the sensor]\n",
      "- x:     0.00         [positive forwards, m]\n",
      "- y:     0.00         [positive starboard, m]\n",
      "- z:     0.00         [positive downwards, m]\n",
      "- yaw:   0.00         [° positive means clockwise rotation]\n",
      "- pitch: 0.00         [° positive means bow up]\n",
      "- roll:  0.00         [° positive means port up]\n",
      "\n",
      " waterline offsets \n",
      "------------------- \n",
      "- Waterline offset: -4.22 [m]\n"
     ]
    }
   ],
   "source": [
    "# pings is a PingContainer object that acts like a list of pings, but also contains some extra functionss\n",
    "# You can access individual pings by iterating, indexing and also slices are available to select multiple pings\n",
    "# Note : pings do not hold much data, think of them as references to the data in the file\n",
    "#        Furthermore: each ping that you see here is actually a reference to a ping in memory\n",
    "#        Thus: Copying pings and sorting them into new lists is very cheap and you can create as many ping lists as you like\n",
    "\n",
    "# Select the 100th ping from the pings list\n",
    "p = pings[100]\n",
    "\n",
    "# Print the information about the selected ping\n",
    "# TODO: This function currently prints too much unimportant information\n",
    "print(p)"
   ]
  },
  {
   "cell_type": "markdown",
   "metadata": {},
   "source": [
    "## Working with ping containers--"
   ]
  },
  {
   "cell_type": "code",
   "execution_count": 10,
   "metadata": {},
   "outputs": [
    {
     "data": {
      "application/vnd.jupyter.widget-view+json": {
       "model_id": "483f5ec063284732b9b572553a3106d8",
       "version_major": 2,
       "version_minor": 0
      },
      "text/plain": [
       "  0%|          | 0/210813 [00:00<?, ?it/s]"
      ]
     },
     "metadata": {},
     "output_type": "display_data"
    },
    {
     "name": "stdout",
     "output_type": "stream",
     "text": [
      "Mean timestamp of each ping: 1682045270.8277454\n",
      "Mean date/time of each ping: 21-04-2023 02:47:51\n"
     ]
    }
   ],
   "source": [
    "# Now we access the pings sorted by time\n",
    "# This is important, because the list of files you provided is not necessarily sorted by time\n",
    "# TODO: sorting by time should be default behavior\n",
    "pings = fm.pings().get_sorted_by_time()\n",
    "\n",
    "# Loop through every ping and get the timestamp\n",
    "# Note(1): tqdm is a progress bar\n",
    "# Note(2): This loop is fast because no data is read.\n",
    "#          The timestamp was read and cached when initializing FileEM3000\n",
    "t = []\n",
    "for p in tqdm(pings):\n",
    "    t.append(p.get_timestamp())\n",
    "\n",
    "# Calculate the mean timestamp of all pings\n",
    "mean_t = np.mean(t)\n",
    "\n",
    "# Print the mean timestamp and the mean date/time of each ping\n",
    "# We use the ptool.timeconv module to convert the timestamp to a date/time string\n",
    "print(\"Mean timestamp of each ping:\", mean_t)\n",
    "print(\"Mean date/time of each ping:\", ptools.timeconv.unixtime_to_datestring(mean_t, format=\"%d-%m-%Y %H:%M:%S\"))\n"
   ]
  },
  {
   "cell_type": "markdown",
   "metadata": {},
   "source": [
    "### Create a simple navigation plot"
   ]
  },
  {
   "cell_type": "code",
   "execution_count": 11,
   "metadata": {},
   "outputs": [
    {
     "data": {
      "application/vnd.jupyter.widget-view+json": {
       "model_id": "371e08ae262f4a2d8065f55ff9bf9d02",
       "version_major": 2,
       "version_minor": 0
      },
      "text/plain": [
       "  0%|          | 0/105407 [00:00<?, ?it/s]"
      ]
     },
     "metadata": {},
     "output_type": "display_data"
    },
    {
     "name": "stdout",
     "output_type": "stream",
     "text": [
      "Hopefully you see a nice quick plot of the navigation data. \n",
      "However this does not yet give a good overview if you loaded many files from different surveys.\n"
     ]
    },
    {
     "data": {
      "application/vnd.jupyter.widget-view+json": {
       "model_id": "35fdacf4d5524c80bd7098a8a190a107",
       "version_major": 2,
       "version_minor": 0
      },
      "image/png": "[encoded data removed]",
      "text/html": [
       "\n",
       "            <div style=\"display: inline-block;\">\n",
       "                <div class=\"jupyter-widgets widget-label\" style=\"text-align: center;\">\n",
       "                    navigation\n",
       "                </div>\n",
       "                <img src='data:image/png;base64,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' width=640.0/>\n",
       "            </div>\n",
       "        "
      ],
      "text/plain": [
       "Canvas(toolbar=Toolbar(toolitems=[('Home', 'Reset original view', 'home', 'home'), ('Back', 'Back to previous …"
      ]
     },
     "metadata": {},
     "output_type": "display_data"
    }
   ],
   "source": [
    "# Let's plot the navigation of your file (naive approach)\n",
    "\n",
    "# First, we downsample the pings to not plot more than 100000 points. \n",
    "# This is done to avoid slowing down Matplotlib when plotting too many points.\n",
    "# Note that creating new ping lists barely costs memory because pings are just references.\n",
    "# So, the list creation would also be fast if we did not downsample.\n",
    "if len(pings) > 100000:\n",
    "    plot_pings = pings[::int(len(pings)//100000)]\n",
    "else:\n",
    "    plot_pings = pings\n",
    "\n",
    "# plot_pings is now a Python list that contains a subset of the pings.\n",
    "# Let's iterate over this list and get the navigation data.\n",
    "\n",
    "# Create empty lists to store the latitude and longitude data\n",
    "lat = []\n",
    "lon = []\n",
    "\n",
    "# Iterate over the downsampled pings and get the geolocation data\n",
    "for p in tqdm(plot_pings):\n",
    "    # Each ping has a function called get_geolocation.\n",
    "    # This function returns a Geolocation object holding the latitude and longitude of the transducer at the time of the ping,\n",
    "    # as well as the attitude data (pitch, roll, heave, heading).\n",
    "    # The geolocation was created and cached during the initialization of FileEM3000 above.\n",
    "    # This loop will thus also run fast.\n",
    "    g = p.get_geolocation()\n",
    "    lat.append(g.latitude)\n",
    "    lon.append(g.longitude)\n",
    "\n",
    "# Create a figure and plot the navigation data.\n",
    "fig, ax = create_figure(\"navigation\")\n",
    "ax.grid(True, linestyle='--', color='gray', alpha=0.5)\n",
    "ax.plot(lon, lat, label=\"navigation\", color='blue', linewidth=0.5, marker='o', markersize=2, markevery=1)\n",
    "ax.set_xlabel(\"longitude\")\n",
    "ax.set_ylabel(\"latitude\")\n",
    "ax.set_title(\"Navigation data\")\n",
    "#ax.set_aspect('equal')\n",
    "ax.legend()\n",
    "\n",
    "# Add arrows with labels that indicate the beginning and the end of the survey\n",
    "ax.annotate('Start of survey', xy=(lon[0], lat[0]), xytext=(lon[0]+0.01, lat[0]+0.01),\n",
    "            arrowprops=dict(facecolor='black', arrowstyle=\"->\"), fontsize=10)\n",
    "ax.annotate('End of survey', xy=(lon[-1], lat[-1]), xytext=(lon[-1]-0.01, lat[-1]-0.01),\n",
    "            arrowprops=dict(facecolor='black', arrowstyle=\"->\"), fontsize=10)\n",
    "\n",
    "# Add text to the right of the plot to explain what the plot shows\n",
    "print(\"Hopefully you see a nice quick plot of the navigation data. \\nHowever this does not yet give a good overview if you loaded many files from different surveys.\")\n"
   ]
  },
  {
   "cell_type": "markdown",
   "metadata": {},
   "source": [
    "## Create a better overview by splitting the pings into surveys\n"
   ]
  },
  {
   "cell_type": "code",
   "execution_count": 12,
   "metadata": {},
   "outputs": [
    {
     "name": "stdout",
     "output_type": "stream",
     "text": [
      "If you only see one container, then your files do not contain gaps between pings larger than 15 minutes.\n",
      "Ping container number 0 contains 43583 pings.\n",
      "Ping container number 1 contains 75296 pings.\n",
      "Ping container number 2 contains 54658 pings.\n",
      "Ping container number 3 contains 37138 pings.\n",
      "Ping container number 4 contains 138 pings.\n"
     ]
    }
   ],
   "source": [
    "# To get a better overview of the data when loading multiple surveys, we need to order the pings into surveys and plot the navigation of each survey.\n",
    "\n",
    "# First, we split the pings into containers depending on the time aspect.\n",
    "# Here, we use a time difference of 15 minutes to define the boundaries of each container.\n",
    "ping_containers = fm.pings().get_sorted_by_time().split_by_time_diff(15 * 60)\n",
    "\n",
    "# Next, we print some information about the ping containers.\n",
    "# This will help us verify that the containers have been created correctly.\n",
    "print(\"If you only see one container, then your files do not contain gaps between pings larger than 15 minutes.\")\n",
    "for i, p in enumerate(ping_containers):\n",
    "    print(\"Ping container number {} contains {} pings.\".format(i, len(p)))\n"
   ]
  },
  {
   "cell_type": "code",
   "execution_count": 13,
   "metadata": {},
   "outputs": [
    {
     "data": {
      "application/vnd.jupyter.widget-view+json": {
       "model_id": "e391a0ae882644b98f96e9d68167c75f",
       "version_major": 2,
       "version_minor": 0
      },
      "text/plain": [
       "Get navigation from pings:   0%|          | 0/210813 [00:00<?, ?it/s]"
      ]
     },
     "metadata": {},
     "output_type": "display_data"
    }
   ],
   "source": [
    "# Let's get the navigation data for each ping in each container.\n",
    "\n",
    "# First, we get the total number of pings in all the ping containers.\n",
    "total = np.sum([len(p) for p in ping_containers])\n",
    "\n",
    "# Create a progress bar to track the progress of the loop.\n",
    "prg = tqdm(total=total, desc=\"Get navigation from pings\")\n",
    "\n",
    "# Create a dictionary to store the navigation data.\n",
    "# We use a defaultdict, which automatically creates a new list if you try to access a key that does not exist.\n",
    "nav_locations = defaultdict(list)\n",
    "\n",
    "# Loop over each ping container and each ping in the container.\n",
    "for i, pings in enumerate(ping_containers):\n",
    "    # Update the progress bar description to show the current ping container index.\n",
    "    prg.set_description(\"ping_container nr {}\".format(i))\n",
    "\n",
    "    for p in pings:\n",
    "        # Get the geolocation data for the current ping and append it to the list for the current ping container index.\n",
    "        g = p.get_geolocation()\n",
    "        nav_locations[i].append([g.latitude,g.longitude])\n",
    "\n",
    "        # Update the progress bar to show the progress of the loop.\n",
    "        prg.update(1)\n"
   ]
  },
  {
   "cell_type": "markdown",
   "metadata": {},
   "source": [
    "### Create interactive map using ipyleaflet"
   ]
  },
  {
   "cell_type": "code",
   "execution_count": 14,
   "metadata": {},
   "outputs": [
    {
     "data": {
      "application/vnd.jupyter.widget-view+json": {
       "model_id": "46153deca6aa409e8894afe1cb729b48",
       "version_major": 2,
       "version_minor": 0
      },
      "text/plain": [
       "Map(center=[51.40335584871131, 2.853563368533637], controls=(ZoomControl(options=['position', 'zoom_in_text', …"
      ]
     },
     "execution_count": 14,
     "metadata": {},
     "output_type": "execute_result"
    }
   ],
   "source": [
    "# Import necessary libraries\n",
    "from ipyleaflet import Map, basemaps, basemap_to_tiles, AntPath, projections, Marker, AwesomeIcon\n",
    "from ipywidgets import Layout, HTML\n",
    "from matplotlib import colormaps,colors\n",
    "\n",
    "# Create a colormap for the different surveys\n",
    "cmap = colormaps.get_cmap(\"tab20\")\n",
    "\n",
    "# Create a map\n",
    "m = Map(\n",
    "    basemap=basemap_to_tiles(basemaps.Esri.NatGeoWorldMap),  # Set the basemap to Esri NatGeoWorldMap\n",
    "    center=(np.nanmedian(lat), np.nanmedian(lon)),  # Set the center of the map to the median latitude and longitude of the navigation data\n",
    "    layout=Layout(width='80%', height='600px'),  # Set the layout of the map\n",
    "    zoom=9,  # Set the zoom level of the map\n",
    "    crs=projections.EPSG3857  # Set the coordinate reference system of the map\n",
    ")\n",
    "\n",
    "# For each survey create an AntPath\n",
    "for k,n in nav_locations.items():\n",
    "\n",
    "    # Create an AntPath object with the navigation data and a color based on the survey index\n",
    "    ant_path = AntPath(\n",
    "        locations=n,\n",
    "        color=colors.to_hex(cmap(k))\n",
    "    )\n",
    "\n",
    "    # Add the AntPath to the map\n",
    "    m.add(ant_path)\n",
    "\n",
    "    # Create a marker for the first location of the survey\n",
    "    icon = AwesomeIcon(\n",
    "        name='ship',\n",
    "        marker_color=\"white\",\n",
    "        icon_color=colors.to_hex(cmap(k)),\n",
    "        #spin=True\n",
    "        )\n",
    "    marker = Marker(\n",
    "        location = n[0],\n",
    "        icon=icon,\n",
    "        title=str(k)\n",
    "    )\n",
    "    message = HTML()\n",
    "    message.value = str(k)\n",
    "    marker.popup = message\n",
    "\n",
    "    # Add the marker to the map\n",
    "    m.add(marker)\n",
    "\n",
    "# Display the map\n",
    "m"
   ]
  },
  {
   "cell_type": "code",
   "execution_count": 15,
   "metadata": {},
   "outputs": [
    {
     "name": "stderr",
     "output_type": "stream",
     "text": [
      "/ssd/opt/miniforge3/envs/dev/lib/python3.11/site-packages/large_image/tilesource/utilities.py:206: RuntimeWarning: invalid value encountered in cast\n",
      "  image = image.astype(np.uint8)\n"
     ]
    }
   ],
   "source": [
    "# This code adds a background map to the existing map created in cell 19.\n",
    "# If you have a geotiff file for the background map, you can specify its path in the variable 'background_map_path'.\n",
    "# Note that the localtileserver module is used to tile the geotiff file, so you can add a large tiff without worrying about performance.\n",
    "# If 'background_map_path' is not specified, the map will not have a background.\n",
    "\n",
    "import warnings\n",
    "\n",
    "background_map_path = \"/home/ssd/src/themachinethatgoesping/tutorials/test_data/map/210412_BELGIUM_BCP_DTM_20m_LAT.tiff\"\n",
    "\n",
    "if background_map_path:\n",
    "    if os.path.exists(background_map_path):\n",
    "        # Import necessary libraries\n",
    "        from localtileserver import get_leaflet_tile_layer, TileClient\n",
    "\n",
    "        # Create a TileClient object with the geotiff file path\n",
    "        client = TileClient(background_map_path)\n",
    "\n",
    "        # Get a leaflet tile layer from the TileClient object\n",
    "        t = get_leaflet_tile_layer(client, band=1, cmap=\"YlGnBu_r\")\n",
    "\n",
    "        # Add the leaflet tile layer to the map\n",
    "        m.add_layer(t)\n",
    "    else:\n",
    "        # Print a warning message in orange color\n",
    "        warning_message = \"The specified background map ({}) path does not exist.\".format(background_map_path)\n",
    "        warnings.warn(\"\\033[33m{}\\033[0m\".format(warning_message), UserWarning)\n"
   ]
  },
  {
   "cell_type": "markdown",
   "metadata": {},
   "source": [
    "# Conclusion\n",
    "\n",
    "That's it for this tutorial. Here is what you have learned:\n",
    "\n",
    "- Open files using the em3000.FileEM3000_mapped function, remember that this class takes a list of many files at once\n",
    "- em3000.FileEM3000_mapped indexes the provided files, this process can be speed up by using an previously created index file\n",
    "- Ping revolves around pings and the main function to access them is fm.pings()\n",
    "- These pings can be sorted into new list and copied as much as you like. This allows for sorting and selecting pings before doing expensive data processing\n",
    "- Pings are the basic unit of data in themachinethatgoesping. They contain cached data and provide access to the raw datagrams that belong to them.\n",
    "- Datagrams are only read completely if the datagram is loaded into memory, or if a function is called that requires the datagram data.\n",
    "- Pings provide high level functions to the user. E.g. get_geolocation which provides the interpolated and transformed geolocation of the pings transducer at ping time. To speed these functions up, some data is internally cached in the ping object.\n",
    "- Additionally, we showed you how sorting and selecting pings can be used to create a overview of the data by plotting the navigation data onto an interactive map.\n",
    "\n",
    "Now it is time to play around. Stay tuned for the next tutorial where we will actually access data and do something with that"
   ]
  },
  {
   "cell_type": "markdown",
   "metadata": {},
   "source": [
    "# Here is a short version of the above code"
   ]
  },
  {
   "cell_type": "code",
   "execution_count": 16,
   "metadata": {},
   "outputs": [
    {
     "name": "stdout",
     "output_type": "stream",
     "text": [
      "indexing files ⠁ 99% [00m:01s<00m:00s] [Found: 5133208 datagrams in 289 files (25574MB)]                                                 \n",
      "Initializing ping interface ⡀ 99% [00m:06s<00m:00s] [Done]                                              \n",
      "\n"
     ]
    },
    {
     "data": {
      "application/vnd.jupyter.widget-view+json": {
       "model_id": "c7113cfb2ad9482f948ec0b0ae2e6577",
       "version_major": 2,
       "version_minor": 0
      },
      "text/plain": [
       "Get navigation from pings:   0%|          | 0/210813 [00:00<?, ?it/s]"
      ]
     },
     "metadata": {},
     "output_type": "display_data"
    },
    {
     "data": {
      "application/vnd.jupyter.widget-view+json": {
       "model_id": "ec2aa7226d294defba93d13759f7cef6",
       "version_major": 2,
       "version_minor": 0
      },
      "text/plain": [
       "Map(center=[51.403356415895544, 2.8535864722888413], controls=(ZoomControl(options=['position', 'zoom_in_text'…"
      ]
     },
     "execution_count": 16,
     "metadata": {},
     "output_type": "execute_result"
    }
   ],
   "source": [
    "import os\n",
    "import warnings\n",
    "import pandas as pd\n",
    "import numpy as np\n",
    "from collections import defaultdict\n",
    "from tqdm.auto import tqdm\n",
    "\n",
    "from themachinethatgoesping.echosounders import em3000          # This is the filereader module for .all/.wcd files\n",
    "from themachinethatgoesping.echosounders import index_functions # This is the module for creating and using indexes to speed up file initialization\n",
    "\n",
    "from ipyleaflet import Map, basemaps, basemap_to_tiles, AntPath, projections, Marker, AwesomeIcon\n",
    "from ipywidgets import Layout, HTML\n",
    "from matplotlib import colormaps,colors\n",
    "from localtileserver import get_leaflet_tile_layer, TileClient\n",
    "\n",
    "# -- load files from folders -- \n",
    "folders = []\n",
    "folders.append(\"/home/users/data/2023_8_TURBEAMS/\")\n",
    "\n",
    "# Initialize lists for storing file paths and names\n",
    "files = []\n",
    "\n",
    "# Loop through each folder and its subfolders to find Kongsberg files\n",
    "for folder in folders:\n",
    "    for root, dirs, filenames in os.walk(folder):\n",
    "        for filename in filenames:\n",
    "            # Check if the file is a Kongsberg file\n",
    "            if filename.endswith('.wcd') or filename.endswith('.all'):\n",
    "                # If the file is a Kongsberg file, add its full path to the list of files\n",
    "                filepath = os.path.join(root, filename)\n",
    "                files.append(filepath)\n",
    "\n",
    "\n",
    "# -- load index files (if they exist) --\n",
    "cached_index = index_functions.load_index_files(file_paths=files)\n",
    "\n",
    "\n",
    "# -- initialize FileEM3000 --\n",
    "fm = em3000.FileEM3000_mapped(files, cached_index=cached_index)\n",
    "\n",
    "\n",
    "# -- save index files to disk --\n",
    "index_functions.update_index_files(fm.get_cached_file_index())\n",
    "\n",
    "\n",
    "# -- split pings into containers depending on the time aspect --\n",
    "ping_containers = fm.pings().get_sorted_by_time().split_by_time_diff(15 * 60)\n",
    "\n",
    "\n",
    "# -- get navigation data for each ping in each container --\n",
    "print()\n",
    "total = np.sum([len(p) for p in ping_containers])\n",
    "prg = tqdm(total=total, desc=\"Get navigation from pings\")\n",
    "nav_locations = defaultdict(list)\n",
    "lat = [] # this list is created to get a median location for the map\n",
    "lon = [] # this list is created to get a median location for the map\n",
    "for i, pings in enumerate(ping_containers):\n",
    "    prg.set_description(\"Get navigation from ping_container {}\".format(i))\n",
    "    for p in pings:\n",
    "        g = p.get_geolocation()\n",
    "        nav_locations[i].append([g.latitude,g.longitude])\n",
    "        lat.append(g.latitude)\n",
    "        lon.append(g.longitude)\n",
    "        prg.update(1)\n",
    "\n",
    "\n",
    "# -- create an interactive  map for the navigation data --\n",
    "# Create a colormap for the different surveys\n",
    "cmap = colormaps.get_cmap(\"tab20\")\n",
    "\n",
    "# Create a map\n",
    "m = Map(\n",
    "    basemap=basemap_to_tiles(basemaps.Esri.NatGeoWorldMap),  # Set the basemap to Esri NatGeoWorldMap\n",
    "    center=(np.nanmedian(lat), np.nanmedian(lon)),  # Set the center of the map to the median latitude and longitude of the navigation data\n",
    "    layout=Layout(width='80%', height='600px'),  # Set the layout of the map\n",
    "    zoom=9,  # Set the zoom level of the map\n",
    "    crs=projections.EPSG3857  # Set the coordinate reference system of the map\n",
    ")\n",
    "\n",
    "# For each survey create an AntPath\n",
    "for k,n in nav_locations.items():\n",
    "\n",
    "    # Create an AntPath object with the navigation data and a color based on the survey indexping related\n",
    "    ant_path = AntPath(\n",
    "        locations=n,\n",
    "        color=colors.to_hex(cmap(k))\n",
    "    )\n",
    "\n",
    "    # Add the AntPath to the map\n",
    "    m.add(ant_path)\n",
    "\n",
    "    # Create a marker for the first location of the survey\n",
    "    icon = AwesomeIcon(\n",
    "        name='ship',\n",
    "        marker_color=\"white\",\n",
    "        icon_color=colors.to_hex(cmap(k)),\n",
    "        #spin=True\n",
    "        )\n",
    "    marker = Marker(\n",
    "        location = n[0],\n",
    "        icon=icon,\n",
    "        title=str(k)\n",
    "    )\n",
    "    message = HTML()\n",
    "    message.value = str(k)\n",
    "    marker.popup = message\n",
    "\n",
    "    # Add the marker to the mapbackground_map_path\n",
    "    m.add(marker)\n",
    "\n",
    "\n",
    "# -- add a background map to the existing map --\n",
    "background_map_path = \"/home/ssd/src/themachinethatgoesping/tutorials/test_data/map/210412_BELGIUM_BCP_DTM_20m_LAT.tiff\"\n",
    "\n",
    "if background_map_path:\n",
    "    if os.path.exists(background_map_path):\n",
    "        # Import necessary libraries\n",
    "        from localtileserver import get_leaflet_tile_layer, TileClient\n",
    "\n",
    "        # Create a TileClient object with the geotiff file path\n",
    "        client = TileClient(background_map_path)\n",
    "\n",
    "        # Get a leaflet tile layer from the TileClient object\n",
    "        t = get_leaflet_tile_layer(client, band=1, cmap=\"YlGnBu_r\")\n",
    "\n",
    "        # Add the leaflet tile layer to the map\n",
    "        m.add_layer(t)\n",
    "    else:\n",
    "        # Print a warning message in orange color\n",
    "        warning_message = \"The specified background map ({}) path does not exist. Please edit 'background_map_path'\".format(background_map_path)\n",
    "        warnings.warn(\"\\033[33m{}\\033[0m\".format(warning_message), UserWarning)\n",
    "\n",
    "\n",
    "#-- Display the map --\n",
    "m\n"
   ]
  },
  {
   "cell_type": "code",
   "execution_count": 17,
   "metadata": {},
   "outputs": [],
   "source": [
    "# Notice how the majority of the above code is not related to ping, \n",
    "# but to opening files and creating a nice a beautiful map using ipyleaflet."
   ]
  },
  {
   "cell_type": "code",
   "execution_count": null,
   "metadata": {},
   "outputs": [],
   "source": []
  }
 ],
 "metadata": {
  "kernelspec": {
   "display_name": "Python 3 (ipykernel)",
   "language": "python",
   "name": "python3"
  },
  "language_info": {
   "codemirror_mode": {
    "name": "ipython",
    "version": 3
   },
   "file_extension": ".py",
   "mimetype": "text/x-python",
   "name": "python",
   "nbconvert_exporter": "python",
   "pygments_lexer": "ipython3",
   "version": "3.11.6"
  }
 },
 "nbformat": 4,
 "nbformat_minor": 4
}
