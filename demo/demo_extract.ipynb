{
 "cells": [
  {
   "cell_type": "code",
   "execution_count": null,
   "id": "71eb1c0f-85d2-439b-a8c3-0e99aabc9ed1",
   "metadata": {},
   "outputs": [],
   "source": [
    "# Disclaimer: I always refer to themachinethatgoesping as 'Ping' in my comments\n",
    "\n",
    "from matplotlib import pyplot as plt\n",
    "import numpy as np\n",
    "\n",
    "# progressbars (sorry I love this one)\n",
    "from tqdm.auto import tqdm\n",
    "\n",
    "# this has the kongsberg all filehandler\n",
    "from themachinethatgoesping.echosounders import kongsbergall\n",
    "\n",
    "# ping filtering\n",
    "from themachinethatgoesping.echosounders import pingtools\n",
    "\n",
    "# this contains a function extract the water column image to a depth/x in meters\n",
    "import themachinethatgoesping.pingprocessing as pingprocessing\n",
    "\n"
   ]
  },
  {
   "cell_type": "code",
   "execution_count": null,
   "id": "4106ebe2-0aa7-4bbf-9b24-afc941c24969",
   "metadata": {},
   "outputs": [],
   "source": [
    "import themachinethatgoesping\n",
    "print (themachinethatgoesping.version())"
   ]
  },
  {
   "cell_type": "code",
   "execution_count": null,
   "id": "445ff821-5203-4944-8c43-d1a0fbf5e1f0",
   "metadata": {},
   "outputs": [],
   "source": [
    "file = '../unittest_data/kongsberg/g/-7041029013895133878.wcd'"
   ]
  },
  {
   "cell_type": "code",
   "execution_count": null,
   "id": "a7669015-420e-4492-9c8b-327469c8ba28",
   "metadata": {},
   "outputs": [],
   "source": [
    "# create the filehandler, this will open the filestream, index the file and initialze the ping interface\n",
    "# Note (1):If your file is big this can take some seconds and you may want to use Ping's the caching mechanism\n",
    "# In this case: ask me about file caching\n",
    "# Note (2): The filehandler can also handle a whole list of files, the get_pings() function will then give you all pings of all files (as if it would be a single filestream)\n",
    "# If you don't want this function to be verbose set 'show_progress' to False\n",
    "filehandler = kongsbergall.KongsbergAllFileHandler(file, show_progress=True)"
   ]
  },
  {
   "cell_type": "code",
   "execution_count": null,
   "id": "bbe57b2c-b5b8-48c5-9ccf-f1c5199c0473",
   "metadata": {},
   "outputs": [],
   "source": [
    "#extract all pings as a list\n",
    "#Note: a pingobject does not contain much data (only auxiliary information)\n",
    "# You can thus copy\n",
    "# The image is read from the file, the moment you call watercolumn.get_amplitudes or watercolumn.get_av \n",
    "# pings are random access\n",
    "pings = filehandler.get_pings()\n",
    "\n",
    "print('Number of pings found in file:', len(pings))\n",
    "\n",
    "pings_with_watercolumn = pingprocessing.filter_pings.by_features(pings, ['watercolumn.av'])\n",
    "print('Number of pings found in file with watercolumn data:', len(pings_with_watercolumn))\n",
    "\n",
    "images_beam_sample = []\n",
    "images_depths_y = []\n",
    "\n",
    "#use slicing to loop over the first 10 pings\n",
    "# You could also do something like pings_with_watercolumn[::2] to loop over every 2nd image etc\n",
    "for ping in tqdm(pings_with_watercolumn[:10], 'Reading pings'):\n",
    "    #check if the ping has watercolumn amplitude data\n",
    "    if ping.has_watercolumn():\n",
    "        # extract the watercolumn image as numpy array in beam/sample view\n",
    "        # watercolumn related functions are in the namespace 'watercolumn'\n",
    "        images_beam_sample.append(ping.watercolumn.get_av())\n",
    "\n",
    "        # use pingprocessing to retreive an image in depth_x view, \n",
    "        # Note(0) this function is currently a bit slow, i'll look into its performance in the future\n",
    "        # Note(1) this will use additional information about the ping, such as ping.get_geolocation().z and ping.watercolumn.get_beam_crosstrack_angles()\n",
    "        # Note(2) currently no raytracing, this will be fixed soon\n",
    "        # Note(3) sorry about the 'from_bottom_xyz=False' your function will fail if you set it to true, will be fixed soon\n",
    "        # Note(4) I know I am currently using too many namespaces for my functions :-D\n",
    "        # Note(5) horizontal_res sets the resolution of your image in pixels, \n",
    "        #         this function uses backwards mappig so you need to specify the size of your image in pixels\n",
    "        #         lower pixel count = faster\n",
    "        #         the vertical resolution will be determined automatically\n",
    "        # Note (6): the function returns the image (a numpy array) and the extent\n",
    "        #           If you feed the extent into matplotlib it will be able to transform pixels to meters\n",
    "        image, extent = pingprocessing.watercolumn.image.make_wci(ping, horizontal_pixels=1024)\n",
    "        images_depths_y.append((image,extent))\n",
    "        \n",
    "\n"
   ]
  },
  {
   "cell_type": "code",
   "execution_count": null,
   "id": "b170d27d-9af4-4479-995a-5fc41afb1bbe",
   "metadata": {},
   "outputs": [],
   "source": [
    "# t\n",
    "print(f'Info about first beam_sample images: type({type(images_beam_sample[0])}), shape ({images_beam_sample[0].shape})')\n",
    "# to plot the first image\n",
    "# plt.imshow(image_beam_sample[0].transpose())"
   ]
  },
  {
   "cell_type": "code",
   "execution_count": null,
   "id": "e5f73010-fd1b-4e6d-84c6-2c55f6de6242",
   "metadata": {},
   "outputs": [],
   "source": [
    "\n",
    "print(f'Info about first images_depths_y images: type({type(images_depths_y[0])})')\n",
    "print(f'Info about first images_depths_y images: type({type(images_depths_y[0][0])}), type({type(images_depths_y[0][1])})')\n",
    "# to plot the first image\n",
    "# image,extent = images_depths_y[0]\n",
    "# plt.imshow(image.transpose(), extent=extent)"
   ]
  },
  {
   "cell_type": "code",
   "execution_count": null,
   "id": "b3af3cf9-9168-4f5f-a31b-4d5e062d53dc",
   "metadata": {},
   "outputs": [],
   "source": [
    "vmin = np.nan\n",
    "vmax = np.nan\n",
    "for image,extent in tqdm(images_depths_y, 'Get image statistics'):\n",
    "    vmin = np.nanmin([vmin,np.nanquantile(image,0.02)])\n",
    "    vmax = np.nanmax([vmax,np.nanquantile(image,0.95)])\n",
    "\n",
    "print(f'vmin {vmin}, vmax {vmax}')\n",
    "    \n",
    "for i,(image,extent) in enumerate(tqdm(images_depths_y, 'Creating images')):\n",
    "    plt.close('Watercolumn image')\n",
    "    fig = plt.figure('Watercolumn image')\n",
    "    ax  = fig.subplots()\n",
    "    mapable = ax.imshow(image.transpose(), extent=extent, cmap='YlGnBu_r', aspect='equal', vmin=vmin, vmax=vmax)\n",
    "    ax.set_ylabel('depth (meter)')\n",
    "    ax.set_xlabel('y (meter')\n",
    "    fig.colorbar(mapable, shrink=0.25, label = 'Av (dB)')\n",
    "    fig.set_tight_layout(True)\n",
    "    #fig.savefig(f'watercolumnimage-{i}.jpg')"
   ]
  },
  {
   "cell_type": "code",
   "execution_count": null,
   "id": "e21fca28-72a1-4097-9e68-6e5b6f7ccaa4",
   "metadata": {},
   "outputs": [],
   "source": []
  }
 ],
 "metadata": {
  "kernelspec": {
   "display_name": "Python 3 (ipykernel)",
   "language": "python",
   "name": "python3"
  },
  "language_info": {
   "codemirror_mode": {
    "name": "ipython",
    "version": 3
   },
   "file_extension": ".py",
   "mimetype": "text/x-python",
   "name": "python",
   "nbconvert_exporter": "python",
   "pygments_lexer": "ipython3",
   "version": "3.12.3"
  },
  "widgets": {
   "application/vnd.jupyter.widget-state+json": {
    "state": {
     "016f99ba93904ca985b69777de0de97d": {
      "model_module": "@jupyter-widgets/base",
      "model_module_version": "2.0.0",
      "model_name": "LayoutModel",
      "state": {}
     },
     "01e80d36786442bb805b421b4e92daee": {
      "model_module": "@jupyter-widgets/controls",
      "model_module_version": "2.0.0",
      "model_name": "HTMLModel",
      "state": {
       "layout": "IPY_MODEL_de88ebb55149486583a4a4dc78ee4d00",
       "style": "IPY_MODEL_a2dae758706946e395d2a25ca13addf9",
       "value": "Get image statistics: 100%"
      }
     },
     "096501ae039842ef92c39292ac29daf7": {
      "model_module": "@jupyter-widgets/controls",
      "model_module_version": "2.0.0",
      "model_name": "HTMLModel",
      "state": {
       "layout": "IPY_MODEL_5e59cdf28ff04e01b1e8bcedc36634c0",
       "style": "IPY_MODEL_58f0085c59314d75a3ca6b6c8688806e",
       "value": "Creating images: 100%"
      }
     },
     "0e63f79441084e3fb09574d599ff73de": {
      "model_module": "@jupyter-widgets/controls",
      "model_module_version": "2.0.0",
      "model_name": "FloatProgressModel",
      "state": {
       "bar_style": "danger",
       "layout": "IPY_MODEL_3d5e6e5ebbc741edbcd2e1f55926cd5f",
       "max": 10,
       "style": "IPY_MODEL_3700014f8f6041bbbca6bc6ec265a5c2"
      }
     },
     "0f446558634d4f07addc66640a4e5af2": {
      "model_module": "@jupyter-widgets/base",
      "model_module_version": "2.0.0",
      "model_name": "LayoutModel",
      "state": {}
     },
     "11544c5f804f4816b5453798a077b9bd": {
      "model_module": "@jupyter-widgets/controls",
      "model_module_version": "2.0.0",
      "model_name": "HTMLStyleModel",
      "state": {
       "description_width": "",
       "font_size": null,
       "text_color": null
      }
     },
     "161b810de9e3451b8ac42154363283c8": {
      "model_module": "@jupyter-widgets/controls",
      "model_module_version": "2.0.0",
      "model_name": "HBoxModel",
      "state": {
       "children": [
        "IPY_MODEL_de1e8db009d240179fbf9bfa7383704a",
        "IPY_MODEL_8778fe0bfff1477a8c433d68b3833727",
        "IPY_MODEL_b4250ef47b184a85b90f6e4c4ae1ad47"
       ],
       "layout": "IPY_MODEL_7d175732d9834cad9b3a8af27c567d04"
      }
     },
     "19900bb914ab49a18b9ba6d295e5043e": {
      "model_module": "@jupyter-widgets/controls",
      "model_module_version": "2.0.0",
      "model_name": "HTMLStyleModel",
      "state": {
       "description_width": "",
       "font_size": null,
       "text_color": null
      }
     },
     "1b2c7c14399e49ebb9dae30691b8ef72": {
      "model_module": "@jupyter-widgets/controls",
      "model_module_version": "2.0.0",
      "model_name": "FloatProgressModel",
      "state": {
       "bar_style": "success",
       "layout": "IPY_MODEL_42d2c31aef8548bfb3768b245d93b6de",
       "max": 10,
       "style": "IPY_MODEL_d753319bc0da4c8b8913a9e4ca89bb4e",
       "value": 10
      }
     },
     "1eeb9c0cde2d4473b15ada48adfd48ff": {
      "model_module": "@jupyter-widgets/base",
      "model_module_version": "2.0.0",
      "model_name": "LayoutModel",
      "state": {}
     },
     "25b30ef9d184471fa89fc0d6e157e638": {
      "model_module": "@jupyter-widgets/controls",
      "model_module_version": "2.0.0",
      "model_name": "HBoxModel",
      "state": {
       "children": [
        "IPY_MODEL_45f36f3f46d740ffa740f5c5b34c7343",
        "IPY_MODEL_833ab167869c4acc8caf2c79af5ec621",
        "IPY_MODEL_824bf403145d4dae9870e3fdf4b42d9b"
       ],
       "layout": "IPY_MODEL_35fac727423448928ced585149d7452a"
      }
     },
     "2d5379cf2bfe4fea8198b856df05b4f1": {
      "model_module": "@jupyter-widgets/controls",
      "model_module_version": "2.0.0",
      "model_name": "HTMLStyleModel",
      "state": {
       "description_width": "",
       "font_size": null,
       "text_color": null
      }
     },
     "35fac727423448928ced585149d7452a": {
      "model_module": "@jupyter-widgets/base",
      "model_module_version": "2.0.0",
      "model_name": "LayoutModel",
      "state": {}
     },
     "3700014f8f6041bbbca6bc6ec265a5c2": {
      "model_module": "@jupyter-widgets/controls",
      "model_module_version": "2.0.0",
      "model_name": "ProgressStyleModel",
      "state": {
       "description_width": ""
      }
     },
     "37bf7a41287c4cd6af7df01421308a72": {
      "model_module": "@jupyter-widgets/controls",
      "model_module_version": "2.0.0",
      "model_name": "HTMLModel",
      "state": {
       "layout": "IPY_MODEL_3a97f3397f8945298db4318d5d741953",
       "style": "IPY_MODEL_6efff463ade24112ba9cdade11f56997",
       "value": " 10/10 [00:00&lt;00:00, 266.26it/s]"
      }
     },
     "3a97f3397f8945298db4318d5d741953": {
      "model_module": "@jupyter-widgets/base",
      "model_module_version": "2.0.0",
      "model_name": "LayoutModel",
      "state": {}
     },
     "3d5e6e5ebbc741edbcd2e1f55926cd5f": {
      "model_module": "@jupyter-widgets/base",
      "model_module_version": "2.0.0",
      "model_name": "LayoutModel",
      "state": {}
     },
     "3ebd2cddd20d4c729235cac462562509": {
      "model_module": "@jupyter-widgets/controls",
      "model_module_version": "2.0.0",
      "model_name": "FloatProgressModel",
      "state": {
       "bar_style": "success",
       "layout": "IPY_MODEL_dcd922f459744c3a8f52d4385ecf30db",
       "max": 10,
       "style": "IPY_MODEL_c815ea34124a488498a063ebe1dbd3c9",
       "value": 10
      }
     },
     "42d2c31aef8548bfb3768b245d93b6de": {
      "model_module": "@jupyter-widgets/base",
      "model_module_version": "2.0.0",
      "model_name": "LayoutModel",
      "state": {}
     },
     "45f36f3f46d740ffa740f5c5b34c7343": {
      "model_module": "@jupyter-widgets/controls",
      "model_module_version": "2.0.0",
      "model_name": "HTMLModel",
      "state": {
       "layout": "IPY_MODEL_a20c5af53dcd4339af5aeace113f5b6b",
       "style": "IPY_MODEL_9af6e7d83c884ee69621a6760978530a",
       "value": "Reading pings:   0%"
      }
     },
     "4c24c2273eb44ddc893880a5bbb90cbf": {
      "model_module": "@jupyter-widgets/controls",
      "model_module_version": "2.0.0",
      "model_name": "HTMLModel",
      "state": {
       "layout": "IPY_MODEL_ebb990f1d1754acf8f29d48a0c9ec7f1",
       "style": "IPY_MODEL_542e3e55cfc1434e9323c14a8d2164db",
       "value": " 10/10 [00:00&lt;00:00, 77.02it/s]"
      }
     },
     "4c5140e91e4f42e7a810b2261c2e5aa5": {
      "model_module": "@jupyter-widgets/controls",
      "model_module_version": "2.0.0",
      "model_name": "HTMLStyleModel",
      "state": {
       "description_width": "",
       "font_size": null,
       "text_color": null
      }
     },
     "51606da7c24f45fab8253ef266a53ede": {
      "model_module": "@jupyter-widgets/controls",
      "model_module_version": "2.0.0",
      "model_name": "HBoxModel",
      "state": {
       "children": [
        "IPY_MODEL_096501ae039842ef92c39292ac29daf7",
        "IPY_MODEL_1b2c7c14399e49ebb9dae30691b8ef72",
        "IPY_MODEL_51bd9c01bd2b4f1f88a4e35d10dee9c9"
       ],
       "layout": "IPY_MODEL_016f99ba93904ca985b69777de0de97d"
      }
     },
     "51bd9c01bd2b4f1f88a4e35d10dee9c9": {
      "model_module": "@jupyter-widgets/controls",
      "model_module_version": "2.0.0",
      "model_name": "HTMLModel",
      "state": {
       "layout": "IPY_MODEL_c370fdfe490a4558bf5094d1bd3947eb",
       "style": "IPY_MODEL_19900bb914ab49a18b9ba6d295e5043e",
       "value": " 10/10 [00:00&lt;00:00, 12.76it/s]"
      }
     },
     "542e3e55cfc1434e9323c14a8d2164db": {
      "model_module": "@jupyter-widgets/controls",
      "model_module_version": "2.0.0",
      "model_name": "HTMLStyleModel",
      "state": {
       "description_width": "",
       "font_size": null,
       "text_color": null
      }
     },
     "55d9d1be4ac94489a5bda22d2b4f3334": {
      "model_module": "@jupyter-widgets/base",
      "model_module_version": "2.0.0",
      "model_name": "LayoutModel",
      "state": {}
     },
     "578c0b9cb4b94af086c93988881eece8": {
      "model_module": "@jupyter-widgets/base",
      "model_module_version": "2.0.0",
      "model_name": "LayoutModel",
      "state": {}
     },
     "58f0085c59314d75a3ca6b6c8688806e": {
      "model_module": "@jupyter-widgets/controls",
      "model_module_version": "2.0.0",
      "model_name": "HTMLStyleModel",
      "state": {
       "description_width": "",
       "font_size": null,
       "text_color": null
      }
     },
     "5e59cdf28ff04e01b1e8bcedc36634c0": {
      "model_module": "@jupyter-widgets/base",
      "model_module_version": "2.0.0",
      "model_name": "LayoutModel",
      "state": {}
     },
     "6cfd9dd585d74acb9facdd0ddb80eded": {
      "model_module": "@jupyter-widgets/controls",
      "model_module_version": "2.0.0",
      "model_name": "HTMLStyleModel",
      "state": {
       "description_width": "",
       "font_size": null,
       "text_color": null
      }
     },
     "6efff463ade24112ba9cdade11f56997": {
      "model_module": "@jupyter-widgets/controls",
      "model_module_version": "2.0.0",
      "model_name": "HTMLStyleModel",
      "state": {
       "description_width": "",
       "font_size": null,
       "text_color": null
      }
     },
     "7b374935c83f42ea932807bbf517489b": {
      "model_module": "@jupyter-widgets/base",
      "model_module_version": "2.0.0",
      "model_name": "LayoutModel",
      "state": {}
     },
     "7d175732d9834cad9b3a8af27c567d04": {
      "model_module": "@jupyter-widgets/base",
      "model_module_version": "2.0.0",
      "model_name": "LayoutModel",
      "state": {}
     },
     "804137c98f324795ba14cb849b1b4be5": {
      "model_module": "@jupyter-widgets/controls",
      "model_module_version": "2.0.0",
      "model_name": "HTMLModel",
      "state": {
       "layout": "IPY_MODEL_9b273cc84ede4d0c8c96f9de278f264b",
       "style": "IPY_MODEL_2d5379cf2bfe4fea8198b856df05b4f1",
       "value": "Reading pings: 100%"
      }
     },
     "81f2fd0b88d4438a9b81527b6509045c": {
      "model_module": "@jupyter-widgets/base",
      "model_module_version": "2.0.0",
      "model_name": "LayoutModel",
      "state": {}
     },
     "824bf403145d4dae9870e3fdf4b42d9b": {
      "model_module": "@jupyter-widgets/controls",
      "model_module_version": "2.0.0",
      "model_name": "HTMLModel",
      "state": {
       "layout": "IPY_MODEL_0f446558634d4f07addc66640a4e5af2",
       "style": "IPY_MODEL_11544c5f804f4816b5453798a077b9bd",
       "value": " 0/10 [00:00&lt;?, ?it/s]"
      }
     },
     "833ab167869c4acc8caf2c79af5ec621": {
      "model_module": "@jupyter-widgets/controls",
      "model_module_version": "2.0.0",
      "model_name": "FloatProgressModel",
      "state": {
       "bar_style": "danger",
       "layout": "IPY_MODEL_d85851d1562c40feb0ba61c80f3fb7e6",
       "max": 10,
       "style": "IPY_MODEL_fef0deb537484080874c1ec9c67eaaab"
      }
     },
     "8638e7170c654e9ebbe85420335ed126": {
      "model_module": "@jupyter-widgets/controls",
      "model_module_version": "2.0.0",
      "model_name": "HTMLStyleModel",
      "state": {
       "description_width": "",
       "font_size": null,
       "text_color": null
      }
     },
     "8746c3c16c6744d595b6668d7b695e9d": {
      "model_module": "@jupyter-widgets/controls",
      "model_module_version": "2.0.0",
      "model_name": "HTMLModel",
      "state": {
       "layout": "IPY_MODEL_aa3a6913c9e940f1bf8f7208ea26a044",
       "style": "IPY_MODEL_eb653610ff74486680cbb4cf9eec6c6a",
       "value": " 0/10 [00:00&lt;?, ?it/s]"
      }
     },
     "8778fe0bfff1477a8c433d68b3833727": {
      "model_module": "@jupyter-widgets/controls",
      "model_module_version": "2.0.0",
      "model_name": "FloatProgressModel",
      "state": {
       "bar_style": "success",
       "layout": "IPY_MODEL_98d7a65fa0d74ddd9fd35352eacd8505",
       "max": 10,
       "style": "IPY_MODEL_e2cb496049dd4e90bf7e2f8f3a004d44",
       "value": 10
      }
     },
     "98d7a65fa0d74ddd9fd35352eacd8505": {
      "model_module": "@jupyter-widgets/base",
      "model_module_version": "2.0.0",
      "model_name": "LayoutModel",
      "state": {}
     },
     "9af6e7d83c884ee69621a6760978530a": {
      "model_module": "@jupyter-widgets/controls",
      "model_module_version": "2.0.0",
      "model_name": "HTMLStyleModel",
      "state": {
       "description_width": "",
       "font_size": null,
       "text_color": null
      }
     },
     "9b273cc84ede4d0c8c96f9de278f264b": {
      "model_module": "@jupyter-widgets/base",
      "model_module_version": "2.0.0",
      "model_name": "LayoutModel",
      "state": {}
     },
     "a17c3a613697464d8a2c706a733ee5a3": {
      "model_module": "@jupyter-widgets/base",
      "model_module_version": "2.0.0",
      "model_name": "LayoutModel",
      "state": {}
     },
     "a20c5af53dcd4339af5aeace113f5b6b": {
      "model_module": "@jupyter-widgets/base",
      "model_module_version": "2.0.0",
      "model_name": "LayoutModel",
      "state": {}
     },
     "a2dae758706946e395d2a25ca13addf9": {
      "model_module": "@jupyter-widgets/controls",
      "model_module_version": "2.0.0",
      "model_name": "HTMLStyleModel",
      "state": {
       "description_width": "",
       "font_size": null,
       "text_color": null
      }
     },
     "aa3a6913c9e940f1bf8f7208ea26a044": {
      "model_module": "@jupyter-widgets/base",
      "model_module_version": "2.0.0",
      "model_name": "LayoutModel",
      "state": {}
     },
     "b4250ef47b184a85b90f6e4c4ae1ad47": {
      "model_module": "@jupyter-widgets/controls",
      "model_module_version": "2.0.0",
      "model_name": "HTMLModel",
      "state": {
       "layout": "IPY_MODEL_1eeb9c0cde2d4473b15ada48adfd48ff",
       "style": "IPY_MODEL_8638e7170c654e9ebbe85420335ed126",
       "value": " 10/10 [00:00&lt;00:00, 84.42it/s]"
      }
     },
     "bbc1ef4b43514a5580a43c71d569ac4e": {
      "model_module": "@jupyter-widgets/controls",
      "model_module_version": "2.0.0",
      "model_name": "HBoxModel",
      "state": {
       "children": [
        "IPY_MODEL_804137c98f324795ba14cb849b1b4be5",
        "IPY_MODEL_3ebd2cddd20d4c729235cac462562509",
        "IPY_MODEL_4c24c2273eb44ddc893880a5bbb90cbf"
       ],
       "layout": "IPY_MODEL_a17c3a613697464d8a2c706a733ee5a3"
      }
     },
     "c370fdfe490a4558bf5094d1bd3947eb": {
      "model_module": "@jupyter-widgets/base",
      "model_module_version": "2.0.0",
      "model_name": "LayoutModel",
      "state": {}
     },
     "c815ea34124a488498a063ebe1dbd3c9": {
      "model_module": "@jupyter-widgets/controls",
      "model_module_version": "2.0.0",
      "model_name": "ProgressStyleModel",
      "state": {
       "description_width": ""
      }
     },
     "cc808a9611e64b039fc16ce423a6cefe": {
      "model_module": "@jupyter-widgets/controls",
      "model_module_version": "2.0.0",
      "model_name": "HTMLModel",
      "state": {
       "layout": "IPY_MODEL_55d9d1be4ac94489a5bda22d2b4f3334",
       "style": "IPY_MODEL_6cfd9dd585d74acb9facdd0ddb80eded",
       "value": "Reading pings:   0%"
      }
     },
     "d10a0549391c40179d3d55c0b43fd55b": {
      "model_module": "@jupyter-widgets/controls",
      "model_module_version": "2.0.0",
      "model_name": "HBoxModel",
      "state": {
       "children": [
        "IPY_MODEL_01e80d36786442bb805b421b4e92daee",
        "IPY_MODEL_e703075676bb4e709f3282414ef78ecf",
        "IPY_MODEL_37bf7a41287c4cd6af7df01421308a72"
       ],
       "layout": "IPY_MODEL_578c0b9cb4b94af086c93988881eece8"
      }
     },
     "d753319bc0da4c8b8913a9e4ca89bb4e": {
      "model_module": "@jupyter-widgets/controls",
      "model_module_version": "2.0.0",
      "model_name": "ProgressStyleModel",
      "state": {
       "description_width": ""
      }
     },
     "d8540bd913a64e1081efb096a5d2d1ec": {
      "model_module": "@jupyter-widgets/base",
      "model_module_version": "2.0.0",
      "model_name": "LayoutModel",
      "state": {}
     },
     "d85851d1562c40feb0ba61c80f3fb7e6": {
      "model_module": "@jupyter-widgets/base",
      "model_module_version": "2.0.0",
      "model_name": "LayoutModel",
      "state": {}
     },
     "dcd922f459744c3a8f52d4385ecf30db": {
      "model_module": "@jupyter-widgets/base",
      "model_module_version": "2.0.0",
      "model_name": "LayoutModel",
      "state": {}
     },
     "de1e8db009d240179fbf9bfa7383704a": {
      "model_module": "@jupyter-widgets/controls",
      "model_module_version": "2.0.0",
      "model_name": "HTMLModel",
      "state": {
       "layout": "IPY_MODEL_81f2fd0b88d4438a9b81527b6509045c",
       "style": "IPY_MODEL_4c5140e91e4f42e7a810b2261c2e5aa5",
       "value": "Reading pings: 100%"
      }
     },
     "de88ebb55149486583a4a4dc78ee4d00": {
      "model_module": "@jupyter-widgets/base",
      "model_module_version": "2.0.0",
      "model_name": "LayoutModel",
      "state": {}
     },
     "e2c38c1cddf44b8d86193a0a3d386e1e": {
      "model_module": "@jupyter-widgets/controls",
      "model_module_version": "2.0.0",
      "model_name": "HBoxModel",
      "state": {
       "children": [
        "IPY_MODEL_cc808a9611e64b039fc16ce423a6cefe",
        "IPY_MODEL_0e63f79441084e3fb09574d599ff73de",
        "IPY_MODEL_8746c3c16c6744d595b6668d7b695e9d"
       ],
       "layout": "IPY_MODEL_7b374935c83f42ea932807bbf517489b"
      }
     },
     "e2cb496049dd4e90bf7e2f8f3a004d44": {
      "model_module": "@jupyter-widgets/controls",
      "model_module_version": "2.0.0",
      "model_name": "ProgressStyleModel",
      "state": {
       "description_width": ""
      }
     },
     "e4cb7d0f12d54a63be67a4447209e47b": {
      "model_module": "@jupyter-widgets/controls",
      "model_module_version": "2.0.0",
      "model_name": "ProgressStyleModel",
      "state": {
       "description_width": ""
      }
     },
     "e703075676bb4e709f3282414ef78ecf": {
      "model_module": "@jupyter-widgets/controls",
      "model_module_version": "2.0.0",
      "model_name": "FloatProgressModel",
      "state": {
       "bar_style": "success",
       "layout": "IPY_MODEL_d8540bd913a64e1081efb096a5d2d1ec",
       "max": 10,
       "style": "IPY_MODEL_e4cb7d0f12d54a63be67a4447209e47b",
       "value": 10
      }
     },
     "eb653610ff74486680cbb4cf9eec6c6a": {
      "model_module": "@jupyter-widgets/controls",
      "model_module_version": "2.0.0",
      "model_name": "HTMLStyleModel",
      "state": {
       "description_width": "",
       "font_size": null,
       "text_color": null
      }
     },
     "ebb990f1d1754acf8f29d48a0c9ec7f1": {
      "model_module": "@jupyter-widgets/base",
      "model_module_version": "2.0.0",
      "model_name": "LayoutModel",
      "state": {}
     },
     "fef0deb537484080874c1ec9c67eaaab": {
      "model_module": "@jupyter-widgets/controls",
      "model_module_version": "2.0.0",
      "model_name": "ProgressStyleModel",
      "state": {
       "description_width": ""
      }
     }
    },
    "version_major": 2,
    "version_minor": 0
   }
  }
 },
 "nbformat": 4,
 "nbformat_minor": 5
}
