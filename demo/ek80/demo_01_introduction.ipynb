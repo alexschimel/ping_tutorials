{
 "cells": [
  {
   "cell_type": "markdown",
   "metadata": {},
   "source": [
    "### `themachinethatgoesping` tutorial series\n",
    "# Tutorial 1: Introduction (Using simrad EK80 .raw files)\n",
    "\n",
    "In this tutorial, we use `themachinethatgoesping` to access the coordinates (latitude/longitude) of all pings in a given dataset. \n",
    "\n",
    "This short sequence illustrates a few core objects of the `themachinethatgoesping`, and how to use them to load and access data.\n",
    "\n",
    "`themachinethatgoesping` concepts covered:\n",
    "- data loading\n",
    "- file caching\n",
    "- \"File Handler\" object\n",
    "- \"Ping Container\" object\n",
    "- \"Ping\" object\n",
    "- \"Ping Location\" object\n"
   ]
  },
  {
   "cell_type": "markdown",
   "metadata": {},
   "source": [
    "## Summary"
   ]
  },
  {
   "cell_type": "code",
   "execution_count": null,
   "metadata": {},
   "outputs": [],
   "source": [
    "%matplotlib widget\n",
    "import os\n",
    "\n",
    "from matplotlib import pyplot as plt\n",
    "from themachinethatgoesping.echosounders import index_functions\n",
    "from themachinethatgoesping.echosounders import simradraw\n",
    "\n",
    "folders = []\n",
    "folders.append(\"../../unittest_data\")\n",
    "\n",
    "# list raw data files\n",
    "files = index_functions.find_files(folders, [\".raw\"])\n",
    "files.sort()\n",
    "\n",
    "# load files' data\n",
    "cacheFilePaths = index_functions.get_cache_file_paths(file_paths=files)\n",
    "fh = simradraw.SimradRawFileHandler(files[:], file_cache_paths = cacheFilePaths, init = True)\n",
    "\n",
    "# get pings' coordinates\n",
    "lat, lon = [], []\n",
    "for ping in fh.get_pings():\n",
    "    pingLocation = ping.get_geolocation()\n",
    "    lat.append(pingLocation.latitude) \n",
    "    lon.append(pingLocation.longitude)\n",
    "\n",
    "# plot coordinates of all pings in dataset\n",
    "plt.figure()\n",
    "plt.plot(lon, lat, '.')"
   ]
  },
  {
   "cell_type": "code",
   "execution_count": null,
   "metadata": {},
   "outputs": [],
   "source": [
    "\n",
    "fh = simradraw.SimradRawFileHandler(files[:], file_cache_paths = cacheFilePaths, init = False)\n",
    "fh.navigation_interface.init_from_file(cacheFilePaths)\n",
    "#fh.ping_interface.init_from_file(cacheFilePaths)"
   ]
  },
  {
   "cell_type": "markdown",
   "metadata": {},
   "source": [
    "## Step-by-step\n",
    "### 1. List raw data files"
   ]
  },
  {
   "cell_type": "code",
   "execution_count": null,
   "metadata": {},
   "outputs": [],
   "source": [
    "# define a list of folder(s) to search for raw data files\n",
    "# notes: \n",
    "#   - subdirectories will be searched as well\n",
    "#   - you can add multiple folders by appending them to the list\n",
    "#   - pair of files (e.g. .all and .wcd) don't have to be in the same folder\n",
    "folders = []\n",
    "folders.append(\"../../unittest_data\")\n",
    "\n",
    "# find all Kongsberg files in the list of folders\n",
    "from themachinethatgoesping.echosounders import index_functions\n",
    "files = index_functions.find_files(folders, [\".raw\"])"
   ]
  },
  {
   "cell_type": "code",
   "execution_count": null,
   "metadata": {},
   "outputs": [],
   "source": [
    "# show files found\n",
    "print(f\"The output is a {type(files)} object with {len(files)} elements:\")\n",
    "files.sort()\n",
    "for i, file in enumerate(files):\n",
    "    print(f\"({i}/{len(files)}) {file}\")"
   ]
  },
  {
   "cell_type": "markdown",
   "metadata": {},
   "source": [
    "### 2. Load files' data"
   ]
  },
  {
   "cell_type": "code",
   "execution_count": null,
   "metadata": {},
   "outputs": [],
   "source": [
    "# caching files when read the first time allows speeding-up loading next times\n",
    "\n",
    "# each file has a corresponding cache file, by default:\n",
    "cacheFilePaths = index_functions.get_cache_file_paths(file_paths=files)\n",
    "\n",
    "for f, c in cacheFilePaths.items():\n",
    "    print(f\"File: {f}\")\n",
    "    print(f\"    Cache: {c}\")"
   ]
  },
  {
   "cell_type": "code",
   "execution_count": null,
   "metadata": {},
   "outputs": [],
   "source": [
    "# load the data with:\n",
    "from themachinethatgoesping.echosounders import simradraw\n",
    "fh = simradraw.SimradRawFileHandler(files[:], file_cache_paths = cacheFilePaths, init = True)\n",
    "print(\"\\n\")\n",
    "\n",
    "# the output is a \"File Handler\" object. \n",
    "print(f\"A File Handler is a {type(fh)} object.\\n\")\n",
    "\n",
    "# a File Handler manages the entire dataset.\n",
    "\n",
    "# print a summary of the File Handler's contents\n",
    "print(fh)\n",
    "\n",
    "# notes:\n",
    "#   - it is initalized with the list of files\n",
    "#   - the cache file paths are optional but recommended\n",
    "#   - File pairs will be grouped together at this stage"
   ]
  },
  {
   "cell_type": "markdown",
   "metadata": {},
   "source": [
    "### 3. Accessing data"
   ]
  },
  {
   "cell_type": "code",
   "execution_count": null,
   "metadata": {},
   "outputs": [],
   "source": [
    "# the pings data are obtained from the File Handler with:\n",
    "pc = fh.get_pings()\n",
    "\n",
    "# the output is a \"Ping Container\" object\n",
    "print(f\"A Ping Container is a {type(pc)} object.\\n\")\n",
    "\n",
    "# print a summary of the Ping Container's contents\n",
    "print(pc)"
   ]
  },
  {
   "cell_type": "code",
   "execution_count": null,
   "metadata": {},
   "outputs": [],
   "source": [
    "# access pings in a Ping Container by indexing\n",
    "examplePing = pc[42]\n",
    "\n",
    "# the output is a \"Ping\" object\n",
    "print(f\"A Ping is a {type(examplePing)} object.\\n\")\n",
    "\n",
    "# print a summary of the Ping's contents\n",
    "print(examplePing)"
   ]
  },
  {
   "cell_type": "code",
   "execution_count": null,
   "metadata": {},
   "outputs": [],
   "source": [
    "# a Ping has 3 types of information: base, bottom, and water-column.\n",
    "# base information includes location\n",
    "examplePingLocation = examplePing.get_geolocation()\n",
    "\n",
    "# the output is a \"Ping Location\" object\n",
    "print(f\"A Ping Location is a {type(examplePingLocation)} object.\\n\")\n",
    "\n",
    "# print a summary of the Ping Location's contents\n",
    "print(examplePingLocation)"
   ]
  },
  {
   "cell_type": "code",
   "execution_count": null,
   "metadata": {},
   "outputs": [],
   "source": [
    "# get the latitude and longitude of the ping from the Ping Location\n",
    "lat, long = examplePingLocation.latitude, examplePingLocation.longitude\n",
    "print(f\"Example ping location - Latitude: {lat}, Longitude: {long}\")"
   ]
  },
  {
   "cell_type": "code",
   "execution_count": null,
   "metadata": {},
   "outputs": [],
   "source": []
  }
 ],
 "metadata": {
  "kernelspec": {
   "display_name": "Python 3 (ipykernel)",
   "language": "python",
   "name": "python3"
  },
  "language_info": {
   "codemirror_mode": {
    "name": "ipython",
    "version": 3
   },
   "file_extension": ".py",
   "mimetype": "text/x-python",
   "name": "python",
   "nbconvert_exporter": "python",
   "pygments_lexer": "ipython3",
   "version": "3.12.3"
  },
  "widgets": {
   "application/vnd.jupyter.widget-state+json": {
    "state": {
     "0249afe53dcc4d1da6517d38ed2cc950": {
      "model_module": "@jupyter-widgets/controls",
      "model_module_version": "2.0.0",
      "model_name": "ProgressStyleModel",
      "state": {
       "description_width": ""
      }
     },
     "04c2154354264fa3bc41b83f51844ebf": {
      "model_module": "@jupyter-widgets/base",
      "model_module_version": "2.0.0",
      "model_name": "LayoutModel",
      "state": {}
     },
     "0ab91e2874404db5a3cbe81b37aad207": {
      "model_module": "@jupyter-widgets/base",
      "model_module_version": "2.0.0",
      "model_name": "LayoutModel",
      "state": {}
     },
     "0c9d4a86d6bf4c83b01590da77964691": {
      "model_module": "@jupyter-widgets/base",
      "model_module_version": "2.0.0",
      "model_name": "LayoutModel",
      "state": {}
     },
     "0e5a4ad80d954431839ed7e9f20a12db": {
      "model_module": "@jupyter-widgets/controls",
      "model_module_version": "2.0.0",
      "model_name": "HTMLModel",
      "state": {
       "layout": "IPY_MODEL_7ad11a5ec1784e538d39916fec9f440f",
       "style": "IPY_MODEL_d328e2eff21743b49b2997bbcc5a6a6a",
       "value": "removing duplicates: 100%"
      }
     },
     "13e10688aa1e49c48d1276a0b5ae0236": {
      "model_module": "@jupyter-widgets/controls",
      "model_module_version": "2.0.0",
      "model_name": "HBoxModel",
      "state": {
       "children": [
        "IPY_MODEL_ffd7ef084e9947feaf1a5f9b1304127d",
        "IPY_MODEL_55b2822119134b018969c980adee626d",
        "IPY_MODEL_1bc729b89c6f4e34bbd67c7541c8a966"
       ],
       "layout": "IPY_MODEL_0c9d4a86d6bf4c83b01590da77964691"
      }
     },
     "16540e2ec9e149889d3d3dfdcbe8edaa": {
      "model_module": "@jupyter-widgets/base",
      "model_module_version": "2.0.0",
      "model_name": "LayoutModel",
      "state": {}
     },
     "1bc729b89c6f4e34bbd67c7541c8a966": {
      "model_module": "@jupyter-widgets/controls",
      "model_module_version": "2.0.0",
      "model_name": "HTMLModel",
      "state": {
       "layout": "IPY_MODEL_3500224f6d644a209d14dfcc9d067f2d",
       "style": "IPY_MODEL_8d97defe5f8d40158782620e3b1d7ee6",
       "value": " 11/11 [00:00&lt;00:00, 2724.54it/s]"
      }
     },
     "2830427be7f544459fba8f7829ec0b79": {
      "model_module": "jupyter-matplotlib",
      "model_module_version": "^0.11",
      "model_name": "ToolbarModel",
      "state": {
       "_model_module_version": "^0.11",
       "_view_module_version": "^0.11",
       "collapsed": true,
       "layout": "IPY_MODEL_cd183960dec848ff80d001c9a185b3aa",
       "orientation": "vertical",
       "toolitems": [
        [
         "Home",
         "Reset original view",
         "home",
         "home"
        ],
        [
         "Back",
         "Back to previous view",
         "arrow-left",
         "back"
        ],
        [
         "Forward",
         "Forward to next view",
         "arrow-right",
         "forward"
        ],
        [
         "Pan",
         "Left button pans, Right button zooms\nx/y fixes axis, CTRL fixes aspect",
         "arrows",
         "pan"
        ],
        [
         "Zoom",
         "Zoom to rectangle\nx/y fixes axis",
         "square-o",
         "zoom"
        ],
        [
         "Download",
         "Download plot",
         "floppy-o",
         "save_figure"
        ]
       ]
      }
     },
     "2856af262dad4a6f8061362667cf6cc2": {
      "model_module": "@jupyter-widgets/base",
      "model_module_version": "2.0.0",
      "model_name": "LayoutModel",
      "state": {}
     },
     "2c4f37945a1b4f89a3c90eccc9510b11": {
      "model_module": "@jupyter-widgets/controls",
      "model_module_version": "2.0.0",
      "model_name": "ProgressStyleModel",
      "state": {
       "description_width": ""
      }
     },
     "2ce486fc69c34f94845faa764becf123": {
      "model_module": "@jupyter-widgets/base",
      "model_module_version": "2.0.0",
      "model_name": "LayoutModel",
      "state": {}
     },
     "3500224f6d644a209d14dfcc9d067f2d": {
      "model_module": "@jupyter-widgets/base",
      "model_module_version": "2.0.0",
      "model_name": "LayoutModel",
      "state": {}
     },
     "4a2716057cb2444bb4edd61e73e5fe17": {
      "model_module": "@jupyter-widgets/controls",
      "model_module_version": "2.0.0",
      "model_name": "HBoxModel",
      "state": {
       "children": [
        "IPY_MODEL_b439a5586cb24eafbbebbac08c1f60b4",
        "IPY_MODEL_c1924e9252d446d7add95ab83becaa6f",
        "IPY_MODEL_a5098ef404324324ba52195ee741a02e"
       ],
       "layout": "IPY_MODEL_2ce486fc69c34f94845faa764becf123"
      }
     },
     "55b2822119134b018969c980adee626d": {
      "model_module": "@jupyter-widgets/controls",
      "model_module_version": "2.0.0",
      "model_name": "FloatProgressModel",
      "state": {
       "bar_style": "success",
       "layout": "IPY_MODEL_7c375253be14426eb2889400bc00b04e",
       "max": 11,
       "style": "IPY_MODEL_2c4f37945a1b4f89a3c90eccc9510b11",
       "value": 11
      }
     },
     "65ed43e0811b4bb3ba97b52bb467b63a": {
      "model_module": "@jupyter-widgets/base",
      "model_module_version": "2.0.0",
      "model_name": "LayoutModel",
      "state": {}
     },
     "65ee61a44a5c4add9eb3ebfe4b5546df": {
      "model_module": "jupyter-matplotlib",
      "model_module_version": "^0.11",
      "model_name": "MPLCanvasModel",
      "state": {
       "_data_url": "data:image/png;base64,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",
       "_figure_label": "Figure 2",
       "_model_module_version": "^0.11",
       "_size": [
        640,
        479.99999999999994
       ],
       "_view_module_version": "^0.11",
       "layout": "IPY_MODEL_16540e2ec9e149889d3d3dfdcbe8edaa",
       "toolbar": "IPY_MODEL_2830427be7f544459fba8f7829ec0b79",
       "toolbar_position": "left"
      }
     },
     "6818e2a011fc4b7b89a65d1d0d246ce2": {
      "model_module": "@jupyter-widgets/controls",
      "model_module_version": "2.0.0",
      "model_name": "ProgressStyleModel",
      "state": {
       "description_width": ""
      }
     },
     "724f03de1a05414091849a8a1b78d74a": {
      "model_module": "@jupyter-widgets/base",
      "model_module_version": "2.0.0",
      "model_name": "LayoutModel",
      "state": {}
     },
     "7ad11a5ec1784e538d39916fec9f440f": {
      "model_module": "@jupyter-widgets/base",
      "model_module_version": "2.0.0",
      "model_name": "LayoutModel",
      "state": {}
     },
     "7c375253be14426eb2889400bc00b04e": {
      "model_module": "@jupyter-widgets/base",
      "model_module_version": "2.0.0",
      "model_name": "LayoutModel",
      "state": {}
     },
     "84c97ce6c81b4d9a9af4de034fdeb886": {
      "model_module": "jupyter-matplotlib",
      "model_module_version": "^0.11",
      "model_name": "MPLCanvasModel",
      "state": {
       "_data_url": "data:image/png;base64,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",
       "_figure_label": "Figure 1",
       "_model_module_version": "^0.11",
       "_size": [
        640,
        479.99999999999994
       ],
       "_view_module_version": "^0.11",
       "layout": "IPY_MODEL_0ab91e2874404db5a3cbe81b37aad207",
       "toolbar": "IPY_MODEL_fb6b6fcb612d41708874f5763869cd65",
       "toolbar_position": "left"
      }
     },
     "8d97defe5f8d40158782620e3b1d7ee6": {
      "model_module": "@jupyter-widgets/controls",
      "model_module_version": "2.0.0",
      "model_name": "HTMLStyleModel",
      "state": {
       "description_width": "",
       "font_size": null,
       "text_color": null
      }
     },
     "93174de8bf6d4b2f82e755e1a24b563f": {
      "model_module": "@jupyter-widgets/controls",
      "model_module_version": "2.0.0",
      "model_name": "HTMLStyleModel",
      "state": {
       "description_width": "",
       "font_size": null,
       "text_color": null
      }
     },
     "9ab045a326d04c82ba5a46b8ae261db2": {
      "model_module": "@jupyter-widgets/base",
      "model_module_version": "2.0.0",
      "model_name": "LayoutModel",
      "state": {}
     },
     "9ed25850c40e4d5cb1bfd90c598e8469": {
      "model_module": "@jupyter-widgets/controls",
      "model_module_version": "2.0.0",
      "model_name": "HTMLStyleModel",
      "state": {
       "description_width": "",
       "font_size": null,
       "text_color": null
      }
     },
     "9f100bd1a5924a969146a35968850011": {
      "model_module": "@jupyter-widgets/controls",
      "model_module_version": "2.0.0",
      "model_name": "HTMLModel",
      "state": {
       "layout": "IPY_MODEL_04c2154354264fa3bc41b83f51844ebf",
       "style": "IPY_MODEL_d366c9694d0941079cedfa3cff1c8069",
       "value": " 11/11 [00:00&lt;00:00, 3513.08it/s]"
      }
     },
     "a05e899731e54378bef2742b43ed892a": {
      "model_module": "@jupyter-widgets/base",
      "model_module_version": "2.0.0",
      "model_name": "LayoutModel",
      "state": {}
     },
     "a4a17198dc8d4682bfa4e8e1365abc45": {
      "model_module": "@jupyter-widgets/controls",
      "model_module_version": "2.0.0",
      "model_name": "HBoxModel",
      "state": {
       "children": [
        "IPY_MODEL_0e5a4ad80d954431839ed7e9f20a12db",
        "IPY_MODEL_d03c922649ce43c8906309a1c3ff331a",
        "IPY_MODEL_9f100bd1a5924a969146a35968850011"
       ],
       "layout": "IPY_MODEL_9ab045a326d04c82ba5a46b8ae261db2"
      }
     },
     "a5098ef404324324ba52195ee741a02e": {
      "model_module": "@jupyter-widgets/controls",
      "model_module_version": "2.0.0",
      "model_name": "HTMLModel",
      "state": {
       "layout": "IPY_MODEL_eca48bb36d3e44479fd12e8ec3da782d",
       "style": "IPY_MODEL_93174de8bf6d4b2f82e755e1a24b563f",
       "value": " 11/11 [00:00&lt;00:00, 2651.88it/s]"
      }
     },
     "b439a5586cb24eafbbebbac08c1f60b4": {
      "model_module": "@jupyter-widgets/controls",
      "model_module_version": "2.0.0",
      "model_name": "HTMLModel",
      "state": {
       "layout": "IPY_MODEL_df1760cec3a749efa06e983f9936983d",
       "style": "IPY_MODEL_f047ebd6fe7742ef825a84edda6787a8",
       "value": "removing duplicates: 100%"
      }
     },
     "c1924e9252d446d7add95ab83becaa6f": {
      "model_module": "@jupyter-widgets/controls",
      "model_module_version": "2.0.0",
      "model_name": "FloatProgressModel",
      "state": {
       "bar_style": "success",
       "layout": "IPY_MODEL_65ed43e0811b4bb3ba97b52bb467b63a",
       "max": 11,
       "style": "IPY_MODEL_0249afe53dcc4d1da6517d38ed2cc950",
       "value": 11
      }
     },
     "cd183960dec848ff80d001c9a185b3aa": {
      "model_module": "@jupyter-widgets/base",
      "model_module_version": "2.0.0",
      "model_name": "LayoutModel",
      "state": {}
     },
     "d03c922649ce43c8906309a1c3ff331a": {
      "model_module": "@jupyter-widgets/controls",
      "model_module_version": "2.0.0",
      "model_name": "FloatProgressModel",
      "state": {
       "bar_style": "success",
       "layout": "IPY_MODEL_724f03de1a05414091849a8a1b78d74a",
       "max": 11,
       "style": "IPY_MODEL_6818e2a011fc4b7b89a65d1d0d246ce2",
       "value": 11
      }
     },
     "d328e2eff21743b49b2997bbcc5a6a6a": {
      "model_module": "@jupyter-widgets/controls",
      "model_module_version": "2.0.0",
      "model_name": "HTMLStyleModel",
      "state": {
       "description_width": "",
       "font_size": null,
       "text_color": null
      }
     },
     "d366c9694d0941079cedfa3cff1c8069": {
      "model_module": "@jupyter-widgets/controls",
      "model_module_version": "2.0.0",
      "model_name": "HTMLStyleModel",
      "state": {
       "description_width": "",
       "font_size": null,
       "text_color": null
      }
     },
     "df1760cec3a749efa06e983f9936983d": {
      "model_module": "@jupyter-widgets/base",
      "model_module_version": "2.0.0",
      "model_name": "LayoutModel",
      "state": {}
     },
     "eca48bb36d3e44479fd12e8ec3da782d": {
      "model_module": "@jupyter-widgets/base",
      "model_module_version": "2.0.0",
      "model_name": "LayoutModel",
      "state": {}
     },
     "f047ebd6fe7742ef825a84edda6787a8": {
      "model_module": "@jupyter-widgets/controls",
      "model_module_version": "2.0.0",
      "model_name": "HTMLStyleModel",
      "state": {
       "description_width": "",
       "font_size": null,
       "text_color": null
      }
     },
     "fb6b6fcb612d41708874f5763869cd65": {
      "model_module": "jupyter-matplotlib",
      "model_module_version": "^0.11",
      "model_name": "ToolbarModel",
      "state": {
       "_model_module_version": "^0.11",
       "_view_module_version": "^0.11",
       "collapsed": true,
       "layout": "IPY_MODEL_2856af262dad4a6f8061362667cf6cc2",
       "orientation": "vertical",
       "toolitems": [
        [
         "Home",
         "Reset original view",
         "home",
         "home"
        ],
        [
         "Back",
         "Back to previous view",
         "arrow-left",
         "back"
        ],
        [
         "Forward",
         "Forward to next view",
         "arrow-right",
         "forward"
        ],
        [
         "Pan",
         "Left button pans, Right button zooms\nx/y fixes axis, CTRL fixes aspect",
         "arrows",
         "pan"
        ],
        [
         "Zoom",
         "Zoom to rectangle\nx/y fixes axis",
         "square-o",
         "zoom"
        ],
        [
         "Download",
         "Download plot",
         "floppy-o",
         "save_figure"
        ]
       ]
      }
     },
     "ffd7ef084e9947feaf1a5f9b1304127d": {
      "model_module": "@jupyter-widgets/controls",
      "model_module_version": "2.0.0",
      "model_name": "HTMLModel",
      "state": {
       "layout": "IPY_MODEL_a05e899731e54378bef2742b43ed892a",
       "style": "IPY_MODEL_9ed25850c40e4d5cb1bfd90c598e8469",
       "value": "removing duplicates: 100%"
      }
     }
    },
    "version_major": 2,
    "version_minor": 0
   }
  }
 },
 "nbformat": 4,
 "nbformat_minor": 4
}
