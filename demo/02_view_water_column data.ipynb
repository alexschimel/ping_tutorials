{
 "cells": [
  {
   "cell_type": "markdown",
   "metadata": {},
   "source": [
    "# Demo 02: View water column data\n",
    "\n",
    "## Introduction\n",
    "\n",
    "This Jupyter Notebook contains an introduction to viewing water column data using Ping.\n",
    "\n",
    "## Here you will learn\n",
    "\n",
    "- \n",
    "\n",
    "## Short version\n",
    "\n",
    "At the end of the notebook you will find the important parts of this notebook, compiled into a single cell\n",
    "\n",
    "\n",
    "## ---"
   ]
  },
  {
   "cell_type": "markdown",
   "metadata": {},
   "source": [
    "### First: Import the necessary modules"
   ]
  },
  {
   "cell_type": "code",
   "execution_count": null,
   "metadata": {
    "notebookRunGroups": {
     "groupValue": "1"
    }
   },
   "outputs": [],
   "source": [
    "%matplotlib widget\n",
    "import os\n",
    "from tqdm.auto import tqdm\n",
    "\n",
    "from matplotlib import pyplot as plt\n",
    "from themachinethatgoesping.echosounders import index_functions\n",
    "from themachinethatgoesping.echosounders import kongsbergall\n"
   ]
  },
  {
   "cell_type": "code",
   "execution_count": null,
   "metadata": {
    "notebookRunGroups": {
     "groupValue": "1"
    },
    "tags": []
   },
   "outputs": [],
   "source": [
    "# define a list of folder(s) to search for raw data files\n",
    "# notes: \n",
    "#   - subdirectories will be searched as well\n",
    "#   - you can add multiple folders by appending them to the list\n",
    "#   - pair of files (e.g. .all and .wcd) don't have to be in the same folder\n",
    "folders = []\n",
    "folders.append(\"../unittest_data\")\n",
    "\n",
    "# find all Kongsberg files in the \"list of folders\n",
    "from themachinethatgoesping.echosounders import index_functions\n",
    "files = index_functions.find_files(folders, [\".all\",\"wcd\"])\n",
    "cache_files = index_functions.get_cache_file_paths(files)\n",
    "#index_functions.remove_name_from_cache(cache_files, \"FilePackageCache<SystemInformation>\")\n",
    "#index_functions.remove_name_from_cache(cache_files, \"NavigationInterpolatorLatLon\")\n",
    "#index_functions.remove_name_from_cache(cache_files, \"FilePackageIndex\")\n",
    "index_functions.print_cache_file_statistics(cache_files)\n",
    "\n",
    "fm = kongsbergall.KongsbergAllFileHandler(files,cache_files)    "
   ]
  },
  {
   "cell_type": "code",
   "execution_count": null,
   "metadata": {
    "notebookRunGroups": {
     "groupValue": "1"
    },
    "tags": []
   },
   "outputs": [],
   "source": [
    "from collections import OrderedDict\n",
    "\n",
    "class fake_tqdm(object):\n",
    "    def __init__(self, w_prg):\n",
    "        self.w_prg = w_prg\n",
    "        \n",
    "    def __call__(self, list_like):\n",
    "        self.list_like = list_like\n",
    "        self.list_iter = iter(list_like)\n",
    "        self.index = 0\n",
    "        self.total = len(list_like)\n",
    "        self.w_prg.max = self.total\n",
    "        self.w_prg.value = 0\n",
    "        return self\n",
    "        \n",
    "    def __iter__(self):\n",
    "        return self\n",
    "    \n",
    "    def __next__(self):\n",
    "        self.index += 1\n",
    "        self.w_prg.value = self.index\n",
    "        return next(self.list_iter)\n",
    "    \n",
    "    def __len__(self):\n",
    "        return self.total\n",
    "    \n",
    "    def update(self):\n",
    "        self.index += 1\n",
    "        next(self.list_iter)\n",
    "        self.w_prg.value = self.index\n",
    "        \n",
    "    def close(self):\n",
    "        pass"
   ]
  },
  {
   "cell_type": "markdown",
   "metadata": {},
   "source": [
    "## Filter pings\n",
    "Pings must contain watercolumn amplitudes to view watercolumn data\n"
   ]
  },
  {
   "cell_type": "code",
   "execution_count": null,
   "metadata": {},
   "outputs": [],
   "source": [
    "#version one write loop yourself\n",
    "filtered_pings = []\n",
    "for ping in tqdm(fm.get_pings()):\n",
    "    if ping.has_watercolumn():\n",
    "        if ping.watercolumn.has_feature('av'):\n",
    "            filtered_pings.append(ping)\n",
    "print(f'{len(filtered_pings)}/{len(fm.get_pings())}')"
   ]
  },
  {
   "cell_type": "code",
   "execution_count": null,
   "metadata": {},
   "outputs": [],
   "source": [
    "#version2 use built in function\n",
    "from themachinethatgoesping.pingprocessing import filter_pings\n",
    "filtered_pings = filter_pings.by_features(fm.get_pings(),['watercolumn.av'],progress=True)\n",
    "print(f'{len(filtered_pings)}/{len(fm.get_pings())}')\n",
    "print(filtered_pings[0])"
   ]
  },
  {
   "cell_type": "code",
   "execution_count": null,
   "metadata": {
    "notebookRunGroups": {
     "groupValue": "1"
    },
    "tags": []
   },
   "outputs": [],
   "source": [
    "# navigation overview (short version)\n",
    "from themachinethatgoesping.pingprocessing import overview, split_pings\n",
    "fig,ax = overview.nav_plot.create_figure('Navigation data', aspect='auto')\n",
    "\n",
    "# split pings if time difference between pings > 15 minutes\n",
    "ping_containers = split_pings.by_time_difference(filtered_pings, 15*60)\n",
    "\n",
    "for key, pings in ping_containers.items():\n",
    "    stats = overview.get_ping_overview(pings)\n",
    "    start_time = pings[0].get_datetime()\n",
    "    stats.plot_navigation(ax, label=f'Survey {start_time}')\n",
    "\n",
    "ax.legend()"
   ]
  },
  {
   "cell_type": "code",
   "execution_count": null,
   "metadata": {},
   "outputs": [],
   "source": [
    "for ping in tqdm(pings[:20000]):\n",
    "    if ping.has_watercolumn():\n",
    "        w = ping.file_data.read_merged_watercolumndatagram()\n",
    "print(w)"
   ]
  },
  {
   "cell_type": "code",
   "execution_count": null,
   "metadata": {},
   "outputs": [],
   "source": [
    "for ping in tqdm(pings[:20000]):\n",
    "    if ping.has_watercolumn():\n",
    "        a = ping.watercolumn.get_amplitudes()\n",
    "print(a)"
   ]
  },
  {
   "cell_type": "code",
   "execution_count": null,
   "metadata": {},
   "outputs": [],
   "source": [
    "for ping in tqdm(pings[:20000]):\n",
    "    if ping.has_watercolumn():\n",
    "        av = ping.watercolumn.get_av()\n",
    "print(av)"
   ]
  },
  {
   "cell_type": "code",
   "execution_count": null,
   "metadata": {
    "notebookRunGroups": {
     "groupValue": "1"
    },
    "tags": []
   },
   "outputs": [],
   "source": [
    "plt.close(\"WCI\")\n",
    "fig_wci = plt.figure(\"WCI\")\n",
    "ax_wci = fig_wci.subplots()"
   ]
  },
  {
   "cell_type": "code",
   "execution_count": null,
   "metadata": {
    "notebookRunGroups": {
     "groupValue": "2"
    },
    "tags": []
   },
   "outputs": [],
   "source": [
    "from ipywidgets import *\n",
    "from time import time\n",
    "import themachinethatgoesping.pingprocessing.watercolumn.make_image as mi\n",
    "import themachinethatgoesping.pingprocessing.watercolumn.helper.make_image_helper as mi_hlp\n",
    "\n",
    "#filtered_pings, transducers = group_dual_pings(fm.get_pings.get_sorted_by_time())\n",
    "\n",
    "fig_wci.set_tight_layout(True)\n",
    "\n",
    "last_split_plot = 100\n",
    "\n",
    "#@widgets.interact\n",
    "#@debounce(0.1)\n",
    "def update(w):  \n",
    "    try:\n",
    "        if w_protect_stack.value:\n",
    "            if w['owner'] != w_wci_stack:\n",
    "                if float(w_text_execut2ion_time.value) > 0.5:\n",
    "                    w_wci_stack.value = w_wci_stack.value * 0.5 / float(w_text_execution_time.value)\n",
    "        if w_wci_stack.value > 1:\n",
    "            w_wci.step = int(w_wci_stack.value/2)\n",
    "    except Exception as e:\n",
    "        pass\n",
    "    \n",
    "    w_text_num_total.value = str(int(w_text_num_total.value) +1)\n",
    "    w_text_num_active.value = str(int(w_text_num_active.value) +1)\n",
    "    \n",
    "    t = time()\n",
    "    global a, last_split_plot, ax_wci, fig_wci, ping1, ping2\n",
    "    a = w\n",
    "    #print(w)\n",
    "    wci_index = w_wci.value\n",
    "    wci_stack = w_wci_stack.value\n",
    "    wci_stack_step = w_wci_stack_step.value\n",
    "    cmin = w_cmin.value\n",
    "    cmax = w_cmax.value\n",
    "    aspect = w_aspect.value\n",
    "    hsize = w_hsize.value\n",
    "    heads = w_heads.value\n",
    "    interpolation = w_interpolation.value\n",
    "    maxz = w_z.value\n",
    "    from_bottom = w_from_bottom.value\n",
    "    threshold_white = w_threshold.value\n",
    "    linear_mean = w_linear_stack.value\n",
    "     \n",
    "    ping = filtered_pings[wci_index]\n",
    "    \n",
    "    if wci_stack > 1:\n",
    "        max_index = wci_index+wci_stack\n",
    "        if max_index > len(filtered_pings):\n",
    "            max_index = len(filtered_pings)\n",
    "        pings = []\n",
    "        for p in filtered_pings[wci_index:max_index:wci_stack_step]:\n",
    "            pings.append(p)\n",
    "                \n",
    "        #pings = pings[::2]\n",
    "    \n",
    "\n",
    "    try:\n",
    "        if wci_stack > 1:\n",
    "            wci,extent = mi.make_wci_stack(pings,hsize,progress_bar=progress_bar,linear_mean=linear_mean,from_bottom_xyz=from_bottom, compute_av=w_av.value)\n",
    "        else:\n",
    "            if heads == 'split_dual_rect':\n",
    "                wci = ping.watercolumn.get_amplitudes()\n",
    "                extent = [0, ping.watercolumn.get_number_of_beams(),0, ping.watercolumn.get_number_of_samples_per_beam()[0]]\n",
    "            else:        \n",
    "                wci,extent = mi.make_wci(ping,hsize,from_bottom_xyz=from_bottom)\n",
    "        \n",
    "                    \n",
    "        ax_wci.clear()\n",
    "            \n",
    "        mapable = ax_wci.imshow(wci.transpose(),aspect=aspect, extent = extent, cmap='YlGnBu_r',vmin=cmin, vmax=cmax,interpolation=interpolation)\n",
    "        \n",
    "        if not heads == 'split_dual_rect':\n",
    "            if not maxz == -1:\n",
    "                ax_wci.set_ylim(maxz,0)\n",
    "                               \n",
    "        w_text_num_active.value = str(int(w_text_num_active.value) -1)\n",
    "        w_text_execution_time.value = str(round(time()-t,3))\n",
    "            \n",
    "        \n",
    "    except Exception as e:\n",
    "        print(e)\n",
    "        #pass\n",
    "        raise (e)\n",
    "\n",
    "\n",
    "w_z = FloatSlider(min=-1, max=50, step=1, value = -1)\n",
    "w_cmin = FloatSlider(min=-150, max=150, step=5, value = -90)\n",
    "w_cmax = FloatSlider(min=-150, max=150, step=5, value = 50)\n",
    "w_wci = IntSlider(min=0, max=len(filtered_pings)-1, step=1, value =0)\n",
    "w_hsize = IntSlider(min=1, max=2048, step=1, value = 1024)\n",
    "\n",
    "w_from_bottom = Checkbox(description=\"from bottom\", value=False)\n",
    "w_linear_stack = Checkbox(description=\"linear stack\", value=True)\n",
    "w_protect_stack = Checkbox(description=\"protect stacking time\", value=False)\n",
    "w_threshold = Checkbox(description=\"threshhold white\", value=False)\n",
    "w_av = Checkbox(description=\"compute AV\", value=True)\n",
    "\n",
    "w_aspect = Dropdown(options=['auto', 'equal'], value='equal')\n",
    "w_heads = Dropdown(options=['blend_dual', 'blend_dual_inverse', 'split_dual', 'split_dual_rect'], value='blend_dual')\n",
    "w_interpolation = Dropdown(options=['antialiased', 'none', 'nearest', 'bilinear', 'bicubic', 'spline16', 'spline36', 'hanning', 'hamming', 'hermite', 'kaiser', 'quadric', 'catrom', 'gaussian', 'bessel', 'mitchell', 'sinc', 'lanczos', 'blackman'], value='nearest')\n",
    "w_wci_stack = IntText(\n",
    "    value=1,\n",
    "    description='stack:',\n",
    "    disabled=False\n",
    ")\n",
    "w_wci_stack_step = IntText(\n",
    "    value=1,\n",
    "    description='stack step:',\n",
    "    disabled=False\n",
    ")\n",
    "\n",
    "w_text_num_total = Text(\n",
    "    value='0',\n",
    "    placeholder='0',\n",
    "    description='Total executions:',\n",
    "    disabled=False   \n",
    ")\n",
    "w_text_num_active = Text(\n",
    "    value='0',\n",
    "    placeholder='0',\n",
    "    description='Active executions:',\n",
    "    disabled=False   \n",
    ")\n",
    "w_text_execution_time = Text(\n",
    "    value='0',\n",
    "    placeholder='0',\n",
    "    description='Time of last execution:',\n",
    "    disabled=False   \n",
    ")\n",
    "w_progress = IntProgress(\n",
    "    value=0,\n",
    "    min=0,\n",
    "    max=10,\n",
    "    step=1,\n",
    "    description='Stacking:',\n",
    "    bar_style='', # 'success', 'info', 'warning', 'danger' or ''\n",
    "    orientation='horizontal'\n",
    ")\n",
    "progress_bar = fake_tqdm(w_progress)\n",
    "\n",
    "box_text = HBox([w_text_num_total,w_text_num_active,w_text_execution_time])\n",
    "box_options = HBox([w_aspect,w_heads,w_interpolation,w_wci_stack,w_wci_stack_step])\n",
    "box_check = HBox([w_from_bottom,w_linear_stack,w_protect_stack, w_threshold, w_av])\n",
    "\n",
    "w_z.observe(update, names=['value'])\n",
    "w_cmin.observe(update, names=['value'])\n",
    "w_cmax.observe(update, names=['value'])\n",
    "w_wci.observe(update, names=['value'])\n",
    "w_wci_stack.observe(update, names=['value'])\n",
    "w_wci_stack_step.observe(update, names=['value'])\n",
    "w_hsize.observe(update, names=['value'])\n",
    "w_aspect.observe(update, names=['value'])\n",
    "w_from_bottom.observe(update, names=['value'])\n",
    "w_threshold.observe(update, names=['value'])\n",
    "w_av.observe(update, names=['value'])\n",
    "w_linear_stack.observe(update, names=['value'])\n",
    "w_heads.observe(update, names=['value'])\n",
    "w_interpolation.observe(update, names=['value'])\n",
    "\n",
    "\n",
    "update(0)\n",
    "display(fig_wci.canvas,w_progress, box_text, box_options, box_check, w_z, w_cmin,w_cmax,w_wci,w_hsize)"
   ]
  },
  {
   "cell_type": "code",
   "execution_count": null,
   "metadata": {},
   "outputs": [],
   "source": [
    "import numpy as np\n",
    "ping = filtered_pings[32]\n",
    "np.nanmax(filtered_pings[32].watercolumn.get_amplitudes())"
   ]
  },
  {
   "cell_type": "code",
   "execution_count": null,
   "metadata": {},
   "outputs": [],
   "source": [
    "print(ping.file_data.datagrams())"
   ]
  },
  {
   "cell_type": "code",
   "execution_count": null,
   "metadata": {},
   "outputs": [],
   "source": []
  }
 ],
 "metadata": {
  "kernelspec": {
   "display_name": "Python 3 (ipykernel)",
   "language": "python",
   "name": "python3"
  },
  "language_info": {
   "codemirror_mode": {
    "name": "ipython",
    "version": 3
   },
   "file_extension": ".py",
   "mimetype": "text/x-python",
   "name": "python",
   "nbconvert_exporter": "python",
   "pygments_lexer": "ipython3",
   "version": "3.12.2"
  },
  "widgets": {
   "application/vnd.jupyter.widget-state+json": {
    "state": {
     "073100c3f3b94fc18a33a23464b3e741": {
      "model_module": "@jupyter-widgets/controls",
      "model_module_version": "2.0.0",
      "model_name": "HTMLModel",
      "state": {
       "layout": "IPY_MODEL_a1283109745442feb27ff0c90609b96f",
       "style": "IPY_MODEL_da8b76e517eb47ee8f6452a71722e305",
       "value": "  8%"
      }
     },
     "2a0aabb4933a46d49a3ec8b03d98346e": {
      "model_module": "@jupyter-widgets/base",
      "model_module_version": "2.0.0",
      "model_name": "LayoutModel",
      "state": {}
     },
     "2c5cb2b9226745aabe064faf8df542f8": {
      "model_module": "@jupyter-widgets/controls",
      "model_module_version": "2.0.0",
      "model_name": "HTMLStyleModel",
      "state": {
       "description_width": "",
       "font_size": null,
       "text_color": null
      }
     },
     "37ff63fb1750429983fad521d380a7f0": {
      "model_module": "@jupyter-widgets/controls",
      "model_module_version": "2.0.0",
      "model_name": "HTMLStyleModel",
      "state": {
       "description_width": "",
       "font_size": null,
       "text_color": null
      }
     },
     "47bb3462074b412482efd7a262de4f40": {
      "model_module": "@jupyter-widgets/base",
      "model_module_version": "2.0.0",
      "model_name": "LayoutModel",
      "state": {}
     },
     "4a76c633b7ac4a5285ccf7e6d823a3da": {
      "model_module": "@jupyter-widgets/base",
      "model_module_version": "2.0.0",
      "model_name": "LayoutModel",
      "state": {}
     },
     "666986e4cad74eb0af92de62a485f144": {
      "model_module": "@jupyter-widgets/base",
      "model_module_version": "2.0.0",
      "model_name": "LayoutModel",
      "state": {}
     },
     "844b46fb2a374c6795dbf399d2f1e0b8": {
      "model_module": "@jupyter-widgets/controls",
      "model_module_version": "2.0.0",
      "model_name": "HTMLStyleModel",
      "state": {
       "description_width": "",
       "font_size": null,
       "text_color": null
      }
     },
     "84ea7ee6bdf34d7ab607d258683628cb": {
      "model_module": "@jupyter-widgets/controls",
      "model_module_version": "2.0.0",
      "model_name": "HTMLModel",
      "state": {
       "layout": "IPY_MODEL_666986e4cad74eb0af92de62a485f144",
       "style": "IPY_MODEL_37ff63fb1750429983fad521d380a7f0",
       "value": " 71/894 [00:13&lt;04:45,  2.88it/s]"
      }
     },
     "85a1497d55af4aa1bb332978124a71ed": {
      "model_module": "@jupyter-widgets/controls",
      "model_module_version": "2.0.0",
      "model_name": "FloatProgressModel",
      "state": {
       "bar_style": "danger",
       "layout": "IPY_MODEL_47bb3462074b412482efd7a262de4f40",
       "max": 894,
       "style": "IPY_MODEL_cce400c79fae4a70b0ff1b300dd9c04a",
       "value": 71
      }
     },
     "869d5e1fa03443f196b212ef68d84e62": {
      "model_module": "@jupyter-widgets/controls",
      "model_module_version": "2.0.0",
      "model_name": "HBoxModel",
      "state": {
       "children": [
        "IPY_MODEL_9c11731237334a8ea72bc51da3d38d06",
        "IPY_MODEL_f45ee5dec9a0460988df31df553cce46",
        "IPY_MODEL_e280a2fd8d4b4e2d904f8400a0059bf8"
       ],
       "layout": "IPY_MODEL_4a76c633b7ac4a5285ccf7e6d823a3da"
      }
     },
     "97e0a73946074bedb668ef0fb8abdd96": {
      "model_module": "@jupyter-widgets/base",
      "model_module_version": "2.0.0",
      "model_name": "LayoutModel",
      "state": {}
     },
     "9c11731237334a8ea72bc51da3d38d06": {
      "model_module": "@jupyter-widgets/controls",
      "model_module_version": "2.0.0",
      "model_name": "HTMLModel",
      "state": {
       "layout": "IPY_MODEL_e96ed1624f1e49c78330a07ba9a32b27",
       "style": "IPY_MODEL_2c5cb2b9226745aabe064faf8df542f8",
       "value": "removing duplicates: 100%"
      }
     },
     "a1283109745442feb27ff0c90609b96f": {
      "model_module": "@jupyter-widgets/base",
      "model_module_version": "2.0.0",
      "model_name": "LayoutModel",
      "state": {}
     },
     "ca47811946244731940758417c430d7f": {
      "model_module": "@jupyter-widgets/base",
      "model_module_version": "2.0.0",
      "model_name": "LayoutModel",
      "state": {}
     },
     "cce400c79fae4a70b0ff1b300dd9c04a": {
      "model_module": "@jupyter-widgets/controls",
      "model_module_version": "2.0.0",
      "model_name": "ProgressStyleModel",
      "state": {
       "description_width": ""
      }
     },
     "da8b76e517eb47ee8f6452a71722e305": {
      "model_module": "@jupyter-widgets/controls",
      "model_module_version": "2.0.0",
      "model_name": "HTMLStyleModel",
      "state": {
       "description_width": "",
       "font_size": null,
       "text_color": null
      }
     },
     "e280a2fd8d4b4e2d904f8400a0059bf8": {
      "model_module": "@jupyter-widgets/controls",
      "model_module_version": "2.0.0",
      "model_name": "HTMLModel",
      "state": {
       "layout": "IPY_MODEL_97e0a73946074bedb668ef0fb8abdd96",
       "style": "IPY_MODEL_844b46fb2a374c6795dbf399d2f1e0b8",
       "value": " 894/894 [00:00&lt;00:00, 348097.64it/s]"
      }
     },
     "e6337296d1544969b1a80c63ca873a6c": {
      "model_module": "@jupyter-widgets/controls",
      "model_module_version": "2.0.0",
      "model_name": "ProgressStyleModel",
      "state": {
       "description_width": ""
      }
     },
     "e96ed1624f1e49c78330a07ba9a32b27": {
      "model_module": "@jupyter-widgets/base",
      "model_module_version": "2.0.0",
      "model_name": "LayoutModel",
      "state": {}
     },
     "f0835f1174014701943d34f714d05f67": {
      "model_module": "@jupyter-widgets/controls",
      "model_module_version": "2.0.0",
      "model_name": "HBoxModel",
      "state": {
       "children": [
        "IPY_MODEL_073100c3f3b94fc18a33a23464b3e741",
        "IPY_MODEL_85a1497d55af4aa1bb332978124a71ed",
        "IPY_MODEL_84ea7ee6bdf34d7ab607d258683628cb"
       ],
       "layout": "IPY_MODEL_2a0aabb4933a46d49a3ec8b03d98346e"
      }
     },
     "f45ee5dec9a0460988df31df553cce46": {
      "model_module": "@jupyter-widgets/controls",
      "model_module_version": "2.0.0",
      "model_name": "FloatProgressModel",
      "state": {
       "bar_style": "success",
       "layout": "IPY_MODEL_ca47811946244731940758417c430d7f",
       "max": 894,
       "style": "IPY_MODEL_e6337296d1544969b1a80c63ca873a6c",
       "value": 894
      }
     }
    },
    "version_major": 2,
    "version_minor": 0
   }
  }
 },
 "nbformat": 4,
 "nbformat_minor": 4
}
