{
 "cells": [
  {
   "cell_type": "markdown",
   "metadata": {},
   "source": [
    "### `themachinethatgoesping` tutorial series\n",
    "# Tutorial 1: Introduction\n",
    "\n",
    "In this tutorial, we use `themachinethatgoesping` to access the coordinates (latitude/longitude) of all pings in a given dataset. \n",
    "\n",
    "This short sequence illustrates a few core objects of the `themachinethatgoesping`, and how to use them to load and access data.\n",
    "\n",
    "`themachinethatgoesping` concepts covered:\n",
    "- finding .all/.wcd files\n",
    "- data loading\n",
    "- \"File Handler\" object\n",
    "- \"Ping Container\" object\n",
    "- \"Ping\" object\n",
    "- \"Ping Location\" object\n"
   ]
  },
  {
   "cell_type": "markdown",
   "metadata": {},
   "source": [
    "## Summary"
   ]
  },
  {
   "cell_type": "code",
   "execution_count": 6,
   "metadata": {},
   "outputs": [
    {
     "name": "stdout",
     "output_type": "stream",
     "text": [
      "Found 288 files\n",
      "indexing files ⡀ 100% [00m:06s<00m:00s] [..1_181812_Belgica.wcd (288/288)]                                  \n",
      "indexing files ⠄ 100% [00m:06s<00m:00s] [Found: 5130471 datagrams in 288 files (25571MB)]                                                 \n",
      "Initializing navigation ⢀ 96% [00m:03s<00m:00s] [141/144]                   \n",
      "Initializing ping interface ⠂ 99% [00m:10s<00m:00s] [Done]                                              \n"
     ]
    },
    {
     "data": {
      "text/plain": [
       "[<matplotlib.lines.Line2D at 0x7cae935add90>]"
      ]
     },
     "execution_count": 6,
     "metadata": {},
     "output_type": "execute_result"
    },
    {
     "data": {
      "application/vnd.jupyter.widget-view+json": {
       "model_id": "72741be1b050449394298adfb5247e4f",
       "version_major": 2,
       "version_minor": 0
      },
      "image/png": "[encoded data removed]",
      "text/html": [
       "\n",
       "            <div style=\"display: inline-block;\">\n",
       "                <div class=\"jupyter-widgets widget-label\" style=\"text-align: center;\">\n",
       "                    Figure\n",
       "                </div>\n",
       "                <img src='data:image/png;base64,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' width=640.0/>\n",
       "            </div>\n",
       "        "
      ],
      "text/plain": [
       "Canvas(toolbar=Toolbar(toolitems=[('Home', 'Reset original view', 'home', 'home'), ('Back', 'Back to previous …"
      ]
     },
     "metadata": {},
     "output_type": "display_data"
    }
   ],
   "source": [
    "%matplotlib widget\n",
    "import os\n",
    "\n",
    "from matplotlib import pyplot as plt\n",
    "from themachinethatgoesping.echosounders import index_functions\n",
    "from themachinethatgoesping.echosounders import kongsbergall\n",
    "\n",
    "folders = []\n",
    "folders.append(\"../unittest_data\")\n",
    "folders = ['/home/data/turbeams/TURBEAMS_data_crunshing/campaigns/TURBEAMS_December_2023_25']\n",
    "folders = ['/home/data/turbeams/TURBEAMS_data_crunshing/campaigns/TURBEAMS_April_2023/']\n",
    "\n",
    "# list raw data files\n",
    "files = index_functions.find_files(folders, [\".all\",\"wcd\"])\n",
    "files.sort()\n",
    "\n",
    "# load files' data\n",
    "fh = kongsbergall.KongsbergAllFileHandler(files)\n",
    "\n",
    "# get pings' coordinates\n",
    "lat, lon = [], []\n",
    "for ping in fh.get_pings():\n",
    "    pingLocation = ping.get_geolocation()\n",
    "    lat.append(pingLocation.latitude) \n",
    "    lon.append(pingLocation.longitude)\n",
    "\n",
    "# plot coordinates of all pings in dataset\n",
    "plt.figure()\n",
    "plt.plot(lon, lat, '.')"
   ]
  },
  {
   "cell_type": "code",
   "execution_count": 5,
   "metadata": {},
   "outputs": [],
   "source": [
    "import themachinethatgoesping as Ping\n",
    "Ping.pingprocessing.core.clear_memory()"
   ]
  },
  {
   "cell_type": "markdown",
   "metadata": {},
   "source": [
    "## Step-by-step\n",
    "### 1. List raw data files"
   ]
  },
  {
   "cell_type": "code",
   "execution_count": null,
   "metadata": {},
   "outputs": [],
   "source": [
    "# define a list of folder(s) to search for raw data files\n",
    "# notes: \n",
    "#   - subdirectories will be searched as well\n",
    "#   - you can add multiple folders by appending them to the list\n",
    "#   - pair of files (e.g. .all and .wcd) don't have to be in the same folder\n",
    "folders = []\n",
    "folders.append(\"../unittest_data\")\n",
    "\n",
    "# find all Kongsberg files in the list of folders\n",
    "from themachinethatgoesping.echosounders import index_functions\n",
    "files = index_functions.find_files(folders, [\".all\",\"wcd\"])"
   ]
  },
  {
   "cell_type": "code",
   "execution_count": null,
   "metadata": {},
   "outputs": [],
   "source": [
    "# show files found\n",
    "print(f\"The output is a {type(files)} object with {len(files)} elements:\")\n",
    "files.sort()\n",
    "for i, file in enumerate(files):\n",
    "    print(f\"({i}/{len(files)}) {file}\")"
   ]
  },
  {
   "cell_type": "markdown",
   "metadata": {},
   "source": [
    "### 2. Load files' data"
   ]
  },
  {
   "cell_type": "code",
   "execution_count": null,
   "metadata": {},
   "outputs": [],
   "source": [
    "# load the data with:\n",
    "from themachinethatgoesping.echosounders import kongsbergall\n",
    "fh = kongsbergall.KongsbergAllFileHandler(files)\n",
    "print(\"\\n\")\n",
    "\n",
    "# the output is a \"File Handler\" object. \n",
    "print(f\"A File Handler is a {type(fh)} object.\\n\")\n",
    "\n",
    "# a File Handler manages the entire dataset.\n",
    "\n",
    "# print a summary of the File Handler's contents\n",
    "print(fh)\n",
    "\n",
    "# notes:\n",
    "#   - it is initalized with the list of files\n",
    "#   - the cache file paths are optional but recommended\n",
    "#   - File pairs will be grouped together at this stage"
   ]
  },
  {
   "cell_type": "markdown",
   "metadata": {},
   "source": [
    "### 3. Accessing data"
   ]
  },
  {
   "cell_type": "code",
   "execution_count": null,
   "metadata": {},
   "outputs": [],
   "source": [
    "# the pings data are obtained from the File Handler with:\n",
    "pc = fh.get_pings()\n",
    "\n",
    "# the output is a \"Ping Container\" object\n",
    "print(f\"A Ping Container is a {type(pc)} object.\\n\")\n",
    "\n",
    "# print a summary of the Ping Container's contents\n",
    "print(pc)"
   ]
  },
  {
   "cell_type": "code",
   "execution_count": null,
   "metadata": {},
   "outputs": [],
   "source": [
    "# access pings in a Ping Container by indexing\n",
    "examplePing = pc[42]\n",
    "\n",
    "# the output is a \"Ping\" object\n",
    "print(f\"A Ping is a {type(examplePing)} object.\\n\")\n",
    "\n",
    "# print a summary of the Ping's contents\n",
    "print(examplePing)"
   ]
  },
  {
   "cell_type": "code",
   "execution_count": null,
   "metadata": {},
   "outputs": [],
   "source": [
    "# a Ping has 3 types of information: base, bottom, and water-column.\n",
    "# base information includes location\n",
    "examplePingLocation = examplePing.get_geolocation()\n",
    "\n",
    "# the output is a \"Ping Location\" object\n",
    "print(f\"A Ping Location is a {type(examplePingLocation)} object.\\n\")\n",
    "\n",
    "# print a summary of the Ping Location's contents\n",
    "print(examplePingLocation)"
   ]
  },
  {
   "cell_type": "code",
   "execution_count": null,
   "metadata": {},
   "outputs": [],
   "source": [
    "# get the latitude and longitude of the ping from the Ping Location\n",
    "lat, long = examplePingLocation.latitude, examplePingLocation.longitude\n",
    "print(f\"Example ping location - Latitude: {lat}, Longitude: {long}\")"
   ]
  },
  {
   "cell_type": "code",
   "execution_count": null,
   "metadata": {},
   "outputs": [],
   "source": [
    "# get pings' coordinates of all pings\n",
    "lat, lon = [], []\n",
    "for ping in fh.get_pings():\n",
    "    pingLocation = ping.get_geolocation()\n",
    "    lat.append(pingLocation.latitude) \n",
    "    lon.append(pingLocation.longitude)\n",
    "\n",
    "# plot coordinates of all pings in dataset\n",
    "plt.figure()\n",
    "plt.plot(lon, lat, '.')"
   ]
  },
  {
   "cell_type": "code",
   "execution_count": null,
   "metadata": {},
   "outputs": [],
   "source": []
  }
 ],
 "metadata": {
  "kernelspec": {
   "display_name": "Python 3 (ipykernel)",
   "language": "python",
   "name": "python3"
  },
  "language_info": {
   "codemirror_mode": {
    "name": "ipython",
    "version": 3
   },
   "file_extension": ".py",
   "mimetype": "text/x-python",
   "name": "python",
   "nbconvert_exporter": "python",
   "pygments_lexer": "ipython3",
   "version": "3.12.3"
  },
  "widgets": {
   "application/vnd.jupyter.widget-state+json": {
    "state": {
     "0011e5c3b8de4d56beefeedf4a20c4f6": {
      "model_module": "@jupyter-widgets/controls",
      "model_module_version": "2.0.0",
      "model_name": "ProgressStyleModel",
      "state": {
       "description_width": ""
      }
     },
     "05130e1a940a4efba806a8091da59e14": {
      "model_module": "@jupyter-widgets/controls",
      "model_module_version": "2.0.0",
      "model_name": "HTMLStyleModel",
      "state": {
       "description_width": "",
       "font_size": null,
       "text_color": null
      }
     },
     "0af043a498cf40c4922f2421931f4d44": {
      "model_module": "@jupyter-widgets/base",
      "model_module_version": "2.0.0",
      "model_name": "LayoutModel",
      "state": {}
     },
     "0b7da69097b242e2983f5773b14b4caa": {
      "model_module": "@jupyter-widgets/controls",
      "model_module_version": "2.0.0",
      "model_name": "HBoxModel",
      "state": {
       "children": [
        "IPY_MODEL_b5ae2575d09c4cc7a03c1d5514c4d76d",
        "IPY_MODEL_0f0254dddd4945d183258434501fe8d3",
        "IPY_MODEL_b471eb9a45c14b90941c74a1ebb803bd"
       ],
       "layout": "IPY_MODEL_ad1d117f2a7b404ea83528b38e559ef4"
      }
     },
     "0b7edaf11c544b399b66e7e8f5963b6e": {
      "model_module": "@jupyter-widgets/controls",
      "model_module_version": "2.0.0",
      "model_name": "HBoxModel",
      "state": {
       "children": [
        "IPY_MODEL_986e3f516dd04ef7974907871b385b07",
        "IPY_MODEL_b5a0ef1da64f475390d08611a3141b74",
        "IPY_MODEL_0d42542e2bba4412b593131b72460f76"
       ],
       "layout": "IPY_MODEL_3d9d313104c1488ea0e2db89cb428448"
      }
     },
     "0d42542e2bba4412b593131b72460f76": {
      "model_module": "@jupyter-widgets/controls",
      "model_module_version": "2.0.0",
      "model_name": "HTMLModel",
      "state": {
       "layout": "IPY_MODEL_30171ec2c6b94ab58a75cf5f16269476",
       "style": "IPY_MODEL_1fbf92c0417046c78572a8ca3e93756d",
       "value": " 288/288 [00:00&lt;00:00, 111703.31it/s]"
      }
     },
     "0f0254dddd4945d183258434501fe8d3": {
      "model_module": "@jupyter-widgets/controls",
      "model_module_version": "2.0.0",
      "model_name": "FloatProgressModel",
      "state": {
       "bar_style": "success",
       "layout": "IPY_MODEL_e7835a5d6f794d69b949a36cffbffe7a",
       "max": 101,
       "style": "IPY_MODEL_9828cb3936734b3c8a800455f86bef3c",
       "value": 101
      }
     },
     "0f7e92cfbfbc4194834b366760dfe927": {
      "model_module": "@jupyter-widgets/controls",
      "model_module_version": "2.0.0",
      "model_name": "HTMLStyleModel",
      "state": {
       "description_width": "",
       "font_size": null,
       "text_color": null
      }
     },
     "11c8e694717548c9a0da6e11fec50196": {
      "model_module": "@jupyter-widgets/base",
      "model_module_version": "2.0.0",
      "model_name": "LayoutModel",
      "state": {}
     },
     "1a36da02930a44d1b9949b1b4a9d8352": {
      "model_module": "@jupyter-widgets/base",
      "model_module_version": "2.0.0",
      "model_name": "LayoutModel",
      "state": {}
     },
     "1fbf92c0417046c78572a8ca3e93756d": {
      "model_module": "@jupyter-widgets/controls",
      "model_module_version": "2.0.0",
      "model_name": "HTMLStyleModel",
      "state": {
       "description_width": "",
       "font_size": null,
       "text_color": null
      }
     },
     "2217192b90704d89b8155be1acf34580": {
      "model_module": "@jupyter-widgets/controls",
      "model_module_version": "2.0.0",
      "model_name": "FloatProgressModel",
      "state": {
       "bar_style": "success",
       "layout": "IPY_MODEL_cebb67703ba94e2ebbf4b4599f69d922",
       "max": 288,
       "style": "IPY_MODEL_0011e5c3b8de4d56beefeedf4a20c4f6",
       "value": 288
      }
     },
     "28ce85cc375e4864a8107cc3474ffdc4": {
      "model_module": "@jupyter-widgets/base",
      "model_module_version": "2.0.0",
      "model_name": "LayoutModel",
      "state": {}
     },
     "2d20a56502f24ccf820e8849d9a2980c": {
      "model_module": "@jupyter-widgets/controls",
      "model_module_version": "2.0.0",
      "model_name": "HTMLStyleModel",
      "state": {
       "description_width": "",
       "font_size": null,
       "text_color": null
      }
     },
     "30171ec2c6b94ab58a75cf5f16269476": {
      "model_module": "@jupyter-widgets/base",
      "model_module_version": "2.0.0",
      "model_name": "LayoutModel",
      "state": {}
     },
     "343c4b26ab6c400f97d2b8c91280a370": {
      "model_module": "jupyter-matplotlib",
      "model_module_version": "^0.11",
      "model_name": "ToolbarModel",
      "state": {
       "_model_module_version": "^0.11",
       "_view_module_version": "^0.11",
       "collapsed": true,
       "layout": "IPY_MODEL_11c8e694717548c9a0da6e11fec50196",
       "orientation": "vertical",
       "toolitems": [
        [
         "Home",
         "Reset original view",
         "home",
         "home"
        ],
        [
         "Back",
         "Back to previous view",
         "arrow-left",
         "back"
        ],
        [
         "Forward",
         "Forward to next view",
         "arrow-right",
         "forward"
        ],
        [
         "Pan",
         "Left button pans, Right button zooms\nx/y fixes axis, CTRL fixes aspect",
         "arrows",
         "pan"
        ],
        [
         "Zoom",
         "Zoom to rectangle\nx/y fixes axis",
         "square-o",
         "zoom"
        ],
        [
         "Download",
         "Download plot",
         "floppy-o",
         "save_figure"
        ]
       ]
      }
     },
     "3d9d313104c1488ea0e2db89cb428448": {
      "model_module": "@jupyter-widgets/base",
      "model_module_version": "2.0.0",
      "model_name": "LayoutModel",
      "state": {}
     },
     "6f0759d9377041c3a48ed9187da67754": {
      "model_module": "@jupyter-widgets/base",
      "model_module_version": "2.0.0",
      "model_name": "LayoutModel",
      "state": {}
     },
     "7106cdfa537c467c876cbd21afcb0a04": {
      "model_module": "@jupyter-widgets/base",
      "model_module_version": "2.0.0",
      "model_name": "LayoutModel",
      "state": {}
     },
     "72741be1b050449394298adfb5247e4f": {
      "model_module": "jupyter-matplotlib",
      "model_module_version": "^0.11",
      "model_name": "MPLCanvasModel",
      "state": {
       "_data_url": "data:image/png;base64,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",
       "_figure_label": "Figure 1",
       "_message": "x=2.979 y=51.5484",
       "_model_module_version": "^0.11",
       "_size": [
        640,
        480
       ],
       "_view_module_version": "^0.11",
       "layout": "IPY_MODEL_6f0759d9377041c3a48ed9187da67754",
       "toolbar": "IPY_MODEL_343c4b26ab6c400f97d2b8c91280a370",
       "toolbar_position": "left"
      }
     },
     "7cedf4aedca84748b92f9add13b8830c": {
      "model_module": "@jupyter-widgets/base",
      "model_module_version": "2.0.0",
      "model_name": "LayoutModel",
      "state": {}
     },
     "8649fa31387042c48669ca89f02541f1": {
      "model_module": "@jupyter-widgets/controls",
      "model_module_version": "2.0.0",
      "model_name": "HTMLModel",
      "state": {
       "layout": "IPY_MODEL_0af043a498cf40c4922f2421931f4d44",
       "style": "IPY_MODEL_05130e1a940a4efba806a8091da59e14",
       "value": "removing duplicates: 100%"
      }
     },
     "9828cb3936734b3c8a800455f86bef3c": {
      "model_module": "@jupyter-widgets/controls",
      "model_module_version": "2.0.0",
      "model_name": "ProgressStyleModel",
      "state": {
       "description_width": ""
      }
     },
     "986e3f516dd04ef7974907871b385b07": {
      "model_module": "@jupyter-widgets/controls",
      "model_module_version": "2.0.0",
      "model_name": "HTMLModel",
      "state": {
       "layout": "IPY_MODEL_987697496dac46dd9a0b9700c2882a13",
       "style": "IPY_MODEL_2d20a56502f24ccf820e8849d9a2980c",
       "value": "removing duplicates: 100%"
      }
     },
     "987697496dac46dd9a0b9700c2882a13": {
      "model_module": "@jupyter-widgets/base",
      "model_module_version": "2.0.0",
      "model_name": "LayoutModel",
      "state": {}
     },
     "a2471b328b60490d96a8bb0c04b0132c": {
      "model_module": "@jupyter-widgets/controls",
      "model_module_version": "2.0.0",
      "model_name": "HTMLStyleModel",
      "state": {
       "description_width": "",
       "font_size": null,
       "text_color": null
      }
     },
     "ad1d117f2a7b404ea83528b38e559ef4": {
      "model_module": "@jupyter-widgets/base",
      "model_module_version": "2.0.0",
      "model_name": "LayoutModel",
      "state": {}
     },
     "b471eb9a45c14b90941c74a1ebb803bd": {
      "model_module": "@jupyter-widgets/controls",
      "model_module_version": "2.0.0",
      "model_name": "HTMLModel",
      "state": {
       "layout": "IPY_MODEL_28ce85cc375e4864a8107cc3474ffdc4",
       "style": "IPY_MODEL_a2471b328b60490d96a8bb0c04b0132c",
       "value": " 101/101 [00:00&lt;00:00, 48525.17it/s]"
      }
     },
     "b561e6f9b1714ff8a48e96deae23f1ed": {
      "model_module": "@jupyter-widgets/controls",
      "model_module_version": "2.0.0",
      "model_name": "HBoxModel",
      "state": {
       "children": [
        "IPY_MODEL_8649fa31387042c48669ca89f02541f1",
        "IPY_MODEL_2217192b90704d89b8155be1acf34580",
        "IPY_MODEL_f4626caca2d74963a69c783243f55b21"
       ],
       "layout": "IPY_MODEL_7cedf4aedca84748b92f9add13b8830c"
      }
     },
     "b5a0ef1da64f475390d08611a3141b74": {
      "model_module": "@jupyter-widgets/controls",
      "model_module_version": "2.0.0",
      "model_name": "FloatProgressModel",
      "state": {
       "bar_style": "success",
       "layout": "IPY_MODEL_1a36da02930a44d1b9949b1b4a9d8352",
       "max": 288,
       "style": "IPY_MODEL_c7d996bc03c24be5855b1eb15bc59511",
       "value": 288
      }
     },
     "b5ae2575d09c4cc7a03c1d5514c4d76d": {
      "model_module": "@jupyter-widgets/controls",
      "model_module_version": "2.0.0",
      "model_name": "HTMLModel",
      "state": {
       "layout": "IPY_MODEL_7106cdfa537c467c876cbd21afcb0a04",
       "style": "IPY_MODEL_f828db741181403e82386b43a85a376a",
       "value": "removing duplicates: 100%"
      }
     },
     "c7d996bc03c24be5855b1eb15bc59511": {
      "model_module": "@jupyter-widgets/controls",
      "model_module_version": "2.0.0",
      "model_name": "ProgressStyleModel",
      "state": {
       "description_width": ""
      }
     },
     "cebb67703ba94e2ebbf4b4599f69d922": {
      "model_module": "@jupyter-widgets/base",
      "model_module_version": "2.0.0",
      "model_name": "LayoutModel",
      "state": {}
     },
     "e7835a5d6f794d69b949a36cffbffe7a": {
      "model_module": "@jupyter-widgets/base",
      "model_module_version": "2.0.0",
      "model_name": "LayoutModel",
      "state": {}
     },
     "f4626caca2d74963a69c783243f55b21": {
      "model_module": "@jupyter-widgets/controls",
      "model_module_version": "2.0.0",
      "model_name": "HTMLModel",
      "state": {
       "layout": "IPY_MODEL_f7434bf71ebe4d74b5dcdc91b6688596",
       "style": "IPY_MODEL_0f7e92cfbfbc4194834b366760dfe927",
       "value": " 288/288 [00:00&lt;00:00, 114585.43it/s]"
      }
     },
     "f7434bf71ebe4d74b5dcdc91b6688596": {
      "model_module": "@jupyter-widgets/base",
      "model_module_version": "2.0.0",
      "model_name": "LayoutModel",
      "state": {}
     },
     "f828db741181403e82386b43a85a376a": {
      "model_module": "@jupyter-widgets/controls",
      "model_module_version": "2.0.0",
      "model_name": "HTMLStyleModel",
      "state": {
       "description_width": "",
       "font_size": null,
       "text_color": null
      }
     }
    },
    "version_major": 2,
    "version_minor": 0
   }
  }
 },
 "nbformat": 4,
 "nbformat_minor": 4
}
