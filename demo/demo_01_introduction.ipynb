{
 "cells": [
  {
   "cell_type": "markdown",
   "metadata": {},
   "source": [
    "### `themachinethatgoesping` tutorial series\n",
    "# Tutorial 1: Introduction\n",
    "\n",
    "In this tutorial, we use `themachinethatgoesping` to access the coordinates (latitude/longitude) of all pings in a given dataset. \n",
    "\n",
    "This short sequence illustrates a few core objects of the `themachinethatgoesping`, and how to use them to load and access data.\n",
    "\n",
    "`themachinethatgoesping` concepts covered:\n",
    "- data loading\n",
    "- file caching\n",
    "- \"File Handler\" object\n",
    "- \"Ping Container\" object\n",
    "- \"Ping\" object\n",
    "- \"Ping Location\" object\n"
   ]
  },
  {
   "cell_type": "markdown",
   "metadata": {},
   "source": [
    "## Summary"
   ]
  },
  {
   "cell_type": "code",
   "execution_count": null,
   "metadata": {},
   "outputs": [],
   "source": [
    "%matplotlib widget\n",
    "import os\n",
    "\n",
    "from matplotlib import pyplot as plt\n",
    "from themachinethatgoesping.echosounders import index_functions\n",
    "from themachinethatgoesping.echosounders import kongsbergall\n",
    "\n",
    "folders = []\n",
    "# open testfolder.txt\n",
    "if os.path.exists('testfolder.txt') and True:\n",
    "    with open('testfolder.txt','r') as ifi:\n",
    "        for line in ifi:\n",
    "            if line and not line.startswith('#'):                \n",
    "                line = line.strip()\n",
    "                print(\"Adding testfolder:\", line)\n",
    "                folders.append(line)\n",
    "else:\n",
    "    folders.append(\"C:/Users/Schimel_Alexandre/Data/Kongsberg all/KV-FOSAE-2015_EM710_BH02_gas_flares\")\n",
    "\n",
    "# list raw data files\n",
    "files = index_functions.find_files(folders, [\".all\",\"wcd\"])\n",
    "files.sort()\n",
    "\n",
    "# load files' data\n",
    "cacheFilePaths = index_functions.get_cache_file_paths(file_paths=files)\n",
    "fh = kongsbergall.KongsbergAllFileHandler_mapped(files[:], file_cache_paths = cacheFilePaths, init = True)\n",
    "\n",
    "# get pings' coordinates\n",
    "lat, lon = [], []\n",
    "for ping in fh.pings():\n",
    "    pingLocation = ping.get_geolocation()\n",
    "    lat.append(pingLocation.latitude) \n",
    "    lon.append(pingLocation.longitude)\n",
    "\n",
    "# plot coordinates of all pings in dataset\n",
    "plt.figure()\n",
    "plt.plot(lon, lat, '.')"
   ]
  },
  {
   "cell_type": "markdown",
   "metadata": {},
   "source": [
    "## Step-by-step\n",
    "### 1. List raw data files"
   ]
  },
  {
   "cell_type": "code",
   "execution_count": null,
   "metadata": {},
   "outputs": [],
   "source": [
    "# define a list of folder(s) to search for raw data files\n",
    "# notes: \n",
    "#   - subdirectories will be searched as well\n",
    "#   - you can add multiple folders by appending them to the list\n",
    "#   - pair of files (e.g. .all and .wcd) don't have to be in the same folder\n",
    "folders = []\n",
    "# open testfolder.txt\n",
    "if os.path.exists('testfolder.txt') and True:\n",
    "    with open('testfolder.txt','r') as ifi:\n",
    "        for line in ifi:\n",
    "            if line and not line.startswith('#'):                \n",
    "                line = line.strip()\n",
    "                print(\"Adding testfolder:\", line)\n",
    "                folders.append(line)\n",
    "else:\n",
    "    folders.append(\"C:/Users/Schimel_Alexandre/Data/Kongsberg all/KV-FOSAE-2015_EM710_BH02_gas_flares\")\n",
    "\n",
    "# find all Kongsberg files in the list of folders\n",
    "from themachinethatgoesping.echosounders import index_functions\n",
    "files = index_functions.find_files(folders, [\".all\",\"wcd\"])"
   ]
  },
  {
   "cell_type": "code",
   "execution_count": null,
   "metadata": {},
   "outputs": [],
   "source": [
    "# show files found\n",
    "print(f\"The output is a {type(files)} object with {len(files)} elements:\")\n",
    "files.sort()\n",
    "for i, file in enumerate(files):\n",
    "    print(f\"({i}/{len(files)}) {file}\")"
   ]
  },
  {
   "cell_type": "markdown",
   "metadata": {},
   "source": [
    "### 2. Load files' data"
   ]
  },
  {
   "cell_type": "code",
   "execution_count": null,
   "metadata": {},
   "outputs": [],
   "source": [
    "# caching files when read the first time allows speeding-up loading next times\n",
    "\n",
    "# each file has a corresponding cache file, by default:\n",
    "cacheFilePaths = index_functions.get_cache_file_paths(file_paths=files)\n",
    "\n",
    "for f, c in cacheFilePaths.items():\n",
    "    print(f\"File: {f}\")\n",
    "    print(f\"    Cache: {c}\")"
   ]
  },
  {
   "cell_type": "code",
   "execution_count": null,
   "metadata": {},
   "outputs": [],
   "source": [
    "# load the data with:\n",
    "from themachinethatgoesping.echosounders import kongsbergall\n",
    "fh = kongsbergall.KongsbergAllFileHandler_mapped(files[:], file_cache_paths = cacheFilePaths, init = True)\n",
    "print(\"\\n\")\n",
    "\n",
    "# the output is a \"File Handler\" object. \n",
    "print(f\"A File Handler is a {type(fh)} object.\\n\")\n",
    "\n",
    "# a File Handler manages the entire dataset.\n",
    "\n",
    "# print a summary of the File Handler's contents\n",
    "print(fh)\n",
    "\n",
    "# notes:\n",
    "#   - it is initalized with the list of files\n",
    "#   - the cache file paths are optional but recommended\n",
    "#   - File pairs will be grouped together at this stage"
   ]
  },
  {
   "cell_type": "markdown",
   "metadata": {},
   "source": [
    "### 3. Accessing data"
   ]
  },
  {
   "cell_type": "code",
   "execution_count": null,
   "metadata": {},
   "outputs": [],
   "source": [
    "# the pings data are obtained from the File Handler with:\n",
    "pc = fh.pings()\n",
    "\n",
    "# the output is a \"Ping Container\" object\n",
    "print(f\"A Ping Container is a {type(pc)} object.\\n\")\n",
    "\n",
    "# print a summary of the Ping Container's contents\n",
    "print(pc)"
   ]
  },
  {
   "cell_type": "code",
   "execution_count": null,
   "metadata": {},
   "outputs": [],
   "source": [
    "# access pings in a Ping Container by indexing\n",
    "examplePing = pc[42]\n",
    "\n",
    "# the output is a \"Ping\" object\n",
    "print(f\"A Ping is a {type(examplePing)} object.\\n\")\n",
    "\n",
    "# print a summary of the Ping's contents\n",
    "print(examplePing)"
   ]
  },
  {
   "cell_type": "code",
   "execution_count": null,
   "metadata": {},
   "outputs": [],
   "source": [
    "# a Ping has 3 types of information: base, bottom, and water-column.\n",
    "# base information includes location\n",
    "examplePingLocation = examplePing.get_geolocation()\n",
    "\n",
    "# the output is a \"Ping Location\" object\n",
    "print(f\"A Ping Location is a {type(examplePingLocation)} object.\\n\")\n",
    "\n",
    "# print a summary of the Ping Location's contents\n",
    "print(examplePingLocation)"
   ]
  },
  {
   "cell_type": "code",
   "execution_count": null,
   "metadata": {},
   "outputs": [],
   "source": [
    "# get the latitude and longitude of the ping from the Ping Location\n",
    "lat, long = examplePingLocation.latitude, examplePingLocation.longitude\n",
    "print(f\"Example ping location - Latitude: {lat}, Longitude: {long}\")"
   ]
  },
  {
   "cell_type": "code",
   "execution_count": null,
   "metadata": {},
   "outputs": [],
   "source": []
  }
 ],
 "metadata": {
  "kernelspec": {
   "display_name": "Python 3 (ipykernel)",
   "language": "python",
   "name": "python3"
  },
  "language_info": {
   "codemirror_mode": {
    "name": "ipython",
    "version": 3
   },
   "file_extension": ".py",
   "mimetype": "text/x-python",
   "name": "python",
   "nbconvert_exporter": "python",
   "pygments_lexer": "ipython3",
   "version": "3.12.1"
  },
  "widgets": {
   "application/vnd.jupyter.widget-state+json": {
    "state": {},
    "version_major": 2,
    "version_minor": 0
   }
  }
 },
 "nbformat": 4,
 "nbformat_minor": 4
}
