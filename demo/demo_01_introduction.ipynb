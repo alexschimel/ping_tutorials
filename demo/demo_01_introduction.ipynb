{
 "cells": [
  {
   "cell_type": "markdown",
   "metadata": {},
   "source": [
    "### `themachinethatgoesping` tutorial series\n",
    "# Tutorial 1: Introduction\n",
    "\n",
    "In this tutorial, we use `themachinethatgoesping` to access the coordinates (latitude/longitude) of all pings in a given dataset. \n",
    "\n",
    "This short sequence illustrates a few core objects of the `themachinethatgoesping`, and how to use them to load and access data.\n",
    "\n",
    "`themachinethatgoesping` concepts covered:\n",
    "- data loading\n",
    "- file caching\n",
    "- \"File Handler\" object\n",
    "- \"Ping Container\" object\n",
    "- \"Ping\" object\n",
    "- \"Ping Location\" object\n"
   ]
  },
  {
   "cell_type": "markdown",
   "metadata": {},
   "source": [
    "## Summary"
   ]
  },
  {
   "cell_type": "code",
   "execution_count": null,
   "metadata": {},
   "outputs": [],
   "source": [
    "%matplotlib widget\n",
    "import os\n",
    "\n",
    "from matplotlib import pyplot as plt\n",
    "from themachinethatgoesping.echosounders import index_functions\n",
    "from themachinethatgoesping.echosounders import kongsbergall\n",
    "\n",
    "folders = []\n",
    "# open testfolder.txt\n",
    "if os.path.exists('testfolder.txt') and True:\n",
    "    with open('testfolder.txt','r') as ifi:\n",
    "        for line in ifi:\n",
    "            if line and not line.startswith('#'):                \n",
    "                line = line.strip()\n",
    "                print(\"Adding testfolder:\", line)\n",
    "                folders.append(line)\n",
    "else:\n",
    "    folders.append(\"C:/Users/Schimel_Alexandre/Data/Kongsberg all/KV-FOSAE-2015_EM710_BH02_gas_flares\")\n",
    "\n",
    "# list raw data files\n",
    "files = index_functions.find_files(folders, [\".all\",\"wcd\"])\n",
    "files.sort()\n",
    "\n",
    "# load files' data\n",
    "cacheFilePaths = index_functions.get_cache_file_paths(file_paths=files)\n",
    "fh = kongsbergall.KongsbergAllFileHandler_mapped(files[:], file_cache_paths = cacheFilePaths, init = True)\n",
    "\n",
    "# get pings' coordinates\n",
    "lat, lon = [], []\n",
    "for ping in fh.pings():\n",
    "    pingLocation = ping.get_geolocation()\n",
    "    lat.append(pingLocation.latitude) \n",
    "    lon.append(pingLocation.longitude)\n",
    "\n",
    "# plot coordinates of all pings in dataset\n",
    "plt.figure()\n",
    "plt.plot(lon, lat, '.')"
   ]
  },
  {
   "cell_type": "markdown",
   "metadata": {},
   "source": [
    "## Step-by-step\n",
    "### 1. List raw data files"
   ]
  },
  {
   "cell_type": "code",
   "execution_count": null,
   "metadata": {},
   "outputs": [],
   "source": [
    "# define a list of folder(s) to search for raw data files\n",
    "# notes: \n",
    "#   - subdirectories will be searched as well\n",
    "#   - you can add multiple folders by appending them to the list\n",
    "#   - pair of files (e.g. .all and .wcd) don't have to be in the same folder\n",
    "folders = []\n",
    "# open testfolder.txt\n",
    "if os.path.exists('testfolder.txt') and True:\n",
    "    with open('testfolder.txt','r') as ifi:\n",
    "        for line in ifi:\n",
    "            if line and not line.startswith('#'):                \n",
    "                line = line.strip()\n",
    "                print(\"Adding testfolder:\", line)\n",
    "                folders.append(line)\n",
    "else:\n",
    "    folders.append(\"C:/Users/Schimel_Alexandre/Data/Kongsberg all/KV-FOSAE-2015_EM710_BH02_gas_flares\")\n",
    "\n",
    "# find all Kongsberg files in the list of folders\n",
    "from themachinethatgoesping.echosounders import index_functions\n",
    "files = index_functions.find_files(folders, [\".all\",\"wcd\"])"
   ]
  },
  {
   "cell_type": "code",
   "execution_count": null,
   "metadata": {},
   "outputs": [],
   "source": [
    "# show files found\n",
    "print(f\"The output is a {type(files)} object with {len(files)} elements:\")\n",
    "files.sort()\n",
    "for i, file in enumerate(files):\n",
    "    print(f\"({i}/{len(files)}) {file}\")"
   ]
  },
  {
   "cell_type": "markdown",
   "metadata": {},
   "source": [
    "### 2. Load files' data"
   ]
  },
  {
   "cell_type": "code",
   "execution_count": null,
   "metadata": {},
   "outputs": [],
   "source": [
    "# caching files when read the first time allows speeding-up loading next times\n",
    "\n",
    "# each file has a corresponding cache file, by default:\n",
    "cacheFilePaths = index_functions.get_cache_file_paths(file_paths=files)\n",
    "\n",
    "for f, c in cacheFilePaths.items():\n",
    "    print(f\"File: {f}\")\n",
    "    print(f\"    Cache: {c}\")"
   ]
  },
  {
   "cell_type": "code",
   "execution_count": null,
   "metadata": {},
   "outputs": [],
   "source": [
    "# load the data with:\n",
    "from themachinethatgoesping.echosounders import kongsbergall\n",
    "fh = kongsbergall.KongsbergAllFileHandler_mapped(files[:], file_cache_paths = cacheFilePaths, init = True)\n",
    "print(\"\\n\")\n",
    "\n",
    "# the output is a \"File Handler\" object. \n",
    "print(f\"A File Handler is a {type(fh)} object.\\n\")\n",
    "\n",
    "# a File Handler manages the entire dataset.\n",
    "\n",
    "# print a summary of the File Handler's contents\n",
    "print(fh)\n",
    "\n",
    "# notes:\n",
    "#   - it is initalized with the list of files\n",
    "#   - the cache file paths are optional but recommended\n",
    "#   - File pairs will be grouped together at this stage"
   ]
  },
  {
   "cell_type": "markdown",
   "metadata": {},
   "source": [
    "### 3. Accessing data"
   ]
  },
  {
   "cell_type": "code",
   "execution_count": null,
   "metadata": {},
   "outputs": [],
   "source": [
    "# the pings data are obtained from the File Handler with:\n",
    "pc = fh.pings()\n",
    "\n",
    "# the output is a \"Ping Container\" object\n",
    "print(f\"A Ping Container is a {type(pc)} object.\\n\")\n",
    "\n",
    "# print a summary of the Ping Container's contents\n",
    "print(pc)"
   ]
  },
  {
   "cell_type": "code",
   "execution_count": null,
   "metadata": {},
   "outputs": [],
   "source": [
    "# access pings in a Ping Container by indexing\n",
    "examplePing = pc[42]\n",
    "\n",
    "# the output is a \"Ping\" object\n",
    "print(f\"A Ping is a {type(examplePing)} object.\\n\")\n",
    "\n",
    "# print a summary of the Ping's contents\n",
    "print(examplePing)"
   ]
  },
  {
   "cell_type": "code",
   "execution_count": null,
   "metadata": {},
   "outputs": [],
   "source": [
    "# a Ping has 3 types of information: base, bottom, and water-column.\n",
    "# base information includes location\n",
    "examplePingLocation = examplePing.get_geolocation()\n",
    "\n",
    "# the output is a \"Ping Location\" object\n",
    "print(f\"A Ping Location is a {type(examplePingLocation)} object.\\n\")\n",
    "\n",
    "# print a summary of the Ping Location's contents\n",
    "print(examplePingLocation)"
   ]
  },
  {
   "cell_type": "code",
   "execution_count": null,
   "metadata": {},
   "outputs": [],
   "source": [
    "# get the latitude and longitude of the ping from the Ping Location\n",
    "lat, long = examplePingLocation.latitude, examplePingLocation.longitude\n",
    "print(f\"Example ping location - Latitude: {lat}, Longitude: {long}\")"
   ]
  },
  {
   "cell_type": "code",
   "execution_count": null,
   "metadata": {},
   "outputs": [],
   "source": []
  }
 ],
 "metadata": {
  "kernelspec": {
   "display_name": "Python 3 (ipykernel)",
   "language": "python",
   "name": "python3"
  },
  "language_info": {
   "codemirror_mode": {
    "name": "ipython",
    "version": 3
   },
   "file_extension": ".py",
   "mimetype": "text/x-python",
   "name": "python",
   "nbconvert_exporter": "python",
   "pygments_lexer": "ipython3",
   "version": "3.12.1"
  },
  "widgets": {
   "application/vnd.jupyter.widget-state+json": {
    "state": {
     "00fd39fcfb164ca2a246c6d8618d4a5a": {
      "model_module": "@jupyter-widgets/base",
      "model_module_version": "2.0.0",
      "model_name": "LayoutModel",
      "state": {}
     },
     "111363dfc8e3457b811b441b8bda2d4a": {
      "model_module": "@jupyter-widgets/controls",
      "model_module_version": "2.0.0",
      "model_name": "ProgressStyleModel",
      "state": {
       "description_width": ""
      }
     },
     "131422fd481048a088764e2b059031b6": {
      "model_module": "@jupyter-widgets/base",
      "model_module_version": "2.0.0",
      "model_name": "LayoutModel",
      "state": {}
     },
     "14a649ca44384005bd808b0a3b57ef40": {
      "model_module": "@jupyter-widgets/controls",
      "model_module_version": "2.0.0",
      "model_name": "HTMLStyleModel",
      "state": {
       "description_width": "",
       "font_size": null,
       "text_color": null
      }
     },
     "1f846eb9aeab4fd39576e7e40dbb0322": {
      "model_module": "jupyter-matplotlib",
      "model_module_version": "^0.11",
      "model_name": "MPLCanvasModel",
      "state": {
       "_data_url": "data:image/png;base64,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",
       "_figure_label": "Figure 1",
       "_model_module_version": "^0.11",
       "_size": [
        640,
        480
       ],
       "_view_module_version": "^0.11",
       "layout": "IPY_MODEL_7fe6538f35034b4b9e62ec55fe8eb249",
       "toolbar": "IPY_MODEL_dc14da8090244000b1bdd4352f49f651",
       "toolbar_position": "left"
      }
     },
     "2b39e485a1fe46528431a021914e02c7": {
      "model_module": "@jupyter-widgets/base",
      "model_module_version": "2.0.0",
      "model_name": "LayoutModel",
      "state": {}
     },
     "32b8f5d341a54351a0dff81747aa390a": {
      "model_module": "@jupyter-widgets/controls",
      "model_module_version": "2.0.0",
      "model_name": "HBoxModel",
      "state": {
       "children": [
        "IPY_MODEL_82b871022f664db0bb9775614cf7d64e",
        "IPY_MODEL_ebea0be0cb4c4ce8992d5e2a4c22b61c",
        "IPY_MODEL_ae66f8823ea34ea3be784d0fb050e3dc"
       ],
       "layout": "IPY_MODEL_00fd39fcfb164ca2a246c6d8618d4a5a"
      }
     },
     "43a0687b79724558ac16d04632b6b9b3": {
      "model_module": "@jupyter-widgets/controls",
      "model_module_version": "2.0.0",
      "model_name": "ProgressStyleModel",
      "state": {
       "description_width": ""
      }
     },
     "43b3d8817d584b27b11a6581a51eca31": {
      "model_module": "@jupyter-widgets/base",
      "model_module_version": "2.0.0",
      "model_name": "LayoutModel",
      "state": {}
     },
     "53a45ee65525485a82f925dea111ca18": {
      "model_module": "@jupyter-widgets/controls",
      "model_module_version": "2.0.0",
      "model_name": "HTMLStyleModel",
      "state": {
       "description_width": "",
       "font_size": null,
       "text_color": null
      }
     },
     "596df28a4abb4ab7b840bc7e277f7358": {
      "model_module": "@jupyter-widgets/controls",
      "model_module_version": "2.0.0",
      "model_name": "HTMLModel",
      "state": {
       "layout": "IPY_MODEL_d7055c7dd4934eef90ac65ac00964acd",
       "style": "IPY_MODEL_693573afbcad4918b051d93d7413755d",
       "value": " 42/42 [00:00&lt;00:00, 18997.17it/s]"
      }
     },
     "693573afbcad4918b051d93d7413755d": {
      "model_module": "@jupyter-widgets/controls",
      "model_module_version": "2.0.0",
      "model_name": "HTMLStyleModel",
      "state": {
       "description_width": "",
       "font_size": null,
       "text_color": null
      }
     },
     "7fe6538f35034b4b9e62ec55fe8eb249": {
      "model_module": "@jupyter-widgets/base",
      "model_module_version": "2.0.0",
      "model_name": "LayoutModel",
      "state": {}
     },
     "82b871022f664db0bb9775614cf7d64e": {
      "model_module": "@jupyter-widgets/controls",
      "model_module_version": "2.0.0",
      "model_name": "HTMLModel",
      "state": {
       "layout": "IPY_MODEL_b6ec2307a20e4451b79236c1c8bba44a",
       "style": "IPY_MODEL_14a649ca44384005bd808b0a3b57ef40",
       "value": "removing duplicates: 100%"
      }
     },
     "910d79187dc647d4927bf5d7ed9ad12f": {
      "model_module": "@jupyter-widgets/controls",
      "model_module_version": "2.0.0",
      "model_name": "HTMLStyleModel",
      "state": {
       "description_width": "",
       "font_size": null,
       "text_color": null
      }
     },
     "ae66f8823ea34ea3be784d0fb050e3dc": {
      "model_module": "@jupyter-widgets/controls",
      "model_module_version": "2.0.0",
      "model_name": "HTMLModel",
      "state": {
       "layout": "IPY_MODEL_eb52e7d474a747ea94f74eb8f3ba9456",
       "style": "IPY_MODEL_910d79187dc647d4927bf5d7ed9ad12f",
       "value": " 42/42 [00:00&lt;00:00, 21352.82it/s]"
      }
     },
     "aeb625853f694ac19da073a00e75ba1d": {
      "model_module": "@jupyter-widgets/controls",
      "model_module_version": "2.0.0",
      "model_name": "FloatProgressModel",
      "state": {
       "bar_style": "success",
       "layout": "IPY_MODEL_131422fd481048a088764e2b059031b6",
       "max": 42,
       "style": "IPY_MODEL_43a0687b79724558ac16d04632b6b9b3",
       "value": 42
      }
     },
     "b6ec2307a20e4451b79236c1c8bba44a": {
      "model_module": "@jupyter-widgets/base",
      "model_module_version": "2.0.0",
      "model_name": "LayoutModel",
      "state": {}
     },
     "d08727f8d5574784ab51e741d8c0c262": {
      "model_module": "@jupyter-widgets/controls",
      "model_module_version": "2.0.0",
      "model_name": "HBoxModel",
      "state": {
       "children": [
        "IPY_MODEL_df76d00cb956434c8700e5c3c75bab00",
        "IPY_MODEL_aeb625853f694ac19da073a00e75ba1d",
        "IPY_MODEL_596df28a4abb4ab7b840bc7e277f7358"
       ],
       "layout": "IPY_MODEL_2b39e485a1fe46528431a021914e02c7"
      }
     },
     "d2d2fbbabff84c6bb237a66528760c30": {
      "model_module": "@jupyter-widgets/base",
      "model_module_version": "2.0.0",
      "model_name": "LayoutModel",
      "state": {}
     },
     "d53c3d05ec324af68ac9af83d9922175": {
      "model_module": "@jupyter-widgets/base",
      "model_module_version": "2.0.0",
      "model_name": "LayoutModel",
      "state": {}
     },
     "d7055c7dd4934eef90ac65ac00964acd": {
      "model_module": "@jupyter-widgets/base",
      "model_module_version": "2.0.0",
      "model_name": "LayoutModel",
      "state": {}
     },
     "dc14da8090244000b1bdd4352f49f651": {
      "model_module": "jupyter-matplotlib",
      "model_module_version": "^0.11",
      "model_name": "ToolbarModel",
      "state": {
       "_model_module_version": "^0.11",
       "_view_module_version": "^0.11",
       "collapsed": true,
       "layout": "IPY_MODEL_43b3d8817d584b27b11a6581a51eca31",
       "orientation": "vertical",
       "toolitems": [
        [
         "Home",
         "Reset original view",
         "home",
         "home"
        ],
        [
         "Back",
         "Back to previous view",
         "arrow-left",
         "back"
        ],
        [
         "Forward",
         "Forward to next view",
         "arrow-right",
         "forward"
        ],
        [
         "Pan",
         "Left button pans, Right button zooms\nx/y fixes axis, CTRL fixes aspect",
         "arrows",
         "pan"
        ],
        [
         "Zoom",
         "Zoom to rectangle\nx/y fixes axis",
         "square-o",
         "zoom"
        ],
        [
         "Download",
         "Download plot",
         "floppy-o",
         "save_figure"
        ]
       ]
      }
     },
     "df76d00cb956434c8700e5c3c75bab00": {
      "model_module": "@jupyter-widgets/controls",
      "model_module_version": "2.0.0",
      "model_name": "HTMLModel",
      "state": {
       "layout": "IPY_MODEL_d2d2fbbabff84c6bb237a66528760c30",
       "style": "IPY_MODEL_53a45ee65525485a82f925dea111ca18",
       "value": "removing duplicates: 100%"
      }
     },
     "eb52e7d474a747ea94f74eb8f3ba9456": {
      "model_module": "@jupyter-widgets/base",
      "model_module_version": "2.0.0",
      "model_name": "LayoutModel",
      "state": {}
     },
     "ebea0be0cb4c4ce8992d5e2a4c22b61c": {
      "model_module": "@jupyter-widgets/controls",
      "model_module_version": "2.0.0",
      "model_name": "FloatProgressModel",
      "state": {
       "bar_style": "success",
       "layout": "IPY_MODEL_d53c3d05ec324af68ac9af83d9922175",
       "max": 42,
       "style": "IPY_MODEL_111363dfc8e3457b811b441b8bda2d4a",
       "value": 42
      }
     }
    },
    "version_major": 2,
    "version_minor": 0
   }
  }
 },
 "nbformat": 4,
 "nbformat_minor": 4
}
