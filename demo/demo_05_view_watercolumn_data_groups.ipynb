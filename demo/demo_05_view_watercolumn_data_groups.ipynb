{
 "cells": [
  {
   "cell_type": "markdown",
   "metadata": {},
   "source": [
    "### `themachinethatgoesping` tutorial series\n",
    "# Tutorial 3: Working with pings\n",
    "\n",
    "In this tutorial, we explain what ping features are and how they are used\n",
    "\n",
    "`themachinethatgoesping` concepts covered:\n",
    "- Ping features\n",
    "- filtering pings"
   ]
  },
  {
   "cell_type": "markdown",
   "metadata": {},
   "source": [
    "## Summary"
   ]
  },
  {
   "cell_type": "code",
   "execution_count": null,
   "metadata": {},
   "outputs": [],
   "source": [
    "%matplotlib widget\n",
    "import os\n",
    "\n",
    "from matplotlib import pyplot as plt\n",
    "from themachinethatgoesping.echosounders import index_functions\n",
    "from themachinethatgoesping.echosounders import kongsbergall\n",
    "from time import time\n",
    "\n",
    "folders = []\n",
    "folders.append(\"../unittest_data\")\n",
    "\n",
    "# find raw data files and open them\n",
    "files = index_functions.find_files(folders, [\".all\",\"wcd\"])\n",
    "cacheFilePaths = index_functions.get_cache_file_paths(file_paths=files)\n",
    "fh = kongsbergall.KongsbergAllFileHandler(files, file_cache_paths = cacheFilePaths)\n",
    "\n",
    "# -- File caching --\n",
    "# So the steps where the same as in the previous demo, no we create cache directories using the get_cache_file_paths function\n",
    "cacheFilePaths = index_functions.get_cache_file_paths(file_paths=files)\n",
    "index_functions.remove_name_from_cache(cacheFilePaths, \"FilePackageIndex\")\n",
    "# cacheFilePaths is a dictionary with the same keys as files, but the values are the paths to the cache files\n",
    "# Passing cacheFilePahts to the FileHandler causes the FileHandler to either \n",
    "# - create the cache files (if they don't exist) \n",
    "# - or load them (if they do exist)\n",
    "\n",
    "# compare loading times in repeated file loading\n",
    "t1 = time()\n",
    "# without using the cache\n",
    "fh = kongsbergall.KongsbergAllFileHandler(files)\n",
    "t2 = time()\n",
    "# using the cache\n",
    "fh = kongsbergall.KongsbergAllFileHandler(files, file_cache_paths = cacheFilePaths)\n",
    "t3 = time()\n",
    "\n",
    "print(\"\\n-- Compare loading times --\")\n",
    "print(f\"Time without cache: {round(t2-t1,3)} seconds\")\n",
    "print(f\"Time with cache:    {round(t3-t2,3)} seconds\")\n",
    "\n",
    "# -- Investigate the created cache --\n",
    "# Here we print the created cache files to understand how big they are\n",
    "print(\"\\n-- Cache file statistics --\")\n",
    "index_functions.print_cache_file_statistics(cacheFilePaths)"
   ]
  },
  {
   "cell_type": "markdown",
   "metadata": {},
   "source": [
    "## Step-by-step\n",
    "### 1. Find raw data files and open them (see previous demo)"
   ]
  },
  {
   "cell_type": "code",
   "execution_count": null,
   "metadata": {},
   "outputs": [],
   "source": [
    "# define a list of folder(s) to search for raw data files\n",
    "# notes: \n",
    "#   - subdirectories will be searched as well\n",
    "#   - you can add multiple folders by appending them to the list\n",
    "#   - pair of files (e.g. .all and .wcd) don't have to be in the same folder\n",
    "folders = []\n",
    "folders.append(\"../unittest_data\")\n",
    "\n",
    "# find all Kongsberg files in the list of folders\n",
    "from themachinethatgoesping.echosounders import index_functions\n",
    "from themachinethatgoesping.echosounders import kongsbergall\n",
    "\n",
    "files = index_functions.find_files(folders, [\".all\",\"wcd\"])\n",
    "cacheFilePaths = index_functions.get_cache_file_paths(file_paths=files)\n",
    "fh = kongsbergall.KongsbergAllFileHandler(files, file_cache_paths = cacheFilePaths)\n"
   ]
  },
  {
   "cell_type": "markdown",
   "metadata": {},
   "source": [
    "### 2. Extract all pings from the data (see demo 01)\n"
   ]
  },
  {
   "cell_type": "code",
   "execution_count": null,
   "metadata": {},
   "outputs": [],
   "source": [
    "all_pings = fh.get_pings()\n",
    "\n",
    "# pings is a list of Ping objects in fh\n",
    "# By default get_pings will sort the pings by time\n",
    "print('Number of pings in fh:', len(all_pings))\n",
    "print()"
   ]
  },
  {
   "cell_type": "code",
   "execution_count": null,
   "metadata": {},
   "outputs": [],
   "source": [
    "# Each ping object is associated with a physical ping from an echosounder.abs\n",
    "# Pings objects thereby only load auxiliary information into memory (e.g. the geolocation)\n",
    "# Large data, such as watercolumn samples remain in memory. They will be read when needed. (e.g. by calling ping.watercolumn.get_amplitudes())\n",
    "# you can access the pings by index\n",
    "first_ping = all_pings[0]\n",
    "\n",
    "#print some information\n",
    "print(first_ping)"
   ]
  },
  {
   "cell_type": "code",
   "execution_count": null,
   "metadata": {},
   "outputs": [],
   "source": [
    "# There is a number of functions that each ping, indipendent of the source format, provides.\n",
    "# These are e.g:\n",
    "print('geolocation:', first_ping.get_geolocation())                                    # geolocation and attitude of the transducer\n",
    "print()\n",
    "print('Channel id:', first_ping.get_channel_id())                                      # Channel id / Transducer id\n",
    "print(f'Timestamp {first_ping.get_timestamp()} Datetime: {first_ping.get_datetime()}') # Ping timestamp / datetime\n",
    "\n",
    "# Further access to the ping data are seperated into different namespaces:\n",
    "# - ping.bottom for seafloor related data\n",
    "# - ping.watercolumn for watercolumn related information\n",
    "\n"
   ]
  },
  {
   "cell_type": "markdown",
   "metadata": {},
   "source": [
    "### HOWEVER: what if a specific ping does not contain watercolumn information? Or bottom detection information?\n"
   ]
  },
  {
   "cell_type": "code",
   "execution_count": null,
   "metadata": {},
   "outputs": [],
   "source": [
    "# This can be because the source format does not support this kind of information, or because collecting this information\n",
    "# was disabled during recording time \n",
    "# Accessing functions from ping.bottom would then fail if there are not bottom detection information available for this ping\n",
    "# To solve this problem, Ping uses so called features that dynamically inform you which data can be accessed for each ping\n",
    "\n",
    "# Print features that could be available for a ping\n",
    "# Each of these features is associated with two functions:\n",
    "# has_<feature_name>() [e.g. has_timestamp()] which informs you if this feature is available\n",
    "# get_<feature_name>() [e.g. get_timestamp()] which gives you the data associated with this feature\n",
    "print('possible features Ping')\n",
    "for f in first_ping.possible_features():\n",
    "    print(f'-{f}')"
   ]
  },
  {
   "cell_type": "code",
   "execution_count": null,
   "metadata": {},
   "outputs": [],
   "source": [
    "#Further dataaccess is split into subgroups\n",
    "print('possible feature groups Ping')\n",
    "for f in first_ping.possible_feature_groups():\n",
    "    print(f'-{f}')\n",
    "\n",
    "# .file_data gives you access to the raw data packages and the source file associated with a specific ping\n",
    "# this will be part of another tutorial\n",
    "# .bottom handles access to seafloor detection related data\n",
    "# .watercolumn to watercolumn related data\n",
    "# feature groups are associated with two functions as well:\n",
    "# .has_<feature_group_name>() (e.g. has_watercolumn())\n",
    "# .<feature_group_name> (e.g. .watercolumn) Notice the missing '()'\n",
    "\n",
    "# lets take a ping that has watercolumn data\n",
    "for ping in all_pings:\n",
    "    if ping.has_watercolumn():\n",
    "        break;\n",
    "\n",
    "# we now know that 'ping' contains watercolumn data\n",
    "# we can thus safely call ping.watercolumn\n",
    "# the subgroup watercolumn again contains features that work the same way as described above\n",
    "print()\n",
    "print('possible features Ping.watercolumn')\n",
    "for f in ping.watercolumn.possible_features():\n",
    "    print(f'-{f}')"
   ]
  },
  {
   "cell_type": "markdown",
   "metadata": {},
   "source": [
    "## Filter pings by features"
   ]
  },
  {
   "cell_type": "code",
   "execution_count": null,
   "metadata": {},
   "outputs": [],
   "source": [
    "# Pings can be sorted into new lists\n",
    "# we now make use of this and filter all pings by specific features we want to use in our processing\n",
    "# for example, here we create a new list of pings that must contain watercolumn amplitude data\n",
    "\n",
    "from tqdm.auto import tqdm\n",
    "\n",
    "pings_with_watercolumn = []\n",
    "\n",
    "for ping in tqdm(all_pings):\n",
    "    if ping.has_watercolumn():\n",
    "        if ping.watercolumn.has_amplitudes():\n",
    "            pings_with_watercolumn.append(ping)\n",
    "\n",
    "print('Pings with watercolumn amplitudes:', len(pings_with_watercolumn))"
   ]
  },
  {
   "cell_type": "code",
   "execution_count": null,
   "metadata": {},
   "outputs": [],
   "source": [
    "# We now know that we can safely call ping.watercolumn.get_amplitudes() for all pings in the newly created pings_with_watercolumn list\n",
    "\n",
    "pings_with_watercolumn[10].watercolumn.get_amplitudes()"
   ]
  },
  {
   "cell_type": "code",
   "execution_count": null,
   "metadata": {},
   "outputs": [],
   "source": []
  }
 ],
 "metadata": {
  "kernelspec": {
   "display_name": "Python 3 (ipykernel)",
   "language": "python",
   "name": "python3"
  },
  "language_info": {
   "codemirror_mode": {
    "name": "ipython",
    "version": 3
   },
   "file_extension": ".py",
   "mimetype": "text/x-python",
   "name": "python",
   "nbconvert_exporter": "python",
   "pygments_lexer": "ipython3",
   "version": "3.12.3"
  },
  "widgets": {
   "application/vnd.jupyter.widget-state+json": {
    "state": {
     "024ca43619224554a2e4ef52c4564168": {
      "model_module": "@jupyter-widgets/controls",
      "model_module_version": "2.0.0",
      "model_name": "FloatProgressModel",
      "state": {
       "bar_style": "success",
       "layout": "IPY_MODEL_0f2aefed3dd5492ea4ea9b2c676376a1",
       "max": 16,
       "style": "IPY_MODEL_8bde678cdc5d42fb960ddfa5ade43733",
       "value": 16
      }
     },
     "02879cda610d4ef9b82c0eb0fe8e3db0": {
      "model_module": "@jupyter-widgets/base",
      "model_module_version": "2.0.0",
      "model_name": "LayoutModel",
      "state": {}
     },
     "029d926374dc4feb942a86c3840d60b8": {
      "model_module": "@jupyter-widgets/controls",
      "model_module_version": "2.0.0",
      "model_name": "HTMLStyleModel",
      "state": {
       "description_width": "",
       "font_size": null,
       "text_color": null
      }
     },
     "02ca05981eda4eb29de424e64699cc24": {
      "model_module": "@jupyter-widgets/controls",
      "model_module_version": "2.0.0",
      "model_name": "HTMLStyleModel",
      "state": {
       "description_width": "",
       "font_size": null,
       "text_color": null
      }
     },
     "078c144df54d48fc9a5a45a6c0861db0": {
      "model_module": "@jupyter-widgets/controls",
      "model_module_version": "2.0.0",
      "model_name": "HTMLModel",
      "state": {
       "layout": "IPY_MODEL_f9242ff7c98b4e0f973b26d244b51c83",
       "style": "IPY_MODEL_e50099ee8c8540a99ab254c97abeee0b",
       "value": "100%"
      }
     },
     "08531efe442049ec9e82f6052fe46341": {
      "model_module": "@jupyter-widgets/controls",
      "model_module_version": "2.0.0",
      "model_name": "HTMLStyleModel",
      "state": {
       "description_width": "",
       "font_size": null,
       "text_color": null
      }
     },
     "0e4ec96b50774d789b5cae6284d549a6": {
      "model_module": "@jupyter-widgets/controls",
      "model_module_version": "2.0.0",
      "model_name": "HTMLStyleModel",
      "state": {
       "description_width": "",
       "font_size": null,
       "text_color": null
      }
     },
     "0f2aefed3dd5492ea4ea9b2c676376a1": {
      "model_module": "@jupyter-widgets/base",
      "model_module_version": "2.0.0",
      "model_name": "LayoutModel",
      "state": {}
     },
     "1510ceebd8c4407b8ac95db0104a24db": {
      "model_module": "@jupyter-widgets/controls",
      "model_module_version": "2.0.0",
      "model_name": "HTMLStyleModel",
      "state": {
       "description_width": "",
       "font_size": null,
       "text_color": null
      }
     },
     "232260e14a084691a9b7cf7c3c7c48f2": {
      "model_module": "@jupyter-widgets/controls",
      "model_module_version": "2.0.0",
      "model_name": "FloatProgressModel",
      "state": {
       "bar_style": "success",
       "layout": "IPY_MODEL_80540e12024c4a548b3da4b462c85425",
       "max": 16,
       "style": "IPY_MODEL_fcb6875e7b864665913564d92a07973f",
       "value": 16
      }
     },
     "26dde133d41b4bc7a81147ce204a975a": {
      "model_module": "@jupyter-widgets/controls",
      "model_module_version": "2.0.0",
      "model_name": "HTMLModel",
      "state": {
       "layout": "IPY_MODEL_d8f8acd82b6f4c0f807ecebfe6817d9b",
       "style": "IPY_MODEL_9b44d5aa42eb40dc9337987db89ba140",
       "value": " 16/16 [00:00&lt;00:00, 5601.74it/s]"
      }
     },
     "27aa2c5cbbd54063b38488fd9e067d32": {
      "model_module": "@jupyter-widgets/controls",
      "model_module_version": "2.0.0",
      "model_name": "HBoxModel",
      "state": {
       "children": [
        "IPY_MODEL_573d285dab694371b62c061168c3f627",
        "IPY_MODEL_024ca43619224554a2e4ef52c4564168",
        "IPY_MODEL_a0a8c552260446239589a08f5271c9de"
       ],
       "layout": "IPY_MODEL_a06f1efe0a7d4335b2a8824ab7a85cde"
      }
     },
     "2978a0911b9549fe83e08df2adc5b1f2": {
      "model_module": "@jupyter-widgets/controls",
      "model_module_version": "2.0.0",
      "model_name": "HTMLModel",
      "state": {
       "layout": "IPY_MODEL_c309aa0f49ed4d3c9fdba1faf48a5c72",
       "style": "IPY_MODEL_0e4ec96b50774d789b5cae6284d549a6",
       "value": "removing duplicates: 100%"
      }
     },
     "2e7f6773597a4dbba8652297cff869de": {
      "model_module": "@jupyter-widgets/base",
      "model_module_version": "2.0.0",
      "model_name": "LayoutModel",
      "state": {}
     },
     "300ac10246f74a1685ff9430e4523baf": {
      "model_module": "@jupyter-widgets/controls",
      "model_module_version": "2.0.0",
      "model_name": "HBoxModel",
      "state": {
       "children": [
        "IPY_MODEL_078c144df54d48fc9a5a45a6c0861db0",
        "IPY_MODEL_232260e14a084691a9b7cf7c3c7c48f2",
        "IPY_MODEL_e444ac4803ec4575b92f2842eedce593"
       ],
       "layout": "IPY_MODEL_f50a01d92d8d40f98ebb996561c6284f"
      }
     },
     "340fefe0a54546c883c06e392b7d5cb1": {
      "model_module": "@jupyter-widgets/base",
      "model_module_version": "2.0.0",
      "model_name": "LayoutModel",
      "state": {}
     },
     "3ba3a062dab8443ca437d342b342d6b9": {
      "model_module": "@jupyter-widgets/base",
      "model_module_version": "2.0.0",
      "model_name": "LayoutModel",
      "state": {}
     },
     "4eb76f2cae3d46798e23af57395c135b": {
      "model_module": "@jupyter-widgets/base",
      "model_module_version": "2.0.0",
      "model_name": "LayoutModel",
      "state": {}
     },
     "4ec2b0f88a30425685cbfb792d777596": {
      "model_module": "@jupyter-widgets/controls",
      "model_module_version": "2.0.0",
      "model_name": "ProgressStyleModel",
      "state": {
       "description_width": ""
      }
     },
     "5520acd4bf684fbf9338b312c62bfb81": {
      "model_module": "@jupyter-widgets/base",
      "model_module_version": "2.0.0",
      "model_name": "LayoutModel",
      "state": {}
     },
     "573d285dab694371b62c061168c3f627": {
      "model_module": "@jupyter-widgets/controls",
      "model_module_version": "2.0.0",
      "model_name": "HTMLModel",
      "state": {
       "layout": "IPY_MODEL_02879cda610d4ef9b82c0eb0fe8e3db0",
       "style": "IPY_MODEL_029d926374dc4feb942a86c3840d60b8",
       "value": "removing duplicates: 100%"
      }
     },
     "60294bcc0a374647828f94bb1df3a2fb": {
      "model_module": "@jupyter-widgets/controls",
      "model_module_version": "2.0.0",
      "model_name": "HBoxModel",
      "state": {
       "children": [
        "IPY_MODEL_2978a0911b9549fe83e08df2adc5b1f2",
        "IPY_MODEL_c871e8867564425dafb434501dda7eaa",
        "IPY_MODEL_ed75e7bd69764a1e82acd5f9ecdde066"
       ],
       "layout": "IPY_MODEL_3ba3a062dab8443ca437d342b342d6b9"
      }
     },
     "694fddc2db614dbc81cc05d2f67aaef1": {
      "model_module": "@jupyter-widgets/controls",
      "model_module_version": "2.0.0",
      "model_name": "HTMLStyleModel",
      "state": {
       "description_width": "",
       "font_size": null,
       "text_color": null
      }
     },
     "79a9bd9abb6d4036bd16535beebadef2": {
      "model_module": "@jupyter-widgets/base",
      "model_module_version": "2.0.0",
      "model_name": "LayoutModel",
      "state": {}
     },
     "800fca59dbc440fb9fbe6e1d98c86241": {
      "model_module": "@jupyter-widgets/controls",
      "model_module_version": "2.0.0",
      "model_name": "ProgressStyleModel",
      "state": {
       "description_width": ""
      }
     },
     "80540e12024c4a548b3da4b462c85425": {
      "model_module": "@jupyter-widgets/base",
      "model_module_version": "2.0.0",
      "model_name": "LayoutModel",
      "state": {}
     },
     "8328670f4f794da09ac382f12c337048": {
      "model_module": "@jupyter-widgets/controls",
      "model_module_version": "2.0.0",
      "model_name": "HBoxModel",
      "state": {
       "children": [
        "IPY_MODEL_9a58809a13f44eb8966e4d51eead6142",
        "IPY_MODEL_cff95d4a1dc545cb84a151818022bb89",
        "IPY_MODEL_26dde133d41b4bc7a81147ce204a975a"
       ],
       "layout": "IPY_MODEL_e36ab262fcc44d48917541b85930db8c"
      }
     },
     "846265c3ea134eb096665ac872330d87": {
      "model_module": "@jupyter-widgets/controls",
      "model_module_version": "2.0.0",
      "model_name": "ProgressStyleModel",
      "state": {
       "description_width": ""
      }
     },
     "8a41e05b37464d34abdda9b1431d5ecd": {
      "model_module": "@jupyter-widgets/base",
      "model_module_version": "2.0.0",
      "model_name": "LayoutModel",
      "state": {}
     },
     "8b3e703333dc4702932c9c3dfab17606": {
      "model_module": "@jupyter-widgets/controls",
      "model_module_version": "2.0.0",
      "model_name": "HTMLModel",
      "state": {
       "layout": "IPY_MODEL_ceefb7de2e154b3a8fdc0f5f9ff13f4a",
       "style": "IPY_MODEL_dc70c97a81674265ac79d6a84008b4fa",
       "value": " 111/111 [00:00&lt;00:00, 14339.72it/s]"
      }
     },
     "8bde678cdc5d42fb960ddfa5ade43733": {
      "model_module": "@jupyter-widgets/controls",
      "model_module_version": "2.0.0",
      "model_name": "ProgressStyleModel",
      "state": {
       "description_width": ""
      }
     },
     "9a58809a13f44eb8966e4d51eead6142": {
      "model_module": "@jupyter-widgets/controls",
      "model_module_version": "2.0.0",
      "model_name": "HTMLModel",
      "state": {
       "layout": "IPY_MODEL_340fefe0a54546c883c06e392b7d5cb1",
       "style": "IPY_MODEL_ee75392d14b84b8a8d4dbbd212462037",
       "value": "100%"
      }
     },
     "9b44d5aa42eb40dc9337987db89ba140": {
      "model_module": "@jupyter-widgets/controls",
      "model_module_version": "2.0.0",
      "model_name": "HTMLStyleModel",
      "state": {
       "description_width": "",
       "font_size": null,
       "text_color": null
      }
     },
     "a06f1efe0a7d4335b2a8824ab7a85cde": {
      "model_module": "@jupyter-widgets/base",
      "model_module_version": "2.0.0",
      "model_name": "LayoutModel",
      "state": {}
     },
     "a0a8c552260446239589a08f5271c9de": {
      "model_module": "@jupyter-widgets/controls",
      "model_module_version": "2.0.0",
      "model_name": "HTMLModel",
      "state": {
       "layout": "IPY_MODEL_fa2c83f39e0048e086dca648d5360a0d",
       "style": "IPY_MODEL_02ca05981eda4eb29de424e64699cc24",
       "value": " 16/16 [00:00&lt;00:00, 5788.24it/s]"
      }
     },
     "a140028250fc430eaf8bb90f0e0c8a12": {
      "model_module": "@jupyter-widgets/base",
      "model_module_version": "2.0.0",
      "model_name": "LayoutModel",
      "state": {}
     },
     "a9778ceb0a16471db393d93e46989027": {
      "model_module": "@jupyter-widgets/controls",
      "model_module_version": "2.0.0",
      "model_name": "HBoxModel",
      "state": {
       "children": [
        "IPY_MODEL_b94ab3e340714b78986bb01cb454f29b",
        "IPY_MODEL_ff97b6f8f75549b2be40d940a02e1593",
        "IPY_MODEL_8b3e703333dc4702932c9c3dfab17606"
       ],
       "layout": "IPY_MODEL_5520acd4bf684fbf9338b312c62bfb81"
      }
     },
     "b94ab3e340714b78986bb01cb454f29b": {
      "model_module": "@jupyter-widgets/controls",
      "model_module_version": "2.0.0",
      "model_name": "HTMLModel",
      "state": {
       "layout": "IPY_MODEL_a140028250fc430eaf8bb90f0e0c8a12",
       "style": "IPY_MODEL_08531efe442049ec9e82f6052fe46341",
       "value": "100%"
      }
     },
     "c309aa0f49ed4d3c9fdba1faf48a5c72": {
      "model_module": "@jupyter-widgets/base",
      "model_module_version": "2.0.0",
      "model_name": "LayoutModel",
      "state": {}
     },
     "c871e8867564425dafb434501dda7eaa": {
      "model_module": "@jupyter-widgets/controls",
      "model_module_version": "2.0.0",
      "model_name": "FloatProgressModel",
      "state": {
       "bar_style": "success",
       "layout": "IPY_MODEL_2e7f6773597a4dbba8652297cff869de",
       "max": 16,
       "style": "IPY_MODEL_4ec2b0f88a30425685cbfb792d777596",
       "value": 16
      }
     },
     "ceefb7de2e154b3a8fdc0f5f9ff13f4a": {
      "model_module": "@jupyter-widgets/base",
      "model_module_version": "2.0.0",
      "model_name": "LayoutModel",
      "state": {}
     },
     "cff95d4a1dc545cb84a151818022bb89": {
      "model_module": "@jupyter-widgets/controls",
      "model_module_version": "2.0.0",
      "model_name": "FloatProgressModel",
      "state": {
       "bar_style": "success",
       "layout": "IPY_MODEL_79a9bd9abb6d4036bd16535beebadef2",
       "max": 16,
       "style": "IPY_MODEL_800fca59dbc440fb9fbe6e1d98c86241",
       "value": 16
      }
     },
     "d8f8acd82b6f4c0f807ecebfe6817d9b": {
      "model_module": "@jupyter-widgets/base",
      "model_module_version": "2.0.0",
      "model_name": "LayoutModel",
      "state": {}
     },
     "dc70c97a81674265ac79d6a84008b4fa": {
      "model_module": "@jupyter-widgets/controls",
      "model_module_version": "2.0.0",
      "model_name": "HTMLStyleModel",
      "state": {
       "description_width": "",
       "font_size": null,
       "text_color": null
      }
     },
     "e36ab262fcc44d48917541b85930db8c": {
      "model_module": "@jupyter-widgets/base",
      "model_module_version": "2.0.0",
      "model_name": "LayoutModel",
      "state": {}
     },
     "e444ac4803ec4575b92f2842eedce593": {
      "model_module": "@jupyter-widgets/controls",
      "model_module_version": "2.0.0",
      "model_name": "HTMLModel",
      "state": {
       "layout": "IPY_MODEL_e4f8a98a346e4513835a63758883b35e",
       "style": "IPY_MODEL_1510ceebd8c4407b8ac95db0104a24db",
       "value": " 16/16 [00:00&lt;00:00, 1612.50it/s]"
      }
     },
     "e4f8a98a346e4513835a63758883b35e": {
      "model_module": "@jupyter-widgets/base",
      "model_module_version": "2.0.0",
      "model_name": "LayoutModel",
      "state": {}
     },
     "e50099ee8c8540a99ab254c97abeee0b": {
      "model_module": "@jupyter-widgets/controls",
      "model_module_version": "2.0.0",
      "model_name": "HTMLStyleModel",
      "state": {
       "description_width": "",
       "font_size": null,
       "text_color": null
      }
     },
     "ed75e7bd69764a1e82acd5f9ecdde066": {
      "model_module": "@jupyter-widgets/controls",
      "model_module_version": "2.0.0",
      "model_name": "HTMLModel",
      "state": {
       "layout": "IPY_MODEL_4eb76f2cae3d46798e23af57395c135b",
       "style": "IPY_MODEL_694fddc2db614dbc81cc05d2f67aaef1",
       "value": " 16/16 [00:00&lt;00:00, 6765.01it/s]"
      }
     },
     "ee75392d14b84b8a8d4dbbd212462037": {
      "model_module": "@jupyter-widgets/controls",
      "model_module_version": "2.0.0",
      "model_name": "HTMLStyleModel",
      "state": {
       "description_width": "",
       "font_size": null,
       "text_color": null
      }
     },
     "f50a01d92d8d40f98ebb996561c6284f": {
      "model_module": "@jupyter-widgets/base",
      "model_module_version": "2.0.0",
      "model_name": "LayoutModel",
      "state": {}
     },
     "f9242ff7c98b4e0f973b26d244b51c83": {
      "model_module": "@jupyter-widgets/base",
      "model_module_version": "2.0.0",
      "model_name": "LayoutModel",
      "state": {}
     },
     "fa2c83f39e0048e086dca648d5360a0d": {
      "model_module": "@jupyter-widgets/base",
      "model_module_version": "2.0.0",
      "model_name": "LayoutModel",
      "state": {}
     },
     "fcb6875e7b864665913564d92a07973f": {
      "model_module": "@jupyter-widgets/controls",
      "model_module_version": "2.0.0",
      "model_name": "ProgressStyleModel",
      "state": {
       "description_width": ""
      }
     },
     "ff97b6f8f75549b2be40d940a02e1593": {
      "model_module": "@jupyter-widgets/controls",
      "model_module_version": "2.0.0",
      "model_name": "FloatProgressModel",
      "state": {
       "bar_style": "success",
       "layout": "IPY_MODEL_8a41e05b37464d34abdda9b1431d5ecd",
       "max": 111,
       "style": "IPY_MODEL_846265c3ea134eb096665ac872330d87",
       "value": 111
      }
     }
    },
    "version_major": 2,
    "version_minor": 0
   }
  }
 },
 "nbformat": 4,
 "nbformat_minor": 4
}
