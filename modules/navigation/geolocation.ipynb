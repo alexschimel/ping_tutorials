{
 "cells": [
  {
   "cell_type": "code",
   "execution_count": null,
   "id": "a2d9d1cc-569f-4840-99fc-83cb762cd2af",
   "metadata": {},
   "outputs": [],
   "source": [
    "# import this module# import this module\n",
    "from themachinethatgoesping.navigation.datastructures import GeoLocationLatLon, GeoLocationUTM\n",
    "\n",
    "location = GeoLocationUTM(\n",
    "   5427745.995,  # northing\n",
    "   314082.699, # easting\n",
    "   60, #utm zone\n",
    "   False, #northern_hemisphere\n",
    "   3, #depth\n",
    "   10, #yaw\n",
    "   20, #pitch\n",
    "   30) #roll\n",
    "\n",
    "print(location)\n",
    "\n",
    "# GeoLocationUTM\n",
    "# **************\n",
    "# - northing:            5427746.00 [positive northwards, m]\n",
    "# - easting:             314082.70  [positive eastwards, m]\n",
    "# - zone:                60\n",
    "# - northern_hemisphere: false\n",
    "# - z:                   3.00       [positive downwards, m]\n",
    "# - yaw:                 10.00      [90 ° at east]\n",
    "# - pitch:               20.00      [° positive bow up]\n",
    "# - roll:                30.00      [° positive port up]\n",
    "\n",
    "# conversion to latlon location (works in both directions)\n",
    "location_latlon = GeoLocationLatLon(location)\n",
    "\n",
    "print(location_latlon)\n",
    "\n",
    "# GeoLocation\n",
    "# ***********\n",
    "#   latitude:  41°16'49.2\"S  [ddd°mm',ss.s''N/S]\n",
    "# - longitude: 41°16'49.2\"W  [ddd°mm',ss.s''E/W]\n",
    "# - z:         3.00   [positive downwards, m]\n",
    "# - yaw:       10.00  [90 ° at east]\n",
    "# - pitch:     20.00  [° positive bow up]\n",
    "# - roll:      30.00  [° positive port up]"
   ]
  },
  {
   "cell_type": "code",
   "execution_count": null,
   "id": "dd145de2-14ef-4a85-b0e0-13d1320d78c6",
   "metadata": {},
   "outputs": [],
   "source": []
  },
  {
   "cell_type": "code",
   "execution_count": null,
   "id": "acab1532-0d26-437b-bd8a-ac88b9e51b35",
   "metadata": {},
   "outputs": [],
   "source": []
  },
  {
   "cell_type": "code",
   "execution_count": null,
   "id": "1a80549d-f770-4d80-aaaf-afa173603f06",
   "metadata": {},
   "outputs": [],
   "source": []
  }
 ],
 "metadata": {
  "kernelspec": {
   "display_name": "Python 3 (ipykernel)",
   "language": "python",
   "name": "python3"
  },
  "language_info": {
   "codemirror_mode": {
    "name": "ipython",
    "version": 3
   },
   "file_extension": ".py",
   "mimetype": "text/x-python",
   "name": "python",
   "nbconvert_exporter": "python",
   "pygments_lexer": "ipython3",
   "version": "3.11.3"
  },
  "vscode": {
   "interpreter": {
    "hash": "004b4bd4169e17fdcb87bfc8104a00130ef938c56c6e2bd3919919f77c66ace3"
   }
  }
 },
 "nbformat": 4,
 "nbformat_minor": 5
}
