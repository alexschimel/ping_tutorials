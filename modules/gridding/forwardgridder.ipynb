{
 "cells": [
  {
   "cell_type": "code",
   "execution_count": null,
   "id": "9f46fee5-7235-48a7-a273-c73ee37fe7d7",
   "metadata": {},
   "outputs": [],
   "source": [
    "%matplotlib widget\n",
    "from matplotlib import pyplot as plt\n",
    "from importlib import reload\n",
    "import themachinethatgoesping as ping\n",
    "import themachinethatgoesping.gridding as grd\n",
    "import numpy as np\n",
    "from time import time\n",
    "reload(grd)\n"
   ]
  },
  {
   "cell_type": "code",
   "execution_count": null,
   "id": "d6bfbea7-c813-4338-a5ac-17e5d8d3568f",
   "metadata": {},
   "outputs": [],
   "source": [
    "size=1000000\n",
    "\n",
    "sx = np.random.random(size)*100\n",
    "sy = np.random.random(size)*100\n",
    "sz = np.random.random(size)*100\n",
    "sv = np.random.random(size)*1"
   ]
  },
  {
   "cell_type": "code",
   "execution_count": null,
   "id": "3319626c-50af-4c07-a228-c9b1e487c509",
   "metadata": {},
   "outputs": [],
   "source": [
    "def get_minmax(sx,sy,sz):\n",
    "    return np.min(sx),np.max(sx), np.min(sy),np.max(sy), np.min(sz),np.max(sz)"
   ]
  },
  {
   "cell_type": "code",
   "execution_count": null,
   "id": "18bd25e3-9912-4112-b856-4f383256faf0",
   "metadata": {},
   "outputs": [],
   "source": [
    "reload(ping)\n",
    "%timeit -n 1 -r 1  ping.gridding.functions.gridfunctions.get_minmax(sx,sy,sz);\n",
    "%timeit -n 1 -r 1  get_minmax(sx,sy,sz);"
   ]
  },
  {
   "cell_type": "code",
   "execution_count": null,
   "id": "11d9fd65-36d8-49e2-959c-11867aac21b3",
   "metadata": {},
   "outputs": [],
   "source": [
    "import gc\n",
    "import matplotlib as mpl\n",
    "\n",
    "mpl.rcParams['figure.dpi'] = 100\n",
    "close_plots = True\n",
    "\n",
    "\n",
    "def create_figure(name):\n",
    "    if close_plots: plt.close(name)\n",
    "    fig = plt.figure(name)\n",
    "    fig.suptitle = name\n",
    "    \n",
    "    return fig\n"
   ]
  },
  {
   "cell_type": "code",
   "execution_count": null,
   "id": "79a33480-1a7f-4968-be92-cf975164659a",
   "metadata": {},
   "outputs": [],
   "source": [
    "#get min and max from xyz vectors\n",
    "minmax_xyz = grd.ForwardGridder.get_minmax(\n",
    "    sx = sx,\n",
    "    sy = sy,\n",
    "    sz = sz)\n",
    "\n",
    "print(minmax_xyz)"
   ]
  },
  {
   "cell_type": "code",
   "execution_count": null,
   "id": "b7b3201e-bb0c-49a1-8980-907add35f8ae",
   "metadata": {},
   "outputs": [],
   "source": [
    "#initialize gridder\n",
    "grid_res = 1\n",
    "\n",
    "gridder = grd.ForwardGridder.from_data(grid_res,sx,sy,sz)\n",
    "\n",
    "t1 = time()\n",
    "ival, iweight = gridder.interpolate_block_mean(sx,sy,sz,sv)\n",
    "t2 = time()\n",
    "print(round(t2-t1,3),'s')\n",
    "ival, iweight = gridder.interpolate_weighted_mean(sx,sy,sz,sv)\n",
    "print(round(time()-t2,3),'s')"
   ]
  },
  {
   "cell_type": "code",
   "execution_count": null,
   "id": "867e8e2f-88c3-4e47-a628-71b4861ca8a9",
   "metadata": {},
   "outputs": [],
   "source": [
    "ival.shape"
   ]
  },
  {
   "cell_type": "code",
   "execution_count": null,
   "id": "d6fc3658-8581-4e91-961b-754810dfff6a",
   "metadata": {},
   "outputs": [],
   "source": [
    "#convert to a scattergrid for convenience\n",
    "egrd = grd.EchoGrid(ival,iweight,gridder)\n",
    "result_image = egrd.get_3DImage(toDb=True,minDbVal=-50) #this is the image you want\n",
    "total_sv = egrd.TotalValue #this is the total backscattering cross-section\n",
    "total_sv_layer = egrd.TotalValueLayer #about this we talk when you do layer slicing\n",
    "print(total_sv)"
   ]
  },
  {
   "cell_type": "code",
   "execution_count": null,
   "id": "3f41b46d-ba97-46ab-b3e7-0159dc859138",
   "metadata": {},
   "outputs": [],
   "source": [
    "egrd = egrd.cutDepthLayer(40,10)\n",
    "result_image = egrd.get_3DImage(toDb=True,minDbVal=-50) #this is the image you want\n",
    "total_sv = egrd.TotalValue #this is the total backscattering cross-section\n",
    "total_sv_layer = egrd.TotalValueLayer #about this we talk when you do layer slicing\n",
    "print(total_sv)\n",
    "print(total_sv_layer)"
   ]
  },
  {
   "cell_type": "code",
   "execution_count": null,
   "id": "b42b2851-7332-4db5-945c-8ce324ac06e0",
   "metadata": {},
   "outputs": [],
   "source": [
    "#sum voxels\n",
    "map_image_layer = np.nansum(egrd.get_3DImage(toDb=False),axis=2)*gridder.xres*gridder.yres*gridder.zres\n",
    "np.nansum(map_image_layer)"
   ]
  },
  {
   "cell_type": "code",
   "execution_count": null,
   "id": "83ada4d3-bd72-45e6-b48d-0cc331059db2",
   "metadata": {},
   "outputs": [],
   "source": [
    "#sum pixels\n",
    "map_image_layer_vertical = np.nanmean(egrd.ImageAvg, axis=2)*gridder.xres * gridder.yres * egrd.ZDiff\n",
    "np.nansum(map_image_layer_vertical)"
   ]
  },
  {
   "cell_type": "code",
   "execution_count": null,
   "id": "9c42b60f-9168-4b3d-9ce1-dbcdacd75489",
   "metadata": {},
   "outputs": [],
   "source": [
    "cmap = 'YlGnBu'"
   ]
  },
  {
   "cell_type": "code",
   "execution_count": null,
   "id": "c4a8c497-43a0-4d88-9415-896f07a1457c",
   "metadata": {},
   "outputs": [],
   "source": [
    "#plot scatter grid\n",
    "\n",
    "from ipywidgets import *\n",
    "import numpy as np\n",
    "import matplotlib.pyplot as plt\n",
    "import math\n",
    "\n",
    "#get min max\n",
    "image = egrd.ImageAvg.copy()\n",
    "image[egrd.ImageNums == 0] = np.nan\n",
    "image[image==0] = np.nan\n",
    "tmp = 10 * np.log10(image)\n",
    "egrdCmin = np.nanmin(tmp)\n",
    "egrdCmax = np.nanmax(tmp)\n",
    "print(egrdCmin,egrdCmax)\n",
    "\n",
    "fig_slices = create_figure('axes sum')\n",
    "\n",
    "def update(cmin = (math.floor(egrdCmin),\n",
    "                   math.ceil(egrdCmax),\n",
    "                  0.5),\n",
    "          show_indices=False,\n",
    "           show_colorbar=False,\n",
    "           wci_index=(-1,egrd.ImageAvg.shape[0]-1),\n",
    "           echo_index=(-1,egrd.ImageAvg.shape[1]-1),\n",
    "           depth_index=(-1,egrd.ImageAvg.shape[2]-1),\n",
    "           show_wci=True,\n",
    "           show_echo=False,\n",
    "           show_map=False):\n",
    "            \n",
    "    if wci_index == -1: wci_index = None\n",
    "    if echo_index == -1: echo_index = None\n",
    "    if depth_index == -1: depth_index = None\n",
    "    \n",
    "    global fig_slices, local_image\n",
    "    \n",
    "    try:\n",
    "        \n",
    "        fig_slices, ax, local_image = egrd.plot(\n",
    "            fig_slices,\n",
    "            show_wci  = show_wci,\n",
    "            show_echo = show_echo,\n",
    "            show_map  = show_map,\n",
    "            show_colorbar = show_colorbar,\n",
    "            toDb      = True,\n",
    "            minDbVal  = cmin,\n",
    "            xindex = wci_index,\n",
    "            yindex = echo_index,\n",
    "            zindex = depth_index,\n",
    "                kwargs={\n",
    "                    'cmap' : cmap,\n",
    "                    #'vmin' : egrdCmin,\n",
    "                    'vmax' : egrdCmax\n",
    "                },\n",
    "            colorbar_kwargs = {\n",
    "                'orientation' : 'horizontal'\n",
    "            }\n",
    "        )\n",
    "    except Exception as e:\n",
    "        print(e)\n",
    "        pass\n",
    "    \n",
    "    grd = egrd.getGridder()\n",
    "    \n",
    "    \n",
    "    if wci_index is not None:\n",
    "        wci_index_m   = grd.get_x_value(wci_index)    \n",
    "    if echo_index is not None:\n",
    "        echo_index_m  = grd.get_y_value(echo_index)\n",
    "    if depth_index is not None:\n",
    "        depth_index_m = grd.get_z_value(depth_index)\n",
    "\n",
    "    axes = iter(fig_slices.get_axes())\n",
    "    if show_wci:\n",
    "        ax = next(axes)        \n",
    "        if show_indices:\n",
    "            if depth_index is not None and show_map:\n",
    "                ax.plot(grd.get_extent_y(),[depth_index_m,depth_index_m],c='grey',linewidth=2)\n",
    "            if echo_index is not None and show_echo:\n",
    "                ax.plot([echo_index_m,echo_index_m],grd.get_extent_z(),c='grey',linewidth=2)\n",
    "        \n",
    "    if show_echo:\n",
    "        ax = next(axes)\n",
    "            \n",
    "        if show_indices:\n",
    "            if wci_index is not None and show_wci:\n",
    "                ax.plot([wci_index_m,wci_index_m],grd.get_extent_z(),c='grey',linewidth=2)\n",
    "            if depth_index is not None and show_map:\n",
    "                ax.plot(grd.get_extent_x(),[depth_index_m,depth_index_m],c='grey',linewidth=2)\n",
    "    if show_map:\n",
    "        ax = next(axes)\n",
    "        if show_indices:\n",
    "            if wci_index is not None and show_wci:\n",
    "                ax.plot(grd.get_extent_x(),[wci_index_m,wci_index_m],c='grey',linewidth=2)\n",
    "            if echo_index is not None and show_echo:\n",
    "                ax.plot([echo_index_m,echo_index_m],grd.get_extent_y(),c='grey',linewidth=2)\n",
    "    \n",
    "            \n",
    "   \n",
    "    fig_slices.canvas.draw_idle()\n",
    "    #fig.savefig(\"../fig_yz.svg\",dpi=300)\n",
    "    \n",
    "    \n",
    "\n",
    "interact(update);"
   ]
  },
  {
   "cell_type": "code",
   "execution_count": null,
   "id": "923c51be-94db-4c44-aaa9-56668ad186c6",
   "metadata": {},
   "outputs": [],
   "source": []
  },
  {
   "cell_type": "code",
   "execution_count": null,
   "id": "b9496687-130e-4e08-96d5-dae834c5a16c",
   "metadata": {},
   "outputs": [],
   "source": []
  }
 ],
 "metadata": {
  "kernelspec": {
   "display_name": "Python 3 (ipykernel)",
   "language": "python",
   "name": "python3"
  },
  "language_info": {
   "codemirror_mode": {
    "name": "ipython",
    "version": 3
   },
   "file_extension": ".py",
   "mimetype": "text/x-python",
   "name": "python",
   "nbconvert_exporter": "python",
   "pygments_lexer": "ipython3",
   "version": "3.11.3"
  },
  "vscode": {
   "interpreter": {
    "hash": "004b4bd4169e17fdcb87bfc8104a00130ef938c56c6e2bd3919919f77c66ace3"
   }
  }
 },
 "nbformat": 4,
 "nbformat_minor": 5
}
