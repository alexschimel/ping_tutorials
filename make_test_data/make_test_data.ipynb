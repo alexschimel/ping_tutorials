{
 "cells": [
  {
   "cell_type": "code",
   "execution_count": 1,
   "id": "535db849-8457-4622-a616-3e0dadd96f16",
   "metadata": {
    "notebookRunGroups": {
     "groupValue": "1"
    },
    "tags": []
   },
   "outputs": [],
   "source": [
    "import os\n",
    "from pathlib import Path\n",
    "import numpy as np\n",
    "from tqdm.auto import tqdm\n",
    "import pickle\n",
    "from collections import defaultdict\n",
    "import importlib\n",
    "from matplotlib import pyplot as plt\n",
    "from tqdm.auto import tqdm\n",
    "\n",
    "from themachinethatgoesping.echosounders import kongsbergall, simradraw, index_functions\n",
    "from themachinethatgoesping import pingprocessing as pp\n",
    "from themachinethatgoesping import tools as ptools"
   ]
  },
  {
   "cell_type": "code",
   "execution_count": 2,
   "id": "49e232c3-6b7f-49ef-a074-d645227b9f92",
   "metadata": {
    "notebookRunGroups": {
     "groupValue": "1"
    },
    "tags": []
   },
   "outputs": [
    {
     "name": "stdout",
     "output_type": "stream",
     "text": [
      "themachinethatgoesping\n",
      "- version:       0.14.1\n",
      "\n",
      "modules:\n",
      "- tools_cppy     0.21.5\n",
      "- tools          @PROJECT_VERSION@\n",
      "- scripts        @PROJECT_VERSION@\n",
      "- algorithms     0.5.4\n",
      "- navigation     0.14.2\n",
      "- echosounders_cppy 0.32.0\n",
      "- echosounders   0.32.0\n",
      "- pingprocessing_cppy 0.4.0\n",
      "- pingprocessing @PROJECT_VERSION@\n",
      "- gridding       @PROJECT_VERSION@\n"
     ]
    }
   ],
   "source": [
    "import themachinethatgoesping as tmtgp\n",
    "tmtgp.version()"
   ]
  },
  {
   "cell_type": "code",
   "execution_count": 3,
   "id": "a85ea320-1f61-4fdd-8cec-dbe63a653aed",
   "metadata": {
    "notebookRunGroups": {
     "groupValue": "1"
    },
    "tags": []
   },
   "outputs": [],
   "source": [
    "#create the output path\n",
    "path_out = \"../unittest_data\"\n",
    "path_in = \"./data_in/\"\n",
    "\n",
    "os.makedirs(path_out,exist_ok=True)\n",
    "os.makedirs(path_in,exist_ok=True)"
   ]
  },
  {
   "cell_type": "markdown",
   "id": "2cfcbd6d-2df8-404b-ad5a-67532fdb775a",
   "metadata": {
    "tags": []
   },
   "source": [
    "## Explore and sort input data"
   ]
  },
  {
   "cell_type": "code",
   "execution_count": 4,
   "id": "74ddfc03-fa89-45a3-8089-89ccfcced81f",
   "metadata": {
    "notebookRunGroups": {
     "groupValue": "1"
    },
    "tags": []
   },
   "outputs": [
    {
     "name": "stdout",
     "output_type": "stream",
     "text": [
      "Found 2447 files\n",
      "./data_in/em2040/Meteor-M143/MBES/M143_EM122_Ukraine_raw\n",
      "./data_in/em2040/Meteor-M143/MBES/M143_EM122_Ukraine_raw/Ukraine02_initial\n",
      "./data_in/em2040/Meteor-M143/MBES/M143_EM122_raw\n",
      "./data_in/em2040/Meteor-M143/MBES/M143_EM710_Ukraine_raw\n",
      "./data_in/em2040/Meteor-M143/MBES/M143_EM710_raw\n",
      "./data_in/em2040/alex\n",
      "./data_in/em2040/em2040_Turbeams_1/TURBEAMS_20220318_W08\n",
      "./data_in/em2040/em2040_Turbeams_1/TURBEAMS_220317_W05\n",
      "./data_in/em2040/em2040_Turbeams_1/TURBEAMS_220319_MOW1\n",
      "./data_in/em2040/em2040_Turbeams_3\n",
      "./data_in/em2040/koen campaign 2/em2024/B2503_interferenceTest\n",
      "./data_in/em2040/koen campaign 2/em2024/Campaign2305-turbeams-calibration\n",
      "./data_in/em2040/koen campaign 2/em2024/em2040/C2305-ITEST-SEA\n",
      "./data_in/em2040/koen campaign 2/em2024/em2040/C2305_DPTEST\n",
      "./data_in/em2040/koen campaign 2/em2024/em2040/C2305_FCABRAL_PLUME1/00_RAW_TIDE_DRAUGHT_AC_DATA\n",
      "./data_in/em2040/koen campaign 2/em2024/em2040/C2305_FCABRAL_PLUME2/00_RAW_TIDE_DRAUGHT_AC_DATA\n",
      "./data_in/em2040/koen campaign 2/em2024/em2040/C2305_FCABRAL_PLUME3/00_RAW_TIDE_DRAUGHT_AC_DATA\n",
      "./data_in/em2040/koen campaign 2/em2024/em2040/C2305_ROSETTETEST\n",
      "./data_in/em2040/koen campaign 2/em2024/em2040/C2305_TESTINTERFERENCE_SEA/00_RAW_TIDE_DRAUGHT_AC_DATA\n",
      "./data_in/em2040/koen campaign 2/em2024/em2040/C2305_VPRTEST\n",
      "./data_in/em2040/koen campaign 2/em2024/em2040/C2503_TESTINTERFERENCE_HARBOR/00_RAW_TIDE_DRAUGHT_AC_DATA\n",
      "./data_in/em2040/koen campaign 2/em2040/C2305-ITEST-SEA\n",
      "./data_in/em2040/koen campaign 2/em2040/C2305_DPTEST\n",
      "./data_in/em2040/koen campaign 2/em2040/C2305_FCABRAL_PLUME1/00_RAW_TIDE_DRAUGHT_AC_DATA\n",
      "./data_in/em2040/koen campaign 2/em2040/C2305_FCABRAL_PLUME2/00_RAW_TIDE_DRAUGHT_AC_DATA\n",
      "./data_in/em2040/koen campaign 2/em2040/C2305_FCABRAL_PLUME3/00_RAW_TIDE_DRAUGHT_AC_DATA\n",
      "./data_in/em2040/koen campaign 2/em2040/C2305_ROSETTETEST\n",
      "./data_in/em2040/koen campaign 2/em2040/C2305_TESTINTERFERENCE_SEA/00_RAW_TIDE_DRAUGHT_AC_DATA\n",
      "./data_in/em2040/koen campaign 2/em2040/C2305_VPRTEST\n",
      "./data_in/em2040/koen campaign 2/em2040/C2503_TESTINTERFERENCE_HARBOR/00_RAW_TIDE_DRAUGHT_AC_DATA\n"
     ]
    }
   ],
   "source": [
    "folders = index_functions.find_folders_with_files(path_in, [\".all\",\".wcd\"], followlinks=True)\n",
    "folders.sort()\n",
    "N = 20\n",
    "\n",
    "for input_path in folders:\n",
    "    print(input_path)"
   ]
  },
  {
   "cell_type": "code",
   "execution_count": 5,
   "id": "61016d8e-fd28-4890-bbe0-3a56b48d7cd5",
   "metadata": {
    "tags": []
   },
   "outputs": [
    {
     "data": {
      "application/vnd.jupyter.widget-view+json": {
       "model_id": "0ccc44ecd848472a9ecbc693b157df0b",
       "version_major": 2,
       "version_minor": 0
      },
      "text/plain": [
       "Creating test data:   0%|          | 0/90 [00:00<?, ?files/s]"
      ]
     },
     "metadata": {},
     "output_type": "display_data"
    },
    {
     "data": {
      "application/vnd.jupyter.widget-view+json": {
       "model_id": "db0534e6fe6f43cb81741426703d7089",
       "version_major": 2,
       "version_minor": 0
      },
      "text/plain": [
       "removing duplicates:  22%|##2       | 31/139 [00:03<00:11,  9.50it/s]"
      ]
     },
     "metadata": {},
     "output_type": "display_data"
    },
    {
     "name": "stdout",
     "output_type": "stream",
     "text": [
      " -M143_EM122_Ukraine_raw-20171216_123028-EM122-[TRX-111]-dual_rx(False)\n"
     ]
    },
    {
     "data": {
      "application/vnd.jupyter.widget-view+json": {
       "model_id": "f3419518f06a4243a8253c8eacd8c9f7",
       "version_major": 2,
       "version_minor": 0
      },
      "text/plain": [
       "removing duplicates:  16%|#5        | 22/138 [00:03<00:16,  7.03it/s]"
      ]
     },
     "metadata": {},
     "output_type": "display_data"
    },
    {
     "name": "stdout",
     "output_type": "stream",
     "text": [
      " -M143_EM122_Ukraine_raw-20171216_123028-EM122-[TRX-111]-dual_rx(False)\n",
      " -Ukraine02_initial-20171215_191021-EM122-[TRX-111]-dual_rx(False)\n",
      " -Ukraine02_initial-20171215_191021-EM122-[TRX-111]-dual_rx(False)\n",
      " -M143_EM122_raw-20171213_164425-EM122-[TRX-111]-dual_rx(False)\n",
      " -M143_EM122_raw-20171213_161424-EM122-[TRX-111]-dual_rx(False)\n",
      " -M143_EM710_Ukraine_raw-20171216_123020-EM710-[TRX-221]-dual_rx(False)\n",
      " -M143_EM710_Ukraine_raw-20171216_120020-EM710-[TRX-221]-dual_rx(False)\n",
      " -M143_EM710_raw-20171214_024740-EM710-[TRX-221]-dual_rx(False)\n",
      " -M143_EM710_raw-20171214_033859-EM710-[TRX-221]-dual_rx(False)\n",
      " -alex-20140213_061745-EM2045-[TRX-102]-dual_rx(False)\n",
      " -alex-20140213_061745-EM2045-[TRX-102]-dual_rx(False)\n",
      " -TURBEAMS_20220318_W08-20220318_144808-EM2040-[TRX-2031|TRX-2004]-dual_rx(True)\n",
      " -TURBEAMS_20220318_W08-20220318_144808-EM2040-[TRX-2031|TRX-2004]-dual_rx(True)\n",
      " -TURBEAMS_220317_W05-20220317_182909-EM2040-[TRX-2004|TRX-2031]-dual_rx(True)\n",
      " -TURBEAMS_220317_W05-20220317_182909-EM2040-[TRX-2031|TRX-2004]-dual_rx(True)\n",
      " -TURBEAMS_220319_MOW1-20220319_080620-EM2040-[TRX-2031|TRX-2004]-dual_rx(True)\n",
      " -TURBEAMS_220319_MOW1-20220319_080620-EM2040-[TRX-2004|TRX-2031]-dual_rx(True)\n",
      " -em2040_Turbeams_3-20230421_051445-EM2040-[TRX-2004|TRX-2031]-dual_rx(True)\n",
      " -em2040_Turbeams_3-20230421_051445-EM2040-[TRX-2004|TRX-2031]-dual_rx(True)\n",
      " -B2503_interferenceTest-20230317_134126-EM2040-[TRX-2004|TRX-2031]-dual_rx(True)\n",
      " -B2503_interferenceTest-20230317_133805-EM2040-[TRX-2031|TRX-2004]-dual_rx(True)\n",
      " -Campaign2305-turbeams-calibration-20230319_114801-EM2040-[TRX-2004|TRX-2031]-dual_rx(True)\n",
      " -Campaign2305-turbeams-calibration-20230319_113301-EM2040-[TRX-2031|TRX-2004]-dual_rx(True)\n",
      " -C2305-ITEST-SEA-20230318_124911-EM2040-[TRX-2004|TRX-2031]-dual_rx(True)\n",
      " -C2305-ITEST-SEA-20230318_124911-EM2040-[TRX-2004|TRX-2031]-dual_rx(True)\n",
      " -C2305_DPTEST-20230318_205844-EM2040-[TRX-2004|TRX-2031]-dual_rx(True)\n",
      " -C2305_DPTEST-20230318_205844-EM2040-[TRX-2004|TRX-2031]-dual_rx(True)\n",
      " -00_RAW_TIDE_DRAUGHT_AC_DATA-20230318_165253-EM2040-[TRX-2031|TRX-2004]-dual_rx(True)\n",
      " -00_RAW_TIDE_DRAUGHT_AC_DATA-20230318_165253-EM2040-[TRX-2031|TRX-2004]-dual_rx(True)\n",
      " -00_RAW_TIDE_DRAUGHT_AC_DATA-20230319_045522-EM2040-[TRX-2004|TRX-2031]-dual_rx(True)\n",
      " -00_RAW_TIDE_DRAUGHT_AC_DATA-20230319_045522-EM2040-[TRX-2004|TRX-2031]-dual_rx(True)\n",
      " -00_RAW_TIDE_DRAUGHT_AC_DATA-20230319_174933-EM2040-[TRX-2031|TRX-2004]-dual_rx(True)\n",
      " -00_RAW_TIDE_DRAUGHT_AC_DATA-20230319_174933-EM2040-[TRX-2031|TRX-2004]-dual_rx(True)\n",
      " -C2305_ROSETTETEST-20230318_142723-EM2040-[TRX-2004|TRX-2031]-dual_rx(True)\n",
      " -C2305_ROSETTETEST-20230318_141223-EM2040-[TRX-2004|TRX-2031]-dual_rx(True)\n",
      " -00_RAW_TIDE_DRAUGHT_AC_DATA-20230318_124604-EM2040-[TRX-2031|TRX-2004]-dual_rx(True)\n",
      " -00_RAW_TIDE_DRAUGHT_AC_DATA-20230318_124911-EM2040-[TRX-2004|TRX-2031]-dual_rx(True)\n",
      " -C2305_VPRTEST-20230318_105430-EM2040-[TRX-2031|TRX-2004]-dual_rx(True)\n",
      " -C2305_VPRTEST-20230318_105430-EM2040-[TRX-2004|TRX-2031]-dual_rx(True)\n",
      " -00_RAW_TIDE_DRAUGHT_AC_DATA-20230317_133504-EM2040-[TRX-2031|TRX-2004]-dual_rx(True)\n",
      " -00_RAW_TIDE_DRAUGHT_AC_DATA-20230317_133504-EM2040-[TRX-2031|TRX-2004]-dual_rx(True)\n",
      " -C2305-ITEST-SEA-20230318_124911-EM2040-[TRX-2004|TRX-2031]-dual_rx(True)\n",
      " -C2305-ITEST-SEA-20230318_124911-EM2040-[TRX-2004|TRX-2031]-dual_rx(True)\n",
      " -C2305_DPTEST-20230318_205844-EM2040-[TRX-2004|TRX-2031]-dual_rx(True)\n",
      " -C2305_DPTEST-20230318_205844-EM2040-[TRX-2004|TRX-2031]-dual_rx(True)\n",
      " -00_RAW_TIDE_DRAUGHT_AC_DATA-20230318_165253-EM2040-[TRX-2031|TRX-2004]-dual_rx(True)\n",
      " -00_RAW_TIDE_DRAUGHT_AC_DATA-20230318_165253-EM2040-[TRX-2031|TRX-2004]-dual_rx(True)\n",
      " -00_RAW_TIDE_DRAUGHT_AC_DATA-20230319_045522-EM2040-[TRX-2004|TRX-2031]-dual_rx(True)\n",
      " -00_RAW_TIDE_DRAUGHT_AC_DATA-20230319_045522-EM2040-[TRX-2004|TRX-2031]-dual_rx(True)\n",
      " -00_RAW_TIDE_DRAUGHT_AC_DATA-20230319_174933-EM2040-[TRX-2031|TRX-2004]-dual_rx(True)\n",
      " -00_RAW_TIDE_DRAUGHT_AC_DATA-20230319_174933-EM2040-[TRX-2031|TRX-2004]-dual_rx(True)\n",
      " -C2305_ROSETTETEST-20230318_142723-EM2040-[TRX-2004|TRX-2031]-dual_rx(True)\n",
      " -C2305_ROSETTETEST-20230318_141223-EM2040-[TRX-2004|TRX-2031]-dual_rx(True)\n",
      " -00_RAW_TIDE_DRAUGHT_AC_DATA-20230318_124604-EM2040-[TRX-2031|TRX-2004]-dual_rx(True)\n",
      " -00_RAW_TIDE_DRAUGHT_AC_DATA-20230318_124911-EM2040-[TRX-2004|TRX-2031]-dual_rx(True)\n",
      " -C2305_VPRTEST-20230318_105430-EM2040-[TRX-2031|TRX-2004]-dual_rx(True)\n",
      " -C2305_VPRTEST-20230318_105430-EM2040-[TRX-2004|TRX-2031]-dual_rx(True)\n",
      " -00_RAW_TIDE_DRAUGHT_AC_DATA-20230317_133504-EM2040-[TRX-2031|TRX-2004]-dual_rx(True)\n",
      " -00_RAW_TIDE_DRAUGHT_AC_DATA-20230317_133504-EM2040-[TRX-2031|TRX-2004]-dual_rx(True)\n"
     ]
    }
   ],
   "source": [
    "prg = tqdm(total = len(folders)*2, desc=\"Creating test data\", unit=\"files\")\n",
    "\n",
    "for input_path in folders:\n",
    "    for endings,prefix,postfix in [\n",
    "        [\".all\"         , \"all\"     , \".all\",],\n",
    "        [\".wcd\"         , \"wcd\"     , \".wcd\",]\n",
    "        ]:\n",
    "\n",
    "        prg.update(1)\n",
    "        prg.set_postfix_str(f\"{input_path} / {prefix}\")\n",
    "\n",
    "        prg.set_description(f\"finding files\")\n",
    "        input_files = index_functions.find_files(input_path,endings, followlinks=True, verbose = False)\n",
    "\n",
    "        #open and index files\n",
    "        prg.set_description(f\"opening files\")\n",
    "        index = index_functions.load_index_files(input_files)\n",
    "        fm = kongsbergall.KongsbergAllFileHandler_mapped(input_files, cached_index = index, show_progress=False)\n",
    "        index_functions.update_index_files(fm.get_cached_file_index())\n",
    "\n",
    "        # sort primary file numbers per folder and then per first time stamp\n",
    "        prg.set_description(f\"preparing files\")\n",
    "\n",
    "        interfaces = defaultdict(list)\n",
    "\n",
    "        for interface in tqdm(fm.datagramdata_interface.per_primary_file(),delay=1):\n",
    "            path = Path(interface.get_file_path())\n",
    "            interfaces[path.parent].append(interface)\n",
    "\n",
    "        for path, interfaces_ in tqdm(interfaces.items(),delay=1):\n",
    "            interfaces_.sort(key=lambda x: x.get_timestamp_first())\n",
    "\n",
    "        # split the pings per (primary) file path\n",
    "        pings_per_file_path = pp.split_pings.by_file_path(fm.pings(), progress=False)\n",
    "\n",
    "        path_out_ = f\"{path_out}/{prefix}\"\n",
    "        os.makedirs(path_out_,exist_ok=True)\n",
    "\n",
    "        prg.set_description(f\"writing pings\")\n",
    "        # for each final folder in path_in\n",
    "        for path, interfaces_ in tqdm(interfaces.items(),delay=1):\n",
    "            #take the first N pings of the file in the middle of the folder\n",
    "            middle_file_interface = interfaces_[len(interfaces_)//2]\n",
    "            file_path = middle_file_interface.get_file_path()\n",
    "            pings = pings_per_file_path[file_path]\n",
    "\n",
    "            #get the last timestamp of the Nth ping\n",
    "            pings = pings[:N]\n",
    "            last_timestamp = pings[-1].file_data.get_timestamp_last()\n",
    "            channel_ids = list(pp.split_pings.by_channel_id(pings).keys())\n",
    "\n",
    "            #build the file nam,e\n",
    "            d = middle_file_interface.datagrams(\"InstallationParametersStart\")[0]\n",
    "\n",
    "            time = ptools.timeconv.unixtime_to_datestring(d.get_timestamp(), format=\"%Y%m%d_%H%M%S\")\n",
    "            is_dual_rx = d.is_dual_rx()\n",
    "            model = f\"EM{d.get_model_number()}\"\n",
    "            channel_id_string = \"|\".join(channel_ids)\n",
    "            parent = str(Path(file_path).parent).split(\"/\")[-1]\n",
    "\n",
    "            key = f\"{parent}-{time}-{model}-[{channel_id_string}]-dual_rx({is_dual_rx})\"\n",
    "            print(f\" -{key}\")\n",
    "\n",
    "            with open(f\"{path_out_}/{key}{postfix}\",\"wb\") as ofi:\n",
    "                #loop through all datagrams in the file\n",
    "                for d in middle_file_interface.datagrams():\n",
    "                    #if the datagram is after the last timestamp of the Nth ping, stop\n",
    "                    if d.get_timestamp() > last_timestamp:\n",
    "                        break\n",
    "\n",
    "                    #write the datagram to the file\n",
    "                    ofi.write(d.to_binary())\n",
    "\n",
    "\n",
    "prg.close()\n",
    "        "
   ]
  },
  {
   "cell_type": "code",
   "execution_count": null,
   "metadata": {},
   "outputs": [],
   "source": []
  }
 ],
 "metadata": {
  "kernelspec": {
   "display_name": "Python 3 (ipykernel)",
   "language": "python",
   "name": "python3"
  },
  "language_info": {
   "codemirror_mode": {
    "name": "ipython",
    "version": 3
   },
   "file_extension": ".py",
   "mimetype": "text/x-python",
   "name": "python",
   "nbconvert_exporter": "python",
   "pygments_lexer": "ipython3",
   "version": "3.11.6"
  },
  "widgets": {
   "application/vnd.jupyter.widget-state+json": {
    "state": {
     "04c407adb36b4a8bb2d026c55e05f666": {
      "model_module": "@jupyter-widgets/base",
      "model_module_version": "2.0.0",
      "model_name": "LayoutModel",
      "state": {}
     },
     "0ae11a39040845318c3774665cbe141c": {
      "model_module": "@jupyter-widgets/base",
      "model_module_version": "2.0.0",
      "model_name": "LayoutModel",
      "state": {}
     },
     "0bde810a29d249a7ab6c18ca13d2b045": {
      "model_module": "@jupyter-widgets/controls",
      "model_module_version": "2.0.0",
      "model_name": "HTMLStyleModel",
      "state": {
       "description_width": "",
       "font_size": null,
       "text_color": null
      }
     },
     "164a4cf3bc4844098e75c3c06f34aa98": {
      "model_module": "@jupyter-widgets/controls",
      "model_module_version": "2.0.0",
      "model_name": "FloatProgressModel",
      "state": {
       "bar_style": "success",
       "layout": "IPY_MODEL_2c1573830d0142888b7ddc8350ee89d0",
       "max": 435,
       "style": "IPY_MODEL_c7982cc54bef4e47ad347aaf177b2e55",
       "value": 435
      }
     },
     "16542b78971a4425b40b920993c30174": {
      "model_module": "@jupyter-widgets/base",
      "model_module_version": "2.0.0",
      "model_name": "LayoutModel",
      "state": {}
     },
     "1c41d2e63ef544059ec70a5cd803916b": {
      "model_module": "@jupyter-widgets/controls",
      "model_module_version": "2.0.0",
      "model_name": "HTMLModel",
      "state": {
       "layout": "IPY_MODEL_628c2868024f40aabb3bd2e5494c9c4b",
       "style": "IPY_MODEL_bc83891361fb409ca1821a3c0d75459c",
       "value": "removing duplicates: 100%"
      }
     },
     "20e5e1ea1a0b4f84965aa22052c2dd7f": {
      "model_module": "@jupyter-widgets/controls",
      "model_module_version": "2.0.0",
      "model_name": "HTMLModel",
      "state": {
       "layout": "IPY_MODEL_9ffdb23491f04d82985685670b0c19e1",
       "style": "IPY_MODEL_c8d0ff69081a43b2a619fb38910c2fe4",
       "value": " 435/435 [00:00&lt;00:00, 787.97it/s]"
      }
     },
     "261259d520b44f5d906265ce8692f8ad": {
      "model_module": "@jupyter-widgets/controls",
      "model_module_version": "2.0.0",
      "model_name": "HTMLStyleModel",
      "state": {
       "description_width": "",
       "font_size": null,
       "text_color": null
      }
     },
     "2b5c2170e25b47eebb372fca1d8ec2bf": {
      "model_module": "@jupyter-widgets/controls",
      "model_module_version": "2.0.0",
      "model_name": "HTMLStyleModel",
      "state": {
       "description_width": "",
       "font_size": null,
       "text_color": null
      }
     },
     "2c1573830d0142888b7ddc8350ee89d0": {
      "model_module": "@jupyter-widgets/base",
      "model_module_version": "2.0.0",
      "model_name": "LayoutModel",
      "state": {}
     },
     "2dceae0fd9504966ab6e237f3ab8c5b0": {
      "model_module": "@jupyter-widgets/controls",
      "model_module_version": "2.0.0",
      "model_name": "FloatProgressModel",
      "state": {
       "bar_style": "success",
       "layout": "IPY_MODEL_4c95ae272356407887caf042660533c4",
       "max": 435,
       "style": "IPY_MODEL_da8a54928d0942d5995c2e254fdee6b9",
       "value": 435
      }
     },
     "2e991f79e3e244daa5bc625178df3e36": {
      "model_module": "@jupyter-widgets/controls",
      "model_module_version": "2.0.0",
      "model_name": "HTMLModel",
      "state": {
       "layout": "IPY_MODEL_d8ff7cf48f1c4151bca6c25cf4fa6b72",
       "style": "IPY_MODEL_261259d520b44f5d906265ce8692f8ad",
       "value": "removing duplicates: 100%"
      }
     },
     "2f97ae68210048ea91260e2b11a85f62": {
      "model_module": "@jupyter-widgets/controls",
      "model_module_version": "2.0.0",
      "model_name": "ProgressStyleModel",
      "state": {
       "description_width": ""
      }
     },
     "2fb589dbab7d4070b44c0bdefe4f54dc": {
      "model_module": "@jupyter-widgets/controls",
      "model_module_version": "2.0.0",
      "model_name": "HTMLModel",
      "state": {
       "layout": "IPY_MODEL_af83ad7c20f84babbebbdf252da58c62",
       "style": "IPY_MODEL_e70da34911f14c76883ddbd6ceb0d00f",
       "value": "removing duplicates: 100%"
      }
     },
     "32bd9118848541b283965ffd84324b37": {
      "model_module": "@jupyter-widgets/base",
      "model_module_version": "2.0.0",
      "model_name": "LayoutModel",
      "state": {}
     },
     "3309dc2cfaab48dba0803b8e99e4197a": {
      "model_module": "@jupyter-widgets/controls",
      "model_module_version": "2.0.0",
      "model_name": "ProgressStyleModel",
      "state": {
       "description_width": ""
      }
     },
     "332773f3b93649e69b2ea1f1c0f61225": {
      "model_module": "@jupyter-widgets/base",
      "model_module_version": "2.0.0",
      "model_name": "LayoutModel",
      "state": {}
     },
     "35a1f5e8c98b46c69413959556103914": {
      "model_module": "@jupyter-widgets/base",
      "model_module_version": "2.0.0",
      "model_name": "LayoutModel",
      "state": {}
     },
     "381bf92c327849ee8f586973223b67db": {
      "model_module": "@jupyter-widgets/controls",
      "model_module_version": "2.0.0",
      "model_name": "FloatProgressModel",
      "state": {
       "bar_style": "success",
       "layout": "IPY_MODEL_51044ed528ea481386442dce2d717d7e",
       "max": 435,
       "style": "IPY_MODEL_3ae131e2876046c694af20278a8a8ea3",
       "value": 435
      }
     },
     "3ae131e2876046c694af20278a8a8ea3": {
      "model_module": "@jupyter-widgets/controls",
      "model_module_version": "2.0.0",
      "model_name": "ProgressStyleModel",
      "state": {
       "description_width": ""
      }
     },
     "3b3b92f92df74efd82c0cd8d19974ca5": {
      "model_module": "@jupyter-widgets/controls",
      "model_module_version": "2.0.0",
      "model_name": "HBoxModel",
      "state": {
       "children": [
        "IPY_MODEL_3cdb23fa9cdc476a955e23e8c0c12e51",
        "IPY_MODEL_5ff9ff6cc63f462897b12ff0efe9d203",
        "IPY_MODEL_589b5517990649adaf9834ff0dc70f0f"
       ],
       "layout": "IPY_MODEL_4743ac7886f54da3b0396ed31bfc9881"
      }
     },
     "3c6786cd9b12400583e30e6af05b303a": {
      "model_module": "@jupyter-widgets/controls",
      "model_module_version": "2.0.0",
      "model_name": "HBoxModel",
      "state": {
       "children": [
        "IPY_MODEL_c7a82355eaf0451d82a5a725e8d16fab",
        "IPY_MODEL_164a4cf3bc4844098e75c3c06f34aa98",
        "IPY_MODEL_4c587462bcb54df4924bfb8e6b0662c2"
       ],
       "layout": "IPY_MODEL_16542b78971a4425b40b920993c30174"
      }
     },
     "3cdb23fa9cdc476a955e23e8c0c12e51": {
      "model_module": "@jupyter-widgets/controls",
      "model_module_version": "2.0.0",
      "model_name": "HTMLModel",
      "state": {
       "layout": "IPY_MODEL_de5e85ca38394f9ea528728c09e0e01f",
       "style": "IPY_MODEL_7da9b8dd85bb48beb7d76402f884cdae",
       "value": "removing duplicates: 100%"
      }
     },
     "41208866722741a5810209232661f929": {
      "model_module": "@jupyter-widgets/base",
      "model_module_version": "2.0.0",
      "model_name": "LayoutModel",
      "state": {}
     },
     "42f834ed8fe14d7ba27bab586c60313e": {
      "model_module": "@jupyter-widgets/controls",
      "model_module_version": "2.0.0",
      "model_name": "HTMLModel",
      "state": {
       "layout": "IPY_MODEL_6cb3b5e4cb7f409e89af72d1b63de274",
       "style": "IPY_MODEL_99c614a807174b3db2f6a2d73a716abc",
       "value": "removing duplicates: 100%"
      }
     },
     "44528ba4a02d41c8b9788f2058d6ec8a": {
      "model_module": "@jupyter-widgets/controls",
      "model_module_version": "2.0.0",
      "model_name": "HTMLStyleModel",
      "state": {
       "description_width": "",
       "font_size": null,
       "text_color": null
      }
     },
     "46854d4cb9464493b385c6bd6944df0e": {
      "model_module": "@jupyter-widgets/controls",
      "model_module_version": "2.0.0",
      "model_name": "FloatProgressModel",
      "state": {
       "bar_style": "success",
       "layout": "IPY_MODEL_64f7a9dd121b436ba6e35edfc3fc7e03",
       "max": 435,
       "style": "IPY_MODEL_9d6fdcc0ded84f7582c8b7c165807f93",
       "value": 435
      }
     },
     "4743ac7886f54da3b0396ed31bfc9881": {
      "model_module": "@jupyter-widgets/base",
      "model_module_version": "2.0.0",
      "model_name": "LayoutModel",
      "state": {}
     },
     "4a559b350698424d8efe234387e5103f": {
      "model_module": "@jupyter-widgets/base",
      "model_module_version": "2.0.0",
      "model_name": "LayoutModel",
      "state": {}
     },
     "4c1de835df3a4ff795002456589ee28c": {
      "model_module": "@jupyter-widgets/base",
      "model_module_version": "2.0.0",
      "model_name": "LayoutModel",
      "state": {}
     },
     "4c587462bcb54df4924bfb8e6b0662c2": {
      "model_module": "@jupyter-widgets/controls",
      "model_module_version": "2.0.0",
      "model_name": "HTMLModel",
      "state": {
       "layout": "IPY_MODEL_66979af468be4a969f37accc6ebc3be2",
       "style": "IPY_MODEL_b9b8f712afa54a11a797ecb00a1e42d0",
       "value": " 435/435 [00:00&lt;00:00, 839.68it/s]"
      }
     },
     "4c5ab47d9846403b829fb0abf59bcfa0": {
      "model_module": "@jupyter-widgets/controls",
      "model_module_version": "2.0.0",
      "model_name": "HTMLModel",
      "state": {
       "layout": "IPY_MODEL_71971f1546a4428e9b77e55b86d64f77",
       "style": "IPY_MODEL_f5501d52c2c04f0cb1b70ce7b8f0cceb",
       "value": "removing duplicates: 100%"
      }
     },
     "4c95ae272356407887caf042660533c4": {
      "model_module": "@jupyter-widgets/base",
      "model_module_version": "2.0.0",
      "model_name": "LayoutModel",
      "state": {}
     },
     "4f8b8f6a937b48e78b80627868cd7d91": {
      "model_module": "@jupyter-widgets/base",
      "model_module_version": "2.0.0",
      "model_name": "LayoutModel",
      "state": {}
     },
     "5036a8c78e3c4bcda127940884d8869a": {
      "model_module": "@jupyter-widgets/controls",
      "model_module_version": "2.0.0",
      "model_name": "HTMLStyleModel",
      "state": {
       "description_width": "",
       "font_size": null,
       "text_color": null
      }
     },
     "51044ed528ea481386442dce2d717d7e": {
      "model_module": "@jupyter-widgets/base",
      "model_module_version": "2.0.0",
      "model_name": "LayoutModel",
      "state": {}
     },
     "5174453724974b83bb31c5fffe9e9916": {
      "model_module": "@jupyter-widgets/controls",
      "model_module_version": "2.0.0",
      "model_name": "HBoxModel",
      "state": {
       "children": [
        "IPY_MODEL_1c41d2e63ef544059ec70a5cd803916b",
        "IPY_MODEL_a706da77ed1a45a2b29c5c8f8fcd09d9",
        "IPY_MODEL_f93890f2facb4cc7b41c9039ba87a088"
       ],
       "layout": "IPY_MODEL_41208866722741a5810209232661f929"
      }
     },
     "542c7062aaee479e86dcd18273ae7aac": {
      "model_module": "@jupyter-widgets/controls",
      "model_module_version": "2.0.0",
      "model_name": "HBoxModel",
      "state": {
       "children": [
        "IPY_MODEL_4c5ab47d9846403b829fb0abf59bcfa0",
        "IPY_MODEL_b9f930b00da046048b084c7375bcb4bc",
        "IPY_MODEL_72b92117878d4c26993954bc8da9cffc"
       ],
       "layout": "IPY_MODEL_931ac8244f5e489d9cfbafbfbd0bfa77"
      }
     },
     "589b5517990649adaf9834ff0dc70f0f": {
      "model_module": "@jupyter-widgets/controls",
      "model_module_version": "2.0.0",
      "model_name": "HTMLModel",
      "state": {
       "layout": "IPY_MODEL_658175b0895b41e187243865248db982",
       "style": "IPY_MODEL_9cf061e63df047289769bf8d641acdb5",
       "value": " 435/435 [00:00&lt;00:00, 843.91it/s]"
      }
     },
     "59983963432c44049eff02a410a49116": {
      "model_module": "@jupyter-widgets/controls",
      "model_module_version": "2.0.0",
      "model_name": "HTMLStyleModel",
      "state": {
       "description_width": "",
       "font_size": null,
       "text_color": null
      }
     },
     "5ca47253853b44e08128f302f857b1c0": {
      "model_module": "@jupyter-widgets/controls",
      "model_module_version": "2.0.0",
      "model_name": "HTMLModel",
      "state": {
       "layout": "IPY_MODEL_04c407adb36b4a8bb2d026c55e05f666",
       "style": "IPY_MODEL_44528ba4a02d41c8b9788f2058d6ec8a",
       "value": " 435/435 [00:00&lt;00:00, 874.83it/s]"
      }
     },
     "5ff9ff6cc63f462897b12ff0efe9d203": {
      "model_module": "@jupyter-widgets/controls",
      "model_module_version": "2.0.0",
      "model_name": "FloatProgressModel",
      "state": {
       "bar_style": "success",
       "layout": "IPY_MODEL_ce60f8c7ac924d9194e434c56632d026",
       "max": 435,
       "style": "IPY_MODEL_7fe1810ed4d84ac79017d7f241244cd3",
       "value": 435
      }
     },
     "628c2868024f40aabb3bd2e5494c9c4b": {
      "model_module": "@jupyter-widgets/base",
      "model_module_version": "2.0.0",
      "model_name": "LayoutModel",
      "state": {}
     },
     "63d9cd2554e34752a103565aad66a485": {
      "model_module": "@jupyter-widgets/base",
      "model_module_version": "2.0.0",
      "model_name": "LayoutModel",
      "state": {}
     },
     "64f7a9dd121b436ba6e35edfc3fc7e03": {
      "model_module": "@jupyter-widgets/base",
      "model_module_version": "2.0.0",
      "model_name": "LayoutModel",
      "state": {}
     },
     "657c7a08c9dc46188f1c0df57865a1aa": {
      "model_module": "@jupyter-widgets/base",
      "model_module_version": "2.0.0",
      "model_name": "LayoutModel",
      "state": {}
     },
     "658175b0895b41e187243865248db982": {
      "model_module": "@jupyter-widgets/base",
      "model_module_version": "2.0.0",
      "model_name": "LayoutModel",
      "state": {}
     },
     "66979af468be4a969f37accc6ebc3be2": {
      "model_module": "@jupyter-widgets/base",
      "model_module_version": "2.0.0",
      "model_name": "LayoutModel",
      "state": {}
     },
     "68192cd1d92043ffbec4af2f51468ec4": {
      "model_module": "@jupyter-widgets/controls",
      "model_module_version": "2.0.0",
      "model_name": "HBoxModel",
      "state": {
       "children": [
        "IPY_MODEL_2fb589dbab7d4070b44c0bdefe4f54dc",
        "IPY_MODEL_381bf92c327849ee8f586973223b67db",
        "IPY_MODEL_5ca47253853b44e08128f302f857b1c0"
       ],
       "layout": "IPY_MODEL_b2fdbfb202064be8b3f1cc4ba2c76e3a"
      }
     },
     "6a58b72f4fac424fbc1ad7d571a50b8e": {
      "model_module": "@jupyter-widgets/controls",
      "model_module_version": "2.0.0",
      "model_name": "HTMLStyleModel",
      "state": {
       "description_width": "",
       "font_size": null,
       "text_color": null
      }
     },
     "6b1eafd1ec394a5a901432d4b48dcd20": {
      "model_module": "@jupyter-widgets/base",
      "model_module_version": "2.0.0",
      "model_name": "LayoutModel",
      "state": {}
     },
     "6b891116b1794a7883e7615dc53ad267": {
      "model_module": "@jupyter-widgets/controls",
      "model_module_version": "2.0.0",
      "model_name": "HTMLStyleModel",
      "state": {
       "description_width": "",
       "font_size": null,
       "text_color": null
      }
     },
     "6cb3b5e4cb7f409e89af72d1b63de274": {
      "model_module": "@jupyter-widgets/base",
      "model_module_version": "2.0.0",
      "model_name": "LayoutModel",
      "state": {}
     },
     "6cf60e0233aa408b95110b435174565a": {
      "model_module": "@jupyter-widgets/base",
      "model_module_version": "2.0.0",
      "model_name": "LayoutModel",
      "state": {}
     },
     "6d7acb7a9127405bb98c0fea8b355e2e": {
      "model_module": "@jupyter-widgets/controls",
      "model_module_version": "2.0.0",
      "model_name": "ProgressStyleModel",
      "state": {
       "description_width": ""
      }
     },
     "6e13731a075d4825aad499702ebe489d": {
      "model_module": "@jupyter-widgets/controls",
      "model_module_version": "2.0.0",
      "model_name": "FloatProgressModel",
      "state": {
       "bar_style": "success",
       "layout": "IPY_MODEL_6b1eafd1ec394a5a901432d4b48dcd20",
       "max": 435,
       "style": "IPY_MODEL_d98a9852cb464c5ab7e85e1249a9c372",
       "value": 435
      }
     },
     "71971f1546a4428e9b77e55b86d64f77": {
      "model_module": "@jupyter-widgets/base",
      "model_module_version": "2.0.0",
      "model_name": "LayoutModel",
      "state": {}
     },
     "71e51ff38564403cbc60b1e1544d19d9": {
      "model_module": "@jupyter-widgets/base",
      "model_module_version": "2.0.0",
      "model_name": "LayoutModel",
      "state": {}
     },
     "720f0b66b439463bb3e98a9cd465e7c9": {
      "model_module": "@jupyter-widgets/controls",
      "model_module_version": "2.0.0",
      "model_name": "HBoxModel",
      "state": {
       "children": [
        "IPY_MODEL_8d43567e364c4713b2d22f02a457bf05",
        "IPY_MODEL_76c1e816d9c640f0a995bd38411d1f74",
        "IPY_MODEL_c7df67d0c35844ac8560be32a9911b92"
       ],
       "layout": "IPY_MODEL_ed4df225d73a48c6a2e980e57939dad7"
      }
     },
     "72b92117878d4c26993954bc8da9cffc": {
      "model_module": "@jupyter-widgets/controls",
      "model_module_version": "2.0.0",
      "model_name": "HTMLModel",
      "state": {
       "layout": "IPY_MODEL_4c1de835df3a4ff795002456589ee28c",
       "style": "IPY_MODEL_0bde810a29d249a7ab6c18ca13d2b045",
       "value": " 435/435 [00:00&lt;00:00, 736.53it/s]"
      }
     },
     "7546ee9c04bc44fd85f2fc92ae940409": {
      "model_module": "@jupyter-widgets/controls",
      "model_module_version": "2.0.0",
      "model_name": "HTMLStyleModel",
      "state": {
       "description_width": "",
       "font_size": null,
       "text_color": null
      }
     },
     "76c1e816d9c640f0a995bd38411d1f74": {
      "model_module": "@jupyter-widgets/controls",
      "model_module_version": "2.0.0",
      "model_name": "FloatProgressModel",
      "state": {
       "bar_style": "success",
       "layout": "IPY_MODEL_35a1f5e8c98b46c69413959556103914",
       "max": 435,
       "style": "IPY_MODEL_2f97ae68210048ea91260e2b11a85f62",
       "value": 435
      }
     },
     "77bc82ab93ca4604bda87b4bf8fa8ada": {
      "model_module": "@jupyter-widgets/base",
      "model_module_version": "2.0.0",
      "model_name": "LayoutModel",
      "state": {}
     },
     "7da9b8dd85bb48beb7d76402f884cdae": {
      "model_module": "@jupyter-widgets/controls",
      "model_module_version": "2.0.0",
      "model_name": "HTMLStyleModel",
      "state": {
       "description_width": "",
       "font_size": null,
       "text_color": null
      }
     },
     "7fe1810ed4d84ac79017d7f241244cd3": {
      "model_module": "@jupyter-widgets/controls",
      "model_module_version": "2.0.0",
      "model_name": "ProgressStyleModel",
      "state": {
       "description_width": ""
      }
     },
     "817873aff53840fc9678884bd7f37d42": {
      "model_module": "@jupyter-widgets/controls",
      "model_module_version": "2.0.0",
      "model_name": "FloatProgressModel",
      "state": {
       "bar_style": "success",
       "layout": "IPY_MODEL_b12ea9c55667432eadd39e714995a810",
       "max": 435,
       "style": "IPY_MODEL_e2386198d616492dabb622ef67647021",
       "value": 435
      }
     },
     "88426695696748568ded3ec634ec7b90": {
      "model_module": "@jupyter-widgets/controls",
      "model_module_version": "2.0.0",
      "model_name": "HTMLModel",
      "state": {
       "layout": "IPY_MODEL_4f8b8f6a937b48e78b80627868cd7d91",
       "style": "IPY_MODEL_6b891116b1794a7883e7615dc53ad267",
       "value": "removing duplicates: 100%"
      }
     },
     "8d43567e364c4713b2d22f02a457bf05": {
      "model_module": "@jupyter-widgets/controls",
      "model_module_version": "2.0.0",
      "model_name": "HTMLModel",
      "state": {
       "layout": "IPY_MODEL_0ae11a39040845318c3774665cbe141c",
       "style": "IPY_MODEL_2b5c2170e25b47eebb372fca1d8ec2bf",
       "value": "removing duplicates: 100%"
      }
     },
     "8eabe3bc05c641cab9d35f556b109158": {
      "model_module": "@jupyter-widgets/controls",
      "model_module_version": "2.0.0",
      "model_name": "HTMLStyleModel",
      "state": {
       "description_width": "",
       "font_size": null,
       "text_color": null
      }
     },
     "931ac8244f5e489d9cfbafbfbd0bfa77": {
      "model_module": "@jupyter-widgets/base",
      "model_module_version": "2.0.0",
      "model_name": "LayoutModel",
      "state": {}
     },
     "99c614a807174b3db2f6a2d73a716abc": {
      "model_module": "@jupyter-widgets/controls",
      "model_module_version": "2.0.0",
      "model_name": "HTMLStyleModel",
      "state": {
       "description_width": "",
       "font_size": null,
       "text_color": null
      }
     },
     "9cf061e63df047289769bf8d641acdb5": {
      "model_module": "@jupyter-widgets/controls",
      "model_module_version": "2.0.0",
      "model_name": "HTMLStyleModel",
      "state": {
       "description_width": "",
       "font_size": null,
       "text_color": null
      }
     },
     "9d6fdcc0ded84f7582c8b7c165807f93": {
      "model_module": "@jupyter-widgets/controls",
      "model_module_version": "2.0.0",
      "model_name": "ProgressStyleModel",
      "state": {
       "description_width": ""
      }
     },
     "9ffdb23491f04d82985685670b0c19e1": {
      "model_module": "@jupyter-widgets/base",
      "model_module_version": "2.0.0",
      "model_name": "LayoutModel",
      "state": {}
     },
     "a02e4ef6e29b44bdbb2d13eee3a56ef8": {
      "model_module": "@jupyter-widgets/base",
      "model_module_version": "2.0.0",
      "model_name": "LayoutModel",
      "state": {}
     },
     "a706da77ed1a45a2b29c5c8f8fcd09d9": {
      "model_module": "@jupyter-widgets/controls",
      "model_module_version": "2.0.0",
      "model_name": "FloatProgressModel",
      "state": {
       "bar_style": "success",
       "layout": "IPY_MODEL_4a559b350698424d8efe234387e5103f",
       "max": 435,
       "style": "IPY_MODEL_3309dc2cfaab48dba0803b8e99e4197a",
       "value": 435
      }
     },
     "a840946d937040ccae920e14a9340790": {
      "model_module": "@jupyter-widgets/controls",
      "model_module_version": "2.0.0",
      "model_name": "HTMLModel",
      "state": {
       "layout": "IPY_MODEL_77bc82ab93ca4604bda87b4bf8fa8ada",
       "style": "IPY_MODEL_5036a8c78e3c4bcda127940884d8869a",
       "value": " 435/435 [00:00&lt;00:00, 871.25it/s]"
      }
     },
     "ad787f94eb0940879cb81cdd2ad59bf8": {
      "model_module": "@jupyter-widgets/controls",
      "model_module_version": "2.0.0",
      "model_name": "HBoxModel",
      "state": {
       "children": [
        "IPY_MODEL_88426695696748568ded3ec634ec7b90",
        "IPY_MODEL_6e13731a075d4825aad499702ebe489d",
        "IPY_MODEL_e3574ff9fe2d40fb9ae833de095a8486"
       ],
       "layout": "IPY_MODEL_f2adf578cf874613891c8fb4cabfe5df"
      }
     },
     "af83ad7c20f84babbebbdf252da58c62": {
      "model_module": "@jupyter-widgets/base",
      "model_module_version": "2.0.0",
      "model_name": "LayoutModel",
      "state": {}
     },
     "b12ea9c55667432eadd39e714995a810": {
      "model_module": "@jupyter-widgets/base",
      "model_module_version": "2.0.0",
      "model_name": "LayoutModel",
      "state": {}
     },
     "b2fdbfb202064be8b3f1cc4ba2c76e3a": {
      "model_module": "@jupyter-widgets/base",
      "model_module_version": "2.0.0",
      "model_name": "LayoutModel",
      "state": {}
     },
     "b9b8f712afa54a11a797ecb00a1e42d0": {
      "model_module": "@jupyter-widgets/controls",
      "model_module_version": "2.0.0",
      "model_name": "HTMLStyleModel",
      "state": {
       "description_width": "",
       "font_size": null,
       "text_color": null
      }
     },
     "b9f930b00da046048b084c7375bcb4bc": {
      "model_module": "@jupyter-widgets/controls",
      "model_module_version": "2.0.0",
      "model_name": "FloatProgressModel",
      "state": {
       "bar_style": "success",
       "layout": "IPY_MODEL_c6101786693b467f95c5ea7aa71de911",
       "max": 435,
       "style": "IPY_MODEL_6d7acb7a9127405bb98c0fea8b355e2e",
       "value": 435
      }
     },
     "bc83891361fb409ca1821a3c0d75459c": {
      "model_module": "@jupyter-widgets/controls",
      "model_module_version": "2.0.0",
      "model_name": "HTMLStyleModel",
      "state": {
       "description_width": "",
       "font_size": null,
       "text_color": null
      }
     },
     "c052e3aeabce40219d1adfca9e8b0b5c": {
      "model_module": "@jupyter-widgets/controls",
      "model_module_version": "2.0.0",
      "model_name": "HTMLStyleModel",
      "state": {
       "description_width": "",
       "font_size": null,
       "text_color": null
      }
     },
     "c23994d961ba47a59507843b1b662a8d": {
      "model_module": "@jupyter-widgets/controls",
      "model_module_version": "2.0.0",
      "model_name": "HTMLModel",
      "state": {
       "layout": "IPY_MODEL_dda53ba3339d4473a9afa30b24bf5131",
       "style": "IPY_MODEL_6a58b72f4fac424fbc1ad7d571a50b8e",
       "value": "removing duplicates: 100%"
      }
     },
     "c2c3ac011cff46a0a08c96a1232a299b": {
      "model_module": "@jupyter-widgets/controls",
      "model_module_version": "2.0.0",
      "model_name": "HTMLModel",
      "state": {
       "layout": "IPY_MODEL_6cf60e0233aa408b95110b435174565a",
       "style": "IPY_MODEL_7546ee9c04bc44fd85f2fc92ae940409",
       "value": " 435/435 [00:00&lt;00:00, 855.85it/s]"
      }
     },
     "c6101786693b467f95c5ea7aa71de911": {
      "model_module": "@jupyter-widgets/base",
      "model_module_version": "2.0.0",
      "model_name": "LayoutModel",
      "state": {}
     },
     "c7982cc54bef4e47ad347aaf177b2e55": {
      "model_module": "@jupyter-widgets/controls",
      "model_module_version": "2.0.0",
      "model_name": "ProgressStyleModel",
      "state": {
       "description_width": ""
      }
     },
     "c7a82355eaf0451d82a5a725e8d16fab": {
      "model_module": "@jupyter-widgets/controls",
      "model_module_version": "2.0.0",
      "model_name": "HTMLModel",
      "state": {
       "layout": "IPY_MODEL_63d9cd2554e34752a103565aad66a485",
       "style": "IPY_MODEL_fb3d179a045e4397b506d99a178fce6a",
       "value": "removing duplicates: 100%"
      }
     },
     "c7df67d0c35844ac8560be32a9911b92": {
      "model_module": "@jupyter-widgets/controls",
      "model_module_version": "2.0.0",
      "model_name": "HTMLModel",
      "state": {
       "layout": "IPY_MODEL_a02e4ef6e29b44bdbb2d13eee3a56ef8",
       "style": "IPY_MODEL_8eabe3bc05c641cab9d35f556b109158",
       "value": " 435/435 [00:00&lt;00:00, 24158.82it/s]"
      }
     },
     "c8d0ff69081a43b2a619fb38910c2fe4": {
      "model_module": "@jupyter-widgets/controls",
      "model_module_version": "2.0.0",
      "model_name": "HTMLStyleModel",
      "state": {
       "description_width": "",
       "font_size": null,
       "text_color": null
      }
     },
     "ce60f8c7ac924d9194e434c56632d026": {
      "model_module": "@jupyter-widgets/base",
      "model_module_version": "2.0.0",
      "model_name": "LayoutModel",
      "state": {}
     },
     "d8ff7cf48f1c4151bca6c25cf4fa6b72": {
      "model_module": "@jupyter-widgets/base",
      "model_module_version": "2.0.0",
      "model_name": "LayoutModel",
      "state": {}
     },
     "d98a9852cb464c5ab7e85e1249a9c372": {
      "model_module": "@jupyter-widgets/controls",
      "model_module_version": "2.0.0",
      "model_name": "ProgressStyleModel",
      "state": {
       "description_width": ""
      }
     },
     "da8a54928d0942d5995c2e254fdee6b9": {
      "model_module": "@jupyter-widgets/controls",
      "model_module_version": "2.0.0",
      "model_name": "ProgressStyleModel",
      "state": {
       "description_width": ""
      }
     },
     "dda53ba3339d4473a9afa30b24bf5131": {
      "model_module": "@jupyter-widgets/base",
      "model_module_version": "2.0.0",
      "model_name": "LayoutModel",
      "state": {}
     },
     "de5e85ca38394f9ea528728c09e0e01f": {
      "model_module": "@jupyter-widgets/base",
      "model_module_version": "2.0.0",
      "model_name": "LayoutModel",
      "state": {}
     },
     "e2386198d616492dabb622ef67647021": {
      "model_module": "@jupyter-widgets/controls",
      "model_module_version": "2.0.0",
      "model_name": "ProgressStyleModel",
      "state": {
       "description_width": ""
      }
     },
     "e3574ff9fe2d40fb9ae833de095a8486": {
      "model_module": "@jupyter-widgets/controls",
      "model_module_version": "2.0.0",
      "model_name": "HTMLModel",
      "state": {
       "layout": "IPY_MODEL_32bd9118848541b283965ffd84324b37",
       "style": "IPY_MODEL_c052e3aeabce40219d1adfca9e8b0b5c",
       "value": " 435/435 [00:00&lt;00:00, 24043.89it/s]"
      }
     },
     "e70da34911f14c76883ddbd6ceb0d00f": {
      "model_module": "@jupyter-widgets/controls",
      "model_module_version": "2.0.0",
      "model_name": "HTMLStyleModel",
      "state": {
       "description_width": "",
       "font_size": null,
       "text_color": null
      }
     },
     "eb03416500a142d0b666fde7682cce3d": {
      "model_module": "@jupyter-widgets/controls",
      "model_module_version": "2.0.0",
      "model_name": "HBoxModel",
      "state": {
       "children": [
        "IPY_MODEL_42f834ed8fe14d7ba27bab586c60313e",
        "IPY_MODEL_46854d4cb9464493b385c6bd6944df0e",
        "IPY_MODEL_a840946d937040ccae920e14a9340790"
       ],
       "layout": "IPY_MODEL_657c7a08c9dc46188f1c0df57865a1aa"
      }
     },
     "ed4df225d73a48c6a2e980e57939dad7": {
      "model_module": "@jupyter-widgets/base",
      "model_module_version": "2.0.0",
      "model_name": "LayoutModel",
      "state": {}
     },
     "f2adf578cf874613891c8fb4cabfe5df": {
      "model_module": "@jupyter-widgets/base",
      "model_module_version": "2.0.0",
      "model_name": "LayoutModel",
      "state": {}
     },
     "f5501d52c2c04f0cb1b70ce7b8f0cceb": {
      "model_module": "@jupyter-widgets/controls",
      "model_module_version": "2.0.0",
      "model_name": "HTMLStyleModel",
      "state": {
       "description_width": "",
       "font_size": null,
       "text_color": null
      }
     },
     "f7b257ccda1743679078fac48565938f": {
      "model_module": "@jupyter-widgets/controls",
      "model_module_version": "2.0.0",
      "model_name": "HBoxModel",
      "state": {
       "children": [
        "IPY_MODEL_c23994d961ba47a59507843b1b662a8d",
        "IPY_MODEL_2dceae0fd9504966ab6e237f3ab8c5b0",
        "IPY_MODEL_c2c3ac011cff46a0a08c96a1232a299b"
       ],
       "layout": "IPY_MODEL_fc9f2703550749c584056b1e7bcfdd94"
      }
     },
     "f7c10bab7cdd4d54be0e7d522ee2617b": {
      "model_module": "@jupyter-widgets/controls",
      "model_module_version": "2.0.0",
      "model_name": "HBoxModel",
      "state": {
       "children": [
        "IPY_MODEL_2e991f79e3e244daa5bc625178df3e36",
        "IPY_MODEL_817873aff53840fc9678884bd7f37d42",
        "IPY_MODEL_20e5e1ea1a0b4f84965aa22052c2dd7f"
       ],
       "layout": "IPY_MODEL_332773f3b93649e69b2ea1f1c0f61225"
      }
     },
     "f93890f2facb4cc7b41c9039ba87a088": {
      "model_module": "@jupyter-widgets/controls",
      "model_module_version": "2.0.0",
      "model_name": "HTMLModel",
      "state": {
       "layout": "IPY_MODEL_71e51ff38564403cbc60b1e1544d19d9",
       "style": "IPY_MODEL_59983963432c44049eff02a410a49116",
       "value": " 435/435 [00:00&lt;00:00, 23755.56it/s]"
      }
     },
     "fb3d179a045e4397b506d99a178fce6a": {
      "model_module": "@jupyter-widgets/controls",
      "model_module_version": "2.0.0",
      "model_name": "HTMLStyleModel",
      "state": {
       "description_width": "",
       "font_size": null,
       "text_color": null
      }
     },
     "fc9f2703550749c584056b1e7bcfdd94": {
      "model_module": "@jupyter-widgets/base",
      "model_module_version": "2.0.0",
      "model_name": "LayoutModel",
      "state": {}
     }
    },
    "version_major": 2,
    "version_minor": 0
   }
  }
 },
 "nbformat": 4,
 "nbformat_minor": 5
}
