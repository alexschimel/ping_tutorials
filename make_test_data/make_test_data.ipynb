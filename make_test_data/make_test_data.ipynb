{
 "cells": [
  {
   "cell_type": "code",
   "execution_count": 1,
   "id": "535db849-8457-4622-a616-3e0dadd96f16",
   "metadata": {
    "tags": []
   },
   "outputs": [],
   "source": [
    "import os\n",
    "from pathlib import Path\n",
    "import numpy as np\n",
    "from tqdm.auto import tqdm\n",
    "import pickle\n",
    "from collections import defaultdict\n",
    "import importlib\n",
    "\n",
    "from themachinethatgoesping.echosounders import kongsbergall, simradraw, index_functions"
   ]
  },
  {
   "cell_type": "code",
   "execution_count": 2,
   "id": "49e232c3-6b7f-49ef-a074-d645227b9f92",
   "metadata": {
    "tags": []
   },
   "outputs": [
    {
     "name": "stdout",
     "output_type": "stream",
     "text": [
      "themachinethatgoesping\n",
      "- version:       0.11.0\n",
      "\n",
      "modules:\n",
      "- tools_cppy     0.21.0\n",
      "- tools          @PROJECT_VERSION@\n",
      "- scripts        @PROJECT_VERSION@\n",
      "- algorithms     0.5.2\n",
      "- navigation     0.14.0\n",
      "- echosounders_cppy 0.28.0\n",
      "- echosounders   0.28.0\n",
      "- pingprocessing_cppy 0.3.0\n",
      "- pingprocessing @PROJECT_VERSION@\n",
      "- gridding       @PROJECT_VERSION@\n"
     ]
    }
   ],
   "source": [
    "import themachinethatgoesping as tmtgp\n",
    "tmtgp.version()"
   ]
  },
  {
   "cell_type": "code",
   "execution_count": 3,
   "id": "a85ea320-1f61-4fdd-8cec-dbe63a653aed",
   "metadata": {
    "tags": []
   },
   "outputs": [],
   "source": [
    "#create the output path\n",
    "path_out = \"../data\"\n",
    "path_in = \"data_in/\"\n",
    "index_root = 'index'\n",
    "\n",
    "os.makedirs(path_out,exist_ok=True)\n",
    "os.makedirs(path_in,exist_ok=True)"
   ]
  },
  {
   "cell_type": "markdown",
   "id": "2cfcbd6d-2df8-404b-ad5a-67532fdb775a",
   "metadata": {
    "tags": []
   },
   "source": [
    "## Explore and sort input data"
   ]
  },
  {
   "cell_type": "code",
   "execution_count": 4,
   "id": "74ddfc03-fa89-45a3-8089-89ccfcced81f",
   "metadata": {
    "tags": []
   },
   "outputs": [
    {
     "name": "stdout",
     "output_type": "stream",
     "text": [
      "609\n"
     ]
    }
   ],
   "source": [
    "#load all data\n",
    "files_kongsbergall = []\n",
    "for r,d,f in os.walk(path_in, followlinks=True):\n",
    "    for file in f:\n",
    "        file_path = r + '/' + file\n",
    "        if file.endswith('.wcd') or file.endswith('.all'):\n",
    "            files_kongsbergall.append(file_path)\n",
    "        \n",
    "files_kongsbergall.sort()\n",
    "        \n",
    "print(len(files_kongsbergall))"
   ]
  },
  {
   "cell_type": "code",
   "execution_count": 5,
   "id": "79acc9ea-3d04-465d-b709-9f8ff822ea16",
   "metadata": {
    "tags": []
   },
   "outputs": [],
   "source": [
    "input_files = files_kongsbergall"
   ]
  },
  {
   "cell_type": "code",
   "execution_count": 6,
   "id": "327aba25-90f1-49aa-8866-9b9d76529cca",
   "metadata": {
    "tags": []
   },
   "outputs": [],
   "source": [
    "index = index_functions.load_index_files(input_files, index_root = None)\n",
    "index = index_functions.load_index_files(input_files, index_root = index_root, update_index = index)"
   ]
  },
  {
   "cell_type": "code",
   "execution_count": 7,
   "id": "61016d8e-fd28-4890-bbe0-3a56b48d7cd5",
   "metadata": {
    "tags": []
   },
   "outputs": [
    {
     "name": "stdout",
     "output_type": "stream",
     "text": [
      "indexing files ⢀ 99% [00m:02s<00m:00s] [Found: 9380783 datagrams in 609 files (51186MB)]                                                 \n",
      "Initializing ping interface ⠄ 99% [00m:09s<00m:00s] [Done]                                              \n"
     ]
    }
   ],
   "source": [
    "#open and index files\n",
    "\n",
    "fm = kongsbergall.KongsbergAllFileHandler_mapped(input_files, cached_index = index)"
   ]
  },
  {
   "cell_type": "code",
   "execution_count": 8,
   "id": "0fe0856e-dac6-42f0-9ccb-6e77a159e09e",
   "metadata": {
    "tags": []
   },
   "outputs": [],
   "source": [
    "index_functions.update_index_files(fm.get_cached_file_index(), index_root=index_root)"
   ]
  },
  {
   "cell_type": "code",
   "execution_count": null,
   "id": "3b03c07f-254b-4e2b-a8d7-01fda219f2b8",
   "metadata": {},
   "outputs": [],
   "source": []
  }
 ],
 "metadata": {
  "kernelspec": {
   "display_name": "Python 3 (ipykernel)",
   "language": "python",
   "name": "python3"
  },
  "language_info": {
   "codemirror_mode": {
    "name": "ipython",
    "version": 3
   },
   "file_extension": ".py",
   "mimetype": "text/x-python",
   "name": "python",
   "nbconvert_exporter": "python",
   "pygments_lexer": "ipython3",
   "version": "3.11.6"
  }
 },
 "nbformat": 4,
 "nbformat_minor": 5
}
