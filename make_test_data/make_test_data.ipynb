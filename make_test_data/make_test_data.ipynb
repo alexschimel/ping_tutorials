{
 "cells": [
  {
   "cell_type": "code",
   "execution_count": 1,
   "id": "535db849-8457-4622-a616-3e0dadd96f16",
   "metadata": {
    "execution": {
     "iopub.execute_input": "2024-10-25T10:28:58.519338Z",
     "iopub.status.busy": "2024-10-25T10:28:58.518965Z",
     "iopub.status.idle": "2024-10-25T10:28:59.011997Z",
     "shell.execute_reply": "2024-10-25T10:28:59.011691Z",
     "shell.execute_reply.started": "2024-10-25T10:28:58.519307Z"
    },
    "notebookRunGroups": {
     "groupValue": "1"
    },
    "tags": []
   },
   "outputs": [],
   "source": [
    "import os\n",
    "from pathlib import Path\n",
    "import numpy as np\n",
    "from tqdm.auto import tqdm\n",
    "import pickle\n",
    "from collections import defaultdict\n",
    "import importlib\n",
    "from matplotlib import pyplot as plt\n",
    "from tqdm.auto import tqdm\n",
    "\n",
    "from themachinethatgoesping.echosounders import kongsbergall, simradraw, index_functions\n",
    "from themachinethatgoesping import pingprocessing as pp\n",
    "from themachinethatgoesping import tools as ptools"
   ]
  },
  {
   "cell_type": "code",
   "execution_count": 2,
   "id": "49e232c3-6b7f-49ef-a074-d645227b9f92",
   "metadata": {
    "execution": {
     "iopub.execute_input": "2024-10-25T10:28:59.754178Z",
     "iopub.status.busy": "2024-10-25T10:28:59.753684Z",
     "iopub.status.idle": "2024-10-25T10:28:59.756360Z",
     "shell.execute_reply": "2024-10-25T10:28:59.756075Z",
     "shell.execute_reply.started": "2024-10-25T10:28:59.754163Z"
    },
    "notebookRunGroups": {
     "groupValue": "1"
    },
    "tags": []
   },
   "outputs": [
    {
     "name": "stdout",
     "output_type": "stream",
     "text": [
      "themachinethatgoesping\n",
      "- version:       0.25.0\n",
      "\n",
      "modules:\n",
      "- tools_cppy     0.27.0\n",
      "- tools          @PROJECT_VERSION@\n",
      "- scripts        @PROJECT_VERSION@\n",
      "- algorithms     0.8.2\n",
      "- navigation     0.17.0\n",
      "- echosounders_cppy 0.42.1\n",
      "- echosounders   0.42.1\n",
      "- pingprocessing_cppy 0.8.5\n",
      "- pingprocessing @PROJECT_VERSION@\n",
      "- gridding       @PROJECT_VERSION@\n"
     ]
    }
   ],
   "source": [
    "import themachinethatgoesping as tmtgp\n",
    "tmtgp.version()"
   ]
  },
  {
   "cell_type": "code",
   "execution_count": 3,
   "id": "a85ea320-1f61-4fdd-8cec-dbe63a653aed",
   "metadata": {
    "execution": {
     "iopub.execute_input": "2024-10-25T10:29:00.530198Z",
     "iopub.status.busy": "2024-10-25T10:29:00.529969Z",
     "iopub.status.idle": "2024-10-25T10:29:00.533058Z",
     "shell.execute_reply": "2024-10-25T10:29:00.532674Z",
     "shell.execute_reply.started": "2024-10-25T10:29:00.530184Z"
    },
    "notebookRunGroups": {
     "groupValue": "1"
    },
    "tags": []
   },
   "outputs": [],
   "source": [
    "#create the output path\n",
    "path_out = \"../unittest_data/\"\n",
    "path_in = \"./data_in/\"\n",
    "\n",
    "os.makedirs(path_out,exist_ok=True)\n",
    "os.makedirs(path_in,exist_ok=True)"
   ]
  },
  {
   "cell_type": "markdown",
   "id": "2cfcbd6d-2df8-404b-ad5a-67532fdb775a",
   "metadata": {
    "tags": []
   },
   "source": [
    "## Explore and sort input data"
   ]
  },
  {
   "cell_type": "code",
   "execution_count": 4,
   "id": "74ddfc03-fa89-45a3-8089-89ccfcced81f",
   "metadata": {
    "execution": {
     "iopub.execute_input": "2024-10-25T10:29:01.705820Z",
     "iopub.status.busy": "2024-10-25T10:29:01.705511Z",
     "iopub.status.idle": "2024-10-25T10:29:01.708702Z",
     "shell.execute_reply": "2024-10-25T10:29:01.708401Z",
     "shell.execute_reply.started": "2024-10-25T10:29:01.705805Z"
    },
    "notebookRunGroups": {
     "groupValue": "1"
    },
    "tags": []
   },
   "outputs": [
    {
     "name": "stdout",
     "output_type": "stream",
     "text": [
      "Found 35 files\n",
      "./data_in/kongsberg/a/c\n",
      "./data_in/kongsberg/a/f/ALL\n",
      "./data_in/kongsberg/a/f/WCD\n",
      "./data_in/kongsberg/a/y\n",
      "./data_in/kongsberg/e\n",
      "./data_in/kongsberg/g\n",
      "./data_in/kongsberg/he\n",
      "./data_in/kongsberg/simon\n",
      "./data_in/kongsberg/turbeams\n",
      "./data_in/simrad/ek80_test/ek80_example_data_01\n",
      "./data_in/simrad/ek80_test/ek80_example_data_02\n",
      "./data_in/simrad/ek80_test/ek80_example_data_03\n",
      "./data_in/simrad/turbeams\n",
      "./data_in/simrad/y\n"
     ]
    }
   ],
   "source": [
    "folders = index_functions.find_folders_with_files(path_in, [\".all\",\".wcd\", '.raw'], followlinks=True)\n",
    "folders.sort()\n",
    "N = 10\n",
    "\n",
    "for input_path in folders:\n",
    "    print(input_path)"
   ]
  },
  {
   "cell_type": "code",
   "execution_count": 5,
   "id": "15ff22d7-dc11-4f5b-ad6f-eb40b550db29",
   "metadata": {
    "execution": {
     "iopub.execute_input": "2024-10-25T10:29:02.570239Z",
     "iopub.status.busy": "2024-10-25T10:29:02.570037Z",
     "iopub.status.idle": "2024-10-25T10:29:27.426020Z",
     "shell.execute_reply": "2024-10-25T10:29:27.425669Z",
     "shell.execute_reply.started": "2024-10-25T10:29:02.570225Z"
    }
   },
   "outputs": [
    {
     "data": {
      "application/vnd.jupyter.widget-view+json": {
       "model_id": "9ff06cf257414a84a70b8efdcca629f8",
       "version_major": 2,
       "version_minor": 0
      },
      "text/plain": [
       "Creating test data:   0%|          | 0/35 [00:00<?, ?files/s]"
      ]
     },
     "metadata": {},
     "output_type": "display_data"
    },
    {
     "name": "stdout",
     "output_type": "stream",
     "text": [
      "- No .raw files in ./data_in/kongsberg/a/c\n",
      "- No .raw files in ./data_in/kongsberg/a/f/ALL\n",
      "- No .wcd files in ./data_in/kongsberg/a/f/ALL\n",
      "- No .raw files in ./data_in/kongsberg/a/f/WCD\n",
      "- No .all files in ./data_in/kongsberg/a/f/WCD\n",
      "- No .raw files in ./data_in/kongsberg/a/y\n",
      "- No .raw files in ./data_in/kongsberg/e\n",
      "- No .wcd files in ./data_in/kongsberg/e\n",
      "- No .raw files in ./data_in/kongsberg/g\n"
     ]
    },
    {
     "name": "stderr",
     "output_type": "stream",
     "text": [
      "WARNING: get_depth_sensor_offsets: Only DSH (Depth (pressure) sensor heave) == NI is supported yet, but DSH is IN\n",
      "WARNING: get_depth_sensor_offsets: Only DSH (Depth (pressure) sensor heave) == NI is supported yet, but DSH is IN\n"
     ]
    },
    {
     "name": "stdout",
     "output_type": "stream",
     "text": [
      "- No .raw files in ./data_in/kongsberg/he\n",
      "- No .raw files in ./data_in/kongsberg/simon\n",
      "- No .raw files in ./data_in/kongsberg/turbeams\n",
      "- No .all files in ./data_in/simrad/ek80_test/ek80_example_data_01\n",
      "- No .wcd files in ./data_in/simrad/ek80_test/ek80_example_data_01\n",
      "- No .all files in ./data_in/simrad/ek80_test/ek80_example_data_02\n",
      "- No .wcd files in ./data_in/simrad/ek80_test/ek80_example_data_02\n",
      "- No .all files in ./data_in/simrad/ek80_test/ek80_example_data_03\n",
      "- No .wcd files in ./data_in/simrad/ek80_test/ek80_example_data_03\n",
      "- No .all files in ./data_in/simrad/turbeams\n",
      "- No .wcd files in ./data_in/simrad/turbeams\n",
      "--- Error with ./data_in/simrad/y/WBAT-1_ES70-18CD_2048_999_CAL-Phase0-D20161211-T214222-0-pp.raw ---\n",
      "Error: Index [1] is >= max [0]! \n",
      "---\n",
      "--- Error with ./data_in/simrad/y/tan1505-D20150424-T100829.raw ---\n",
      "Error: read_sensor_configuration: No XML0 datagram found in ./data_in/simrad/y/tan1505-D20150424-T100829.raw!\n",
      "---\n",
      "--- Error with ./data_in/simrad/y/20151125_GASTEST_FM_1000_1024us_-D20151125-T140943.raw ---\n",
      "Error: Index [1] is >= max [1]! \n",
      "---\n",
      "--- Error with ./data_in/simrad/y/tan1208-D20120617-T042023.raw ---\n",
      "Error: read_sensor_configuration: No XML0 datagram found in ./data_in/simrad/y/tan1208-D20120617-T042023.raw!\n",
      "---\n",
      "--- Error with ./data_in/simrad/y/WBAT-1_ES70-18CD_2048_999_CAL-Phase0-D20161211-T215856-0-pp.raw ---\n",
      "Error: Index [1] is >= max [0]! \n",
      "---\n",
      "--- Error with ./data_in/simrad/y/calV3-D20150423-T004736.raw ---\n",
      "Error: read_sensor_configuration: No XML0 datagram found in ./data_in/simrad/y/calV3-D20150423-T004736.raw!\n",
      "---\n",
      "- No .all files in ./data_in/simrad/y\n",
      "- No .wcd files in ./data_in/simrad/y\n"
     ]
    },
    {
     "name": "stderr",
     "output_type": "stream",
     "text": [
      "Warning[init_from_file]: Could not read sensor configuration from file: \n",
      " -0: ./data_in/simrad/y/tan1505-D20150424-T100829.raw. \n",
      " -Using empty sensor configuration as fallback. \n",
      "-Error was: read_sensor_configuration: No XML0 datagram found in ./data_in/simrad/y/tan1505-D20150424-T100829.raw!\n",
      "WARNING(InputFileHandler): File [0] read incompletely. [./data_in/simrad/y/tan1905-D20190923-T010658.raw]\n",
      "Stopped after 70.89 % of the file\n",
      "Error message: ERROR[SimradRawDatagram]: Datagram length check failed (read). Expected: 1268, got: 0\n",
      "Warning[init_from_file]: Could not read sensor configuration from file: \n",
      " -0: ./data_in/simrad/y/tan1208-D20120617-T042023.raw. \n",
      " -Using empty sensor configuration as fallback. \n",
      "-Error was: read_sensor_configuration: No XML0 datagram found in ./data_in/simrad/y/tan1208-D20120617-T042023.raw!\n",
      "Warning[init_from_file]: Could not read sensor configuration from file: \n",
      " -0: ./data_in/simrad/y/calV3-D20150423-T004736.raw. \n",
      " -Using empty sensor configuration as fallback. \n",
      "-Error was: read_sensor_configuration: No XML0 datagram found in ./data_in/simrad/y/calV3-D20150423-T004736.raw!\n"
     ]
    }
   ],
   "source": [
    "all_files = index_functions.find_files(folders, ['.raw','.wcd','.all'], followlinks=True, verbose=False)\n",
    "prg = tqdm(total=len(all_files), desc=\"Creating test data\", unit=\"files\")\n",
    "\n",
    "for input_path in folders:\n",
    "    for endings, prefix, postfix, InputFileHandler in [\n",
    "        [\n",
    "            \".raw\",\n",
    "            \"raw\",\n",
    "            \".raw\",\n",
    "            simradraw.SimradRawFileHandler,\n",
    "        ],\n",
    "        [\n",
    "            \".all\",\n",
    "            \"all\",\n",
    "            \".all\",\n",
    "            kongsbergall.KongsbergAllFileHandler,\n",
    "        ],\n",
    "        [\n",
    "            \".wcd\",\n",
    "            \"wcd\",\n",
    "            \".wcd\",\n",
    "            kongsbergall.KongsbergAllFileHandler,\n",
    "        ],\n",
    "    ]:\n",
    "\n",
    "        prg.set_postfix_str(f\"{input_path} / {prefix}\")\n",
    "\n",
    "        prg.set_description(f\"finding files\")\n",
    "        input_files = index_functions.find_files(input_path, endings, followlinks=True, verbose=False)\n",
    "\n",
    "        if not input_files:\n",
    "            print(f\"- No {endings} files in {input_path}\")\n",
    "            continue\n",
    "\n",
    "        for file in input_files:\n",
    "            try:\n",
    "                prg.set_postfix_str(f\"{file}\")\n",
    "\n",
    "                # open and index files\n",
    "                prg.set_description(f\"opening files\")\n",
    "\n",
    "                fm = InputFileHandler(file, show_progress=False)\n",
    "\n",
    "                if(len(fm.get_pings()) < N):\n",
    "                    raise RuntimeError(f\"Less then {N} pings in file\")\n",
    "\n",
    "                # create new file name\n",
    "                file_name, file_extension = os.path.splitext(os.path.split(file)[1])\n",
    "                \n",
    "                prg.set_description(f\"creating new file name\")\n",
    "                output_file = os.path.join(\n",
    "                    input_path.replace(path_in, path_out), str(hash(file_name)) + file_extension\n",
    "                )  # + hash of the old file name\n",
    "                # print(output_file)\n",
    "                os.makedirs(os.path.split(output_file)[0], exist_ok=True)\n",
    "\n",
    "                prg.set_postfix_str(f\"Writing file {output_file}\")\n",
    "\n",
    "                #get timestamps of all datagrams in Nth ping\n",
    "                timestamps = [d.get_timestamp() for d in fm.get_pings()[N].file_data.datagrams()]\n",
    "\n",
    "                # append timestamp of second PositionDatagram and second AttitudeDatagram\n",
    "                if prefix in [\"all\", \"wcd\"]:                    \n",
    "                    if len(fm.datagram_interface.datagrams(\"PositionDatagram\")) > 2:\n",
    "                        timestamps.append(fm.datagram_interface.datagrams(\"PositionDatagram\")[2].get_timestamp())    \n",
    "                    if len(fm.datagram_interface.datagrams(\"AttitudeDatagram\")) > 2:                \n",
    "                        timestamps.append(fm.datagram_interface.datagrams(\"AttitudeDatagram\")[2].get_timestamp())\n",
    "                else:\n",
    "                    timestamps.append(fm.datagram_interface.datagrams(\"NME0\")[1].get_timestamp())\n",
    "\n",
    "                #compute largest timestamp\n",
    "                max_timestamp = np.nanmax(timestamps)\n",
    "\n",
    "                with open(output_file, \"wb\") as ofi:\n",
    "                    for d in fm.datagram_interface.datagrams():\n",
    "                        if d.get_timestamp() > max_timestamp:\n",
    "                            break\n",
    "                        ofi.write(d.to_binary())\n",
    "            except Exception as e:\n",
    "                print(f\"--- Error with {file} ---\")\n",
    "                print(f\"Error: {e}\")\n",
    "                print(\"---\")\n",
    "            prg.update(1)\n"
   ]
  },
  {
   "cell_type": "code",
   "execution_count": 13,
   "id": "459f62bd",
   "metadata": {},
   "outputs": [
    {
     "data": {
      "text/plain": [
       "[]"
      ]
     },
     "execution_count": 13,
     "metadata": {},
     "output_type": "execute_result"
    }
   ],
   "source": [
    "input_files"
   ]
  },
  {
   "cell_type": "code",
   "execution_count": 14,
   "id": "99b02825",
   "metadata": {},
   "outputs": [
    {
     "ename": "IndexError",
     "evalue": "list index out of range",
     "output_type": "error",
     "traceback": [
      "\u001b[0;31m---------------------------------------------------------------------------\u001b[0m",
      "\u001b[0;31mIndexError\u001b[0m                                Traceback (most recent call last)",
      "Cell \u001b[0;32mIn[14], line 1\u001b[0m\n\u001b[0;32m----> 1\u001b[0m fm \u001b[38;5;241m=\u001b[39m simradraw\u001b[38;5;241m.\u001b[39mSimradRawFileHandler(\u001b[43minput_files\u001b[49m\u001b[43m[\u001b[49m\u001b[38;5;241;43m4\u001b[39;49m\u001b[43m]\u001b[49m, show_progress\u001b[38;5;241m=\u001b[39m\u001b[38;5;28;01mFalse\u001b[39;00m)\n",
      "\u001b[0;31mIndexError\u001b[0m: list index out of range"
     ]
    }
   ],
   "source": [
    "fm = simradraw.SimradRawFileHandler(input_files[4], show_progress=False)"
   ]
  },
  {
   "cell_type": "code",
   "execution_count": null,
   "id": "239349b3",
   "metadata": {},
   "outputs": [],
   "source": [
    "print(fm)"
   ]
  },
  {
   "cell_type": "code",
   "execution_count": null,
   "id": "86b7fc9b",
   "metadata": {},
   "outputs": [],
   "source": []
  }
 ],
 "metadata": {
  "kernelspec": {
   "display_name": "Python 3 (ipykernel)",
   "language": "python",
   "name": "python3"
  },
  "language_info": {
   "codemirror_mode": {
    "name": "ipython",
    "version": 3
   },
   "file_extension": ".py",
   "mimetype": "text/x-python",
   "name": "python",
   "nbconvert_exporter": "python",
   "pygments_lexer": "ipython3",
   "version": "3.12.7"
  },
  "widgets": {
   "application/vnd.jupyter.widget-state+json": {
    "state": {
     "0009021bb01a442581d548fe9f386942": {
      "model_module": "@jupyter-widgets/controls",
      "model_module_version": "1.5.0",
      "model_name": "DescriptionStyleModel",
      "state": {
       "description_width": ""
      }
     },
     "01f7ef5a6e174ab4883b4a66490293d7": {
      "model_module": "@jupyter-widgets/controls",
      "model_module_version": "1.5.0",
      "model_name": "HTMLModel",
      "state": {
       "layout": "IPY_MODEL_f0042c321bd3454c810227765df47cde",
       "style": "IPY_MODEL_f4b554b9533a4ad29a0dd6b5146a6edc",
       "value": " 0/0 [00:00&lt;?, ?it/s]"
      }
     },
     "0264cf960f624dc9ab077300fca72609": {
      "model_module": "@jupyter-widgets/base",
      "model_module_version": "1.2.0",
      "model_name": "LayoutModel",
      "state": {}
     },
     "0270a0d3047d44a084ab9244934b1bf1": {
      "model_module": "@jupyter-widgets/base",
      "model_module_version": "1.2.0",
      "model_name": "LayoutModel",
      "state": {}
     },
     "02f439e884b64ed7ae5714dc2114092e": {
      "model_module": "@jupyter-widgets/controls",
      "model_module_version": "1.5.0",
      "model_name": "HTMLModel",
      "state": {
       "layout": "IPY_MODEL_0270a0d3047d44a084ab9244934b1bf1",
       "style": "IPY_MODEL_51eefffef2cf42bca1f1ea05772719d2",
       "value": " 1/1 [00:00&lt;00:00, 489.42it/s]"
      }
     },
     "03a386d312844a95aeee151090c72ff4": {
      "model_module": "@jupyter-widgets/controls",
      "model_module_version": "1.5.0",
      "model_name": "ProgressStyleModel",
      "state": {
       "description_width": ""
      }
     },
     "04243df7ca274e61b962f956a9c18bac": {
      "model_module": "@jupyter-widgets/base",
      "model_module_version": "1.2.0",
      "model_name": "LayoutModel",
      "state": {}
     },
     "04491fe430c44620bd34ecc17821c7a1": {
      "model_module": "@jupyter-widgets/base",
      "model_module_version": "1.2.0",
      "model_name": "LayoutModel",
      "state": {}
     },
     "050f45b7d35f4da0ac208ba2fd4df887": {
      "model_module": "@jupyter-widgets/base",
      "model_module_version": "1.2.0",
      "model_name": "LayoutModel",
      "state": {}
     },
     "052ec37ca8c54496a42fa601363bccc1": {
      "model_module": "@jupyter-widgets/controls",
      "model_module_version": "1.5.0",
      "model_name": "FloatProgressModel",
      "state": {
       "bar_style": "success",
       "layout": "IPY_MODEL_838dc584c3654042a5f969ed96802b71",
       "max": 1,
       "style": "IPY_MODEL_aefb765384a8419cacdd0ed05f9e4d83",
       "value": 1
      }
     },
     "056805df91bf462d9f06a90ef75b88ae": {
      "model_module": "@jupyter-widgets/controls",
      "model_module_version": "1.5.0",
      "model_name": "FloatProgressModel",
      "state": {
       "bar_style": "success",
       "layout": "IPY_MODEL_76913396e60d4cfcb2efb316ceb5ff65",
       "max": 1,
       "style": "IPY_MODEL_5a02119d97c249a6b735b2cb662a8a9f"
      }
     },
     "06ef104395164d1eb778e5e3d3b9c5c7": {
      "model_module": "@jupyter-widgets/controls",
      "model_module_version": "1.5.0",
      "model_name": "FloatProgressModel",
      "state": {
       "bar_style": "success",
       "layout": "IPY_MODEL_3b1ceda4e78d40ab9f8f657fdc567dfd",
       "max": 1,
       "style": "IPY_MODEL_f17198715a2b41bdb854236433304946",
       "value": 1
      }
     },
     "071a337fbc8c4534874d4a6889c8a5aa": {
      "model_module": "@jupyter-widgets/base",
      "model_module_version": "1.2.0",
      "model_name": "LayoutModel",
      "state": {}
     },
     "075fde834ab44cf1b7ff89897aa0f942": {
      "model_module": "@jupyter-widgets/base",
      "model_module_version": "1.2.0",
      "model_name": "LayoutModel",
      "state": {}
     },
     "0818aa16ed534a9da1b6fe3987b7da19": {
      "model_module": "@jupyter-widgets/base",
      "model_module_version": "1.2.0",
      "model_name": "LayoutModel",
      "state": {}
     },
     "085a56f46efa44df8d832ec5e022dcdb": {
      "model_module": "@jupyter-widgets/controls",
      "model_module_version": "1.5.0",
      "model_name": "HTMLModel",
      "state": {
       "layout": "IPY_MODEL_4158c569ac884a69b78b6912379f2ea2",
       "style": "IPY_MODEL_17a806bbc8ca47a993a92393e9c4500d",
       "value": "removing duplicates: "
      }
     },
     "09010670fddf4ba99e755c7d0b692699": {
      "model_module": "@jupyter-widgets/base",
      "model_module_version": "1.2.0",
      "model_name": "LayoutModel",
      "state": {}
     },
     "09018070ceb34dd4a3d1fee40f734e76": {
      "model_module": "@jupyter-widgets/controls",
      "model_module_version": "1.5.0",
      "model_name": "HTMLModel",
      "state": {
       "layout": "IPY_MODEL_9ea29dd2b11f4a63bd779184bcbc7b80",
       "style": "IPY_MODEL_41cb5c7d8dc84fd48fbeadcd14df2dd4",
       "value": " 1/1 [00:00&lt;00:00, 544.29it/s]"
      }
     },
     "095cc860aa9541c58a6ba81241070114": {
      "model_module": "@jupyter-widgets/controls",
      "model_module_version": "1.5.0",
      "model_name": "HTMLModel",
      "state": {
       "layout": "IPY_MODEL_04491fe430c44620bd34ecc17821c7a1",
       "style": "IPY_MODEL_4a69a3182b7447a9b9b29657923fa297",
       "value": " 1/1 [00:00&lt;00:00, 530.19it/s]"
      }
     },
     "09b316fa1e784279bf506b543d06d983": {
      "model_module": "@jupyter-widgets/controls",
      "model_module_version": "1.5.0",
      "model_name": "FloatProgressModel",
      "state": {
       "bar_style": "success",
       "layout": "IPY_MODEL_4a25dd4f9f5d44628e486182c30ccc4d",
       "max": 1,
       "style": "IPY_MODEL_c957cdca15694f5581ea3100207f8aa0",
       "value": 1
      }
     },
     "0a8a702a93d0443fba6a91592859c4f2": {
      "model_module": "@jupyter-widgets/controls",
      "model_module_version": "1.5.0",
      "model_name": "ProgressStyleModel",
      "state": {
       "description_width": ""
      }
     },
     "0ac302efe5d84a5fbf53926196ddfa39": {
      "model_module": "@jupyter-widgets/base",
      "model_module_version": "1.2.0",
      "model_name": "LayoutModel",
      "state": {}
     },
     "0b3de96871d94acd96fe60e4cce5848d": {
      "model_module": "@jupyter-widgets/controls",
      "model_module_version": "1.5.0",
      "model_name": "HTMLModel",
      "state": {
       "layout": "IPY_MODEL_4acf24a753cf49499d66982f57d4c5cb",
       "style": "IPY_MODEL_5d727dee1b4d42e39cafe2137698fa85",
       "value": "removing duplicates: 100%"
      }
     },
     "0bf2ffbe29114811bdaf87f152cf565f": {
      "model_module": "@jupyter-widgets/controls",
      "model_module_version": "1.5.0",
      "model_name": "DescriptionStyleModel",
      "state": {
       "description_width": ""
      }
     },
     "0c764a9264c2468d9fa035f1eeb69386": {
      "model_module": "@jupyter-widgets/controls",
      "model_module_version": "1.5.0",
      "model_name": "HTMLModel",
      "state": {
       "layout": "IPY_MODEL_04243df7ca274e61b962f956a9c18bac",
       "style": "IPY_MODEL_cb5e880dfce04e41b85f62ab7c402430",
       "value": "removing duplicates: 100%"
      }
     },
     "0d1a324ed9af4ebfaf6fbdfacbc53164": {
      "model_module": "@jupyter-widgets/controls",
      "model_module_version": "1.5.0",
      "model_name": "DescriptionStyleModel",
      "state": {
       "description_width": ""
      }
     },
     "0e01d4fd30e041fa9a28c9c88dbc23ec": {
      "model_module": "@jupyter-widgets/controls",
      "model_module_version": "1.5.0",
      "model_name": "DescriptionStyleModel",
      "state": {
       "description_width": ""
      }
     },
     "0f174f27bdde42a3a7f76dcdbaaf035a": {
      "model_module": "@jupyter-widgets/controls",
      "model_module_version": "1.5.0",
      "model_name": "FloatProgressModel",
      "state": {
       "bar_style": "success",
       "layout": "IPY_MODEL_0ac302efe5d84a5fbf53926196ddfa39",
       "max": 1,
       "style": "IPY_MODEL_d085f43e091a4aee97f04ebf55b61fd4",
       "value": 1
      }
     },
     "10186c2e776140e89c06326ea9a8d8ed": {
      "model_module": "@jupyter-widgets/controls",
      "model_module_version": "1.5.0",
      "model_name": "HTMLModel",
      "state": {
       "layout": "IPY_MODEL_bda84174e6d84aa8a2d7c75534d3a7d4",
       "style": "IPY_MODEL_6224e4166a094facbbe7d070b5c3a3ed",
       "value": " 0/0 [00:00&lt;?, ?it/s]"
      }
     },
     "102dc38b4b9f4436a883d3862c7a0790": {
      "model_module": "@jupyter-widgets/controls",
      "model_module_version": "1.5.0",
      "model_name": "HBoxModel",
      "state": {
       "children": [
        "IPY_MODEL_82a8d186c5564cfa84bcbf5271fb4304",
        "IPY_MODEL_d2041ada741d4b878c16570cf7c15d74",
        "IPY_MODEL_a9b189c7b873400b991852c7fcab47d1"
       ],
       "layout": "IPY_MODEL_87fbac5da3094f209653a53a86debf53"
      }
     },
     "10f1e2eaf60b4fbd90c1c5156b4a293d": {
      "model_module": "@jupyter-widgets/controls",
      "model_module_version": "1.5.0",
      "model_name": "FloatProgressModel",
      "state": {
       "bar_style": "success",
       "layout": "IPY_MODEL_1b58c13c541a4f3d8bb14feb42e342f7",
       "max": 1,
       "style": "IPY_MODEL_114896901f594a0093326d3189b1a3e1"
      }
     },
     "114896901f594a0093326d3189b1a3e1": {
      "model_module": "@jupyter-widgets/controls",
      "model_module_version": "1.5.0",
      "model_name": "ProgressStyleModel",
      "state": {
       "description_width": ""
      }
     },
     "11cf8a8d43d24c4986cb623e7d6d3f1d": {
      "model_module": "@jupyter-widgets/base",
      "model_module_version": "1.2.0",
      "model_name": "LayoutModel",
      "state": {}
     },
     "12475c5c980f49758de161a1a2661805": {
      "model_module": "@jupyter-widgets/controls",
      "model_module_version": "1.5.0",
      "model_name": "FloatProgressModel",
      "state": {
       "bar_style": "success",
       "layout": "IPY_MODEL_3f40b0dbf3f845e0887ebfc7fd691f2f",
       "max": 1,
       "style": "IPY_MODEL_9f24534207144f7d9f6e2dec65a135a8"
      }
     },
     "125017e1b704482193ae3b117ef2b2a6": {
      "model_module": "@jupyter-widgets/controls",
      "model_module_version": "1.5.0",
      "model_name": "HTMLModel",
      "state": {
       "layout": "IPY_MODEL_11cf8a8d43d24c4986cb623e7d6d3f1d",
       "style": "IPY_MODEL_7826ba1e987b47f0a273457deea66490",
       "value": " 0/0 [00:00&lt;?, ?it/s]"
      }
     },
     "12f69b847a7a4d8eb61e88cab9079c7a": {
      "model_module": "@jupyter-widgets/controls",
      "model_module_version": "1.5.0",
      "model_name": "HBoxModel",
      "state": {
       "children": [
        "IPY_MODEL_085a56f46efa44df8d832ec5e022dcdb",
        "IPY_MODEL_bfb9bf8e754e405eaabf87fd439ac25e",
        "IPY_MODEL_89340e123bdd425db414ecc6cb1abcf0"
       ],
       "layout": "IPY_MODEL_75d5a2af2936484c9c357b9e99affeeb"
      }
     },
     "1516e4ba63d24160b55d11e055b62649": {
      "model_module": "@jupyter-widgets/base",
      "model_module_version": "1.2.0",
      "model_name": "LayoutModel",
      "state": {}
     },
     "1670f55761c54b28898d3feccb8da47c": {
      "model_module": "@jupyter-widgets/controls",
      "model_module_version": "1.5.0",
      "model_name": "HBoxModel",
      "state": {
       "children": [
        "IPY_MODEL_2c300ddee5ed4cc29947a946617499b2",
        "IPY_MODEL_19d9e3fca4414b9d8b83c6f04253eaef",
        "IPY_MODEL_d1050ac0d029473e8663748f5770332a"
       ],
       "layout": "IPY_MODEL_6677c99a921c4e08af5281ca1a6a9948"
      }
     },
     "1754de8a862b407f97aadea7b812a44d": {
      "model_module": "@jupyter-widgets/controls",
      "model_module_version": "1.5.0",
      "model_name": "DescriptionStyleModel",
      "state": {
       "description_width": ""
      }
     },
     "17624acb6fb04e37941d0fdc34b31f90": {
      "model_module": "@jupyter-widgets/controls",
      "model_module_version": "1.5.0",
      "model_name": "DescriptionStyleModel",
      "state": {
       "description_width": ""
      }
     },
     "17a25ada4e814bd18dfea58dd7d795ec": {
      "model_module": "@jupyter-widgets/controls",
      "model_module_version": "1.5.0",
      "model_name": "FloatProgressModel",
      "state": {
       "bar_style": "success",
       "layout": "IPY_MODEL_880243002f68438f87ed2b7d4bf7392b",
       "max": 1,
       "style": "IPY_MODEL_3a4c431ded064e899153ef2270271879"
      }
     },
     "17a806bbc8ca47a993a92393e9c4500d": {
      "model_module": "@jupyter-widgets/controls",
      "model_module_version": "1.5.0",
      "model_name": "DescriptionStyleModel",
      "state": {
       "description_width": ""
      }
     },
     "17de2097a97a4f3a89097063a3990d1c": {
      "model_module": "@jupyter-widgets/controls",
      "model_module_version": "1.5.0",
      "model_name": "HTMLModel",
      "state": {
       "layout": "IPY_MODEL_88804a6de4064a3a8c70d3ce3d57a4de",
       "style": "IPY_MODEL_819874447d8e48bd9f8972a9551e9d2d",
       "value": " 0/0 [00:00&lt;?, ?it/s]"
      }
     },
     "17ee707fd2594498b4dff25dc6fa2c90": {
      "model_module": "@jupyter-widgets/controls",
      "model_module_version": "1.5.0",
      "model_name": "DescriptionStyleModel",
      "state": {
       "description_width": ""
      }
     },
     "182e8e0386904f3aa749953e32cdce27": {
      "model_module": "@jupyter-widgets/base",
      "model_module_version": "1.2.0",
      "model_name": "LayoutModel",
      "state": {
       "width": "20px"
      }
     },
     "1831f43fd6c4437bb7f364255752b907": {
      "model_module": "@jupyter-widgets/controls",
      "model_module_version": "1.5.0",
      "model_name": "HTMLModel",
      "state": {
       "layout": "IPY_MODEL_b5b2ba85de584d2db26ca54b26f52e9d",
       "style": "IPY_MODEL_17ee707fd2594498b4dff25dc6fa2c90",
       "value": " 0/0 [00:00&lt;?, ?it/s]"
      }
     },
     "186b4feb626947e4abc1f3a60047d7d5": {
      "model_module": "@jupyter-widgets/controls",
      "model_module_version": "1.5.0",
      "model_name": "FloatProgressModel",
      "state": {
       "bar_style": "success",
       "layout": "IPY_MODEL_73556a96a8e241f4a55aab441cedc3f8",
       "max": 1,
       "style": "IPY_MODEL_76d1ec218a064e44ac03aec36f0d7eeb"
      }
     },
     "187283c4fa894178b8d72685a1c0ee34": {
      "model_module": "@jupyter-widgets/base",
      "model_module_version": "1.2.0",
      "model_name": "LayoutModel",
      "state": {}
     },
     "18af46e5c9a448ed92d789e0be7f07bd": {
      "model_module": "@jupyter-widgets/base",
      "model_module_version": "1.2.0",
      "model_name": "LayoutModel",
      "state": {}
     },
     "18bd11eac6114c66a35496cbadf2e307": {
      "model_module": "@jupyter-widgets/controls",
      "model_module_version": "1.5.0",
      "model_name": "HTMLModel",
      "state": {
       "layout": "IPY_MODEL_836311823523449ea85f26b655592bb0",
       "style": "IPY_MODEL_3a27f60e52ba4097b1fd1be693a71745",
       "value": " 2/2 [00:00&lt;00:00, 1054.51it/s]"
      }
     },
     "190400d5c1af4eab9b864a1987328aa5": {
      "model_module": "@jupyter-widgets/base",
      "model_module_version": "1.2.0",
      "model_name": "LayoutModel",
      "state": {}
     },
     "1988123945884ab9b86d18c1ad860b54": {
      "model_module": "@jupyter-widgets/base",
      "model_module_version": "1.2.0",
      "model_name": "LayoutModel",
      "state": {}
     },
     "19c738197dcf483090a96a6f6179fd70": {
      "model_module": "@jupyter-widgets/controls",
      "model_module_version": "1.5.0",
      "model_name": "HTMLModel",
      "state": {
       "layout": "IPY_MODEL_b4d1ad97faca4f7ba5b2038a90cb9e46",
       "style": "IPY_MODEL_3b31a1b063c147729c856eb82c2de300",
       "value": " 11/11 [00:00&lt;00:00, 5054.49it/s]"
      }
     },
     "19ca69aacafd468291323b4a01268579": {
      "model_module": "@jupyter-widgets/base",
      "model_module_version": "1.2.0",
      "model_name": "LayoutModel",
      "state": {}
     },
     "19d89ff1314648978281f200ecadec7e": {
      "model_module": "@jupyter-widgets/controls",
      "model_module_version": "1.5.0",
      "model_name": "ProgressStyleModel",
      "state": {
       "description_width": ""
      }
     },
     "19d9e3fca4414b9d8b83c6f04253eaef": {
      "model_module": "@jupyter-widgets/controls",
      "model_module_version": "1.5.0",
      "model_name": "FloatProgressModel",
      "state": {
       "bar_style": "success",
       "layout": "IPY_MODEL_456f26f24c7d43cb94f0abfc150daca3",
       "max": 1,
       "style": "IPY_MODEL_239ea0d62df24909823f229ce864852f",
       "value": 1
      }
     },
     "1a327f5f60d34db98f07d0666b8d3ef7": {
      "model_module": "@jupyter-widgets/controls",
      "model_module_version": "1.5.0",
      "model_name": "HTMLModel",
      "state": {
       "layout": "IPY_MODEL_19ca69aacafd468291323b4a01268579",
       "style": "IPY_MODEL_3df96dcd9db54df5a26e48f71ea80f72",
       "value": "removing duplicates: "
      }
     },
     "1a81eb21cd4342a1ac22c94f26df7cea": {
      "model_module": "@jupyter-widgets/base",
      "model_module_version": "1.2.0",
      "model_name": "LayoutModel",
      "state": {}
     },
     "1b58c13c541a4f3d8bb14feb42e342f7": {
      "model_module": "@jupyter-widgets/base",
      "model_module_version": "1.2.0",
      "model_name": "LayoutModel",
      "state": {
       "width": "20px"
      }
     },
     "1b814379a67a44f6813d9f90cc1a1e55": {
      "model_module": "@jupyter-widgets/controls",
      "model_module_version": "1.5.0",
      "model_name": "ProgressStyleModel",
      "state": {
       "description_width": ""
      }
     },
     "1b9a2f6cd14949a6b72edca93d5fe24b": {
      "model_module": "@jupyter-widgets/controls",
      "model_module_version": "1.5.0",
      "model_name": "HBoxModel",
      "state": {
       "children": [
        "IPY_MODEL_cd046258e6be4765b85e9a022d2c6a37",
        "IPY_MODEL_a69c440a5608491f93e08d7e303a6859",
        "IPY_MODEL_fe69cc0d72924386b011947d43055d3c"
       ],
       "layout": "IPY_MODEL_b3ae27efd6174d74a8fee6c25fe91923"
      }
     },
     "1bd2fd333770425da57c8ac680491db9": {
      "model_module": "@jupyter-widgets/controls",
      "model_module_version": "1.5.0",
      "model_name": "FloatProgressModel",
      "state": {
       "layout": "IPY_MODEL_85786229a3884089afda9c47be997795",
       "max": 35,
       "style": "IPY_MODEL_d496073f382b44b3bf2a320e31420dd6",
       "value": 35
      }
     },
     "1cc40be7b27240e9b7f3f6e5dc2195c8": {
      "model_module": "@jupyter-widgets/controls",
      "model_module_version": "1.5.0",
      "model_name": "DescriptionStyleModel",
      "state": {
       "description_width": ""
      }
     },
     "1d0fb63366e24e24804dc38f5f502c0e": {
      "model_module": "@jupyter-widgets/controls",
      "model_module_version": "1.5.0",
      "model_name": "HTMLModel",
      "state": {
       "layout": "IPY_MODEL_6ac5ac0b97f64433bd7dce1c630ed1ca",
       "style": "IPY_MODEL_6d89a6393e36443ab353656d58696122",
       "value": "removing duplicates: 100%"
      }
     },
     "1d1c9485bb1a454197cc49e7a9433664": {
      "model_module": "@jupyter-widgets/controls",
      "model_module_version": "1.5.0",
      "model_name": "DescriptionStyleModel",
      "state": {
       "description_width": ""
      }
     },
     "1d5e90e265fb4b9087f30b231e9531ab": {
      "model_module": "@jupyter-widgets/controls",
      "model_module_version": "1.5.0",
      "model_name": "HBoxModel",
      "state": {
       "children": [
        "IPY_MODEL_cf95b4bd0bd946d3925f7636ebae1ea3",
        "IPY_MODEL_79248730e1b045058d157768d99e251b",
        "IPY_MODEL_dbad98bb117041699f05de0af3a9f03f"
       ],
       "layout": "IPY_MODEL_3bce4eaa851b42ec918ed6a9b4eef0ba"
      }
     },
     "1d9e9bc17c1d4ea5bd3fe93c7f749d5e": {
      "model_module": "@jupyter-widgets/controls",
      "model_module_version": "1.5.0",
      "model_name": "DescriptionStyleModel",
      "state": {
       "description_width": ""
      }
     },
     "1da54146658d4d4696bf87f4fb3bf2cf": {
      "model_module": "@jupyter-widgets/controls",
      "model_module_version": "1.5.0",
      "model_name": "DescriptionStyleModel",
      "state": {
       "description_width": ""
      }
     },
     "1e01765e899a4e94b01553492af7486a": {
      "model_module": "@jupyter-widgets/base",
      "model_module_version": "1.2.0",
      "model_name": "LayoutModel",
      "state": {}
     },
     "1e8a94d3ab72461b987b5dd7ba05d7e7": {
      "model_module": "@jupyter-widgets/controls",
      "model_module_version": "1.5.0",
      "model_name": "HTMLModel",
      "state": {
       "layout": "IPY_MODEL_e206293b0c4a4923931d5b21016fe88e",
       "style": "IPY_MODEL_b3616bdb38ca4ec3a26fa20187899dc4",
       "value": " 1/1 [00:00&lt;00:00, 603.67it/s]"
      }
     },
     "205e519d4abc4142bfae0f2779cae8e5": {
      "model_module": "@jupyter-widgets/base",
      "model_module_version": "1.2.0",
      "model_name": "LayoutModel",
      "state": {}
     },
     "209c6e2da8d341d6a46eb6cde5a07ed9": {
      "model_module": "@jupyter-widgets/controls",
      "model_module_version": "1.5.0",
      "model_name": "DescriptionStyleModel",
      "state": {
       "description_width": ""
      }
     },
     "20bf7bace91a4f87ab2ff0cbf5dd7299": {
      "model_module": "@jupyter-widgets/base",
      "model_module_version": "1.2.0",
      "model_name": "LayoutModel",
      "state": {}
     },
     "20f10b6201ea4dbe9ce7cc3b44dba1d1": {
      "model_module": "@jupyter-widgets/base",
      "model_module_version": "1.2.0",
      "model_name": "LayoutModel",
      "state": {}
     },
     "218ea353d0e84914bc6b21f904d5fb11": {
      "model_module": "@jupyter-widgets/controls",
      "model_module_version": "1.5.0",
      "model_name": "HTMLModel",
      "state": {
       "layout": "IPY_MODEL_56ed955f3b79497bbe152a689b064103",
       "style": "IPY_MODEL_5b4160c277c34bf8bb02a69a9985a662",
       "value": " 1/1 [00:00&lt;00:00, 467.54it/s]"
      }
     },
     "219e13e6e1544a348f73ea995ed8fe56": {
      "model_module": "@jupyter-widgets/controls",
      "model_module_version": "1.5.0",
      "model_name": "DescriptionStyleModel",
      "state": {
       "description_width": ""
      }
     },
     "22c3cc7296944577b18877f9cd428c1f": {
      "model_module": "@jupyter-widgets/controls",
      "model_module_version": "1.5.0",
      "model_name": "HTMLModel",
      "state": {
       "layout": "IPY_MODEL_708c91f03ab04206ba41c0f628105174",
       "style": "IPY_MODEL_aace719b993f4d298c1722ba1b025a8f",
       "value": "removing duplicates: 100%"
      }
     },
     "239ea0d62df24909823f229ce864852f": {
      "model_module": "@jupyter-widgets/controls",
      "model_module_version": "1.5.0",
      "model_name": "ProgressStyleModel",
      "state": {
       "description_width": ""
      }
     },
     "241138010ccf4767a0e25d288fc04ccf": {
      "model_module": "@jupyter-widgets/controls",
      "model_module_version": "1.5.0",
      "model_name": "DescriptionStyleModel",
      "state": {
       "description_width": ""
      }
     },
     "259798d7c8cf477f9f88d8491d7156c8": {
      "model_module": "@jupyter-widgets/base",
      "model_module_version": "1.2.0",
      "model_name": "LayoutModel",
      "state": {}
     },
     "26526732b36a4882959c1207f8563d9e": {
      "model_module": "@jupyter-widgets/controls",
      "model_module_version": "1.5.0",
      "model_name": "HBoxModel",
      "state": {
       "children": [
        "IPY_MODEL_7a180468cbda4ebdb1b7f443d6be55f8",
        "IPY_MODEL_7f77f1d3c300459da090d1e9edd54b72",
        "IPY_MODEL_99fdb3d4c6624679b0938ed12e0936d4"
       ],
       "layout": "IPY_MODEL_638a84dc2d124aaebbbe9a7bffd57632"
      }
     },
     "267fe8d4f7f94ed98360d2ea6730caaa": {
      "model_module": "@jupyter-widgets/controls",
      "model_module_version": "1.5.0",
      "model_name": "HTMLModel",
      "state": {
       "layout": "IPY_MODEL_2ae8b394d1664b88b58e934699724663",
       "style": "IPY_MODEL_53a6c4c59006441baed2c6070153a5ee",
       "value": "removing duplicates: "
      }
     },
     "270beb62527a40bab18300f4c6507205": {
      "model_module": "@jupyter-widgets/base",
      "model_module_version": "1.2.0",
      "model_name": "LayoutModel",
      "state": {
       "width": "20px"
      }
     },
     "27942978ad6a4e59be6066015f10f801": {
      "model_module": "@jupyter-widgets/controls",
      "model_module_version": "1.5.0",
      "model_name": "DescriptionStyleModel",
      "state": {
       "description_width": ""
      }
     },
     "297a06be8c714a088ef3075bdc5888fb": {
      "model_module": "@jupyter-widgets/base",
      "model_module_version": "1.2.0",
      "model_name": "LayoutModel",
      "state": {}
     },
     "29e1489cfd9e43fd906c855454260a99": {
      "model_module": "@jupyter-widgets/base",
      "model_module_version": "1.2.0",
      "model_name": "LayoutModel",
      "state": {}
     },
     "2a167e5773c44809945e433b6e082d46": {
      "model_module": "@jupyter-widgets/controls",
      "model_module_version": "1.5.0",
      "model_name": "HTMLModel",
      "state": {
       "layout": "IPY_MODEL_f81a6b9ef2cc4a7185c8a9632a08f9ac",
       "style": "IPY_MODEL_a8d14ba76e704ca7921761eff4bb493b",
       "value": "removing duplicates: 100%"
      }
     },
     "2ae8b394d1664b88b58e934699724663": {
      "model_module": "@jupyter-widgets/base",
      "model_module_version": "1.2.0",
      "model_name": "LayoutModel",
      "state": {}
     },
     "2b440d01d5364c599dd2da3b2ae23658": {
      "model_module": "@jupyter-widgets/controls",
      "model_module_version": "1.5.0",
      "model_name": "HBoxModel",
      "state": {
       "children": [
        "IPY_MODEL_71fe28712c7f4ea6903b706b0a3681c1",
        "IPY_MODEL_186b4feb626947e4abc1f3a60047d7d5",
        "IPY_MODEL_125017e1b704482193ae3b117ef2b2a6"
       ],
       "layout": "IPY_MODEL_6b69ab70f8ad4e5d913c8393ee2b2b07"
      }
     },
     "2bcc565fd1c749d4bd272aa674451754": {
      "model_module": "@jupyter-widgets/controls",
      "model_module_version": "1.5.0",
      "model_name": "HTMLModel",
      "state": {
       "layout": "IPY_MODEL_2c3032ab82e649f0bf6f6cbf488f67cd",
       "style": "IPY_MODEL_e0162a5a10c147aea100cd7ade79e21d",
       "value": " 35/35 [00:24&lt;00:00,  4.44files/s, ./data_in/simrad/y / wcd]"
      }
     },
     "2c300ddee5ed4cc29947a946617499b2": {
      "model_module": "@jupyter-widgets/controls",
      "model_module_version": "1.5.0",
      "model_name": "HTMLModel",
      "state": {
       "layout": "IPY_MODEL_dbddb4e11eeb4db2a58656387e16b76b",
       "style": "IPY_MODEL_b0d098994c7c4116bfe5590846c7845b",
       "value": "removing duplicates: 100%"
      }
     },
     "2c3032ab82e649f0bf6f6cbf488f67cd": {
      "model_module": "@jupyter-widgets/base",
      "model_module_version": "1.2.0",
      "model_name": "LayoutModel",
      "state": {}
     },
     "2c9ae86ea34445a99c9ecfcb39894a34": {
      "model_module": "@jupyter-widgets/controls",
      "model_module_version": "1.5.0",
      "model_name": "HBoxModel",
      "state": {
       "children": [
        "IPY_MODEL_7333ec1e3a09435cacab5ff234370b5b",
        "IPY_MODEL_f33c37fc9fe54ae783a8283361a1e22e",
        "IPY_MODEL_e2741f46fa5f4ba889edd83555f2506a"
       ],
       "layout": "IPY_MODEL_faaf47e192fd4f44965ea08b8b287f83"
      }
     },
     "2d5e665e52c14d14ad542b8289fe6e96": {
      "model_module": "@jupyter-widgets/controls",
      "model_module_version": "1.5.0",
      "model_name": "DescriptionStyleModel",
      "state": {
       "description_width": ""
      }
     },
     "2e341411187b45bd8f8b41345b5e78b0": {
      "model_module": "@jupyter-widgets/base",
      "model_module_version": "1.2.0",
      "model_name": "LayoutModel",
      "state": {}
     },
     "2e5f424b29a04d7eb31035c99165fac3": {
      "model_module": "@jupyter-widgets/base",
      "model_module_version": "1.2.0",
      "model_name": "LayoutModel",
      "state": {}
     },
     "2e62d138e9d848c791c618300dff57fd": {
      "model_module": "@jupyter-widgets/base",
      "model_module_version": "1.2.0",
      "model_name": "LayoutModel",
      "state": {}
     },
     "2e8edb95c17a43b986928d3ee0fce8ba": {
      "model_module": "@jupyter-widgets/controls",
      "model_module_version": "1.5.0",
      "model_name": "HBoxModel",
      "state": {
       "children": [
        "IPY_MODEL_0c764a9264c2468d9fa035f1eeb69386",
        "IPY_MODEL_acf1612d9aec4a2db5dfe32953123211",
        "IPY_MODEL_ef94887c17ea47d7ac36272662950503"
       ],
       "layout": "IPY_MODEL_18af46e5c9a448ed92d789e0be7f07bd"
      }
     },
     "307f95e3df97434ea090bb0cd5747d91": {
      "model_module": "@jupyter-widgets/controls",
      "model_module_version": "1.5.0",
      "model_name": "HBoxModel",
      "state": {
       "children": [
        "IPY_MODEL_fac1495583dd46cca114bef61df7dfca",
        "IPY_MODEL_052ec37ca8c54496a42fa601363bccc1",
        "IPY_MODEL_6da60bf55a5e4cd19da69ca6a0ce0e8a"
       ],
       "layout": "IPY_MODEL_49d307ef137445929baccf06ff04a635"
      }
     },
     "30a1d3a8b2bc4a15b21e6384bee41bb1": {
      "model_module": "@jupyter-widgets/controls",
      "model_module_version": "1.5.0",
      "model_name": "FloatProgressModel",
      "state": {
       "bar_style": "success",
       "layout": "IPY_MODEL_5dcabfa16202474babf7fd49c5fd2dc4",
       "max": 1,
       "style": "IPY_MODEL_5f4574f430594488997f3828b807dd0a"
      }
     },
     "30f4673544e044eda36b9a429b7271a6": {
      "model_module": "@jupyter-widgets/base",
      "model_module_version": "1.2.0",
      "model_name": "LayoutModel",
      "state": {}
     },
     "312ae5484ccb43dda1f5c20b0c1522b4": {
      "model_module": "@jupyter-widgets/controls",
      "model_module_version": "1.5.0",
      "model_name": "FloatProgressModel",
      "state": {
       "bar_style": "success",
       "layout": "IPY_MODEL_9a22bbf5915240acbe5cc6d82e698d2b",
       "max": 1,
       "style": "IPY_MODEL_a47d2a743f63496daaaecd19f37c56f0",
       "value": 1
      }
     },
     "3282c47ad9b948598d0ccf9cbd918a4a": {
      "model_module": "@jupyter-widgets/controls",
      "model_module_version": "1.5.0",
      "model_name": "DescriptionStyleModel",
      "state": {
       "description_width": ""
      }
     },
     "334d8548f8c044269eb3a0411de98cac": {
      "model_module": "@jupyter-widgets/controls",
      "model_module_version": "1.5.0",
      "model_name": "ProgressStyleModel",
      "state": {
       "description_width": ""
      }
     },
     "33cde1618b6b4fa1be81f531c7f992d9": {
      "model_module": "@jupyter-widgets/base",
      "model_module_version": "1.2.0",
      "model_name": "LayoutModel",
      "state": {}
     },
     "33e5cd98df9240649db456f4d8b079da": {
      "model_module": "@jupyter-widgets/base",
      "model_module_version": "1.2.0",
      "model_name": "LayoutModel",
      "state": {}
     },
     "343f77e0ac1c4a9ebf26d274339fbc27": {
      "model_module": "@jupyter-widgets/controls",
      "model_module_version": "1.5.0",
      "model_name": "HBoxModel",
      "state": {
       "children": [
        "IPY_MODEL_3493a894c3f4449c812fe4f852622044",
        "IPY_MODEL_06ef104395164d1eb778e5e3d3b9c5c7",
        "IPY_MODEL_095cc860aa9541c58a6ba81241070114"
       ],
       "layout": "IPY_MODEL_dd59f451a14145d9a81f1f4d8fe962bb"
      }
     },
     "3493a894c3f4449c812fe4f852622044": {
      "model_module": "@jupyter-widgets/controls",
      "model_module_version": "1.5.0",
      "model_name": "HTMLModel",
      "state": {
       "layout": "IPY_MODEL_205e519d4abc4142bfae0f2779cae8e5",
       "style": "IPY_MODEL_c374cd83f2484cf8aa1bd187d4af3d65",
       "value": "removing duplicates: 100%"
      }
     },
     "3514f2151ce94d17ae9288627d860245": {
      "model_module": "@jupyter-widgets/controls",
      "model_module_version": "1.5.0",
      "model_name": "FloatProgressModel",
      "state": {
       "bar_style": "success",
       "layout": "IPY_MODEL_187283c4fa894178b8d72685a1c0ee34",
       "max": 1,
       "style": "IPY_MODEL_7ecb9ebbd26149349202b3f0a5ce6260",
       "value": 1
      }
     },
     "351ab87418604ae5a3a89f5de4b2682b": {
      "model_module": "@jupyter-widgets/controls",
      "model_module_version": "1.5.0",
      "model_name": "HTMLModel",
      "state": {
       "layout": "IPY_MODEL_cf1b6ad2f2854c17b5c19b7c8398b8e0",
       "style": "IPY_MODEL_7587ac9fac464512849df6f263f77f5b",
       "value": " 0/0 [00:00&lt;?, ?it/s]"
      }
     },
     "3546fa3028d6486a801b3373b7981207": {
      "model_module": "@jupyter-widgets/base",
      "model_module_version": "1.2.0",
      "model_name": "LayoutModel",
      "state": {}
     },
     "35f15452dcf64e828aa998c79045df83": {
      "model_module": "@jupyter-widgets/base",
      "model_module_version": "1.2.0",
      "model_name": "LayoutModel",
      "state": {}
     },
     "38526d837a004179aafa82fc0ef84ecd": {
      "model_module": "@jupyter-widgets/controls",
      "model_module_version": "1.5.0",
      "model_name": "ProgressStyleModel",
      "state": {
       "description_width": ""
      }
     },
     "387dc8cefaff4affb8799f032707eb91": {
      "model_module": "@jupyter-widgets/base",
      "model_module_version": "1.2.0",
      "model_name": "LayoutModel",
      "state": {}
     },
     "391b118f89e24172b208cd5cc1a59d36": {
      "model_module": "@jupyter-widgets/base",
      "model_module_version": "1.2.0",
      "model_name": "LayoutModel",
      "state": {}
     },
     "394c87cf0174484f8128a162a962daf9": {
      "model_module": "@jupyter-widgets/controls",
      "model_module_version": "1.5.0",
      "model_name": "FloatProgressModel",
      "state": {
       "bar_style": "success",
       "layout": "IPY_MODEL_35f15452dcf64e828aa998c79045df83",
       "max": 35,
       "style": "IPY_MODEL_7fa406cd4ec44cd3890791712c702762",
       "value": 35
      }
     },
     "39fca3ac4de140df8f2f404b04766484": {
      "model_module": "@jupyter-widgets/base",
      "model_module_version": "1.2.0",
      "model_name": "LayoutModel",
      "state": {}
     },
     "3a27f60e52ba4097b1fd1be693a71745": {
      "model_module": "@jupyter-widgets/controls",
      "model_module_version": "1.5.0",
      "model_name": "DescriptionStyleModel",
      "state": {
       "description_width": ""
      }
     },
     "3a419262859b40839aa52f326a89324c": {
      "model_module": "@jupyter-widgets/controls",
      "model_module_version": "1.5.0",
      "model_name": "DescriptionStyleModel",
      "state": {
       "description_width": ""
      }
     },
     "3a4c431ded064e899153ef2270271879": {
      "model_module": "@jupyter-widgets/controls",
      "model_module_version": "1.5.0",
      "model_name": "ProgressStyleModel",
      "state": {
       "description_width": ""
      }
     },
     "3b1ceda4e78d40ab9f8f657fdc567dfd": {
      "model_module": "@jupyter-widgets/base",
      "model_module_version": "1.2.0",
      "model_name": "LayoutModel",
      "state": {}
     },
     "3b31a1b063c147729c856eb82c2de300": {
      "model_module": "@jupyter-widgets/controls",
      "model_module_version": "1.5.0",
      "model_name": "DescriptionStyleModel",
      "state": {
       "description_width": ""
      }
     },
     "3bce4eaa851b42ec918ed6a9b4eef0ba": {
      "model_module": "@jupyter-widgets/base",
      "model_module_version": "1.2.0",
      "model_name": "LayoutModel",
      "state": {}
     },
     "3c07bf5e97d346d6b5b3267496ff221b": {
      "model_module": "@jupyter-widgets/base",
      "model_module_version": "1.2.0",
      "model_name": "LayoutModel",
      "state": {}
     },
     "3d104d9337a84cec8c6a74229b1426d4": {
      "model_module": "@jupyter-widgets/controls",
      "model_module_version": "1.5.0",
      "model_name": "HBoxModel",
      "state": {
       "children": [
        "IPY_MODEL_a48e479908934c2cbcfb83e9c9ec8805",
        "IPY_MODEL_312ae5484ccb43dda1f5c20b0c1522b4",
        "IPY_MODEL_f35cdf439b3d4861af988965fac3a408"
       ],
       "layout": "IPY_MODEL_e4c151fda64948eaa6494565e84ffd7c"
      }
     },
     "3db298a04f7b489dad8a640ad9ceea82": {
      "model_module": "@jupyter-widgets/base",
      "model_module_version": "1.2.0",
      "model_name": "LayoutModel",
      "state": {}
     },
     "3ddd8de01be94d33a31b4914d2cbb015": {
      "model_module": "@jupyter-widgets/base",
      "model_module_version": "1.2.0",
      "model_name": "LayoutModel",
      "state": {
       "width": "20px"
      }
     },
     "3df96dcd9db54df5a26e48f71ea80f72": {
      "model_module": "@jupyter-widgets/controls",
      "model_module_version": "1.5.0",
      "model_name": "DescriptionStyleModel",
      "state": {
       "description_width": ""
      }
     },
     "3e25b9808c0a4e44b30cc120302ae302": {
      "model_module": "@jupyter-widgets/base",
      "model_module_version": "1.2.0",
      "model_name": "LayoutModel",
      "state": {}
     },
     "3ef1f36855f8446096355c9515d54da3": {
      "model_module": "@jupyter-widgets/controls",
      "model_module_version": "1.5.0",
      "model_name": "DescriptionStyleModel",
      "state": {
       "description_width": ""
      }
     },
     "3ef4dddaf3c64abd8fd043a86d785e1c": {
      "model_module": "@jupyter-widgets/base",
      "model_module_version": "1.2.0",
      "model_name": "LayoutModel",
      "state": {}
     },
     "3f40b0dbf3f845e0887ebfc7fd691f2f": {
      "model_module": "@jupyter-widgets/base",
      "model_module_version": "1.2.0",
      "model_name": "LayoutModel",
      "state": {
       "width": "20px"
      }
     },
     "3f7a3d74f6c7464795ff672156ddb4f7": {
      "model_module": "@jupyter-widgets/controls",
      "model_module_version": "1.5.0",
      "model_name": "HTMLModel",
      "state": {
       "layout": "IPY_MODEL_fbd7d7a15a404241bbcc8f8346ad0517",
       "style": "IPY_MODEL_7bbcf0c391944487bd7f7340ed871063",
       "value": "removing duplicates: 100%"
      }
     },
     "3f8cdc1501b7490399f08ceaac86b89c": {
      "model_module": "@jupyter-widgets/controls",
      "model_module_version": "1.5.0",
      "model_name": "ProgressStyleModel",
      "state": {
       "description_width": ""
      }
     },
     "406df9724a4d44f487a067299b5de4c8": {
      "model_module": "@jupyter-widgets/controls",
      "model_module_version": "1.5.0",
      "model_name": "DescriptionStyleModel",
      "state": {
       "description_width": ""
      }
     },
     "40d820df55df41f5a69752651598ceb1": {
      "model_module": "@jupyter-widgets/base",
      "model_module_version": "1.2.0",
      "model_name": "LayoutModel",
      "state": {}
     },
     "4158c569ac884a69b78b6912379f2ea2": {
      "model_module": "@jupyter-widgets/base",
      "model_module_version": "1.2.0",
      "model_name": "LayoutModel",
      "state": {}
     },
     "41cb5c7d8dc84fd48fbeadcd14df2dd4": {
      "model_module": "@jupyter-widgets/controls",
      "model_module_version": "1.5.0",
      "model_name": "DescriptionStyleModel",
      "state": {
       "description_width": ""
      }
     },
     "41d2ccbed4bd47f795f7f4f6247efd80": {
      "model_module": "@jupyter-widgets/base",
      "model_module_version": "1.2.0",
      "model_name": "LayoutModel",
      "state": {}
     },
     "443bbdce5e7d4391893fa602574c771b": {
      "model_module": "@jupyter-widgets/base",
      "model_module_version": "1.2.0",
      "model_name": "LayoutModel",
      "state": {}
     },
     "456f26f24c7d43cb94f0abfc150daca3": {
      "model_module": "@jupyter-widgets/base",
      "model_module_version": "1.2.0",
      "model_name": "LayoutModel",
      "state": {}
     },
     "457c6a473a4d40c384f66c27705937ae": {
      "model_module": "@jupyter-widgets/base",
      "model_module_version": "1.2.0",
      "model_name": "LayoutModel",
      "state": {
       "width": "20px"
      }
     },
     "45c26e8f75a8463a87778a73075be69b": {
      "model_module": "@jupyter-widgets/base",
      "model_module_version": "1.2.0",
      "model_name": "LayoutModel",
      "state": {}
     },
     "469eac6802984f33aba1f172dbbf6a4e": {
      "model_module": "@jupyter-widgets/base",
      "model_module_version": "1.2.0",
      "model_name": "LayoutModel",
      "state": {}
     },
     "4762f600f12c4e2b81f1618e1262936e": {
      "model_module": "@jupyter-widgets/controls",
      "model_module_version": "1.5.0",
      "model_name": "DescriptionStyleModel",
      "state": {
       "description_width": ""
      }
     },
     "47a5e9264e874f90805cfc296e9be9a4": {
      "model_module": "@jupyter-widgets/base",
      "model_module_version": "1.2.0",
      "model_name": "LayoutModel",
      "state": {}
     },
     "4864447eb2b74a03a5957f09dbaed139": {
      "model_module": "@jupyter-widgets/base",
      "model_module_version": "1.2.0",
      "model_name": "LayoutModel",
      "state": {}
     },
     "491ae0e7f2044efa93b81247c586f789": {
      "model_module": "@jupyter-widgets/controls",
      "model_module_version": "1.5.0",
      "model_name": "DescriptionStyleModel",
      "state": {
       "description_width": ""
      }
     },
     "497798047a0249aa9cfe8e13db5d509b": {
      "model_module": "@jupyter-widgets/controls",
      "model_module_version": "1.5.0",
      "model_name": "DescriptionStyleModel",
      "state": {
       "description_width": ""
      }
     },
     "49cf0438e1ba4cc28a02dd109edeab93": {
      "model_module": "@jupyter-widgets/controls",
      "model_module_version": "1.5.0",
      "model_name": "HTMLModel",
      "state": {
       "layout": "IPY_MODEL_3db298a04f7b489dad8a640ad9ceea82",
       "style": "IPY_MODEL_e86a24fd692f4e25903241d9ad23851d",
       "value": "removing duplicates: "
      }
     },
     "49d307ef137445929baccf06ff04a635": {
      "model_module": "@jupyter-widgets/base",
      "model_module_version": "1.2.0",
      "model_name": "LayoutModel",
      "state": {}
     },
     "4a25dd4f9f5d44628e486182c30ccc4d": {
      "model_module": "@jupyter-widgets/base",
      "model_module_version": "1.2.0",
      "model_name": "LayoutModel",
      "state": {}
     },
     "4a3d4ccd7a854418b36e4b70ea687891": {
      "model_module": "@jupyter-widgets/controls",
      "model_module_version": "1.5.0",
      "model_name": "DescriptionStyleModel",
      "state": {
       "description_width": ""
      }
     },
     "4a69a3182b7447a9b9b29657923fa297": {
      "model_module": "@jupyter-widgets/controls",
      "model_module_version": "1.5.0",
      "model_name": "DescriptionStyleModel",
      "state": {
       "description_width": ""
      }
     },
     "4acf24a753cf49499d66982f57d4c5cb": {
      "model_module": "@jupyter-widgets/base",
      "model_module_version": "1.2.0",
      "model_name": "LayoutModel",
      "state": {}
     },
     "4b32d99935af446c8c8292e23560686e": {
      "model_module": "@jupyter-widgets/controls",
      "model_module_version": "1.5.0",
      "model_name": "DescriptionStyleModel",
      "state": {
       "description_width": ""
      }
     },
     "4bba0735b3b14b949627a1d4204e4769": {
      "model_module": "@jupyter-widgets/controls",
      "model_module_version": "1.5.0",
      "model_name": "HBoxModel",
      "state": {
       "children": [
        "IPY_MODEL_d7cbb6b0bfb4441a9989162c5de9870b",
        "IPY_MODEL_30a1d3a8b2bc4a15b21e6384bee41bb1",
        "IPY_MODEL_7fe4b6967b2f4420b0b82f7dc3893ab4"
       ],
       "layout": "IPY_MODEL_b0d98edb29234d6f8582ce6bb58d3e62"
      }
     },
     "4c4da05605e74895b9227d226ba4210f": {
      "model_module": "@jupyter-widgets/controls",
      "model_module_version": "1.5.0",
      "model_name": "HTMLModel",
      "state": {
       "layout": "IPY_MODEL_a67addb10b7c477aaf9988ae22004585",
       "style": "IPY_MODEL_e6e1118c9c8f4bdfbcf117d33c2ae8d2",
       "value": " 0/0 [00:00&lt;?, ?it/s]"
      }
     },
     "4c524146cfd74643bcb63890967df408": {
      "model_module": "@jupyter-widgets/controls",
      "model_module_version": "1.5.0",
      "model_name": "HBoxModel",
      "state": {
       "children": [
        "IPY_MODEL_893720d92e734db280424b44e0ccbb28",
        "IPY_MODEL_0f174f27bdde42a3a7f76dcdbaaf035a",
        "IPY_MODEL_acbc5a91942b4881b9e33286aa4c19d3"
       ],
       "layout": "IPY_MODEL_53347b7076bb4082ae5444552be4a542"
      }
     },
     "4c65ce82b4104c93b8324b101c9d8e69": {
      "model_module": "@jupyter-widgets/base",
      "model_module_version": "1.2.0",
      "model_name": "LayoutModel",
      "state": {}
     },
     "4c9d200c815f4f11a269ef9db156f65d": {
      "model_module": "@jupyter-widgets/base",
      "model_module_version": "1.2.0",
      "model_name": "LayoutModel",
      "state": {}
     },
     "4d7b4162c7364dd5b7d40f448ddb758d": {
      "model_module": "@jupyter-widgets/controls",
      "model_module_version": "1.5.0",
      "model_name": "HTMLModel",
      "state": {
       "layout": "IPY_MODEL_da20b5bf018c4149b2688121bfe2b43f",
       "style": "IPY_MODEL_5f5ed4aeb0c24539978156961969c6ef",
       "value": "finding files: 100%"
      }
     },
     "4f6c7521244a4f07bb111858a7cf0949": {
      "model_module": "@jupyter-widgets/controls",
      "model_module_version": "1.5.0",
      "model_name": "HBoxModel",
      "state": {
       "children": [
        "IPY_MODEL_80915c96386d4907a1f305d2c91692d0",
        "IPY_MODEL_5a760e92569f4d159d63c7a4b40df6c5",
        "IPY_MODEL_bdc14513d91c4ba6b9aa2d7ba7364b10"
       ],
       "layout": "IPY_MODEL_1e01765e899a4e94b01553492af7486a"
      }
     },
     "50959f5f644f443da11e507b96b6b943": {
      "model_module": "@jupyter-widgets/controls",
      "model_module_version": "1.5.0",
      "model_name": "DescriptionStyleModel",
      "state": {
       "description_width": ""
      }
     },
     "51eefffef2cf42bca1f1ea05772719d2": {
      "model_module": "@jupyter-widgets/controls",
      "model_module_version": "1.5.0",
      "model_name": "DescriptionStyleModel",
      "state": {
       "description_width": ""
      }
     },
     "5218b8f9070a4b5b842b0d4f2c5ab829": {
      "model_module": "@jupyter-widgets/controls",
      "model_module_version": "1.5.0",
      "model_name": "HBoxModel",
      "state": {
       "children": [
        "IPY_MODEL_ad162fbd1b6f4ebc82421371d86c8757",
        "IPY_MODEL_874082b06383449a9cc80f58380062ae",
        "IPY_MODEL_a9c84802ebc548e298e6bf221dc21d04"
       ],
       "layout": "IPY_MODEL_ab46f8e444334067bf5b45863af1c322"
      }
     },
     "53347b7076bb4082ae5444552be4a542": {
      "model_module": "@jupyter-widgets/base",
      "model_module_version": "1.2.0",
      "model_name": "LayoutModel",
      "state": {}
     },
     "53a6c4c59006441baed2c6070153a5ee": {
      "model_module": "@jupyter-widgets/controls",
      "model_module_version": "1.5.0",
      "model_name": "DescriptionStyleModel",
      "state": {
       "description_width": ""
      }
     },
     "542079c73b3c4e0db35045214d1b5b64": {
      "model_module": "@jupyter-widgets/controls",
      "model_module_version": "1.5.0",
      "model_name": "HTMLModel",
      "state": {
       "layout": "IPY_MODEL_30f4673544e044eda36b9a429b7271a6",
       "style": "IPY_MODEL_e0be7a66c4a444d98eb3b09747196a87",
       "value": "removing duplicates: 100%"
      }
     },
     "545ec9200fe74cda8407973883931c20": {
      "model_module": "@jupyter-widgets/controls",
      "model_module_version": "1.5.0",
      "model_name": "HTMLModel",
      "state": {
       "layout": "IPY_MODEL_939fd22a5c9c42f69cd881f134f97e50",
       "style": "IPY_MODEL_27942978ad6a4e59be6066015f10f801",
       "value": " 0/0 [00:00&lt;?, ?it/s]"
      }
     },
     "559161c7242e402988eac80e7db59bb2": {
      "model_module": "@jupyter-widgets/base",
      "model_module_version": "1.2.0",
      "model_name": "LayoutModel",
      "state": {}
     },
     "568132b218b140319e08401393edfcbd": {
      "model_module": "@jupyter-widgets/base",
      "model_module_version": "1.2.0",
      "model_name": "LayoutModel",
      "state": {}
     },
     "56ed955f3b79497bbe152a689b064103": {
      "model_module": "@jupyter-widgets/base",
      "model_module_version": "1.2.0",
      "model_name": "LayoutModel",
      "state": {}
     },
     "5725307976b44b2fbb8fd201c53fc3ae": {
      "model_module": "@jupyter-widgets/controls",
      "model_module_version": "1.5.0",
      "model_name": "HBoxModel",
      "state": {
       "children": [
        "IPY_MODEL_e2ea3ee048d4470fa2ac3bd2afd6c7b9",
        "IPY_MODEL_fbef9dd5bee2418893e9c92a93e587eb",
        "IPY_MODEL_6b0ff9997fa34d099e21dc11f8ef3f9c"
       ],
       "layout": "IPY_MODEL_33cde1618b6b4fa1be81f531c7f992d9"
      }
     },
     "57497bff477443c89086a11009f9d739": {
      "model_module": "@jupyter-widgets/controls",
      "model_module_version": "1.5.0",
      "model_name": "ProgressStyleModel",
      "state": {
       "description_width": ""
      }
     },
     "5774e82193384007b59151e587710acf": {
      "model_module": "@jupyter-widgets/controls",
      "model_module_version": "1.5.0",
      "model_name": "DescriptionStyleModel",
      "state": {
       "description_width": ""
      }
     },
     "5902748ef26b4240850e9f71a9d862f0": {
      "model_module": "@jupyter-widgets/controls",
      "model_module_version": "1.5.0",
      "model_name": "FloatProgressModel",
      "state": {
       "bar_style": "success",
       "layout": "IPY_MODEL_c08d1e5748ae4dacb62e1dd73065c971",
       "max": 1,
       "style": "IPY_MODEL_0a8a702a93d0443fba6a91592859c4f2"
      }
     },
     "59373a2815f0401880f67516f1fad0b1": {
      "model_module": "@jupyter-widgets/controls",
      "model_module_version": "1.5.0",
      "model_name": "HTMLModel",
      "state": {
       "layout": "IPY_MODEL_40d820df55df41f5a69752651598ceb1",
       "style": "IPY_MODEL_f18eead44b81431aa8468d11840864ed",
       "value": " 0/0 [00:00&lt;?, ?it/s]"
      }
     },
     "59fdc09039cf49218627484934e35387": {
      "model_module": "@jupyter-widgets/controls",
      "model_module_version": "1.5.0",
      "model_name": "HTMLModel",
      "state": {
       "layout": "IPY_MODEL_a1fec23972514024a59d3cc6933f379f",
       "style": "IPY_MODEL_f28c9ea8e98d419197ab281f93101a8e",
       "value": "removing duplicates: "
      }
     },
     "5a02119d97c249a6b735b2cb662a8a9f": {
      "model_module": "@jupyter-widgets/controls",
      "model_module_version": "1.5.0",
      "model_name": "ProgressStyleModel",
      "state": {
       "description_width": ""
      }
     },
     "5a150586d24647c788c97aa7a22f343c": {
      "model_module": "@jupyter-widgets/base",
      "model_module_version": "1.2.0",
      "model_name": "LayoutModel",
      "state": {}
     },
     "5a1df34f01634c15816dfc98abb1a860": {
      "model_module": "@jupyter-widgets/controls",
      "model_module_version": "1.5.0",
      "model_name": "HBoxModel",
      "state": {
       "children": [
        "IPY_MODEL_0b3de96871d94acd96fe60e4cce5848d",
        "IPY_MODEL_bf58bdc67b8d4d4694fd2c2196c86527",
        "IPY_MODEL_02f439e884b64ed7ae5714dc2114092e"
       ],
       "layout": "IPY_MODEL_5f485a4be4d54b359449be549525ad18"
      }
     },
     "5a705f95918d49a790cecef3290bd018": {
      "model_module": "@jupyter-widgets/base",
      "model_module_version": "1.2.0",
      "model_name": "LayoutModel",
      "state": {}
     },
     "5a760e92569f4d159d63c7a4b40df6c5": {
      "model_module": "@jupyter-widgets/controls",
      "model_module_version": "1.5.0",
      "model_name": "FloatProgressModel",
      "state": {
       "bar_style": "success",
       "layout": "IPY_MODEL_182e8e0386904f3aa749953e32cdce27",
       "max": 1,
       "style": "IPY_MODEL_8a0a2072505d49b793fc2d2a26e14f39"
      }
     },
     "5aa62ad50bd7402bbfbf0263dec45ee1": {
      "model_module": "@jupyter-widgets/controls",
      "model_module_version": "1.5.0",
      "model_name": "DescriptionStyleModel",
      "state": {
       "description_width": ""
      }
     },
     "5b3aed7f6bae4e49b0a473f3f8355efe": {
      "model_module": "@jupyter-widgets/base",
      "model_module_version": "1.2.0",
      "model_name": "LayoutModel",
      "state": {}
     },
     "5b4160c277c34bf8bb02a69a9985a662": {
      "model_module": "@jupyter-widgets/controls",
      "model_module_version": "1.5.0",
      "model_name": "DescriptionStyleModel",
      "state": {
       "description_width": ""
      }
     },
     "5b7b42097aa947f5880461d2d2cc25cf": {
      "model_module": "@jupyter-widgets/controls",
      "model_module_version": "1.5.0",
      "model_name": "DescriptionStyleModel",
      "state": {
       "description_width": ""
      }
     },
     "5bbd5b605ae04162aeaeedfc3dd910a8": {
      "model_module": "@jupyter-widgets/controls",
      "model_module_version": "1.5.0",
      "model_name": "ProgressStyleModel",
      "state": {
       "description_width": ""
      }
     },
     "5d1eca9eb47643349e00ac46a627f938": {
      "model_module": "@jupyter-widgets/controls",
      "model_module_version": "1.5.0",
      "model_name": "ProgressStyleModel",
      "state": {
       "description_width": ""
      }
     },
     "5d727dee1b4d42e39cafe2137698fa85": {
      "model_module": "@jupyter-widgets/controls",
      "model_module_version": "1.5.0",
      "model_name": "DescriptionStyleModel",
      "state": {
       "description_width": ""
      }
     },
     "5dcabfa16202474babf7fd49c5fd2dc4": {
      "model_module": "@jupyter-widgets/base",
      "model_module_version": "1.2.0",
      "model_name": "LayoutModel",
      "state": {
       "width": "20px"
      }
     },
     "5e0a5c213771441fa9c68b1f00efdfa1": {
      "model_module": "@jupyter-widgets/controls",
      "model_module_version": "1.5.0",
      "model_name": "FloatProgressModel",
      "state": {
       "bar_style": "success",
       "layout": "IPY_MODEL_ee876824168e4b69a147cf7c00e8f06b",
       "max": 1,
       "style": "IPY_MODEL_3f8cdc1501b7490399f08ceaac86b89c"
      }
     },
     "5f4574f430594488997f3828b807dd0a": {
      "model_module": "@jupyter-widgets/controls",
      "model_module_version": "1.5.0",
      "model_name": "ProgressStyleModel",
      "state": {
       "description_width": ""
      }
     },
     "5f485a4be4d54b359449be549525ad18": {
      "model_module": "@jupyter-widgets/base",
      "model_module_version": "1.2.0",
      "model_name": "LayoutModel",
      "state": {}
     },
     "5f5ed4aeb0c24539978156961969c6ef": {
      "model_module": "@jupyter-widgets/controls",
      "model_module_version": "1.5.0",
      "model_name": "DescriptionStyleModel",
      "state": {
       "description_width": ""
      }
     },
     "5ff82ddee85c4352ba9cb1873bdddc11": {
      "model_module": "@jupyter-widgets/controls",
      "model_module_version": "1.5.0",
      "model_name": "DescriptionStyleModel",
      "state": {
       "description_width": ""
      }
     },
     "60598e1ef2f249a3be3f29119917ada0": {
      "model_module": "@jupyter-widgets/base",
      "model_module_version": "1.2.0",
      "model_name": "LayoutModel",
      "state": {}
     },
     "60f8d52613e24001ae6297c3f831305a": {
      "model_module": "@jupyter-widgets/base",
      "model_module_version": "1.2.0",
      "model_name": "LayoutModel",
      "state": {
       "width": "20px"
      }
     },
     "61a316fac0694a34a463dfb9360c898d": {
      "model_module": "@jupyter-widgets/controls",
      "model_module_version": "1.5.0",
      "model_name": "DescriptionStyleModel",
      "state": {
       "description_width": ""
      }
     },
     "6224e4166a094facbbe7d070b5c3a3ed": {
      "model_module": "@jupyter-widgets/controls",
      "model_module_version": "1.5.0",
      "model_name": "DescriptionStyleModel",
      "state": {
       "description_width": ""
      }
     },
     "62856c18761e4fdb9d215bf833c72186": {
      "model_module": "@jupyter-widgets/base",
      "model_module_version": "1.2.0",
      "model_name": "LayoutModel",
      "state": {}
     },
     "62e98986ae1340dbabc20d6537f827b8": {
      "model_module": "@jupyter-widgets/controls",
      "model_module_version": "1.5.0",
      "model_name": "HBoxModel",
      "state": {
       "children": [
        "IPY_MODEL_f04a9e87b5164fa9a6ff0c036ca9821b",
        "IPY_MODEL_c2e9f42086be4567bd759a670c99defa",
        "IPY_MODEL_ce00553d18f94fdeb65193db7cc255a5"
       ],
       "layout": "IPY_MODEL_1988123945884ab9b86d18c1ad860b54"
      }
     },
     "638a84dc2d124aaebbbe9a7bffd57632": {
      "model_module": "@jupyter-widgets/base",
      "model_module_version": "1.2.0",
      "model_name": "LayoutModel",
      "state": {}
     },
     "6446ffd7a8824e7da76c4cd5a7d1398e": {
      "model_module": "@jupyter-widgets/controls",
      "model_module_version": "1.5.0",
      "model_name": "HTMLModel",
      "state": {
       "layout": "IPY_MODEL_f31ce630974a4ff5a6c1a2ae381859e5",
       "style": "IPY_MODEL_0d1a324ed9af4ebfaf6fbdfacbc53164",
       "value": " 0/0 [00:00&lt;?, ?it/s]"
      }
     },
     "64a361f0d10d4315a90a65c5b4f0f849": {
      "model_module": "@jupyter-widgets/controls",
      "model_module_version": "1.5.0",
      "model_name": "HTMLModel",
      "state": {
       "layout": "IPY_MODEL_da37b01fa242466e8df1fc39f7ed5083",
       "style": "IPY_MODEL_3ef1f36855f8446096355c9515d54da3",
       "value": " 0/0 [00:00&lt;?, ?it/s]"
      }
     },
     "655deb4186a44f27adfb910e0f7a7767": {
      "model_module": "@jupyter-widgets/controls",
      "model_module_version": "1.5.0",
      "model_name": "FloatProgressModel",
      "state": {
       "bar_style": "success",
       "layout": "IPY_MODEL_c041221e03314d4eb00bfc207f41438a",
       "max": 2,
       "style": "IPY_MODEL_38526d837a004179aafa82fc0ef84ecd",
       "value": 2
      }
     },
     "6677c99a921c4e08af5281ca1a6a9948": {
      "model_module": "@jupyter-widgets/base",
      "model_module_version": "1.2.0",
      "model_name": "LayoutModel",
      "state": {}
     },
     "67070d2b27074b599fc1a971dc5872f7": {
      "model_module": "@jupyter-widgets/controls",
      "model_module_version": "1.5.0",
      "model_name": "DescriptionStyleModel",
      "state": {
       "description_width": ""
      }
     },
     "676471f2807146bc8780e6c034f5cd4f": {
      "model_module": "@jupyter-widgets/controls",
      "model_module_version": "1.5.0",
      "model_name": "HBoxModel",
      "state": {
       "children": [
        "IPY_MODEL_3f7a3d74f6c7464795ff672156ddb4f7",
        "IPY_MODEL_d5f4f376a8294f80a1f7237427464c7f",
        "IPY_MODEL_9dba844712dd4480ab4447fc3da7dc95"
       ],
       "layout": "IPY_MODEL_469eac6802984f33aba1f172dbbf6a4e"
      }
     },
     "67b8b0e3f1f0432f908bd87b1ff5cb01": {
      "model_module": "@jupyter-widgets/base",
      "model_module_version": "1.2.0",
      "model_name": "LayoutModel",
      "state": {}
     },
     "68c12ed25e5242598b5bab0a2bafa534": {
      "model_module": "@jupyter-widgets/controls",
      "model_module_version": "1.5.0",
      "model_name": "FloatProgressModel",
      "state": {
       "bar_style": "success",
       "layout": "IPY_MODEL_9b6ff2eaeaf34f56b9419055208595c4",
       "max": 11,
       "style": "IPY_MODEL_5bbd5b605ae04162aeaeedfc3dd910a8",
       "value": 11
      }
     },
     "68d13d71a382419a9eacc3b01d13efba": {
      "model_module": "@jupyter-widgets/base",
      "model_module_version": "1.2.0",
      "model_name": "LayoutModel",
      "state": {}
     },
     "6a45f8ff34c644a4ac5adb851f0fbc4a": {
      "model_module": "@jupyter-widgets/base",
      "model_module_version": "1.2.0",
      "model_name": "LayoutModel",
      "state": {}
     },
     "6a4fa63f99da4c88a021601bab11a430": {
      "model_module": "@jupyter-widgets/base",
      "model_module_version": "1.2.0",
      "model_name": "LayoutModel",
      "state": {}
     },
     "6ac5ac0b97f64433bd7dce1c630ed1ca": {
      "model_module": "@jupyter-widgets/base",
      "model_module_version": "1.2.0",
      "model_name": "LayoutModel",
      "state": {}
     },
     "6b0ff9997fa34d099e21dc11f8ef3f9c": {
      "model_module": "@jupyter-widgets/controls",
      "model_module_version": "1.5.0",
      "model_name": "HTMLModel",
      "state": {
       "layout": "IPY_MODEL_8993e4eafdfa4ddaa5a94db39bbf415c",
       "style": "IPY_MODEL_1d1c9485bb1a454197cc49e7a9433664",
       "value": " 1/1 [00:00&lt;00:00, 450.71it/s]"
      }
     },
     "6b69ab70f8ad4e5d913c8393ee2b2b07": {
      "model_module": "@jupyter-widgets/base",
      "model_module_version": "1.2.0",
      "model_name": "LayoutModel",
      "state": {}
     },
     "6c714d4b250941bca97eeb9ae481c5f0": {
      "model_module": "@jupyter-widgets/controls",
      "model_module_version": "1.5.0",
      "model_name": "HTMLModel",
      "state": {
       "layout": "IPY_MODEL_1516e4ba63d24160b55d11e055b62649",
       "style": "IPY_MODEL_209c6e2da8d341d6a46eb6cde5a07ed9",
       "value": "removing duplicates: "
      }
     },
     "6d89a6393e36443ab353656d58696122": {
      "model_module": "@jupyter-widgets/controls",
      "model_module_version": "1.5.0",
      "model_name": "DescriptionStyleModel",
      "state": {
       "description_width": ""
      }
     },
     "6da60bf55a5e4cd19da69ca6a0ce0e8a": {
      "model_module": "@jupyter-widgets/controls",
      "model_module_version": "1.5.0",
      "model_name": "HTMLModel",
      "state": {
       "layout": "IPY_MODEL_e924a69f03b646388a5f4ecfc2dc1671",
       "style": "IPY_MODEL_1cc40be7b27240e9b7f3f6e5dc2195c8",
       "value": " 1/1 [00:00&lt;00:00, 497.54it/s]"
      }
     },
     "6f0d6c3e11534b42ab4bedb12b8c8130": {
      "model_module": "@jupyter-widgets/controls",
      "model_module_version": "1.5.0",
      "model_name": "HBoxModel",
      "state": {
       "children": [
        "IPY_MODEL_fdcb86d25eb64b7d8b9f5336a897702c",
        "IPY_MODEL_c14c677b71ed4b6e8350e8a3781cab3f",
        "IPY_MODEL_b2d282cda307495fb930357480456784"
       ],
       "layout": "IPY_MODEL_7ada4b584880435e87134492c2e8cbd2"
      }
     },
     "70610f09986a462db9660736e783bd5b": {
      "model_module": "@jupyter-widgets/base",
      "model_module_version": "1.2.0",
      "model_name": "LayoutModel",
      "state": {}
     },
     "708c91f03ab04206ba41c0f628105174": {
      "model_module": "@jupyter-widgets/base",
      "model_module_version": "1.2.0",
      "model_name": "LayoutModel",
      "state": {}
     },
     "710b78d2c83649e09905e03b2825f9a1": {
      "model_module": "@jupyter-widgets/controls",
      "model_module_version": "1.5.0",
      "model_name": "DescriptionStyleModel",
      "state": {
       "description_width": ""
      }
     },
     "7159808171ec4bf298e1d5baeb0dd69d": {
      "model_module": "@jupyter-widgets/controls",
      "model_module_version": "1.5.0",
      "model_name": "DescriptionStyleModel",
      "state": {
       "description_width": ""
      }
     },
     "71a527900082491c8e5d6c3b81ebde96": {
      "model_module": "@jupyter-widgets/controls",
      "model_module_version": "1.5.0",
      "model_name": "HBoxModel",
      "state": {
       "children": [
        "IPY_MODEL_2a167e5773c44809945e433b6e082d46",
        "IPY_MODEL_9604b724568e4bf596171ee40382e7dc",
        "IPY_MODEL_1e8a94d3ab72461b987b5dd7ba05d7e7"
       ],
       "layout": "IPY_MODEL_70610f09986a462db9660736e783bd5b"
      }
     },
     "71fe28712c7f4ea6903b706b0a3681c1": {
      "model_module": "@jupyter-widgets/controls",
      "model_module_version": "1.5.0",
      "model_name": "HTMLModel",
      "state": {
       "layout": "IPY_MODEL_6a45f8ff34c644a4ac5adb851f0fbc4a",
       "style": "IPY_MODEL_4762f600f12c4e2b81f1618e1262936e",
       "value": "removing duplicates: "
      }
     },
     "731a3ab16d8c4a53a67cbda201a04354": {
      "model_module": "@jupyter-widgets/controls",
      "model_module_version": "1.5.0",
      "model_name": "ProgressStyleModel",
      "state": {
       "description_width": ""
      }
     },
     "7333ec1e3a09435cacab5ff234370b5b": {
      "model_module": "@jupyter-widgets/controls",
      "model_module_version": "1.5.0",
      "model_name": "HTMLModel",
      "state": {
       "layout": "IPY_MODEL_deed7abd90414cc4830193478dc43769",
       "style": "IPY_MODEL_5ff82ddee85c4352ba9cb1873bdddc11",
       "value": "removing duplicates: "
      }
     },
     "73556a96a8e241f4a55aab441cedc3f8": {
      "model_module": "@jupyter-widgets/base",
      "model_module_version": "1.2.0",
      "model_name": "LayoutModel",
      "state": {
       "width": "20px"
      }
     },
     "74362253c4524d46a25b82a27c50262e": {
      "model_module": "@jupyter-widgets/base",
      "model_module_version": "1.2.0",
      "model_name": "LayoutModel",
      "state": {}
     },
     "7587ac9fac464512849df6f263f77f5b": {
      "model_module": "@jupyter-widgets/controls",
      "model_module_version": "1.5.0",
      "model_name": "DescriptionStyleModel",
      "state": {
       "description_width": ""
      }
     },
     "75d5a2af2936484c9c357b9e99affeeb": {
      "model_module": "@jupyter-widgets/base",
      "model_module_version": "1.2.0",
      "model_name": "LayoutModel",
      "state": {}
     },
     "76913396e60d4cfcb2efb316ceb5ff65": {
      "model_module": "@jupyter-widgets/base",
      "model_module_version": "1.2.0",
      "model_name": "LayoutModel",
      "state": {
       "width": "20px"
      }
     },
     "76a889ef3d6b44439c49720cb3b84e6b": {
      "model_module": "@jupyter-widgets/controls",
      "model_module_version": "1.5.0",
      "model_name": "DescriptionStyleModel",
      "state": {
       "description_width": ""
      }
     },
     "76d1ec218a064e44ac03aec36f0d7eeb": {
      "model_module": "@jupyter-widgets/controls",
      "model_module_version": "1.5.0",
      "model_name": "ProgressStyleModel",
      "state": {
       "description_width": ""
      }
     },
     "776d70fe29144e19af7aed3cb643fd4f": {
      "model_module": "@jupyter-widgets/controls",
      "model_module_version": "1.5.0",
      "model_name": "DescriptionStyleModel",
      "state": {
       "description_width": ""
      }
     },
     "7797d6b681db4c88bfe0bc6026f1d898": {
      "model_module": "@jupyter-widgets/base",
      "model_module_version": "1.2.0",
      "model_name": "LayoutModel",
      "state": {}
     },
     "77f2b35cf0554a779f8fbbe4c121e796": {
      "model_module": "@jupyter-widgets/base",
      "model_module_version": "1.2.0",
      "model_name": "LayoutModel",
      "state": {}
     },
     "7826ba1e987b47f0a273457deea66490": {
      "model_module": "@jupyter-widgets/controls",
      "model_module_version": "1.5.0",
      "model_name": "DescriptionStyleModel",
      "state": {
       "description_width": ""
      }
     },
     "783af50daf8f4fcb8c6805ef208bf2fc": {
      "model_module": "@jupyter-widgets/controls",
      "model_module_version": "1.5.0",
      "model_name": "DescriptionStyleModel",
      "state": {
       "description_width": ""
      }
     },
     "7861a1a63d1442358f74efa475ca42b6": {
      "model_module": "@jupyter-widgets/controls",
      "model_module_version": "1.5.0",
      "model_name": "HBoxModel",
      "state": {
       "children": [
        "IPY_MODEL_86c9abfa6ed64fbf8918ab5de62eec0d",
        "IPY_MODEL_12475c5c980f49758de161a1a2661805",
        "IPY_MODEL_59373a2815f0401880f67516f1fad0b1"
       ],
       "layout": "IPY_MODEL_33e5cd98df9240649db456f4d8b079da"
      }
     },
     "78ec492b1a7944a6b7f9051e157e05c6": {
      "model_module": "@jupyter-widgets/controls",
      "model_module_version": "1.5.0",
      "model_name": "DescriptionStyleModel",
      "state": {
       "description_width": ""
      }
     },
     "79248730e1b045058d157768d99e251b": {
      "model_module": "@jupyter-widgets/controls",
      "model_module_version": "1.5.0",
      "model_name": "FloatProgressModel",
      "state": {
       "bar_style": "success",
       "layout": "IPY_MODEL_8e10f72775f7453094b10c3bfda0ce10",
       "max": 1,
       "style": "IPY_MODEL_dcedf2ce09c943048b5dcb00518d908f",
       "value": 1
      }
     },
     "795fc7d84ec14752aeeef27dfde1dc9d": {
      "model_module": "@jupyter-widgets/controls",
      "model_module_version": "1.5.0",
      "model_name": "ProgressStyleModel",
      "state": {
       "description_width": ""
      }
     },
     "79c03624aaae46ac972edf59c79abf14": {
      "model_module": "@jupyter-widgets/base",
      "model_module_version": "1.2.0",
      "model_name": "LayoutModel",
      "state": {}
     },
     "7a180468cbda4ebdb1b7f443d6be55f8": {
      "model_module": "@jupyter-widgets/controls",
      "model_module_version": "1.5.0",
      "model_name": "HTMLModel",
      "state": {
       "layout": "IPY_MODEL_3ef4dddaf3c64abd8fd043a86d785e1c",
       "style": "IPY_MODEL_241138010ccf4767a0e25d288fc04ccf",
       "value": "removing duplicates: 100%"
      }
     },
     "7a246e7aefd542e8a773f94f56cdb246": {
      "model_module": "@jupyter-widgets/base",
      "model_module_version": "1.2.0",
      "model_name": "LayoutModel",
      "state": {
       "width": "20px"
      }
     },
     "7aa942e42b9549f289991eb3a3ecd56d": {
      "model_module": "@jupyter-widgets/controls",
      "model_module_version": "1.5.0",
      "model_name": "ProgressStyleModel",
      "state": {
       "description_width": ""
      }
     },
     "7ada4b584880435e87134492c2e8cbd2": {
      "model_module": "@jupyter-widgets/base",
      "model_module_version": "1.2.0",
      "model_name": "LayoutModel",
      "state": {}
     },
     "7bbcf0c391944487bd7f7340ed871063": {
      "model_module": "@jupyter-widgets/controls",
      "model_module_version": "1.5.0",
      "model_name": "DescriptionStyleModel",
      "state": {
       "description_width": ""
      }
     },
     "7d3c412ca9574a2b846837bcc36b0b08": {
      "model_module": "@jupyter-widgets/controls",
      "model_module_version": "1.5.0",
      "model_name": "HBoxModel",
      "state": {
       "children": [
        "IPY_MODEL_267fe8d4f7f94ed98360d2ea6730caaa",
        "IPY_MODEL_5902748ef26b4240850e9f71a9d862f0",
        "IPY_MODEL_545ec9200fe74cda8407973883931c20"
       ],
       "layout": "IPY_MODEL_4c65ce82b4104c93b8324b101c9d8e69"
      }
     },
     "7d562ed00dcc4300a3f9b67e904e6715": {
      "model_module": "@jupyter-widgets/controls",
      "model_module_version": "1.5.0",
      "model_name": "HTMLModel",
      "state": {
       "layout": "IPY_MODEL_8d789b4c09fb432198f1a2ed61c4c977",
       "style": "IPY_MODEL_76a889ef3d6b44439c49720cb3b84e6b",
       "value": "removing duplicates: 100%"
      }
     },
     "7e6f0bb2578946d184f4deca441a43e1": {
      "model_module": "@jupyter-widgets/base",
      "model_module_version": "1.2.0",
      "model_name": "LayoutModel",
      "state": {}
     },
     "7e82c9d2c24b46faa861777db1820b61": {
      "model_module": "@jupyter-widgets/controls",
      "model_module_version": "1.5.0",
      "model_name": "HBoxModel",
      "state": {
       "children": [
        "IPY_MODEL_a1c049939e6d4d50b7e8b3f4367c26da",
        "IPY_MODEL_3514f2151ce94d17ae9288627d860245",
        "IPY_MODEL_218ea353d0e84914bc6b21f904d5fb11"
       ],
       "layout": "IPY_MODEL_68d13d71a382419a9eacc3b01d13efba"
      }
     },
     "7eb51f199d1b4399b9818012486e1360": {
      "model_module": "@jupyter-widgets/controls",
      "model_module_version": "1.5.0",
      "model_name": "HTMLModel",
      "state": {
       "layout": "IPY_MODEL_4c9d200c815f4f11a269ef9db156f65d",
       "style": "IPY_MODEL_497798047a0249aa9cfe8e13db5d509b",
       "value": " 1/1 [00:00&lt;00:00, 553.27it/s]"
      }
     },
     "7ecb9ebbd26149349202b3f0a5ce6260": {
      "model_module": "@jupyter-widgets/controls",
      "model_module_version": "1.5.0",
      "model_name": "ProgressStyleModel",
      "state": {
       "description_width": ""
      }
     },
     "7f77f1d3c300459da090d1e9edd54b72": {
      "model_module": "@jupyter-widgets/controls",
      "model_module_version": "1.5.0",
      "model_name": "FloatProgressModel",
      "state": {
       "bar_style": "success",
       "layout": "IPY_MODEL_391b118f89e24172b208cd5cc1a59d36",
       "max": 2,
       "style": "IPY_MODEL_19d89ff1314648978281f200ecadec7e",
       "value": 2
      }
     },
     "7fa406cd4ec44cd3890791712c702762": {
      "model_module": "@jupyter-widgets/controls",
      "model_module_version": "1.5.0",
      "model_name": "ProgressStyleModel",
      "state": {
       "description_width": ""
      }
     },
     "7fe4b6967b2f4420b0b82f7dc3893ab4": {
      "model_module": "@jupyter-widgets/controls",
      "model_module_version": "1.5.0",
      "model_name": "HTMLModel",
      "state": {
       "layout": "IPY_MODEL_e3d0923906534e698c80749196abd163",
       "style": "IPY_MODEL_406df9724a4d44f487a067299b5de4c8",
       "value": " 0/0 [00:00&lt;?, ?it/s]"
      }
     },
     "8085c0237acb4636b2cf65bf07981adf": {
      "model_module": "@jupyter-widgets/controls",
      "model_module_version": "1.5.0",
      "model_name": "DescriptionStyleModel",
      "state": {
       "description_width": ""
      }
     },
     "80915c96386d4907a1f305d2c91692d0": {
      "model_module": "@jupyter-widgets/controls",
      "model_module_version": "1.5.0",
      "model_name": "HTMLModel",
      "state": {
       "layout": "IPY_MODEL_2e62d138e9d848c791c618300dff57fd",
       "style": "IPY_MODEL_8e655397b8714180bf4a817cafa2c655",
       "value": "removing duplicates: "
      }
     },
     "8169e6eeb6f0432e9d8f410534318949": {
      "model_module": "@jupyter-widgets/controls",
      "model_module_version": "1.5.0",
      "model_name": "HBoxModel",
      "state": {
       "children": [
        "IPY_MODEL_ccdceb019f7f498d8d9613918448ef3c",
        "IPY_MODEL_5e0a5c213771441fa9c68b1f00efdfa1",
        "IPY_MODEL_4c4da05605e74895b9227d226ba4210f"
       ],
       "layout": "IPY_MODEL_1a81eb21cd4342a1ac22c94f26df7cea"
      }
     },
     "819874447d8e48bd9f8972a9551e9d2d": {
      "model_module": "@jupyter-widgets/controls",
      "model_module_version": "1.5.0",
      "model_name": "DescriptionStyleModel",
      "state": {
       "description_width": ""
      }
     },
     "82a8d186c5564cfa84bcbf5271fb4304": {
      "model_module": "@jupyter-widgets/controls",
      "model_module_version": "1.5.0",
      "model_name": "HTMLModel",
      "state": {
       "layout": "IPY_MODEL_3c07bf5e97d346d6b5b3267496ff221b",
       "style": "IPY_MODEL_67070d2b27074b599fc1a971dc5872f7",
       "value": "removing duplicates: "
      }
     },
     "836311823523449ea85f26b655592bb0": {
      "model_module": "@jupyter-widgets/base",
      "model_module_version": "1.2.0",
      "model_name": "LayoutModel",
      "state": {}
     },
     "837ecc7ea62b4cf38aeadb1b4854830d": {
      "model_module": "@jupyter-widgets/controls",
      "model_module_version": "1.5.0",
      "model_name": "HBoxModel",
      "state": {
       "children": [
        "IPY_MODEL_fd27079cddf9474b81eb9d2e16989583",
        "IPY_MODEL_86e6ed957bc441fea5231099603c65be",
        "IPY_MODEL_351ab87418604ae5a3a89f5de4b2682b"
       ],
       "layout": "IPY_MODEL_7797d6b681db4c88bfe0bc6026f1d898"
      }
     },
     "838dc584c3654042a5f969ed96802b71": {
      "model_module": "@jupyter-widgets/base",
      "model_module_version": "1.2.0",
      "model_name": "LayoutModel",
      "state": {}
     },
     "8464a05cd3f7433faabb1c65103ba76c": {
      "model_module": "@jupyter-widgets/base",
      "model_module_version": "1.2.0",
      "model_name": "LayoutModel",
      "state": {}
     },
     "85786229a3884089afda9c47be997795": {
      "model_module": "@jupyter-widgets/base",
      "model_module_version": "1.2.0",
      "model_name": "LayoutModel",
      "state": {}
     },
     "86545ef9dcad4ba4a6e72f565272c45b": {
      "model_module": "@jupyter-widgets/controls",
      "model_module_version": "1.5.0",
      "model_name": "ProgressStyleModel",
      "state": {
       "description_width": ""
      }
     },
     "86b1f1f3686e4c949b8523b9116ff8f7": {
      "model_module": "@jupyter-widgets/controls",
      "model_module_version": "1.5.0",
      "model_name": "HBoxModel",
      "state": {
       "children": [
        "IPY_MODEL_8ad0c1e620d54999a6dbca7a2cc0117e",
        "IPY_MODEL_68c12ed25e5242598b5bab0a2bafa534",
        "IPY_MODEL_19c738197dcf483090a96a6f6179fd70"
       ],
       "layout": "IPY_MODEL_9488d30718774582a484919b4c2b2608"
      }
     },
     "86c9abfa6ed64fbf8918ab5de62eec0d": {
      "model_module": "@jupyter-widgets/controls",
      "model_module_version": "1.5.0",
      "model_name": "HTMLModel",
      "state": {
       "layout": "IPY_MODEL_e4a98fb177194e888c3c1aac4a609784",
       "style": "IPY_MODEL_c9565f3f7f49494d8aeaedee2497d434",
       "value": "removing duplicates: "
      }
     },
     "86e6ed957bc441fea5231099603c65be": {
      "model_module": "@jupyter-widgets/controls",
      "model_module_version": "1.5.0",
      "model_name": "FloatProgressModel",
      "state": {
       "bar_style": "success",
       "layout": "IPY_MODEL_ba306fbfaa734813a935f507d027aa80",
       "max": 1,
       "style": "IPY_MODEL_ba2af660e81349bdb216d62f736cbe10"
      }
     },
     "874082b06383449a9cc80f58380062ae": {
      "model_module": "@jupyter-widgets/controls",
      "model_module_version": "1.5.0",
      "model_name": "FloatProgressModel",
      "state": {
       "bar_style": "success",
       "layout": "IPY_MODEL_fc78c90b1a6d495f9f6ba74af3ee8c79",
       "max": 1,
       "style": "IPY_MODEL_b57b14ffac614dfb8769202bc015bc1a"
      }
     },
     "87fbac5da3094f209653a53a86debf53": {
      "model_module": "@jupyter-widgets/base",
      "model_module_version": "1.2.0",
      "model_name": "LayoutModel",
      "state": {}
     },
     "880243002f68438f87ed2b7d4bf7392b": {
      "model_module": "@jupyter-widgets/base",
      "model_module_version": "1.2.0",
      "model_name": "LayoutModel",
      "state": {
       "width": "20px"
      }
     },
     "88804a6de4064a3a8c70d3ce3d57a4de": {
      "model_module": "@jupyter-widgets/base",
      "model_module_version": "1.2.0",
      "model_name": "LayoutModel",
      "state": {}
     },
     "89340e123bdd425db414ecc6cb1abcf0": {
      "model_module": "@jupyter-widgets/controls",
      "model_module_version": "1.5.0",
      "model_name": "HTMLModel",
      "state": {
       "layout": "IPY_MODEL_89d0a3b205844a86a4f3d8bb703e49e9",
       "style": "IPY_MODEL_7159808171ec4bf298e1d5baeb0dd69d",
       "value": " 0/0 [00:00&lt;?, ?it/s]"
      }
     },
     "893720d92e734db280424b44e0ccbb28": {
      "model_module": "@jupyter-widgets/controls",
      "model_module_version": "1.5.0",
      "model_name": "HTMLModel",
      "state": {
       "layout": "IPY_MODEL_dc0a2b459c6f4710b9a18a83b5037329",
       "style": "IPY_MODEL_be3c77cd70ae48cc9254c7020ceb34f4",
       "value": "removing duplicates: 100%"
      }
     },
     "8993e4eafdfa4ddaa5a94db39bbf415c": {
      "model_module": "@jupyter-widgets/base",
      "model_module_version": "1.2.0",
      "model_name": "LayoutModel",
      "state": {}
     },
     "89cdd5eb53b345689d55148e440327f9": {
      "model_module": "@jupyter-widgets/controls",
      "model_module_version": "1.5.0",
      "model_name": "ProgressStyleModel",
      "state": {
       "description_width": ""
      }
     },
     "89d0a3b205844a86a4f3d8bb703e49e9": {
      "model_module": "@jupyter-widgets/base",
      "model_module_version": "1.2.0",
      "model_name": "LayoutModel",
      "state": {}
     },
     "8a0a2072505d49b793fc2d2a26e14f39": {
      "model_module": "@jupyter-widgets/controls",
      "model_module_version": "1.5.0",
      "model_name": "ProgressStyleModel",
      "state": {
       "description_width": ""
      }
     },
     "8a4533733036463694d62fdc3019d9a8": {
      "model_module": "@jupyter-widgets/controls",
      "model_module_version": "1.5.0",
      "model_name": "ProgressStyleModel",
      "state": {
       "description_width": ""
      }
     },
     "8ad0c1e620d54999a6dbca7a2cc0117e": {
      "model_module": "@jupyter-widgets/controls",
      "model_module_version": "1.5.0",
      "model_name": "HTMLModel",
      "state": {
       "layout": "IPY_MODEL_39fca3ac4de140df8f2f404b04766484",
       "style": "IPY_MODEL_783af50daf8f4fcb8c6805ef208bf2fc",
       "value": "removing duplicates: 100%"
      }
     },
     "8b96148f067d4cfbbec2c63750242b17": {
      "model_module": "@jupyter-widgets/base",
      "model_module_version": "1.2.0",
      "model_name": "LayoutModel",
      "state": {}
     },
     "8c7fca93bf6a4e0c860267e2b286211d": {
      "model_module": "@jupyter-widgets/controls",
      "model_module_version": "1.5.0",
      "model_name": "DescriptionStyleModel",
      "state": {
       "description_width": ""
      }
     },
     "8ceb4c9659614b34a83f5bbe21b1ed55": {
      "model_module": "@jupyter-widgets/controls",
      "model_module_version": "1.5.0",
      "model_name": "ProgressStyleModel",
      "state": {
       "description_width": ""
      }
     },
     "8d789b4c09fb432198f1a2ed61c4c977": {
      "model_module": "@jupyter-widgets/base",
      "model_module_version": "1.2.0",
      "model_name": "LayoutModel",
      "state": {}
     },
     "8dc2943bafef491c96ea95b074233dd6": {
      "model_module": "@jupyter-widgets/controls",
      "model_module_version": "1.5.0",
      "model_name": "ProgressStyleModel",
      "state": {
       "description_width": ""
      }
     },
     "8e10f72775f7453094b10c3bfda0ce10": {
      "model_module": "@jupyter-widgets/base",
      "model_module_version": "1.2.0",
      "model_name": "LayoutModel",
      "state": {}
     },
     "8e2bf5b9ccd644f08e30ae94396e7085": {
      "model_module": "@jupyter-widgets/base",
      "model_module_version": "1.2.0",
      "model_name": "LayoutModel",
      "state": {}
     },
     "8e655397b8714180bf4a817cafa2c655": {
      "model_module": "@jupyter-widgets/controls",
      "model_module_version": "1.5.0",
      "model_name": "DescriptionStyleModel",
      "state": {
       "description_width": ""
      }
     },
     "8f5527db3eec45c2a1334028b415eeed": {
      "model_module": "@jupyter-widgets/base",
      "model_module_version": "1.2.0",
      "model_name": "LayoutModel",
      "state": {
       "width": "20px"
      }
     },
     "8f861db456ad4b91b8ed5af4dcf9b320": {
      "model_module": "@jupyter-widgets/base",
      "model_module_version": "1.2.0",
      "model_name": "LayoutModel",
      "state": {}
     },
     "8fff01b12f2c4d17b75fae6a737a5526": {
      "model_module": "@jupyter-widgets/base",
      "model_module_version": "1.2.0",
      "model_name": "LayoutModel",
      "state": {}
     },
     "906bb5bedce44901aa57a437a8281e97": {
      "model_module": "@jupyter-widgets/controls",
      "model_module_version": "1.5.0",
      "model_name": "DescriptionStyleModel",
      "state": {
       "description_width": ""
      }
     },
     "911a5e9b79024944935d0bb7f30bedd6": {
      "model_module": "@jupyter-widgets/base",
      "model_module_version": "1.2.0",
      "model_name": "LayoutModel",
      "state": {}
     },
     "939fd22a5c9c42f69cd881f134f97e50": {
      "model_module": "@jupyter-widgets/base",
      "model_module_version": "1.2.0",
      "model_name": "LayoutModel",
      "state": {}
     },
     "93c0c0ddabd548fbbc5b4d35ecb30ecb": {
      "model_module": "@jupyter-widgets/controls",
      "model_module_version": "1.5.0",
      "model_name": "HBoxModel",
      "state": {
       "children": [
        "IPY_MODEL_6c714d4b250941bca97eeb9ae481c5f0",
        "IPY_MODEL_f2e583685b8c4fa3afbd6a65337a4b12",
        "IPY_MODEL_10186c2e776140e89c06326ea9a8d8ed"
       ],
       "layout": "IPY_MODEL_20bf7bace91a4f87ab2ff0cbf5dd7299"
      }
     },
     "9408090c5ca3481b860224214624d6e7": {
      "model_module": "@jupyter-widgets/base",
      "model_module_version": "1.2.0",
      "model_name": "LayoutModel",
      "state": {}
     },
     "947a6d1720b84aa68fc64386a6f38250": {
      "model_module": "@jupyter-widgets/base",
      "model_module_version": "1.2.0",
      "model_name": "LayoutModel",
      "state": {}
     },
     "9488d30718774582a484919b4c2b2608": {
      "model_module": "@jupyter-widgets/base",
      "model_module_version": "1.2.0",
      "model_name": "LayoutModel",
      "state": {}
     },
     "94a86513ad1b4b4f90e32c73caef71b8": {
      "model_module": "@jupyter-widgets/controls",
      "model_module_version": "1.5.0",
      "model_name": "HBoxModel",
      "state": {
       "children": [
        "IPY_MODEL_1a327f5f60d34db98f07d0666b8d3ef7",
        "IPY_MODEL_fa4c72f63c72483a8128a388652462f8",
        "IPY_MODEL_64a361f0d10d4315a90a65c5b4f0f849"
       ],
       "layout": "IPY_MODEL_fdf2166f896b40cfa640c77b539d0c3c"
      }
     },
     "94b0bf0c7f4a43408e685415b69a13eb": {
      "model_module": "@jupyter-widgets/controls",
      "model_module_version": "1.5.0",
      "model_name": "HBoxModel",
      "state": {
       "children": [
        "IPY_MODEL_542079c73b3c4e0db35045214d1b5b64",
        "IPY_MODEL_d4fc728f260549669cc74560215a6cca",
        "IPY_MODEL_f13b4e1b50ee4c4094160148085b299c"
       ],
       "layout": "IPY_MODEL_cd0248ab52c74f48abfd33f726219230"
      }
     },
     "95705b084ed04727a8bdd2dffcf4d2ec": {
      "model_module": "@jupyter-widgets/controls",
      "model_module_version": "1.5.0",
      "model_name": "HBoxModel",
      "state": {
       "children": [
        "IPY_MODEL_c8ac9f4743424565baa2123924874df0",
        "IPY_MODEL_d7a48cc3e85b4bd3888f68ae45f3b809",
        "IPY_MODEL_a77f69cf328446f2b91e2055d26bb36a"
       ],
       "layout": "IPY_MODEL_47a5e9264e874f90805cfc296e9be9a4"
      }
     },
     "9604b724568e4bf596171ee40382e7dc": {
      "model_module": "@jupyter-widgets/controls",
      "model_module_version": "1.5.0",
      "model_name": "FloatProgressModel",
      "state": {
       "bar_style": "success",
       "layout": "IPY_MODEL_7e6f0bb2578946d184f4deca441a43e1",
       "max": 1,
       "style": "IPY_MODEL_1b814379a67a44f6813d9f90cc1a1e55",
       "value": 1
      }
     },
     "97876e1f46d3428a94ebc8fbbe3db361": {
      "model_module": "@jupyter-widgets/controls",
      "model_module_version": "1.5.0",
      "model_name": "ProgressStyleModel",
      "state": {
       "description_width": ""
      }
     },
     "980b11d2ed6f4aeba38b81b986ae9157": {
      "model_module": "@jupyter-widgets/controls",
      "model_module_version": "1.5.0",
      "model_name": "FloatProgressModel",
      "state": {
       "bar_style": "success",
       "layout": "IPY_MODEL_8f5527db3eec45c2a1334028b415eeed",
       "max": 1,
       "style": "IPY_MODEL_731a3ab16d8c4a53a67cbda201a04354"
      }
     },
     "998d2a14093c446b9cd4996d05dad149": {
      "model_module": "@jupyter-widgets/base",
      "model_module_version": "1.2.0",
      "model_name": "LayoutModel",
      "state": {}
     },
     "99f9d0a092ab46dcab7bd7a076305651": {
      "model_module": "@jupyter-widgets/controls",
      "model_module_version": "1.5.0",
      "model_name": "HBoxModel",
      "state": {
       "children": [
        "IPY_MODEL_1d0fb63366e24e24804dc38f5f502c0e",
        "IPY_MODEL_f353efbf33bc481082731758142db6b0",
        "IPY_MODEL_efcc33f82226404da3e28517710ad41b"
       ],
       "layout": "IPY_MODEL_568132b218b140319e08401393edfcbd"
      }
     },
     "99fdb3d4c6624679b0938ed12e0936d4": {
      "model_module": "@jupyter-widgets/controls",
      "model_module_version": "1.5.0",
      "model_name": "HTMLModel",
      "state": {
       "layout": "IPY_MODEL_387dc8cefaff4affb8799f032707eb91",
       "style": "IPY_MODEL_17624acb6fb04e37941d0fdc34b31f90",
       "value": " 2/2 [00:00&lt;00:00, 972.59it/s]"
      }
     },
     "9a22bbf5915240acbe5cc6d82e698d2b": {
      "model_module": "@jupyter-widgets/base",
      "model_module_version": "1.2.0",
      "model_name": "LayoutModel",
      "state": {}
     },
     "9b6ff2eaeaf34f56b9419055208595c4": {
      "model_module": "@jupyter-widgets/base",
      "model_module_version": "1.2.0",
      "model_name": "LayoutModel",
      "state": {}
     },
     "9bf162f520864f6cb65f151f4205f1c7": {
      "model_module": "@jupyter-widgets/controls",
      "model_module_version": "1.5.0",
      "model_name": "DescriptionStyleModel",
      "state": {
       "description_width": ""
      }
     },
     "9dba844712dd4480ab4447fc3da7dc95": {
      "model_module": "@jupyter-widgets/controls",
      "model_module_version": "1.5.0",
      "model_name": "HTMLModel",
      "state": {
       "layout": "IPY_MODEL_74362253c4524d46a25b82a27c50262e",
       "style": "IPY_MODEL_3282c47ad9b948598d0ccf9cbd918a4a",
       "value": " 1/1 [00:00&lt;00:00, 502.67it/s]"
      }
     },
     "9e080d7187674780918530ef59d385e1": {
      "model_module": "@jupyter-widgets/controls",
      "model_module_version": "1.5.0",
      "model_name": "HBoxModel",
      "state": {
       "children": [
        "IPY_MODEL_cbae43591b154f058298f0d0924d79d3",
        "IPY_MODEL_17a25ada4e814bd18dfea58dd7d795ec",
        "IPY_MODEL_1831f43fd6c4437bb7f364255752b907"
       ],
       "layout": "IPY_MODEL_9408090c5ca3481b860224214624d6e7"
      }
     },
     "9ea29dd2b11f4a63bd779184bcbc7b80": {
      "model_module": "@jupyter-widgets/base",
      "model_module_version": "1.2.0",
      "model_name": "LayoutModel",
      "state": {}
     },
     "9f24534207144f7d9f6e2dec65a135a8": {
      "model_module": "@jupyter-widgets/controls",
      "model_module_version": "1.5.0",
      "model_name": "ProgressStyleModel",
      "state": {
       "description_width": ""
      }
     },
     "9ff06cf257414a84a70b8efdcca629f8": {
      "model_module": "@jupyter-widgets/controls",
      "model_module_version": "1.5.0",
      "model_name": "HBoxModel",
      "state": {
       "children": [
        "IPY_MODEL_4d7b4162c7364dd5b7d40f448ddb758d",
        "IPY_MODEL_1bd2fd333770425da57c8ac680491db9",
        "IPY_MODEL_2bcc565fd1c749d4bd272aa674451754"
       ],
       "layout": "IPY_MODEL_3e25b9808c0a4e44b30cc120302ae302"
      }
     },
     "a0299572112144f3a16063ce01cf4cf5": {
      "model_module": "@jupyter-widgets/controls",
      "model_module_version": "1.5.0",
      "model_name": "ProgressStyleModel",
      "state": {
       "description_width": ""
      }
     },
     "a0d54d8e5dc94a7187eaa268b9ab6091": {
      "model_module": "@jupyter-widgets/base",
      "model_module_version": "1.2.0",
      "model_name": "LayoutModel",
      "state": {}
     },
     "a0f6964d367d41fcb3d81c0f8bc86027": {
      "model_module": "@jupyter-widgets/base",
      "model_module_version": "1.2.0",
      "model_name": "LayoutModel",
      "state": {}
     },
     "a190c3592f1e454c9a1a5e38c7bb9e46": {
      "model_module": "@jupyter-widgets/controls",
      "model_module_version": "1.5.0",
      "model_name": "HTMLModel",
      "state": {
       "layout": "IPY_MODEL_5a705f95918d49a790cecef3290bd018",
       "style": "IPY_MODEL_78ec492b1a7944a6b7f9051e157e05c6",
       "value": "removing duplicates: "
      }
     },
     "a1c049939e6d4d50b7e8b3f4367c26da": {
      "model_module": "@jupyter-widgets/controls",
      "model_module_version": "1.5.0",
      "model_name": "HTMLModel",
      "state": {
       "layout": "IPY_MODEL_c47f61a5388749c48acb5d6bc3a4ad60",
       "style": "IPY_MODEL_50959f5f644f443da11e507b96b6b943",
       "value": "removing duplicates: 100%"
      }
     },
     "a1fec23972514024a59d3cc6933f379f": {
      "model_module": "@jupyter-widgets/base",
      "model_module_version": "1.2.0",
      "model_name": "LayoutModel",
      "state": {}
     },
     "a248da6caf5e450682aa4b3ace4fe9f9": {
      "model_module": "@jupyter-widgets/controls",
      "model_module_version": "1.5.0",
      "model_name": "ProgressStyleModel",
      "state": {
       "description_width": ""
      }
     },
     "a33fb2be36c249d49de2725d3bbfba08": {
      "model_module": "@jupyter-widgets/controls",
      "model_module_version": "1.5.0",
      "model_name": "DescriptionStyleModel",
      "state": {
       "description_width": ""
      }
     },
     "a47d2a743f63496daaaecd19f37c56f0": {
      "model_module": "@jupyter-widgets/controls",
      "model_module_version": "1.5.0",
      "model_name": "ProgressStyleModel",
      "state": {
       "description_width": ""
      }
     },
     "a48e479908934c2cbcfb83e9c9ec8805": {
      "model_module": "@jupyter-widgets/controls",
      "model_module_version": "1.5.0",
      "model_name": "HTMLModel",
      "state": {
       "layout": "IPY_MODEL_559161c7242e402988eac80e7db59bb2",
       "style": "IPY_MODEL_491ae0e7f2044efa93b81247c586f789",
       "value": "removing duplicates: 100%"
      }
     },
     "a52d020d51d64f3cbf796a885b51fe8e": {
      "model_module": "@jupyter-widgets/controls",
      "model_module_version": "1.5.0",
      "model_name": "HTMLModel",
      "state": {
       "layout": "IPY_MODEL_29e1489cfd9e43fd906c855454260a99",
       "style": "IPY_MODEL_5aa62ad50bd7402bbfbf0263dec45ee1",
       "value": " 35/35 [00:00&lt;00:00, 15096.73it/s]"
      }
     },
     "a558604837ee4bfdae5edcf7f3ee8678": {
      "model_module": "@jupyter-widgets/controls",
      "model_module_version": "1.5.0",
      "model_name": "DescriptionStyleModel",
      "state": {
       "description_width": ""
      }
     },
     "a67addb10b7c477aaf9988ae22004585": {
      "model_module": "@jupyter-widgets/base",
      "model_module_version": "1.2.0",
      "model_name": "LayoutModel",
      "state": {}
     },
     "a69c440a5608491f93e08d7e303a6859": {
      "model_module": "@jupyter-widgets/controls",
      "model_module_version": "1.5.0",
      "model_name": "FloatProgressModel",
      "state": {
       "bar_style": "success",
       "layout": "IPY_MODEL_d12ec1ab89ec46b98a0890c623310c33",
       "max": 1,
       "style": "IPY_MODEL_97876e1f46d3428a94ebc8fbbe3db361"
      }
     },
     "a77f69cf328446f2b91e2055d26bb36a": {
      "model_module": "@jupyter-widgets/controls",
      "model_module_version": "1.5.0",
      "model_name": "HTMLModel",
      "state": {
       "layout": "IPY_MODEL_911a5e9b79024944935d0bb7f30bedd6",
       "style": "IPY_MODEL_5774e82193384007b59151e587710acf",
       "value": " 0/0 [00:00&lt;?, ?it/s]"
      }
     },
     "a8d14ba76e704ca7921761eff4bb493b": {
      "model_module": "@jupyter-widgets/controls",
      "model_module_version": "1.5.0",
      "model_name": "DescriptionStyleModel",
      "state": {
       "description_width": ""
      }
     },
     "a9b189c7b873400b991852c7fcab47d1": {
      "model_module": "@jupyter-widgets/controls",
      "model_module_version": "1.5.0",
      "model_name": "HTMLModel",
      "state": {
       "layout": "IPY_MODEL_b9a3fb8704834338897fab8415f4d28b",
       "style": "IPY_MODEL_0e01d4fd30e041fa9a28c9c88dbc23ec",
       "value": " 0/0 [00:00&lt;?, ?it/s]"
      }
     },
     "a9c84802ebc548e298e6bf221dc21d04": {
      "model_module": "@jupyter-widgets/controls",
      "model_module_version": "1.5.0",
      "model_name": "HTMLModel",
      "state": {
       "layout": "IPY_MODEL_f8ac9640c13d49aabcd9ac08aadd8438",
       "style": "IPY_MODEL_61a316fac0694a34a463dfb9360c898d",
       "value": " 0/0 [00:00&lt;?, ?it/s]"
      }
     },
     "aa63fe0b1cc44cbc97af0107ef2dc2aa": {
      "model_module": "@jupyter-widgets/base",
      "model_module_version": "1.2.0",
      "model_name": "LayoutModel",
      "state": {}
     },
     "aace719b993f4d298c1722ba1b025a8f": {
      "model_module": "@jupyter-widgets/controls",
      "model_module_version": "1.5.0",
      "model_name": "DescriptionStyleModel",
      "state": {
       "description_width": ""
      }
     },
     "ab46f8e444334067bf5b45863af1c322": {
      "model_module": "@jupyter-widgets/base",
      "model_module_version": "1.2.0",
      "model_name": "LayoutModel",
      "state": {}
     },
     "abb1edf8a43f4609a61c71ec24bcd408": {
      "model_module": "@jupyter-widgets/controls",
      "model_module_version": "1.5.0",
      "model_name": "HTMLModel",
      "state": {
       "layout": "IPY_MODEL_0818aa16ed534a9da1b6fe3987b7da19",
       "style": "IPY_MODEL_9bf162f520864f6cb65f151f4205f1c7",
       "value": " 2/2 [00:00&lt;00:00, 1064.54it/s]"
      }
     },
     "abb83ca34f5742569e0bcc816e65abac": {
      "model_module": "@jupyter-widgets/base",
      "model_module_version": "1.2.0",
      "model_name": "LayoutModel",
      "state": {}
     },
     "acbc5a91942b4881b9e33286aa4c19d3": {
      "model_module": "@jupyter-widgets/controls",
      "model_module_version": "1.5.0",
      "model_name": "HTMLModel",
      "state": {
       "layout": "IPY_MODEL_67b8b0e3f1f0432f908bd87b1ff5cb01",
       "style": "IPY_MODEL_1d9e9bc17c1d4ea5bd3fe93c7f749d5e",
       "value": " 1/1 [00:00&lt;00:00, 450.23it/s]"
      }
     },
     "acf1612d9aec4a2db5dfe32953123211": {
      "model_module": "@jupyter-widgets/controls",
      "model_module_version": "1.5.0",
      "model_name": "FloatProgressModel",
      "state": {
       "bar_style": "success",
       "layout": "IPY_MODEL_075fde834ab44cf1b7ff89897aa0f942",
       "max": 1,
       "style": "IPY_MODEL_03a386d312844a95aeee151090c72ff4",
       "value": 1
      }
     },
     "ad162fbd1b6f4ebc82421371d86c8757": {
      "model_module": "@jupyter-widgets/controls",
      "model_module_version": "1.5.0",
      "model_name": "HTMLModel",
      "state": {
       "layout": "IPY_MODEL_20f10b6201ea4dbe9ce7cc3b44dba1d1",
       "style": "IPY_MODEL_1754de8a862b407f97aadea7b812a44d",
       "value": "removing duplicates: "
      }
     },
     "adabbe24528e4903861352fe0820710b": {
      "model_module": "@jupyter-widgets/base",
      "model_module_version": "1.2.0",
      "model_name": "LayoutModel",
      "state": {}
     },
     "aefb765384a8419cacdd0ed05f9e4d83": {
      "model_module": "@jupyter-widgets/controls",
      "model_module_version": "1.5.0",
      "model_name": "ProgressStyleModel",
      "state": {
       "description_width": ""
      }
     },
     "af2e245d960947aa8fd8ac8f8b025843": {
      "model_module": "@jupyter-widgets/controls",
      "model_module_version": "1.5.0",
      "model_name": "FloatProgressModel",
      "state": {
       "bar_style": "success",
       "layout": "IPY_MODEL_998d2a14093c446b9cd4996d05dad149",
       "max": 1,
       "style": "IPY_MODEL_8ceb4c9659614b34a83f5bbe21b1ed55",
       "value": 1
      }
     },
     "aff100b9853a4840812a2b0fb3cde2b4": {
      "model_module": "@jupyter-widgets/base",
      "model_module_version": "1.2.0",
      "model_name": "LayoutModel",
      "state": {
       "width": "20px"
      }
     },
     "b0d098994c7c4116bfe5590846c7845b": {
      "model_module": "@jupyter-widgets/controls",
      "model_module_version": "1.5.0",
      "model_name": "DescriptionStyleModel",
      "state": {
       "description_width": ""
      }
     },
     "b0d98edb29234d6f8582ce6bb58d3e62": {
      "model_module": "@jupyter-widgets/base",
      "model_module_version": "1.2.0",
      "model_name": "LayoutModel",
      "state": {}
     },
     "b128200afa934fe08f525922d6be64f5": {
      "model_module": "@jupyter-widgets/controls",
      "model_module_version": "1.5.0",
      "model_name": "ProgressStyleModel",
      "state": {
       "description_width": ""
      }
     },
     "b2269f7754154ee595b28c4167f3a020": {
      "model_module": "@jupyter-widgets/base",
      "model_module_version": "1.2.0",
      "model_name": "LayoutModel",
      "state": {
       "width": "20px"
      }
     },
     "b2d282cda307495fb930357480456784": {
      "model_module": "@jupyter-widgets/controls",
      "model_module_version": "1.5.0",
      "model_name": "HTMLModel",
      "state": {
       "layout": "IPY_MODEL_bb26aacd7fad478d917b79a14cb2b16f",
       "style": "IPY_MODEL_c96378db2423431fa7f5f3e22db4fff8",
       "value": " 0/0 [00:00&lt;?, ?it/s]"
      }
     },
     "b35a150798444360b9765e3dad64fbbf": {
      "model_module": "@jupyter-widgets/base",
      "model_module_version": "1.2.0",
      "model_name": "LayoutModel",
      "state": {}
     },
     "b3616bdb38ca4ec3a26fa20187899dc4": {
      "model_module": "@jupyter-widgets/controls",
      "model_module_version": "1.5.0",
      "model_name": "DescriptionStyleModel",
      "state": {
       "description_width": ""
      }
     },
     "b3ae27efd6174d74a8fee6c25fe91923": {
      "model_module": "@jupyter-widgets/base",
      "model_module_version": "1.2.0",
      "model_name": "LayoutModel",
      "state": {}
     },
     "b3b3376fbf684dd8b752959971874146": {
      "model_module": "@jupyter-widgets/base",
      "model_module_version": "1.2.0",
      "model_name": "LayoutModel",
      "state": {}
     },
     "b40ff28a7d7a423090a5f5285153d1d2": {
      "model_module": "@jupyter-widgets/base",
      "model_module_version": "1.2.0",
      "model_name": "LayoutModel",
      "state": {}
     },
     "b4d1ad97faca4f7ba5b2038a90cb9e46": {
      "model_module": "@jupyter-widgets/base",
      "model_module_version": "1.2.0",
      "model_name": "LayoutModel",
      "state": {}
     },
     "b4f84893994a47e98e8ae27d7c9fa2b7": {
      "model_module": "@jupyter-widgets/base",
      "model_module_version": "1.2.0",
      "model_name": "LayoutModel",
      "state": {}
     },
     "b57b14ffac614dfb8769202bc015bc1a": {
      "model_module": "@jupyter-widgets/controls",
      "model_module_version": "1.5.0",
      "model_name": "ProgressStyleModel",
      "state": {
       "description_width": ""
      }
     },
     "b5b2ba85de584d2db26ca54b26f52e9d": {
      "model_module": "@jupyter-widgets/base",
      "model_module_version": "1.2.0",
      "model_name": "LayoutModel",
      "state": {}
     },
     "b5bd7c9c172e4bd2920bed137475e3c0": {
      "model_module": "@jupyter-widgets/base",
      "model_module_version": "1.2.0",
      "model_name": "LayoutModel",
      "state": {}
     },
     "b6f300222d9141b699854c1126a60aac": {
      "model_module": "@jupyter-widgets/controls",
      "model_module_version": "1.5.0",
      "model_name": "DescriptionStyleModel",
      "state": {
       "description_width": ""
      }
     },
     "b7345dea77714343870602594bf858f0": {
      "model_module": "@jupyter-widgets/controls",
      "model_module_version": "1.5.0",
      "model_name": "HBoxModel",
      "state": {
       "children": [
        "IPY_MODEL_7d562ed00dcc4300a3f9b67e904e6715",
        "IPY_MODEL_af2e245d960947aa8fd8ac8f8b025843",
        "IPY_MODEL_7eb51f199d1b4399b9818012486e1360"
       ],
       "layout": "IPY_MODEL_abb83ca34f5742569e0bcc816e65abac"
      }
     },
     "b7a204ab8a274ea1a586a89eaf8a7589": {
      "model_module": "@jupyter-widgets/controls",
      "model_module_version": "1.5.0",
      "model_name": "HBoxModel",
      "state": {
       "children": [
        "IPY_MODEL_c9c28ef9860f461793d2f3518d000178",
        "IPY_MODEL_394c87cf0174484f8128a162a962daf9",
        "IPY_MODEL_a52d020d51d64f3cbf796a885b51fe8e"
       ],
       "layout": "IPY_MODEL_adabbe24528e4903861352fe0820710b"
      }
     },
     "b8b2b0870624426594f9db3734c7a3c7": {
      "model_module": "@jupyter-widgets/controls",
      "model_module_version": "1.5.0",
      "model_name": "HBoxModel",
      "state": {
       "children": [
        "IPY_MODEL_f89e669f7a114d2b93198d5654d8cf3b",
        "IPY_MODEL_655deb4186a44f27adfb910e0f7a7767",
        "IPY_MODEL_abb1edf8a43f4609a61c71ec24bcd408"
       ],
       "layout": "IPY_MODEL_77f2b35cf0554a779f8fbbe4c121e796"
      }
     },
     "b916d3f722804334b23731cb96ad5791": {
      "model_module": "@jupyter-widgets/controls",
      "model_module_version": "1.5.0",
      "model_name": "HBoxModel",
      "state": {
       "children": [
        "IPY_MODEL_22c3cc7296944577b18877f9cd428c1f",
        "IPY_MODEL_09b316fa1e784279bf506b543d06d983",
        "IPY_MODEL_09018070ceb34dd4a3d1fee40f734e76"
       ],
       "layout": "IPY_MODEL_443bbdce5e7d4391893fa602574c771b"
      }
     },
     "b91e934f611e4a17a43bec1aa081515c": {
      "model_module": "@jupyter-widgets/base",
      "model_module_version": "1.2.0",
      "model_name": "LayoutModel",
      "state": {
       "width": "20px"
      }
     },
     "b9a3fb8704834338897fab8415f4d28b": {
      "model_module": "@jupyter-widgets/base",
      "model_module_version": "1.2.0",
      "model_name": "LayoutModel",
      "state": {}
     },
     "ba2af660e81349bdb216d62f736cbe10": {
      "model_module": "@jupyter-widgets/controls",
      "model_module_version": "1.5.0",
      "model_name": "ProgressStyleModel",
      "state": {
       "description_width": ""
      }
     },
     "ba306fbfaa734813a935f507d027aa80": {
      "model_module": "@jupyter-widgets/base",
      "model_module_version": "1.2.0",
      "model_name": "LayoutModel",
      "state": {
       "width": "20px"
      }
     },
     "bb26aacd7fad478d917b79a14cb2b16f": {
      "model_module": "@jupyter-widgets/base",
      "model_module_version": "1.2.0",
      "model_name": "LayoutModel",
      "state": {}
     },
     "bda84174e6d84aa8a2d7c75534d3a7d4": {
      "model_module": "@jupyter-widgets/base",
      "model_module_version": "1.2.0",
      "model_name": "LayoutModel",
      "state": {}
     },
     "bdb8158612dd4c18a816141769a7d61a": {
      "model_module": "@jupyter-widgets/controls",
      "model_module_version": "1.5.0",
      "model_name": "DescriptionStyleModel",
      "state": {
       "description_width": ""
      }
     },
     "bdc14513d91c4ba6b9aa2d7ba7364b10": {
      "model_module": "@jupyter-widgets/controls",
      "model_module_version": "1.5.0",
      "model_name": "HTMLModel",
      "state": {
       "layout": "IPY_MODEL_947a6d1720b84aa68fc64386a6f38250",
       "style": "IPY_MODEL_4a3d4ccd7a854418b36e4b70ea687891",
       "value": " 0/0 [00:00&lt;?, ?it/s]"
      }
     },
     "be3c77cd70ae48cc9254c7020ceb34f4": {
      "model_module": "@jupyter-widgets/controls",
      "model_module_version": "1.5.0",
      "model_name": "DescriptionStyleModel",
      "state": {
       "description_width": ""
      }
     },
     "bf58bdc67b8d4d4694fd2c2196c86527": {
      "model_module": "@jupyter-widgets/controls",
      "model_module_version": "1.5.0",
      "model_name": "FloatProgressModel",
      "state": {
       "bar_style": "success",
       "layout": "IPY_MODEL_febebb11970b4c868d9ecaf294c6b7dd",
       "max": 1,
       "style": "IPY_MODEL_5d1eca9eb47643349e00ac46a627f938",
       "value": 1
      }
     },
     "bf976291ea234656aa5b2cbb8ef6c5c5": {
      "model_module": "@jupyter-widgets/base",
      "model_module_version": "1.2.0",
      "model_name": "LayoutModel",
      "state": {}
     },
     "bfb9bf8e754e405eaabf87fd439ac25e": {
      "model_module": "@jupyter-widgets/controls",
      "model_module_version": "1.5.0",
      "model_name": "FloatProgressModel",
      "state": {
       "bar_style": "success",
       "layout": "IPY_MODEL_3ddd8de01be94d33a31b4914d2cbb015",
       "max": 1,
       "style": "IPY_MODEL_a248da6caf5e450682aa4b3ace4fe9f9"
      }
     },
     "c041221e03314d4eb00bfc207f41438a": {
      "model_module": "@jupyter-widgets/base",
      "model_module_version": "1.2.0",
      "model_name": "LayoutModel",
      "state": {}
     },
     "c0759ec447c443e688a75170dcd63833": {
      "model_module": "@jupyter-widgets/controls",
      "model_module_version": "1.5.0",
      "model_name": "FloatProgressModel",
      "state": {
       "bar_style": "success",
       "layout": "IPY_MODEL_b2269f7754154ee595b28c4167f3a020",
       "max": 1,
       "style": "IPY_MODEL_334d8548f8c044269eb3a0411de98cac"
      }
     },
     "c08d1e5748ae4dacb62e1dd73065c971": {
      "model_module": "@jupyter-widgets/base",
      "model_module_version": "1.2.0",
      "model_name": "LayoutModel",
      "state": {
       "width": "20px"
      }
     },
     "c14c677b71ed4b6e8350e8a3781cab3f": {
      "model_module": "@jupyter-widgets/controls",
      "model_module_version": "1.5.0",
      "model_name": "FloatProgressModel",
      "state": {
       "bar_style": "success",
       "layout": "IPY_MODEL_270beb62527a40bab18300f4c6507205",
       "max": 1,
       "style": "IPY_MODEL_89cdd5eb53b345689d55148e440327f9"
      }
     },
     "c25cd4a7e27f4917a1c8af440e3f207f": {
      "model_module": "@jupyter-widgets/controls",
      "model_module_version": "1.5.0",
      "model_name": "DescriptionStyleModel",
      "state": {
       "description_width": ""
      }
     },
     "c2e9f42086be4567bd759a670c99defa": {
      "model_module": "@jupyter-widgets/controls",
      "model_module_version": "1.5.0",
      "model_name": "FloatProgressModel",
      "state": {
       "bar_style": "success",
       "layout": "IPY_MODEL_60f8d52613e24001ae6297c3f831305a",
       "max": 1,
       "style": "IPY_MODEL_8dc2943bafef491c96ea95b074233dd6"
      }
     },
     "c374cd83f2484cf8aa1bd187d4af3d65": {
      "model_module": "@jupyter-widgets/controls",
      "model_module_version": "1.5.0",
      "model_name": "DescriptionStyleModel",
      "state": {
       "description_width": ""
      }
     },
     "c47f61a5388749c48acb5d6bc3a4ad60": {
      "model_module": "@jupyter-widgets/base",
      "model_module_version": "1.2.0",
      "model_name": "LayoutModel",
      "state": {}
     },
     "c8ac9f4743424565baa2123924874df0": {
      "model_module": "@jupyter-widgets/controls",
      "model_module_version": "1.5.0",
      "model_name": "HTMLModel",
      "state": {
       "layout": "IPY_MODEL_0264cf960f624dc9ab077300fca72609",
       "style": "IPY_MODEL_bdb8158612dd4c18a816141769a7d61a",
       "value": "removing duplicates: "
      }
     },
     "c8c8c3890037498ab436bff64657903e": {
      "model_module": "@jupyter-widgets/controls",
      "model_module_version": "1.5.0",
      "model_name": "ProgressStyleModel",
      "state": {
       "description_width": ""
      }
     },
     "c9565f3f7f49494d8aeaedee2497d434": {
      "model_module": "@jupyter-widgets/controls",
      "model_module_version": "1.5.0",
      "model_name": "DescriptionStyleModel",
      "state": {
       "description_width": ""
      }
     },
     "c957cdca15694f5581ea3100207f8aa0": {
      "model_module": "@jupyter-widgets/controls",
      "model_module_version": "1.5.0",
      "model_name": "ProgressStyleModel",
      "state": {
       "description_width": ""
      }
     },
     "c96378db2423431fa7f5f3e22db4fff8": {
      "model_module": "@jupyter-widgets/controls",
      "model_module_version": "1.5.0",
      "model_name": "DescriptionStyleModel",
      "state": {
       "description_width": ""
      }
     },
     "c9c28ef9860f461793d2f3518d000178": {
      "model_module": "@jupyter-widgets/controls",
      "model_module_version": "1.5.0",
      "model_name": "HTMLModel",
      "state": {
       "layout": "IPY_MODEL_a0f6964d367d41fcb3d81c0f8bc86027",
       "style": "IPY_MODEL_2d5e665e52c14d14ad542b8289fe6e96",
       "value": "removing duplicates: 100%"
      }
     },
     "cb5e880dfce04e41b85f62ab7c402430": {
      "model_module": "@jupyter-widgets/controls",
      "model_module_version": "1.5.0",
      "model_name": "DescriptionStyleModel",
      "state": {
       "description_width": ""
      }
     },
     "cbae43591b154f058298f0d0924d79d3": {
      "model_module": "@jupyter-widgets/controls",
      "model_module_version": "1.5.0",
      "model_name": "HTMLModel",
      "state": {
       "layout": "IPY_MODEL_5b3aed7f6bae4e49b0a473f3f8355efe",
       "style": "IPY_MODEL_4b32d99935af446c8c8292e23560686e",
       "value": "removing duplicates: "
      }
     },
     "ccdceb019f7f498d8d9613918448ef3c": {
      "model_module": "@jupyter-widgets/controls",
      "model_module_version": "1.5.0",
      "model_name": "HTMLModel",
      "state": {
       "layout": "IPY_MODEL_190400d5c1af4eab9b864a1987328aa5",
       "style": "IPY_MODEL_dc25619a60754724a98f92d4a0db4edb",
       "value": "removing duplicates: "
      }
     },
     "cd0248ab52c74f48abfd33f726219230": {
      "model_module": "@jupyter-widgets/base",
      "model_module_version": "1.2.0",
      "model_name": "LayoutModel",
      "state": {}
     },
     "cd046258e6be4765b85e9a022d2c6a37": {
      "model_module": "@jupyter-widgets/controls",
      "model_module_version": "1.5.0",
      "model_name": "HTMLModel",
      "state": {
       "layout": "IPY_MODEL_b3b3376fbf684dd8b752959971874146",
       "style": "IPY_MODEL_8c7fca93bf6a4e0c860267e2b286211d",
       "value": "removing duplicates: "
      }
     },
     "cd667ac39ad741d2964d2ec3b695365c": {
      "model_module": "@jupyter-widgets/controls",
      "model_module_version": "1.5.0",
      "model_name": "HBoxModel",
      "state": {
       "children": [
        "IPY_MODEL_fe106b76ca3c4f0f9dbdad31fdcbe1f9",
        "IPY_MODEL_ed371027dc2748f6802d55566322aac6",
        "IPY_MODEL_18bd11eac6114c66a35496cbadf2e307"
       ],
       "layout": "IPY_MODEL_41d2ccbed4bd47f795f7f4f6247efd80"
      }
     },
     "ce00553d18f94fdeb65193db7cc255a5": {
      "model_module": "@jupyter-widgets/controls",
      "model_module_version": "1.5.0",
      "model_name": "HTMLModel",
      "state": {
       "layout": "IPY_MODEL_2e5f424b29a04d7eb31035c99165fac3",
       "style": "IPY_MODEL_f1fb0caaff4148a0adaaf40253e73308",
       "value": " 0/0 [00:00&lt;?, ?it/s]"
      }
     },
     "ce634f12d2f74b15a8b8cc60543754e6": {
      "model_module": "@jupyter-widgets/base",
      "model_module_version": "1.2.0",
      "model_name": "LayoutModel",
      "state": {}
     },
     "cf1b6ad2f2854c17b5c19b7c8398b8e0": {
      "model_module": "@jupyter-widgets/base",
      "model_module_version": "1.2.0",
      "model_name": "LayoutModel",
      "state": {}
     },
     "cf95b4bd0bd946d3925f7636ebae1ea3": {
      "model_module": "@jupyter-widgets/controls",
      "model_module_version": "1.5.0",
      "model_name": "HTMLModel",
      "state": {
       "layout": "IPY_MODEL_297a06be8c714a088ef3075bdc5888fb",
       "style": "IPY_MODEL_710b78d2c83649e09905e03b2825f9a1",
       "value": "removing duplicates: 100%"
      }
     },
     "d05017b7480d4201ae36227634144e22": {
      "model_module": "@jupyter-widgets/controls",
      "model_module_version": "1.5.0",
      "model_name": "DescriptionStyleModel",
      "state": {
       "description_width": ""
      }
     },
     "d085f43e091a4aee97f04ebf55b61fd4": {
      "model_module": "@jupyter-widgets/controls",
      "model_module_version": "1.5.0",
      "model_name": "ProgressStyleModel",
      "state": {
       "description_width": ""
      }
     },
     "d1050ac0d029473e8663748f5770332a": {
      "model_module": "@jupyter-widgets/controls",
      "model_module_version": "1.5.0",
      "model_name": "HTMLModel",
      "state": {
       "layout": "IPY_MODEL_8fff01b12f2c4d17b75fae6a737a5526",
       "style": "IPY_MODEL_776d70fe29144e19af7aed3cb643fd4f",
       "value": " 1/1 [00:00&lt;00:00, 515.40it/s]"
      }
     },
     "d12ec1ab89ec46b98a0890c623310c33": {
      "model_module": "@jupyter-widgets/base",
      "model_module_version": "1.2.0",
      "model_name": "LayoutModel",
      "state": {
       "width": "20px"
      }
     },
     "d2041ada741d4b878c16570cf7c15d74": {
      "model_module": "@jupyter-widgets/controls",
      "model_module_version": "1.5.0",
      "model_name": "FloatProgressModel",
      "state": {
       "bar_style": "success",
       "layout": "IPY_MODEL_e457c8f573d94fe08aad8be20878d9d5",
       "max": 1,
       "style": "IPY_MODEL_795fc7d84ec14752aeeef27dfde1dc9d"
      }
     },
     "d496073f382b44b3bf2a320e31420dd6": {
      "model_module": "@jupyter-widgets/controls",
      "model_module_version": "1.5.0",
      "model_name": "ProgressStyleModel",
      "state": {
       "description_width": ""
      }
     },
     "d4fc728f260549669cc74560215a6cca": {
      "model_module": "@jupyter-widgets/controls",
      "model_module_version": "1.5.0",
      "model_name": "FloatProgressModel",
      "state": {
       "bar_style": "success",
       "layout": "IPY_MODEL_aa63fe0b1cc44cbc97af0107ef2dc2aa",
       "max": 1,
       "style": "IPY_MODEL_c8c8c3890037498ab436bff64657903e",
       "value": 1
      }
     },
     "d5f4f376a8294f80a1f7237427464c7f": {
      "model_module": "@jupyter-widgets/controls",
      "model_module_version": "1.5.0",
      "model_name": "FloatProgressModel",
      "state": {
       "bar_style": "success",
       "layout": "IPY_MODEL_62856c18761e4fdb9d215bf833c72186",
       "max": 1,
       "style": "IPY_MODEL_57497bff477443c89086a11009f9d739",
       "value": 1
      }
     },
     "d7a48cc3e85b4bd3888f68ae45f3b809": {
      "model_module": "@jupyter-widgets/controls",
      "model_module_version": "1.5.0",
      "model_name": "FloatProgressModel",
      "state": {
       "bar_style": "success",
       "layout": "IPY_MODEL_aff100b9853a4840812a2b0fb3cde2b4",
       "max": 1,
       "style": "IPY_MODEL_7aa942e42b9549f289991eb3a3ecd56d"
      }
     },
     "d7cbb6b0bfb4441a9989162c5de9870b": {
      "model_module": "@jupyter-widgets/controls",
      "model_module_version": "1.5.0",
      "model_name": "HTMLModel",
      "state": {
       "layout": "IPY_MODEL_071a337fbc8c4534874d4a6889c8a5aa",
       "style": "IPY_MODEL_1da54146658d4d4696bf87f4fb3bf2cf",
       "value": "removing duplicates: "
      }
     },
     "d8950cc1431449a7a3898f75a9e9216b": {
      "model_module": "@jupyter-widgets/controls",
      "model_module_version": "1.5.0",
      "model_name": "DescriptionStyleModel",
      "state": {
       "description_width": ""
      }
     },
     "d8c53e03f61d49aabb8f8c83dd2dd934": {
      "model_module": "@jupyter-widgets/controls",
      "model_module_version": "1.5.0",
      "model_name": "HBoxModel",
      "state": {
       "children": [
        "IPY_MODEL_f82a1907cd9f40aeabd91a41bff1d2fa",
        "IPY_MODEL_10f1e2eaf60b4fbd90c1c5156b4a293d",
        "IPY_MODEL_df3a94766dae4c80b4c47d3f42478555"
       ],
       "layout": "IPY_MODEL_259798d7c8cf477f9f88d8491d7156c8"
      }
     },
     "da20b5bf018c4149b2688121bfe2b43f": {
      "model_module": "@jupyter-widgets/base",
      "model_module_version": "1.2.0",
      "model_name": "LayoutModel",
      "state": {}
     },
     "da37b01fa242466e8df1fc39f7ed5083": {
      "model_module": "@jupyter-widgets/base",
      "model_module_version": "1.2.0",
      "model_name": "LayoutModel",
      "state": {}
     },
     "dba47ca918464e1c90c68cace7927b6f": {
      "model_module": "@jupyter-widgets/controls",
      "model_module_version": "1.5.0",
      "model_name": "ProgressStyleModel",
      "state": {
       "description_width": ""
      }
     },
     "dbad98bb117041699f05de0af3a9f03f": {
      "model_module": "@jupyter-widgets/controls",
      "model_module_version": "1.5.0",
      "model_name": "HTMLModel",
      "state": {
       "layout": "IPY_MODEL_b4f84893994a47e98e8ae27d7c9fa2b7",
       "style": "IPY_MODEL_906bb5bedce44901aa57a437a8281e97",
       "value": " 1/1 [00:00&lt;00:00, 554.51it/s]"
      }
     },
     "dbddb4e11eeb4db2a58656387e16b76b": {
      "model_module": "@jupyter-widgets/base",
      "model_module_version": "1.2.0",
      "model_name": "LayoutModel",
      "state": {}
     },
     "dc0a2b459c6f4710b9a18a83b5037329": {
      "model_module": "@jupyter-widgets/base",
      "model_module_version": "1.2.0",
      "model_name": "LayoutModel",
      "state": {}
     },
     "dc25619a60754724a98f92d4a0db4edb": {
      "model_module": "@jupyter-widgets/controls",
      "model_module_version": "1.5.0",
      "model_name": "DescriptionStyleModel",
      "state": {
       "description_width": ""
      }
     },
     "dcedf2ce09c943048b5dcb00518d908f": {
      "model_module": "@jupyter-widgets/controls",
      "model_module_version": "1.5.0",
      "model_name": "ProgressStyleModel",
      "state": {
       "description_width": ""
      }
     },
     "dd59f451a14145d9a81f1f4d8fe962bb": {
      "model_module": "@jupyter-widgets/base",
      "model_module_version": "1.2.0",
      "model_name": "LayoutModel",
      "state": {}
     },
     "de4e669d0f944a15b69eb2f3ee8bf13d": {
      "model_module": "@jupyter-widgets/base",
      "model_module_version": "1.2.0",
      "model_name": "LayoutModel",
      "state": {}
     },
     "deed7abd90414cc4830193478dc43769": {
      "model_module": "@jupyter-widgets/base",
      "model_module_version": "1.2.0",
      "model_name": "LayoutModel",
      "state": {}
     },
     "df3a94766dae4c80b4c47d3f42478555": {
      "model_module": "@jupyter-widgets/controls",
      "model_module_version": "1.5.0",
      "model_name": "HTMLModel",
      "state": {
       "layout": "IPY_MODEL_8b96148f067d4cfbbec2c63750242b17",
       "style": "IPY_MODEL_d05017b7480d4201ae36227634144e22",
       "value": " 0/0 [00:00&lt;?, ?it/s]"
      }
     },
     "e0162a5a10c147aea100cd7ade79e21d": {
      "model_module": "@jupyter-widgets/controls",
      "model_module_version": "1.5.0",
      "model_name": "DescriptionStyleModel",
      "state": {
       "description_width": ""
      }
     },
     "e0be7a66c4a444d98eb3b09747196a87": {
      "model_module": "@jupyter-widgets/controls",
      "model_module_version": "1.5.0",
      "model_name": "DescriptionStyleModel",
      "state": {
       "description_width": ""
      }
     },
     "e206293b0c4a4923931d5b21016fe88e": {
      "model_module": "@jupyter-widgets/base",
      "model_module_version": "1.2.0",
      "model_name": "LayoutModel",
      "state": {}
     },
     "e2741f46fa5f4ba889edd83555f2506a": {
      "model_module": "@jupyter-widgets/controls",
      "model_module_version": "1.5.0",
      "model_name": "HTMLModel",
      "state": {
       "layout": "IPY_MODEL_6a4fa63f99da4c88a021601bab11a430",
       "style": "IPY_MODEL_d8950cc1431449a7a3898f75a9e9216b",
       "value": " 0/0 [00:00&lt;?, ?it/s]"
      }
     },
     "e2ea3ee048d4470fa2ac3bd2afd6c7b9": {
      "model_module": "@jupyter-widgets/controls",
      "model_module_version": "1.5.0",
      "model_name": "HTMLModel",
      "state": {
       "layout": "IPY_MODEL_60598e1ef2f249a3be3f29119917ada0",
       "style": "IPY_MODEL_8085c0237acb4636b2cf65bf07981adf",
       "value": "removing duplicates: 100%"
      }
     },
     "e3d0923906534e698c80749196abd163": {
      "model_module": "@jupyter-widgets/base",
      "model_module_version": "1.2.0",
      "model_name": "LayoutModel",
      "state": {}
     },
     "e457c8f573d94fe08aad8be20878d9d5": {
      "model_module": "@jupyter-widgets/base",
      "model_module_version": "1.2.0",
      "model_name": "LayoutModel",
      "state": {
       "width": "20px"
      }
     },
     "e4a98fb177194e888c3c1aac4a609784": {
      "model_module": "@jupyter-widgets/base",
      "model_module_version": "1.2.0",
      "model_name": "LayoutModel",
      "state": {}
     },
     "e4c151fda64948eaa6494565e84ffd7c": {
      "model_module": "@jupyter-widgets/base",
      "model_module_version": "1.2.0",
      "model_name": "LayoutModel",
      "state": {}
     },
     "e6e1118c9c8f4bdfbcf117d33c2ae8d2": {
      "model_module": "@jupyter-widgets/controls",
      "model_module_version": "1.5.0",
      "model_name": "DescriptionStyleModel",
      "state": {
       "description_width": ""
      }
     },
     "e86a24fd692f4e25903241d9ad23851d": {
      "model_module": "@jupyter-widgets/controls",
      "model_module_version": "1.5.0",
      "model_name": "DescriptionStyleModel",
      "state": {
       "description_width": ""
      }
     },
     "e924a69f03b646388a5f4ecfc2dc1671": {
      "model_module": "@jupyter-widgets/base",
      "model_module_version": "1.2.0",
      "model_name": "LayoutModel",
      "state": {}
     },
     "eb4c15521dad4ff9bf9cc3b031779018": {
      "model_module": "@jupyter-widgets/controls",
      "model_module_version": "1.5.0",
      "model_name": "DescriptionStyleModel",
      "state": {
       "description_width": ""
      }
     },
     "ed371027dc2748f6802d55566322aac6": {
      "model_module": "@jupyter-widgets/controls",
      "model_module_version": "1.5.0",
      "model_name": "FloatProgressModel",
      "state": {
       "bar_style": "success",
       "layout": "IPY_MODEL_45c26e8f75a8463a87778a73075be69b",
       "max": 2,
       "style": "IPY_MODEL_8a4533733036463694d62fdc3019d9a8",
       "value": 2
      }
     },
     "ee876824168e4b69a147cf7c00e8f06b": {
      "model_module": "@jupyter-widgets/base",
      "model_module_version": "1.2.0",
      "model_name": "LayoutModel",
      "state": {
       "width": "20px"
      }
     },
     "ef94887c17ea47d7ac36272662950503": {
      "model_module": "@jupyter-widgets/controls",
      "model_module_version": "1.5.0",
      "model_name": "HTMLModel",
      "state": {
       "layout": "IPY_MODEL_050f45b7d35f4da0ac208ba2fd4df887",
       "style": "IPY_MODEL_f4d9b935c9c74e49b4daa36cae73e404",
       "value": " 1/1 [00:00&lt;00:00, 587.11it/s]"
      }
     },
     "efcc33f82226404da3e28517710ad41b": {
      "model_module": "@jupyter-widgets/controls",
      "model_module_version": "1.5.0",
      "model_name": "HTMLModel",
      "state": {
       "layout": "IPY_MODEL_a0d54d8e5dc94a7187eaa268b9ab6091",
       "style": "IPY_MODEL_219e13e6e1544a348f73ea995ed8fe56",
       "value": " 3/3 [00:00&lt;00:00, 1667.49it/s]"
      }
     },
     "efee478e58154a53b4f2706127e16829": {
      "model_module": "@jupyter-widgets/controls",
      "model_module_version": "1.5.0",
      "model_name": "HBoxModel",
      "state": {
       "children": [
        "IPY_MODEL_49cf0438e1ba4cc28a02dd109edeab93",
        "IPY_MODEL_056805df91bf462d9f06a90ef75b88ae",
        "IPY_MODEL_17de2097a97a4f3a89097063a3990d1c"
       ],
       "layout": "IPY_MODEL_ce634f12d2f74b15a8b8cc60543754e6"
      }
     },
     "f0042c321bd3454c810227765df47cde": {
      "model_module": "@jupyter-widgets/base",
      "model_module_version": "1.2.0",
      "model_name": "LayoutModel",
      "state": {}
     },
     "f04a9e87b5164fa9a6ff0c036ca9821b": {
      "model_module": "@jupyter-widgets/controls",
      "model_module_version": "1.5.0",
      "model_name": "HTMLModel",
      "state": {
       "layout": "IPY_MODEL_2e341411187b45bd8f8b41345b5e78b0",
       "style": "IPY_MODEL_0bf2ffbe29114811bdaf87f152cf565f",
       "value": "removing duplicates: "
      }
     },
     "f13b4e1b50ee4c4094160148085b299c": {
      "model_module": "@jupyter-widgets/controls",
      "model_module_version": "1.5.0",
      "model_name": "HTMLModel",
      "state": {
       "layout": "IPY_MODEL_79c03624aaae46ac972edf59c79abf14",
       "style": "IPY_MODEL_0009021bb01a442581d548fe9f386942",
       "value": " 1/1 [00:00&lt;00:00, 462.54it/s]"
      }
     },
     "f17198715a2b41bdb854236433304946": {
      "model_module": "@jupyter-widgets/controls",
      "model_module_version": "1.5.0",
      "model_name": "ProgressStyleModel",
      "state": {
       "description_width": ""
      }
     },
     "f18eead44b81431aa8468d11840864ed": {
      "model_module": "@jupyter-widgets/controls",
      "model_module_version": "1.5.0",
      "model_name": "DescriptionStyleModel",
      "state": {
       "description_width": ""
      }
     },
     "f1fb0caaff4148a0adaaf40253e73308": {
      "model_module": "@jupyter-widgets/controls",
      "model_module_version": "1.5.0",
      "model_name": "DescriptionStyleModel",
      "state": {
       "description_width": ""
      }
     },
     "f28c9ea8e98d419197ab281f93101a8e": {
      "model_module": "@jupyter-widgets/controls",
      "model_module_version": "1.5.0",
      "model_name": "DescriptionStyleModel",
      "state": {
       "description_width": ""
      }
     },
     "f2e583685b8c4fa3afbd6a65337a4b12": {
      "model_module": "@jupyter-widgets/controls",
      "model_module_version": "1.5.0",
      "model_name": "FloatProgressModel",
      "state": {
       "bar_style": "success",
       "layout": "IPY_MODEL_7a246e7aefd542e8a773f94f56cdb246",
       "max": 1,
       "style": "IPY_MODEL_86545ef9dcad4ba4a6e72f565272c45b"
      }
     },
     "f31ce630974a4ff5a6c1a2ae381859e5": {
      "model_module": "@jupyter-widgets/base",
      "model_module_version": "1.2.0",
      "model_name": "LayoutModel",
      "state": {}
     },
     "f33c37fc9fe54ae783a8283361a1e22e": {
      "model_module": "@jupyter-widgets/controls",
      "model_module_version": "1.5.0",
      "model_name": "FloatProgressModel",
      "state": {
       "bar_style": "success",
       "layout": "IPY_MODEL_457c6a473a4d40c384f66c27705937ae",
       "max": 1,
       "style": "IPY_MODEL_f84759479fab4f4498cb42adc1e53ec6"
      }
     },
     "f353efbf33bc481082731758142db6b0": {
      "model_module": "@jupyter-widgets/controls",
      "model_module_version": "1.5.0",
      "model_name": "FloatProgressModel",
      "state": {
       "bar_style": "success",
       "layout": "IPY_MODEL_b5bd7c9c172e4bd2920bed137475e3c0",
       "max": 3,
       "style": "IPY_MODEL_b128200afa934fe08f525922d6be64f5",
       "value": 3
      }
     },
     "f35cdf439b3d4861af988965fac3a408": {
      "model_module": "@jupyter-widgets/controls",
      "model_module_version": "1.5.0",
      "model_name": "HTMLModel",
      "state": {
       "layout": "IPY_MODEL_de4e669d0f944a15b69eb2f3ee8bf13d",
       "style": "IPY_MODEL_3a419262859b40839aa52f326a89324c",
       "value": " 1/1 [00:00&lt;00:00, 497.96it/s]"
      }
     },
     "f4b554b9533a4ad29a0dd6b5146a6edc": {
      "model_module": "@jupyter-widgets/controls",
      "model_module_version": "1.5.0",
      "model_name": "DescriptionStyleModel",
      "state": {
       "description_width": ""
      }
     },
     "f4d9b935c9c74e49b4daa36cae73e404": {
      "model_module": "@jupyter-widgets/controls",
      "model_module_version": "1.5.0",
      "model_name": "DescriptionStyleModel",
      "state": {
       "description_width": ""
      }
     },
     "f81a6b9ef2cc4a7185c8a9632a08f9ac": {
      "model_module": "@jupyter-widgets/base",
      "model_module_version": "1.2.0",
      "model_name": "LayoutModel",
      "state": {}
     },
     "f82a1907cd9f40aeabd91a41bff1d2fa": {
      "model_module": "@jupyter-widgets/controls",
      "model_module_version": "1.5.0",
      "model_name": "HTMLModel",
      "state": {
       "layout": "IPY_MODEL_bf976291ea234656aa5b2cbb8ef6c5c5",
       "style": "IPY_MODEL_a558604837ee4bfdae5edcf7f3ee8678",
       "value": "removing duplicates: "
      }
     },
     "f84759479fab4f4498cb42adc1e53ec6": {
      "model_module": "@jupyter-widgets/controls",
      "model_module_version": "1.5.0",
      "model_name": "ProgressStyleModel",
      "state": {
       "description_width": ""
      }
     },
     "f89e669f7a114d2b93198d5654d8cf3b": {
      "model_module": "@jupyter-widgets/controls",
      "model_module_version": "1.5.0",
      "model_name": "HTMLModel",
      "state": {
       "layout": "IPY_MODEL_8e2bf5b9ccd644f08e30ae94396e7085",
       "style": "IPY_MODEL_fea0bbe000464a879f76e5bc88688f43",
       "value": "removing duplicates: 100%"
      }
     },
     "f8ac9640c13d49aabcd9ac08aadd8438": {
      "model_module": "@jupyter-widgets/base",
      "model_module_version": "1.2.0",
      "model_name": "LayoutModel",
      "state": {}
     },
     "fa4c72f63c72483a8128a388652462f8": {
      "model_module": "@jupyter-widgets/controls",
      "model_module_version": "1.5.0",
      "model_name": "FloatProgressModel",
      "state": {
       "bar_style": "success",
       "layout": "IPY_MODEL_b91e934f611e4a17a43bec1aa081515c",
       "max": 1,
       "style": "IPY_MODEL_dba47ca918464e1c90c68cace7927b6f"
      }
     },
     "faaf47e192fd4f44965ea08b8b287f83": {
      "model_module": "@jupyter-widgets/base",
      "model_module_version": "1.2.0",
      "model_name": "LayoutModel",
      "state": {}
     },
     "fac1495583dd46cca114bef61df7dfca": {
      "model_module": "@jupyter-widgets/controls",
      "model_module_version": "1.5.0",
      "model_name": "HTMLModel",
      "state": {
       "layout": "IPY_MODEL_8464a05cd3f7433faabb1c65103ba76c",
       "style": "IPY_MODEL_eb4c15521dad4ff9bf9cc3b031779018",
       "value": "removing duplicates: 100%"
      }
     },
     "fb6c059f9fa544fda51e2204ee31715e": {
      "model_module": "@jupyter-widgets/controls",
      "model_module_version": "1.5.0",
      "model_name": "HBoxModel",
      "state": {
       "children": [
        "IPY_MODEL_59fdc09039cf49218627484934e35387",
        "IPY_MODEL_c0759ec447c443e688a75170dcd63833",
        "IPY_MODEL_01f7ef5a6e174ab4883b4a66490293d7"
       ],
       "layout": "IPY_MODEL_09010670fddf4ba99e755c7d0b692699"
      }
     },
     "fbd7d7a15a404241bbcc8f8346ad0517": {
      "model_module": "@jupyter-widgets/base",
      "model_module_version": "1.2.0",
      "model_name": "LayoutModel",
      "state": {}
     },
     "fbef9dd5bee2418893e9c92a93e587eb": {
      "model_module": "@jupyter-widgets/controls",
      "model_module_version": "1.5.0",
      "model_name": "FloatProgressModel",
      "state": {
       "bar_style": "success",
       "layout": "IPY_MODEL_4864447eb2b74a03a5957f09dbaed139",
       "max": 1,
       "style": "IPY_MODEL_a0299572112144f3a16063ce01cf4cf5",
       "value": 1
      }
     },
     "fc78c90b1a6d495f9f6ba74af3ee8c79": {
      "model_module": "@jupyter-widgets/base",
      "model_module_version": "1.2.0",
      "model_name": "LayoutModel",
      "state": {
       "width": "20px"
      }
     },
     "fd27079cddf9474b81eb9d2e16989583": {
      "model_module": "@jupyter-widgets/controls",
      "model_module_version": "1.5.0",
      "model_name": "HTMLModel",
      "state": {
       "layout": "IPY_MODEL_b40ff28a7d7a423090a5f5285153d1d2",
       "style": "IPY_MODEL_a33fb2be36c249d49de2725d3bbfba08",
       "value": "removing duplicates: "
      }
     },
     "fdcb86d25eb64b7d8b9f5336a897702c": {
      "model_module": "@jupyter-widgets/controls",
      "model_module_version": "1.5.0",
      "model_name": "HTMLModel",
      "state": {
       "layout": "IPY_MODEL_8f861db456ad4b91b8ed5af4dcf9b320",
       "style": "IPY_MODEL_b6f300222d9141b699854c1126a60aac",
       "value": "removing duplicates: "
      }
     },
     "fdf2166f896b40cfa640c77b539d0c3c": {
      "model_module": "@jupyter-widgets/base",
      "model_module_version": "1.2.0",
      "model_name": "LayoutModel",
      "state": {}
     },
     "fe106b76ca3c4f0f9dbdad31fdcbe1f9": {
      "model_module": "@jupyter-widgets/controls",
      "model_module_version": "1.5.0",
      "model_name": "HTMLModel",
      "state": {
       "layout": "IPY_MODEL_3546fa3028d6486a801b3373b7981207",
       "style": "IPY_MODEL_5b7b42097aa947f5880461d2d2cc25cf",
       "value": "removing duplicates: 100%"
      }
     },
     "fe69cc0d72924386b011947d43055d3c": {
      "model_module": "@jupyter-widgets/controls",
      "model_module_version": "1.5.0",
      "model_name": "HTMLModel",
      "state": {
       "layout": "IPY_MODEL_5a150586d24647c788c97aa7a22f343c",
       "style": "IPY_MODEL_c25cd4a7e27f4917a1c8af440e3f207f",
       "value": " 0/0 [00:00&lt;?, ?it/s]"
      }
     },
     "fea0bbe000464a879f76e5bc88688f43": {
      "model_module": "@jupyter-widgets/controls",
      "model_module_version": "1.5.0",
      "model_name": "DescriptionStyleModel",
      "state": {
       "description_width": ""
      }
     },
     "febebb11970b4c868d9ecaf294c6b7dd": {
      "model_module": "@jupyter-widgets/base",
      "model_module_version": "1.2.0",
      "model_name": "LayoutModel",
      "state": {}
     },
     "fede8ec9869d44269a95ecc7938b85b4": {
      "model_module": "@jupyter-widgets/controls",
      "model_module_version": "1.5.0",
      "model_name": "HBoxModel",
      "state": {
       "children": [
        "IPY_MODEL_a190c3592f1e454c9a1a5e38c7bb9e46",
        "IPY_MODEL_980b11d2ed6f4aeba38b81b986ae9157",
        "IPY_MODEL_6446ffd7a8824e7da76c4cd5a7d1398e"
       ],
       "layout": "IPY_MODEL_b35a150798444360b9765e3dad64fbbf"
      }
     }
    },
    "version_major": 2,
    "version_minor": 0
   }
  }
 },
 "nbformat": 4,
 "nbformat_minor": 5
}
