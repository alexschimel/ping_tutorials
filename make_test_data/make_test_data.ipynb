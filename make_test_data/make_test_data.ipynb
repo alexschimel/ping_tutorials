{
 "cells": [
  {
   "cell_type": "code",
   "execution_count": 1,
   "id": "535db849-8457-4622-a616-3e0dadd96f16",
   "metadata": {
    "execution": {
     "iopub.execute_input": "2024-10-28T18:23:40.095380Z",
     "iopub.status.busy": "2024-10-28T18:23:40.095191Z",
     "iopub.status.idle": "2024-10-28T18:23:40.595048Z",
     "shell.execute_reply": "2024-10-28T18:23:40.594744Z",
     "shell.execute_reply.started": "2024-10-28T18:23:40.095368Z"
    },
    "notebookRunGroups": {
     "groupValue": "1"
    },
    "tags": []
   },
   "outputs": [],
   "source": [
    "import os\n",
    "from pathlib import Path\n",
    "import numpy as np\n",
    "from tqdm.auto import tqdm\n",
    "import pickle\n",
    "from collections import defaultdict\n",
    "import importlib\n",
    "from matplotlib import pyplot as plt\n",
    "from tqdm.auto import tqdm\n",
    "\n",
    "from themachinethatgoesping.echosounders import kongsbergall, simradraw, index_functions\n",
    "from themachinethatgoesping import pingprocessing as pp\n",
    "from themachinethatgoesping import tools as ptools"
   ]
  },
  {
   "cell_type": "code",
   "execution_count": 2,
   "id": "49e232c3-6b7f-49ef-a074-d645227b9f92",
   "metadata": {
    "execution": {
     "iopub.execute_input": "2024-10-28T18:23:40.595621Z",
     "iopub.status.busy": "2024-10-28T18:23:40.595425Z",
     "iopub.status.idle": "2024-10-28T18:23:40.598109Z",
     "shell.execute_reply": "2024-10-28T18:23:40.597704Z",
     "shell.execute_reply.started": "2024-10-28T18:23:40.595610Z"
    },
    "notebookRunGroups": {
     "groupValue": "1"
    },
    "tags": []
   },
   "outputs": [
    {
     "name": "stdout",
     "output_type": "stream",
     "text": [
      "themachinethatgoesping\n",
      "- version:       0.25.0\n",
      "\n",
      "modules:\n",
      "- tools_cppy     0.27.0\n",
      "- tools          @PROJECT_VERSION@\n",
      "- scripts        @PROJECT_VERSION@\n",
      "- algorithms     0.8.3\n",
      "- navigation     0.17.1\n",
      "- echosounders_cppy 0.42.1\n",
      "- echosounders   0.42.1\n",
      "- pingprocessing_cppy 0.8.5\n",
      "- pingprocessing @PROJECT_VERSION@\n",
      "- gridding       @PROJECT_VERSION@\n"
     ]
    }
   ],
   "source": [
    "import themachinethatgoesping as tmtgp\n",
    "tmtgp.version()"
   ]
  },
  {
   "cell_type": "code",
   "execution_count": 3,
   "id": "a85ea320-1f61-4fdd-8cec-dbe63a653aed",
   "metadata": {
    "execution": {
     "iopub.execute_input": "2024-10-28T18:23:40.598606Z",
     "iopub.status.busy": "2024-10-28T18:23:40.598428Z",
     "iopub.status.idle": "2024-10-28T18:23:40.604186Z",
     "shell.execute_reply": "2024-10-28T18:23:40.603887Z",
     "shell.execute_reply.started": "2024-10-28T18:23:40.598595Z"
    },
    "notebookRunGroups": {
     "groupValue": "1"
    },
    "tags": []
   },
   "outputs": [],
   "source": [
    "#create the output path\n",
    "path_out = \"../unittest_data/\"\n",
    "path_in = \"./data_in/\"\n",
    "\n",
    "os.makedirs(path_out,exist_ok=True)\n",
    "os.makedirs(path_in,exist_ok=True)"
   ]
  },
  {
   "cell_type": "markdown",
   "id": "2cfcbd6d-2df8-404b-ad5a-67532fdb775a",
   "metadata": {
    "tags": []
   },
   "source": [
    "## Explore and sort input data"
   ]
  },
  {
   "cell_type": "code",
   "execution_count": 4,
   "id": "74ddfc03-fa89-45a3-8089-89ccfcced81f",
   "metadata": {
    "execution": {
     "iopub.execute_input": "2024-10-28T18:23:40.604733Z",
     "iopub.status.busy": "2024-10-28T18:23:40.604562Z",
     "iopub.status.idle": "2024-10-28T18:23:40.610347Z",
     "shell.execute_reply": "2024-10-28T18:23:40.610045Z",
     "shell.execute_reply.started": "2024-10-28T18:23:40.604720Z"
    },
    "notebookRunGroups": {
     "groupValue": "1"
    },
    "tags": []
   },
   "outputs": [
    {
     "name": "stdout",
     "output_type": "stream",
     "text": [
      "Found 35 files\n",
      "./data_in/kongsberg/a/c\n",
      "./data_in/kongsberg/a/f/ALL\n",
      "./data_in/kongsberg/a/f/WCD\n",
      "./data_in/kongsberg/a/y\n",
      "./data_in/kongsberg/e\n",
      "./data_in/kongsberg/g\n",
      "./data_in/kongsberg/he\n",
      "./data_in/kongsberg/simon\n",
      "./data_in/kongsberg/turbeams\n",
      "./data_in/simrad/ek80_test/ek80_example_data_01\n",
      "./data_in/simrad/ek80_test/ek80_example_data_02\n",
      "./data_in/simrad/ek80_test/ek80_example_data_03\n",
      "./data_in/simrad/turbeams\n",
      "./data_in/simrad/y\n"
     ]
    }
   ],
   "source": [
    "folders = index_functions.find_folders_with_files(path_in, [\".all\",\".wcd\", '.raw'], followlinks=True)\n",
    "folders.sort()\n",
    "N = 5\n",
    "\n",
    "for input_path in folders:\n",
    "    print(input_path)"
   ]
  },
  {
   "cell_type": "code",
   "execution_count": 5,
   "id": "15ff22d7-dc11-4f5b-ad6f-eb40b550db29",
   "metadata": {
    "execution": {
     "iopub.execute_input": "2024-10-28T18:23:40.610858Z",
     "iopub.status.busy": "2024-10-28T18:23:40.610733Z",
     "iopub.status.idle": "2024-10-28T18:23:46.224775Z",
     "shell.execute_reply": "2024-10-28T18:23:46.224225Z",
     "shell.execute_reply.started": "2024-10-28T18:23:40.610847Z"
    }
   },
   "outputs": [
    {
     "data": {
      "application/vnd.jupyter.widget-view+json": {
       "model_id": "3a661efef3aa40328e2bbf5e9fcf338a",
       "version_major": 2,
       "version_minor": 0
      },
      "text/plain": [
       "Creating test data:   0%|          | 0/35 [00:00<?, ?files/s]"
      ]
     },
     "metadata": {},
     "output_type": "display_data"
    },
    {
     "name": "stdout",
     "output_type": "stream",
     "text": [
      "- No .raw files in ./data_in/kongsberg/a/c\n",
      "- No heading attitudes in ./data_in/kongsberg/a/c/0006_20220730_204743_NorthernStorm.wcd\n",
      "- No heave attitudes in ./data_in/kongsberg/a/c/0006_20220730_204743_NorthernStorm.wcd\n",
      "- No roll attitudes in ./data_in/kongsberg/a/c/0006_20220730_204743_NorthernStorm.wcd\n",
      "- No pitch attitudes in ./data_in/kongsberg/a/c/0006_20220730_204743_NorthernStorm.wcd\n",
      "- No .raw files in ./data_in/kongsberg/a/f/ALL\n",
      "- No .wcd files in ./data_in/kongsberg/a/f/ALL\n",
      "- No .raw files in ./data_in/kongsberg/a/f/WCD\n",
      "- No .all files in ./data_in/kongsberg/a/f/WCD\n",
      "- No heading attitudes in ./data_in/kongsberg/a/f/WCD/0371_20150504_225113_Karoline.wcd\n",
      "- No heave attitudes in ./data_in/kongsberg/a/f/WCD/0371_20150504_225113_Karoline.wcd\n",
      "- No roll attitudes in ./data_in/kongsberg/a/f/WCD/0371_20150504_225113_Karoline.wcd\n",
      "- No pitch attitudes in ./data_in/kongsberg/a/f/WCD/0371_20150504_225113_Karoline.wcd\n",
      "- No .raw files in ./data_in/kongsberg/a/y\n",
      "- No heading attitudes in ./data_in/kongsberg/a/y/0108_20140213_081236_Yolla.wcd\n",
      "- No heave attitudes in ./data_in/kongsberg/a/y/0108_20140213_081236_Yolla.wcd\n",
      "- No roll attitudes in ./data_in/kongsberg/a/y/0108_20140213_081236_Yolla.wcd\n",
      "- No pitch attitudes in ./data_in/kongsberg/a/y/0108_20140213_081236_Yolla.wcd\n",
      "- No .raw files in ./data_in/kongsberg/e\n",
      "- No heave attitudes in ./data_in/kongsberg/e/0007_20240726_144003.all\n",
      "- No roll attitudes in ./data_in/kongsberg/e/0007_20240726_144003.all\n",
      "- No pitch attitudes in ./data_in/kongsberg/e/0007_20240726_144003.all\n",
      "- No heave attitudes in ./data_in/kongsberg/e/0007_20240726_150251.all\n",
      "- No roll attitudes in ./data_in/kongsberg/e/0007_20240726_150251.all\n",
      "- No pitch attitudes in ./data_in/kongsberg/e/0007_20240726_150251.all\n",
      "- No .wcd files in ./data_in/kongsberg/e\n",
      "- No .raw files in ./data_in/kongsberg/g\n",
      "- No heave attitudes in ./data_in/kongsberg/g/0154_20171214_165049_M143_EM710.wcd\n",
      "- No roll attitudes in ./data_in/kongsberg/g/0154_20171214_165049_M143_EM710.wcd\n",
      "- No pitch attitudes in ./data_in/kongsberg/g/0154_20171214_165049_M143_EM710.wcd\n",
      "- No .raw files in ./data_in/kongsberg/he\n",
      "- No heave attitudes in ./data_in/kongsberg/he/HE387_0007_20120821_170942.wcd\n",
      "- No roll attitudes in ./data_in/kongsberg/he/HE387_0007_20120821_170942.wcd\n",
      "- No pitch attitudes in ./data_in/kongsberg/he/HE387_0007_20120821_170942.wcd\n",
      "- No .raw files in ./data_in/kongsberg/simon\n",
      "- No heave attitudes in ./data_in/kongsberg/simon/0033_20160413_184034_SimonStevin.all\n",
      "- No roll attitudes in ./data_in/kongsberg/simon/0033_20160413_184034_SimonStevin.all\n",
      "- No pitch attitudes in ./data_in/kongsberg/simon/0033_20160413_184034_SimonStevin.all\n",
      "- No heading attitudes in ./data_in/kongsberg/simon/0033_20160413_184034_SimonStevin.wcd\n",
      "- No heave attitudes in ./data_in/kongsberg/simon/0033_20160413_184034_SimonStevin.wcd\n",
      "- No roll attitudes in ./data_in/kongsberg/simon/0033_20160413_184034_SimonStevin.wcd\n",
      "- No pitch attitudes in ./data_in/kongsberg/simon/0033_20160413_184034_SimonStevin.wcd\n",
      "- No .raw files in ./data_in/kongsberg/turbeams\n"
     ]
    },
    {
     "name": "stderr",
     "output_type": "stream",
     "text": [
      "WARNING: get_depth_sensor_offsets: Only DSH (Depth (pressure) sensor heave) == NI is supported yet, but DSH is IN\n",
      "WARNING: get_depth_sensor_offsets: Only DSH (Depth (pressure) sensor heave) == NI is supported yet, but DSH is IN\n"
     ]
    },
    {
     "name": "stdout",
     "output_type": "stream",
     "text": [
      "- No .all files in ./data_in/simrad/ek80_test/ek80_example_data_01\n",
      "- No .wcd files in ./data_in/simrad/ek80_test/ek80_example_data_01\n",
      "- No .all files in ./data_in/simrad/ek80_test/ek80_example_data_02\n",
      "- No .wcd files in ./data_in/simrad/ek80_test/ek80_example_data_02\n",
      "- No .all files in ./data_in/simrad/ek80_test/ek80_example_data_03\n",
      "- No .wcd files in ./data_in/simrad/ek80_test/ek80_example_data_03\n",
      "- No .all files in ./data_in/simrad/turbeams\n",
      "- No .wcd files in ./data_in/simrad/turbeams\n",
      "--- Error with ./data_in/simrad/y/tan1505-D20150424-T100829.raw ---\n",
      "Error: read_sensor_configuration: No XML0 datagram found in ./data_in/simrad/y/tan1505-D20150424-T100829.raw!\n",
      "---\n"
     ]
    },
    {
     "name": "stderr",
     "output_type": "stream",
     "text": [
      "Warning[init_from_file]: Could not read sensor configuration from file: \n",
      " -0: ./data_in/simrad/y/tan1505-D20150424-T100829.raw. \n",
      " -Using empty sensor configuration as fallback. \n",
      "-Error was: read_sensor_configuration: No XML0 datagram found in ./data_in/simrad/y/tan1505-D20150424-T100829.raw!\n"
     ]
    },
    {
     "name": "stdout",
     "output_type": "stream",
     "text": [
      "--- Error with ./data_in/simrad/y/tan1208-D20120617-T042023.raw ---\n",
      "Error: read_sensor_configuration: No XML0 datagram found in ./data_in/simrad/y/tan1208-D20120617-T042023.raw!\n",
      "---\n",
      "--- Error with ./data_in/simrad/y/calV3-D20150423-T004736.raw ---\n",
      "Error: read_sensor_configuration: No XML0 datagram found in ./data_in/simrad/y/calV3-D20150423-T004736.raw!\n",
      "---\n",
      "- No .all files in ./data_in/simrad/y\n",
      "- No .wcd files in ./data_in/simrad/y\n"
     ]
    },
    {
     "name": "stderr",
     "output_type": "stream",
     "text": [
      "WARNING(InputFileHandler): File [0] read incompletely. [./data_in/simrad/y/tan1905-D20190923-T010658.raw]\n",
      "Stopped after 70.89 % of the file\n",
      "Error message: ERROR[SimradRawDatagram]: Datagram length check failed (read). Expected: 1268, got: 0\n",
      "Warning[init_from_file]: Could not read sensor configuration from file: \n",
      " -0: ./data_in/simrad/y/tan1208-D20120617-T042023.raw. \n",
      " -Using empty sensor configuration as fallback. \n",
      "-Error was: read_sensor_configuration: No XML0 datagram found in ./data_in/simrad/y/tan1208-D20120617-T042023.raw!\n",
      "Warning[init_from_file]: Could not read sensor configuration from file: \n",
      " -0: ./data_in/simrad/y/calV3-D20150423-T004736.raw. \n",
      " -Using empty sensor configuration as fallback. \n",
      "-Error was: read_sensor_configuration: No XML0 datagram found in ./data_in/simrad/y/calV3-D20150423-T004736.raw!\n"
     ]
    }
   ],
   "source": [
    "all_files = index_functions.find_files(folders, ['.raw','.wcd','.all'], followlinks=True, verbose=False)\n",
    "prg = tqdm(total=len(all_files), desc=\"Creating test data\", unit=\"files\")\n",
    "\n",
    "for input_path in folders:\n",
    "    for endings, prefix, postfix, InputFileHandler in [\n",
    "        [\n",
    "            \".raw\",\n",
    "            \"raw\",\n",
    "            \".raw\",\n",
    "            simradraw.SimradRawFileHandler,\n",
    "        ],\n",
    "        [\n",
    "            \".all\",\n",
    "            \"all\",\n",
    "            \".all\",\n",
    "            kongsbergall.KongsbergAllFileHandler,\n",
    "        ],\n",
    "        [\n",
    "            \".wcd\",\n",
    "            \"wcd\",\n",
    "            \".wcd\",\n",
    "            kongsbergall.KongsbergAllFileHandler,\n",
    "        ],\n",
    "    ]:\n",
    "\n",
    "        prg.set_postfix_str(f\"{input_path} / {prefix}\")\n",
    "\n",
    "        prg.set_description(f\"finding files\")\n",
    "        input_files = index_functions.find_files(input_path, endings, followlinks=True, verbose=False)\n",
    "\n",
    "        if not input_files:\n",
    "            print(f\"- No {endings} files in {input_path}\")\n",
    "            continue\n",
    "\n",
    "        for file in input_files:\n",
    "            try:\n",
    "                prg.set_postfix_str(f\"{file}\")\n",
    "\n",
    "                # open and index files\n",
    "                prg.set_description(f\"opening files\")\n",
    "\n",
    "                fm = InputFileHandler(file, show_progress=False)\n",
    "\n",
    "                if(len(fm.get_pings()) < N):\n",
    "                    raise RuntimeError(f\"Less then {N} pings in file\")\n",
    "\n",
    "                # create new file name\n",
    "                file_name, file_extension = os.path.splitext(os.path.split(file)[1])\n",
    "                \n",
    "                prg.set_description(f\"creating new file name\")\n",
    "                output_file = os.path.join(\n",
    "                    input_path.replace(path_in, path_out), str(hash(file_name)) + file_extension\n",
    "                )  # + hash of the old file name\n",
    "                # print(output_file)\n",
    "                os.makedirs(os.path.split(output_file)[0], exist_ok=True)\n",
    "\n",
    "                prg.set_postfix_str(f\"Writing file {output_file}\")\n",
    "\n",
    "                #get timestamps of all datagrams in Nth ping\n",
    "                timestamps = [d.get_timestamp() for d in fm.get_pings()[N].file_data.datagrams()]\n",
    "                max_timestamp_pings = np.nanmax(timestamps)\n",
    "\n",
    "                # append timestamp of second PositionDatagram and second AttitudeDatagram\n",
    "                if prefix in [\"all\", \"wcd\"]:\n",
    "                    for d in fm.datagram_interface.datagrams(\"PositionDatagram\"):\n",
    "                        if d.get_timestamp() > max_timestamp_pings:\n",
    "                            timestamps.append(d.get_timestamp())\n",
    "                            break\n",
    "\n",
    "                    heading_active = False \n",
    "                    heave_active = False \n",
    "                    roll_active = False\n",
    "                    pitch_active = False \n",
    "                    for d in fm.datagram_interface.datagrams(\"AttitudeDatagram\"):\n",
    "                        if d.get_timestamp() > max_timestamp_pings:\n",
    "                            if not heading_active and d.get_heading_sensor_is_active():\n",
    "                                heading_active = d.get_timestamp()\n",
    "                            if not heave_active and d.get_heave_sensor_is_active():\n",
    "                                heave_active = d.get_timestamp()\n",
    "                            if not roll_active and d.get_roll_sensor_is_active():\n",
    "                                roll_active = d.get_timestamp()\n",
    "                            if not pitch_active and d.get_pitch_sensor_is_active():\n",
    "                                pitch_active = d.get_timestamp()\n",
    "\n",
    "                            if heading_active and heave_active and roll_active and pitch_active:\n",
    "                                break\n",
    "                                \n",
    "                    for d in fm.datagram_interface.datagrams(\"NetworkAttitudeVelocityDatagram\"):\n",
    "                        if d.get_timestamp() > max_timestamp_pings:\n",
    "                            if not heading_active and d.get_heading_sensor_is_active():\n",
    "                                heading_active = d.get_timestamp()\n",
    "                            if not heave_active and d.get_heave_sensor_is_active():\n",
    "                                heave_active = d.get_timestamp()\n",
    "                            if not roll_active and d.get_roll_sensor_is_active():\n",
    "                                roll_active = d.get_timestamp()\n",
    "                            if not pitch_active and d.get_pitch_sensor_is_active():\n",
    "                                pitch_active = d.get_timestamp()\n",
    "\n",
    "                            if heading_active and heave_active and roll_active and pitch_active:\n",
    "                                break\n",
    "\n",
    "                    if heading_active: timestamps.append(heading_active); #print('heading_active', file)\n",
    "                    else: print(f\"- No heading attitudes in {file}\")\n",
    "                    if heave_active: timestamps.append(heave_active); #print('heave_active', file)\n",
    "                    else: print(f\"- No heave attitudes in {file}\")\n",
    "                    if roll_active: timestamps.append(roll_active); #print('roll_active', file)\n",
    "                    else: print(f\"- No roll attitudes in {file}\")\n",
    "                    if pitch_active: timestamps.append(pitch_active); #print('pitch_active', file)\n",
    "                    else: print(f\"- No pitch attitudes in {file}\")\n",
    "                else:\n",
    "                    for d in fm.datagram_interface.datagrams(\"NME0\"):\n",
    "                        if d.get_timestamp() > max_timestamp_pings:\n",
    "                            timestamps.append(d.get_timestamp())\n",
    "                            break\n",
    "\n",
    "                #compute largest timestamp\n",
    "                max_timestamp = np.nanmax(timestamps)\n",
    "\n",
    "                with open(output_file, \"wb\") as ofi:\n",
    "                    for d in fm.datagram_interface.datagrams():\n",
    "                        if d.get_timestamp() > max_timestamp:\n",
    "                            break\n",
    "                        ofi.write(d.to_binary())\n",
    "            except Exception as e:\n",
    "                print(f\"--- Error with {file} ---\")\n",
    "                print(f\"Error: {e}\")\n",
    "                print(\"---\")\n",
    "            prg.update(1)\n"
   ]
  },
  {
   "cell_type": "code",
   "execution_count": 6,
   "id": "48a3037d-116d-4431-818c-b3af8647f8d5",
   "metadata": {
    "execution": {
     "iopub.execute_input": "2024-10-28T18:23:46.226298Z",
     "iopub.status.busy": "2024-10-28T18:23:46.226042Z",
     "iopub.status.idle": "2024-10-28T18:23:46.352974Z",
     "shell.execute_reply": "2024-10-28T18:23:46.352608Z",
     "shell.execute_reply.started": "2024-10-28T18:23:46.226281Z"
    }
   },
   "outputs": [
    {
     "ename": "NameError",
     "evalue": "name 'fh' is not defined",
     "output_type": "error",
     "traceback": [
      "\u001b[0;31m---------------------------------------------------------------------------\u001b[0m",
      "\u001b[0;31mNameError\u001b[0m                                 Traceback (most recent call last)",
      "Cell \u001b[0;32mIn[6], line 1\u001b[0m\n\u001b[0;32m----> 1\u001b[0m \u001b[43mfh\u001b[49m\u001b[38;5;241m.\u001b[39mconfiguration_interface\u001b[38;5;241m.\u001b[39mper_file(\u001b[38;5;241m0\u001b[39m)\u001b[38;5;241m.\u001b[39mdatagrams()[\u001b[38;5;241m0\u001b[39m]\u001b[38;5;241m.\u001b[39mprint()\n",
      "\u001b[0;31mNameError\u001b[0m: name 'fh' is not defined"
     ]
    }
   ],
   "source": [
    "fh.configuration_interface.per_file(0).datagrams()[0].print()"
   ]
  },
  {
   "cell_type": "code",
   "execution_count": null,
   "id": "56699899-24f1-414a-ae1f-39a21b1d464b",
   "metadata": {
    "execution": {
     "iopub.status.busy": "2024-10-28T18:23:46.353237Z",
     "iopub.status.idle": "2024-10-28T18:23:46.353350Z",
     "shell.execute_reply": "2024-10-28T18:23:46.353299Z",
     "shell.execute_reply.started": "2024-10-28T18:23:46.353293Z"
    }
   },
   "outputs": [],
   "source": [
    "fh = kongsbergall.KongsbergAllFileHandler(\"./data_in/kongsberg/simon/0033_20160413_184034_SimonStevin.all\")\n",
    "fh = kongsbergall.KongsbergAllFileHandler(\"./data_in/kongsberg/e/0007_20240726_144003.all\")\n",
    "print(fh)"
   ]
  },
  {
   "cell_type": "code",
   "execution_count": null,
   "id": "459f62bd",
   "metadata": {
    "execution": {
     "iopub.status.busy": "2024-10-28T18:23:46.353732Z",
     "iopub.status.idle": "2024-10-28T18:23:46.353841Z",
     "shell.execute_reply": "2024-10-28T18:23:46.353790Z",
     "shell.execute_reply.started": "2024-10-28T18:23:46.353784Z"
    }
   },
   "outputs": [],
   "source": [
    "\n",
    "heading_active = False \n",
    "heave_active = False \n",
    "roll_active = False\n",
    "pitch_active = False \n",
    "\n",
    "for d in fh.datagram_interface.datagrams(\"AttitudeDatagram\"):\n",
    "    if d.get_timestamp():\n",
    "        print(d)\n",
    "        if not heading_active and d.get_heading_sensor_is_active():\n",
    "            heading_active = d.get_timestamp()\n",
    "        if not heave_active and d.get_heave_sensor_is_active():\n",
    "            heave_active = d.get_timestamp()\n",
    "        if not roll_active and d.get_roll_sensor_is_active():\n",
    "            roll_active = d.get_timestamp()\n",
    "        if not pitch_active and d.get_pitch_sensor_is_active():\n",
    "            pitch_active = d.get_timestamp()\n",
    "\n",
    "        if heading_active and heave_active and roll_active and pitch_active:\n",
    "            break\n",
    "\n",
    "print(\"heading_active\",heading_active)\n",
    "print(\"heave_active\",heave_active)\n",
    "print(\"roll_active\",roll_active)\n",
    "print(\"pitch_active\",pitch_active)"
   ]
  },
  {
   "cell_type": "code",
   "execution_count": null,
   "id": "99b02825",
   "metadata": {
    "execution": {
     "iopub.status.busy": "2024-10-28T18:23:46.354228Z",
     "iopub.status.idle": "2024-10-28T18:23:46.354382Z",
     "shell.execute_reply": "2024-10-28T18:23:46.354333Z",
     "shell.execute_reply.started": "2024-10-28T18:23:46.354328Z"
    }
   },
   "outputs": [],
   "source": [
    "fm = simradraw.SimradRawFileHandler(input_files[4], show_progress=False)"
   ]
  },
  {
   "cell_type": "code",
   "execution_count": null,
   "id": "239349b3",
   "metadata": {
    "execution": {
     "iopub.status.busy": "2024-10-28T18:23:46.354604Z",
     "iopub.status.idle": "2024-10-28T18:23:46.354708Z",
     "shell.execute_reply": "2024-10-28T18:23:46.354661Z",
     "shell.execute_reply.started": "2024-10-28T18:23:46.354657Z"
    }
   },
   "outputs": [],
   "source": [
    "print(fm)"
   ]
  },
  {
   "cell_type": "code",
   "execution_count": null,
   "id": "86b7fc9b",
   "metadata": {},
   "outputs": [],
   "source": []
  }
 ],
 "metadata": {
  "kernelspec": {
   "display_name": "Python 3 (ipykernel)",
   "language": "python",
   "name": "python3"
  },
  "language_info": {
   "codemirror_mode": {
    "name": "ipython",
    "version": 3
   },
   "file_extension": ".py",
   "mimetype": "text/x-python",
   "name": "python",
   "nbconvert_exporter": "python",
   "pygments_lexer": "ipython3",
   "version": "3.12.7"
  },
  "widgets": {
   "application/vnd.jupyter.widget-state+json": {
    "state": {
     "00be541d7dff425f942e81531ea0af23": {
      "model_module": "@jupyter-widgets/base",
      "model_module_version": "1.2.0",
      "model_name": "LayoutModel",
      "state": {
       "width": "20px"
      }
     },
     "00ca436447c44cce9e38035aea5f1bfe": {
      "model_module": "@jupyter-widgets/base",
      "model_module_version": "1.2.0",
      "model_name": "LayoutModel",
      "state": {}
     },
     "01b8b70df47449f6bc3896d7dcef2919": {
      "model_module": "@jupyter-widgets/controls",
      "model_module_version": "1.5.0",
      "model_name": "HTMLModel",
      "state": {
       "layout": "IPY_MODEL_45d4a9e17833456c9d9f97446b11497e",
       "style": "IPY_MODEL_3a149e52328f421c99d48247a97ab114",
       "value": "removing duplicates: 100%"
      }
     },
     "01e2f62ce8084c54956e3772e046de9b": {
      "model_module": "@jupyter-widgets/controls",
      "model_module_version": "1.5.0",
      "model_name": "HTMLModel",
      "state": {
       "layout": "IPY_MODEL_db950035f2e84705bc758deda47107e1",
       "style": "IPY_MODEL_2207f645200f42c89e8f6233444b053e",
       "value": "finding files: 100%"
      }
     },
     "021415353c404f4a922debe226cbaa4a": {
      "model_module": "@jupyter-widgets/controls",
      "model_module_version": "1.5.0",
      "model_name": "FloatProgressModel",
      "state": {
       "bar_style": "success",
       "layout": "IPY_MODEL_dffbfd5f5f694d53a03414bf0f3128d7",
       "max": 1,
       "style": "IPY_MODEL_5a5492120dcf49b38af482c6937ac62c"
      }
     },
     "02459cfa3e484d63ac14aae64102f31f": {
      "model_module": "@jupyter-widgets/controls",
      "model_module_version": "1.5.0",
      "model_name": "HBoxModel",
      "state": {
       "children": [
        "IPY_MODEL_e320481456fb40d382044206e84bb778",
        "IPY_MODEL_8a6a20df04394f368924b55f0311b46b",
        "IPY_MODEL_3263e71a9151437da09dffa6679a2272"
       ],
       "layout": "IPY_MODEL_979a3eb95d334651b53e71fda10c26d4"
      }
     },
     "02d5f773ebfb46908934f42fc064458f": {
      "model_module": "@jupyter-widgets/controls",
      "model_module_version": "1.5.0",
      "model_name": "DescriptionStyleModel",
      "state": {
       "description_width": ""
      }
     },
     "03a2e34044214e9fa3ee4c47447ab7ea": {
      "model_module": "@jupyter-widgets/controls",
      "model_module_version": "1.5.0",
      "model_name": "HTMLModel",
      "state": {
       "layout": "IPY_MODEL_64ed85a13b1f4c2e865577f5d2d6a388",
       "style": "IPY_MODEL_314b3a10641f4307b55d65c81a7e090c",
       "value": "removing duplicates: 100%"
      }
     },
     "042efb859a1342429ab485aca2b35b76": {
      "model_module": "@jupyter-widgets/base",
      "model_module_version": "1.2.0",
      "model_name": "LayoutModel",
      "state": {}
     },
     "0431ca630d6644f69800e951ee38d112": {
      "model_module": "@jupyter-widgets/controls",
      "model_module_version": "1.5.0",
      "model_name": "HBoxModel",
      "state": {
       "children": [
        "IPY_MODEL_050eb6febaf3439f93ce7a1edb651214",
        "IPY_MODEL_228ae1edb71a4fa4b74a9cacb302fcdc",
        "IPY_MODEL_e4b17c01db304de6937218b9c0b83a5e"
       ],
       "layout": "IPY_MODEL_0499b77ac3484b6e80a186c418e1779f"
      }
     },
     "0499b77ac3484b6e80a186c418e1779f": {
      "model_module": "@jupyter-widgets/base",
      "model_module_version": "1.2.0",
      "model_name": "LayoutModel",
      "state": {}
     },
     "04a5225850204c7f840513d43dada7aa": {
      "model_module": "@jupyter-widgets/base",
      "model_module_version": "1.2.0",
      "model_name": "LayoutModel",
      "state": {}
     },
     "04fa107f65144fe8993dd2ed33e23cfb": {
      "model_module": "@jupyter-widgets/base",
      "model_module_version": "1.2.0",
      "model_name": "LayoutModel",
      "state": {}
     },
     "050eb6febaf3439f93ce7a1edb651214": {
      "model_module": "@jupyter-widgets/controls",
      "model_module_version": "1.5.0",
      "model_name": "HTMLModel",
      "state": {
       "layout": "IPY_MODEL_e04c918aa2af4f8ca049845bb694bcc0",
       "style": "IPY_MODEL_6c367a6440b74663a057e8ef213f82f9",
       "value": "removing duplicates: "
      }
     },
     "0511ab19b27e4744af72973b4bcb13d0": {
      "model_module": "@jupyter-widgets/base",
      "model_module_version": "1.2.0",
      "model_name": "LayoutModel",
      "state": {}
     },
     "05bdc8e6c6e84296be8fc0e95c814f7e": {
      "model_module": "@jupyter-widgets/base",
      "model_module_version": "1.2.0",
      "model_name": "LayoutModel",
      "state": {
       "width": "20px"
      }
     },
     "06934048575a4abeb5c1be8bdab94a16": {
      "model_module": "@jupyter-widgets/base",
      "model_module_version": "1.2.0",
      "model_name": "LayoutModel",
      "state": {}
     },
     "07319fe5feee417a9c51fbec4475ab7d": {
      "model_module": "@jupyter-widgets/controls",
      "model_module_version": "1.5.0",
      "model_name": "HTMLModel",
      "state": {
       "layout": "IPY_MODEL_67b28abe193548e68764ebb0a4753d4f",
       "style": "IPY_MODEL_56742a981a2c43509328ef6c4e1461e8",
       "value": " 0/0 [00:00&lt;?, ?it/s]"
      }
     },
     "08f1cee592454445be490908571e8361": {
      "model_module": "@jupyter-widgets/controls",
      "model_module_version": "1.5.0",
      "model_name": "HTMLModel",
      "state": {
       "layout": "IPY_MODEL_f9de7f284beb41068b47b74ef7704be8",
       "style": "IPY_MODEL_b07cd281fa574064ad942eb2c73876da",
       "value": "removing duplicates: 100%"
      }
     },
     "097a828aa9cb40e4921198e271f522bf": {
      "model_module": "@jupyter-widgets/base",
      "model_module_version": "1.2.0",
      "model_name": "LayoutModel",
      "state": {}
     },
     "09b3580af8694915ac461be60aa6b7ae": {
      "model_module": "@jupyter-widgets/base",
      "model_module_version": "1.2.0",
      "model_name": "LayoutModel",
      "state": {}
     },
     "0a9d0a4576e749a6bf55e5d2bae5fcc3": {
      "model_module": "@jupyter-widgets/controls",
      "model_module_version": "1.5.0",
      "model_name": "HBoxModel",
      "state": {
       "children": [
        "IPY_MODEL_b05085173310443e9c6c2a0c8e6b0ce3",
        "IPY_MODEL_353fb595d2b446518773779006b7db99",
        "IPY_MODEL_256fc2f038404a088f7b92327bd6dc4b"
       ],
       "layout": "IPY_MODEL_a552e0b79c34476b919ad492bd1907fd"
      }
     },
     "0ac3dc42b88148f48cc377c9b108d10f": {
      "model_module": "@jupyter-widgets/base",
      "model_module_version": "1.2.0",
      "model_name": "LayoutModel",
      "state": {}
     },
     "0bb80cb6e6cc4e6c906d43f38a07564e": {
      "model_module": "@jupyter-widgets/controls",
      "model_module_version": "1.5.0",
      "model_name": "HTMLModel",
      "state": {
       "layout": "IPY_MODEL_27c5842b277442baa726f40612ae987d",
       "style": "IPY_MODEL_2d9411a0ac5f4a229035ce53eb05dfa8",
       "value": "removing duplicates: "
      }
     },
     "0bd5c61b5c794ddc9b6d11e0ad94f7fc": {
      "model_module": "@jupyter-widgets/controls",
      "model_module_version": "1.5.0",
      "model_name": "ProgressStyleModel",
      "state": {
       "description_width": ""
      }
     },
     "0c1fd4ae00f54871aad80b12aecdc928": {
      "model_module": "@jupyter-widgets/base",
      "model_module_version": "1.2.0",
      "model_name": "LayoutModel",
      "state": {}
     },
     "0c8339d9852842e1bfa2689aedec53bb": {
      "model_module": "@jupyter-widgets/controls",
      "model_module_version": "1.5.0",
      "model_name": "HTMLModel",
      "state": {
       "layout": "IPY_MODEL_5c570db52ebc44c0a896d1f2e4deb899",
       "style": "IPY_MODEL_a4c67eeeaab04f03af805f6c1b05bb33",
       "value": " 1/1 [00:00&lt;00:00, 490.91it/s]"
      }
     },
     "0ca236c3adb14352807099a0222ca793": {
      "model_module": "@jupyter-widgets/controls",
      "model_module_version": "1.5.0",
      "model_name": "DescriptionStyleModel",
      "state": {
       "description_width": ""
      }
     },
     "0de9f0bd347e41f0aa7765050d96e20a": {
      "model_module": "@jupyter-widgets/base",
      "model_module_version": "1.2.0",
      "model_name": "LayoutModel",
      "state": {}
     },
     "0eaa0f364e2f41bbb4a6bbaf2fdbb819": {
      "model_module": "@jupyter-widgets/controls",
      "model_module_version": "1.5.0",
      "model_name": "FloatProgressModel",
      "state": {
       "bar_style": "success",
       "layout": "IPY_MODEL_35d1f6fb5f7f4adea248cb88ddf0b20e",
       "max": 1,
       "style": "IPY_MODEL_e29a8cce36f84891a5eed223be272e6a"
      }
     },
     "0ef3a00e8b86467ba2525c81ec6b249c": {
      "model_module": "@jupyter-widgets/controls",
      "model_module_version": "1.5.0",
      "model_name": "HTMLModel",
      "state": {
       "layout": "IPY_MODEL_94fc3702b27b4a38a02999cb1cd94e07",
       "style": "IPY_MODEL_43a5ac6aebf844b7a839913f8baff62f",
       "value": " 0/0 [00:00&lt;?, ?it/s]"
      }
     },
     "0fe6652224544dcb9fe4633745d45a45": {
      "model_module": "@jupyter-widgets/controls",
      "model_module_version": "1.5.0",
      "model_name": "DescriptionStyleModel",
      "state": {
       "description_width": ""
      }
     },
     "1021980ccfa146b680f1c7812af4f40c": {
      "model_module": "@jupyter-widgets/controls",
      "model_module_version": "1.5.0",
      "model_name": "DescriptionStyleModel",
      "state": {
       "description_width": ""
      }
     },
     "10d59b518ddc490297848f6c0849e83a": {
      "model_module": "@jupyter-widgets/base",
      "model_module_version": "1.2.0",
      "model_name": "LayoutModel",
      "state": {}
     },
     "10de0b51580541e2bc77c3cfbe3505d7": {
      "model_module": "@jupyter-widgets/controls",
      "model_module_version": "1.5.0",
      "model_name": "HBoxModel",
      "state": {
       "children": [
        "IPY_MODEL_0bb80cb6e6cc4e6c906d43f38a07564e",
        "IPY_MODEL_373124e52f33473aada1f551ac8d5f3d",
        "IPY_MODEL_2954957e658b42eda8443addeaac80d2"
       ],
       "layout": "IPY_MODEL_5604e89d2bac4fcd9d87107ec829de53"
      }
     },
     "1125d8154dbf4d9c8766399360d98e7d": {
      "model_module": "@jupyter-widgets/controls",
      "model_module_version": "1.5.0",
      "model_name": "HBoxModel",
      "state": {
       "children": [
        "IPY_MODEL_cc052c3117dc4ca8a9f9aee65dd7e161",
        "IPY_MODEL_97d36b04e012409485d40fff8565fbd9",
        "IPY_MODEL_2b8b8db6f92743c4a8b281989be963a7"
       ],
       "layout": "IPY_MODEL_719ea07a808741b781d4fa2db7c1685a"
      }
     },
     "12017c6cad4942d189d2dab7538e6720": {
      "model_module": "@jupyter-widgets/base",
      "model_module_version": "1.2.0",
      "model_name": "LayoutModel",
      "state": {}
     },
     "12432934e50044189b44701da4e4e267": {
      "model_module": "@jupyter-widgets/controls",
      "model_module_version": "1.5.0",
      "model_name": "HTMLModel",
      "state": {
       "layout": "IPY_MODEL_99c5d42bbaf244c58a7fd336d3866b62",
       "style": "IPY_MODEL_1a69cdf3886241489e339e10174ff912",
       "value": "removing duplicates: "
      }
     },
     "12dd875aea1948829611940091edc625": {
      "model_module": "@jupyter-widgets/controls",
      "model_module_version": "1.5.0",
      "model_name": "ProgressStyleModel",
      "state": {
       "description_width": ""
      }
     },
     "145c1af3799242c98f2f8466b572dea2": {
      "model_module": "@jupyter-widgets/controls",
      "model_module_version": "1.5.0",
      "model_name": "HTMLModel",
      "state": {
       "layout": "IPY_MODEL_c0e92311732a452aa155fc58c4c9e341",
       "style": "IPY_MODEL_6a025ca3d1804ac4a7b24ddcca2cfe52",
       "value": "removing duplicates: 100%"
      }
     },
     "173a1edacbb8460e9fbf5602c2e244b3": {
      "model_module": "@jupyter-widgets/controls",
      "model_module_version": "1.5.0",
      "model_name": "ProgressStyleModel",
      "state": {
       "description_width": ""
      }
     },
     "17a871800b1849859863ce7940c3f476": {
      "model_module": "@jupyter-widgets/base",
      "model_module_version": "1.2.0",
      "model_name": "LayoutModel",
      "state": {}
     },
     "1814ac1356d84462ae2417f3ab0bc0f7": {
      "model_module": "@jupyter-widgets/controls",
      "model_module_version": "1.5.0",
      "model_name": "HBoxModel",
      "state": {
       "children": [
        "IPY_MODEL_8f6f59772c7b47d1b8038d3b26e1c1c4",
        "IPY_MODEL_ab061f757a8a4f6396cf8eca5427f86d",
        "IPY_MODEL_53d519a3360247999c9ff45660304ab6"
       ],
       "layout": "IPY_MODEL_52f17bccb1e34f0ca9a4ac9c602880cd"
      }
     },
     "185c12f94eb1485a9365ea24dd8c73d8": {
      "model_module": "@jupyter-widgets/base",
      "model_module_version": "1.2.0",
      "model_name": "LayoutModel",
      "state": {
       "width": "20px"
      }
     },
     "189fc25a88e74f9bb5422c3f1c899196": {
      "model_module": "@jupyter-widgets/base",
      "model_module_version": "1.2.0",
      "model_name": "LayoutModel",
      "state": {}
     },
     "18a24851ff714fdcbf0b41077f07b72f": {
      "model_module": "@jupyter-widgets/base",
      "model_module_version": "1.2.0",
      "model_name": "LayoutModel",
      "state": {}
     },
     "192519f146c841a09a5763b2aa6eb0ed": {
      "model_module": "@jupyter-widgets/controls",
      "model_module_version": "1.5.0",
      "model_name": "FloatProgressModel",
      "state": {
       "bar_style": "success",
       "layout": "IPY_MODEL_836845a445cc490f83d0cf370c40ed76",
       "max": 1,
       "style": "IPY_MODEL_0bd5c61b5c794ddc9b6d11e0ad94f7fc",
       "value": 1
      }
     },
     "196571e01810424e857cb46cc0c0cbde": {
      "model_module": "@jupyter-widgets/controls",
      "model_module_version": "1.5.0",
      "model_name": "ProgressStyleModel",
      "state": {
       "description_width": ""
      }
     },
     "1a25ad262a44498888ddf6cfc73d3874": {
      "model_module": "@jupyter-widgets/controls",
      "model_module_version": "1.5.0",
      "model_name": "HTMLModel",
      "state": {
       "layout": "IPY_MODEL_f8883261d6254a699801c0a31175ff40",
       "style": "IPY_MODEL_5f033e2bb17c4704bf03ec47ef3b535c",
       "value": " 1/1 [00:00&lt;00:00, 559.32it/s]"
      }
     },
     "1a69cdf3886241489e339e10174ff912": {
      "model_module": "@jupyter-widgets/controls",
      "model_module_version": "1.5.0",
      "model_name": "DescriptionStyleModel",
      "state": {
       "description_width": ""
      }
     },
     "1ab095a361634ce184b8aa7edadd5b51": {
      "model_module": "@jupyter-widgets/controls",
      "model_module_version": "1.5.0",
      "model_name": "DescriptionStyleModel",
      "state": {
       "description_width": ""
      }
     },
     "1c2524b137284791a0782e5908c36651": {
      "model_module": "@jupyter-widgets/base",
      "model_module_version": "1.2.0",
      "model_name": "LayoutModel",
      "state": {}
     },
     "1d138184647646edaa96b31c72232c71": {
      "model_module": "@jupyter-widgets/base",
      "model_module_version": "1.2.0",
      "model_name": "LayoutModel",
      "state": {}
     },
     "1d64430860db4ebcbac9e7b3c85ea8bb": {
      "model_module": "@jupyter-widgets/controls",
      "model_module_version": "1.5.0",
      "model_name": "FloatProgressModel",
      "state": {
       "bar_style": "success",
       "layout": "IPY_MODEL_9663990aa8f1475c920e3822e6a8b2ca",
       "max": 2,
       "style": "IPY_MODEL_3e57cac51b0a4efd849dafc913739687",
       "value": 2
      }
     },
     "1dfa074a200f4aa282bad4b5c339afb2": {
      "model_module": "@jupyter-widgets/controls",
      "model_module_version": "1.5.0",
      "model_name": "HBoxModel",
      "state": {
       "children": [
        "IPY_MODEL_ce26be81c9e0494a8c1a520c53c1b784",
        "IPY_MODEL_e21c9a2406ad4d00872f966a29e2ab1d",
        "IPY_MODEL_b53a3777079a475eb95681008ed2d2ae"
       ],
       "layout": "IPY_MODEL_ef3e608abb8b43dbad765b35ff1cdfe3"
      }
     },
     "1e4409c37bab4bf89d4ddfdda9872098": {
      "model_module": "@jupyter-widgets/controls",
      "model_module_version": "1.5.0",
      "model_name": "HBoxModel",
      "state": {
       "children": [
        "IPY_MODEL_2309d5b927ab4e088bd1e67d9bc5ff2a",
        "IPY_MODEL_d454108b2b674368b05b54027e84205a",
        "IPY_MODEL_6993a0f4473a4f1c935e8b21fcc9d520"
       ],
       "layout": "IPY_MODEL_294c53b8a49946eaa9d53566fc9a6ecf"
      }
     },
     "1ed92e5d15af44c28f4a51264245b375": {
      "model_module": "@jupyter-widgets/controls",
      "model_module_version": "1.5.0",
      "model_name": "ProgressStyleModel",
      "state": {
       "description_width": ""
      }
     },
     "1f2f21113a614a0daa0ea828cbf6e455": {
      "model_module": "@jupyter-widgets/controls",
      "model_module_version": "1.5.0",
      "model_name": "HTMLModel",
      "state": {
       "layout": "IPY_MODEL_04a5225850204c7f840513d43dada7aa",
       "style": "IPY_MODEL_b30a8c91cee540afae0f9a6760396c6f",
       "value": " 1/1 [00:00&lt;00:00, 445.59it/s]"
      }
     },
     "1fc0213cbc9340af9dc702ab6bbda430": {
      "model_module": "@jupyter-widgets/controls",
      "model_module_version": "1.5.0",
      "model_name": "HTMLModel",
      "state": {
       "layout": "IPY_MODEL_aeea8ffb6b214642808b70c4174b6c7e",
       "style": "IPY_MODEL_a7bdcf8872ba41ee8af7a920edce984c",
       "value": " 2/2 [00:00&lt;00:00, 852.15it/s]"
      }
     },
     "2071bd5157c8456dbc913258c66bde47": {
      "model_module": "@jupyter-widgets/controls",
      "model_module_version": "1.5.0",
      "model_name": "HBoxModel",
      "state": {
       "children": [
        "IPY_MODEL_3ec3da3554f545aa8ed9c058b7408903",
        "IPY_MODEL_3c6fe9e6ea0b42ddbdd5b54d0b5e39c7",
        "IPY_MODEL_e26348a52c85404ea1237b5de1017dd9"
       ],
       "layout": "IPY_MODEL_5ff9753c4fa34d0790245f3cd6392289"
      }
     },
     "207c135f15b04e3fa671eba1a148317f": {
      "model_module": "@jupyter-widgets/controls",
      "model_module_version": "1.5.0",
      "model_name": "HTMLModel",
      "state": {
       "layout": "IPY_MODEL_76958649608d45a6a549499995e249f2",
       "style": "IPY_MODEL_951c6ae4521f4276a19db871d9860e66",
       "value": "removing duplicates: 100%"
      }
     },
     "20f84fa40d6543c0ac3b7f475b35bdb4": {
      "model_module": "@jupyter-widgets/controls",
      "model_module_version": "1.5.0",
      "model_name": "HBoxModel",
      "state": {
       "children": [
        "IPY_MODEL_94ea3646c0c44fac9a4e2f66b34271ad",
        "IPY_MODEL_ac94df0738b241bf9e365db7af4cf851",
        "IPY_MODEL_fdd1d145f2894eb9ad6ad330af51970c"
       ],
       "layout": "IPY_MODEL_f87f30371ccf496a8784713ad41772bb"
      }
     },
     "2114489933604eca83367529fede14d0": {
      "model_module": "@jupyter-widgets/controls",
      "model_module_version": "1.5.0",
      "model_name": "FloatProgressModel",
      "state": {
       "bar_style": "success",
       "layout": "IPY_MODEL_4989b812f8e34d17a1a423abb23547f7",
       "max": 1,
       "style": "IPY_MODEL_de6cd21a574d4c53b79d6d4f49657073"
      }
     },
     "21745bde52ba4c358a54c596ff5cc69d": {
      "model_module": "@jupyter-widgets/base",
      "model_module_version": "1.2.0",
      "model_name": "LayoutModel",
      "state": {}
     },
     "21f612d3218644bf8450670787920414": {
      "model_module": "@jupyter-widgets/controls",
      "model_module_version": "1.5.0",
      "model_name": "FloatProgressModel",
      "state": {
       "bar_style": "success",
       "layout": "IPY_MODEL_e2ad94d88a3e44a29fc41b816e089f34",
       "max": 1,
       "style": "IPY_MODEL_39cf86aa8ea344b982ee7646d9a38230"
      }
     },
     "2207f645200f42c89e8f6233444b053e": {
      "model_module": "@jupyter-widgets/controls",
      "model_module_version": "1.5.0",
      "model_name": "DescriptionStyleModel",
      "state": {
       "description_width": ""
      }
     },
     "228ae1edb71a4fa4b74a9cacb302fcdc": {
      "model_module": "@jupyter-widgets/controls",
      "model_module_version": "1.5.0",
      "model_name": "FloatProgressModel",
      "state": {
       "bar_style": "success",
       "layout": "IPY_MODEL_b5403f8ae0aa4e8c8941c9307b50e340",
       "max": 1,
       "style": "IPY_MODEL_f82425f8fc434f2290930c8dbb113490"
      }
     },
     "2309d5b927ab4e088bd1e67d9bc5ff2a": {
      "model_module": "@jupyter-widgets/controls",
      "model_module_version": "1.5.0",
      "model_name": "HTMLModel",
      "state": {
       "layout": "IPY_MODEL_da6c82e3a4814437ae4dbde038c9d31c",
       "style": "IPY_MODEL_1ab095a361634ce184b8aa7edadd5b51",
       "value": "removing duplicates: 100%"
      }
     },
     "230f321d35eb42fb881f36360137e94a": {
      "model_module": "@jupyter-widgets/base",
      "model_module_version": "1.2.0",
      "model_name": "LayoutModel",
      "state": {}
     },
     "24a4ea98c17f48ebaeb3779f9099156e": {
      "model_module": "@jupyter-widgets/base",
      "model_module_version": "1.2.0",
      "model_name": "LayoutModel",
      "state": {
       "width": "20px"
      }
     },
     "256fc2f038404a088f7b92327bd6dc4b": {
      "model_module": "@jupyter-widgets/controls",
      "model_module_version": "1.5.0",
      "model_name": "HTMLModel",
      "state": {
       "layout": "IPY_MODEL_26e6d25ae805467ab18c0dc15f58e7a1",
       "style": "IPY_MODEL_a7cdc83c8b99498f8e2ac6a0d8f08362",
       "value": " 0/0 [00:00&lt;?, ?it/s]"
      }
     },
     "25a863b311564c43876602bd3d5a6591": {
      "model_module": "@jupyter-widgets/controls",
      "model_module_version": "1.5.0",
      "model_name": "DescriptionStyleModel",
      "state": {
       "description_width": ""
      }
     },
     "25af86f99da24f72b15a12ab3ebe1f6c": {
      "model_module": "@jupyter-widgets/controls",
      "model_module_version": "1.5.0",
      "model_name": "DescriptionStyleModel",
      "state": {
       "description_width": ""
      }
     },
     "25feddf1274644a9b09cad9fa22b2c74": {
      "model_module": "@jupyter-widgets/base",
      "model_module_version": "1.2.0",
      "model_name": "LayoutModel",
      "state": {}
     },
     "263e651a10944c0d99791caa33ce416c": {
      "model_module": "@jupyter-widgets/base",
      "model_module_version": "1.2.0",
      "model_name": "LayoutModel",
      "state": {}
     },
     "264f99d900ca4299b51cdc0e65bf948b": {
      "model_module": "@jupyter-widgets/controls",
      "model_module_version": "1.5.0",
      "model_name": "HTMLModel",
      "state": {
       "layout": "IPY_MODEL_52bd01506ee04fd5a931577206a79b12",
       "style": "IPY_MODEL_cc90285c55de41efbe1ffe571f1b1f68",
       "value": "removing duplicates: 100%"
      }
     },
     "26e6d25ae805467ab18c0dc15f58e7a1": {
      "model_module": "@jupyter-widgets/base",
      "model_module_version": "1.2.0",
      "model_name": "LayoutModel",
      "state": {}
     },
     "271efd0230744516ba240dc87b27defe": {
      "model_module": "@jupyter-widgets/controls",
      "model_module_version": "1.5.0",
      "model_name": "DescriptionStyleModel",
      "state": {
       "description_width": ""
      }
     },
     "275f56c9ad8944da96539f746ecbeb8d": {
      "model_module": "@jupyter-widgets/base",
      "model_module_version": "1.2.0",
      "model_name": "LayoutModel",
      "state": {}
     },
     "27bc2ea336514ec882ce83a0012b3b9b": {
      "model_module": "@jupyter-widgets/base",
      "model_module_version": "1.2.0",
      "model_name": "LayoutModel",
      "state": {}
     },
     "27c5842b277442baa726f40612ae987d": {
      "model_module": "@jupyter-widgets/base",
      "model_module_version": "1.2.0",
      "model_name": "LayoutModel",
      "state": {}
     },
     "2804d3a89b7743b3957eb930701c1441": {
      "model_module": "@jupyter-widgets/controls",
      "model_module_version": "1.5.0",
      "model_name": "HBoxModel",
      "state": {
       "children": [
        "IPY_MODEL_cc1e6944b9664c51a101d0f5ca62a865",
        "IPY_MODEL_2114489933604eca83367529fede14d0",
        "IPY_MODEL_faa09e191d2e4d7c95c71be5da724741"
       ],
       "layout": "IPY_MODEL_6ceb3a0d92c7408ebaec9d99750743c6"
      }
     },
     "28541e2c059b4d3d9a1ab5ec6e370abe": {
      "model_module": "@jupyter-widgets/controls",
      "model_module_version": "1.5.0",
      "model_name": "DescriptionStyleModel",
      "state": {
       "description_width": ""
      }
     },
     "294c53b8a49946eaa9d53566fc9a6ecf": {
      "model_module": "@jupyter-widgets/base",
      "model_module_version": "1.2.0",
      "model_name": "LayoutModel",
      "state": {}
     },
     "2954957e658b42eda8443addeaac80d2": {
      "model_module": "@jupyter-widgets/controls",
      "model_module_version": "1.5.0",
      "model_name": "HTMLModel",
      "state": {
       "layout": "IPY_MODEL_04fa107f65144fe8993dd2ed33e23cfb",
       "style": "IPY_MODEL_582f23f308d44be5a8b514dbd7193504",
       "value": " 0/0 [00:00&lt;?, ?it/s]"
      }
     },
     "29af2f2f23b54c9ab86822f2aea30055": {
      "model_module": "@jupyter-widgets/base",
      "model_module_version": "1.2.0",
      "model_name": "LayoutModel",
      "state": {}
     },
     "2a6e8314fc784ef1ad7760b7ddf01797": {
      "model_module": "@jupyter-widgets/controls",
      "model_module_version": "1.5.0",
      "model_name": "DescriptionStyleModel",
      "state": {
       "description_width": ""
      }
     },
     "2adc54c2583e4e8db0aba27661d247fa": {
      "model_module": "@jupyter-widgets/controls",
      "model_module_version": "1.5.0",
      "model_name": "ProgressStyleModel",
      "state": {
       "description_width": ""
      }
     },
     "2b7ca7db5946459394282e150951c6db": {
      "model_module": "@jupyter-widgets/base",
      "model_module_version": "1.2.0",
      "model_name": "LayoutModel",
      "state": {}
     },
     "2b8b8db6f92743c4a8b281989be963a7": {
      "model_module": "@jupyter-widgets/controls",
      "model_module_version": "1.5.0",
      "model_name": "HTMLModel",
      "state": {
       "layout": "IPY_MODEL_443de1231ef849b9bd11ab9d5faffc6b",
       "style": "IPY_MODEL_f39f12b3e5ba433ea1acdb9c94b63fc2",
       "value": " 3/3 [00:00&lt;00:00, 1245.96it/s]"
      }
     },
     "2c02b1988ea2435a98c9f31d1fd4dca7": {
      "model_module": "@jupyter-widgets/base",
      "model_module_version": "1.2.0",
      "model_name": "LayoutModel",
      "state": {}
     },
     "2c750d56ae214d53a5869502653515db": {
      "model_module": "@jupyter-widgets/controls",
      "model_module_version": "1.5.0",
      "model_name": "ProgressStyleModel",
      "state": {
       "description_width": ""
      }
     },
     "2d20f85c596c4016ada62693abdfd3c1": {
      "model_module": "@jupyter-widgets/controls",
      "model_module_version": "1.5.0",
      "model_name": "HTMLModel",
      "state": {
       "layout": "IPY_MODEL_5add7a03b3f341e5a5ec47fd050549ee",
       "style": "IPY_MODEL_90732a9f9de84ea2842921879c3f2a61",
       "value": "removing duplicates: "
      }
     },
     "2d9411a0ac5f4a229035ce53eb05dfa8": {
      "model_module": "@jupyter-widgets/controls",
      "model_module_version": "1.5.0",
      "model_name": "DescriptionStyleModel",
      "state": {
       "description_width": ""
      }
     },
     "2d94d1341d8d418f82f8f24fc4d98472": {
      "model_module": "@jupyter-widgets/controls",
      "model_module_version": "1.5.0",
      "model_name": "DescriptionStyleModel",
      "state": {
       "description_width": ""
      }
     },
     "2de42dc5edaa471fb39fb83afcfc5856": {
      "model_module": "@jupyter-widgets/controls",
      "model_module_version": "1.5.0",
      "model_name": "ProgressStyleModel",
      "state": {
       "description_width": ""
      }
     },
     "3017f05d63b64e6595545d9e8c873e1f": {
      "model_module": "@jupyter-widgets/controls",
      "model_module_version": "1.5.0",
      "model_name": "FloatProgressModel",
      "state": {
       "bar_style": "success",
       "layout": "IPY_MODEL_0511ab19b27e4744af72973b4bcb13d0",
       "max": 1,
       "style": "IPY_MODEL_b261626bdc0c447a80198284c66efe1c",
       "value": 1
      }
     },
     "30a174d4db7940a89fab0cac6145afe6": {
      "model_module": "@jupyter-widgets/controls",
      "model_module_version": "1.5.0",
      "model_name": "HTMLModel",
      "state": {
       "layout": "IPY_MODEL_76c612559fd8457e95fc94c162a30f7d",
       "style": "IPY_MODEL_0ca236c3adb14352807099a0222ca793",
       "value": "removing duplicates: "
      }
     },
     "31361fdcdf6548518538885a81f7092a": {
      "model_module": "@jupyter-widgets/base",
      "model_module_version": "1.2.0",
      "model_name": "LayoutModel",
      "state": {}
     },
     "313f6e7399014aac874164d6f3651bce": {
      "model_module": "@jupyter-widgets/controls",
      "model_module_version": "1.5.0",
      "model_name": "HTMLModel",
      "state": {
       "layout": "IPY_MODEL_17a871800b1849859863ce7940c3f476",
       "style": "IPY_MODEL_bcc99bf4a1a847c7bf49cdbe90e19b94",
       "value": "removing duplicates: 100%"
      }
     },
     "314b3a10641f4307b55d65c81a7e090c": {
      "model_module": "@jupyter-widgets/controls",
      "model_module_version": "1.5.0",
      "model_name": "DescriptionStyleModel",
      "state": {
       "description_width": ""
      }
     },
     "31d9d3b9a1c447fcbe642e9966834d53": {
      "model_module": "@jupyter-widgets/controls",
      "model_module_version": "1.5.0",
      "model_name": "DescriptionStyleModel",
      "state": {
       "description_width": ""
      }
     },
     "31ef29be185e41bfb5838d687ae11332": {
      "model_module": "@jupyter-widgets/controls",
      "model_module_version": "1.5.0",
      "model_name": "HTMLModel",
      "state": {
       "layout": "IPY_MODEL_b6841a47991546c0ac6ccdd6b4853173",
       "style": "IPY_MODEL_b4c00cefa310436e84ce9fafece6aa24",
       "value": " 1/1 [00:00&lt;00:00, 564.28it/s]"
      }
     },
     "3263e71a9151437da09dffa6679a2272": {
      "model_module": "@jupyter-widgets/controls",
      "model_module_version": "1.5.0",
      "model_name": "HTMLModel",
      "state": {
       "layout": "IPY_MODEL_38d41679cca642a5ace9af01b3cfbeb6",
       "style": "IPY_MODEL_dbe0efb7dde642719a2c1750d743bee0",
       "value": " 1/1 [00:00&lt;00:00, 503.22it/s]"
      }
     },
     "32c0e3c9a61f45239b412e4752f6c8de": {
      "model_module": "@jupyter-widgets/controls",
      "model_module_version": "1.5.0",
      "model_name": "DescriptionStyleModel",
      "state": {
       "description_width": ""
      }
     },
     "338f7135693c46fd832e559c64537a30": {
      "model_module": "@jupyter-widgets/controls",
      "model_module_version": "1.5.0",
      "model_name": "DescriptionStyleModel",
      "state": {
       "description_width": ""
      }
     },
     "33a6b60804cb4e7aa3a82b2b427a5b7f": {
      "model_module": "@jupyter-widgets/controls",
      "model_module_version": "1.5.0",
      "model_name": "DescriptionStyleModel",
      "state": {
       "description_width": ""
      }
     },
     "33b36f543c294cd8909512f76971af14": {
      "model_module": "@jupyter-widgets/controls",
      "model_module_version": "1.5.0",
      "model_name": "FloatProgressModel",
      "state": {
       "bar_style": "success",
       "layout": "IPY_MODEL_a821fb125b7049cebc56d859062a4aa6",
       "max": 1,
       "style": "IPY_MODEL_5ce3182db24a4c37a6537e5b55b750f3",
       "value": 1
      }
     },
     "33b87605748b43c5ae8ea99cd475fa5f": {
      "model_module": "@jupyter-widgets/controls",
      "model_module_version": "1.5.0",
      "model_name": "HBoxModel",
      "state": {
       "children": [
        "IPY_MODEL_a23e0898e4db4b1aa0ddfeae369955ee",
        "IPY_MODEL_7fc4a11951ff4e918bdb569561d149f7",
        "IPY_MODEL_a1901cc0b19041cea9983ffb233ae29a"
       ],
       "layout": "IPY_MODEL_fd14e74e95f3451593abd23adc1c8eef"
      }
     },
     "34aea6d841ed4941a69294992f78fb33": {
      "model_module": "@jupyter-widgets/controls",
      "model_module_version": "1.5.0",
      "model_name": "HBoxModel",
      "state": {
       "children": [
        "IPY_MODEL_12432934e50044189b44701da4e4e267",
        "IPY_MODEL_de42360b18e8484da78df6341f98c7e2",
        "IPY_MODEL_a2de05045aa64f5fa2d16dd06aedb9a6"
       ],
       "layout": "IPY_MODEL_39ea417eb8764dd3ba6d54cd2c18dcd6"
      }
     },
     "34e564e65815435ca329d5cd3b0fa450": {
      "model_module": "@jupyter-widgets/controls",
      "model_module_version": "1.5.0",
      "model_name": "HTMLModel",
      "state": {
       "layout": "IPY_MODEL_f0065d5379954c0ab842406daacc060e",
       "style": "IPY_MODEL_9995b2d550184dada3ebaff287ad2b16",
       "value": " 0/0 [00:00&lt;?, ?it/s]"
      }
     },
     "35287739664944138fe6cbc31ffb685d": {
      "model_module": "@jupyter-widgets/controls",
      "model_module_version": "1.5.0",
      "model_name": "DescriptionStyleModel",
      "state": {
       "description_width": ""
      }
     },
     "353fb595d2b446518773779006b7db99": {
      "model_module": "@jupyter-widgets/controls",
      "model_module_version": "1.5.0",
      "model_name": "FloatProgressModel",
      "state": {
       "bar_style": "success",
       "layout": "IPY_MODEL_9396e5e8cfc24a91b84643a716eea8e3",
       "max": 1,
       "style": "IPY_MODEL_40d5580832f3459ca08f85756a882b44"
      }
     },
     "35d1f6fb5f7f4adea248cb88ddf0b20e": {
      "model_module": "@jupyter-widgets/base",
      "model_module_version": "1.2.0",
      "model_name": "LayoutModel",
      "state": {
       "width": "20px"
      }
     },
     "373124e52f33473aada1f551ac8d5f3d": {
      "model_module": "@jupyter-widgets/controls",
      "model_module_version": "1.5.0",
      "model_name": "FloatProgressModel",
      "state": {
       "bar_style": "success",
       "layout": "IPY_MODEL_9e45fc2f32dd4214a0abe0ec215e59b7",
       "max": 1,
       "style": "IPY_MODEL_5ec6c018f71b481ebf136f1b116a5047"
      }
     },
     "376e8d73bfeb4e8b90d1ed9b32e461bd": {
      "model_module": "@jupyter-widgets/controls",
      "model_module_version": "1.5.0",
      "model_name": "DescriptionStyleModel",
      "state": {
       "description_width": ""
      }
     },
     "3798835f6d4a4ba8ad57a3e9a9385068": {
      "model_module": "@jupyter-widgets/controls",
      "model_module_version": "1.5.0",
      "model_name": "ProgressStyleModel",
      "state": {
       "description_width": ""
      }
     },
     "38395a4796e34ebb8ff0d3fee3b9dd3f": {
      "model_module": "@jupyter-widgets/controls",
      "model_module_version": "1.5.0",
      "model_name": "DescriptionStyleModel",
      "state": {
       "description_width": ""
      }
     },
     "387d504ebb15408fb4c45a67ab1dceaa": {
      "model_module": "@jupyter-widgets/controls",
      "model_module_version": "1.5.0",
      "model_name": "FloatProgressModel",
      "state": {
       "layout": "IPY_MODEL_fd1151d507a646b990fd4e641960b201",
       "max": 35,
       "style": "IPY_MODEL_6e72af45f2ea41afaeb467ae13d46c1f",
       "value": 35
      }
     },
     "38d41679cca642a5ace9af01b3cfbeb6": {
      "model_module": "@jupyter-widgets/base",
      "model_module_version": "1.2.0",
      "model_name": "LayoutModel",
      "state": {}
     },
     "38ecc2246bd24f06af62bf1d2a3ec5d3": {
      "model_module": "@jupyter-widgets/controls",
      "model_module_version": "1.5.0",
      "model_name": "HTMLModel",
      "state": {
       "layout": "IPY_MODEL_ee01ad800e1e4d0d81c36edb1cfee20a",
       "style": "IPY_MODEL_2a6e8314fc784ef1ad7760b7ddf01797",
       "value": " 0/0 [00:00&lt;?, ?it/s]"
      }
     },
     "38f5a7e68fc94e5c900f578cfea6cdb8": {
      "model_module": "@jupyter-widgets/base",
      "model_module_version": "1.2.0",
      "model_name": "LayoutModel",
      "state": {}
     },
     "39b0306fd60f445b815a871f3cbf295a": {
      "model_module": "@jupyter-widgets/base",
      "model_module_version": "1.2.0",
      "model_name": "LayoutModel",
      "state": {}
     },
     "39cf86aa8ea344b982ee7646d9a38230": {
      "model_module": "@jupyter-widgets/controls",
      "model_module_version": "1.5.0",
      "model_name": "ProgressStyleModel",
      "state": {
       "description_width": ""
      }
     },
     "39ea417eb8764dd3ba6d54cd2c18dcd6": {
      "model_module": "@jupyter-widgets/base",
      "model_module_version": "1.2.0",
      "model_name": "LayoutModel",
      "state": {}
     },
     "39f0a0649fd048caa275fe8672779c98": {
      "model_module": "@jupyter-widgets/controls",
      "model_module_version": "1.5.0",
      "model_name": "DescriptionStyleModel",
      "state": {
       "description_width": ""
      }
     },
     "3a149e52328f421c99d48247a97ab114": {
      "model_module": "@jupyter-widgets/controls",
      "model_module_version": "1.5.0",
      "model_name": "DescriptionStyleModel",
      "state": {
       "description_width": ""
      }
     },
     "3a661efef3aa40328e2bbf5e9fcf338a": {
      "model_module": "@jupyter-widgets/controls",
      "model_module_version": "1.5.0",
      "model_name": "HBoxModel",
      "state": {
       "children": [
        "IPY_MODEL_01e2f62ce8084c54956e3772e046de9b",
        "IPY_MODEL_387d504ebb15408fb4c45a67ab1dceaa",
        "IPY_MODEL_a2696fc029aa4a94965172937dfcb9c5"
       ],
       "layout": "IPY_MODEL_4a34ccc29e244fb0b83589a136f44f94"
      }
     },
     "3a7eb780a0f343ff83f2180c2312c58b": {
      "model_module": "@jupyter-widgets/controls",
      "model_module_version": "1.5.0",
      "model_name": "HTMLModel",
      "state": {
       "layout": "IPY_MODEL_f59fce180a7b4173bb1b11afe78f60cd",
       "style": "IPY_MODEL_54a7c013642f44a3aefc0672ce7d68ca",
       "value": " 1/1 [00:00&lt;00:00, 551.23it/s]"
      }
     },
     "3a9a79d8c26949dfbd58b80c3fa66f23": {
      "model_module": "@jupyter-widgets/controls",
      "model_module_version": "1.5.0",
      "model_name": "ProgressStyleModel",
      "state": {
       "description_width": ""
      }
     },
     "3ac209fd23f944058c26bf88b5f0687f": {
      "model_module": "@jupyter-widgets/controls",
      "model_module_version": "1.5.0",
      "model_name": "HBoxModel",
      "state": {
       "children": [
        "IPY_MODEL_c575bdb20c934f34bec3607f9c606a5b",
        "IPY_MODEL_761baad1e5df4df4ac39b3a21c89c976",
        "IPY_MODEL_5b6b1e3094214693a76e89b8f85067d1"
       ],
       "layout": "IPY_MODEL_806c5904d04c4529b8a22f901b20e80c"
      }
     },
     "3afed86de96747bdbbb07105d31ef8aa": {
      "model_module": "@jupyter-widgets/base",
      "model_module_version": "1.2.0",
      "model_name": "LayoutModel",
      "state": {}
     },
     "3ba760cfeb9a4a948d9175fca1fa88e2": {
      "model_module": "@jupyter-widgets/controls",
      "model_module_version": "1.5.0",
      "model_name": "HTMLModel",
      "state": {
       "layout": "IPY_MODEL_b3bdb93083b947af8529421c25808df6",
       "style": "IPY_MODEL_2d94d1341d8d418f82f8f24fc4d98472",
       "value": "removing duplicates: "
      }
     },
     "3c5c90f0827042f6a22f61dcb0ba42ce": {
      "model_module": "@jupyter-widgets/controls",
      "model_module_version": "1.5.0",
      "model_name": "HTMLModel",
      "state": {
       "layout": "IPY_MODEL_a976a25a38ff44c185baa4ef8e4375cc",
       "style": "IPY_MODEL_f9cf69a0eba24dd78baa9c76b7ff381c",
       "value": "removing duplicates: 100%"
      }
     },
     "3c6fe9e6ea0b42ddbdd5b54d0b5e39c7": {
      "model_module": "@jupyter-widgets/controls",
      "model_module_version": "1.5.0",
      "model_name": "FloatProgressModel",
      "state": {
       "bar_style": "success",
       "layout": "IPY_MODEL_69aecf7784534d11877c72f4d26a6044",
       "max": 1,
       "style": "IPY_MODEL_bee8a89e270d4442a78a15b577a8d3b5",
       "value": 1
      }
     },
     "3cd8039858bf45179a0fe507ab05d0ba": {
      "model_module": "@jupyter-widgets/controls",
      "model_module_version": "1.5.0",
      "model_name": "HTMLModel",
      "state": {
       "layout": "IPY_MODEL_38f5a7e68fc94e5c900f578cfea6cdb8",
       "style": "IPY_MODEL_c88519dca311440a904fb674544b813f",
       "value": "removing duplicates: "
      }
     },
     "3d26271a40af4efc8ee95995a9a3a921": {
      "model_module": "@jupyter-widgets/controls",
      "model_module_version": "1.5.0",
      "model_name": "HTMLModel",
      "state": {
       "layout": "IPY_MODEL_27bc2ea336514ec882ce83a0012b3b9b",
       "style": "IPY_MODEL_669a28b9ead84765829761192c57f3ec",
       "value": " 0/0 [00:00&lt;?, ?it/s]"
      }
     },
     "3dc5280d760c4311b1fad2b75b612627": {
      "model_module": "@jupyter-widgets/base",
      "model_module_version": "1.2.0",
      "model_name": "LayoutModel",
      "state": {}
     },
     "3e57cac51b0a4efd849dafc913739687": {
      "model_module": "@jupyter-widgets/controls",
      "model_module_version": "1.5.0",
      "model_name": "ProgressStyleModel",
      "state": {
       "description_width": ""
      }
     },
     "3ec3da3554f545aa8ed9c058b7408903": {
      "model_module": "@jupyter-widgets/controls",
      "model_module_version": "1.5.0",
      "model_name": "HTMLModel",
      "state": {
       "layout": "IPY_MODEL_2c02b1988ea2435a98c9f31d1fd4dca7",
       "style": "IPY_MODEL_75d3ab9843aa44e5877ea15dfb9c5f38",
       "value": "removing duplicates: 100%"
      }
     },
     "3ee28acb154048be87d76981e8ffb227": {
      "model_module": "@jupyter-widgets/controls",
      "model_module_version": "1.5.0",
      "model_name": "FloatProgressModel",
      "state": {
       "bar_style": "success",
       "layout": "IPY_MODEL_042efb859a1342429ab485aca2b35b76",
       "max": 2,
       "style": "IPY_MODEL_2adc54c2583e4e8db0aba27661d247fa",
       "value": 2
      }
     },
     "3efc84d9f8ae4395ae9f03387652d929": {
      "model_module": "@jupyter-widgets/controls",
      "model_module_version": "1.5.0",
      "model_name": "HTMLModel",
      "state": {
       "layout": "IPY_MODEL_bde572249a934812b3896d9f3d251eaa",
       "style": "IPY_MODEL_376e8d73bfeb4e8b90d1ed9b32e461bd",
       "value": "removing duplicates: "
      }
     },
     "3f279f7397014c74a3d186130c09aaad": {
      "model_module": "@jupyter-widgets/base",
      "model_module_version": "1.2.0",
      "model_name": "LayoutModel",
      "state": {}
     },
     "40ada848c0a64e0bb2ae084636970ce9": {
      "model_module": "@jupyter-widgets/controls",
      "model_module_version": "1.5.0",
      "model_name": "HBoxModel",
      "state": {
       "children": [
        "IPY_MODEL_2d20f85c596c4016ada62693abdfd3c1",
        "IPY_MODEL_6d462f299f614cd1bf7276b291020fdf",
        "IPY_MODEL_5c028eee0fc2443cbe6c638d486ed4d1"
       ],
       "layout": "IPY_MODEL_fd4585d4692b49d98a1b5d5c91c30ca4"
      }
     },
     "40d5580832f3459ca08f85756a882b44": {
      "model_module": "@jupyter-widgets/controls",
      "model_module_version": "1.5.0",
      "model_name": "ProgressStyleModel",
      "state": {
       "description_width": ""
      }
     },
     "4232ace57dde48078e0129c118428f1b": {
      "model_module": "@jupyter-widgets/base",
      "model_module_version": "1.2.0",
      "model_name": "LayoutModel",
      "state": {}
     },
     "427b4e46120441a5819b44e7de314fcb": {
      "model_module": "@jupyter-widgets/base",
      "model_module_version": "1.2.0",
      "model_name": "LayoutModel",
      "state": {
       "width": "20px"
      }
     },
     "42b972cdb9494508872804fbd81ccb38": {
      "model_module": "@jupyter-widgets/base",
      "model_module_version": "1.2.0",
      "model_name": "LayoutModel",
      "state": {}
     },
     "43400a86e29047b5831e9495773339c7": {
      "model_module": "@jupyter-widgets/controls",
      "model_module_version": "1.5.0",
      "model_name": "ProgressStyleModel",
      "state": {
       "description_width": ""
      }
     },
     "439205bdf06a429ebe4b1060da1d464a": {
      "model_module": "@jupyter-widgets/base",
      "model_module_version": "1.2.0",
      "model_name": "LayoutModel",
      "state": {}
     },
     "43a5ac6aebf844b7a839913f8baff62f": {
      "model_module": "@jupyter-widgets/controls",
      "model_module_version": "1.5.0",
      "model_name": "DescriptionStyleModel",
      "state": {
       "description_width": ""
      }
     },
     "443de1231ef849b9bd11ab9d5faffc6b": {
      "model_module": "@jupyter-widgets/base",
      "model_module_version": "1.2.0",
      "model_name": "LayoutModel",
      "state": {}
     },
     "4458b20d36b4485c9d44233a95122823": {
      "model_module": "@jupyter-widgets/base",
      "model_module_version": "1.2.0",
      "model_name": "LayoutModel",
      "state": {
       "width": "20px"
      }
     },
     "45d4a9e17833456c9d9f97446b11497e": {
      "model_module": "@jupyter-widgets/base",
      "model_module_version": "1.2.0",
      "model_name": "LayoutModel",
      "state": {}
     },
     "490d10c7d1a84f2593a2eab246098494": {
      "model_module": "@jupyter-widgets/controls",
      "model_module_version": "1.5.0",
      "model_name": "HTMLModel",
      "state": {
       "layout": "IPY_MODEL_c5b546ef58b647cf9dc9f08691941e96",
       "style": "IPY_MODEL_a3f8aefc25364cb6b8a6abee5d1f8200",
       "value": "removing duplicates: "
      }
     },
     "4989b812f8e34d17a1a423abb23547f7": {
      "model_module": "@jupyter-widgets/base",
      "model_module_version": "1.2.0",
      "model_name": "LayoutModel",
      "state": {
       "width": "20px"
      }
     },
     "49ec0ca57e8d4d91b764c6a0d11fb3a5": {
      "model_module": "@jupyter-widgets/controls",
      "model_module_version": "1.5.0",
      "model_name": "HBoxModel",
      "state": {
       "children": [
        "IPY_MODEL_207c135f15b04e3fa671eba1a148317f",
        "IPY_MODEL_8d472e0b89cf4af0934bd26cb8c25379",
        "IPY_MODEL_b7de6ad68c7e4c4fbe529c365233104e"
       ],
       "layout": "IPY_MODEL_cc92230fe4294c7ca62a59858e2c633f"
      }
     },
     "4a1357637c03440faf71c7da0e971954": {
      "model_module": "@jupyter-widgets/controls",
      "model_module_version": "1.5.0",
      "model_name": "HTMLModel",
      "state": {
       "layout": "IPY_MODEL_0c1fd4ae00f54871aad80b12aecdc928",
       "style": "IPY_MODEL_bfe5aa84519241efa061a8f6a7e42871",
       "value": "removing duplicates: 100%"
      }
     },
     "4a34ccc29e244fb0b83589a136f44f94": {
      "model_module": "@jupyter-widgets/base",
      "model_module_version": "1.2.0",
      "model_name": "LayoutModel",
      "state": {}
     },
     "4ad520e729204b359dfbb392f36262ba": {
      "model_module": "@jupyter-widgets/base",
      "model_module_version": "1.2.0",
      "model_name": "LayoutModel",
      "state": {}
     },
     "4ad801272ce545bb92ddf6110267ead3": {
      "model_module": "@jupyter-widgets/base",
      "model_module_version": "1.2.0",
      "model_name": "LayoutModel",
      "state": {}
     },
     "4ba1c62a7f09484d8c1f4fe85eb5b7c2": {
      "model_module": "@jupyter-widgets/controls",
      "model_module_version": "1.5.0",
      "model_name": "DescriptionStyleModel",
      "state": {
       "description_width": ""
      }
     },
     "4bef9afd14b44211a7abfd24e095d36c": {
      "model_module": "@jupyter-widgets/base",
      "model_module_version": "1.2.0",
      "model_name": "LayoutModel",
      "state": {}
     },
     "4c837449e5774606a4bcd5b745b87ca4": {
      "model_module": "@jupyter-widgets/controls",
      "model_module_version": "1.5.0",
      "model_name": "DescriptionStyleModel",
      "state": {
       "description_width": ""
      }
     },
     "4ca05e172b5849eebd97134278aa0fcb": {
      "model_module": "@jupyter-widgets/controls",
      "model_module_version": "1.5.0",
      "model_name": "FloatProgressModel",
      "state": {
       "bar_style": "success",
       "layout": "IPY_MODEL_b197b7414c784d4d8b098bca2395b0b1",
       "max": 1,
       "style": "IPY_MODEL_2de42dc5edaa471fb39fb83afcfc5856"
      }
     },
     "4ed90ee84c39499c83d862827f0b6fa2": {
      "model_module": "@jupyter-widgets/controls",
      "model_module_version": "1.5.0",
      "model_name": "HTMLModel",
      "state": {
       "layout": "IPY_MODEL_9a218e0339304baf8661c86ff3809f4d",
       "style": "IPY_MODEL_4c837449e5774606a4bcd5b745b87ca4",
       "value": "removing duplicates: 100%"
      }
     },
     "4eebc9def60e4aa78bc0ae6f6ec5a046": {
      "model_module": "@jupyter-widgets/controls",
      "model_module_version": "1.5.0",
      "model_name": "HBoxModel",
      "state": {
       "children": [
        "IPY_MODEL_9f49e8aab1f54b9da86bd1d4de4e2728",
        "IPY_MODEL_7224c945429245d7989504b65e1194db",
        "IPY_MODEL_0c8339d9852842e1bfa2689aedec53bb"
       ],
       "layout": "IPY_MODEL_7ee1cfd2d8264cdfb4a5d707cbb5b448"
      }
     },
     "4f8482b478bc4878ad3c4cfac0d761d1": {
      "model_module": "@jupyter-widgets/base",
      "model_module_version": "1.2.0",
      "model_name": "LayoutModel",
      "state": {}
     },
     "4fef2629182f445c9c6f6f871db301e3": {
      "model_module": "@jupyter-widgets/controls",
      "model_module_version": "1.5.0",
      "model_name": "ProgressStyleModel",
      "state": {
       "description_width": ""
      }
     },
     "5018c34ad7fc48fab3e771dc517dfed8": {
      "model_module": "@jupyter-widgets/controls",
      "model_module_version": "1.5.0",
      "model_name": "ProgressStyleModel",
      "state": {
       "description_width": ""
      }
     },
     "508037f3df1e4bc4b1adc96cd29e674f": {
      "model_module": "@jupyter-widgets/controls",
      "model_module_version": "1.5.0",
      "model_name": "HBoxModel",
      "state": {
       "children": [
        "IPY_MODEL_9d9253f80c414d68ab8271b5d1e0cb29",
        "IPY_MODEL_4ca05e172b5849eebd97134278aa0fcb",
        "IPY_MODEL_cc46a9db7dfa4b6e9fcdb37ddeca0ebb"
       ],
       "layout": "IPY_MODEL_985d21cbfb25497d84a7731e2a0dfa85"
      }
     },
     "50b310d809e3491e9ea0a9de6838a337": {
      "model_module": "@jupyter-widgets/base",
      "model_module_version": "1.2.0",
      "model_name": "LayoutModel",
      "state": {}
     },
     "50c35c2333e7460a99e930903b01e2f2": {
      "model_module": "@jupyter-widgets/controls",
      "model_module_version": "1.5.0",
      "model_name": "ProgressStyleModel",
      "state": {
       "description_width": ""
      }
     },
     "527826ca7a0d480284fad724b3f50ab4": {
      "model_module": "@jupyter-widgets/controls",
      "model_module_version": "1.5.0",
      "model_name": "DescriptionStyleModel",
      "state": {
       "description_width": ""
      }
     },
     "5295d4f89a014a99b62bb36501afb3a7": {
      "model_module": "@jupyter-widgets/controls",
      "model_module_version": "1.5.0",
      "model_name": "FloatProgressModel",
      "state": {
       "bar_style": "success",
       "layout": "IPY_MODEL_da79a181ccef4264a35012a6f2e4c4bc",
       "max": 1,
       "style": "IPY_MODEL_d58f8db25fa64990bbf7116e1f25095b"
      }
     },
     "52bd01506ee04fd5a931577206a79b12": {
      "model_module": "@jupyter-widgets/base",
      "model_module_version": "1.2.0",
      "model_name": "LayoutModel",
      "state": {}
     },
     "52c491ebd2bf4a6d988ecfad0201eb37": {
      "model_module": "@jupyter-widgets/base",
      "model_module_version": "1.2.0",
      "model_name": "LayoutModel",
      "state": {}
     },
     "52f17bccb1e34f0ca9a4ac9c602880cd": {
      "model_module": "@jupyter-widgets/base",
      "model_module_version": "1.2.0",
      "model_name": "LayoutModel",
      "state": {}
     },
     "533e9bd771b442cfbf1e40ec9b08b9c9": {
      "model_module": "@jupyter-widgets/controls",
      "model_module_version": "1.5.0",
      "model_name": "ProgressStyleModel",
      "state": {
       "description_width": ""
      }
     },
     "53d519a3360247999c9ff45660304ab6": {
      "model_module": "@jupyter-widgets/controls",
      "model_module_version": "1.5.0",
      "model_name": "HTMLModel",
      "state": {
       "layout": "IPY_MODEL_52c491ebd2bf4a6d988ecfad0201eb37",
       "style": "IPY_MODEL_de9c6f8d884443578c031f5a346b6f72",
       "value": " 0/0 [00:00&lt;?, ?it/s]"
      }
     },
     "54a7c013642f44a3aefc0672ce7d68ca": {
      "model_module": "@jupyter-widgets/controls",
      "model_module_version": "1.5.0",
      "model_name": "DescriptionStyleModel",
      "state": {
       "description_width": ""
      }
     },
     "5604e89d2bac4fcd9d87107ec829de53": {
      "model_module": "@jupyter-widgets/base",
      "model_module_version": "1.2.0",
      "model_name": "LayoutModel",
      "state": {}
     },
     "567051ddf55c4dfebd928cc57d947813": {
      "model_module": "@jupyter-widgets/controls",
      "model_module_version": "1.5.0",
      "model_name": "HBoxModel",
      "state": {
       "children": [
        "IPY_MODEL_956e272058004192abe508d32e9c6518",
        "IPY_MODEL_21f612d3218644bf8450670787920414",
        "IPY_MODEL_81d737c80ec7408babb5ac7f03080b24"
       ],
       "layout": "IPY_MODEL_50b310d809e3491e9ea0a9de6838a337"
      }
     },
     "56742a981a2c43509328ef6c4e1461e8": {
      "model_module": "@jupyter-widgets/controls",
      "model_module_version": "1.5.0",
      "model_name": "DescriptionStyleModel",
      "state": {
       "description_width": ""
      }
     },
     "56e832e35ce845aba9d68ec4793cc4f4": {
      "model_module": "@jupyter-widgets/controls",
      "model_module_version": "1.5.0",
      "model_name": "HBoxModel",
      "state": {
       "children": [
        "IPY_MODEL_264f99d900ca4299b51cdc0e65bf948b",
        "IPY_MODEL_33b36f543c294cd8909512f76971af14",
        "IPY_MODEL_7b035e627ae3475ba78dd05f764ad2c5"
       ],
       "layout": "IPY_MODEL_e3e516da2d384351ae03c39b94eab651"
      }
     },
     "576807575f3b4debb629e10b6a0ae5a2": {
      "model_module": "@jupyter-widgets/base",
      "model_module_version": "1.2.0",
      "model_name": "LayoutModel",
      "state": {}
     },
     "581617fc89e246a2ad8752c2228053fb": {
      "model_module": "@jupyter-widgets/controls",
      "model_module_version": "1.5.0",
      "model_name": "HTMLModel",
      "state": {
       "layout": "IPY_MODEL_91db8ec780524b7c92a34fe39c023747",
       "style": "IPY_MODEL_271efd0230744516ba240dc87b27defe",
       "value": "removing duplicates: 100%"
      }
     },
     "582f23f308d44be5a8b514dbd7193504": {
      "model_module": "@jupyter-widgets/controls",
      "model_module_version": "1.5.0",
      "model_name": "DescriptionStyleModel",
      "state": {
       "description_width": ""
      }
     },
     "589e6d3be4634fda9ddc5b214e9a2868": {
      "model_module": "@jupyter-widgets/controls",
      "model_module_version": "1.5.0",
      "model_name": "DescriptionStyleModel",
      "state": {
       "description_width": ""
      }
     },
     "59f1eeca88054a0180d1e429ec15501e": {
      "model_module": "@jupyter-widgets/controls",
      "model_module_version": "1.5.0",
      "model_name": "HBoxModel",
      "state": {
       "children": [
        "IPY_MODEL_4ed90ee84c39499c83d862827f0b6fa2",
        "IPY_MODEL_e6ef556730674753803cea6a1fdedeef",
        "IPY_MODEL_1a25ad262a44498888ddf6cfc73d3874"
       ],
       "layout": "IPY_MODEL_189fc25a88e74f9bb5422c3f1c899196"
      }
     },
     "5a06dad6d881418da90eefff11ee5e6b": {
      "model_module": "@jupyter-widgets/controls",
      "model_module_version": "1.5.0",
      "model_name": "DescriptionStyleModel",
      "state": {
       "description_width": ""
      }
     },
     "5a5492120dcf49b38af482c6937ac62c": {
      "model_module": "@jupyter-widgets/controls",
      "model_module_version": "1.5.0",
      "model_name": "ProgressStyleModel",
      "state": {
       "description_width": ""
      }
     },
     "5add7a03b3f341e5a5ec47fd050549ee": {
      "model_module": "@jupyter-widgets/base",
      "model_module_version": "1.2.0",
      "model_name": "LayoutModel",
      "state": {}
     },
     "5b2a0f0c62ba4aa0817de4aba4ad7b0b": {
      "model_module": "@jupyter-widgets/base",
      "model_module_version": "1.2.0",
      "model_name": "LayoutModel",
      "state": {}
     },
     "5b6b1e3094214693a76e89b8f85067d1": {
      "model_module": "@jupyter-widgets/controls",
      "model_module_version": "1.5.0",
      "model_name": "HTMLModel",
      "state": {
       "layout": "IPY_MODEL_576807575f3b4debb629e10b6a0ae5a2",
       "style": "IPY_MODEL_9c8972f863304de4872c91f45195d243",
       "value": " 2/2 [00:00&lt;00:00, 685.29it/s]"
      }
     },
     "5b810cefd7dd452ab1789f78f5589d5b": {
      "model_module": "@jupyter-widgets/controls",
      "model_module_version": "1.5.0",
      "model_name": "ProgressStyleModel",
      "state": {
       "description_width": ""
      }
     },
     "5beb8a0013d7443aa182c82b0cec9dd2": {
      "model_module": "@jupyter-widgets/base",
      "model_module_version": "1.2.0",
      "model_name": "LayoutModel",
      "state": {}
     },
     "5c028eee0fc2443cbe6c638d486ed4d1": {
      "model_module": "@jupyter-widgets/controls",
      "model_module_version": "1.5.0",
      "model_name": "HTMLModel",
      "state": {
       "layout": "IPY_MODEL_9e2589b1519d40b19ce81f419aa09bb5",
       "style": "IPY_MODEL_28541e2c059b4d3d9a1ab5ec6e370abe",
       "value": " 0/0 [00:00&lt;?, ?it/s]"
      }
     },
     "5c2e379a74b9410786e8ea02129f706d": {
      "model_module": "@jupyter-widgets/controls",
      "model_module_version": "1.5.0",
      "model_name": "DescriptionStyleModel",
      "state": {
       "description_width": ""
      }
     },
     "5c570db52ebc44c0a896d1f2e4deb899": {
      "model_module": "@jupyter-widgets/base",
      "model_module_version": "1.2.0",
      "model_name": "LayoutModel",
      "state": {}
     },
     "5ce3182db24a4c37a6537e5b55b750f3": {
      "model_module": "@jupyter-widgets/controls",
      "model_module_version": "1.5.0",
      "model_name": "ProgressStyleModel",
      "state": {
       "description_width": ""
      }
     },
     "5e53041d0afc4f6cbc494862a1e6ff8f": {
      "model_module": "@jupyter-widgets/controls",
      "model_module_version": "1.5.0",
      "model_name": "FloatProgressModel",
      "state": {
       "bar_style": "success",
       "layout": "IPY_MODEL_05bdc8e6c6e84296be8fc0e95c814f7e",
       "max": 1,
       "style": "IPY_MODEL_533e9bd771b442cfbf1e40ec9b08b9c9"
      }
     },
     "5ec6c018f71b481ebf136f1b116a5047": {
      "model_module": "@jupyter-widgets/controls",
      "model_module_version": "1.5.0",
      "model_name": "ProgressStyleModel",
      "state": {
       "description_width": ""
      }
     },
     "5f033e2bb17c4704bf03ec47ef3b535c": {
      "model_module": "@jupyter-widgets/controls",
      "model_module_version": "1.5.0",
      "model_name": "DescriptionStyleModel",
      "state": {
       "description_width": ""
      }
     },
     "5ff9753c4fa34d0790245f3cd6392289": {
      "model_module": "@jupyter-widgets/base",
      "model_module_version": "1.2.0",
      "model_name": "LayoutModel",
      "state": {}
     },
     "600c81b6f4dd4af2b0c6ae736b33e9c3": {
      "model_module": "@jupyter-widgets/controls",
      "model_module_version": "1.5.0",
      "model_name": "HTMLModel",
      "state": {
       "layout": "IPY_MODEL_1d138184647646edaa96b31c72232c71",
       "style": "IPY_MODEL_589e6d3be4634fda9ddc5b214e9a2868",
       "value": " 0/0 [00:00&lt;?, ?it/s]"
      }
     },
     "601419520a494c93b7a724378fb49888": {
      "model_module": "@jupyter-widgets/base",
      "model_module_version": "1.2.0",
      "model_name": "LayoutModel",
      "state": {}
     },
     "6202ddc22d9c4dccad0cc07a63c6ce62": {
      "model_module": "@jupyter-widgets/controls",
      "model_module_version": "1.5.0",
      "model_name": "HTMLModel",
      "state": {
       "layout": "IPY_MODEL_b7d4918d401d4755aa85736cf514391f",
       "style": "IPY_MODEL_ada5962aca40491095d44e26e5ee8e18",
       "value": " 1/1 [00:00&lt;00:00, 430.49it/s]"
      }
     },
     "62b7562d3d96445aa02a0354fd9e6793": {
      "model_module": "@jupyter-widgets/base",
      "model_module_version": "1.2.0",
      "model_name": "LayoutModel",
      "state": {}
     },
     "62c96f26a26e4ee3834bf49b5889fe63": {
      "model_module": "@jupyter-widgets/controls",
      "model_module_version": "1.5.0",
      "model_name": "HBoxModel",
      "state": {
       "children": [
        "IPY_MODEL_581617fc89e246a2ad8752c2228053fb",
        "IPY_MODEL_3017f05d63b64e6595545d9e8c873e1f",
        "IPY_MODEL_6202ddc22d9c4dccad0cc07a63c6ce62"
       ],
       "layout": "IPY_MODEL_a14b815fca2a4f5d98632c9925998540"
      }
     },
     "641d3dca1ad747818328be93db8c0cea": {
      "model_module": "@jupyter-widgets/controls",
      "model_module_version": "1.5.0",
      "model_name": "ProgressStyleModel",
      "state": {
       "description_width": ""
      }
     },
     "648d9b71882145b1960b537793849446": {
      "model_module": "@jupyter-widgets/controls",
      "model_module_version": "1.5.0",
      "model_name": "DescriptionStyleModel",
      "state": {
       "description_width": ""
      }
     },
     "64ed85a13b1f4c2e865577f5d2d6a388": {
      "model_module": "@jupyter-widgets/base",
      "model_module_version": "1.2.0",
      "model_name": "LayoutModel",
      "state": {}
     },
     "65d3ea80aa4449589005337ea294bdb6": {
      "model_module": "@jupyter-widgets/controls",
      "model_module_version": "1.5.0",
      "model_name": "ProgressStyleModel",
      "state": {
       "description_width": ""
      }
     },
     "669a28b9ead84765829761192c57f3ec": {
      "model_module": "@jupyter-widgets/controls",
      "model_module_version": "1.5.0",
      "model_name": "DescriptionStyleModel",
      "state": {
       "description_width": ""
      }
     },
     "67126fe7a18141038114b2f21e8180e5": {
      "model_module": "@jupyter-widgets/controls",
      "model_module_version": "1.5.0",
      "model_name": "ProgressStyleModel",
      "state": {
       "description_width": ""
      }
     },
     "6755aef64d7049b184090337acfc3307": {
      "model_module": "@jupyter-widgets/base",
      "model_module_version": "1.2.0",
      "model_name": "LayoutModel",
      "state": {}
     },
     "67b28abe193548e68764ebb0a4753d4f": {
      "model_module": "@jupyter-widgets/base",
      "model_module_version": "1.2.0",
      "model_name": "LayoutModel",
      "state": {}
     },
     "67f167cebaa7456a8376fc2de42d91b3": {
      "model_module": "@jupyter-widgets/controls",
      "model_module_version": "1.5.0",
      "model_name": "ProgressStyleModel",
      "state": {
       "description_width": ""
      }
     },
     "6993a0f4473a4f1c935e8b21fcc9d520": {
      "model_module": "@jupyter-widgets/controls",
      "model_module_version": "1.5.0",
      "model_name": "HTMLModel",
      "state": {
       "layout": "IPY_MODEL_72264890ae4a4bd7bf0a498253086781",
       "style": "IPY_MODEL_c1d47e34eab948b1a195f4e17e67c945",
       "value": " 1/1 [00:00&lt;00:00, 442.44it/s]"
      }
     },
     "69aecf7784534d11877c72f4d26a6044": {
      "model_module": "@jupyter-widgets/base",
      "model_module_version": "1.2.0",
      "model_name": "LayoutModel",
      "state": {}
     },
     "6a025ca3d1804ac4a7b24ddcca2cfe52": {
      "model_module": "@jupyter-widgets/controls",
      "model_module_version": "1.5.0",
      "model_name": "DescriptionStyleModel",
      "state": {
       "description_width": ""
      }
     },
     "6bd71248972c4d80af792a24497873ef": {
      "model_module": "@jupyter-widgets/base",
      "model_module_version": "1.2.0",
      "model_name": "LayoutModel",
      "state": {}
     },
     "6c367a6440b74663a057e8ef213f82f9": {
      "model_module": "@jupyter-widgets/controls",
      "model_module_version": "1.5.0",
      "model_name": "DescriptionStyleModel",
      "state": {
       "description_width": ""
      }
     },
     "6cdd108b52324da3a18363bd60a2f591": {
      "model_module": "@jupyter-widgets/base",
      "model_module_version": "1.2.0",
      "model_name": "LayoutModel",
      "state": {}
     },
     "6ceb3a0d92c7408ebaec9d99750743c6": {
      "model_module": "@jupyter-widgets/base",
      "model_module_version": "1.2.0",
      "model_name": "LayoutModel",
      "state": {}
     },
     "6d462f299f614cd1bf7276b291020fdf": {
      "model_module": "@jupyter-widgets/controls",
      "model_module_version": "1.5.0",
      "model_name": "FloatProgressModel",
      "state": {
       "bar_style": "success",
       "layout": "IPY_MODEL_dbdda3be81124919995f838da1310d6d",
       "max": 1,
       "style": "IPY_MODEL_fc675d3d6fea4e25babfe1880f0f8b0f"
      }
     },
     "6e4929de2ca543a5b103f5d4c35ce17a": {
      "model_module": "@jupyter-widgets/controls",
      "model_module_version": "1.5.0",
      "model_name": "HTMLModel",
      "state": {
       "layout": "IPY_MODEL_5b2a0f0c62ba4aa0817de4aba4ad7b0b",
       "style": "IPY_MODEL_9e07b050616244afafb74ed7f9f74c9a",
       "value": " 0/0 [00:00&lt;?, ?it/s]"
      }
     },
     "6e72af45f2ea41afaeb467ae13d46c1f": {
      "model_module": "@jupyter-widgets/controls",
      "model_module_version": "1.5.0",
      "model_name": "ProgressStyleModel",
      "state": {
       "description_width": ""
      }
     },
     "6eacf4e2e9864204b8582386c6eaad3a": {
      "model_module": "@jupyter-widgets/controls",
      "model_module_version": "1.5.0",
      "model_name": "HTMLModel",
      "state": {
       "layout": "IPY_MODEL_21745bde52ba4c358a54c596ff5cc69d",
       "style": "IPY_MODEL_e0c4b4a3ca704d639fdfa9fc5795ed7f",
       "value": " 0/0 [00:00&lt;?, ?it/s]"
      }
     },
     "707175ef3cca4a19a92820679a1c7fb5": {
      "model_module": "@jupyter-widgets/controls",
      "model_module_version": "1.5.0",
      "model_name": "FloatProgressModel",
      "state": {
       "bar_style": "success",
       "layout": "IPY_MODEL_e4fb1639cb804bab99b6168853eb92ae",
       "max": 1,
       "style": "IPY_MODEL_5b810cefd7dd452ab1789f78f5589d5b"
      }
     },
     "7088575a8d0e4462ab70b36be8e91b59": {
      "model_module": "@jupyter-widgets/base",
      "model_module_version": "1.2.0",
      "model_name": "LayoutModel",
      "state": {}
     },
     "719ea07a808741b781d4fa2db7c1685a": {
      "model_module": "@jupyter-widgets/base",
      "model_module_version": "1.2.0",
      "model_name": "LayoutModel",
      "state": {}
     },
     "71dd368d57844cccb43653d43b257ee5": {
      "model_module": "@jupyter-widgets/controls",
      "model_module_version": "1.5.0",
      "model_name": "DescriptionStyleModel",
      "state": {
       "description_width": ""
      }
     },
     "7224c945429245d7989504b65e1194db": {
      "model_module": "@jupyter-widgets/controls",
      "model_module_version": "1.5.0",
      "model_name": "FloatProgressModel",
      "state": {
       "bar_style": "success",
       "layout": "IPY_MODEL_4bef9afd14b44211a7abfd24e095d36c",
       "max": 1,
       "style": "IPY_MODEL_5018c34ad7fc48fab3e771dc517dfed8",
       "value": 1
      }
     },
     "72264890ae4a4bd7bf0a498253086781": {
      "model_module": "@jupyter-widgets/base",
      "model_module_version": "1.2.0",
      "model_name": "LayoutModel",
      "state": {}
     },
     "72ea4feb39e34b548ae276b59430f8a3": {
      "model_module": "@jupyter-widgets/controls",
      "model_module_version": "1.5.0",
      "model_name": "HBoxModel",
      "state": {
       "children": [
        "IPY_MODEL_b6f1089e934b4b6191f38811fa23c546",
        "IPY_MODEL_ea31b37ffed64453b63900579ace41de",
        "IPY_MODEL_31ef29be185e41bfb5838d687ae11332"
       ],
       "layout": "IPY_MODEL_2b7ca7db5946459394282e150951c6db"
      }
     },
     "7422fda4c93f46f9afa381687562b235": {
      "model_module": "@jupyter-widgets/controls",
      "model_module_version": "1.5.0",
      "model_name": "HBoxModel",
      "state": {
       "children": [
        "IPY_MODEL_08f1cee592454445be490908571e8361",
        "IPY_MODEL_80e4bf490edb4de6bd96715d9cefa6b4",
        "IPY_MODEL_1f2f21113a614a0daa0ea828cbf6e455"
       ],
       "layout": "IPY_MODEL_439205bdf06a429ebe4b1060da1d464a"
      }
     },
     "74308d446e6f40a6bd48b52341df0241": {
      "model_module": "@jupyter-widgets/controls",
      "model_module_version": "1.5.0",
      "model_name": "FloatProgressModel",
      "state": {
       "bar_style": "success",
       "layout": "IPY_MODEL_1c2524b137284791a0782e5908c36651",
       "max": 1,
       "style": "IPY_MODEL_67126fe7a18141038114b2f21e8180e5",
       "value": 1
      }
     },
     "74ef827c8bbb43ab9683de9dd873bc11": {
      "model_module": "@jupyter-widgets/controls",
      "model_module_version": "1.5.0",
      "model_name": "FloatProgressModel",
      "state": {
       "bar_style": "success",
       "layout": "IPY_MODEL_ad63f4adffe743b385164495179140a8",
       "max": 1,
       "style": "IPY_MODEL_43400a86e29047b5831e9495773339c7"
      }
     },
     "75cf9dcf679e4a168a0bc5c52bcdc737": {
      "model_module": "@jupyter-widgets/base",
      "model_module_version": "1.2.0",
      "model_name": "LayoutModel",
      "state": {}
     },
     "75d3ab9843aa44e5877ea15dfb9c5f38": {
      "model_module": "@jupyter-widgets/controls",
      "model_module_version": "1.5.0",
      "model_name": "DescriptionStyleModel",
      "state": {
       "description_width": ""
      }
     },
     "761baad1e5df4df4ac39b3a21c89c976": {
      "model_module": "@jupyter-widgets/controls",
      "model_module_version": "1.5.0",
      "model_name": "FloatProgressModel",
      "state": {
       "bar_style": "success",
       "layout": "IPY_MODEL_7088575a8d0e4462ab70b36be8e91b59",
       "max": 2,
       "style": "IPY_MODEL_d120b50cd7eb40d8ba338488debde67e",
       "value": 2
      }
     },
     "764884a127d04e518c235e45763a8e5a": {
      "model_module": "@jupyter-widgets/controls",
      "model_module_version": "1.5.0",
      "model_name": "HBoxModel",
      "state": {
       "children": [
        "IPY_MODEL_ae4c9ce7148c4a9f83b7cefe89f0d588",
        "IPY_MODEL_5e53041d0afc4f6cbc494862a1e6ff8f",
        "IPY_MODEL_07319fe5feee417a9c51fbec4475ab7d"
       ],
       "layout": "IPY_MODEL_cad14b9fd3c64ce890d5a1c71fcafb29"
      }
     },
     "76958649608d45a6a549499995e249f2": {
      "model_module": "@jupyter-widgets/base",
      "model_module_version": "1.2.0",
      "model_name": "LayoutModel",
      "state": {}
     },
     "76c612559fd8457e95fc94c162a30f7d": {
      "model_module": "@jupyter-widgets/base",
      "model_module_version": "1.2.0",
      "model_name": "LayoutModel",
      "state": {}
     },
     "7753f662824b42b498c3df5823469cce": {
      "model_module": "@jupyter-widgets/controls",
      "model_module_version": "1.5.0",
      "model_name": "FloatProgressModel",
      "state": {
       "bar_style": "success",
       "layout": "IPY_MODEL_ca030a940ff74191b62e40dd9ca4e3f2",
       "max": 1,
       "style": "IPY_MODEL_935fff34a4ff45e788a74e2ca486eb38"
      }
     },
     "7ab3a57256734f078170cdfe703ec79c": {
      "model_module": "@jupyter-widgets/controls",
      "model_module_version": "1.5.0",
      "model_name": "DescriptionStyleModel",
      "state": {
       "description_width": ""
      }
     },
     "7b035e627ae3475ba78dd05f764ad2c5": {
      "model_module": "@jupyter-widgets/controls",
      "model_module_version": "1.5.0",
      "model_name": "HTMLModel",
      "state": {
       "layout": "IPY_MODEL_fe4a9799fa374a2f82e06e09e3f9b8cd",
       "style": "IPY_MODEL_02d5f773ebfb46908934f42fc064458f",
       "value": " 1/1 [00:00&lt;00:00, 481.33it/s]"
      }
     },
     "7b1bb38f9bb841e6b519afb684c8cb52": {
      "model_module": "@jupyter-widgets/base",
      "model_module_version": "1.2.0",
      "model_name": "LayoutModel",
      "state": {}
     },
     "7b1ca7cb2a4d4609978e5c4c0a07adcb": {
      "model_module": "@jupyter-widgets/controls",
      "model_module_version": "1.5.0",
      "model_name": "DescriptionStyleModel",
      "state": {
       "description_width": ""
      }
     },
     "7bdfb91199d24108b6d96855f65bd4f9": {
      "model_module": "@jupyter-widgets/controls",
      "model_module_version": "1.5.0",
      "model_name": "HTMLModel",
      "state": {
       "layout": "IPY_MODEL_601419520a494c93b7a724378fb49888",
       "style": "IPY_MODEL_5c2e379a74b9410786e8ea02129f706d",
       "value": " 0/0 [00:00&lt;?, ?it/s]"
      }
     },
     "7e6c87caf02f450392482d46f27037f6": {
      "model_module": "@jupyter-widgets/base",
      "model_module_version": "1.2.0",
      "model_name": "LayoutModel",
      "state": {}
     },
     "7ee1cfd2d8264cdfb4a5d707cbb5b448": {
      "model_module": "@jupyter-widgets/base",
      "model_module_version": "1.2.0",
      "model_name": "LayoutModel",
      "state": {}
     },
     "7fc4a11951ff4e918bdb569561d149f7": {
      "model_module": "@jupyter-widgets/controls",
      "model_module_version": "1.5.0",
      "model_name": "FloatProgressModel",
      "state": {
       "bar_style": "success",
       "layout": "IPY_MODEL_dd27cac959074845a9838c20e76f229d",
       "max": 1,
       "style": "IPY_MODEL_f284d77db5054e459108cb457f0b4d9c"
      }
     },
     "7fcb066d90b748a683dcb8ea431399e8": {
      "model_module": "@jupyter-widgets/controls",
      "model_module_version": "1.5.0",
      "model_name": "DescriptionStyleModel",
      "state": {
       "description_width": ""
      }
     },
     "803175a6cf7c498cb5d250865bdc4894": {
      "model_module": "@jupyter-widgets/controls",
      "model_module_version": "1.5.0",
      "model_name": "HBoxModel",
      "state": {
       "children": [
        "IPY_MODEL_145c1af3799242c98f2f8466b572dea2",
        "IPY_MODEL_74308d446e6f40a6bd48b52341df0241",
        "IPY_MODEL_98861802484c4d05b0543fc7a19d5aee"
       ],
       "layout": "IPY_MODEL_d99b373c5d254e79b18be7397be76a5c"
      }
     },
     "806c5904d04c4529b8a22f901b20e80c": {
      "model_module": "@jupyter-widgets/base",
      "model_module_version": "1.2.0",
      "model_name": "LayoutModel",
      "state": {}
     },
     "80e4bf490edb4de6bd96715d9cefa6b4": {
      "model_module": "@jupyter-widgets/controls",
      "model_module_version": "1.5.0",
      "model_name": "FloatProgressModel",
      "state": {
       "bar_style": "success",
       "layout": "IPY_MODEL_097a828aa9cb40e4921198e271f522bf",
       "max": 1,
       "style": "IPY_MODEL_641d3dca1ad747818328be93db8c0cea",
       "value": 1
      }
     },
     "8166e8a9b1044064953564fb82c066e2": {
      "model_module": "@jupyter-widgets/base",
      "model_module_version": "1.2.0",
      "model_name": "LayoutModel",
      "state": {}
     },
     "81b7632bffdf4d8193f63949451c2c69": {
      "model_module": "@jupyter-widgets/base",
      "model_module_version": "1.2.0",
      "model_name": "LayoutModel",
      "state": {}
     },
     "81d737c80ec7408babb5ac7f03080b24": {
      "model_module": "@jupyter-widgets/controls",
      "model_module_version": "1.5.0",
      "model_name": "HTMLModel",
      "state": {
       "layout": "IPY_MODEL_d45680e4145e40849f860f7078e0b4c3",
       "style": "IPY_MODEL_b1a9ca9c8d19463fb2694afef8b034b2",
       "value": " 0/0 [00:00&lt;?, ?it/s]"
      }
     },
     "836845a445cc490f83d0cf370c40ed76": {
      "model_module": "@jupyter-widgets/base",
      "model_module_version": "1.2.0",
      "model_name": "LayoutModel",
      "state": {}
     },
     "84b9f04e6517482489901886c0a96971": {
      "model_module": "@jupyter-widgets/base",
      "model_module_version": "1.2.0",
      "model_name": "LayoutModel",
      "state": {}
     },
     "85188456d2064eb4ad4c52814f4948c5": {
      "model_module": "@jupyter-widgets/controls",
      "model_module_version": "1.5.0",
      "model_name": "HBoxModel",
      "state": {
       "children": [
        "IPY_MODEL_3ba760cfeb9a4a948d9175fca1fa88e2",
        "IPY_MODEL_74ef827c8bbb43ab9683de9dd873bc11",
        "IPY_MODEL_0ef3a00e8b86467ba2525c81ec6b249c"
       ],
       "layout": "IPY_MODEL_99c2fc07d3564b21999d4356f292bbc8"
      }
     },
     "87544bde15f9457b95608ead833a79d2": {
      "model_module": "@jupyter-widgets/controls",
      "model_module_version": "1.5.0",
      "model_name": "DescriptionStyleModel",
      "state": {
       "description_width": ""
      }
     },
     "883751302df04272b07624b9b87fc5f2": {
      "model_module": "@jupyter-widgets/controls",
      "model_module_version": "1.5.0",
      "model_name": "HBoxModel",
      "state": {
       "children": [
        "IPY_MODEL_01b8b70df47449f6bc3896d7dcef2919",
        "IPY_MODEL_df9b1152cf81445782d21143568bcc2a",
        "IPY_MODEL_a03ec7355ace4d6989afd2c3e704de4c"
       ],
       "layout": "IPY_MODEL_00ca436447c44cce9e38035aea5f1bfe"
      }
     },
     "8977effa28b54ccfb4012f9d1e392437": {
      "model_module": "@jupyter-widgets/base",
      "model_module_version": "1.2.0",
      "model_name": "LayoutModel",
      "state": {}
     },
     "89ab339dc5c447f7a443c44b674dd26f": {
      "model_module": "@jupyter-widgets/controls",
      "model_module_version": "1.5.0",
      "model_name": "HTMLModel",
      "state": {
       "layout": "IPY_MODEL_42b972cdb9494508872804fbd81ccb38",
       "style": "IPY_MODEL_b67ab28b396e4213be9a50c2430f8296",
       "value": " 1/1 [00:00&lt;00:00, 489.30it/s]"
      }
     },
     "89f7f011029244bdab4c9d4076cb6285": {
      "model_module": "@jupyter-widgets/controls",
      "model_module_version": "1.5.0",
      "model_name": "HBoxModel",
      "state": {
       "children": [
        "IPY_MODEL_313f6e7399014aac874164d6f3651bce",
        "IPY_MODEL_a74d52e321e8416093fc063160cde6fd",
        "IPY_MODEL_a7a51adfdefb498cb5d86e93c82effb1"
       ],
       "layout": "IPY_MODEL_dadc8e9b6eac43a68a744f5ca54d87c8"
      }
     },
     "8a6a20df04394f368924b55f0311b46b": {
      "model_module": "@jupyter-widgets/controls",
      "model_module_version": "1.5.0",
      "model_name": "FloatProgressModel",
      "state": {
       "bar_style": "success",
       "layout": "IPY_MODEL_18a24851ff714fdcbf0b41077f07b72f",
       "max": 1,
       "style": "IPY_MODEL_e397f2d5e83f44ce8c0adb8a86f3ac5c",
       "value": 1
      }
     },
     "8bd426c88bd9450ebba7886eef2865eb": {
      "model_module": "@jupyter-widgets/base",
      "model_module_version": "1.2.0",
      "model_name": "LayoutModel",
      "state": {}
     },
     "8c744b7609904670928b3ffa8178795f": {
      "model_module": "@jupyter-widgets/controls",
      "model_module_version": "1.5.0",
      "model_name": "DescriptionStyleModel",
      "state": {
       "description_width": ""
      }
     },
     "8d472e0b89cf4af0934bd26cb8c25379": {
      "model_module": "@jupyter-widgets/controls",
      "model_module_version": "1.5.0",
      "model_name": "FloatProgressModel",
      "state": {
       "bar_style": "success",
       "layout": "IPY_MODEL_a079459bd3a649c09878b29af6b4e634",
       "max": 11,
       "style": "IPY_MODEL_50c35c2333e7460a99e930903b01e2f2",
       "value": 11
      }
     },
     "8dc4545ae7fd46208f1459c500ecf1d3": {
      "model_module": "@jupyter-widgets/controls",
      "model_module_version": "1.5.0",
      "model_name": "HBoxModel",
      "state": {
       "children": [
        "IPY_MODEL_ffa59ff49a3f4bddac0a609b16e5de30",
        "IPY_MODEL_9e3ba485cd1642489c4869f9314adcf3",
        "IPY_MODEL_f1b08b930d6a4bf4b9b438c39e54c657"
       ],
       "layout": "IPY_MODEL_4ad520e729204b359dfbb392f36262ba"
      }
     },
     "8f6f59772c7b47d1b8038d3b26e1c1c4": {
      "model_module": "@jupyter-widgets/controls",
      "model_module_version": "1.5.0",
      "model_name": "HTMLModel",
      "state": {
       "layout": "IPY_MODEL_da96ae517c884992adbda7104d1d805b",
       "style": "IPY_MODEL_ceda21883a5f4899ac1d8fcebcdd32bf",
       "value": "removing duplicates: "
      }
     },
     "8f7675da568f4f148c0c5a163b6cea0c": {
      "model_module": "@jupyter-widgets/controls",
      "model_module_version": "1.5.0",
      "model_name": "ProgressStyleModel",
      "state": {
       "description_width": ""
      }
     },
     "90732a9f9de84ea2842921879c3f2a61": {
      "model_module": "@jupyter-widgets/controls",
      "model_module_version": "1.5.0",
      "model_name": "DescriptionStyleModel",
      "state": {
       "description_width": ""
      }
     },
     "9196162a83f84c2f8818edc83f46dac6": {
      "model_module": "@jupyter-widgets/controls",
      "model_module_version": "1.5.0",
      "model_name": "DescriptionStyleModel",
      "state": {
       "description_width": ""
      }
     },
     "91db8ec780524b7c92a34fe39c023747": {
      "model_module": "@jupyter-widgets/base",
      "model_module_version": "1.2.0",
      "model_name": "LayoutModel",
      "state": {}
     },
     "91df471727074861a2a799830ad6c43d": {
      "model_module": "@jupyter-widgets/controls",
      "model_module_version": "1.5.0",
      "model_name": "HBoxModel",
      "state": {
       "children": [
        "IPY_MODEL_fd33fe4fc17f4e1ea8b3e5451cd77389",
        "IPY_MODEL_5295d4f89a014a99b62bb36501afb3a7",
        "IPY_MODEL_6e4929de2ca543a5b103f5d4c35ce17a"
       ],
       "layout": "IPY_MODEL_f4330203587544b89ef33235961b43f6"
      }
     },
     "922f20e3167c4168821a7e15e322dee0": {
      "model_module": "@jupyter-widgets/base",
      "model_module_version": "1.2.0",
      "model_name": "LayoutModel",
      "state": {}
     },
     "92cedb99dfaa4cf3a0b9a04152da879f": {
      "model_module": "@jupyter-widgets/base",
      "model_module_version": "1.2.0",
      "model_name": "LayoutModel",
      "state": {}
     },
     "935fff34a4ff45e788a74e2ca486eb38": {
      "model_module": "@jupyter-widgets/controls",
      "model_module_version": "1.5.0",
      "model_name": "ProgressStyleModel",
      "state": {
       "description_width": ""
      }
     },
     "9396e5e8cfc24a91b84643a716eea8e3": {
      "model_module": "@jupyter-widgets/base",
      "model_module_version": "1.2.0",
      "model_name": "LayoutModel",
      "state": {
       "width": "20px"
      }
     },
     "94ea3646c0c44fac9a4e2f66b34271ad": {
      "model_module": "@jupyter-widgets/controls",
      "model_module_version": "1.5.0",
      "model_name": "HTMLModel",
      "state": {
       "layout": "IPY_MODEL_dae22dfc9ef14c56858816ff80548a9d",
       "style": "IPY_MODEL_97bdb24a861b415182c9ba1a8209bff7",
       "value": "removing duplicates: 100%"
      }
     },
     "94fc3702b27b4a38a02999cb1cd94e07": {
      "model_module": "@jupyter-widgets/base",
      "model_module_version": "1.2.0",
      "model_name": "LayoutModel",
      "state": {}
     },
     "951c6ae4521f4276a19db871d9860e66": {
      "model_module": "@jupyter-widgets/controls",
      "model_module_version": "1.5.0",
      "model_name": "DescriptionStyleModel",
      "state": {
       "description_width": ""
      }
     },
     "95336e585cae438f8bffce3c337a72eb": {
      "model_module": "@jupyter-widgets/controls",
      "model_module_version": "1.5.0",
      "model_name": "FloatProgressModel",
      "state": {
       "bar_style": "success",
       "layout": "IPY_MODEL_a7ec8903d92a4763a2f6a5574666a051",
       "max": 1,
       "style": "IPY_MODEL_65d3ea80aa4449589005337ea294bdb6",
       "value": 1
      }
     },
     "9543d1b56f65462da7716881adb3b272": {
      "model_module": "@jupyter-widgets/controls",
      "model_module_version": "1.5.0",
      "model_name": "DescriptionStyleModel",
      "state": {
       "description_width": ""
      }
     },
     "956e272058004192abe508d32e9c6518": {
      "model_module": "@jupyter-widgets/controls",
      "model_module_version": "1.5.0",
      "model_name": "HTMLModel",
      "state": {
       "layout": "IPY_MODEL_81b7632bffdf4d8193f63949451c2c69",
       "style": "IPY_MODEL_edd30270baf841989bf3326bc2d81d80",
       "value": "removing duplicates: "
      }
     },
     "9613f3ccbd5945d79647c4e9227478b6": {
      "model_module": "@jupyter-widgets/controls",
      "model_module_version": "1.5.0",
      "model_name": "DescriptionStyleModel",
      "state": {
       "description_width": ""
      }
     },
     "9614681501514ead96ca0c4759279f01": {
      "model_module": "@jupyter-widgets/base",
      "model_module_version": "1.2.0",
      "model_name": "LayoutModel",
      "state": {}
     },
     "9663990aa8f1475c920e3822e6a8b2ca": {
      "model_module": "@jupyter-widgets/base",
      "model_module_version": "1.2.0",
      "model_name": "LayoutModel",
      "state": {}
     },
     "979a3eb95d334651b53e71fda10c26d4": {
      "model_module": "@jupyter-widgets/base",
      "model_module_version": "1.2.0",
      "model_name": "LayoutModel",
      "state": {}
     },
     "97bdb24a861b415182c9ba1a8209bff7": {
      "model_module": "@jupyter-widgets/controls",
      "model_module_version": "1.5.0",
      "model_name": "DescriptionStyleModel",
      "state": {
       "description_width": ""
      }
     },
     "97d36b04e012409485d40fff8565fbd9": {
      "model_module": "@jupyter-widgets/controls",
      "model_module_version": "1.5.0",
      "model_name": "FloatProgressModel",
      "state": {
       "bar_style": "success",
       "layout": "IPY_MODEL_6755aef64d7049b184090337acfc3307",
       "max": 3,
       "style": "IPY_MODEL_3a9a79d8c26949dfbd58b80c3fa66f23",
       "value": 3
      }
     },
     "97dad83e7a174db8a1cbc0e1174beb2a": {
      "model_module": "@jupyter-widgets/controls",
      "model_module_version": "1.5.0",
      "model_name": "HBoxModel",
      "state": {
       "children": [
        "IPY_MODEL_4a1357637c03440faf71c7da0e971954",
        "IPY_MODEL_1d64430860db4ebcbac9e7b3c85ea8bb",
        "IPY_MODEL_1fc0213cbc9340af9dc702ab6bbda430"
       ],
       "layout": "IPY_MODEL_3dc5280d760c4311b1fad2b75b612627"
      }
     },
     "9815cd7e0acb415ea4d083b48dd775c3": {
      "model_module": "@jupyter-widgets/base",
      "model_module_version": "1.2.0",
      "model_name": "LayoutModel",
      "state": {}
     },
     "98336e1b69e94e51a231d54054b3ef3a": {
      "model_module": "@jupyter-widgets/base",
      "model_module_version": "1.2.0",
      "model_name": "LayoutModel",
      "state": {}
     },
     "985d21cbfb25497d84a7731e2a0dfa85": {
      "model_module": "@jupyter-widgets/base",
      "model_module_version": "1.2.0",
      "model_name": "LayoutModel",
      "state": {}
     },
     "98861802484c4d05b0543fc7a19d5aee": {
      "model_module": "@jupyter-widgets/controls",
      "model_module_version": "1.5.0",
      "model_name": "HTMLModel",
      "state": {
       "layout": "IPY_MODEL_12017c6cad4942d189d2dab7538e6720",
       "style": "IPY_MODEL_25a863b311564c43876602bd3d5a6591",
       "value": " 1/1 [00:00&lt;00:00, 546.28it/s]"
      }
     },
     "9995b2d550184dada3ebaff287ad2b16": {
      "model_module": "@jupyter-widgets/controls",
      "model_module_version": "1.5.0",
      "model_name": "DescriptionStyleModel",
      "state": {
       "description_width": ""
      }
     },
     "99960f6cedf944b496cea750ac0514f7": {
      "model_module": "@jupyter-widgets/controls",
      "model_module_version": "1.5.0",
      "model_name": "DescriptionStyleModel",
      "state": {
       "description_width": ""
      }
     },
     "99c2fc07d3564b21999d4356f292bbc8": {
      "model_module": "@jupyter-widgets/base",
      "model_module_version": "1.2.0",
      "model_name": "LayoutModel",
      "state": {}
     },
     "99c5d42bbaf244c58a7fd336d3866b62": {
      "model_module": "@jupyter-widgets/base",
      "model_module_version": "1.2.0",
      "model_name": "LayoutModel",
      "state": {}
     },
     "9a218e0339304baf8661c86ff3809f4d": {
      "model_module": "@jupyter-widgets/base",
      "model_module_version": "1.2.0",
      "model_name": "LayoutModel",
      "state": {}
     },
     "9ab83d835e23464db0130afb4baea072": {
      "model_module": "@jupyter-widgets/controls",
      "model_module_version": "1.5.0",
      "model_name": "HBoxModel",
      "state": {
       "children": [
        "IPY_MODEL_03a2e34044214e9fa3ee4c47447ab7ea",
        "IPY_MODEL_3ee28acb154048be87d76981e8ffb227",
        "IPY_MODEL_ff0e540bce6246de9fe85c31251032e7"
       ],
       "layout": "IPY_MODEL_8977effa28b54ccfb4012f9d1e392437"
      }
     },
     "9ba7f17873224b1296db5f959ba0c6f7": {
      "model_module": "@jupyter-widgets/controls",
      "model_module_version": "1.5.0",
      "model_name": "DescriptionStyleModel",
      "state": {
       "description_width": ""
      }
     },
     "9c8972f863304de4872c91f45195d243": {
      "model_module": "@jupyter-widgets/controls",
      "model_module_version": "1.5.0",
      "model_name": "DescriptionStyleModel",
      "state": {
       "description_width": ""
      }
     },
     "9d9253f80c414d68ab8271b5d1e0cb29": {
      "model_module": "@jupyter-widgets/controls",
      "model_module_version": "1.5.0",
      "model_name": "HTMLModel",
      "state": {
       "layout": "IPY_MODEL_c58d4490fa9e451d9a0e72a13814a96e",
       "style": "IPY_MODEL_7ab3a57256734f078170cdfe703ec79c",
       "value": "removing duplicates: "
      }
     },
     "9e07b050616244afafb74ed7f9f74c9a": {
      "model_module": "@jupyter-widgets/controls",
      "model_module_version": "1.5.0",
      "model_name": "DescriptionStyleModel",
      "state": {
       "description_width": ""
      }
     },
     "9e2589b1519d40b19ce81f419aa09bb5": {
      "model_module": "@jupyter-widgets/base",
      "model_module_version": "1.2.0",
      "model_name": "LayoutModel",
      "state": {}
     },
     "9e3ba485cd1642489c4869f9314adcf3": {
      "model_module": "@jupyter-widgets/controls",
      "model_module_version": "1.5.0",
      "model_name": "FloatProgressModel",
      "state": {
       "bar_style": "success",
       "layout": "IPY_MODEL_b4fb4c0d29184f00a1a94e64f44b5de9",
       "max": 1,
       "style": "IPY_MODEL_e6cab85e5b7b472fab5c10de18977bf6"
      }
     },
     "9e45fc2f32dd4214a0abe0ec215e59b7": {
      "model_module": "@jupyter-widgets/base",
      "model_module_version": "1.2.0",
      "model_name": "LayoutModel",
      "state": {
       "width": "20px"
      }
     },
     "9e92f23aa7fb47c3bbb49c665b613d11": {
      "model_module": "@jupyter-widgets/controls",
      "model_module_version": "1.5.0",
      "model_name": "DescriptionStyleModel",
      "state": {
       "description_width": ""
      }
     },
     "9f3c6566f3024f62bf94d2902f63cad7": {
      "model_module": "@jupyter-widgets/base",
      "model_module_version": "1.2.0",
      "model_name": "LayoutModel",
      "state": {}
     },
     "9f49e8aab1f54b9da86bd1d4de4e2728": {
      "model_module": "@jupyter-widgets/controls",
      "model_module_version": "1.5.0",
      "model_name": "HTMLModel",
      "state": {
       "layout": "IPY_MODEL_06934048575a4abeb5c1be8bdab94a16",
       "style": "IPY_MODEL_39f0a0649fd048caa275fe8672779c98",
       "value": "removing duplicates: 100%"
      }
     },
     "a03ec7355ace4d6989afd2c3e704de4c": {
      "model_module": "@jupyter-widgets/controls",
      "model_module_version": "1.5.0",
      "model_name": "HTMLModel",
      "state": {
       "layout": "IPY_MODEL_8166e8a9b1044064953564fb82c066e2",
       "style": "IPY_MODEL_25af86f99da24f72b15a12ab3ebe1f6c",
       "value": " 35/35 [00:00&lt;00:00, 14605.58it/s]"
      }
     },
     "a079459bd3a649c09878b29af6b4e634": {
      "model_module": "@jupyter-widgets/base",
      "model_module_version": "1.2.0",
      "model_name": "LayoutModel",
      "state": {}
     },
     "a14b815fca2a4f5d98632c9925998540": {
      "model_module": "@jupyter-widgets/base",
      "model_module_version": "1.2.0",
      "model_name": "LayoutModel",
      "state": {}
     },
     "a1901cc0b19041cea9983ffb233ae29a": {
      "model_module": "@jupyter-widgets/controls",
      "model_module_version": "1.5.0",
      "model_name": "HTMLModel",
      "state": {
       "layout": "IPY_MODEL_25feddf1274644a9b09cad9fa22b2c74",
       "style": "IPY_MODEL_9e92f23aa7fb47c3bbb49c665b613d11",
       "value": " 0/0 [00:00&lt;?, ?it/s]"
      }
     },
     "a1c262dd6e574d9e8f012ffe2e33177d": {
      "model_module": "@jupyter-widgets/controls",
      "model_module_version": "1.5.0",
      "model_name": "FloatProgressModel",
      "state": {
       "bar_style": "success",
       "layout": "IPY_MODEL_84b9f04e6517482489901886c0a96971",
       "max": 1,
       "style": "IPY_MODEL_8f7675da568f4f148c0c5a163b6cea0c",
       "value": 1
      }
     },
     "a23e0898e4db4b1aa0ddfeae369955ee": {
      "model_module": "@jupyter-widgets/controls",
      "model_module_version": "1.5.0",
      "model_name": "HTMLModel",
      "state": {
       "layout": "IPY_MODEL_ed78ad43d01e41e3aa90e496ba19ce2e",
       "style": "IPY_MODEL_9196162a83f84c2f8818edc83f46dac6",
       "value": "removing duplicates: "
      }
     },
     "a2696fc029aa4a94965172937dfcb9c5": {
      "model_module": "@jupyter-widgets/controls",
      "model_module_version": "1.5.0",
      "model_name": "HTMLModel",
      "state": {
       "layout": "IPY_MODEL_3f279f7397014c74a3d186130c09aaad",
       "style": "IPY_MODEL_71dd368d57844cccb43653d43b257ee5",
       "value": " 35/35 [00:19&lt;00:00, 10.34files/s, ./data_in/simrad/y / wcd]"
      }
     },
     "a2de05045aa64f5fa2d16dd06aedb9a6": {
      "model_module": "@jupyter-widgets/controls",
      "model_module_version": "1.5.0",
      "model_name": "HTMLModel",
      "state": {
       "layout": "IPY_MODEL_ac3300ab320c475a967212009d935358",
       "style": "IPY_MODEL_99960f6cedf944b496cea750ac0514f7",
       "value": " 0/0 [00:00&lt;?, ?it/s]"
      }
     },
     "a2eb94ab809c4cf796ee53b488a60da4": {
      "model_module": "@jupyter-widgets/controls",
      "model_module_version": "1.5.0",
      "model_name": "DescriptionStyleModel",
      "state": {
       "description_width": ""
      }
     },
     "a39ac432f54046b39e7ed8cd20cfa867": {
      "model_module": "@jupyter-widgets/controls",
      "model_module_version": "1.5.0",
      "model_name": "FloatProgressModel",
      "state": {
       "bar_style": "success",
       "layout": "IPY_MODEL_427b4e46120441a5819b44e7de314fcb",
       "max": 1,
       "style": "IPY_MODEL_bc750a5f376349548f538b74327206c1"
      }
     },
     "a3dafc88cbd5426a8988fbea4699f241": {
      "model_module": "@jupyter-widgets/controls",
      "model_module_version": "1.5.0",
      "model_name": "HBoxModel",
      "state": {
       "children": [
        "IPY_MODEL_f00f2570fc8e460ca94fc119ba3bd019",
        "IPY_MODEL_a1c262dd6e574d9e8f012ffe2e33177d",
        "IPY_MODEL_3a7eb780a0f343ff83f2180c2312c58b"
       ],
       "layout": "IPY_MODEL_6bd71248972c4d80af792a24497873ef"
      }
     },
     "a3f8aefc25364cb6b8a6abee5d1f8200": {
      "model_module": "@jupyter-widgets/controls",
      "model_module_version": "1.5.0",
      "model_name": "DescriptionStyleModel",
      "state": {
       "description_width": ""
      }
     },
     "a442da774d6647bdaf638e47b4e5358d": {
      "model_module": "@jupyter-widgets/controls",
      "model_module_version": "1.5.0",
      "model_name": "DescriptionStyleModel",
      "state": {
       "description_width": ""
      }
     },
     "a4c67eeeaab04f03af805f6c1b05bb33": {
      "model_module": "@jupyter-widgets/controls",
      "model_module_version": "1.5.0",
      "model_name": "DescriptionStyleModel",
      "state": {
       "description_width": ""
      }
     },
     "a552e0b79c34476b919ad492bd1907fd": {
      "model_module": "@jupyter-widgets/base",
      "model_module_version": "1.2.0",
      "model_name": "LayoutModel",
      "state": {}
     },
     "a74d52e321e8416093fc063160cde6fd": {
      "model_module": "@jupyter-widgets/controls",
      "model_module_version": "1.5.0",
      "model_name": "FloatProgressModel",
      "state": {
       "bar_style": "success",
       "layout": "IPY_MODEL_d7ba97160f7a48bf88e0498a3d05ec26",
       "max": 1,
       "style": "IPY_MODEL_d0b22211ec6845d78bebfc22974051f5",
       "value": 1
      }
     },
     "a7a51adfdefb498cb5d86e93c82effb1": {
      "model_module": "@jupyter-widgets/controls",
      "model_module_version": "1.5.0",
      "model_name": "HTMLModel",
      "state": {
       "layout": "IPY_MODEL_ee6dbd807430440fbcd8e4446834ed75",
       "style": "IPY_MODEL_0fe6652224544dcb9fe4633745d45a45",
       "value": " 1/1 [00:00&lt;00:00, 592.67it/s]"
      }
     },
     "a7bdcf8872ba41ee8af7a920edce984c": {
      "model_module": "@jupyter-widgets/controls",
      "model_module_version": "1.5.0",
      "model_name": "DescriptionStyleModel",
      "state": {
       "description_width": ""
      }
     },
     "a7cdc83c8b99498f8e2ac6a0d8f08362": {
      "model_module": "@jupyter-widgets/controls",
      "model_module_version": "1.5.0",
      "model_name": "DescriptionStyleModel",
      "state": {
       "description_width": ""
      }
     },
     "a7ec8903d92a4763a2f6a5574666a051": {
      "model_module": "@jupyter-widgets/base",
      "model_module_version": "1.2.0",
      "model_name": "LayoutModel",
      "state": {}
     },
     "a821fb125b7049cebc56d859062a4aa6": {
      "model_module": "@jupyter-widgets/base",
      "model_module_version": "1.2.0",
      "model_name": "LayoutModel",
      "state": {}
     },
     "a976a25a38ff44c185baa4ef8e4375cc": {
      "model_module": "@jupyter-widgets/base",
      "model_module_version": "1.2.0",
      "model_name": "LayoutModel",
      "state": {}
     },
     "ab061f757a8a4f6396cf8eca5427f86d": {
      "model_module": "@jupyter-widgets/controls",
      "model_module_version": "1.5.0",
      "model_name": "FloatProgressModel",
      "state": {
       "bar_style": "success",
       "layout": "IPY_MODEL_185c12f94eb1485a9365ea24dd8c73d8",
       "max": 1,
       "style": "IPY_MODEL_173a1edacbb8460e9fbf5602c2e244b3"
      }
     },
     "ac3300ab320c475a967212009d935358": {
      "model_module": "@jupyter-widgets/base",
      "model_module_version": "1.2.0",
      "model_name": "LayoutModel",
      "state": {}
     },
     "ac94df0738b241bf9e365db7af4cf851": {
      "model_module": "@jupyter-widgets/controls",
      "model_module_version": "1.5.0",
      "model_name": "FloatProgressModel",
      "state": {
       "bar_style": "success",
       "layout": "IPY_MODEL_af28dad707164075b49843202ef634ab",
       "max": 1,
       "style": "IPY_MODEL_12dd875aea1948829611940091edc625",
       "value": 1
      }
     },
     "ad63f4adffe743b385164495179140a8": {
      "model_module": "@jupyter-widgets/base",
      "model_module_version": "1.2.0",
      "model_name": "LayoutModel",
      "state": {
       "width": "20px"
      }
     },
     "ada5962aca40491095d44e26e5ee8e18": {
      "model_module": "@jupyter-widgets/controls",
      "model_module_version": "1.5.0",
      "model_name": "DescriptionStyleModel",
      "state": {
       "description_width": ""
      }
     },
     "adf3207c305940b082bb9e42c8db199e": {
      "model_module": "@jupyter-widgets/base",
      "model_module_version": "1.2.0",
      "model_name": "LayoutModel",
      "state": {}
     },
     "ae4c9ce7148c4a9f83b7cefe89f0d588": {
      "model_module": "@jupyter-widgets/controls",
      "model_module_version": "1.5.0",
      "model_name": "HTMLModel",
      "state": {
       "layout": "IPY_MODEL_275f56c9ad8944da96539f746ecbeb8d",
       "style": "IPY_MODEL_35287739664944138fe6cbc31ffb685d",
       "value": "removing duplicates: "
      }
     },
     "aeea8ffb6b214642808b70c4174b6c7e": {
      "model_module": "@jupyter-widgets/base",
      "model_module_version": "1.2.0",
      "model_name": "LayoutModel",
      "state": {}
     },
     "af28dad707164075b49843202ef634ab": {
      "model_module": "@jupyter-widgets/base",
      "model_module_version": "1.2.0",
      "model_name": "LayoutModel",
      "state": {}
     },
     "b05085173310443e9c6c2a0c8e6b0ce3": {
      "model_module": "@jupyter-widgets/controls",
      "model_module_version": "1.5.0",
      "model_name": "HTMLModel",
      "state": {
       "layout": "IPY_MODEL_922f20e3167c4168821a7e15e322dee0",
       "style": "IPY_MODEL_1021980ccfa146b680f1c7812af4f40c",
       "value": "removing duplicates: "
      }
     },
     "b07cd281fa574064ad942eb2c73876da": {
      "model_module": "@jupyter-widgets/controls",
      "model_module_version": "1.5.0",
      "model_name": "DescriptionStyleModel",
      "state": {
       "description_width": ""
      }
     },
     "b197b7414c784d4d8b098bca2395b0b1": {
      "model_module": "@jupyter-widgets/base",
      "model_module_version": "1.2.0",
      "model_name": "LayoutModel",
      "state": {
       "width": "20px"
      }
     },
     "b1a9ca9c8d19463fb2694afef8b034b2": {
      "model_module": "@jupyter-widgets/controls",
      "model_module_version": "1.5.0",
      "model_name": "DescriptionStyleModel",
      "state": {
       "description_width": ""
      }
     },
     "b1d763b657984d4da5d0ee1ce8e8d598": {
      "model_module": "@jupyter-widgets/controls",
      "model_module_version": "1.5.0",
      "model_name": "HBoxModel",
      "state": {
       "children": [
        "IPY_MODEL_3cd8039858bf45179a0fe507ab05d0ba",
        "IPY_MODEL_707175ef3cca4a19a92820679a1c7fb5",
        "IPY_MODEL_6eacf4e2e9864204b8582386c6eaad3a"
       ],
       "layout": "IPY_MODEL_9815cd7e0acb415ea4d083b48dd775c3"
      }
     },
     "b261626bdc0c447a80198284c66efe1c": {
      "model_module": "@jupyter-widgets/controls",
      "model_module_version": "1.5.0",
      "model_name": "ProgressStyleModel",
      "state": {
       "description_width": ""
      }
     },
     "b30a8c91cee540afae0f9a6760396c6f": {
      "model_module": "@jupyter-widgets/controls",
      "model_module_version": "1.5.0",
      "model_name": "DescriptionStyleModel",
      "state": {
       "description_width": ""
      }
     },
     "b3bdb93083b947af8529421c25808df6": {
      "model_module": "@jupyter-widgets/base",
      "model_module_version": "1.2.0",
      "model_name": "LayoutModel",
      "state": {}
     },
     "b4c00cefa310436e84ce9fafece6aa24": {
      "model_module": "@jupyter-widgets/controls",
      "model_module_version": "1.5.0",
      "model_name": "DescriptionStyleModel",
      "state": {
       "description_width": ""
      }
     },
     "b4fb4c0d29184f00a1a94e64f44b5de9": {
      "model_module": "@jupyter-widgets/base",
      "model_module_version": "1.2.0",
      "model_name": "LayoutModel",
      "state": {
       "width": "20px"
      }
     },
     "b53a3777079a475eb95681008ed2d2ae": {
      "model_module": "@jupyter-widgets/controls",
      "model_module_version": "1.5.0",
      "model_name": "HTMLModel",
      "state": {
       "layout": "IPY_MODEL_3afed86de96747bdbbb07105d31ef8aa",
       "style": "IPY_MODEL_527826ca7a0d480284fad724b3f50ab4",
       "value": " 0/0 [00:00&lt;?, ?it/s]"
      }
     },
     "b5403f8ae0aa4e8c8941c9307b50e340": {
      "model_module": "@jupyter-widgets/base",
      "model_module_version": "1.2.0",
      "model_name": "LayoutModel",
      "state": {
       "width": "20px"
      }
     },
     "b61c7a020ac5480cb84a3423e980aa7e": {
      "model_module": "@jupyter-widgets/controls",
      "model_module_version": "1.5.0",
      "model_name": "HBoxModel",
      "state": {
       "children": [
        "IPY_MODEL_3efc84d9f8ae4395ae9f03387652d929",
        "IPY_MODEL_021415353c404f4a922debe226cbaa4a",
        "IPY_MODEL_b6bc4eaee83445659c05db2e647103bf"
       ],
       "layout": "IPY_MODEL_92cedb99dfaa4cf3a0b9a04152da879f"
      }
     },
     "b67ab28b396e4213be9a50c2430f8296": {
      "model_module": "@jupyter-widgets/controls",
      "model_module_version": "1.5.0",
      "model_name": "DescriptionStyleModel",
      "state": {
       "description_width": ""
      }
     },
     "b6841a47991546c0ac6ccdd6b4853173": {
      "model_module": "@jupyter-widgets/base",
      "model_module_version": "1.2.0",
      "model_name": "LayoutModel",
      "state": {}
     },
     "b6bc4eaee83445659c05db2e647103bf": {
      "model_module": "@jupyter-widgets/controls",
      "model_module_version": "1.5.0",
      "model_name": "HTMLModel",
      "state": {
       "layout": "IPY_MODEL_9614681501514ead96ca0c4759279f01",
       "style": "IPY_MODEL_8c744b7609904670928b3ffa8178795f",
       "value": " 0/0 [00:00&lt;?, ?it/s]"
      }
     },
     "b6f1089e934b4b6191f38811fa23c546": {
      "model_module": "@jupyter-widgets/controls",
      "model_module_version": "1.5.0",
      "model_name": "HTMLModel",
      "state": {
       "layout": "IPY_MODEL_4232ace57dde48078e0129c118428f1b",
       "style": "IPY_MODEL_32c0e3c9a61f45239b412e4752f6c8de",
       "value": "removing duplicates: 100%"
      }
     },
     "b70726405e5e46549c91bc429d304b95": {
      "model_module": "@jupyter-widgets/controls",
      "model_module_version": "1.5.0",
      "model_name": "HBoxModel",
      "state": {
       "children": [
        "IPY_MODEL_e2c79bc41d5948deb42a60362372f146",
        "IPY_MODEL_95336e585cae438f8bffce3c337a72eb",
        "IPY_MODEL_cdf61120870540a3bc78f7647dcb29a1"
       ],
       "layout": "IPY_MODEL_e37cd409090b4859944f57096b2f7638"
      }
     },
     "b7d4918d401d4755aa85736cf514391f": {
      "model_module": "@jupyter-widgets/base",
      "model_module_version": "1.2.0",
      "model_name": "LayoutModel",
      "state": {}
     },
     "b7de6ad68c7e4c4fbe529c365233104e": {
      "model_module": "@jupyter-widgets/controls",
      "model_module_version": "1.5.0",
      "model_name": "HTMLModel",
      "state": {
       "layout": "IPY_MODEL_e00d54c3980b4f5ea578cb7422fc92c1",
       "style": "IPY_MODEL_fcc8df42c94f41dfb77b3c500eae406e",
       "value": " 11/11 [00:00&lt;00:00, 5701.60it/s]"
      }
     },
     "bb546cddcc8d4beaae8dd0e2665f75d6": {
      "model_module": "@jupyter-widgets/base",
      "model_module_version": "1.2.0",
      "model_name": "LayoutModel",
      "state": {}
     },
     "bc750a5f376349548f538b74327206c1": {
      "model_module": "@jupyter-widgets/controls",
      "model_module_version": "1.5.0",
      "model_name": "ProgressStyleModel",
      "state": {
       "description_width": ""
      }
     },
     "bcc99bf4a1a847c7bf49cdbe90e19b94": {
      "model_module": "@jupyter-widgets/controls",
      "model_module_version": "1.5.0",
      "model_name": "DescriptionStyleModel",
      "state": {
       "description_width": ""
      }
     },
     "bde572249a934812b3896d9f3d251eaa": {
      "model_module": "@jupyter-widgets/base",
      "model_module_version": "1.2.0",
      "model_name": "LayoutModel",
      "state": {}
     },
     "bee8a89e270d4442a78a15b577a8d3b5": {
      "model_module": "@jupyter-widgets/controls",
      "model_module_version": "1.5.0",
      "model_name": "ProgressStyleModel",
      "state": {
       "description_width": ""
      }
     },
     "bf03be6ba50849288471ddeda2f0c10b": {
      "model_module": "@jupyter-widgets/controls",
      "model_module_version": "1.5.0",
      "model_name": "HBoxModel",
      "state": {
       "children": [
        "IPY_MODEL_cc3c712a2165458a9ec475f9b69ab548",
        "IPY_MODEL_c27c8b74c5a948e39f7ae42964877e56",
        "IPY_MODEL_34e564e65815435ca329d5cd3b0fa450"
       ],
       "layout": "IPY_MODEL_98336e1b69e94e51a231d54054b3ef3a"
      }
     },
     "bfd836efa88b4b6cb4de50612df7c740": {
      "model_module": "@jupyter-widgets/base",
      "model_module_version": "1.2.0",
      "model_name": "LayoutModel",
      "state": {}
     },
     "bfe5aa84519241efa061a8f6a7e42871": {
      "model_module": "@jupyter-widgets/controls",
      "model_module_version": "1.5.0",
      "model_name": "DescriptionStyleModel",
      "state": {
       "description_width": ""
      }
     },
     "c0e92311732a452aa155fc58c4c9e341": {
      "model_module": "@jupyter-widgets/base",
      "model_module_version": "1.2.0",
      "model_name": "LayoutModel",
      "state": {}
     },
     "c10f339253d34f48a2320cf50ed1be83": {
      "model_module": "@jupyter-widgets/controls",
      "model_module_version": "1.5.0",
      "model_name": "FloatProgressModel",
      "state": {
       "bar_style": "success",
       "layout": "IPY_MODEL_00be541d7dff425f942e81531ea0af23",
       "max": 1,
       "style": "IPY_MODEL_67f167cebaa7456a8376fc2de42d91b3"
      }
     },
     "c1d47e34eab948b1a195f4e17e67c945": {
      "model_module": "@jupyter-widgets/controls",
      "model_module_version": "1.5.0",
      "model_name": "DescriptionStyleModel",
      "state": {
       "description_width": ""
      }
     },
     "c1df4a58dab54549af375278972170d4": {
      "model_module": "@jupyter-widgets/controls",
      "model_module_version": "1.5.0",
      "model_name": "ProgressStyleModel",
      "state": {
       "description_width": ""
      }
     },
     "c1f0d16b67b041de8193c1f773b9b198": {
      "model_module": "@jupyter-widgets/controls",
      "model_module_version": "1.5.0",
      "model_name": "HBoxModel",
      "state": {
       "children": [
        "IPY_MODEL_30a174d4db7940a89fab0cac6145afe6",
        "IPY_MODEL_c10f339253d34f48a2320cf50ed1be83",
        "IPY_MODEL_3d26271a40af4efc8ee95995a9a3a921"
       ],
       "layout": "IPY_MODEL_09b3580af8694915ac461be60aa6b7ae"
      }
     },
     "c27c8b74c5a948e39f7ae42964877e56": {
      "model_module": "@jupyter-widgets/controls",
      "model_module_version": "1.5.0",
      "model_name": "FloatProgressModel",
      "state": {
       "bar_style": "success",
       "layout": "IPY_MODEL_24a4ea98c17f48ebaeb3779f9099156e",
       "max": 1,
       "style": "IPY_MODEL_c1df4a58dab54549af375278972170d4"
      }
     },
     "c3a466b95f5341e7924b5f798ca84a5b": {
      "model_module": "@jupyter-widgets/base",
      "model_module_version": "1.2.0",
      "model_name": "LayoutModel",
      "state": {}
     },
     "c4e44f06027446d2987c817d3ef3a065": {
      "model_module": "@jupyter-widgets/controls",
      "model_module_version": "1.5.0",
      "model_name": "DescriptionStyleModel",
      "state": {
       "description_width": ""
      }
     },
     "c575bdb20c934f34bec3607f9c606a5b": {
      "model_module": "@jupyter-widgets/controls",
      "model_module_version": "1.5.0",
      "model_name": "HTMLModel",
      "state": {
       "layout": "IPY_MODEL_75cf9dcf679e4a168a0bc5c52bcdc737",
       "style": "IPY_MODEL_4ba1c62a7f09484d8c1f4fe85eb5b7c2",
       "value": "removing duplicates: 100%"
      }
     },
     "c58d4490fa9e451d9a0e72a13814a96e": {
      "model_module": "@jupyter-widgets/base",
      "model_module_version": "1.2.0",
      "model_name": "LayoutModel",
      "state": {}
     },
     "c58ef9bdff8f464aa1d14bf1f38d031b": {
      "model_module": "@jupyter-widgets/controls",
      "model_module_version": "1.5.0",
      "model_name": "DescriptionStyleModel",
      "state": {
       "description_width": ""
      }
     },
     "c5b546ef58b647cf9dc9f08691941e96": {
      "model_module": "@jupyter-widgets/base",
      "model_module_version": "1.2.0",
      "model_name": "LayoutModel",
      "state": {}
     },
     "c6597e5e05f1424fbe5530b674f1fc9e": {
      "model_module": "@jupyter-widgets/base",
      "model_module_version": "1.2.0",
      "model_name": "LayoutModel",
      "state": {}
     },
     "c88519dca311440a904fb674544b813f": {
      "model_module": "@jupyter-widgets/controls",
      "model_module_version": "1.5.0",
      "model_name": "DescriptionStyleModel",
      "state": {
       "description_width": ""
      }
     },
     "c8aa53f5ea464beda2a381b773de3638": {
      "model_module": "@jupyter-widgets/base",
      "model_module_version": "1.2.0",
      "model_name": "LayoutModel",
      "state": {}
     },
     "ca030a940ff74191b62e40dd9ca4e3f2": {
      "model_module": "@jupyter-widgets/base",
      "model_module_version": "1.2.0",
      "model_name": "LayoutModel",
      "state": {
       "width": "20px"
      }
     },
     "cad14b9fd3c64ce890d5a1c71fcafb29": {
      "model_module": "@jupyter-widgets/base",
      "model_module_version": "1.2.0",
      "model_name": "LayoutModel",
      "state": {}
     },
     "cc052c3117dc4ca8a9f9aee65dd7e161": {
      "model_module": "@jupyter-widgets/controls",
      "model_module_version": "1.5.0",
      "model_name": "HTMLModel",
      "state": {
       "layout": "IPY_MODEL_230f321d35eb42fb881f36360137e94a",
       "style": "IPY_MODEL_338f7135693c46fd832e559c64537a30",
       "value": "removing duplicates: 100%"
      }
     },
     "cc1e6944b9664c51a101d0f5ca62a865": {
      "model_module": "@jupyter-widgets/controls",
      "model_module_version": "1.5.0",
      "model_name": "HTMLModel",
      "state": {
       "layout": "IPY_MODEL_39b0306fd60f445b815a871f3cbf295a",
       "style": "IPY_MODEL_5a06dad6d881418da90eefff11ee5e6b",
       "value": "removing duplicates: "
      }
     },
     "cc3c712a2165458a9ec475f9b69ab548": {
      "model_module": "@jupyter-widgets/controls",
      "model_module_version": "1.5.0",
      "model_name": "HTMLModel",
      "state": {
       "layout": "IPY_MODEL_c8aa53f5ea464beda2a381b773de3638",
       "style": "IPY_MODEL_a2eb94ab809c4cf796ee53b488a60da4",
       "value": "removing duplicates: "
      }
     },
     "cc46a9db7dfa4b6e9fcdb37ddeca0ebb": {
      "model_module": "@jupyter-widgets/controls",
      "model_module_version": "1.5.0",
      "model_name": "HTMLModel",
      "state": {
       "layout": "IPY_MODEL_263e651a10944c0d99791caa33ce416c",
       "style": "IPY_MODEL_c58ef9bdff8f464aa1d14bf1f38d031b",
       "value": " 0/0 [00:00&lt;?, ?it/s]"
      }
     },
     "cc90285c55de41efbe1ffe571f1b1f68": {
      "model_module": "@jupyter-widgets/controls",
      "model_module_version": "1.5.0",
      "model_name": "DescriptionStyleModel",
      "state": {
       "description_width": ""
      }
     },
     "cc92230fe4294c7ca62a59858e2c633f": {
      "model_module": "@jupyter-widgets/base",
      "model_module_version": "1.2.0",
      "model_name": "LayoutModel",
      "state": {}
     },
     "cdf61120870540a3bc78f7647dcb29a1": {
      "model_module": "@jupyter-widgets/controls",
      "model_module_version": "1.5.0",
      "model_name": "HTMLModel",
      "state": {
       "layout": "IPY_MODEL_7b1bb38f9bb841e6b519afb684c8cb52",
       "style": "IPY_MODEL_38395a4796e34ebb8ff0d3fee3b9dd3f",
       "value": " 1/1 [00:00&lt;00:00, 569.03it/s]"
      }
     },
     "ce26be81c9e0494a8c1a520c53c1b784": {
      "model_module": "@jupyter-widgets/controls",
      "model_module_version": "1.5.0",
      "model_name": "HTMLModel",
      "state": {
       "layout": "IPY_MODEL_ecae0c561998408b9a9c8f441e069a03",
       "style": "IPY_MODEL_ee6aa60b9e7d46dd82bf11115ef6cf1d",
       "value": "removing duplicates: "
      }
     },
     "ceda21883a5f4899ac1d8fcebcdd32bf": {
      "model_module": "@jupyter-widgets/controls",
      "model_module_version": "1.5.0",
      "model_name": "DescriptionStyleModel",
      "state": {
       "description_width": ""
      }
     },
     "d0b22211ec6845d78bebfc22974051f5": {
      "model_module": "@jupyter-widgets/controls",
      "model_module_version": "1.5.0",
      "model_name": "ProgressStyleModel",
      "state": {
       "description_width": ""
      }
     },
     "d120b50cd7eb40d8ba338488debde67e": {
      "model_module": "@jupyter-widgets/controls",
      "model_module_version": "1.5.0",
      "model_name": "ProgressStyleModel",
      "state": {
       "description_width": ""
      }
     },
     "d42610f19281484f9a35b52316ddc515": {
      "model_module": "@jupyter-widgets/base",
      "model_module_version": "1.2.0",
      "model_name": "LayoutModel",
      "state": {}
     },
     "d454108b2b674368b05b54027e84205a": {
      "model_module": "@jupyter-widgets/controls",
      "model_module_version": "1.5.0",
      "model_name": "FloatProgressModel",
      "state": {
       "bar_style": "success",
       "layout": "IPY_MODEL_adf3207c305940b082bb9e42c8db199e",
       "max": 1,
       "style": "IPY_MODEL_1ed92e5d15af44c28f4a51264245b375",
       "value": 1
      }
     },
     "d45680e4145e40849f860f7078e0b4c3": {
      "model_module": "@jupyter-widgets/base",
      "model_module_version": "1.2.0",
      "model_name": "LayoutModel",
      "state": {}
     },
     "d58f8db25fa64990bbf7116e1f25095b": {
      "model_module": "@jupyter-widgets/controls",
      "model_module_version": "1.5.0",
      "model_name": "ProgressStyleModel",
      "state": {
       "description_width": ""
      }
     },
     "d7ba97160f7a48bf88e0498a3d05ec26": {
      "model_module": "@jupyter-widgets/base",
      "model_module_version": "1.2.0",
      "model_name": "LayoutModel",
      "state": {}
     },
     "d99b373c5d254e79b18be7397be76a5c": {
      "model_module": "@jupyter-widgets/base",
      "model_module_version": "1.2.0",
      "model_name": "LayoutModel",
      "state": {}
     },
     "da6c82e3a4814437ae4dbde038c9d31c": {
      "model_module": "@jupyter-widgets/base",
      "model_module_version": "1.2.0",
      "model_name": "LayoutModel",
      "state": {}
     },
     "da79a181ccef4264a35012a6f2e4c4bc": {
      "model_module": "@jupyter-widgets/base",
      "model_module_version": "1.2.0",
      "model_name": "LayoutModel",
      "state": {
       "width": "20px"
      }
     },
     "da96ae517c884992adbda7104d1d805b": {
      "model_module": "@jupyter-widgets/base",
      "model_module_version": "1.2.0",
      "model_name": "LayoutModel",
      "state": {}
     },
     "dadc8e9b6eac43a68a744f5ca54d87c8": {
      "model_module": "@jupyter-widgets/base",
      "model_module_version": "1.2.0",
      "model_name": "LayoutModel",
      "state": {}
     },
     "dae22dfc9ef14c56858816ff80548a9d": {
      "model_module": "@jupyter-widgets/base",
      "model_module_version": "1.2.0",
      "model_name": "LayoutModel",
      "state": {}
     },
     "db950035f2e84705bc758deda47107e1": {
      "model_module": "@jupyter-widgets/base",
      "model_module_version": "1.2.0",
      "model_name": "LayoutModel",
      "state": {}
     },
     "dbdda3be81124919995f838da1310d6d": {
      "model_module": "@jupyter-widgets/base",
      "model_module_version": "1.2.0",
      "model_name": "LayoutModel",
      "state": {
       "width": "20px"
      }
     },
     "dbe0efb7dde642719a2c1750d743bee0": {
      "model_module": "@jupyter-widgets/controls",
      "model_module_version": "1.5.0",
      "model_name": "DescriptionStyleModel",
      "state": {
       "description_width": ""
      }
     },
     "dd27cac959074845a9838c20e76f229d": {
      "model_module": "@jupyter-widgets/base",
      "model_module_version": "1.2.0",
      "model_name": "LayoutModel",
      "state": {
       "width": "20px"
      }
     },
     "de42360b18e8484da78df6341f98c7e2": {
      "model_module": "@jupyter-widgets/controls",
      "model_module_version": "1.5.0",
      "model_name": "FloatProgressModel",
      "state": {
       "bar_style": "success",
       "layout": "IPY_MODEL_4458b20d36b4485c9d44233a95122823",
       "max": 1,
       "style": "IPY_MODEL_3798835f6d4a4ba8ad57a3e9a9385068"
      }
     },
     "de6cd21a574d4c53b79d6d4f49657073": {
      "model_module": "@jupyter-widgets/controls",
      "model_module_version": "1.5.0",
      "model_name": "ProgressStyleModel",
      "state": {
       "description_width": ""
      }
     },
     "de9c6f8d884443578c031f5a346b6f72": {
      "model_module": "@jupyter-widgets/controls",
      "model_module_version": "1.5.0",
      "model_name": "DescriptionStyleModel",
      "state": {
       "description_width": ""
      }
     },
     "df9b1152cf81445782d21143568bcc2a": {
      "model_module": "@jupyter-widgets/controls",
      "model_module_version": "1.5.0",
      "model_name": "FloatProgressModel",
      "state": {
       "bar_style": "success",
       "layout": "IPY_MODEL_e1c4335dca3b40c8831f78f7552819b4",
       "max": 35,
       "style": "IPY_MODEL_4fef2629182f445c9c6f6f871db301e3",
       "value": 35
      }
     },
     "dffbfd5f5f694d53a03414bf0f3128d7": {
      "model_module": "@jupyter-widgets/base",
      "model_module_version": "1.2.0",
      "model_name": "LayoutModel",
      "state": {
       "width": "20px"
      }
     },
     "e006e6f40fc3490ab50ecff0c4451f9a": {
      "model_module": "@jupyter-widgets/controls",
      "model_module_version": "1.5.0",
      "model_name": "HBoxModel",
      "state": {
       "children": [
        "IPY_MODEL_490d10c7d1a84f2593a2eab246098494",
        "IPY_MODEL_a39ac432f54046b39e7ed8cd20cfa867",
        "IPY_MODEL_7bdfb91199d24108b6d96855f65bd4f9"
       ],
       "layout": "IPY_MODEL_6cdd108b52324da3a18363bd60a2f591"
      }
     },
     "e00d54c3980b4f5ea578cb7422fc92c1": {
      "model_module": "@jupyter-widgets/base",
      "model_module_version": "1.2.0",
      "model_name": "LayoutModel",
      "state": {}
     },
     "e04c918aa2af4f8ca049845bb694bcc0": {
      "model_module": "@jupyter-widgets/base",
      "model_module_version": "1.2.0",
      "model_name": "LayoutModel",
      "state": {}
     },
     "e0c4b4a3ca704d639fdfa9fc5795ed7f": {
      "model_module": "@jupyter-widgets/controls",
      "model_module_version": "1.5.0",
      "model_name": "DescriptionStyleModel",
      "state": {
       "description_width": ""
      }
     },
     "e1c4335dca3b40c8831f78f7552819b4": {
      "model_module": "@jupyter-widgets/base",
      "model_module_version": "1.2.0",
      "model_name": "LayoutModel",
      "state": {}
     },
     "e1d80c37402740719cf806088a57772d": {
      "model_module": "@jupyter-widgets/controls",
      "model_module_version": "1.5.0",
      "model_name": "HBoxModel",
      "state": {
       "children": [
        "IPY_MODEL_e27172448ded4e97bc03a64a4ac711a6",
        "IPY_MODEL_0eaa0f364e2f41bbb4a6bbaf2fdbb819",
        "IPY_MODEL_600c81b6f4dd4af2b0c6ae736b33e9c3"
       ],
       "layout": "IPY_MODEL_0de9f0bd347e41f0aa7765050d96e20a"
      }
     },
     "e21c9a2406ad4d00872f966a29e2ab1d": {
      "model_module": "@jupyter-widgets/controls",
      "model_module_version": "1.5.0",
      "model_name": "FloatProgressModel",
      "state": {
       "bar_style": "success",
       "layout": "IPY_MODEL_fd1d16678f12454b9211a2093b22fe9a",
       "max": 1,
       "style": "IPY_MODEL_fb2604d59e484409909d1309dcf66b30"
      }
     },
     "e26348a52c85404ea1237b5de1017dd9": {
      "model_module": "@jupyter-widgets/controls",
      "model_module_version": "1.5.0",
      "model_name": "HTMLModel",
      "state": {
       "layout": "IPY_MODEL_9f3c6566f3024f62bf94d2902f63cad7",
       "style": "IPY_MODEL_7b1ca7cb2a4d4609978e5c4c0a07adcb",
       "value": " 1/1 [00:00&lt;00:00, 571.51it/s]"
      }
     },
     "e27172448ded4e97bc03a64a4ac711a6": {
      "model_module": "@jupyter-widgets/controls",
      "model_module_version": "1.5.0",
      "model_name": "HTMLModel",
      "state": {
       "layout": "IPY_MODEL_bfd836efa88b4b6cb4de50612df7c740",
       "style": "IPY_MODEL_e88e3f2bbfd541acb67ec487fba700c0",
       "value": "removing duplicates: "
      }
     },
     "e29a8cce36f84891a5eed223be272e6a": {
      "model_module": "@jupyter-widgets/controls",
      "model_module_version": "1.5.0",
      "model_name": "ProgressStyleModel",
      "state": {
       "description_width": ""
      }
     },
     "e2ad94d88a3e44a29fc41b816e089f34": {
      "model_module": "@jupyter-widgets/base",
      "model_module_version": "1.2.0",
      "model_name": "LayoutModel",
      "state": {
       "width": "20px"
      }
     },
     "e2bdc3233fe640baabaa2c950e3f4732": {
      "model_module": "@jupyter-widgets/controls",
      "model_module_version": "1.5.0",
      "model_name": "HBoxModel",
      "state": {
       "children": [
        "IPY_MODEL_e4e11e8740c2477892f9b8b81a0b4425",
        "IPY_MODEL_7753f662824b42b498c3df5823469cce",
        "IPY_MODEL_38ecc2246bd24f06af62bf1d2a3ec5d3"
       ],
       "layout": "IPY_MODEL_4ad801272ce545bb92ddf6110267ead3"
      }
     },
     "e2c79bc41d5948deb42a60362372f146": {
      "model_module": "@jupyter-widgets/controls",
      "model_module_version": "1.5.0",
      "model_name": "HTMLModel",
      "state": {
       "layout": "IPY_MODEL_31361fdcdf6548518538885a81f7092a",
       "style": "IPY_MODEL_f9d53e7a95e24727ba90f2634fb65025",
       "value": "removing duplicates: 100%"
      }
     },
     "e320481456fb40d382044206e84bb778": {
      "model_module": "@jupyter-widgets/controls",
      "model_module_version": "1.5.0",
      "model_name": "HTMLModel",
      "state": {
       "layout": "IPY_MODEL_4f8482b478bc4878ad3c4cfac0d761d1",
       "style": "IPY_MODEL_33a6b60804cb4e7aa3a82b2b427a5b7f",
       "value": "removing duplicates: 100%"
      }
     },
     "e37cd409090b4859944f57096b2f7638": {
      "model_module": "@jupyter-widgets/base",
      "model_module_version": "1.2.0",
      "model_name": "LayoutModel",
      "state": {}
     },
     "e397f2d5e83f44ce8c0adb8a86f3ac5c": {
      "model_module": "@jupyter-widgets/controls",
      "model_module_version": "1.5.0",
      "model_name": "ProgressStyleModel",
      "state": {
       "description_width": ""
      }
     },
     "e3e516da2d384351ae03c39b94eab651": {
      "model_module": "@jupyter-widgets/base",
      "model_module_version": "1.2.0",
      "model_name": "LayoutModel",
      "state": {}
     },
     "e4b17c01db304de6937218b9c0b83a5e": {
      "model_module": "@jupyter-widgets/controls",
      "model_module_version": "1.5.0",
      "model_name": "HTMLModel",
      "state": {
       "layout": "IPY_MODEL_eb2cc2ba7f9647559eb75b817f987f5d",
       "style": "IPY_MODEL_9543d1b56f65462da7716881adb3b272",
       "value": " 0/0 [00:00&lt;?, ?it/s]"
      }
     },
     "e4e11e8740c2477892f9b8b81a0b4425": {
      "model_module": "@jupyter-widgets/controls",
      "model_module_version": "1.5.0",
      "model_name": "HTMLModel",
      "state": {
       "layout": "IPY_MODEL_d42610f19281484f9a35b52316ddc515",
       "style": "IPY_MODEL_9613f3ccbd5945d79647c4e9227478b6",
       "value": "removing duplicates: "
      }
     },
     "e4fb1639cb804bab99b6168853eb92ae": {
      "model_module": "@jupyter-widgets/base",
      "model_module_version": "1.2.0",
      "model_name": "LayoutModel",
      "state": {
       "width": "20px"
      }
     },
     "e6cab85e5b7b472fab5c10de18977bf6": {
      "model_module": "@jupyter-widgets/controls",
      "model_module_version": "1.5.0",
      "model_name": "ProgressStyleModel",
      "state": {
       "description_width": ""
      }
     },
     "e6ef556730674753803cea6a1fdedeef": {
      "model_module": "@jupyter-widgets/controls",
      "model_module_version": "1.5.0",
      "model_name": "FloatProgressModel",
      "state": {
       "bar_style": "success",
       "layout": "IPY_MODEL_bb546cddcc8d4beaae8dd0e2665f75d6",
       "max": 1,
       "style": "IPY_MODEL_2c750d56ae214d53a5869502653515db",
       "value": 1
      }
     },
     "e88e3f2bbfd541acb67ec487fba700c0": {
      "model_module": "@jupyter-widgets/controls",
      "model_module_version": "1.5.0",
      "model_name": "DescriptionStyleModel",
      "state": {
       "description_width": ""
      }
     },
     "ea31b37ffed64453b63900579ace41de": {
      "model_module": "@jupyter-widgets/controls",
      "model_module_version": "1.5.0",
      "model_name": "FloatProgressModel",
      "state": {
       "bar_style": "success",
       "layout": "IPY_MODEL_7e6c87caf02f450392482d46f27037f6",
       "max": 1,
       "style": "IPY_MODEL_196571e01810424e857cb46cc0c0cbde",
       "value": 1
      }
     },
     "eb2cc2ba7f9647559eb75b817f987f5d": {
      "model_module": "@jupyter-widgets/base",
      "model_module_version": "1.2.0",
      "model_name": "LayoutModel",
      "state": {}
     },
     "ecae0c561998408b9a9c8f441e069a03": {
      "model_module": "@jupyter-widgets/base",
      "model_module_version": "1.2.0",
      "model_name": "LayoutModel",
      "state": {}
     },
     "ed78ad43d01e41e3aa90e496ba19ce2e": {
      "model_module": "@jupyter-widgets/base",
      "model_module_version": "1.2.0",
      "model_name": "LayoutModel",
      "state": {}
     },
     "edd30270baf841989bf3326bc2d81d80": {
      "model_module": "@jupyter-widgets/controls",
      "model_module_version": "1.5.0",
      "model_name": "DescriptionStyleModel",
      "state": {
       "description_width": ""
      }
     },
     "ee01ad800e1e4d0d81c36edb1cfee20a": {
      "model_module": "@jupyter-widgets/base",
      "model_module_version": "1.2.0",
      "model_name": "LayoutModel",
      "state": {}
     },
     "ee6aa60b9e7d46dd82bf11115ef6cf1d": {
      "model_module": "@jupyter-widgets/controls",
      "model_module_version": "1.5.0",
      "model_name": "DescriptionStyleModel",
      "state": {
       "description_width": ""
      }
     },
     "ee6dbd807430440fbcd8e4446834ed75": {
      "model_module": "@jupyter-widgets/base",
      "model_module_version": "1.2.0",
      "model_name": "LayoutModel",
      "state": {}
     },
     "ef3e608abb8b43dbad765b35ff1cdfe3": {
      "model_module": "@jupyter-widgets/base",
      "model_module_version": "1.2.0",
      "model_name": "LayoutModel",
      "state": {}
     },
     "f0065d5379954c0ab842406daacc060e": {
      "model_module": "@jupyter-widgets/base",
      "model_module_version": "1.2.0",
      "model_name": "LayoutModel",
      "state": {}
     },
     "f00f2570fc8e460ca94fc119ba3bd019": {
      "model_module": "@jupyter-widgets/controls",
      "model_module_version": "1.5.0",
      "model_name": "HTMLModel",
      "state": {
       "layout": "IPY_MODEL_c3a466b95f5341e7924b5f798ca84a5b",
       "style": "IPY_MODEL_7fcb066d90b748a683dcb8ea431399e8",
       "value": "removing duplicates: 100%"
      }
     },
     "f1b08b930d6a4bf4b9b438c39e54c657": {
      "model_module": "@jupyter-widgets/controls",
      "model_module_version": "1.5.0",
      "model_name": "HTMLModel",
      "state": {
       "layout": "IPY_MODEL_8bd426c88bd9450ebba7886eef2865eb",
       "style": "IPY_MODEL_31d9d3b9a1c447fcbe642e9966834d53",
       "value": " 0/0 [00:00&lt;?, ?it/s]"
      }
     },
     "f284d77db5054e459108cb457f0b4d9c": {
      "model_module": "@jupyter-widgets/controls",
      "model_module_version": "1.5.0",
      "model_name": "ProgressStyleModel",
      "state": {
       "description_width": ""
      }
     },
     "f39f12b3e5ba433ea1acdb9c94b63fc2": {
      "model_module": "@jupyter-widgets/controls",
      "model_module_version": "1.5.0",
      "model_name": "DescriptionStyleModel",
      "state": {
       "description_width": ""
      }
     },
     "f4330203587544b89ef33235961b43f6": {
      "model_module": "@jupyter-widgets/base",
      "model_module_version": "1.2.0",
      "model_name": "LayoutModel",
      "state": {}
     },
     "f59fce180a7b4173bb1b11afe78f60cd": {
      "model_module": "@jupyter-widgets/base",
      "model_module_version": "1.2.0",
      "model_name": "LayoutModel",
      "state": {}
     },
     "f82425f8fc434f2290930c8dbb113490": {
      "model_module": "@jupyter-widgets/controls",
      "model_module_version": "1.5.0",
      "model_name": "ProgressStyleModel",
      "state": {
       "description_width": ""
      }
     },
     "f87f30371ccf496a8784713ad41772bb": {
      "model_module": "@jupyter-widgets/base",
      "model_module_version": "1.2.0",
      "model_name": "LayoutModel",
      "state": {}
     },
     "f8883261d6254a699801c0a31175ff40": {
      "model_module": "@jupyter-widgets/base",
      "model_module_version": "1.2.0",
      "model_name": "LayoutModel",
      "state": {}
     },
     "f9cf69a0eba24dd78baa9c76b7ff381c": {
      "model_module": "@jupyter-widgets/controls",
      "model_module_version": "1.5.0",
      "model_name": "DescriptionStyleModel",
      "state": {
       "description_width": ""
      }
     },
     "f9d53e7a95e24727ba90f2634fb65025": {
      "model_module": "@jupyter-widgets/controls",
      "model_module_version": "1.5.0",
      "model_name": "DescriptionStyleModel",
      "state": {
       "description_width": ""
      }
     },
     "f9de7f284beb41068b47b74ef7704be8": {
      "model_module": "@jupyter-widgets/base",
      "model_module_version": "1.2.0",
      "model_name": "LayoutModel",
      "state": {}
     },
     "faa09e191d2e4d7c95c71be5da724741": {
      "model_module": "@jupyter-widgets/controls",
      "model_module_version": "1.5.0",
      "model_name": "HTMLModel",
      "state": {
       "layout": "IPY_MODEL_0ac3dc42b88148f48cc377c9b108d10f",
       "style": "IPY_MODEL_87544bde15f9457b95608ead833a79d2",
       "value": " 0/0 [00:00&lt;?, ?it/s]"
      }
     },
     "fb2604d59e484409909d1309dcf66b30": {
      "model_module": "@jupyter-widgets/controls",
      "model_module_version": "1.5.0",
      "model_name": "ProgressStyleModel",
      "state": {
       "description_width": ""
      }
     },
     "fbbb32e7226f463ea8f6431123cd83ea": {
      "model_module": "@jupyter-widgets/controls",
      "model_module_version": "1.5.0",
      "model_name": "HBoxModel",
      "state": {
       "children": [
        "IPY_MODEL_3c5c90f0827042f6a22f61dcb0ba42ce",
        "IPY_MODEL_192519f146c841a09a5763b2aa6eb0ed",
        "IPY_MODEL_89ab339dc5c447f7a443c44b674dd26f"
       ],
       "layout": "IPY_MODEL_62b7562d3d96445aa02a0354fd9e6793"
      }
     },
     "fc675d3d6fea4e25babfe1880f0f8b0f": {
      "model_module": "@jupyter-widgets/controls",
      "model_module_version": "1.5.0",
      "model_name": "ProgressStyleModel",
      "state": {
       "description_width": ""
      }
     },
     "fcc8df42c94f41dfb77b3c500eae406e": {
      "model_module": "@jupyter-widgets/controls",
      "model_module_version": "1.5.0",
      "model_name": "DescriptionStyleModel",
      "state": {
       "description_width": ""
      }
     },
     "fd1151d507a646b990fd4e641960b201": {
      "model_module": "@jupyter-widgets/base",
      "model_module_version": "1.2.0",
      "model_name": "LayoutModel",
      "state": {}
     },
     "fd14e74e95f3451593abd23adc1c8eef": {
      "model_module": "@jupyter-widgets/base",
      "model_module_version": "1.2.0",
      "model_name": "LayoutModel",
      "state": {}
     },
     "fd1d16678f12454b9211a2093b22fe9a": {
      "model_module": "@jupyter-widgets/base",
      "model_module_version": "1.2.0",
      "model_name": "LayoutModel",
      "state": {
       "width": "20px"
      }
     },
     "fd33fe4fc17f4e1ea8b3e5451cd77389": {
      "model_module": "@jupyter-widgets/controls",
      "model_module_version": "1.5.0",
      "model_name": "HTMLModel",
      "state": {
       "layout": "IPY_MODEL_5beb8a0013d7443aa182c82b0cec9dd2",
       "style": "IPY_MODEL_a442da774d6647bdaf638e47b4e5358d",
       "value": "removing duplicates: "
      }
     },
     "fd4585d4692b49d98a1b5d5c91c30ca4": {
      "model_module": "@jupyter-widgets/base",
      "model_module_version": "1.2.0",
      "model_name": "LayoutModel",
      "state": {}
     },
     "fdd1d145f2894eb9ad6ad330af51970c": {
      "model_module": "@jupyter-widgets/controls",
      "model_module_version": "1.5.0",
      "model_name": "HTMLModel",
      "state": {
       "layout": "IPY_MODEL_29af2f2f23b54c9ab86822f2aea30055",
       "style": "IPY_MODEL_9ba7f17873224b1296db5f959ba0c6f7",
       "value": " 1/1 [00:00&lt;00:00, 531.53it/s]"
      }
     },
     "fe4a9799fa374a2f82e06e09e3f9b8cd": {
      "model_module": "@jupyter-widgets/base",
      "model_module_version": "1.2.0",
      "model_name": "LayoutModel",
      "state": {}
     },
     "ff0e540bce6246de9fe85c31251032e7": {
      "model_module": "@jupyter-widgets/controls",
      "model_module_version": "1.5.0",
      "model_name": "HTMLModel",
      "state": {
       "layout": "IPY_MODEL_c6597e5e05f1424fbe5530b674f1fc9e",
       "style": "IPY_MODEL_648d9b71882145b1960b537793849446",
       "value": " 2/2 [00:00&lt;00:00, 1005.59it/s]"
      }
     },
     "ffa59ff49a3f4bddac0a609b16e5de30": {
      "model_module": "@jupyter-widgets/controls",
      "model_module_version": "1.5.0",
      "model_name": "HTMLModel",
      "state": {
       "layout": "IPY_MODEL_10d59b518ddc490297848f6c0849e83a",
       "style": "IPY_MODEL_c4e44f06027446d2987c817d3ef3a065",
       "value": "removing duplicates: "
      }
     }
    },
    "version_major": 2,
    "version_minor": 0
   }
  }
 },
 "nbformat": 4,
 "nbformat_minor": 5
}
