{
 "cells": [
  {
   "cell_type": "code",
   "execution_count": null,
   "id": "535db849-8457-4622-a616-3e0dadd96f16",
   "metadata": {
    "notebookRunGroups": {
     "groupValue": "1"
    },
    "tags": []
   },
   "outputs": [],
   "source": [
    "import os\n",
    "from pathlib import Path\n",
    "import numpy as np\n",
    "from tqdm.auto import tqdm\n",
    "import pickle\n",
    "from collections import defaultdict\n",
    "import importlib\n",
    "from matplotlib import pyplot as plt\n",
    "from tqdm.auto import tqdm\n",
    "\n",
    "from themachinethatgoesping.echosounders import kongsbergall, simradraw, index_functions\n",
    "from themachinethatgoesping import pingprocessing as pp\n",
    "from themachinethatgoesping import tools as ptools"
   ]
  },
  {
   "cell_type": "code",
   "execution_count": null,
   "id": "49e232c3-6b7f-49ef-a074-d645227b9f92",
   "metadata": {
    "notebookRunGroups": {
     "groupValue": "1"
    },
    "tags": []
   },
   "outputs": [],
   "source": [
    "import themachinethatgoesping as tmtgp\n",
    "tmtgp.version()"
   ]
  },
  {
   "cell_type": "code",
   "execution_count": null,
   "id": "a85ea320-1f61-4fdd-8cec-dbe63a653aed",
   "metadata": {
    "notebookRunGroups": {
     "groupValue": "1"
    },
    "tags": []
   },
   "outputs": [],
   "source": [
    "#create the output path\n",
    "path_out = \"../unittest_data/\"\n",
    "path_in = \"./data_in/\"\n",
    "\n",
    "os.makedirs(path_out,exist_ok=True)\n",
    "os.makedirs(path_in,exist_ok=True)"
   ]
  },
  {
   "cell_type": "markdown",
   "id": "2cfcbd6d-2df8-404b-ad5a-67532fdb775a",
   "metadata": {
    "tags": []
   },
   "source": [
    "## Explore and sort input data"
   ]
  },
  {
   "cell_type": "code",
   "execution_count": null,
   "id": "74ddfc03-fa89-45a3-8089-89ccfcced81f",
   "metadata": {
    "notebookRunGroups": {
     "groupValue": "1"
    },
    "tags": []
   },
   "outputs": [],
   "source": [
    "folders = index_functions.find_folders_with_files(path_in, [\".all\",\".wcd\", '.raw'], followlinks=True)\n",
    "folders.sort()\n",
    "N = 10\n",
    "\n",
    "for input_path in folders:\n",
    "    print(input_path)"
   ]
  },
  {
   "cell_type": "code",
   "execution_count": null,
   "id": "15ff22d7-dc11-4f5b-ad6f-eb40b550db29",
   "metadata": {},
   "outputs": [],
   "source": [
    "all_files = index_functions.find_files(folders, ['.raw','.wcd','.all'], followlinks=True, verbose=False)\n",
    "prg = tqdm(total=len(all_files), desc=\"Creating test data\", unit=\"files\")\n",
    "\n",
    "for input_path in folders:\n",
    "    for endings, prefix, postfix, InputFileHandler in [\n",
    "        [\n",
    "            \".raw\",\n",
    "            \"raw\",\n",
    "            \".raw\",\n",
    "            simradraw.SimradRawFileHandler,\n",
    "        ],\n",
    "        [\n",
    "            \".all\",\n",
    "            \"all\",\n",
    "            \".all\",\n",
    "            kongsbergall.KongsbergAllFileHandler,\n",
    "        ],\n",
    "        [\n",
    "            \".wcd\",\n",
    "            \"wcd\",\n",
    "            \".wcd\",\n",
    "            kongsbergall.KongsbergAllFileHandler,\n",
    "        ],\n",
    "    ]:\n",
    "\n",
    "        prg.set_postfix_str(f\"{input_path} / {prefix}\")\n",
    "\n",
    "        prg.set_description(f\"finding files\")\n",
    "        input_files = index_functions.find_files(input_path, endings, followlinks=True, verbose=False)\n",
    "\n",
    "        if not input_files:\n",
    "            print(f\"- No {endings} files in {input_path}\")\n",
    "            continue\n",
    "\n",
    "        for file in input_files:\n",
    "            try:\n",
    "                prg.set_postfix_str(f\"{file}\")\n",
    "\n",
    "                # open and index files\n",
    "                prg.set_description(f\"opening files\")\n",
    "\n",
    "                fm = InputFileHandler(file, show_progress=False)\n",
    "\n",
    "                if(len(fm.get_pings()) < N):\n",
    "                    raise RuntimeError(f\"Less then {N} pings in file\")\n",
    "\n",
    "                # create new file name\n",
    "                file_name, file_extension = os.path.splitext(os.path.split(file)[1])\n",
    "                \n",
    "                prg.set_description(f\"creating new file name\")\n",
    "                output_file = os.path.join(\n",
    "                    input_path.replace(path_in, path_out), str(hash(file_name)) + file_extension\n",
    "                )  # + hash of the old file name\n",
    "                # print(output_file)\n",
    "                os.makedirs(os.path.split(output_file)[0], exist_ok=True)\n",
    "\n",
    "                prg.set_postfix_str(f\"Writing file {output_file}\")\n",
    "\n",
    "                #get timestamps of all datagrams in Nth ping\n",
    "                timestamps = [d.get_timestamp() for d in fm.get_pings()[N].file_data.datagrams()]\n",
    "\n",
    "                # append timestamp of second PositionDatagram and second AttitudeDatagram\n",
    "                if prefix in [\"all\", \"wcd\"]:                    \n",
    "                    if len(fm.datagram_interface.datagrams(\"PositionDatagram\")) > 1:\n",
    "                        timestamps.append(fm.datagram_interface.datagrams(\"PositionDatagram\")[1].get_timestamp())    \n",
    "                    if len(fm.datagram_interface.datagrams(\"AttitudeDatagram\")) > 1:                \n",
    "                        timestamps.append(fm.datagram_interface.datagrams(\"AttitudeDatagram\")[1].get_timestamp())\n",
    "                else:\n",
    "                    timestamps.append(fm.datagram_interface.datagrams(\"NME0\")[1].get_timestamp())\n",
    "\n",
    "                #compute largest timestamp\n",
    "                max_timestamp = np.nanmax(timestamps)\n",
    "\n",
    "                with open(output_file, \"wb\") as ofi:\n",
    "                    for d in fm.datagram_interface.datagrams():\n",
    "                        if d.get_timestamp() > max_timestamp:\n",
    "                            break\n",
    "                        ofi.write(d.to_binary())\n",
    "            except Exception as e:\n",
    "                print(f\"--- Error with {file} ---\")\n",
    "                print(f\"Error: {e}\")\n",
    "                print(\"---\")\n",
    "            prg.update(1)\n"
   ]
  },
  {
   "cell_type": "code",
   "execution_count": null,
   "id": "459f62bd",
   "metadata": {},
   "outputs": [],
   "source": [
    "input_files"
   ]
  },
  {
   "cell_type": "code",
   "execution_count": null,
   "id": "99b02825",
   "metadata": {},
   "outputs": [],
   "source": [
    "fm = simradraw.SimradRawFileHandler(input_files[4], show_progress=False)"
   ]
  },
  {
   "cell_type": "code",
   "execution_count": null,
   "id": "239349b3",
   "metadata": {},
   "outputs": [],
   "source": [
    "print(fm)"
   ]
  },
  {
   "cell_type": "code",
   "execution_count": null,
   "id": "86b7fc9b",
   "metadata": {},
   "outputs": [],
   "source": []
  }
 ],
 "metadata": {
  "kernelspec": {
   "display_name": "Python 3 (ipykernel)",
   "language": "python",
   "name": "python3"
  },
  "language_info": {
   "codemirror_mode": {
    "name": "ipython",
    "version": 3
   },
   "file_extension": ".py",
   "mimetype": "text/x-python",
   "name": "python",
   "nbconvert_exporter": "python",
   "pygments_lexer": "ipython3",
   "version": "3.12.2"
  },
  "widgets": {
   "application/vnd.jupyter.widget-state+json": {
    "state": {
     "00623b479dcf466e95549daf0628d8a7": {
      "model_module": "@jupyter-widgets/controls",
      "model_module_version": "2.0.0",
      "model_name": "HTMLStyleModel",
      "state": {
       "description_width": "",
       "font_size": null,
       "text_color": null
      }
     },
     "00aa09170f8f48a09eaa75c810776343": {
      "model_module": "@jupyter-widgets/controls",
      "model_module_version": "2.0.0",
      "model_name": "ProgressStyleModel",
      "state": {
       "description_width": ""
      }
     },
     "01038d2f886d4b0593401aaae4f3c220": {
      "model_module": "@jupyter-widgets/controls",
      "model_module_version": "2.0.0",
      "model_name": "HTMLModel",
      "state": {
       "layout": "IPY_MODEL_4b6e0244e5d14bd694aa934c3cbeb47c",
       "style": "IPY_MODEL_49cb898f79b14110a6adc4b5caf264db",
       "value": "removing duplicates: "
      }
     },
     "01caaf882593480b91aa50476e718e80": {
      "model_module": "@jupyter-widgets/controls",
      "model_module_version": "2.0.0",
      "model_name": "HTMLModel",
      "state": {
       "layout": "IPY_MODEL_633fa0c2d5b546c59389a8e3267b2586",
       "style": "IPY_MODEL_e44c2b8b629d46d0b4b3c1541aab047a",
       "value": "removing duplicates: 100%"
      }
     },
     "0243b0a8217144a6b43bbc4e674192b2": {
      "model_module": "@jupyter-widgets/controls",
      "model_module_version": "2.0.0",
      "model_name": "FloatProgressModel",
      "state": {
       "bar_style": "success",
       "layout": "IPY_MODEL_dba457d2c5994e7eb33f50bb99fe877b",
       "max": 1,
       "style": "IPY_MODEL_655bd8821d324a959fc3f3954b174197",
       "value": 1
      }
     },
     "0366db5ee07f4d179b37d17c99cf6cf3": {
      "model_module": "@jupyter-widgets/base",
      "model_module_version": "2.0.0",
      "model_name": "LayoutModel",
      "state": {}
     },
     "03a7d5a7bc3645519c5cda7640146745": {
      "model_module": "@jupyter-widgets/base",
      "model_module_version": "2.0.0",
      "model_name": "LayoutModel",
      "state": {}
     },
     "03cabb8de35e48f59409b3aa3b239850": {
      "model_module": "@jupyter-widgets/base",
      "model_module_version": "2.0.0",
      "model_name": "LayoutModel",
      "state": {}
     },
     "0558a810b48e4ab1ab1ba1482f824992": {
      "model_module": "@jupyter-widgets/base",
      "model_module_version": "2.0.0",
      "model_name": "LayoutModel",
      "state": {}
     },
     "05ac699caa0747c48f09b4ebb5999e6c": {
      "model_module": "@jupyter-widgets/base",
      "model_module_version": "2.0.0",
      "model_name": "LayoutModel",
      "state": {}
     },
     "06dcf26ca6d7489c8f150572c860e344": {
      "model_module": "@jupyter-widgets/controls",
      "model_module_version": "2.0.0",
      "model_name": "HTMLStyleModel",
      "state": {
       "description_width": "",
       "font_size": null,
       "text_color": null
      }
     },
     "0706ad81b50a40468a47755e1e70281b": {
      "model_module": "@jupyter-widgets/controls",
      "model_module_version": "2.0.0",
      "model_name": "HBoxModel",
      "state": {
       "children": [
        "IPY_MODEL_80b2c7fbf27145679e1fd268b0da1c86",
        "IPY_MODEL_800aca084cc04379917c65f44f9fd6fe",
        "IPY_MODEL_b899fbe08a52447fb1931e5b27002030"
       ],
       "layout": "IPY_MODEL_5db811a26f21439a9b725ff395ae7546"
      }
     },
     "079aef2fedd4477cbb3007bd17b3d253": {
      "model_module": "@jupyter-widgets/base",
      "model_module_version": "2.0.0",
      "model_name": "LayoutModel",
      "state": {}
     },
     "079b64b54db44e128cb101f9b70c8197": {
      "model_module": "@jupyter-widgets/base",
      "model_module_version": "2.0.0",
      "model_name": "LayoutModel",
      "state": {}
     },
     "07f7e00860e948ec94f459ea9bdebf0b": {
      "model_module": "@jupyter-widgets/controls",
      "model_module_version": "2.0.0",
      "model_name": "HTMLModel",
      "state": {
       "layout": "IPY_MODEL_110d2b38a2ff499db8356e1126fb45c7",
       "style": "IPY_MODEL_f8e6f981cddb4e04a8519476c5ec0dd5",
       "value": " 1/1 [00:00&lt;00:00, 530.92it/s]"
      }
     },
     "085b0f633fc54aa9b3783a576b198d61": {
      "model_module": "@jupyter-widgets/controls",
      "model_module_version": "2.0.0",
      "model_name": "HTMLStyleModel",
      "state": {
       "description_width": "",
       "font_size": null,
       "text_color": null
      }
     },
     "099fb0091ec844288ae4c7f273a04445": {
      "model_module": "@jupyter-widgets/base",
      "model_module_version": "2.0.0",
      "model_name": "LayoutModel",
      "state": {}
     },
     "09fd0e204061457fa257f4434d63e4f1": {
      "model_module": "@jupyter-widgets/controls",
      "model_module_version": "2.0.0",
      "model_name": "HTMLStyleModel",
      "state": {
       "description_width": "",
       "font_size": null,
       "text_color": null
      }
     },
     "0a07f747bde1413fb45e71283201f923": {
      "model_module": "@jupyter-widgets/controls",
      "model_module_version": "2.0.0",
      "model_name": "HTMLModel",
      "state": {
       "layout": "IPY_MODEL_c6b6213a1fda41458aac6d2af43ee6a9",
       "style": "IPY_MODEL_2287d02733704854bb7acac584b4e6c2",
       "value": " 0/0 [00:00&lt;?, ?it/s]"
      }
     },
     "0a0bf84176c645188ffd71e0b8efa270": {
      "model_module": "@jupyter-widgets/controls",
      "model_module_version": "2.0.0",
      "model_name": "HTMLModel",
      "state": {
       "layout": "IPY_MODEL_475309a84848458085e6c40ea26a2951",
       "style": "IPY_MODEL_86d8d947ce2d416d80254487bf251ea9",
       "value": " 1/1 [00:00&lt;00:00, 542.18it/s]"
      }
     },
     "0cead539163044078194d61f584f67c6": {
      "model_module": "@jupyter-widgets/base",
      "model_module_version": "2.0.0",
      "model_name": "LayoutModel",
      "state": {}
     },
     "0d06ee23df694cb0bb502ea758125338": {
      "model_module": "@jupyter-widgets/controls",
      "model_module_version": "2.0.0",
      "model_name": "HTMLModel",
      "state": {
       "layout": "IPY_MODEL_873f93a60a9d4347809d7fb21aeae81d",
       "style": "IPY_MODEL_86bcb45bbfa84a50be6df06417d6e980",
       "value": " 1/1 [00:00&lt;00:00, 620.83it/s]"
      }
     },
     "0e32c6f445564063872592a629f31f70": {
      "model_module": "@jupyter-widgets/base",
      "model_module_version": "2.0.0",
      "model_name": "LayoutModel",
      "state": {}
     },
     "0e6620c01bea454a8744c4ca4da47685": {
      "model_module": "@jupyter-widgets/base",
      "model_module_version": "2.0.0",
      "model_name": "LayoutModel",
      "state": {}
     },
     "0f507c30020544bc87bbaa0bc5e9bbc0": {
      "model_module": "@jupyter-widgets/controls",
      "model_module_version": "2.0.0",
      "model_name": "HTMLModel",
      "state": {
       "layout": "IPY_MODEL_7347b66a833e4aadb1715c645834c028",
       "style": "IPY_MODEL_3484fbf689ed4be2a0eacb236df8ea52",
       "value": " 1/1 [00:00&lt;00:00, 493.62it/s]"
      }
     },
     "1105bfdb0bf44a278a2bd87f070b3bf0": {
      "model_module": "@jupyter-widgets/controls",
      "model_module_version": "2.0.0",
      "model_name": "HTMLStyleModel",
      "state": {
       "description_width": "",
       "font_size": null,
       "text_color": null
      }
     },
     "110d2b38a2ff499db8356e1126fb45c7": {
      "model_module": "@jupyter-widgets/base",
      "model_module_version": "2.0.0",
      "model_name": "LayoutModel",
      "state": {}
     },
     "1183e55f86514d4cafdd86bd2fa7d9b1": {
      "model_module": "@jupyter-widgets/base",
      "model_module_version": "2.0.0",
      "model_name": "LayoutModel",
      "state": {}
     },
     "11b9cdd600ad4a06b65eebdb1383bcdf": {
      "model_module": "@jupyter-widgets/base",
      "model_module_version": "2.0.0",
      "model_name": "LayoutModel",
      "state": {}
     },
     "12924cb8de1948bb90fb3e5c267bce21": {
      "model_module": "@jupyter-widgets/controls",
      "model_module_version": "2.0.0",
      "model_name": "HTMLModel",
      "state": {
       "layout": "IPY_MODEL_0e6620c01bea454a8744c4ca4da47685",
       "style": "IPY_MODEL_323625389dfc40c983534a05ae3ccc82",
       "value": " 2/2 [00:00&lt;00:00, 1108.14it/s]"
      }
     },
     "12aab6474f144cdcaea904bfcdcda0f6": {
      "model_module": "@jupyter-widgets/base",
      "model_module_version": "2.0.0",
      "model_name": "LayoutModel",
      "state": {}
     },
     "13747085f7d54aa68fd8f266ea00d9de": {
      "model_module": "@jupyter-widgets/controls",
      "model_module_version": "2.0.0",
      "model_name": "HBoxModel",
      "state": {
       "children": [
        "IPY_MODEL_93c6772618154f10bd2857531667b6f8",
        "IPY_MODEL_c7f129ce55594c108338134fbd875f40",
        "IPY_MODEL_12924cb8de1948bb90fb3e5c267bce21"
       ],
       "layout": "IPY_MODEL_bf6a985a5d2844d38d9436576b91de97"
      }
     },
     "1472ec6e808547e5ac415975f9a6e8b9": {
      "model_module": "@jupyter-widgets/controls",
      "model_module_version": "2.0.0",
      "model_name": "ProgressStyleModel",
      "state": {
       "description_width": ""
      }
     },
     "152fdaf2f84c440495dfeb82c5fced8b": {
      "model_module": "@jupyter-widgets/base",
      "model_module_version": "2.0.0",
      "model_name": "LayoutModel",
      "state": {}
     },
     "16c479eb54ef4cc09be3351d0387e270": {
      "model_module": "@jupyter-widgets/controls",
      "model_module_version": "2.0.0",
      "model_name": "HTMLStyleModel",
      "state": {
       "description_width": "",
       "font_size": null,
       "text_color": null
      }
     },
     "1716ac7540e149b5a6d2ea7f3c8657f5": {
      "model_module": "@jupyter-widgets/base",
      "model_module_version": "2.0.0",
      "model_name": "LayoutModel",
      "state": {}
     },
     "17d133f6ce6c4e87947fd8dfbf0f28c9": {
      "model_module": "@jupyter-widgets/controls",
      "model_module_version": "2.0.0",
      "model_name": "HTMLModel",
      "state": {
       "layout": "IPY_MODEL_03a7d5a7bc3645519c5cda7640146745",
       "style": "IPY_MODEL_a09e69541db74c34bb9ab800cf0a4e7c",
       "value": " 1/1 [00:00&lt;00:00, 575.43it/s]"
      }
     },
     "1889c77bba7045c6bc9b1231e47de33a": {
      "model_module": "@jupyter-widgets/controls",
      "model_module_version": "2.0.0",
      "model_name": "ProgressStyleModel",
      "state": {
       "description_width": ""
      }
     },
     "191807c903e74b1f9fbbc17af7c09c30": {
      "model_module": "@jupyter-widgets/base",
      "model_module_version": "2.0.0",
      "model_name": "LayoutModel",
      "state": {}
     },
     "193c7eda796441518cd1a60b52f40073": {
      "model_module": "@jupyter-widgets/controls",
      "model_module_version": "2.0.0",
      "model_name": "HTMLStyleModel",
      "state": {
       "description_width": "",
       "font_size": null,
       "text_color": null
      }
     },
     "194f88cbc3f24380a09869ac3ad32608": {
      "model_module": "@jupyter-widgets/base",
      "model_module_version": "2.0.0",
      "model_name": "LayoutModel",
      "state": {}
     },
     "1ad6a4f348a44d1eb035c69deb4e8e0e": {
      "model_module": "@jupyter-widgets/controls",
      "model_module_version": "2.0.0",
      "model_name": "HTMLStyleModel",
      "state": {
       "description_width": "",
       "font_size": null,
       "text_color": null
      }
     },
     "1b0f9d05d9bf4b82af9f79cff590761e": {
      "model_module": "@jupyter-widgets/controls",
      "model_module_version": "2.0.0",
      "model_name": "HTMLStyleModel",
      "state": {
       "description_width": "",
       "font_size": null,
       "text_color": null
      }
     },
     "1bb60e0ac1164fb6953cdb033bc2afa8": {
      "model_module": "@jupyter-widgets/controls",
      "model_module_version": "2.0.0",
      "model_name": "HTMLStyleModel",
      "state": {
       "description_width": "",
       "font_size": null,
       "text_color": null
      }
     },
     "1c6441a979774fb8b56388291e8f71ad": {
      "model_module": "@jupyter-widgets/controls",
      "model_module_version": "2.0.0",
      "model_name": "HTMLModel",
      "state": {
       "layout": "IPY_MODEL_8084f26338bd469fa4f5ca08ec91cafc",
       "style": "IPY_MODEL_193c7eda796441518cd1a60b52f40073",
       "value": " 1/1 [00:00&lt;00:00, 574.01it/s]"
      }
     },
     "1cd36d2f66024eb0baae951d63bc252c": {
      "model_module": "@jupyter-widgets/base",
      "model_module_version": "2.0.0",
      "model_name": "LayoutModel",
      "state": {}
     },
     "1da7bd8faf2e4b16b241b0a3a7a37e78": {
      "model_module": "@jupyter-widgets/base",
      "model_module_version": "2.0.0",
      "model_name": "LayoutModel",
      "state": {}
     },
     "1dd1a987ae3548a7a57e37a1681ccb9e": {
      "model_module": "@jupyter-widgets/controls",
      "model_module_version": "2.0.0",
      "model_name": "ProgressStyleModel",
      "state": {
       "description_width": ""
      }
     },
     "1f91d4d17e0c4a0a9b8285641c8a8da1": {
      "model_module": "@jupyter-widgets/base",
      "model_module_version": "2.0.0",
      "model_name": "LayoutModel",
      "state": {}
     },
     "205e9c7a646d461eacab9559e875b5bc": {
      "model_module": "@jupyter-widgets/base",
      "model_module_version": "2.0.0",
      "model_name": "LayoutModel",
      "state": {}
     },
     "219a378e1abf4d25b4d4de314edcab92": {
      "model_module": "@jupyter-widgets/controls",
      "model_module_version": "2.0.0",
      "model_name": "HTMLStyleModel",
      "state": {
       "description_width": "",
       "font_size": null,
       "text_color": null
      }
     },
     "227f4bdbd7bd46e6920ef5833b1119d3": {
      "model_module": "@jupyter-widgets/controls",
      "model_module_version": "2.0.0",
      "model_name": "ProgressStyleModel",
      "state": {
       "description_width": ""
      }
     },
     "2287d02733704854bb7acac584b4e6c2": {
      "model_module": "@jupyter-widgets/controls",
      "model_module_version": "2.0.0",
      "model_name": "HTMLStyleModel",
      "state": {
       "description_width": "",
       "font_size": null,
       "text_color": null
      }
     },
     "229f56afd2d04654ada70cea88d3f6a6": {
      "model_module": "@jupyter-widgets/base",
      "model_module_version": "2.0.0",
      "model_name": "LayoutModel",
      "state": {}
     },
     "234f3cfe86c1422e842d84fb440b2499": {
      "model_module": "@jupyter-widgets/base",
      "model_module_version": "2.0.0",
      "model_name": "LayoutModel",
      "state": {}
     },
     "2472e3b2abc2496fbc988a3257039243": {
      "model_module": "@jupyter-widgets/controls",
      "model_module_version": "2.0.0",
      "model_name": "HTMLStyleModel",
      "state": {
       "description_width": "",
       "font_size": null,
       "text_color": null
      }
     },
     "254a51ed2afc41c3ae9c481d44a31e04": {
      "model_module": "@jupyter-widgets/controls",
      "model_module_version": "2.0.0",
      "model_name": "HTMLModel",
      "state": {
       "layout": "IPY_MODEL_5e26ad48a4fc47c29ce5b7db1dfb3947",
       "style": "IPY_MODEL_af968abb608640baa78d6e1e91276f71",
       "value": "removing duplicates: 100%"
      }
     },
     "25c9341dae344e4f98c86d335e39009e": {
      "model_module": "@jupyter-widgets/controls",
      "model_module_version": "2.0.0",
      "model_name": "HTMLModel",
      "state": {
       "layout": "IPY_MODEL_0558a810b48e4ab1ab1ba1482f824992",
       "style": "IPY_MODEL_4f0d31857b1c4db9a63aa0561e895e5a",
       "value": "removing duplicates: 100%"
      }
     },
     "263533ea2ae440f7a5732a33153ab2e5": {
      "model_module": "@jupyter-widgets/controls",
      "model_module_version": "2.0.0",
      "model_name": "HTMLStyleModel",
      "state": {
       "description_width": "",
       "font_size": null,
       "text_color": null
      }
     },
     "26aeac25efb04d418190de8558d6c9b0": {
      "model_module": "@jupyter-widgets/controls",
      "model_module_version": "2.0.0",
      "model_name": "HTMLModel",
      "state": {
       "layout": "IPY_MODEL_c3fa8cf3dc704da7baf420e8b6c7ebdd",
       "style": "IPY_MODEL_2eaefc5be43f43a7b4095750e567f74d",
       "value": " 1/1 [00:00&lt;00:00, 508.15it/s]"
      }
     },
     "26deb5f7fe25491493b43e5b0111c66d": {
      "model_module": "@jupyter-widgets/base",
      "model_module_version": "2.0.0",
      "model_name": "LayoutModel",
      "state": {}
     },
     "2705b95eba8a4449bd7ddd15d4946b10": {
      "model_module": "@jupyter-widgets/controls",
      "model_module_version": "2.0.0",
      "model_name": "HBoxModel",
      "state": {
       "children": [
        "IPY_MODEL_56b4f3b4edcf4fce8d7f5a206e093a5b",
        "IPY_MODEL_f5d9beff73754d85903df406fbfc1d60",
        "IPY_MODEL_376761a73eab41d1acefd3e011a2da69"
       ],
       "layout": "IPY_MODEL_26deb5f7fe25491493b43e5b0111c66d"
      }
     },
     "27930babb5ff44b9b16da2ff0a183874": {
      "model_module": "@jupyter-widgets/controls",
      "model_module_version": "2.0.0",
      "model_name": "ProgressStyleModel",
      "state": {
       "description_width": ""
      }
     },
     "28ad5e23825e4633b73d64de2d5730ea": {
      "model_module": "@jupyter-widgets/controls",
      "model_module_version": "2.0.0",
      "model_name": "HTMLModel",
      "state": {
       "layout": "IPY_MODEL_421a70ee22f14ea8923c65fc705e4ab4",
       "style": "IPY_MODEL_7f697c53b56746d3a6ea7815922b4466",
       "value": " 1/1 [00:00&lt;00:00, 543.51it/s]"
      }
     },
     "29d038e6f8e144339c66a959729639f6": {
      "model_module": "@jupyter-widgets/base",
      "model_module_version": "2.0.0",
      "model_name": "LayoutModel",
      "state": {}
     },
     "2a4dc1b534be48938e083582934d4bbf": {
      "model_module": "@jupyter-widgets/controls",
      "model_module_version": "2.0.0",
      "model_name": "FloatProgressModel",
      "state": {
       "bar_style": "success",
       "layout": "IPY_MODEL_e45f5e526c494bcb87dc4bfbc6d5f4d0",
       "max": 1,
       "style": "IPY_MODEL_27930babb5ff44b9b16da2ff0a183874",
       "value": 1
      }
     },
     "2b145d904e0c41728d4f7e021b1135a4": {
      "model_module": "@jupyter-widgets/controls",
      "model_module_version": "2.0.0",
      "model_name": "HTMLModel",
      "state": {
       "layout": "IPY_MODEL_cf61fc6e7986416ea821cbc5bb42bba5",
       "style": "IPY_MODEL_874ebb35e9a243d2aed1ee183e917acc",
       "value": " 1/1 [00:00&lt;00:00, 435.64it/s]"
      }
     },
     "2bb509e93e084145a207071a1dcc78f5": {
      "model_module": "@jupyter-widgets/base",
      "model_module_version": "2.0.0",
      "model_name": "LayoutModel",
      "state": {}
     },
     "2bc39aef351749028c7a502552f4a43d": {
      "model_module": "@jupyter-widgets/controls",
      "model_module_version": "2.0.0",
      "model_name": "HTMLModel",
      "state": {
       "layout": "IPY_MODEL_bc214f35ad1849dca30fe1861db90ee2",
       "style": "IPY_MODEL_53184f4d9aac41f1b164dd2799f3e07e",
       "value": " 1/1 [00:00&lt;00:00, 474.36it/s]"
      }
     },
     "2c421324199544ae83fcd508efe16824": {
      "model_module": "@jupyter-widgets/controls",
      "model_module_version": "2.0.0",
      "model_name": "ProgressStyleModel",
      "state": {
       "description_width": ""
      }
     },
     "2deacd89354f4cbfaa4314448fb0aaba": {
      "model_module": "@jupyter-widgets/base",
      "model_module_version": "2.0.0",
      "model_name": "LayoutModel",
      "state": {}
     },
     "2e0e1e02aaf54391a6256f6a11aabea3": {
      "model_module": "@jupyter-widgets/base",
      "model_module_version": "2.0.0",
      "model_name": "LayoutModel",
      "state": {}
     },
     "2eaefc5be43f43a7b4095750e567f74d": {
      "model_module": "@jupyter-widgets/controls",
      "model_module_version": "2.0.0",
      "model_name": "HTMLStyleModel",
      "state": {
       "description_width": "",
       "font_size": null,
       "text_color": null
      }
     },
     "2ed9adbea6ac4ef9907dc7ce9650cfd8": {
      "model_module": "@jupyter-widgets/controls",
      "model_module_version": "2.0.0",
      "model_name": "FloatProgressModel",
      "state": {
       "bar_style": "success",
       "layout": "IPY_MODEL_3b4a3792bfc84662b0d5b3afd95de954",
       "max": 1,
       "style": "IPY_MODEL_5b300a3bf3cb4842910bc495e253aab3",
       "value": 1
      }
     },
     "2f37ddf99fd44af0904bbbbcab3691b1": {
      "model_module": "@jupyter-widgets/controls",
      "model_module_version": "2.0.0",
      "model_name": "HTMLModel",
      "state": {
       "layout": "IPY_MODEL_62affe263f3240c28dbbbc7b9849acbe",
       "style": "IPY_MODEL_1bb60e0ac1164fb6953cdb033bc2afa8",
       "value": " 1/1 [00:00&lt;00:00, 577.17it/s]"
      }
     },
     "2fe87054ce0b42a8a4cf687dc0480084": {
      "model_module": "@jupyter-widgets/base",
      "model_module_version": "2.0.0",
      "model_name": "LayoutModel",
      "state": {}
     },
     "323625389dfc40c983534a05ae3ccc82": {
      "model_module": "@jupyter-widgets/controls",
      "model_module_version": "2.0.0",
      "model_name": "HTMLStyleModel",
      "state": {
       "description_width": "",
       "font_size": null,
       "text_color": null
      }
     },
     "328edb8dc63d41a6b2b9d3ae6d22cef7": {
      "model_module": "@jupyter-widgets/controls",
      "model_module_version": "2.0.0",
      "model_name": "HTMLModel",
      "state": {
       "layout": "IPY_MODEL_eb5c8f1ed5c4498990294974c1b353a7",
       "style": "IPY_MODEL_b843744dca454cbeaa04f3ba76a4614e",
       "value": " 2/2 [00:00&lt;00:00, 1024.88it/s]"
      }
     },
     "3311ee92166943f0ab7ae9adb29ec485": {
      "model_module": "@jupyter-widgets/base",
      "model_module_version": "2.0.0",
      "model_name": "LayoutModel",
      "state": {}
     },
     "33cc86c7f7904e37b71c01373d093966": {
      "model_module": "@jupyter-widgets/base",
      "model_module_version": "2.0.0",
      "model_name": "LayoutModel",
      "state": {}
     },
     "3484fbf689ed4be2a0eacb236df8ea52": {
      "model_module": "@jupyter-widgets/controls",
      "model_module_version": "2.0.0",
      "model_name": "HTMLStyleModel",
      "state": {
       "description_width": "",
       "font_size": null,
       "text_color": null
      }
     },
     "363486f006164e519ea26c9551ab2727": {
      "model_module": "@jupyter-widgets/base",
      "model_module_version": "2.0.0",
      "model_name": "LayoutModel",
      "state": {}
     },
     "366b3144539d454e8052ca4e325930a7": {
      "model_module": "@jupyter-widgets/controls",
      "model_module_version": "2.0.0",
      "model_name": "HBoxModel",
      "state": {
       "children": [
        "IPY_MODEL_9ae3608f03bd4d66803022d65ff48253",
        "IPY_MODEL_9325910534fd459e9d9bf260632d45b9",
        "IPY_MODEL_1c6441a979774fb8b56388291e8f71ad"
       ],
       "layout": "IPY_MODEL_0366db5ee07f4d179b37d17c99cf6cf3"
      }
     },
     "36e11d878d6f469785ed12292af673b5": {
      "model_module": "@jupyter-widgets/controls",
      "model_module_version": "2.0.0",
      "model_name": "HTMLStyleModel",
      "state": {
       "description_width": "",
       "font_size": null,
       "text_color": null
      }
     },
     "36e50d22d2df48358898fd47f83abc0e": {
      "model_module": "@jupyter-widgets/base",
      "model_module_version": "2.0.0",
      "model_name": "LayoutModel",
      "state": {}
     },
     "376761a73eab41d1acefd3e011a2da69": {
      "model_module": "@jupyter-widgets/controls",
      "model_module_version": "2.0.0",
      "model_name": "HTMLModel",
      "state": {
       "layout": "IPY_MODEL_4f3e0069cc624d939d5bb5d176de670b",
       "style": "IPY_MODEL_eea68594fa764fe7a8f92e4439e2b104",
       "value": " 0/0 [00:00&lt;?, ?it/s]"
      }
     },
     "37f13527c2e9418db18d955d7165226b": {
      "model_module": "@jupyter-widgets/controls",
      "model_module_version": "2.0.0",
      "model_name": "HTMLStyleModel",
      "state": {
       "description_width": "",
       "font_size": null,
       "text_color": null
      }
     },
     "38859cd98d48480ba165082596429069": {
      "model_module": "@jupyter-widgets/base",
      "model_module_version": "2.0.0",
      "model_name": "LayoutModel",
      "state": {}
     },
     "393bd23fdfcc43bab8489f39ee3c859b": {
      "model_module": "@jupyter-widgets/controls",
      "model_module_version": "2.0.0",
      "model_name": "HTMLModel",
      "state": {
       "layout": "IPY_MODEL_b65ce30034c34744886a3fb0a023315c",
       "style": "IPY_MODEL_a5cbd91c555040c49377e6341a7bb360",
       "value": "100%"
      }
     },
     "3b4a3792bfc84662b0d5b3afd95de954": {
      "model_module": "@jupyter-widgets/base",
      "model_module_version": "2.0.0",
      "model_name": "LayoutModel",
      "state": {}
     },
     "3b833ad5e8c5404f85f9c47104626b57": {
      "model_module": "@jupyter-widgets/base",
      "model_module_version": "2.0.0",
      "model_name": "LayoutModel",
      "state": {}
     },
     "3d8d304356ac419ba48be1cb824cc977": {
      "model_module": "@jupyter-widgets/controls",
      "model_module_version": "2.0.0",
      "model_name": "HBoxModel",
      "state": {
       "children": [
        "IPY_MODEL_bbbe61ade74c4b3a9700f5de7e68e9dd",
        "IPY_MODEL_fc5513f3dba648a6b40a5e7430c7b84a",
        "IPY_MODEL_2f37ddf99fd44af0904bbbbcab3691b1"
       ],
       "layout": "IPY_MODEL_a471d5117a2740499493e3be9f7ed179"
      }
     },
     "3ea8efdd6bd14d4b8c2a5f1ab81b57b2": {
      "model_module": "@jupyter-widgets/controls",
      "model_module_version": "2.0.0",
      "model_name": "HTMLModel",
      "state": {
       "layout": "IPY_MODEL_b71d1f8cd6fd470995aff209e53ae29e",
       "style": "IPY_MODEL_37f13527c2e9418db18d955d7165226b",
       "value": " 1/1 [00:00&lt;00:00, 120.52it/s]"
      }
     },
     "3edb28bee428436db04bb42022715e10": {
      "model_module": "@jupyter-widgets/controls",
      "model_module_version": "2.0.0",
      "model_name": "HBoxModel",
      "state": {
       "children": [
        "IPY_MODEL_d7144dbc2ac74b198f1d1b88ed1002a9",
        "IPY_MODEL_6e8460f83e9e45f59fb57d67719db922",
        "IPY_MODEL_e3a51c0c88ea43ddafbe2de4c8a29f0e"
       ],
       "layout": "IPY_MODEL_205e9c7a646d461eacab9559e875b5bc"
      }
     },
     "3f5337d5669b4010bbfbdeb441c8d2dc": {
      "model_module": "@jupyter-widgets/controls",
      "model_module_version": "2.0.0",
      "model_name": "HTMLStyleModel",
      "state": {
       "description_width": "",
       "font_size": null,
       "text_color": null
      }
     },
     "3fca48e0be744da0a85a36e119567d0b": {
      "model_module": "@jupyter-widgets/base",
      "model_module_version": "2.0.0",
      "model_name": "LayoutModel",
      "state": {}
     },
     "3ffc0d6b09d04ec1b7378b6ed862a556": {
      "model_module": "@jupyter-widgets/controls",
      "model_module_version": "2.0.0",
      "model_name": "HTMLModel",
      "state": {
       "layout": "IPY_MODEL_c3746d51891e4f01ab943cb8a4cbdce0",
       "style": "IPY_MODEL_53e50efc0b1945d39ee4aa475e027b6d",
       "value": "100%"
      }
     },
     "4122c31d2d4a4df6b5b27beec0c898fb": {
      "model_module": "@jupyter-widgets/controls",
      "model_module_version": "2.0.0",
      "model_name": "HTMLStyleModel",
      "state": {
       "description_width": "",
       "font_size": null,
       "text_color": null
      }
     },
     "4152548a3aaa42baa64b4e3a522cc5d0": {
      "model_module": "@jupyter-widgets/base",
      "model_module_version": "2.0.0",
      "model_name": "LayoutModel",
      "state": {}
     },
     "421a70ee22f14ea8923c65fc705e4ab4": {
      "model_module": "@jupyter-widgets/base",
      "model_module_version": "2.0.0",
      "model_name": "LayoutModel",
      "state": {}
     },
     "42cd9589c466403da4fcd1e5cbdcee56": {
      "model_module": "@jupyter-widgets/base",
      "model_module_version": "2.0.0",
      "model_name": "LayoutModel",
      "state": {}
     },
     "45016f0143314f2c8e7bd0bdbd93b1d3": {
      "model_module": "@jupyter-widgets/base",
      "model_module_version": "2.0.0",
      "model_name": "LayoutModel",
      "state": {}
     },
     "454492ff24d84bc7b25bbfc2a7d673fa": {
      "model_module": "@jupyter-widgets/controls",
      "model_module_version": "2.0.0",
      "model_name": "HBoxModel",
      "state": {
       "children": [
        "IPY_MODEL_ca3082538e8a464698077371c19f0034",
        "IPY_MODEL_ad1c7d0624da4fc4984ef044e9cf7043",
        "IPY_MODEL_2b145d904e0c41728d4f7e021b1135a4"
       ],
       "layout": "IPY_MODEL_db3a36d3b2104a02a087ea84785ee07a"
      }
     },
     "45a3fa94f4d048d1a71639722ace0816": {
      "model_module": "@jupyter-widgets/base",
      "model_module_version": "2.0.0",
      "model_name": "LayoutModel",
      "state": {}
     },
     "4631cabcf3e340e68782f0e619853d09": {
      "model_module": "@jupyter-widgets/controls",
      "model_module_version": "2.0.0",
      "model_name": "HBoxModel",
      "state": {
       "children": [
        "IPY_MODEL_a804277ca6234131bab89753d6c1578b",
        "IPY_MODEL_4deb3d3be21a4a4fa28f7063df5a456f",
        "IPY_MODEL_07f7e00860e948ec94f459ea9bdebf0b"
       ],
       "layout": "IPY_MODEL_234f3cfe86c1422e842d84fb440b2499"
      }
     },
     "475309a84848458085e6c40ea26a2951": {
      "model_module": "@jupyter-widgets/base",
      "model_module_version": "2.0.0",
      "model_name": "LayoutModel",
      "state": {}
     },
     "48ca8f32fd4841a4aaf35b837e4cb544": {
      "model_module": "@jupyter-widgets/controls",
      "model_module_version": "2.0.0",
      "model_name": "HTMLModel",
      "state": {
       "layout": "IPY_MODEL_9a894e0a64cb46799fa1a0f240a02d17",
       "style": "IPY_MODEL_1105bfdb0bf44a278a2bd87f070b3bf0",
       "value": "removing duplicates: 100%"
      }
     },
     "4974d90da4e84e248a9b8373b109101f": {
      "model_module": "@jupyter-widgets/controls",
      "model_module_version": "2.0.0",
      "model_name": "HTMLStyleModel",
      "state": {
       "description_width": "",
       "font_size": null,
       "text_color": null
      }
     },
     "49cb898f79b14110a6adc4b5caf264db": {
      "model_module": "@jupyter-widgets/controls",
      "model_module_version": "2.0.0",
      "model_name": "HTMLStyleModel",
      "state": {
       "description_width": "",
       "font_size": null,
       "text_color": null
      }
     },
     "4b08a7010c0c4a5f9687059dd277b12c": {
      "model_module": "@jupyter-widgets/controls",
      "model_module_version": "2.0.0",
      "model_name": "HTMLModel",
      "state": {
       "layout": "IPY_MODEL_976f6742655e4a439c191256928f9bc9",
       "style": "IPY_MODEL_ac497ac5d31442c5aa947b460a3de46c",
       "value": " 5/5 [00:00&lt;00:00, 2392.10it/s]"
      }
     },
     "4b6e0244e5d14bd694aa934c3cbeb47c": {
      "model_module": "@jupyter-widgets/base",
      "model_module_version": "2.0.0",
      "model_name": "LayoutModel",
      "state": {}
     },
     "4deb3d3be21a4a4fa28f7063df5a456f": {
      "model_module": "@jupyter-widgets/controls",
      "model_module_version": "2.0.0",
      "model_name": "FloatProgressModel",
      "state": {
       "bar_style": "success",
       "layout": "IPY_MODEL_e93f0b8769584c8aa3a604cca41cb8de",
       "max": 1,
       "style": "IPY_MODEL_70292c8674ab4d62b0192d6ce9bc04fa",
       "value": 1
      }
     },
     "4e5f0a1f3a6b412c8ec9e0853a524e52": {
      "model_module": "@jupyter-widgets/controls",
      "model_module_version": "2.0.0",
      "model_name": "HTMLModel",
      "state": {
       "layout": "IPY_MODEL_e5104fead0744d97a9e10ddd51047846",
       "style": "IPY_MODEL_c091a1748fea49bc85ce1812a9bc1cc5",
       "value": " 2/2 [00:00&lt;00:00, 941.27it/s]"
      }
     },
     "4f0d31857b1c4db9a63aa0561e895e5a": {
      "model_module": "@jupyter-widgets/controls",
      "model_module_version": "2.0.0",
      "model_name": "HTMLStyleModel",
      "state": {
       "description_width": "",
       "font_size": null,
       "text_color": null
      }
     },
     "4f3e0069cc624d939d5bb5d176de670b": {
      "model_module": "@jupyter-widgets/base",
      "model_module_version": "2.0.0",
      "model_name": "LayoutModel",
      "state": {}
     },
     "4fa4088a7a00435ab6cb0caf7ace3918": {
      "model_module": "@jupyter-widgets/controls",
      "model_module_version": "2.0.0",
      "model_name": "FloatProgressModel",
      "state": {
       "bar_style": "success",
       "layout": "IPY_MODEL_6f6266150d2a4e389aefc8efaa4d0417",
       "max": 1,
       "style": "IPY_MODEL_227f4bdbd7bd46e6920ef5833b1119d3",
       "value": 1
      }
     },
     "5074f3725f7a4d3b83937d7ea0b4c34f": {
      "model_module": "@jupyter-widgets/controls",
      "model_module_version": "2.0.0",
      "model_name": "HTMLModel",
      "state": {
       "layout": "IPY_MODEL_af009d715194455fab50b042eb413357",
       "style": "IPY_MODEL_b0e35ab0590b47459a60a8c6544e1fe7",
       "value": " 1/1 [00:00&lt;00:00, 456.90it/s]"
      }
     },
     "513ca09e95664d5eac9641abb4efaaa1": {
      "model_module": "@jupyter-widgets/base",
      "model_module_version": "2.0.0",
      "model_name": "LayoutModel",
      "state": {}
     },
     "51c0edeaaddb4082bf72c11ae6e5ca08": {
      "model_module": "@jupyter-widgets/controls",
      "model_module_version": "2.0.0",
      "model_name": "ProgressStyleModel",
      "state": {
       "description_width": ""
      }
     },
     "51d738ffa22b4b5f9788dc347959eee1": {
      "model_module": "@jupyter-widgets/controls",
      "model_module_version": "2.0.0",
      "model_name": "FloatProgressModel",
      "state": {
       "bar_style": "success",
       "layout": "IPY_MODEL_83893fbbf1cb4e079b1cac4609c87504",
       "max": 1,
       "style": "IPY_MODEL_2c421324199544ae83fcd508efe16824",
       "value": 1
      }
     },
     "521ecd9b47e440c3974a3e7a4b096135": {
      "model_module": "@jupyter-widgets/base",
      "model_module_version": "2.0.0",
      "model_name": "LayoutModel",
      "state": {}
     },
     "5270ad63cb8548fba97e5fcd3a97b91d": {
      "model_module": "@jupyter-widgets/base",
      "model_module_version": "2.0.0",
      "model_name": "LayoutModel",
      "state": {}
     },
     "53103ecb4ddb4771a81b6b9626e941d7": {
      "model_module": "@jupyter-widgets/base",
      "model_module_version": "2.0.0",
      "model_name": "LayoutModel",
      "state": {}
     },
     "53184f4d9aac41f1b164dd2799f3e07e": {
      "model_module": "@jupyter-widgets/controls",
      "model_module_version": "2.0.0",
      "model_name": "HTMLStyleModel",
      "state": {
       "description_width": "",
       "font_size": null,
       "text_color": null
      }
     },
     "53e50efc0b1945d39ee4aa475e027b6d": {
      "model_module": "@jupyter-widgets/controls",
      "model_module_version": "2.0.0",
      "model_name": "HTMLStyleModel",
      "state": {
       "description_width": "",
       "font_size": null,
       "text_color": null
      }
     },
     "547a71378690456a8c20ed1cf2fa1c37": {
      "model_module": "@jupyter-widgets/base",
      "model_module_version": "2.0.0",
      "model_name": "LayoutModel",
      "state": {}
     },
     "56050bf476c5487a8ea688f6bc065e58": {
      "model_module": "@jupyter-widgets/base",
      "model_module_version": "2.0.0",
      "model_name": "LayoutModel",
      "state": {}
     },
     "56b4f3b4edcf4fce8d7f5a206e093a5b": {
      "model_module": "@jupyter-widgets/controls",
      "model_module_version": "2.0.0",
      "model_name": "HTMLModel",
      "state": {
       "layout": "IPY_MODEL_678f7eae20044f88914b7b200708ec78",
       "style": "IPY_MODEL_b3b32ef000cb43d096f1a2f86b22c33d",
       "value": "removing duplicates: "
      }
     },
     "57178edb962c48908c3ccc0fc6fa0d97": {
      "model_module": "@jupyter-widgets/controls",
      "model_module_version": "2.0.0",
      "model_name": "HTMLModel",
      "state": {
       "layout": "IPY_MODEL_edaa19cac69b424992bb3e35d0f09ec1",
       "style": "IPY_MODEL_d58a9f6d350c477b97aca67677b9fee0",
       "value": " 1/1 [00:00&lt;00:00, 476.41it/s]"
      }
     },
     "5b300a3bf3cb4842910bc495e253aab3": {
      "model_module": "@jupyter-widgets/controls",
      "model_module_version": "2.0.0",
      "model_name": "ProgressStyleModel",
      "state": {
       "description_width": ""
      }
     },
     "5b811bfa33d74696abc13ef5a0f372fc": {
      "model_module": "@jupyter-widgets/controls",
      "model_module_version": "2.0.0",
      "model_name": "FloatProgressModel",
      "state": {
       "bar_style": "success",
       "layout": "IPY_MODEL_2fe87054ce0b42a8a4cf687dc0480084",
       "max": 1,
       "style": "IPY_MODEL_9854950e7063449bbe69fa9e2c482cec",
       "value": 1
      }
     },
     "5b96641ee9054ef083d4996f4760261d": {
      "model_module": "@jupyter-widgets/controls",
      "model_module_version": "2.0.0",
      "model_name": "HTMLModel",
      "state": {
       "layout": "IPY_MODEL_38859cd98d48480ba165082596429069",
       "style": "IPY_MODEL_219a378e1abf4d25b4d4de314edcab92",
       "value": "100%"
      }
     },
     "5c6ef46acc0444138785ca400b5c4362": {
      "model_module": "@jupyter-widgets/controls",
      "model_module_version": "2.0.0",
      "model_name": "HBoxModel",
      "state": {
       "children": [
        "IPY_MODEL_fa9ce3ffe0fa4a4a99e2e4f0433d807e",
        "IPY_MODEL_c33765eeccec443baa300c38a5e666fd",
        "IPY_MODEL_cce79ae5da774c1592e05f793c5904aa"
       ],
       "layout": "IPY_MODEL_0e32c6f445564063872592a629f31f70"
      }
     },
     "5db811a26f21439a9b725ff395ae7546": {
      "model_module": "@jupyter-widgets/base",
      "model_module_version": "2.0.0",
      "model_name": "LayoutModel",
      "state": {}
     },
     "5de07dddbfce43ab91f3d6f583f4c47b": {
      "model_module": "@jupyter-widgets/controls",
      "model_module_version": "2.0.0",
      "model_name": "HTMLModel",
      "state": {
       "layout": "IPY_MODEL_baa06c240d6d4070a9e3ee5a972930ae",
       "style": "IPY_MODEL_1b0f9d05d9bf4b82af9f79cff590761e",
       "value": "writing pings: 100%"
      }
     },
     "5e26ad48a4fc47c29ce5b7db1dfb3947": {
      "model_module": "@jupyter-widgets/base",
      "model_module_version": "2.0.0",
      "model_name": "LayoutModel",
      "state": {}
     },
     "5ff0efdc282149b9a9a7dc6dec351404": {
      "model_module": "@jupyter-widgets/controls",
      "model_module_version": "2.0.0",
      "model_name": "HTMLStyleModel",
      "state": {
       "description_width": "",
       "font_size": null,
       "text_color": null
      }
     },
     "61a6369152574f719c116a09f7c96815": {
      "model_module": "@jupyter-widgets/controls",
      "model_module_version": "2.0.0",
      "model_name": "HTMLModel",
      "state": {
       "layout": "IPY_MODEL_11b9cdd600ad4a06b65eebdb1383bcdf",
       "style": "IPY_MODEL_36e11d878d6f469785ed12292af673b5",
       "value": "removing duplicates: 100%"
      }
     },
     "61c8d25507ca4a5f848d0e5dc5cb9909": {
      "model_module": "@jupyter-widgets/controls",
      "model_module_version": "2.0.0",
      "model_name": "ProgressStyleModel",
      "state": {
       "description_width": ""
      }
     },
     "61f47bb2e28b423d9f92d971c7fac521": {
      "model_module": "@jupyter-widgets/controls",
      "model_module_version": "2.0.0",
      "model_name": "ProgressStyleModel",
      "state": {
       "description_width": ""
      }
     },
     "61f9e7ae867d4bc2ac50d3a84bad7575": {
      "model_module": "@jupyter-widgets/controls",
      "model_module_version": "2.0.0",
      "model_name": "ProgressStyleModel",
      "state": {
       "description_width": ""
      }
     },
     "62affe263f3240c28dbbbc7b9849acbe": {
      "model_module": "@jupyter-widgets/base",
      "model_module_version": "2.0.0",
      "model_name": "LayoutModel",
      "state": {}
     },
     "62bbc280d3af447eac64b258f250fcfd": {
      "model_module": "@jupyter-widgets/controls",
      "model_module_version": "2.0.0",
      "model_name": "HTMLModel",
      "state": {
       "layout": "IPY_MODEL_42cd9589c466403da4fcd1e5cbdcee56",
       "style": "IPY_MODEL_4122c31d2d4a4df6b5b27beec0c898fb",
       "value": " 1/1 [00:00&lt;00:00, 531.66it/s]"
      }
     },
     "62dbe78220514714bb39a07f9d306dba": {
      "model_module": "@jupyter-widgets/controls",
      "model_module_version": "2.0.0",
      "model_name": "HTMLStyleModel",
      "state": {
       "description_width": "",
       "font_size": null,
       "text_color": null
      }
     },
     "633fa0c2d5b546c59389a8e3267b2586": {
      "model_module": "@jupyter-widgets/base",
      "model_module_version": "2.0.0",
      "model_name": "LayoutModel",
      "state": {}
     },
     "655bd8821d324a959fc3f3954b174197": {
      "model_module": "@jupyter-widgets/controls",
      "model_module_version": "2.0.0",
      "model_name": "ProgressStyleModel",
      "state": {
       "description_width": ""
      }
     },
     "659f94608a6940e9a453578ff79e663c": {
      "model_module": "@jupyter-widgets/base",
      "model_module_version": "2.0.0",
      "model_name": "LayoutModel",
      "state": {}
     },
     "661d4f3d30ed471d862d72569f8dc699": {
      "model_module": "@jupyter-widgets/base",
      "model_module_version": "2.0.0",
      "model_name": "LayoutModel",
      "state": {}
     },
     "671f7f591ce74526a8295b301dba23ff": {
      "model_module": "@jupyter-widgets/controls",
      "model_module_version": "2.0.0",
      "model_name": "HTMLStyleModel",
      "state": {
       "description_width": "",
       "font_size": null,
       "text_color": null
      }
     },
     "678f7eae20044f88914b7b200708ec78": {
      "model_module": "@jupyter-widgets/base",
      "model_module_version": "2.0.0",
      "model_name": "LayoutModel",
      "state": {}
     },
     "682e2cfc199a435da460464b3ddec8e2": {
      "model_module": "@jupyter-widgets/controls",
      "model_module_version": "2.0.0",
      "model_name": "ProgressStyleModel",
      "state": {
       "description_width": ""
      }
     },
     "6a1e0ce751c04672b38ab1391707b4cd": {
      "model_module": "@jupyter-widgets/controls",
      "model_module_version": "2.0.0",
      "model_name": "HTMLModel",
      "state": {
       "layout": "IPY_MODEL_a1cbbc3b3af9409b9f4f8c940e0459e1",
       "style": "IPY_MODEL_9c97ea24bf414baf8018deeb5eb3014d",
       "value": "100%"
      }
     },
     "6a883a4e652d491ebcdee6a7df2f9f6a": {
      "model_module": "@jupyter-widgets/controls",
      "model_module_version": "2.0.0",
      "model_name": "HBoxModel",
      "state": {
       "children": [
        "IPY_MODEL_caa29bce161149b4a1cc9214f3ea3eb4",
        "IPY_MODEL_949e838164164cb5af6b81b141be1e8d",
        "IPY_MODEL_28ad5e23825e4633b73d64de2d5730ea"
       ],
       "layout": "IPY_MODEL_89de21597a61496c871a6f8545fecfff"
      }
     },
     "6b19228fa30e4590ba6c0adb0ec29332": {
      "model_module": "@jupyter-widgets/controls",
      "model_module_version": "2.0.0",
      "model_name": "HTMLModel",
      "state": {
       "layout": "IPY_MODEL_659f94608a6940e9a453578ff79e663c",
       "style": "IPY_MODEL_62dbe78220514714bb39a07f9d306dba",
       "value": " 1/1 [00:00&lt;00:00, 554.44it/s]"
      }
     },
     "6c5f1c4251604c8a8fde4aeb3e8d0336": {
      "model_module": "@jupyter-widgets/controls",
      "model_module_version": "2.0.0",
      "model_name": "HTMLModel",
      "state": {
       "layout": "IPY_MODEL_ee6b76a891754ae6aaf1cf10ee64b92b",
       "style": "IPY_MODEL_e321176d82da441a8b94dbfa4e5d7f0b",
       "value": "removing duplicates: 100%"
      }
     },
     "6ccefd8c76a7400e899ccb3c9e1e3489": {
      "model_module": "@jupyter-widgets/controls",
      "model_module_version": "2.0.0",
      "model_name": "FloatProgressModel",
      "state": {
       "bar_style": "success",
       "layout": "IPY_MODEL_e97a0961445047da90ab4eb529484ce6",
       "max": 1,
       "style": "IPY_MODEL_51c0edeaaddb4082bf72c11ae6e5ca08",
       "value": 1
      }
     },
     "6dc5d4fedf8b4531a0e39a3861525324": {
      "model_module": "@jupyter-widgets/controls",
      "model_module_version": "2.0.0",
      "model_name": "ProgressStyleModel",
      "state": {
       "description_width": ""
      }
     },
     "6e8460f83e9e45f59fb57d67719db922": {
      "model_module": "@jupyter-widgets/controls",
      "model_module_version": "2.0.0",
      "model_name": "FloatProgressModel",
      "state": {
       "bar_style": "success",
       "layout": "IPY_MODEL_d128b6fe44904abb87a45d718602fdf7",
       "max": 5,
       "style": "IPY_MODEL_00aa09170f8f48a09eaa75c810776343",
       "value": 5
      }
     },
     "6f5a3e9c7dd44206a8ce04ca2ee27b28": {
      "model_module": "@jupyter-widgets/base",
      "model_module_version": "2.0.0",
      "model_name": "LayoutModel",
      "state": {}
     },
     "6f6266150d2a4e389aefc8efaa4d0417": {
      "model_module": "@jupyter-widgets/base",
      "model_module_version": "2.0.0",
      "model_name": "LayoutModel",
      "state": {}
     },
     "70292c8674ab4d62b0192d6ce9bc04fa": {
      "model_module": "@jupyter-widgets/controls",
      "model_module_version": "2.0.0",
      "model_name": "ProgressStyleModel",
      "state": {
       "description_width": ""
      }
     },
     "710e907e523c46df9dabf326e75a0905": {
      "model_module": "@jupyter-widgets/base",
      "model_module_version": "2.0.0",
      "model_name": "LayoutModel",
      "state": {}
     },
     "7140c29675c2498ab60b9e5fc469c463": {
      "model_module": "@jupyter-widgets/controls",
      "model_module_version": "2.0.0",
      "model_name": "HTMLModel",
      "state": {
       "layout": "IPY_MODEL_ed7bfdd7b49a4cee8c6ef845572d850e",
       "style": "IPY_MODEL_3f5337d5669b4010bbfbdeb441c8d2dc",
       "value": "removing duplicates: 100%"
      }
     },
     "72f5d052688c410faefbbdfb73129a25": {
      "model_module": "@jupyter-widgets/controls",
      "model_module_version": "2.0.0",
      "model_name": "HTMLStyleModel",
      "state": {
       "description_width": "",
       "font_size": null,
       "text_color": null
      }
     },
     "732320eb15184e2fb2175ce641ea4f1c": {
      "model_module": "@jupyter-widgets/controls",
      "model_module_version": "2.0.0",
      "model_name": "HTMLStyleModel",
      "state": {
       "description_width": "",
       "font_size": null,
       "text_color": null
      }
     },
     "7347b66a833e4aadb1715c645834c028": {
      "model_module": "@jupyter-widgets/base",
      "model_module_version": "2.0.0",
      "model_name": "LayoutModel",
      "state": {}
     },
     "73905482414846b4aafb266a8e268772": {
      "model_module": "@jupyter-widgets/controls",
      "model_module_version": "2.0.0",
      "model_name": "HTMLStyleModel",
      "state": {
       "description_width": "",
       "font_size": null,
       "text_color": null
      }
     },
     "73eb27a3def14fdea5a2f32d59566b57": {
      "model_module": "@jupyter-widgets/base",
      "model_module_version": "2.0.0",
      "model_name": "LayoutModel",
      "state": {}
     },
     "76148b2e206b42d8ae28f63dde3daeec": {
      "model_module": "@jupyter-widgets/base",
      "model_module_version": "2.0.0",
      "model_name": "LayoutModel",
      "state": {}
     },
     "7708837a187640cd95b0383e33c72e3d": {
      "model_module": "@jupyter-widgets/controls",
      "model_module_version": "2.0.0",
      "model_name": "HTMLStyleModel",
      "state": {
       "description_width": "",
       "font_size": null,
       "text_color": null
      }
     },
     "77ad8ef1fed14e4ca48fd3f3c9dd0eb7": {
      "model_module": "@jupyter-widgets/controls",
      "model_module_version": "2.0.0",
      "model_name": "HTMLModel",
      "state": {
       "layout": "IPY_MODEL_9722091006844abfbad01c51d17a7aec",
       "style": "IPY_MODEL_f90cd85fa9644093bed615af43e56ced",
       "value": " 12/12 [00:12&lt;00:00,  1.78s/files, ./data_in/em2040/yolla / wcd]"
      }
     },
     "79751596f7ce489193fa6bf9693dbdaa": {
      "model_module": "@jupyter-widgets/base",
      "model_module_version": "2.0.0",
      "model_name": "LayoutModel",
      "state": {}
     },
     "7c15b194841348e297a4acda528861c6": {
      "model_module": "@jupyter-widgets/controls",
      "model_module_version": "2.0.0",
      "model_name": "FloatProgressModel",
      "state": {
       "bar_style": "success",
       "layout": "IPY_MODEL_079aef2fedd4477cbb3007bd17b3d253",
       "max": 1,
       "style": "IPY_MODEL_9c7dd1b0b39d4284ae9cf86cf3fa15db",
       "value": 1
      }
     },
     "7c2e8d354b6f4163aa79e10cd5734638": {
      "model_module": "@jupyter-widgets/controls",
      "model_module_version": "2.0.0",
      "model_name": "HBoxModel",
      "state": {
       "children": [
        "IPY_MODEL_393bd23fdfcc43bab8489f39ee3c859b",
        "IPY_MODEL_7c15b194841348e297a4acda528861c6",
        "IPY_MODEL_cf0c8a03f6904e58abb849e5ee4c341b"
       ],
       "layout": "IPY_MODEL_8a91c02b0c354eef91401d582d55d391"
      }
     },
     "7cda22d2fb7943fc9adbc32b3112466f": {
      "model_module": "@jupyter-widgets/controls",
      "model_module_version": "2.0.0",
      "model_name": "ProgressStyleModel",
      "state": {
       "description_width": ""
      }
     },
     "7d3a1ad314154ac580e16a62dda4f74a": {
      "model_module": "@jupyter-widgets/controls",
      "model_module_version": "2.0.0",
      "model_name": "HBoxModel",
      "state": {
       "children": [
        "IPY_MODEL_d4c6e9ecf27741ae9250398e6947ab34",
        "IPY_MODEL_a98bcc223b7a4afabf37f7e51f7c8b91",
        "IPY_MODEL_9c35dc3ccb434346a90d3decf87a4b4d"
       ],
       "layout": "IPY_MODEL_152fdaf2f84c440495dfeb82c5fced8b"
      }
     },
     "7f3a719f782049f39ac9603c24c1a289": {
      "model_module": "@jupyter-widgets/controls",
      "model_module_version": "2.0.0",
      "model_name": "HTMLStyleModel",
      "state": {
       "description_width": "",
       "font_size": null,
       "text_color": null
      }
     },
     "7f697c53b56746d3a6ea7815922b4466": {
      "model_module": "@jupyter-widgets/controls",
      "model_module_version": "2.0.0",
      "model_name": "HTMLStyleModel",
      "state": {
       "description_width": "",
       "font_size": null,
       "text_color": null
      }
     },
     "800aca084cc04379917c65f44f9fd6fe": {
      "model_module": "@jupyter-widgets/controls",
      "model_module_version": "2.0.0",
      "model_name": "FloatProgressModel",
      "state": {
       "bar_style": "success",
       "layout": "IPY_MODEL_2bb509e93e084145a207071a1dcc78f5",
       "max": 1,
       "style": "IPY_MODEL_61f9e7ae867d4bc2ac50d3a84bad7575",
       "value": 1
      }
     },
     "8084f26338bd469fa4f5ca08ec91cafc": {
      "model_module": "@jupyter-widgets/base",
      "model_module_version": "2.0.0",
      "model_name": "LayoutModel",
      "state": {}
     },
     "80b2c7fbf27145679e1fd268b0da1c86": {
      "model_module": "@jupyter-widgets/controls",
      "model_module_version": "2.0.0",
      "model_name": "HTMLModel",
      "state": {
       "layout": "IPY_MODEL_e001aca301a444c68517f9c4717901fd",
       "style": "IPY_MODEL_085b0f633fc54aa9b3783a576b198d61",
       "value": "100%"
      }
     },
     "83893fbbf1cb4e079b1cac4609c87504": {
      "model_module": "@jupyter-widgets/base",
      "model_module_version": "2.0.0",
      "model_name": "LayoutModel",
      "state": {}
     },
     "848137cb5bc34ffabf3a44de0380874b": {
      "model_module": "@jupyter-widgets/controls",
      "model_module_version": "2.0.0",
      "model_name": "HTMLStyleModel",
      "state": {
       "description_width": "",
       "font_size": null,
       "text_color": null
      }
     },
     "86bcb45bbfa84a50be6df06417d6e980": {
      "model_module": "@jupyter-widgets/controls",
      "model_module_version": "2.0.0",
      "model_name": "HTMLStyleModel",
      "state": {
       "description_width": "",
       "font_size": null,
       "text_color": null
      }
     },
     "86d8d947ce2d416d80254487bf251ea9": {
      "model_module": "@jupyter-widgets/controls",
      "model_module_version": "2.0.0",
      "model_name": "HTMLStyleModel",
      "state": {
       "description_width": "",
       "font_size": null,
       "text_color": null
      }
     },
     "873f93a60a9d4347809d7fb21aeae81d": {
      "model_module": "@jupyter-widgets/base",
      "model_module_version": "2.0.0",
      "model_name": "LayoutModel",
      "state": {}
     },
     "874ebb35e9a243d2aed1ee183e917acc": {
      "model_module": "@jupyter-widgets/controls",
      "model_module_version": "2.0.0",
      "model_name": "HTMLStyleModel",
      "state": {
       "description_width": "",
       "font_size": null,
       "text_color": null
      }
     },
     "88335b75406c41ee9bcdb4a0e5c50866": {
      "model_module": "@jupyter-widgets/controls",
      "model_module_version": "2.0.0",
      "model_name": "HTMLModel",
      "state": {
       "layout": "IPY_MODEL_c03309e43a1345e882723501db63700b",
       "style": "IPY_MODEL_1ad6a4f348a44d1eb035c69deb4e8e0e",
       "value": "removing duplicates: 100%"
      }
     },
     "883d3b218413477da7ff2ecddf0e552a": {
      "model_module": "@jupyter-widgets/base",
      "model_module_version": "2.0.0",
      "model_name": "LayoutModel",
      "state": {}
     },
     "89de21597a61496c871a6f8545fecfff": {
      "model_module": "@jupyter-widgets/base",
      "model_module_version": "2.0.0",
      "model_name": "LayoutModel",
      "state": {}
     },
     "8a91c02b0c354eef91401d582d55d391": {
      "model_module": "@jupyter-widgets/base",
      "model_module_version": "2.0.0",
      "model_name": "LayoutModel",
      "state": {}
     },
     "8c21c8e4eb4641dbb554c6e7332017a1": {
      "model_module": "@jupyter-widgets/controls",
      "model_module_version": "2.0.0",
      "model_name": "FloatProgressModel",
      "state": {
       "bar_style": "success",
       "layout": "IPY_MODEL_1183e55f86514d4cafdd86bd2fa7d9b1",
       "max": 1,
       "style": "IPY_MODEL_d5d63fe5396142e29394fa726b3b8f17",
       "value": 1
      }
     },
     "8c779cfc1fe64198ad38845cf16f2758": {
      "model_module": "@jupyter-widgets/controls",
      "model_module_version": "2.0.0",
      "model_name": "HTMLModel",
      "state": {
       "layout": "IPY_MODEL_3b833ad5e8c5404f85f9c47104626b57",
       "style": "IPY_MODEL_00623b479dcf466e95549daf0628d8a7",
       "value": " 5/5 [00:00&lt;00:00, 2406.92it/s]"
      }
     },
     "8d43d78a53c84293a588422d05b8389f": {
      "model_module": "@jupyter-widgets/controls",
      "model_module_version": "2.0.0",
      "model_name": "ProgressStyleModel",
      "state": {
       "description_width": ""
      }
     },
     "8fae625af50f45e0a1872a2d4dcd54c5": {
      "model_module": "@jupyter-widgets/controls",
      "model_module_version": "2.0.0",
      "model_name": "HTMLModel",
      "state": {
       "layout": "IPY_MODEL_97d64df798b64c6badc8109a6540e832",
       "style": "IPY_MODEL_732320eb15184e2fb2175ce641ea4f1c",
       "value": " 2/2 [00:00&lt;00:00, 1082.12it/s]"
      }
     },
     "9124daa285e842b588841cf03547c800": {
      "model_module": "@jupyter-widgets/controls",
      "model_module_version": "2.0.0",
      "model_name": "HTMLStyleModel",
      "state": {
       "description_width": "",
       "font_size": null,
       "text_color": null
      }
     },
     "9164b097003643089489ada59282908d": {
      "model_module": "@jupyter-widgets/controls",
      "model_module_version": "2.0.0",
      "model_name": "HBoxModel",
      "state": {
       "children": [
        "IPY_MODEL_96f482f206194776b6976529086bd9bf",
        "IPY_MODEL_2ed9adbea6ac4ef9907dc7ce9650cfd8",
        "IPY_MODEL_ed1c790dae2d458e9c5312d7a4f3d0fa"
       ],
       "layout": "IPY_MODEL_be3b68edd1884e9f9eb303943b7c5bd9"
      }
     },
     "9325910534fd459e9d9bf260632d45b9": {
      "model_module": "@jupyter-widgets/controls",
      "model_module_version": "2.0.0",
      "model_name": "FloatProgressModel",
      "state": {
       "bar_style": "success",
       "layout": "IPY_MODEL_0cead539163044078194d61f584f67c6",
       "max": 1,
       "style": "IPY_MODEL_a1a9a2318a4b4cd8a197bcf5ff579408",
       "value": 1
      }
     },
     "93c6772618154f10bd2857531667b6f8": {
      "model_module": "@jupyter-widgets/controls",
      "model_module_version": "2.0.0",
      "model_name": "HTMLModel",
      "state": {
       "layout": "IPY_MODEL_229f56afd2d04654ada70cea88d3f6a6",
       "style": "IPY_MODEL_ac4ecb267dce4bb29c45e0949214bcd8",
       "value": "100%"
      }
     },
     "949e838164164cb5af6b81b141be1e8d": {
      "model_module": "@jupyter-widgets/controls",
      "model_module_version": "2.0.0",
      "model_name": "FloatProgressModel",
      "state": {
       "bar_style": "success",
       "layout": "IPY_MODEL_45016f0143314f2c8e7bd0bdbd93b1d3",
       "max": 1,
       "style": "IPY_MODEL_ebe72ed99d8f4e619452c93274e2c7df",
       "value": 1
      }
     },
     "95c0e9e16c5c40b394f79171e6f621e4": {
      "model_module": "@jupyter-widgets/controls",
      "model_module_version": "2.0.0",
      "model_name": "HBoxModel",
      "state": {
       "children": [
        "IPY_MODEL_7140c29675c2498ab60b9e5fc469c463",
        "IPY_MODEL_6ccefd8c76a7400e899ccb3c9e1e3489",
        "IPY_MODEL_57178edb962c48908c3ccc0fc6fa0d97"
       ],
       "layout": "IPY_MODEL_bb7362cd212a4f308ed01a2f8f33077a"
      }
     },
     "9680c509fadb4d808a0a2aa6e5b294d8": {
      "model_module": "@jupyter-widgets/controls",
      "model_module_version": "2.0.0",
      "model_name": "HBoxModel",
      "state": {
       "children": [
        "IPY_MODEL_5de07dddbfce43ab91f3d6f583f4c47b",
        "IPY_MODEL_ca98abf186b34ee18913f7e015eed74c",
        "IPY_MODEL_77ad8ef1fed14e4ca48fd3f3c9dd0eb7"
       ],
       "layout": "IPY_MODEL_3311ee92166943f0ab7ae9adb29ec485"
      }
     },
     "96f482f206194776b6976529086bd9bf": {
      "model_module": "@jupyter-widgets/controls",
      "model_module_version": "2.0.0",
      "model_name": "HTMLModel",
      "state": {
       "layout": "IPY_MODEL_d6247277b2f4454bb9265d39aaf817df",
       "style": "IPY_MODEL_848137cb5bc34ffabf3a44de0380874b",
       "value": "100%"
      }
     },
     "9722091006844abfbad01c51d17a7aec": {
      "model_module": "@jupyter-widgets/base",
      "model_module_version": "2.0.0",
      "model_name": "LayoutModel",
      "state": {}
     },
     "976f6742655e4a439c191256928f9bc9": {
      "model_module": "@jupyter-widgets/base",
      "model_module_version": "2.0.0",
      "model_name": "LayoutModel",
      "state": {}
     },
     "97d64df798b64c6badc8109a6540e832": {
      "model_module": "@jupyter-widgets/base",
      "model_module_version": "2.0.0",
      "model_name": "LayoutModel",
      "state": {}
     },
     "9854950e7063449bbe69fa9e2c482cec": {
      "model_module": "@jupyter-widgets/controls",
      "model_module_version": "2.0.0",
      "model_name": "ProgressStyleModel",
      "state": {
       "description_width": ""
      }
     },
     "98736e67657b4170b1a6b6e171eee18e": {
      "model_module": "@jupyter-widgets/base",
      "model_module_version": "2.0.0",
      "model_name": "LayoutModel",
      "state": {}
     },
     "98e08515755b45198cc8c5b66a9a838e": {
      "model_module": "@jupyter-widgets/base",
      "model_module_version": "2.0.0",
      "model_name": "LayoutModel",
      "state": {}
     },
     "993edf0884394616a4b84e79278a0095": {
      "model_module": "@jupyter-widgets/base",
      "model_module_version": "2.0.0",
      "model_name": "LayoutModel",
      "state": {}
     },
     "99bacd9490ae4eb29810f89f706c0cbe": {
      "model_module": "@jupyter-widgets/controls",
      "model_module_version": "2.0.0",
      "model_name": "FloatProgressModel",
      "state": {
       "bar_style": "success",
       "layout": "IPY_MODEL_98736e67657b4170b1a6b6e171eee18e",
       "max": 5,
       "style": "IPY_MODEL_1889c77bba7045c6bc9b1231e47de33a",
       "value": 5
      }
     },
     "9a894e0a64cb46799fa1a0f240a02d17": {
      "model_module": "@jupyter-widgets/base",
      "model_module_version": "2.0.0",
      "model_name": "LayoutModel",
      "state": {}
     },
     "9ae331ef3c0e460e86c23567f3eaaf7a": {
      "model_module": "@jupyter-widgets/controls",
      "model_module_version": "2.0.0",
      "model_name": "FloatProgressModel",
      "state": {
       "bar_style": "success",
       "layout": "IPY_MODEL_f266eb7f3f1f4dcdac2673f85d78e44d",
       "max": 1,
       "style": "IPY_MODEL_e752ce435a504cdaa352dc80517d4bc9"
      }
     },
     "9ae3608f03bd4d66803022d65ff48253": {
      "model_module": "@jupyter-widgets/controls",
      "model_module_version": "2.0.0",
      "model_name": "HTMLModel",
      "state": {
       "layout": "IPY_MODEL_f23aad8c256f41e2bd4eb6aa5dba100e",
       "style": "IPY_MODEL_edbe91c9752f4929b9f3caf1e22fc8aa",
       "value": "removing duplicates: 100%"
      }
     },
     "9b3f50fb395147579869eaa4f492b43f": {
      "model_module": "@jupyter-widgets/controls",
      "model_module_version": "2.0.0",
      "model_name": "HTMLModel",
      "state": {
       "layout": "IPY_MODEL_9dafc02ac16d4abd8c36a87ffcfb059e",
       "style": "IPY_MODEL_b6ec5b31b25f41e1a3b30b1f451f83bf",
       "value": "100%"
      }
     },
     "9c35dc3ccb434346a90d3decf87a4b4d": {
      "model_module": "@jupyter-widgets/controls",
      "model_module_version": "2.0.0",
      "model_name": "HTMLModel",
      "state": {
       "layout": "IPY_MODEL_c2bfc720a626435ca11407c53e94b2d5",
       "style": "IPY_MODEL_a893aa6e6c7740a8a35c346a921cbfb0",
       "value": " 1/1 [00:00&lt;00:00, 20.75it/s]"
      }
     },
     "9c7adf3df3d34a578ffd527535318b01": {
      "model_module": "@jupyter-widgets/controls",
      "model_module_version": "2.0.0",
      "model_name": "HBoxModel",
      "state": {
       "children": [
        "IPY_MODEL_d95da756fac845568f6d19fceb6c5a7b",
        "IPY_MODEL_a87756f3dd084c898affe04278d30717",
        "IPY_MODEL_fdd8acd582f848ba859e24152d7bd301"
       ],
       "layout": "IPY_MODEL_45a3fa94f4d048d1a71639722ace0816"
      }
     },
     "9c7dd1b0b39d4284ae9cf86cf3fa15db": {
      "model_module": "@jupyter-widgets/controls",
      "model_module_version": "2.0.0",
      "model_name": "ProgressStyleModel",
      "state": {
       "description_width": ""
      }
     },
     "9c97ea24bf414baf8018deeb5eb3014d": {
      "model_module": "@jupyter-widgets/controls",
      "model_module_version": "2.0.0",
      "model_name": "HTMLStyleModel",
      "state": {
       "description_width": "",
       "font_size": null,
       "text_color": null
      }
     },
     "9daa48d4eb0f482187e02da6f4a89fab": {
      "model_module": "@jupyter-widgets/controls",
      "model_module_version": "2.0.0",
      "model_name": "HBoxModel",
      "state": {
       "children": [
        "IPY_MODEL_88335b75406c41ee9bcdb4a0e5c50866",
        "IPY_MODEL_51d738ffa22b4b5f9788dc347959eee1",
        "IPY_MODEL_62bbc280d3af447eac64b258f250fcfd"
       ],
       "layout": "IPY_MODEL_993edf0884394616a4b84e79278a0095"
      }
     },
     "9dafc02ac16d4abd8c36a87ffcfb059e": {
      "model_module": "@jupyter-widgets/base",
      "model_module_version": "2.0.0",
      "model_name": "LayoutModel",
      "state": {}
     },
     "9f3fe09f3c644f689481a1ad0b1defb9": {
      "model_module": "@jupyter-widgets/controls",
      "model_module_version": "2.0.0",
      "model_name": "HBoxModel",
      "state": {
       "children": [
        "IPY_MODEL_ad3dd3f4fa7647fdafbd00cb809450a0",
        "IPY_MODEL_b4df2462914646b5a591544b661bbc07",
        "IPY_MODEL_328edb8dc63d41a6b2b9d3ae6d22cef7"
       ],
       "layout": "IPY_MODEL_aff536cec25140ed9b958ccca2aeadbc"
      }
     },
     "a0010d646d084a50b744187f2db858aa": {
      "model_module": "@jupyter-widgets/controls",
      "model_module_version": "2.0.0",
      "model_name": "HBoxModel",
      "state": {
       "children": [
        "IPY_MODEL_48ca8f32fd4841a4aaf35b837e4cb544",
        "IPY_MODEL_bb1ae4e2a411466c83d14a89341cdf0d",
        "IPY_MODEL_26aeac25efb04d418190de8558d6c9b0"
       ],
       "layout": "IPY_MODEL_194f88cbc3f24380a09869ac3ad32608"
      }
     },
     "a02ef95038dd48018126e72a88a2ae0b": {
      "model_module": "@jupyter-widgets/controls",
      "model_module_version": "2.0.0",
      "model_name": "FloatProgressModel",
      "state": {
       "bar_style": "success",
       "layout": "IPY_MODEL_5270ad63cb8548fba97e5fcd3a97b91d",
       "max": 1,
       "style": "IPY_MODEL_7cda22d2fb7943fc9adbc32b3112466f",
       "value": 1
      }
     },
     "a0515a04eece4abcbb8e986759322059": {
      "model_module": "@jupyter-widgets/base",
      "model_module_version": "2.0.0",
      "model_name": "LayoutModel",
      "state": {}
     },
     "a09e69541db74c34bb9ab800cf0a4e7c": {
      "model_module": "@jupyter-widgets/controls",
      "model_module_version": "2.0.0",
      "model_name": "HTMLStyleModel",
      "state": {
       "description_width": "",
       "font_size": null,
       "text_color": null
      }
     },
     "a0cd4b40a2dc4b77853556c3c5ab625a": {
      "model_module": "@jupyter-widgets/controls",
      "model_module_version": "2.0.0",
      "model_name": "HTMLModel",
      "state": {
       "layout": "IPY_MODEL_3fca48e0be744da0a85a36e119567d0b",
       "style": "IPY_MODEL_9124daa285e842b588841cf03547c800",
       "value": "removing duplicates: 100%"
      }
     },
     "a1a9a2318a4b4cd8a197bcf5ff579408": {
      "model_module": "@jupyter-widgets/controls",
      "model_module_version": "2.0.0",
      "model_name": "ProgressStyleModel",
      "state": {
       "description_width": ""
      }
     },
     "a1cbbc3b3af9409b9f4f8c940e0459e1": {
      "model_module": "@jupyter-widgets/base",
      "model_module_version": "2.0.0",
      "model_name": "LayoutModel",
      "state": {}
     },
     "a255501267fe4b8a9ede48e5b488768f": {
      "model_module": "@jupyter-widgets/base",
      "model_module_version": "2.0.0",
      "model_name": "LayoutModel",
      "state": {}
     },
     "a29dd8d84bc54ad39963883ea39ec760": {
      "model_module": "@jupyter-widgets/base",
      "model_module_version": "2.0.0",
      "model_name": "LayoutModel",
      "state": {}
     },
     "a46389b0873f4a2fb934c575c6dd2913": {
      "model_module": "@jupyter-widgets/base",
      "model_module_version": "2.0.0",
      "model_name": "LayoutModel",
      "state": {}
     },
     "a471d5117a2740499493e3be9f7ed179": {
      "model_module": "@jupyter-widgets/base",
      "model_module_version": "2.0.0",
      "model_name": "LayoutModel",
      "state": {}
     },
     "a5cbd91c555040c49377e6341a7bb360": {
      "model_module": "@jupyter-widgets/controls",
      "model_module_version": "2.0.0",
      "model_name": "HTMLStyleModel",
      "state": {
       "description_width": "",
       "font_size": null,
       "text_color": null
      }
     },
     "a804277ca6234131bab89753d6c1578b": {
      "model_module": "@jupyter-widgets/controls",
      "model_module_version": "2.0.0",
      "model_name": "HTMLModel",
      "state": {
       "layout": "IPY_MODEL_f4e53bec49e24ac284da8fface2abda5",
       "style": "IPY_MODEL_72f5d052688c410faefbbdfb73129a25",
       "value": "100%"
      }
     },
     "a87756f3dd084c898affe04278d30717": {
      "model_module": "@jupyter-widgets/controls",
      "model_module_version": "2.0.0",
      "model_name": "FloatProgressModel",
      "state": {
       "bar_style": "success",
       "layout": "IPY_MODEL_547a71378690456a8c20ed1cf2fa1c37",
       "max": 1,
       "style": "IPY_MODEL_1472ec6e808547e5ac415975f9a6e8b9",
       "value": 1
      }
     },
     "a893aa6e6c7740a8a35c346a921cbfb0": {
      "model_module": "@jupyter-widgets/controls",
      "model_module_version": "2.0.0",
      "model_name": "HTMLStyleModel",
      "state": {
       "description_width": "",
       "font_size": null,
       "text_color": null
      }
     },
     "a91e43b2a8ad439c8a19d9001a20ab91": {
      "model_module": "@jupyter-widgets/controls",
      "model_module_version": "2.0.0",
      "model_name": "ProgressStyleModel",
      "state": {
       "description_width": ""
      }
     },
     "a941702ef1a142598f988609dda6c2b5": {
      "model_module": "@jupyter-widgets/base",
      "model_module_version": "2.0.0",
      "model_name": "LayoutModel",
      "state": {}
     },
     "a98bcc223b7a4afabf37f7e51f7c8b91": {
      "model_module": "@jupyter-widgets/controls",
      "model_module_version": "2.0.0",
      "model_name": "FloatProgressModel",
      "state": {
       "bar_style": "success",
       "layout": "IPY_MODEL_05ac699caa0747c48f09b4ebb5999e6c",
       "max": 1,
       "style": "IPY_MODEL_682e2cfc199a435da460464b3ddec8e2",
       "value": 1
      }
     },
     "ac497ac5d31442c5aa947b460a3de46c": {
      "model_module": "@jupyter-widgets/controls",
      "model_module_version": "2.0.0",
      "model_name": "HTMLStyleModel",
      "state": {
       "description_width": "",
       "font_size": null,
       "text_color": null
      }
     },
     "ac4ecb267dce4bb29c45e0949214bcd8": {
      "model_module": "@jupyter-widgets/controls",
      "model_module_version": "2.0.0",
      "model_name": "HTMLStyleModel",
      "state": {
       "description_width": "",
       "font_size": null,
       "text_color": null
      }
     },
     "ad1c7d0624da4fc4984ef044e9cf7043": {
      "model_module": "@jupyter-widgets/controls",
      "model_module_version": "2.0.0",
      "model_name": "FloatProgressModel",
      "state": {
       "bar_style": "success",
       "layout": "IPY_MODEL_e7294bf44d294446abdd38bcd8ecfab0",
       "max": 1,
       "style": "IPY_MODEL_fc066dc223b346fda04cb8794c86f678",
       "value": 1
      }
     },
     "ad3dd3f4fa7647fdafbd00cb809450a0": {
      "model_module": "@jupyter-widgets/controls",
      "model_module_version": "2.0.0",
      "model_name": "HTMLModel",
      "state": {
       "layout": "IPY_MODEL_bf3536acc5b84ee9acb023d5f94466a2",
       "style": "IPY_MODEL_f8fcacf188d94424a8f43eada4b609a1",
       "value": "100%"
      }
     },
     "af009d715194455fab50b042eb413357": {
      "model_module": "@jupyter-widgets/base",
      "model_module_version": "2.0.0",
      "model_name": "LayoutModel",
      "state": {}
     },
     "af968abb608640baa78d6e1e91276f71": {
      "model_module": "@jupyter-widgets/controls",
      "model_module_version": "2.0.0",
      "model_name": "HTMLStyleModel",
      "state": {
       "description_width": "",
       "font_size": null,
       "text_color": null
      }
     },
     "afa742b990d24dc188d9298c367e2cc5": {
      "model_module": "@jupyter-widgets/controls",
      "model_module_version": "2.0.0",
      "model_name": "HTMLStyleModel",
      "state": {
       "description_width": "",
       "font_size": null,
       "text_color": null
      }
     },
     "aff536cec25140ed9b958ccca2aeadbc": {
      "model_module": "@jupyter-widgets/base",
      "model_module_version": "2.0.0",
      "model_name": "LayoutModel",
      "state": {}
     },
     "b0e35ab0590b47459a60a8c6544e1fe7": {
      "model_module": "@jupyter-widgets/controls",
      "model_module_version": "2.0.0",
      "model_name": "HTMLStyleModel",
      "state": {
       "description_width": "",
       "font_size": null,
       "text_color": null
      }
     },
     "b1268e334a0946f7b297205d6f6265a3": {
      "model_module": "@jupyter-widgets/controls",
      "model_module_version": "2.0.0",
      "model_name": "HBoxModel",
      "state": {
       "children": [
        "IPY_MODEL_a0cd4b40a2dc4b77853556c3c5ab625a",
        "IPY_MODEL_f623e9053ddb4868b67e8d54840762e6",
        "IPY_MODEL_8fae625af50f45e0a1872a2d4dcd54c5"
       ],
       "layout": "IPY_MODEL_883d3b218413477da7ff2ecddf0e552a"
      }
     },
     "b1cf80b1a5454160897211f2f006e5bc": {
      "model_module": "@jupyter-widgets/base",
      "model_module_version": "2.0.0",
      "model_name": "LayoutModel",
      "state": {}
     },
     "b239f03c6bdb4e77ab42557cb6297a82": {
      "model_module": "@jupyter-widgets/controls",
      "model_module_version": "2.0.0",
      "model_name": "FloatProgressModel",
      "state": {
       "bar_style": "success",
       "layout": "IPY_MODEL_56050bf476c5487a8ea688f6bc065e58",
       "max": 5,
       "style": "IPY_MODEL_dfaa8fdc30134b6cb3deda478bccc5cf",
       "value": 5
      }
     },
     "b3b32ef000cb43d096f1a2f86b22c33d": {
      "model_module": "@jupyter-widgets/controls",
      "model_module_version": "2.0.0",
      "model_name": "HTMLStyleModel",
      "state": {
       "description_width": "",
       "font_size": null,
       "text_color": null
      }
     },
     "b4df2462914646b5a591544b661bbc07": {
      "model_module": "@jupyter-widgets/controls",
      "model_module_version": "2.0.0",
      "model_name": "FloatProgressModel",
      "state": {
       "bar_style": "success",
       "layout": "IPY_MODEL_b72ca4e884af4c04b21ce32c8cbeda8a",
       "max": 2,
       "style": "IPY_MODEL_61f47bb2e28b423d9f92d971c7fac521",
       "value": 2
      }
     },
     "b52255976c6a403888c1b356f0a8374b": {
      "model_module": "@jupyter-widgets/controls",
      "model_module_version": "2.0.0",
      "model_name": "ProgressStyleModel",
      "state": {
       "description_width": ""
      }
     },
     "b65ce30034c34744886a3fb0a023315c": {
      "model_module": "@jupyter-widgets/base",
      "model_module_version": "2.0.0",
      "model_name": "LayoutModel",
      "state": {}
     },
     "b6ec5b31b25f41e1a3b30b1f451f83bf": {
      "model_module": "@jupyter-widgets/controls",
      "model_module_version": "2.0.0",
      "model_name": "HTMLStyleModel",
      "state": {
       "description_width": "",
       "font_size": null,
       "text_color": null
      }
     },
     "b71d1f8cd6fd470995aff209e53ae29e": {
      "model_module": "@jupyter-widgets/base",
      "model_module_version": "2.0.0",
      "model_name": "LayoutModel",
      "state": {}
     },
     "b72ca4e884af4c04b21ce32c8cbeda8a": {
      "model_module": "@jupyter-widgets/base",
      "model_module_version": "2.0.0",
      "model_name": "LayoutModel",
      "state": {}
     },
     "b843744dca454cbeaa04f3ba76a4614e": {
      "model_module": "@jupyter-widgets/controls",
      "model_module_version": "2.0.0",
      "model_name": "HTMLStyleModel",
      "state": {
       "description_width": "",
       "font_size": null,
       "text_color": null
      }
     },
     "b899fbe08a52447fb1931e5b27002030": {
      "model_module": "@jupyter-widgets/controls",
      "model_module_version": "2.0.0",
      "model_name": "HTMLModel",
      "state": {
       "layout": "IPY_MODEL_079b64b54db44e128cb101f9b70c8197",
       "style": "IPY_MODEL_16c479eb54ef4cc09be3351d0387e270",
       "value": " 1/1 [00:00&lt;00:00, 411.61it/s]"
      }
     },
     "b8a1f1dff8344e9fba8690a5e01f6a4f": {
      "model_module": "@jupyter-widgets/base",
      "model_module_version": "2.0.0",
      "model_name": "LayoutModel",
      "state": {}
     },
     "baa06c240d6d4070a9e3ee5a972930ae": {
      "model_module": "@jupyter-widgets/base",
      "model_module_version": "2.0.0",
      "model_name": "LayoutModel",
      "state": {}
     },
     "bb1ae4e2a411466c83d14a89341cdf0d": {
      "model_module": "@jupyter-widgets/controls",
      "model_module_version": "2.0.0",
      "model_name": "FloatProgressModel",
      "state": {
       "bar_style": "success",
       "layout": "IPY_MODEL_521ecd9b47e440c3974a3e7a4b096135",
       "max": 1,
       "style": "IPY_MODEL_6dc5d4fedf8b4531a0e39a3861525324",
       "value": 1
      }
     },
     "bb7362cd212a4f308ed01a2f8f33077a": {
      "model_module": "@jupyter-widgets/base",
      "model_module_version": "2.0.0",
      "model_name": "LayoutModel",
      "state": {}
     },
     "bbbe61ade74c4b3a9700f5de7e68e9dd": {
      "model_module": "@jupyter-widgets/controls",
      "model_module_version": "2.0.0",
      "model_name": "HTMLModel",
      "state": {
       "layout": "IPY_MODEL_53103ecb4ddb4771a81b6b9626e941d7",
       "style": "IPY_MODEL_263533ea2ae440f7a5732a33153ab2e5",
       "value": "100%"
      }
     },
     "bc214f35ad1849dca30fe1861db90ee2": {
      "model_module": "@jupyter-widgets/base",
      "model_module_version": "2.0.0",
      "model_name": "LayoutModel",
      "state": {}
     },
     "be3b68edd1884e9f9eb303943b7c5bd9": {
      "model_module": "@jupyter-widgets/base",
      "model_module_version": "2.0.0",
      "model_name": "LayoutModel",
      "state": {}
     },
     "bf1aa93b26984127abd82db808e0f1f5": {
      "model_module": "@jupyter-widgets/controls",
      "model_module_version": "2.0.0",
      "model_name": "HBoxModel",
      "state": {
       "children": [
        "IPY_MODEL_6a1e0ce751c04672b38ab1391707b4cd",
        "IPY_MODEL_0243b0a8217144a6b43bbc4e674192b2",
        "IPY_MODEL_5074f3725f7a4d3b83937d7ea0b4c34f"
       ],
       "layout": "IPY_MODEL_b8a1f1dff8344e9fba8690a5e01f6a4f"
      }
     },
     "bf3536acc5b84ee9acb023d5f94466a2": {
      "model_module": "@jupyter-widgets/base",
      "model_module_version": "2.0.0",
      "model_name": "LayoutModel",
      "state": {}
     },
     "bf6a985a5d2844d38d9436576b91de97": {
      "model_module": "@jupyter-widgets/base",
      "model_module_version": "2.0.0",
      "model_name": "LayoutModel",
      "state": {}
     },
     "c00b9fe3482a40a99e208c40ab4889a9": {
      "model_module": "@jupyter-widgets/controls",
      "model_module_version": "2.0.0",
      "model_name": "HBoxModel",
      "state": {
       "children": [
        "IPY_MODEL_6c5f1c4251604c8a8fde4aeb3e8d0336",
        "IPY_MODEL_fe9658d4f6e44bf9b1ce4c7564e7f823",
        "IPY_MODEL_8c779cfc1fe64198ad38845cf16f2758"
       ],
       "layout": "IPY_MODEL_73eb27a3def14fdea5a2f32d59566b57"
      }
     },
     "c03309e43a1345e882723501db63700b": {
      "model_module": "@jupyter-widgets/base",
      "model_module_version": "2.0.0",
      "model_name": "LayoutModel",
      "state": {}
     },
     "c091a1748fea49bc85ce1812a9bc1cc5": {
      "model_module": "@jupyter-widgets/controls",
      "model_module_version": "2.0.0",
      "model_name": "HTMLStyleModel",
      "state": {
       "description_width": "",
       "font_size": null,
       "text_color": null
      }
     },
     "c1cf0843002c43ab8a1d43cc8a166205": {
      "model_module": "@jupyter-widgets/controls",
      "model_module_version": "2.0.0",
      "model_name": "HTMLModel",
      "state": {
       "layout": "IPY_MODEL_1716ac7540e149b5a6d2ea7f3c8657f5",
       "style": "IPY_MODEL_2472e3b2abc2496fbc988a3257039243",
       "value": "100%"
      }
     },
     "c2bfc720a626435ca11407c53e94b2d5": {
      "model_module": "@jupyter-widgets/base",
      "model_module_version": "2.0.0",
      "model_name": "LayoutModel",
      "state": {}
     },
     "c33765eeccec443baa300c38a5e666fd": {
      "model_module": "@jupyter-widgets/controls",
      "model_module_version": "2.0.0",
      "model_name": "FloatProgressModel",
      "state": {
       "bar_style": "success",
       "layout": "IPY_MODEL_12aab6474f144cdcaea904bfcdcda0f6",
       "max": 1,
       "style": "IPY_MODEL_a91e43b2a8ad439c8a19d9001a20ab91",
       "value": 1
      }
     },
     "c3746d51891e4f01ab943cb8a4cbdce0": {
      "model_module": "@jupyter-widgets/base",
      "model_module_version": "2.0.0",
      "model_name": "LayoutModel",
      "state": {}
     },
     "c3fa8cf3dc704da7baf420e8b6c7ebdd": {
      "model_module": "@jupyter-widgets/base",
      "model_module_version": "2.0.0",
      "model_name": "LayoutModel",
      "state": {}
     },
     "c441424af88f4136b4c224dbba92356e": {
      "model_module": "@jupyter-widgets/controls",
      "model_module_version": "2.0.0",
      "model_name": "HBoxModel",
      "state": {
       "children": [
        "IPY_MODEL_61a6369152574f719c116a09f7c96815",
        "IPY_MODEL_99bacd9490ae4eb29810f89f706c0cbe",
        "IPY_MODEL_d86e24a68c44494b824014fa59349e4c"
       ],
       "layout": "IPY_MODEL_ef046b666247489dbfbfd6e4986b836d"
      }
     },
     "c6b6213a1fda41458aac6d2af43ee6a9": {
      "model_module": "@jupyter-widgets/base",
      "model_module_version": "2.0.0",
      "model_name": "LayoutModel",
      "state": {}
     },
     "c72a4c558edf422cab7688549c545a2e": {
      "model_module": "@jupyter-widgets/controls",
      "model_module_version": "2.0.0",
      "model_name": "HTMLStyleModel",
      "state": {
       "description_width": "",
       "font_size": null,
       "text_color": null
      }
     },
     "c7f129ce55594c108338134fbd875f40": {
      "model_module": "@jupyter-widgets/controls",
      "model_module_version": "2.0.0",
      "model_name": "FloatProgressModel",
      "state": {
       "bar_style": "success",
       "layout": "IPY_MODEL_1da7bd8faf2e4b16b241b0a3a7a37e78",
       "max": 2,
       "style": "IPY_MODEL_f626fed36bf540839528cc9c25476174",
       "value": 2
      }
     },
     "c9297ad9c92d417382eeca61b76c314b": {
      "model_module": "@jupyter-widgets/controls",
      "model_module_version": "2.0.0",
      "model_name": "HBoxModel",
      "state": {
       "children": [
        "IPY_MODEL_cbf06099251c470eb295b43e7a873a08",
        "IPY_MODEL_d43678acae3e4f6395a16e5bea4e9cfb",
        "IPY_MODEL_3ea8efdd6bd14d4b8c2a5f1ab81b57b2"
       ],
       "layout": "IPY_MODEL_a46389b0873f4a2fb934c575c6dd2913"
      }
     },
     "ca3082538e8a464698077371c19f0034": {
      "model_module": "@jupyter-widgets/controls",
      "model_module_version": "2.0.0",
      "model_name": "HTMLModel",
      "state": {
       "layout": "IPY_MODEL_98e08515755b45198cc8c5b66a9a838e",
       "style": "IPY_MODEL_671f7f591ce74526a8295b301dba23ff",
       "value": "100%"
      }
     },
     "ca98abf186b34ee18913f7e015eed74c": {
      "model_module": "@jupyter-widgets/controls",
      "model_module_version": "2.0.0",
      "model_name": "FloatProgressModel",
      "state": {
       "layout": "IPY_MODEL_36e50d22d2df48358898fd47f83abc0e",
       "max": 12,
       "style": "IPY_MODEL_1dd1a987ae3548a7a57e37a1681ccb9e",
       "value": 12
      }
     },
     "caa29bce161149b4a1cc9214f3ea3eb4": {
      "model_module": "@jupyter-widgets/controls",
      "model_module_version": "2.0.0",
      "model_name": "HTMLModel",
      "state": {
       "layout": "IPY_MODEL_1cd36d2f66024eb0baae951d63bc252c",
       "style": "IPY_MODEL_fde3c482825647f48ebae822c802be1d",
       "value": "100%"
      }
     },
     "cbf06099251c470eb295b43e7a873a08": {
      "model_module": "@jupyter-widgets/controls",
      "model_module_version": "2.0.0",
      "model_name": "HTMLModel",
      "state": {
       "layout": "IPY_MODEL_1f91d4d17e0c4a0a9b8285641c8a8da1",
       "style": "IPY_MODEL_f06eaa4dc1f545ce8f377e69fbef55ac",
       "value": "100%"
      }
     },
     "cbf9533bc6bb4d00af485f3dd2ae5ed4": {
      "model_module": "@jupyter-widgets/base",
      "model_module_version": "2.0.0",
      "model_name": "LayoutModel",
      "state": {}
     },
     "ccda8494fff640bb9fc5c0153eae9996": {
      "model_module": "@jupyter-widgets/controls",
      "model_module_version": "2.0.0",
      "model_name": "HBoxModel",
      "state": {
       "children": [
        "IPY_MODEL_25c9341dae344e4f98c86d335e39009e",
        "IPY_MODEL_2a4dc1b534be48938e083582934d4bbf",
        "IPY_MODEL_17d133f6ce6c4e87947fd8dfbf0f28c9"
       ],
       "layout": "IPY_MODEL_f67abca0db644e86b319e5133719fa62"
      }
     },
     "cce79ae5da774c1592e05f793c5904aa": {
      "model_module": "@jupyter-widgets/controls",
      "model_module_version": "2.0.0",
      "model_name": "HTMLModel",
      "state": {
       "layout": "IPY_MODEL_dfda5aa6a5bb4527b5ae29b6ccc3e3b7",
       "style": "IPY_MODEL_dd562270552840fe916dc915aa8734f1",
       "value": " 1/1 [00:00&lt;00:00, 451.88it/s]"
      }
     },
     "cea4fb357875463bbc4e8ad61c015cf8": {
      "model_module": "@jupyter-widgets/base",
      "model_module_version": "2.0.0",
      "model_name": "LayoutModel",
      "state": {}
     },
     "cf0c8a03f6904e58abb849e5ee4c341b": {
      "model_module": "@jupyter-widgets/controls",
      "model_module_version": "2.0.0",
      "model_name": "HTMLModel",
      "state": {
       "layout": "IPY_MODEL_d0c79bbd0b774642ae7697c23ae04e17",
       "style": "IPY_MODEL_7708837a187640cd95b0383e33c72e3d",
       "value": " 1/1 [00:00&lt;00:00, 585.96it/s]"
      }
     },
     "cf61fc6e7986416ea821cbc5bb42bba5": {
      "model_module": "@jupyter-widgets/base",
      "model_module_version": "2.0.0",
      "model_name": "LayoutModel",
      "state": {}
     },
     "d0c79bbd0b774642ae7697c23ae04e17": {
      "model_module": "@jupyter-widgets/base",
      "model_module_version": "2.0.0",
      "model_name": "LayoutModel",
      "state": {}
     },
     "d128b6fe44904abb87a45d718602fdf7": {
      "model_module": "@jupyter-widgets/base",
      "model_module_version": "2.0.0",
      "model_name": "LayoutModel",
      "state": {}
     },
     "d1a81068a9364ef2969a16464fa0a9c4": {
      "model_module": "@jupyter-widgets/controls",
      "model_module_version": "2.0.0",
      "model_name": "HBoxModel",
      "state": {
       "children": [
        "IPY_MODEL_e95f9cc2876945d680be9b4b8f68b02e",
        "IPY_MODEL_4fa4088a7a00435ab6cb0caf7ace3918",
        "IPY_MODEL_0a0bf84176c645188ffd71e0b8efa270"
       ],
       "layout": "IPY_MODEL_2deacd89354f4cbfaa4314448fb0aaba"
      }
     },
     "d43678acae3e4f6395a16e5bea4e9cfb": {
      "model_module": "@jupyter-widgets/controls",
      "model_module_version": "2.0.0",
      "model_name": "FloatProgressModel",
      "state": {
       "bar_style": "success",
       "layout": "IPY_MODEL_cbf9533bc6bb4d00af485f3dd2ae5ed4",
       "max": 1,
       "style": "IPY_MODEL_8d43d78a53c84293a588422d05b8389f",
       "value": 1
      }
     },
     "d4c6e9ecf27741ae9250398e6947ab34": {
      "model_module": "@jupyter-widgets/controls",
      "model_module_version": "2.0.0",
      "model_name": "HTMLModel",
      "state": {
       "layout": "IPY_MODEL_a0515a04eece4abcbb8e986759322059",
       "style": "IPY_MODEL_afa742b990d24dc188d9298c367e2cc5",
       "value": "100%"
      }
     },
     "d58a9f6d350c477b97aca67677b9fee0": {
      "model_module": "@jupyter-widgets/controls",
      "model_module_version": "2.0.0",
      "model_name": "HTMLStyleModel",
      "state": {
       "description_width": "",
       "font_size": null,
       "text_color": null
      }
     },
     "d5d63fe5396142e29394fa726b3b8f17": {
      "model_module": "@jupyter-widgets/controls",
      "model_module_version": "2.0.0",
      "model_name": "ProgressStyleModel",
      "state": {
       "description_width": ""
      }
     },
     "d6247277b2f4454bb9265d39aaf817df": {
      "model_module": "@jupyter-widgets/base",
      "model_module_version": "2.0.0",
      "model_name": "LayoutModel",
      "state": {}
     },
     "d68025e046e04ac08e5aadc1d51e3b53": {
      "model_module": "@jupyter-widgets/controls",
      "model_module_version": "2.0.0",
      "model_name": "HBoxModel",
      "state": {
       "children": [
        "IPY_MODEL_5b96641ee9054ef083d4996f4760261d",
        "IPY_MODEL_5b811bfa33d74696abc13ef5a0f372fc",
        "IPY_MODEL_0d06ee23df694cb0bb502ea758125338"
       ],
       "layout": "IPY_MODEL_b1cf80b1a5454160897211f2f006e5bc"
      }
     },
     "d7144dbc2ac74b198f1d1b88ed1002a9": {
      "model_module": "@jupyter-widgets/controls",
      "model_module_version": "2.0.0",
      "model_name": "HTMLModel",
      "state": {
       "layout": "IPY_MODEL_661d4f3d30ed471d862d72569f8dc699",
       "style": "IPY_MODEL_7f3a719f782049f39ac9603c24c1a289",
       "value": "100%"
      }
     },
     "d86e24a68c44494b824014fa59349e4c": {
      "model_module": "@jupyter-widgets/controls",
      "model_module_version": "2.0.0",
      "model_name": "HTMLModel",
      "state": {
       "layout": "IPY_MODEL_363486f006164e519ea26c9551ab2727",
       "style": "IPY_MODEL_4974d90da4e84e248a9b8373b109101f",
       "value": " 5/5 [00:00&lt;00:00, 2680.75it/s]"
      }
     },
     "d8acd6268d3f45ceb1ae7f19f3e90186": {
      "model_module": "@jupyter-widgets/controls",
      "model_module_version": "2.0.0",
      "model_name": "ProgressStyleModel",
      "state": {
       "description_width": ""
      }
     },
     "d95da756fac845568f6d19fceb6c5a7b": {
      "model_module": "@jupyter-widgets/controls",
      "model_module_version": "2.0.0",
      "model_name": "HTMLModel",
      "state": {
       "layout": "IPY_MODEL_710e907e523c46df9dabf326e75a0905",
       "style": "IPY_MODEL_09fd0e204061457fa257f4434d63e4f1",
       "value": "100%"
      }
     },
     "db3a36d3b2104a02a087ea84785ee07a": {
      "model_module": "@jupyter-widgets/base",
      "model_module_version": "2.0.0",
      "model_name": "LayoutModel",
      "state": {}
     },
     "dba457d2c5994e7eb33f50bb99fe877b": {
      "model_module": "@jupyter-widgets/base",
      "model_module_version": "2.0.0",
      "model_name": "LayoutModel",
      "state": {}
     },
     "dbeee9f513b94e9ba6bf4410a472596d": {
      "model_module": "@jupyter-widgets/base",
      "model_module_version": "2.0.0",
      "model_name": "LayoutModel",
      "state": {}
     },
     "dd562270552840fe916dc915aa8734f1": {
      "model_module": "@jupyter-widgets/controls",
      "model_module_version": "2.0.0",
      "model_name": "HTMLStyleModel",
      "state": {
       "description_width": "",
       "font_size": null,
       "text_color": null
      }
     },
     "df5e15ca6a1449888fdc38ce4acc099b": {
      "model_module": "@jupyter-widgets/controls",
      "model_module_version": "2.0.0",
      "model_name": "ProgressStyleModel",
      "state": {
       "description_width": ""
      }
     },
     "dfaa8fdc30134b6cb3deda478bccc5cf": {
      "model_module": "@jupyter-widgets/controls",
      "model_module_version": "2.0.0",
      "model_name": "ProgressStyleModel",
      "state": {
       "description_width": ""
      }
     },
     "dfda5aa6a5bb4527b5ae29b6ccc3e3b7": {
      "model_module": "@jupyter-widgets/base",
      "model_module_version": "2.0.0",
      "model_name": "LayoutModel",
      "state": {}
     },
     "e001aca301a444c68517f9c4717901fd": {
      "model_module": "@jupyter-widgets/base",
      "model_module_version": "2.0.0",
      "model_name": "LayoutModel",
      "state": {}
     },
     "e0fae34ee781423d8fec5562bebbdf90": {
      "model_module": "@jupyter-widgets/controls",
      "model_module_version": "2.0.0",
      "model_name": "ProgressStyleModel",
      "state": {
       "description_width": ""
      }
     },
     "e321176d82da441a8b94dbfa4e5d7f0b": {
      "model_module": "@jupyter-widgets/controls",
      "model_module_version": "2.0.0",
      "model_name": "HTMLStyleModel",
      "state": {
       "description_width": "",
       "font_size": null,
       "text_color": null
      }
     },
     "e3a51c0c88ea43ddafbe2de4c8a29f0e": {
      "model_module": "@jupyter-widgets/controls",
      "model_module_version": "2.0.0",
      "model_name": "HTMLModel",
      "state": {
       "layout": "IPY_MODEL_099fb0091ec844288ae4c7f273a04445",
       "style": "IPY_MODEL_06dcf26ca6d7489c8f150572c860e344",
       "value": " 5/5 [00:00&lt;00:00, 2600.63it/s]"
      }
     },
     "e43ffb2cdc26425aa9ed86caba6ededa": {
      "model_module": "@jupyter-widgets/controls",
      "model_module_version": "2.0.0",
      "model_name": "HBoxModel",
      "state": {
       "children": [
        "IPY_MODEL_254a51ed2afc41c3ae9c481d44a31e04",
        "IPY_MODEL_fb10b07ebcaf441c805d5b6f75dd4ced",
        "IPY_MODEL_4e5f0a1f3a6b412c8ec9e0853a524e52"
       ],
       "layout": "IPY_MODEL_dbeee9f513b94e9ba6bf4410a472596d"
      }
     },
     "e44c2b8b629d46d0b4b3c1541aab047a": {
      "model_module": "@jupyter-widgets/controls",
      "model_module_version": "2.0.0",
      "model_name": "HTMLStyleModel",
      "state": {
       "description_width": "",
       "font_size": null,
       "text_color": null
      }
     },
     "e45f5e526c494bcb87dc4bfbc6d5f4d0": {
      "model_module": "@jupyter-widgets/base",
      "model_module_version": "2.0.0",
      "model_name": "LayoutModel",
      "state": {}
     },
     "e5104fead0744d97a9e10ddd51047846": {
      "model_module": "@jupyter-widgets/base",
      "model_module_version": "2.0.0",
      "model_name": "LayoutModel",
      "state": {}
     },
     "e5ec0ff7cdd846128c9defe8933ee193": {
      "model_module": "@jupyter-widgets/base",
      "model_module_version": "2.0.0",
      "model_name": "LayoutModel",
      "state": {
       "width": "20px"
      }
     },
     "e7294bf44d294446abdd38bcd8ecfab0": {
      "model_module": "@jupyter-widgets/base",
      "model_module_version": "2.0.0",
      "model_name": "LayoutModel",
      "state": {}
     },
     "e752ce435a504cdaa352dc80517d4bc9": {
      "model_module": "@jupyter-widgets/controls",
      "model_module_version": "2.0.0",
      "model_name": "ProgressStyleModel",
      "state": {
       "description_width": ""
      }
     },
     "e93d9a5bf46f4f3b93817bad9329890c": {
      "model_module": "@jupyter-widgets/controls",
      "model_module_version": "2.0.0",
      "model_name": "HBoxModel",
      "state": {
       "children": [
        "IPY_MODEL_9b3f50fb395147579869eaa4f492b43f",
        "IPY_MODEL_a02ef95038dd48018126e72a88a2ae0b",
        "IPY_MODEL_6b19228fa30e4590ba6c0adb0ec29332"
       ],
       "layout": "IPY_MODEL_4152548a3aaa42baa64b4e3a522cc5d0"
      }
     },
     "e93f0b8769584c8aa3a604cca41cb8de": {
      "model_module": "@jupyter-widgets/base",
      "model_module_version": "2.0.0",
      "model_name": "LayoutModel",
      "state": {}
     },
     "e95f9cc2876945d680be9b4b8f68b02e": {
      "model_module": "@jupyter-widgets/controls",
      "model_module_version": "2.0.0",
      "model_name": "HTMLModel",
      "state": {
       "layout": "IPY_MODEL_191807c903e74b1f9fbbc17af7c09c30",
       "style": "IPY_MODEL_c72a4c558edf422cab7688549c545a2e",
       "value": "100%"
      }
     },
     "e97a0961445047da90ab4eb529484ce6": {
      "model_module": "@jupyter-widgets/base",
      "model_module_version": "2.0.0",
      "model_name": "LayoutModel",
      "state": {}
     },
     "ea06d11cb3a54154b70e664e9dabc93a": {
      "model_module": "@jupyter-widgets/controls",
      "model_module_version": "2.0.0",
      "model_name": "HBoxModel",
      "state": {
       "children": [
        "IPY_MODEL_c1cf0843002c43ab8a1d43cc8a166205",
        "IPY_MODEL_ecc6b1b0dc8f41438366aeb0bdc7e0c4",
        "IPY_MODEL_2bc39aef351749028c7a502552f4a43d"
       ],
       "layout": "IPY_MODEL_29d038e6f8e144339c66a959729639f6"
      }
     },
     "eb5c8f1ed5c4498990294974c1b353a7": {
      "model_module": "@jupyter-widgets/base",
      "model_module_version": "2.0.0",
      "model_name": "LayoutModel",
      "state": {}
     },
     "ebe72ed99d8f4e619452c93274e2c7df": {
      "model_module": "@jupyter-widgets/controls",
      "model_module_version": "2.0.0",
      "model_name": "ProgressStyleModel",
      "state": {
       "description_width": ""
      }
     },
     "ecc6b1b0dc8f41438366aeb0bdc7e0c4": {
      "model_module": "@jupyter-widgets/controls",
      "model_module_version": "2.0.0",
      "model_name": "FloatProgressModel",
      "state": {
       "bar_style": "success",
       "layout": "IPY_MODEL_a29dd8d84bc54ad39963883ea39ec760",
       "max": 1,
       "style": "IPY_MODEL_d8acd6268d3f45ceb1ae7f19f3e90186",
       "value": 1
      }
     },
     "ed1c790dae2d458e9c5312d7a4f3d0fa": {
      "model_module": "@jupyter-widgets/controls",
      "model_module_version": "2.0.0",
      "model_name": "HTMLModel",
      "state": {
       "layout": "IPY_MODEL_6f5a3e9c7dd44206a8ce04ca2ee27b28",
       "style": "IPY_MODEL_73905482414846b4aafb266a8e268772",
       "value": " 1/1 [00:00&lt;00:00, 355.21it/s]"
      }
     },
     "ed7bfdd7b49a4cee8c6ef845572d850e": {
      "model_module": "@jupyter-widgets/base",
      "model_module_version": "2.0.0",
      "model_name": "LayoutModel",
      "state": {}
     },
     "edaa19cac69b424992bb3e35d0f09ec1": {
      "model_module": "@jupyter-widgets/base",
      "model_module_version": "2.0.0",
      "model_name": "LayoutModel",
      "state": {}
     },
     "edbe91c9752f4929b9f3caf1e22fc8aa": {
      "model_module": "@jupyter-widgets/controls",
      "model_module_version": "2.0.0",
      "model_name": "HTMLStyleModel",
      "state": {
       "description_width": "",
       "font_size": null,
       "text_color": null
      }
     },
     "ee6b76a891754ae6aaf1cf10ee64b92b": {
      "model_module": "@jupyter-widgets/base",
      "model_module_version": "2.0.0",
      "model_name": "LayoutModel",
      "state": {}
     },
     "ee7583fb42184d0297935794cde4958c": {
      "model_module": "@jupyter-widgets/controls",
      "model_module_version": "2.0.0",
      "model_name": "HBoxModel",
      "state": {
       "children": [
        "IPY_MODEL_3ffc0d6b09d04ec1b7378b6ed862a556",
        "IPY_MODEL_b239f03c6bdb4e77ab42557cb6297a82",
        "IPY_MODEL_4b08a7010c0c4a5f9687059dd277b12c"
       ],
       "layout": "IPY_MODEL_cea4fb357875463bbc4e8ad61c015cf8"
      }
     },
     "eea68594fa764fe7a8f92e4439e2b104": {
      "model_module": "@jupyter-widgets/controls",
      "model_module_version": "2.0.0",
      "model_name": "HTMLStyleModel",
      "state": {
       "description_width": "",
       "font_size": null,
       "text_color": null
      }
     },
     "ef046b666247489dbfbfd6e4986b836d": {
      "model_module": "@jupyter-widgets/base",
      "model_module_version": "2.0.0",
      "model_name": "LayoutModel",
      "state": {}
     },
     "ef33d7fbf1b54e53a99ea6b254a90978": {
      "model_module": "@jupyter-widgets/controls",
      "model_module_version": "2.0.0",
      "model_name": "HBoxModel",
      "state": {
       "children": [
        "IPY_MODEL_01caaf882593480b91aa50476e718e80",
        "IPY_MODEL_8c21c8e4eb4641dbb554c6e7332017a1",
        "IPY_MODEL_0f507c30020544bc87bbaa0bc5e9bbc0"
       ],
       "layout": "IPY_MODEL_2e0e1e02aaf54391a6256f6a11aabea3"
      }
     },
     "f06eaa4dc1f545ce8f377e69fbef55ac": {
      "model_module": "@jupyter-widgets/controls",
      "model_module_version": "2.0.0",
      "model_name": "HTMLStyleModel",
      "state": {
       "description_width": "",
       "font_size": null,
       "text_color": null
      }
     },
     "f0e5bb7a630f43c8b8a922c8b0ac292a": {
      "model_module": "@jupyter-widgets/controls",
      "model_module_version": "2.0.0",
      "model_name": "HBoxModel",
      "state": {
       "children": [
        "IPY_MODEL_01038d2f886d4b0593401aaae4f3c220",
        "IPY_MODEL_9ae331ef3c0e460e86c23567f3eaaf7a",
        "IPY_MODEL_0a07f747bde1413fb45e71283201f923"
       ],
       "layout": "IPY_MODEL_513ca09e95664d5eac9641abb4efaaa1"
      }
     },
     "f23aad8c256f41e2bd4eb6aa5dba100e": {
      "model_module": "@jupyter-widgets/base",
      "model_module_version": "2.0.0",
      "model_name": "LayoutModel",
      "state": {}
     },
     "f266eb7f3f1f4dcdac2673f85d78e44d": {
      "model_module": "@jupyter-widgets/base",
      "model_module_version": "2.0.0",
      "model_name": "LayoutModel",
      "state": {
       "width": "20px"
      }
     },
     "f4236e4441fa44d58109b877b87866c4": {
      "model_module": "@jupyter-widgets/controls",
      "model_module_version": "2.0.0",
      "model_name": "ProgressStyleModel",
      "state": {
       "description_width": ""
      }
     },
     "f4e53bec49e24ac284da8fface2abda5": {
      "model_module": "@jupyter-widgets/base",
      "model_module_version": "2.0.0",
      "model_name": "LayoutModel",
      "state": {}
     },
     "f5d9beff73754d85903df406fbfc1d60": {
      "model_module": "@jupyter-widgets/controls",
      "model_module_version": "2.0.0",
      "model_name": "FloatProgressModel",
      "state": {
       "bar_style": "success",
       "layout": "IPY_MODEL_e5ec0ff7cdd846128c9defe8933ee193",
       "max": 1,
       "style": "IPY_MODEL_f4236e4441fa44d58109b877b87866c4"
      }
     },
     "f623e9053ddb4868b67e8d54840762e6": {
      "model_module": "@jupyter-widgets/controls",
      "model_module_version": "2.0.0",
      "model_name": "FloatProgressModel",
      "state": {
       "bar_style": "success",
       "layout": "IPY_MODEL_79751596f7ce489193fa6bf9693dbdaa",
       "max": 2,
       "style": "IPY_MODEL_b52255976c6a403888c1b356f0a8374b",
       "value": 2
      }
     },
     "f626fed36bf540839528cc9c25476174": {
      "model_module": "@jupyter-widgets/controls",
      "model_module_version": "2.0.0",
      "model_name": "ProgressStyleModel",
      "state": {
       "description_width": ""
      }
     },
     "f67abca0db644e86b319e5133719fa62": {
      "model_module": "@jupyter-widgets/base",
      "model_module_version": "2.0.0",
      "model_name": "LayoutModel",
      "state": {}
     },
     "f8e6f981cddb4e04a8519476c5ec0dd5": {
      "model_module": "@jupyter-widgets/controls",
      "model_module_version": "2.0.0",
      "model_name": "HTMLStyleModel",
      "state": {
       "description_width": "",
       "font_size": null,
       "text_color": null
      }
     },
     "f8fcacf188d94424a8f43eada4b609a1": {
      "model_module": "@jupyter-widgets/controls",
      "model_module_version": "2.0.0",
      "model_name": "HTMLStyleModel",
      "state": {
       "description_width": "",
       "font_size": null,
       "text_color": null
      }
     },
     "f90cd85fa9644093bed615af43e56ced": {
      "model_module": "@jupyter-widgets/controls",
      "model_module_version": "2.0.0",
      "model_name": "HTMLStyleModel",
      "state": {
       "description_width": "",
       "font_size": null,
       "text_color": null
      }
     },
     "fa9ce3ffe0fa4a4a99e2e4f0433d807e": {
      "model_module": "@jupyter-widgets/controls",
      "model_module_version": "2.0.0",
      "model_name": "HTMLModel",
      "state": {
       "layout": "IPY_MODEL_33cc86c7f7904e37b71c01373d093966",
       "style": "IPY_MODEL_fe1a3bb142ba44ae9047c046aec4a31f",
       "value": "100%"
      }
     },
     "fb10b07ebcaf441c805d5b6f75dd4ced": {
      "model_module": "@jupyter-widgets/controls",
      "model_module_version": "2.0.0",
      "model_name": "FloatProgressModel",
      "state": {
       "bar_style": "success",
       "layout": "IPY_MODEL_a255501267fe4b8a9ede48e5b488768f",
       "max": 2,
       "style": "IPY_MODEL_df5e15ca6a1449888fdc38ce4acc099b",
       "value": 2
      }
     },
     "fc066dc223b346fda04cb8794c86f678": {
      "model_module": "@jupyter-widgets/controls",
      "model_module_version": "2.0.0",
      "model_name": "ProgressStyleModel",
      "state": {
       "description_width": ""
      }
     },
     "fc5513f3dba648a6b40a5e7430c7b84a": {
      "model_module": "@jupyter-widgets/controls",
      "model_module_version": "2.0.0",
      "model_name": "FloatProgressModel",
      "state": {
       "bar_style": "success",
       "layout": "IPY_MODEL_76148b2e206b42d8ae28f63dde3daeec",
       "max": 1,
       "style": "IPY_MODEL_61c8d25507ca4a5f848d0e5dc5cb9909",
       "value": 1
      }
     },
     "fdd8acd582f848ba859e24152d7bd301": {
      "model_module": "@jupyter-widgets/controls",
      "model_module_version": "2.0.0",
      "model_name": "HTMLModel",
      "state": {
       "layout": "IPY_MODEL_03cabb8de35e48f59409b3aa3b239850",
       "style": "IPY_MODEL_5ff0efdc282149b9a9a7dc6dec351404",
       "value": " 1/1 [00:00&lt;00:00, 488.79it/s]"
      }
     },
     "fde3c482825647f48ebae822c802be1d": {
      "model_module": "@jupyter-widgets/controls",
      "model_module_version": "2.0.0",
      "model_name": "HTMLStyleModel",
      "state": {
       "description_width": "",
       "font_size": null,
       "text_color": null
      }
     },
     "fe1a3bb142ba44ae9047c046aec4a31f": {
      "model_module": "@jupyter-widgets/controls",
      "model_module_version": "2.0.0",
      "model_name": "HTMLStyleModel",
      "state": {
       "description_width": "",
       "font_size": null,
       "text_color": null
      }
     },
     "fe9658d4f6e44bf9b1ce4c7564e7f823": {
      "model_module": "@jupyter-widgets/controls",
      "model_module_version": "2.0.0",
      "model_name": "FloatProgressModel",
      "state": {
       "bar_style": "success",
       "layout": "IPY_MODEL_a941702ef1a142598f988609dda6c2b5",
       "max": 5,
       "style": "IPY_MODEL_e0fae34ee781423d8fec5562bebbdf90",
       "value": 5
      }
     }
    },
    "version_major": 2,
    "version_minor": 0
   }
  }
 },
 "nbformat": 4,
 "nbformat_minor": 5
}
