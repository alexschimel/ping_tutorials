{
 "cells": [
  {
   "cell_type": "code",
   "execution_count": 1,
   "id": "28316a74-a399-4979-bf20-da449c8266da",
   "metadata": {},
   "outputs": [],
   "source": [
    "import requests\n",
    "from tqdm.auto import tqdm\n",
    "\n",
    "\n",
    "url = 'https://www.seanoe.org/data/00614/72579/data/71569.zip'\n",
    "#url = 'https://www.seanoe.org/data/00614/72579/data/71572.zip'\n",
    "#r = requests.get(url, allow_redirects=True)\n",
    "\n",
    "#open('71572.zip', 'wb').write(r.content)\n",
    "\n"
   ]
  },
  {
   "cell_type": "code",
   "execution_count": 2,
   "id": "d69eb02a-b0aa-45a2-89e8-1d9849a158c6",
   "metadata": {},
   "outputs": [],
   "source": [
    "def download(url: str, fname: str, chunk_size=1024):\n",
    "    resp = requests.get(url, stream=True)\n",
    "    total = int(resp.headers.get('content-length', 0))\n",
    "    with open(fname, 'wb') as file, tqdm(\n",
    "        desc=fname,\n",
    "        total=total,\n",
    "        unit='iB',\n",
    "        unit_scale=True,\n",
    "        unit_divisor=1024,\n",
    "    ) as bar:\n",
    "        for data in resp.iter_content(chunk_size=chunk_size):\n",
    "            size = file.write(data)\n",
    "            bar.update(size)"
   ]
  },
  {
   "cell_type": "code",
   "execution_count": 3,
   "id": "74a79780-41c2-4293-8136-a1a17a5db585",
   "metadata": {},
   "outputs": [
    {
     "data": {
      "application/vnd.jupyter.widget-view+json": {
       "model_id": "4b7cb62fc9344b608dbf326ec281b69b",
       "version_major": 2,
       "version_minor": 0
      },
      "text/plain": [
       "71569.zip:   0%|          | 0.00/3.34G [00:00<?, ?iB/s]"
      ]
     },
     "metadata": {},
     "output_type": "display_data"
    }
   ],
   "source": [
    "download(url,'71569.zip')"
   ]
  },
  {
   "cell_type": "code",
   "execution_count": null,
   "id": "7f88d98a-4b65-4bb3-a857-6a653754fa5a",
   "metadata": {},
   "outputs": [],
   "source": []
  }
 ],
 "metadata": {
  "kernelspec": {
   "display_name": "Python 3 (ipykernel)",
   "language": "python",
   "name": "python3"
  },
  "language_info": {
   "codemirror_mode": {
    "name": "ipython",
    "version": 3
   },
   "file_extension": ".py",
   "mimetype": "text/x-python",
   "name": "python",
   "nbconvert_exporter": "python",
   "pygments_lexer": "ipython3",
   "version": "3.11.3"
  }
 },
 "nbformat": 4,
 "nbformat_minor": 5
}
