{
 "cells": [
  {
   "cell_type": "code",
   "execution_count": null,
   "id": "9f46fee5-7235-48a7-a273-c73ee37fe7d7",
   "metadata": {},
   "outputs": [],
   "source": [
    "# import this module\n",
    "from themachinethatgoesping.navigation import navtools as nt"
   ]
  },
  {
   "cell_type": "code",
   "execution_count": null,
   "id": "1c71b264-49fa-4f31-8c35-f1d92b286bb5",
   "metadata": {},
   "outputs": [],
   "source": [
    "print(\"[degrees] 123.45678° ->\",nt.latitude_to_string(123.45678,\"degrees\",2))\n",
    "print(\"[minutes] 123.45678° ->\",nt.latitude_to_string(123.45678,\"minutes\",2))\n",
    "print(\"[seconds] 123.45678° ->\",nt.latitude_to_string(123.45678,\"seconds\",2))\n",
    "print()\n",
    "print(\"[degrees] -123.45678° ->\",nt.latitude_to_string(-123.45678,\"minutes\",3))\n",
    "print(\"[minutes] -123.45678° ->\",nt.latitude_to_string(-123.45678,\"minutes\",4))\n",
    "print(\"[seconds] -123.45678° ->\",nt.latitude_to_string(-123.45678,\"seconds\",5))"
   ]
  },
  {
   "cell_type": "code",
   "execution_count": null,
   "id": "cd0cb0f3-d908-4faa-876c-3355685fcf7a",
   "metadata": {},
   "outputs": [],
   "source": [
    "print(\"[degrees] 123.45678° ->\",nt.longitude_to_string(123.45678,\"degrees\",2))\n",
    "print(\"[minutes] 123.45678° ->\",nt.longitude_to_string(123.45678,\"minutes\",2))\n",
    "print(\"[seconds] 123.45678° ->\",nt.longitude_to_string(123.45678,\"seconds\",2))\n",
    "print()\n",
    "print(\"[degrees] -123.45678° ->\",nt.longitude_to_string(-123.45678,\"degrees\",3))\n",
    "print(\"[minutes] -123.45678° ->\",nt.longitude_to_string(-123.45678,\"minutes\",4))\n",
    "print(\"[seconds] -123.45678° ->\",nt.longitude_to_string(-123.45678,\"seconds\",5))"
   ]
  },
  {
   "cell_type": "code",
   "execution_count": null,
   "id": "30a987a6-7509-40a3-96e1-72c12de8a091",
   "metadata": {},
   "outputs": [],
   "source": []
  }
 ],
 "metadata": {
  "kernelspec": {
   "display_name": "Python 3.10.5",
   "language": "python",
   "name": "python3"
  },
  "language_info": {
   "codemirror_mode": {
    "name": "ipython",
    "version": 3
   },
   "file_extension": ".py",
   "mimetype": "text/x-python",
   "name": "python",
   "nbconvert_exporter": "python",
   "pygments_lexer": "ipython3",
   "version": "3.10.5"
  },
  "vscode": {
   "interpreter": {
    "hash": "087f16e3e5104fe652325b4a547ba41eb2d7b5eb7cfad3f7bf5ce2dcb33acaac"
   }
  }
 },
 "nbformat": 4,
 "nbformat_minor": 5
}
