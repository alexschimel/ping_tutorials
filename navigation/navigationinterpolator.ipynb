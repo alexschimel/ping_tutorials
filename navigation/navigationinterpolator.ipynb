{
 "cells": [
  {
   "cell_type": "code",
   "execution_count": null,
   "id": "f005cae7-80d2-44c7-896a-d1373423f449",
   "metadata": {},
   "outputs": [],
   "source": [
    "from themachinethatgoesping import navigation as nav"
   ]
  },
  {
   "cell_type": "code",
   "execution_count": null,
   "id": "745c2f0a-1000-4e85-a684-22ca39afa2f1",
   "metadata": {},
   "outputs": [],
   "source": [
    "# initialize sensor\n",
    "scs = nav.SensorConfiguration()\n",
    "\n",
    "# register target\n",
    "scs.add_target(\n",
    "    \"mbes\", nav.datastructures.PositionalOffsets(\"mbes\",-12, 9, 3, 10, 11, 12)\n",
    ")\n",
    "\n",
    "# add offsets\n",
    "scs.set_heading_source(\"compass\",yaw=9)\n",
    "scs.set_depth_source(\"altimeter\",0, 0, 1)\n",
    "scs.set_position_source(\"gps\",1, 2, 3)\n",
    "scs.set_attitude_source(\"IMU\",10, -10, -30)"
   ]
  },
  {
   "cell_type": "code",
   "execution_count": null,
   "id": "0fde6200",
   "metadata": {},
   "outputs": [],
   "source": [
    "# initialize interpolator using previously created SensorConfiguration\n",
    "navi = nav.NavigationInterpolatorLocal(scs, \"extrapolate\")\n",
    "\n",
    "#change a configuration\n",
    "navi.sensor_configuration.set_position_source(\"gps2\",10,0,0)"
   ]
  },
  {
   "cell_type": "code",
   "execution_count": null,
   "id": "5f48a28e-addc-4bb0-bdc2-f6762ec402cd",
   "metadata": {},
   "outputs": [],
   "source": [
    "navi.set_data_position([1,2,3,4], [10,20,10,20], [-10,1,2,-4])\n",
    "navi.set_data_heave([0,5],[0,20])\n",
    "navi.set_data_heading([1,2],[-20,20])\n",
    "navi.set_data_attitude([2,3],[10,20],[-20,1])\n",
    "        \n",
    "# get target position\n",
    "pos = navi(\"mbes\",1.5)\n",
    "\n",
    "pos.print(8)"
   ]
  },
  {
   "cell_type": "code",
   "execution_count": null,
   "id": "f59b2774-7c91-4408-8b1f-f9b0488967cf",
   "metadata": {},
   "outputs": [],
   "source": [
    "navi(\"mbes\",0).print(8)"
   ]
  },
  {
   "cell_type": "code",
   "execution_count": null,
   "id": "6aeabcc4-9674-4743-8aae-e863d1a71498",
   "metadata": {},
   "outputs": [],
   "source": [
    "from pickle import dump, load"
   ]
  },
  {
   "cell_type": "code",
   "execution_count": null,
   "id": "9721d487-1574-43f6-a472-dc5623311b73",
   "metadata": {},
   "outputs": [],
   "source": [
    "dump(navi,open(\"test\",\"wb\"))"
   ]
  },
  {
   "cell_type": "code",
   "execution_count": null,
   "id": "e72f9428-f284-451d-a320-00d5e5470b44",
   "metadata": {},
   "outputs": [],
   "source": [
    "load(open(\"test\",\"rb\"))"
   ]
  },
  {
   "cell_type": "code",
   "execution_count": null,
   "id": "b68cb00b-27f6-40bf-894b-226f7bebdd4e",
   "metadata": {},
   "outputs": [],
   "source": []
  }
 ],
 "metadata": {
  "kernelspec": {
   "display_name": "Python 3.10.5 ('base')",
   "language": "python",
   "name": "python3"
  },
  "language_info": {
   "codemirror_mode": {
    "name": "ipython",
    "version": 3
   },
   "file_extension": ".py",
   "mimetype": "text/x-python",
   "name": "python",
   "nbconvert_exporter": "python",
   "pygments_lexer": "ipython3",
   "version": "3.10.6"
  },
  "vscode": {
   "interpreter": {
    "hash": "004b4bd4169e17fdcb87bfc8104a00130ef938c56c6e2bd3919919f77c66ace3"
   }
  }
 },
 "nbformat": 4,
 "nbformat_minor": 5
}
