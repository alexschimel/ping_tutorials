{
 "cells": [
  {
   "cell_type": "code",
   "execution_count": null,
   "id": "a2d9d1cc-569f-4840-99fc-83cb762cd2af",
   "metadata": {},
   "outputs": [],
   "source": [
    "# import this module# import this module\n",
    "from themachinethatgoesping.navigation.datastructures import SensorDataLatLon, SensorDataUTM\n",
    "\n",
    "data_utm = SensorDataUTM(\n",
    "   5427745.995,  # northing\n",
    "   314082.699,   # easting\n",
    "   60,    # utm zone\n",
    "   False, # northern_hemisphere\n",
    "   3,  # depth\n",
    "   -2, # heave,\n",
    "   45, # compass heading\n",
    "   10, # yaw\n",
    "   20, # pitch\n",
    "   30) # roll\n",
    "\n",
    "print(data_utm)\n",
    "\n",
    "# SensorDataUTM\n",
    "# *************\n",
    "# - gps_northing:            5427746.00 [positive northwards, m]\n",
    "# - gps_easting:             314082.70  [positive eastwards, m]\n",
    "# - gps_zone:                60         \n",
    "# - gps_northern_hemisphere: false      \n",
    "# - gps_z:                   3.00       [positive downwards, m]\n",
    "# - heave_heave:             -2.00      [positive upwards, m]\n",
    "# - compass_heading:         45.00      [90 ° at east (valid)]\n",
    "# - imu_yaw:                 10.00      [90 ° at east (unused]\n",
    "# - imu_pitch:               20.00      [° positive bow up]\n",
    "# - imu_roll:                30.00      [° positive port up]\n",
    "\n",
    "# conversion to latlon data (works in both directions)\n",
    "data_latlot = SensorDataLatLon(data_utm)\n",
    "\n",
    "print()\n",
    "print(data_latlot)\n",
    "\n",
    "# SensorDataLatLon\n",
    "# ****************\n",
    "# - gps_latitude:    41°16'49.2\"S  [ddd°mm',ss.s''N/S]\n",
    "# - gps_longitude:   41°16'49.2\"W  [ddd°mm',ss.s''E/W]\n",
    "# - gps_z:           3.00          [positive downwards, m]\n",
    "# - heave_heave:     -2.00         [positive upwards, m]\n",
    "# - compass_heading: 45.00         [90 ° at east (valid)]\n",
    "# - imu_yaw:         10.00         [90 ° at east (unused]\n",
    "# - imu_pitch:       20.00         [° positive bow up]\n",
    "# - imu_roll:        30.00         [° positive port up]"
   ]
  },
  {
   "cell_type": "code",
   "execution_count": null,
   "id": "28ff2823-8e66-4f77-b534-5c6c21061e1b",
   "metadata": {},
   "outputs": [],
   "source": []
  }
 ],
 "metadata": {
  "kernelspec": {
   "display_name": "Python 3 (ipykernel)",
   "language": "python",
   "name": "python3"
  },
  "language_info": {
   "codemirror_mode": {
    "name": "ipython",
    "version": 3
   },
   "file_extension": ".py",
   "mimetype": "text/x-python",
   "name": "python",
   "nbconvert_exporter": "python",
   "pygments_lexer": "ipython3",
   "version": "3.10.5"
  }
 },
 "nbformat": 4,
 "nbformat_minor": 5
}
