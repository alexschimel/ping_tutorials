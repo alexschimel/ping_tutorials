{
 "cells": [
  {
   "cell_type": "code",
   "execution_count": null,
   "id": "5b35d930-eb99-4c4c-bb3b-ae17f2b6f27b",
   "metadata": {},
   "outputs": [],
   "source": [
    "import themachinethatgoesping.navigation as nav"
   ]
  },
  {
   "cell_type": "code",
   "execution_count": null,
   "id": "320b8b31-ebbf-4714-b0c7-aa6ba980b20c",
   "metadata": {},
   "outputs": [],
   "source": [
    "# import this module\n",
    "import themachinethatgoesping.navigation as nav\n",
    "\n",
    "# initialize\n",
    "scs = nav.SensorConfiguration()\n",
    "\n",
    "# add sensor offsets\n",
    "scs.set_offsets_heading_source(yaw=9)\n",
    "scs.set_offsets_depth_source(0, 0, 1)\n",
    "scs.set_offsets_position_source(1, 2, 3)\n",
    "scs.set_offsets_attitude_source(10, -10, -30)\n",
    "\n",
    "# add a target with target offsets\n",
    "scs.add_target(\n",
    "    target_id = \"mbes\",\n",
    "    x = 1, \n",
    "    y = 2, \n",
    "    z = 3, \n",
    "    yaw = 0, \n",
    "    pitch = 0, \n",
    "    roll = 0)\n",
    "\n",
    "# create a object that contains sensor data\n",
    "sensor_data = nav.datastructures.SensorDataLatLon(\n",
    "    latitude = 53, \n",
    "    longitude = 10, \n",
    "    depth = 3, \n",
    "    heave = -1,\n",
    "    heading = 45,\n",
    "    roll = 2,\n",
    "    pitch = -3)\n",
    "\n",
    "# compute target position from the specified sensor data\n",
    "target_position = scs.compute_target_position(\"mbes\", sensor_data)\n",
    "\n",
    "#print position\n",
    "print(target_position)"
   ]
  },
  {
   "cell_type": "code",
   "execution_count": null,
   "id": "0bce954d-f9c9-409a-8614-468d5cdba915",
   "metadata": {},
   "outputs": [],
   "source": []
  }
 ],
 "metadata": {
  "kernelspec": {
   "display_name": "Python 3.10.5 ('base')",
   "language": "python",
   "name": "python3"
  },
  "language_info": {
   "codemirror_mode": {
    "name": "ipython",
    "version": 3
   },
   "file_extension": ".py",
   "mimetype": "text/x-python",
   "name": "python",
   "nbconvert_exporter": "python",
   "pygments_lexer": "ipython3",
   "version": "3.10.5"
  },
  "vscode": {
   "interpreter": {
    "hash": "004b4bd4169e17fdcb87bfc8104a00130ef938c56c6e2bd3919919f77c66ace3"
   }
  }
 },
 "nbformat": 4,
 "nbformat_minor": 5
}
