{
 "cells": [
  {
   "cell_type": "code",
   "execution_count": null,
   "id": "9f46fee5-7235-48a7-a273-c73ee37fe7d7",
   "metadata": {},
   "outputs": [],
   "source": [
    "# import this module\n",
    "from themachinethatgoesping.navigation.navdata import GeoLocation, GeoLocationUTM, SensorDataLatLon,SensorData,SensorDataUTM"
   ]
  },
  {
   "cell_type": "code",
   "execution_count": null,
   "id": "b46b7adb-fb95-434e-9b65-d06c68737f09",
   "metadata": {},
   "outputs": [],
   "source": [
    "data = SensorDataUTM(\n",
    "    5427745.995, \n",
    "    314082.699, \n",
    "    60, \n",
    "    False, \n",
    "    3, \n",
    "    1,\n",
    "    10,\n",
    "    12, \n",
    "    20, \n",
    "    30)\n",
    "\n",
    "print(data)"
   ]
  },
  {
   "cell_type": "code",
   "execution_count": null,
   "id": "611e2e59-aac8-4ef7-8faf-e8376ae5e738",
   "metadata": {},
   "outputs": [],
   "source": [
    "location = GeoLocationUTM(\n",
    "    5427745.995, \n",
    "    314082.699, \n",
    "    60, \n",
    "    False, \n",
    "    3, \n",
    "    10, \n",
    "    20, \n",
    "    30)\n",
    "\n",
    "print(location)"
   ]
  },
  {
   "cell_type": "code",
   "execution_count": null,
   "id": "cfaac586-900f-4b75-9711-f98656df252f",
   "metadata": {},
   "outputs": [],
   "source": [
    "print(GeoLocation(location))"
   ]
  },
  {
   "cell_type": "code",
   "execution_count": null,
   "id": "002edf71-cf02-4aba-b0dc-945d9081aebd",
   "metadata": {},
   "outputs": [],
   "source": [
    "location.pitch"
   ]
  },
  {
   "cell_type": "code",
   "execution_count": null,
   "id": "cd0cb0f3-d908-4faa-876c-3355685fcf7a",
   "metadata": {},
   "outputs": [],
   "source": [
    "location_latlon = GeoLocation(location)\n",
    "\n",
    "print(location_latlon)"
   ]
  },
  {
   "cell_type": "code",
   "execution_count": null,
   "id": "11cecce9-91ca-46b6-a71b-bcd6af95e259",
   "metadata": {},
   "outputs": [],
   "source": [
    "data = SensorDataLatLon(\n",
    "    5427745.995, \n",
    "    314082.699, \n",
    "    60, \n",
    "    -3, \n",
    "    10, \n",
    "    11, \n",
    "    20, \n",
    "    30)\n",
    "\n",
    "print(data)"
   ]
  },
  {
   "cell_type": "code",
   "execution_count": null,
   "id": "4ad10ee4-e47d-478e-98b5-fc067216bc9e",
   "metadata": {},
   "outputs": [],
   "source": [
    "data2 = data.copy()\n",
    "data2.gps_z=1"
   ]
  },
  {
   "cell_type": "code",
   "execution_count": null,
   "id": "ee4be1e8-ab0b-4493-8f61-fd7dee84a825",
   "metadata": {},
   "outputs": [],
   "source": [
    "data == data2"
   ]
  },
  {
   "cell_type": "code",
   "execution_count": null,
   "id": "a2d9d1cc-569f-4840-99fc-83cb762cd2af",
   "metadata": {},
   "outputs": [],
   "source": []
  }
 ],
 "metadata": {
  "kernelspec": {
   "display_name": "Python 3 (ipykernel)",
   "language": "python",
   "name": "python3"
  },
  "language_info": {
   "codemirror_mode": {
    "name": "ipython",
    "version": 3
   },
   "file_extension": ".py",
   "mimetype": "text/x-python",
   "name": "python",
   "nbconvert_exporter": "python",
   "pygments_lexer": "ipython3",
   "version": "3.10.5"
  }
 },
 "nbformat": 4,
 "nbformat_minor": 5
}
