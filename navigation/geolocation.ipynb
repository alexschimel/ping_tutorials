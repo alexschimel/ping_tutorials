{
 "cells": [
  {
   "cell_type": "code",
   "execution_count": null,
   "id": "9f46fee5-7235-48a7-a273-c73ee37fe7d7",
   "metadata": {},
   "outputs": [],
   "source": [
    "# import this module\n",
    "from themachinethatgoesping.navigation import GeoLocation, GeoLocationUTM"
   ]
  },
  {
   "cell_type": "code",
   "execution_count": null,
   "id": "611e2e59-aac8-4ef7-8faf-e8376ae5e738",
   "metadata": {},
   "outputs": [],
   "source": [
    "location = GeoLocationUTM(\n",
    "    5427745.995, \n",
    "    314082.699, \n",
    "    60, \n",
    "    False, \n",
    "    3, \n",
    "    10, \n",
    "    20, \n",
    "    30)\n",
    "\n",
    "print(location)"
   ]
  },
  {
   "cell_type": "code",
   "execution_count": null,
   "id": "cd0cb0f3-d908-4faa-876c-3355685fcf7a",
   "metadata": {},
   "outputs": [],
   "source": [
    "location_latlon = GeoLocation(location)\n",
    "\n",
    "print(location_latlon)"
   ]
  },
  {
   "cell_type": "code",
   "execution_count": null,
   "id": "11cecce9-91ca-46b6-a71b-bcd6af95e259",
   "metadata": {},
   "outputs": [],
   "source": []
  }
 ],
 "metadata": {
  "kernelspec": {
   "display_name": "Python 3 (ipykernel)",
   "language": "python",
   "name": "python3"
  },
  "language_info": {
   "codemirror_mode": {
    "name": "ipython",
    "version": 3
   },
   "file_extension": ".py",
   "mimetype": "text/x-python",
   "name": "python",
   "nbconvert_exporter": "python",
   "pygments_lexer": "ipython3",
   "version": "3.10.5"
  }
 },
 "nbformat": 4,
 "nbformat_minor": 5
}
