{
 "cells": [
  {
   "cell_type": "code",
   "execution_count": null,
   "id": "9f46fee5-7235-48a7-a273-c73ee37fe7d7",
   "metadata": {},
   "outputs": [],
   "source": [
    "# import this module\n",
    "from themachinethatgoesping.navigation import SensorPositionOffsets"
   ]
  },
  {
   "cell_type": "code",
   "execution_count": null,
   "id": "611e2e59-aac8-4ef7-8faf-e8376ae5e738",
   "metadata": {},
   "outputs": [],
   "source": [
    "offsets = SensorPositionOffsets(1,2,3,10,20,30)\n",
    "print(offsets)"
   ]
  },
  {
   "cell_type": "code",
   "execution_count": null,
   "id": "a6864e76-09ab-4941-ac56-8ecbbba0596a",
   "metadata": {},
   "outputs": [],
   "source": []
  }
 ],
 "metadata": {
  "kernelspec": {
   "display_name": "Python 3 (ipykernel)",
   "language": "python",
   "name": "python3"
  },
  "language_info": {
   "codemirror_mode": {
    "name": "ipython",
    "version": 3
   },
   "file_extension": ".py",
   "mimetype": "text/x-python",
   "name": "python",
   "nbconvert_exporter": "python",
   "pygments_lexer": "ipython3",
   "version": "3.10.5"
  }
 },
 "nbformat": 4,
 "nbformat_minor": 5
}
