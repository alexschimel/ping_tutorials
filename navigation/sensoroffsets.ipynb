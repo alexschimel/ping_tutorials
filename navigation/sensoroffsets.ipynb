{
 "cells": [
  {
   "cell_type": "code",
   "execution_count": null,
   "id": "739b3932-06d0-42e2-8fc6-41cb192be4ec",
   "metadata": {},
   "outputs": [],
   "source": [
    "# import this module# import this module\n",
    "from themachinethatgoesping.navigation.datastructures import PositionalOffsets\n",
    "\n",
    "sensor_offsets = PositionalOffsets(\n",
    "  \"sensor\",\n",
    "  10, # x (in m, positive forward)\n",
    "  -3, # y (in m, positive starboard)\n",
    "  3,  # z (in m, positive downwards)\n",
    "  10, # yaw    (in °, positive is clockwise rotation)\n",
    "  20, # pitch  (in °, positive is bow up)\n",
    "  30) # roll   (in °, positive is port up)\n",
    "\n",
    "print(sensor_offsets)\n",
    "# PositionalOffsets\n",
    "# *****************\n",
    "# - x:     10.00 [positive forwards, m]\n",
    "# - y:     -3.00 [positive starboard, m]\n",
    "# - z:     3.00  [positive downwards, m]\n",
    "# - yaw:   10.00 [° positive means clockwise rotation]\n",
    "# - pitch: 20.00 [° positive means bow up]\n",
    "# - roll:  30.00 [° positive means port up]"
   ]
  },
  {
   "cell_type": "code",
   "execution_count": null,
   "id": "2987dd42-48f3-4b23-b272-442a4908ed08",
   "metadata": {},
   "outputs": [],
   "source": []
  }
 ],
 "metadata": {
  "kernelspec": {
   "display_name": "Python 3.10.6 ('base')",
   "language": "python",
   "name": "python3"
  },
  "language_info": {
   "codemirror_mode": {
    "name": "ipython",
    "version": 3
   },
   "file_extension": ".py",
   "mimetype": "text/x-python",
   "name": "python",
   "nbconvert_exporter": "python",
   "pygments_lexer": "ipython3",
   "version": "3.10.6"
  },
  "vscode": {
   "interpreter": {
    "hash": "004b4bd4169e17fdcb87bfc8104a00130ef938c56c6e2bd3919919f77c66ace3"
   }
  }
 },
 "nbformat": 4,
 "nbformat_minor": 5
}
