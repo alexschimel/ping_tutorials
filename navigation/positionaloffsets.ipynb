{
 "cells": [
  {
   "cell_type": "code",
   "execution_count": null,
   "id": "9f46fee5-7235-48a7-a273-c73ee37fe7d7",
   "metadata": {},
   "outputs": [],
   "source": [
    "from themachinethatgoesping.navigation.datastructures import PositionalOffsets   "
   ]
  },
  {
   "cell_type": "code",
   "execution_count": null,
   "id": "611e2e59-aac8-4ef7-8faf-e8376ae5e738",
   "metadata": {},
   "outputs": [],
   "source": [
    "offsets = PositionalOffsets(1,2,3,10,20,30)\n",
    "print(offsets)"
   ]
  },
  {
   "cell_type": "code",
   "execution_count": null,
   "id": "cd0cb0f3-d908-4faa-876c-3355685fcf7a",
   "metadata": {},
   "outputs": [],
   "source": []
  }
 ],
 "metadata": {
  "kernelspec": {
   "display_name": "Python 3 (ipykernel)",
   "language": "python",
   "name": "python3"
  },
  "language_info": {
   "codemirror_mode": {
    "name": "ipython",
    "version": 3
   },
   "file_extension": ".py",
   "mimetype": "text/x-python",
   "name": "python",
   "nbconvert_exporter": "python",
   "pygments_lexer": "ipython3",
   "version": "3.10.5"
  }
 },
 "nbformat": 4,
 "nbformat_minor": 5
}
