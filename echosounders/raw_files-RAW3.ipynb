{
 "cells": [
  {
   "cell_type": "code",
   "execution_count": null,
   "id": "0da37bfe-ad5a-4db1-b5cd-6725d1eeec73",
   "metadata": {},
   "outputs": [],
   "source": [
    "%matplotlib widget\n",
    "\n",
    "from matplotlib import pyplot as plt\n",
    "import os\n",
    "from themachinethatgoesping.echosounders.simrad import FileSimradRaw,FileSimradRaw_mapped,SimradDatagram_type_from_string,datagram_type_to_string,t_SimradDatagramIdentifier\n",
    "import themachinethatgoesping.echosounders.simrad as simrad\n",
    "import themachinethatgoesping.echosounders.simrad.datagrams as dg\n",
    "import themachinethatgoesping.tools.progressbars as prg\n",
    "import themachinethatgoesping.tools as tools\n",
    "import themachinethatgoesping.navigation.nmea_0183 as NMEA\n",
    "import numpy\n",
    "import os, sys\n",
    "from time import time\n",
    "#from tqdm.auto import tqdm\n",
    "from tqdm import tqdm\n",
    "from collections import defaultdict\n",
    "import numpy as np\n",
    "\n",
    "#load files\n",
    "folders=[]\n",
    "with open('test_data.txt','r') as ifi:\n",
    "    for line in ifi:\n",
    "        print(\"Folder:\", line)\n",
    "        folders.append(line)\n",
    "\n",
    "if not len(folders):\n",
    "    print(\"Please add test_data folders to 'test_data.txt'\")\n",
    "\n",
    "files = []\n",
    "for folder in folders:\n",
    "    for r,d,f in os.walk(folder):\n",
    "        for file in f:\n",
    "            if file.endswith('.raw'):\n",
    "                files.append(r + '/' +file)\n",
    "            \n",
    "files.sort()\n",
    "#files\n",
    "file_name = files[0]"
   ]
  },
  {
   "cell_type": "code",
   "execution_count": null,
   "id": "f04af8b0-acb4-4b3f-acc5-59d0bb933ef1",
   "metadata": {},
   "outputs": [],
   "source": [
    "\n",
    "#fm = FileSimradRaw_mapped(files[0:20])\n",
    "fm = FileSimradRaw_mapped(files)\n",
    "print(fm)"
   ]
  },
  {
   "cell_type": "code",
   "execution_count": null,
   "id": "aa39edb9-d9ec-4d39-9202-59cd8a937559",
   "metadata": {},
   "outputs": [],
   "source": [
    "nav = fm.navigation_interface.per_file(0).datagrams(\"NME0\")[610].decode()\n",
    "print(nav)"
   ]
  },
  {
   "cell_type": "code",
   "execution_count": null,
   "id": "dcdbddc4-7102-49ad-be15-a5f2fb8e5bbc",
   "metadata": {},
   "outputs": [],
   "source": [
    "conf = fm.configuration_interface.per_file(0).datagrams(\"XML0\")[0].decode()"
   ]
  },
  {
   "cell_type": "code",
   "execution_count": null,
   "id": "5018ded8-4a23-4efd-a261-d266ff589f68",
   "metadata": {},
   "outputs": [],
   "source": [
    "print(conf.ConfiguredSensors[6].Telegrams[0])"
   ]
  },
  {
   "cell_type": "code",
   "execution_count": null,
   "id": "2f3cec65-3d8a-43ce-9fb9-2a39e50811b4",
   "metadata": {},
   "outputs": [],
   "source": [
    "print(conf.get_sensor_configuration())"
   ]
  },
  {
   "cell_type": "code",
   "execution_count": null,
   "id": "ea3d265a-bf5d-4bac-8c75-16f8740e2f03",
   "metadata": {},
   "outputs": [],
   "source": [
    "%%timeit -n1 -r10\n",
    "d = fm.datagram_interface.datagrams()"
   ]
  },
  {
   "cell_type": "code",
   "execution_count": null,
   "id": "a3c310c2-da67-4547-87a7-c9ef4a889c42",
   "metadata": {},
   "outputs": [],
   "source": [
    "d = fm.datagram_interface.datagrams()\n",
    "print(d)"
   ]
  },
  {
   "cell_type": "code",
   "execution_count": null,
   "id": "a66eebe5-b8b2-4040-84da-a62b9028a801",
   "metadata": {},
   "outputs": [],
   "source": [
    "print(d)"
   ]
  },
  {
   "cell_type": "code",
   "execution_count": null,
   "id": "da8ece3e-ff6d-439d-84d6-24bf2f965056",
   "metadata": {},
   "outputs": [],
   "source": [
    "%%timeit -n1 -r10\n",
    "d = fm.pings()"
   ]
  },
  {
   "cell_type": "code",
   "execution_count": null,
   "id": "e4f39a85-c0a2-4399-bd92-db0d27c8e96e",
   "metadata": {},
   "outputs": [],
   "source": [
    "d = fm.datagram_interface.datagrams()"
   ]
  },
  {
   "cell_type": "code",
   "execution_count": null,
   "id": "0de07a90-397a-4098-b3d0-dc79b6c37666",
   "metadata": {},
   "outputs": [],
   "source": [
    "%%timeit -n1 -r10\n",
    "d.get_sorted_by_time()"
   ]
  },
  {
   "cell_type": "code",
   "execution_count": null,
   "id": "d10f04a9-fb8b-49a3-8ecc-f973601f6045",
   "metadata": {},
   "outputs": [],
   "source": [
    "d[0]"
   ]
  },
  {
   "cell_type": "code",
   "execution_count": null,
   "id": "7a18e4ef-ea84-40dd-90c6-fba14e02357b",
   "metadata": {},
   "outputs": [],
   "source": [
    "#%%timeit -n1 -r1\n",
    "if False:\n",
    "    conv_factor = 10. * np.log10(2.0) / 256.\n",
    "\n",
    "    data=[]\n",
    "    for raw3 in tqdm(fm.datagram_interface.datagrams(\"RAW3\")):\n",
    "        if raw3.data_type == raw3.data_type.ComplexFloat32:\n",
    "            a = raw3.sample_data.complex_samples\n",
    "            b = np.sum(a,axis=1)\n",
    "            b = np.sum(b*b,axis=1)\n",
    "            data.append(b)\n",
    "        elif raw3.data_type == raw3.data_type.PowerAndAngle:\n",
    "            a = raw3.sample_data.power[0].astype(np.float32) * conv_factor\n",
    "            data.append(a)"
   ]
  },
  {
   "cell_type": "code",
   "execution_count": null,
   "id": "f1b7e346-43c4-4b3a-b875-064e9f54296e",
   "metadata": {},
   "outputs": [],
   "source": [
    "#%%timeit -n1 -r1\n",
    "\n",
    "steps=1\n",
    "min_=0\n",
    "max_=-1\n",
    "\n",
    "data=[]\n",
    "angle1=[]\n",
    "angle2=[]\n",
    "#for raw3 in tqdm(fm.datagram_interface(\"RAW3\",0,-1,steps)):\n",
    "for raw3 in tqdm(fm.datagram_interface.datagrams(\"RAW3\")[min_*steps:max_*steps:20]):\n",
    "    if raw3.data_type == raw3.data_type.ComplexFloat32:\n",
    "        data.append(10*np.log10(raw3.sample_data.get_power()))\n",
    "        pass\n",
    "    elif raw3.data_type == raw3.data_type.PowerAndAngle:\n",
    "        data.append(raw3.sample_data.get_power())\n",
    "        angle = raw3.sample_data.get_angle()\n",
    "        angle1.append(angle[:,0])\n",
    "        angle2.append(angle[:,1])\n",
    "        \n",
    "        pass"
   ]
  },
  {
   "cell_type": "code",
   "execution_count": null,
   "id": "08a6288d-f929-42d0-a30f-2262177efb81",
   "metadata": {},
   "outputs": [],
   "source": [
    "#z_max = 3500\n",
    "\n",
    "def to_np(data,z_max=5000):\n",
    "    m=0\n",
    "    for d in tqdm(data):\n",
    "        if len(d) > m:\n",
    "            m = len(d)\n",
    "\n",
    "    m = z_max\n",
    "\n",
    "    arr = np.empty((len(data),m))\n",
    "    arr.fill(np.nan)\n",
    "\n",
    "    for d in tqdm(range(0,len(data))):\n",
    "        z = min(z_max,len(data[d]))\n",
    "        arr[d][:z] = data[d][:z]\n",
    "\n",
    "    arr = 10*np.log10(arr + 0.0000000000001)\n",
    "    print(arr.shape)\n",
    "    return arr\n",
    "\n",
    "arr1 = to_np(angle1)\n",
    "arr2 = to_np(angle2)\n",
    "arr = to_np(data)"
   ]
  },
  {
   "cell_type": "code",
   "execution_count": null,
   "id": "3d4b6fd2-a23c-441a-bd66-52b87894d7f9",
   "metadata": {},
   "outputs": [],
   "source": [
    "plt.close(\"echogram\")\n",
    "fig = plt.figure(\"echogram\",figsize=(12,4))\n",
    "ax = fig.subplots()\n",
    "mapped = ax.imshow(arr.transpose(),aspect='auto',cmap='YlGnBu_r', vmin = -150, vmax=-30)\n",
    "fig.colorbar(mapped)\n",
    "fig.tight_layout()"
   ]
  },
  {
   "cell_type": "code",
   "execution_count": null,
   "id": "5585fd24-57f6-4cee-b4f1-a3cdc20e0877",
   "metadata": {},
   "outputs": [],
   "source": [
    "plt.close(\"angle1\")\n",
    "fig = plt.figure(\"angle1\",figsize=(12,4))\n",
    "ax = fig.subplots()#!/bin/xonsh\n",
    "\n",
    "mapped = ax.imshow(arr1.transpose(),aspect='auto',cmap='YlGnBu_r')\n",
    "fig.colorbar(mapped)\n",
    "fig.tight_layout()"
   ]
  },
  {
   "cell_type": "code",
   "execution_count": null,
   "id": "b4732f52-cafb-4b10-a99e-bed8a1e4eac2",
   "metadata": {},
   "outputs": [],
   "source": [
    "plt.close(\"angle1\")\n",
    "fig = plt.figure(\"angle1\",figsize=(12,4))\n",
    "ax = fig.subplots()\n",
    "mapped = ax.imshow(arr2.transpose(),aspect='auto',cmap='YlGnBu_r')\n",
    "fig.colorbar(mapped)\n",
    "fig.tight_layout()"
   ]
  },
  {
   "cell_type": "code",
   "execution_count": null,
   "id": "98997d39-1867-464e-bfe2-73fcd7372a68",
   "metadata": {},
   "outputs": [],
   "source": []
  },
  {
   "cell_type": "code",
   "execution_count": null,
   "id": "fb59ed49-73b4-4d32-a066-a0bcf6b211c9",
   "metadata": {},
   "outputs": [],
   "source": []
  }
 ],
 "metadata": {
  "kernelspec": {
   "display_name": "Python 3 (ipykernel)",
   "language": "python",
   "name": "python3"
  },
  "language_info": {
   "codemirror_mode": {
    "name": "ipython",
    "version": 3
   },
   "file_extension": ".py",
   "mimetype": "text/x-python",
   "name": "python",
   "nbconvert_exporter": "python",
   "pygments_lexer": "ipython3",
   "version": "3.10.8"
  }
 },
 "nbformat": 4,
 "nbformat_minor": 5
}
