{
 "cells": [
  {
   "cell_type": "code",
   "execution_count": null,
   "id": "0da37bfe-ad5a-4db1-b5cd-6725d1eeec73",
   "metadata": {},
   "outputs": [],
   "source": [
    "%matplotlib widget\n",
    "\n",
    "from matplotlib import pyplot as plt\n",
    "import os\n",
    "from themachinethatgoesping.echosounders.simrad import FileSimradRaw,FileSimradRaw_mapped,SimradDatagram_type_from_string,datagram_type_to_string,t_SimradDatagramIdentifier\n",
    "import themachinethatgoesping.echosounders.simrad as simrad\n",
    "import themachinethatgoesping.echosounders.simrad.datagrams as dg\n",
    "import themachinethatgoesping.tools.progressbars as prg\n",
    "import themachinethatgoesping.tools as tools\n",
    "import themachinethatgoesping.navigation.nmea_0183 as NMEA\n",
    "import numpy\n",
    "import os, sys\n",
    "from time import time\n",
    "from tqdm import tqdm\n",
    "from collections import defaultdict\n",
    "import numpy as np\n",
    "\n",
    "#load files\n",
    "folders=[]\n",
    "with open('test_data.txt','r') as ifi:\n",
    "    for line in ifi:\n",
    "        print(\"Folder:\", line)\n",
    "        folders.append(line)\n",
    "\n",
    "if not len(folders):\n",
    "    print(\"Please add test_data folders to 'test_data.txt'\")\n",
    "\n",
    "files = []\n",
    "for folder in folders:\n",
    "    for r,d,f in os.walk(folder):\n",
    "        for file in f:\n",
    "            if file.endswith('.raw'):\n",
    "                files.append(r + '/' +file)\n",
    "            \n",
    "files.sort()\n",
    "#files\n",
    "file_name = files[0]"
   ]
  },
  {
   "cell_type": "code",
   "execution_count": null,
   "id": "b4cb4179-c080-4e8b-b27f-b7fa34489a53",
   "metadata": {},
   "outputs": [],
   "source": [
    "fm = FileSimradRaw_mapped(files)\n",
    "print(fm)"
   ]
  },
  {
   "cell_type": "code",
   "execution_count": null,
   "id": "4fd76cd9-12ac-4926-9b40-8d9b36027668",
   "metadata": {},
   "outputs": [],
   "source": [
    "f=fm.datagram_interface.datagrams(\"FIL1\")[1]\n",
    "#f=fm.datagram_interface(\"FIL1\")[-1]\n",
    "print(f)"
   ]
  },
  {
   "cell_type": "code",
   "execution_count": null,
   "id": "c279312d-a8f5-4f19-84b6-3a182b63d5e0",
   "metadata": {},
   "outputs": [],
   "source": []
  },
  {
   "cell_type": "code",
   "execution_count": null,
   "id": "a888e766-92bd-4c3a-9afa-c4ecaa53abd4",
   "metadata": {},
   "outputs": [],
   "source": [
    "times =[(\"start\",time())]\n",
    "simrad.test_speed_raw(fm,\"FIL1\")\n",
    "times.append((\"raw     \",time()))\n",
    "simrad.test_speed_type(fm,\"FIL1\")\n",
    "times.append((\"type    \",time()))\n",
    "print()\n",
    "for i in range(1,len(times)):\n",
    "    dt = (times[i][1] - times[i-1][1])*1000\n",
    "    it = len(fm.datagram_interface.datagrams(\"FIL1\")) / dt\n",
    "    \n",
    "    print(F\"case {times[i][0]}: {round(dt,2)} ms | {round(it,2)} it/ms\")"
   ]
  },
  {
   "cell_type": "code",
   "execution_count": null,
   "id": "cc5f32b3-f6e3-46f0-b150-583cff5511c8",
   "metadata": {},
   "outputs": [],
   "source": [
    "f=fm.datagram_interface.datagrams(\"FIL1\")[0]\n",
    "#f=fm.datagram_interface(\"RAW3\")[-1]\n",
    "f.coefficients[0]"
   ]
  },
  {
   "cell_type": "code",
   "execution_count": null,
   "id": "1203d79a-9476-4dd6-8e5f-e0255ffcd0a1",
   "metadata": {},
   "outputs": [],
   "source": [
    "f=fm.datagram_interface.datagrams(\"FIL1\")[0]\n",
    "#f=fm.datagram_interface(\"RAW3\")[-1]\n",
    "print(f.coefficients[0][0])\n",
    "print(f.coefficients[0][1])\n",
    "print(f.coefficients[1][0])\n",
    "print(f.coefficients[1][1])"
   ]
  },
  {
   "cell_type": "code",
   "execution_count": null,
   "id": "4d09bd5d-0cdf-4fe3-94cb-c9799fcad1ac",
   "metadata": {},
   "outputs": [],
   "source": []
  },
  {
   "cell_type": "code",
   "execution_count": null,
   "id": "3be0ed61-6f8c-43d0-a93d-84594d81c044",
   "metadata": {},
   "outputs": [],
   "source": [
    "f=fm.datagram_interface.datagrams(\"FIL1\")[0]\n",
    "#f=fm.datagram_interface(\"RAW3\")[-1]\n",
    "print(f.coefficients[0].real)\n",
    "print(f.coefficients[0].imag)\n",
    "print(f.coefficients[1].real)\n",
    "print(f.coefficients[1].imag)"
   ]
  },
  {
   "cell_type": "code",
   "execution_count": null,
   "id": "98997d39-1867-464e-bfe2-73fcd7372a68",
   "metadata": {},
   "outputs": [],
   "source": []
  }
 ],
 "metadata": {
  "kernelspec": {
   "display_name": "Python 3 (ipykernel)",
   "language": "python",
   "name": "python3"
  },
  "language_info": {
   "codemirror_mode": {
    "name": "ipython",
    "version": 3
   },
   "file_extension": ".py",
   "mimetype": "text/x-python",
   "name": "python",
   "nbconvert_exporter": "python",
   "pygments_lexer": "ipython3",
   "version": "3.10.8"
  }
 },
 "nbformat": 4,
 "nbformat_minor": 5
}
