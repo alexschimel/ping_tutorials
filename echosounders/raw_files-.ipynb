{
 "cells": [
  {
   "cell_type": "code",
   "execution_count": null,
   "id": "0da37bfe-ad5a-4db1-b5cd-6725d1eeec73",
   "metadata": {},
   "outputs": [],
   "source": [
    "%matplotlib widget\n",
    "\n",
    "from matplotlib import pyplot as plt\n",
    "import os\n",
    "from themachinethatgoesping.echosounders.simrad import FileSimradRaw,FileSimradRaw_mapped,SimradDatagram_type_from_string,datagram_type_to_string,t_SimradDatagramIdentifier\n",
    "import themachinethatgoesping.echosounders.simrad as simrad\n",
    "import themachinethatgoesping.echosounders.simrad.datagrams as dg\n",
    "import themachinethatgoesping.tools.progressbars as prg\n",
    "import themachinethatgoesping.tools as tools\n",
    "import themachinethatgoesping.navigation.nmea_0183 as NMEA\n",
    "import numpy\n",
    "import os, sys\n",
    "from time import time\n",
    "from tqdm import tqdm\n",
    "from collections import defaultdict\n",
    "import numpy as np\n",
    "\n",
    "#load files\n",
    "folders=[]\n",
    "with open('test_data.txt','r') as ifi:\n",
    "    for line in ifi:\n",
    "        print(\"Folder:\", line)\n",
    "        folders.append(line)\n",
    "\n",
    "if not len(folders):\n",
    "    print(\"Please add test_data folders to 'test_data.txt'\")\n",
    "\n",
    "files = []\n",
    "for folder in folders:\n",
    "    for r,d,f in os.walk(folder):\n",
    "        for file in f:\n",
    "            if file.endswith('.raw'):\n",
    "                files.append(r + '/' +file)\n",
    "            \n",
    "files.sort()\n",
    "#files\n",
    "file_name = files[0]"
   ]
  },
  {
   "cell_type": "code",
   "execution_count": null,
   "id": "b4cb4179-c080-4e8b-b27f-b7fa34489a53",
   "metadata": {},
   "outputs": [],
   "source": [
    "fm = FileSimradRaw_mapped(files)\n",
    "print(fm)"
   ]
  },
  {
   "cell_type": "code",
   "execution_count": null,
   "id": "e1fd5097-440d-4356-9102-f10f9e919812",
   "metadata": {},
   "outputs": [],
   "source": [
    "#%%timeit -n1 -r1\n",
    "fail = 0\n",
    "for ping in tqdm(fm.pings()):\n",
    "    ping.get_sv(dB = True)"
   ]
  },
  {
   "cell_type": "code",
   "execution_count": null,
   "id": "ee9235ee-7495-4104-80ea-86d1c2bf6ddd",
   "metadata": {},
   "outputs": [],
   "source": [
    "pings = fm.pings()[::100]\n",
    "#pings = fm.pings()[280000:290000:1]\n",
    "\n",
    "nsamples = min(7000,pings.max_number_of_samples())\n",
    "#nsamples = 7000\n",
    "\n",
    "image = np.empty((len(pings),nsamples),dtype=np.float32)\n",
    "image.fill(np.nan)\n",
    "\n",
    "for i,ping in enumerate(tqdm(pings)):\n",
    "    sv = ping.get_sv_stacked(dB = True)\n",
    "    #sv = ping.sample_data.get_power(dB = True)\n",
    "    ns = min(nsamples,len(sv))\n",
    "    image[i,:ns] = sv[:ns]\n",
    "    "
   ]
  },
  {
   "cell_type": "code",
   "execution_count": null,
   "id": "601c3292-7785-431f-889f-0c8fbab3bc8c",
   "metadata": {},
   "outputs": [],
   "source": [
    "plt.close(\"echo\")\n",
    "fig = plt.figure(\"echo\")\n",
    "ax = fig.subplots()\n",
    "ax.imshow(image.transpose(), aspect = 'auto', extent = [0,len(fm.pings()),7000,0])"
   ]
  },
  {
   "cell_type": "code",
   "execution_count": null,
   "id": "0cc57520-a547-4b2f-9633-e80380b496d4",
   "metadata": {},
   "outputs": [],
   "source": []
  }
 ],
 "metadata": {
  "kernelspec": {
   "display_name": "Python 3 (ipykernel)",
   "language": "python",
   "name": "python3"
  },
  "language_info": {
   "codemirror_mode": {
    "name": "ipython",
    "version": 3
   },
   "file_extension": ".py",
   "mimetype": "text/x-python",
   "name": "python",
   "nbconvert_exporter": "python",
   "pygments_lexer": "ipython3",
   "version": "3.10.8"
  }
 },
 "nbformat": 4,
 "nbformat_minor": 5
}
