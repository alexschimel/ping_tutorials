{
 "cells": [
  {
   "cell_type": "code",
   "execution_count": null,
   "id": "984764d7-3e38-4e76-8977-bcc5518d0d05",
   "metadata": {},
   "outputs": [],
   "source": [
    "%matplotlib widget\n",
    "\n",
    "#Python libraries\n",
    "import os                            # find files\n",
    "from matplotlib import pyplot as plt # plotting\n",
    "import numpy as np                   # math library\n",
    "from tqdm import tqdm           # progress bar\n",
    "from collections import defaultdict  # special dictionary type\n",
    "from time import time                # time module\n",
    "\n",
    "# Ping imports\n",
    "import themachinethatgoesping as ping                       # main module\n",
    "import themachinethatgoesping.echosounders.simrad as simrad # simrad submodule\n",
    "\n",
    "           \n",
    "# print file names\n",
    "print(ping.version())"
   ]
  },
  {
   "cell_type": "code",
   "execution_count": null,
   "id": "20c9e100-a2a0-4fe0-9b0f-0e6539e55cb0",
   "metadata": {},
   "outputs": [],
   "source": [
    "#load files\n",
    "folders=[]\n",
    "with open('test_data.txt','r') as ifi:\n",
    "    for line in ifi:\n",
    "        print(\"Folder:\", line)\n",
    "        folders.append(line)\n",
    "\n",
    "if not len(folders):\n",
    "    print(\"Please add test_data folders to 'test_data.txt'\")\n",
    "    \n",
    "#find .raw files in \"folders\"\n",
    "files = []\n",
    "for folder in folders:\n",
    "    print(folder)\n",
    "    for r,d,f in os.walk(folder):\n",
    "        for file in f:\n",
    "            if file.endswith('.raw'):\n",
    "                files.append(r + '/' +file)\n",
    "                \n",
    "files.sort()\n",
    "#for f in files:\n",
    "#    print(f)\n",
    "    \n",
    "#print()\n",
    "print(len(files))"
   ]
  },
  {
   "cell_type": "code",
   "execution_count": null,
   "id": "f81d51f7-75e1-488a-a435-f43b2df110c4",
   "metadata": {},
   "outputs": [],
   "source": [
    "# Open raw files\n",
    "fm = simrad.FileSimradRaw_mapped(files)"
   ]
  },
  {
   "cell_type": "code",
   "execution_count": null,
   "id": "a2adeeae-e574-4b9f-92c7-0a90cbd76783",
   "metadata": {},
   "outputs": [],
   "source": [
    "p = fm.pings()"
   ]
  },
  {
   "cell_type": "code",
   "execution_count": null,
   "id": "80df14cc-eb3d-4d6a-83be-9658c6edf7ac",
   "metadata": {},
   "outputs": [],
   "source": [
    "# print file info\n",
    "print(fm)"
   ]
  },
  {
   "cell_type": "code",
   "execution_count": null,
   "id": "e3036106-c556-45e0-9b88-fdb155247f6c",
   "metadata": {},
   "outputs": [],
   "source": [
    "#%%timeit -n1 -r1\n",
    "pings_all = fm.pings().get_sorted_by_time()\n",
    "print(\"Avaliable pings:\",len(pings_all))"
   ]
  },
  {
   "cell_type": "code",
   "execution_count": null,
   "id": "13124e05-bcbf-4806-882a-63218e779b72",
   "metadata": {},
   "outputs": [],
   "source": [
    "(pings_all[-1].get_timestamp() - pings_all[0].get_timestamp()) / 3600"
   ]
  },
  {
   "cell_type": "code",
   "execution_count": null,
   "id": "1cbe0f57-4767-496f-a58e-d3b754cf33cc",
   "metadata": {},
   "outputs": [],
   "source": [
    "containers = pings_all.break_by_time_diff(6000)\n",
    "print(len(containers))"
   ]
  },
  {
   "cell_type": "code",
   "execution_count": null,
   "id": "f918722c-5505-4a0e-961a-7f1ccfe74a57",
   "metadata": {},
   "outputs": [],
   "source": [
    "pings = containers[0]\n",
    "\n",
    "print(\"Channel ids\")\n",
    "for cid in pings.find_channel_ids():\n",
    "    print(\"-\",cid)\n",
    "    \n",
    "fpings = pings(\"WBT 400058-15 ES333-7C_ES\")\n",
    "print(\"Avaliable pings:\",len(fpings))"
   ]
  },
  {
   "cell_type": "code",
   "execution_count": null,
   "id": "77fac90e-1690-4189-8bc3-910b35945e61",
   "metadata": {},
   "outputs": [],
   "source": [
    "#select pings\n",
    "#pings = fpings(0,-1)\n",
    "pings = fpings\n",
    "#len(pings)"
   ]
  },
  {
   "cell_type": "code",
   "execution_count": null,
   "id": "9513ac20-747f-491e-938e-38d28870c09c",
   "metadata": {},
   "outputs": [],
   "source": [
    "if len(pings) > 10000:\n",
    "    index = np.round(np.linspace(0,len(pings)-1,10000)).astype(int)\n",
    "else:\n",
    "    index = np.arange(0,len(pings)-1)\n",
    "index"
   ]
  },
  {
   "cell_type": "code",
   "execution_count": null,
   "id": "0cc57520-a547-4b2f-9633-e80380b496d4",
   "metadata": {},
   "outputs": [],
   "source": [
    "def get_image(pmin, pmax, max_pings = 10000, max_samples = 4000):\n",
    "    \n",
    "    pings = fpings[:]\n",
    "    \n",
    "    if pmax - pmin > max_pings:\n",
    "        index = np.round(np.linspace(pmin,pmax,max_pings)).astype(int)\n",
    "    else:\n",
    "        index = np.arange(pmin,pmax)\n",
    "    index\n",
    "    \n",
    "    # create an empty image\n",
    "    nsamples = min(4000,pings.max_number_of_samples())\n",
    "    image = np.empty((len(index),nsamples),dtype=np.float32)\n",
    "    image.fill(np.nan)\n",
    "\n",
    "    # loop through pings and add sv to the image\n",
    "    #for i,ping in enumerate(tqdm(pings)):\n",
    "    for i,I in enumerate(tqdm(index)):\n",
    "        ping = pings[I]\n",
    "        sv = ping.get_sv_stacked(dB = True)\n",
    "        ns = min(nsamples,len(sv))\n",
    "        image[i,:ns] = sv[:ns]\n",
    "        \n",
    "    return image, index, nsamples\n",
    "    "
   ]
  },
  {
   "cell_type": "code",
   "execution_count": null,
   "id": "669c9c75-58a2-4d83-bba0-d80acd0b4e7f",
   "metadata": {},
   "outputs": [],
   "source": [
    "plt.close(\"echo\")\n",
    "fig = plt.figure(\"echo\")\n",
    "fig.set_figwidth(10)\n",
    "ax = fig.subplots()\n",
    "\n",
    "image, index, nsamples = get_image(0,len(fpings)-1)\n",
    "ax.imshow(image.transpose(), aspect = 'auto', vmin = -140, vmax =-40, extent=[min(index)-0.5,max(index)+0.5,nsamples+0.5,-0.5])"
   ]
  },
  {
   "cell_type": "code",
   "execution_count": null,
   "id": "82161fb1-8a97-42c4-8313-1cb337b067fd",
   "metadata": {},
   "outputs": [],
   "source": [
    "plt.close(\"echo2\")\n",
    "fig = plt.figure(\"echo2\")\n",
    "fig.set_figwidth(10)\n",
    "ax = fig.subplots()\n",
    "\n",
    "image, index, nsamples = get_image(1070,1110,200)\n",
    "ax.imshow(image.transpose(), aspect = 'auto', vmin = -140, vmax =-40, extent=[min(index)-0.5,max(index)+0.5,nsamples+0.5,-0.5])"
   ]
  },
  {
   "cell_type": "code",
   "execution_count": null,
   "id": "19d06f6c-e60e-4a41-a2dd-52bb8473e315",
   "metadata": {},
   "outputs": [],
   "source": []
  }
 ],
 "metadata": {
  "kernelspec": {
   "display_name": "Python 3 (ipykernel)",
   "language": "python",
   "name": "python3"
  },
  "language_info": {
   "codemirror_mode": {
    "name": "ipython",
    "version": 3
   },
   "file_extension": ".py",
   "mimetype": "text/x-python",
   "name": "python",
   "nbconvert_exporter": "python",
   "pygments_lexer": "ipython3",
   "version": "3.10.8"
  }
 },
 "nbformat": 4,
 "nbformat_minor": 5
}
