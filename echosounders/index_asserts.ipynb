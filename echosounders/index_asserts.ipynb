{
 "cells": [
  {
   "cell_type": "code",
   "execution_count": null,
   "id": "0da37bfe-ad5a-4db1-b5cd-6725d1eeec73",
   "metadata": {},
   "outputs": [],
   "source": [
    "%matplotlib widget\n",
    "\n",
    "from matplotlib import pyplot as plt\n",
    "import os\n",
    "from themachinethatgoesping.echosounders.simrad import FileRaw,FileRaw_mapped,SimradDatagram_type_from_string,datagram_type_to_string,t_SimradDatagramType\n",
    "import themachinethatgoesping.echosounders.simrad as simrad\n",
    "import themachinethatgoesping.echosounders.simrad.datagrams as dg\n",
    "import themachinethatgoesping.tools.progressbars as prg\n",
    "import numpy\n",
    "import os, sys\n",
    "from tqdm.auto import tqdm\n",
    "from collections import defaultdict\n",
    "import numpy as np\n",
    "\n",
    "#load files\n",
    "folders =  [\"/home/data/\"]\n",
    "#folders =  [\"/home/data/turbeams/\"]\n",
    "\n",
    "files = []\n",
    "for folder in folders:\n",
    "    for r,d,f in os.walk(folder):\n",
    "        for file in f:\n",
    "            if file.endswith('.raw'):\n",
    "                files.append(r + '/' +file)\n",
    "            \n",
    "files.sort()\n",
    "#files\n",
    "file_name = files[0]"
   ]
  },
  {
   "cell_type": "code",
   "execution_count": null,
   "id": "b4cb4179-c080-4e8b-b27f-b7fa34489a53",
   "metadata": {},
   "outputs": [],
   "source": [
    "fm = FileRaw_mapped(files, show_progress=True)\n",
    "#fm"
   ]
  },
  {
   "cell_type": "code",
   "execution_count": null,
   "id": "01b94a4c-ceef-4f7a-b450-91f46cd6ecd1",
   "metadata": {},
   "outputs": [],
   "source": [
    "#fm = fm.i_XML0"
   ]
  },
  {
   "cell_type": "code",
   "execution_count": null,
   "id": "0f2d926b-2fb9-4ae1-bf6d-ff13609cb7b7",
   "metadata": {},
   "outputs": [],
   "source": [
    "assert fm(0,-1,-10)[0] == fm(-1,0,10)[0]\n",
    "assert fm(1,-1,-10)[0] == fm(-1,1,10)[0]\n",
    "assert fm(1,-1,-10)[1] == fm(-1,1,10)[1]\n",
    "assert fm(0,-1,-10)[2] == fm(-1,0,10)[2]\n",
    "assert fm(-1,0,10)[1] == fm(0,-1,-10)[1]\n",
    "assert fm(-1,1,10)[1] == fm(1,-1,-10)[1]\n",
    "assert fm(-1,0,10)[2] == fm(0,-1,-10)[2]\n",
    "\n",
    "assert fm(0,-1,-10)[10] == fm(-1,0,10)[10]\n",
    "assert fm(1,-1,-10)[-10] == fm(-1,1,10)[-10]\n",
    "assert fm(1,-1,-10)[-1] == fm(-1,1,10)[-1]\n",
    "assert fm(0,-1,-10)[-2] == fm(-1,0,10)[-2]\n",
    "assert fm(-1,0,10)[-1] == fm(0,-1,-10)[-1]\n",
    "assert fm(-1,1,10)[-1] == fm(1,-1,-10)[-1]\n",
    "assert fm(-1,0,10)[-2] == fm(0,-1,-10)[-2]"
   ]
  },
  {
   "cell_type": "code",
   "execution_count": null,
   "id": "0d5850ec-c700-4f13-81ce-86950458d78d",
   "metadata": {},
   "outputs": [],
   "source": [
    "assert fm()[-1] == fm(-1,0,10)[0]\n",
    "assert fm()[-1] == fm(-1,1,10)[0]\n",
    "assert fm()[-11] == fm(-1,1,10)[1]\n",
    "assert fm()[-21] == fm(-1,0,10)[2]\n",
    "assert fm()[-11] == fm(0,-1,-10)[1]\n",
    "assert fm()[-11] == fm(1,-1,-10)[1]\n",
    "assert fm()[-21] == fm(0,-1,-10)[2]"
   ]
  },
  {
   "cell_type": "code",
   "execution_count": null,
   "id": "c5a4b692-81f8-44fb-bea9-81a842e30372",
   "metadata": {},
   "outputs": [],
   "source": [
    "assert fm()[-1] == fm(0,-1,10)[-1]\n",
    "assert fm()[-11] == fm(0,-1,10)[-2]\n",
    "assert fm()[-2] == fm(0,-2,10)[-1]\n",
    "assert fm()[-12] == fm(0,-2,10)[-2]\n",
    "\n",
    "assert fm()[0] == fm(-1,0,10)[-1]\n",
    "assert fm()[1] == fm(-1,1,10)[-1]\n",
    "assert fm()[10] == fm(-1,0,10)[-2]\n",
    "assert fm()[0] == fm(0,-1,-10)[-1]\n",
    "assert fm()[1] == fm(1,-1,-10)[-1]\n",
    "assert fm()[10] == fm(0,-1,-10)[-2]"
   ]
  },
  {
   "cell_type": "code",
   "execution_count": null,
   "id": "b24afb43-33ff-4e79-923f-ec5fc0ced5ba",
   "metadata": {},
   "outputs": [],
   "source": [
    "assert fm()[-1] == fm(0,-1,1)[-1]\n",
    "assert fm()[-2] == fm(0,-1,1)[-2]\n",
    "assert fm()[-2] == fm(0,-2,1)[-1]\n",
    "\n",
    "assert fm()[0] == fm(-1,0,1)[-1]\n",
    "assert fm()[1] == fm(-1,1,1)[-1]\n",
    "assert fm()[1] == fm(-1,0,1)[-2]"
   ]
  },
  {
   "cell_type": "code",
   "execution_count": null,
   "id": "796d9c98-6308-40e3-b7b4-52273b6dc280",
   "metadata": {},
   "outputs": [],
   "source": [
    "assert fm()[0] == fm(0,100,1)[0]\n",
    "assert fm()[1] == fm(0,100,1)[1]\n",
    "assert fm()[2] == fm(1,100,1)[1]\n",
    "assert fm()[99] == fm(1,100,1)[-1]\n",
    "assert fm()[99] == fm(0,100,10)[-1]\n",
    "assert fm()[99] == fm(1,100,10)[-1]\n",
    "assert fm()[89] == fm(1,100,10)[-2]\n",
    "assert fm()[100] == fm(1,101,10)[-1]\n",
    "assert fm()[21] == fm(1,101,10)[2]"
   ]
  },
  {
   "cell_type": "code",
   "execution_count": null,
   "id": "b1b2d162-f1cb-442b-97dc-c6a7e1da0517",
   "metadata": {},
   "outputs": [],
   "source": [
    "assert fm[0] == fm()[0]\n",
    "assert fm[1] == fm()[1]\n",
    "assert fm[-1] == fm()[-1]\n",
    "assert fm[-2] == fm()[-2]"
   ]
  }
 ],
 "metadata": {
  "kernelspec": {
   "display_name": "Python 3 (ipykernel)",
   "language": "python",
   "name": "python3"
  },
  "language_info": {
   "codemirror_mode": {
    "name": "ipython",
    "version": 3
   },
   "file_extension": ".py",
   "mimetype": "text/x-python",
   "name": "python",
   "nbconvert_exporter": "python",
   "pygments_lexer": "ipython3",
   "version": "3.10.6"
  }
 },
 "nbformat": 4,
 "nbformat_minor": 5
}
