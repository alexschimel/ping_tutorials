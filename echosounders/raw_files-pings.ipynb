{
 "cells": [
  {
   "cell_type": "code",
   "execution_count": null,
   "id": "984764d7-3e38-4e76-8977-bcc5518d0d05",
   "metadata": {},
   "outputs": [],
   "source": [
    "%matplotlib widget\n",
    "\n",
    "#Python libraries\n",
    "import os                            # find files\n",
    "from matplotlib import pyplot as plt # plotting\n",
    "import numpy as np                   # math library\n",
    "from tqdm import tqdm           # progress bar\n",
    "from collections import defaultdict  # special dictionary type\n",
    "from time import time                # time module\n",
    "\n",
    "# Ping imports\n",
    "import themachinethatgoesping as ping                       # main module\n",
    "import themachinethatgoesping.echosounders.simrad as simrad # simrad submodule\n",
    "import themachinethatgoesping.tools as tools # simrad submodule\n",
    "\n",
    "print(ping.version())"
   ]
  },
  {
   "cell_type": "code",
   "execution_count": null,
   "id": "20c9e100-a2a0-4fe0-9b0f-0e6539e55cb0",
   "metadata": {},
   "outputs": [],
   "source": [
    "#load files\n",
    "folders=[]\n",
    "with open('test_data.txt','r') as ifi:\n",
    "    for line in ifi:\n",
    "        print(\"Folder:\", line)\n",
    "        folders.append(line)\n",
    "\n",
    "if not len(folders):\n",
    "    print(\"Please add test_data folders to 'test_data.txt'\")\n",
    "\n",
    "#find .raw files in \"folders\"\n",
    "files = []\n",
    "for folder in folders:\n",
    "    for r,d,f in os.walk(folder):\n",
    "        for file in f:\n",
    "            if file.endswith('.raw'):\n",
    "                files.append(r + '/' +file)\n",
    "                \n",
    "files.sort()\n",
    "#for f in files:\n",
    "#    print(f)\n",
    "    \n",
    "#print()\n"
   ]
  },
  {
   "cell_type": "code",
   "execution_count": null,
   "id": "4fac5a5d-e19c-488f-898b-697d07bc0def",
   "metadata": {},
   "outputs": [],
   "source": [
    "def progressbar(ncols = 140):\n",
    "    return tools.progressbars.ProgressTqdm(tqdm(ncols=ncols))"
   ]
  },
  {
   "cell_type": "code",
   "execution_count": null,
   "id": "f81d51f7-75e1-488a-a435-f43b2df110c4",
   "metadata": {},
   "outputs": [],
   "source": [
    "# Open raw files\n",
    "#fm = simrad.FileSimradRaw_mapped(files, False, progressbar())\n",
    "fm = simrad.FileSimradRaw_mapped(files, init = False)\n",
    "\n",
    "fm.navigation_interface.set_min_gga_quality(4)\n",
    "\n",
    "fm.init_interfaces()\n",
    "\n",
    "print(fm)"
   ]
  },
  {
   "cell_type": "code",
   "execution_count": null,
   "id": "636bcfdb-c557-473c-9a1f-0f72f28f40cd",
   "metadata": {},
   "outputs": [],
   "source": [
    "fm.datagram_interface.datagram_headers().print()"
   ]
  },
  {
   "cell_type": "code",
   "execution_count": null,
   "id": "f5b816a5-e77c-4e35-9191-8722b23e0f2e",
   "metadata": {},
   "outputs": [],
   "source": [
    "ping = fm.pings()[100]"
   ]
  },
  {
   "cell_type": "code",
   "execution_count": null,
   "id": "1bfa4eed-afc1-4491-a454-7bc0937ca0bd",
   "metadata": {},
   "outputs": [],
   "source": [
    "ping.print()"
   ]
  },
  {
   "cell_type": "code",
   "execution_count": null,
   "id": "89466d93-5ecb-4394-afb8-cb7bb08196ae",
   "metadata": {},
   "outputs": [],
   "source": [
    "ping.raw_data.print()"
   ]
  },
  {
   "cell_type": "code",
   "execution_count": null,
   "id": "a30672b9-3b32-446d-9293-62cd61a15d95",
   "metadata": {},
   "outputs": [],
   "source": [
    "\n",
    "containers = fm.pings().get_sorted_by_time().break_by_time_diff(3600)\n",
    "\n",
    "for i,container_pings in enumerate(containers):\n",
    "    print(f\"-- container {i} --\")\n",
    "    \n",
    "    for cid in container_pings.find_channel_ids():\n",
    "        print(f\" - {cid}: {len(container_pings(cid))}\")\n",
    "    print()"
   ]
  },
  {
   "cell_type": "code",
   "execution_count": null,
   "id": "9b5f2f44-6b21-43a2-92e2-cb9bc61e3b5e",
   "metadata": {},
   "outputs": [],
   "source": [
    "fpings = containers[-2](fm.channel_ids()[-1])\n",
    "#fpings = fm.pings().get_sorted_by_time()(channel_ids[-1])\n",
    "print(fpings)"
   ]
  },
  {
   "cell_type": "code",
   "execution_count": null,
   "id": "b85001b8-78e3-44ef-b190-3d971daee6d0",
   "metadata": {},
   "outputs": [],
   "source": [
    "fm.datagram_interface.datagrams(\"XML0\")[11].print()"
   ]
  },
  {
   "cell_type": "code",
   "execution_count": null,
   "id": "385ec93b-1fcc-403f-989c-13200ed930bb",
   "metadata": {},
   "outputs": [],
   "source": [
    "ping = fpings[1000]"
   ]
  },
  {
   "cell_type": "code",
   "execution_count": null,
   "id": "459063fb-ca51-4acb-a54f-469d5189d6f8",
   "metadata": {},
   "outputs": [],
   "source": [
    "ping.get_file_path()"
   ]
  },
  {
   "cell_type": "code",
   "execution_count": null,
   "id": "0cc57520-a547-4b2f-9633-e80380b496d4",
   "metadata": {},
   "outputs": [],
   "source": [
    "pings = fpings[::1]\n",
    "pings = fpings[::1]\n",
    "\n",
    "nsamples = min(3000,pings.max_number_of_samples())\n",
    "\n",
    "image = np.empty((len(pings),nsamples),dtype=np.float32)\n",
    "image.fill(np.nan)\n",
    "\n",
    "for i,ping in enumerate(tqdm(pings, ncols = 120)):\n",
    "    sv = ping.get_sv_stacked(dB = True)\n",
    "    ns = min(nsamples,len(sv))\n",
    "    image[i,:ns] = sv[:ns]\n",
    "    \n",
    "plt.close(\"echogram\")\n",
    "fig = plt.figure(\"echogram\",figsize=(12,4))\n",
    "ax = fig.subplots()\n",
    "mapped = ax.imshow(image.transpose(),aspect='auto',cmap='YlGnBu_r', vmin = -100, vmax=-30)\n",
    "fig.colorbar(mapped)\n",
    "fig.tight_layout()"
   ]
  },
  {
   "cell_type": "code",
   "execution_count": null,
   "id": "457b84c9-c599-4254-8512-02c10b08586b",
   "metadata": {},
   "outputs": [],
   "source": [
    "print(pings)"
   ]
  },
  {
   "cell_type": "code",
   "execution_count": null,
   "id": "0551e09c-e70a-4a2b-bdd9-38bbeba09cad",
   "metadata": {},
   "outputs": [],
   "source": [
    "plt.close(\"time\")\n",
    "plt.figure(\"time\")\n",
    "times = []\n",
    "for p in fpings:\n",
    "    times.append(p.get_timestamp())\n",
    "    \n",
    "plt.plot(times,marker='+')"
   ]
  },
  {
   "cell_type": "code",
   "execution_count": null,
   "id": "c7f54e9d-f7f4-414d-ac7a-87219e953494",
   "metadata": {},
   "outputs": [],
   "source": [
    "tools.timeconv.unixtime_to_datestring(fpings[0].get_timestamp())"
   ]
  },
  {
   "cell_type": "code",
   "execution_count": null,
   "id": "0b44b5e7-b57c-4a5c-9497-c48fc3ab2c3e",
   "metadata": {},
   "outputs": [],
   "source": [
    "tools.timeconv.unixtime_to_datestring(fpings[-1].get_timestamp())"
   ]
  },
  {
   "cell_type": "code",
   "execution_count": null,
   "id": "726dcd9c-80c6-4429-aeb9-5a722fa13730",
   "metadata": {},
   "outputs": [],
   "source": [
    "plt.close(\"test\")\n",
    "plt.figure(\"test\")\n",
    "\n",
    "times = []\n",
    "for ping in fpings:\n",
    "    times.append(ping.get_timestamp())\n",
    "    \n",
    "plt.plot(times)\n",
    "print((max(times)-min(times))/3600)"
   ]
  },
  {
   "cell_type": "code",
   "execution_count": null,
   "id": "91426648-4a74-415a-aa0c-2caee5195534",
   "metadata": {},
   "outputs": [],
   "source": []
  },
  {
   "cell_type": "code",
   "execution_count": null,
   "id": "696e2edf-c52d-4d89-b63b-5b0dbabb0743",
   "metadata": {},
   "outputs": [],
   "source": []
  }
 ],
 "metadata": {
  "kernelspec": {
   "display_name": "Python 3 (ipykernel)",
   "language": "python",
   "name": "python3"
  },
  "language_info": {
   "codemirror_mode": {
    "name": "ipython",
    "version": 3
   },
   "file_extension": ".py",
   "mimetype": "text/x-python",
   "name": "python",
   "nbconvert_exporter": "python",
   "pygments_lexer": "ipython3",
   "version": "3.10.8"
  }
 },
 "nbformat": 4,
 "nbformat_minor": 5
}
