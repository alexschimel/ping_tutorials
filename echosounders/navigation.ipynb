{
 "cells": [
  {
   "cell_type": "code",
   "execution_count": null,
   "id": "bbd7f588-620f-4741-9f8e-d53c35ad1405",
   "metadata": {},
   "outputs": [],
   "source": [
    "%matplotlib widget\n",
    "\n",
    "from matplotlib import pyplot as plt\n",
    "import os\n",
    "from themachinethatgoesping.echosounders.simrad import FileSimradRaw_mapped\n",
    "from themachinethatgoesping.echosounders import simrad\n",
    "import themachinethatgoesping.tools.progressbars as prg\n",
    "import themachinethatgoesping.tools as tools\n",
    "import themachinethatgoesping.navigation as nav\n",
    "import numpy\n",
    "import os, sys\n",
    "from time import time\n",
    "from tqdm.auto import tqdm\n",
    "from collections import defaultdict\n",
    "import numpy as np\n",
    "\n",
    "#load files\n",
    "folders=[]\n",
    "with open('test_data.txt','r') as ifi:\n",
    "    for line in ifi:\n",
    "        print(\"Folder:\", line)\n",
    "        folders.append(line)\n",
    "\n",
    "if not len(folders):\n",
    "    print(\"Please add test_data folders to 'test_data.txt'\")\n",
    "\n",
    "files = []\n",
    "for folder in folders:\n",
    "    for r,d,f in os.walk(folder):\n",
    "        for file in f:\n",
    "            if file.endswith('.raw'):\n",
    "                files.append(r + '/' +file)\n",
    "            \n",
    "files.sort()\n",
    "#files\n",
    "file_name = files[0]"
   ]
  },
  {
   "cell_type": "code",
   "execution_count": null,
   "id": "4fa38b42-0744-40a9-a03e-414b5b8e971e",
   "metadata": {},
   "outputs": [],
   "source": [
    "#%%timeit -n1 -r1\n",
    "fm = FileSimradRaw_mapped(files, init=False)\n",
    "fm.navigation_interface.set_min_gga_quality(4)\n",
    "fm.init_interfaces()"
   ]
  },
  {
   "cell_type": "code",
   "execution_count": null,
   "id": "cd56b626-2f4a-48cb-8a39-015d9e88fedd",
   "metadata": {},
   "outputs": [],
   "source": []
  }
 ],
 "metadata": {
  "kernelspec": {
   "display_name": "Python 3 (ipykernel)",
   "language": "python",
   "name": "python3"
  },
  "language_info": {
   "codemirror_mode": {
    "name": "ipython",
    "version": 3
   },
   "file_extension": ".py",
   "mimetype": "text/x-python",
   "name": "python",
   "nbconvert_exporter": "python",
   "pygments_lexer": "ipython3",
   "version": "3.10.8"
  },
  "vscode": {
   "interpreter": {
    "hash": "004b4bd4169e17fdcb87bfc8104a00130ef938c56c6e2bd3919919f77c66ace3"
   }
  }
 },
 "nbformat": 4,
 "nbformat_minor": 5
}
