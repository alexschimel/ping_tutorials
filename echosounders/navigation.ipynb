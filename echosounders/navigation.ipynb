{
 "cells": [
  {
   "cell_type": "code",
   "execution_count": 1,
   "id": "bbd7f588-620f-4741-9f8e-d53c35ad1405",
   "metadata": {},
   "outputs": [],
   "source": [
    "%matplotlib widget\n",
    "\n",
    "from matplotlib import pyplot as plt\n",
    "import os\n",
    "from themachinethatgoesping.echosounders.simrad import FileRaw_mapped\n",
    "from themachinethatgoesping.echosounders import simrad\n",
    "import themachinethatgoesping.tools.progressbars as prg\n",
    "import themachinethatgoesping.tools as tools\n",
    "import themachinethatgoesping.navigation as nav\n",
    "import numpy\n",
    "import os, sys\n",
    "from time import time\n",
    "from tqdm.auto import tqdm\n",
    "from collections import defaultdict\n",
    "import numpy as np\n",
    "\n",
    "#load files\n",
    "folders =  [\"/home/data/\"]\n",
    "#folders =  [\"/home/data/turbeams/\"]\n",
    "#folders = [\"/home/data/no_backup/ek80_test/\"]\n",
    "\n",
    "files = []\n",
    "for folder in folders:\n",
    "    for r,d,f in os.walk(folder):\n",
    "        for file in f:\n",
    "            if file.endswith('.raw'):\n",
    "                files.append(r + '/' +file)\n",
    "            \n",
    "files.sort()\n",
    "#files\n",
    "file_name = files[0]"
   ]
  },
  {
   "cell_type": "code",
   "execution_count": 2,
   "id": "4fa38b42-0744-40a9-a03e-414b5b8e971e",
   "metadata": {},
   "outputs": [
    {
     "name": "stdout",
     "output_type": "stream",
     "text": [
      "indexing files ⠁ 100% [00m:03s<00m:00s] [Found: 4836249 packages in 150 files (33609MB)]                                                \n"
     ]
    }
   ],
   "source": [
    "#%%timeit -n1 -r1\n",
    "fm = FileRaw_mapped(files)"
   ]
  },
  {
   "cell_type": "code",
   "execution_count": 3,
   "id": "9f1f503e-9006-41ee-bf44-29efec9b0d56",
   "metadata": {},
   "outputs": [],
   "source": [
    "navi = fm.get_navigation_interpolators()[0]\n",
    "#A[0]"
   ]
  },
  {
   "cell_type": "code",
   "execution_count": null,
   "id": "8849b6cc-7ddc-4201-b1ce-952c536c77d6",
   "metadata": {},
   "outputs": [],
   "source": []
  },
  {
   "cell_type": "code",
   "execution_count": 4,
   "id": "9c1d5d9a-ab99-4f60-85a0-8d0ebfc3a023",
   "metadata": {},
   "outputs": [
    {
     "ename": "NameError",
     "evalue": "name 'mtime' is not defined",
     "output_type": "error",
     "traceback": [
      "\u001b[0;31m---------------------------------------------------------------------------\u001b[0m",
      "\u001b[0;31mNameError\u001b[0m                                 Traceback (most recent call last)",
      "Cell \u001b[0;32mIn [4], line 7\u001b[0m\n\u001b[1;32m      4\u001b[0m targets \u001b[38;5;241m=\u001b[39m navi\u001b[38;5;241m.\u001b[39msensor_configuration\u001b[38;5;241m.\u001b[39mget_target_ids()\n\u001b[1;32m      6\u001b[0m \u001b[38;5;28;01mfor\u001b[39;00m target \u001b[38;5;129;01min\u001b[39;00m targets:\n\u001b[0;32m----> 7\u001b[0m     \u001b[38;5;28;01mfor\u001b[39;00m t \u001b[38;5;129;01min\u001b[39;00m \u001b[43mmtime\u001b[49m:\n\u001b[1;32m      8\u001b[0m         pos \u001b[38;5;241m=\u001b[39m navi\u001b[38;5;241m.\u001b[39mcompute_target_position(target, t)\n\u001b[1;32m      9\u001b[0m         pos \u001b[38;5;241m=\u001b[39m nav\u001b[38;5;241m.\u001b[39mdatastructures\u001b[38;5;241m.\u001b[39mGeoLocationUTM(pos)\n",
      "\u001b[0;31mNameError\u001b[0m: name 'mtime' is not defined"
     ]
    }
   ],
   "source": [
    "pos_n = defaultdict(list)\n",
    "pos_e = defaultdict(list)\n",
    "\n",
    "targets = navi.sensor_configuration.get_target_ids()\n",
    "\n",
    "for target in targets:\n",
    "    for t in mtime:\n",
    "        pos = navi.compute_target_position(target, t)\n",
    "        pos = nav.datastructures.GeoLocationUTM(pos)\n",
    "        pos_n[target].append(pos.northing)\n",
    "        pos_e[target].append(pos.easting)\n",
    "        \n",
    "    pos_n[target] = np.array(pos_n[target])\n",
    "    pos_e[target] = np.array(pos_e[target])\n",
    "    \n",
    "mn = np.mean(pos_n[targets[0]])\n",
    "me = np.mean(pos_e[targets[0]])\n",
    "\n",
    "for target in targets:\n",
    "    pos_n[target] = pos_n[target] - mn\n",
    "    pos_e[target] = pos_e[target] - me"
   ]
  },
  {
   "cell_type": "code",
   "execution_count": null,
   "id": "e98b11f0-dd2e-4195-9173-752eb2769b6f",
   "metadata": {},
   "outputs": [],
   "source": [
    "plt.close(\"compare\")\n",
    "fig = plt.figure(\"compare\")\n",
    "ax = fig.subplots()\n",
    "\n",
    "targets = navi.sensor_configuration.get_target_ids()\n",
    "\n",
    "for i in range(0,len(pos_n[target]),500):\n",
    "    pn = [pos_n[t][i] for t in targets]\n",
    "    pe = [pos_e[t][i] for t in targets]\n",
    "    ax.plot(pe,pn,c='black')\n",
    "    ax.scatter(pe,pn,c='red')\n",
    "    ax.scatter([pos_e['center'][i]],[pos_n['center'][i]],c='blue')\n",
    "    ax.scatter([pos_e['10north'][i]],[pos_n['10north'][i]],c='yellow')\n",
    "    \n",
    "ax.set_aspect(\"equal\")"
   ]
  },
  {
   "cell_type": "code",
   "execution_count": null,
   "id": "7f203cfd-6a5d-4a8b-84c5-acffd08a22f9",
   "metadata": {},
   "outputs": [],
   "source": [
    "max(roll)"
   ]
  },
  {
   "cell_type": "code",
   "execution_count": null,
   "id": "cd56b626-2f4a-48cb-8a39-015d9e88fedd",
   "metadata": {},
   "outputs": [],
   "source": []
  }
 ],
 "metadata": {
  "kernelspec": {
   "display_name": "Python 3 (ipykernel)",
   "language": "python",
   "name": "python3"
  },
  "language_info": {
   "codemirror_mode": {
    "name": "ipython",
    "version": 3
   },
   "file_extension": ".py",
   "mimetype": "text/x-python",
   "name": "python",
   "nbconvert_exporter": "python",
   "pygments_lexer": "ipython3",
   "version": "3.10.6"
  },
  "vscode": {
   "interpreter": {
    "hash": "004b4bd4169e17fdcb87bfc8104a00130ef938c56c6e2bd3919919f77c66ace3"
   }
  }
 },
 "nbformat": 4,
 "nbformat_minor": 5
}
