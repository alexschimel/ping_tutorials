{
 "cells": [
  {
   "cell_type": "code",
   "execution_count": null,
   "id": "bbd7f588-620f-4741-9f8e-d53c35ad1405",
   "metadata": {},
   "outputs": [],
   "source": [
    "%matplotlib widget\n",
    "\n",
    "from matplotlib import pyplot as plt\n",
    "import os\n",
    "from themachinethatgoesping.echosounders.simrad import FileSimradRaw_mapped\n",
    "from themachinethatgoesping.echosounders import simrad\n",
    "import themachinethatgoesping.tools.progressbars as prg\n",
    "import themachinethatgoesping.tools as tools\n",
    "import themachinethatgoesping.navigation as nav\n",
    "import numpy\n",
    "import os, sys\n",
    "from time import time\n",
    "from tqdm import tqdm\n",
    "from collections import defaultdict\n",
    "import numpy as npHWChannelConfiguration\n",
    "\n",
    "#load files\n",
    "folders=[]\n",
    "with open('test_data.txt','r') as ifi:\n",
    "    for line in ifi:\n",
    "        print(\"Folder:\", line)\n",
    "        folders.append(line)\n",
    "\n",
    "if not len(folders):\n",
    "    print(\"Please add test_data folders to 'test_data.txt'\")\n",
    "\n",
    "files = []\n",
    "for folder in folders:\n",
    "    for r,d,f in os.walk(folder):\n",
    "        for file in f:\n",
    "            if file.endswith('.raw'):\n",
    "                files.append(r + '/' +file)\n",
    "            \n",
    "files.sort()\n",
    "#files\n",
    "file_name = files[0]"
   ]
  },
  {
   "cell_type": "code",
   "execution_count": null,
   "id": "4d85d215-7e9d-4a2d-951c-19d41c6f2cfa",
   "metadata": {},
   "outputs": [],
   "source": [
    "fm = FileSimradRaw_mapped(files)\n",
    "print(fm)"
   ]
  },
  {
   "cell_type": "code",
   "execution_count": null,
   "id": "7ea2f953-6db1-49d7-8bcd-7b552d8f4448",
   "metadata": {},
   "outputs": [],
   "source": [
    "t = []\n",
    "heave = []\n",
    "heading = []\n",
    "akk = tools.vectorinterpolators.AkimaInterpolator()\n",
    "for m in tqdm(fm.datagram_interface.datagrams(\"MRU0\").get_sorted_by_time()):\n",
    "    t.append(m.timestamp)\n",
    "    heave.append(m.heave)\n",
    "    heading.append(m.heading)\n",
    "    akk.append(m.timestamp,m.heave)"
   ]
  },
  {
   "cell_type": "code",
   "execution_count": null,
   "id": "219cebff-301e-4ec1-916f-08453faa92e4",
   "metadata": {},
   "outputs": [],
   "source": [
    "plt.close(\"mru0\")\n",
    "plt.figure(\"mru0\")\n",
    "#plt.plot(t,label='time')\n",
    "#plt.plot(heave,label='heave')\n",
    "plt.plot(heading,label='heading')"
   ]
  },
  {
   "cell_type": "code",
   "execution_count": null,
   "id": "35e20d44-a073-489d-a89e-b5d4a9c379c9",
   "metadata": {},
   "outputs": [],
   "source": []
  },
  {
   "cell_type": "code",
   "execution_count": null,
   "id": "d74f4dc9-25d7-489b-a16f-fe8ad2ea6e31",
   "metadata": {},
   "outputs": [],
   "source": []
  }
 ],
 "metadata": {
  "kernelspec": {
   "display_name": "Python 3 (ipykernel)",
   "language": "python",
   "name": "python3"
  },
  "language_info": {
   "codemirror_mode": {
    "name": "ipython",
    "version": 3
   },
   "file_extension": ".py",
   "mimetype": "text/x-python",
   "name": "python",
   "nbconvert_exporter": "python",
   "pygments_lexer": "ipython3",
   "version": "3.10.8"
  },
  "vscode": {
   "interpreter": {
    "hash": "004b4bd4169e17fdcb87bfc8104a00130ef938c56c6e2bd3919919f77c66ace3"
   }
  }
 },
 "nbformat": 4,
 "nbformat_minor": 5
}
