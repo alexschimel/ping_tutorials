{
 "cells": [
  {
   "cell_type": "code",
   "execution_count": null,
   "id": "0da37bfe-ad5a-4db1-b5cd-6725d1eeec73",
   "metadata": {},
   "outputs": [],
   "source": [
    "import os\n",
    "from themachinethatgoesping.echosounders.simrad import FileRaw\n",
    "import themachinethatgoesping.echosounders.simrad.datagrams as dg\n",
    "import themachinethatgoesping.tools.progressbars as prg\n",
    "import numpy\n",
    "from tqdm import tqdm\n",
    "\n",
    "#load files\n",
    "folders =  [\"/home/data/\"]\n",
    "#folders =  [\"/home/data/turbeams/\"]\n",
    "\n",
    "files = []\n",
    "for folder in folders:\n",
    "    for r,d,f in os.walk(folder):\n",
    "        for file in f:\n",
    "            if file.endswith('.raw'):\n",
    "                files.append(r + '/' +file)\n",
    "            \n",
    "files.sort()\n",
    "#files\n",
    "file = files[0]"
   ]
  },
  {
   "cell_type": "code",
   "execution_count": null,
   "id": "eb1384ad-6242-466d-970d-e98380f3e255",
   "metadata": {},
   "outputs": [],
   "source": [
    "f = FileRaw(file)"
   ]
  },
  {
   "cell_type": "code",
   "execution_count": null,
   "id": "05fd4ea2-a5db-41f9-bee6-c8b31400bc6a",
   "metadata": {},
   "outputs": [],
   "source": [
    "%%timeit -n1 -r1\n",
    "\n",
    "ifis = []\n",
    "for file in files:\n",
    "    ifis.append(FileRaw(file))"
   ]
  },
  {
   "cell_type": "code",
   "execution_count": null,
   "id": "e57735bd-ceeb-4faf-a1b6-9eeff9e89ebc",
   "metadata": {},
   "outputs": [],
   "source": [
    "%%timeit -n1 -r1\n",
    "\n",
    "#pbar = prg.ProgressTqdm(tqdm(ncols = 125))\n",
    "pbar = prg.ProgressIndicator()\n",
    "\n",
    "ifi = FileRaw(files, pbar)"
   ]
  },
  {
   "cell_type": "code",
   "execution_count": null,
   "id": "5d2d7dc8-dab1-415b-99d0-6689d971461b",
   "metadata": {},
   "outputs": [],
   "source": []
  }
 ],
 "metadata": {
  "kernelspec": {
   "display_name": "Python 3 (ipykernel)",
   "language": "python",
   "name": "python3"
  },
  "language_info": {
   "codemirror_mode": {
    "name": "ipython",
    "version": 3
   },
   "file_extension": ".py",
   "mimetype": "text/x-python",
   "name": "python",
   "nbconvert_exporter": "python",
   "pygments_lexer": "ipython3",
   "version": "3.10.5"
  }
 },
 "nbformat": 4,
 "nbformat_minor": 5
}
