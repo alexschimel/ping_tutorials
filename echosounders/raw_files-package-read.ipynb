{
 "cells": [
  {
   "cell_type": "code",
   "execution_count": null,
   "id": "0da37bfe-ad5a-4db1-b5cd-6725d1eeec73",
   "metadata": {},
   "outputs": [],
   "source": [
    "%matplotlib widget\n",
    "\n",
    "from matplotlib import pyplot as plt\n",
    "import os\n",
    "from themachinethatgoesping.echosounders.simrad import FileSimradRaw,SimradDatagram_type_from_string,datagram_type_to_string,t_SimradDatagramIdentifier\n",
    "import themachinethatgoesping.echosounders.simrad.datagrams as dg\n",
    "import themachinethatgoesping.tools.progressbars as prg\n",
    "import numpy\n",
    "import os, sys\n",
    "from tqdm import tqdm\n",
    "from collections import defaultdict\n",
    "import numpy as np\n",
    "\n",
    "#load files\n",
    "folders=[]\n",
    "with open('test_data.txt','r') as ifi:\n",
    "    for line in ifi:\n",
    "        print(\"Folder:\", line)\n",
    "        folders.append(line)\n",
    "\n",
    "if not len(folders):\n",
    "    print(\"Please add test_data folders to 'test_data.txt'\")\n",
    "\n",
    "files = []\n",
    "for folder in folders:\n",
    "    for r,d,f in os.walk(folder):\n",
    "        for file in f:  \n",
    "            if file.endswith('.raw'):\n",
    "                files.append(r + '/' +file)\n",
    "            \n",
    "files.sort()\n",
    "#files\n",
    "file_name = files[0]"
   ]
  },
  {
   "cell_type": "code",
   "execution_count": null,
   "id": "c537a957-8a97-4c44-bc26-abff61596c0a",
   "metadata": {},
   "outputs": [],
   "source": [
    "#as headers\n",
    "\n",
    "file_name = files[0]\n",
    "\n",
    "file_size = os.stat(file_name).st_size\n",
    "\n",
    "last_pos=0\n",
    "\n",
    "packages = defaultdict(int)\n",
    "\n",
    "\n",
    "\n",
    "with open(file_name,'rb') as ifi:\n",
    "    with tqdm(total=file_size) as pbar:\n",
    "        while ifi.tell() < file_size:\n",
    "            b1 = ifi.read(4)\n",
    "            length1 = int.from_bytes(b1,'little')\n",
    "            b2 = ifi.read(length1)\n",
    "            b3 = ifi.read(4)\n",
    "            length2 = int.from_bytes(b3,'little')\n",
    "            b = bytearray(b1) + bytearray(b2) + bytearray(b3)\n",
    "            header = dg.SimradDatagram.from_binary(bytes(b),False)\n",
    "            \n",
    "            packages[header.datagram_type] = header._raw_DatagramType\n",
    "\n",
    "            pbar.update(ifi.tell()-last_pos)\n",
    "            last_pos = ifi.tell()\n",
    "            \n",
    "pbar.close()           \n",
    "\n",
    "for k,v in packages.items():\n",
    "    print(k,':',v)\n"
   ]
  },
  {
   "cell_type": "code",
   "execution_count": null,
   "id": "718a1af3-4920-4ea3-9258-b5264b808858",
   "metadata": {},
   "outputs": [],
   "source": [
    "#as unknown\n",
    "file_name = files[0]\n",
    "\n",
    "file_size = os.stat(file_name).st_size\n",
    "\n",
    "last_pos=0\n",
    "\n",
    "packages = defaultdict(list)\n",
    "\n",
    "\n",
    "\n",
    "with open(file_name,'rb') as ifi:\n",
    "    with tqdm(total=file_size) as pbar:\n",
    "        while ifi.tell() < file_size:\n",
    "            b1 = ifi.read(4)\n",
    "            length1 = int.from_bytes(b1,'little')\n",
    "            b2 = ifi.read(length1)\n",
    "            b3 = ifi.read(4)\n",
    "            length2 = int.from_bytes(b3,'little')\n",
    "            b = bytearray(b1) + bytearray(b2) + bytearray(b3)\n",
    "            datagram = dg.SimradUnknown.from_binary(bytes(b),True)\n",
    "            \n",
    "            packages[datagram.datagram_type].append(datagram)\n",
    "\n",
    "            pbar.update(ifi.tell()-last_pos)\n",
    "            last_pos = ifi.tell()\n",
    "            \n",
    "pbar.close()           "
   ]
  },
  {
   "cell_type": "code",
   "execution_count": null,
   "id": "fc0d7b1d-839b-4a3b-891c-9a2c09e15e7c",
   "metadata": {},
   "outputs": [],
   "source": [
    "for k,v in packages.items():\n",
    "    print(k,len(v))"
   ]
  },
  {
   "cell_type": "code",
   "execution_count": null,
   "id": "be6da785-2213-4281-a0ba-77d8ee2a0583",
   "metadata": {},
   "outputs": [],
   "source": [
    "packages[t_SimradDatagramIdentifier.XML0][1000].raw_content"
   ]
  },
  {
   "cell_type": "code",
   "execution_count": null,
   "id": "976ecdf9-a141-466d-8eac-a376de0f1495",
   "metadata": {},
   "outputs": [],
   "source": []
  },
  {
   "cell_type": "code",
   "execution_count": null,
   "id": "c836b0b2-e508-413c-9584-aac65c665eba",
   "metadata": {},
   "outputs": [],
   "source": []
  },
  {
   "cell_type": "code",
   "execution_count": null,
   "id": "3a0a1e20-cef9-4dee-8dc3-001bc33eeaa0",
   "metadata": {},
   "outputs": [],
   "source": []
  }
 ],
 "metadata": {
  "kernelspec": {
   "display_name": "Python 3 (ipykernel)",
   "language": "python",
   "name": "python3"
  },
  "language_info": {
   "codemirror_mode": {
    "name": "ipython",
    "version": 3
   },
   "file_extension": ".py",
   "mimetype": "text/x-python",
   "name": "python",
   "nbconvert_exporter": "python",
   "pygments_lexer": "ipython3",
   "version": "3.10.8"
  }
 },
 "nbformat": 4,
 "nbformat_minor": 5
}
