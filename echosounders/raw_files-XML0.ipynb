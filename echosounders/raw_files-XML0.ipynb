{
 "cells": [
  {
   "cell_type": "code",
   "execution_count": null,
   "id": "0da37bfe-ad5a-4db1-b5cd-6725d1eeec73",
   "metadata": {},
   "outputs": [],
   "source": [
    "%matplotlib widget\n",
    "\n",
    "from matplotlib import pyplot as plt\n",
    "import os\n",
    "from themachinethatgoesping.echosounders.simrad import FileSimradRaw,FileSimradRaw_mapped,SimradDatagram_type_from_string,datagram_type_to_string,t_SimradDatagramIdentifier\n",
    "import themachinethatgoesping.echosounders.simrad as simrad\n",
    "import themachinethatgoesping.echosounders.simrad.datagrams as dg\n",
    "import themachinethatgoesping.tools.progressbars as prg\n",
    "import themachinethatgoesping.tools as tools\n",
    "import themachinethatgoesping.navigation.nmea_0183 as NMEA\n",
    "import numpy\n",
    "import os, sys\n",
    "from time import time\n",
    "from tqdm import tqdm\n",
    "from collections import defaultdict\n",
    "import numpy as np\n",
    "\n",
    "#load files\n",
    "folders=[]\n",
    "with open('test_data.txt','r') as ifi:\n",
    "    for line in ifi:\n",
    "        print(\"Folder:\", line)\n",
    "        folders.append(line)\n",
    "\n",
    "if not len(folders):\n",
    "    print(\"Please add test_data folders to 'test_data.txt'\")\n",
    "\n",
    "files = []\n",
    "for folder in folders:\n",
    "    for r,d,f in os.walk(folder):\n",
    "        for file in f:\n",
    "            if file.endswith('.raw'):\n",
    "                files.append(r + '/' +file)\n",
    "            \n",
    "files.sort()\n",
    "#files\n",
    "file_name = files[0]"
   ]
  },
  {
   "cell_type": "code",
   "execution_count": null,
   "id": "b4cb4179-c080-4e8b-b27f-b7fa34489a53",
   "metadata": {},
   "outputs": [],
   "source": [
    "fm = FileSimradRaw_mapped(files, show_progress=True)\n",
    "fm"
   ]
  },
  {
   "cell_type": "code",
   "execution_count": null,
   "id": "966360fb-1244-49d2-9b88-c13ae7efc553",
   "metadata": {},
   "outputs": [],
   "source": [
    "#%%timeit -n1 -r1\n",
    "A = defaultdict(list)\n",
    "for i,nm in enumerate(tqdm(fm.datagram_interface.datagrams(\"XML0\"))):    \n",
    "    A[nm.get_xml_datagram_type()].append( (nm,i))"
   ]
  },
  {
   "cell_type": "code",
   "execution_count": null,
   "id": "74eff11d-3473-49dd-b818-a2360c2c6f64",
   "metadata": {},
   "outputs": [],
   "source": [
    "for k,v in A.items():\n",
    "    print(f\"{k}: {len(v)}\")"
   ]
  },
  {
   "cell_type": "code",
   "execution_count": null,
   "id": "8a51ae80-1b93-449c-ac32-4c7f1d515182",
   "metadata": {},
   "outputs": [],
   "source": []
  },
  {
   "cell_type": "code",
   "execution_count": null,
   "id": "b5a90ae9-6604-410b-9904-e11660f40cc6",
   "metadata": {},
   "outputs": [],
   "source": [
    "times =[(\"start\",time())]\n",
    "# simrad.test_speed_raw(fm,\"XML0\")\n",
    "# times.append((\"raw     \",time()))\n",
    "# simrad.test_speed_type(fm,\"XML0\")\n",
    "# times.append((\"type    \",time()))\n",
    "simrad.test_speed_decode_xml(fm,0)\n",
    "times.append((\"decode 0\",time()))\n",
    "simrad.test_speed_decode_xml(fm,1)\n",
    "times.append((\"decode 1\",time()))\n",
    "simrad.test_speed_decode_xml(fm,2)\n",
    "times.append((\"decode 2\",time()))\n",
    "simrad.test_speed_decode_xml(fm,3)\n",
    "times.append((\"decode 3\",time()))\n",
    "simrad.test_speed_decode_xml(fm,4)\n",
    "times.append((\"decode 4\",time()))\n",
    "simrad.test_speed_decode_xml(fm,5)\n",
    "times.append((\"decode 5\",time()))\n",
    "print()\n",
    "for i in range(1,len(times)):\n",
    "    dt = (times[i][1] - times[i-1][1])*1000\n",
    "    it = len(fm.datagram_interface.datagrams(\"XML0\")) / dt\n",
    "    \n",
    "    print(F\"case {times[i][0]}: {round(dt,2)} ms | {round(it,2)} it/ms\")"
   ]
  },
  {
   "cell_type": "code",
   "execution_count": null,
   "id": "4fa4a9c5-5a8a-42d5-9712-b3192354f21d",
   "metadata": {},
   "outputs": [],
   "source": [
    "xml = A[\"Configuration\"][-1][0].decode().Transceivers[0].Channels[0]\n",
    "print(xml)"
   ]
  },
  {
   "cell_type": "code",
   "execution_count": null,
   "id": "d4dae32c-bd37-4e71-9f7b-609ca4710b35",
   "metadata": {},
   "outputs": [],
   "source": [
    "xml = A[\"Configuration\"][0][0].raw().children(\"ConfiguredSensors\")\n",
    "print(xml)"
   ]
  },
  {
   "cell_type": "code",
   "execution_count": null,
   "id": "d968fec4-8be7-4936-a3ed-43535d949339",
   "metadata": {},
   "outputs": [],
   "source": [
    "xml = A[\"Sensor\"][10][0].decode()\n",
    "print(xml)"
   ]
  },
  {
   "cell_type": "code",
   "execution_count": null,
   "id": "826a78b1-ad92-4ce1-a24e-1f71e0e0b52c",
   "metadata": {},
   "outputs": [],
   "source": [
    "xml = A[\"Configuration\"][-1][0].decode()\n",
    "print(xml)"
   ]
  },
  {
   "cell_type": "code",
   "execution_count": null,
   "id": "bcaab50d-8a0f-46a3-9118-7bf297c4687b",
   "metadata": {},
   "outputs": [],
   "source": []
  },
  {
   "cell_type": "code",
   "execution_count": null,
   "id": "c353dc39-323b-43e8-a56f-a211ade3ab3a",
   "metadata": {},
   "outputs": [],
   "source": []
  }
 ],
 "metadata": {
  "kernelspec": {
   "display_name": "Python 3 (ipykernel)",
   "language": "python",
   "name": "python3"
  },
  "language_info": {
   "codemirror_mode": {
    "name": "ipython",
    "version": 3
   },
   "file_extension": ".py",
   "mimetype": "text/x-python",
   "name": "python",
   "nbconvert_exporter": "python",
   "pygments_lexer": "ipython3",
   "version": "3.10.8"
  }
 },
 "nbformat": 4,
 "nbformat_minor": 5
}
