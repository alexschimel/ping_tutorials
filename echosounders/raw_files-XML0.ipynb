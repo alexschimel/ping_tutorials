{
 "cells": [
  {
   "cell_type": "code",
   "execution_count": 1,
   "id": "0da37bfe-ad5a-4db1-b5cd-6725d1eeec73",
   "metadata": {},
   "outputs": [],
   "source": [
    "%matplotlib widget\n",
    "\n",
    "from matplotlib import pyplot as plt\n",
    "import os\n",
    "from themachinethatgoesping.echosounders.simrad import FileRaw,FileRaw_mapped,SimradDatagram_type_from_string,datagram_type_to_string,t_SimradDatagramType\n",
    "import themachinethatgoesping.echosounders.simrad as simrad\n",
    "import themachinethatgoesping.echosounders.simrad.datagrams as dg\n",
    "import themachinethatgoesping.tools.progressbars as prg\n",
    "import themachinethatgoesping.tools as tools\n",
    "import themachinethatgoesping.navigation.nmea_0183 as NMEA\n",
    "import numpy\n",
    "import os, sys\n",
    "from time import time\n",
    "from tqdm.auto import tqdm\n",
    "from collections import defaultdict\n",
    "import numpy as np\n",
    "\n",
    "#load files\n",
    "folders =  [\"/home/data/\"]\n",
    "#folders =  [\"/home/data/turbeams/\"]\n",
    "folders = [\"/home/data/no_backup/ek80_test/\"]\n",
    "\n",
    "files = []\n",
    "for folder in folders:\n",
    "    for r,d,f in os.walk(folder):\n",
    "        for file in f:\n",
    "            if file.endswith('.raw'):\n",
    "                files.append(r + '/' +file)\n",
    "            \n",
    "files.sort()\n",
    "#files\n",
    "file_name = files[0]"
   ]
  },
  {
   "cell_type": "code",
   "execution_count": 2,
   "id": "b4cb4179-c080-4e8b-b27f-b7fa34489a53",
   "metadata": {},
   "outputs": [
    {
     "name": "stdout",
     "output_type": "stream",
     "text": [
      "indexing files ⠐ 100% [00m:00s<00m:00s] [Found: 12382 packages in 26 files (2617MB)]                                            \n"
     ]
    },
    {
     "data": {
      "text/plain": [
       "FileSimradRaw\n",
       "#############\n",
       "- Number of loaded .raw files: : 26      \n",
       "- Total file size: :             2.56 GB \n",
       "\n",
       " Detected datagrams \n",
       "-------------------- \n",
       "- Total:           12382 \n",
       "- Packages [NME0]: 6511  [NMEA text datagram]\n",
       "- Packages [XML0]: 2338  [XML0 text datagram]\n",
       "- Packages [MRU0]: 1143  [Motion binary datagram]\n",
       "- Packages [FIL1]: 104   [Filter binary datagram]\n",
       "- Packages [RAW3]: 2286  [Sample binary datagram]"
      ]
     },
     "execution_count": 2,
     "metadata": {},
     "output_type": "execute_result"
    }
   ],
   "source": [
    "fm = FileRaw_mapped(files, show_progress=True)\n",
    "fm"
   ]
  },
  {
   "cell_type": "code",
   "execution_count": null,
   "id": "1037ac9e-c2ef-42af-a36c-0df9b35fe08c",
   "metadata": {},
   "outputs": [],
   "source": []
  },
  {
   "cell_type": "code",
   "execution_count": 3,
   "id": "966360fb-1244-49d2-9b88-c13ae7efc553",
   "metadata": {},
   "outputs": [
    {
     "data": {
      "application/vnd.jupyter.widget-view+json": {
       "model_id": "2f5aa53c8e024a7ea0487fbd6adf0509",
       "version_major": 2,
       "version_minor": 0
      },
      "text/plain": [
       "  0%|          | 0/2338 [00:00<?, ?it/s]"
      ]
     },
     "metadata": {},
     "output_type": "display_data"
    }
   ],
   "source": [
    "#%%timeit -n1 -r1\n",
    "A = defaultdict(list)\n",
    "for i,nm in enumerate(tqdm(fm(\"XML0\",0,-1))):    \n",
    "    A[nm.get_xml_datagram_type()].append( (nm,i))"
   ]
  },
  {
   "cell_type": "code",
   "execution_count": 4,
   "id": "74eff11d-3473-49dd-b818-a2360c2c6f64",
   "metadata": {},
   "outputs": [
    {
     "name": "stdout",
     "output_type": "stream",
     "text": [
      "Configuration: 26\n",
      "Environment: 26\n",
      "Parameter: 2286\n"
     ]
    }
   ],
   "source": [
    "for k,v in A.items():\n",
    "    print(f\"{k}: {len(v)}\")"
   ]
  },
  {
   "cell_type": "code",
   "execution_count": null,
   "id": "8a51ae80-1b93-449c-ac32-4c7f1d515182",
   "metadata": {},
   "outputs": [],
   "source": []
  },
  {
   "cell_type": "code",
   "execution_count": 7,
   "id": "b5a90ae9-6604-410b-9904-e11660f40cc6",
   "metadata": {},
   "outputs": [
    {
     "name": "stdout",
     "output_type": "stream",
     "text": [
      "test reading ⠠ 100% [00m:00s<00m:00s] [time: 7.495402ms]                  \n",
      "test reading ⠠ 100% [00m:00s<00m:00s] [time: 6.167178ms]                  \n",
      "test reading ⠠ 100% [00m:00s<00m:00s] [time: 6.958286ms]                  \n",
      "test reading ⠠ 100% [00m:00s<00m:00s] [time: 8.150736ms]                  \n",
      "test reading ⠠ 100% [00m:00s<00m:00s] [time: 16.558849ms]                   \n",
      "test reading ⠠ 100% [00m:00s<00m:00s] [time: 8.717576ms]                  \n",
      "\n",
      "case decode 0: 8.68 ms | 269.42 it/ms\n",
      "case decode 1: 7.25 ms | 322.68 it/ms\n",
      "case decode 2: 7.98 ms | 292.95 it/ms\n",
      "case decode 3: 9.11 ms | 256.76 it/ms\n",
      "case decode 4: 17.72 ms | 131.94 it/ms\n",
      "case decode 5: 9.97 ms | 234.48 it/ms\n"
     ]
    }
   ],
   "source": [
    "times =[(\"start\",time())]\n",
    "# simrad.test_speed_raw(fm,\"XML0\")\n",
    "# times.append((\"raw     \",time()))\n",
    "# simrad.test_speed_type(fm,\"XML0\")\n",
    "# times.append((\"type    \",time()))\n",
    "simrad.test_speed_decode_xml(fm,0)\n",
    "times.append((\"decode 0\",time()))\n",
    "simrad.test_speed_decode_xml(fm,1)\n",
    "times.append((\"decode 1\",time()))\n",
    "simrad.test_speed_decode_xml(fm,2)\n",
    "times.append((\"decode 2\",time()))\n",
    "simrad.test_speed_decode_xml(fm,3)\n",
    "times.append((\"decode 3\",time()))\n",
    "simrad.test_speed_decode_xml(fm,4)\n",
    "times.append((\"decode 4\",time()))\n",
    "simrad.test_speed_decode_xml(fm,5)\n",
    "times.append((\"decode 5\",time()))\n",
    "print()\n",
    "for i in range(1,len(times)):\n",
    "    dt = (times[i][1] - times[i-1][1])*1000\n",
    "    it = len(fm(\"XML0\")) / dt\n",
    "    \n",
    "    print(F\"case {times[i][0]}: {round(dt,2)} ms | {round(it,2)} it/ms\")"
   ]
  },
  {
   "cell_type": "code",
   "execution_count": null,
   "id": "4fa4a9c5-5a8a-42d5-9712-b3192354f21d",
   "metadata": {},
   "outputs": [],
   "source": [
    "xml = A[\"Configuration\"][-1][0].decode().Transceivers[0].Channels[0]\n",
    "xml"
   ]
  },
  {
   "cell_type": "code",
   "execution_count": null,
   "id": "d4dae32c-bd37-4e71-9f7b-609ca4710b35",
   "metadata": {},
   "outputs": [],
   "source": [
    "xml = A[\"Configuration\"][0][0].raw().children(\"ConfiguredSensors\")\n",
    "xml"
   ]
  },
  {
   "cell_type": "code",
   "execution_count": null,
   "id": "d968fec4-8be7-4936-a3ed-43535d949339",
   "metadata": {},
   "outputs": [],
   "source": [
    "xml = A[\"Sensor\"][10][0].decode()\n",
    "xml"
   ]
  },
  {
   "cell_type": "code",
   "execution_count": null,
   "id": "1ef07057-ee7d-4c2b-b5f6-19f2e15201c0",
   "metadata": {},
   "outputs": [],
   "source": [
    "xml = A[\"Environment\"][10][0].decode().Transducer\n",
    "xml"
   ]
  },
  {
   "cell_type": "code",
   "execution_count": 7,
   "id": "826a78b1-ad92-4ce1-a24e-1f71e0e0b52c",
   "metadata": {},
   "outputs": [],
   "source": [
    "xml = A[\"Configuration\"][-1][0].decode()"
   ]
  },
  {
   "cell_type": "code",
   "execution_count": null,
   "id": "bcaab50d-8a0f-46a3-9118-7bf297c4687b",
   "metadata": {},
   "outputs": [],
   "source": []
  }
 ],
 "metadata": {
  "kernelspec": {
   "display_name": "Python 3 (ipykernel)",
   "language": "python",
   "name": "python3"
  },
  "language_info": {
   "codemirror_mode": {
    "name": "ipython",
    "version": 3
   },
   "file_extension": ".py",
   "mimetype": "text/x-python",
   "name": "python",
   "nbconvert_exporter": "python",
   "pygments_lexer": "ipython3",
   "version": "3.10.6"
  }
 },
 "nbformat": 4,
 "nbformat_minor": 5
}
