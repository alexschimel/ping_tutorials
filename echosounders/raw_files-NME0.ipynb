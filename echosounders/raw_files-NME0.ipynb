{
 "cells": [
  {
   "cell_type": "code",
   "execution_count": 2,
   "id": "0da37bfe-ad5a-4db1-b5cd-6725d1eeec73",
   "metadata": {},
   "outputs": [],
   "source": [
    "%matplotlib widget\n",
    "\n",
    "from matplotlib import pyplot as plt\n",
    "import os\n",
    "from themachinethatgoesping.echosounders.simrad import FileRaw,FileRaw_mapped,SimradDatagram_type_from_string,datagram_type_to_string,t_SimradDatagramType\n",
    "import themachinethatgoesping.echosounders.simrad as simrad\n",
    "import themachinethatgoesping.echosounders.simrad.datagrams as dg\n",
    "import themachinethatgoesping.tools.progressbars as prg\n",
    "import themachinethatgoesping.tools as tools\n",
    "import themachinethatgoesping.navigation.nmea_0183 as NMEA\n",
    "import numpy\n",
    "import os, sys\n",
    "from time import time\n",
    "from tqdm.auto import tqdm\n",
    "from collections import defaultdict\n",
    "import numpy as np\n",
    "\n",
    "#load files\n",
    "folders =  [\"/home/data/\"]\n",
    "#folders =  [\"/home/data/turbeams/\"]\n",
    "folders = [\"/home/data/no_backup/ek80_test/\"]\n",
    "\n",
    "files = []\n",
    "for folder in folders:\n",
    "    for r,d,f in os.walk(folder):\n",
    "        for file in f:\n",
    "            if file.endswith('.raw'):\n",
    "                files.append(r + '/' +file)\n",
    "            \n",
    "files.sort()\n",
    "#files\n",
    "file_name = files[0]"
   ]
  },
  {
   "cell_type": "code",
   "execution_count": 3,
   "id": "b4cb4179-c080-4e8b-b27f-b7fa34489a53",
   "metadata": {},
   "outputs": [
    {
     "name": "stdout",
     "output_type": "stream",
     "text": [
      "indexing files ⠐ 100% [00m:00s<00m:00s] [Found: 12382 packages in 26 files (2617MB)]                                            \n"
     ]
    },
    {
     "data": {
      "text/plain": [
       "FileSimradRaw\n",
       "#############\n",
       "- Number of loaded .raw files: : 26      \n",
       "- Total file size: :             2.56 GB \n",
       "\n",
       " Detected datagrams \n",
       "-------------------- \n",
       "- Total:           12382 \n",
       "- Packages [NME0]: 6511  [NMEA text datagram]\n",
       "- Packages [XML0]: 2338  [XML0 text datagram]\n",
       "- Packages [MRU0]: 1143  [Motion binary datagram]\n",
       "- Packages [FIL1]: 104   [Filter binary datagram]\n",
       "- Packages [RAW3]: 2286  [Sample binary datagram]"
      ]
     },
     "execution_count": 3,
     "metadata": {},
     "output_type": "execute_result"
    }
   ],
   "source": [
    "fm = FileRaw_mapped(files, show_progress=True)\n",
    "fm"
   ]
  },
  {
   "cell_type": "code",
   "execution_count": 4,
   "id": "187f48e7-31eb-4dbd-9643-018341ce1883",
   "metadata": {},
   "outputs": [
    {
     "data": {
      "application/vnd.jupyter.widget-view+json": {
       "model_id": "17ba009fdc6c49b7ad35db2bccfa09b8",
       "version_major": 2,
       "version_minor": 0
      },
      "text/plain": [
       "  0%|          | 0/6511 [00:00<?, ?it/s]"
      ]
     },
     "metadata": {},
     "output_type": "display_data"
    },
    {
     "name": "stdout",
     "output_type": "stream",
     "text": [
      "31.2 ms ± 0 ns per loop (mean ± std. dev. of 1 run, 1 loop each)\n"
     ]
    }
   ],
   "source": [
    "%%timeit -n1 -r1\n",
    "A = {}\n",
    "for nm in tqdm(fm(\"NME0\",0,-1)):\n",
    "    a=nm.decode()\n",
    "    \n",
    "    \n",
    "    \n",
    "    if nm.type == 'GGA' or nm.type == 'GLL' or nm.type == \"RMC\":\n",
    "        a.get_latitude()\n",
    "        a.get_longitude()\n",
    "    \n",
    "    continue\n",
    "    \n",
    "    if nm.type == 'ZDA':\n",
    "        a = a.to_timestamp()\n",
    "        pass\n",
    "    \n",
    "    if nm.type == 'RMC':\n",
    "        pass\n",
    "        \n",
    "    if nm.type == 'GGA':\n",
    "        pass\n",
    "    if nm.type == 'GLL':\n",
    "        pass\n",
    "    if nm.type == 'HDT':\n",
    "        pass\n",
    "    if nm.type == 'GST':\n",
    "        pass\n",
    "    \n",
    "    \n",
    "        \n",
    "    "
   ]
  },
  {
   "cell_type": "code",
   "execution_count": 5,
   "id": "b5a90ae9-6604-410b-9904-e11660f40cc6",
   "metadata": {},
   "outputs": [
    {
     "name": "stdout",
     "output_type": "stream",
     "text": [
      "test reading ⠠ 100% [00m:00s<00m:00s] [time: 6.340878ms]                  \n",
      "test reading ⠠ 100% [00m:00s<00m:00s] [time: 5.608611ms]                  \n",
      "test reading ⠠ 100% [00m:00s<00m:00s] [time: 5.393595ms]                  \n",
      "test reading ⠠ 100% [00m:00s<00m:00s] [time: 7.918606ms]                  \n",
      "70.94\n",
      "raw : 1029095.7283792441 it/s\n",
      "read: 1001801.6633895818 it/s\n",
      "pack: 729995.0105319433 it/s\n"
     ]
    }
   ],
   "source": [
    "t1 = time()\n",
    "simrad.test_speed_raw(fm,\"NME0\")\n",
    "#print(len(fm)/(time()-t1),'it/s')\n",
    "t2 = time()\n",
    "simrad.test_speed_type(fm,\"NME0\")\n",
    "#print(len(fm)/(time()-t2),'it/s')\n",
    "t3 = time()\n",
    "simrad.test_speed_raw(fm,\"NME0\")\n",
    "#print(len(fm)/(time()-t3),'it/s')\n",
    "t4 = time()\n",
    "simrad.test_speed_decode_nmea(fm)\n",
    "#print(len(fm)/(time()-t2),'it/s')\n",
    "t5 = time()\n",
    "print(round(100*(t4-t3)/(t5-t4),2))\n",
    "print('raw :',len(fm('NME0'))/(t4-t3),'it/s')\n",
    "print('read:',len(fm('NME0'))/(t3-t2),'it/s')\n",
    "print('pack:',len(fm('NME0'))/(t5-t4),'it/s')"
   ]
  },
  {
   "cell_type": "code",
   "execution_count": 6,
   "id": "81d375a0-670d-41ba-b8e4-bf418cb828e2",
   "metadata": {
    "tags": []
   },
   "outputs": [
    {
     "data": {
      "application/vnd.jupyter.widget-view+json": {
       "model_id": "8232f7ae0630488585d7c67bdaf284ca",
       "version_major": 2,
       "version_minor": 0
      },
      "text/plain": [
       "  0%|          | 0/6511 [00:00<?, ?it/s]"
      ]
     },
     "metadata": {},
     "output_type": "display_data"
    },
    {
     "name": "stdout",
     "output_type": "stream",
     "text": [
      "SD VLW : 26\n",
      "IN ZDA : 1622\n",
      "IN GGA : 1621\n",
      "IN VTG : 1621\n",
      "IN HDT : 1621\n"
     ]
    }
   ],
   "source": [
    "from collections import defaultdict\n",
    "packages = defaultdict(list)\n",
    "for nmea in tqdm(fm.i_NME0):\n",
    "    t = nmea.name\n",
    "    if t == \"invalid\":\n",
    "        print(len(packages['invalid']),end='\\r')\n",
    "    else:\n",
    "        t = nmea.sender + ' ' + nmea.type\n",
    "        \n",
    "    packages[t].append(nmea)\n",
    "        \n",
    "for k,v in packages.items():\n",
    "    print(k,':',len(v))"
   ]
  },
  {
   "cell_type": "code",
   "execution_count": 7,
   "id": "9d309006-69c5-4540-a8b9-cf31dda6d201",
   "metadata": {},
   "outputs": [
    {
     "name": "stdout",
     "output_type": "stream",
     "text": [
      "SD VLW : 26\n",
      "IN ZDA : 1622\n",
      "IN GGA : 1621\n",
      "IN VTG : 1621\n",
      "IN HDT : 1621\n"
     ]
    }
   ],
   "source": [
    "for k,v in packages.items():\n",
    "    print(k,':',len(v))"
   ]
  },
  {
   "cell_type": "code",
   "execution_count": null,
   "id": "711d95ce-058b-4bd6-8a97-e3cc04090c16",
   "metadata": {},
   "outputs": [],
   "source": []
  }
 ],
 "metadata": {
  "kernelspec": {
   "display_name": "Python 3 (ipykernel)",
   "language": "python",
   "name": "python3"
  },
  "language_info": {
   "codemirror_mode": {
    "name": "ipython",
    "version": 3
   },
   "file_extension": ".py",
   "mimetype": "text/x-python",
   "name": "python",
   "nbconvert_exporter": "python",
   "pygments_lexer": "ipython3",
   "version": "3.10.6"
  }
 },
 "nbformat": 4,
 "nbformat_minor": 5
}
