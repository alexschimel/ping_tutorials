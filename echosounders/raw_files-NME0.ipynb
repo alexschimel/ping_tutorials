{
 "cells": [
  {
   "cell_type": "code",
   "execution_count": null,
   "id": "0da37bfe-ad5a-4db1-b5cd-6725d1eeec73",
   "metadata": {},
   "outputs": [],
   "source": [
    "%matplotlib widget\n",
    "\n",
    "from matplotlib import pyplot as plt\n",
    "import os\n",
    "from themachinethatgoesping.echosounders.simrad import FileSimradRaw,FileSimradRaw_mapped\n",
    "import themachinethatgoesping.echosounders.simrad as simrad\n",
    "import themachinethatgoesping.echosounders.simrad.datagrams as dg\n",
    "import themachinethatgoesping.tools.progressbars as prg\n",
    "import themachinethatgoesping.tools as tools\n",
    "import themachinethatgoesping.navigation.nmea_0183 as NMEA\n",
    "import numpy\n",
    "import os, sys\n",
    "from time import time\n",
    "from tqdm import tqdm\n",
    "from collections import defaultdict\n",
    "import numpy as np\n",
    "\n",
    "#load files\n",
    "folders=[]\n",
    "with open('test_data.txt','r') as ifi:\n",
    "    for line in ifi:\n",
    "        print(\"Folder:\", line)\n",
    "        folders.append(line)\n",
    "\n",
    "if not len(folders):\n",
    "    print(\"Please add test_data folders to 'test_data.txt'\")\n",
    "\n",
    "files = []\n",
    "for folder in folders:\n",
    "    for r,d,f in os.walk(folder):\n",
    "        for file in f:\n",
    "            if file.endswith('.raw'):\n",
    "                files.append(r + '/' +file)\n",
    "            \n",
    "files.sort()\n",
    "#files\n",
    "file_name = files[0]"
   ]
  },
  {
   "cell_type": "code",
   "execution_count": null,
   "id": "b4cb4179-c080-4e8b-b27f-b7fa34489a53",
   "metadata": {},
   "outputs": [],
   "source": [
    "fm = FileSimradRaw_mapped(files, show_progress=True)\n",
    "print(fm)"
   ]
  },
  {
   "cell_type": "code",
   "execution_count": null,
   "id": "187f48e7-31eb-4dbd-9643-018341ce1883",
   "metadata": {},
   "outputs": [],
   "source": [
    "%%timeit -n1 -r1\n",
    "A = {}\n",
    "for nm in tqdm(fm.datagram_interface.datagrams(\"NME0\")[:]):\n",
    "    a=nm.decode()\n",
    "    \n",
    "    \n",
    "    \n",
    "    if nm.type == 'GGA' or nm.type == 'GLL' or nm.type == \"RMC\":\n",
    "        a.get_latitude()\n",
    "        a.get_longitude()\n",
    "    \n",
    "    continue\n",
    "    \n",
    "    if nm.type == 'ZDA':\n",
    "        a = a.to_timestamp()\n",
    "        pass\n",
    "    \n",
    "    if nm.type == 'RMC':\n",
    "        pass\n",
    "        \n",
    "    if nm.type == 'GGA':\n",
    "        pass\n",
    "    if nm.type == 'GLL':\n",
    "        pass\n",
    "    if nm.type == 'HDT':\n",
    "        pass\n",
    "    if nm.type == 'GST':\n",
    "        pass\n",
    "    \n",
    "    \n",
    "        \n",
    "    "
   ]
  },
  {
   "cell_type": "code",
   "execution_count": null,
   "id": "b5a90ae9-6604-410b-9904-e11660f40cc6",
   "metadata": {},
   "outputs": [],
   "source": [
    "t1 = time()\n",
    "simrad.test_speed_raw(fm,\"NME0\")\n",
    "#print(len(fm)/(time()-t1),'it/s')\n",
    "t2 = time()\n",
    "simrad.test_speed_type(fm,\"NME0\")\n",
    "#print(len(fm)/(time()-t2),'it/s')\n",
    "t3 = time()\n",
    "simrad.test_speed_raw(fm,\"NME0\")\n",
    "#print(len(fm)/(time()-t3),'it/s')\n",
    "t4 = time()\n",
    "simrad.test_speed_decode_nmea(fm)\n",
    "#print(len(fm)/(time()-t2),'it/s')\n",
    "t5 = time()\n",
    "print(round(100*(t4-t3)/(t5-t4),2))\n",
    "print('raw :',len(fm.datagram_interface.datagrams('NME0'))/(t4-t3),'it/s')\n",
    "print('read:',len(fm.datagram_interface.datagrams('NME0'))/(t3-t2),'it/s')\n",
    "print('pack:',len(fm.datagram_interface.datagrams('NME0'))/(t5-t4),'it/s')"
   ]
  },
  {
   "cell_type": "code",
   "execution_count": null,
   "id": "81d375a0-670d-41ba-b8e4-bf418cb828e2",
   "metadata": {
    "tags": []
   },
   "outputs": [],
   "source": [
    "from collections import defaultdict\n",
    "packages = defaultdict(list)\n",
    "for nmea in tqdm(fm.datagram_interface.datagrams(\"NME0\")):\n",
    "    t = nmea.name\n",
    "    if t == \"invalid\":\n",
    "        print(len(packages['invalid']),end='\\r')\n",
    "    else:\n",
    "        t = nmea.sender + ' ' + nmea.type\n",
    "        \n",
    "    packages[t].append(nmea)\n",
    "        \n",
    "for k,v in packages.items():\n",
    "    print(k,':',len(v))"
   ]
  },
  {
   "cell_type": "code",
   "execution_count": null,
   "id": "9d309006-69c5-4540-a8b9-cf31dda6d201",
   "metadata": {},
   "outputs": [],
   "source": [
    "for k,v in packages.items():\n",
    "    print(k,':',len(v))"
   ]
  },
  {
   "cell_type": "code",
   "execution_count": null,
   "id": "711d95ce-058b-4bd6-8a97-e3cc04090c16",
   "metadata": {},
   "outputs": [],
   "source": []
  }
 ],
 "metadata": {
  "kernelspec": {
   "display_name": "Python 3 (ipykernel)",
   "language": "python",
   "name": "python3"
  },
  "language_info": {
   "codemirror_mode": {
    "name": "ipython",
    "version": 3
   },
   "file_extension": ".py",
   "mimetype": "text/x-python",
   "name": "python",
   "nbconvert_exporter": "python",
   "pygments_lexer": "ipython3",
   "version": "3.10.8"
  }
 },
 "nbformat": 4,
 "nbformat_minor": 5
}
