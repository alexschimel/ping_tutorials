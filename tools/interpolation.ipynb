{
 "cells": [
  {
   "cell_type": "code",
   "execution_count": null,
   "id": "5d294a8d-6205-4d63-9e28-7539e0e2a349",
   "metadata": {},
   "outputs": [],
   "source": [
    "import themachinethatgoesping.tools.vectorinterpolators as vip\n",
    "import numpy as np"
   ]
  },
  {
   "cell_type": "code",
   "execution_count": null,
   "id": "99408956-4236-4f5d-8e95-96b3b4b38723",
   "metadata": {},
   "outputs": [],
   "source": [
    "# create value lists\n",
    "timestamps = [100, 150, 300,400, 950,999,1000] \n",
    "values     = [10, 50, 30,500, -30,-30,-20]"
   ]
  },
  {
   "cell_type": "code",
   "execution_count": null,
   "id": "28d9b1cc-7da8-4c97-aaaa-e48837a30b7f",
   "metadata": {},
   "outputs": [],
   "source": [
    "np.stack((timestamps,values,np.array(values)*2),axis=1)"
   ]
  },
  {
   "cell_type": "code",
   "execution_count": null,
   "id": "ac0eddaa-2d38-4c88-b89f-71a9f0617b7e",
   "metadata": {},
   "outputs": [],
   "source": [
    "# create interpolator object\n",
    "linear = vip.LinearInterpolator(X=timestamps, Y=values)\n",
    "nearest = vip.NearestInterpolator(X=timestamps, Y=values)"
   ]
  },
  {
   "cell_type": "code",
   "execution_count": null,
   "id": "8ba9a6f2-349b-48c7-b5d0-1ca548e33359",
   "metadata": {},
   "outputs": [],
   "source": [
    "# find interpolated y value for a given x value (e.g. a random timestamp)\n",
    "y_value = nearest.interpolate(target_x=125)\n",
    "print(y_value) #<< 30.0\n",
    "\n",
    "# find extrapolated y value for value outside timestamps boundary\n",
    "y_value = nearest.interpolate(target_x=50)\n",
    "print(y_value) #<< -30.0"
   ]
  },
  {
   "cell_type": "code",
   "execution_count": null,
   "id": "0cd4b01b-b56e-4f1f-a266-bef395e5771f",
   "metadata": {},
   "outputs": [],
   "source": [
    "import themachinethatgoesping.tools as tools\n",
    "tools.__file__"
   ]
  },
  {
   "cell_type": "code",
   "execution_count": null,
   "id": "c9a18af7-6b3b-480b-953d-37a7907adb19",
   "metadata": {},
   "outputs": [],
   "source": [
    "akima = vip.AkimaInterpolator(X=timestamps, Y=values,extrapolation_mode=vip.t_extr_mode.extrapolate)"
   ]
  },
  {
   "cell_type": "code",
   "execution_count": null,
   "id": "4e2bf9e7-f950-407a-b8c9-919d2e818b1c",
   "metadata": {},
   "outputs": [],
   "source": [
    "%matplotlib widget\n",
    "from matplotlib import pyplot as plt\n",
    "\n",
    "plt.close('compare')\n",
    "fig = plt.figure('compare')\n",
    "ax = fig.subplots()\n",
    "\n",
    "x = np.linspace(0,1100,10000)\n",
    "y = akima.interpolate(x)\n",
    "\n",
    "ax.scatter(timestamps,values,c='black')\n",
    "ax.plot(x,nearest.interpolate(x),label='nearest', c = 'grey')\n",
    "ax.plot(x,linear.interpolate(x),label='linear', c = 'black')\n",
    "ax.plot(x,akima.interpolate(x),label='akima', c = 'red')\n",
    "\n",
    "ax.legend()"
   ]
  },
  {
   "cell_type": "code",
   "execution_count": null,
   "id": "a0598af7-cf88-4b2c-8da7-9ced0f5c8a91",
   "metadata": {},
   "outputs": [],
   "source": [
    "akima   = vip.AkimaInterpolator(X=timestamps, Y=values,extrapolation_mode=vip.t_extr_mode.extrapolate)\n",
    "linear  = vip.LinearInterpolator(X=timestamps, Y=values,extrapolation_mode=vip.t_extr_mode.extrapolate)\n",
    "nearest = vip.NearestInterpolator(X=timestamps, Y=values,extrapolation_mode=vip.t_extr_mode.extrapolate)\n",
    "nearest = vip.NearestInterpolator(X=timestamps, Y=values,extrapolation_mode=vip.t_extr_mode.extrapolate)\n",
    "\n",
    "timestamps_ext = [1500,2000]\n",
    "values_ext = [-100,100]\n",
    "akima.extend(timestamps_ext,values_ext)\n",
    "linear.extend(timestamps_ext,values_ext)\n",
    "nearest.extend(timestamps_ext,values_ext)"
   ]
  },
  {
   "cell_type": "code",
   "execution_count": null,
   "id": "2ce4f7a6-2163-4ac3-9f7e-ad3db2d86edd",
   "metadata": {},
   "outputs": [],
   "source": [
    "%matplotlib widget\n",
    "from matplotlib import pyplot as plt\n",
    "\n",
    "plt.close('compare')\n",
    "fig = plt.figure('compare')\n",
    "ax = fig.subplots()\n",
    "\n",
    "x = np.linspace(0,3000,10000)\n",
    "y = akima.interpolate(x)\n",
    "ax.plot(x,nearest.interpolate(x),label='nearest', c = 'grey')\n",
    "ax.plot(x,linear.interpolate(x),label='linear', c = 'black')\n",
    "ax.plot(x,akima.interpolate(x),label='akima', c = 'red')\n",
    "\n",
    "ax.scatter(timestamps,values,c='black',zorder=10)\n",
    "ax.scatter(timestamps_ext,values_ext,c='black',zorder=10)\n",
    "ax.legend()"
   ]
  },
  {
   "cell_type": "code",
   "execution_count": null,
   "id": "20f8de2d-93eb-4bbc-84b8-f42a19c317b8",
   "metadata": {},
   "outputs": [],
   "source": []
  }
 ],
 "metadata": {
  "kernelspec": {
   "display_name": "Python 3 (ipykernel)",
   "language": "python",
   "name": "python3"
  },
  "language_info": {
   "codemirror_mode": {
    "name": "ipython",
    "version": 3
   },
   "file_extension": ".py",
   "mimetype": "text/x-python",
   "name": "python",
   "nbconvert_exporter": "python",
   "pygments_lexer": "ipython3",
   "version": "3.10.5"
  }
 },
 "nbformat": 4,
 "nbformat_minor": 5
}
