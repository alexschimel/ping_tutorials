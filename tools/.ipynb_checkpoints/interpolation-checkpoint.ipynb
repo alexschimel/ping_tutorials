{
 "cells": [
  {
   "cell_type": "code",
   "execution_count": null,
   "id": "5d294a8d-6205-4d63-9e28-7539e0e2a349",
   "metadata": {},
   "outputs": [],
   "source": [
    "import themachinethatgoesping.tools.vectorinterpolators as vip\n",
    "import numpy as np"
   ]
  },
  {
   "cell_type": "code",
   "execution_count": null,
   "id": "99408956-4236-4f5d-8e95-96b3b4b38723",
   "metadata": {},
   "outputs": [],
   "source": [
    "# create value lists\n",
    "timestamps = [100, 150, 300,400, 950,999,1000] \n",
    "values     = [10, 50, 30,500, -30,-30,-20]"
   ]
  },
  {
   "cell_type": "code",
   "execution_count": null,
   "id": "ac0eddaa-2d38-4c88-b89f-71a9f0617b7e",
   "metadata": {},
   "outputs": [],
   "source": [
    "# create interpolator object\n",
    "linear = vip.LinearInterpolator(X=timestamps, Y=values)\n",
    "nearest = vip.NearestInterpolator(X=timestamps, Y=values)\n",
    "akima = vip.AkimaInterpolator(X=timestamps, Y=values)"
   ]
  },
  {
   "cell_type": "code",
   "execution_count": null,
   "id": "8ba9a6f2-349b-48c7-b5d0-1ca548e33359",
   "metadata": {},
   "outputs": [],
   "source": [
    "# find interpolated y value for a given x value (e.g. a random timestamp)\n",
    "y_value = nearest(target_x=125)\n",
    "print(y_value) #<< 30.0\n",
    "\n",
    "# find extrapolated y value for value outside timestamps boundary\n",
    "y_value = nearest(target_x=50)\n",
    "print(y_value) #<< -30.0"
   ]
  },
  {
   "cell_type": "code",
   "execution_count": null,
   "id": "4e2bf9e7-f950-407a-b8c9-919d2e818b1c",
   "metadata": {},
   "outputs": [],
   "source": [
    "%matplotlib widget\n",
    "from matplotlib import pyplot as plt\n",
    "\n",
    "plt.close('compare')\n",
    "fig = plt.figure('compare')\n",
    "ax = fig.subplots()\n",
    "\n",
    "x = np.linspace(0,1100,10000)\n",
    "\n",
    "ax.scatter(timestamps,values,c='black', label=\"input points\")\n",
    "ax.plot(x,nearest(x),label='nearest', c = 'grey')\n",
    "ax.plot(x,linear(x),label='linear', c = 'black')\n",
    "ax.plot(x,akima(x),label='akima', c = 'red')\n",
    "\n",
    "ax.legend()"
   ]
  }
 ],
 "metadata": {
  "kernelspec": {
   "display_name": "Python 3 (ipykernel)",
   "language": "python",
   "name": "python3"
  },
  "language_info": {
   "codemirror_mode": {
    "name": "ipython",
    "version": 3
   },
   "file_extension": ".py",
   "mimetype": "text/x-python",
   "name": "python",
   "nbconvert_exporter": "python",
   "pygments_lexer": "ipython3",
   "version": "3.10.5"
  }
 },
 "nbformat": 4,
 "nbformat_minor": 5
}
