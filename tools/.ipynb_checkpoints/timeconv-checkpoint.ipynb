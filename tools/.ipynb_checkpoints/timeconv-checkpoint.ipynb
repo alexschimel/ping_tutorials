{
 "cells": [
  {
   "cell_type": "code",
   "execution_count": null,
   "id": "9f46fee5-7235-48a7-a273-c73ee37fe7d7",
   "metadata": {},
   "outputs": [],
   "source": [
    "# import this module\n",
    "import time # default pyhon module\n",
    "from themachinethatgoesping.tools import timeconv"
   ]
  },
  {
   "cell_type": "code",
   "execution_count": null,
   "id": "611e2e59-aac8-4ef7-8faf-e8376ae5e738",
   "metadata": {},
   "outputs": [],
   "source": [
    "# create a unixtimestamp in python\n",
    "unixtime   = time.time() "
   ]
  },
  {
   "cell_type": "code",
   "execution_count": null,
   "id": "8163f0ed-4a6e-4337-9bdd-4e6524f452c5",
   "metadata": {},
   "outputs": [],
   "source": [
    "# convert to datestring\n",
    "datestring = timeconv.unixtime_to_datestring(unixtime) \n",
    "print(\"DateString:\",datestring)"
   ]
  },
  {
   "cell_type": "code",
   "execution_count": null,
   "id": "2aa9f732-833b-4b9a-b8fc-4733c9fdf9b5",
   "metadata": {},
   "outputs": [],
   "source": [
    "# convert datestring back to unixtimestamp\n",
    "unixtime2 = timeconv.datestring_to_unixtime(datestring) \n",
    "print(\"Original Unixtime:\",unixtime)\n",
    "print(\"New Unixtime:     \",unixtime2)"
   ]
  },
  {
   "cell_type": "code",
   "execution_count": null,
   "id": "86947df4-bcb7-42bb-b18f-6290c3a13ad0",
   "metadata": {},
   "outputs": [],
   "source": [
    "# same as above but also record fractional microseconds in the datestring\n",
    "datestring2 = timeconv.unixtime_to_datestring(unixtime,fractionalSecondsDigits=6) \n",
    "\n",
    "unixtime3 = timeconv.datestring_to_unixtime(datestring2) \n",
    "\n",
    "print(\"Original Unixtime:              \",unixtime)\n",
    "print(\"New Unixtime (with microseconds:\",unixtime3)"
   ]
  },
  {
   "cell_type": "code",
   "execution_count": null,
   "id": "a6864e76-09ab-4941-ac56-8ecbbba0596a",
   "metadata": {},
   "outputs": [],
   "source": []
  }
 ],
 "metadata": {
  "kernelspec": {
   "display_name": "Python 3 (ipykernel)",
   "language": "python",
   "name": "python3"
  },
  "language_info": {
   "codemirror_mode": {
    "name": "ipython",
    "version": 3
   },
   "file_extension": ".py",
   "mimetype": "text/x-python",
   "name": "python",
   "nbconvert_exporter": "python",
   "pygments_lexer": "ipython3",
   "version": "3.10.5"
  }
 },
 "nbformat": 4,
 "nbformat_minor": 5
}
