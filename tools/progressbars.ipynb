{
 "cells": [
  {
   "cell_type": "code",
   "execution_count": null,
   "id": "2d7fe13b-c005-4df4-aead-d15ba63c9143",
   "metadata": {},
   "outputs": [],
   "source": [
    "from themachinethatgoesping.tools import progressbars as progress\n",
    "#from themachinethatgoesping.tools import ostream_redirect\n",
    "\n",
    "from time import sleep, time\n",
    "from tqdm import tqdm"
   ]
  },
  {
   "cell_type": "code",
   "execution_count": null,
   "id": "da9ca249-8a1c-4659-acd6-df0cdbf92ff6",
   "metadata": {},
   "outputs": [],
   "source": [
    "N=100000\n",
    "t=50\n",
    "\n",
    "ncols=100"
   ]
  },
  {
   "cell_type": "code",
   "execution_count": null,
   "id": "9e5a5d84-720c-49a5-a605-c881dc8063d3",
   "metadata": {},
   "outputs": [],
   "source": [
    "# test implementation of progressbar in python\n",
    "\n",
    "class tqdm_wrapper(progress.I_ProgressBarTimed):\n",
    "    def __init__(self):\n",
    "        super().__init__()\n",
    "        \n",
    "    def callback_init(self,first,last,process_name=\"process\"):\n",
    "        self.first = first\n",
    "        self.tqdm = tqdm(total=last-first, desc=process_name, ncols = ncols)\n",
    "        \n",
    "    def callback_close(self, msg = \"done\"):\n",
    "        self.tqdm.set_postfix_str(\"[\" + msg + \"]\")\n",
    "        \n",
    "    def callback_set_progress(self,new_progress):\n",
    "        self.tqdm.update(new_progress - self.first - self.tqdm.n)\n",
    "        \n",
    "    def callback_set_postfix(self,postfix):\n",
    "        self.tqdm.set_postfix_str(\"[\" + postfix + \"]\")\n",
    "        \n",
    "    def callback_tick(self,increment = 1):\n",
    "        self.tqdm.update(increment)\n",
    "        \n",
    "    def callback_current(self):\n",
    "        self.tqdm.n"
   ]
  },
  {
   "cell_type": "code",
   "execution_count": null,
   "id": "98e768a2-5552-40aa-a33e-07185bacb8c8",
   "metadata": {},
   "outputs": [],
   "source": [
    "# timing for tqdm test implementations\n",
    "time_tqdm_wrapper = progress.test_loop(tqdm_wrapper(), N, t)\n",
    "time_tqdm_cpp     = progress.test_loop(progress.ProgressTqdm(tqdm(ncols=ncols)), N, t)\n",
    "\n",
    "sleep(0.1)\n",
    "#timing for text print implementations\n",
    "time_old_text    = progress.test_loop(progress.ConsoleProgressBar(), N, t)\n",
    "time_indicators   = progress.test_loop(progress.ProgressIndicator(), N, t)\n",
    "\n",
    "# reference (no progress (using if statement) and no indicator)\n",
    "print(\"no progress ...\")\n",
    "time_no_progress  = progress.test_loop(progress.NoIndicator(), N, t, False)\n",
    "print(\"no indicator ...\")\n",
    "time_no_indicator = progress.test_loop(progress.NoIndicator(), N, t)\n",
    "      \n",
    "print(\"done\")\n"
   ]
  },
  {
   "cell_type": "code",
   "execution_count": null,
   "id": "0cb30b67-17bd-4d8d-9aec-d993cffcc622",
   "metadata": {},
   "outputs": [],
   "source": [
    "print(\"time_no_progress:  {:.5f} ms\".format(time_no_progress))\n",
    "print(\"time_no_indicator: {:.5f} ms [ +{:.0f}% ]\".format(time_no_indicator,(time_no_indicator/time_no_progress)*100-100))\n",
    "print()\n",
    "print(\"time_tqdm_wrapper: {:.0f} ms [ +{:.0f}% ]\".format(time_tqdm_wrapper,(time_tqdm_wrapper/time_no_progress)*100-100))\n",
    "print(\"time_tqdm_cpp:     {:.0f} ms [ +{:.0f}% ]\".format(time_tqdm_cpp,(time_tqdm_cpp/time_no_progress)*100-100))\n",
    "print()\n",
    "print(\"time_old_text:     {:.0f} ms [ +{:.0f}% ]\".format(time_old_text,(time_old_text/time_no_progress)*100-100))\n",
    "print(\"time_indicators:   {:.0f} ms [ +{:.0f}% ]\".format(time_indicators,(time_indicators/time_no_progress)*100-100))"
   ]
  },
  {
   "cell_type": "code",
   "execution_count": null,
   "id": "d20507b1-99c9-4473-a046-ed88220ae992",
   "metadata": {
    "tags": []
   },
   "outputs": [],
   "source": [
    "%%timeit -r2 -n 2\n",
    "progress.test_loop(tqdm_wrapper(), N, t)"
   ]
  },
  {
   "cell_type": "code",
   "execution_count": null,
   "id": "c3ce4fbd-1230-4801-8f9b-4aed617e4518",
   "metadata": {},
   "outputs": [],
   "source": [
    "%%timeit -r3 -n 2\n",
    "progress.test_loop(progress.NoIndicator(), N, t,False)"
   ]
  },
  {
   "cell_type": "code",
   "execution_count": null,
   "id": "c513754e-7ba4-4b98-98e9-d2badf0f8c64",
   "metadata": {},
   "outputs": [],
   "source": [
    "%%timeit -r3 -n 2\n",
    "progress.test_loop(progress.NoIndicator(), N, t)"
   ]
  },
  {
   "cell_type": "code",
   "execution_count": null,
   "id": "852723fe-aed4-471b-94a9-a3e166b4e2cf",
   "metadata": {
    "tags": []
   },
   "outputs": [],
   "source": [
    "%%timeit -r3 -n 2\n",
    "progress.test_loop(progress.ProgressIndicator(), N, t)"
   ]
  },
  {
   "cell_type": "code",
   "execution_count": null,
   "id": "c815c85c-ecc3-4893-8aea-4b30a231be00",
   "metadata": {
    "tags": []
   },
   "outputs": [],
   "source": [
    "%%timeit -r3 -n 2\n",
    "progress.test_loop(tqdm_wrapper(), N, t)"
   ]
  },
  {
   "cell_type": "code",
   "execution_count": null,
   "id": "c39e9958-3889-4964-b3d1-a957c0d1095e",
   "metadata": {},
   "outputs": [],
   "source": []
  }
 ],
 "metadata": {
  "kernelspec": {
   "display_name": "Python 3 (ipykernel)",
   "language": "python",
   "name": "python3"
  },
  "language_info": {
   "codemirror_mode": {
    "name": "ipython",
    "version": 3
   },
   "file_extension": ".py",
   "mimetype": "text/x-python",
   "name": "python",
   "nbconvert_exporter": "python",
   "pygments_lexer": "ipython3",
   "version": "3.10.5"
  }
 },
 "nbformat": 4,
 "nbformat_minor": 5
}
