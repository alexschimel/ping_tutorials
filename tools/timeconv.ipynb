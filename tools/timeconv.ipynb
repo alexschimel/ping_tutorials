{
 "cells": [
  {
   "cell_type": "code",
   "execution_count": null,
   "id": "9f46fee5-7235-48a7-a273-c73ee37fe7d7",
   "metadata": {},
   "outputs": [],
   "source": [
    "import themachinethatgoesping.tools.interpolation as inter\n"
   ]
  },
  {
   "cell_type": "code",
   "execution_count": null,
   "id": "02c24786-480b-4290-9702-464daccfdf40",
   "metadata": {},
   "outputs": [],
   "source": [
    "#help(interpolation.NearestInterpolator)"
   ]
  },
  {
   "cell_type": "code",
   "execution_count": null,
   "id": "5120ef59-8204-42a0-ac72-99a91c20668d",
   "metadata": {},
   "outputs": [],
   "source": [
    "X = [-1,0,1,2]\n",
    "Y = [-1,0,1,2]"
   ]
  },
  {
   "cell_type": "code",
   "execution_count": null,
   "id": "d7c61ef4-1220-49fc-8d84-768eca0aa211",
   "metadata": {},
   "outputs": [],
   "source": [
    "nearest = inter.NearestInterpolator(X=X,Y=Y,extrapolation_mode = inter.fail)"
   ]
  },
  {
   "cell_type": "code",
   "execution_count": null,
   "id": "9d37745d-baad-49e0-9287-d614b985d505",
   "metadata": {},
   "outputs": [],
   "source": [
    "nearest.interpolate(5)"
   ]
  },
  {
   "cell_type": "code",
   "execution_count": null,
   "id": "ac0eddaa-2d38-4c88-b89f-71a9f0617b7e",
   "metadata": {},
   "outputs": [],
   "source": [
    "nearest.interpolate([5,0.5,-2])"
   ]
  },
  {
   "cell_type": "code",
   "execution_count": null,
   "id": "611e2e59-aac8-4ef7-8faf-e8376ae5e738",
   "metadata": {},
   "outputs": [],
   "source": []
  }
 ],
 "metadata": {
  "kernelspec": {
   "display_name": "Python 3 (ipykernel)",
   "language": "python",
   "name": "python3"
  },
  "language_info": {
   "codemirror_mode": {
    "name": "ipython",
    "version": 3
   },
   "file_extension": ".py",
   "mimetype": "text/x-python",
   "name": "python",
   "nbconvert_exporter": "python",
   "pygments_lexer": "ipython3",
   "version": "3.10.4"
  }
 },
 "nbformat": 4,
 "nbformat_minor": 5
}
