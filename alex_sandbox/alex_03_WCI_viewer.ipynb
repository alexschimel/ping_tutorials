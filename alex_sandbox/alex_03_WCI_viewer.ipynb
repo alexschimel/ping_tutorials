{
 "cells": [
  {
   "cell_type": "markdown",
   "metadata": {},
   "source": [
    "Valid for ping 0.28.1 (10/01/2025)\n",
    "\n",
    "## Water-Column Image (WCI) viewer widget"
   ]
  },
  {
   "cell_type": "code",
   "execution_count": 1,
   "metadata": {},
   "outputs": [],
   "source": [
    "%matplotlib widget\n",
    "\n",
    "import numpy as np\n",
    "import themachinethatgoesping as pingmachine\n",
    "from matplotlib import pyplot as plt\n",
    "from tqdm.auto import tqdm"
   ]
  },
  {
   "cell_type": "markdown",
   "metadata": {},
   "source": [
    "### 1. Load data"
   ]
  },
  {
   "cell_type": "code",
   "execution_count": 2,
   "metadata": {},
   "outputs": [
    {
     "name": "stdout",
     "output_type": "stream",
     "text": [
      "Found 8 files\n",
      "indexing files ⢀ 99% [00m:00s<00m:00s] [Found: 7463 datagrams in 8 files (258MB)]                                          \n",
      "Initializing ping interface ⡀ 75% [00m:00s<00m:00s] [Done]                                              \n"
     ]
    }
   ],
   "source": [
    "# data folder\n",
    "folder = r'C:\\Users\\Schimel_Alexandre\\Data\\MBES\\Kongsberg all\\EM2040\\KV-Meritaito_2024_EM2040_Sorvest-F-1-1-extracts-WCD'\n",
    "\n",
    "# find all Kongsberg files in the list of folders\n",
    "files = pingmachine.echosounders.index_functions.find_files(folder,['.all','.wcd'])\n",
    "files.sort()\n",
    "\n",
    "# create the file handler\n",
    "index_files = pingmachine.echosounders.index_functions.get_index_paths(file_paths=files)\n",
    "fileHandler = pingmachine.echosounders.kongsbergall.KongsbergAllFileHandler(files, index_paths=index_files)\n",
    "\n",
    "# get pings that contain WCD\n",
    "pings = pingmachine.pingprocessing.filter_pings.by_features(fileHandler.get_pings(),['watercolumn.amplitudes'])"
   ]
  },
  {
   "cell_type": "markdown",
   "metadata": {},
   "source": [
    "### 2. Start WCI viewer\n",
    "\n",
    "Built-in widget to view and explore water-column data"
   ]
  },
  {
   "cell_type": "code",
   "execution_count": 3,
   "metadata": {},
   "outputs": [
    {
     "data": {
      "application/vnd.jupyter.widget-view+json": {
       "model_id": "af6373ec261c42cfa3a53543c21a365f",
       "version_major": 2,
       "version_minor": 0
      },
      "text/plain": [
       "VBox(children=(Canvas(toolbar=Toolbar(toolitems=[('Home', 'Reset original view', 'home', 'home'), ('Back', 'Ba…"
      ]
     },
     "metadata": {},
     "output_type": "display_data"
    }
   ],
   "source": [
    "# check data with the WCI Viewer\n",
    "viewer = pingmachine.pingprocessing.widgets.WCIViewer(pings, name='WCI Viewer')"
   ]
  },
  {
   "cell_type": "markdown",
   "metadata": {},
   "source": [
    "Basic usage:\n",
    "* Switch display between beam-vs-sample view and wedge view with the `wci_render` dropdown menu\n",
    "* Swith xy aspect with the `aspect` dropdown menu. Choose between `auto` (stretch) or `equal` (equal x and y dimensions)\n",
    "* Change ping number with the `ping nr` slider\n",
    "* Click the `fix x/y` button to fix the x/y axis limits to the current view. Click on `unfix x/y` to revert to automatic axis limits\n",
    "* Change the variable displayed with the `wci value` dropdown menu\n",
    "\n",
    "Note: if you call multiple WCI viewers in a python notebook, make sure you give them different names"
   ]
  },
  {
   "cell_type": "markdown",
   "metadata": {},
   "source": [
    "### 3. Dual-head systems\n",
    "\n",
    "If your data come from dual-head systems, you may first want to group the data from the two heads, by ping numbers"
   ]
  },
  {
   "cell_type": "code",
   "execution_count": 4,
   "metadata": {},
   "outputs": [
    {
     "data": {
      "application/vnd.jupyter.widget-view+json": {
       "model_id": "75a4ebd1cfe74be787a481956b07b908",
       "version_major": 2,
       "version_minor": 0
      },
      "text/plain": [
       "VBox(children=(Canvas(toolbar=Toolbar(toolitems=[('Home', 'Reset original view', 'home', 'home'), ('Back', 'Ba…"
      ]
     },
     "metadata": {},
     "output_type": "display_data"
    }
   ],
   "source": [
    "grouped_pings = pingmachine.pingprocessing.group_pings.dual_head(pings)\n",
    "viewer2 = pingmachine.pingprocessing.widgets.WCIViewer(grouped_pings, name='WCI Viewer 2')"
   ]
  }
 ],
 "metadata": {
  "kernelspec": {
   "display_name": "ping",
   "language": "python",
   "name": "python3"
  },
  "language_info": {
   "codemirror_mode": {
    "name": "ipython",
    "version": 3
   },
   "file_extension": ".py",
   "mimetype": "text/x-python",
   "name": "python",
   "nbconvert_exporter": "python",
   "pygments_lexer": "ipython3",
   "version": "3.12.7"
  }
 },
 "nbformat": 4,
 "nbformat_minor": 2
}
