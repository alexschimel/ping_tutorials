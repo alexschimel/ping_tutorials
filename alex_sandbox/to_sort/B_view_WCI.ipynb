{
 "cells": [
  {
   "cell_type": "markdown",
   "metadata": {},
   "source": [
    "# Demo 02: View water column data\n",
    "\n",
    "## Introduction\n",
    "\n",
    "This Jupyter Notebook contains an introduction to viewing water column data using Ping.\n",
    "\n",
    "## Here you will learn\n",
    "\n",
    "- \n",
    "\n",
    "## Short version\n",
    "\n",
    "At the end of the notebook you will find the important parts of this notebook, compiled into a single cell\n",
    "\n",
    "\n",
    "## ---"
   ]
  },
  {
   "cell_type": "markdown",
   "metadata": {},
   "source": [
    "### First: Import the necessary modules"
   ]
  },
  {
   "cell_type": "code",
   "execution_count": 1,
   "metadata": {
    "notebookRunGroups": {
     "groupValue": "1"
    },
    "tags": []
   },
   "outputs": [],
   "source": [
    "# use widgets as matplotlib backend\n",
    "%matplotlib widget\n",
    "\n",
    "# imports\n",
    "from matplotlib import pyplot as plt\n",
    "import os\n",
    "import sys\n",
    "import numpy as np\n",
    "from collections import defaultdict\n",
    "from time import time\n",
    "from tqdm.auto import tqdm #progress bar, auto selects a backend based on the environment e.g. for a jupyter notebook it will use the widget version\n",
    "\n",
    "from typing import Union, Tuple\n",
    "\n",
    "import matplotlib as mpl\n",
    "import matplotlib.dates as mdates\n",
    "\n",
    "import datetime as dt\n",
    "\n",
    "# import the file object for opening kongsberg files\n",
    "# Note: function and library naming to be discussed\n",
    "from themachinethatgoesping.echosounders import simradraw,kongsbergall          # This is the filereader module for .all/.wcd files\n",
    "from themachinethatgoesping.echosounders import filetemplates      # This is the filereader module for .all/.wcd files\n",
    "from themachinethatgoesping.echosounders import pingtools          # This is the filereader module for .all/.wcd files\n",
    "from themachinethatgoesping.echosounders import index_functions # This is the module for creating and using indexes to speed up file initialization\n",
    "import themachinethatgoesping.tools as ptools                   # Some tools for working with ping (here we use timeconv for timestamp conversion)\n",
    "import themachinethatgoesping.algorithms as palgorithms                   # Some tools for working with ping (here we use timeconv for timestamp conversion)\n",
    "import themachinethatgoesping.navigation as pnav                   # Some tools for working with ping (here we use timeconv for timestamp conversion)\n",
    "\n",
    "import themachinethatgoesping.pingprocessing.watercolumn.make_image as mi\n",
    "import themachinethatgoesping.pingprocessing.watercolumn.helper.make_image_helper as mi_hlp\n",
    "\n",
    "from themachinethatgoesping.pingprocessing import filter_pings, overview, split_pings, group_pings\n",
    "from themachinethatgoesping.pingprocessing import watercolumn\n",
    "gp = palgorithms.geoprocessing\n",
    "import pandas as pd\n",
    "\n",
    "# simplify creating figures\n",
    "mpl.rcParams['figure.dpi'] = 100\n",
    "close_plots: bool = True\n",
    "\n",
    "def create_figure(name: str, return_ax: bool = True) -> Union[Tuple[plt.Figure, plt.Axes], plt.Figure]:\n",
    "    \"\"\"Helper function to create a figure with a given name that returns the figure and axis\n",
    "    \"\"\"\n",
    "    if close_plots:\n",
    "        plt.close(name)\n",
    "    fig = plt.figure(name)\n",
    "    fig.suptitle = name\n",
    "\n",
    "    if return_ax:\n",
    "        return fig, fig.subplots()\n",
    "    return fig\n",
    "\n",
    "def clear_memory():\n",
    "    import gc\n",
    "    gc.collect()\n",
    "    \n",
    "    import ctypes\n",
    "    libc = ctypes.CDLL(\"libc.so.6\") # clearing cache \n",
    "    libc.malloc_trim(0)"
   ]
  },
  {
   "cell_type": "code",
   "execution_count": 2,
   "metadata": {
    "notebookRunGroups": {
     "groupValue": "1"
    },
    "tags": []
   },
   "outputs": [],
   "source": [
    "from collections import OrderedDict\n",
    "\n",
    "class fake_tqdm(object):\n",
    "    def __init__(self, w_prg):\n",
    "        self.w_prg = w_prg\n",
    "        \n",
    "    def __call__(self, list_like):\n",
    "        self.list_like = list_like\n",
    "        self.list_iter = iter(list_like)\n",
    "        self.index = 0\n",
    "        self.total = len(list_like)\n",
    "        self.w_prg.max = self.total\n",
    "        self.w_prg.value = 0\n",
    "        return self\n",
    "        \n",
    "    def __iter__(self):\n",
    "        return self\n",
    "    \n",
    "    def __next__(self):\n",
    "        self.index += 1\n",
    "        self.w_prg.value = self.index\n",
    "        return next(self.list_iter)\n",
    "    \n",
    "    def __len__(self):\n",
    "        return self.total\n",
    "    \n",
    "    def update(self):\n",
    "        self.index += 1\n",
    "        next(self.list_iter)\n",
    "        self.w_prg.value = self.index\n",
    "        \n",
    "    def close(self):\n",
    "        pass"
   ]
  },
  {
   "cell_type": "markdown",
   "metadata": {},
   "source": [
    "### Find files to open\n",
    "\n",
    "This is a simple python loop to find .all and .wcd files in the specified directories"
   ]
  },
  {
   "cell_type": "code",
   "execution_count": 3,
   "metadata": {
    "notebookRunGroups": {
     "groupValue": "1"
    },
    "tags": []
   },
   "outputs": [
    {
     "name": "stdout",
     "output_type": "stream",
     "text": [
      "Found 122 files\n"
     ]
    },
    {
     "data": {
      "application/vnd.jupyter.widget-view+json": {
       "model_id": "f975d68c18124c31b9c83abe30a8bcea",
       "version_major": 2,
       "version_minor": 0
      },
      "text/plain": [
       " 19%|#8        | 23/122 [00:01<00:04, 22.48it/s]"
      ]
     },
     "metadata": {},
     "output_type": "display_data"
    },
    {
     "name": "stdout",
     "output_type": "stream",
     "text": [
      "FilePackageIndex: 192.38 'MB' / 0.45 %\n",
      "NavigationInterpolatorLatLon: 1654.93 'MB' / 3.84 %\n",
      "- Combined -: 1847.31 'MB' / 4.29 %\n",
      "- Source files -: 43059.28 'MB' / 100.0 %\n"
     ]
    }
   ],
   "source": [
    "# Define the folder(s) to search for Kongsberg files\n",
    "# Note: subdirectories will be searched as well\n",
    "folders = []\n",
    "#folders.append(\"./\")\n",
    "#folders.append(\"/home/users/data/koen campaign 2/\")\n",
    "folders.append(\"/home/data/turbeams/TURBEAMS 2023-12/\")\n",
    "\n",
    "# Initialize lists for storing file paths and names\n",
    "files = index_functions.find_files(folders, [\".all\",\"wcd\"])\n",
    "files.sort()\n",
    "\n",
    "file_cache_paths = index_functions.get_cache_file_paths(file_paths=files)\n",
    "\n",
    "index_functions.remove_name_from_cache(file_cache_paths, \"FilePackageCache<RuntimeParameters>\")\n",
    "index_functions.print_cache_file_statistics(file_cache_paths)"
   ]
  },
  {
   "cell_type": "markdown",
   "metadata": {},
   "source": [
    "## Open files\n"
   ]
  },
  {
   "cell_type": "code",
   "execution_count": null,
   "metadata": {
    "notebookRunGroups": {
     "groupValue": "1"
    },
    "tags": []
   },
   "outputs": [
    {
     "name": "stdout",
     "output_type": "stream",
     "text": [
      "indexing files ⠈ 5% [00m:00s<00m:04s] [..3_152823_Belgica.all (14/122)]                                 \r"
     ]
    },
    {
     "name": "stderr",
     "output_type": "stream",
     "text": [
      "WARNING: could not open file (/home/data/turbeams/TURBEAMS 2023-12/em2040/0001_20231213_093010_Belgica.wcd).\n",
      "Error message: 'failed mapping file: Invalid argument: iostream error'\n"
     ]
    },
    {
     "name": "stdout",
     "output_type": "stream",
     "text": [
      "indexing files ⠈ 72% [00m:01s<00m:00s] [..5_215941_Belgica.all (96/122)]                                 \r"
     ]
    },
    {
     "name": "stderr",
     "output_type": "stream",
     "text": [
      "WARNING: could not open file (/home/data/turbeams/TURBEAMS 2023-12/em2040/0039_20231215_175247_Belgica.wcd).\n",
      "Error message: 'failed mapping file: Invalid argument: iostream error'\n"
     ]
    },
    {
     "name": "stdout",
     "output_type": "stream",
     "text": [
      "indexing files ⠁ 99% [00m:02s<00m:00s] [Found: 7717334 datagrams in 122 files (43059MB)]                                                 \n",
      "Initializing navigation ⢀ 92% [00m:05s<00m:00s] [60/63]                    \n",
      "Initializing ping interface ⠐ 61% [00m:15s<00m:09s] [39/63]       \r"
     ]
    }
   ],
   "source": [
    "file_cache_paths = index_functions.get_cache_file_paths(file_paths=files)\n",
    "\n",
    "fm = kongsbergall.KongsbergAllFileHandler_mapped(files[:], file_cache_paths=file_cache_paths, init = True)"
   ]
  },
  {
   "cell_type": "code",
   "execution_count": null,
   "metadata": {},
   "outputs": [],
   "source": [
    "all_pings = fm.pings()\n",
    "all_pings = filter_pings.by_features(all_pings, [\"watercolumn\"])\n",
    "print(len(pings))"
   ]
  },
  {
   "cell_type": "code",
   "execution_count": null,
   "metadata": {
    "notebookRunGroups": {
     "groupValue": "1"
    },
    "tags": []
   },
   "outputs": [],
   "source": [
    "fig_wci, ax_wci = create_figure(\"wci\")"
   ]
  },
  {
   "cell_type": "code",
   "execution_count": null,
   "metadata": {
    "notebookRunGroups": {
     "groupValue": "2"
    },
    "tags": []
   },
   "outputs": [],
   "source": [
    "from ipywidgets import *\n",
    "import ipywidgets as ipw\n",
    "from time import time\n",
    "\n",
    "#pings, transducers = group_dual_pings(fm.pings().get_sorted_by_time())\n",
    "\n",
    "fig_wci.set_tight_layout(True)\n",
    "\n",
    "#@widgets.interact\n",
    "#@debounce(0.1)\n",
    "def update(w):  \n",
    "    try:\n",
    "        if w_protect_stack.value:\n",
    "            if w['owner'] != w_wci_stack:\n",
    "                if float(w_text_execution_time.value) > 0.5:\n",
    "                    w_wci_stack.value = w_wci_stack.value * 0.5 / float(w_text_execution_time.value)\n",
    "        if w_wci_stack.value > 1:\n",
    "            w_wci.step = int(w_wci_stack.value/2)\n",
    "        if w_wci_step.value > 0:\n",
    "            w_wci.step = w_wci_step.value\n",
    "    except Exception as e:\n",
    "        pass\n",
    "    \n",
    "    \n",
    "    w_text_num_total.value = str(int(w_text_num_total.value) +1)\n",
    "    w_text_num_active.value = str(int(w_text_num_active.value) +1)\n",
    "    \n",
    "    t = time()\n",
    "    global a, lax_wci, fig_wci, ping1, ping2, wci, wci1\n",
    "    a = w\n",
    "    #print(w)\n",
    "    wci_index = w_wci.value\n",
    "    wci_stack = w_wci_stack.value\n",
    "    wci_stack_step = w_wci_stack_step.value\n",
    "    cmin = w_cmin.value\n",
    "    cmax = w_cmax.value\n",
    "    aspect = w_aspect.value\n",
    "    hsize = w_hsize.value\n",
    "    heads = w_heads.value\n",
    "    interpolation = w_interpolation.value\n",
    "    maxz = w_z.value\n",
    "    from_bottom = w_from_bottom.value\n",
    "    threshold_white = w_threshold.value\n",
    "    linear_mean = w_linear_stack.value\n",
    "     \n",
    "    ping = all_pings[wci_index]\n",
    "    \n",
    "    wci_time.set_trait('value',ptools.timeconv.unixtime_to_datestring(ping.get_timestamp(),format='%d-%m-%Y %H:%M:%S'))\n",
    "    \n",
    "    if wci_stack > 1:\n",
    "        max_index = wci_index+wci_stack\n",
    "        if max_index > len(pings):\n",
    "            max_index = len(pings)\n",
    "        pings = []\n",
    "        for pp in pings[wci_index:max_index:wci_stack_step]:\n",
    "            for p in pp.values():\n",
    "                pings.append(p)\n",
    "                \n",
    "        #pings = pings[::2]\n",
    "    \n",
    "\n",
    "    try:\n",
    "        if wci_stack > 1:\n",
    "            wci,extent = mi.make_wci_stack(pings,hsize,progress_bar=progress_bar,linear_mean=linear_mean,from_bottom_xyz=from_bottom, compute_av=w_av.value)\n",
    "        else:\n",
    "            if heads == 'split_dual_rect':\n",
    "                if w_av.value:\n",
    "                    wci = ping.watercolumn.get_av()\n",
    "                else:\n",
    "                    wci = ping1.watercolumn.get_amplitudes()\n",
    "                extent = [0, ping.watercolumn.get_number_of_beams(),0, ping.watercolumn.get_number_of_samples_per_beam()[0]]\n",
    "            else:\n",
    "                wci,extent = mi.make_wci(ping,hsize,from_bottom_xyz=from_bottom)\n",
    "            \n",
    "        ax_wci.clear()\n",
    "        if threshold_white:\n",
    "            wci[wci < cmin] = np.nan\n",
    "            \n",
    "        mapable = ax_wci.imshow(wci.transpose(),aspect=aspect, extent = extent, cmap='YlGnBu_r',vmin=cmin,vmax=cmax, interpolation=interpolation)\n",
    "        \n",
    "        if not maxz == -1:\n",
    "            ax_wci.set_ylim(maxz,0)\n",
    "                               \n",
    "        w_text_num_active.value = str(int(w_text_num_active.value) -1)\n",
    "        w_text_execution_time.value = str(round(time()-t,3))\n",
    "            \n",
    "        \n",
    "    except Exception as e:\n",
    "        print(e)\n",
    "        #pass\n",
    "        raise (e)\n",
    "\n",
    "\n",
    "w_z = FloatSlider(min=-1, max=50, step=1, value = -1)\n",
    "w_cmin = FloatSlider(min=-150, max=150, step=5, value = -90)\n",
    "w_cmax = FloatSlider(min=-150, max=150, step=5, value = -20)\n",
    "w_wci = IntSlider(min=0, max=len(pings)-1, step=1, value =0)\n",
    "w_hsize = IntSlider(min=1, max=2048, step=1, value = 1024)\n",
    "\n",
    "w_from_bottom = Checkbox(description=\"from bottom\", value=False)\n",
    "w_linear_stack = Checkbox(description=\"linear stack\", value=True)\n",
    "w_protect_stack = Checkbox(description=\"protect stacking time\", value=False)\n",
    "w_threshold = Checkbox(description=\"threshhold white\", value=False)\n",
    "w_av = Checkbox(description=\"compute AV\", value=True)\n",
    "\n",
    "w_aspect = Dropdown(options=['auto', 'equal'], value='equal')\n",
    "w_heads = Dropdown(options=['blend_dual', 'blend_dual_inverse', 'split_dual', 'split_dual_rect'], value='blend_dual')\n",
    "w_interpolation = Dropdown(options=['antialiased', 'none', 'nearest', 'bilinear', 'bicubic', 'spline16', 'spline36', 'hanning', 'hamming', 'hermite', 'kaiser', 'quadric', 'catrom', 'gaussian', 'bessel', 'mitchell', 'sinc', 'lanczos', 'blackman'], value='nearest')\n",
    "w_wci_stack = IntText(\n",
    "    value=1,\n",
    "    description='stack:',\n",
    "    disabled=False\n",
    ")\n",
    "w_wci_stack_step = IntText(\n",
    "    value=1,\n",
    "    description='stack step:',\n",
    "    disabled=False\n",
    ")\n",
    "w_wci_step = IntText(\n",
    "    value=1,\n",
    "    description='ping step:',\n",
    "    disabled=False\n",
    ")\n",
    "\n",
    "w_text_num_total = Text(\n",
    "    value='0',\n",
    "    placeholder='0',\n",
    "    description='Total executions:',\n",
    "    disabled=False   \n",
    ")\n",
    "w_text_num_active = Text(\n",
    "    value='0',\n",
    "    placeholder='0',\n",
    "    description='Active executions:',\n",
    "    disabled=False   \n",
    ")\n",
    "w_text_execution_time = Text(\n",
    "    value='0',\n",
    "    placeholder='0',\n",
    "    description='Time of last execution:',\n",
    "    disabled=False   \n",
    ")\n",
    "w_progress = IntProgress(\n",
    "    value=0,\n",
    "    min=0,\n",
    "    max=10,\n",
    "    step=1,\n",
    "    description='Stacking:',\n",
    "    bar_style='', # 'success', 'info', 'warning', 'danger' or ''\n",
    "    orientation='horizontal'\n",
    ")\n",
    "progress_bar = fake_tqdm(w_progress)\n",
    "\n",
    "wci_time = ipw.Label()\n",
    "\n",
    "box_ping_slider = HBox([w_wci, wci_time])\n",
    "box_text = HBox([w_text_num_total,w_text_num_active,w_text_execution_time])\n",
    "box_options = HBox([w_aspect,w_heads,w_interpolation,w_wci_stack,w_wci_stack_step,w_wci_step])\n",
    "box_check = HBox([w_from_bottom,w_linear_stack,w_protect_stack, w_threshold, w_av])\n",
    "\n",
    "w_z.observe(update, names=['value'])\n",
    "w_cmin.observe(update, names=['value'])\n",
    "w_cmax.observe(update, names=['value'])\n",
    "w_wci.observe(update, names=['value'])\n",
    "w_wci_stack.observe(update, names=['value'])\n",
    "w_wci_stack_step.observe(update, names=['value'])\n",
    "w_wci_step.observe(update, names=['value'])\n",
    "w_hsize.observe(update, names=['value'])\n",
    "w_aspect.observe(update, names=['value'])\n",
    "w_from_bottom.observe(update, names=['value'])\n",
    "w_threshold.observe(update, names=['value'])\n",
    "w_av.observe(update, names=['value'])\n",
    "w_linear_stack.observe(update, names=['value'])\n",
    "w_heads.observe(update, names=['value'])\n",
    "w_interpolation.observe(update, names=['value'])\n",
    "\n",
    "\n",
    "update(0)\n",
    "display(fig_wci.canvas,w_progress, box_text, box_options, box_check, w_z, w_cmin,w_cmax,box_ping_slider,w_hsize)"
   ]
  },
  {
   "cell_type": "code",
   "execution_count": null,
   "metadata": {},
   "outputs": [],
   "source": [
    "pings"
   ]
  },
  {
   "cell_type": "code",
   "execution_count": null,
   "metadata": {},
   "outputs": [],
   "source": []
  },
  {
   "cell_type": "code",
   "execution_count": null,
   "metadata": {},
   "outputs": [],
   "source": []
  },
  {
   "cell_type": "code",
   "execution_count": null,
   "metadata": {},
   "outputs": [],
   "source": []
  },
  {
   "cell_type": "code",
   "execution_count": null,
   "metadata": {},
   "outputs": [],
   "source": []
  },
  {
   "cell_type": "code",
   "execution_count": null,
   "metadata": {},
   "outputs": [],
   "source": []
  },
  {
   "cell_type": "code",
   "execution_count": null,
   "metadata": {},
   "outputs": [],
   "source": []
  }
 ],
 "metadata": {
  "kernelspec": {
   "display_name": "Python 3 (ipykernel)",
   "language": "python",
   "name": "python3"
  },
  "language_info": {
   "codemirror_mode": {
    "name": "ipython",
    "version": 3
   },
   "file_extension": ".py",
   "mimetype": "text/x-python",
   "name": "python",
   "nbconvert_exporter": "python",
   "pygments_lexer": "ipython3",
   "version": "3.12.1"
  },
  "widgets": {
   "application/vnd.jupyter.widget-state+json": {
    "state": {
     "1028c490b2c8460a9e9d44af524813f7": {
      "model_module": "@jupyter-widgets/controls",
      "model_module_version": "2.0.0",
      "model_name": "HBoxModel",
      "state": {
       "children": [
        "IPY_MODEL_edfc8938cec7415f80a2215ddc77919b",
        "IPY_MODEL_3ba2509764f44d9e9051acabcbb74c10",
        "IPY_MODEL_f54c95e1c3c346059884c3005540480e"
       ],
       "layout": "IPY_MODEL_668ce640b58f49c99302739b9577046d"
      }
     },
     "1044044358684dc595be16085d4c2eb2": {
      "model_module": "@jupyter-widgets/controls",
      "model_module_version": "2.0.0",
      "model_name": "HTMLStyleModel",
      "state": {
       "description_width": "",
       "font_size": null,
       "text_color": null
      }
     },
     "1652dd80050240abaf1954d0ea9e6e77": {
      "model_module": "@jupyter-widgets/controls",
      "model_module_version": "2.0.0",
      "model_name": "HTMLModel",
      "state": {
       "layout": "IPY_MODEL_448eba7231fd48d69f0bb174ea01c438",
       "style": "IPY_MODEL_77f29d91875b4df59bb2541fab50f593",
       "value": " 122/122 [00:00&lt;00:00, 45529.41it/s]"
      }
     },
     "1f8c393fa2a742b2a0ee251d3ae0fafa": {
      "model_module": "@jupyter-widgets/base",
      "model_module_version": "2.0.0",
      "model_name": "LayoutModel",
      "state": {}
     },
     "334066776c3d4014a2855cb98d4ab89c": {
      "model_module": "@jupyter-widgets/controls",
      "model_module_version": "2.0.0",
      "model_name": "FloatProgressModel",
      "state": {
       "bar_style": "success",
       "layout": "IPY_MODEL_1f8c393fa2a742b2a0ee251d3ae0fafa",
       "max": 122,
       "style": "IPY_MODEL_d3df5b3fa4024cc7b13acab90b1dfffa",
       "value": 122
      }
     },
     "38c9869f992f428e88130c3f8ba7fc40": {
      "model_module": "@jupyter-widgets/base",
      "model_module_version": "2.0.0",
      "model_name": "LayoutModel",
      "state": {}
     },
     "3ba2509764f44d9e9051acabcbb74c10": {
      "model_module": "@jupyter-widgets/controls",
      "model_module_version": "2.0.0",
      "model_name": "FloatProgressModel",
      "state": {
       "bar_style": "success",
       "layout": "IPY_MODEL_d8846bd6dc90412583a8b78841040f54",
       "max": 122,
       "style": "IPY_MODEL_7609fb0834a6481b993a0a26faf34986",
       "value": 122
      }
     },
     "3c007e9a3a0349b49f87048914a7f1ba": {
      "model_module": "@jupyter-widgets/controls",
      "model_module_version": "2.0.0",
      "model_name": "HTMLStyleModel",
      "state": {
       "description_width": "",
       "font_size": null,
       "text_color": null
      }
     },
     "43e0f105f98246cfbd49926826db92ef": {
      "model_module": "@jupyter-widgets/base",
      "model_module_version": "2.0.0",
      "model_name": "LayoutModel",
      "state": {}
     },
     "448eba7231fd48d69f0bb174ea01c438": {
      "model_module": "@jupyter-widgets/base",
      "model_module_version": "2.0.0",
      "model_name": "LayoutModel",
      "state": {}
     },
     "504e3e8b242f49d4990be1be635aba6a": {
      "model_module": "@jupyter-widgets/base",
      "model_module_version": "2.0.0",
      "model_name": "LayoutModel",
      "state": {}
     },
     "54e2abfee22b410db1fe27218fae0f73": {
      "model_module": "@jupyter-widgets/controls",
      "model_module_version": "2.0.0",
      "model_name": "HTMLStyleModel",
      "state": {
       "description_width": "",
       "font_size": null,
       "text_color": null
      }
     },
     "56db928d800a4756a7e6a33879b02a1c": {
      "model_module": "@jupyter-widgets/controls",
      "model_module_version": "2.0.0",
      "model_name": "ProgressStyleModel",
      "state": {
       "description_width": ""
      }
     },
     "6027b8e1eb7049a9bb1fb7a10f0165f8": {
      "model_module": "@jupyter-widgets/base",
      "model_module_version": "2.0.0",
      "model_name": "LayoutModel",
      "state": {}
     },
     "61b955b307204f32873c8f5b3b3e8412": {
      "model_module": "@jupyter-widgets/controls",
      "model_module_version": "2.0.0",
      "model_name": "HTMLStyleModel",
      "state": {
       "description_width": "",
       "font_size": null,
       "text_color": null
      }
     },
     "668ce640b58f49c99302739b9577046d": {
      "model_module": "@jupyter-widgets/base",
      "model_module_version": "2.0.0",
      "model_name": "LayoutModel",
      "state": {}
     },
     "7609fb0834a6481b993a0a26faf34986": {
      "model_module": "@jupyter-widgets/controls",
      "model_module_version": "2.0.0",
      "model_name": "ProgressStyleModel",
      "state": {
       "description_width": ""
      }
     },
     "76a0f79d1aa346f8aa3cf23de029e721": {
      "model_module": "@jupyter-widgets/controls",
      "model_module_version": "2.0.0",
      "model_name": "HBoxModel",
      "state": {
       "children": [
        "IPY_MODEL_ff5813216dc24be3ad619c86534924fd",
        "IPY_MODEL_334066776c3d4014a2855cb98d4ab89c",
        "IPY_MODEL_1652dd80050240abaf1954d0ea9e6e77"
       ],
       "layout": "IPY_MODEL_8dbec58c80d54048968e4cd43c6ac359"
      }
     },
     "77f29d91875b4df59bb2541fab50f593": {
      "model_module": "@jupyter-widgets/controls",
      "model_module_version": "2.0.0",
      "model_name": "HTMLStyleModel",
      "state": {
       "description_width": "",
       "font_size": null,
       "text_color": null
      }
     },
     "7e41b73d45dd41799b83708174a32f22": {
      "model_module": "@jupyter-widgets/base",
      "model_module_version": "2.0.0",
      "model_name": "LayoutModel",
      "state": {}
     },
     "8dbec58c80d54048968e4cd43c6ac359": {
      "model_module": "@jupyter-widgets/base",
      "model_module_version": "2.0.0",
      "model_name": "LayoutModel",
      "state": {}
     },
     "8f113d8dedf74ecd8a311b9212c39e84": {
      "model_module": "@jupyter-widgets/controls",
      "model_module_version": "2.0.0",
      "model_name": "FloatProgressModel",
      "state": {
       "bar_style": "success",
       "layout": "IPY_MODEL_df038ab01336478e834aae9dc5959393",
       "max": 122,
       "style": "IPY_MODEL_56db928d800a4756a7e6a33879b02a1c",
       "value": 122
      }
     },
     "a31e250b3ad54e378a4be9eeae2f8838": {
      "model_module": "@jupyter-widgets/base",
      "model_module_version": "2.0.0",
      "model_name": "LayoutModel",
      "state": {}
     },
     "cda9b9168c3146e5906375e1acc09ff9": {
      "model_module": "@jupyter-widgets/controls",
      "model_module_version": "2.0.0",
      "model_name": "HTMLModel",
      "state": {
       "layout": "IPY_MODEL_43e0f105f98246cfbd49926826db92ef",
       "style": "IPY_MODEL_3c007e9a3a0349b49f87048914a7f1ba",
       "value": " 122/122 [00:04&lt;00:00, 27.95it/s]"
      }
     },
     "d3df5b3fa4024cc7b13acab90b1dfffa": {
      "model_module": "@jupyter-widgets/controls",
      "model_module_version": "2.0.0",
      "model_name": "ProgressStyleModel",
      "state": {
       "description_width": ""
      }
     },
     "d8846bd6dc90412583a8b78841040f54": {
      "model_module": "@jupyter-widgets/base",
      "model_module_version": "2.0.0",
      "model_name": "LayoutModel",
      "state": {}
     },
     "df038ab01336478e834aae9dc5959393": {
      "model_module": "@jupyter-widgets/base",
      "model_module_version": "2.0.0",
      "model_name": "LayoutModel",
      "state": {}
     },
     "e49eb47be0d74198b68477d50b179deb": {
      "model_module": "@jupyter-widgets/controls",
      "model_module_version": "2.0.0",
      "model_name": "HTMLModel",
      "state": {
       "layout": "IPY_MODEL_a31e250b3ad54e378a4be9eeae2f8838",
       "style": "IPY_MODEL_faa514e286414609af9666f7965dd5a2",
       "value": "100%"
      }
     },
     "edfc8938cec7415f80a2215ddc77919b": {
      "model_module": "@jupyter-widgets/controls",
      "model_module_version": "2.0.0",
      "model_name": "HTMLModel",
      "state": {
       "layout": "IPY_MODEL_6027b8e1eb7049a9bb1fb7a10f0165f8",
       "style": "IPY_MODEL_61b955b307204f32873c8f5b3b3e8412",
       "value": "100%"
      }
     },
     "f54c95e1c3c346059884c3005540480e": {
      "model_module": "@jupyter-widgets/controls",
      "model_module_version": "2.0.0",
      "model_name": "HTMLModel",
      "state": {
       "layout": "IPY_MODEL_7e41b73d45dd41799b83708174a32f22",
       "style": "IPY_MODEL_54e2abfee22b410db1fe27218fae0f73",
       "value": " 122/122 [00:00&lt;00:00, 142.68it/s]"
      }
     },
     "f975d68c18124c31b9c83abe30a8bcea": {
      "model_module": "@jupyter-widgets/controls",
      "model_module_version": "2.0.0",
      "model_name": "HBoxModel",
      "state": {
       "children": [
        "IPY_MODEL_e49eb47be0d74198b68477d50b179deb",
        "IPY_MODEL_8f113d8dedf74ecd8a311b9212c39e84",
        "IPY_MODEL_cda9b9168c3146e5906375e1acc09ff9"
       ],
       "layout": "IPY_MODEL_504e3e8b242f49d4990be1be635aba6a"
      }
     },
     "faa514e286414609af9666f7965dd5a2": {
      "model_module": "@jupyter-widgets/controls",
      "model_module_version": "2.0.0",
      "model_name": "HTMLStyleModel",
      "state": {
       "description_width": "",
       "font_size": null,
       "text_color": null
      }
     },
     "ff5813216dc24be3ad619c86534924fd": {
      "model_module": "@jupyter-widgets/controls",
      "model_module_version": "2.0.0",
      "model_name": "HTMLModel",
      "state": {
       "layout": "IPY_MODEL_38c9869f992f428e88130c3f8ba7fc40",
       "style": "IPY_MODEL_1044044358684dc595be16085d4c2eb2",
       "value": "removing duplicates: 100%"
      }
     }
    },
    "version_major": 2,
    "version_minor": 0
   }
  }
 },
 "nbformat": 4,
 "nbformat_minor": 4
}
