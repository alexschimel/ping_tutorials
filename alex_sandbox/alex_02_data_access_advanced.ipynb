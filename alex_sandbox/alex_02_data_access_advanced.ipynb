{
 "cells": [
  {
   "cell_type": "markdown",
   "metadata": {},
   "source": [
    "Valid for ping 0.25 (26/10/2024)\n",
    "\n",
    "## Data access advanced concepts"
   ]
  },
  {
   "cell_type": "code",
   "execution_count": 1,
   "metadata": {},
   "outputs": [],
   "source": [
    "%matplotlib widget\n",
    "\n",
    "import numpy as np\n",
    "import themachinethatgoesping as pingmachine\n",
    "from matplotlib import pyplot as plt\n",
    "from tqdm.auto import tqdm"
   ]
  },
  {
   "cell_type": "markdown",
   "metadata": {},
   "source": [
    "### 1. Advanced use of find_files()"
   ]
  },
  {
   "cell_type": "code",
   "execution_count": 2,
   "metadata": {},
   "outputs": [
    {
     "name": "stdout",
     "output_type": "stream",
     "text": [
      "Found 474 files\n",
      "474\n"
     ]
    }
   ],
   "source": [
    "# find_files() searches the input folder recursively (aka, including subfolders)\n",
    "folder = r'C:\\Users\\Schimel_Alexandre\\Data\\MBES\\Kongsberg all'\n",
    "files = pingmachine.echosounders.index_functions.find_files(folder, [\".all\",\"wcd\"])\n",
    "print(len(files))"
   ]
  },
  {
   "cell_type": "code",
   "execution_count": 3,
   "metadata": {},
   "outputs": [
    {
     "name": "stdout",
     "output_type": "stream",
     "text": [
      "Found 327 files\n",
      "327\n"
     ]
    }
   ],
   "source": [
    "# find_files() can use a list of folders as input\n",
    "folders = []\n",
    "folders.append(r'C:\\Users\\Schimel_Alexandre\\Data\\MBES\\Kongsberg all\\EM302')\n",
    "folders.append(r'C:\\Users\\Schimel_Alexandre\\Data\\MBES\\Kongsberg all\\EM710')\n",
    "folders.append(r'C:\\Users\\Schimel_Alexandre\\Data\\MBES\\Kongsberg all\\EM2040')\n",
    "files = pingmachine.echosounders.index_functions.find_files(folders, [\".all\",\"wcd\"])\n",
    "print(len(files))"
   ]
  },
  {
   "cell_type": "code",
   "execution_count": 4,
   "metadata": {},
   "outputs": [],
   "source": [
    "# pairs of files (e.g. .all and .wcd) don't have to be in the same folders. \n",
    "# Remember they are only paired later, by a File Handler"
   ]
  },
  {
   "cell_type": "markdown",
   "metadata": {},
   "source": [
    "### 2. Advanced use of File Handler"
   ]
  },
  {
   "cell_type": "code",
   "execution_count": 5,
   "metadata": {},
   "outputs": [
    {
     "name": "stdout",
     "output_type": "stream",
     "text": [
      "Found 8 files\n",
      "indexing files ⠐ 100% [00m:00s<00m:00s] [.._20240427_083531.all (1/8)]                              \n",
      "indexing files ⠠ 100% [00m:00s<00m:00s] [.._20240430_140406.wcd (8/8)]                              \n",
      "indexing files ⢀ 100% [00m:00s<00m:00s] [Found: 7463 datagrams in 8 files (258MB)]                                          \n",
      "Initializing ping interface ⠄ 75% [00m:00s<00m:00s] [Done]                                              \n"
     ]
    }
   ],
   "source": [
    "# Create a File Handler to access the raw data files\n",
    "# TO DO - modify to talk about caching\n",
    "folder = r'C:\\Users\\Schimel_Alexandre\\Data\\MBES\\Kongsberg all\\EM2040\\KV-Meritaito_2024_EM2040_Sorvest-F-1-1-extracts-WCD'\n",
    "files = pingmachine.echosounders.index_functions.find_files(folder, [\".all\",\"wcd\"])\n",
    "fileHandler = pingmachine.echosounders.kongsbergall.KongsbergAllFileHandler(files)"
   ]
  },
  {
   "cell_type": "markdown",
   "metadata": {},
   "source": [
    "### 3. Advanced access of Pings"
   ]
  },
  {
   "cell_type": "code",
   "execution_count": 6,
   "metadata": {},
   "outputs": [
    {
     "data": {
      "text/plain": [
       "themachinethatgoesping.echosounders_cppy.kongsbergall.filetypes.KongsbergAllPing"
      ]
     },
     "execution_count": 6,
     "metadata": {},
     "output_type": "execute_result"
    }
   ],
   "source": [
    "# Access an individual ping in a Ping Container by indexing\n",
    "pingContainer = fileHandler.get_pings()\n",
    "ping42 = pingContainer[42]\n",
    "type(ping42)"
   ]
  },
  {
   "cell_type": "code",
   "execution_count": 10,
   "metadata": {},
   "outputs": [
    {
     "data": {
      "text/plain": [
       "themachinethatgoesping.echosounders_cppy.kongsbergall.filedatacontainers.KongsbergAllPingContainer"
      ]
     },
     "execution_count": 10,
     "metadata": {},
     "output_type": "execute_result"
    }
   ],
   "source": [
    "#  This approach only works for a single ping. If you index a Ping Container for multiple pings, you will get a (smaller) Ping Container object\n",
    "pings0To42 = pingContainer[0:42]\n",
    "type(pings0To42)"
   ]
  },
  {
   "cell_type": "code",
   "execution_count": 8,
   "metadata": {},
   "outputs": [
    {
     "name": "stdout",
     "output_type": "stream",
     "text": [
      "pings0To42 is now a <class 'list'> where each element is a <class 'themachinethatgoesping.echosounders_cppy.kongsbergall.filetypes.KongsbergAllPing'>\n"
     ]
    }
   ],
   "source": [
    "# If you want a list of Ping objects, you need to loop over each element of the Ping Container\n",
    "pings0To42 = []\n",
    "for i in range(42):\n",
    "    pings0To42.append(pingContainer[i])\n",
    "print(f\"pings0To42 is now a {type(pings0To42)} where each element is a {type(pings0To42[0])}\")"
   ]
  },
  {
   "cell_type": "code",
   "execution_count": 11,
   "metadata": {},
   "outputs": [
    {
     "name": "stdout",
     "output_type": "stream",
     "text": [
      "pingsWithWC is a <class 'list'> where each element is a <class 'themachinethatgoesping.echosounders_cppy.kongsbergall.filetypes.KongsbergAllPing'>\n"
     ]
    }
   ],
   "source": [
    "# But you can also directly create lists of pings selected from a Ping Container by filtering for a specific critiera, for example pings containing watercolumn data\n",
    "pingsWithWC = pingmachine.pingprocessing.filter_pings.by_features(pingContainer,['watercolumn.amplitudes'])\n",
    "print(f\"pingsWithWC is a {type(pingsWithWC)} where each element is a {type(pingsWithWC[0])}\")"
   ]
  }
 ],
 "metadata": {
  "kernelspec": {
   "display_name": "ping",
   "language": "python",
   "name": "python3"
  },
  "language_info": {
   "codemirror_mode": {
    "name": "ipython",
    "version": 3
   },
   "file_extension": ".py",
   "mimetype": "text/x-python",
   "name": "python",
   "nbconvert_exporter": "python",
   "pygments_lexer": "ipython3",
   "version": "3.12.7"
  }
 },
 "nbformat": 4,
 "nbformat_minor": 2
}
