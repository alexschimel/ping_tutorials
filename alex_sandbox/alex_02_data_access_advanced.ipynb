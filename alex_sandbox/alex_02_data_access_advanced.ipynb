{
 "cells": [
  {
   "cell_type": "markdown",
   "metadata": {},
   "source": [
    "Valid for ping 0.25 (26/10/2024)\n",
    "\n",
    "## Data access advanced concepts"
   ]
  },
  {
   "cell_type": "markdown",
   "metadata": {},
   "source": [
    "### Load data"
   ]
  },
  {
   "cell_type": "code",
   "execution_count": 9,
   "metadata": {},
   "outputs": [
    {
     "name": "stdout",
     "output_type": "stream",
     "text": [
      "Found 8 files\n"
     ]
    }
   ],
   "source": [
    "%matplotlib widget\n",
    "\n",
    "import numpy as np\n",
    "import themachinethatgoesping as pingmachine\n",
    "from matplotlib import pyplot as plt\n",
    "from tqdm.auto import tqdm\n",
    "\n",
    "# List files\n",
    "folders = r'C:\\Users\\Schimel_Alexandre\\Data\\MBES\\Kongsberg all\\EM2040\\KV-Meritaito_2024_EM2040_Sorvest-F-1-1-extracts-WCD'\n",
    "files = pingmachine.echosounders.index_functions.find_files(folders, [\".all\",\"wcd\"])"
   ]
  },
  {
   "cell_type": "markdown",
   "metadata": {},
   "source": [
    "### Advanced use of File Handler"
   ]
  },
  {
   "cell_type": "code",
   "execution_count": 10,
   "metadata": {},
   "outputs": [
    {
     "name": "stdout",
     "output_type": "stream",
     "text": [
      "indexing files ⠐ 100% [00m:00s<00m:00s] [.._20240427_083531.all (1/8)]                              \n",
      "indexing files ⠠ 100% [00m:00s<00m:00s] [.._20240430_140406.wcd (8/8)]                              \n",
      "indexing files ⢀ 100% [00m:00s<00m:00s] [Found: 7463 datagrams in 8 files (258MB)]                                          \n",
      "Initializing ping interface ⠄ 75% [00m:00s<00m:00s] [Done]                                              \n"
     ]
    }
   ],
   "source": [
    "# Create a File Handler to access the raw data files\n",
    "# TO DO - modify to talk about caching\n",
    "fileHandler = pingmachine.echosounders.kongsbergall.KongsbergAllFileHandler(files)"
   ]
  },
  {
   "cell_type": "markdown",
   "metadata": {},
   "source": [
    "### Advanced access of Pings"
   ]
  },
  {
   "cell_type": "code",
   "execution_count": 11,
   "metadata": {},
   "outputs": [
    {
     "data": {
      "text/plain": [
       "themachinethatgoesping.echosounders_cppy.kongsbergall.filetypes.KongsbergAllPing"
      ]
     },
     "execution_count": 11,
     "metadata": {},
     "output_type": "execute_result"
    }
   ],
   "source": [
    "# We saw before that you access an individual ping in a Ping Container by indexing\n",
    "pingContainer = fileHandler.get_pings()\n",
    "ping42 = pingContainer[42]\n",
    "type(ping42)"
   ]
  },
  {
   "cell_type": "code",
   "execution_count": 12,
   "metadata": {},
   "outputs": [
    {
     "name": "stdout",
     "output_type": "stream",
     "text": [
      "pings0To42 is a <class 'themachinethatgoesping.echosounders_cppy.kongsbergall.filedatacontainers.KongsbergAllPingContainer'>\n"
     ]
    }
   ],
   "source": [
    "#  This approach only works for a single ping. If you index a Ping Container for multiple pings, you will get a (smaller) Ping Container object\n",
    "pings0To42 = pingContainer[0:42]\n",
    "print(f\"pings0To42 is a {type(pings0To42)}\")"
   ]
  },
  {
   "cell_type": "code",
   "execution_count": 13,
   "metadata": {},
   "outputs": [
    {
     "name": "stdout",
     "output_type": "stream",
     "text": [
      "pings0To42 is now a <class 'list'> where each element is a <class 'themachinethatgoesping.echosounders_cppy.kongsbergall.filetypes.KongsbergAllPing'>\n"
     ]
    }
   ],
   "source": [
    "# If you want a list of Ping objects, you need to loop over the Ping Container\n",
    "pings0To42 = []\n",
    "for i in range(42):\n",
    "    pings0To42.append(pingContainer[i])\n",
    "print(f\"pings0To42 is now a {type(pings0To42)} where each element is a {type(pings0To42[0])}\")"
   ]
  },
  {
   "cell_type": "code",
   "execution_count": 14,
   "metadata": {},
   "outputs": [
    {
     "name": "stdout",
     "output_type": "stream",
     "text": [
      "pingsWithWC is a <class 'list'> where each element is a <class 'themachinethatgoesping.echosounders_cppy.kongsbergall.filetypes.KongsbergAllPing'>\n"
     ]
    }
   ],
   "source": [
    "# But you can also create lists of pings selected from a Ping Container by filtering for a specific critiera, for example pings containing watercolumn data\n",
    "pingsWithWC = pingmachine.pingprocessing.filter_pings.by_features(pingContainer,['watercolumn.amplitudes'])\n",
    "\n",
    "print(f\"pingsWithWC is a {type(pingsWithWC)} where each element is a {type(pingsWithWC[0])}\")"
   ]
  }
 ],
 "metadata": {
  "kernelspec": {
   "display_name": "ping",
   "language": "python",
   "name": "python3"
  },
  "language_info": {
   "codemirror_mode": {
    "name": "ipython",
    "version": 3
   },
   "file_extension": ".py",
   "mimetype": "text/x-python",
   "name": "python",
   "nbconvert_exporter": "python",
   "pygments_lexer": "ipython3",
   "version": "3.12.7"
  }
 },
 "nbformat": 4,
 "nbformat_minor": 2
}
