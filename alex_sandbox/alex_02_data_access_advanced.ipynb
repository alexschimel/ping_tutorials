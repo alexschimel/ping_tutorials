{
 "cells": [
  {
   "cell_type": "markdown",
   "metadata": {},
   "source": [
    "Valid for ping 0.25 (26/10/2024)\n",
    "\n",
    "## Data access advanced concepts"
   ]
  },
  {
   "cell_type": "code",
   "execution_count": 2,
   "metadata": {},
   "outputs": [],
   "source": [
    "%matplotlib widget\n",
    "import numpy as np\n",
    "import themachinethatgoesping as pingmachine\n",
    "import time\n",
    "from matplotlib import pyplot as plt\n",
    "from tqdm.auto import tqdm"
   ]
  },
  {
   "cell_type": "markdown",
   "metadata": {},
   "source": [
    "### 1. Advanced use of find_files()"
   ]
  },
  {
   "cell_type": "code",
   "execution_count": 3,
   "metadata": {},
   "outputs": [
    {
     "name": "stdout",
     "output_type": "stream",
     "text": [
      "Found 476 files\n",
      "476\n"
     ]
    }
   ],
   "source": [
    "# find_files() searches the input folder recursively (aka, including subfolders)\n",
    "folder = r'C:\\Users\\Schimel_Alexandre\\Data\\MBES\\Kongsberg all'\n",
    "files = pingmachine.echosounders.index_functions.find_files(folder, [\".all\",\"wcd\"])\n",
    "print(len(files))"
   ]
  },
  {
   "cell_type": "code",
   "execution_count": 4,
   "metadata": {},
   "outputs": [
    {
     "name": "stdout",
     "output_type": "stream",
     "text": [
      "Found 329 files\n",
      "329\n"
     ]
    }
   ],
   "source": [
    "# find_files() can use a list of folders as input\n",
    "folders = []\n",
    "folders.append(r'C:\\Users\\Schimel_Alexandre\\Data\\MBES\\Kongsberg all\\EM302')\n",
    "folders.append(r'C:\\Users\\Schimel_Alexandre\\Data\\MBES\\Kongsberg all\\EM710')\n",
    "folders.append(r'C:\\Users\\Schimel_Alexandre\\Data\\MBES\\Kongsberg all\\EM2040')\n",
    "files = pingmachine.echosounders.index_functions.find_files(folders, [\".all\",\"wcd\"])\n",
    "print(len(files))"
   ]
  },
  {
   "cell_type": "code",
   "execution_count": 5,
   "metadata": {},
   "outputs": [],
   "source": [
    "# pairs of files (e.g. .all and .wcd) don't have to be in the same folders. \n",
    "# Remember they are only paired later, by a File Handler"
   ]
  },
  {
   "cell_type": "markdown",
   "metadata": {},
   "source": [
    "### 2. Advanced use of File Handler\n",
    "#### 2.1 Caching "
   ]
  },
  {
   "cell_type": "code",
   "execution_count": 6,
   "metadata": {},
   "outputs": [
    {
     "name": "stdout",
     "output_type": "stream",
     "text": [
      "Found 4 files\n",
      "indexing files ⠈ 100% [00m:00s<00m:00s] [.._092821_Karoline.wcd (4/4)]                              \n",
      "indexing files ⠐ 100% [00m:00s<00m:00s] [Found: 123491 datagrams in 4 files (2808MB)]                                             \n",
      "Initializing ping interface ⢀ 50% [00m:00s<00m:00s] [Done]                                              \n",
      "indexing files ⡀ 100% [00m:00s<00m:00s] [.._092821_Karoline.wcd (4/4)]                              \n",
      "indexing files ⠄ 100% [00m:00s<00m:00s] [Found: 123491 datagrams in 4 files (2808MB)]                                             \n",
      "Initializing ping interface ⢀ 50% [00m:00s<00m:00s] [Done]                                              \n",
      "\n",
      "Execution time:\n",
      "\n",
      "  First execution: 2.1386072635650635 seconds\n",
      "  Second execution: 2.204694986343384 seconds\n"
     ]
    }
   ],
   "source": [
    "# Create a File Handler to access the raw data files\n",
    "# TO DO - modify to talk about caching\n",
    "folder = r'C:\\Users\\Schimel_Alexandre\\Data\\MBES\\Kongsberg all\\EM710\\KV-FOSAE-2015_EM710_BH02_gas_flares'\n",
    "files = pingmachine.echosounders.index_functions.find_files(folder, [\".all\",\"wcd\"])\n",
    "\n",
    "# First call to fileHandler\n",
    "start_time_1 = time.time()\n",
    "fileHandler = pingmachine.echosounders.kongsbergall.KongsbergAllFileHandler(files)\n",
    "end_time_1 = time.time()\n",
    "\n",
    "# Second call to fileHandler\n",
    "start_time_2 = time.time()\n",
    "fileHandler = pingmachine.echosounders.kongsbergall.KongsbergAllFileHandler(files)\n",
    "end_time_2 = time.time()\n",
    "\n",
    "print(f\"\\nExecution time:\\n\")\n",
    "print(f\"  First execution: {end_time_1 - start_time_1} seconds\")\n",
    "print(f\"  Second execution: {end_time_2 - start_time_2} seconds\")"
   ]
  },
  {
   "cell_type": "code",
   "execution_count": 9,
   "metadata": {},
   "outputs": [
    {
     "name": "stdout",
     "output_type": "stream",
     "text": [
      "indexing files ⡀ 99% [00m:00s<00m:00s] [Found: 123491 datagrams in 4 files (2808MB)]                                             \n",
      "Initializing ping interface ⢀ 50% [00m:00s<00m:00s] [Done]                                              \n",
      "indexing files ⠄ 99% [00m:00s<00m:00s] [Found: 123491 datagrams in 4 files (2808MB)]                                             \n",
      "Initializing ping interface ⢀ 50% [00m:00s<00m:00s] [Done]                                              \n",
      "\n",
      "Execution time:\n",
      "\n",
      "  First execution: 0.6172809600830078 seconds\n",
      "  Second execution: 0.6140503883361816 seconds\n"
     ]
    }
   ],
   "source": [
    "# First call to fileHandler, specifying the index\n",
    "cache = pingmachine.echosounders.index_functions.get_cache_file_paths(file_paths=files)\n",
    "start_time_1 = time.time()\n",
    "fileHandler = pingmachine.echosounders.kongsbergall.KongsbergAllFileHandler(files, file_cache_paths=cache)\n",
    "end_time_1 = time.time()\n",
    "\n",
    "# Second call to fileHandler, \n",
    "start_time_2 = time.time()\n",
    "fileHandler = pingmachine.echosounders.kongsbergall.KongsbergAllFileHandler(files, file_cache_paths=cache)\n",
    "end_time_2 = time.time()\n",
    "\n",
    "print(f\"\\nExecution time:\\n\")\n",
    "print(f\"  First execution: {end_time_1 - start_time_1} seconds\")\n",
    "print(f\"  Second execution: {end_time_2 - start_time_2} seconds\")"
   ]
  },
  {
   "cell_type": "markdown",
   "metadata": {},
   "source": [
    "### 3. Advanced access of Pings"
   ]
  },
  {
   "cell_type": "code",
   "execution_count": null,
   "metadata": {},
   "outputs": [],
   "source": [
    "# pingcontainer are mostly for fast filtering of pings (eg on basis of sonar head, or location)"
   ]
  },
  {
   "cell_type": "code",
   "execution_count": null,
   "metadata": {},
   "outputs": [
    {
     "data": {
      "text/plain": [
       "themachinethatgoesping.echosounders_cppy.kongsbergall.filetypes.KongsbergAllPing"
      ]
     },
     "execution_count": 24,
     "metadata": {},
     "output_type": "execute_result"
    }
   ],
   "source": [
    "# Access an individual ping in a Ping Container by indexing\n",
    "pingContainer = fileHandler.get_pings()\n",
    "ping42 = pingContainer[42]\n",
    "type(ping42)"
   ]
  },
  {
   "cell_type": "code",
   "execution_count": null,
   "metadata": {},
   "outputs": [
    {
     "data": {
      "text/plain": [
       "themachinethatgoesping.echosounders_cppy.kongsbergall.filedatacontainers.KongsbergAllPingContainer"
      ]
     },
     "execution_count": 25,
     "metadata": {},
     "output_type": "execute_result"
    }
   ],
   "source": [
    "#  This approach only works for a single ping. If you index a Ping Container for multiple pings, you will get a (smaller) Ping Container object\n",
    "pings0To42 = pingContainer[0:42]\n",
    "type(pings0To42)"
   ]
  },
  {
   "cell_type": "code",
   "execution_count": null,
   "metadata": {},
   "outputs": [
    {
     "name": "stdout",
     "output_type": "stream",
     "text": [
      "pings0To42 is now a <class 'list'> where each element is a <class 'themachinethatgoesping.echosounders_cppy.kongsbergall.filetypes.KongsbergAllPing'>\n"
     ]
    }
   ],
   "source": [
    "# If you want a list of Ping objects, you need to loop over each element of the Ping Container\n",
    "pings0To42 = []\n",
    "for i in range(42):\n",
    "    pings0To42.append(pingContainer[i])\n",
    "print(f\"pings0To42 is now a {type(pings0To42)} where each element is a {type(pings0To42[0])}\")"
   ]
  },
  {
   "cell_type": "code",
   "execution_count": null,
   "metadata": {},
   "outputs": [
    {
     "name": "stdout",
     "output_type": "stream",
     "text": [
      "pingsWithWC is a <class 'list'> where each element is a <class 'themachinethatgoesping.echosounders_cppy.kongsbergall.filetypes.KongsbergAllPing'>\n"
     ]
    }
   ],
   "source": [
    "# But you can also directly create lists of pings selected from a Ping Container by filtering for a specific critiera, for example pings containing watercolumn data\n",
    "pingsWithWC = pingmachine.pingprocessing.filter_pings.by_features(pingContainer,['watercolumn.amplitudes'])\n",
    "print(f\"pingsWithWC is a {type(pingsWithWC)} where each element is a {type(pingsWithWC[0])}\")"
   ]
  },
  {
   "cell_type": "markdown",
   "metadata": {},
   "source": [
    "### 4. Access data in datagrams"
   ]
  },
  {
   "cell_type": "code",
   "execution_count": null,
   "metadata": {},
   "outputs": [
    {
     "name": "stdout",
     "output_type": "stream",
     "text": [
      "indexing file ⠐ 100% [00m:00s<00m:00s]           \n",
      "indexing file ⠠ 100% [00m:00s<00m:00s] [Found: 1090 datagrams]                       \n",
      "Initializing ping interface ⠐ 0% [00m:00s<00m:00s] [Done]                                              \n",
      "DatagramContainer\n",
      "#################\n",
      "-\n",
      "Time info (Datagrams) \n",
      "------------------------ \n",
      "- Start time: 27/04/2024 08:35:30.79 \n",
      "- End time:   27/04/2024 08:36:59.43 \n",
      "- Sorted:     no                     \n",
      "\n",
      " Contained datagrams \n",
      "---------------------        \n",
      "- Total:                                       1090 \n",
      "- Datagrams [PUIDOutput]:                      2    [30]\n",
      "- Datagrams [PUStatusOutput]:                  14   [31]\n",
      "- Datagrams [AttitudeDatagram]:                14   [41]\n",
      "- Datagrams [ClockDatagram]:                   14   [43]\n",
      "- Datagrams [InstallationParametersStart]:     1    [49]\n",
      "- Datagrams [RawRangeAndAngle]:                292  [4e]\n",
      "- Datagrams [PositionDatagram]:                13   [50]\n",
      "- Datagrams [RuntimeParameters]:               3    [52]\n",
      "- Datagrams [SoundSpeedProfileDatagram]:       1    [55]\n",
      "- Datagrams [XYZDatagram]:                     292  [58]\n",
      "- Datagrams [SeabedImageData]:                 292  [59]\n",
      "- Datagrams [DepthOrHeightDatagram]:           13   [68]\n",
      "- Datagrams [InstallationParametersStop]:      1    [69]\n",
      "- Datagrams [NetworkAttitudeVelocityDatagram]: 138  [6e]\n"
     ]
    }
   ],
   "source": [
    "# Use the datagram_interface of a file handler to access the datagrams in the file\n",
    "file = r'C:\\Users\\Schimel_Alexandre\\Data\\MBES\\Kongsberg all\\EM2040\\KV-Meritaito_2024_EM2040_Sorvest-F-1-1-extracts-WCD\\0225_20240427_083531.all'\n",
    "fileHandler = pingmachine.echosounders.kongsbergall.KongsbergAllFileHandler(file)\n",
    "print(fileHandler.datagram_interface.datagrams())"
   ]
  },
  {
   "cell_type": "code",
   "execution_count": null,
   "metadata": {},
   "outputs": [
    {
     "data": {
      "application/vnd.jupyter.widget-view+json": {
       "model_id": "44e70900d38c47e0b235bf71748fa470",
       "version_major": 2,
       "version_minor": 0
      },
      "text/plain": [
       "  0%|          | 0/1090 [00:00<?, ?it/s]"
      ]
     },
     "metadata": {},
     "output_type": "display_data"
    },
    {
     "data": {
      "application/vnd.jupyter.widget-view+json": {
       "model_id": "978152a74ad84bb5976f22125109a8f3",
       "version_major": 2,
       "version_minor": 0
      },
      "text/plain": [
       "  0%|          | 0/3 [00:00<?, ?it/s]"
      ]
     },
     "metadata": {},
     "output_type": "display_data"
    }
   ],
   "source": [
    "# datagram_interface.datagrams() is an iterator so you can loop over all datagrams with:\n",
    "for d in tqdm(fileHandler.datagram_interface.datagrams()):\n",
    "    pass\n",
    "\n",
    "# or loop over specific datagram types with\n",
    "for d in tqdm(fileHandler.datagram_interface.datagrams(\"RuntimeParameters\")):\n",
    "    pass"
   ]
  },
  {
   "cell_type": "code",
   "execution_count": null,
   "metadata": {},
   "outputs": [
    {
     "name": "stdout",
     "output_type": "stream",
     "text": [
      "RuntimeParameters\n",
      "#################\n",
      "- bytes:               52       \n",
      "- stx:                 0x02     \n",
      "- datagram_identifier: 0x52     [RuntimeParameters]\n",
      "- model_number:        EM2040   [2040]\n",
      "- date:                20240427 [YYYYMMDD]\n",
      "- time_since_midnight: 30931461 [ms]\n",
      "\n",
      " date/time \n",
      "-----------  \n",
      "- timestamp: 1714.207e⁶   [s]\n",
      "- date:      27/04/2024   [MM/DD/YYYY]\n",
      "- time:      08:35:31.461 [HH:MM:SS]\n",
      "\n",
      " datagram content \n",
      "------------------             \n",
      "- ping_counter:                         57744      \n",
      "- system_serial_number:                 333        \n",
      "- operator_station_status:              0          \n",
      "- processing_unit_status:               0          \n",
      "- bsp_status:                           0          \n",
      "- sonar_head_or_transceiver_status:     0          \n",
      "- mode:                                 0b10000001 \n",
      "- filter_identifier:                    0b10100110 \n",
      "- minimum_depth:                        10         [m]\n",
      "- maximum_depth:                        150        [m]\n",
      "- absorption_coefficient:               6836       [0.01 db/km]\n",
      "- transmit_pulse_length:                200        [μs]\n",
      "- transmit_beamwidth:                   5          [0.1°]\n",
      "- transmit_power_relative_maximum:      0          [dB]\n",
      "- receive_bandwidth_degree:             10         [0.1°]\n",
      "- receive_bandwidth_50hz:               255        [50Hz]\n",
      "- mode2_or_receiver_fixed_gain_setting: 0b00000111 \n",
      "- tvg_law_crossover_angle:              10         [°]\n",
      "- source_of_sound_speed_at_transducer:  0b00000000 \n",
      "- maximum_port_swath_width:             98         [m]\n",
      "- beam_spacing:                         0b00000001 \n",
      "- maximum_port_coverage:                60         [°]\n",
      "- yaw_and_pitch_stabilization_mode:     0b10000100 \n",
      "- maximum_starboard_coverage:           60         [°]\n",
      "- maximum_starboard_swath_width:        98         [m]\n",
      "- transmit_along_tilt:                  0          [0.1°]\n",
      "- filter_identifier2:                   0b00010000 \n",
      "- etx:                                  0x03       \n",
      "- checksum:                             3180       \n",
      "\n",
      " processed \n",
      "-----------                               \n",
      "- absorption_coefficient_in_db_per_meter: 68.360e⁻³    [db/m]\n",
      "- transmit_pulse_length_in_seconds:       0.200e⁻³     [s]\n",
      "- transmit_beamwidth_in_degrees:          0.500        [°]\n",
      "- receive_bandwidth_in_degrees:           1.000        [°]\n",
      "- receive_bandwidth_in_hertz:             12.750e³     [Hz]\n",
      "- transmit_along_tilt_in_degrees:         0.000        [°]\n",
      "\n",
      " decoded: 'mode' [10000001] \n",
      "---------------------------- \n",
      "- mode_as_ping_mode:       300 kHz [opt(string)]\n",
      "- mode_as_tx_pulse_form:   CW      [opt(string)]\n",
      "- mode_as_dual_swath_mode: Dynamic [opt(string)]\n",
      "\n",
      " decoded: 'mode2' [00000111] \n",
      "-----------------------------   \n",
      "- mode2_as_rx_or_sonar_head_use:          Both RX units active [opt(string)]\n",
      "- mode2_as_pulselength:                   Medium CW            [opt(string)]\n",
      "- mode2_as_receive_fixed_gain_setting_dB: -None-               [opt(dB)]\n",
      "\n",
      " decoded: 'filter_identifier' [10100110] \n",
      "----------------------------------------- \n",
      "- filter_identifier_as_spike_filter:        Medium [string]\n",
      "- filter_identifier_as_slope_filter:        On     [string]\n",
      "- filter_identifier_as_range_gates_size:    Small  [opt(string)]\n",
      "- filter_identifier_as_aeration_filter:     On     [string]\n",
      "- filter_identifier_as_interference_filter: Off    [string]\n",
      "\n",
      " decoded: 'filter_identifier2' [00010000] \n",
      "------------------------------------------ \n",
      "- filter_identifier2_as_penetration_filter: Medium            [string]\n",
      "- filter_identifier2_as_detect_mode:        Waterway          [string]\n",
      "- filter_identifier2_as_phase_ramp:         Long phase ramp   [opt(string)]\n",
      "- filter_identifier2_as_special_tvg:        Special TVG       [string]\n",
      "- filter_identifier2_as_special_amp_detect: Normal amp detect [string]\n",
      "\n",
      " decoded: 'source_of_sound_speed_at_transducer' [00000000] \n",
      "----------------------------------------------------------- \n",
      "- source_of_sound_speed_at_transducer_as_string: From real time sensor [opt(string)]\n",
      "- extra_detections_enabled:                      false                 [bool]\n",
      "- sonar_mode_enabled:                            false                 [bool]\n",
      "- passive_mode_enabled:                          false                 [bool]\n",
      "- 3d_scanning_enabled:                           false                 [bool]\n",
      "\n",
      " decoded: 'beam_spacing' [00000001] \n",
      "------------------------------------ \n",
      "- beam_spacing_as_string: Equidistant [opt(string)]\n",
      "\n",
      " decoded: 'yaw_and_pitch_stabilization_mode' [10000100] \n",
      "-------------------------------------------------------- \n",
      "- yaw_and_pitch_stabilization_mode_as_yaw_stabilization:   No yaw stabilization [string]\n",
      "- yaw_and_pitch_stabilization_mode_as_heading_filter:      -None-               [opt(string)]\n",
      "- yaw_and_pitch_stabilization_mode_as_pitch_stibilization: On                   [string]\n"
     ]
    }
   ],
   "source": [
    "# index to access a specific datagram\n",
    "d  = fileHandler.datagram_interface.datagrams(\"RuntimeParameters\")[0]\n",
    "print(d)"
   ]
  },
  {
   "cell_type": "code",
   "execution_count": null,
   "metadata": {},
   "outputs": [
    {
     "name": "stdout",
     "output_type": "stream",
     "text": [
      "Model number: 2040\n",
      "Mode: 129\n",
      "System serial number: 333\n",
      "Transmit pulse length (raw): 200\n",
      "Transmit pulse length (in sec): 0.00019999999494757503\n"
     ]
    }
   ],
   "source": [
    "# and use \"get_\" methods to get data of interest from a datagram\n",
    "print(f\"Model number: {d.get_model_number()}\")\n",
    "print(f\"Mode: {d.get_mode()}\")\n",
    "print(f\"System serial number: {d.get_system_serial_number()}\")\n",
    "print(f\"Transmit pulse length (raw): {d.get_transmit_pulse_length()}\")\n",
    "print(f\"Transmit pulse length (in sec): {d.get_transmit_pulse_length_in_seconds()}\")"
   ]
  },
  {
   "cell_type": "code",
   "execution_count": null,
   "metadata": {},
   "outputs": [
    {
     "name": "stdout",
     "output_type": "stream",
     "text": [
      "Transmit pulse length (in sec) for this ping: 0.00019999999494757503\n"
     ]
    }
   ],
   "source": [
    "# Note you can also access runtime parameters applying to a given ping\n",
    "ping = fileHandler.get_pings()[0]\n",
    "rp = ping.file_data.get_runtime_parameters()\n",
    "print(f\"Transmit pulse length (in sec) for this ping: {d.get_transmit_pulse_length_in_seconds()}\")"
   ]
  }
 ],
 "metadata": {
  "kernelspec": {
   "display_name": "ping",
   "language": "python",
   "name": "python3"
  },
  "language_info": {
   "codemirror_mode": {
    "name": "ipython",
    "version": 3
   },
   "file_extension": ".py",
   "mimetype": "text/x-python",
   "name": "python",
   "nbconvert_exporter": "python",
   "pygments_lexer": "ipython3",
   "version": "3.12.7"
  }
 },
 "nbformat": 4,
 "nbformat_minor": 2
}
