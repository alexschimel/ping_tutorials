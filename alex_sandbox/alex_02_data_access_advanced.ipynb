{
 "cells": [
  {
   "cell_type": "markdown",
   "metadata": {},
   "source": [
    "Valid for ping 0.28.1 (10/01/2025)\n",
    "\n",
    "## Data access advanced concepts"
   ]
  },
  {
   "cell_type": "code",
   "execution_count": 1,
   "metadata": {},
   "outputs": [],
   "source": [
    "%matplotlib widget\n",
    "import numpy as np\n",
    "import themachinethatgoesping as pingmachine\n",
    "import time\n",
    "from matplotlib import pyplot as plt\n",
    "from tqdm.auto import tqdm"
   ]
  },
  {
   "cell_type": "markdown",
   "metadata": {},
   "source": [
    "### 1. Advanced use of find_files()"
   ]
  },
  {
   "cell_type": "code",
   "execution_count": 2,
   "metadata": {},
   "outputs": [
    {
     "name": "stdout",
     "output_type": "stream",
     "text": [
      "Found 482 files\n",
      "482\n"
     ]
    }
   ],
   "source": [
    "# find_files() searches the input folder recursively (aka, including subfolders)\n",
    "folder = r'C:\\Users\\Schimel_Alexandre\\Data\\MBES\\Kongsberg all'\n",
    "files = pingmachine.echosounders.index_functions.find_files(folder, [\".all\",\"wcd\"])\n",
    "print(len(files))"
   ]
  },
  {
   "cell_type": "code",
   "execution_count": 3,
   "metadata": {},
   "outputs": [
    {
     "name": "stdout",
     "output_type": "stream",
     "text": [
      "Found 335 files\n",
      "335\n"
     ]
    }
   ],
   "source": [
    "# find_files() can use a list of folders as input\n",
    "folders = []\n",
    "folders.append(r'C:\\Users\\Schimel_Alexandre\\Data\\MBES\\Kongsberg all\\EM302')\n",
    "folders.append(r'C:\\Users\\Schimel_Alexandre\\Data\\MBES\\Kongsberg all\\EM710')\n",
    "folders.append(r'C:\\Users\\Schimel_Alexandre\\Data\\MBES\\Kongsberg all\\EM2040')\n",
    "files = pingmachine.echosounders.index_functions.find_files(folders, [\".all\",\"wcd\"])\n",
    "print(len(files))"
   ]
  },
  {
   "cell_type": "code",
   "execution_count": 4,
   "metadata": {},
   "outputs": [],
   "source": [
    "# pairs of files (e.g. .all and .wcd) don't have to be in the same folders. \n",
    "# Remember they are only paired later, by a File Handler"
   ]
  },
  {
   "cell_type": "markdown",
   "metadata": {},
   "source": [
    "### 2. Advanced use of File Handler\n",
    "#### 2.1 Indexing"
   ]
  },
  {
   "cell_type": "code",
   "execution_count": 5,
   "metadata": {},
   "outputs": [
    {
     "name": "stdout",
     "output_type": "stream",
     "text": [
      "Found 8 files\n",
      "8\n",
      "indexing files ⠐ 100% [00m:00s<00m:00s] [.._20240427_083531.all (1/8)]                              \n",
      "indexing files ⠠ 100% [00m:00s<00m:00s] [.._20240430_140406.wcd (8/8)]                              \n",
      "indexing files ⢀ 100% [00m:00s<00m:00s] [Found: 7463 datagrams in 8 files (258MB)]                                          \n",
      "Initializing ping interface ⠄ 75% [00m:00s<00m:00s] [Done]                                              \n",
      "Execution time: 0.22498559951782227 seconds\n"
     ]
    }
   ],
   "source": [
    "folder = r\"C:\\Users\\Schimel_Alexandre\\Data\\MBES\\Kongsberg all\\EM2040\\KV-Meritaito_2024_EM2040_Sorvest-F-1-1-extracts-WCD\"\n",
    "files = pingmachine.echosounders.index_functions.find_files(folder, [\".all\",\"wcd\"])\n",
    "print(len(files))\n",
    "\n",
    "# A file handler indexes the datagrams in the files, which can take a while\n",
    "start_time = time.time()\n",
    "fileHandler = pingmachine.echosounders.kongsbergall.KongsbergAllFileHandler(files)\n",
    "end_time = time.time()\n",
    "print(f\"Execution time: {end_time-start_time} seconds\")"
   ]
  },
  {
   "cell_type": "code",
   "execution_count": 6,
   "metadata": {},
   "outputs": [
    {
     "name": "stdout",
     "output_type": "stream",
     "text": [
      "indexing files ⠄ 99% [00m:00s<00m:00s] [Found: 7463 datagrams in 8 files (258MB)]                                          \n",
      "Initializing ping interface ⢀ 75% [00m:00s<00m:00s] [Done]                                              \n",
      "Execution time (from scratch): 0.1719512939453125 seconds\n"
     ]
    }
   ],
   "source": [
    "# If you know you may reuse those files in the future, you can save the index to a file on your machine.\n",
    "# This is called caching and will speed up future calls of a file handler with the same files.\n",
    "\n",
    "# First, get names of cached index from the names of the files, using the function get_index_paths()\n",
    "index_files = pingmachine.echosounders.index_functions.get_index_paths(file_paths=files)\n",
    "# The cached index do not exist yet, but you can request the file handler to save them using the index_paths argument\n",
    "start_time = time.time()\n",
    "fileHandler = pingmachine.echosounders.kongsbergall.KongsbergAllFileHandler(files, index_paths=index_files)\n",
    "end_time = time.time()\n",
    "print(f\"Execution time (from scratch): {end_time-start_time} seconds\")\n",
    "\n",
    "# Notice that a new \"index\" folder was created, containing the cached indexes"
   ]
  },
  {
   "cell_type": "code",
   "execution_count": 7,
   "metadata": {},
   "outputs": [
    {
     "name": "stdout",
     "output_type": "stream",
     "text": [
      "indexing files ⢀ 99% [00m:00s<00m:00s] [Found: 7463 datagrams in 8 files (258MB)]                                          \n",
      "Initializing ping interface ⢀ 75% [00m:00s<00m:00s] [Done]                                              \n",
      "Execution time (from cached index): 0.0710000991821289 seconds\n"
     ]
    }
   ],
   "source": [
    "# Now, next time you want to read the same files, you can request the file handler to use the cached index\n",
    "start_time = time.time()\n",
    "fileHandler = pingmachine.echosounders.kongsbergall.KongsbergAllFileHandler(files, index_paths=index_files)\n",
    "end_time = time.time()\n",
    "print(f\"Execution time (from cached index): {end_time-start_time} seconds\")"
   ]
  },
  {
   "cell_type": "markdown",
   "metadata": {},
   "source": [
    "### 3. Advanced access of Pings"
   ]
  },
  {
   "cell_type": "code",
   "execution_count": 8,
   "metadata": {},
   "outputs": [],
   "source": [
    "# Remember you use the function get_pings() to get a ping container from a file handler\n",
    "pingContainer = fileHandler.get_pings()"
   ]
  },
  {
   "cell_type": "code",
   "execution_count": 9,
   "metadata": {},
   "outputs": [
    {
     "data": {
      "text/plain": [
       "themachinethatgoesping.echosounders_cppy.kongsbergall.filetypes.KongsbergAllPing"
      ]
     },
     "execution_count": 9,
     "metadata": {},
     "output_type": "execute_result"
    }
   ],
   "source": [
    "# Access an individual ping in a Ping Container by indexing\n",
    "ping42 = pingContainer[42]\n",
    "type(ping42)"
   ]
  },
  {
   "cell_type": "code",
   "execution_count": 10,
   "metadata": {},
   "outputs": [
    {
     "data": {
      "text/plain": [
       "themachinethatgoesping.echosounders_cppy.kongsbergall.filedatacontainers.KongsbergAllPingContainer"
      ]
     },
     "execution_count": 10,
     "metadata": {},
     "output_type": "execute_result"
    }
   ],
   "source": [
    "#  This approach only works for a single ping. If you index a Ping Container for multiple pings, you will get a (smaller) Ping Container object\n",
    "pings0To42 = pingContainer[0:42]\n",
    "type(pings0To42)"
   ]
  },
  {
   "cell_type": "code",
   "execution_count": 11,
   "metadata": {},
   "outputs": [
    {
     "name": "stdout",
     "output_type": "stream",
     "text": [
      "pings0To42 is now a <class 'list'> where each element is a <class 'themachinethatgoesping.echosounders_cppy.kongsbergall.filetypes.KongsbergAllPing'>\n"
     ]
    }
   ],
   "source": [
    "# So, if you want a list of Ping objects, you need to loop over each element of the Ping Container\n",
    "pings0To42 = []\n",
    "for i in range(42):\n",
    "    pings0To42.append(pingContainer[i])\n",
    "print(f\"pings0To42 is now a {type(pings0To42)} where each element is a {type(pings0To42[0])}\")"
   ]
  },
  {
   "cell_type": "code",
   "execution_count": 12,
   "metadata": {},
   "outputs": [
    {
     "name": "stdout",
     "output_type": "stream",
     "text": [
      "pingsWithWC is a <class 'list'> where each element is a <class 'themachinethatgoesping.echosounders_cppy.kongsbergall.filetypes.KongsbergAllPing'>\n"
     ]
    }
   ],
   "source": [
    "# But the real value of a Ping Container is for fast selection of pings based on some criteria\n",
    "\n",
    "# For example, let's select only pings containing watercolumn data\n",
    "pingsWithWC = pingmachine.pingprocessing.filter_pings.by_features(pingContainer,['watercolumn.amplitudes'])\n",
    "print(f\"pingsWithWC is a {type(pingsWithWC)} where each element is a {type(pingsWithWC[0])}\")"
   ]
  },
  {
   "cell_type": "markdown",
   "metadata": {},
   "source": [
    "### 4. Access data in datagrams"
   ]
  },
  {
   "cell_type": "code",
   "execution_count": 13,
   "metadata": {},
   "outputs": [
    {
     "name": "stdout",
     "output_type": "stream",
     "text": [
      "DatagramContainer\n",
      "#################\n",
      "-\n",
      "Time info (Datagrams) \n",
      "------------------------ \n",
      "- Start time: 27/04/2024 08:35:30.79 \n",
      "- End time:   30/04/2024 14:05:32.41 \n",
      "- Sorted:     no                     \n",
      "\n",
      " Contained datagrams \n",
      "---------------------        \n",
      "- Total:                                       7463 \n",
      "- Datagrams [PUIDOutput]:                      8    [30]\n",
      "- Datagrams [PUStatusOutput]:                  40   [31]\n",
      "- Datagrams [AttitudeDatagram]:                39   [41]\n",
      "- Datagrams [ClockDatagram]:                   42   [43]\n",
      "- Datagrams [SurfaceSoundSpeedDatagram]:       1    [47]\n",
      "- Datagrams [InstallationParametersStart]:     8    [49]\n",
      "- Datagrams [RawRangeAndAngle]:                836  [4e]\n",
      "- Datagrams [PositionDatagram]:                39   [50]\n",
      "- Datagrams [RuntimeParameters]:               14   [52]\n",
      "- Datagrams [SoundSpeedProfileDatagram]:       8    [55]\n",
      "- Datagrams [XYZDatagram]:                     836  [58]\n",
      "- Datagrams [SeabedImageData]:                 836  [59]\n",
      "- Datagrams [DepthOrHeightDatagram]:           39   [68]\n",
      "- Datagrams [InstallationParametersStop]:      8    [69]\n",
      "- Datagrams [WatercolumnDatagram]:             4308 [6b]\n",
      "- Datagrams [NetworkAttitudeVelocityDatagram]: 401  [6e]\n"
     ]
    }
   ],
   "source": [
    "# Use the datagram_interface of a file handler to access the datagrams in the file\n",
    "print(fileHandler.datagram_interface.datagrams())"
   ]
  },
  {
   "cell_type": "code",
   "execution_count": 14,
   "metadata": {},
   "outputs": [
    {
     "data": {
      "application/vnd.jupyter.widget-view+json": {
       "model_id": "aea849b88b8a467dbd14ee43c2740e43",
       "version_major": 2,
       "version_minor": 0
      },
      "text/plain": [
       "  0%|          | 0/7463 [00:00<?, ?it/s]"
      ]
     },
     "metadata": {},
     "output_type": "display_data"
    },
    {
     "data": {
      "application/vnd.jupyter.widget-view+json": {
       "model_id": "23172aa118f4496d987faaa9dc519c5b",
       "version_major": 2,
       "version_minor": 0
      },
      "text/plain": [
       "  0%|          | 0/14 [00:00<?, ?it/s]"
      ]
     },
     "metadata": {},
     "output_type": "display_data"
    }
   ],
   "source": [
    "# datagram_interface.datagrams() is an iterator so you can loop over all datagrams with:\n",
    "for d in tqdm(fileHandler.datagram_interface.datagrams()):\n",
    "    pass\n",
    "\n",
    "# or loop over specific datagram types with\n",
    "for d in tqdm(fileHandler.datagram_interface.datagrams(\"RuntimeParameters\")):\n",
    "    pass"
   ]
  },
  {
   "cell_type": "code",
   "execution_count": 15,
   "metadata": {},
   "outputs": [
    {
     "name": "stdout",
     "output_type": "stream",
     "text": [
      "RuntimeParameters\n",
      "#################\n",
      "- bytes:               52       \n",
      "- stx:                 0x02     \n",
      "- datagram_identifier: 0x52     [RuntimeParameters]\n",
      "- model_number:        EM2040   [2040]\n",
      "- date:                20240427 [YYYYMMDD]\n",
      "- time_since_midnight: 30931461 [ms]\n",
      "\n",
      " date/time \n",
      "-----------  \n",
      "- timestamp: 1714.207e⁶   [s]\n",
      "- date:      27/04/2024   [MM/DD/YYYY]\n",
      "- time:      08:35:31.461 [HH:MM:SS]\n",
      "\n",
      " datagram content \n",
      "------------------             \n",
      "- ping_counter:                         57744      \n",
      "- system_serial_number:                 333        \n",
      "- operator_station_status:              0          \n",
      "- processing_unit_status:               0          \n",
      "- bsp_status:                           0          \n",
      "- sonar_head_or_transceiver_status:     0          \n",
      "- mode:                                 0b10000001 \n",
      "- filter_identifier:                    0b10100110 \n",
      "- minimum_depth:                        10         [m]\n",
      "- maximum_depth:                        150        [m]\n",
      "- absorption_coefficient:               6836       [0.01 db/km]\n",
      "- transmit_pulse_length:                200        [μs]\n",
      "- transmit_beamwidth:                   5          [0.1°]\n",
      "- transmit_power_relative_maximum:      0          [dB]\n",
      "- receive_bandwidth_degree:             10         [0.1°]\n",
      "- receive_bandwidth_50hz:               255        [50Hz]\n",
      "- mode2_or_receiver_fixed_gain_setting: 0b00000111 \n",
      "- tvg_law_crossover_angle:              10         [°]\n",
      "- source_of_sound_speed_at_transducer:  0b00000000 \n",
      "- maximum_port_swath_width:             98         [m]\n",
      "- beam_spacing:                         0b00000001 \n",
      "- maximum_port_coverage:                60         [°]\n",
      "- yaw_and_pitch_stabilization_mode:     0b10000100 \n",
      "- maximum_starboard_coverage:           60         [°]\n",
      "- maximum_starboard_swath_width:        98         [m]\n",
      "- transmit_along_tilt:                  0          [0.1°]\n",
      "- filter_identifier2:                   0b00010000 \n",
      "- etx:                                  0x03       \n",
      "- checksum:                             3180       \n",
      "\n",
      " processed \n",
      "-----------                               \n",
      "- absorption_coefficient_in_db_per_meter: 68.360e⁻³    [db/m]\n",
      "- transmit_pulse_length_in_seconds:       0.200e⁻³     [s]\n",
      "- transmit_beamwidth_in_degrees:          0.500        [°]\n",
      "- receive_bandwidth_in_degrees:           1.000        [°]\n",
      "- receive_bandwidth_in_hertz:             12.750e³     [Hz]\n",
      "- transmit_along_tilt_in_degrees:         0.000        [°]\n",
      "\n",
      " decoded: 'mode' [10000001] \n",
      "---------------------------- \n",
      "- mode_as_ping_mode:       300 kHz [opt(string)]\n",
      "- mode_as_tx_pulse_form:   CW      [opt(string)]\n",
      "- mode_as_dual_swath_mode: Dynamic [opt(string)]\n",
      "\n",
      " decoded: 'mode2' [00000111] \n",
      "-----------------------------   \n",
      "- mode2_as_rx_or_sonar_head_use:          Both RX units active [opt(string)]\n",
      "- mode2_as_pulselength:                   Medium CW            [opt(string)]\n",
      "- mode2_as_receive_fixed_gain_setting_dB: -None-               [opt(dB)]\n",
      "\n",
      " decoded: 'filter_identifier' [10100110] \n",
      "----------------------------------------- \n",
      "- filter_identifier_as_spike_filter:        Medium [string]\n",
      "- filter_identifier_as_slope_filter:        On     [string]\n",
      "- filter_identifier_as_range_gates_size:    Small  [opt(string)]\n",
      "- filter_identifier_as_aeration_filter:     On     [string]\n",
      "- filter_identifier_as_interference_filter: Off    [string]\n",
      "\n",
      " decoded: 'filter_identifier2' [00010000] \n",
      "------------------------------------------ \n",
      "- filter_identifier2_as_penetration_filter: Medium            [string]\n",
      "- filter_identifier2_as_detect_mode:        Waterway          [string]\n",
      "- filter_identifier2_as_phase_ramp:         Long phase ramp   [opt(string)]\n",
      "- filter_identifier2_as_special_tvg:        Special TVG       [string]\n",
      "- filter_identifier2_as_special_amp_detect: Normal amp detect [string]\n",
      "\n",
      " decoded: 'source_of_sound_speed_at_transducer' [00000000] \n",
      "----------------------------------------------------------- \n",
      "- source_of_sound_speed_at_transducer_as_string: From real time sensor [opt(string)]\n",
      "- extra_detections_enabled:                      false                 [bool]\n",
      "- sonar_mode_enabled:                            false                 [bool]\n",
      "- passive_mode_enabled:                          false                 [bool]\n",
      "- 3d_scanning_enabled:                           false                 [bool]\n",
      "\n",
      " decoded: 'beam_spacing' [00000001] \n",
      "------------------------------------ \n",
      "- beam_spacing_as_string: Equidistant [opt(string)]\n",
      "\n",
      " decoded: 'yaw_and_pitch_stabilization_mode' [10000100] \n",
      "-------------------------------------------------------- \n",
      "- yaw_and_pitch_stabilization_mode_as_yaw_stabilization:   No yaw stabilization [string]\n",
      "- yaw_and_pitch_stabilization_mode_as_heading_filter:      -None-               [opt(string)]\n",
      "- yaw_and_pitch_stabilization_mode_as_pitch_stibilization: On                   [string]\n"
     ]
    }
   ],
   "source": [
    "# index to access a specific datagram\n",
    "d  = fileHandler.datagram_interface.datagrams(\"RuntimeParameters\")[0]\n",
    "print(d)"
   ]
  },
  {
   "cell_type": "code",
   "execution_count": 16,
   "metadata": {},
   "outputs": [
    {
     "name": "stdout",
     "output_type": "stream",
     "text": [
      "Model number: 2040\n",
      "Mode: 129\n",
      "System serial number: 333\n",
      "Transmit pulse length (raw): 200\n",
      "Transmit pulse length (in sec): 0.00019999999494757503\n"
     ]
    }
   ],
   "source": [
    "# and use \"get_\" methods to get data of interest from a datagram\n",
    "print(f\"Model number: {d.get_model_number()}\")\n",
    "print(f\"Mode: {d.get_mode()}\")\n",
    "print(f\"System serial number: {d.get_system_serial_number()}\")\n",
    "print(f\"Transmit pulse length (raw): {d.get_transmit_pulse_length()}\")\n",
    "print(f\"Transmit pulse length (in sec): {d.get_transmit_pulse_length_in_seconds()}\")"
   ]
  },
  {
   "cell_type": "code",
   "execution_count": 17,
   "metadata": {},
   "outputs": [
    {
     "name": "stdout",
     "output_type": "stream",
     "text": [
      "Transmit pulse length (in sec) for this ping: 0.00019999999494757503\n"
     ]
    }
   ],
   "source": [
    "# Note you can also access runtime parameters applying to a given ping\n",
    "ping = fileHandler.get_pings()[0]\n",
    "rp = ping.file_data.get_runtime_parameters()\n",
    "print(f\"Transmit pulse length (in sec) for this ping: {d.get_transmit_pulse_length_in_seconds()}\")"
   ]
  }
 ],
 "metadata": {
  "kernelspec": {
   "display_name": "ping",
   "language": "python",
   "name": "python3"
  },
  "language_info": {
   "codemirror_mode": {
    "name": "ipython",
    "version": 3
   },
   "file_extension": ".py",
   "mimetype": "text/x-python",
   "name": "python",
   "nbconvert_exporter": "python",
   "pygments_lexer": "ipython3",
   "version": "3.12.7"
  }
 },
 "nbformat": 4,
 "nbformat_minor": 2
}
