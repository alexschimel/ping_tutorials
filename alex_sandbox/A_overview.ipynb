{
 "cells": [
  {
   "cell_type": "markdown",
   "metadata": {},
   "source": [
    "# Demo 02: View water column data\n",
    "\n",
    "## Introduction\n",
    "\n",
    "This Jupyter Notebook contains an introduction to viewing water column data using Ping.\n",
    "\n",
    "## Here you will learn\n",
    "\n",
    "- \n",
    "\n",
    "## Short version\n",
    "\n",
    "At the end of the notebook you will find the important parts of this notebook, compiled into a single cell\n",
    "\n",
    "\n",
    "## ---"
   ]
  },
  {
   "cell_type": "markdown",
   "metadata": {},
   "source": [
    "### First: Import the necessary modules"
   ]
  },
  {
   "cell_type": "code",
   "execution_count": 6,
   "metadata": {
    "notebookRunGroups": {
     "groupValue": "1"
    },
    "tags": []
   },
   "outputs": [],
   "source": [
    "# use widgets as matplotlib backend\n",
    "%matplotlib widget\n",
    "\n",
    "# imports\n",
    "from matplotlib import pyplot as plt\n",
    "import os\n",
    "import sys\n",
    "import numpy as np\n",
    "from collections import defaultdict\n",
    "from time import time\n",
    "from tqdm.auto import tqdm #progress bar, auto selects a backend based on the environment e.g. for a jupyter notebook it will use the widget version\n",
    "\n",
    "from typing import Union, Tuple\n",
    "\n",
    "import matplotlib as mpl\n",
    "import matplotlib.dates as mdates\n",
    "\n",
    "import datetime as dt\n",
    "\n",
    "# import the file object for opening kongsberg files\n",
    "# Note: function and library naming to be discussed\n",
    "from themachinethatgoesping.echosounders import simradraw,kongsbergall          # This is the filereader module for .all/.wcd files\n",
    "from themachinethatgoesping.echosounders import filetemplates      # This is the filereader module for .all/.wcd files\n",
    "from themachinethatgoesping.echosounders import pingtools          # This is the filereader module for .all/.wcd files\n",
    "from themachinethatgoesping.echosounders import index_functions # This is the module for creating and using indexes to speed up file initialization\n",
    "import themachinethatgoesping.tools as ptools                   # Some tools for working with ping (here we use timeconv for timestamp conversion)\n",
    "import themachinethatgoesping.algorithms as palgorithms                   # Some tools for working with ping (here we use timeconv for timestamp conversion)\n",
    "import themachinethatgoesping.navigation as pnav                   # Some tools for working with ping (here we use timeconv for timestamp conversion)\n",
    "\n",
    "import themachinethatgoesping.pingprocessing.watercolumn.make_image as mi\n",
    "import themachinethatgoesping.pingprocessing.watercolumn.helper.make_image_helper as mi_hlp\n",
    "\n",
    "from themachinethatgoesping.pingprocessing import filter_pings, overview, split_pings, group_pings\n",
    "from themachinethatgoesping.pingprocessing import watercolumn\n",
    "gp = palgorithms.geoprocessing\n",
    "import pandas as pd\n",
    "\n",
    "# simplify creating figures\n",
    "mpl.rcParams['figure.dpi'] = 100\n",
    "close_plots: bool = True\n",
    "\n",
    "def create_figure(name: str, return_ax: bool = True) -> Union[Tuple[plt.Figure, plt.Axes], plt.Figure]:\n",
    "    \"\"\"Helper function to create a figure with a given name that returns the figure and axis\n",
    "    \"\"\"\n",
    "    if close_plots:\n",
    "        plt.close(name)\n",
    "    fig = plt.figure(name)\n",
    "    fig.suptitle = name\n",
    "\n",
    "    if return_ax:\n",
    "        return fig, fig.subplots()\n",
    "    return fig\n",
    "\n",
    "def clear_memory():\n",
    "    import gc\n",
    "    gc.collect()\n",
    "    \n",
    "    import ctypes\n",
    "    libc = ctypes.CDLL(\"libc.so.6\") # clearing cache \n",
    "    libc.malloc_trim(0)"
   ]
  },
  {
   "cell_type": "code",
   "execution_count": 7,
   "metadata": {
    "notebookRunGroups": {
     "groupValue": "1"
    },
    "tags": []
   },
   "outputs": [],
   "source": [
    "from collections import OrderedDict\n",
    "\n",
    "class fake_tqdm(object):\n",
    "    def __init__(self, w_prg):\n",
    "        self.w_prg = w_prg\n",
    "        \n",
    "    def __call__(self, list_like):\n",
    "        self.list_like = list_like\n",
    "        self.list_iter = iter(list_like)\n",
    "        self.index = 0\n",
    "        self.total = len(list_like)\n",
    "        self.w_prg.max = self.total\n",
    "        self.w_prg.value = 0\n",
    "        return self\n",
    "        \n",
    "    def __iter__(self):\n",
    "        return self\n",
    "    \n",
    "    def __next__(self):\n",
    "        self.index += 1\n",
    "        self.w_prg.value = self.index\n",
    "        return next(self.list_iter)\n",
    "    \n",
    "    def __len__(self):\n",
    "        return self.total\n",
    "    \n",
    "    def update(self):\n",
    "        self.index += 1\n",
    "        next(self.list_iter)\n",
    "        self.w_prg.value = self.index\n",
    "        \n",
    "    def close(self):\n",
    "        pass"
   ]
  },
  {
   "cell_type": "markdown",
   "metadata": {},
   "source": [
    "### Find files to open\n",
    "\n",
    "This is a simple python loop to find .all and .wcd files in the specified directories"
   ]
  },
  {
   "cell_type": "code",
   "execution_count": 15,
   "metadata": {
    "notebookRunGroups": {
     "groupValue": "1"
    },
    "tags": []
   },
   "outputs": [
    {
     "name": "stdout",
     "output_type": "stream",
     "text": [
      "Found 122 files\n"
     ]
    },
    {
     "data": {
      "application/vnd.jupyter.widget-view+json": {
       "model_id": "2d66d7fa7f1e4312b42624f28daeae0e",
       "version_major": 2,
       "version_minor": 0
      },
      "text/plain": [
       " 25%|##4       | 30/122 [00:01<00:03, 28.73it/s]"
      ]
     },
     "metadata": {},
     "output_type": "display_data"
    },
    {
     "name": "stdout",
     "output_type": "stream",
     "text": [
      "FilePackageIndex: 192.38 'MB' / 0.45 %\n",
      "NavigationInterpolatorLatLon: 1654.93 'MB' / 3.84 %\n",
      "- Combined -: 1847.31 'MB' / 4.29 %\n",
      "- Source files -: 43059.28 'MB' / 100.0 %\n"
     ]
    }
   ],
   "source": [
    "# Define the folder(s) to search for Kongsberg files\n",
    "# Note: subdirectories will be searched as well\n",
    "folders = []\n",
    "#folders.append(\"./\")\n",
    "#folders.append(\"/home/users/data/koen campaign 2/\")\n",
    "folders.append(\"/home/data/turbeams/TURBEAMS 2023-12/\")\n",
    "\n",
    "# Initialize lists for storing file paths and names\n",
    "files = index_functions.find_files(folders, [\".all\",\"wcd\"])\n",
    "files.sort()\n",
    "\n",
    "file_cache_paths = index_functions.get_cache_file_paths(file_paths=files)\n",
    "\n",
    "index_functions.remove_name_from_cache(file_cache_paths, \"FilePackageCache<RuntimeParameters>\")\n",
    "index_functions.print_cache_file_statistics(file_cache_paths)"
   ]
  },
  {
   "cell_type": "markdown",
   "metadata": {},
   "source": [
    "## Open files\n"
   ]
  },
  {
   "cell_type": "code",
   "execution_count": 17,
   "metadata": {
    "notebookRunGroups": {
     "groupValue": "1"
    },
    "tags": []
   },
   "outputs": [
    {
     "name": "stdout",
     "output_type": "stream",
     "text": [
      "indexing files ⠁ 6% [00m:00s<00m:03s] [..3_142823_Belgica.all (12/122)]                                 \r"
     ]
    },
    {
     "name": "stderr",
     "output_type": "stream",
     "text": [
      "WARNING: could not open file (/home/data/turbeams/TURBEAMS 2023-12/em2040/0001_20231213_093010_Belgica.wcd).\n",
      "Error message: 'failed mapping file: Invalid argument: iostream error'\n"
     ]
    },
    {
     "name": "stdout",
     "output_type": "stream",
     "text": [
      "indexing files ⠂ 72% [00m:01s<00m:00s] [..5_215941_Belgica.all (96/122)]                                 \r"
     ]
    },
    {
     "name": "stderr",
     "output_type": "stream",
     "text": [
      "WARNING: could not open file (/home/data/turbeams/TURBEAMS 2023-12/em2040/0039_20231215_175247_Belgica.wcd).\n",
      "Error message: 'failed mapping file: Invalid argument: iostream error'\n"
     ]
    },
    {
     "name": "stdout",
     "output_type": "stream",
     "text": [
      "indexing files ⢀ 99% [00m:02s<00m:00s] [Found: 7717334 datagrams in 122 files (43059MB)]                                                 \n",
      "Initializing navigation ⠂ 92% [00m:04s<00m:00s] [60/63]                      \n",
      "Initializing ping interface ⠂ 98% [01m:26s<00m:01s] [Done]                                              \n"
     ]
    }
   ],
   "source": [
    "file_cache_paths = index_functions.get_cache_file_paths(file_paths=files)\n",
    "\n",
    "fm = kongsbergall.KongsbergAllFileHandler_mapped(files[:], file_cache_paths=file_cache_paths, init = True)"
   ]
  },
  {
   "cell_type": "code",
   "execution_count": 19,
   "metadata": {
    "notebookRunGroups": {
     "groupValue": "1"
    },
    "tags": []
   },
   "outputs": [
    {
     "name": "stdout",
     "output_type": "stream",
     "text": [
      "13-12-2023 09:00:09 73962\n",
      "13-12-2023 21:29:08 54050\n",
      "14-12-2023 16:03:59 47483\n",
      "14-12-2023 22:36:32 40981\n",
      "15-12-2023 16:12:27 75\n",
      "15-12-2023 16:14:07 300\n",
      "15-12-2023 17:52:47 21175\n",
      "15-12-2023 20:52:40 29818\n",
      "16-12-2023 12:30:18 33930\n",
      "17-12-2023 00:55:56 34108\n"
     ]
    }
   ],
   "source": [
    "split_time_s = 30\n",
    "\n",
    "all_pings = fm.pings()\n",
    "\n",
    "#split into blocks\n",
    "times = [ps[0].get_timestamp() for ps in split_pings.by_time_difference(all_pings, split_time_s, True).values()]\n",
    "\n",
    "ping_containers = split_pings.by_time_blocks(all_pings, times)\n",
    "\n",
    "ping_containers = {ptools.timeconv.unixtime_to_datestring(k, format='%d-%m-%Y %H:%M:%S') : v for k,v in ping_containers.items()}\n",
    "\n",
    "stats = overview.get_ping_overview(ping_containers,True)\n",
    "\n",
    "for k,pings in ping_containers.items():\n",
    "    print(k,len(pings))"
   ]
  },
  {
   "cell_type": "code",
   "execution_count": 22,
   "metadata": {
    "notebookRunGroups": {
     "groupValue": "1"
    },
    "tags": []
   },
   "outputs": [
    {
     "name": "stdout",
     "output_type": "stream",
     "text": [
      "13-12-2023 09:00:09 36981\n",
      "13-12-2023 21:29:08 27025\n",
      "14-12-2023 16:03:59 23741\n",
      "14-12-2023 22:36:32 20490\n",
      "15-12-2023 16:12:27 44\n",
      "15-12-2023 16:14:07 150\n",
      "15-12-2023 17:52:47 10588\n",
      "15-12-2023 20:52:40 14909\n",
      "16-12-2023 12:30:18 16965\n",
      "17-12-2023 00:55:56 17054\n"
     ]
    },
    {
     "data": {
      "text/plain": [
       "<matplotlib.legend.Legend at 0x7f6ca07ff680>"
      ]
     },
     "execution_count": 22,
     "metadata": {},
     "output_type": "execute_result"
    },
    {
     "data": {
      "application/vnd.jupyter.widget-view+json": {
       "model_id": "0316f35fc0b64456b932a876b84fc04c",
       "version_major": 2,
       "version_minor": 0
      },
      "image/png": "[encoded data removed]",
      "text/html": [
       "\n",
       "            <div style=\"display: inline-block;\">\n",
       "                <div class=\"jupyter-widgets widget-label\" style=\"text-align: center;\">\n",
       "                    Navigation data\n",
       "                </div>\n",
       "                <img src='data:image/png;base64,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' width=640.0/>\n",
       "            </div>\n",
       "        "
      ],
      "text/plain": [
       "Canvas(toolbar=Toolbar(toolitems=[('Home', 'Reset original view', 'home', 'home'), ('Back', 'Back to previous …"
      ]
     },
     "metadata": {},
     "output_type": "display_data"
    }
   ],
   "source": [
    "import rasterio.plot as rioplt\n",
    "import rasterio as rio\n",
    "\n",
    "#background_map = rio.open('qgis/BPNS_latlon.tiff')\n",
    "\n",
    "fig,ax = overview.nav_plot.create_figure('Navigation data', aspect='auto')\n",
    "#rioplt.show(background_map,ax=ax,cmap='Greys_r')\n",
    "\n",
    "all_stats = defaultdict(list)\n",
    "\n",
    "for k,pings in ping_containers.items():\n",
    "    if len(pings) < 10:\n",
    "        continue\n",
    "        \n",
    "    pings = list(split_pings.by_channel_id(pings).values())[0]\n",
    "    stats = overview.get_ping_overview(pings)\n",
    "    overview.nav_plot.plot_latlon(stats.variables['latitude'], stats.variables['longitude'], ax, survey_name=k)\n",
    "\n",
    "    all_stats['latitude'].extend(stats.variables['latitude'])\n",
    "    all_stats['longitude'].extend(stats.variables['longitude'])\n",
    "    all_stats['timestamp'].extend(stats.variables['timestamp'])\n",
    "    \n",
    "    print(k, len(pings))\n",
    "    #print(f'({pings[0].get_datetime().__repr__()}, {pings[-1].get_datetime().__repr__()}), #')\n",
    "\n",
    "\n",
    "fig.legend()\n",
    "#ax.set_xlim(2.537, 2.6)\n",
    "#ax.set_ylim(51.6, 51.66)\n"
   ]
  },
  {
   "cell_type": "code",
   "execution_count": 25,
   "metadata": {},
   "outputs": [],
   "source": [
    "#print all files with valid pings\n",
    "\n",
    "def get_file_paths(pings):\n",
    "    file_paths = set()\n",
    "    for ping in tqdm(pings):\n",
    "        for fp in ping.file_data.get_file_paths():\n",
    "            file_paths.add(fp)\n",
    "    file_paths = list(file_paths)\n",
    "    file_paths.sort()\n",
    "    \n",
    "    print('Found files:', len(file_paths))\n",
    "    \n",
    "    return file_paths"
   ]
  },
  {
   "cell_type": "code",
   "execution_count": 28,
   "metadata": {},
   "outputs": [
    {
     "data": {
      "application/vnd.jupyter.widget-view+json": {
       "model_id": "8591273d92c046f5bf3fca8e617cf798",
       "version_major": 2,
       "version_minor": 0
      },
      "text/plain": [
       "  0%|          | 0/335882 [00:00<?, ?it/s]"
      ]
     },
     "metadata": {},
     "output_type": "display_data"
    },
    {
     "name": "stdout",
     "output_type": "stream",
     "text": [
      "Found files: 120\n"
     ]
    }
   ],
   "source": [
    "get_file_paths(all_pings);"
   ]
  },
  {
   "cell_type": "code",
   "execution_count": 34,
   "metadata": {},
   "outputs": [
    {
     "data": {
      "application/vnd.jupyter.widget-view+json": {
       "model_id": "a871ff1f5c59444f96c14b8efab7e61c",
       "version_major": 2,
       "version_minor": 0
      },
      "text/plain": [
       "  0%|          | 0/311356 [00:00<?, ?it/s]"
      ]
     },
     "metadata": {},
     "output_type": "display_data"
    },
    {
     "name": "stdout",
     "output_type": "stream",
     "text": [
      "Found files: 104\n"
     ]
    }
   ],
   "source": [
    "pings = filter_pings.by_features(all_pings, [\"watercolumn\", \"bottom\"])\n",
    "get_file_paths(pings);"
   ]
  },
  {
   "cell_type": "code",
   "execution_count": null,
   "metadata": {},
   "outputs": [],
   "source": []
  }
 ],
 "metadata": {
  "kernelspec": {
   "display_name": "Python 3 (ipykernel)",
   "language": "python",
   "name": "python3"
  },
  "language_info": {
   "codemirror_mode": {
    "name": "ipython",
    "version": 3
   },
   "file_extension": ".py",
   "mimetype": "text/x-python",
   "name": "python",
   "nbconvert_exporter": "python",
   "pygments_lexer": "ipython3",
   "version": "3.12.1"
  },
  "widgets": {
   "application/vnd.jupyter.widget-state+json": {
    "state": {
     "00dae8238c974951844c41af167b3428": {
      "model_module": "@jupyter-widgets/controls",
      "model_module_version": "2.0.0",
      "model_name": "FloatProgressModel",
      "state": {
       "bar_style": "success",
       "layout": "IPY_MODEL_d47c4bffbbfc47b5ab10540beba91842",
       "max": 122,
       "style": "IPY_MODEL_4d9c546d00104fe0bb012c9d0c59efca",
       "value": 122
      }
     },
     "01bf88b2c63146a08ddaf01a8597aa43": {
      "model_module": "jupyter-matplotlib",
      "model_module_version": "^0.11",
      "model_name": "ToolbarModel",
      "state": {
       "_model_module_version": "^0.11",
       "_view_module_version": "^0.11",
       "collapsed": true,
       "layout": "IPY_MODEL_10129c98c41e40819184c94bffd94792",
       "orientation": "vertical",
       "toolitems": [
        [
         "Home",
         "Reset original view",
         "home",
         "home"
        ],
        [
         "Back",
         "Back to previous view",
         "arrow-left",
         "back"
        ],
        [
         "Forward",
         "Forward to next view",
         "arrow-right",
         "forward"
        ],
        [
         "Pan",
         "Left button pans, Right button zooms\nx/y fixes axis, CTRL fixes aspect",
         "arrows",
         "pan"
        ],
        [
         "Zoom",
         "Zoom to rectangle\nx/y fixes axis",
         "square-o",
         "zoom"
        ],
        [
         "Download",
         "Download plot",
         "floppy-o",
         "save_figure"
        ]
       ]
      }
     },
     "0316f35fc0b64456b932a876b84fc04c": {
      "model_module": "jupyter-matplotlib",
      "model_module_version": "^0.11",
      "model_name": "MPLCanvasModel",
      "state": {
       "_cursor": "default",
       "_data_url": "data:image/png;base64,iVBORw0KGgoAAAANSUhEUgAAAoAAAAHgCAYAAAA10dzkAAAgAElEQVR4XuydCdxV0/rHV3NJpBQRLikyhAwJJRUVyS1jhCupSJkjib/LNWROpcGsyJgicpXIkHAT0SCZiihlCJHov75L69jvfvew9jnvcIbn+Xzej5yz9tpr/dbae/3OM1bYoEWJCAKCgCAgCAgCgoAgIAgUDAIVhAAWzFrLRAUBQUAQEAQEAUFAEDAICAGUjSAICAKCgCAgCAgCgkCBISAEsMAWXKYrCAgCgoAgIAgIAoKAEEDZA4KAICAICAKCgCAgCBQYAkIAC2zBZbqCgCAgCAgCgoAgIAgIAZQ9IAgIAoKAIJA3CPzxxx/q999/z5v5yEQEgXQQqFKliqpUqVLkpUIA00FWrhEEBAFBQBDIKgTIaPb111+r77//PqvGJYMRBMoLgdq1a6utt95aVahQIXAIQgDLa2XkvoKAICAICAIlhsDy5csN+atfv77aZJNNQg+9EruhdCQIZCkC/Bj65Zdf1IoVKxQksEGDBkIAs3StZFiCgCAgCAgCGSCA2fejjz4y5K9u3boZ9CSXCgL5g8CqVasMCWzSpEmgOVg0gPmz1jITQUAQEAQKEoFff/1Vffrpp+of//iHqlGjRkFiIJMWBPwIrF27Vn322Wdqxx13VNWrVy8GkBBA2TOCgCAgCAgCOY2AJYBhB11OT04GLwikiUDccyEEME1g5TJBQBAQBASB7EAg7qDLjlHKKASBskUg7rkQAli26yF3EwQEAUFAEChhBOIOuhK+nXQnCOQEAnHPhRDAnFhGGaQgIAgIAoJAGAJxB102Izdz5kx10003qf/973+KSOaJEyeqf/7zn0WG/H//939qwoQJaunSpapq1apq3333Vf/5z39UixYtIqdGmylTpqi5c+ea6/wpct577z11ww03qNdee019++23xoeyb9++6rzzzovs96mnnlJ33XWX6fe3335Tu+++u2KMHTp0KHLdk08+qYYMGaKWLFmiGjVqZMbctWvXVJvrr79e0dfChQuN7+ZBBx2kbrzxRrXLLruk2qQ797h7r1mzxowNvAmU2GeffdQdd9yh9t9//8i5f/HFF6pfv37qpZdeMmM++eST1c0332zwtTJv3jx17rnnqrfeekvVqVNH9enTx9wrLB0L1xG5e/XVV6sxY8ao7777zqztiBEjDLZWwPHiiy826wXuHTt2VHfeeafaaqutAscc91wIAczmN4OMTRAQBAQBQSAWgbiDLraDcmzw/PPPq9dff101b95cHXvssYEE8OGHHzYRzjvttJPCsf+2225Tjz/+uPr4449VvXr1Qkd/1VVXmTQgy5YtU/fcc08xAnjvvfcaEsd9t9tuO/XGG2+o3r17q6FDhxoCEybnn3++2mabbdRhhx1m+r/vvvsMCZo9e7YhUsisWbNUq1at1DXXXGNIH0TryiuvNOTFElcIzEknnWRI1/r169XgwYMV5Gn+/PmqZs2app905u5y7xNPPFF98MEHhsgyl3Hjxhlcufe2224bOHWizffee2+D+S233KKIsj399NNVt27dDBFDfvzxRxN1CzbMh+j0f/3rX4q1uOiii0IxhfhCkO+//35z/bXXXqv4cbBo0SJVq1Yt9fPPP6tmzZqpvfbayxBFBFL51VdfqTfffFNVrFixWN9xz4UQwHJ88OXWgoAgIAgIApkjEHfQZX6HsukBDVGQBtB/d0jG5ptvrqZNm6batWsXOzhIBaTNJUk22q0FCxYYDVcSQVMFqYLkIfybcUJwrUD4tthiC/XII48Edr1y5UpDdF955RXVunXrwDYuc4+7NyQaUjVp0iR11FFHpe4DuevcubMhX0HCXPgeTSykEUEzC8FDi7jZZpsZQjlo0CD1zTffqGrVqpk2aFkhiBDxIC0g2j/6Y40uvfRScw0aPjR7EEM0iP/9739Vp06djHaQ+yD8Gw3jiy++qNq3b19syHHPhRDAJDtc2goCgoAgIAhkHQJxB13SAb84/xs1a8kq1bJRXXX4bsHmtaR9urR3IYDr1q1Tw4YNMyQFDeCWW24Z23USAtijRw8Fnk888URsv7bBn3/+aczHAwcOTGkOt99+e3XBBReYPyto2G6//Xb1+eefB/bNfBo3bmy0gHvssUexNq5zj7s35l9IlJ9At2zZ0pC2l19+2dwb8zPYkUoFgdxCGjGdW7EkDMKM1u+0005TP/zwg2ln5d133zUa3k8++cSkZLGpWWbMmKHatGljPsdEPmfOnJQGlWuPOeYYo2F94IEH1DPPPGM0qWgCLbGEyG666aZGE8hY/RL3XAgBdN7i0lAQEAQEAUEgGxGIO+iSjBnyd9aD76hKWhv3h9bMjD1tvzIjgVEE8NlnnzXmUio8UNnh6aefjvVXs/N2JYCYTg899FDjN3j44Yc7w4YPI1ouNIdo8BB84rgvPnJWMOeeccYZRrvlF7RgEB4I1auvvlrk66Rzd7k3/oa0Y0xo2tBKQt4goJhdkeHDhxuN7PTp083/Yx6HvKGN8wqEjLl2795dHXHEEYYM48tnBTMtZmVM7JDML7/80mhuH3zwQXXAAQeYzw8++GDzudUs2vtBll944QWFdnTnnXc2+F133XXGZxBtIX6CjGv06NFCAJ13rDQUBAQBQUAQyAsEogjg4Inz1Dc//uo8z0XfrFFLV69Ntd++Tg3VZKtaztdvtVl19Z+uezq39zaMIoBofggSIVhj7NixxkSLzx2Ei8ANfNis/PTTT0Xu70IAP/zwQ6PBGjBggLriiitS16NhsoJ2cNSoUUX6hjj16tXLaLy8ZkjIFZorSJGV8ePHqzPPPNNoGP2C6RniiY9gw4YNi3wdNfcgoF3uTUBFz549jZ9dpUqVjIYO3zu0cPgBBglEyxIy7/fcDzIHQYcAouXzEjKIHXOCYB944IHFurYEEKLoLdt21llnGXPz1KlTzTUQz7PPPtskPcfnD2wZKz6VI0eOLNZv3A8j0QCm9ZjKRYKAICAICALZgkDcQZdknNmqAfTPAU0VBAZ/M/zP8I2zgqbIK3EEEBIB+YPIEYjgFcyyVjCbWg0fnz366KNGI0VAiteXju/izLDee/Tv399oNCFjkKc48c49qG2Se0MuwQ7ihe8g5BkiGiQlZQL29+1iAvZew4+AypUrG/Pw1ltvbYJLLrnkEiGAcRtHvhcEBAFBQBDILwRKkgCCDCTwzU9WqQN3yj4fQC/JQyMX5PvlX90oAojmr23btiaalehfV0HzBwHlv/60NfQBmcLX7rnnnkt1SRADpMUGgWDGhPxhZsXvDmLnIhDcqLm73Nt/H0zPkE8wQNMXJDYIhGAOq6mDBIOdNwjk8ssvN0EgNjUMgRz4bcYFgeAviR8lgr8jZNsGgQSNBy0wWldM797UObZt3HMhGkCX3SZtBAFBQBAQBLIWgbiDLmsHrgeGxslq2UihcuuttxptHNGdaLLQUKGV69KliyEdpB7B3IfJl9yB3jxx/nmSs2716tVq8uTJJteg9a2DQGHatWZfzJakcbGCSTQqvYz1lyNvHilQrJAXj+hkBLMmkbyMHd8+TMSYlr1pYM455xzjg8d3XgJDH/SV7txd7o1fHQSU+4I/GjR8+RhflSpVzBz8PoA2DQw+g+AJtkQAQ4BtGhgCQOgTUg0RXLx4sWmD9tCmgfH7AHIviB55EUmpAxHGzw9SbNPA0IbvmjZtatYGczL5GumblDRBEvdcCAHM5jeDjE0QEAQEAUEgFoG4gy62g3JswCEP4fMLWiU0d8yNQAr8/TD91a1b1wR/QKbikhZDDvDD84uNPkV7aHPKedvssMMOqcjXIGiIXCVVS9iY7edEEjNOa+KEDHoJY1hiZIgOY89k7nH3fuyxx4z5HK0cZJtciIzPEljm4I8C5jNINcTVnwjaRubShihmfBpJBE3aG3w0IYB2vv4oYK6xiaDxHfQmgvZGQ1922WVmT0A8bdJutIZhOMY9F0IAy/HBl1sLAoKAICAIZI5A3EGX+R2kB0Eg9xCIey6EAObemsqIBQFBQBAQBDwIxB10ApYgUIgIxD0XQgALcVfInAUBQUAQyCME4g66PJqqTEUQcEYg7rkQAugMpTQUBAQBQUAQyEYE4g66bByzjEkQKG0E4p4LIYClvQLSvyAgCAgCgkCpIhB30JXqzaVzQSBLEYh7LoQAZunCybAEAUFAEBAE3BCIO+jcepFWgkB+IRD3XAgBzK/1ltkIAoKAIFBwCMQddAUHiExYENAIxD0XQgBlmwgCgoAgIAjkNAJxB11OT04GLwikiUDccyEEME1g5TJBQBAQBASB7EAg7qDLjlHKKASBskUg7rkQAli26yF3EwQEAUFAEChhBOIOuhK+nXQnCOQEAnHPhRDAnFhGGaQgIAgIAoJAGAJxB102Izdz5kxTV5a6vsuXL1cTJ040tWW9QkmyCRMmqKVLl6qqVauqfffd15Qta9GiReTUaDNlyhQ1d+5cc933339fpP17772nbrjhBlP/ljJztrwYNWaj5KmnnlJ33XWX6fe3334z9YgZY4cOHYpc9uSTT6ohQ4aoJUuWqEaNGpkxd+3aNdWG2rf0tXDhQlP796CDDjI1cb11gdOZ+9ixY9WDDz6oPvjgA3Mv8KK27gEHHJC6twvufgxc8aLMHPf76KOPTN3ec88919QajhJbCm7MmDFFSsF5az1//fXXpp8XX3xRrVmzxuBEveHjjjsusOu450IIYDa/GWRsgoAgIAgIArEIxB10sR2UY4Pnn39evf7666p58+amHm0QAXz44YdV/fr11U477aTWrl2rbrvtNvX444+rjz/+2BCMMLnqqqtU7dq1Tb3be+65pxgBvPfeew2J477bbbedeuONN1Tv3r3V0KFDDWkJk/PPP19ts802poYx/VO79+abbzb1ivfZZx9z2axZs1SrVq3UNddcY0gf86IeLmTTEteOHTuqk046ydQ0Xr9+vRo8eLCpozt//nxVs2ZN0086cz/llFPUwQcfbAhl9erVzXwgmh9++KHadtttTb8uuPvn74IX/Xbp0kXdeeed6ogjjlALFixQvXr1MnOLwhTiC0Gm1m+TJk3UtddeqyCpixYtUrVq1TJDOfzww9UPP/yghg8frrbcckuDDWv8zjvvpHD3jjnuuRACWI4PvtxaEBAEBAFBIHME4g66zO9QNj1UqFAhkAD67/7jjz+qzTffXE2bNk21a9cudnCQCkibXwMYdGG/fv0MaXnppZdi+/U2QFN14oknGpKH8G/GCSGyAuHbYost1COPPBLY98qVKw3RfeWVV1Tr1q0D2ySdO5388ccf5r4Qp9NOO61Yv664u+B18sknq99//90QdCu33367uuWWW9QXX3yhuJdf0P5BqFmjSy+91HyNZnWrrbYyGtE+ffqYzzbddFOjeT311FNTXdStW9cQ3DPPPLNYv3HPhRDARFtcGgsChYMAh8YZZ5yhqlWrZn6F7rDDDkUm36ZNG2M2smaW0kCGeyAvv/xyaXRv+kTbgMnmX//6lzGBeYXPuPdnn31WavdP0jHj2HHHHY3GhbElkah5JuknG9vGHXTZOOagMbkQkXXr1qlhw4YZDREaQDRBcZKEAPbo0cOkD3niiSfiuk19/+eff5pnZ+DAgSkt1/bbb68uuOAC82cFzSVk6PPPPw/sm/k0btzYaAH32GOPYm3SmTudYC6FWELKOnfuXKzfMNwxP4Nd1PPvxwtt6iabbKIeeuih1H1Gjx6t+vbtqz799FODk32OZ8yYoXjHffLJJ8ZEPmfOnCKavGOOOcZoWB944AHTFwS6cuXKxrzN57y30C5imuZ6v8Q9F0IAnbe4NBQECgsBSwCZNS857wuNz8qCAEJakN12263UwOegO/7445V9GXtvhO8SGgdr1iq1QTh2nAkBjJqn4+2ztlncQZd44AufU+qzV5X6Ryuldj0y8eXpXhBFAJ999lljLv3ll19UgwYN1NNPP21Mpy7iSgAx2x566KHGbxBzo6vgw4gvIZpDiBaCzyH3RSNmBZMlPyrRbvkFLRiE57vvvlOvvqqx90gmc6cbtJovvPCC+bGKSdgvYbijMcR0PX369EAogvDChw/SO3nyZGMih9QyL/wcMbG3bNlSffnll0ZzC5HDL5HPMVnzOZpAK5jjIcuMHcH8i2aV/4cIQjR5rsPWKu65EALousOlnSBQYAhYAsivzv/+97/m1+lee+2VQqEsCGBZQJ5LxEgIYPCOiDvoEu0jyN+E7kpVqKTUhj+UOkmbK8uIBEYRwJ9//tkEiaB1J8gBEy0+dxAutEvjxo1LTfOnn34qMmUXAoh/HIRlwIAB6oorrkhdj9nRCj8ER40aVaRvzLlooSZNmqTat2+f+g4CiOaqe3eN5UYZP368MVWyXn6BpEE88RFs2LBhka+j5h63tphHIado8ps1axbY3EXz6r8wDC+I7GWXXWa0tJiCN9tsM0VQDdpE1ssbiGL7tATwq6++MuTeyllnnWUCf6ZOnWo+6t+/v3rrrbdMgAmaX34EoFWFMO+5557F5hb3XAgBjNs98r0gUKAIWALIQcOvTpzU7YsISIII4IgRI9Sjjz5qfu3y0sZpHX8VfhFXqVLFIImfCwcYhxkvR69wH17UOK3TPsgEzHf0wa/gSpUqqaOOOsr8Py9Wr2kUx2gc09988031zTffGH8afn1zGFhztlfL6R2H7SfIBMxL9eqrrzZRmfxixwmfqE0cuDHLWMHUgxkLx28i9dCOcF/MZD179ozdVRwGzAsfqooVKxrzDzgyh5KeJ1GFaDuIRIVgcACjoWBOLibG2MmUcoPIg+5ZbYL8cbn7CFYsUOp7TJQb9J/216qtXR/qN3W/fjN9gHe+zb29p2USIoKplH00aNAgtWLFCqOptrLzzjsXuX8cAUTTDvmDyLHmXkGDZYXn1Wr4+IxnHY0eplWeQ68kMQFDbCAzBD3g4hAn3rlHteX5x1SOr+R+++0X2jQJ7nQShZe9CX6HRO3yfkCDeOSRR5r3kBc/29bFBIw1gnVFi+mNDIZ087mfmNO3EMC4nSTfCwKCQCAClhy9/fbbxkTBr1heZG3btjXtgwjghRdeaCLYeImjAcA3hQPl6KOPVkTQIe+//77RJEICOXCs4KC+9dZbG3MNDtP2HvzX+gBCKvfee2+1evVqE13Iiw9SyuGBf42XGKHZw5cI822dOnUM4cSBmpc3fxAbnM7vvvtuQ9Agr5BcBH8aXtx+Asiv+06dOhkcOHiJcmQ+ROIxb0xC+EwiEEAOAQ5NNAIQUO7FYRnl5M61RHqSugISyAFG32hHmCeO5CU9Tw4P8OdgIbgATeOtt95qDhAwtOQ9Wx+VuIMu0bizVAPonwN7H40cmqU4iSKAaLJ4pk8//XQTTOAqaP4goPzXn7aGPvgxh+/dc89pjepG4dnhR5INAuF5gvxhZuUZh9i5iMvcMUvz7PBD8cADD4zsNgkBTAcvAk8g0rxHg8QGgfADjx+ICP6OkEUbBMJziAaTd1fTpn//ICH1Dj8sMT37Je65EA2gy26TNoJAASLgJYC8eHjpQKQwQfDCjDMB4xjOHy97tASQLSLxEMgNvjikv7ACOTvnnHOKOID7NYAjR440BBGtGBoxK5jAcLSOCo6AjPFChIhhQsHUhUSZgP0EkMOE+3JQevN64YzNgcdLGLMNAgHkFz8BNGhDEO5PGgp8DoN+sdv58N3ZZ59tzGqklLCCTxDEuaTn6d3eHEZgBfnkYPGPIRsfhbiDLvGYjQ/ga3oRDyl18y/mWqtl48cKxBttHM8a+4YfPfyIYh9gHly1apXiOcDki8bWqw3yz5MfC/xYwh8NQmR96yBQmHatGZN0JWjLrKBZj0ovwzMNqbnjjjtUt27dUteRy48fEAhkh0hexo4PHPsI07I3DQzPO36BfOfN/Ucf9JXu3Hk+yT9I3/jWWWHO1qQdhzvX+H0AXfBCg847hXcX+5JnlfcCP/qs+dfvA8i9IHrkRaQ9RJh3FKTYpoHBnIwvNHuAtSL6lx+EvIfwkUTD6Je450IIYOI3g1wgCBQGAl4CiPmElz4O3Zg+ITtBBPDdd9812jCIHQePVzDF2vxfvFj55Y+p2L747csRgmnFTwC5L+TPa+6iLS9X2nqJES94tIQko0WjBamxAmGEcCJJCCApGjhcMLl5D0hIE7m6iDAEHwQCyMsaraBXMOGiBfGmx/DvqLB5ciBADkp6nsyH9B1oGSF+EHcrmMxtaops3flxB122jptx2TX1jxGNHM8gc+O5w38McsHBT/AHZCouCIQfMDaC1Nu/DXhCe4g7g18g/lGRrzxrPHNhY7af82wxTmvihAx6CWNQShSutfs73bnz7AVFGvNushrTONwZhz8K2AUv1giLBxo73gs87/6k3f4oYO5lE0HzQ5ZAGN6VWCW80dCLFy821gRINO83iPzFF19cJC2Md03ingshgNn8ZpCxCQLliICfAPKCgggSiYY/G5Fn3jQwaBv4hQqhw5TBSxgtH4QOrZ03ypYXHOSIdvzqxayBJgPNBpovK34CiL8LL3ZehF6BSKKh9BIjNCaYatEEcFBiiuXA4Zcyf8wPSUIAMVlzoPJr3C+8jDF940+HWB9Afp17xSW1TVnOE7KH6RviB1Y4k5OEl88xnXkPzXLcjpG3jjvosnXcMi5BoDQRiHsuhACWJvrStyCQwwj4CSBTwZka4ocGD182LwEk6g0/QX7denMG4veGWdSfZgUtF79kIY78qqVP/PS8gRSuGkC/ZgySirkZ8sKfFdJPQG7wnUqHAMZpAPnlb/2bMiGArhrAkpin9ckED7ROVmxONiGAOfwQy9ALGgEhgAW9/DJ5QSB9BIIIIL3hL0RwB6WjeMHYRNCUPsKvDhJHMAeC1hAtElpAPwEkeAOncPyT8G3DtInPTpS2zPoA4ljOtVb8PoC2WgDaRcilFUwqROVa8xqfP/PMM8a/yt8n3/l9AEmHg9M1flreBLdWi+gNbMmEALr6AJbEPK1zOcSVPHNW8C3C10gIYPrPkFwpCJQnAkIAyxN9ubcgkMMIhBFA/PwI4oDcYba1BBAzLNG91N8kko2XD352aAQx2foJICZGqykktQvkyp/Q1K8B9EYBE+GH2RVfOqIIuQ/mWVvqiYS2jA3nasgYPkvUQyXCFqd0qwEkeph0NUQyXnTRRcZsjSkXX6uwKGBS41DbEwdzGwWM47Y/Chj/nXRMwCT7JSCAIBL8h+gbgso8/VHAmc4T0zjmc2qxQpgJPoAUY8qmmL0QwBx+iGXoBY2AEMCCXn6ZvCCQPgJhBJAeKbaOts5LAPkcsoPTN5FrECic10kxgbYuqNIGJIpoN7SJEDjy3UVpAPmOxKjkx4Mw4tOHRpLksvj1eSNWibTDJA1Zg9xA1tBoka8MYmkJIH0Szcgf5Ipgkbg8gDiDE+yB3xzpZCCPzCMoD2A6BJAx2fETeWznCUGFYHt9HUtinvh0ghWBOlQYwAeRVDxEoQoBTP8ZkisFgfJEQAhgeaIv9xYEBIEyQQDyBfGEwPmrCJTJAOQm5YpA3EFXroOTmwsC5YRA3HMhQSDltDByW0FAEEgPAYJFkF133dVE46LhIwCFwAlqa4oUHgJxB13hISIzFgSkEojsAUFAEMgzBKgoQv1LTMZE9WKmxNSMBpDqIyKFh4AQwMJbc5lxPAJxz4VoAOMxlBaCgCAgCAgCWYxA3EGXxUOXoQkCpYZA3HMhBLDUoJeOBQFBQBAQBMoCgbiDrizGIPcQBLINgbjnQghgtq2YjEcQEAQEAUEgEQJxB12izqSxIJAnCMQ9F0IA82ShZRqCgCAgCBQqAnEHXTbjMnPmTHXTTTep//3vfyaJOrkeSSsUJn369FFjxowxfrCkQ4oSckhS33nu3LnGP/b7778v0pyE7tR6piIPVX3Il0lSdVICRclTTz1lcnzSL364pIMiNRJJ0r1CHW7KCy5ZskQ1atTI5LTs2rVrqgl5J+mLHKI1atQwKY7I22nrg9PQplwi/RNzIAepv7auf6wffvihqW0NppSODMOKFEpU9yGXKPlBmzRpYnKFco8wIdMApS0JPmPM+B+TXsr6H5MCCwwpb0mlnm222ca0IZ1SlSpVQvsNqttMPWBSM1kBR2r/sl7g3rFjR0UC/q222iqw37jnQghgNr8ZZGyCgCAgCAgCsQjEHXSxHZRjA8jH66+/buoxH3vssZEE8OmnnzaEaOXKlYpKLXEEENJBbkoSrUNs/ASQgCpIHPclF+cbb7xhqvIMHTrUVMwJE+4LsaF6D/2TlxISNHv2bJPAHCEpeqtWrdQ111xjSB/EFlIGeYHYIBAYqs9Qq5tcneQFpTIN5ImSjQj5RuvXr2+StUPSIHOUoaRUYb169QKH+Pbbb6vHHnvMEDkq9kDy/FhRj5yxMgfqj3MPCBYkGLIaJOQI3Xvvvc19yZO5atUqU1WoW7duhoghn3zyiUk6z3qCDSSbUpjkKiVdVZhAAEn8DpZWIJUkZkdIgt+sWTOTbP/qq682n0GuyUUKSfTnUOX7uOdCCGAGDz6VDAC/Vq1aJlGriCAgCAgCgkDZI7Bu3TpzeHJ4U8klV4Uk3GjNqFTjF7RVaMioCEPpQsouxmnqbB9UyLnwwgsNYYmT/v37KxKDU/c7iUBOjj/+eENKkO7duytKFaKBtEKydmp0jx8/PrBriG2DBg2Mdq1169aBbegTUkSC9Hbt2sUOETIXhNWgQYMM4X311Vedz2/IeufOnU0yeggwQkJ4yNuKFSsUVXWCBOwhpdwrTOgDgg7JDxIS35NQH+Jq78O/wYKqPSRv94sQwNjtkX4DflXxq0lEEBAEBAFBoPwQoKQg9ZOpypLLgiYMc7AtgWjngrIBsyOkCGIFAURzhmnRRSjtR/1qqvHECQQOQo0p1lUYH2OiDOMJJ5xgLoMoMT7vGNHmUXOa8QQJxAptGm0o8+gX8n5CuHPXoYEAACAASURBVNBcolH0Vt4JG2sYVoyTOuWYUiFm2267rTrnnHOMts4K2lYqBpFyCkGDSbUhtHpWLAmDtKJN9AuaSsbAvChfidAf5Sa91ZEggJA/tH7MixKPmLrRTCJghiYVTWC1atXMZ2hEN910U0O6GatfhAC67uA02mHfZ6HYtGHMP41us+4SVPOo81u2bGnKRImEIyBYue8OwcodK1oKXuF4+TWA1Kn+6aefzOGYjnXm5aUvq7e/eVvtv9X+qs12bZItVAatwzSA+Om9/PLLxleN+YRptcJuHaUB9GKFKZHSjZMnTy5WlztqWph/MRtTe9sSFvzjIGoQVisQO0yh1Lr2C+OA4ECoMKF6hXKKlJ/kOjSEaEkhyy4ShhUmZu6JiZgk8m+99ZYxE48ePTpVT5yk8xDN6dOnm1thHoe8oY3zCoQMouidK9raOXPmGILJdfhMWjMt2ly0lySuP+CAA0xXjz76qNmv/JihPjmkjmceP0b6RzsKKT7jjDOMKZmxY9oeMWKE6Z9x+0UIoMsOSbMNqujNN9/cOHrmOwHEb+OQQw4RAhizV3hgBSu3B0qwcsPJthK8wvHyH3SZEMAZX8xQA2YMUJUqVFJ/bPhDDTtsmDps++KanWSr59YacucPAoEAUL8aMmHNjpi6ISvWr42gg3HjxqVuAvn1CuSEtn4fQNpYrAiWgPxhLiWpuhVIiZUePXoYTatXIHW9evUymjGvGRJNFsTTS4ow/UIAWS+/oOHEXMz701/OEa0XATIEqowdO9aYiPE3tGQzCl0/VrYt46Oa0LvvvqsqVapkPmbumGpReAQJRAucMD97hb4gc2hlraAYWrNmjdEW4q9J3wMHDnTbCLoV84UMovFEe4hAPPFXhCBCJsEWf0l8KkeOHFmsbyGAznAnbygEMDlm+X6FHNLuKyxYuWNFS8ErHK8oAnjtm9eqFb+scAb74+8/Vst+WpZq33DThmrn2sXNkWEd1t+kvhrS8i8/uKQSRABvv/1247/ndfInGIH/xwUJjRT+Z5xHVvzm0zgC+M477xiTLUQOs6NXMGFaQdHhJV1ordBIEZQBSfUKFXrQrvFnhQAO5gOJ8gp+h5g/iYjGNBonjRs3Vj179lT48cVJGAGEXBEEgjbREkC0dJhp0dAFSTomYPqBnEMeIYT2XnHj5nvmyZqg6fMKRBhtMRbIrbfeWl100UWGZPpFCKALymm2KRQCiH8HDtaEmgdFGqUJX15eJli5L6tg5Y4VLQWvcLyCCCD+YqTdSGoCzjYNIIEbaIO8QrqVU0891ZAvb8qUMISiCCBmW8yR+O/hf+gqaP4gYfw3KG0NZlUID0ErVghigLRwDYL2EfKH1hMTN4THRSC4aCOD/N7814cRQLRnpJ+B/FpSBllFs0hwSJDYIBD8/zFFI5BgIoGjgkAeeughgxU+e65uVKw7fomk/GFtggRNKFpXgnaC9oEQQJfdlGabQiGAacIjlwkCgoAgUCYIxB10SQcBCbQ+gKVt/sVca7VsaKQI1iCYgOhOtGhBEkZq/G3JWbd69Wrj0we5s1GoEChMu+TL415HHHGESeNiBUIUlmKFNhA4SMkdd9yRMk/yOX5/uEUhkCiCVtAoEtWMiRjTsjcNDEEXBIbwnZfA0Ad9YfrleoIoIFyQIkydaNQwjZN/MEjwCcU0ihB5jP8gf8zZakfxd8StCRKJ6RYfQAJAIFy0Rfw+gDYNDMoQ8ARbgjcgwDYNDGZufnjsueeexnePcUIsCeyxZnq/DyB7gHGQjod5otW9/PLLFesHuSPTCEKKmKZNm5q1wUxNFDj3JyVNkMQ9F5IGJumbwdO+UAggm55NTE6lJOrrDKDN2UsFK/elE6zcsaKl4BWOV5AGkICBTTbZJLEGMNmqZN4azVdQ9ChaJTR3QeJKAIOSC9OfjT6FdNicct77YB61ka9B94fM+AM1aOcf8xNPPGFIH7nxbCJo689G+zDtLESHsbOuRBGjlcPsWbduXRP8QZ9RQSA2ytY/diJrwds+T8OGDTOBKosXLzamZ0ztUVHAXAcpg7j6E0HbyFw0ggTEfPTRR0bDCZZoKyGBNkWRPwoYzSAkEn9E/DQhgewJcih6M41cdtllZk9APG3SbvoNw1EIYObPZ2gPhUIAxffIfRMJVoKVOwLJWsreSkYAM4kCTrYyud06k4CZXJ45P6ggXGhd81WxIQSwFHeoEMBSBDdHu5ZD2n3hBCt3rGgpeAkBTLZj3FoXIgH8Xfu0r9OBMwt0ihYhgG77RFr5EBACKFvCj4Ac0u57QrByx0oIYDRWJZkGJtmq5H7rQiGAf+go6XXafGvlT22eFQLI6oukhUChEEC2CMk5KeGTNKIuLWBz+CLByn3xBCt3rGgpeCXTAGLiw7Qn76zofca+ymes1uoo5yARAqh9MPXiCwFM9h5OtS4UApgmPHKZICAICAJlgkCcr1OZDEJukhUI/Lpwkdqw/vfYsQgBFAIYu0miGhQKAZQSVO7bRLASrNwRSNZS9lYyDaAEgbjtr1w3AePPt16XSUsqQgCFACbdM0XaFxIBlPJmbltF/NrccKKVYOWOleAVjZX4ACbbS97WuUgA1+r8hdonIv1J6yuFAAoBzGgDCQHMCL68vFhIjfuyClbuWAkBFAKYbLe4t84FAriWpM66IlWJiK63XEMnkJY0MKVMAIOSTJJB++uvvzbr+NRTT6nRo0ebJMNk+CYnz9577x25xiRBpPyNX0ikaJMs8h2ZtqmfR+kWvmvSpIm65557TDJjJChBJgWVyQ7uKkIAXZEqnHZCatzXWrByx0oIoBDAZLvFvXU2EsDfdOLoP3Ui7xKTjaTP258QwDIggGQCnzZtWgp3b4kZ6uN9+umnaptttjHZt10JIOVPFi1aVGRvUBDZChGr5PYhk/bZZ59tilcvWbLEZM4mG7klgNS3JeO4lapVq5ryO65SKASQF0SuZNV3XbvSaidYuSMrWLljRUvBKxyvIBMwtZOpXS5RwNH7jH1V3liRnoU0LSUpFXQZtuoRtYWFAJYBAXz66afV3LlzI9fVlkVxJYDnn3++KZcSJpRLef3111N1D4PaoQGkD8aXrhQSAcznNAHprn/QdfmeUkGwKkkEkvUleysZAbSthQDGE8CyxirdwI3ImWiyX2O33ZwfKiGAZUAAKZhMYWfq5GFive6669ROO+1UZJGSEsBevXqpbbfd1tjwMRlTLw+Nn5Xd9Cbo0KGDWrZsmalXSFtq93lr/EEAIX9o/WrXrq2oEUjRabSFrlIoBFBMda47QgIb3JESrJJgRVt5DpMRwFyJAp45c6binMQVavny5WrixImmLmyY9OnTR40ZM0bddtttCmVIlHCmTZkyxShhOOv8ipP33ntP3XDDDUZZghuWrS+LlS1KcN+66667TL+/6Woau2ufOly+OHe98uSTT6ohQ4aoJR9/rHbabjt11YAB6ph27VJNbrr7bjVJWwg/0pbAGtWrqxZ77aWu1bVtm+i6vFauHTlSPaFduZZpi13VypXVPvp8p58DmjVTlevVU1W0W5lfxo4dqx588EH1wcYcgLh+wT0OOOCAVFOwGT9+vFq6dKmqUaOGOuigg9SNN96odtlll9Cpg9Epp5yi3n//fYMXfOGYY44xfW+22Wap6/ixdsstt5h1+vzzz007rJGXX355aN/gN2HCBDMe1ooxM0Z4E0L936uuukr997//NW223HJLs0/gP3CsIIlLj1SqeQDxv8N0iP8d5tZrr71WLVy4UH2oI3go6mwlCQHER+9jvZn23HNPBQG744471HPPPafYyI03qnutLyCFnY8//nj11ltvmQcFf8PTTjvN3JaCzZtuuqkp1IwZmk3KC5aH0BZ19gPKRufPCvenUDMbwS4+vzYxc0NOvSkWMUXw5/q5TWDKmLxiaxbSj8vnlfUDYzUHtr0dI2p//uI+516zZs1SLVu2LFIzMZfnVFrrxHq98cYbqlWrVgrsy3KdSmtOdn+U9N5bt26dwYoXb5UqVczeCtuTrs9N2J7Mpucp3XXi3YNlA7zYW/kwJ/+6pjunn3/+WX2hzYg7auJg3/9r1qwx73ivBpB/B6W+La/PebY4J1nX5s2bq+OOO874xgcRQMYIObz66qvVSp325OKLLzbnWtTYr7zySqPgQBly7733moT+3vZ8Bonr1KmTIT48jxBMiNC5555rHv2g/rkvipU2bdqY/nGlgvBwPqOM+UNj/9rkyaq9VrRcqfvp0ratmvzSS+qaESPUtAceMOQN6dK3rzq+Y0e17x57qPX6nPm/YcPUh4sXqzlaOVNzk03+Oqs1ga2nXbN2bNhQrdPviTsfeUThWrZYt6unCWDQGHv06GGek4MPPtic50OHDjXYQQgZN3OCrB544IHq2GOPNXti8ODBat68eWq+DjipWbNmIKECP0ja/vvvb+4NF+nXr59Zu4cffjh1zQBNUCFq3Beu8sMPP6hvv/1WtW/fPrBfPuR6iCIKMuIWIPiPP/64uQf3YuwQQJRXKLkgln01fs00luARJOVKAP0D4iHFB2/gwIEKcmYlCQH098mBAfitW7dWw/TmQWDP++23n9nMVliQt99+2xCZIOGXF2SQxe3WrVtgm6CgFho+++yzqQ3ToEED8yDho0ifVvhlxR9ElU1khbZcA0mFLFthUfFH5JeZl0Sw8djQpGXxyiGHHGLIKXO0wssUIsIvB36xWNlEP1j8EmJ8Xl9KKn3spX+BsR78WWFTrtB1E+1/82FOpbVO7EcOoq5du5o9UZbrVFpzsutd0ntvwYIFBqvtt9/e/CAM2nu5NieX5yndOXG48gMavCC62fSOSHdOJfXe44d7rVq1DDa8/yF+/EDnoLcEEMx4Jvnh4f0hz3uSdyKf8Z0VfpRAJjlEf//978TC9M87mPe1993MZ3zHOef9YY12CcIOIfUK92RMaCqtoEiAAHbp0qXIecD3zAdtEN+j2ECj1L9/f6c5oenCNYoATP+crIIAIgfxQPv30UcfmXMtyZxa7NNcHdvhCHW5HhdyqiaoP+q5TRo1KjU/CN8Weo4PaGIUJCv1WbWDtsb9VxPKQ/QZvgFliiZ+iF0nyC9n0WRNMCGgLuvEurI30LQSRMo6gSfztLWAbb9YDeETrgLvoF+0cgjvNZ5NCFuUNjGuf2thJIainUdr6r0OggjZZc+xx/ySVQSQwR1++OFq5513NupjK5kQQPrAtMsvHH5JIRA57nO3Vi9b4X5oIIkODhM0iJiXiR4OEtEAigYwTmMhGsC/n5w47bNoAJNZCUQDqEI16iWtAVyjtVW/zH5L1TywhdpUBxP6paQ0hv5+IYRBGkAIJWcaxBCChqaT/8ZpAK22k+wZF2jTql8DyP1tFDAEGjn11FMN6YVcIGFz/V0THhu4wfh21Rq1CzS5Ovvkk811TfR4++u++m+0uvHZndosO3zcOLVIa8eCZInuc88jjzSaOMzKfoGIY/XDNIoGEDNo1Bjt2CHfZCB57LHHVOfOnc2ceFej/bQEEE0bHIB776E1kghKH7DzKkS8Y/rqq6/UyXq+DTVJHafnhaD1I+NI79691fDhww2+aP743AaZWs4zY8YMQ2L9wrsRYglnYVx2nv52cJxBgwYZjXCQZBUB5AWGBhBgUE1byYQAAi7aLNSsqLMRFgQ2jvbMCpt/9uzZRbSCXsAw46IaxmZvzcSBiHo+LBQfQHE+j9sJf38vWAlW7ggkayl7KxyvoChg2zppEAjkb9k5/VA5wThVw5EjVC1twiwLsWZevwn4+uuvV5CFF154wZAXrEmQvzgfQDtmSExY8KTXJI6WGX94/AYhnF6JSr58GyZgTXrmTJqk6m9079pcm4LHaAJz4lFHpbrBnNtHu1t9P2fOX5950rMwDvzpIKnes5tmaCNPOukkoxVF24z/PhYJV8FMC3Zo5ayLgDcIBOIddG8IHKbj6dOnF7lV9+7d1SQ9VzSmRx99tCGWtl/MsuBNfAKaQe4D/8DC9pLeWwiKKLR6+Cl6/RKTzBPOgvUTwg5RDJJyJYD4KAAOqldMiAwS9SoMGy0dpklMQLDoo/QmwfyKypSULjatC2QMYsYDgOD/gN0epg4BgyWTTgYfCgskZlDs/7Q94YQTjHkVLSHkDgdOVO4we2z/bCYIKM6ZjAX1rf0lFLe5CokAShqYuN3w1/eSqsMNJ8HKHSfbUvZWOGZRaWC+1ufA+m9WOAP+m9Ys/a4tSlaqaO1OtYh0Iv6OK29VXzXQ50s6EkQAMW9zPs7RpImUaYifAEI6rAaK771mZf4/jgCiwePsa6uJLu5SF2kXFltpo54ncOIkrT2706O8oe/HtA/+OXq+j2nNXFvtJ24FAjhWa+pO0Bo9KxOen6rOHnKF0TD6BZIG8cRtBo2aV9Dw4rKEHx0BHhApFDouQZto3gh0efnll41p1oqXADLnsHsHrSOmdAJqcPmAO0CaR+pgFQQFF2PkO+IfENaOoA5cOKLMwq7zhHscccQRhlRiCscMHiTlSgBh7EQ4sWg4MULciFjBgdFuyqCkzjg6QtAQ1KNsdjYwApNGRc4CEPmC+pa2BCh4BSaNahQ1MepyfA5tFDCsnV9YpJ1hESGB5AxkbAR1uEqhEECJPnTdERKp6Y6UYJUEK9rKcxiOWEmWgss2DeDtt99uzi+0VF7ywv9zXqHAQMHCeWQFNyuvhBFATLjk4Fug8+R26tlTna6VIldrMuSVJfp7K7W0D6XV8PHZE1OnGo3eOB0A0snnN2dMwFqBM1AHlFghsIH5EMDgFXwZ0erBFziv4wQFUE89Xs74KLn55puN4gk/OuICvGIJINigzXO9t/9+EFZ87VFkwSXgL0QFe/1G4Rz4fBIY4tesRo0/aJ6YswlgoT94jrcAhr+vciWAcYuY698LAcz1FSz58csh7Y6pYOWOFS0Fr3C8SpIAchfrA7hJiwPKzPzLfYM0gJj6vAGFtIMAYPpDgeISaGAIoCZ2yz2BkRbN+drH7Mgzz1SnaPPrfzzBmXG7E81fX60NvF8TvC6eIAWbgPnEE080gS9k6bBCtDHBJo/oSF4ErTbkDzMrGjqbySPu3hBcgh+soiioPeZXyB+mX5RPfuF5wl0M62GSe/v7wVxN0AjZRFBWQfJYH3z3bOEJgj8xCXu1gnFz5Hv/POEc9E1wDrhCAqNECKALymm2EQKYJnB5fJkc0u6LK1i5YyUEMBqrkiaAyVYms9aYayELCBatW2+91VikCBjAfSpIonwAf9VWrw0b05Ut1WbT1ToFyRTtP3i7JoEv6hQsSCPd76aaPED+Omny105b0K7TLltWKmntIqlXwgTy10unTblJB0z+U5siq280dRLxbHPSkYUDYkTABv51aNmuuOIKY+K1ue3Iz0v6E77zEln6oC9MolxP8AvaNcgwplbM3ZjGgwJFGDNmX1K70TepYKwQHc4fQhQ1/XBva5Xkc3tv/u33AYR0kdIO/0P6IWUMWU0gtTbjA+Z0+z3aTv4f8zYR3pBDxO8D6DJPyDTaQ9yxIMzeVDVYWG2aLu+aCQHM7NmMvLqQCKDNAxgUal6KEOdc15Aawcpt2QQrN5xsK8ErHK9cJoBonyB8fjn99NNTrk/+7ywBPEenLIsqodZbk7Rx2kfML1N1wGRrTWJIsnydJyOHbbe99jVcqDVnQVJVk8d2mpDhzx83ZvLTQfo+0bV90YZB5rxp1sICdMgrSL471hUtHf5+uJKRLgpyRZ9RQSDg4zczM1ave1ncvWnvjwImEId8gRA/gloxwTMfUuxAAq1gDkazCeGDqKH5JE9iWBSwyzzD9gn3tNpH/3oIAUz2jk3UulAIYCJQpLEgIAgIAmWMQNxBV8bDKbXbRUXilvhNPRG6Jd53FnQopeBKuRRcFqxxqQ6hUAggfhqE5hNxlDSlQqkuQBZ2Lli5L4pg5Y4VLQWvcLyCNIC5Xr/8Vx2Vu8FX8SnZjknQWpO96jo4s5De70IAhQAmeEKKNy0UAii+Wu7bRLASrNwRSNZS9lYyApgrtYCZlddvL9muSNg6QKtnE0H7y+Yl7DnnmgsBFAKY0aYVApgRfHl5sRzS7ssqWLljRUvBK38I4G/aJ+5PT+nPZDvBrbWNxo1rLQRwn8AAijjccuH7ONeICnrxN+TCRLJxjEIAs3FVyndMcki74y9YuWMlBDAaq2wPAiltc24FXbWketOmyTbUxtZCAIUAprVxCv2iQiGAqMoJuSeTeVCoeaHvA+/8BSv33SBYuWNFS8ErmQawvKoXlTbZ85ZPS7aDglsXaoUZMQGLCTij56dQCGBGIMnFgoAgIAiUMgJxpq7SvH1pE75KOn8cqVdEShYBIYBCADPaUYVCAElkSfLLrbbaqkg5oozAy9OLBSv3hRWs3LGipeCVTANIKS5qpJZ0ZGtp+u+5+u0l2znRrdEAlhZWJTnOku5LCKAQwIz2VKEQQPHVct8mgpVg5Y5Aspayt5IRwJKMAv514SK1Yf3vyRbMoXV5ED7/sMQHUHwAHbaqNPEjIARQ9oQfATmk3feEYOWOFS0Fr7IlgKWRdDkbzblCAIUAJnsTSWuDgBBA2QhCANPfA0JokmEneJUuASxp0242kr0gBIUACgFM9iaS1gVFAPGV+OCDD9Qee+whUcAxe1+wcn85CFbuWNFS8EpGANeuXatq1KgR6QO47osvImvpJlmhyvXqqSraTzqpzJw5U910000m08Ly5cvVxIkT1T//+c8i3VAX94EHHijyWYsWLdSbb74ZeTtq706ZMkXNnTtXVa1aVX3//fdF2r/33nvqhhtuUK+++qpatWqVooZu37591XnnnRfZ71NPPaXu0jWE6ZeauLvvvrupm9uhQ4ci1z355JNqyJAhasmSJalawF27dk21uf766xV9LVy40KzVQQcdpG688Ua1yy67pNrQ74QJE9TSpUvNHMhGwbyYf5h8+OGH6sorrzSYUhP4tttuU+eff36R5jxPL+h6x+PHj1dTp05V7JcmTZqoe+65x9wjTMDmtddeM2diU516Bwy8Qs1e7vfWW28ZJVHjxo3VJZdcok455ZTQPvHBpL7xc889Z+omb7755qp9+/ZmbbbRdZmRzz77TO24446BfTz22GPq+OOPL/ZdXHCU5AFM+rR62heKBjADiORSQUAQEARKHYG4g84/gJKI3C0p/73nn39evf7666p58+bq2GOPDSWABOLdd999qalAhurUqROJ7VVXXaVq166tli1bZoiNnwDee++9hsBw3+2220698cYbqnfv3mro0KHq3HPPDe0bMgUxOeyww0z/jOvmm29Ws2fPVvvss4+5btasWapVq1bqmmuuUZA+iC2kDPJkyVvHjh3VSSedpPbff3/j4jB48GA1b948NX/+fFWzZk3Tz8MPP6zq16+vdtppJ0PSIFePP/64+vjjj1U9TbqD5O2331aQIojcBRdcoC699NJiBPDbb79VzZo1U0cccYQ655xzzD0gqpDgRo0ahc59wIABhqAy1/fff78YAbzuuuvMODt16mQCJyHgjOHpp59WRx99dGC/P/zwgzruuOPUWWedpfbaay9TehWMweSdd94x10BYV65cWeT6MWPGmLX6+uuvFZVciu3zX39Vn376qSGO1atXL/a9EMAMXk2FQgCJPvxC/1LeXqciqFixYgaI5f+lgpX7GgtW7ljRUvAKxysoEfS6deuMxsgbBZwp8Sttsy5jDdMAQt4gEenI/fffbwiFnwDSFyZgL1b9+vVTC3Qd4pdeeinRrdACnnjiiYbkIfybMxKCawXCR035Rx55JLBvCA5E7JVXXlGtW7cObGPP3WnTpql27drFjhFCx9z9GsCBAweqF1980RCsdPLboplkPfwawKABHXXUUYYMQrhdBRJ7wAEHGA0mZ2+QQLb54QC5D5K4H0ZCAF1XI6BdoRBA8T1y3ySClWDljkCylrK3khFAbxRw0lq7X3z6m1q+bJ1q0LCq2uXocHNgshWMbx1FACEbEFo0boceeqgxg0KWXCSOAHqx6tGjh4I4PPHEEy5dmzb8OIFoQaqs5hDSguaLPyto726//XZDaoIErR4mU7SAuBz5BaI6bNgwde211xoN4JZbbhk7xjACuNtuu6m9997bkF/M8Ntuu63RBKKFswLJAzvMr35JQgAPOeQQdeCBBxotKWLNuTNmzFBt2rQJnAMEF+0kpH0znQvSL5i399tvP6M9xnQeJEIAY7dH+g2EAKaPXb5eKYe0+8oKVu5Y0VLwCscrrBRc1RUr1Z9rf0kE9BdL/1TTJn2rKmhjx4Y/lTry7D3VjnsFmxoTdezQOIwAPvroo8bEt8MOOxiTHn517AdIQLVq1WJ7diWA+BRCLjFbHn744bH92gb4MOKvhubQklLIKvc9+eSTU/1gzj3jjDOM36Bf0EQec8wxxvyJT6JXnn32WWMqprpLgwYNjOYNs7GLhBFATKLcE4KKthKfPbSEo0ePVqeddprpevjw4UYjO3369GK3ciWAEGn8/+bMmWN8JZEvv/zSaC8ffPBBo+XzC/sZ0rjrrruqcePGBU4Tsoq/IebyMBEC6LJD0mwjBDBN4PL4Mjmk3RdXsHLHipaCVzhe/oPu148Wqw3r/iIZb7y8Rv380x+RYFfQri0VN/pQrf7qJ/Xjt7+m2m+2ZXVVZ5vi/lVhHdasXU21OfnvIIYkqxxGAP19ECwCGSQ4olu3biZww0sU0Oh5xYUAopVr27atwseNgAQrXt8ytIOjRo0q0jfm3F69eqlJkyaZwAUrEEACV7p37576jICLM88802gY/YLpGeKJj2DDhg2LfP3zzz+bABn89saOHWvM0/jguWhAwwgg44NgvfvuuykTMHPH9Ir/Ypy4EEAIWufOndXIkSNTpDKuXwJCCOjA7Yrrg7R/+BhChPkhcNFFF4V2KQQwDu0Mvi8UAojzKer2nXfeZSWz7QAAIABJREFUOS1fiQwgzrlLBSv3JROs3LGipeAVTwC30T50VbVmzFWCInc/fW+leu6ueVmlAQyaD6ZSiBcBDitWrDD+dlZ4VychgPix4Z9Hf5iWvcK73wpkxEu60Eyi0SMoAz83ryQxAffv399o9TDFhkW6evtm7j179lSDBg2KXeowAgiBxoeOSGXrA0hkM+ZlNHRxEkcA8WOE/N1yyy0msMZFIH8nnHCCiQSG5NatWzfwsoceesgQacYZFgjDhUIAXVBPs02hEMA04ZHLBAFBQBAoEwSW6IjVn3Wk6fY6KrSaQ6BaXMoWSOCXH32vtm1Su8zMvwDlqgEkZQs+a0SBWnNlFNBRGkBSpqD5O/30001Eqaug+YOE8V9/2hr6wKy6Zs0ak9rECpGx+DDaIBBMsJA/zKxouyB2LgLBRRsJCYuTMAKIZpL0M94gEMzBaBaJho6TKAJoNX+ktEGz6SKW/C1evFjhGxhF7PAbxP8xzk9TCKAL8mm2KRQCKJoH9w0iWAlW7ggkayl7qzheS448Sq3T2pI/tTnsjysGxxLAiptsoqrpdCLpyFqd9y1IMk0Hg7nWatnQSN16660mvQopXtCi8T1kg1QtmP0IILj88suNiRCfu1q1aoVOhzarV69WkydPNrkGrW8dBArTLuSPe+GPxn1txDQasSgCAoGDeN5xxx3GBG2FXH7ksEMgUUTyolHEtw8TMaZlbxoY/NjwC+Q7b+4/+qAvTL9c36VLFzN3iC/mVMzd+D9anzo/AAR2WN+4I4880vjg8cecrXYUf0f87MAW/0J8AAkAgVTbnH1BPoCsFWuCKRyihhYUIagEszLkD20o+QIxKVvxpu3x+wDi3sH64ieIvyMRw1bYB1xrhfuTrxBijdY2SoQApvOkO15TKARQfI8cN4RuJlgJVu4IJGspe+tvvBYf2kat13nxrMQRwHRJWqIawNr8XGOjk3+SlYUwQML8gkYOzR3+XmjY8FUjIhQiRHvy65G7L0qCEkjT3kafQn6uvvrqYl1gHg2KfLUN0UBh4gwbs/0cDRWkD5MmufUgc17C6E3R4+2LvIKMHQJDEAlaOfz/MIkS/EGfUUEgYUmTCXABb4QfVEQUk5oFrRum5wsvvDA2Cjhs7gTnoG0Mw9x7b38UcFSSZ3+kMOQfEzA+m3Fp2YQAJnkSE7YVApgQsAJoLoe0+yILVu5Y0VLwUmpBs72UzttRDLgwAlixhtb4NSpZjV/cqmWiZYzruzS+l1JwUgquNPZV3vcpBDDvlzjxBOWQdodMsHLHqpAJ4DKdmmPN1BciwfITwApVq6nfG2xtTH5hWqaoDsPMvUlWrEZAHrsk15dVWyGAQgDLaq/l1X0KhQBKBQL3bStYCVbuCCRrWWh76zNt+ls7510nkCwB3EEHRmyuU3v4q1s4daIb/aEjaakPXFJS2pVDSmKc6WJVEvcuzz4wAWNWx+8ynUog5Tl213uLCdgVqTTaFQoBTAMauUQQEAQEgbQQWNTiQPWnro2aRCrpZLp/DLostOapS1+/a5/C9b5aq0HXVdWBGRC7tTqAQjPN+K51VHINHSAgkl0ICAHUUeea/Tvs4OxauGwZTaEQQB6UD3QEHKV58vWXUkntKcHKHUnByh0rWuY7Xgub76s26EoPSaRWxw6qoS4tFlQJhOAJIkldTMBxmr8KOiq2etOmgUNzLTOXrSZhKEASrJKsTza3FQIoBDCj/VkoBFB8tdy3iWAlWLkjkKxlvu6tBXvsSYSLOxiVK6umH8wr0j6sFJyrD2CUz5/V+MUN0EUjmI0kUHwAxQQct7fl+wAEhADKtvAjkK+HdGmstGCVDNV8wiuJf59FqaLODbfL7DeDtXA6XQhpOEjlYWu8kqvNhQBGkb+khC1Ok8jgk/aZbJckby0EUAhg8l0jV5jSOySs/EH7qwTV68sXiPLp4CntNRGs3BEWrNyxomU+4JVY26fnXVknxW38ysuRYKWrASxJ8ucdYFwUsatWMdkOSa+1EEAhgOntnAK/qlAIINGH32gHabKTxyWeLPAtoQQr9x0gWLljRctcxcsljUsQEta/zwWlIAJIaa0qVaqE+gCWFvmz440zCWcLCYQAxmHlsga51kZ8AMUHMKM9WygEMCOQ5GJBQBAoSARsmbakk6/bt4+qr3P/JZG4dBf+vqLIX1yd4CTj+o0ydRGBLdlmDk4yt1xvKwRQCGBGe7hQCCAPCnUX9913X4kCjtkxgpX7IyVYuWNFy1zBK51oXhUQ2JEEnSAN4C+aeG2ia//6o4CjNHPployLGmucX2B5k0A0gGFYJVmDXGsrBFAIYEZ7tlAIYD74HmW00AkuFqzcwRKs3LGiZTbjtUKnYlk1anSyCenWLv59Lp26+gBG1faNSvXiMoa4NmFax9feeUcNe/JJ8yN7+fLlauLEiab2r1eC6su2aNFCvflmcFCMvZbau1OmTFFz585VVatWNbWEvfLee++pG264Qb366qtq1apVppZt37591XnnnRc5naeeekrdddddpt/ffvtN7a5rIFNXuEOHDkWue1LPa8iQIWrJkiWpWsBdu3ZNtbn++usVfS1cuNCk7DnooIPUjTfeqHbZZZdUG/qdMGGCWrp0qZkDigjmxfzD5EOdo/HKK680mFIz97bbblPn+7TKEMAXXnhBjR8/Xk2dOtWkwmnSpIm65557zD3CBGxee+01kxqtqU4NBAZh8vHHH6cSTfux918DEacu85gxY9R3331n5jdixAiDLRJVL/ixxx5Txx9/fLFhxGnGJQ9g3FMb8b0QwAzAy9NLs/mQzjbIBatkK5KNeC0+tI1ar/2DE4k+xJu+/16iS+IauxDAyETPFSqoGhsP2rh7pft9mCbwBU2+ZumKFC06dlTHHntsKAHED/u+++5L3R4yVKdOncjhXHXVVap27dpq2bJlhtj4Sci9995rqmEceeSRhvzMmjVL9e7dWw0dOlSde+65oX1DprbZZht12GGHmf4Z180336xmz55tCA9CX61atVLXXHONgvRBbCFlkCdL3jrqOZ900klq//33Nz9wBg8erObNm6fmz5+vatasafp5+OGHVf369dVOO+1kSBpk7vHHH1eQq3r16gWO8e2331aQIojcBRdcoC699NJiBPDbb79VzZo1U0cccYQ655xzzD0gqpDgRo0ahc59wIABhqAy1/fffz+UAOJXCaFljG+88UYx7P03gPhCbO+//36zFtdee62aOXOmWrRokapVq5axAKz0JSqHLLJWX3/9tYl494sQwHSfVofrhAA6gFRgTbLxkM7WJRCskq1MtuCVblBHSWn7glBzIYClHfThspqUmYMIBkmFylVUjaa7hhJAyNvTTz/tcptibSAVkLYgLZQ/Crhfv35qwYIF6qWXXkp0LzRVJ554oiF5CP/mjHz++edT/UD4tthiC/XII48E9g3BgYi98sorqnXr1oFt7Lk7bdo01a5du9gxQuiYu18DOHDgQPXiiy+qd7QGNp0CB2gmWY8wDSCk86uvvjJjDMPeDp41gFDTjusQNKsEXkIM+/TpEzhPyHbz5s0NuXd5LvxtRAMYu33CGxQKAWRzopLmwXXJqp8BpDl/qWDlvoSClTtWtCxvvNLy7dPjrtF8H/UPrcUpTQkigGhMONh5ZyUlfx+/M1st/fB9td3uzdTO+4WbGtOZU1TlkE323DOUAEI20PqhcTv00EONtgiy5CJxBNCLVY8ePUxllSeeeMKla9OGCHWIFqTKag631yXz0L7xZwXt3e3aXQCzbJCg1WvcuLHRAlJ5yi/r1q1Tw4YNM9ox2m655ZaxYwwjgLvp8nx77723ok80bdvqOtJoAs8666xUn5A8sMP86pcoAgh57tWrlyGHmLj9BNCac2fMmKHatGmjPtHBQmgd58yZk9Kgcr9jjjnGrPcDDzxQ7P6Yt/fbbz/1+uuvG01jkIgGMHZ7pN+gUAhg+gjJlYKAIJDLCKSTsNnMV5OuhiOGq1pt25bJ9KMOunTI36SbrlEVdA3fDZrYHHPJkBIngWGBKGEE8NFHHzUmvh122MEkvMavDo0wJKBatWqxGEcRQO/FmG0hl/gNHn744bH92gY33XST8SVEc2hJKWSV+5588smpfjDnnnHGGUa75Rd+4EB4UDbgk+iVZ5991piKCVZp0KCB0bxhNnaRMAJoE4ZDUNFWvvXWW4aojR49Wp122mmm6+HDhxtCPn36dGcCiC8lmrlx48YZLWYQ9l9++aXRDD744IPqAF3HGhPxwQcfrPgcTaAVzPGQZXwV/QJZffnll425PEyEALrskDTbFAoB5EXDi6Fly5Y6WK9ymmgVxmWClfs6C1buWNGyrPBKN6DD8D4ddbvrnP8lm1gJtA4zAVfWh+crz01UPweYXStuVivwzt8u/Vz9uOJvv8bN62+l6m63g/Moa9Wpq9r36hfbPoiYQgAnaA3ZiTFBGASLQAYJjujWrZsJ3IBwWKEKilfiNIC0h2i01YQdH7crrrgidbnXtwzt4KhRo4r0jTkXbdekSZNU+/btU99BANFcde/ePfUZARdnnnmm0TD6BdMzxBMfwYYNGxb5+ueffzYBMvjtjR071pin8cFz0YCGEUDGt+uuuxofSGsCZu74D3LexUmYBpD1wIcPQoy4kG9LADEZQ3CtoI0k+IUgFa/gC0k7fghcdNFFoUMVAhi3ihl8X0gEkIfykEMOEQIYs1+yxU8rg21dZpcKVsmgLm28FjTbS2l7WLJBbWxdFmbeqIEFEcBf0YxorVKQROX6w/xb2hpAOyY/CbQEsIvWDsWlh8FUCvHCZ2zFihXG387KzjvvXGTacQQQP7jOnTub/jAtewVTqxUqXnlJF5pJNHoEZRx11FFFrktiAu7fv7/R6mGKpZxfnDD3nj17qkGDBsU1NabpIB9ACDSaOiKVLQEkshnzMpq4OAkjgJhsvQQczSYmcu5B0Abj9ktSE/BDDz1kiDTjDAuE4R5CAONWMYPvhQBmAF6eXlrah3Q+wSZYJVvN0sBrUYsD1Z+6lGU6ElWbN53+MrnGf9D9+tFitWFdcTMj9yDYovquf6cZCbovJHDZ/PdVw91K3gfQez9/ZLCXAOqyS6qG9lMLEsyM+KxBKKy5Mgq/KAJIOhM0f6effrrClOsqaP4gM/zXn7aGPjCrrlmzRj333HOpLjt16mR82mwQCOQI8oeZFXMmxM5FILhoIyFhcRJGANFMkn7GGwSCORjNIhq5OAkjgJjB8am0gmaUQA76ZM3wpfeLDQLh/vhRIvgmQraDgkDwG8T/Mc5PUwhg3Cpm8L0QwAzAy9NLS+OQzlOosjqvXTZiXlJ7KxMTL6Sk4fA7y8y3z3UdvAddRa0NC4u0xTextNO9uI7ZtlulAx4W61QfSEudy+3GSy5RrbVfWB1dZ357rb1ar019kA1SxGD2I4Dg8ssvV1/oiGLIBilCwoQ2q1evVpMnTzbkzvrWQaAw7ZIvj1Qu/BGcYYP80FZFaZYgcBDPO+64w5igrZDLb3M9bgTCgw8cGkV8+yBCmJa9aWDwY8MvkO+8uf/og74w/XJ9ly5dzNwhviNHjjTmbvwfbY48//whT9Y3jhQ3p5xyivljzlY7Sg5FrFpgi38hPoCYXCHVtEWCfADRiKLhwxROEAdaUISgEszKfnHxAeQaiB55EUmpAxG+7rrrDCm2aWBsv9wfEzPEmqjqKBECmPRpTNC+UAhgoWaKT7AVUk0FK3fUBCt3rGiZKV5p5ezbOMSqOgdbo+emJBtwGba2B932OudaRZ0TLUzizKplOOTUrTjkIWB+6aFJzxhNftZpUnGC1pLhq0YaF4gQ7cmvt91220UOOSiBNBfY6FPID8mH/YJ5NCjy1bZDA0WqFr+gRYTwWEFDBemzJk7InJcwhmWVgAQxdtaVIBK0cvj/1a1b1wR/0GdUEEhY0mQCXMAbQUtHRDG5EBcvXmxMzxdeeGFsFHDY3AnOQdvolyAC6I8Cts83a0EQijcRtD8aGvKPCRifzYr6B1mUCAEsxSe6kAigN01AKUKa811zSAtWbssoWLnhZFulg9ca7Sy/rJ9O6BviCxc1gmwy8cYhZQ+6Bjr5brWQQzEbyZ93XlHRylV1SpVK2v+uNIR9ZaWQ0nxJKTgpBZfR81QoBLCkTE8ZgZ0jFwtW7gslWLljRcskeKWt7SuFKh3JZpleawjgRzofGhrAIAKY7eTPzjppypr00Cp6lT8RdEn0mQt9CAEUApjRPhUCmBF8eXlxkkM6LwFIMCnBKgFYDgTQaPvO7U9W3mQd69Z1+/ZR9X21UhN3Uo4XfNi2nfpj8OWBBDBXyF95kUAhgPukVQmkHLe7863FBOwMVfKGQgCTY5bvVwipcV9hwcodqygN4JIjj1LrdCWBpJJLJt6ouVGh5A8dNPDHFYOLEcDqujxZLpo1y1ITKARQCGDSd4e01wgIAZRt4EdASI37nhCs3LEKIoDplmar1bGDaqgjPvNBbF3iP3VghJ8A/rnZ5mqT7RrmJAH8/Ztv1HpdFzdMSlKrKQRQCGA+vAvKfA6FQgDTcT4v88XIkhsKVu4LIVi5Y0VL8PpG11L9bszYZBfq1uVVoSPxQBNesGDXpuYKPwGsoNOYVNNVHpBc1AAy7qiawXxfUiRQgkCEACZ87NyaB4WYb7XVVurrjWH6FEkm5Jl8PuT3Icyd4sxRQkg1mcf9QmkUavtZIUM2GdKff/55xXfkzbnnnnvUvvvua5qw6Qm5JuePN+Q6LK9Q0JgKiQBSg3ETXeYpV1+mbjs281aZpurIfAS504Ng5b5W6dbkLe8KHe4zTN7Skr8gAojpl+oLpMnI5XfWrzrP3wZPUuEiKEUkik6Cpq1UketYJZkzbSUIpJSDQCCA5AGaNm1aam28CSbJZUPuHIofk4DRlQCep+skkhzRK1tvvXXqfyF0lHghV9LZZ59tsmkvWbLE5Ohp1KiRaUfSRXISQSghh5R/oQyNP+li1KYqFAIopjr3V4tgJVi5IxDfMi3il6ORvPFo/N3CS/78BLB2s2bmBz7Jekn8m8sEkLmtpaRdSGBPRf2jvJrO0ZiJ5BNWSXAQAlgGBJD6fnPnzo1cF5sU0ZUAUtePhJhhctlll6nXdUoAm/Xc386WXaEftITIb7/9ptBOBpVdCbuPEMAkj1thtBUC6L7OglU0Vn6SE4dsPmv7vHNfsNvuxQiRNQE3OfhgYwnKN1KzVlfsCMvlmGmOwHzDKu45sd8LASwDAkj5Gcq6VKtWTbVo0cKUN9nJ94slKQGkYDU19VhATMZkREfjZ4WSLB06dFDLli0z2cppS8kZtIxI0sLLQgDXm/I9lM2pXLmy6/NVkO2E1Lgvu2AVjFWi+rxZWprNfRckaxkW+AIB3HDD9WrnvfbKSwIISqUVGSwEUHwAkz2Fjq3xv8N3DBPrNzqqCTMrxZepP0hJFytJCCD1+6iFt+eee5ooXGoRUhPvvffeSxWStr6AlHU5XtdWpMYf2j78DalfSI3Cg/UvRfwEMT9b6d27tymv8sILLwTOEC0hf1a4P6V48F/cbGOWdswNmLkhp17nWvwr+HP9nD7oi0PSK3yOeItN8/9hn0PYrLO97ceOER8Z/uI+515geICuT2nvwzW5PKfSWifWi7JFBx10kCHLZblOpTUnuz9Keu9RrxOs+GFYpUoVs7fC9qTrcxO2J7PpeQpbp8U6nYmuAO/0dq2gf1Tv8uasrHlHlMXewxz+67sh1qQ99lAb/n21Kedl3/+YgGvWrFnEBMw4ve9l77uvPD53WuyNjRh7FAnE79ErrnNl3tTcxVweJK79JJlLeeNuz1askyiPvOdaOvPI1muyKg8gmwwfvIEDB5qae+kQQD/QHBjNmzc3Raep64dQkHm//fYzRM/KgAED1Ntvv61mzZqVIoBfffWVqatoBQ3h0qVL1dSpUwPXM6xu4rPPPmteNAj9UdQaX8Lly5en+sH/kD+IKj6KVmjLNRAsyLKVZtqPpU6dOsaM7SUR1D9Em4pGzito5yCnzNEKm7pVq1amGPj777+f+pxgDsgc4/P6Um6xxRZqL/0LGkLurQMpc1JmTWWdZO+V9PP0412jVA39vqGiZ4WYU4SCXeu1m8rqq//PtCykd8Tu+t347YUXBSOk3/crh9+patWqpbbXJdN4//NvfowRAGiFHwe8p/nh4f0hz3uSdyKf8Z0VfpRAJjlEf9cl5qzQP+9g3tfedzOf8R3nnPeHdY0aNcyPwTVr1hQZP/dkTCgcUGRARgiQJDiyi64D7D0P+vbtqx5++OEi1++vz4hXxo8v8tl6XcMXsXMi0BEFybx588zY6N87Jz6/9dZbFYoVFBnUACbIEosZEjYnzkgCKHHbArNddcT1oEGDzLiZE+QbmTRpklH84OvP2U8N36OPPjo15uHDh6snn3zSnEOMix+D1qJn1wmrIW1Q2DAHCJu3FnDQOi3QwTPXX3+9GR9KHf7dr1+/InNirl988UWxPcXcR4wYEfo0BvmU3nXXXYo1Qqg1fJuO1udMR0nUuHFjdckll6hTTjkl5gn/++s+ffoYfOkH5RUSVt+Y7x577DGj7PJLVhFABnf44YernXfeWQGYlSQawCAEIW6Ye9E4Iiws97n77rtTzbkfG5FNlK4JuFA1gIDIRrZaTguqaAD/etF6NbX8msY/FQ03n4sG8K/ayFa82mc+B6vatWubQ6OQNICL9z9AbfD84Is7GSpr4rfj9GnmxyN4WRyzxUpQ2hrAxXvsGQyRfsZ2nf+hIV0c5l4NIPvLH9maVJtV2u2ZFOcWPusoMo477jhDAP/5z38WmS+kDCvavffeaz7/VROmqpqg1tGaYL9YTSBjv/LKK81+4XzkWvaPd058BvHkfigoUJpAPvCFP/dcXUNaSxAGkBJcq9q0aWP6v++++9Qtt9xiiKR1x0LZgmLm3//+t+ratauaOHGiuuqqq4xSA6KHdOrUSZ144okKxQaEHWIHKZ2vA18gyAjEl0BOXMcgNBBWgksXL16s6unSf0FjRBECKUIRdMEFFxilkyVStj0KEBQyWBN593zwwQeGN8yYMcPMK0zAg/l27Ngx1QQ3N4g+AmHlhwdzI65gypQpZgzEQ3jJb1j/tEPZtFLngYQ42nGzn/nMK5DEoUOHGmIfpMHNKgIIgeJXAKZWNqaVTAggBy7aLBbRPhwna1MBmjxvEAgLgLmJDW6DQOzGYBz82mCTSRBI8W0pvlqh74JiXwhWglUYAol8+2wnmhg31QQHKdS9FRUM03ThAoON/6DLVb82yAVEyU8A//Wvf5kfS5ADJGmiaLJdhAVP+rFCU4YG7SVdWjCJkEINMmfPdv6N4sAqZugL0oSl6ZFHHgnsGoLDOYzvPuQxSGzwJdlF2rVrFztEiC1z9xJALvIHgfA91jyIZVTkeNgaRQ3kqKOOMmTQcpSwtiioIMdohbkmaNzeayHb/HAgxV2QlCsBvPjiiw3jRS2/YsUKo4FjYWH4aOkwTfKrDVMsk50wYYIxtZHSxaZ1wWePXxqocBFU2gceeKBRq7IRMPuSToZfUBBBBPaPDxZtTzjhBKOKRUsIW7ZqWIgefcLk6QvWjupW0sAU30aFevDEvlkCGghW7qgVAlZppXHZCKG/Pm8h4OXfPQvQ/Pn8oG0bS/74/5ImgGvnr1K/LfleVWtUW9XY7W9/dffdnV7LKAII+cMEisbt0EMPVUPOPFPVC/Hb0wxG1fD4BCYhgD169DB4omVzFUzeEC00bVZzyLmPkoU/K5g0b9dVaDDLBgn+/ZzHcIQ9tF+nX1DUcObDJWi75ZZbxg7RhQBCBokHwDXt8ssvT/WJJg7svC5RrBGcBIzQOJ+p1wGlFtrmMMFFC95y8803myZW6eXVNoJh+/bt1THHHKNIdRc2bnsP8iej4YT7wHeCpFwJ4EknnWRy63377bdGVQsA2PeJ0kXCkjqjJgZ4BFUsQNAWYTOhIkflidoVBkzbli1bFpk/TB6fBNg8i8TC2ihgGtpE0ASGeBNBB226sEWVNDCxz17BNSjEQzrdRc5nrNIt06ZPeNX0/fcCIc1nvIImHFXjuOHIEapW27apy0qSAEL+Vj2oc+/hlKkdL+uetluZkcAwAvjoo48aEx+KE/zphgwZYjTCr2sfwKobAwP9GFaorH0Yd90ldda6aAAx4UIuMVtiDnUVsn3ccMMNRnOIBg+BrHJuY5GzgjkXc7bXB9N+x5kM+eE89qdw4zyHT+AXiS82ZBizsYu4EEB8DBknCilvYCg+imhkp0+fnroV5BPNIyZfPkfjCdfAfB0kEGkUT3PmzFG20ASaPvp48MEHU4orFFIQQrR/7IM4AoivIkorzOVhUq4E0GVxcrlNoRBAfh3xa4MqKvkaLVVS+1Cwckcy37DKRNtXkaje2W9GgpdveEVNdo02Py475y+nfb8E5TsMIoC2etH3T3+s/vjRLbqae/3+zc/qj9V/Z3uoVKeaqrLVX0F+LlJps6pqi66NXZoWa+NqXsR/DTKI1ayTtpr119auCZokWVmprV5IJZ2dgjyBcRpAsIJYttWkmoBJL5nx+pahHRw1alSRcWPOJTUbAR9osKxAAB944AHVvXv31GfjNWFFY8Z6+QXTM8STAMeGDRsW+RofT+aMMmns2LHGPI1LlyWbUWC7EMAjjzzSENZnnnkm8brh+4if4w8//FDsWgha586d1ciRI00GkjDhfMUKCkm0BDSKAOJjCBHmh8BFF4UER+mbCQFMvJzuFxQKAXRHRFoKAoWHwIJmezmnbymCTgFU7Eh3N4T6/YVgFnfQJRlHNmoAg8aPqRTiRTGDz7Vr1RpNkqw00qQvRcT0vx/SVrOoAgpokaicRX9UyPIKplYrBAJ6SReaSTR6jz/+uCEwXkliAu7fv7/R6mExxGIXJ8y9Z8+eRvMWJ3EEkGwb9IdlEQ1kUsEEi4k+9ViVAAAgAElEQVQXqyR+flZwd4P8QRAxEUcJZnGslF4zsg1iItWc1wRNP7i9QaTRJNpAmKD+456LClrtSnYBkTQQKBQCiG8CEWhs7ig/hzQgzLtLBCv3Jc1lrKLMk5EIaNNO3T69Vf2NqR3c0aL4RWE8hy5BH37cgjSApG4hRUiUQ38Y/sYH8JMfdJk1Hd2ZBT6A/nGSsgU/NPzarWYpKkfgo++8E0oAiX7FHEk/mHJdBc0fJIz/+oNW6IMgEFLfkIbGCpGx+DDaIBDoB+QPMyvaMoiYi5BJBG2kdRWLuiaOAE6ePNloFQkcTafQAWZionUJ0iFtDmI1f8Qa2PQzUWNkPb1p42hLMYtTTz3VEGxiI7yCaxz+j3F+mkIAXXZTmm0KhQAWmu9RmtvBXCZYuaOXa1gt06RtzdTgJPFxs66qU1g0em5KXLPI73MNr3Qmu/jQNmq9/rEZJN6gD//3JekDmM64M7mGnHlWy4ZPO2lO0MahmUKLxvcQnWOPPdaY/dAGEaiAvxo+d+Q8tOIngUu12XS1Nk1O0b5lt2t/M+tbB4HCtEtRBu7FH1ooS5Zx9YnSLEHgIIzkL+zWrVvq/vjF4ZuPkHGDSF40imjWMBFjWsbEa9PA4MeGXyDfeUmOTauC6ZfryS/I3CFKmFPHjRtn3JKsT50ff4JFrG8c5l188PhjzswdsS4V5M/DTI0Po1/8PoCYiNH0EXPAXPHZwwRLlDZYIJA/tKEEcmBOt4KJmTVFgnwA/fcOI67sFYprQKy9qWiC9qAQwEyezJhrhQCWIrg52nUhHNIltTS5glXaAR0lXKYtV/BKd39E+f35I6LziQBCGCBgfjn99NON7x7+XmjYSGqMlgkiRHsCKjEP+sVLAnsPHqzGaQ2XX2z0aVhxA/wL/WZHbx9ooDBxho3Zfo6GCtJnc+9C5ryEMUw7S3YOSBUEhuAM/P3w/yO/KsEf3kTQQfstLGkyAS7gjUAAyQ+MBpLsH5Aqv/ijgEmAjdkZEoZGntyEmM3R8lntIePG99Ev3nsHRQG7EkDIPyZgIqnjLHJCANN9GzlcJwTQAaQCa5Lvh3RJLmc2Y5W2iVcDVBLaviCcsxmvktgXYaZfkmA3fuWvQztMclkDWBLY+ftIUjc4V3MmZoqbPw9gpv1l4/VCAEtxVQqFAPKg4CdCihyJAo7eUIKV+wOXjVhFmSAjZ1YGAR3ZiJf7ake3DPX70z6TTReEp7mwvQYRQDRnmOnS8QEsqXmVVz+RiaK1ZrrGxlRsjA8CWIhYCQHUmY4kCCT9R7RQCGD6CMmVgkBuIJCumTcoJUluzDh7Ruma7DmJBjB7Zld+I/lV58DdoKtvBUlFXWatmjZfFrIIARQCmNH+LxQCiK8DDsc4JMf5HGQEaB5cLFi5L2J5Y7VCO72vGjXafcAbW7qYJBN36nBBeePlMMTETaI0rnF+f96bBWkACQTA8b4QNYApzagOEtngqcXtxYz8gOQJRANYiFgJARQCmPiF5b2gUAhgvvseZbQJfBcLVu5olhdWaSVsLgMTbxxy5YVX3LjS/T6KgCcl2eIDGL4Kcf6A4gO4T966NokPYLpvJ4frhAA6gFRgTfLtkC7N5StrrNIhftlk4i1rvEpz7ek71O+vcmXV9IN5iW4vBDAarigSWF3XDCbVDClSCklbKhpA0QAmesn4GwsBzAi+vLw43w7p0lykssIqnYjeWh07qIbaRJxNUlZ4lcWc00n2HDUuIYDxqxZFAtfrtC9CAOMxzLUWogEsxRUrFALILyXyHpFAU6KAozeUYOX+wJU2VomJXxaYeaPQK2283Fcus5YlTf4YTRAB/E0HQFCZoZC0WnErE0oCK1RU1XdrWlBYiQZQNIBxz0vk94VCADMCSS4WBMoYgaSm3oq6csEus98s41EW5u0W7LY7Ne0CJx9V6SMOrThNR9z1hfJ9VHqYQosMFgIoBDCj575QCGC+aB4yWmzHiwUrR6B0s5LGKmlUb2klbHZHIFnLksYr2d0zb72oxYHqT12WLEgajhyharVtm/ZNRAPoDt2vCxepDet/D7zARga795a7LYUACgHMaPcWCgHMJ9+jjBbc4WLBygGkjU1KEquoXHL+EWVTYIc7WrldZzpKK1sS/pbiA5hkJykVFxmcrLfcbC0EUAhgRjtXCGBG8OXlxSVJavISIM+kSgKrJJU7cpX4WchKAq/y2FNRNX5LyvyeywRw5syZ6qabblL/+9//1PLly9XEiRNN7V+vBNWXbdGihXrzzWjXBWrvTpkyRc2dO9fkRKSWsBVI4Pu6Bu4t99yj3pgzR63S3+2wzTaq1wknqItvuCFyqzz11FOmji794mu5u44kpm5uhw4dilz35JNPqiFDhqglS5aoRo0aKcbTtWvXVJvrr79e0dfChQtN1ZaDDjpI3XjjjWqXXXZJtaHfCRMmqKVLl5o57LvvvqYf5h8mY8eOVQ8++KCpYIVwzXXXXacOOOCA1CUQQOrqPvbYYwZ35nC7Dvxq1apV5NyDfErBom/fvuY6ag3fdttt6q233lJwhMaNG6tLLrlEnXLKKc6PX58+fdSYMWNMP+eff37qOrC++OKL1SOPPGKqt7Rr106NHDlSNWzYMLDvONcIqQTivCTFGwoBzAC8PL00Vw/p8liOTLBK4ueX68Qv1wlgpmXeXPZmLhPA559/Xr3++uuqefPm6thjjw0lgN9884267777UnBAhurUqRMJz1VXXaVq166tli1bpu7RRM9LALlw1DXXqPc1+fpn+/aq4dZbqzc1oTv33/9W/9GE5QL93zCBlGyjyeJhhx1m+mdcN998s5o9e7baZ599zGWzZs0yZOoafQ9IH8T2yiuvVK+99lqKvHXs2FGddNJJav/991e8DwYPHqzmzZun5s+fr2rWrGn6efjhh1X9+vXVTrpyCaQHUvT444+bwMR69eoFDhGydfDBBxtCWb16dTV06FBDND/88EO17bbbmmsgUaeddpoaMWKEGefo0aPV3Xffbe5N0YMwgQAyX8ZuZXPtRwyBRSCajLNTp05qK13HGgJ+wQUXqKefflodffTRsduZdpDelStXGuLoJYBnn322euaZZ9T999+v6tatqy666CK1evVq8+MhKEBTCGAs3Ok3KBQCmI8VCNJf9egrBSt3ZNPBKomfX74QP4toOni5r0bptCyNiN+gkeZLJRDIRZgGEPIGOUhHIAwQCT8B/ENrqNbpKk9eOf/aa9WiTz9V01980VQKcRU0aCeeeKIheQj/5oyE4FqBNG2xxRaGfAUJpAey98orr6jWrVsHtrHn7rRp04wGzEXQ9nHf4cOHG9KHoA2E6D366KMp8tS0aVOjfUUzGSZhaxQ1jqOOOsqQwXvvvTdyuF9++aUhxy+88ILiGtbMEsAftP8shPehhx4y2CJfffWV2m677dRzzz1XTPvK90IAXXZHmm0KhQCmCY9cJgiUKAJREaTeG1XQdU53nfO/Er23dJYcgbIify4HXdLRY5L87LPP1D/+8Q+16667Jr087fZRBBDyh9YPjduhhx5qzKCQJRcJI4AGO19QSM/LLlO/6jJ6D996q6qxxx4u3evA7j8NVgMHDlTnnnuuuQZyheaLPyto7zCzfv7554H9otXDZIoWcI+Ae1OybtiwYepaTVJpu+WWWzqNb82aNQYrNIedO3c2pe820e8JiN6FF16YIoDnnXeeMWtDQBE0cWDHXrDCGqFFhFztuOOO6swzz1S9e/eOLJN6yCGHqAMPPNBoSRH649oZM2aoNm3amM/AsL3WxB5zzDGKcYCnlwC+9NJLhvCi8YPMWtlrr70Mab366quLYSEE0Gl7pNeoUAggv57wpeCBlDyA0XtFsHJ/llyxiooe9d8t02hS99GXfUtXvMp+ZMXvuKDpbkoXmQ0cSmmsUZAGEDMcZrmkeQAhf/iccR1l0jBRlhUJDCOAaKlI1LyDTtj8qdbO4VeHyRTTH7kO4ySKADLHX7VpFJmtyc8RZ5yhntJm0XbafFpB911dE7I4wYfxBu03uEDXHrakFLLKfU8++eTU5Zhzz9D948vmF8YB+fnuu+/Uq6++WuTrZ5991qzDL7/8oho0aGA0oZiNXaVfv35Gq8Y5hkkYzRkkDpMv/pX2XMN8+8ADD6hF2jcSQWOIRnb69OmpW0E+IWLsLT5H4zlo0CB1xRVXBA7niSeeMP5/c7SfJVpSBE0ffeCnaP0SIaMQQsbJPvATwDDsjjjiCEMmMWH7RQig6w5Jo12hEMBMfLXSgDWnLxGs3JcvDqskiZxLIpLUfeTl0zIOr/IZVfG7RkVkl9Y6RfkA4oPFu9pVVqxYUcRUisbNVdPGPTbTZlO0TOmIq3mRoAXIIES1W7duJgBh3LhxqVtS2s0rcQSQ9h9pMtNJa7PO1oTtMh2EYKWe1lxZ6dGjhxo1alSRvjHn9urVS02aNMlosKxAACFT3bt3T302fvx4ozFjvfwCSWOt8BH0BzX8/PPPJlDj22+/VQR4oA3D39BlXfD/g5wSnNGsWTNzW0sA8Ys8/fTTUwQQrSomVn4EuMott9yi/q39JTHR+oV7shcI1LCm56B+IfKYfCGJ+FYirgTw8MMPNwE2/nWhDyGArquYRjshgGmAlueX5MohnQ3LEIZVIQZ4uKxHLuytBc32Utq+FjidytoHqvErL7tMNXGbkgwCyUYNYBAgmEohXpdeeqmCtHpJLlWbvBJHAN955x3VWQctnK7J5NUDBhS5don2EazepIn5DHLrJV1oJtHoYVqFwHgliQm4f//+RqtHRDTarDhh7j179jSatyjB5IrGDn/B/fbbL9XU1QQcNw6+J4AHE+/XX39t/PysYEaG/EEQMRFHCWZxTNEVK1ZMNUPjz//j44fJWEzALqtRhm2EAJYh2Dlyq1w4pLMFSj9Wy7TD85qpLzgNr6TShzjdLEsaZfveijLVl7ZfZkkSQJY723wA/Vtw1apVxoRJqpAozZK9LooAYhZtq5Nwown7t/4LEoJBSBLtFTR/kDD+609bQzsCFfC9I0DBCpGxaFRtEAhmX8gfZla0ZRA7F4Hgoo3ERy9MMEtD/jCp4n/nl6AgkN12282YoaOCQPz9YCYmWpcAG2uOt5o/Utqg2YwT1hMNp1dIqXPqqacagk1aHBsEgqb3BJ2qB+EatKUSBBKHcCl8XygEEOdUUhDw68b7C6UUIM35LgUr9yX0YrVod+1sHuIzVqTHypVV0w/mud8kj1pm896KJO9lUGM5iAD+/vvvqkqVKol9AMt6y2B+JaABIYXKrTr4gvQqpHhBi8b3EB1SxOD/hjaI/HVfaM0cPne1atUKHTJtCBqYPHmyyTVofesgUPgUkhaFe2G6RVOFCXqtNn9W0pqner4UM96AEJtC5Y477jAmaCv4xZESBXnjjTdMJC9mVUgVJmL85LxpYM455xyT5oXvvLn/bFoVTL9c36VLFzN3iBLmVEgQZlPrU+cHALMvfpL0TToYK8yZP8TOgRx+tIFMY14GE8zriN8HkBQsaPpatmxpfADx2SMVC36EYIFA/tCGEsgxwKNN9abtCfIB9M/BbwLme9LA4A8JoWd/kBMQTCQNTFk/tfp+hUIAywFauWWBIJAkkXPdvn1UfU9S1AKBKCemGRrxq4lE0/l/BRiUpsT5OpXmvTPtG8IACfMLGjkOeoJZ0LC9++67RssEEaI9+fUwD0ZJUAJp2tvoU4hlUPTo9toPbaHWnHmlQqVKqrpOk4IQuWojZb1t7JjtZwRAQPo++eSTVCJoL2EMC9Ahzx5jZ10JIsHfD/8/ct8R/EGfUUEgkKegSGPyIlqtoU0EjRkbTRpBjkQpe9PP+KOAp06daszOEHZ+kJGbEDM8Wr7K+scpEoY5kdusNRIUBexfxyACCB5oGyG23kTQYfsg7rmQRNAZPL2FQgB5UPiFQTZ1iQKO3jCCldsDlSSfX2kFDriNNHtaZeveKst0L2GrEaQBJGKUVB9Jo4CzZ8XLZiSYYf1YhZWKy6dawVIKTkrBZfSEFQoBzHbfo4wWsYQvFqziAXWt25tviZzjkYlukY17KxvIH6iVtA9gpmuVS9dDADEzYxq1ZPl37fKzXidlDhLX3IDZjoEQQCGAGe1RIYAZwZeXF2fjIZ0tQLtG95ZmtGi2YJHOOLJtb0UFfTRduCCdKaZ9jRDAtKEzuQ79BJDe1pIbMMAvN1+0gEIAhQCm/9ToK4UAZgRfXl6cbYd0toAclRg4NcYy8hfLFkySjiOb9laUCb88fDWFACbdTX+3DyOAhgTqCOF81QIKARQCmP5TU0AEkBcE2dkpPyP+NNFbRrAqio+r1k/8/OJfRdm0t8JMv+WlvQ0igBzw+CzLOyv+nRWG1a86yniDxtEv+aAFFAIoBDD+rRvRolA0gBmBJBcXLAIuWr9CzOeX6xuivCN+g/CLi3bMdczLc/yBWkCdLqbGxrJm5Tm2TO4tBFAIYCb7p6BMwLNmzTK5j2yoe0bA5fHFmOkKHSvXEm4N7hym5um6nLKv3B6IbNhbUQE8Ze3350VNTMBueyioVZQJmPZhWsBcDwYRAigEMP2npoBMwNnke5TRgpXBxYWM1Rpdn3PZOfFZ76vq3FmNnptiitmTFJYySvLDIn5zljdeUTkby5P8GZKi86N9+umnpoxYdf2jIo7UxKNdOC1csArUAmqf3Rq6ckauihBAIYAZ7d1CMQGX98GT0SKV8cWFilVURKh3CbxEoVCxSndLlideUUEf2eC/KQQw3V1FoG9wFLC3x7Xz5yud+bjYTXJZCygEUAhg+k+NaAAzwi5fLy7PQ7o8MHXV+gUFBxQaVpmuT3niFeb3V9o1fl0xEwLoilTxdi4EkKuCtIAVqlVT1R3r96Y/wtK5UgigEMCMdlahaACDMsVnBFweX1xIWLlq/RqOHKFq6WLzfikkrEpiy5cXXqFBHzoQoOkCrRnKAgkigJTqona5RAFHLxD7ygWrfEsJIwRQCGBGr65CIoCSUsFtq/AyzXesXLV+cZU8CgErt13j1qo88MrWoA8/YkEE0LbJdgI4c+ZMddNNN5lym9SknThxoqn965cF/9/eeYBbUZxv/KOJoDQVUARU+gWkKsWCoLEk9vJXogmIETSWIGhEUbFgNyqoIGCCoLFGERuiMcQOFlSKXBBsgCBYkKAoEOG/78Q9nnvu7tnZPbt7ds+88zw8MffMzs7+5tuZd7+Z+cYKyTJixAh1Bi8EWwdrF+6jjz4qzZs3dzWg6667Tp599ll5//33ZbvttlNnCWenefPmyY033qjW4uKsXZw/e/bZZ8vQoUMrlbl5+XL56T//UX+f/uKL8lfrDN35S5bIJmstL+qCc3MPP/zwCtc9/vjjcsUVV8hHH32UOQv4+OOPz+S54YYbZNq0abJ48WKpVauW7LfffnLTTTdJ27ZtM3lQ7sMPPywrVqxQz4AjSfFcPXv2dH3uD6wg1qNGjVJMcSYwzvi9IOcccZTxwAMPqHLd7p17g6+//lpOO+00mT9/vuC/GzVqJMcee6xcf/31Urdu3Uz2BQsWyHnnnSdvvfWW7LTTTnLWWWcpDvlsERwmTpyo6oyycfZzly5dKlThiy++UGcB//Of/5QNGzYoTiNHjpSTTjrJkYXX7nieBazX9zrmMkUAFnPqqYDmKcqlpc5Ka4evdSh62cIFnvxLnZUnAJ8Z4uaVL4ZjsTd96AhAp9MtfCKPJftzzz0nr7/+unTr1k1OPPFERwEIAdWjRw/5wx/+IL/97W+lXr16AkG47777KhHilq688kqpX7++rFy5Uv72t79VEoCTJ09WQuM3v/mNtGnTRkUwGDJkiNx8881KwOQm2wv4Z0uk7dawofSx6lTfEj4PWQLyL3/5i7z55pvStWtXdRnKOvDAA2X06NEC0QdhC1EGsWmLtyOOOEL69++vngP2fdlllwnE0yJrzeEOO+ygynnwwQfVM7awNo/98MMPSsz94x//kGXLlklDqw5O6e2331biGGJx2LBhSjjnCkCI1V69einm+Lhyundu2YiHCzGK+uLeqMO5556r2g71RIIuAMt+/fqpMj/88EM5/fTTBW1x4YUXurbV/fffrzYyNWnSRAYPHuwoAA899FBZv3693HXXXbLLLruoe6Lcd955J8M9+wYUgBG+whSAEcJNadFxD9JxYipv38FxIXh2HfxsCChlVlG0S5y88nl5i3HShxfPUlkDCA+RkwcQIqlGjRoCkRAkTZkyRQmgXA8gyspdAwhBA3E5y9rVn5vyhYSBF/CUU05RIg8J/40xEgLXThB8OFDgoYcecnyML63zhyH24OXs06ePYx573H3R8kIecsghnjjg1cSz5wrA3ClgnXs73eyOO+5QHlx4EpHuvvtuufTSS2WNdZ5yTWuNJBK8rHfeeacS4l4e6U8//VTtZnfyAOK8ZpT/+9//PlOVnXfeWQl2fBxUaq+c3fG5v9MD6Gk+7hkoAAuAV6KXxjlIx4VQa8rXmpopmz/PV5VKkZUvAD4zx8nLbd1fUgN3hy0Av/zyRVn37RxpUL+X5en5lc+WCp7dSQBiuhcev4svvlh5zyAMIBAgMpymip3u7kcA/u53v1NhdR577DHHB3HcDGIJkzaWYEMdbc8hpqbhfcM/O8F7N2bMGDUt65TgUWttbSqBF7Bjx46VsmzevFkguK699lrlfYMXzCvpCkCne2P6GewgypzSqlWr5NRTT5WmTZvK3//+d5VlwIABykv35JNPZi5Bm8FL+PHHH6u2s0Xev//9b+nbt2+FovMJQAhohMy67777lGcXXs4zzzxTMJXfsmVLCkAvYwjzdwrAMGmWRllxDtJxENM5yi2oR6jUWEXdHnHxyufpTdrUr808TAEI8Td/wVlW0dWsfz9Jp70nxiYCnQQg1n3ttttuUrt2bSV8MLU4c+ZMtfYLAuKggw7yND1dAThnzhxVHtYNYrrRKTkJwNvvvVdutYQSPIf2lDTW6+G+EEh2wpTloEGDZNOmTZWKhicS6+kwzfrqq69W+P2ZZ55RU8UbN25ULKZPn66mYXWSjgDEZiGne2OqFR7Zf/3rXxVuhWl4CDxMSR999NFKiCH+JNJhhx2m1lJOmjQpcw2E4u677y5vvPGGCnz/+eefK+8lhBym9rNTPgEIYQnP6vPPP6+EIGwCQt2trTgFrGMhAfOYIgCLsfg8YJMU/bJSYlXeqbOI9cXtmqxOs2zRB4GZlxKrwBB8XBgHr3xrPJMq/oAw3yaQJR+OsgTHGm3S3333oVXe/6bzkLbfvpnsuGMb7etr1mws7dqO1s6fndFJANriAaLDXmeGa4455hi1Tg7Tqdi4YXug8BvWP2YnLwGIvNg4cbC1W/9Pf/qTXH755ZnLMe1oJ3gHx1pevq2WELPTozNmyDmWp+zJp56SX/3qF28pBODUqVPVmkU7YdMFpirRXrkJU88QnvBywqOWnb7//nu1QQYbVe655x41PY31hvnWP9rX6whAPLPbvZ0aEqIc0+lLrE0wEOIQzePHj1dZIQDh5cOGDjtB8OGZsC4S6w7zpXwC8Pzzz1cbS7DpBN5PCGF4VSGY995770rFUgAGeg31LjJJAOLLC18bXusX9MiVbq5iheoIm6hr6I+fb2Sf5lHIfUuFVSEM/FwbNa+0rfvLZhdmGJikeQAx7Qmhh8X+2cIMGxsglrCBZO3atWq9nZ1atWpVwbS8BODChQuVeMN0InbHZidMjdoJO10humwv4GOWJ/Isa3fr32+9VY62NlPUaNw4k9fPFDCEDcQMdkRDPHklTBOfccYZahrcK3kJQLCBN0/33rn3QxtgswuEOryTOlPAQQQgNgKhXdFWWG9pJ7Qb/j5hwgQKQC9jCPN3UwRgXFNPYbZNscoqBVZe4s8trp9f5qXAyu8zF5I/al5u7e4UxLuQ54ji2jCngFG//60BfNNaA9gztulf3NdtEwjCo2CNV/YmEOysRfiSbK+gG9t8AhCCAp6/gQMHqs0MOgkCEJ6/s60NH1OsHcHHYDOGtYGlVpYwwVQlQpXMsPLZ6de//rVau2ZvAsFHDcQfpllfeukltf5PJ0HwwBuJNXpeyU0A4n3C9DQEtJ97594P3jdsWMEOXtwLmzTgFcQmEHhBkRDaBmsXC9kEgnWRnTp1Ujuky8rKMtXAbuY99tijwpSz/SM9gF7WUcDvFIAFwCvRS6MepKPElu+4L3XfkAP/pplVlO3gVnaUvNIQ7Dkf87AFYJzti+la28uGECq33XabWueH+HF2jD8IJAiqcePGZdYAYlcrhAvO0nZLy63Yfd988408ZU3PQtzZa+sgoDC1i2lf3Av/sDnDnuGpVq2aa4gV3Os+K+8frHh0t1heyGOzpn13suqPDStIWO8GYQSPItbXwcsGD2Z2GJhzzjlHCVj8lh37D2VA3GLqF9djuhveNcTHw1QrprsRLy/bE5bNAF5TCCUkhLhB7D78wzPb3tE//vGPqhzcu33Wmcb2vXFt7hpAiFkIO6w/RFm4Bza+QNTiuZCwTg/PAlENIbh06VIVBga7o+0wME5rANFOaC94Eo888kgVbgbl7Lrrrurfli1bVD3BASF3sPsXXlPEBcQaSTxnbqIAjPBNpgCMEG5Ki45ykI4Siddmjyh2f6aVVZTtkK/sqHjlW+uZ5HV/2azSLAAh4iDAchM8cvDc2Qkx+xA4GV4kCIOrr75aCat8CcID6/Byk737FB40lJOb4FFy2/mKvNi5ilAtuWmA5VGbaq3zsxM2KED0YfcrPJgQcyeccELmd7clRfdam0pQd7QrvHRY74f1fxA9EF8oM98mEHsdXW79sFYPvJG87o08ubuAwQ2x/SD8sJGlWbNm6nkuueQSJQLtBG8d1jRivR7C3mCNJgSgfU+nXcBoa2yQyU2Y+rc9nRCTuBfEJj4cIGYvuuiiCmFh8r0XuWUzDEze1yf/jyYJQCxexbVKk4wAACAASURBVO4l7DxicieAQTptrJYe1Ff+a33VuiU/sf382EYaWfl5vrDzRsErX9uHNdUfNgen8tIsAOPgk+8eumcB55bheDSctTGsVpY3rdjPlu/+PAqOR8EVZJ+mCMCCIPHiRBNY3K27bMva0Zdb2TSJgESDTmDl8k35ex3jl7TH8ZrqSlp9S6E+P1reqG0O4VxqOcTvS+LzUgBSABZkl6YIQHwhIjYTXNncBZzfZNLEyivMS9TTf2liVVBHEdLFYfNyXfcXIKh3SI8YuBgnD2Cpn8kdGFbOhYWEF3LyAlIAhtUyhZfj9WHEKeACGJsiAKNae1QA+sRemhZWxRZ/aMC0sEqKsYXJK99O76iFfxQ8OQUcnGrQKWDc0UkAVrXChdW0zu1NeqIHMGIPoNMC08ZWnCAEUUSaNm2aCpaI3TzY3eN09l2uEbktlEREbjsSt9d9UabT4lgcUI1I6LqJAlCXlDn5whyko6KWV/wVGNzZT53TwMrP80SdNyxepSb+wJ0CMLj1FSQArV3E1mHClW6eBi8gBWAMAhC7gHBos52yt5cjphFi5zRp0kQGDx6sLQCHDh2qInBnJ2yTthMEYL772gIQ27mx28hOiNmDrfe6iQJQl5Q5+cIapKMillf8xTz1l3RWUbVB0HLD4FXe0TotwNqo5JTS6Pmzn4MCMKhVQb9tUztKEdbE7xKfLdYY+t8vv6QADI4/0iuLOgUMIYY4Ne+//37eh8x39EnuhfkCWmYLQK/7wgOIo1yQL2gyRQDiSwle2u7duwsEPJM7gSSzWtKzl2y1YlQ5pSrWtE27d+fG2rRJZhUrCM2bFcorX/sHPc9Zs+qRZ3MSgDy9SA97oSfMpHUdID2AMXgAEXwSgRVr1qwpmGLFGXYtctYH+BWAOK4GByujAbt06SKjR48WBNDMFoBe94UAhPiD1w/xexAfCDGKdM4WtO9jigDU60aYK8kE8sX5K4b4SzKrUqxbvvYP41i/YjPz8nQUu36lfP+0rgOkAIxYAD733HOCr7A2bdqo6NnXXnutLF68WEUfR0BHO/kRgFijh6jpOPgYAmzs2LHqqJl58+ZljpHRue8jjzyiXN4IeIlp6Cus8wwxxQJPF8SqU0LgR/zLFoAIBIn1izgjEQkudHjJYFz4srJTVWttFf7p/h1loCzUKTvZHjiUo/N3xO2zd3nZ+e06bt26VfDP6++4HkE4cfh09hRBmp8pqnYCT5zLiWjtdnvH1U5uz7TRCnz6+XnnO9o0xF/rt9+qYKtx2R5sG6zw0YV74p+bTeq+N242Gdcz6bxPQW0PJwGgHwUvPKfuM31nBa9dff6fnDWI1f5llue30D4i6DPltqvuM9kPY/eHODECpyjgHFl7LTh4of/L7rPw39n9cnbfV4y/+xGGUdUdz413sUaNGs59hAezH8vLxXpxK127fdaxcG7PGdUz6bQrnhmzk3AelerMlteHUay7gPGSIho4jk4ZPnx4IAGYa0jocLt166aOnMFZe07J7b7ZeVevXq3EII5fyY5Unp3HLWo6jmHBYd1IGPgRpR1rFFGmnXBGIP5BqCKkip2QF9cgYjjEsp1w5h/WI+Lonmyxh+jnEKj2sTN2fhwHBHH69ttvZ8qAUeOQahwxM3/+/Mzfa1udfo8ePVT9stdSIsxL586dVQT47CjwGHDsgRr/WwrPFFU7wR4xEOGcTthEnO3k9kyNz/6jc//785q/YtleuTVwgBWOu8IHoZPtRdVONpBivE9Bnwkfv/iABi8IQN0+Yher/Z0WbuATct09k0LpI4I+U1i2hw/3OnXqKDaY1cHHPRwEEBi2AAQzvJM4Jiz7Qx79JPpE/A2/2QmCCGISgyjEpJ1QPvpg9NfZfTP+ht8w3mR/COBIMwhRnIubnXBP1Anr77IT6o7rs8cD/I7ng2jBhkc7hfFMtvjHTBjK9vtMVSwO1RzWAf7XGk/tFPcz4b5e7QT7+PDDDykAnUeHaP566KGHquNLcGCynfx4AJ1qhQ0kOB4Hnj+35HTf3Lw4iBrTyyOs8w2dkqkeQHQI9ukW2V9K9ABKJS8MOmicgQnhjU4/Tk+tkxdmaRdraYTTon9r4Gm7cIGjVzqoFyb3Wb28zxhswQoH3WOwpQcw/ywB+h8cXA9eYKvTTkux6cMltbbaH8mrnaL0akbpAYTgyt3YUEyPk5OH0c8oG1Xd7U0gEJhOSee+P2I3cE6iB9BP60aTN1EeQHRg8AAOGTJEnYsXhgCE8cKbhSlhnJXoJtyc7pudF9O4WFc4adIkGTBggFZrmLIGMIzdh1pASyBTklh99JsjZbN1BqdTSsKOzySxSoPp+eWV75i3JLR/mMzTvAv4lVdeEaxZhxcTszJPPPGEHHfccRXwuO3Ovfnmm+XPf/6zK0qsa3/22WfVVCc8Ytj4mJ0wI3XjjTeqmSaMgZilwrm1iLSRLyGEG5w4KBfjepk19X7ZOefIofvvn7kM8QCfee89tbzqo48+ypwFjNkRO+FsY5QFzzY8pfi4uemmm9Qsmp0w84aZuRUrVqhnwGZEPBf2FORLjz/+eN574+Nj5MiR8uijjyruHawp6zFjxqiP93zJqS3AAtyQ3M4hhoPqiCOOcC1aNzQdnDE4jxjnI+PDGfsgUDb45aaiCkAcUnz00UcrtzymDrEGEAdI46BkTLdiahJTQKtWrZIjjzxSNTIaHiFd7LAuEGMQZjAUJBxc3atXL7XeDwIM074IJ4MvYwhBJK/7wuUOozrxxBPV9CsaDIaAumBayu1LKBeuKQIQL8rChQulo3XET6mulQhrMEoKqw2zZsnKc851fKykDP5JYRVW20ddjh9e+dq/FI/3cxKAmM7EoOg3tEnU7ZhbPgZvjF9YyoQxyUkA2rFz7WtxzR/+8Ae1Hj53U2V2+VdeeaXa5IgZsr/97W+VBCCcJoi/e9RRR6mZOYgLOGggLM877zxXFBdccIEK39avXz9V/iRLwI61Qqq9/OCD0qWsTF33piUOf2VttsQmTYg+PBccP1gWY4s3CKL+/fsLlmLgAwfCBvpg0aJFmWVVD1plYhkSnhNtevvtt8s//vEP9ewNGzZ0rCOeA0Iu370feugh5ewZN26cyouYxH/961/VvaFZ3BLsCeHjssUcNrraAswWgAh/B1FpJyzpgoB1SxCAXqHp8Fy476WXXqq0FcqDiMd/O+1dKKoARMPi6wYbCNBQEG5okPY/HxbtFtQZRguBhtS3b1/1VYK8SMOGDVNfDHghAB0LOJG3d+/eGa5e94UR4QsLho8vIohAGDLqhk0duskUAajLg/mSQ6C8rL1jgNY6RxwuTa2vXKbSJuAW7DltZ/zqtpLXQKdbTrHzQVw4CcDcemH8whT3v/71L60q64RPsws699xzlSNklvURqZt+spwxe0PAHn64jPzj/9Yc/95yAH1vPU/20iyIF6w1h/hySl9aawkh9uAowrp+p2SPuxBYhxxyiGOeU045RTmI8t0bDiMIPWwItR0bZZZ4BVvb4eRUuFcbBV3SphOaDhoKy9mgVXSS13sR6yYQnQqnKY8pAtDe2GAvPk9TG8Vd1ySwcgv5kbRwL0lgFbd9FHI/XV7l7S2vg8OuTGuxn5T9vO6vkHok8VonDyDWmMJDEsQD+PxX6+X1dd/J/g12lMN3qRfbI3uJC1QEXqKmTZvK1KlT5dRTT9WqWz4BiGVU2ax+97vfqY0vOExBN8E297Bm6oYNGiR//LlObSyhMtza8AmnjZ3gvcM062effeZYNLx6mN2DFxAzTrkJ9cSsH2YTkReRKZwSxirc1+3eKAebcCD0sCHVFoCY+sa0NgQoEpxLYJe9KRJthFlJMMKuc3hi4TXFmngkWwDCmYQ8eB7U46STTspU1c7zb2uHPpxcSF6h6TCLipPU8PwQ0JhWb9eunZoOxyZQp0QBqGvBAfKZIgD9rj0KgLJkLkkCKzfvT1Kmfu3GTgKrNBmeDi+T1v1lt12YawAh/gYu+ETtnMZO6al77xWbCNQRgJiexbo9LJ2yQ9542bGXALRPAsFOc8TExbpBeJp0E9Yw3mgJkXeffFIa/RzirZ41O/fXW2+VAX/6JQQRpnMHWSIxexe2fQ8I0WOPPVZFycCaxOyESBuY2cPOaMzYIYYvpo3dEoQ/njlbIGffG+wg4jDlC+FlC0DEKYawtqNj3HXXXcojm+1phfiE5xFTvvg7prUxJXv55Zer6mDGE8vS9rfWQ0IUPvXUU0qkoVyIa6TPP/9clXHfffdllq55haZD22CmE1PJf/nLX9TaP1w/fvx4tUQLQjM3UQDqWnCAfBSAAaCV+CU6g3SUCNxOe0jiSQ/FZhVlO0RRthevtZZn5esJEx1vXYrr/nQF4IgPV8oXm34J4+LVNou//1FW/LhZEMW1ivWv+fbbSdsdtve6LPP7rjVryM1t9ZcSZResIwDh9YE4u/POOzOXYgPC3//+98z/zw0toyMA4ZU7+OCD5U+WYLPFDArETmo7QcBMmDChAgt4oxA941ErJu/B1hSlnSAA77GEz0DLC2inBx54QHnMIExyE6aeITyxRhAezuyE0DrYqAFxdc8996jpaWyCcDu4AQIQguu3v/2t471tAYh1kQMHDswIQAg1iDdsStFNt1oi95prrpH1LqcsoZzzzz9feRWzw7F5lZ8bmg4REyAqITYhVO2EcFDYQ+E0bU0B6EW5gN8pAAuAV6KXeg3SUT6228L/pE392gyKySrKdoiqbC9ebp7f6ta0UeuXX4qqWoko1xQPIDxjWBuHaUrEzbQTpgcxHtkJGzqyk5cAfOedd9RGEAg5iKDshKlWO+HAg2zRBa8VPHrYlHHYPvtUOBcYU8Dn//73crHlsbST2xQwBBK8etgzgGlVrwRv1xlnnKHEkFMKawrYqx74HRt4MAWLfQmYonVKEL5gmx3DUafs7NB0OLACG2EgUG1PIsrAekeEcsI9chMFoA7lgHlMEYDYfYhOAJ0KdwHnN5ZisipHzDeHmH9Jm/q1CRaTVcBXvqiX5ePlJv6sBXBSVr6oqPWO4+ZOAhDTjNgZGXQN4BvWGsD9ErYGENOVmO6DYPOT8glAlIfpSOyIxVSuboLnDyIM/2uHrck+Fg6bQDZYnrvns6Zzf/3rX6tdw/YmEEz7QvxhmvUl68Qip2lMp/pgLIIIsjeL5uaBKMImGZwSZqfcezttAsEGVUxD59sEknsvTBMjFA82lLqdIobIJNi8+rFLWC6nZ8wNTQdW8IyCefYmEGyExbNlewXt8igAda05QD5TBGAANLwkZgJu03+luuszZryJvt3ibt1lW9YpQtmVTar4Dxuo10AX9v3CLA/TtbaXDYP5bbfdpqJSYK1XdjgSjDdY/4YpRzvmnFc9ENoM4dawDg3izl5bBwGFqV0cy4p7HXbYYWpdmZ3woe8WYgV57BAqOIq1wslZlpeq3s8BpedYXspDLcF6zSWXyAmWWHvSWh+IqeXsMDDnWLEDsTYPv2XH/rPDqmDqFx7JY445Rj07RBHWvGG6G3ETs8OsZLPAdCk8pbgWgs7p3vYzIIYfplYRAxjTy2CCMHVIuWsAn376aeXpw1o8rAHEJo4LL7xQrSMECyRMPSM+H9oSawBxDcLMIb6hvSkldw2gbmg6bKBBlBRMXWMNIO6FdoOIR6zj3OT1XnAXsNcblOd3UwQgPTX6RlIsVmnz/oFosVjpt2aycjrxWmnFY9sw83nHipoi/vDwYXsA42x5eL4gwnIT1qbZ4c/wGwQK4u9hbRgEkk5yCi6M6+zdp27Hm0IAZe98zb0Xdq7aO2Wzf/udJdQmZU0hP/HCC3K15SH7xIpDCIECQZYtGN28s4izh7qjXbGRA+v9sP4PR0Zi8weEZL5NIKgTdjEjH7xuTve2A0FjGhtMsesYU9TZ4WdydwHPnDlTTTtDsGPnM6ZkMbWL9YuYhrUFIMQe1lRCSLdp00a1W/a0be4uYD+h6bABCLELIeyxDACbgrgLWOdtCDmPKQLQa+1RyFhTXVwxWLmt/Ut6zL9isEqzcTnxMi3en1v7hbkGMM02EqTu9lFwucfmBSlrs+VxREzA3FTLIaRLkPLDvAYCELGA4akr1aVN9ACGaTE5ZVEARgg3pUUXQ9Qs6dFTtjp0ukn3ABWDVUrNSlU7l5frur8SjvdHARi+BYcpAFG77HWAdm0pAMNvN50SKQB1KAXMQwEYEFwJX1YMUeMkBNKw9q8YrNJsetm8lnbp6rjhB8+XdOEfRRvQAxicahwCsLp1ElgNlx2ywWte2JX0AFphjqzGR7gjpgAETBGAuicQBEBYcpfEzeqj3xwpmx12lqVBBMTNKu3GZvPaPGCg/GSF/XBKaWj3KNoh7JNAoqhjUsvMPQmk0Ho6eQCxG71W1rm4hd4jjOspACkAC7IjUwRgQZB4caQEnLx/21kLk1vOeDbS+7Lw4hDIF+w56Ws+oyTmNdUV5b1ZdkUCaVkHSAFIAVjQu2uKAMSLgm3m2CVVqotlCzKErIvjZOW2AzQtXqA4WYXVvsUsB7wWd+go/ztxtGJKarDvuHg5eQCxsxKhOoLEAYyr3km4DzyAYbNKwzpACkAKwILeP1MEINdq6ZtJnKzK23cQKxZBxcpZA17Ze+/qV7iIOeNkVcTHDO3Wpgd7zgfSFoB77rmnEn1hr2sLrRETWFAUrJwEYDXrFJHtmjdPDAETBCCEvR1yxuncaNc1gAgYOXHiRPnoo49UPB0cnIwjSHBMi1vMmcS0bEwVoQCMCXSKbhOnqHESBEk889et+eJklSITcqyq2xnPyJwWj2+UbYDB/MMPP1THlCFWXBSiJsr6F7PsKFg5rgO0HjJJu4FNEIAInI1jAhGL0Gn2zlEAPv744/J76wy/0047TYm+RYsWqYCHiMD9zDPPVDhepZiGW+x7UwAWuwWSd/+4RE3ap3/RcnGxSp6V+KtRvnV/FH+/sEQwXxzHBREILyC8H7Vr1+YUsIe5QQButE6SCZPV5lWrZKt1wklu2t4SIklJEIDl5eVSVlZWckub7DaF+MPRezhFxSk5CkAERsSRJTgbsI51rMu8efOUAMQB1EcccYQ6CoVJ1OHbiMi+fv16wSHZpZqw+3DNmjXqoGscbcPkTiAuVk7Tv9WsUAttXn0lNc0TF6vUAHGpKIM967UgBj2MTRCB+G/YF/orrgHMzy8qVlssEZibajRpoteYMeSCfaxYsUKaNWtWsuMaxN+uu+7q+g44CkB8CcDrh/UU2QIQR6rgsGSst2AyRwCyrZNHwEkUNB0/TuocfHDyKssaBSbguM4TpRkY7FkXIjw7W7Zs0c3OfBER+OjXv6lU8vYd2svuWWcOR3RrrWJx/u4+++wj77zzjjoXudQSziP22rTpKABxbh7W//3qV7+qIADvu+8+wTl0EIdM5ghAdKg4eLt79+6eBmW6XcTBqhSmf2EncbBKsz1+ap2B+sO77zk+Aqd+87csbUvf8qNilfQTikyZwctnCY4CEIcLT506VSZPniyHHnqoWvOHg40xLTxq1Cg577zz9K2rhHOaYkBcq6VvxHGwKoXpXxCNg5V+yyUvp9vUb4Mhg2XX4cOTV+EE1Yi2pd8YUbFyO6M8KR8vpozfvgUgLrjsssvk9ttvz0z31qxZUy666CIZPXq0vmWVeE5TDCiqDqIUzSMOVqUy/RsHq7TaWHlZe7EWslWq/n+tNcdlr79mzQBXT+ujxVJv2pY+5ihZJbmvMmX8DiQAcRF2BmG6F4slsfavFOfJ9V+TyjlNMaAoO4hC+Cfx2qhZue0ITcpXtZ82iZqVn7okKa/b8X44TmvN3eNVGC4KwPwtRtvSt+goWTkJwKrWR0zbN+foVzCinKaM34EFYETcS6ZYUwwIu8TWrVsnDRo04I46D+uNmtXirt1kmxXeokJKUfDn7HpHzSqNHY3btBmepV35Ir6Hmo1K29IEZWWLklWSzyo3ZfzWEoAnnHCCtsVMmzZNO28pZ6QBlXLrJvPZ0h78OZlUk1MrhnxJTluwJuEQcLLpJMxYcPzOOgpu0KBBmdbGF8ETTzyhYtxhmzQSdoEivhKE4r333huOZaS8FFMMCFMEs2fPlt69e3PqycNmo2aV1M40yKscNasgdSrmNeWdOots3ly5ClYsu7JFH6hNM3wP9VqIrPQ4IVfUrJz6rFrdusqeDz6oX8kIcpoyfmt5ALMzjRgxQr755huZMGFCJuwHtoqfc845KuDxLbfcEkFzpK9IUwwoyjUi6Wv1/DWOklWphH+xCUbJKm125bruz3oQ21tCXvqtSlbJYeW4bCXLrvVrGm5OU8Zv3wKwoXWiwGuvvSZt27atcO2SJUtkv/32E5wvx2ROHEB2pvrWHiWr8g4dETyvQmXSdvpHduWjZKXfYsXP6SbsUbM6RxwuTceMUZUkL/22IqvksEpqOBgKwKwp4GxzwWJ/TPMed9xxFaxo+vTpgqlibAhgogCkDVQmEOXAk+SQCkFsIUpWQepTjGvybfqoYp3I1O7duZlqkZd+C5FVslglce0yBaCLABxuBRmdMmWKjBw5Unr16qUsac6cOeoUEJwPfNttt+lbVwnnNMWAojgsvFTNIkpWpbT+D+0fJau02Jfbpg+EfCmzdv1mJ/LSb1WyShYrx7iWRT7O0JTxO58lOJ4Egrh/f7HO6xs7dqysXr1aXb/bbrvJ0KFD5cILL+RxYD8TNcWA0JliDSjOFeTB6vk71qhYJXUaRX+YqZwzKlaF1CnOa13Fn1UJp12SpvPy0zZkpU8rDlZJXL9syvjtWwBmXwBISNj8wVSRgCkGxOkUfcuPitWHffrIT2u/rFgRS5CXfbBQv3IJyxkVq4Q9pmN1/Io/FGIyL79tSlb6xOJilbQlLKaM3wUJQH0zMi+nKQYUVwdRChYUFSunzjN7g0Aa2UXFKuks3I55Q73zxUczlVeQ9iQrfWpxsXLqw3LXuerXuvCcpozfvgXgXnvtlXeq7+OPPy6cfgmUYIoBxdVBlIBJROalKbX1f6Z6tMo77g1XnqOp73z2WdLoggtcXwO+h/o9BFklj9Wnp54qP7z7XqWKFSsotCnjt28BiLV/2WnLli3y3nvvycyZM+XPf/6zXHLJJfrWVcI5TTEgdqb6RhwVKwpA/TZIak7XQM9Whbdr0UJazng2b9Wjsq2k8iqkXmSlTy9OVkmaBjZl/PYtAN0uGDdunLzzzjs8CeRnQKYYUByLhPW7q2TnjIpVKQrAqFgl0ULyef6qWicutX1zjme1TeLlCcMjA1npE4yTlVM/pmv/+k+kl9OU8Ts0AYip3y5duoi9MUQPc+nmMsWAGFJB34ajYJW0qRN9GvlzRsEqrLqFWU4+8SfbbSdl8+dp3c4UXlowNATgxo0bpbYVS5GRC5LzHrqdeFOMaWBTxu/QBODNN98s48ePl08//TSMdzT1ZZhiQHFOEaTdKKJg5bRpIAlnaRbaVlGwKrROYV+/uFt32WYJEcf08xm/uvc0gZcuC698ZOVF6Jff42aVlNkMU8Zv3wKwa9euFb6a8OX5xRdfyJdffqkE4JAhQ/Stq4RzmmJAcXcQaTaZKFglpcMMu12iYBV2HQspb+lBfeW/a9aEIv5QSKnzKoR17rVkpU8zblZO/VkxPmhNGb99C8CrrrqqggCsan2p4nzgvn37Srt27fQtq8RzmmJAcXcQaTabKFhRAKbPItym7dWTBDwBIQrbSh9ZvRqTlR6nYnxYLOnRU7b+HF84u5ZxTwObMn77FoD6pmN2TlMMCJ3p7NmzpXfv3tbYVd3sRvd4+ihYlbIALEW7yne+r/ic9s02tyhsq1RfZrLSb9m4WSXlVCNTxm/fAhBHfuEIuEaNGlW49uuvv1Z/w7FgTKI2w9SzdvCtX7+eJ6XQICIjUKoCMDJgRS44yCkfRa4yb08CsRJIQmB7jt8ijmcBY8oXa/5yBeCqVaukZcuW8sMPP8RqLEm9mSkGhDWg69atkwYNGnBHnYcxhs0qKV/LUbyDYbOKoo5+y4xS/JUiL798dfOTlS4pkWKwcoyJWYB3XP9pf8lpyvit7QG84447VN5hw4bJ6NGjZccdd8xcC6/fK6+8onYAIyg0kzkeQK6n0bf2sFk5ngFcq5aUvfeufqUSmjNsVsV+zCjFH56t1HhF2V5kpU+3GKzWjhkjX0+YWKmSca4DpADM8QDiCDikzz77TJo2bSqYCrbTdla8qj333FOuueYa6dmzp751lXBOUwyoGB1EWs0mbFZOosLryLC0sAubVTGfO2rxRwHor3VLybb8Pbn/3MViVeylLaaM39oeQDtjv379ZNq0aWrKj8mdgCkGVKwOIo22FzarYneSUbZB2KyirGu+suMQfxSA/lq3VGzL31MHy10sVk7vTfXGjaX1yy8FexCfV5kyfvsWgD45GpvdFAPC9P/cuXOle/fuFbzCxjZ8ngcPm1UpC8CwWRXDHsvbdxDZutXx1k3Hj5M6Bx8cWrVKgVdoMDwKIit90sViVexTQUwZv7UE4PDhw9W6vx122EHw3/nSbbfdpm9dJZyTBlTCjZuQRytlAZgQxIGr4biQ/efS6hxxuDS11jkxkQAJuBMoZv/G8TtrDSCmfZ944gmpX7++Cvic7/zEf//737Rpi4ApBrTV8nCssU40aGy557FDnMmdQNisitlBRt3OYbOKur7Z5ec75WO7Fi2k5YxnQ69OmnmFDsOjQLLSJ15MVsU8FcSU8VvLA6hvLsxpEzDFgIq1RiSNlhY2q1IWgGGzisteVl5wgWyY+bzj7apacUHbvjknkqqklVckMDwKJSt96sVk5XgqSJUqUla+SP8BAuY0Zfz2LQDPOOMMGTt2rNSpU6fCtd9//72cf/75Mnny5IDIS+syUwyomB1E2iwmbFYUgMmygLynfFiREsrmz4uswmHbVmQVTUDBZKXfCMVkVcw4p6aM374FoNtJIF99DEKfZgAAIABJREFU9ZXsuuuuKh4VkzlTwMXsINJmZ2GzogBMlgW47viNwWsRtm0li2y4tSErfZ7FZlWsPo4CMCcOIIAgKjjCvyxdulQaNmyYsSLsFHr66aflkksuEZwIopOuuuoqufrqqytkxToynDKChFAzEydOVDtMccwcAkx36dIlb9FTpkyRQYMGVcqD00m233579Xev+yIPnhN1mzRpkjrlArENx40bJx06WLv6NJMpBoS2X7hwoXTs2JG7gD1sI2xWxeocNV+BgrKFzaqgymhcHFe4F7eqpI2XBtLIspCVPtpis3J6r6JaR5tNxZTxO58lVDgKDgv8823+wG8QTZdddpmWdUGIPfbYY/Liiy9m8sO7aAvL+++/Xz755BNp0qSJDB48WFsADh06VJYsWVKhDvBM2snrvsh30003yXXXXScQlG3atJFrr71WnXSCcnOnvt0elgakZQbMVACBUhaABWCJ/dJii7/YH5g3JIGYCBQrHAzH7xwP4Msvv6w8Ywdbsasef/xx2WmnnTImgJNA9thjDyXWdBOE2PTp0+X999/PewmOl8MpJLoewAusRdjffvuta5le98Uz4jlQzogRI1Q5mzZtUrtcIQzPOussrUc0xYCwS2z58uXSvHlz7gL2sIywWZWyAAybldZLGyBTnLH+8lUvLbwCIA79ErLSR5oEVsXo50wZv/NZQgUPoJ0RR8E1a9as4MEeQuyWW26RetbOuJo1a6pp1uuvv15aWGESspNfAXjmmWfK7rvvLnBdY8oY8Qu7du2aKdLrvh9//LG0bNlS3n333QrXHXvssSoMztSpU7XeHlMMqNhrRLQaIyGZwmZVjI4xLpRhs4qi3uUd98YhvI5Fxx3rLw28omiDIGWSlT61JLBy6ufCDqSeS8SU8du3ALQv2Lhxo/L8bN68uUIZnTp10rKu5557TlAGplgRRw7TrIsXL5YPPvhAdt5550wZfgTgnDlzZNmyZbL33nurOHzYrTxjxgyZN2+etG7dWpXpdd833nhD9t9/f/n8888reDSHDBmizkF+/nnnEA/wEuKfnXB/CGWsX6xbt676M6bJMc0NcQpPo50wvY5/un9HGSgrd8ONfT4zyslObn+vXr26qkd2fruO+PLDPzu5/R3Xzp49W3r37l1hDWCanymqdkJ7wb4OPPBAAftC2+nDDh0rvWttPlio2sGt/XRtzK394rI99Ctgtd9++0mNGjUS90yL97b6ORfxV92asdjr6acqvPO671NQ20Pf8/rrrytesK242kmnjwj6TLm2GtYzoWFeffVV1WeBVXbfHHU7RfVMYfTlTu2EPgv9O/os/K4zboXVTvYzLcaJOlnjJdqrqjWmtnzjdc/xKajtYe0/ZjnXr1+fGb+1hE0JZXL0AH755ZdqowWElFPKHdR0eSCMDDxvF198cYXTRvwIwNx74WXu1q2b9OnTR+644w7HquTe1xaA2Myy2267Za7BOsQVK1bIzJkzHctx2lyCjM8884w6QQUJ5bVt21atJVy9enWmnD333FPwD0IVhmcn5MU1b731lhLLdoLIhnGiE8vmve+++ypv6muvvVahjgcccIASp2+//Xbm73hJ8VJ/8803Mn/+/Mzfa9euLT169FD1y15Lic0/nTt3FrQH/tmpUaNGsnbtWrH/1/57mp8pqnayp1OOP/54ZROFtlOdAQMrtDM+KbY88rBjO0X1THYFwra98vLyzNICfBA62V6xnqnxeee7ij+pVUvW3P7LaUh+36egz4SPX3xA20sxktRHBH2mqPo9CL9//vOfqq+0g9fH1U5RPVMYfblTO6HPgjPjqKOOUs6ZYoxPn1rvWy1rRi43rZlwd+ZPbuNTUNubNWuWHHLIIRSAudBPO+00JQDGWEcZ2SeE2B68W2+9VY488khdzVcp36GHHiqtWrWSu+/+pWELEYC4AYTbypUrXQUr8mTfN+gUsKkeQHQQ2KyDdZrZJ4HQAyiVvDAQ6x999JHyetue4OyXwK+ntpQ9gFu2bFGs8FFoe7SS4NVc2sVaTuIW6sryJrVbML8gj3pQjwU8ppj9AC/YUdhemEJmCYI+U1TeMtQHkSzQZ9nvnN+Zj6Q9U1QeQLQBxkT0WUjF8ACiDkux3CIntV64IPMXr/bzO/NBD2DOJhCbNBT1k08+qbxEmNp85513lHE89dRTcvPNN1fyauiqQQgodF6Yah01alTmskIEIIwV9cSUsFuA6tz72ptAhg0bpryRSOhc4eHiJhDd1mS+OAiU8hrAOPj5vUe+NX+WSpWyrAHJb9nMTwIk4E7Aqa+Lcp0t1wC6CECIPkwZ2lN8DzzwgFozBy8Q4uRlT1XmM+iLLrpIjj76aDVlgSlErAHETuMFCxaoHcWYmsQaQ0zFwqv48MMPq+lThHSxw7oMGDBAbfi44YYb1K0QhqZXr15qvR8aENO+CCeDtTEQgkhe90UeCD2Uee+996qysDnlpZdeYhgYhwbFlxU8D/Dc2l/T7MicCYTNqpQFYNisCrXJ8k6d8SXoXEwCxF/SeBXKO8rryUqfblJYOb5/lqe7zFrzHEWiAHQRgFjrA7F2+OGHy3HHHae8gBBLEFuI64dpG53Uv39/FVsPJ4gg9h+EG3bstm/fXl3uFtT5yiuvVMGckfr27auEKPIiwWuHANIIJo3dxdj9i7xY82Enr/sinx0IGoGoswNBI9ixbjLFgJKwS0y3TYqdL2xWpSwAw2ZVSNsv6dlLtlqLwR1TAsQf6pUkXoWwjuNastKnnBRWa60lZ19PmFip4mWLy/UfxkdOU8bvfEgcN4HA44f1OaeffrqKzQchCBGHWIAIkXLKKaf4wFy6WU0xoKR0EGmwpLBZUQBG3+pLD+or/7WiFCRZ/FEA+rODsN9Df3dPV+4ksYqzvzNl/PYtAHMvwJSvvftsl112SZd1R1hbUwwoSR1EhM0ZStFhs4qzQwwFgI9Cwmbl49aZrG6nEKgMCfH82ZVNAq8gjItxDVnpU08SqzjXAZoyfmsJwOHDh2tbzG23/RICQfuiEsxoigElIVJ8WswnbFalLADDZuXXRj499VT54d33nC+zYnaWLfrAb5GR5i82r0gfLuTCyUofaJJYLenRU7Zaa/srpIjeRVPGby0BiHAvOglbsRE/h0nUJhSsQzQ5kCTtIFoC5WXWetmcAKk7n32WNLKOMWQKTiCv+LOKjWrdUfAa80oSKH0CGyxtsfKccys9aBTvI8dvl00gpW9m4TyhKQaEXWILFy4UbJDhLuD8thM2q8X79pBtGzZUuGkVKxBxu/cqB00Nx6rjKyVsVro1T6v4KxYvXa5JykdW+q2RNFZxzXqYMn5reQD1zYU5bQKmGFCS1ogk3frCZhX3zrg4+YbNSqfuKy3P6YaZzkc94vooPA069dLJUwxeOvVKYh6y0m+VpLFyEoC1unWVPR98UP+hNHKaMn5TAGoYQ5AsphhQ0jqIIG0V1zVRsIrrizguRvZ9omCV7xncppfsa5Is/lDHuHnFbQ9h3o+s9GkmjZXbxqyw309Txm8KQP13wVdOUwwoaR2Er0aKOXMUrCgAw2lEJ45pEX8UgP5sIIr30F8N0pM7iazi6PNMGb8pACN6F00xIOwSw1nQjRs3rnAWcERYU11sFKzi6AyLAT0KVm7PkXbxh+eKk1cx7CHMe5KVPs0ksoqjzzNl/KYA1H8XfOWkAfnCxcwBCcTRGQasWuIvS/u0b+IBs4IkEAGBONYBcvzmLuCCTNcUA8Iusblz50r37t25C9jDYqJgVaoCMApW2c3jtoEmTdO+2c8TNa+COsOEXUxW+g2SRFYfHthHfvryy0oPEeY6QFPGb3oA9d8FXzlNMaAkrhHx1VAxZo6CVXn7Dpj/q/AUdY44XJpaZ2emOUXByubhJf6ajh8ndQ4+OFX4ouSVKhAalSUrDUg/Z0kiqzjiAZoyflMA6r8LvnKaYkBJ7CB8NVSMmaNgtezwI2TLZ59VfIpq1aTsg4UxPln4t4qCFWrpFeolrYG0o+IVfssWv0Sy0m+DpLKKeubDlPGbAlD/XfCV0xQDSmoH4auxYsocBas4voZjwlPhNlGw8grynEbPnw0tCl7FaPc47klW+pSTyspJAG7XooW0nPGs/sPlyWnK+E0BGIq5VC7EFAPaZh1Ftm7dOmnQoIHgKEAmdwJRsYr6a7gYbRo2Ky/xF+b6oVLgVYxniOueYdtWXPUuxn2SyirqeICmjN8UgBG9VTSgiMCy2EoESlEAhtnMpS7+wmTFskggLQSi7Pc4fnMXcEHvgSkGhCmC2bNnS+/evaV69eoFMSv1i6Ni5dQRpnUtW/aUZhh2ZYr4i8q2SvGdJCv9Vk0yKwpA/XYMkrOK5f7dFuRCXiNikgB87bXX5IADDqAA9DD8qNbTlHftJvLDDxXuXqVWLWn33rupfRXDYGWK+EMjh8Ertcbis+JkpQ8syayiXAdoyvjNKWD9d8FXTlMMKMkdhK8GiyFzVKzcwpqkeV1boay8dvummY2TqRbKKwbzT8wtyEq/KZLMyu0DL4x325TxmwJQ/13wldMUA0pyB+GrwWLIHCWrKKdDYkBT6RaFsDLxhI9CeBWjfYt5T7LSp590VlH1e6aM3xSA+u+Cr5ymGBBWCWzcuFFq167NXcAeFhIlq1JbB1gIq1I429dXZ2NlLoSX33ulPT9Z6bdg0llF1e+ZMn5TAOq/C75ymmJA6CBwXFA1K/gww8DkN5EoWZXaOsCgrEwUf7C6oLx8dWolkpms9Bsy6aycTkKS7baTsvnz9B/SIacp4zcFYEFm4n6xKQaU9CmCiJo3ULFRsiq1dYBBWJkq/mCMQXgFMuISuIis9Bsx6azc1voWug7QlPGbAlD/XfCV0xQDSnoH4avRIs4cNSsnAZTW0y38sjJZ/FEA+ntx/dqWv9JLK3caWEWxDtCU8ZsCMKL31RQDSkMHEVET+y42alZOHWG1Rg2lzSuv+K5rsS/wwyqf+EurAPbL3w8vv2WXWn6y0m/RNLCKIhyMKeM3BaD+u+ArpykGlIYOwlfDRZg5alZRhkWIEItj0bqsHNcA/Vxi2oNh+2Guy8tPmaWal6z0WzYNrKI4Fs6U8ZsCUP9d8JXTFANK+iJhX40WceY4WEUxHRIxFsfidViVd+ossnmz4/V1jjhcmo4ZU4yqF+WeOryKUrEE3pSs9BslLazC7vdMGb8pAPXfBV85TTGgpIcJ8NVoEWeOg1UU0yERY3EVgPnCCy3p2Uu2rl/veO12LVpIyxnPFqPaRbtnHLZVtIcL+cZkpQ80LawoAPXbVDcnj4LTJeWQzxQBmIYpggKaMdRL42BVKtPA+Vi5TfmgsapY8SjbvTs31HZLQ2Fx2FYaOOjUkax0KP0vT1pYhf3ha8r4TQ+g/rvgK6cpBpSWDsJX40WUOS5WYX8NR4Qjb7FurPKe71u1qpQt+qAY1S36PeOyraI/aAgVICt9iGlhFfaHrynjNwWg/rvgK6cpBpSWDsJX40WUOS5WYX8NR4TDtwDMK/6s0gqN/VWM5wzrnnHZVlj1LWY5ZKVPP02swvzwNWX8pgDUfxd85TTFgNBBzJ49W3r37i3Vq1f3xci0zHGxCvtruBjtlMvKLeCrXTeTxR8YxGVbxbCFsO9JVvpE08QqzGPhTBm/KQD13wVfOWlAvnAxc8gEwuwMQ66a7+Io/nwj4wUkYByBMI+F4/htrae2dgBtM86KQnpgUwwIJrJu3Tpp0KABzwL2sJ04WZV36CjWIc0VaxTCGZkhvR6exdis1p97rvz43vuu+U33/Nlg4rQtz8ZLeAay0m+gNLEK81g4U8ZvegD13wVfOU0xoDStEfHVgBFkjpNVmJ1hBCg8iwSrhcccKzU//pjiz5NWenZrajxK5FnifA8jf5iIb5A2VmGtAzRl/KYAjOgFMsWA0tZBRNTcWsXGzSrNm0GW/2mofP/CCxR/WpZFAaiJSWWL+z30U7ek5U0bq7CWvpgyflMARvTGmWJAaesgImpurWLjZhXFEUlaD1pgprXWCR5fT5hI8eeDY9y25aNqictKVvpNkjZWYa0DNGX8pgDUfxd85TTFgH6y1pnNnTtXunfvLtWqVfPFyLTMxWDl9EVcq1tX2fPBBxOJn+IvWLMUw7aC1bT4V5GVfhukjVVYS19MGb8pAPXfBV85aUC+cDFzRASW9OgpW//zn0qlJ3HzxIZZs2TlOefS8xeRLbBYEjCBQBjrADl+cxdwQe+KKQa0detWWbNmjTRu3FiqWicxMLkTKAYrN1GVNC8gxV9hb04xbKuwGhfvarLSZ59GVk4CsOn4cVLn4IO1H9yU8ZseQG2T8JfRFANK2xoRf60Ybu5isSrv1Flk8+bEegEZ569wOyuWbRVe8/hLICt95mlk5SQAq9arJ23fnKP94KaM3xSA2ibhL6MpBpTGDsJfS4aXu1is3LxrfjvF8Ej8UlI+8Ycohu0WLuAJMxrgi2VbGlVLXBay0m+SNLIK4yQkU8ZvCkD9d8FXTlMMKI0dhK+GDDFzMVkt6dlLtq5fX+lp/E6NhIhDvDx/aybcLQcccAAFoAb0YtqWRvUSlYWs9JsjrawKXQdoyvhNAaj/LvjKaYoBYZfYwoULpWPHjtwF7GEhxWbl1CmiysXYEOIl/tp8sJB25aPHKbZt+ahq0bOSlX4TpJVVoesATRm/KQD13wVfOWlAvnAxcwwE3OICSsxHxDHUSwyNzVuQgMEECl0HyPGbu4ALen1MMSDsElu+fLk0b96cu4A9LCYJrNy8gNu1aCEtZzxbkM3rXKy72zcJrHSeJyl5yEu/Jciq9FkVug7QlPGbHkD9d8FXTlMMKK1rRHw1ZkiZk8AqnwCrc8Th0tQ6hSPK5CZAc6eik8AqSg5hl01e+kTJygxWhawDNGX8pgDUfxd85TTFgNiZ6ptFUli5TgVbj7Lz2WdJowsu0H8oHzl1xR+KTAorH49X1KzkpY+frMxgVcg6QFPGbwpA/XfBV05TDIidqb5ZJIlVece9obIcKx+FJ9CP+KMA1LcpO2eSbMt/7eO9gqz0eaeZVSHrAE0ZvykA9d8FXzlNMSDsElu2bJm0atWKu4A9LCRprPKJsjDXBJaXtRfZts2RjtsO5KSx8vXyFyEzeelDJyszWBWyDtCU8ZsCUP9d8JWTBuQLFzMXiUA+ERjG7uDF3brLto0bHZ+umDEIi4SbtyUBEoiRQNB1gBy/I94FfNVVV8nVV19dwRRwnuwXX3yh/jZt2jSZOHGizJ07V77++mt57733pEuXLnlNZ8qUKTJo0KBKeX744QfZfvvtK/39hhtukJEjR8rQoUNlTNbi99NPP12mTp1aIX/Pnj1lzhweJZMLkV/T+r1ZUlnlFYHW4wVdF5hvraHXWcRJZaXf2vHmJC993mRlDiunvk2nP6MAjEEAPvbYY/Liiy9mrLFatWrSsGFD9f/vv/9++eSTT6RJkyYyePBgbQEIMbdkyZIKFr7rrrtWsvi3335bTj75ZKlbt67069evkgBcs2aN3HvvvZnrtrNipe20007ab44pBpTmNSLajRlSxiSz8hKBfr2B+QI96xxBl2RWIZlDqMWQlz5OsjKHVXn7DiJWqLIKSSPuqSnjdz5LqLLNSvqm4i8nPIDTp0+X999/P++Fn376qey1117aAvACawfjt99+m7fM7777Trp16ybjx4+Xa6+9VnkWcz2AKAP1C5pMMSB2pvoWknRWniLQelQd8Zb3lI/q1aXMOt/XKyWdlVf94/6dvPSJk5U5rNz6Iq/Tj0wZv4sqAG+55RapV6+e1KxZUzDFev3110sLKyBtdvIrAM8880zZfffdBW5+CLvRo0dL165dK5Q5cOBA5c27/fbbpW/fvo4CEOIPXr/69evLQQcdJNddd500atRI+80xxYDYmWqbRCpCm+Rbs5f7pLkbRbyCPON6r47XvgftSt+ukJO89HmRlVmsgqwDNGX8LpoAfO6552SjtTi8TZs2gulWeOIWL14sH3zwgey8886ZevkRgFijhx2pe++9t6ABx44dKzNmzJB58+ZJ69atVZkPP/ywEnOYAsa6QCcB+Mgjj8iOO+4oe+yxh5qGvuKKK1QHi/WIEKtOadOmTYJ/dsL9mzVrptYvYpoZqUqVKmqnLMRptnO1atWq6hQN3b+jDJSFOmUn/B0J5ej8vbrljUE9svPbdUS0fPyzk9vfcf3nn3+uRDfy2CnNzxRVO4HnihUrZM8998y0d1zt5OeZvrrjDlk36R79UUIzZ+ssz5+X7cG2wQrvEOwa/9xsUve9cbPJJL1PftoJ2O1n2rJlizqRB7zwt1J4ptx2DeuZwOezzz5TfRb+O7tv1u33grZTVM/k9T7p9OVOz4TrVq5cqfos9PU641ZY7RTWM33YoWOlHqqGNavY6rkZrmPuunXrlJNo/fr1mfFbs5srmWyRTgHnUvr++++lZcuWcvHFF8vw4cMzP/sRgLllwngx1dunTx+5wxrUMKDss88+8sILL0jnzp1VdicBmFvO6tWrlRiEeDzhhBMcG9hpUwsyPvPMM7LDDjuoa3bbbTdp27atWqOIMu2Elwv/IFRheHZCXlzz1ltvKbFsp06dOinjfPXVVyuIt3333VcJ1Ndee61CHQ844AAlTiF67YSX9MADD5RvvvlG5s+fn/l77dq1pUePHqp+2WspGzRooJihPfDPTnwmUW1aiu307eFHiGzeHEqHtmbC3bS9rLXJfJ9E9Xns99iXRz0+VR1ylvzXcjLlJsxGuI25s2bNkkMOOYQCMJTeX7OQQw89VMWTu/vuXwaLQgQgbosNJPiCgccR07rHH398hXh1+CLDlw++BCGSbC9abpXhQcT08ogRIxyfxlQPIER2eXm5lJWVVTgLmB5AqeSFga3Bww0Bb3uCs43JzYMb1pdwEO/zmttul28mTdJ8g52ztStfVMkr7fVM8GiBVYcOHQR56QHMP0uw2RLqCxcuVLxsj2lSZgmS5i1DfRYsWKD6LPud8zvzkbRn8nqfgnoA0WctWrRI9VlIafQAoo3dpoHdZg/oAYx4F3DuUAEBBQ/gkCFDZNSoUZmfCxGAMFZ4szAlPHnyZNmwYYNy/WcnhI1p166dEnYdO1Z2FSMvpnExXTDJGggHDBigNRiasoaA62m0zEFlSjOrtVaYpK8nTNR/WCtnFcub3O7dub6usTOnmVWgBy7wIvLSB0hW5rFyEoDVrbBzrV9+yRGGKeN3PkuIdAr4oosukqOPPlqaN28ua9euVWsAX375ZfVlhulWTE1iTcuqVavkyCOPVNOvmGpDSBc7rAvEGIQZ4vkhIa5gr1691Ho/NCCmfRFO5vXXX1dC0CnlTgFjhzCmc0888UQ1rQcBiliBqAs8XXXq1NF6e0wxIHamWuaQegGY/ZRuEfYzeTTCLHhRo115Ear4O3np8yIr81i5xSR125RmyvhdNAHYv39/eeWVV+Srr75Ssf8g3LBjt31769goK7kFdb7yyiuVQEOCeMMaEuRFGjZsmAogjWDS2F2M3b/I27t3b9fnzBWACBp93HHHqbAzCAUDEYg4gagbFljrJlMMiJ2prkWk2wOo/5Th5KRd+eNIXvq8yMpMVk5eQLfTiEwZv4smAPVNMJ05TTEgrC3BLm6c4mLvqEtni0Vfa7LSZ0xW+qyQk7z0eZGVmaycBKDbMhVTxm8KQP13wVdOGpAvXMxMAiRAAiRAApER8DMNzPE75k0gkbV6kQo2xYCwiwrxEbt37+66g7pITZC425KVfpOQlT4r5CQvfV5kZS4rJy+g07nkpozf9ADqvwu+cppiQFxPo28WZEVW+gT85aRt6fMiK3NZlXfcG4uxKwHI3QxiyvhNAaj/LvjKaYoBsTPVNwuyIit9Av5y0rb0eZGVuazcwlnlbgYxZfymANR/F3zlNMWA2JnqmwVZkZU+AX85aVv6vMjKbFZO08CSE7rKlPGbAlD/XfCV0xQDQrBtRE3H0VbZZwH7gmVIZrLSb2iy0meFnOSlz4uszGalsxnElPGbAlD/XfCVkwbkCxczkwAJkAAJkEAsBLxOBuH4zV3ABRmiKQaE6ZTZs2erYNs4j5LJnQBZ6VsHWemzQk7y0udFVmS1uGs32WYd+pCb7M0gpozf9ADqvwu+cppiQFxPo28WZEVW+gT85aRt6fMiK7LaMGuWrDzn3Eog6hxxuDS1zj03ZfymANR/F3zlNMWA2JnqmwVZkZU+AX85aVv6vMiKrEDAcTNIlSpSVr6IAtDiU8VaLLtN31SYM5sABSDtIZcABx59myArfVbISV76vMiKrEBg5QUXyIaZz1eCgWlgU8ZvegD13wVfOU0xIHwjbNy4UWrXrs1dwB4WQlb6rxBZ6bNCTvLS50VWZGUTcNsM0vjpp6RevXqyfv16qVu3rj6wEspJD2ABjWmSAMTRStWqVaMA1BCAZKX3UmGQJis9VrYAJC89XrQtPU4m2NWSnr1kqyXyctPub71JAcgpYP0XJTenKQKQ0yn6NkJWZKVPwF9O2pY+L7Iiq2wCjmsB+/WV9hMm0AOobyrMmU2AApD2kEuAA4++TZCVPivkJC99XmRFVhUEYFl7rKGoAOU7a1arx7KlFID6psKcFICMA5jvLeDAo99HkJU+KwpAsvJHQD+3Ce+h02YQCkDuAtZ/Sxxy0gNYEL6SvNiEzjSshiMrfyTJS58XWZFVLoHcaWAKQApA/bfEYAHIBdX6ZkJWZKVPwF9O2pY+L7Iiq1wCSw/qK/9dsybzZwpACkD9t8RwAcgwMHqmwvATepyQi6z0WZEXWfkjoJ/bpPcw2wtIAUgBqP+WGCwAOZ2ibyZkRVb6BPzlpG3p8yIrsnIiQAFYkQrjAOq/J5Vycg1gAfBK9FIOPPoNS1b6rJCTvPR5kRVZORH49NRT5Yd331M/0QNID6D+W0IPoBxwwAFSvTp3AeczGg48+q+I/VJxAAAf70lEQVQUWemzogAkK38E9HOb9h7aXkAKQApA/bfEcAE4e/Zs6d27NwWgh8WgMyUrvdeKrPQ42bnIS58XWZGVGwF7MwgFIAWg/ltisAAsCBIvJgESIAESIIEEEYAXkAKQArAgkzRlDSB2ia1bt04aNGjAs4A9LIas9F8pstJnhZzkpc+LrMgqH4HyjnvLd5s28SQQngWs/6Lk5jRFAJq2RiS4RXChvh92tCs/tGhbfmjRtvRpmchq7Zgx8tm48RSAFID6LwoFIDeBeFmLiZ2pFxO338nKHzny0udFVmTlReDt1m0oACkAvczE/Xd6AIOzK9UrOfDotyxZ6bNCTvLS50VWZOVFYMH//Z90euwxWb9+vdStW9cre0n+zjiABTSrKQLwp59+krlz50r37t2lWrVqBRAr/UvJSr+NyUqfFXKSlz4vsiIrLwKmjN/5OFAAellJnt9pQAXA46UkQAIkQAIkUCQCHL+5C7gg0zPFgLZu3SprrEO0GzduLFWrVi2IWalfTFb6LUxW+qyQk7z0eZEVWXkRMGX8pgfQyxIC/m6KAXE9jb6BkBVZ6RPwl5O2pc+LrMjKi4Ap4zcFoJclBPzdFANiZ6pvIGRFVvoE/OWkbenzIiuy8iJgyvhNAehlCQF/N8WA2JnqGwhZkZU+AX85aVv6vMiKrLwImDJ+UwB6WULA300xIOyoW7hwoXTs2JG7gD1shaz0Xyay0meFnOSlz4usyMqLgCnjNwWglyUE/J0GFBAcLyMBEiABEiCBIhLg+M1dwAWZnykGhB11y5cvl+bNm3MXsIfFkJX+K0VW+qyQk7z0eZEVWXkRMGX8pgfQyxIC/m6KAXE9jb6BkBVZ6RPwl5O2pc+LrMjKi4Ap4zcFoJclBPzdFANiZ6pvIGRFVvoE/OWkbenzIiuy8iJgyvhNAehlCQF/N8WA2JnqGwhZkZU+AX85aVv6vMiKrLwImDJ+UwB6WULA300xIOyoW7ZsmbRq1Yq7gD1shaz0Xyay0meFnOSlz4usyMqLgCnjNwWglyUE/J0GFBAcLyMBEiABEiCBIhLg+M1dwAWZnykGxK9pfTMhK7LSJ+AvJ21LnxdZkZUXAVPGb3oAvSwh4O+mGBDX0+gbCFmRlT4BfzlpW/q8yIqsvAiYMn5TAHpZQsDfTTEgdqb6BkJWZKVPwF9O2pY+L7IiKy8CpozfFIBelhDwd1MMiJ2pvoGQFVnpE/CXk7alz4usyMqLgCnjNwWglyUE/N0UA2JUfX0DISuy0ifgLydtS58XWZGVFwFTxm8KQC9LCPg7DSggOF5GAiRAAiRAAkUkwPGbu4ALMj9TDAg76hYuXCgdO3ZkHEAPiyEr/VeKrPRZISd56fMiK7LyImDK+E0PoJclBPzdFAPiehp9AyErstIn4C8nbUufF1mRlRcBU8bvognAq666Sq6++uoK92/cuLF88cUX6m/Tpk2TiRMnyty5c+Xrr7+W9957T7p06ZK33aZMmSKDBg2qlOeHH36Q7bffvtLfb7jhBhk5cqQMHTpUxowZk/l927Ztqm6TJk2SdevWSc+ePWXcuHHSoUMHL7vJ/G6KAbEz1TYJISuy0ifgLydtS58XWZGVFwFTxu+iCsDHHntMXnzxxUwdqlWrJg0bNlT///7775dPPvlEmjRpIoMHD9YWgBBzS5YsqfBcu+66a6XnfPvtt+Xkk0+WunXrSr9+/SoIwJtuukmuu+46gaBs06aNXHvttfLKK6+ocuvUqeNlO+p3UwyInamWOahMZEVW+gT85aRt6fMiK7LyImDK+F1UATh9+nR5//3387bFp59+KnvttZe2ALzgggvk22+/zVvmd999J926dZPx48crcQfPou0BhPcPohPljBgxQpWzadMmgXcSwvCss87ysh2jBCB21K1Zs0bxqVq1qhYbUzORlX7Lk5U+K+QkL31eZEVWXgQoACPeBIIp4FtuuUXq1asnNWvWVNOs119/vbRo0aJC2/gVgGeeeabsvvvualE0hN3o0aOla9euFcocOHCg7LTTTnL77bdL3759KwjAjz/+WFq2bCnvvvtuheuOPfZYqV+/vkydOtXLdowSgFowmIkESIAESIAEUkKAAjBiAfjcc8/Jxo0b1RQrPEjwxC1evFg++OAD2XnnnTNm4kcAzpkzR5YtWyZ77723moIdO3aszJgxQ+bNmyetW7dWZT788MNqehdTwFgXmCsA33jjDdl///3l888/V55AOw0ZMkQ+++wzef755x1NGF5C/LMT7t+sWTO1fhHTzEhVqlRRO2UhTuFptBM8Z/in+3eUgbIwlZGd8HcklKPz9+rVq6t6ZOe364ivZPyzk9vfkQdeXIjtbA9gmp8pqnYCZ3xY7Lvvvhk7iKudonomu/5h296WLVsUK3jqYaco380mdd8bN5tM0vsUtJ02b96s1kuDF56nFJ4pt13DeiYwfuedd1SfZdut334vaDtF9Uxh9OVOz4T6Yv09+iwknXErrHaK6pnwHF7jE9b+w0m0fv36zPidEu0aWjWrWI39i0oJrVjngr7//nvlebv44otl+PDhmUx+BGBuyRgw0CH26dNH7rjjDlmxYoXss88+8sILL0jnzp1VdjcBuGrVKtltt90yRWIdIq6fOXOm4wM4bWpBxmeeeUZ22GEHdQ3Ka9u2rVpLuHr16kw5e+65p+AfhCoMz07Ii2veeustJZbt1KlTJ2Wcr776agXxhpcU3tTXXnutQh0POOAAJU4herMH7AMPPFC++eYbmT9/fubvtWvXlh49eqj6Za+lbNCggWKG9sA/OzVq1EjWrl0r9v/af0/zM0XVTnYA2uOPP17ZRJztFNUz2e0dtu2Vl5fL8uXLpXnz5uqD0Mn20vZMOu9T0GfCxy8+oMELg1uS+oigzxRVv9e7d2/55z//qfpK+6PVb7+XtGcKoy93eib0WXBmHHXUUco5k7bxKWg7zZo1Sw455BAKwIh1X4XiDz30UGnVqpXcfffdoQhAFALhtnLlSoHHEWsOMfjaX334HV84+PJBRwCRBC9fkClgUz2A4Dd79mxBp5rN1esLK21fwrCVQp8JHlt4mNFZ4+s2Tk9t2jwW8GiB1X777Sc1atSgB9BjlgD9z+uvv6542R7TpMwSJM328C7j4xl9Flgh0QPoPEOFPgv9O/osMKIHME5FVNx7xeoBRAcG4YWp1lGjRoUiAGGs8GZhSnjy5MmyYcMGJfCyE8LGtGvXTm34QDBjexPIsGHDlDcSCYMRPFzcBFLZILmjTv8lJSuy0ifgLydtS58XWZGVFwGuAYx4DeBFF10kRx99tJqywBQi1gC+/PLLsmDBAtljjz3U1CSmgDAVe+SRR6q1e5gSRUgXO6zLgAED1IYPxPNDQuy+Xr16qfV+aEBM+yKcDL6MIQSdUu4UMPJA6KHMe++9V5WFzSkvvfQSw8A4AIRgxrQApojxhcjkToCs9K2DrPRZISd56fMiK7LyIkABGLEA7N+/v4qt99VXX6nYfxBu2LHbvn171TZuQZ2vvPJKwXo7JIg3rDVDXiR47RBAGsGksbsYu3+RF65+t+QkAO1A0AhEnR0IGh5C3UQD0iXFfCRAAiRAAiSQHAIcvyMWgMlp6mhqYooB2WtEstfTREM0/aWSlX4bkpU+K+QkL31eZEVWXgRMGb/zcYh1DaBXg6Ttd1MMiOtp9C2TrMhKn4C/nLQtfV5kRVZeBEwZvykAvSwh4O+mGBA7U30DISuy0ifgLydtS58XWZGVFwFTxm8KQC9LCPi7KQbEzlTfQMiKrPQJ+MtJ29LnRVZk5UXAlPGbAtDLEgL+booBYcMMglQjkCp3Aec3FrLSf5nISp8VcpKXPi+yIisvAqaM3xSAXpYQ8HdTDMg+Ss4+/icgLiMuIyv9ZiYrfVa2AERgcb6H3txoW96M7BymsjJl/KYA1H8XfOU0xYA4naJvFmRFVvoE/OWkbenzIiuy8iJgyvhNAehlCQF/N8WA2JnqGwhZkZU+AX85aVv6vMiKrLwImDJ+UwB6WULA300xIHam+gZCVmSlT8BfTtqWPi+yIisvAqaM3xSAXpYQ8HdTDIidqb6BkBVZ6RPwl5O2pc+LrMjKi4Ap4zcFoJclBPzdFAMydZFwELMgK31qZKXPCjnJS58XWZGVFwFTxm8KQC9LCPi7KQbEkAr6BkJWZKVPwF9O2pY+L7IiKy8CpozfFIBelhDwd1MMiNMp+gZCVmSlT8BfTtqWPi+yIisvAqaM3xSAXpYQ8HdTDIidqb6BkBVZ6RPwl5O2pc+LrMjKi4Ap4zcFoJclBPzdFANiZ6pvIGRFVvoE/OWkbenzIiuy8iJgyvhNAehlCQF/N8WA0JnOnj1bevfuLdWrVw9Iy4zLyEq/nclKnxVykpc+L7IiKy8CpozfFIBelhDwdxpQQHC8jARIgARIgASKSIDjt0gVa7fUtiK2QapvbYoBwUTWrVsnDRo0kCpVqqS6zaKuPFnpEyYrfVbISV76vMiKrLwImDJ+0wPoZQkBfzfFgLieRt9AyIqs9An4y0nb0udFVmTlRcCU8ZsC0MsSAv5uigGxM9U3ELIiK30C/nLStvR5kRVZeREwZfymAPSyhIC/m2JA7Ez1DYSsyEqfgL+ctC19XmRFVl4ETBm/KQC9LCHg76YY0E8//SRz586V7t27S7Vq1QLSMuMystJvZ7LSZ4Wc5KXPi6zIyouAKeM3BaCXJQT8nQYUEBwvIwESIAESIIEiEuD4zV3ABZmfKQa0detWWbNmjTRu3FiqVq1aELNSv5is9FuYrPRZISd56fMiK7LyImDK+E0PoJclBPzdFAPiehp9AyErstIn4C8nbUufF1mRlRcBU8ZvCkAvSwj4uykGxM5U30DIiqz0CfjLSdvS50VWZOVFwJTxmwLQyxIC/m6KAbEz1TcQsiIrfQL+ctK29HmRFVl5ETBl/KYA9LKEgL+bYkDYUbdw4ULp2LEjdwF72ApZ6b9MZKXPCjnJS58XWZGVFwFTxm8KQC9LCPg7DSggOF5GAiRAAiRAAkUkwPGbu4ALMj9TDAg76pYvXy7NmzfnLmAPiyEr/VeKrPRZISd56fMiK7LyImDK+E0PoJclBPzdFAPiehp9AyErstIn4C8nbUufF1mRlRcBU8ZvCkAvSwj4uykGxM5U30DIiqz0CfjLSdvS50VWZOVFwJTxmwLQyxIC/m6KAbEz1TcQsiIrfQL+ctK29HmRFVl5ETBl/KYA9LKEgL+bYkDYUbds2TJp1aoVdwF72ApZ6b9MZKXPCjnJS58XWZGVFwFTxm8KQC9LCPg7DSggOF5GAiRAAiRAAkUkwPGbu4ALMj9TDIhf0/pmQlZkpU/AX07alj4vsiIrLwKmjN/0AHpZQsDfTTEgrqfRNxCyIit9Av5y0rb0eZEVWXkRMGX8pgD0soSAv5tiQOxM9Q2ErMhKn4C/nLQtfV5kRVZeBEwZvykAvSwh4O/r16+X+vXry4oVK6Ru3boBS0n+ZehMZ8+eLb1795bq1asnv8JFrCFZ6cMnK31WyEle+rzIiqy8CEAANmvWTL799lupV6+eV/aS/L3KNiuV5JPF8FArV65UBsREAiRAAiRAAiSQPgJw4DRt2jR9FQ+hxhSABUDEcUOrVq2SOnXqSJUqVQooKdmX2l9Kpe7pDKMVyEqfIlnps0JO8tLnRVZk5UUAvq8NGzZIkyZNjD3ilALQy0r4uxp44CLHlHcpT3WH0dRkpU+RrPRZ2QKQ76EeM9qWHifalT6nUsxJAViKrRryM7Ez1QdKVmSlT8BfTtqWPi+yIit9AubmpAA0t+21n5ydqTYqekv1UZGVD1b01PiDxT5LnxdZ6bMqtZwUgKXWohE8z6ZNm+SGG26QSy+9VGrWrBnBHUqnSLLSb0uy0meFnOSlz4usyEqfgLk5KQDNbXs+OQmQAAmQAAmQgKEEKAANbXg+NgmQAAmQAAmQgLkEKADNbXs+OQmQAAmQAAmQgKEEKAANbXg+NgmQAAmQAAmQgLkEKADNbXs+OQmQAAmQAAmQgKEEKAANanjs5J02bZosXrxYatWqJfvtt5/cdNNN0rZtW1cKL730kvTr16/S7+Xl5dKuXbvM3x9//HG54oor5KOPPpKWLVvKddddJ8cff3yq6UbF65577pH77rtPFi5cqPh0795drr/+eunRo0dqeUXFKhvIww8/LL/97W/l2GOPlenTp5OVRSD3PcS5ppdddpl6z9etWyd77bWX3HrrrfKb3/wmlbyitKsxY8bI3XffLcuXL5dddtlFTjrpJBXtYPvtt08lK1Q6CC9ch13T11xzjfz973+XL774Qh2NBjs644wzSrqPT21Dh1RxCsCQQKahmCOOOEL69+8v++67rzpYHi/4ggULZNGiRbLDDjs4PoItAJcsWVLhFJCGDRtKtWrV1DWzZ8+WAw88UEaPHq1E3xNPPCGjRo2S1157TXr27JkGNI51jIrXaaedJvvvv78S4Bhsbr75ZjVgf/DBB7L77runkldUrGwYn332mWLWokUL2WmnnVItAKNitXnzZsWoUaNGMnLkSDWI4/hGHFXZuXNn2lVWn/XAAw/IH/7wB5k8ebJ6Dz/88EM5/fTT5ZRTTpHbb789laxQ6SC2hevwUbVmzRq59tprpVWrVrJ27Vo1RoBNKffxqW3okCpOARgSyDQW8+WXX6rB4uWXX5Y+ffrkFYDwJtSvX98xDzpNBBN97rnnMr+jI2rQoIE89NBDaUTjWOeweOUW/tNPPylWd911lwwYMKAkeIXJCnwOOuggGTRokLz66qsCL1eaPYC5DRwWqwkTJsgtt9yiPPw1atQoCTuKitV5552nvKf/+te/Mre48MIL5a233lI2VipJx7ZmzpypHAMff/yx+rhySqb08aXS7rrPQQGoS6oE8y1btkxat26tvIAdO3bMKwD33HNP+fHHH6V9+/Zy+eWXV5gWbt68uQwbNkz9sxO+ojHFAs9NqaSweOXywIHkEOL/+Mc/5KijjioJXGGyuvLKK2X+/PnKswwvTakJwLBYYZoXA3jt2rXlySefFHjpTz31VBkxYkTGW5924wqLFZYTnH322fLCCy+opRcQP0ceeaQMHDhQLrnkkrRjytRfh9c555yjPKD77LOP3H///Wo26JhjjlEzOlgqhGRKH18yDa/5IBSAmqBKLdu2bduU2x+evXxfvJj6feWVV9Q6NawTQQcBTwOmhm2v4XbbbSdTpkxRg42dHnzwQeWxwTWlkMLklcvj3HPPleeff16tCUzz+iP7ucJk9frrr6tpuffff1+t0yo1ARgmK6zJ/fTTTwVLDDCoL126VGBbQ4cOVUsy0p7CZAUWd955p8Drh3Ix3fnHP/5Rxo8fn3ZMmfrr8sJsDfrzX/3qV8pOvvrqK2U/Bx98sJoiRzKhjy+ZhvfxIBSAPmCVUlYMDM8++6xap4e1Qn7S0UcfLVWqVJGnnnoq0zlMnTpVLdC3k73GBl7DUkhh8srmgfV/N954o+qAO3XqVAqolOgIw7bgGQUTDMq//vWvFZtSE4BhsQKbNm3aKC/9J598kvH43XbbbWpaePXq1am3rTBZ4X3DtCfWvGGdMjxlEMqDBw9Wm9lKIenyOuyww5QTAJs/6tWrpx4da5KxKeb7779XXkAIwFLv40uhzf0+AwWgX2IlkP/8889Xa6jg2cMuQb8JO3yxWwxraJBKfXogbF4277/85S9qAHrxxRfV9EsppDBZwevXtWvXCtOXW7duVZiqVq0q8E5jx3laU5iswADrJLH2D/ZkJ6zLxdQwPPEYxNOawmaFTWu9evVS4thO6NOGDBki3333nbKvNCc/vDDtDU87RLCd0LdjuQ+mhrFMqNT7+DS3dSF1pwAshF7KrsWUADoGrKXCFzBe7CAJX4bffPONzJo1S12OKTp4a2bMmJEpDh4bbBpJ8yaQqHgBEgYeiD9M/WIgSnuKghW8WdmDEhhh/SlsbezYscrjlUZREwUrsMHOXyy9wHo2W8CAE0I9rVq1KpUmFhUrLGnBlCfY2Al9FcKeQADaEQ7SBi0Ir0mTJskFF1ygdv7uuOOO6pGxhvSEE05QLOABLNU+Pm3tG3Z9KQDDJprg8rCuAwMEXu7s2H9w+9uLfS+99FL5/PPPVZw6JGzkwAaQDh06CMJM4CsZU5aI+4cOAumNN95Q6wHhGcS6QpSPgTrtYWCi4oVpX0wzoS0QtsNO6HztDjjBZuRYtahY5d6sFKaAo2KFkC/w2oARPvSwBhCC5k9/+pMK+ZTGFBWrq666SjA9DvFjTwFjDSCE4SOPPJJGVKrOQXhB5JWVlakP0auvvlqtATzzzDOVRxkxS0u5j09tQ4dUcQrAkECmoRis23NK9957rxo0kPC/WEgODyESxAo6SYhCiEQIQYjE3MCyjz32mBJ98D7YgaBtgZgGNk51jIoXBLXT7mjsdsXAlMYUFatSFIBRskJMTuzGx/Q5Ykoi1l2adwFHxQqbPvDBik1t6NuwYxprm/E3t3BXaXgvg/DCcyF0ED4aMBW88847y8knn6xmKGzHAPKUYh+fhjaNso4UgFHSZdkkQAIkQAIkQAIkkEACFIAJbBRWiQRIgARIgARIgASiJEABGCVdlk0CJEACJEACJEACCSRAAZjARmGVSIAESIAESIAESCBKAhSAUdJl2SRAAiRAAiRAAiSQQAIUgAlsFFaJBEiABEiABEiABKIkQAEYJV2WTQIkQAIkQAIkQAIJJEABmMBGYZVIgARIgARIgARIIEoCFIBR0mXZJEACBRHo27evdOnSRZ1IE1eK8p6lcJJJXO3A+5AACURLgAIwWr4snQRIoAACUYoxt2rhnOsaNWpInTp1VBac3IKzUvGv0EQBWChBXk8CJBAWAQrAsEiyHBIggdAJFEMA5j4EBWDozcoCSYAEEkCAAjABjcAqkAAJOBPIFoDr1q2ToUOHytNPPy2bNm1Sh9Xfcccd0rp1a3XxlClTlJfukUceUf+7YsUKOeCAAwRnXe+2224qD86AHT58uNx3331SrVo1dej9F198IevXr5fp06erPNn3xH+//PLLFSq3bds2dWYz8uPMXTthmhr/cJY20k8//SR//vOfZfLkyepeOJd3zZo1Fe6Fsm655RaZMGGCrF69Wtq0aSNXXHGFnHTSSTQJEiABEoiUAAVgpHhZOAmQQCEEssXYscceK0uXLpWJEydK3bp1ZcSIEfLRRx/JokWL1JQtBOCQIUOUMLzhhhukatWq8rvf/U66du0qDzzwgKrGddddJ7fddpv89a9/lbKyMhk7dqw8+OCD0q9fP0cBiOngzp07q3IHDx6syth11121BODNN98s119/vfztb3+T9u3by6233iqPPvqoHHzwwZl7XXbZZTJt2jQlHCFkX3nlFTn77LPl+eefV8/BRAIkQAJREaAAjIosyyUBEiiYgC0Azz33XOUde/3112W//fZT5X799dfSrFkzmTp1qvzf//2fEoCDBg2SZcuWScuWLVWe8ePHyzXXXKO8fLZ4u+iiiwT/kOCla9GihRKJTh5A5HGaAtbxADZp0kR5LCFUkeB93GuvvaR79+7qXt9//73ssssuMmvWLOndu3eGFbySGzduVMKUiQRIgASiIkABGBVZlksCJFAwAVsAwmt24oknyo8//qimU+0E4Xb88cfLqFGjlACEUISwstMTTzyhrtu6dauaeq1fv76a0u3Tp08mzwknnKB+D1MAut0LdcW0L+719ttvS48ePWSHHXaowGnz5s1KkL755psF82MBJEACJOBGgAKQtkECJJBYArYAxBQt1sXlCkCEiIHAw7o5ew3gt99+m3keCC1bdNmiDNOsBx54YCZPtijDH3M3njh5AOFVfPzxx2XevHmZcrCWb9y4cWoNoI4AhMDr1auXvPTSS7L77rtXaIOaNWsq7yYTCZAACURFgAIwKrIslwRIoGACOlPA2NABceglAFEZrN/DxowLL7xQ1Q1TwJguhpB08wBi6vmss87KXIPr7r77brUOEFPLVapUUWWddtppaora3gSCKWBsRrn44ovV75gCxnRzt27d1L02bNggDRs2lHvuuUd+//vfF8yKBZAACZCAHwIUgH5oMS8JkECsBLK9cccdd1xmEwhi9F1yySVqvV/2JhAILjcPICqOTSC333672pjRrl07ufPOO+X+++9XGzMwXYyU6wE87LDDpFatWmo9ITxzWLdXXl4uHTp0UJtNID5nzpypvJDYnGILwJtuuknwD/fChhNsPnn44YcrbAK5/PLL1Q5gbBDBjuX//Oc/8sYbb8iOO+4oAwcOjJU1b0YCJGAWAQpAs9qbT0sCqSLgFAbmqaeeEqyTwzo+CLjcMDD5BCC8cMOGDcuEgcHu3o8//litK3zooYccBeCcOXOUB3DJkiUq/AzW8CFBuGGXL3YKYxq6bdu2MmnSpIwAxL2w2QRhaLAj+YwzzpCvvvqqUhgYPAPEJeqBNYrwEI4cObLCOsVUNRorSwIkkAoCFICpaCZWkgRIIAoC2PwB79zJJ58so0ePjuIWLJMESIAEEkmAAjCRzcJKkQAJREHgs88+kxdeeEHF2IM376677lIeOmzmgBBkIgESIAFTCFAAmtLSfE4SIAF1Okj//v1l4cKFaiq3Y8eOcuONN3K6lbZBAiRgHAEKQOOanA9MAiRAAiRAAiRgOgEKQNMtgM9PAiRAAiRAAiRgHAEKQOOanA9MAiRAAiRAAiRgOgEKQNMtgM9PAiRAAiRAAiRgHAEKQOOanA9MAiRAAiRAAiRgOgEKQNMtgM9PAiRAAiRAAiRgHAEKQOOanA9MAiRAAiRAAiRgOgEKQNMtgM9PAiRAAiRAAiRgHAEKQOOanA9MAiRAAiRAAiRgOgEKQNMtgM9PAiRAAiRAAiRgHIH/BwIT1WXogMfQAAAAAElFTkSuQmCC",
       "_figure_label": "Navigation data",
       "_image_mode": "diff",
       "_model_module_version": "^0.11",
       "_rubberband_y": 481,
       "_size": [
        640,
        480
       ],
       "_view_module_version": "^0.11",
       "layout": "IPY_MODEL_83a4cb46d7eb489da37c4c23bbe6c772",
       "toolbar": "IPY_MODEL_91b66ab0d89648ca81e6ac60fe51053b",
       "toolbar_position": "left"
      }
     },
     "03377fb40ea14ac28058aa373623d49e": {
      "model_module": "@jupyter-widgets/base",
      "model_module_version": "2.0.0",
      "model_name": "LayoutModel",
      "state": {}
     },
     "04b8d5ca701544b0b072083b4ffdfe08": {
      "model_module": "@jupyter-widgets/base",
      "model_module_version": "2.0.0",
      "model_name": "LayoutModel",
      "state": {}
     },
     "0534c327f2fc46c5970b9a26167d9fd4": {
      "model_module": "@jupyter-widgets/controls",
      "model_module_version": "2.0.0",
      "model_name": "HTMLStyleModel",
      "state": {
       "description_width": "",
       "font_size": null,
       "text_color": null
      }
     },
     "05392bd489dc40a9813a43eea46421f8": {
      "model_module": "@jupyter-widgets/base",
      "model_module_version": "2.0.0",
      "model_name": "LayoutModel",
      "state": {}
     },
     "092fc7bbb62440a89e38b6250d96e20a": {
      "model_module": "@jupyter-widgets/controls",
      "model_module_version": "2.0.0",
      "model_name": "FloatProgressModel",
      "state": {
       "bar_style": "success",
       "layout": "IPY_MODEL_a42474918e39406396a330b41f5fff31",
       "max": 335882,
       "style": "IPY_MODEL_de59ebaec4c3427c8cf3854531352f85",
       "value": 335882
      }
     },
     "09cd73474a454aaaba35195359addb81": {
      "model_module": "@jupyter-widgets/controls",
      "model_module_version": "2.0.0",
      "model_name": "ProgressStyleModel",
      "state": {
       "description_width": ""
      }
     },
     "0a760cc1054746258f873e4393c0ec6b": {
      "model_module": "@jupyter-widgets/controls",
      "model_module_version": "2.0.0",
      "model_name": "HTMLStyleModel",
      "state": {
       "description_width": "",
       "font_size": null,
       "text_color": null
      }
     },
     "0b11a99ed18d4fe6a5227a3b5d4179f2": {
      "model_module": "@jupyter-widgets/base",
      "model_module_version": "2.0.0",
      "model_name": "LayoutModel",
      "state": {}
     },
     "0b5810bf19074f44962e6509cea11f74": {
      "model_module": "@jupyter-widgets/controls",
      "model_module_version": "2.0.0",
      "model_name": "HTMLModel",
      "state": {
       "layout": "IPY_MODEL_bdc073bdb186454d9ed194568443e107",
       "style": "IPY_MODEL_a5cc411173ef436895ded83181ff7169",
       "value": "Ping statistics: 100%"
      }
     },
     "0c5879e63e3c4b5e8a00882adb37c54d": {
      "model_module": "@jupyter-widgets/controls",
      "model_module_version": "2.0.0",
      "model_name": "HTMLModel",
      "state": {
       "layout": "IPY_MODEL_107947d6ba7b41e0b133ddaa33de7ac8",
       "style": "IPY_MODEL_579be5b329444c76aa63a16a126004b5",
       "value": " 122/122 [00:00&lt;00:00, 37845.21it/s]"
      }
     },
     "0e091fecf41d451cb4b848172c064cf8": {
      "model_module": "@jupyter-widgets/base",
      "model_module_version": "2.0.0",
      "model_name": "LayoutModel",
      "state": {}
     },
     "0e26fced93c04b38afbf453472be8f66": {
      "model_module": "@jupyter-widgets/controls",
      "model_module_version": "2.0.0",
      "model_name": "HTMLModel",
      "state": {
       "layout": "IPY_MODEL_c64fcad20cad482ba1a785a402d66ad5",
       "style": "IPY_MODEL_d67cb38cc23748f69e981c6a64ecbefe",
       "value": "Ping statistics: 100%"
      }
     },
     "0e513bab26064a1b9c15ee0e71bb6a0e": {
      "model_module": "@jupyter-widgets/controls",
      "model_module_version": "2.0.0",
      "model_name": "HTMLModel",
      "state": {
       "layout": "IPY_MODEL_f32ec7eb588a408394ef3a8b26f95bbb",
       "style": "IPY_MODEL_1b7190a3a4df4f418806550508ad04a6",
       "value": " 80/80 [00:00&lt;00:00, 6303.79it/s]"
      }
     },
     "0f4cfa15d69c4afba39a445c7b49d61f": {
      "model_module": "@jupyter-widgets/controls",
      "model_module_version": "2.0.0",
      "model_name": "HTMLStyleModel",
      "state": {
       "description_width": "",
       "font_size": null,
       "text_color": null
      }
     },
     "10129c98c41e40819184c94bffd94792": {
      "model_module": "@jupyter-widgets/base",
      "model_module_version": "2.0.0",
      "model_name": "LayoutModel",
      "state": {}
     },
     "107947d6ba7b41e0b133ddaa33de7ac8": {
      "model_module": "@jupyter-widgets/base",
      "model_module_version": "2.0.0",
      "model_name": "LayoutModel",
      "state": {}
     },
     "1098608b3c02459783197b270ffcda02": {
      "model_module": "@jupyter-widgets/base",
      "model_module_version": "2.0.0",
      "model_name": "LayoutModel",
      "state": {}
     },
     "10ffc08d95c94d0fb4b8a519f698b53c": {
      "model_module": "@jupyter-widgets/controls",
      "model_module_version": "2.0.0",
      "model_name": "HTMLStyleModel",
      "state": {
       "description_width": "",
       "font_size": null,
       "text_color": null
      }
     },
     "1136a32407d84e66bdf4f931562e1af2": {
      "model_module": "@jupyter-widgets/controls",
      "model_module_version": "2.0.0",
      "model_name": "HTMLModel",
      "state": {
       "layout": "IPY_MODEL_44090e0808154e78af298f9e49b2c065",
       "style": "IPY_MODEL_1da41346309e41968d5dcae20a7c03f3",
       "value": "100%"
      }
     },
     "11545cbf1a6044d78d69b3c551fb0f1a": {
      "model_module": "@jupyter-widgets/controls",
      "model_module_version": "2.0.0",
      "model_name": "ProgressStyleModel",
      "state": {
       "description_width": ""
      }
     },
     "11dbca4c40f243a2838da4f2d7db5253": {
      "model_module": "@jupyter-widgets/controls",
      "model_module_version": "2.0.0",
      "model_name": "ProgressStyleModel",
      "state": {
       "description_width": ""
      }
     },
     "125f9220d6ac45f09b369c30a7efb529": {
      "model_module": "@jupyter-widgets/controls",
      "model_module_version": "2.0.0",
      "model_name": "HTMLModel",
      "state": {
       "layout": "IPY_MODEL_b9ef70bf1ced4d4a92af7371e1fd280d",
       "style": "IPY_MODEL_e4bb319562ce4955ba9362ec5ffc68ef",
       "value": " 311356/311356 [00:00&lt;00:00, 350952.14it/s]"
      }
     },
     "129d1598a4d9495e8c85c169bc4a930a": {
      "model_module": "@jupyter-widgets/controls",
      "model_module_version": "2.0.0",
      "model_name": "FloatProgressModel",
      "state": {
       "bar_style": "success",
       "layout": "IPY_MODEL_71a802c3e87940daae37875e004a4700",
       "max": 54050,
       "style": "IPY_MODEL_ea0648abb4214ae087ca31dbdcd3a14c",
       "value": 54050
      }
     },
     "1345c0a121064dd3b0734857fcccdbdc": {
      "model_module": "@jupyter-widgets/controls",
      "model_module_version": "2.0.0",
      "model_name": "HTMLModel",
      "state": {
       "layout": "IPY_MODEL_03377fb40ea14ac28058aa373623d49e",
       "style": "IPY_MODEL_0534c327f2fc46c5970b9a26167d9fd4",
       "value": " 21175/21175 [00:00&lt;00:00, 170541.09it/s]"
      }
     },
     "142baa0f1b684f7cad43ec5394be0bc4": {
      "model_module": "@jupyter-widgets/controls",
      "model_module_version": "2.0.0",
      "model_name": "HTMLModel",
      "state": {
       "layout": "IPY_MODEL_bce68365bdb5488091dfbb8f26935001",
       "style": "IPY_MODEL_4c5b68e665664673b63ba38496dabec0",
       "value": " 312056/312056 [00:00&lt;00:00, 354726.58it/s]"
      }
     },
     "145d13a86f984769b3a5ac0807f0b415": {
      "model_module": "@jupyter-widgets/base",
      "model_module_version": "2.0.0",
      "model_name": "LayoutModel",
      "state": {}
     },
     "14861aacd25a4530898e2a1634b2687c": {
      "model_module": "@jupyter-widgets/controls",
      "model_module_version": "2.0.0",
      "model_name": "HTMLStyleModel",
      "state": {
       "description_width": "",
       "font_size": null,
       "text_color": null
      }
     },
     "16f0ad38c7fa4a11a25514b0a04836b3": {
      "model_module": "@jupyter-widgets/controls",
      "model_module_version": "2.0.0",
      "model_name": "HTMLModel",
      "state": {
       "layout": "IPY_MODEL_5843b628a7c143fdadf0837718bbf890",
       "style": "IPY_MODEL_d7be4a12556f425c9696eb8da069e649",
       "value": "100%"
      }
     },
     "1773d6aeed9b4cf68fbe097a36226d8f": {
      "model_module": "@jupyter-widgets/base",
      "model_module_version": "2.0.0",
      "model_name": "LayoutModel",
      "state": {}
     },
     "17cb1ca9e57e4b7682385615788484ba": {
      "model_module": "@jupyter-widgets/controls",
      "model_module_version": "2.0.0",
      "model_name": "HTMLModel",
      "state": {
       "layout": "IPY_MODEL_9948fda01c0a41d3b80e08b7537fc989",
       "style": "IPY_MODEL_9cc21ced1ada41d89c5426c3f0336b25",
       "value": "100%"
      }
     },
     "18b1281adf4a463e88fa7c4d423492c6": {
      "model_module": "@jupyter-widgets/controls",
      "model_module_version": "2.0.0",
      "model_name": "HTMLModel",
      "state": {
       "layout": "IPY_MODEL_36797b3afc87461dbdf1625ca159d7c7",
       "style": "IPY_MODEL_834a36dd208f40928557ca3648f241a2",
       "value": "Ping statistics: 100%"
      }
     },
     "1945b1e15d78438db0d0ae961ac9f5e9": {
      "model_module": "@jupyter-widgets/controls",
      "model_module_version": "2.0.0",
      "model_name": "ProgressStyleModel",
      "state": {
       "description_width": ""
      }
     },
     "19a2916ffe284dfab47ae5622432e7eb": {
      "model_module": "@jupyter-widgets/controls",
      "model_module_version": "2.0.0",
      "model_name": "HTMLModel",
      "state": {
       "layout": "IPY_MODEL_ce34ad14d2744ed2aacc224ee1c4e2ff",
       "style": "IPY_MODEL_d08a68e99369420b970e7a444c12a329",
       "value": "Split pings by time blocks: 100%"
      }
     },
     "19e6e466d2ed41a5818de5c1718d8450": {
      "model_module": "@jupyter-widgets/controls",
      "model_module_version": "2.0.0",
      "model_name": "HTMLStyleModel",
      "state": {
       "description_width": "",
       "font_size": null,
       "text_color": null
      }
     },
     "1b7190a3a4df4f418806550508ad04a6": {
      "model_module": "@jupyter-widgets/controls",
      "model_module_version": "2.0.0",
      "model_name": "HTMLStyleModel",
      "state": {
       "description_width": "",
       "font_size": null,
       "text_color": null
      }
     },
     "1cb09b799d2e4805a99019183a68210e": {
      "model_module": "@jupyter-widgets/controls",
      "model_module_version": "2.0.0",
      "model_name": "FloatProgressModel",
      "state": {
       "bar_style": "success",
       "layout": "IPY_MODEL_6f072d95e2d54657a506cf92f5119581",
       "max": 33930,
       "style": "IPY_MODEL_798ced16468b41c4b7e225fbb64ad1dc",
       "value": 33930
      }
     },
     "1da41346309e41968d5dcae20a7c03f3": {
      "model_module": "@jupyter-widgets/controls",
      "model_module_version": "2.0.0",
      "model_name": "HTMLStyleModel",
      "state": {
       "description_width": "",
       "font_size": null,
       "text_color": null
      }
     },
     "1dbe4b71fddf4373983a79239ac3e406": {
      "model_module": "@jupyter-widgets/base",
      "model_module_version": "2.0.0",
      "model_name": "LayoutModel",
      "state": {}
     },
     "1ded39b874fc4b94a86036c516304eb6": {
      "model_module": "@jupyter-widgets/controls",
      "model_module_version": "2.0.0",
      "model_name": "HTMLModel",
      "state": {
       "layout": "IPY_MODEL_3e6af815f70743de9ce37f01b4c53931",
       "style": "IPY_MODEL_fd7c3ed0531c4a7f85e0a2f205051a6d",
       "value": "Ping statistics: 100%"
      }
     },
     "1e22dc7a543b40ecab4066c05b98cf99": {
      "model_module": "@jupyter-widgets/controls",
      "model_module_version": "2.0.0",
      "model_name": "HTMLModel",
      "state": {
       "layout": "IPY_MODEL_f53a3077877049678d49d5f6b84f4088",
       "style": "IPY_MODEL_8d36e16ab44047859b66f76481d28921",
       "value": " 122/122 [00:03&lt;00:00, 39.46it/s]"
      }
     },
     "1e9a4e1958d744bcada50844c0a578fe": {
      "model_module": "@jupyter-widgets/controls",
      "model_module_version": "2.0.0",
      "model_name": "HBoxModel",
      "state": {
       "children": [
        "IPY_MODEL_3808a7ee33154c3eb628bbb5865ca033",
        "IPY_MODEL_d1eebce0b74a487aad1ab6073fb59ec8",
        "IPY_MODEL_bcbaf2e0fa5e40739a9a139e8eb39ba6"
       ],
       "layout": "IPY_MODEL_6a9f931a52474db1ab13e6a4490b0ce3"
      }
     },
     "1f46cf54a2f9426b97061782697d0952": {
      "model_module": "@jupyter-widgets/controls",
      "model_module_version": "2.0.0",
      "model_name": "HBoxModel",
      "state": {
       "children": [
        "IPY_MODEL_ba7dcd03378c470ebb396df35a44d795",
        "IPY_MODEL_00dae8238c974951844c41af167b3428",
        "IPY_MODEL_49a7f6968c304f3db96a2d26716aabb7"
       ],
       "layout": "IPY_MODEL_b3d48afae51b4de287041a14824a3e5f"
      }
     },
     "1f82a80a4bcc4205b77f662511042280": {
      "model_module": "@jupyter-widgets/controls",
      "model_module_version": "2.0.0",
      "model_name": "ProgressStyleModel",
      "state": {
       "description_width": ""
      }
     },
     "2045e2511bd94d82832c14024aec7b3a": {
      "model_module": "@jupyter-widgets/controls",
      "model_module_version": "2.0.0",
      "model_name": "HTMLModel",
      "state": {
       "layout": "IPY_MODEL_896a0abe888b460d8f7492e8d21039d3",
       "style": "IPY_MODEL_e4638b3853a94542a0a842284a3bdbf5",
       "value": "100%"
      }
     },
     "212a670cb3dc4554af3f25c9179ae8dc": {
      "model_module": "@jupyter-widgets/controls",
      "model_module_version": "2.0.0",
      "model_name": "HTMLStyleModel",
      "state": {
       "description_width": "",
       "font_size": null,
       "text_color": null
      }
     },
     "215bab6c6efd4542a2b7cb1bf666ffa6": {
      "model_module": "@jupyter-widgets/base",
      "model_module_version": "2.0.0",
      "model_name": "LayoutModel",
      "state": {}
     },
     "21b7014a80a845729e2d1358befd5164": {
      "model_module": "@jupyter-widgets/controls",
      "model_module_version": "2.0.0",
      "model_name": "HTMLModel",
      "state": {
       "layout": "IPY_MODEL_93aecb93110a4317930a80090ab1863a",
       "style": "IPY_MODEL_a1b4f3409dc34f04a063a6671e842363",
       "value": " 335882/335882 [00:01&lt;00:00, 322831.52it/s]"
      }
     },
     "22eec910931a4d85bcc0de3395a07448": {
      "model_module": "@jupyter-widgets/base",
      "model_module_version": "2.0.0",
      "model_name": "LayoutModel",
      "state": {}
     },
     "25797ac79b6545a1b39a1390ab407bb1": {
      "model_module": "@jupyter-widgets/controls",
      "model_module_version": "2.0.0",
      "model_name": "HTMLModel",
      "state": {
       "layout": "IPY_MODEL_32c876b726d440faae36a85f036cd234",
       "style": "IPY_MODEL_ea71cc16ef27447dacf0116cf57a5414",
       "value": "100%"
      }
     },
     "25c2eb04949344c3a7015052caba6c1d": {
      "model_module": "@jupyter-widgets/controls",
      "model_module_version": "2.0.0",
      "model_name": "HTMLStyleModel",
      "state": {
       "description_width": "",
       "font_size": null,
       "text_color": null
      }
     },
     "25da2dee15dc4a978ae30afa5b0cca27": {
      "model_module": "@jupyter-widgets/controls",
      "model_module_version": "2.0.0",
      "model_name": "ProgressStyleModel",
      "state": {
       "description_width": ""
      }
     },
     "25f02112bc8d45a9b36d186e5544fdfa": {
      "model_module": "@jupyter-widgets/base",
      "model_module_version": "2.0.0",
      "model_name": "LayoutModel",
      "state": {}
     },
     "26d8b524a9b74294b393eed44125ff04": {
      "model_module": "@jupyter-widgets/base",
      "model_module_version": "2.0.0",
      "model_name": "LayoutModel",
      "state": {}
     },
     "2705deaaa70a4c8c950b083776b03170": {
      "model_module": "@jupyter-widgets/base",
      "model_module_version": "2.0.0",
      "model_name": "LayoutModel",
      "state": {}
     },
     "270b3f585fad4460b3aec3ec52624672": {
      "model_module": "@jupyter-widgets/controls",
      "model_module_version": "2.0.0",
      "model_name": "FloatProgressModel",
      "state": {
       "bar_style": "success",
       "layout": "IPY_MODEL_a7272f32a3944fe98be019471c4594b2",
       "max": 335882,
       "style": "IPY_MODEL_80d76caa09a14bd9bf237eb7837c0980",
       "value": 335882
      }
     },
     "28375f1f400b4b40b0abc6f8ebf8a204": {
      "model_module": "@jupyter-widgets/base",
      "model_module_version": "2.0.0",
      "model_name": "LayoutModel",
      "state": {}
     },
     "28c49f156a994f869792e42bdac634ff": {
      "model_module": "@jupyter-widgets/controls",
      "model_module_version": "2.0.0",
      "model_name": "ProgressStyleModel",
      "state": {
       "description_width": ""
      }
     },
     "29b459bae5cc4f22994bb91118091d39": {
      "model_module": "@jupyter-widgets/controls",
      "model_module_version": "2.0.0",
      "model_name": "HTMLModel",
      "state": {
       "layout": "IPY_MODEL_e0aaf606d2c74a2392ee8199b35feb42",
       "style": "IPY_MODEL_212a670cb3dc4554af3f25c9179ae8dc",
       "value": " 122/122 [00:00&lt;00:00, 54257.78it/s]"
      }
     },
     "2b4c3a273f854bf7b66704851b9975e1": {
      "model_module": "@jupyter-widgets/base",
      "model_module_version": "2.0.0",
      "model_name": "LayoutModel",
      "state": {}
     },
     "2d66d7fa7f1e4312b42624f28daeae0e": {
      "model_module": "@jupyter-widgets/controls",
      "model_module_version": "2.0.0",
      "model_name": "HBoxModel",
      "state": {
       "children": [
        "IPY_MODEL_752a0482695e42a28ecdbfc817f322f1",
        "IPY_MODEL_dc76629b6add470685e997fb459196c2",
        "IPY_MODEL_7b7fc822f3194d649a56273d1afe4c47"
       ],
       "layout": "IPY_MODEL_1098608b3c02459783197b270ffcda02"
      }
     },
     "2e0ce59057ca49f48612eadad958fa2c": {
      "model_module": "@jupyter-widgets/controls",
      "model_module_version": "2.0.0",
      "model_name": "FloatProgressModel",
      "state": {
       "bar_style": "success",
       "layout": "IPY_MODEL_746d1db687f942839b63409d73161e65",
       "max": 335882,
       "style": "IPY_MODEL_25da2dee15dc4a978ae30afa5b0cca27",
       "value": 335882
      }
     },
     "2e2be585e530434185f8bcfee6c81df2": {
      "model_module": "@jupyter-widgets/base",
      "model_module_version": "2.0.0",
      "model_name": "LayoutModel",
      "state": {}
     },
     "2e659989b6974d909c4637166c7484d6": {
      "model_module": "@jupyter-widgets/controls",
      "model_module_version": "2.0.0",
      "model_name": "HTMLStyleModel",
      "state": {
       "description_width": "",
       "font_size": null,
       "text_color": null
      }
     },
     "2e86eedcbd4940919ee8b7b9e5b49fa5": {
      "model_module": "@jupyter-widgets/controls",
      "model_module_version": "2.0.0",
      "model_name": "FloatProgressModel",
      "state": {
       "bar_style": "success",
       "layout": "IPY_MODEL_9fb4b983de2043d6ae4cdb50aa318723",
       "max": 21175,
       "style": "IPY_MODEL_28c49f156a994f869792e42bdac634ff",
       "value": 21175
      }
     },
     "2f2df809f2654d5f950a705e85b12fe8": {
      "model_module": "@jupyter-widgets/base",
      "model_module_version": "2.0.0",
      "model_name": "LayoutModel",
      "state": {}
     },
     "305fed5176314da6ac10b2addad156fb": {
      "model_module": "@jupyter-widgets/controls",
      "model_module_version": "2.0.0",
      "model_name": "HTMLStyleModel",
      "state": {
       "description_width": "",
       "font_size": null,
       "text_color": null
      }
     },
     "30940e54227846849c3cb1230556fe5e": {
      "model_module": "@jupyter-widgets/controls",
      "model_module_version": "2.0.0",
      "model_name": "HTMLModel",
      "state": {
       "layout": "IPY_MODEL_b1cd661b39a74f1ab252676c2df8f1b1",
       "style": "IPY_MODEL_9168b15bf0c149ffb319fcc2044390b0",
       "value": " 73962/73962 [00:00&lt;00:00, 169468.17it/s]"
      }
     },
     "30c3a97adadf440580b12cea4b4058e3": {
      "model_module": "@jupyter-widgets/base",
      "model_module_version": "2.0.0",
      "model_name": "LayoutModel",
      "state": {}
     },
     "328ee742f7ed4e34ae86cbd44dcdc601": {
      "model_module": "@jupyter-widgets/controls",
      "model_module_version": "2.0.0",
      "model_name": "HTMLStyleModel",
      "state": {
       "description_width": "",
       "font_size": null,
       "text_color": null
      }
     },
     "32c876b726d440faae36a85f036cd234": {
      "model_module": "@jupyter-widgets/base",
      "model_module_version": "2.0.0",
      "model_name": "LayoutModel",
      "state": {}
     },
     "344a14fa19564f05b2bf0c007c1a93cd": {
      "model_module": "@jupyter-widgets/controls",
      "model_module_version": "2.0.0",
      "model_name": "HBoxModel",
      "state": {
       "children": [
        "IPY_MODEL_4fdd9a2788c045769f3824cb9befffb5",
        "IPY_MODEL_3516e618dd66481fa817a32a5835105a",
        "IPY_MODEL_b9dde5b5d0fb4e7dbb7f064960a8473a"
       ],
       "layout": "IPY_MODEL_d48b86d0a36942f18b789b303c357e79"
      }
     },
     "348d9526a9104c629379cc656e461a09": {
      "model_module": "@jupyter-widgets/controls",
      "model_module_version": "2.0.0",
      "model_name": "HBoxModel",
      "state": {
       "children": [
        "IPY_MODEL_0b5810bf19074f44962e6509cea11f74",
        "IPY_MODEL_6e9b1f3829f24e55a97d2d2c3a8b0fb7",
        "IPY_MODEL_d3e27ddccd5d400ca4fa08119b662053"
       ],
       "layout": "IPY_MODEL_49c47343c89742b6b6b520d3d21e7a45"
      }
     },
     "34d53345871b411bb2e14e904b2ab5f0": {
      "model_module": "@jupyter-widgets/controls",
      "model_module_version": "2.0.0",
      "model_name": "HTMLStyleModel",
      "state": {
       "description_width": "",
       "font_size": null,
       "text_color": null
      }
     },
     "3516e618dd66481fa817a32a5835105a": {
      "model_module": "@jupyter-widgets/controls",
      "model_module_version": "2.0.0",
      "model_name": "FloatProgressModel",
      "state": {
       "bar_style": "success",
       "layout": "IPY_MODEL_6930b514b61445ebad5f92847eaa4cc1",
       "max": 335882,
       "style": "IPY_MODEL_5605688349ba4ef88130a7a0fc1bac57",
       "value": 335882
      }
     },
     "356a70db6848496688e303401484c2de": {
      "model_module": "@jupyter-widgets/controls",
      "model_module_version": "2.0.0",
      "model_name": "HBoxModel",
      "state": {
       "children": [
        "IPY_MODEL_17cb1ca9e57e4b7682385615788484ba",
        "IPY_MODEL_270b3f585fad4460b3aec3ec52624672",
        "IPY_MODEL_f3e6c26cbc0342d4bdbae54d795c7dcb"
       ],
       "layout": "IPY_MODEL_88dd29f0ea454a4681ac4972aba6c6c5"
      }
     },
     "357abf78f7c54986ab47fc3e9c61dd13": {
      "model_module": "@jupyter-widgets/controls",
      "model_module_version": "2.0.0",
      "model_name": "ProgressStyleModel",
      "state": {
       "description_width": ""
      }
     },
     "35d8996760534c2b9dd09a9eb17aedd7": {
      "model_module": "@jupyter-widgets/controls",
      "model_module_version": "2.0.0",
      "model_name": "FloatProgressModel",
      "state": {
       "bar_style": "success",
       "layout": "IPY_MODEL_4135436fa8e1435481a8746e63bbcdb9",
       "max": 122,
       "style": "IPY_MODEL_c9d467c088aa42eeb01ceec2c31de8cd",
       "value": 122
      }
     },
     "363760df002143c8ada031f90423082b": {
      "model_module": "@jupyter-widgets/base",
      "model_module_version": "2.0.0",
      "model_name": "LayoutModel",
      "state": {}
     },
     "36797b3afc87461dbdf1625ca159d7c7": {
      "model_module": "@jupyter-widgets/base",
      "model_module_version": "2.0.0",
      "model_name": "LayoutModel",
      "state": {}
     },
     "36d33735a1f14e5e8c7ac92c29b21d0f": {
      "model_module": "@jupyter-widgets/base",
      "model_module_version": "2.0.0",
      "model_name": "LayoutModel",
      "state": {}
     },
     "3770072fc3294a1c9772708ad33ec6f7": {
      "model_module": "@jupyter-widgets/base",
      "model_module_version": "2.0.0",
      "model_name": "LayoutModel",
      "state": {}
     },
     "3808a7ee33154c3eb628bbb5865ca033": {
      "model_module": "@jupyter-widgets/controls",
      "model_module_version": "2.0.0",
      "model_name": "HTMLModel",
      "state": {
       "layout": "IPY_MODEL_5594e11658184a2ba3728efa279f6d26",
       "style": "IPY_MODEL_a1ffdcad806b47c1a4ce496b240f22f9",
       "value": "Ping statistics: 100%"
      }
     },
     "3a160b5588d64861aa9a054784803c90": {
      "model_module": "@jupyter-widgets/controls",
      "model_module_version": "2.0.0",
      "model_name": "HBoxModel",
      "state": {
       "children": [
        "IPY_MODEL_6e9f816ade02459a89248cd77a149576",
        "IPY_MODEL_fe5a4504ec874ed8891e2e712244c395",
        "IPY_MODEL_4277409efb4c484db84e9d367f2fc637"
       ],
       "layout": "IPY_MODEL_fa1c3ea9848342bab8c89c1467cf4e5e"
      }
     },
     "3a6804343f7d4196a5934995cd1e2b7d": {
      "model_module": "@jupyter-widgets/controls",
      "model_module_version": "2.0.0",
      "model_name": "HTMLModel",
      "state": {
       "layout": "IPY_MODEL_cc998c3a71684f9c85bdb9d91a299fef",
       "style": "IPY_MODEL_dccf8886d4894b6f91243ff0cd3aee03",
       "value": "100%"
      }
     },
     "3b7b21e2ef6743378f0fa967635d8973": {
      "model_module": "@jupyter-widgets/controls",
      "model_module_version": "2.0.0",
      "model_name": "ProgressStyleModel",
      "state": {
       "description_width": ""
      }
     },
     "3cc0be8d4b0a49a3b81a22a5dedae450": {
      "model_module": "@jupyter-widgets/base",
      "model_module_version": "2.0.0",
      "model_name": "LayoutModel",
      "state": {}
     },
     "3cd6cc9397044aae876cbd9bd2e6a179": {
      "model_module": "@jupyter-widgets/base",
      "model_module_version": "2.0.0",
      "model_name": "LayoutModel",
      "state": {}
     },
     "3cd70d2718a44439b4ecc71810b4b400": {
      "model_module": "@jupyter-widgets/controls",
      "model_module_version": "2.0.0",
      "model_name": "HTMLModel",
      "state": {
       "layout": "IPY_MODEL_2705deaaa70a4c8c950b083776b03170",
       "style": "IPY_MODEL_b4225b2c2313482da0d35930e8a87784",
       "value": " 122/122 [00:00&lt;00:00, 173.46it/s]"
      }
     },
     "3d5a94a216e648f490f35242c60f9342": {
      "model_module": "@jupyter-widgets/base",
      "model_module_version": "2.0.0",
      "model_name": "LayoutModel",
      "state": {}
     },
     "3e6af815f70743de9ce37f01b4c53931": {
      "model_module": "@jupyter-widgets/base",
      "model_module_version": "2.0.0",
      "model_name": "LayoutModel",
      "state": {}
     },
     "3ee36e8aa66b4c59a0969ef207b803fd": {
      "model_module": "@jupyter-widgets/controls",
      "model_module_version": "2.0.0",
      "model_name": "FloatProgressModel",
      "state": {
       "bar_style": "success",
       "layout": "IPY_MODEL_ccd08e20ebbe4bb095196e1318007eee",
       "max": 122,
       "style": "IPY_MODEL_a32a36ce2ccd4dd3a391056c6d8d5d8d",
       "value": 122
      }
     },
     "3fb5ad4eb1ec4bb1b23a5e27b5936358": {
      "model_module": "@jupyter-widgets/controls",
      "model_module_version": "2.0.0",
      "model_name": "HTMLModel",
      "state": {
       "layout": "IPY_MODEL_6a2330e9ac2f4d11a040cfc7ae61aaee",
       "style": "IPY_MODEL_a7ba142d4145412d898ac07ed8d5e60e",
       "value": " 29818/29818 [00:00&lt;00:00, 174712.86it/s]"
      }
     },
     "4135436fa8e1435481a8746e63bbcdb9": {
      "model_module": "@jupyter-widgets/base",
      "model_module_version": "2.0.0",
      "model_name": "LayoutModel",
      "state": {}
     },
     "41cb13a9baa4479ebf371d7762be1641": {
      "model_module": "@jupyter-widgets/controls",
      "model_module_version": "2.0.0",
      "model_name": "ProgressStyleModel",
      "state": {
       "description_width": ""
      }
     },
     "421e975901244a3aabc01b3813823bc5": {
      "model_module": "@jupyter-widgets/base",
      "model_module_version": "2.0.0",
      "model_name": "LayoutModel",
      "state": {}
     },
     "4277409efb4c484db84e9d367f2fc637": {
      "model_module": "@jupyter-widgets/controls",
      "model_module_version": "2.0.0",
      "model_name": "HTMLModel",
      "state": {
       "layout": "IPY_MODEL_5a624fe52d4142288cd3388becee3001",
       "style": "IPY_MODEL_0f4cfa15d69c4afba39a445c7b49d61f",
       "value": " 335882/335882 [00:01&lt;00:00, 279449.80it/s]"
      }
     },
     "44090e0808154e78af298f9e49b2c065": {
      "model_module": "@jupyter-widgets/base",
      "model_module_version": "2.0.0",
      "model_name": "LayoutModel",
      "state": {}
     },
     "452ccacb9bb24af9bd24279b76892286": {
      "model_module": "@jupyter-widgets/controls",
      "model_module_version": "2.0.0",
      "model_name": "HTMLStyleModel",
      "state": {
       "description_width": "",
       "font_size": null,
       "text_color": null
      }
     },
     "45ea80c382594e908a6b44b9cb59b62c": {
      "model_module": "@jupyter-widgets/controls",
      "model_module_version": "2.0.0",
      "model_name": "ProgressStyleModel",
      "state": {
       "description_width": ""
      }
     },
     "46050478506546658777c30863d92ca0": {
      "model_module": "@jupyter-widgets/controls",
      "model_module_version": "2.0.0",
      "model_name": "HTMLStyleModel",
      "state": {
       "description_width": "",
       "font_size": null,
       "text_color": null
      }
     },
     "46b87f29b79f43ad9c12a5273bbd2f4c": {
      "model_module": "@jupyter-widgets/base",
      "model_module_version": "2.0.0",
      "model_name": "LayoutModel",
      "state": {}
     },
     "481ee50f242b400cb2e89b4377c3b593": {
      "model_module": "@jupyter-widgets/controls",
      "model_module_version": "2.0.0",
      "model_name": "HTMLModel",
      "state": {
       "layout": "IPY_MODEL_b523256e49164192828afb43daf84c45",
       "style": "IPY_MODEL_b04c45cf16ce4e2a91bad1bd7a29c4fb",
       "value": "Ping statistics: 100%"
      }
     },
     "4842b01eb4a64d75ba8187e75da91815": {
      "model_module": "@jupyter-widgets/controls",
      "model_module_version": "2.0.0",
      "model_name": "HTMLStyleModel",
      "state": {
       "description_width": "",
       "font_size": null,
       "text_color": null
      }
     },
     "49a7f6968c304f3db96a2d26716aabb7": {
      "model_module": "@jupyter-widgets/controls",
      "model_module_version": "2.0.0",
      "model_name": "HTMLModel",
      "state": {
       "layout": "IPY_MODEL_46b87f29b79f43ad9c12a5273bbd2f4c",
       "style": "IPY_MODEL_e38f3dca38694e75ab6e9c8d93784578",
       "value": " 122/122 [00:00&lt;00:00, 45060.33it/s]"
      }
     },
     "49c47343c89742b6b6b520d3d21e7a45": {
      "model_module": "@jupyter-widgets/base",
      "model_module_version": "2.0.0",
      "model_name": "LayoutModel",
      "state": {}
     },
     "4a65222918374004abf76c9b1f86d9e1": {
      "model_module": "@jupyter-widgets/controls",
      "model_module_version": "2.0.0",
      "model_name": "HBoxModel",
      "state": {
       "children": [
        "IPY_MODEL_0e26fced93c04b38afbf453472be8f66",
        "IPY_MODEL_4bb441c5a23a48af8d844a3cd36e087f",
        "IPY_MODEL_ca2b19527d934751bc1957adda573c5f"
       ],
       "layout": "IPY_MODEL_22eec910931a4d85bcc0de3395a07448"
      }
     },
     "4bb441c5a23a48af8d844a3cd36e087f": {
      "model_module": "@jupyter-widgets/controls",
      "model_module_version": "2.0.0",
      "model_name": "FloatProgressModel",
      "state": {
       "bar_style": "success",
       "layout": "IPY_MODEL_f01e3cdb646649afa261632a65b42411",
       "max": 47483,
       "style": "IPY_MODEL_1945b1e15d78438db0d0ae961ac9f5e9",
       "value": 47483
      }
     },
     "4c5b68e665664673b63ba38496dabec0": {
      "model_module": "@jupyter-widgets/controls",
      "model_module_version": "2.0.0",
      "model_name": "HTMLStyleModel",
      "state": {
       "description_width": "",
       "font_size": null,
       "text_color": null
      }
     },
     "4ca1a7da037c4a409774d7bed2d6f55c": {
      "model_module": "@jupyter-widgets/controls",
      "model_module_version": "2.0.0",
      "model_name": "HTMLModel",
      "state": {
       "layout": "IPY_MODEL_c3f3aad38209411488b9bd0dff3b5c18",
       "style": "IPY_MODEL_452ccacb9bb24af9bd24279b76892286",
       "value": " 34108/34108 [00:00&lt;00:00, 170328.18it/s]"
      }
     },
     "4d9c546d00104fe0bb012c9d0c59efca": {
      "model_module": "@jupyter-widgets/controls",
      "model_module_version": "2.0.0",
      "model_name": "ProgressStyleModel",
      "state": {
       "description_width": ""
      }
     },
     "4dc9117762c2430788eed5dfea72cb3b": {
      "model_module": "@jupyter-widgets/controls",
      "model_module_version": "2.0.0",
      "model_name": "HBoxModel",
      "state": {
       "children": [
        "IPY_MODEL_a303924b234447fdaa98e033323dba85",
        "IPY_MODEL_2e86eedcbd4940919ee8b7b9e5b49fa5",
        "IPY_MODEL_1345c0a121064dd3b0734857fcccdbdc"
       ],
       "layout": "IPY_MODEL_de98dc69e7aa4493aaf18987272e611c"
      }
     },
     "4deaefb7273d4dbcaa8e2e4e43b2f1f1": {
      "model_module": "@jupyter-widgets/base",
      "model_module_version": "2.0.0",
      "model_name": "LayoutModel",
      "state": {}
     },
     "4ee49f541c1f4546bf9ce8485923ef58": {
      "model_module": "@jupyter-widgets/controls",
      "model_module_version": "2.0.0",
      "model_name": "HTMLStyleModel",
      "state": {
       "description_width": "",
       "font_size": null,
       "text_color": null
      }
     },
     "4fc09d0a49c24b7f8a6e6294a5ab892f": {
      "model_module": "@jupyter-widgets/controls",
      "model_module_version": "2.0.0",
      "model_name": "FloatProgressModel",
      "state": {
       "bar_style": "success",
       "layout": "IPY_MODEL_2f2df809f2654d5f950a705e85b12fe8",
       "max": 34108,
       "style": "IPY_MODEL_1f82a80a4bcc4205b77f662511042280",
       "value": 34108
      }
     },
     "4fdd9a2788c045769f3824cb9befffb5": {
      "model_module": "@jupyter-widgets/controls",
      "model_module_version": "2.0.0",
      "model_name": "HTMLModel",
      "state": {
       "layout": "IPY_MODEL_215bab6c6efd4542a2b7cb1bf666ffa6",
       "style": "IPY_MODEL_6a6bb2ab980a4a02bfa65b56d3bbb4fe",
       "value": "100%"
      }
     },
     "51211f04566049259f324e8ce9591ec4": {
      "model_module": "@jupyter-widgets/controls",
      "model_module_version": "2.0.0",
      "model_name": "FloatProgressModel",
      "state": {
       "bar_style": "success",
       "layout": "IPY_MODEL_669e90eb81cd43d1aab52964b4d52a79",
       "max": 80,
       "style": "IPY_MODEL_09cd73474a454aaaba35195359addb81",
       "value": 80
      }
     },
     "5168e746129e4f3fbbfb6ad49b61a990": {
      "model_module": "@jupyter-widgets/base",
      "model_module_version": "2.0.0",
      "model_name": "LayoutModel",
      "state": {}
     },
     "5232e47315f645529b146e5333f89cb3": {
      "model_module": "@jupyter-widgets/controls",
      "model_module_version": "2.0.0",
      "model_name": "HTMLModel",
      "state": {
       "layout": "IPY_MODEL_c0db2cb59a1a493d9730acbcd5ee6fb2",
       "style": "IPY_MODEL_62b1196dcd174d1d91f6171a2af98d00",
       "value": " 335166/335166 [00:00&lt;00:00, 357829.82it/s]"
      }
     },
     "52e15b5b668843189109bf7b699ab6ff": {
      "model_module": "@jupyter-widgets/controls",
      "model_module_version": "2.0.0",
      "model_name": "ProgressStyleModel",
      "state": {
       "description_width": ""
      }
     },
     "545a08d9d2ca4a989db495a70a1af60e": {
      "model_module": "@jupyter-widgets/base",
      "model_module_version": "2.0.0",
      "model_name": "LayoutModel",
      "state": {}
     },
     "5557bbeff56147e3a04f612c5b8ad262": {
      "model_module": "@jupyter-widgets/base",
      "model_module_version": "2.0.0",
      "model_name": "LayoutModel",
      "state": {}
     },
     "5594e11658184a2ba3728efa279f6d26": {
      "model_module": "@jupyter-widgets/base",
      "model_module_version": "2.0.0",
      "model_name": "LayoutModel",
      "state": {}
     },
     "5605688349ba4ef88130a7a0fc1bac57": {
      "model_module": "@jupyter-widgets/controls",
      "model_module_version": "2.0.0",
      "model_name": "ProgressStyleModel",
      "state": {
       "description_width": ""
      }
     },
     "5630600a018f4d109b859f0054cb2b1b": {
      "model_module": "@jupyter-widgets/controls",
      "model_module_version": "2.0.0",
      "model_name": "HTMLStyleModel",
      "state": {
       "description_width": "",
       "font_size": null,
       "text_color": null
      }
     },
     "579be5b329444c76aa63a16a126004b5": {
      "model_module": "@jupyter-widgets/controls",
      "model_module_version": "2.0.0",
      "model_name": "HTMLStyleModel",
      "state": {
       "description_width": "",
       "font_size": null,
       "text_color": null
      }
     },
     "57fcb1e2db2d449199ee22403c386264": {
      "model_module": "@jupyter-widgets/controls",
      "model_module_version": "2.0.0",
      "model_name": "HTMLModel",
      "state": {
       "layout": "IPY_MODEL_3d5a94a216e648f490f35242c60f9342",
       "style": "IPY_MODEL_e07e8f273fac4cf9aa7c09a0db0d2647",
       "value": " 335882/335882 [00:01&lt;00:00, 277209.43it/s]"
      }
     },
     "5827af6b4f0440499593b7fa29051b0e": {
      "model_module": "@jupyter-widgets/controls",
      "model_module_version": "2.0.0",
      "model_name": "FloatProgressModel",
      "state": {
       "bar_style": "success",
       "layout": "IPY_MODEL_9a6aae39e40244c8affa799197ef62b5",
       "max": 312056,
       "style": "IPY_MODEL_45ea80c382594e908a6b44b9cb59b62c",
       "value": 312056
      }
     },
     "5843b628a7c143fdadf0837718bbf890": {
      "model_module": "@jupyter-widgets/base",
      "model_module_version": "2.0.0",
      "model_name": "LayoutModel",
      "state": {}
     },
     "585c70efca754e658e3d99c140a66e7e": {
      "model_module": "@jupyter-widgets/controls",
      "model_module_version": "2.0.0",
      "model_name": "HBoxModel",
      "state": {
       "children": [
        "IPY_MODEL_3a6804343f7d4196a5934995cd1e2b7d",
        "IPY_MODEL_946e55a1de024520a316ff866ebbd176",
        "IPY_MODEL_1e22dc7a543b40ecab4066c05b98cf99"
       ],
       "layout": "IPY_MODEL_36d33735a1f14e5e8c7ac92c29b21d0f"
      }
     },
     "586bacad3d65441188a6bb8b54e5f590": {
      "model_module": "@jupyter-widgets/base",
      "model_module_version": "2.0.0",
      "model_name": "LayoutModel",
      "state": {}
     },
     "59c468a892b0468fb976298294a13228": {
      "model_module": "@jupyter-widgets/controls",
      "model_module_version": "2.0.0",
      "model_name": "HTMLStyleModel",
      "state": {
       "description_width": "",
       "font_size": null,
       "text_color": null
      }
     },
     "5a21559401d847af9c704f1695e16049": {
      "model_module": "@jupyter-widgets/controls",
      "model_module_version": "2.0.0",
      "model_name": "ProgressStyleModel",
      "state": {
       "description_width": ""
      }
     },
     "5a624fe52d4142288cd3388becee3001": {
      "model_module": "@jupyter-widgets/base",
      "model_module_version": "2.0.0",
      "model_name": "LayoutModel",
      "state": {}
     },
     "5d6f08ecee5d408e9ecd3aa9e1a54423": {
      "model_module": "@jupyter-widgets/base",
      "model_module_version": "2.0.0",
      "model_name": "LayoutModel",
      "state": {}
     },
     "5da3f81934b5415e8e36ca9ff1042f7a": {
      "model_module": "@jupyter-widgets/controls",
      "model_module_version": "2.0.0",
      "model_name": "HTMLModel",
      "state": {
       "layout": "IPY_MODEL_aaae84d2887b4b8f97698e27ff79ebce",
       "style": "IPY_MODEL_25c2eb04949344c3a7015052caba6c1d",
       "value": "Split pings by time difference: 100%"
      }
     },
     "5e2e98ac104341e5a9e5688eb31c6e93": {
      "model_module": "@jupyter-widgets/controls",
      "model_module_version": "2.0.0",
      "model_name": "FloatProgressModel",
      "state": {
       "bar_style": "success",
       "layout": "IPY_MODEL_ad9c12a5097d4b2d859cf4367b8e3dc6",
       "max": 122,
       "style": "IPY_MODEL_5a21559401d847af9c704f1695e16049",
       "value": 122
      }
     },
     "5e4c7ea4103840f5ab7e18324a9bb52d": {
      "model_module": "@jupyter-widgets/base",
      "model_module_version": "2.0.0",
      "model_name": "LayoutModel",
      "state": {}
     },
     "5ec0cdbb5a9f42e6aab0e6669a0c8de6": {
      "model_module": "@jupyter-widgets/base",
      "model_module_version": "2.0.0",
      "model_name": "LayoutModel",
      "state": {}
     },
     "5f9a7f8840374f8d881d9a8ad4589f8a": {
      "model_module": "@jupyter-widgets/controls",
      "model_module_version": "2.0.0",
      "model_name": "ProgressStyleModel",
      "state": {
       "description_width": ""
      }
     },
     "62b1196dcd174d1d91f6171a2af98d00": {
      "model_module": "@jupyter-widgets/controls",
      "model_module_version": "2.0.0",
      "model_name": "HTMLStyleModel",
      "state": {
       "description_width": "",
       "font_size": null,
       "text_color": null
      }
     },
     "62c9d6348f8a4b758e169bb589c9b3a1": {
      "model_module": "@jupyter-widgets/controls",
      "model_module_version": "2.0.0",
      "model_name": "HTMLModel",
      "state": {
       "layout": "IPY_MODEL_8e64d09c3e004f8abeac4c8c9ec9a90f",
       "style": "IPY_MODEL_a13080aac38941a5bf39a2e050b7fc15",
       "value": " 300/300 [00:00&lt;00:00, 86308.47it/s]"
      }
     },
     "6387518175a94d96958dc383ae2f0f28": {
      "model_module": "@jupyter-widgets/base",
      "model_module_version": "2.0.0",
      "model_name": "LayoutModel",
      "state": {}
     },
     "653af23415db4dd08ccfcef56e21fcb3": {
      "model_module": "@jupyter-widgets/controls",
      "model_module_version": "2.0.0",
      "model_name": "HTMLStyleModel",
      "state": {
       "description_width": "",
       "font_size": null,
       "text_color": null
      }
     },
     "65a85f6ca7fa4ac2a4aba39ccc8d6531": {
      "model_module": "@jupyter-widgets/controls",
      "model_module_version": "2.0.0",
      "model_name": "FloatProgressModel",
      "state": {
       "bar_style": "success",
       "layout": "IPY_MODEL_26d8b524a9b74294b393eed44125ff04",
       "max": 335882,
       "style": "IPY_MODEL_c25db74cdd774ffc86cca8bee79bdbbc",
       "value": 335882
      }
     },
     "6698b5854a8643618a8f3487c8efe46d": {
      "model_module": "@jupyter-widgets/base",
      "model_module_version": "2.0.0",
      "model_name": "LayoutModel",
      "state": {}
     },
     "669e90eb81cd43d1aab52964b4d52a79": {
      "model_module": "@jupyter-widgets/base",
      "model_module_version": "2.0.0",
      "model_name": "LayoutModel",
      "state": {}
     },
     "686d607243a24b51a661ccc477d52763": {
      "model_module": "@jupyter-widgets/controls",
      "model_module_version": "2.0.0",
      "model_name": "HBoxModel",
      "state": {
       "children": [
        "IPY_MODEL_c340f3bcf46d4807bcec2365202ee8a2",
        "IPY_MODEL_5e2e98ac104341e5a9e5688eb31c6e93",
        "IPY_MODEL_0c5879e63e3c4b5e8a00882adb37c54d"
       ],
       "layout": "IPY_MODEL_90cb9032c3b941479f00e5f23b635367"
      }
     },
     "6930b514b61445ebad5f92847eaa4cc1": {
      "model_module": "@jupyter-widgets/base",
      "model_module_version": "2.0.0",
      "model_name": "LayoutModel",
      "state": {}
     },
     "6a2330e9ac2f4d11a040cfc7ae61aaee": {
      "model_module": "@jupyter-widgets/base",
      "model_module_version": "2.0.0",
      "model_name": "LayoutModel",
      "state": {}
     },
     "6a6bb2ab980a4a02bfa65b56d3bbb4fe": {
      "model_module": "@jupyter-widgets/controls",
      "model_module_version": "2.0.0",
      "model_name": "HTMLStyleModel",
      "state": {
       "description_width": "",
       "font_size": null,
       "text_color": null
      }
     },
     "6a9f931a52474db1ab13e6a4490b0ce3": {
      "model_module": "@jupyter-widgets/base",
      "model_module_version": "2.0.0",
      "model_name": "LayoutModel",
      "state": {}
     },
     "6c7c13ee3aa94f5eb1e71ad2a708686d": {
      "model_module": "@jupyter-widgets/base",
      "model_module_version": "2.0.0",
      "model_name": "LayoutModel",
      "state": {}
     },
     "6cbd9070df68480388d8967f8a374e78": {
      "model_module": "@jupyter-widgets/base",
      "model_module_version": "2.0.0",
      "model_name": "LayoutModel",
      "state": {}
     },
     "6ce4cea905004c1d89cbd883e48b4cf5": {
      "model_module": "@jupyter-widgets/controls",
      "model_module_version": "2.0.0",
      "model_name": "HTMLModel",
      "state": {
       "layout": "IPY_MODEL_bfda7488cc0148d081c31606ca793d76",
       "style": "IPY_MODEL_5630600a018f4d109b859f0054cb2b1b",
       "value": "100%"
      }
     },
     "6e74b267532e4e46a9a06a4da52ed695": {
      "model_module": "@jupyter-widgets/controls",
      "model_module_version": "2.0.0",
      "model_name": "HTMLModel",
      "state": {
       "layout": "IPY_MODEL_a972b3e7186547aeacf554cf73ae5612",
       "style": "IPY_MODEL_19e6e466d2ed41a5818de5c1718d8450",
       "value": " 33930/33930 [00:00&lt;00:00, 174941.62it/s]"
      }
     },
     "6e9b1f3829f24e55a97d2d2c3a8b0fb7": {
      "model_module": "@jupyter-widgets/controls",
      "model_module_version": "2.0.0",
      "model_name": "FloatProgressModel",
      "state": {
       "bar_style": "success",
       "layout": "IPY_MODEL_d800cd82c2c14570b59331bde6ff69ef",
       "max": 75,
       "style": "IPY_MODEL_7caf444f8b8d47b588aa4bb44853fd98",
       "value": 75
      }
     },
     "6e9f816ade02459a89248cd77a149576": {
      "model_module": "@jupyter-widgets/controls",
      "model_module_version": "2.0.0",
      "model_name": "HTMLModel",
      "state": {
       "layout": "IPY_MODEL_6cbd9070df68480388d8967f8a374e78",
       "style": "IPY_MODEL_ce5ed41f480a40fda4f852ff98034f7e",
       "value": "100%"
      }
     },
     "6f072d95e2d54657a506cf92f5119581": {
      "model_module": "@jupyter-widgets/base",
      "model_module_version": "2.0.0",
      "model_name": "LayoutModel",
      "state": {}
     },
     "714227eddcdc49ebac4a26d43d4ff8fb": {
      "model_module": "@jupyter-widgets/controls",
      "model_module_version": "2.0.0",
      "model_name": "HTMLStyleModel",
      "state": {
       "description_width": "",
       "font_size": null,
       "text_color": null
      }
     },
     "71a802c3e87940daae37875e004a4700": {
      "model_module": "@jupyter-widgets/base",
      "model_module_version": "2.0.0",
      "model_name": "LayoutModel",
      "state": {}
     },
     "72101e8d972f49a7b48596d50c630de8": {
      "model_module": "@jupyter-widgets/base",
      "model_module_version": "2.0.0",
      "model_name": "LayoutModel",
      "state": {}
     },
     "7392ed1c6c634928b4910a7abf65e80e": {
      "model_module": "@jupyter-widgets/base",
      "model_module_version": "2.0.0",
      "model_name": "LayoutModel",
      "state": {}
     },
     "746d1db687f942839b63409d73161e65": {
      "model_module": "@jupyter-widgets/base",
      "model_module_version": "2.0.0",
      "model_name": "LayoutModel",
      "state": {}
     },
     "7511409f96474b9e9f7788b72b3520fb": {
      "model_module": "@jupyter-widgets/base",
      "model_module_version": "2.0.0",
      "model_name": "LayoutModel",
      "state": {}
     },
     "752a0482695e42a28ecdbfc817f322f1": {
      "model_module": "@jupyter-widgets/controls",
      "model_module_version": "2.0.0",
      "model_name": "HTMLModel",
      "state": {
       "layout": "IPY_MODEL_5e4c7ea4103840f5ab7e18324a9bb52d",
       "style": "IPY_MODEL_305fed5176314da6ac10b2addad156fb",
       "value": "100%"
      }
     },
     "798ced16468b41c4b7e225fbb64ad1dc": {
      "model_module": "@jupyter-widgets/controls",
      "model_module_version": "2.0.0",
      "model_name": "ProgressStyleModel",
      "state": {
       "description_width": ""
      }
     },
     "79ed045a1e39447c9f283402602f0b0b": {
      "model_module": "@jupyter-widgets/controls",
      "model_module_version": "2.0.0",
      "model_name": "HBoxModel",
      "state": {
       "children": [
        "IPY_MODEL_16f0ad38c7fa4a11a25514b0a04836b3",
        "IPY_MODEL_7e344899fb7a40799c413b787a21ba69",
        "IPY_MODEL_5232e47315f645529b146e5333f89cb3"
       ],
       "layout": "IPY_MODEL_1773d6aeed9b4cf68fbe097a36226d8f"
      }
     },
     "7b7fc822f3194d649a56273d1afe4c47": {
      "model_module": "@jupyter-widgets/controls",
      "model_module_version": "2.0.0",
      "model_name": "HTMLModel",
      "state": {
       "layout": "IPY_MODEL_90789948649042ecab36d7973705c43a",
       "style": "IPY_MODEL_e3371e32b83240da91822c3206f5aef3",
       "value": " 122/122 [00:03&lt;00:00, 35.27it/s]"
      }
     },
     "7c6e97bfb68940feb1ee24161b54b641": {
      "model_module": "@jupyter-widgets/controls",
      "model_module_version": "2.0.0",
      "model_name": "ProgressStyleModel",
      "state": {
       "description_width": ""
      }
     },
     "7caf444f8b8d47b588aa4bb44853fd98": {
      "model_module": "@jupyter-widgets/controls",
      "model_module_version": "2.0.0",
      "model_name": "ProgressStyleModel",
      "state": {
       "description_width": ""
      }
     },
     "7e344899fb7a40799c413b787a21ba69": {
      "model_module": "@jupyter-widgets/controls",
      "model_module_version": "2.0.0",
      "model_name": "FloatProgressModel",
      "state": {
       "bar_style": "success",
       "layout": "IPY_MODEL_d18f6ffb9fbe4bc1bc019fd8cbb7b848",
       "max": 335166,
       "style": "IPY_MODEL_11dbca4c40f243a2838da4f2d7db5253",
       "value": 335166
      }
     },
     "7e39859f89f64b2ea6b4dc10f117c8d7": {
      "model_module": "@jupyter-widgets/base",
      "model_module_version": "2.0.0",
      "model_name": "LayoutModel",
      "state": {}
     },
     "7f99fbb653004262b5c4c31386d95f84": {
      "model_module": "@jupyter-widgets/base",
      "model_module_version": "2.0.0",
      "model_name": "LayoutModel",
      "state": {}
     },
     "80142a2a0b8c40a8980e791bed788244": {
      "model_module": "@jupyter-widgets/controls",
      "model_module_version": "2.0.0",
      "model_name": "FloatProgressModel",
      "state": {
       "bar_style": "success",
       "layout": "IPY_MODEL_6387518175a94d96958dc383ae2f0f28",
       "max": 311356,
       "style": "IPY_MODEL_fa861a239f8b4f5d87d73e45c5d40ad5",
       "value": 311356
      }
     },
     "80d76caa09a14bd9bf237eb7837c0980": {
      "model_module": "@jupyter-widgets/controls",
      "model_module_version": "2.0.0",
      "model_name": "ProgressStyleModel",
      "state": {
       "description_width": ""
      }
     },
     "820b7c53f6c94d0ca400698b9855eee2": {
      "model_module": "@jupyter-widgets/base",
      "model_module_version": "2.0.0",
      "model_name": "LayoutModel",
      "state": {}
     },
     "82657a627bd54e7e8388a1a976f007a2": {
      "model_module": "@jupyter-widgets/controls",
      "model_module_version": "2.0.0",
      "model_name": "HBoxModel",
      "state": {
       "children": [
        "IPY_MODEL_8b16bdf896b741da8a3e999908229b68",
        "IPY_MODEL_d9fa9b1d2d9641dda97961a5ded12543",
        "IPY_MODEL_f74843840a0a44ab802f484a3f0dc589"
       ],
       "layout": "IPY_MODEL_3770072fc3294a1c9772708ad33ec6f7"
      }
     },
     "834a36dd208f40928557ca3648f241a2": {
      "model_module": "@jupyter-widgets/controls",
      "model_module_version": "2.0.0",
      "model_name": "HTMLStyleModel",
      "state": {
       "description_width": "",
       "font_size": null,
       "text_color": null
      }
     },
     "83a4cb46d7eb489da37c4c23bbe6c772": {
      "model_module": "@jupyter-widgets/base",
      "model_module_version": "2.0.0",
      "model_name": "LayoutModel",
      "state": {}
     },
     "83c9193bfda846cfabdcdfab696e2b4b": {
      "model_module": "@jupyter-widgets/base",
      "model_module_version": "2.0.0",
      "model_name": "LayoutModel",
      "state": {}
     },
     "8510a60ef9b4494eaf757023beaec1bb": {
      "model_module": "@jupyter-widgets/controls",
      "model_module_version": "2.0.0",
      "model_name": "HTMLStyleModel",
      "state": {
       "description_width": "",
       "font_size": null,
       "text_color": null
      }
     },
     "8591273d92c046f5bf3fca8e617cf798": {
      "model_module": "@jupyter-widgets/controls",
      "model_module_version": "2.0.0",
      "model_name": "HBoxModel",
      "state": {
       "children": [
        "IPY_MODEL_1136a32407d84e66bdf4f931562e1af2",
        "IPY_MODEL_092fc7bbb62440a89e38b6250d96e20a",
        "IPY_MODEL_57fcb1e2db2d449199ee22403c386264"
       ],
       "layout": "IPY_MODEL_3cd6cc9397044aae876cbd9bd2e6a179"
      }
     },
     "88dd29f0ea454a4681ac4972aba6c6c5": {
      "model_module": "@jupyter-widgets/base",
      "model_module_version": "2.0.0",
      "model_name": "LayoutModel",
      "state": {}
     },
     "896a0abe888b460d8f7492e8d21039d3": {
      "model_module": "@jupyter-widgets/base",
      "model_module_version": "2.0.0",
      "model_name": "LayoutModel",
      "state": {}
     },
     "8b16bdf896b741da8a3e999908229b68": {
      "model_module": "@jupyter-widgets/controls",
      "model_module_version": "2.0.0",
      "model_name": "HTMLModel",
      "state": {
       "layout": "IPY_MODEL_b2fc740bdc83435a980ff30e62ca44e4",
       "style": "IPY_MODEL_328ee742f7ed4e34ae86cbd44dcdc601",
       "value": "100%"
      }
     },
     "8d0be64bcfd846059270e4283c7b5734": {
      "model_module": "@jupyter-widgets/controls",
      "model_module_version": "2.0.0",
      "model_name": "FloatProgressModel",
      "state": {
       "bar_style": "success",
       "layout": "IPY_MODEL_dfbb89dfeaa447258320d1e8637e6482",
       "max": 73962,
       "style": "IPY_MODEL_a446a93acc8a4fb88d2bb937ed1d3bc5",
       "value": 73962
      }
     },
     "8d36e16ab44047859b66f76481d28921": {
      "model_module": "@jupyter-widgets/controls",
      "model_module_version": "2.0.0",
      "model_name": "HTMLStyleModel",
      "state": {
       "description_width": "",
       "font_size": null,
       "text_color": null
      }
     },
     "8dbbd2f2246f40d29dd55a9f3e198879": {
      "model_module": "@jupyter-widgets/base",
      "model_module_version": "2.0.0",
      "model_name": "LayoutModel",
      "state": {}
     },
     "8e64d09c3e004f8abeac4c8c9ec9a90f": {
      "model_module": "@jupyter-widgets/base",
      "model_module_version": "2.0.0",
      "model_name": "LayoutModel",
      "state": {}
     },
     "90243a7b04ba4a17899f941bca4c09ab": {
      "model_module": "@jupyter-widgets/base",
      "model_module_version": "2.0.0",
      "model_name": "LayoutModel",
      "state": {}
     },
     "90789948649042ecab36d7973705c43a": {
      "model_module": "@jupyter-widgets/base",
      "model_module_version": "2.0.0",
      "model_name": "LayoutModel",
      "state": {}
     },
     "90cb9032c3b941479f00e5f23b635367": {
      "model_module": "@jupyter-widgets/base",
      "model_module_version": "2.0.0",
      "model_name": "LayoutModel",
      "state": {}
     },
     "9168b15bf0c149ffb319fcc2044390b0": {
      "model_module": "@jupyter-widgets/controls",
      "model_module_version": "2.0.0",
      "model_name": "HTMLStyleModel",
      "state": {
       "description_width": "",
       "font_size": null,
       "text_color": null
      }
     },
     "91b66ab0d89648ca81e6ac60fe51053b": {
      "model_module": "jupyter-matplotlib",
      "model_module_version": "^0.11",
      "model_name": "ToolbarModel",
      "state": {
       "_current_action": "zoom",
       "_model_module_version": "^0.11",
       "_view_module_version": "^0.11",
       "collapsed": true,
       "layout": "IPY_MODEL_83c9193bfda846cfabdcdfab696e2b4b",
       "orientation": "vertical",
       "toolitems": [
        [
         "Home",
         "Reset original view",
         "home",
         "home"
        ],
        [
         "Back",
         "Back to previous view",
         "arrow-left",
         "back"
        ],
        [
         "Forward",
         "Forward to next view",
         "arrow-right",
         "forward"
        ],
        [
         "Pan",
         "Left button pans, Right button zooms\nx/y fixes axis, CTRL fixes aspect",
         "arrows",
         "pan"
        ],
        [
         "Zoom",
         "Zoom to rectangle\nx/y fixes axis",
         "square-o",
         "zoom"
        ],
        [
         "Download",
         "Download plot",
         "floppy-o",
         "save_figure"
        ]
       ]
      }
     },
     "92dda36fbda349e5883443d4191ee266": {
      "model_module": "@jupyter-widgets/controls",
      "model_module_version": "2.0.0",
      "model_name": "HTMLStyleModel",
      "state": {
       "description_width": "",
       "font_size": null,
       "text_color": null
      }
     },
     "93045d18e9c24529bc16390db0182a3a": {
      "model_module": "@jupyter-widgets/base",
      "model_module_version": "2.0.0",
      "model_name": "LayoutModel",
      "state": {}
     },
     "93aecb93110a4317930a80090ab1863a": {
      "model_module": "@jupyter-widgets/base",
      "model_module_version": "2.0.0",
      "model_name": "LayoutModel",
      "state": {}
     },
     "946e55a1de024520a316ff866ebbd176": {
      "model_module": "@jupyter-widgets/controls",
      "model_module_version": "2.0.0",
      "model_name": "FloatProgressModel",
      "state": {
       "bar_style": "success",
       "layout": "IPY_MODEL_5168e746129e4f3fbbfb6ad49b61a990",
       "max": 122,
       "style": "IPY_MODEL_3b7b21e2ef6743378f0fa967635d8973",
       "value": 122
      }
     },
     "9694efd4d723442893a1ba2539b0c6a7": {
      "model_module": "@jupyter-widgets/controls",
      "model_module_version": "2.0.0",
      "model_name": "HBoxModel",
      "state": {
       "children": [
        "IPY_MODEL_9f15264d88e24457aa3048de6be48c55",
        "IPY_MODEL_9fb0c6ba8dae4f76b4f212a15fa46c66",
        "IPY_MODEL_ccee29e3a61f4689a9c1d196d9a96a4a"
       ],
       "layout": "IPY_MODEL_25f02112bc8d45a9b36d186e5544fdfa"
      }
     },
     "98ddf9362081462380bab5412d3fbbc5": {
      "model_module": "@jupyter-widgets/controls",
      "model_module_version": "2.0.0",
      "model_name": "HTMLStyleModel",
      "state": {
       "description_width": "",
       "font_size": null,
       "text_color": null
      }
     },
     "9948fda01c0a41d3b80e08b7537fc989": {
      "model_module": "@jupyter-widgets/base",
      "model_module_version": "2.0.0",
      "model_name": "LayoutModel",
      "state": {}
     },
     "994cf5b9cd6b428bbb03a3ec3a5789dd": {
      "model_module": "@jupyter-widgets/controls",
      "model_module_version": "2.0.0",
      "model_name": "HTMLModel",
      "state": {
       "layout": "IPY_MODEL_363760df002143c8ada031f90423082b",
       "style": "IPY_MODEL_653af23415db4dd08ccfcef56e21fcb3",
       "value": "100%"
      }
     },
     "9a6aae39e40244c8affa799197ef62b5": {
      "model_module": "@jupyter-widgets/base",
      "model_module_version": "2.0.0",
      "model_name": "LayoutModel",
      "state": {}
     },
     "9cc21ced1ada41d89c5426c3f0336b25": {
      "model_module": "@jupyter-widgets/controls",
      "model_module_version": "2.0.0",
      "model_name": "HTMLStyleModel",
      "state": {
       "description_width": "",
       "font_size": null,
       "text_color": null
      }
     },
     "9d6b20c1078140da87c4364d3aff9029": {
      "model_module": "@jupyter-widgets/controls",
      "model_module_version": "2.0.0",
      "model_name": "HTMLModel",
      "state": {
       "layout": "IPY_MODEL_7f99fbb653004262b5c4c31386d95f84",
       "style": "IPY_MODEL_e5bdd6d682de4f2eb61ffd5ab95104d4",
       "value": " 335882/335882 [00:01&lt;00:00, 307293.34it/s]"
      }
     },
     "9f15264d88e24457aa3048de6be48c55": {
      "model_module": "@jupyter-widgets/controls",
      "model_module_version": "2.0.0",
      "model_name": "HTMLModel",
      "state": {
       "layout": "IPY_MODEL_0e091fecf41d451cb4b848172c064cf8",
       "style": "IPY_MODEL_4842b01eb4a64d75ba8187e75da91815",
       "value": "100%"
      }
     },
     "9fb0c6ba8dae4f76b4f212a15fa46c66": {
      "model_module": "@jupyter-widgets/controls",
      "model_module_version": "2.0.0",
      "model_name": "FloatProgressModel",
      "state": {
       "bar_style": "success",
       "layout": "IPY_MODEL_30c3a97adadf440580b12cea4b4058e3",
       "max": 335882,
       "style": "IPY_MODEL_357abf78f7c54986ab47fc3e9c61dd13",
       "value": 335882
      }
     },
     "9fb4b983de2043d6ae4cdb50aa318723": {
      "model_module": "@jupyter-widgets/base",
      "model_module_version": "2.0.0",
      "model_name": "LayoutModel",
      "state": {}
     },
     "a01f8cf9b71c4a03bef9471864722885": {
      "model_module": "@jupyter-widgets/controls",
      "model_module_version": "2.0.0",
      "model_name": "ProgressStyleModel",
      "state": {
       "description_width": ""
      }
     },
     "a13080aac38941a5bf39a2e050b7fc15": {
      "model_module": "@jupyter-widgets/controls",
      "model_module_version": "2.0.0",
      "model_name": "HTMLStyleModel",
      "state": {
       "description_width": "",
       "font_size": null,
       "text_color": null
      }
     },
     "a144550795174f98946b5eecc7280ab1": {
      "model_module": "@jupyter-widgets/base",
      "model_module_version": "2.0.0",
      "model_name": "LayoutModel",
      "state": {}
     },
     "a1b4f3409dc34f04a063a6671e842363": {
      "model_module": "@jupyter-widgets/controls",
      "model_module_version": "2.0.0",
      "model_name": "HTMLStyleModel",
      "state": {
       "description_width": "",
       "font_size": null,
       "text_color": null
      }
     },
     "a1ffdcad806b47c1a4ce496b240f22f9": {
      "model_module": "@jupyter-widgets/controls",
      "model_module_version": "2.0.0",
      "model_name": "HTMLStyleModel",
      "state": {
       "description_width": "",
       "font_size": null,
       "text_color": null
      }
     },
     "a303924b234447fdaa98e033323dba85": {
      "model_module": "@jupyter-widgets/controls",
      "model_module_version": "2.0.0",
      "model_name": "HTMLModel",
      "state": {
       "layout": "IPY_MODEL_7392ed1c6c634928b4910a7abf65e80e",
       "style": "IPY_MODEL_14861aacd25a4530898e2a1634b2687c",
       "value": "Ping statistics: 100%"
      }
     },
     "a30bec6cef9144299d9532eb3f6e8719": {
      "model_module": "@jupyter-widgets/controls",
      "model_module_version": "2.0.0",
      "model_name": "HTMLModel",
      "state": {
       "layout": "IPY_MODEL_de3f054209654e2d8c32faf1a06a9f9e",
       "style": "IPY_MODEL_8510a60ef9b4494eaf757023beaec1bb",
       "value": " 54050/54050 [00:00&lt;00:00, 172561.35it/s]"
      }
     },
     "a32a36ce2ccd4dd3a391056c6d8d5d8d": {
      "model_module": "@jupyter-widgets/controls",
      "model_module_version": "2.0.0",
      "model_name": "ProgressStyleModel",
      "state": {
       "description_width": ""
      }
     },
     "a42474918e39406396a330b41f5fff31": {
      "model_module": "@jupyter-widgets/base",
      "model_module_version": "2.0.0",
      "model_name": "LayoutModel",
      "state": {}
     },
     "a446a93acc8a4fb88d2bb937ed1d3bc5": {
      "model_module": "@jupyter-widgets/controls",
      "model_module_version": "2.0.0",
      "model_name": "ProgressStyleModel",
      "state": {
       "description_width": ""
      }
     },
     "a5cc411173ef436895ded83181ff7169": {
      "model_module": "@jupyter-widgets/controls",
      "model_module_version": "2.0.0",
      "model_name": "HTMLStyleModel",
      "state": {
       "description_width": "",
       "font_size": null,
       "text_color": null
      }
     },
     "a7272f32a3944fe98be019471c4594b2": {
      "model_module": "@jupyter-widgets/base",
      "model_module_version": "2.0.0",
      "model_name": "LayoutModel",
      "state": {}
     },
     "a7ba142d4145412d898ac07ed8d5e60e": {
      "model_module": "@jupyter-widgets/controls",
      "model_module_version": "2.0.0",
      "model_name": "HTMLStyleModel",
      "state": {
       "description_width": "",
       "font_size": null,
       "text_color": null
      }
     },
     "a871ff1f5c59444f96c14b8efab7e61c": {
      "model_module": "@jupyter-widgets/controls",
      "model_module_version": "2.0.0",
      "model_name": "HBoxModel",
      "state": {
       "children": [
        "IPY_MODEL_994cf5b9cd6b428bbb03a3ec3a5789dd",
        "IPY_MODEL_80142a2a0b8c40a8980e791bed788244",
        "IPY_MODEL_125f9220d6ac45f09b369c30a7efb529"
       ],
       "layout": "IPY_MODEL_93045d18e9c24529bc16390db0182a3a"
      }
     },
     "a94ddbbe2be3424b96950b5eebe68066": {
      "model_module": "@jupyter-widgets/controls",
      "model_module_version": "2.0.0",
      "model_name": "HTMLStyleModel",
      "state": {
       "description_width": "",
       "font_size": null,
       "text_color": null
      }
     },
     "a972b3e7186547aeacf554cf73ae5612": {
      "model_module": "@jupyter-widgets/base",
      "model_module_version": "2.0.0",
      "model_name": "LayoutModel",
      "state": {}
     },
     "aa2df27d903143198f1ff5b2466c64d7": {
      "model_module": "@jupyter-widgets/base",
      "model_module_version": "2.0.0",
      "model_name": "LayoutModel",
      "state": {}
     },
     "aaae84d2887b4b8f97698e27ff79ebce": {
      "model_module": "@jupyter-widgets/base",
      "model_module_version": "2.0.0",
      "model_name": "LayoutModel",
      "state": {}
     },
     "ad24372b21dd4f38b46eca9af83ed0c5": {
      "model_module": "@jupyter-widgets/controls",
      "model_module_version": "2.0.0",
      "model_name": "HBoxModel",
      "state": {
       "children": [
        "IPY_MODEL_6ce4cea905004c1d89cbd883e48b4cf5",
        "IPY_MODEL_5827af6b4f0440499593b7fa29051b0e",
        "IPY_MODEL_142baa0f1b684f7cad43ec5394be0bc4"
       ],
       "layout": "IPY_MODEL_ea1d7f9efc8b44dfbc66afaf287e9da1"
      }
     },
     "ad9c12a5097d4b2d859cf4367b8e3dc6": {
      "model_module": "@jupyter-widgets/base",
      "model_module_version": "2.0.0",
      "model_name": "LayoutModel",
      "state": {}
     },
     "b03bcc0681274a5cb2ff45842bd59cc0": {
      "model_module": "@jupyter-widgets/base",
      "model_module_version": "2.0.0",
      "model_name": "LayoutModel",
      "state": {}
     },
     "b04c45cf16ce4e2a91bad1bd7a29c4fb": {
      "model_module": "@jupyter-widgets/controls",
      "model_module_version": "2.0.0",
      "model_name": "HTMLStyleModel",
      "state": {
       "description_width": "",
       "font_size": null,
       "text_color": null
      }
     },
     "b12f4b51f77a418487b2be57f2cadf1b": {
      "model_module": "@jupyter-widgets/controls",
      "model_module_version": "2.0.0",
      "model_name": "HBoxModel",
      "state": {
       "children": [
        "IPY_MODEL_18b1281adf4a463e88fa7c4d423492c6",
        "IPY_MODEL_4fc09d0a49c24b7f8a6e6294a5ab892f",
        "IPY_MODEL_4ca1a7da037c4a409774d7bed2d6f55c"
       ],
       "layout": "IPY_MODEL_a144550795174f98946b5eecc7280ab1"
      }
     },
     "b1cd661b39a74f1ab252676c2df8f1b1": {
      "model_module": "@jupyter-widgets/base",
      "model_module_version": "2.0.0",
      "model_name": "LayoutModel",
      "state": {}
     },
     "b1ef09bbcd66493c94ead794bdc733e6": {
      "model_module": "@jupyter-widgets/controls",
      "model_module_version": "2.0.0",
      "model_name": "ProgressStyleModel",
      "state": {
       "description_width": ""
      }
     },
     "b2fc740bdc83435a980ff30e62ca44e4": {
      "model_module": "@jupyter-widgets/base",
      "model_module_version": "2.0.0",
      "model_name": "LayoutModel",
      "state": {}
     },
     "b3d48afae51b4de287041a14824a3e5f": {
      "model_module": "@jupyter-widgets/base",
      "model_module_version": "2.0.0",
      "model_name": "LayoutModel",
      "state": {}
     },
     "b4225b2c2313482da0d35930e8a87784": {
      "model_module": "@jupyter-widgets/controls",
      "model_module_version": "2.0.0",
      "model_name": "HTMLStyleModel",
      "state": {
       "description_width": "",
       "font_size": null,
       "text_color": null
      }
     },
     "b523256e49164192828afb43daf84c45": {
      "model_module": "@jupyter-widgets/base",
      "model_module_version": "2.0.0",
      "model_name": "LayoutModel",
      "state": {}
     },
     "b9dde5b5d0fb4e7dbb7f064960a8473a": {
      "model_module": "@jupyter-widgets/controls",
      "model_module_version": "2.0.0",
      "model_name": "HTMLModel",
      "state": {
       "layout": "IPY_MODEL_b03bcc0681274a5cb2ff45842bd59cc0",
       "style": "IPY_MODEL_e5413d92d9f3498295e83bcb0d75282a",
       "value": " 335882/335882 [00:01&lt;00:00, 278800.58it/s]"
      }
     },
     "b9ef70bf1ced4d4a92af7371e1fd280d": {
      "model_module": "@jupyter-widgets/base",
      "model_module_version": "2.0.0",
      "model_name": "LayoutModel",
      "state": {}
     },
     "ba0f319369a04f9fbabd6e44414b8212": {
      "model_module": "@jupyter-widgets/base",
      "model_module_version": "2.0.0",
      "model_name": "LayoutModel",
      "state": {}
     },
     "ba7dcd03378c470ebb396df35a44d795": {
      "model_module": "@jupyter-widgets/controls",
      "model_module_version": "2.0.0",
      "model_name": "HTMLModel",
      "state": {
       "layout": "IPY_MODEL_04b8d5ca701544b0b072083b4ffdfe08",
       "style": "IPY_MODEL_34d53345871b411bb2e14e904b2ab5f0",
       "value": "removing duplicates: 100%"
      }
     },
     "bb195d4d10444d6496f0741fe3bc6f68": {
      "model_module": "@jupyter-widgets/controls",
      "model_module_version": "2.0.0",
      "model_name": "HBoxModel",
      "state": {
       "children": [
        "IPY_MODEL_c7568e7ad501417781eb85ce163988b8",
        "IPY_MODEL_dd5bd9e7b782406dbecff2f5c945c67e",
        "IPY_MODEL_3fb5ad4eb1ec4bb1b23a5e27b5936358"
       ],
       "layout": "IPY_MODEL_ba0f319369a04f9fbabd6e44414b8212"
      }
     },
     "bc0e1d98d7034f72a5d8e8764514a670": {
      "model_module": "@jupyter-widgets/controls",
      "model_module_version": "2.0.0",
      "model_name": "HTMLModel",
      "state": {
       "layout": "IPY_MODEL_bdc6a64fef1f4c22b9ce06ceff523f0c",
       "style": "IPY_MODEL_10ffc08d95c94d0fb4b8a519f698b53c",
       "value": " 335882/335882 [00:01&lt;00:00, 285576.95it/s]"
      }
     },
     "bcbaf2e0fa5e40739a9a139e8eb39ba6": {
      "model_module": "@jupyter-widgets/controls",
      "model_module_version": "2.0.0",
      "model_name": "HTMLModel",
      "state": {
       "layout": "IPY_MODEL_8dbbd2f2246f40d29dd55a9f3e198879",
       "style": "IPY_MODEL_714227eddcdc49ebac4a26d43d4ff8fb",
       "value": " 40981/40981 [00:00&lt;00:00, 171249.72it/s]"
      }
     },
     "bce68365bdb5488091dfbb8f26935001": {
      "model_module": "@jupyter-widgets/base",
      "model_module_version": "2.0.0",
      "model_name": "LayoutModel",
      "state": {}
     },
     "bda470c2cf6b4430b8f5aef89d3b09fe": {
      "model_module": "@jupyter-widgets/controls",
      "model_module_version": "2.0.0",
      "model_name": "HBoxModel",
      "state": {
       "children": [
        "IPY_MODEL_d43af4f5778f40adb81638804596a9ab",
        "IPY_MODEL_8d0be64bcfd846059270e4283c7b5734",
        "IPY_MODEL_30940e54227846849c3cb1230556fe5e"
       ],
       "layout": "IPY_MODEL_5557bbeff56147e3a04f612c5b8ad262"
      }
     },
     "bdc073bdb186454d9ed194568443e107": {
      "model_module": "@jupyter-widgets/base",
      "model_module_version": "2.0.0",
      "model_name": "LayoutModel",
      "state": {}
     },
     "bdc6a64fef1f4c22b9ce06ceff523f0c": {
      "model_module": "@jupyter-widgets/base",
      "model_module_version": "2.0.0",
      "model_name": "LayoutModel",
      "state": {}
     },
     "bea292d34d6243a290be029c63355171": {
      "model_module": "@jupyter-widgets/base",
      "model_module_version": "2.0.0",
      "model_name": "LayoutModel",
      "state": {}
     },
     "bfda7488cc0148d081c31606ca793d76": {
      "model_module": "@jupyter-widgets/base",
      "model_module_version": "2.0.0",
      "model_name": "LayoutModel",
      "state": {}
     },
     "c0db2cb59a1a493d9730acbcd5ee6fb2": {
      "model_module": "@jupyter-widgets/base",
      "model_module_version": "2.0.0",
      "model_name": "LayoutModel",
      "state": {}
     },
     "c25db74cdd774ffc86cca8bee79bdbbc": {
      "model_module": "@jupyter-widgets/controls",
      "model_module_version": "2.0.0",
      "model_name": "ProgressStyleModel",
      "state": {
       "description_width": ""
      }
     },
     "c321e102baf1420c92b033f0e0bf693d": {
      "model_module": "@jupyter-widgets/controls",
      "model_module_version": "2.0.0",
      "model_name": "HBoxModel",
      "state": {
       "children": [
        "IPY_MODEL_1ded39b874fc4b94a86036c516304eb6",
        "IPY_MODEL_d42617c9bd37415c8967bcfaffd045a9",
        "IPY_MODEL_62c9d6348f8a4b758e169bb589c9b3a1"
       ],
       "layout": "IPY_MODEL_820b7c53f6c94d0ca400698b9855eee2"
      }
     },
     "c340f3bcf46d4807bcec2365202ee8a2": {
      "model_module": "@jupyter-widgets/controls",
      "model_module_version": "2.0.0",
      "model_name": "HTMLModel",
      "state": {
       "layout": "IPY_MODEL_aa2df27d903143198f1ff5b2466c64d7",
       "style": "IPY_MODEL_98ddf9362081462380bab5412d3fbbc5",
       "value": "removing duplicates: 100%"
      }
     },
     "c3f3aad38209411488b9bd0dff3b5c18": {
      "model_module": "@jupyter-widgets/base",
      "model_module_version": "2.0.0",
      "model_name": "LayoutModel",
      "state": {}
     },
     "c526a2cc964144b5895fdb4350336c67": {
      "model_module": "@jupyter-widgets/controls",
      "model_module_version": "2.0.0",
      "model_name": "HBoxModel",
      "state": {
       "children": [
        "IPY_MODEL_ec46859b89a14e878e02f9085f9b7722",
        "IPY_MODEL_3ee36e8aa66b4c59a0969ef207b803fd",
        "IPY_MODEL_29b459bae5cc4f22994bb91118091d39"
       ],
       "layout": "IPY_MODEL_bea292d34d6243a290be029c63355171"
      }
     },
     "c5b8c78081924ffeb5f8e2eb8d142cea": {
      "model_module": "@jupyter-widgets/controls",
      "model_module_version": "2.0.0",
      "model_name": "HTMLStyleModel",
      "state": {
       "description_width": "",
       "font_size": null,
       "text_color": null
      }
     },
     "c64fcad20cad482ba1a785a402d66ad5": {
      "model_module": "@jupyter-widgets/base",
      "model_module_version": "2.0.0",
      "model_name": "LayoutModel",
      "state": {}
     },
     "c7568e7ad501417781eb85ce163988b8": {
      "model_module": "@jupyter-widgets/controls",
      "model_module_version": "2.0.0",
      "model_name": "HTMLModel",
      "state": {
       "layout": "IPY_MODEL_0b11a99ed18d4fe6a5227a3b5d4179f2",
       "style": "IPY_MODEL_d16058f80b0d46e7ad21d16af6f3d9f3",
       "value": "Ping statistics: 100%"
      }
     },
     "c75e8414f2b54704aae2231c82b0b3ae": {
      "model_module": "@jupyter-widgets/base",
      "model_module_version": "2.0.0",
      "model_name": "LayoutModel",
      "state": {}
     },
     "c992343a948c49009857662f64503043": {
      "model_module": "@jupyter-widgets/base",
      "model_module_version": "2.0.0",
      "model_name": "LayoutModel",
      "state": {}
     },
     "c9d467c088aa42eeb01ceec2c31de8cd": {
      "model_module": "@jupyter-widgets/controls",
      "model_module_version": "2.0.0",
      "model_name": "ProgressStyleModel",
      "state": {
       "description_width": ""
      }
     },
     "ca2b19527d934751bc1957adda573c5f": {
      "model_module": "@jupyter-widgets/controls",
      "model_module_version": "2.0.0",
      "model_name": "HTMLModel",
      "state": {
       "layout": "IPY_MODEL_05392bd489dc40a9813a43eea46421f8",
       "style": "IPY_MODEL_a94ddbbe2be3424b96950b5eebe68066",
       "value": " 47483/47483 [00:00&lt;00:00, 172254.41it/s]"
      }
     },
     "cc998c3a71684f9c85bdb9d91a299fef": {
      "model_module": "@jupyter-widgets/base",
      "model_module_version": "2.0.0",
      "model_name": "LayoutModel",
      "state": {}
     },
     "ccd08e20ebbe4bb095196e1318007eee": {
      "model_module": "@jupyter-widgets/base",
      "model_module_version": "2.0.0",
      "model_name": "LayoutModel",
      "state": {}
     },
     "ccee29e3a61f4689a9c1d196d9a96a4a": {
      "model_module": "@jupyter-widgets/controls",
      "model_module_version": "2.0.0",
      "model_name": "HTMLModel",
      "state": {
       "layout": "IPY_MODEL_6c7c13ee3aa94f5eb1e71ad2a708686d",
       "style": "IPY_MODEL_59c468a892b0468fb976298294a13228",
       "value": " 335882/335882 [00:01&lt;00:00, 280201.12it/s]"
      }
     },
     "ce34ad14d2744ed2aacc224ee1c4e2ff": {
      "model_module": "@jupyter-widgets/base",
      "model_module_version": "2.0.0",
      "model_name": "LayoutModel",
      "state": {}
     },
     "ce5a7c95f3b0434e8d86f60cbdf233a0": {
      "model_module": "@jupyter-widgets/controls",
      "model_module_version": "2.0.0",
      "model_name": "HBoxModel",
      "state": {
       "children": [
        "IPY_MODEL_19a2916ffe284dfab47ae5622432e7eb",
        "IPY_MODEL_ec7f39dfcc6b49a0856730eaae050e99",
        "IPY_MODEL_21b7014a80a845729e2d1358befd5164"
       ],
       "layout": "IPY_MODEL_3cc0be8d4b0a49a3b81a22a5dedae450"
      }
     },
     "ce5ed41f480a40fda4f852ff98034f7e": {
      "model_module": "@jupyter-widgets/controls",
      "model_module_version": "2.0.0",
      "model_name": "HTMLStyleModel",
      "state": {
       "description_width": "",
       "font_size": null,
       "text_color": null
      }
     },
     "cf26b734d09b4504b7970314abb9ab53": {
      "model_module": "@jupyter-widgets/controls",
      "model_module_version": "2.0.0",
      "model_name": "HBoxModel",
      "state": {
       "children": [
        "IPY_MODEL_2045e2511bd94d82832c14024aec7b3a",
        "IPY_MODEL_2e0ce59057ca49f48612eadad958fa2c",
        "IPY_MODEL_bc0e1d98d7034f72a5d8e8764514a670"
       ],
       "layout": "IPY_MODEL_545a08d9d2ca4a989db495a70a1af60e"
      }
     },
     "cf28ad8ef1824dc0b3d864ff303a0e85": {
      "model_module": "@jupyter-widgets/controls",
      "model_module_version": "2.0.0",
      "model_name": "HBoxModel",
      "state": {
       "children": [
        "IPY_MODEL_481ee50f242b400cb2e89b4377c3b593",
        "IPY_MODEL_1cb09b799d2e4805a99019183a68210e",
        "IPY_MODEL_6e74b267532e4e46a9a06a4da52ed695"
       ],
       "layout": "IPY_MODEL_5d6f08ecee5d408e9ecd3aa9e1a54423"
      }
     },
     "d08a68e99369420b970e7a444c12a329": {
      "model_module": "@jupyter-widgets/controls",
      "model_module_version": "2.0.0",
      "model_name": "HTMLStyleModel",
      "state": {
       "description_width": "",
       "font_size": null,
       "text_color": null
      }
     },
     "d16058f80b0d46e7ad21d16af6f3d9f3": {
      "model_module": "@jupyter-widgets/controls",
      "model_module_version": "2.0.0",
      "model_name": "HTMLStyleModel",
      "state": {
       "description_width": "",
       "font_size": null,
       "text_color": null
      }
     },
     "d18f6ffb9fbe4bc1bc019fd8cbb7b848": {
      "model_module": "@jupyter-widgets/base",
      "model_module_version": "2.0.0",
      "model_name": "LayoutModel",
      "state": {}
     },
     "d1eebce0b74a487aad1ab6073fb59ec8": {
      "model_module": "@jupyter-widgets/controls",
      "model_module_version": "2.0.0",
      "model_name": "FloatProgressModel",
      "state": {
       "bar_style": "success",
       "layout": "IPY_MODEL_c992343a948c49009857662f64503043",
       "max": 40981,
       "style": "IPY_MODEL_41cb13a9baa4479ebf371d7762be1641",
       "value": 40981
      }
     },
     "d3e27ddccd5d400ca4fa08119b662053": {
      "model_module": "@jupyter-widgets/controls",
      "model_module_version": "2.0.0",
      "model_name": "HTMLModel",
      "state": {
       "layout": "IPY_MODEL_421e975901244a3aabc01b3813823bc5",
       "style": "IPY_MODEL_ef4862328b434d4ea0764c3d2c17440c",
       "value": " 75/75 [00:00&lt;00:00, 10006.13it/s]"
      }
     },
     "d42617c9bd37415c8967bcfaffd045a9": {
      "model_module": "@jupyter-widgets/controls",
      "model_module_version": "2.0.0",
      "model_name": "FloatProgressModel",
      "state": {
       "bar_style": "success",
       "layout": "IPY_MODEL_5ec0cdbb5a9f42e6aab0e6669a0c8de6",
       "max": 300,
       "style": "IPY_MODEL_a01f8cf9b71c4a03bef9471864722885",
       "value": 300
      }
     },
     "d43af4f5778f40adb81638804596a9ab": {
      "model_module": "@jupyter-widgets/controls",
      "model_module_version": "2.0.0",
      "model_name": "HTMLModel",
      "state": {
       "layout": "IPY_MODEL_4deaefb7273d4dbcaa8e2e4e43b2f1f1",
       "style": "IPY_MODEL_c5b8c78081924ffeb5f8e2eb8d142cea",
       "value": "Ping statistics: 100%"
      }
     },
     "d47c4bffbbfc47b5ab10540beba91842": {
      "model_module": "@jupyter-widgets/base",
      "model_module_version": "2.0.0",
      "model_name": "LayoutModel",
      "state": {}
     },
     "d48b86d0a36942f18b789b303c357e79": {
      "model_module": "@jupyter-widgets/base",
      "model_module_version": "2.0.0",
      "model_name": "LayoutModel",
      "state": {}
     },
     "d67cb38cc23748f69e981c6a64ecbefe": {
      "model_module": "@jupyter-widgets/controls",
      "model_module_version": "2.0.0",
      "model_name": "HTMLStyleModel",
      "state": {
       "description_width": "",
       "font_size": null,
       "text_color": null
      }
     },
     "d7be4a12556f425c9696eb8da069e649": {
      "model_module": "@jupyter-widgets/controls",
      "model_module_version": "2.0.0",
      "model_name": "HTMLStyleModel",
      "state": {
       "description_width": "",
       "font_size": null,
       "text_color": null
      }
     },
     "d800cd82c2c14570b59331bde6ff69ef": {
      "model_module": "@jupyter-widgets/base",
      "model_module_version": "2.0.0",
      "model_name": "LayoutModel",
      "state": {}
     },
     "d9fa9b1d2d9641dda97961a5ded12543": {
      "model_module": "@jupyter-widgets/controls",
      "model_module_version": "2.0.0",
      "model_name": "FloatProgressModel",
      "state": {
       "bar_style": "success",
       "layout": "IPY_MODEL_28375f1f400b4b40b0abc6f8ebf8a204",
       "max": 80,
       "style": "IPY_MODEL_7c6e97bfb68940feb1ee24161b54b641",
       "value": 80
      }
     },
     "dc4a22f555964b4195d009ccb8e97a56": {
      "model_module": "@jupyter-widgets/base",
      "model_module_version": "2.0.0",
      "model_name": "LayoutModel",
      "state": {}
     },
     "dc76629b6add470685e997fb459196c2": {
      "model_module": "@jupyter-widgets/controls",
      "model_module_version": "2.0.0",
      "model_name": "FloatProgressModel",
      "state": {
       "bar_style": "success",
       "layout": "IPY_MODEL_2e2be585e530434185f8bcfee6c81df2",
       "max": 122,
       "style": "IPY_MODEL_5f9a7f8840374f8d881d9a8ad4589f8a",
       "value": 122
      }
     },
     "dccf8886d4894b6f91243ff0cd3aee03": {
      "model_module": "@jupyter-widgets/controls",
      "model_module_version": "2.0.0",
      "model_name": "HTMLStyleModel",
      "state": {
       "description_width": "",
       "font_size": null,
       "text_color": null
      }
     },
     "dd5bd9e7b782406dbecff2f5c945c67e": {
      "model_module": "@jupyter-widgets/controls",
      "model_module_version": "2.0.0",
      "model_name": "FloatProgressModel",
      "state": {
       "bar_style": "success",
       "layout": "IPY_MODEL_7e39859f89f64b2ea6b4dc10f117c8d7",
       "max": 29818,
       "style": "IPY_MODEL_11545cbf1a6044d78d69b3c551fb0f1a",
       "value": 29818
      }
     },
     "de3f054209654e2d8c32faf1a06a9f9e": {
      "model_module": "@jupyter-widgets/base",
      "model_module_version": "2.0.0",
      "model_name": "LayoutModel",
      "state": {}
     },
     "de59ebaec4c3427c8cf3854531352f85": {
      "model_module": "@jupyter-widgets/controls",
      "model_module_version": "2.0.0",
      "model_name": "ProgressStyleModel",
      "state": {
       "description_width": ""
      }
     },
     "de98dc69e7aa4493aaf18987272e611c": {
      "model_module": "@jupyter-widgets/base",
      "model_module_version": "2.0.0",
      "model_name": "LayoutModel",
      "state": {}
     },
     "dfbb89dfeaa447258320d1e8637e6482": {
      "model_module": "@jupyter-widgets/base",
      "model_module_version": "2.0.0",
      "model_name": "LayoutModel",
      "state": {}
     },
     "e07e8f273fac4cf9aa7c09a0db0d2647": {
      "model_module": "@jupyter-widgets/controls",
      "model_module_version": "2.0.0",
      "model_name": "HTMLStyleModel",
      "state": {
       "description_width": "",
       "font_size": null,
       "text_color": null
      }
     },
     "e0aaf606d2c74a2392ee8199b35feb42": {
      "model_module": "@jupyter-widgets/base",
      "model_module_version": "2.0.0",
      "model_name": "LayoutModel",
      "state": {}
     },
     "e2c1813834904e1197b9b762f8e7ee19": {
      "model_module": "@jupyter-widgets/controls",
      "model_module_version": "2.0.0",
      "model_name": "HTMLModel",
      "state": {
       "layout": "IPY_MODEL_586bacad3d65441188a6bb8b54e5f590",
       "style": "IPY_MODEL_2e659989b6974d909c4637166c7484d6",
       "value": "Ping statistics: 100%"
      }
     },
     "e3371e32b83240da91822c3206f5aef3": {
      "model_module": "@jupyter-widgets/controls",
      "model_module_version": "2.0.0",
      "model_name": "HTMLStyleModel",
      "state": {
       "description_width": "",
       "font_size": null,
       "text_color": null
      }
     },
     "e362954916654a33a3b2b15949c9954c": {
      "model_module": "@jupyter-widgets/base",
      "model_module_version": "2.0.0",
      "model_name": "LayoutModel",
      "state": {}
     },
     "e38f3dca38694e75ab6e9c8d93784578": {
      "model_module": "@jupyter-widgets/controls",
      "model_module_version": "2.0.0",
      "model_name": "HTMLStyleModel",
      "state": {
       "description_width": "",
       "font_size": null,
       "text_color": null
      }
     },
     "e4638b3853a94542a0a842284a3bdbf5": {
      "model_module": "@jupyter-widgets/controls",
      "model_module_version": "2.0.0",
      "model_name": "HTMLStyleModel",
      "state": {
       "description_width": "",
       "font_size": null,
       "text_color": null
      }
     },
     "e4bb319562ce4955ba9362ec5ffc68ef": {
      "model_module": "@jupyter-widgets/controls",
      "model_module_version": "2.0.0",
      "model_name": "HTMLStyleModel",
      "state": {
       "description_width": "",
       "font_size": null,
       "text_color": null
      }
     },
     "e5413d92d9f3498295e83bcb0d75282a": {
      "model_module": "@jupyter-widgets/controls",
      "model_module_version": "2.0.0",
      "model_name": "HTMLStyleModel",
      "state": {
       "description_width": "",
       "font_size": null,
       "text_color": null
      }
     },
     "e5bdd6d682de4f2eb61ffd5ab95104d4": {
      "model_module": "@jupyter-widgets/controls",
      "model_module_version": "2.0.0",
      "model_name": "HTMLStyleModel",
      "state": {
       "description_width": "",
       "font_size": null,
       "text_color": null
      }
     },
     "e6daf450015342e29ae5053909349801": {
      "model_module": "jupyter-matplotlib",
      "model_module_version": "^0.11",
      "model_name": "ToolbarModel",
      "state": {
       "_model_module_version": "^0.11",
       "_view_module_version": "^0.11",
       "collapsed": true,
       "layout": "IPY_MODEL_f6f298c323894052943b7ccdfc559665",
       "orientation": "vertical",
       "toolitems": [
        [
         "Home",
         "Reset original view",
         "home",
         "home"
        ],
        [
         "Back",
         "Back to previous view",
         "arrow-left",
         "back"
        ],
        [
         "Forward",
         "Forward to next view",
         "arrow-right",
         "forward"
        ],
        [
         "Pan",
         "Left button pans, Right button zooms\nx/y fixes axis, CTRL fixes aspect",
         "arrows",
         "pan"
        ],
        [
         "Zoom",
         "Zoom to rectangle\nx/y fixes axis",
         "square-o",
         "zoom"
        ],
        [
         "Download",
         "Download plot",
         "floppy-o",
         "save_figure"
        ]
       ]
      }
     },
     "e75868cb7218467da40342ccda885528": {
      "model_module": "@jupyter-widgets/controls",
      "model_module_version": "2.0.0",
      "model_name": "HBoxModel",
      "state": {
       "children": [
        "IPY_MODEL_f876d6b249de46fab3780223774035fc",
        "IPY_MODEL_35d8996760534c2b9dd09a9eb17aedd7",
        "IPY_MODEL_3cd70d2718a44439b4ecc71810b4b400"
       ],
       "layout": "IPY_MODEL_1dbe4b71fddf4373983a79239ac3e406"
      }
     },
     "e8dfb3bd93d74aaeaf53f14edd426584": {
      "model_module": "@jupyter-widgets/controls",
      "model_module_version": "2.0.0",
      "model_name": "HBoxModel",
      "state": {
       "children": [
        "IPY_MODEL_25797ac79b6545a1b39a1390ab407bb1",
        "IPY_MODEL_51211f04566049259f324e8ce9591ec4",
        "IPY_MODEL_0e513bab26064a1b9c15ee0e71bb6a0e"
       ],
       "layout": "IPY_MODEL_dc4a22f555964b4195d009ccb8e97a56"
      }
     },
     "ea0648abb4214ae087ca31dbdcd3a14c": {
      "model_module": "@jupyter-widgets/controls",
      "model_module_version": "2.0.0",
      "model_name": "ProgressStyleModel",
      "state": {
       "description_width": ""
      }
     },
     "ea1d7f9efc8b44dfbc66afaf287e9da1": {
      "model_module": "@jupyter-widgets/base",
      "model_module_version": "2.0.0",
      "model_name": "LayoutModel",
      "state": {}
     },
     "ea71cc16ef27447dacf0116cf57a5414": {
      "model_module": "@jupyter-widgets/controls",
      "model_module_version": "2.0.0",
      "model_name": "HTMLStyleModel",
      "state": {
       "description_width": "",
       "font_size": null,
       "text_color": null
      }
     },
     "ec46859b89a14e878e02f9085f9b7722": {
      "model_module": "@jupyter-widgets/controls",
      "model_module_version": "2.0.0",
      "model_name": "HTMLModel",
      "state": {
       "layout": "IPY_MODEL_145d13a86f984769b3a5ac0807f0b415",
       "style": "IPY_MODEL_92dda36fbda349e5883443d4191ee266",
       "value": "removing duplicates: 100%"
      }
     },
     "ec7f39dfcc6b49a0856730eaae050e99": {
      "model_module": "@jupyter-widgets/controls",
      "model_module_version": "2.0.0",
      "model_name": "FloatProgressModel",
      "state": {
       "bar_style": "success",
       "layout": "IPY_MODEL_c75e8414f2b54704aae2231c82b0b3ae",
       "max": 335882,
       "style": "IPY_MODEL_b1ef09bbcd66493c94ead794bdc733e6",
       "value": 335882
      }
     },
     "ef4862328b434d4ea0764c3d2c17440c": {
      "model_module": "@jupyter-widgets/controls",
      "model_module_version": "2.0.0",
      "model_name": "HTMLStyleModel",
      "state": {
       "description_width": "",
       "font_size": null,
       "text_color": null
      }
     },
     "f01e3cdb646649afa261632a65b42411": {
      "model_module": "@jupyter-widgets/base",
      "model_module_version": "2.0.0",
      "model_name": "LayoutModel",
      "state": {}
     },
     "f0878fa03afe465f9541ba7e5476c7ca": {
      "model_module": "@jupyter-widgets/controls",
      "model_module_version": "2.0.0",
      "model_name": "HBoxModel",
      "state": {
       "children": [
        "IPY_MODEL_e2c1813834904e1197b9b762f8e7ee19",
        "IPY_MODEL_129d1598a4d9495e8c85c169bc4a930a",
        "IPY_MODEL_a30bec6cef9144299d9532eb3f6e8719"
       ],
       "layout": "IPY_MODEL_f295d5f3973548218abba2ae2224984f"
      }
     },
     "f295d5f3973548218abba2ae2224984f": {
      "model_module": "@jupyter-widgets/base",
      "model_module_version": "2.0.0",
      "model_name": "LayoutModel",
      "state": {}
     },
     "f32ec7eb588a408394ef3a8b26f95bbb": {
      "model_module": "@jupyter-widgets/base",
      "model_module_version": "2.0.0",
      "model_name": "LayoutModel",
      "state": {}
     },
     "f3e6c26cbc0342d4bdbae54d795c7dcb": {
      "model_module": "@jupyter-widgets/controls",
      "model_module_version": "2.0.0",
      "model_name": "HTMLModel",
      "state": {
       "layout": "IPY_MODEL_90243a7b04ba4a17899f941bca4c09ab",
       "style": "IPY_MODEL_0a760cc1054746258f873e4393c0ec6b",
       "value": " 335882/335882 [00:01&lt;00:00, 281219.32it/s]"
      }
     },
     "f53a3077877049678d49d5f6b84f4088": {
      "model_module": "@jupyter-widgets/base",
      "model_module_version": "2.0.0",
      "model_name": "LayoutModel",
      "state": {}
     },
     "f5bf68b045784dce8c60efe227a33247": {
      "model_module": "@jupyter-widgets/base",
      "model_module_version": "2.0.0",
      "model_name": "LayoutModel",
      "state": {}
     },
     "f6f298c323894052943b7ccdfc559665": {
      "model_module": "@jupyter-widgets/base",
      "model_module_version": "2.0.0",
      "model_name": "LayoutModel",
      "state": {}
     },
     "f74843840a0a44ab802f484a3f0dc589": {
      "model_module": "@jupyter-widgets/controls",
      "model_module_version": "2.0.0",
      "model_name": "HTMLModel",
      "state": {
       "layout": "IPY_MODEL_6698b5854a8643618a8f3487c8efe46d",
       "style": "IPY_MODEL_4ee49f541c1f4546bf9ce8485923ef58",
       "value": " 80/80 [00:00&lt;00:00, 1028.26it/s]"
      }
     },
     "f876d6b249de46fab3780223774035fc": {
      "model_module": "@jupyter-widgets/controls",
      "model_module_version": "2.0.0",
      "model_name": "HTMLModel",
      "state": {
       "layout": "IPY_MODEL_7511409f96474b9e9f7788b72b3520fb",
       "style": "IPY_MODEL_46050478506546658777c30863d92ca0",
       "value": "100%"
      }
     },
     "fa1c3ea9848342bab8c89c1467cf4e5e": {
      "model_module": "@jupyter-widgets/base",
      "model_module_version": "2.0.0",
      "model_name": "LayoutModel",
      "state": {}
     },
     "fa861a239f8b4f5d87d73e45c5d40ad5": {
      "model_module": "@jupyter-widgets/controls",
      "model_module_version": "2.0.0",
      "model_name": "ProgressStyleModel",
      "state": {
       "description_width": ""
      }
     },
     "fc481f5eeed54b509191348d9f796f7a": {
      "model_module": "@jupyter-widgets/controls",
      "model_module_version": "2.0.0",
      "model_name": "HBoxModel",
      "state": {
       "children": [
        "IPY_MODEL_5da3f81934b5415e8e36ca9ff1042f7a",
        "IPY_MODEL_65a85f6ca7fa4ac2a4aba39ccc8d6531",
        "IPY_MODEL_9d6b20c1078140da87c4364d3aff9029"
       ],
       "layout": "IPY_MODEL_2b4c3a273f854bf7b66704851b9975e1"
      }
     },
     "fd7c3ed0531c4a7f85e0a2f205051a6d": {
      "model_module": "@jupyter-widgets/controls",
      "model_module_version": "2.0.0",
      "model_name": "HTMLStyleModel",
      "state": {
       "description_width": "",
       "font_size": null,
       "text_color": null
      }
     },
     "fe5a4504ec874ed8891e2e712244c395": {
      "model_module": "@jupyter-widgets/controls",
      "model_module_version": "2.0.0",
      "model_name": "FloatProgressModel",
      "state": {
       "bar_style": "success",
       "layout": "IPY_MODEL_72101e8d972f49a7b48596d50c630de8",
       "max": 335882,
       "style": "IPY_MODEL_52e15b5b668843189109bf7b699ab6ff",
       "value": 335882
      }
     }
    },
    "version_major": 2,
    "version_minor": 0
   }
  }
 },
 "nbformat": 4,
 "nbformat_minor": 4
}
