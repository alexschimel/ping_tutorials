{
 "cells": [
  {
   "cell_type": "markdown",
   "id": "c5e647e5",
   "metadata": {},
   "source": [
    "Valid for ping 0.25 (24/10/2024)\n",
    "\n",
    "### Load data"
   ]
  },
  {
   "cell_type": "code",
   "execution_count": null,
   "id": "f5af4803-1779-4d1e-9eda-5bc638665ce1",
   "metadata": {
    "execution": {
     "iopub.execute_input": "2024-10-11T08:59:28.047880Z",
     "iopub.status.busy": "2024-10-11T08:59:28.047518Z",
     "iopub.status.idle": "2024-10-11T08:59:30.556947Z",
     "shell.execute_reply": "2024-10-11T08:59:30.556548Z",
     "shell.execute_reply.started": "2024-10-11T08:59:28.047861Z"
    }
   },
   "outputs": [],
   "source": [
    "%matplotlib widget\n",
    "\n",
    "import numpy as np\n",
    "import themachinethatgoesping as pingmachine\n",
    "from matplotlib import pyplot as plt\n",
    "from tqdm.auto import tqdm\n",
    "\n",
    "# data folder\n",
    "folder = r'C:\\Users\\Schimel_Alexandre\\Data\\MBES\\Kongsberg all\\EM2040\\KV-Meritaito_2024_EM2040_Sorvest-F-1-1-extracts-WCD'\n",
    "\n",
    "# list raw data files\n",
    "files = pingmachine.echosounders.index_functions.find_files(folder,['.all','.wcd'])\n",
    "files.sort()\n",
    "\n",
    "# create the file handler\n",
    "cache_files = pingmachine.echosounders.index_functions.get_cache_file_paths(files)\n",
    "fileHandler = pingmachine.echosounders.kongsbergall.KongsbergAllFileHandler(files,cache_files,init=True)\n",
    "\n",
    "# get pings that contain WCD\n",
    "pings = pingmachine.pingprocessing.filter_pings.by_features(fileHandler.get_pings(),['watercolumn.amplitudes'])\n",
    "\n",
    "# check data with the WCI Viewer\n",
    "viewer = pingmachine.pingprocessing.widgets.WCIViewer(pings)"
   ]
  },
  {
   "cell_type": "markdown",
   "id": "840f71a5",
   "metadata": {},
   "source": [
    "### Get WCI"
   ]
  },
  {
   "cell_type": "code",
   "execution_count": null,
   "id": "7a5771b3",
   "metadata": {},
   "outputs": [],
   "source": [
    "# to get a wedge view for a ping, use the make_wci function\n",
    "image, extent = pingmachine.pingprocessing.watercolumn.image.make_wci(pings[0],512) # specify num steps in acrosstrack distance\n",
    "# output is an across-track-distance x down-distance numpy array\n",
    "print(f\"num across-track-distance steps: {np.shape(image)[0]}, num down-distance steps: {np.shape(image)[1]}\")\n",
    "\n",
    "# display\n",
    "fig1,ax1 = pingmachine.pingprocessing.core.create_figure('wci1')\n",
    "ax1.imshow(image.transpose(), extent=extent, aspect='auto') # we transpose the image for display purposes\n",
    "ax1.set_xlabel('Across-track distance (m)')\n",
    "ax1.set_ylabel('Down distance (m)')\n",
    "ax1.set_title('first ping WCD, wedge view')"
   ]
  },
  {
   "cell_type": "code",
   "execution_count": null,
   "id": "247f4ec0",
   "metadata": {},
   "outputs": [],
   "source": [
    "# get down and across-track resolution from extent\n",
    "down_res = (extent[3]-extent[2])/np.shape(image)[1]\n",
    "across_res = (extent[1]-extent[0])/np.shape(image)[0]\n",
    "\n",
    "print(f\"Down resolution: {down_res} m, Across resolution: {across_res} m\")"
   ]
  },
  {
   "cell_type": "markdown",
   "id": "e9a8bdea",
   "metadata": {},
   "source": [
    "### WCI data subselection\n",
    "#### Example 1: Using ping sample selector"
   ]
  },
  {
   "cell_type": "code",
   "execution_count": null,
   "id": "c883f83a-602b-414f-9a51-0a1ffd3473eb",
   "metadata": {
    "execution": {
     "iopub.execute_input": "2024-10-11T09:08:21.338627Z",
     "iopub.status.busy": "2024-10-11T09:08:21.338420Z",
     "iopub.status.idle": "2024-10-11T09:08:21.426166Z",
     "shell.execute_reply": "2024-10-11T09:08:21.425702Z",
     "shell.execute_reply.started": "2024-10-11T09:08:21.338615Z"
    }
   },
   "outputs": [],
   "source": [
    "# We can specify the data we want, using a pingsampleselector \n",
    "pss = pingmachine.echosounders.pingtools.PingSampleSelector()\n",
    "pss.select_beam_range_by_angles(-45,0,5) # min angle, max angle, stepsize in degrees. Other selection options are available\n",
    "\n",
    "# apply the ping selector for wedge view\n",
    "image_pss,extent_pss = pingmachine.pingprocessing.watercolumn.image.make_wci(pings[0],512,ping_sample_selector=pss)\n",
    "\n",
    "# display\n",
    "fig2,ax2 = pingmachine.pingprocessing.core.create_figure('wci2')\n",
    "ax2.imshow(image_pss.transpose(), extent=extent_pss, aspect='auto') # we transpose the image for display purposes\n",
    "ax2.set_xlabel('Across-track distance (m)')\n",
    "ax2.set_ylabel('Down distance (m)')\n",
    "ax2.set_title('first ping WCD, wedge view, selected beams')"
   ]
  },
  {
   "cell_type": "markdown",
   "id": "dafa84fe",
   "metadata": {},
   "source": [
    "### Example 2: Specifying output min max\n"
   ]
  },
  {
   "cell_type": "code",
   "execution_count": null,
   "id": "b4e6ac35",
   "metadata": {},
   "outputs": [],
   "source": [
    "# besides the sample selector, we can also specify the y and z coordinates of the output wedge view\n",
    "image_minmax,extent_minmax = pingmachine.pingprocessing.watercolumn.image.make_wci(pings[0],512,hmin=0,hmax=30,vmin=30,vmax=50)\n",
    "\n",
    "# first display full data\n",
    "fig3,ax3 = pingmachine.pingprocessing.core.create_figure('wci3')\n",
    "ax3.imshow(image.transpose(), extent=extent, aspect='auto') # full data\n",
    "xlim = ax3.get_xlim()\n",
    "ylim = ax3.get_ylim()\n",
    "\n",
    "# add image of selected ontop of the same plot\n",
    "ax3.imshow(image_minmax.transpose(), extent=extent_minmax, aspect='auto', cmap='autumn') # selected data\n",
    "ax3.set_xlim(xlim)\n",
    "ax3.set_ylim(ylim)\n",
    "ax3.set_xlabel('Across-track distance (m)')\n",
    "ax3.set_ylabel('Down distance (m)')\n",
    "ax3.set_title('first ping WCD, wedge view, selected beams (color), selected extent (autumn)')"
   ]
  },
  {
   "cell_type": "markdown",
   "id": "1dbf8ab1",
   "metadata": {},
   "source": [
    "### Example 3: Specifying YZ coordinates"
   ]
  },
  {
   "cell_type": "code",
   "execution_count": null,
   "id": "66efcfa2-def0-48b2-9f27-467a902eaae4",
   "metadata": {
    "execution": {
     "iopub.execute_input": "2024-10-11T09:09:01.808625Z",
     "iopub.status.busy": "2024-10-11T09:09:01.808238Z",
     "iopub.status.idle": "2024-10-11T09:09:01.816756Z",
     "shell.execute_reply": "2024-10-11T09:09:01.816136Z",
     "shell.execute_reply.started": "2024-10-11T09:09:01.808604Z"
    }
   },
   "outputs": [],
   "source": [
    "# besides the sample selector, we can also specify the y and z coordinates of the output wedge view\n",
    "image_yz,extent_yz = pingmachine.pingprocessing.watercolumn.image.make_wci(pings[0],512,y_coordinates=np.linspace(0,30,100),z_coordinates=np.linspace(50,70,100))\n",
    "\n",
    "# first display full data\n",
    "fig4,ax4 = pingmachine.pingprocessing.core.create_figure('wci4')\n",
    "ax4.imshow(image.transpose(), extent=extent, aspect='auto') # full data\n",
    "xlim = ax4.get_xlim()\n",
    "ylim = ax4.get_ylim()\n",
    "\n",
    "# add image2 ontop of the same plot\n",
    "ax4.imshow(image_yz.transpose(), extent=extent_yz, aspect='auto', cmap='gray') # selected data\n",
    "ax4.set_xlim(xlim)\n",
    "ax4.set_ylim(ylim)\n",
    "ax4.set_xlabel('Across-track distance (m)')\n",
    "ax4.set_ylabel('Down distance (m)')\n",
    "ax4.set_title('first ping WCD, wedge view, selected beams (color), selected extent (gray)')"
   ]
  }
 ],
 "metadata": {
  "kernelspec": {
   "display_name": "ping",
   "language": "python",
   "name": "python3"
  },
  "language_info": {
   "codemirror_mode": {
    "name": "ipython",
    "version": 3
   },
   "file_extension": ".py",
   "mimetype": "text/x-python",
   "name": "python",
   "nbconvert_exporter": "python",
   "pygments_lexer": "ipython3",
   "version": "3.12.7"
  },
  "widgets": {
   "application/vnd.jupyter.widget-state+json": {
    "state": {
     "0110c3f311ea401985602a5f206aa011": {
      "model_module": "@jupyter-widgets/base",
      "model_module_version": "2.0.0",
      "model_name": "LayoutModel",
      "state": {}
     },
     "02539b9b9c8b475f8550707f4680137a": {
      "model_module": "@jupyter-widgets/base",
      "model_module_version": "2.0.0",
      "model_name": "LayoutModel",
      "state": {}
     },
     "02de096304454d7e9606bb2f32dec1f0": {
      "model_module": "@jupyter-widgets/controls",
      "model_module_version": "2.0.0",
      "model_name": "ButtonStyleModel",
      "state": {
       "font_family": null,
       "font_size": null,
       "font_style": null,
       "font_variant": null,
       "font_weight": null,
       "text_color": null,
       "text_decoration": null
      }
     },
     "03fb5631058947b682eb70c14e695f55": {
      "model_module": "@jupyter-widgets/base",
      "model_module_version": "2.0.0",
      "model_name": "LayoutModel",
      "state": {}
     },
     "0421505d439d4d889fcdccda9328b5f5": {
      "model_module": "@jupyter-widgets/base",
      "model_module_version": "2.0.0",
      "model_name": "LayoutModel",
      "state": {}
     },
     "056fa7c4783e4552aba1252e564f3905": {
      "model_module": "jupyter-matplotlib",
      "model_module_version": "^0.11",
      "model_name": "ToolbarModel",
      "state": {
       "_model_module_version": "^0.11",
       "_view_module_version": "^0.11",
       "collapsed": true,
       "layout": "IPY_MODEL_11de2cc9edca46f381864390084670ba",
       "orientation": "vertical",
       "toolitems": [
        [
         "Home",
         "Reset original view",
         "home",
         "home"
        ],
        [
         "Back",
         "Back to previous view",
         "arrow-left",
         "back"
        ],
        [
         "Forward",
         "Forward to next view",
         "arrow-right",
         "forward"
        ],
        [
         "Pan",
         "Left button pans, Right button zooms\nx/y fixes axis, CTRL fixes aspect",
         "arrows",
         "pan"
        ],
        [
         "Zoom",
         "Zoom to rectangle\nx/y fixes axis",
         "square-o",
         "zoom"
        ],
        [
         "Download",
         "Download plot",
         "floppy-o",
         "save_figure"
        ]
       ]
      }
     },
     "091f72f54aba41efa97db428523ba0a7": {
      "model_module": "@jupyter-widgets/controls",
      "model_module_version": "2.0.0",
      "model_name": "HTMLModel",
      "state": {
       "layout": "IPY_MODEL_02539b9b9c8b475f8550707f4680137a",
       "style": "IPY_MODEL_2ad8e08584e94a8ea35bd22a65a83fdb",
       "value": " 14/14 [00:00&lt;00:00, 3529.07it/s]"
      }
     },
     "0947f7730f5347b9b1465338b57c2b06": {
      "model_module": "@jupyter-widgets/base",
      "model_module_version": "2.0.0",
      "model_name": "LayoutModel",
      "state": {}
     },
     "0a05ed9d253b40c48684034dda4d1daf": {
      "model_module": "jupyter-matplotlib",
      "model_module_version": "^0.11",
      "model_name": "ToolbarModel",
      "state": {
       "_current_action": "zoom",
       "_model_module_version": "^0.11",
       "_view_module_version": "^0.11",
       "collapsed": true,
       "layout": "IPY_MODEL_fc4ad402422b460db4fc4c4532c3f345",
       "orientation": "vertical",
       "toolitems": [
        [
         "Home",
         "Reset original view",
         "home",
         "home"
        ],
        [
         "Back",
         "Back to previous view",
         "arrow-left",
         "back"
        ],
        [
         "Forward",
         "Forward to next view",
         "arrow-right",
         "forward"
        ],
        [
         "Pan",
         "Left button pans, Right button zooms\nx/y fixes axis, CTRL fixes aspect",
         "arrows",
         "pan"
        ],
        [
         "Zoom",
         "Zoom to rectangle\nx/y fixes axis",
         "square-o",
         "zoom"
        ],
        [
         "Download",
         "Download plot",
         "floppy-o",
         "save_figure"
        ]
       ]
      }
     },
     "0ef4575ab409471a8c7f8ddd3c89c6f9": {
      "model_module": "@jupyter-widgets/controls",
      "model_module_version": "2.0.0",
      "model_name": "HTMLModel",
      "state": {
       "layout": "IPY_MODEL_6c40e7db432f4d009d0a31bc9d0395c0",
       "style": "IPY_MODEL_cf199a45523346adb43e80de200e05a0",
       "value": "removing duplicates: 100%"
      }
     },
     "0fca751e58364abbbcf22785d3712313": {
      "model_module": "@jupyter-widgets/base",
      "model_module_version": "2.0.0",
      "model_name": "LayoutModel",
      "state": {}
     },
     "10608b84f03f4557828f240f69bcbe65": {
      "model_module": "@jupyter-widgets/base",
      "model_module_version": "2.0.0",
      "model_name": "LayoutModel",
      "state": {}
     },
     "11de2cc9edca46f381864390084670ba": {
      "model_module": "@jupyter-widgets/base",
      "model_module_version": "2.0.0",
      "model_name": "LayoutModel",
      "state": {}
     },
     "12412e8d6abb46d3a9d21f3ef0bc9651": {
      "model_module": "@jupyter-widgets/base",
      "model_module_version": "2.0.0",
      "model_name": "LayoutModel",
      "state": {}
     },
     "126182b6911f4178b2447d25896daace": {
      "model_module": "jupyter-matplotlib",
      "model_module_version": "^0.11",
      "model_name": "ToolbarModel",
      "state": {
       "_model_module_version": "^0.11",
       "_view_module_version": "^0.11",
       "collapsed": true,
       "layout": "IPY_MODEL_346a5438dc0848de9c1e9793dada2747",
       "orientation": "vertical",
       "toolitems": [
        [
         "Home",
         "Reset original view",
         "home",
         "home"
        ],
        [
         "Back",
         "Back to previous view",
         "arrow-left",
         "back"
        ],
        [
         "Forward",
         "Forward to next view",
         "arrow-right",
         "forward"
        ],
        [
         "Pan",
         "Left button pans, Right button zooms\nx/y fixes axis, CTRL fixes aspect",
         "arrows",
         "pan"
        ],
        [
         "Zoom",
         "Zoom to rectangle\nx/y fixes axis",
         "square-o",
         "zoom"
        ],
        [
         "Download",
         "Download plot",
         "floppy-o",
         "save_figure"
        ]
       ]
      }
     },
     "143c9fc0cd974fb997871d81c78825e3": {
      "model_module": "jupyter-matplotlib",
      "model_module_version": "^0.11",
      "model_name": "ToolbarModel",
      "state": {
       "_model_module_version": "^0.11",
       "_view_module_version": "^0.11",
       "collapsed": true,
       "layout": "IPY_MODEL_a6646a3fc98541b7b3cceb727ddcf80a",
       "orientation": "vertical",
       "toolitems": [
        [
         "Home",
         "Reset original view",
         "home",
         "home"
        ],
        [
         "Back",
         "Back to previous view",
         "arrow-left",
         "back"
        ],
        [
         "Forward",
         "Forward to next view",
         "arrow-right",
         "forward"
        ],
        [
         "Pan",
         "Left button pans, Right button zooms\nx/y fixes axis, CTRL fixes aspect",
         "arrows",
         "pan"
        ],
        [
         "Zoom",
         "Zoom to rectangle\nx/y fixes axis",
         "square-o",
         "zoom"
        ],
        [
         "Download",
         "Download plot",
         "floppy-o",
         "save_figure"
        ]
       ]
      }
     },
     "1636054da827456e979760dabda91bfc": {
      "model_module": "@jupyter-widgets/controls",
      "model_module_version": "2.0.0",
      "model_name": "IntSliderModel",
      "state": {
       "behavior": "drag-tap",
       "description": "ping nr",
       "layout": "IPY_MODEL_b53fc34c718f42e8bada456bae93c551",
       "max": 47073,
       "style": "IPY_MODEL_925e711561344ccdadfb590b54af7b8b",
       "value": 16728
      }
     },
     "16482f32b0e14aa5bec42a6d7008d0e6": {
      "model_module": "jupyter-matplotlib",
      "model_module_version": "^0.11",
      "model_name": "ToolbarModel",
      "state": {
       "_model_module_version": "^0.11",
       "_view_module_version": "^0.11",
       "collapsed": true,
       "layout": "IPY_MODEL_ccd5711e17cc4a639d854517214158de",
       "orientation": "vertical",
       "toolitems": [
        [
         "Home",
         "Reset original view",
         "home",
         "home"
        ],
        [
         "Back",
         "Back to previous view",
         "arrow-left",
         "back"
        ],
        [
         "Forward",
         "Forward to next view",
         "arrow-right",
         "forward"
        ],
        [
         "Pan",
         "Left button pans, Right button zooms\nx/y fixes axis, CTRL fixes aspect",
         "arrows",
         "pan"
        ],
        [
         "Zoom",
         "Zoom to rectangle\nx/y fixes axis",
         "square-o",
         "zoom"
        ],
        [
         "Download",
         "Download plot",
         "floppy-o",
         "save_figure"
        ]
       ]
      }
     },
     "164cd85102a04b06872320aaf877a28a": {
      "model_module": "@jupyter-widgets/base",
      "model_module_version": "2.0.0",
      "model_name": "LayoutModel",
      "state": {}
     },
     "165a057d522b426dac75a5a7c096b402": {
      "model_module": "@jupyter-widgets/controls",
      "model_module_version": "2.0.0",
      "model_name": "DropdownModel",
      "state": {
       "_options_labels": [
        "sv/av",
        "sp/ap",
        "power/amp",
        "av",
        "ap",
        "amp",
        "sv",
        "sp",
        "power"
       ],
       "description": "wci value",
       "index": 0,
       "layout": "IPY_MODEL_eca854f178754554ab4ba4f42f70b5b2",
       "style": "IPY_MODEL_6db79442185a4b22a6f26f2fb9c6a147"
      }
     },
     "1aea2478377349f99907c4ceedba862a": {
      "model_module": "jupyter-matplotlib",
      "model_module_version": "^0.11",
      "model_name": "ToolbarModel",
      "state": {
       "_current_action": "zoom",
       "_model_module_version": "^0.11",
       "_view_module_version": "^0.11",
       "collapsed": true,
       "layout": "IPY_MODEL_dfe15a7225954ee69edb303a0ccbd337",
       "orientation": "vertical",
       "toolitems": [
        [
         "Home",
         "Reset original view",
         "home",
         "home"
        ],
        [
         "Back",
         "Back to previous view",
         "arrow-left",
         "back"
        ],
        [
         "Forward",
         "Forward to next view",
         "arrow-right",
         "forward"
        ],
        [
         "Pan",
         "Left button pans, Right button zooms\nx/y fixes axis, CTRL fixes aspect",
         "arrows",
         "pan"
        ],
        [
         "Zoom",
         "Zoom to rectangle\nx/y fixes axis",
         "square-o",
         "zoom"
        ],
        [
         "Download",
         "Download plot",
         "floppy-o",
         "save_figure"
        ]
       ]
      }
     },
     "1c80b91f7ae642b8994e6d1c3dd4c771": {
      "model_module": "@jupyter-widgets/base",
      "model_module_version": "2.0.0",
      "model_name": "LayoutModel",
      "state": {}
     },
     "1ce60086996049668dc2e92ce627df6e": {
      "model_module": "@jupyter-widgets/base",
      "model_module_version": "2.0.0",
      "model_name": "LayoutModel",
      "state": {}
     },
     "1e9aa72857fd4d8694899868d905574c": {
      "model_module": "@jupyter-widgets/base",
      "model_module_version": "2.0.0",
      "model_name": "LayoutModel",
      "state": {}
     },
     "1f6996857667484e882fc688768e84b1": {
      "model_module": "jupyter-matplotlib",
      "model_module_version": "^0.11",
      "model_name": "ToolbarModel",
      "state": {
       "_current_action": "zoom",
       "_model_module_version": "^0.11",
       "_view_module_version": "^0.11",
       "collapsed": true,
       "layout": "IPY_MODEL_721466c424744c7a99080bac5a8bd1f3",
       "orientation": "vertical",
       "toolitems": [
        [
         "Home",
         "Reset original view",
         "home",
         "home"
        ],
        [
         "Back",
         "Back to previous view",
         "arrow-left",
         "back"
        ],
        [
         "Forward",
         "Forward to next view",
         "arrow-right",
         "forward"
        ],
        [
         "Pan",
         "Left button pans, Right button zooms\nx/y fixes axis, CTRL fixes aspect",
         "arrows",
         "pan"
        ],
        [
         "Zoom",
         "Zoom to rectangle\nx/y fixes axis",
         "square-o",
         "zoom"
        ],
        [
         "Download",
         "Download plot",
         "floppy-o",
         "save_figure"
        ]
       ]
      }
     },
     "2041a61cc4c447688f3345f75bf1a544": {
      "model_module": "@jupyter-widgets/base",
      "model_module_version": "2.0.0",
      "model_name": "LayoutModel",
      "state": {}
     },
     "238c68a78ddf4fcabc63fdc1edd96e2a": {
      "model_module": "@jupyter-widgets/base",
      "model_module_version": "2.0.0",
      "model_name": "LayoutModel",
      "state": {}
     },
     "24194714d4e04bddacaa7ed6f9ef708a": {
      "model_module": "@jupyter-widgets/base",
      "model_module_version": "2.0.0",
      "model_name": "LayoutModel",
      "state": {}
     },
     "245545c8bee7467f8193ec7392be1315": {
      "model_module": "@jupyter-widgets/base",
      "model_module_version": "2.0.0",
      "model_name": "LayoutModel",
      "state": {}
     },
     "2537a19120e245f49673631809ea8619": {
      "model_module": "@jupyter-widgets/base",
      "model_module_version": "2.0.0",
      "model_name": "LayoutModel",
      "state": {}
     },
     "255c82564fae44ecad8d353d59f265cd": {
      "model_module": "@jupyter-widgets/base",
      "model_module_version": "2.0.0",
      "model_name": "LayoutModel",
      "state": {}
     },
     "26a2a0e001ea42f8984114ab6045fc9d": {
      "model_module": "jupyter-matplotlib",
      "model_module_version": "^0.11",
      "model_name": "ToolbarModel",
      "state": {
       "_model_module_version": "^0.11",
       "_view_module_version": "^0.11",
       "collapsed": true,
       "layout": "IPY_MODEL_6e523a5df9a54b6099fb0edce1e35ecb",
       "orientation": "vertical",
       "toolitems": [
        [
         "Home",
         "Reset original view",
         "home",
         "home"
        ],
        [
         "Back",
         "Back to previous view",
         "arrow-left",
         "back"
        ],
        [
         "Forward",
         "Forward to next view",
         "arrow-right",
         "forward"
        ],
        [
         "Pan",
         "Left button pans, Right button zooms\nx/y fixes axis, CTRL fixes aspect",
         "arrows",
         "pan"
        ],
        [
         "Zoom",
         "Zoom to rectangle\nx/y fixes axis",
         "square-o",
         "zoom"
        ],
        [
         "Download",
         "Download plot",
         "floppy-o",
         "save_figure"
        ]
       ]
      }
     },
     "274936ffe83143039cf4b8ddef68f5e3": {
      "model_module": "@jupyter-widgets/base",
      "model_module_version": "2.0.0",
      "model_name": "LayoutModel",
      "state": {}
     },
     "2abd4eaaea8b4e19981af20793fab509": {
      "model_module": "@jupyter-widgets/base",
      "model_module_version": "2.0.0",
      "model_name": "LayoutModel",
      "state": {}
     },
     "2ad8e08584e94a8ea35bd22a65a83fdb": {
      "model_module": "@jupyter-widgets/controls",
      "model_module_version": "2.0.0",
      "model_name": "HTMLStyleModel",
      "state": {
       "description_width": "",
       "font_size": null,
       "text_color": null
      }
     },
     "2b6a1670fdf443c2a5252bd98dfa7fc4": {
      "model_module": "jupyter-matplotlib",
      "model_module_version": "^0.11",
      "model_name": "ToolbarModel",
      "state": {
       "_current_action": "zoom",
       "_model_module_version": "^0.11",
       "_view_module_version": "^0.11",
       "collapsed": true,
       "layout": "IPY_MODEL_e5c4dc49b46e49ee87d338096b735bb2",
       "orientation": "vertical",
       "toolitems": [
        [
         "Home",
         "Reset original view",
         "home",
         "home"
        ],
        [
         "Back",
         "Back to previous view",
         "arrow-left",
         "back"
        ],
        [
         "Forward",
         "Forward to next view",
         "arrow-right",
         "forward"
        ],
        [
         "Pan",
         "Left button pans, Right button zooms\nx/y fixes axis, CTRL fixes aspect",
         "arrows",
         "pan"
        ],
        [
         "Zoom",
         "Zoom to rectangle\nx/y fixes axis",
         "square-o",
         "zoom"
        ],
        [
         "Download",
         "Download plot",
         "floppy-o",
         "save_figure"
        ]
       ]
      }
     },
     "2b6d9073984e419d8ef5bb7e4e68acf7": {
      "model_module": "@jupyter-widgets/base",
      "model_module_version": "2.0.0",
      "model_name": "LayoutModel",
      "state": {}
     },
     "2badf5d0746e4149b5de3edbaf1ec5db": {
      "model_module": "jupyter-matplotlib",
      "model_module_version": "^0.11",
      "model_name": "ToolbarModel",
      "state": {
       "_model_module_version": "^0.11",
       "_view_module_version": "^0.11",
       "collapsed": true,
       "layout": "IPY_MODEL_847e0d9f0bcf4aa89400da5c6d8ccfdd",
       "orientation": "vertical",
       "toolitems": [
        [
         "Home",
         "Reset original view",
         "home",
         "home"
        ],
        [
         "Back",
         "Back to previous view",
         "arrow-left",
         "back"
        ],
        [
         "Forward",
         "Forward to next view",
         "arrow-right",
         "forward"
        ],
        [
         "Pan",
         "Left button pans, Right button zooms\nx/y fixes axis, CTRL fixes aspect",
         "arrows",
         "pan"
        ],
        [
         "Zoom",
         "Zoom to rectangle\nx/y fixes axis",
         "square-o",
         "zoom"
        ],
        [
         "Download",
         "Download plot",
         "floppy-o",
         "save_figure"
        ]
       ]
      }
     },
     "2d076530c42c48cdbcde5a42a9d5b4d4": {
      "model_module": "@jupyter-widgets/base",
      "model_module_version": "2.0.0",
      "model_name": "LayoutModel",
      "state": {}
     },
     "2d40fb682bed442a8d5c99dc8648a1da": {
      "model_module": "jupyter-matplotlib",
      "model_module_version": "^0.11",
      "model_name": "ToolbarModel",
      "state": {
       "_model_module_version": "^0.11",
       "_view_module_version": "^0.11",
       "collapsed": true,
       "layout": "IPY_MODEL_f2b23a610b1743508939796bfff8ce8a",
       "orientation": "vertical",
       "toolitems": [
        [
         "Home",
         "Reset original view",
         "home",
         "home"
        ],
        [
         "Back",
         "Back to previous view",
         "arrow-left",
         "back"
        ],
        [
         "Forward",
         "Forward to next view",
         "arrow-right",
         "forward"
        ],
        [
         "Pan",
         "Left button pans, Right button zooms\nx/y fixes axis, CTRL fixes aspect",
         "arrows",
         "pan"
        ],
        [
         "Zoom",
         "Zoom to rectangle\nx/y fixes axis",
         "square-o",
         "zoom"
        ],
        [
         "Download",
         "Download plot",
         "floppy-o",
         "save_figure"
        ]
       ]
      }
     },
     "2d5cfaa1c0e94f0fa60fed611a18e317": {
      "model_module": "@jupyter-widgets/base",
      "model_module_version": "2.0.0",
      "model_name": "LayoutModel",
      "state": {
       "width": "10%"
      }
     },
     "2db302117e8f48da9653b47de84d2b39": {
      "model_module": "@jupyter-widgets/base",
      "model_module_version": "2.0.0",
      "model_name": "LayoutModel",
      "state": {}
     },
     "2e2a5741e7a841938c8152c522729ed2": {
      "model_module": "@jupyter-widgets/base",
      "model_module_version": "2.0.0",
      "model_name": "LayoutModel",
      "state": {}
     },
     "2ed76c1fbb6a4617973e9aefb339fd12": {
      "model_module": "@jupyter-widgets/base",
      "model_module_version": "2.0.0",
      "model_name": "LayoutModel",
      "state": {}
     },
     "33174f4c98e94f1d87e01072708e2077": {
      "model_module": "@jupyter-widgets/base",
      "model_module_version": "2.0.0",
      "model_name": "LayoutModel",
      "state": {}
     },
     "346a5438dc0848de9c1e9793dada2747": {
      "model_module": "@jupyter-widgets/base",
      "model_module_version": "2.0.0",
      "model_name": "LayoutModel",
      "state": {}
     },
     "3664bc9aed18429d84638fb2b45f4528": {
      "model_module": "@jupyter-widgets/base",
      "model_module_version": "2.0.0",
      "model_name": "LayoutModel",
      "state": {}
     },
     "38620bf0d35241f0ab90d8dcca7d452d": {
      "model_module": "@jupyter-widgets/controls",
      "model_module_version": "2.0.0",
      "model_name": "IntTextModel",
      "state": {
       "description": "stack step:",
       "layout": "IPY_MODEL_988aef300da34f69bfbae8281e6396f2",
       "step": 1,
       "style": "IPY_MODEL_f1baaebd79fd4121be90df70cac50e50",
       "value": 1
      }
     },
     "38d245ee8fe94e8d94e5c4ffaac05f7b": {
      "model_module": "@jupyter-widgets/controls",
      "model_module_version": "2.0.0",
      "model_name": "HTMLModel",
      "state": {
       "layout": "IPY_MODEL_b4963b7f4ef945948314d79c40f5e87e",
       "style": "IPY_MODEL_f0466195881242d28f4cd5c8b5335e8e",
       "value": "removing duplicates: 100%"
      }
     },
     "393a8444bd4f439eb97a736b8899e25f": {
      "model_module": "@jupyter-widgets/controls",
      "model_module_version": "2.0.0",
      "model_name": "HBoxModel",
      "state": {
       "children": [
        "IPY_MODEL_1636054da827456e979760dabda91bfc",
        "IPY_MODEL_63ac6bf2bd6540a0a6b6c6f0e6023609",
        "IPY_MODEL_c75873a9c6bb465d915af17803459196",
        "IPY_MODEL_7bb932e29d3844f9879b5cf3aaa5e3f9",
        "IPY_MODEL_38620bf0d35241f0ab90d8dcca7d452d",
        "IPY_MODEL_d16a0d19f49e423a9a1292877f93e709"
       ],
       "layout": "IPY_MODEL_86e19c54b35045f085fcd2e217ddff15"
      }
     },
     "3993cb2b9def4968a5127f1f88c74755": {
      "model_module": "@jupyter-widgets/base",
      "model_module_version": "2.0.0",
      "model_name": "LayoutModel",
      "state": {}
     },
     "3a8fa162baed4711b6293cd3ef63440c": {
      "model_module": "@jupyter-widgets/controls",
      "model_module_version": "2.0.0",
      "model_name": "ProgressStyleModel",
      "state": {
       "description_width": ""
      }
     },
     "3b2b07ca95af471f95c5847f1a3341b9": {
      "model_module": "@jupyter-widgets/output",
      "model_module_version": "1.0.0",
      "model_name": "OutputModel",
      "state": {
       "layout": "IPY_MODEL_75f2652c9cc645d5b8f2639039a33937"
      }
     },
     "3e451a04504b4e6f80f64a2ccbdc92c9": {
      "model_module": "@jupyter-widgets/base",
      "model_module_version": "2.0.0",
      "model_name": "LayoutModel",
      "state": {}
     },
     "3f5460d4266d41218c68393895168758": {
      "model_module": "@jupyter-widgets/base",
      "model_module_version": "2.0.0",
      "model_name": "LayoutModel",
      "state": {}
     },
     "3fe5ec604ad6459c9582d0002be989a3": {
      "model_module": "@jupyter-widgets/controls",
      "model_module_version": "2.0.0",
      "model_name": "VBoxModel",
      "state": {
       "children": [
        "IPY_MODEL_684c1135770840ec9746bade1dca4f46",
        "IPY_MODEL_b5c980e2b2a34dd583f131d33ba92a5f",
        "IPY_MODEL_642cdca4a0dd447597223e24c559e046",
        "IPY_MODEL_97d3d68543834d2abf888394ba81575d",
        "IPY_MODEL_393a8444bd4f439eb97a736b8899e25f",
        "IPY_MODEL_3b2b07ca95af471f95c5847f1a3341b9"
       ],
       "layout": "IPY_MODEL_72fb2e0467fe462697735c4028069d5b"
      }
     },
     "4239bcf3196f4be3a01426994ea24434": {
      "model_module": "@jupyter-widgets/base",
      "model_module_version": "2.0.0",
      "model_name": "LayoutModel",
      "state": {}
     },
     "44b704f3188c4b3591b80daf6cb13062": {
      "model_module": "jupyter-matplotlib",
      "model_module_version": "^0.11",
      "model_name": "ToolbarModel",
      "state": {
       "_model_module_version": "^0.11",
       "_view_module_version": "^0.11",
       "collapsed": true,
       "layout": "IPY_MODEL_245545c8bee7467f8193ec7392be1315",
       "orientation": "vertical",
       "toolitems": [
        [
         "Home",
         "Reset original view",
         "home",
         "home"
        ],
        [
         "Back",
         "Back to previous view",
         "arrow-left",
         "back"
        ],
        [
         "Forward",
         "Forward to next view",
         "arrow-right",
         "forward"
        ],
        [
         "Pan",
         "Left button pans, Right button zooms\nx/y fixes axis, CTRL fixes aspect",
         "arrows",
         "pan"
        ],
        [
         "Zoom",
         "Zoom to rectangle\nx/y fixes axis",
         "square-o",
         "zoom"
        ],
        [
         "Download",
         "Download plot",
         "floppy-o",
         "save_figure"
        ]
       ]
      }
     },
     "4547a249f9f943e88bdecf9f75292274": {
      "model_module": "@jupyter-widgets/base",
      "model_module_version": "2.0.0",
      "model_name": "LayoutModel",
      "state": {}
     },
     "460fe9f5e6a6425c8f4cbc56b24195fa": {
      "model_module": "jupyter-matplotlib",
      "model_module_version": "^0.11",
      "model_name": "MPLCanvasModel",
      "state": {
       "_cursor": "default",
       "_data_url": "data:image/png;base64,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",
       "_figure_label": "wci2",
       "_image_mode": "diff",
       "_model_module_version": "^0.11",
       "_rubberband_y": 481,
       "_size": [
        640,
        480
       ],
       "_view_module_version": "^0.11",
       "layout": "IPY_MODEL_0fca751e58364abbbcf22785d3712313",
       "toolbar": "IPY_MODEL_1aea2478377349f99907c4ceedba862a",
       "toolbar_position": "left"
      }
     },
     "47100540fb414e2582a5d51724879f04": {
      "model_module": "@jupyter-widgets/base",
      "model_module_version": "2.0.0",
      "model_name": "LayoutModel",
      "state": {}
     },
     "4807e4808785499f8f19f260732baed3": {
      "model_module": "jupyter-matplotlib",
      "model_module_version": "^0.11",
      "model_name": "ToolbarModel",
      "state": {
       "_model_module_version": "^0.11",
       "_view_module_version": "^0.11",
       "collapsed": true,
       "layout": "IPY_MODEL_ad260b44780d43039109ecc78e1df921",
       "orientation": "vertical",
       "toolitems": [
        [
         "Home",
         "Reset original view",
         "home",
         "home"
        ],
        [
         "Back",
         "Back to previous view",
         "arrow-left",
         "back"
        ],
        [
         "Forward",
         "Forward to next view",
         "arrow-right",
         "forward"
        ],
        [
         "Pan",
         "Left button pans, Right button zooms\nx/y fixes axis, CTRL fixes aspect",
         "arrows",
         "pan"
        ],
        [
         "Zoom",
         "Zoom to rectangle\nx/y fixes axis",
         "square-o",
         "zoom"
        ],
        [
         "Download",
         "Download plot",
         "floppy-o",
         "save_figure"
        ]
       ]
      }
     },
     "494b1d3d055644bead7d15d0973cee70": {
      "model_module": "@jupyter-widgets/base",
      "model_module_version": "2.0.0",
      "model_name": "LayoutModel",
      "state": {}
     },
     "4988afc3fa78482286ae402278a4a739": {
      "model_module": "@jupyter-widgets/controls",
      "model_module_version": "2.0.0",
      "model_name": "FloatProgressModel",
      "state": {
       "bar_style": "success",
       "layout": "IPY_MODEL_2db302117e8f48da9653b47de84d2b39",
       "max": 14,
       "style": "IPY_MODEL_5976dd270bcf44009e0f9474e41d6618",
       "value": 14
      }
     },
     "4b9df67c2f354962a95bed7de03d12a3": {
      "model_module": "@jupyter-widgets/base",
      "model_module_version": "2.0.0",
      "model_name": "LayoutModel",
      "state": {}
     },
     "4c61c617d737460ab89c55c06492dae0": {
      "model_module": "@jupyter-widgets/controls",
      "model_module_version": "2.0.0",
      "model_name": "TextStyleModel",
      "state": {
       "description_width": "",
       "font_size": null,
       "text_color": null
      }
     },
     "4cab1918c91d4028bf176ff5006b2486": {
      "model_module": "jupyter-matplotlib",
      "model_module_version": "^0.11",
      "model_name": "ToolbarModel",
      "state": {
       "_model_module_version": "^0.11",
       "_view_module_version": "^0.11",
       "collapsed": true,
       "layout": "IPY_MODEL_c1924563c6fc4c93b45415fe097d0170",
       "orientation": "vertical",
       "toolitems": [
        [
         "Home",
         "Reset original view",
         "home",
         "home"
        ],
        [
         "Back",
         "Back to previous view",
         "arrow-left",
         "back"
        ],
        [
         "Forward",
         "Forward to next view",
         "arrow-right",
         "forward"
        ],
        [
         "Pan",
         "Left button pans, Right button zooms\nx/y fixes axis, CTRL fixes aspect",
         "arrows",
         "pan"
        ],
        [
         "Zoom",
         "Zoom to rectangle\nx/y fixes axis",
         "square-o",
         "zoom"
        ],
        [
         "Download",
         "Download plot",
         "floppy-o",
         "save_figure"
        ]
       ]
      }
     },
     "4db0d164d2f34886adc1e3226358424a": {
      "model_module": "jupyter-matplotlib",
      "model_module_version": "^0.11",
      "model_name": "MPLCanvasModel",
      "state": {
       "_cursor": "default",
       "_data_url": "data:image/png;base64,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",
       "_figure_label": "wci",
       "_image_mode": "diff",
       "_model_module_version": "^0.11",
       "_size": [
        640,
        480
       ],
       "_view_module_version": "^0.11",
       "layout": "IPY_MODEL_569547c582874ac69d23a491bee40d8b",
       "toolbar": "IPY_MODEL_ec8c3bbd04d04b45b8d5fb775e422667",
       "toolbar_position": "left"
      }
     },
     "50c3a218b60a466e8f787ff83d29edd9": {
      "model_module": "@jupyter-widgets/base",
      "model_module_version": "2.0.0",
      "model_name": "LayoutModel",
      "state": {}
     },
     "5127dd3d5f5349959e16cb6b980a40bf": {
      "model_module": "@jupyter-widgets/base",
      "model_module_version": "2.0.0",
      "model_name": "LayoutModel",
      "state": {}
     },
     "518ca10c8c014df59ac37977a120009a": {
      "model_module": "@jupyter-widgets/base",
      "model_module_version": "2.0.0",
      "model_name": "LayoutModel",
      "state": {}
     },
     "51d4990b834e41e19cbdc7d9cb886955": {
      "model_module": "@jupyter-widgets/controls",
      "model_module_version": "2.0.0",
      "model_name": "FloatProgressModel",
      "state": {
       "bar_style": "success",
       "layout": "IPY_MODEL_dd75507cac6145a7b1258420af226958",
       "max": 14,
       "style": "IPY_MODEL_d1e5c25a04924cee99ee18068747cb62",
       "value": 14
      }
     },
     "51dbac0fa1034e47987d527ba0e445ec": {
      "model_module": "jupyter-matplotlib",
      "model_module_version": "^0.11",
      "model_name": "ToolbarModel",
      "state": {
       "_model_module_version": "^0.11",
       "_view_module_version": "^0.11",
       "collapsed": true,
       "layout": "IPY_MODEL_3664bc9aed18429d84638fb2b45f4528",
       "orientation": "vertical",
       "toolitems": [
        [
         "Home",
         "Reset original view",
         "home",
         "home"
        ],
        [
         "Back",
         "Back to previous view",
         "arrow-left",
         "back"
        ],
        [
         "Forward",
         "Forward to next view",
         "arrow-right",
         "forward"
        ],
        [
         "Pan",
         "Left button pans, Right button zooms\nx/y fixes axis, CTRL fixes aspect",
         "arrows",
         "pan"
        ],
        [
         "Zoom",
         "Zoom to rectangle\nx/y fixes axis",
         "square-o",
         "zoom"
        ],
        [
         "Download",
         "Download plot",
         "floppy-o",
         "save_figure"
        ]
       ]
      }
     },
     "5326eb3168164f86b2bd23a3bab01d56": {
      "model_module": "jupyter-matplotlib",
      "model_module_version": "^0.11",
      "model_name": "ToolbarModel",
      "state": {
       "_model_module_version": "^0.11",
       "_view_module_version": "^0.11",
       "collapsed": true,
       "layout": "IPY_MODEL_c71d90c98a7941858863a5471a9abdbb",
       "orientation": "vertical",
       "toolitems": [
        [
         "Home",
         "Reset original view",
         "home",
         "home"
        ],
        [
         "Back",
         "Back to previous view",
         "arrow-left",
         "back"
        ],
        [
         "Forward",
         "Forward to next view",
         "arrow-right",
         "forward"
        ],
        [
         "Pan",
         "Left button pans, Right button zooms\nx/y fixes axis, CTRL fixes aspect",
         "arrows",
         "pan"
        ],
        [
         "Zoom",
         "Zoom to rectangle\nx/y fixes axis",
         "square-o",
         "zoom"
        ],
        [
         "Download",
         "Download plot",
         "floppy-o",
         "save_figure"
        ]
       ]
      }
     },
     "54464a82a53c4e1cac946f33f2cd376c": {
      "model_module": "@jupyter-widgets/controls",
      "model_module_version": "2.0.0",
      "model_name": "TextStyleModel",
      "state": {
       "description_width": "",
       "font_size": null,
       "text_color": null
      }
     },
     "569547c582874ac69d23a491bee40d8b": {
      "model_module": "@jupyter-widgets/base",
      "model_module_version": "2.0.0",
      "model_name": "LayoutModel",
      "state": {}
     },
     "56dbc53a01ea4942a479069fc455c745": {
      "model_module": "@jupyter-widgets/base",
      "model_module_version": "2.0.0",
      "model_name": "LayoutModel",
      "state": {}
     },
     "56e65ab1c9334233a1192a62720e0928": {
      "model_module": "@jupyter-widgets/base",
      "model_module_version": "2.0.0",
      "model_name": "LayoutModel",
      "state": {}
     },
     "574ba0cb734e471687a9779646d50337": {
      "model_module": "@jupyter-widgets/base",
      "model_module_version": "2.0.0",
      "model_name": "LayoutModel",
      "state": {}
     },
     "582dbb4163dd40b697fbcde76a91b637": {
      "model_module": "@jupyter-widgets/controls",
      "model_module_version": "2.0.0",
      "model_name": "IntProgressModel",
      "state": {
       "description": "Stacking pings",
       "layout": "IPY_MODEL_96b952f157474257bd76feee525674b8",
       "max": 10,
       "style": "IPY_MODEL_3a8fa162baed4711b6293cd3ef63440c",
       "value": 10
      }
     },
     "58331eda75124d09a83c4b2e2f826158": {
      "model_module": "@jupyter-widgets/base",
      "model_module_version": "2.0.0",
      "model_name": "LayoutModel",
      "state": {}
     },
     "59675b8cbbec4e3395e4da5fc7383bdf": {
      "model_module": "@jupyter-widgets/controls",
      "model_module_version": "2.0.0",
      "model_name": "DescriptionStyleModel",
      "state": {
       "description_width": ""
      }
     },
     "5976dd270bcf44009e0f9474e41d6618": {
      "model_module": "@jupyter-widgets/controls",
      "model_module_version": "2.0.0",
      "model_name": "ProgressStyleModel",
      "state": {
       "description_width": ""
      }
     },
     "597c0854a35e4054a190d72c28e080a0": {
      "model_module": "@jupyter-widgets/controls",
      "model_module_version": "2.0.0",
      "model_name": "ButtonModel",
      "state": {
       "button_style": "success",
       "description": "fix x/y",
       "layout": "IPY_MODEL_0110c3f311ea401985602a5f206aa011",
       "style": "IPY_MODEL_02de096304454d7e9606bb2f32dec1f0",
       "tooltip": null
      }
     },
     "5b20fdd260b04e3eb1c3ee924fe238b9": {
      "model_module": "jupyter-matplotlib",
      "model_module_version": "^0.11",
      "model_name": "ToolbarModel",
      "state": {
       "_current_action": "zoom",
       "_model_module_version": "^0.11",
       "_view_module_version": "^0.11",
       "collapsed": true,
       "layout": "IPY_MODEL_67fc05b171424b70a7c596d9e2ea2cb0",
       "orientation": "vertical",
       "toolitems": [
        [
         "Home",
         "Reset original view",
         "home",
         "home"
        ],
        [
         "Back",
         "Back to previous view",
         "arrow-left",
         "back"
        ],
        [
         "Forward",
         "Forward to next view",
         "arrow-right",
         "forward"
        ],
        [
         "Pan",
         "Left button pans, Right button zooms\nx/y fixes axis, CTRL fixes aspect",
         "arrows",
         "pan"
        ],
        [
         "Zoom",
         "Zoom to rectangle\nx/y fixes axis",
         "square-o",
         "zoom"
        ],
        [
         "Download",
         "Download plot",
         "floppy-o",
         "save_figure"
        ]
       ]
      }
     },
     "5c9b438e4a9a4441b327f1763f1eeb41": {
      "model_module": "@jupyter-widgets/base",
      "model_module_version": "2.0.0",
      "model_name": "LayoutModel",
      "state": {}
     },
     "5d01722394104bcc8841e5d7793880c3": {
      "model_module": "@jupyter-widgets/base",
      "model_module_version": "2.0.0",
      "model_name": "LayoutModel",
      "state": {}
     },
     "5d92657f376c43e394b0b6cf907c26da": {
      "model_module": "@jupyter-widgets/base",
      "model_module_version": "2.0.0",
      "model_name": "LayoutModel",
      "state": {}
     },
     "610579b07c284c4cbd04375ba8aeac9a": {
      "model_module": "@jupyter-widgets/base",
      "model_module_version": "2.0.0",
      "model_name": "LayoutModel",
      "state": {}
     },
     "63ac6bf2bd6540a0a6b6c6f0e6023609": {
      "model_module": "@jupyter-widgets/controls",
      "model_module_version": "2.0.0",
      "model_name": "TextModel",
      "state": {
       "layout": "IPY_MODEL_2d5cfaa1c0e94f0fa60fed611a18e317",
       "style": "IPY_MODEL_c68b91664c0c410384a0b2a530435a4e",
       "value": "2024-07-26"
      }
     },
     "63eb3a448c9045339a88d8923fea1630": {
      "model_module": "@jupyter-widgets/base",
      "model_module_version": "2.0.0",
      "model_name": "LayoutModel",
      "state": {}
     },
     "642cdca4a0dd447597223e24c559e046": {
      "model_module": "@jupyter-widgets/controls",
      "model_module_version": "2.0.0",
      "model_name": "HBoxModel",
      "state": {
       "children": [
        "IPY_MODEL_f8b9cc9228684ce4959dec4ba99a8c32",
        "IPY_MODEL_165a057d522b426dac75a5a7c096b402",
        "IPY_MODEL_c0066e21c23140c5b7c5c4d7a018f8a0",
        "IPY_MODEL_9ac19feb1a6e47a7a5f7bc4f0bc286fb"
       ],
       "layout": "IPY_MODEL_829787e3bdae4a0c88240babcd76107a"
      }
     },
     "64730a5a5c8e47d09517ddc96eecc69b": {
      "model_module": "@jupyter-widgets/base",
      "model_module_version": "2.0.0",
      "model_name": "LayoutModel",
      "state": {}
     },
     "65baf23665e540c6aee78b3c8913fc29": {
      "model_module": "@jupyter-widgets/base",
      "model_module_version": "2.0.0",
      "model_name": "LayoutModel",
      "state": {}
     },
     "66fd53e4f0364b92a07a38bba159c08a": {
      "model_module": "jupyter-matplotlib",
      "model_module_version": "^0.11",
      "model_name": "ToolbarModel",
      "state": {
       "_current_action": "zoom",
       "_model_module_version": "^0.11",
       "_view_module_version": "^0.11",
       "collapsed": true,
       "layout": "IPY_MODEL_c4050b4c8f67437893ce751124e6eeb2",
       "orientation": "vertical",
       "toolitems": [
        [
         "Home",
         "Reset original view",
         "home",
         "home"
        ],
        [
         "Back",
         "Back to previous view",
         "arrow-left",
         "back"
        ],
        [
         "Forward",
         "Forward to next view",
         "arrow-right",
         "forward"
        ],
        [
         "Pan",
         "Left button pans, Right button zooms\nx/y fixes axis, CTRL fixes aspect",
         "arrows",
         "pan"
        ],
        [
         "Zoom",
         "Zoom to rectangle\nx/y fixes axis",
         "square-o",
         "zoom"
        ],
        [
         "Download",
         "Download plot",
         "floppy-o",
         "save_figure"
        ]
       ]
      }
     },
     "67fc05b171424b70a7c596d9e2ea2cb0": {
      "model_module": "@jupyter-widgets/base",
      "model_module_version": "2.0.0",
      "model_name": "LayoutModel",
      "state": {}
     },
     "684c1135770840ec9746bade1dca4f46": {
      "model_module": "jupyter-matplotlib",
      "model_module_version": "^0.11",
      "model_name": "MPLCanvasModel",
      "state": {
       "_cursor": "default",
       "_data_url": "data:image/png;base64,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",
       "_figure_label": "WCI",
       "_image_mode": "diff",
       "_model_module_version": "^0.11",
       "_rubberband_y": 390,
       "_size": [
        1132,
        389
       ],
       "_view_module_version": "^0.11",
       "layout": "IPY_MODEL_913687fcd11b4408947d64627eaed39d",
       "toolbar": "IPY_MODEL_e8465946908a4b858abd1852aa2dcb67",
       "toolbar_position": "left"
      }
     },
     "68f0110a5fc34d60af153be000b2c79c": {
      "model_module": "@jupyter-widgets/base",
      "model_module_version": "2.0.0",
      "model_name": "LayoutModel",
      "state": {}
     },
     "69eda1d8307148c6ac69e3a1a6ac0afe": {
      "model_module": "@jupyter-widgets/base",
      "model_module_version": "2.0.0",
      "model_name": "LayoutModel",
      "state": {}
     },
     "6a0fe3deab5e491e8bb1c90f6df92bce": {
      "model_module": "jupyter-matplotlib",
      "model_module_version": "^0.11",
      "model_name": "ToolbarModel",
      "state": {
       "_model_module_version": "^0.11",
       "_view_module_version": "^0.11",
       "collapsed": true,
       "layout": "IPY_MODEL_a5fdc619f37c44baa889f48dc969527e",
       "orientation": "vertical",
       "toolitems": [
        [
         "Home",
         "Reset original view",
         "home",
         "home"
        ],
        [
         "Back",
         "Back to previous view",
         "arrow-left",
         "back"
        ],
        [
         "Forward",
         "Forward to next view",
         "arrow-right",
         "forward"
        ],
        [
         "Pan",
         "Left button pans, Right button zooms\nx/y fixes axis, CTRL fixes aspect",
         "arrows",
         "pan"
        ],
        [
         "Zoom",
         "Zoom to rectangle\nx/y fixes axis",
         "square-o",
         "zoom"
        ],
        [
         "Download",
         "Download plot",
         "floppy-o",
         "save_figure"
        ]
       ]
      }
     },
     "6a5350be77ac4a7f89f933b80c8d37e0": {
      "model_module": "@jupyter-widgets/base",
      "model_module_version": "2.0.0",
      "model_name": "LayoutModel",
      "state": {}
     },
     "6a6a97bdd1014e408812dd5a3026a8d0": {
      "model_module": "@jupyter-widgets/base",
      "model_module_version": "2.0.0",
      "model_name": "LayoutModel",
      "state": {}
     },
     "6b04348eebf441a5a6abab5778737b80": {
      "model_module": "@jupyter-widgets/base",
      "model_module_version": "2.0.0",
      "model_name": "LayoutModel",
      "state": {}
     },
     "6c40e7db432f4d009d0a31bc9d0395c0": {
      "model_module": "@jupyter-widgets/base",
      "model_module_version": "2.0.0",
      "model_name": "LayoutModel",
      "state": {}
     },
     "6c718273327e41d6859f448ca1fc8ac5": {
      "model_module": "jupyter-matplotlib",
      "model_module_version": "^0.11",
      "model_name": "ToolbarModel",
      "state": {
       "_model_module_version": "^0.11",
       "_view_module_version": "^0.11",
       "collapsed": true,
       "layout": "IPY_MODEL_0421505d439d4d889fcdccda9328b5f5",
       "orientation": "vertical",
       "toolitems": [
        [
         "Home",
         "Reset original view",
         "home",
         "home"
        ],
        [
         "Back",
         "Back to previous view",
         "arrow-left",
         "back"
        ],
        [
         "Forward",
         "Forward to next view",
         "arrow-right",
         "forward"
        ],
        [
         "Pan",
         "Left button pans, Right button zooms\nx/y fixes axis, CTRL fixes aspect",
         "arrows",
         "pan"
        ],
        [
         "Zoom",
         "Zoom to rectangle\nx/y fixes axis",
         "square-o",
         "zoom"
        ],
        [
         "Download",
         "Download plot",
         "floppy-o",
         "save_figure"
        ]
       ]
      }
     },
     "6d89f007a2de4eb1a1f820cfcbbaa897": {
      "model_module": "jupyter-matplotlib",
      "model_module_version": "^0.11",
      "model_name": "ToolbarModel",
      "state": {
       "_model_module_version": "^0.11",
       "_view_module_version": "^0.11",
       "collapsed": true,
       "layout": "IPY_MODEL_3f5460d4266d41218c68393895168758",
       "orientation": "vertical",
       "toolitems": [
        [
         "Home",
         "Reset original view",
         "home",
         "home"
        ],
        [
         "Back",
         "Back to previous view",
         "arrow-left",
         "back"
        ],
        [
         "Forward",
         "Forward to next view",
         "arrow-right",
         "forward"
        ],
        [
         "Pan",
         "Left button pans, Right button zooms\nx/y fixes axis, CTRL fixes aspect",
         "arrows",
         "pan"
        ],
        [
         "Zoom",
         "Zoom to rectangle\nx/y fixes axis",
         "square-o",
         "zoom"
        ],
        [
         "Download",
         "Download plot",
         "floppy-o",
         "save_figure"
        ]
       ]
      }
     },
     "6db79442185a4b22a6f26f2fb9c6a147": {
      "model_module": "@jupyter-widgets/controls",
      "model_module_version": "2.0.0",
      "model_name": "DescriptionStyleModel",
      "state": {
       "description_width": ""
      }
     },
     "6de601d611334a61b08bce1b7c5dcb7f": {
      "model_module": "@jupyter-widgets/base",
      "model_module_version": "2.0.0",
      "model_name": "LayoutModel",
      "state": {}
     },
     "6df14059e68446e1addc6a8a4ce7da43": {
      "model_module": "@jupyter-widgets/controls",
      "model_module_version": "2.0.0",
      "model_name": "ButtonStyleModel",
      "state": {
       "font_family": null,
       "font_size": null,
       "font_style": null,
       "font_variant": null,
       "font_weight": null,
       "text_color": null,
       "text_decoration": null
      }
     },
     "6e523a5df9a54b6099fb0edce1e35ecb": {
      "model_module": "@jupyter-widgets/base",
      "model_module_version": "2.0.0",
      "model_name": "LayoutModel",
      "state": {}
     },
     "7166596da1244dbe9136a0c8aae64192": {
      "model_module": "@jupyter-widgets/controls",
      "model_module_version": "2.0.0",
      "model_name": "HBoxModel",
      "state": {
       "children": [
        "IPY_MODEL_38d245ee8fe94e8d94e5c4ffaac05f7b",
        "IPY_MODEL_51d4990b834e41e19cbdc7d9cb886955",
        "IPY_MODEL_091f72f54aba41efa97db428523ba0a7"
       ],
       "layout": "IPY_MODEL_238c68a78ddf4fcabc63fdc1edd96e2a"
      }
     },
     "721466c424744c7a99080bac5a8bd1f3": {
      "model_module": "@jupyter-widgets/base",
      "model_module_version": "2.0.0",
      "model_name": "LayoutModel",
      "state": {}
     },
     "723526b2115f4806ae8424e4711f790e": {
      "model_module": "@jupyter-widgets/base",
      "model_module_version": "2.0.0",
      "model_name": "LayoutModel",
      "state": {}
     },
     "72fb2e0467fe462697735c4028069d5b": {
      "model_module": "@jupyter-widgets/base",
      "model_module_version": "2.0.0",
      "model_name": "LayoutModel",
      "state": {}
     },
     "7436380494ee447da420aac70d4b66db": {
      "model_module": "jupyter-matplotlib",
      "model_module_version": "^0.11",
      "model_name": "ToolbarModel",
      "state": {
       "_current_action": "zoom",
       "_model_module_version": "^0.11",
       "_view_module_version": "^0.11",
       "collapsed": true,
       "layout": "IPY_MODEL_7b443bf33c94442996581bd7cc669be9",
       "orientation": "vertical",
       "toolitems": [
        [
         "Home",
         "Reset original view",
         "home",
         "home"
        ],
        [
         "Back",
         "Back to previous view",
         "arrow-left",
         "back"
        ],
        [
         "Forward",
         "Forward to next view",
         "arrow-right",
         "forward"
        ],
        [
         "Pan",
         "Left button pans, Right button zooms\nx/y fixes axis, CTRL fixes aspect",
         "arrows",
         "pan"
        ],
        [
         "Zoom",
         "Zoom to rectangle\nx/y fixes axis",
         "square-o",
         "zoom"
        ],
        [
         "Download",
         "Download plot",
         "floppy-o",
         "save_figure"
        ]
       ]
      }
     },
     "75f2652c9cc645d5b8f2639039a33937": {
      "model_module": "@jupyter-widgets/base",
      "model_module_version": "2.0.0",
      "model_name": "LayoutModel",
      "state": {}
     },
     "780544bd03f1427fbb8e0e49d5640711": {
      "model_module": "@jupyter-widgets/base",
      "model_module_version": "2.0.0",
      "model_name": "LayoutModel",
      "state": {}
     },
     "78a6d243b5b04db4be82b2dfcd41b97b": {
      "model_module": "@jupyter-widgets/controls",
      "model_module_version": "2.0.0",
      "model_name": "DescriptionStyleModel",
      "state": {
       "description_width": ""
      }
     },
     "7b443bf33c94442996581bd7cc669be9": {
      "model_module": "@jupyter-widgets/base",
      "model_module_version": "2.0.0",
      "model_name": "LayoutModel",
      "state": {}
     },
     "7bb932e29d3844f9879b5cf3aaa5e3f9": {
      "model_module": "@jupyter-widgets/controls",
      "model_module_version": "2.0.0",
      "model_name": "IntTextModel",
      "state": {
       "description": "stack:",
       "layout": "IPY_MODEL_9318aab93d3242e8aacc4a8bab24a1be",
       "step": 1,
       "style": "IPY_MODEL_78a6d243b5b04db4be82b2dfcd41b97b",
       "value": 10
      }
     },
     "7d7c7bb2e86e4f8babe4b67a877d33bb": {
      "model_module": "@jupyter-widgets/base",
      "model_module_version": "2.0.0",
      "model_name": "LayoutModel",
      "state": {}
     },
     "7e7b0e83dcd9450d9664e4af16613dc6": {
      "model_module": "jupyter-matplotlib",
      "model_module_version": "^0.11",
      "model_name": "ToolbarModel",
      "state": {
       "_model_module_version": "^0.11",
       "_view_module_version": "^0.11",
       "collapsed": true,
       "layout": "IPY_MODEL_10608b84f03f4557828f240f69bcbe65",
       "orientation": "vertical",
       "toolitems": [
        [
         "Home",
         "Reset original view",
         "home",
         "home"
        ],
        [
         "Back",
         "Back to previous view",
         "arrow-left",
         "back"
        ],
        [
         "Forward",
         "Forward to next view",
         "arrow-right",
         "forward"
        ],
        [
         "Pan",
         "Left button pans, Right button zooms\nx/y fixes axis, CTRL fixes aspect",
         "arrows",
         "pan"
        ],
        [
         "Zoom",
         "Zoom to rectangle\nx/y fixes axis",
         "square-o",
         "zoom"
        ],
        [
         "Download",
         "Download plot",
         "floppy-o",
         "save_figure"
        ]
       ]
      }
     },
     "7ecb1fca4bf44810bffaffd2d87d700f": {
      "model_module": "@jupyter-widgets/base",
      "model_module_version": "2.0.0",
      "model_name": "LayoutModel",
      "state": {}
     },
     "7edeb9f4507f48a681a948b6b5fc8848": {
      "model_module": "@jupyter-widgets/base",
      "model_module_version": "2.0.0",
      "model_name": "LayoutModel",
      "state": {}
     },
     "81ba577d359a4eb38986ec37b270e05e": {
      "model_module": "jupyter-matplotlib",
      "model_module_version": "^0.11",
      "model_name": "ToolbarModel",
      "state": {
       "_model_module_version": "^0.11",
       "_view_module_version": "^0.11",
       "collapsed": true,
       "layout": "IPY_MODEL_9ae286b14e394a2b87eea27c55c1da63",
       "orientation": "vertical",
       "toolitems": [
        [
         "Home",
         "Reset original view",
         "home",
         "home"
        ],
        [
         "Back",
         "Back to previous view",
         "arrow-left",
         "back"
        ],
        [
         "Forward",
         "Forward to next view",
         "arrow-right",
         "forward"
        ],
        [
         "Pan",
         "Left button pans, Right button zooms\nx/y fixes axis, CTRL fixes aspect",
         "arrows",
         "pan"
        ],
        [
         "Zoom",
         "Zoom to rectangle\nx/y fixes axis",
         "square-o",
         "zoom"
        ],
        [
         "Download",
         "Download plot",
         "floppy-o",
         "save_figure"
        ]
       ]
      }
     },
     "829787e3bdae4a0c88240babcd76107a": {
      "model_module": "@jupyter-widgets/base",
      "model_module_version": "2.0.0",
      "model_name": "LayoutModel",
      "state": {}
     },
     "82bd3594f70a43c6bfccfad8b29e07f0": {
      "model_module": "@jupyter-widgets/base",
      "model_module_version": "2.0.0",
      "model_name": "LayoutModel",
      "state": {}
     },
     "82f329b1acd444469046ecaa7b65c96b": {
      "model_module": "jupyter-matplotlib",
      "model_module_version": "^0.11",
      "model_name": "ToolbarModel",
      "state": {
       "_current_action": "zoom",
       "_model_module_version": "^0.11",
       "_view_module_version": "^0.11",
       "collapsed": true,
       "layout": "IPY_MODEL_eed8c4026a0e4024b44757f3063abeb8",
       "orientation": "vertical",
       "toolitems": [
        [
         "Home",
         "Reset original view",
         "home",
         "home"
        ],
        [
         "Back",
         "Back to previous view",
         "arrow-left",
         "back"
        ],
        [
         "Forward",
         "Forward to next view",
         "arrow-right",
         "forward"
        ],
        [
         "Pan",
         "Left button pans, Right button zooms\nx/y fixes axis, CTRL fixes aspect",
         "arrows",
         "pan"
        ],
        [
         "Zoom",
         "Zoom to rectangle\nx/y fixes axis",
         "square-o",
         "zoom"
        ],
        [
         "Download",
         "Download plot",
         "floppy-o",
         "save_figure"
        ]
       ]
      }
     },
     "8337089515da421fa9acd348a46450d4": {
      "model_module": "@jupyter-widgets/base",
      "model_module_version": "2.0.0",
      "model_name": "LayoutModel",
      "state": {}
     },
     "8478907ec15e48c88543a9e40f32dec5": {
      "model_module": "@jupyter-widgets/base",
      "model_module_version": "2.0.0",
      "model_name": "LayoutModel",
      "state": {}
     },
     "847e0d9f0bcf4aa89400da5c6d8ccfdd": {
      "model_module": "@jupyter-widgets/base",
      "model_module_version": "2.0.0",
      "model_name": "LayoutModel",
      "state": {}
     },
     "85643572d290448cbc15fe63fa7b8097": {
      "model_module": "@jupyter-widgets/controls",
      "model_module_version": "2.0.0",
      "model_name": "DropdownModel",
      "state": {
       "_options_labels": [
        "antialiased",
        "none",
        "nearest",
        "bilinear",
        "bicubic",
        "spline16",
        "spline36",
        "hanning",
        "hamming",
        "hermite",
        "kaiser",
        "quadric",
        "catrom",
        "gaussian",
        "bessel",
        "mitchell",
        "sinc",
        "lanczos",
        "blackman"
       ],
       "description": "interpolation",
       "index": 2,
       "layout": "IPY_MODEL_56dbc53a01ea4942a479069fc455c745",
       "style": "IPY_MODEL_59675b8cbbec4e3395e4da5fc7383bdf"
      }
     },
     "85808401505649988155b5fa8dc67e9e": {
      "model_module": "@jupyter-widgets/base",
      "model_module_version": "2.0.0",
      "model_name": "LayoutModel",
      "state": {}
     },
     "8632161290ce40758947fbd58a2ce3c5": {
      "model_module": "@jupyter-widgets/base",
      "model_module_version": "2.0.0",
      "model_name": "LayoutModel",
      "state": {}
     },
     "86e19c54b35045f085fcd2e217ddff15": {
      "model_module": "@jupyter-widgets/base",
      "model_module_version": "2.0.0",
      "model_name": "LayoutModel",
      "state": {}
     },
     "8951717ff9cc466c9f9c7d47db4a6592": {
      "model_module": "@jupyter-widgets/base",
      "model_module_version": "2.0.0",
      "model_name": "LayoutModel",
      "state": {}
     },
     "89939ad9890545578d13bc3601d952d9": {
      "model_module": "jupyter-matplotlib",
      "model_module_version": "^0.11",
      "model_name": "ToolbarModel",
      "state": {
       "_model_module_version": "^0.11",
       "_view_module_version": "^0.11",
       "collapsed": true,
       "layout": "IPY_MODEL_c54ad5f2dc8a4cf1b3f06ea52544652f",
       "orientation": "vertical",
       "toolitems": [
        [
         "Home",
         "Reset original view",
         "home",
         "home"
        ],
        [
         "Back",
         "Back to previous view",
         "arrow-left",
         "back"
        ],
        [
         "Forward",
         "Forward to next view",
         "arrow-right",
         "forward"
        ],
        [
         "Pan",
         "Left button pans, Right button zooms\nx/y fixes axis, CTRL fixes aspect",
         "arrows",
         "pan"
        ],
        [
         "Zoom",
         "Zoom to rectangle\nx/y fixes axis",
         "square-o",
         "zoom"
        ],
        [
         "Download",
         "Download plot",
         "floppy-o",
         "save_figure"
        ]
       ]
      }
     },
     "8bb28310b82b4390b7295b4075ab5eed": {
      "model_module": "jupyter-matplotlib",
      "model_module_version": "^0.11",
      "model_name": "ToolbarModel",
      "state": {
       "_model_module_version": "^0.11",
       "_view_module_version": "^0.11",
       "collapsed": true,
       "layout": "IPY_MODEL_d136676e181f42e9b0f6849aca3e7e3a",
       "orientation": "vertical",
       "toolitems": [
        [
         "Home",
         "Reset original view",
         "home",
         "home"
        ],
        [
         "Back",
         "Back to previous view",
         "arrow-left",
         "back"
        ],
        [
         "Forward",
         "Forward to next view",
         "arrow-right",
         "forward"
        ],
        [
         "Pan",
         "Left button pans, Right button zooms\nx/y fixes axis, CTRL fixes aspect",
         "arrows",
         "pan"
        ],
        [
         "Zoom",
         "Zoom to rectangle\nx/y fixes axis",
         "square-o",
         "zoom"
        ],
        [
         "Download",
         "Download plot",
         "floppy-o",
         "save_figure"
        ]
       ]
      }
     },
     "8cd2707f224d4def9d13f807e72af2bc": {
      "model_module": "@jupyter-widgets/base",
      "model_module_version": "2.0.0",
      "model_name": "LayoutModel",
      "state": {}
     },
     "8e92dc6b089c4e24aabf2298cec39958": {
      "model_module": "@jupyter-widgets/base",
      "model_module_version": "2.0.0",
      "model_name": "LayoutModel",
      "state": {}
     },
     "8f3e121050e746808b6b571a07c471c7": {
      "model_module": "@jupyter-widgets/controls",
      "model_module_version": "2.0.0",
      "model_name": "FloatSliderModel",
      "state": {
       "behavior": "drag-tap",
       "description": "vmax",
       "layout": "IPY_MODEL_33174f4c98e94f1d87e01072708e2077",
       "min": -150,
       "step": 5,
       "style": "IPY_MODEL_941b49919918471abf37742edbf523d9",
       "value": -25
      }
     },
     "8f786e49ca544563967f4901c20ca95e": {
      "model_module": "@jupyter-widgets/base",
      "model_module_version": "2.0.0",
      "model_name": "LayoutModel",
      "state": {}
     },
     "9000ca97aed944c8af33d0ff4abed387": {
      "model_module": "jupyter-matplotlib",
      "model_module_version": "^0.11",
      "model_name": "ToolbarModel",
      "state": {
       "_current_action": "zoom",
       "_model_module_version": "^0.11",
       "_view_module_version": "^0.11",
       "collapsed": true,
       "layout": "IPY_MODEL_d11906f4051548bb912d7c4e113956c5",
       "orientation": "vertical",
       "toolitems": [
        [
         "Home",
         "Reset original view",
         "home",
         "home"
        ],
        [
         "Back",
         "Back to previous view",
         "arrow-left",
         "back"
        ],
        [
         "Forward",
         "Forward to next view",
         "arrow-right",
         "forward"
        ],
        [
         "Pan",
         "Left button pans, Right button zooms\nx/y fixes axis, CTRL fixes aspect",
         "arrows",
         "pan"
        ],
        [
         "Zoom",
         "Zoom to rectangle\nx/y fixes axis",
         "square-o",
         "zoom"
        ],
        [
         "Download",
         "Download plot",
         "floppy-o",
         "save_figure"
        ]
       ]
      }
     },
     "913687fcd11b4408947d64627eaed39d": {
      "model_module": "@jupyter-widgets/base",
      "model_module_version": "2.0.0",
      "model_name": "LayoutModel",
      "state": {}
     },
     "925e711561344ccdadfb590b54af7b8b": {
      "model_module": "@jupyter-widgets/controls",
      "model_module_version": "2.0.0",
      "model_name": "SliderStyleModel",
      "state": {
       "description_width": ""
      }
     },
     "92fbc27a79ad451f8e50fd2931297ab8": {
      "model_module": "jupyter-matplotlib",
      "model_module_version": "^0.11",
      "model_name": "ToolbarModel",
      "state": {
       "_model_module_version": "^0.11",
       "_view_module_version": "^0.11",
       "collapsed": true,
       "layout": "IPY_MODEL_ea93e4678d9045349f3335b31db84c8d",
       "orientation": "vertical",
       "toolitems": [
        [
         "Home",
         "Reset original view",
         "home",
         "home"
        ],
        [
         "Back",
         "Back to previous view",
         "arrow-left",
         "back"
        ],
        [
         "Forward",
         "Forward to next view",
         "arrow-right",
         "forward"
        ],
        [
         "Pan",
         "Left button pans, Right button zooms\nx/y fixes axis, CTRL fixes aspect",
         "arrows",
         "pan"
        ],
        [
         "Zoom",
         "Zoom to rectangle\nx/y fixes axis",
         "square-o",
         "zoom"
        ],
        [
         "Download",
         "Download plot",
         "floppy-o",
         "save_figure"
        ]
       ]
      }
     },
     "9318aab93d3242e8aacc4a8bab24a1be": {
      "model_module": "@jupyter-widgets/base",
      "model_module_version": "2.0.0",
      "model_name": "LayoutModel",
      "state": {
       "width": "15%"
      }
     },
     "941b49919918471abf37742edbf523d9": {
      "model_module": "@jupyter-widgets/controls",
      "model_module_version": "2.0.0",
      "model_name": "SliderStyleModel",
      "state": {
       "description_width": ""
      }
     },
     "947d6fe7712f4712968df974df2f0128": {
      "model_module": "@jupyter-widgets/base",
      "model_module_version": "2.0.0",
      "model_name": "LayoutModel",
      "state": {}
     },
     "94d5138aebac46dfb5a2414a8b3d9d2f": {
      "model_module": "jupyter-matplotlib",
      "model_module_version": "^0.11",
      "model_name": "ToolbarModel",
      "state": {
       "_current_action": "zoom",
       "_model_module_version": "^0.11",
       "_view_module_version": "^0.11",
       "collapsed": true,
       "layout": "IPY_MODEL_2d076530c42c48cdbcde5a42a9d5b4d4",
       "orientation": "vertical",
       "toolitems": [
        [
         "Home",
         "Reset original view",
         "home",
         "home"
        ],
        [
         "Back",
         "Back to previous view",
         "arrow-left",
         "back"
        ],
        [
         "Forward",
         "Forward to next view",
         "arrow-right",
         "forward"
        ],
        [
         "Pan",
         "Left button pans, Right button zooms\nx/y fixes axis, CTRL fixes aspect",
         "arrows",
         "pan"
        ],
        [
         "Zoom",
         "Zoom to rectangle\nx/y fixes axis",
         "square-o",
         "zoom"
        ],
        [
         "Download",
         "Download plot",
         "floppy-o",
         "save_figure"
        ]
       ]
      }
     },
     "965ac411162a4caaa6b065c8cf2d2085": {
      "model_module": "jupyter-matplotlib",
      "model_module_version": "^0.11",
      "model_name": "ToolbarModel",
      "state": {
       "_current_action": "pan",
       "_model_module_version": "^0.11",
       "_view_module_version": "^0.11",
       "collapsed": true,
       "layout": "IPY_MODEL_574ba0cb734e471687a9779646d50337",
       "orientation": "vertical",
       "toolitems": [
        [
         "Home",
         "Reset original view",
         "home",
         "home"
        ],
        [
         "Back",
         "Back to previous view",
         "arrow-left",
         "back"
        ],
        [
         "Forward",
         "Forward to next view",
         "arrow-right",
         "forward"
        ],
        [
         "Pan",
         "Left button pans, Right button zooms\nx/y fixes axis, CTRL fixes aspect",
         "arrows",
         "pan"
        ],
        [
         "Zoom",
         "Zoom to rectangle\nx/y fixes axis",
         "square-o",
         "zoom"
        ],
        [
         "Download",
         "Download plot",
         "floppy-o",
         "save_figure"
        ]
       ]
      }
     },
     "96b952f157474257bd76feee525674b8": {
      "model_module": "@jupyter-widgets/base",
      "model_module_version": "2.0.0",
      "model_name": "LayoutModel",
      "state": {}
     },
     "97d3d68543834d2abf888394ba81575d": {
      "model_module": "@jupyter-widgets/controls",
      "model_module_version": "2.0.0",
      "model_name": "HBoxModel",
      "state": {
       "children": [
        "IPY_MODEL_ba3d03bccc8640bbbe2c5a595f960115",
        "IPY_MODEL_8f3e121050e746808b6b571a07c471c7",
        "IPY_MODEL_a6d2ea69e0e04619b013dda0d579a50c",
        "IPY_MODEL_85643572d290448cbc15fe63fa7b8097"
       ],
       "layout": "IPY_MODEL_65baf23665e540c6aee78b3c8913fc29"
      }
     },
     "988aef300da34f69bfbae8281e6396f2": {
      "model_module": "@jupyter-widgets/base",
      "model_module_version": "2.0.0",
      "model_name": "LayoutModel",
      "state": {
       "width": "15%"
      }
     },
     "98b2b639cd6941ce8db3b85842f60291": {
      "model_module": "@jupyter-widgets/base",
      "model_module_version": "2.0.0",
      "model_name": "LayoutModel",
      "state": {}
     },
     "9a4e14bddd9245b89239f1acfcb876b5": {
      "model_module": "@jupyter-widgets/base",
      "model_module_version": "2.0.0",
      "model_name": "LayoutModel",
      "state": {}
     },
     "9aa2fd90410e4ef2b82495779b904f82": {
      "model_module": "jupyter-matplotlib",
      "model_module_version": "^0.11",
      "model_name": "ToolbarModel",
      "state": {
       "_current_action": "zoom",
       "_model_module_version": "^0.11",
       "_view_module_version": "^0.11",
       "collapsed": true,
       "layout": "IPY_MODEL_58331eda75124d09a83c4b2e2f826158",
       "orientation": "vertical",
       "toolitems": [
        [
         "Home",
         "Reset original view",
         "home",
         "home"
        ],
        [
         "Back",
         "Back to previous view",
         "arrow-left",
         "back"
        ],
        [
         "Forward",
         "Forward to next view",
         "arrow-right",
         "forward"
        ],
        [
         "Pan",
         "Left button pans, Right button zooms\nx/y fixes axis, CTRL fixes aspect",
         "arrows",
         "pan"
        ],
        [
         "Zoom",
         "Zoom to rectangle\nx/y fixes axis",
         "square-o",
         "zoom"
        ],
        [
         "Download",
         "Download plot",
         "floppy-o",
         "save_figure"
        ]
       ]
      }
     },
     "9ac049e0c40a47ff8e6afea467843964": {
      "model_module": "jupyter-matplotlib",
      "model_module_version": "^0.11",
      "model_name": "ToolbarModel",
      "state": {
       "_model_module_version": "^0.11",
       "_view_module_version": "^0.11",
       "collapsed": true,
       "layout": "IPY_MODEL_9a4e14bddd9245b89239f1acfcb876b5",
       "orientation": "vertical",
       "toolitems": [
        [
         "Home",
         "Reset original view",
         "home",
         "home"
        ],
        [
         "Back",
         "Back to previous view",
         "arrow-left",
         "back"
        ],
        [
         "Forward",
         "Forward to next view",
         "arrow-right",
         "forward"
        ],
        [
         "Pan",
         "Left button pans, Right button zooms\nx/y fixes axis, CTRL fixes aspect",
         "arrows",
         "pan"
        ],
        [
         "Zoom",
         "Zoom to rectangle\nx/y fixes axis",
         "square-o",
         "zoom"
        ],
        [
         "Download",
         "Download plot",
         "floppy-o",
         "save_figure"
        ]
       ]
      }
     },
     "9ac19feb1a6e47a7a5f7bc4f0bc286fb": {
      "model_module": "@jupyter-widgets/controls",
      "model_module_version": "2.0.0",
      "model_name": "IntSliderModel",
      "state": {
       "behavior": "drag-tap",
       "description": "horizontal pixels",
       "layout": "IPY_MODEL_b09f37aecb0f431484bab117e74a4e67",
       "max": 2048,
       "min": 2,
       "style": "IPY_MODEL_fdd795d970f04e93b0ea90d0815482f8",
       "value": 645
      }
     },
     "9ae286b14e394a2b87eea27c55c1da63": {
      "model_module": "@jupyter-widgets/base",
      "model_module_version": "2.0.0",
      "model_name": "LayoutModel",
      "state": {}
     },
     "9e0df99fc07244878f898bc0729a7ca2": {
      "model_module": "@jupyter-widgets/base",
      "model_module_version": "2.0.0",
      "model_name": "LayoutModel",
      "state": {}
     },
     "a10f325e3af04b18bca10d6d6990ec80": {
      "model_module": "@jupyter-widgets/base",
      "model_module_version": "2.0.0",
      "model_name": "LayoutModel",
      "state": {}
     },
     "a37b7b42522e400f9d839b3ec8841bd2": {
      "model_module": "jupyter-matplotlib",
      "model_module_version": "^0.11",
      "model_name": "ToolbarModel",
      "state": {
       "_model_module_version": "^0.11",
       "_view_module_version": "^0.11",
       "collapsed": true,
       "layout": "IPY_MODEL_2041a61cc4c447688f3345f75bf1a544",
       "orientation": "vertical",
       "toolitems": [
        [
         "Home",
         "Reset original view",
         "home",
         "home"
        ],
        [
         "Back",
         "Back to previous view",
         "arrow-left",
         "back"
        ],
        [
         "Forward",
         "Forward to next view",
         "arrow-right",
         "forward"
        ],
        [
         "Pan",
         "Left button pans, Right button zooms\nx/y fixes axis, CTRL fixes aspect",
         "arrows",
         "pan"
        ],
        [
         "Zoom",
         "Zoom to rectangle\nx/y fixes axis",
         "square-o",
         "zoom"
        ],
        [
         "Download",
         "Download plot",
         "floppy-o",
         "save_figure"
        ]
       ]
      }
     },
     "a46877e93884427f84f3e84349e5eaea": {
      "model_module": "@jupyter-widgets/controls",
      "model_module_version": "2.0.0",
      "model_name": "HBoxModel",
      "state": {
       "children": [
        "IPY_MODEL_0ef4575ab409471a8c7f8ddd3c89c6f9",
        "IPY_MODEL_4988afc3fa78482286ae402278a4a739",
        "IPY_MODEL_f5a283811ded42dfa1d66b9aeaca94f0"
       ],
       "layout": "IPY_MODEL_8f786e49ca544563967f4901c20ca95e"
      }
     },
     "a5fdc619f37c44baa889f48dc969527e": {
      "model_module": "@jupyter-widgets/base",
      "model_module_version": "2.0.0",
      "model_name": "LayoutModel",
      "state": {}
     },
     "a6646a3fc98541b7b3cceb727ddcf80a": {
      "model_module": "@jupyter-widgets/base",
      "model_module_version": "2.0.0",
      "model_name": "LayoutModel",
      "state": {}
     },
     "a6d2ea69e0e04619b013dda0d579a50c": {
      "model_module": "@jupyter-widgets/controls",
      "model_module_version": "2.0.0",
      "model_name": "DropdownModel",
      "state": {
       "_options_labels": [
        "auto",
        "equal"
       ],
       "description": "aspect",
       "index": 1,
       "layout": "IPY_MODEL_2537a19120e245f49673631809ea8619",
       "style": "IPY_MODEL_ad8c82c72d9a43ad99cc2ebcc6b6aad8"
      }
     },
     "a940cdc53b8e47078467f6c5882b9df3": {
      "model_module": "jupyter-matplotlib",
      "model_module_version": "^0.11",
      "model_name": "ToolbarModel",
      "state": {
       "_model_module_version": "^0.11",
       "_view_module_version": "^0.11",
       "collapsed": true,
       "layout": "IPY_MODEL_7d7c7bb2e86e4f8babe4b67a877d33bb",
       "orientation": "vertical",
       "toolitems": [
        [
         "Home",
         "Reset original view",
         "home",
         "home"
        ],
        [
         "Back",
         "Back to previous view",
         "arrow-left",
         "back"
        ],
        [
         "Forward",
         "Forward to next view",
         "arrow-right",
         "forward"
        ],
        [
         "Pan",
         "Left button pans, Right button zooms\nx/y fixes axis, CTRL fixes aspect",
         "arrows",
         "pan"
        ],
        [
         "Zoom",
         "Zoom to rectangle\nx/y fixes axis",
         "square-o",
         "zoom"
        ],
        [
         "Download",
         "Download plot",
         "floppy-o",
         "save_figure"
        ]
       ]
      }
     },
     "ab12891583564898850b6e9c7626f7eb": {
      "model_module": "@jupyter-widgets/base",
      "model_module_version": "2.0.0",
      "model_name": "LayoutModel",
      "state": {}
     },
     "ad06123cc55e4f7f947a2aa53f03cf45": {
      "model_module": "@jupyter-widgets/base",
      "model_module_version": "2.0.0",
      "model_name": "LayoutModel",
      "state": {}
     },
     "ad260b44780d43039109ecc78e1df921": {
      "model_module": "@jupyter-widgets/base",
      "model_module_version": "2.0.0",
      "model_name": "LayoutModel",
      "state": {}
     },
     "ad8c82c72d9a43ad99cc2ebcc6b6aad8": {
      "model_module": "@jupyter-widgets/controls",
      "model_module_version": "2.0.0",
      "model_name": "DescriptionStyleModel",
      "state": {
       "description_width": ""
      }
     },
     "ae4c50a45cbd4db8865bd1feb11a805e": {
      "model_module": "@jupyter-widgets/base",
      "model_module_version": "2.0.0",
      "model_name": "LayoutModel",
      "state": {}
     },
     "ae60d76adb4548f192e0f4ff041f3230": {
      "model_module": "@jupyter-widgets/base",
      "model_module_version": "2.0.0",
      "model_name": "LayoutModel",
      "state": {}
     },
     "aef191dd5e144db199dace9292811b4c": {
      "model_module": "jupyter-matplotlib",
      "model_module_version": "^0.11",
      "model_name": "ToolbarModel",
      "state": {
       "_model_module_version": "^0.11",
       "_view_module_version": "^0.11",
       "collapsed": true,
       "layout": "IPY_MODEL_c63c8e30e89f4e108d3dd06faa23aee3",
       "orientation": "vertical",
       "toolitems": [
        [
         "Home",
         "Reset original view",
         "home",
         "home"
        ],
        [
         "Back",
         "Back to previous view",
         "arrow-left",
         "back"
        ],
        [
         "Forward",
         "Forward to next view",
         "arrow-right",
         "forward"
        ],
        [
         "Pan",
         "Left button pans, Right button zooms\nx/y fixes axis, CTRL fixes aspect",
         "arrows",
         "pan"
        ],
        [
         "Zoom",
         "Zoom to rectangle\nx/y fixes axis",
         "square-o",
         "zoom"
        ],
        [
         "Download",
         "Download plot",
         "floppy-o",
         "save_figure"
        ]
       ]
      }
     },
     "afaddf64ccc44e5cbcd52617ddd5659b": {
      "model_module": "jupyter-matplotlib",
      "model_module_version": "^0.11",
      "model_name": "ToolbarModel",
      "state": {
       "_model_module_version": "^0.11",
       "_view_module_version": "^0.11",
       "collapsed": true,
       "layout": "IPY_MODEL_56e65ab1c9334233a1192a62720e0928",
       "orientation": "vertical",
       "toolitems": [
        [
         "Home",
         "Reset original view",
         "home",
         "home"
        ],
        [
         "Back",
         "Back to previous view",
         "arrow-left",
         "back"
        ],
        [
         "Forward",
         "Forward to next view",
         "arrow-right",
         "forward"
        ],
        [
         "Pan",
         "Left button pans, Right button zooms\nx/y fixes axis, CTRL fixes aspect",
         "arrows",
         "pan"
        ],
        [
         "Zoom",
         "Zoom to rectangle\nx/y fixes axis",
         "square-o",
         "zoom"
        ],
        [
         "Download",
         "Download plot",
         "floppy-o",
         "save_figure"
        ]
       ]
      }
     },
     "b09f37aecb0f431484bab117e74a4e67": {
      "model_module": "@jupyter-widgets/base",
      "model_module_version": "2.0.0",
      "model_name": "LayoutModel",
      "state": {}
     },
     "b0e15997148b430da6c4f5b76aff0f56": {
      "model_module": "jupyter-matplotlib",
      "model_module_version": "^0.11",
      "model_name": "ToolbarModel",
      "state": {
       "_model_module_version": "^0.11",
       "_view_module_version": "^0.11",
       "collapsed": true,
       "layout": "IPY_MODEL_85808401505649988155b5fa8dc67e9e",
       "orientation": "vertical",
       "toolitems": [
        [
         "Home",
         "Reset original view",
         "home",
         "home"
        ],
        [
         "Back",
         "Back to previous view",
         "arrow-left",
         "back"
        ],
        [
         "Forward",
         "Forward to next view",
         "arrow-right",
         "forward"
        ],
        [
         "Pan",
         "Left button pans, Right button zooms\nx/y fixes axis, CTRL fixes aspect",
         "arrows",
         "pan"
        ],
        [
         "Zoom",
         "Zoom to rectangle\nx/y fixes axis",
         "square-o",
         "zoom"
        ],
        [
         "Download",
         "Download plot",
         "floppy-o",
         "save_figure"
        ]
       ]
      }
     },
     "b1f253f1bf1a4c3fa184e8e7fd6bc569": {
      "model_module": "@jupyter-widgets/controls",
      "model_module_version": "2.0.0",
      "model_name": "ButtonModel",
      "state": {
       "description": "unfix x/y",
       "layout": "IPY_MODEL_c2e504a89c9d481994d77c0294e670aa",
       "style": "IPY_MODEL_6df14059e68446e1addc6a8a4ce7da43",
       "tooltip": null
      }
     },
     "b4963b7f4ef945948314d79c40f5e87e": {
      "model_module": "@jupyter-widgets/base",
      "model_module_version": "2.0.0",
      "model_name": "LayoutModel",
      "state": {}
     },
     "b53fc34c718f42e8bada456bae93c551": {
      "model_module": "@jupyter-widgets/base",
      "model_module_version": "2.0.0",
      "model_name": "LayoutModel",
      "state": {
       "width": "50%"
      }
     },
     "b5c980e2b2a34dd583f131d33ba92a5f": {
      "model_module": "@jupyter-widgets/controls",
      "model_module_version": "2.0.0",
      "model_name": "HBoxModel",
      "state": {
       "children": [
        "IPY_MODEL_582dbb4163dd40b697fbcde76a91b637",
        "IPY_MODEL_597c0854a35e4054a190d72c28e080a0",
        "IPY_MODEL_b1f253f1bf1a4c3fa184e8e7fd6bc569",
        "IPY_MODEL_b8f89c8c51c04ec8901a08c3fd568a90",
        "IPY_MODEL_d80bdd5a13144d2889e9d97bd32ee557"
       ],
       "layout": "IPY_MODEL_518ca10c8c014df59ac37977a120009a"
      }
     },
     "b68f18606cdc4a32a0ab933645133ae2": {
      "model_module": "@jupyter-widgets/controls",
      "model_module_version": "2.0.0",
      "model_name": "DescriptionStyleModel",
      "state": {
       "description_width": ""
      }
     },
     "b6c5c878ecec42e4bb2034ad33485622": {
      "model_module": "jupyter-matplotlib",
      "model_module_version": "^0.11",
      "model_name": "ToolbarModel",
      "state": {
       "_model_module_version": "^0.11",
       "_view_module_version": "^0.11",
       "collapsed": true,
       "layout": "IPY_MODEL_8cd2707f224d4def9d13f807e72af2bc",
       "orientation": "vertical",
       "toolitems": [
        [
         "Home",
         "Reset original view",
         "home",
         "home"
        ],
        [
         "Back",
         "Back to previous view",
         "arrow-left",
         "back"
        ],
        [
         "Forward",
         "Forward to next view",
         "arrow-right",
         "forward"
        ],
        [
         "Pan",
         "Left button pans, Right button zooms\nx/y fixes axis, CTRL fixes aspect",
         "arrows",
         "pan"
        ],
        [
         "Zoom",
         "Zoom to rectangle\nx/y fixes axis",
         "square-o",
         "zoom"
        ],
        [
         "Download",
         "Download plot",
         "floppy-o",
         "save_figure"
        ]
       ]
      }
     },
     "b6fee323e4d4453280349a97365aafdc": {
      "model_module": "jupyter-matplotlib",
      "model_module_version": "^0.11",
      "model_name": "ToolbarModel",
      "state": {
       "_model_module_version": "^0.11",
       "_view_module_version": "^0.11",
       "collapsed": true,
       "layout": "IPY_MODEL_fa4c7bece22a4a5e842e68e8b3459e22",
       "orientation": "vertical",
       "toolitems": [
        [
         "Home",
         "Reset original view",
         "home",
         "home"
        ],
        [
         "Back",
         "Back to previous view",
         "arrow-left",
         "back"
        ],
        [
         "Forward",
         "Forward to next view",
         "arrow-right",
         "forward"
        ],
        [
         "Pan",
         "Left button pans, Right button zooms\nx/y fixes axis, CTRL fixes aspect",
         "arrows",
         "pan"
        ],
        [
         "Zoom",
         "Zoom to rectangle\nx/y fixes axis",
         "square-o",
         "zoom"
        ],
        [
         "Download",
         "Download plot",
         "floppy-o",
         "save_figure"
        ]
       ]
      }
     },
     "b8f89c8c51c04ec8901a08c3fd568a90": {
      "model_module": "@jupyter-widgets/controls",
      "model_module_version": "2.0.0",
      "model_name": "TextModel",
      "state": {
       "description": "proc time",
       "layout": "IPY_MODEL_68f0110a5fc34d60af153be000b2c79c",
       "style": "IPY_MODEL_54464a82a53c4e1cac946f33f2cd376c",
       "value": "0.269 / 0.033 / [0.303] s"
      }
     },
     "ba3d03bccc8640bbbe2c5a595f960115": {
      "model_module": "@jupyter-widgets/controls",
      "model_module_version": "2.0.0",
      "model_name": "FloatSliderModel",
      "state": {
       "behavior": "drag-tap",
       "description": "vmin",
       "layout": "IPY_MODEL_274936ffe83143039cf4b8ddef68f5e3",
       "min": -150,
       "step": 5,
       "style": "IPY_MODEL_fad60562010248c999579c7e4adc2946",
       "value": -90
      }
     },
     "be6d550d0bb94495b458398599fedfe1": {
      "model_module": "@jupyter-widgets/base",
      "model_module_version": "2.0.0",
      "model_name": "LayoutModel",
      "state": {}
     },
     "c0066e21c23140c5b7c5c4d7a018f8a0": {
      "model_module": "@jupyter-widgets/controls",
      "model_module_version": "2.0.0",
      "model_name": "DropdownModel",
      "state": {
       "_options_labels": [
        "linear",
        "beamsample"
       ],
       "description": "wci render",
       "index": 0,
       "layout": "IPY_MODEL_8337089515da421fa9acd348a46450d4",
       "style": "IPY_MODEL_b68f18606cdc4a32a0ab933645133ae2"
      }
     },
     "c1924563c6fc4c93b45415fe097d0170": {
      "model_module": "@jupyter-widgets/base",
      "model_module_version": "2.0.0",
      "model_name": "LayoutModel",
      "state": {}
     },
     "c1ac943c40624f94bcaf006bb13881e6": {
      "model_module": "jupyter-matplotlib",
      "model_module_version": "^0.11",
      "model_name": "ToolbarModel",
      "state": {
       "_model_module_version": "^0.11",
       "_view_module_version": "^0.11",
       "collapsed": true,
       "layout": "IPY_MODEL_8951717ff9cc466c9f9c7d47db4a6592",
       "orientation": "vertical",
       "toolitems": [
        [
         "Home",
         "Reset original view",
         "home",
         "home"
        ],
        [
         "Back",
         "Back to previous view",
         "arrow-left",
         "back"
        ],
        [
         "Forward",
         "Forward to next view",
         "arrow-right",
         "forward"
        ],
        [
         "Pan",
         "Left button pans, Right button zooms\nx/y fixes axis, CTRL fixes aspect",
         "arrows",
         "pan"
        ],
        [
         "Zoom",
         "Zoom to rectangle\nx/y fixes axis",
         "square-o",
         "zoom"
        ],
        [
         "Download",
         "Download plot",
         "floppy-o",
         "save_figure"
        ]
       ]
      }
     },
     "c2b7d70319904bf1bbd1ba97de1dc694": {
      "model_module": "@jupyter-widgets/base",
      "model_module_version": "2.0.0",
      "model_name": "LayoutModel",
      "state": {
       "width": "10%"
      }
     },
     "c2e504a89c9d481994d77c0294e670aa": {
      "model_module": "@jupyter-widgets/base",
      "model_module_version": "2.0.0",
      "model_name": "LayoutModel",
      "state": {}
     },
     "c4050b4c8f67437893ce751124e6eeb2": {
      "model_module": "@jupyter-widgets/base",
      "model_module_version": "2.0.0",
      "model_name": "LayoutModel",
      "state": {}
     },
     "c445f64164e04de9a9facba4f925c480": {
      "model_module": "@jupyter-widgets/base",
      "model_module_version": "2.0.0",
      "model_name": "LayoutModel",
      "state": {
       "width": "15%"
      }
     },
     "c54ad5f2dc8a4cf1b3f06ea52544652f": {
      "model_module": "@jupyter-widgets/base",
      "model_module_version": "2.0.0",
      "model_name": "LayoutModel",
      "state": {}
     },
     "c63c8e30e89f4e108d3dd06faa23aee3": {
      "model_module": "@jupyter-widgets/base",
      "model_module_version": "2.0.0",
      "model_name": "LayoutModel",
      "state": {}
     },
     "c68b91664c0c410384a0b2a530435a4e": {
      "model_module": "@jupyter-widgets/controls",
      "model_module_version": "2.0.0",
      "model_name": "TextStyleModel",
      "state": {
       "description_width": "",
       "font_size": null,
       "text_color": null
      }
     },
     "c71d90c98a7941858863a5471a9abdbb": {
      "model_module": "@jupyter-widgets/base",
      "model_module_version": "2.0.0",
      "model_name": "LayoutModel",
      "state": {}
     },
     "c75873a9c6bb465d915af17803459196": {
      "model_module": "@jupyter-widgets/controls",
      "model_module_version": "2.0.0",
      "model_name": "TextModel",
      "state": {
       "layout": "IPY_MODEL_c2b7d70319904bf1bbd1ba97de1dc694",
       "style": "IPY_MODEL_e9f00dea512a4e47b9064f50b4cbaf81",
       "value": "14:35:36"
      }
     },
     "c8fdd0dcf5c04c1ebed427b7f72d9f21": {
      "model_module": "jupyter-matplotlib",
      "model_module_version": "^0.11",
      "model_name": "ToolbarModel",
      "state": {
       "_model_module_version": "^0.11",
       "_view_module_version": "^0.11",
       "collapsed": true,
       "layout": "IPY_MODEL_df2f74f41b014f0fae88f65c56704049",
       "orientation": "vertical",
       "toolitems": [
        [
         "Home",
         "Reset original view",
         "home",
         "home"
        ],
        [
         "Back",
         "Back to previous view",
         "arrow-left",
         "back"
        ],
        [
         "Forward",
         "Forward to next view",
         "arrow-right",
         "forward"
        ],
        [
         "Pan",
         "Left button pans, Right button zooms\nx/y fixes axis, CTRL fixes aspect",
         "arrows",
         "pan"
        ],
        [
         "Zoom",
         "Zoom to rectangle\nx/y fixes axis",
         "square-o",
         "zoom"
        ],
        [
         "Download",
         "Download plot",
         "floppy-o",
         "save_figure"
        ]
       ]
      }
     },
     "ca3902523beb4dc3ad6bfc7f79ef3730": {
      "model_module": "jupyter-matplotlib",
      "model_module_version": "^0.11",
      "model_name": "ToolbarModel",
      "state": {
       "_model_module_version": "^0.11",
       "_view_module_version": "^0.11",
       "collapsed": true,
       "layout": "IPY_MODEL_e434807b56bd4b92b0b998e35feeb9a1",
       "orientation": "vertical",
       "toolitems": [
        [
         "Home",
         "Reset original view",
         "home",
         "home"
        ],
        [
         "Back",
         "Back to previous view",
         "arrow-left",
         "back"
        ],
        [
         "Forward",
         "Forward to next view",
         "arrow-right",
         "forward"
        ],
        [
         "Pan",
         "Left button pans, Right button zooms\nx/y fixes axis, CTRL fixes aspect",
         "arrows",
         "pan"
        ],
        [
         "Zoom",
         "Zoom to rectangle\nx/y fixes axis",
         "square-o",
         "zoom"
        ],
        [
         "Download",
         "Download plot",
         "floppy-o",
         "save_figure"
        ]
       ]
      }
     },
     "caf5c26c306d4ec3980dac569a33ec63": {
      "model_module": "@jupyter-widgets/base",
      "model_module_version": "2.0.0",
      "model_name": "LayoutModel",
      "state": {}
     },
     "cba7d86a28f74bf3a5e400d981d2cb21": {
      "model_module": "@jupyter-widgets/base",
      "model_module_version": "2.0.0",
      "model_name": "LayoutModel",
      "state": {}
     },
     "ccd5711e17cc4a639d854517214158de": {
      "model_module": "@jupyter-widgets/base",
      "model_module_version": "2.0.0",
      "model_name": "LayoutModel",
      "state": {}
     },
     "cce30209de77450f9154d4a8b0cfbfa5": {
      "model_module": "jupyter-matplotlib",
      "model_module_version": "^0.11",
      "model_name": "ToolbarModel",
      "state": {
       "_model_module_version": "^0.11",
       "_view_module_version": "^0.11",
       "collapsed": true,
       "layout": "IPY_MODEL_1c80b91f7ae642b8994e6d1c3dd4c771",
       "orientation": "vertical",
       "toolitems": [
        [
         "Home",
         "Reset original view",
         "home",
         "home"
        ],
        [
         "Back",
         "Back to previous view",
         "arrow-left",
         "back"
        ],
        [
         "Forward",
         "Forward to next view",
         "arrow-right",
         "forward"
        ],
        [
         "Pan",
         "Left button pans, Right button zooms\nx/y fixes axis, CTRL fixes aspect",
         "arrows",
         "pan"
        ],
        [
         "Zoom",
         "Zoom to rectangle\nx/y fixes axis",
         "square-o",
         "zoom"
        ],
        [
         "Download",
         "Download plot",
         "floppy-o",
         "save_figure"
        ]
       ]
      }
     },
     "cf199a45523346adb43e80de200e05a0": {
      "model_module": "@jupyter-widgets/controls",
      "model_module_version": "2.0.0",
      "model_name": "HTMLStyleModel",
      "state": {
       "description_width": "",
       "font_size": null,
       "text_color": null
      }
     },
     "d11906f4051548bb912d7c4e113956c5": {
      "model_module": "@jupyter-widgets/base",
      "model_module_version": "2.0.0",
      "model_name": "LayoutModel",
      "state": {}
     },
     "d136676e181f42e9b0f6849aca3e7e3a": {
      "model_module": "@jupyter-widgets/base",
      "model_module_version": "2.0.0",
      "model_name": "LayoutModel",
      "state": {}
     },
     "d16a0d19f49e423a9a1292877f93e709": {
      "model_module": "@jupyter-widgets/controls",
      "model_module_version": "2.0.0",
      "model_name": "IntTextModel",
      "state": {
       "description": "mp_cores:",
       "layout": "IPY_MODEL_c445f64164e04de9a9facba4f925c480",
       "step": 1,
       "style": "IPY_MODEL_d359bb36ba874c79a6b8ad04af2add95",
       "value": 1
      }
     },
     "d17b67721eb3412c894f8e6e3182bd8c": {
      "model_module": "jupyter-matplotlib",
      "model_module_version": "^0.11",
      "model_name": "ToolbarModel",
      "state": {
       "_model_module_version": "^0.11",
       "_view_module_version": "^0.11",
       "collapsed": true,
       "layout": "IPY_MODEL_2e2a5741e7a841938c8152c522729ed2",
       "orientation": "vertical",
       "toolitems": [
        [
         "Home",
         "Reset original view",
         "home",
         "home"
        ],
        [
         "Back",
         "Back to previous view",
         "arrow-left",
         "back"
        ],
        [
         "Forward",
         "Forward to next view",
         "arrow-right",
         "forward"
        ],
        [
         "Pan",
         "Left button pans, Right button zooms\nx/y fixes axis, CTRL fixes aspect",
         "arrows",
         "pan"
        ],
        [
         "Zoom",
         "Zoom to rectangle\nx/y fixes axis",
         "square-o",
         "zoom"
        ],
        [
         "Download",
         "Download plot",
         "floppy-o",
         "save_figure"
        ]
       ]
      }
     },
     "d1e5c25a04924cee99ee18068747cb62": {
      "model_module": "@jupyter-widgets/controls",
      "model_module_version": "2.0.0",
      "model_name": "ProgressStyleModel",
      "state": {
       "description_width": ""
      }
     },
     "d31871bbe10940a09a958bff275e48f8": {
      "model_module": "@jupyter-widgets/controls",
      "model_module_version": "2.0.0",
      "model_name": "HTMLStyleModel",
      "state": {
       "description_width": "",
       "font_size": null,
       "text_color": null
      }
     },
     "d359bb36ba874c79a6b8ad04af2add95": {
      "model_module": "@jupyter-widgets/controls",
      "model_module_version": "2.0.0",
      "model_name": "DescriptionStyleModel",
      "state": {
       "description_width": ""
      }
     },
     "d432c352eea24777bd3989d60ad1f9b8": {
      "model_module": "@jupyter-widgets/base",
      "model_module_version": "2.0.0",
      "model_name": "LayoutModel",
      "state": {}
     },
     "d65d21416e6d430fb81e8bdccbd4e7e1": {
      "model_module": "@jupyter-widgets/base",
      "model_module_version": "2.0.0",
      "model_name": "LayoutModel",
      "state": {}
     },
     "d70b703257b14837a13acfdfc10d9098": {
      "model_module": "@jupyter-widgets/base",
      "model_module_version": "2.0.0",
      "model_name": "LayoutModel",
      "state": {}
     },
     "d80bdd5a13144d2889e9d97bd32ee557": {
      "model_module": "@jupyter-widgets/controls",
      "model_module_version": "2.0.0",
      "model_name": "TextModel",
      "state": {
       "description": "proc rate",
       "layout": "IPY_MODEL_2ed76c1fbb6a4617973e9aefb339fd12",
       "style": "IPY_MODEL_4c61c617d737460ab89c55c06492dae0",
       "value": "3.7 / 30.0 / [3.3] Hz"
      }
     },
     "d98378c03cdb44dd8e72e20d347198f8": {
      "model_module": "@jupyter-widgets/base",
      "model_module_version": "2.0.0",
      "model_name": "LayoutModel",
      "state": {}
     },
     "db2083d07b9d43ba825160ade2c08baf": {
      "model_module": "@jupyter-widgets/base",
      "model_module_version": "2.0.0",
      "model_name": "LayoutModel",
      "state": {}
     },
     "dd57c298dedb4da9bf39730c97c01c7f": {
      "model_module": "@jupyter-widgets/base",
      "model_module_version": "2.0.0",
      "model_name": "LayoutModel",
      "state": {}
     },
     "dd61c1da3dcd4aeab2a3db165b03ffd2": {
      "model_module": "jupyter-matplotlib",
      "model_module_version": "^0.11",
      "model_name": "ToolbarModel",
      "state": {
       "_model_module_version": "^0.11",
       "_view_module_version": "^0.11",
       "collapsed": true,
       "layout": "IPY_MODEL_9e0df99fc07244878f898bc0729a7ca2",
       "orientation": "vertical",
       "toolitems": [
        [
         "Home",
         "Reset original view",
         "home",
         "home"
        ],
        [
         "Back",
         "Back to previous view",
         "arrow-left",
         "back"
        ],
        [
         "Forward",
         "Forward to next view",
         "arrow-right",
         "forward"
        ],
        [
         "Pan",
         "Left button pans, Right button zooms\nx/y fixes axis, CTRL fixes aspect",
         "arrows",
         "pan"
        ],
        [
         "Zoom",
         "Zoom to rectangle\nx/y fixes axis",
         "square-o",
         "zoom"
        ],
        [
         "Download",
         "Download plot",
         "floppy-o",
         "save_figure"
        ]
       ]
      }
     },
     "dd75507cac6145a7b1258420af226958": {
      "model_module": "@jupyter-widgets/base",
      "model_module_version": "2.0.0",
      "model_name": "LayoutModel",
      "state": {}
     },
     "dddb0085b9984fac80a018a96fef4886": {
      "model_module": "jupyter-matplotlib",
      "model_module_version": "^0.11",
      "model_name": "ToolbarModel",
      "state": {
       "_model_module_version": "^0.11",
       "_view_module_version": "^0.11",
       "collapsed": true,
       "layout": "IPY_MODEL_5d92657f376c43e394b0b6cf907c26da",
       "orientation": "vertical",
       "toolitems": [
        [
         "Home",
         "Reset original view",
         "home",
         "home"
        ],
        [
         "Back",
         "Back to previous view",
         "arrow-left",
         "back"
        ],
        [
         "Forward",
         "Forward to next view",
         "arrow-right",
         "forward"
        ],
        [
         "Pan",
         "Left button pans, Right button zooms\nx/y fixes axis, CTRL fixes aspect",
         "arrows",
         "pan"
        ],
        [
         "Zoom",
         "Zoom to rectangle\nx/y fixes axis",
         "square-o",
         "zoom"
        ],
        [
         "Download",
         "Download plot",
         "floppy-o",
         "save_figure"
        ]
       ]
      }
     },
     "df2f74f41b014f0fae88f65c56704049": {
      "model_module": "@jupyter-widgets/base",
      "model_module_version": "2.0.0",
      "model_name": "LayoutModel",
      "state": {}
     },
     "dfe15a7225954ee69edb303a0ccbd337": {
      "model_module": "@jupyter-widgets/base",
      "model_module_version": "2.0.0",
      "model_name": "LayoutModel",
      "state": {}
     },
     "e42aaa0330044aecbc5f395973eafce8": {
      "model_module": "jupyter-matplotlib",
      "model_module_version": "^0.11",
      "model_name": "ToolbarModel",
      "state": {
       "_current_action": "zoom",
       "_model_module_version": "^0.11",
       "_view_module_version": "^0.11",
       "collapsed": true,
       "layout": "IPY_MODEL_1e9aa72857fd4d8694899868d905574c",
       "orientation": "vertical",
       "toolitems": [
        [
         "Home",
         "Reset original view",
         "home",
         "home"
        ],
        [
         "Back",
         "Back to previous view",
         "arrow-left",
         "back"
        ],
        [
         "Forward",
         "Forward to next view",
         "arrow-right",
         "forward"
        ],
        [
         "Pan",
         "Left button pans, Right button zooms\nx/y fixes axis, CTRL fixes aspect",
         "arrows",
         "pan"
        ],
        [
         "Zoom",
         "Zoom to rectangle\nx/y fixes axis",
         "square-o",
         "zoom"
        ],
        [
         "Download",
         "Download plot",
         "floppy-o",
         "save_figure"
        ]
       ]
      }
     },
     "e434807b56bd4b92b0b998e35feeb9a1": {
      "model_module": "@jupyter-widgets/base",
      "model_module_version": "2.0.0",
      "model_name": "LayoutModel",
      "state": {}
     },
     "e5c4dc49b46e49ee87d338096b735bb2": {
      "model_module": "@jupyter-widgets/base",
      "model_module_version": "2.0.0",
      "model_name": "LayoutModel",
      "state": {}
     },
     "e6a483c0710e4eb99d7d956d380bb3c9": {
      "model_module": "@jupyter-widgets/base",
      "model_module_version": "2.0.0",
      "model_name": "LayoutModel",
      "state": {}
     },
     "e6ba3174006949f3bfd8ed06483a42f2": {
      "model_module": "@jupyter-widgets/base",
      "model_module_version": "2.0.0",
      "model_name": "LayoutModel",
      "state": {}
     },
     "e8465946908a4b858abd1852aa2dcb67": {
      "model_module": "jupyter-matplotlib",
      "model_module_version": "^0.11",
      "model_name": "ToolbarModel",
      "state": {
       "_current_action": "zoom",
       "_model_module_version": "^0.11",
       "_view_module_version": "^0.11",
       "collapsed": true,
       "layout": "IPY_MODEL_d70b703257b14837a13acfdfc10d9098",
       "orientation": "vertical",
       "toolitems": [
        [
         "Home",
         "Reset original view",
         "home",
         "home"
        ],
        [
         "Back",
         "Back to previous view",
         "arrow-left",
         "back"
        ],
        [
         "Forward",
         "Forward to next view",
         "arrow-right",
         "forward"
        ],
        [
         "Pan",
         "Left button pans, Right button zooms\nx/y fixes axis, CTRL fixes aspect",
         "arrows",
         "pan"
        ],
        [
         "Zoom",
         "Zoom to rectangle\nx/y fixes axis",
         "square-o",
         "zoom"
        ],
        [
         "Download",
         "Download plot",
         "floppy-o",
         "save_figure"
        ]
       ]
      }
     },
     "e8822fcaace34b11af7f8554cff53bc7": {
      "model_module": "@jupyter-widgets/base",
      "model_module_version": "2.0.0",
      "model_name": "LayoutModel",
      "state": {}
     },
     "e9f00dea512a4e47b9064f50b4cbaf81": {
      "model_module": "@jupyter-widgets/controls",
      "model_module_version": "2.0.0",
      "model_name": "TextStyleModel",
      "state": {
       "description_width": "",
       "font_size": null,
       "text_color": null
      }
     },
     "ea77b226477a4b829f6aac7f1cc3bed3": {
      "model_module": "jupyter-matplotlib",
      "model_module_version": "^0.11",
      "model_name": "ToolbarModel",
      "state": {
       "_model_module_version": "^0.11",
       "_view_module_version": "^0.11",
       "collapsed": true,
       "layout": "IPY_MODEL_dd57c298dedb4da9bf39730c97c01c7f",
       "orientation": "vertical",
       "toolitems": [
        [
         "Home",
         "Reset original view",
         "home",
         "home"
        ],
        [
         "Back",
         "Back to previous view",
         "arrow-left",
         "back"
        ],
        [
         "Forward",
         "Forward to next view",
         "arrow-right",
         "forward"
        ],
        [
         "Pan",
         "Left button pans, Right button zooms\nx/y fixes axis, CTRL fixes aspect",
         "arrows",
         "pan"
        ],
        [
         "Zoom",
         "Zoom to rectangle\nx/y fixes axis",
         "square-o",
         "zoom"
        ],
        [
         "Download",
         "Download plot",
         "floppy-o",
         "save_figure"
        ]
       ]
      }
     },
     "ea93e4678d9045349f3335b31db84c8d": {
      "model_module": "@jupyter-widgets/base",
      "model_module_version": "2.0.0",
      "model_name": "LayoutModel",
      "state": {}
     },
     "eb6e7ec0b10e4aa5839d565e61a0019d": {
      "model_module": "jupyter-matplotlib",
      "model_module_version": "^0.11",
      "model_name": "ToolbarModel",
      "state": {
       "_current_action": "zoom",
       "_model_module_version": "^0.11",
       "_view_module_version": "^0.11",
       "collapsed": true,
       "layout": "IPY_MODEL_8478907ec15e48c88543a9e40f32dec5",
       "orientation": "vertical",
       "toolitems": [
        [
         "Home",
         "Reset original view",
         "home",
         "home"
        ],
        [
         "Back",
         "Back to previous view",
         "arrow-left",
         "back"
        ],
        [
         "Forward",
         "Forward to next view",
         "arrow-right",
         "forward"
        ],
        [
         "Pan",
         "Left button pans, Right button zooms\nx/y fixes axis, CTRL fixes aspect",
         "arrows",
         "pan"
        ],
        [
         "Zoom",
         "Zoom to rectangle\nx/y fixes axis",
         "square-o",
         "zoom"
        ],
        [
         "Download",
         "Download plot",
         "floppy-o",
         "save_figure"
        ]
       ]
      }
     },
     "ec8c3bbd04d04b45b8d5fb775e422667": {
      "model_module": "jupyter-matplotlib",
      "model_module_version": "^0.11",
      "model_name": "ToolbarModel",
      "state": {
       "_model_module_version": "^0.11",
       "_view_module_version": "^0.11",
       "collapsed": true,
       "layout": "IPY_MODEL_4239bcf3196f4be3a01426994ea24434",
       "orientation": "vertical",
       "toolitems": [
        [
         "Home",
         "Reset original view",
         "home",
         "home"
        ],
        [
         "Back",
         "Back to previous view",
         "arrow-left",
         "back"
        ],
        [
         "Forward",
         "Forward to next view",
         "arrow-right",
         "forward"
        ],
        [
         "Pan",
         "Left button pans, Right button zooms\nx/y fixes axis, CTRL fixes aspect",
         "arrows",
         "pan"
        ],
        [
         "Zoom",
         "Zoom to rectangle\nx/y fixes axis",
         "square-o",
         "zoom"
        ],
        [
         "Download",
         "Download plot",
         "floppy-o",
         "save_figure"
        ]
       ]
      }
     },
     "eca854f178754554ab4ba4f42f70b5b2": {
      "model_module": "@jupyter-widgets/base",
      "model_module_version": "2.0.0",
      "model_name": "LayoutModel",
      "state": {}
     },
     "eed8c4026a0e4024b44757f3063abeb8": {
      "model_module": "@jupyter-widgets/base",
      "model_module_version": "2.0.0",
      "model_name": "LayoutModel",
      "state": {}
     },
     "efc059079f874423ab8f56da362325df": {
      "model_module": "@jupyter-widgets/base",
      "model_module_version": "2.0.0",
      "model_name": "LayoutModel",
      "state": {}
     },
     "eff191a6da984a32960b960af06fcaba": {
      "model_module": "@jupyter-widgets/controls",
      "model_module_version": "2.0.0",
      "model_name": "CheckboxStyleModel",
      "state": {
       "description_width": ""
      }
     },
     "f0466195881242d28f4cd5c8b5335e8e": {
      "model_module": "@jupyter-widgets/controls",
      "model_module_version": "2.0.0",
      "model_name": "HTMLStyleModel",
      "state": {
       "description_width": "",
       "font_size": null,
       "text_color": null
      }
     },
     "f1baaebd79fd4121be90df70cac50e50": {
      "model_module": "@jupyter-widgets/controls",
      "model_module_version": "2.0.0",
      "model_name": "DescriptionStyleModel",
      "state": {
       "description_width": ""
      }
     },
     "f25e85919cca49e783a62c96d54d02c3": {
      "model_module": "jupyter-matplotlib",
      "model_module_version": "^0.11",
      "model_name": "ToolbarModel",
      "state": {
       "_model_module_version": "^0.11",
       "_view_module_version": "^0.11",
       "collapsed": true,
       "layout": "IPY_MODEL_caf5c26c306d4ec3980dac569a33ec63",
       "orientation": "vertical",
       "toolitems": [
        [
         "Home",
         "Reset original view",
         "home",
         "home"
        ],
        [
         "Back",
         "Back to previous view",
         "arrow-left",
         "back"
        ],
        [
         "Forward",
         "Forward to next view",
         "arrow-right",
         "forward"
        ],
        [
         "Pan",
         "Left button pans, Right button zooms\nx/y fixes axis, CTRL fixes aspect",
         "arrows",
         "pan"
        ],
        [
         "Zoom",
         "Zoom to rectangle\nx/y fixes axis",
         "square-o",
         "zoom"
        ],
        [
         "Download",
         "Download plot",
         "floppy-o",
         "save_figure"
        ]
       ]
      }
     },
     "f2b23a610b1743508939796bfff8ce8a": {
      "model_module": "@jupyter-widgets/base",
      "model_module_version": "2.0.0",
      "model_name": "LayoutModel",
      "state": {}
     },
     "f2d1c7c2bdfe4f4bae3f3b43e5b58d67": {
      "model_module": "@jupyter-widgets/base",
      "model_module_version": "2.0.0",
      "model_name": "LayoutModel",
      "state": {}
     },
     "f46fffc8e09d46ccbd8d51ab72c0f281": {
      "model_module": "@jupyter-widgets/base",
      "model_module_version": "2.0.0",
      "model_name": "LayoutModel",
      "state": {}
     },
     "f5a283811ded42dfa1d66b9aeaca94f0": {
      "model_module": "@jupyter-widgets/controls",
      "model_module_version": "2.0.0",
      "model_name": "HTMLModel",
      "state": {
       "layout": "IPY_MODEL_8e92dc6b089c4e24aabf2298cec39958",
       "style": "IPY_MODEL_d31871bbe10940a09a958bff275e48f8",
       "value": " 14/14 [00:00&lt;00:00, 5253.20it/s]"
      }
     },
     "f647cde70c574d33b50a8731874462ff": {
      "model_module": "jupyter-matplotlib",
      "model_module_version": "^0.11",
      "model_name": "ToolbarModel",
      "state": {
       "_model_module_version": "^0.11",
       "_view_module_version": "^0.11",
       "collapsed": true,
       "layout": "IPY_MODEL_e6a483c0710e4eb99d7d956d380bb3c9",
       "orientation": "vertical",
       "toolitems": [
        [
         "Home",
         "Reset original view",
         "home",
         "home"
        ],
        [
         "Back",
         "Back to previous view",
         "arrow-left",
         "back"
        ],
        [
         "Forward",
         "Forward to next view",
         "arrow-right",
         "forward"
        ],
        [
         "Pan",
         "Left button pans, Right button zooms\nx/y fixes axis, CTRL fixes aspect",
         "arrows",
         "pan"
        ],
        [
         "Zoom",
         "Zoom to rectangle\nx/y fixes axis",
         "square-o",
         "zoom"
        ],
        [
         "Download",
         "Download plot",
         "floppy-o",
         "save_figure"
        ]
       ]
      }
     },
     "f84349b5e50f45fc9477a6de393c02fb": {
      "model_module": "@jupyter-widgets/base",
      "model_module_version": "2.0.0",
      "model_name": "LayoutModel",
      "state": {}
     },
     "f8b9cc9228684ce4959dec4ba99a8c32": {
      "model_module": "@jupyter-widgets/controls",
      "model_module_version": "2.0.0",
      "model_name": "CheckboxModel",
      "state": {
       "description": "stack_linear",
       "disabled": false,
       "layout": "IPY_MODEL_d65d21416e6d430fb81e8bdccbd4e7e1",
       "style": "IPY_MODEL_eff191a6da984a32960b960af06fcaba",
       "value": true
      }
     },
     "fa4c7bece22a4a5e842e68e8b3459e22": {
      "model_module": "@jupyter-widgets/base",
      "model_module_version": "2.0.0",
      "model_name": "LayoutModel",
      "state": {}
     },
     "fad60562010248c999579c7e4adc2946": {
      "model_module": "@jupyter-widgets/controls",
      "model_module_version": "2.0.0",
      "model_name": "SliderStyleModel",
      "state": {
       "description_width": ""
      }
     },
     "fc4ad402422b460db4fc4c4532c3f345": {
      "model_module": "@jupyter-widgets/base",
      "model_module_version": "2.0.0",
      "model_name": "LayoutModel",
      "state": {}
     },
     "fdd795d970f04e93b0ea90d0815482f8": {
      "model_module": "@jupyter-widgets/controls",
      "model_module_version": "2.0.0",
      "model_name": "SliderStyleModel",
      "state": {
       "description_width": ""
      }
     }
    },
    "version_major": 2,
    "version_minor": 0
   }
  }
 },
 "nbformat": 4,
 "nbformat_minor": 5
}
