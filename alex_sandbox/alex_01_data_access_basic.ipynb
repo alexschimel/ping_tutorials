{
 "cells": [
  {
   "cell_type": "markdown",
   "metadata": {},
   "source": [
    "Valid for ping 0.28.1 (10/01/2025)\n",
    "\n",
    "## Data access core concepts"
   ]
  },
  {
   "cell_type": "code",
   "execution_count": 1,
   "metadata": {},
   "outputs": [],
   "source": [
    "%matplotlib widget\n",
    "\n",
    "import numpy as np\n",
    "import themachinethatgoesping as pingmachine\n",
    "from matplotlib import pyplot as plt\n",
    "from tqdm.auto import tqdm"
   ]
  },
  {
   "cell_type": "markdown",
   "metadata": {},
   "source": [
    "### 1. List raw data files with find_files()"
   ]
  },
  {
   "cell_type": "code",
   "execution_count": 2,
   "metadata": {
    "execution": {
     "iopub.execute_input": "2024-10-25T10:55:15.171710Z",
     "iopub.status.busy": "2024-10-25T10:55:15.171508Z",
     "iopub.status.idle": "2024-10-25T10:55:15.178192Z",
     "shell.execute_reply": "2024-10-25T10:55:15.177918Z",
     "shell.execute_reply.started": "2024-10-25T10:55:15.171699Z"
    }
   },
   "outputs": [
    {
     "name": "stdout",
     "output_type": "stream",
     "text": [
      "Found 8 files\n"
     ]
    }
   ],
   "source": [
    "# define a folder to search for raw data files\n",
    "folder = r\"C:\\Users\\Schimel_Alexandre\\Data\\MBES\\Kongsberg all\\EM2040\\KV-Meritaito_2024_EM2040_Sorvest-F-1-1-extracts-WCD\"\n",
    "\n",
    "# find all Kongsberg files in the list of folders\n",
    "files = pingmachine.echosounders.index_functions.find_files(folder, [\".all\", \"wcd\"])"
   ]
  },
  {
   "cell_type": "code",
   "execution_count": 3,
   "metadata": {},
   "outputs": [
    {
     "name": "stdout",
     "output_type": "stream",
     "text": [
      "<class 'list'>\n",
      "<class 'str'>\n",
      "C:\\Users\\Schimel_Alexandre\\Data\\MBES\\Kongsberg all\\EM2040\\KV-Meritaito_2024_EM2040_Sorvest-F-1-1-extracts-WCD\\0225_20240427_083531.all\n"
     ]
    }
   ],
   "source": [
    "# The output of find_files() is a list of file paths, which are strings\n",
    "print(type(files))\n",
    "print(type(files[0]))\n",
    "print(files[0])"
   ]
  },
  {
   "cell_type": "code",
   "execution_count": 4,
   "metadata": {
    "execution": {
     "iopub.execute_input": "2024-10-25T10:55:15.178681Z",
     "iopub.status.busy": "2024-10-25T10:55:15.178529Z",
     "iopub.status.idle": "2024-10-25T10:55:15.181068Z",
     "shell.execute_reply": "2024-10-25T10:55:15.180835Z",
     "shell.execute_reply.started": "2024-10-25T10:55:15.178669Z"
    }
   },
   "outputs": [
    {
     "name": "stdout",
     "output_type": "stream",
     "text": [
      "(0/8) C:\\Users\\Schimel_Alexandre\\Data\\MBES\\Kongsberg all\\EM2040\\KV-Meritaito_2024_EM2040_Sorvest-F-1-1-extracts-WCD\\0225_20240427_083531.all\n",
      "(1/8) C:\\Users\\Schimel_Alexandre\\Data\\MBES\\Kongsberg all\\EM2040\\KV-Meritaito_2024_EM2040_Sorvest-F-1-1-extracts-WCD\\0225_20240427_083531.wcd\n",
      "(2/8) C:\\Users\\Schimel_Alexandre\\Data\\MBES\\Kongsberg all\\EM2040\\KV-Meritaito_2024_EM2040_Sorvest-F-1-1-extracts-WCD\\0266_20240429_171944.all\n",
      "(3/8) C:\\Users\\Schimel_Alexandre\\Data\\MBES\\Kongsberg all\\EM2040\\KV-Meritaito_2024_EM2040_Sorvest-F-1-1-extracts-WCD\\0266_20240429_171944.wcd\n",
      "(4/8) C:\\Users\\Schimel_Alexandre\\Data\\MBES\\Kongsberg all\\EM2040\\KV-Meritaito_2024_EM2040_Sorvest-F-1-1-extracts-WCD\\0298_20240430_072549.all\n",
      "(5/8) C:\\Users\\Schimel_Alexandre\\Data\\MBES\\Kongsberg all\\EM2040\\KV-Meritaito_2024_EM2040_Sorvest-F-1-1-extracts-WCD\\0298_20240430_072549.wcd\n",
      "(6/8) C:\\Users\\Schimel_Alexandre\\Data\\MBES\\Kongsberg all\\EM2040\\KV-Meritaito_2024_EM2040_Sorvest-F-1-1-extracts-WCD\\0330_20240430_140406.all\n",
      "(7/8) C:\\Users\\Schimel_Alexandre\\Data\\MBES\\Kongsberg all\\EM2040\\KV-Meritaito_2024_EM2040_Sorvest-F-1-1-extracts-WCD\\0330_20240430_140406.wcd\n"
     ]
    }
   ],
   "source": [
    "# show files found\n",
    "files.sort()\n",
    "for i, file in enumerate(files):\n",
    "    print(f\"({i}/{len(files)}) {file}\")"
   ]
  },
  {
   "cell_type": "markdown",
   "metadata": {},
   "source": [
    "### 2. Create a File Handler object to access the raw data files"
   ]
  },
  {
   "cell_type": "code",
   "execution_count": 5,
   "metadata": {
    "execution": {
     "iopub.execute_input": "2024-10-25T10:55:15.181539Z",
     "iopub.status.busy": "2024-10-25T10:55:15.181382Z",
     "iopub.status.idle": "2024-10-25T10:55:15.203883Z",
     "shell.execute_reply": "2024-10-25T10:55:15.203642Z",
     "shell.execute_reply.started": "2024-10-25T10:55:15.181529Z"
    }
   },
   "outputs": [
    {
     "name": "stdout",
     "output_type": "stream",
     "text": [
      "indexing files ⢀ 100% [00m:01s<00m:00s] [.._20240430_140406.wcd (8/8)]                              \n",
      "indexing files ⡀ 100% [00m:01s<00m:00s] [Found: 7463 datagrams in 8 files (258MB)]                                          \n",
      "Initializing ping interface ⠁ 75% [00m:00s<00m:00s] [Done]                                              \n"
     ]
    }
   ],
   "source": [
    "# Create a File Handler to access the raw data files\n",
    "fileHandler = pingmachine.echosounders.kongsbergall.KongsbergAllFileHandler(files)"
   ]
  },
  {
   "cell_type": "code",
   "execution_count": 6,
   "metadata": {},
   "outputs": [
    {
     "data": {
      "text/plain": [
       "themachinethatgoesping.echosounders_cppy.kongsbergall.KongsbergAllFileHandler"
      ]
     },
     "execution_count": 6,
     "metadata": {},
     "output_type": "execute_result"
    }
   ],
   "source": [
    "# Notes:\n",
    "#   - A File Handler extracts basic information from the files but do not load the acoustic data. It only indexes the datagrams and provides access to them as a combined file stream\n",
    "#   - A file Handler is initalized with the list of files\n",
    "#   - A File Handler pairs .all and .wcd files\n",
    "\n",
    "# See class of a File Hander\n",
    "type(fileHandler)"
   ]
  },
  {
   "cell_type": "code",
   "execution_count": 7,
   "metadata": {},
   "outputs": [
    {
     "name": "stdout",
     "output_type": "stream",
     "text": [
      "KongsbergAllFileHandler\n",
      "#######################\n",
      "-\n",
      "File infos \n",
      "-------------                \n",
      "- Number of loaded .all files: : 4         \n",
      "- Number of loaded .wcd files: : 4         \n",
      "- Total file size: :             258.73 MB \n",
      "\n",
      " Detected datagrams \n",
      "^^^^^^^^^^^^^^^^^^^^ \n",
      "- timestamp_first:  27/04/2024 08:35:30.79 \n",
      "- timestamp_last:   30/04/2024 14:05:32.41 \n",
      "- Total:            7463                   \n",
      "- Datagrams [0x30]: 8                      [PUIDOutput]\n",
      "- Datagrams [0x31]: 40                     [PUStatusOutput]\n",
      "- Datagrams [0x41]: 39                     [AttitudeDatagram]\n",
      "- Datagrams [0x43]: 42                     [ClockDatagram]\n",
      "- Datagrams [0x47]: 1                      [SurfaceSoundSpeedDatagram]\n",
      "- Datagrams [0x49]: 8                      [InstallationParametersStart]\n",
      "- Datagrams [0x4e]: 836                    [RawRangeAndAngle]\n",
      "- Datagrams [0x50]: 39                     [PositionDatagram]\n",
      "- Datagrams [0x52]: 14                     [RuntimeParameters]\n",
      "- Datagrams [0x55]: 8                      [SoundSpeedProfileDatagram]\n",
      "- Datagrams [0x58]: 836                    [XYZDatagram]\n",
      "- Datagrams [0x59]: 836                    [SeabedImageData]\n",
      "- Datagrams [0x68]: 39                     [DepthOrHeightDatagram]\n",
      "- Datagrams [0x69]: 8                      [InstallationParametersStop]\n",
      "- Datagrams [0x6b]: 4308                   [WatercolumnDatagram]\n",
      "- Datagrams [0x6e]: 401                    [NetworkAttitudeVelocityDatagram]\n",
      "\n",
      " Detected Pings \n",
      "---------------- \n",
      "\n",
      " Time info \n",
      "^^^^^^^^^^^             \n",
      "- Start time: 27/04/2024 08:35:31.24 \n",
      "- End time:   30/04/2024 14:04:11.90 \n",
      "- Sorted:     no                     \n",
      "\n",
      " Contained pings \n",
      "^^^^^^^^^^^^^^^^^ \n",
      "- Total:   836 \n",
      "- TRX-333: 418 \n",
      "- TRX-335: 418 \n"
     ]
    }
   ],
   "source": [
    "# Use the print function to get a summary of the dataset that can be accessed with the File Handler\n",
    "print(fileHandler)"
   ]
  },
  {
   "cell_type": "markdown",
   "metadata": {},
   "source": [
    "### 3. Access a group of pings with the File Handler"
   ]
  },
  {
   "cell_type": "code",
   "execution_count": 8,
   "metadata": {
    "execution": {
     "iopub.execute_input": "2024-10-25T10:55:15.204356Z",
     "iopub.status.busy": "2024-10-25T10:55:15.204207Z",
     "iopub.status.idle": "2024-10-25T10:55:15.206805Z",
     "shell.execute_reply": "2024-10-25T10:55:15.206589Z",
     "shell.execute_reply.started": "2024-10-25T10:55:15.204340Z"
    }
   },
   "outputs": [
    {
     "data": {
      "text/plain": [
       "themachinethatgoesping.echosounders_cppy.kongsbergall.filedatacontainers.KongsbergAllPingContainer"
      ]
     },
     "execution_count": 8,
     "metadata": {},
     "output_type": "execute_result"
    }
   ],
   "source": [
    "# Access a group of pings from the File Handler with the get_pings() method\n",
    "pingContainer = fileHandler.get_pings()\n",
    "\n",
    "# The output is a Ping Container object\n",
    "type(pingContainer)"
   ]
  },
  {
   "cell_type": "code",
   "execution_count": 9,
   "metadata": {},
   "outputs": [
    {
     "name": "stdout",
     "output_type": "stream",
     "text": [
      "PingContainer\n",
      "#############\n",
      "-\n",
      "Time info \n",
      "------------            \n",
      "- Start time: 27/04/2024 08:35:31.24 \n",
      "- End time:   30/04/2024 14:04:11.90 \n",
      "- Sorted:     ascending              \n",
      "\n",
      " Contained pings \n",
      "----------------- \n",
      "- Total:   836 \n",
      "- TRX-333: 418 \n",
      "- TRX-335: 418 \n"
     ]
    }
   ],
   "source": [
    "# Use the print function to get a summary of the contents of a Ping Container\n",
    "print(pingContainer)"
   ]
  },
  {
   "cell_type": "markdown",
   "metadata": {},
   "source": [
    "### 4. Access an individual ping in the Ping Container\n"
   ]
  },
  {
   "cell_type": "code",
   "execution_count": 10,
   "metadata": {},
   "outputs": [
    {
     "data": {
      "text/plain": [
       "themachinethatgoesping.echosounders_cppy.kongsbergall.filetypes.KongsbergAllPing"
      ]
     },
     "execution_count": 10,
     "metadata": {},
     "output_type": "execute_result"
    }
   ],
   "source": [
    "# Access an individual ping in a Ping Container simply by indexing\n",
    "ping = pingContainer[42]\n",
    "\n",
    "# The result is a Ping object\n",
    "type(ping)"
   ]
  },
  {
   "cell_type": "code",
   "execution_count": 11,
   "metadata": {},
   "outputs": [
    {
     "name": "stdout",
     "output_type": "stream",
     "text": [
      "KongsbergAllPing\n",
      "################\n",
      "-\n",
      "Ping infos \n",
      "-------------                                                                                                                                                                                                                                                                                                                                                                                 \n",
      "- Channel id:             TRX-333                                                                                                                                                                                                                                                                                                                                                                           \n",
      "- Time info:              27/04/2024 08:35:33.13                                                                                                                                                                                                                                                                                                                                                           \n",
      "                          [1714206933.126000]\n",
      "- Features:               .get_timestamp, .get_datetime, .get_channel_id, .get_sensor_configuration, .get_navigation_interpolator_latlon, .get_sensor_data_latlon, .get_geolocation                                                                                                                                                                                                                         \n",
      "- Feature groups:         .bottom, .watercolumn                                                                                                                                                                                                                                                                                                                                                             \n",
      "- Features(.bottom):      .bottom : .get_two_way_travel_times, .get_xyz, .get_tx_signal_parameters, .get_number_of_tx_sectors, .get_beam_crosstrack_angles                                                                                                                                                                                                                                                  \n",
      "- Features(.watercolumn): .watercolumn : .get_amplitudes, .get_tx_signal_parameters, .get_number_of_tx_sectors, .get_beam_numbers_per_tx_sector, .get_beam_selection_all, .get_number_of_beams, .get_tx_sector_per_beam, .get_beam_crosstrack_angles, .get_bottom_range_samples, .get_amplitudes, .get_rp, .get_rv, .get_pp, .get_pv, .get_ap, .get_av, .get_power, .get_multisectorwatercolumn_calibration\n",
      "                          [Not:.get_sp, .get_sv, .get_watercolumn_calibration]\n",
      "\n",
      " Geolocation \n",
      "------------- \n",
      "- latitude:  56°37'17.4\"N  [ddd°mm',ss.s''N/S]\n",
      "- longitude: 4°37'54.9\"E   [ddd°mm',ss.s''E/W]\n",
      "- z:         4.024         [positive downwards, m]\n",
      "- yaw:       354.242       [90 ° at east]\n",
      "- pitch:     -0.361        [° positive bow up]\n",
      "- roll:      -28.385       [° positive port up]\n"
     ]
    }
   ],
   "source": [
    "# Use the print function to get a summary of the contents of a Ping object\n",
    "print(ping)"
   ]
  },
  {
   "cell_type": "markdown",
   "metadata": {},
   "source": [
    "### 5. Access data in a ping"
   ]
  },
  {
   "cell_type": "code",
   "execution_count": 12,
   "metadata": {
    "execution": {
     "iopub.execute_input": "2024-10-25T10:55:15.213651Z",
     "iopub.status.busy": "2024-10-25T10:55:15.213419Z",
     "iopub.status.idle": "2024-10-25T10:55:15.218330Z",
     "shell.execute_reply": "2024-10-25T10:55:15.218099Z",
     "shell.execute_reply.started": "2024-10-25T10:55:15.213640Z"
    }
   },
   "outputs": [
    {
     "data": {
      "text/plain": [
       "themachinethatgoesping.navigation.datastructures.GeolocationLatLon"
      ]
     },
     "execution_count": 12,
     "metadata": {},
     "output_type": "execute_result"
    }
   ],
   "source": [
    "# A Ping object has 3 types of information: base, bottom, and water-column. Let's just talk here about the base information\n",
    "\n",
    "# An example of base information is location\n",
    "pingLocation = ping.get_geolocation()\n",
    "\n",
    "# see class of a \"Ping Location\" object\n",
    "type(pingLocation)"
   ]
  },
  {
   "cell_type": "code",
   "execution_count": 13,
   "metadata": {},
   "outputs": [
    {
     "name": "stdout",
     "output_type": "stream",
     "text": [
      "GeolocationLatLon (struct)\n",
      "##########################\n",
      "- latitude:  56°37'17.4\"N  [ddd°mm',ss.s''N/S]\n",
      "- longitude: 4°37'54.9\"E   [ddd°mm',ss.s''E/W]\n",
      "- z:         4.024         [positive downwards, m]\n",
      "- yaw:       354.242       [90 ° at east]\n",
      "- pitch:     -0.361        [° positive bow up]\n",
      "- roll:      -28.385       [° positive port up]\n"
     ]
    }
   ],
   "source": [
    "# Use the print function to get a summary of the contents of a Ping Location\n",
    "print(pingLocation)"
   ]
  },
  {
   "cell_type": "code",
   "execution_count": 14,
   "metadata": {},
   "outputs": [
    {
     "name": "stdout",
     "output_type": "stream",
     "text": [
      "Example ping location - Latitude: 56.62150671252987, Longitude: 4.631915447082342\n"
     ]
    }
   ],
   "source": [
    "# Data in a Ping Location are simple attributes\n",
    "print(f\"Example ping location - Latitude: {pingLocation.latitude}, Longitude: {pingLocation.longitude}\")"
   ]
  },
  {
   "cell_type": "markdown",
   "metadata": {},
   "source": [
    "### 6. Conclusion\n",
    "Putting it all together with an example. If you want to extract latitudes and longitudes from all pings in the entire dataset"
   ]
  },
  {
   "cell_type": "code",
   "execution_count": 15,
   "metadata": {},
   "outputs": [
    {
     "name": "stdout",
     "output_type": "stream",
     "text": [
      "Found 8 files\n",
      "indexing files ⠐ 100% [00m:00s<00m:00s] [.._20240427_083531.all (1/8)]                              \n",
      "indexing files ⠠ 100% [00m:00s<00m:00s] [.._20240430_140406.wcd (8/8)]                              \n",
      "indexing files ⢀ 100% [00m:00s<00m:00s] [Found: 7463 datagrams in 8 files (258MB)]                                          \n",
      "Initializing ping interface ⠁ 75% [00m:00s<00m:00s] [Done]                                              \n"
     ]
    },
    {
     "data": {
      "text/plain": [
       "[<matplotlib.lines.Line2D at 0x23a7226c110>]"
      ]
     },
     "execution_count": 15,
     "metadata": {},
     "output_type": "execute_result"
    },
    {
     "data": {
      "application/vnd.jupyter.widget-view+json": {
       "model_id": "5c6f13f99b5a4bbf89b7268a95d86691",
       "version_major": 2,
       "version_minor": 0
      },
      "image/png": "[encoded data removed]",
      "text/html": [
       "\n",
       "            <div style=\"display: inline-block;\">\n",
       "                <div class=\"jupyter-widgets widget-label\" style=\"text-align: center;\">\n",
       "                    Figure\n",
       "                </div>\n",
       "                <img src='data:image/png;base64,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' width=640.0/>\n",
       "            </div>\n",
       "        "
      ],
      "text/plain": [
       "Canvas(toolbar=Toolbar(toolitems=[('Home', 'Reset original view', 'home', 'home'), ('Back', 'Back to previous …"
      ]
     },
     "metadata": {},
     "output_type": "display_data"
    }
   ],
   "source": [
    "# set folders of data\n",
    "folder = r'C:\\Users\\Schimel_Alexandre\\Data\\MBES\\Kongsberg all\\EM2040\\KV-Meritaito_2024_EM2040_Sorvest-F-1-1-extracts-WCD'\n",
    "\n",
    "# list files in folder\n",
    "files = pingmachine.echosounders.index_functions.find_files(folder, [\".all\",\"wcd\"]) # find all Kongsberg files in the list of folders\n",
    "\n",
    "# create a ping container for all pings in the dataset, through a File Handler\n",
    "fileHandler = pingmachine.echosounders.kongsbergall.KongsbergAllFileHandler(files)\n",
    "pingContainer = fileHandler.get_pings()\n",
    "\n",
    "# loop over all pings in the pingContainer and extract latitude and longitude of each ping\n",
    "lat, lon = [], []\n",
    "for ping in pingContainer:\n",
    "    pingLocation = ping.get_geolocation()\n",
    "    lat.append(pingLocation.latitude) \n",
    "    lon.append(pingLocation.longitude)\n",
    "\n",
    "# plot coordinates of all pings in dataset\n",
    "plt.figure()\n",
    "plt.plot(lon, lat, '.')"
   ]
  }
 ],
 "metadata": {
  "kernelspec": {
   "display_name": "ping",
   "language": "python",
   "name": "python3"
  },
  "language_info": {
   "codemirror_mode": {
    "name": "ipython",
    "version": 3
   },
   "file_extension": ".py",
   "mimetype": "text/x-python",
   "name": "python",
   "nbconvert_exporter": "python",
   "pygments_lexer": "ipython3",
   "version": "3.12.7"
  },
  "widgets": {
   "application/vnd.jupyter.widget-state+json": {
    "state": {
     "02a2f304e45544d4acb86867849e3cde": {
      "model_module": "@jupyter-widgets/base",
      "model_module_version": "2.0.0",
      "model_name": "LayoutModel",
      "state": {}
     },
     "139391cd25964eeeab97e5fd85ef1182": {
      "model_module": "@jupyter-widgets/controls",
      "model_module_version": "2.0.0",
      "model_name": "HTMLModel",
      "state": {
       "layout": "IPY_MODEL_02a2f304e45544d4acb86867849e3cde",
       "style": "IPY_MODEL_d271708258894531865cc4d6baebaf37",
       "value": "removing duplicates: 100%"
      }
     },
     "1c004e7e06b742cebd0b70a2211dfbe2": {
      "model_module": "@jupyter-widgets/base",
      "model_module_version": "2.0.0",
      "model_name": "LayoutModel",
      "state": {}
     },
     "1e8ea2ef36914e299fd8b187f4fce4f5": {
      "model_module": "@jupyter-widgets/base",
      "model_module_version": "2.0.0",
      "model_name": "LayoutModel",
      "state": {}
     },
     "282e8ffd809b4667800ad4716c92ecff": {
      "model_module": "@jupyter-widgets/base",
      "model_module_version": "2.0.0",
      "model_name": "LayoutModel",
      "state": {}
     },
     "2e69ef5921be477b8d0a21c734c6bf7b": {
      "model_module": "@jupyter-widgets/controls",
      "model_module_version": "2.0.0",
      "model_name": "HTMLModel",
      "state": {
       "layout": "IPY_MODEL_526163d1e95646c898eedcf92046396a",
       "style": "IPY_MODEL_805072820eea431fad8e53293e391654",
       "value": "removing duplicates: 100%"
      }
     },
     "3db4966834a14aa3a4f899d88556e2aa": {
      "model_module": "@jupyter-widgets/base",
      "model_module_version": "2.0.0",
      "model_name": "LayoutModel",
      "state": {}
     },
     "3f4cd3f7178440d5a021fcad4849be33": {
      "model_module": "@jupyter-widgets/controls",
      "model_module_version": "2.0.0",
      "model_name": "HTMLModel",
      "state": {
       "layout": "IPY_MODEL_9f81b598ea624c409b5c45d7156038a7",
       "style": "IPY_MODEL_95cdbf5e393443baaf25e31a0b92b20a",
       "value": " 18/18 [00:00&lt;00:00, 9055.71it/s]"
      }
     },
     "508f0661878446889a9af33be5317a65": {
      "model_module": "@jupyter-widgets/base",
      "model_module_version": "2.0.0",
      "model_name": "LayoutModel",
      "state": {}
     },
     "526163d1e95646c898eedcf92046396a": {
      "model_module": "@jupyter-widgets/base",
      "model_module_version": "2.0.0",
      "model_name": "LayoutModel",
      "state": {}
     },
     "592dec35e99f4d369aeeea289c4ed11d": {
      "model_module": "@jupyter-widgets/base",
      "model_module_version": "2.0.0",
      "model_name": "LayoutModel",
      "state": {}
     },
     "5ca09e805679489894224d2d41346532": {
      "model_module": "@jupyter-widgets/controls",
      "model_module_version": "2.0.0",
      "model_name": "HBoxModel",
      "state": {
       "children": [
        "IPY_MODEL_2e69ef5921be477b8d0a21c734c6bf7b",
        "IPY_MODEL_e0588fe6d4a74918be13e25fa83ccc73",
        "IPY_MODEL_3f4cd3f7178440d5a021fcad4849be33"
       ],
       "layout": "IPY_MODEL_ee75a35214e54ca69f40cd0f936527bb"
      }
     },
     "66a70927992a4576a2f04cff7b29e564": {
      "model_module": "jupyter-matplotlib",
      "model_module_version": "^0.11",
      "model_name": "ToolbarModel",
      "state": {
       "_model_module_version": "^0.11",
       "_view_module_version": "^0.11",
       "collapsed": true,
       "layout": "IPY_MODEL_592dec35e99f4d369aeeea289c4ed11d",
       "orientation": "vertical",
       "toolitems": [
        [
         "Home",
         "Reset original view",
         "home",
         "home"
        ],
        [
         "Back",
         "Back to previous view",
         "arrow-left",
         "back"
        ],
        [
         "Forward",
         "Forward to next view",
         "arrow-right",
         "forward"
        ],
        [
         "Pan",
         "Left button pans, Right button zooms\nx/y fixes axis, CTRL fixes aspect",
         "arrows",
         "pan"
        ],
        [
         "Zoom",
         "Zoom to rectangle\nx/y fixes axis",
         "square-o",
         "zoom"
        ],
        [
         "Download",
         "Download plot",
         "floppy-o",
         "save_figure"
        ]
       ]
      }
     },
     "68bfcf36d5304a13ad1578e7edefab61": {
      "model_module": "@jupyter-widgets/controls",
      "model_module_version": "2.0.0",
      "model_name": "HBoxModel",
      "state": {
       "children": [
        "IPY_MODEL_139391cd25964eeeab97e5fd85ef1182",
        "IPY_MODEL_e769b74e4e9b4b86aab9495d9af433b4",
        "IPY_MODEL_cda11165b2144f0fba847e7af4f697fd"
       ],
       "layout": "IPY_MODEL_508f0661878446889a9af33be5317a65"
      }
     },
     "805072820eea431fad8e53293e391654": {
      "model_module": "@jupyter-widgets/controls",
      "model_module_version": "2.0.0",
      "model_name": "HTMLStyleModel",
      "state": {
       "description_width": "",
       "font_size": null,
       "text_color": null
      }
     },
     "95cdbf5e393443baaf25e31a0b92b20a": {
      "model_module": "@jupyter-widgets/controls",
      "model_module_version": "2.0.0",
      "model_name": "HTMLStyleModel",
      "state": {
       "description_width": "",
       "font_size": null,
       "text_color": null
      }
     },
     "9f81b598ea624c409b5c45d7156038a7": {
      "model_module": "@jupyter-widgets/base",
      "model_module_version": "2.0.0",
      "model_name": "LayoutModel",
      "state": {}
     },
     "b5af38188fdb4c1aa643db2dca504474": {
      "model_module": "@jupyter-widgets/controls",
      "model_module_version": "2.0.0",
      "model_name": "ProgressStyleModel",
      "state": {
       "description_width": ""
      }
     },
     "b7466f646e4d4188a649c88962ecf8fc": {
      "model_module": "@jupyter-widgets/controls",
      "model_module_version": "2.0.0",
      "model_name": "ProgressStyleModel",
      "state": {
       "description_width": ""
      }
     },
     "b97d671c86734898a66e2f1cbce28b8c": {
      "model_module": "jupyter-matplotlib",
      "model_module_version": "^0.11",
      "model_name": "MPLCanvasModel",
      "state": {
       "_data_url": "data:image/png;base64,iVBORw0KGgoAAAANSUhEUgAAAj0AAAGtCAYAAAD9H8XfAAAgAElEQVR4Xu3dC5BU1bWA4UWwVAQLGQJq8EERYkADoUyoqBgxAhJEjMFANPJQEVIKPgGVR6mjiPFBFCNqiYhCSmMAMeKgMkp8oFcErhqFRIkIhQ9U6spFBWHEuVm7qucCztCn5/TuOXuv/1RNmcDp03t/a+3Zq1efbhpV/+cQDgQQQAABBBBAIHKBRhQ9kUeY6SGAAAIIIICAE6DoIREQQAABBBBAwIQARY+JMDNJBBBAAAEEEKDoIQcQQAABBBBAwIQARY+JMDNJBBBAAAEEEKDoIQcQQAABBBBAwIQARY+JMDNJBBBAAAEEEKDoIQcQQAABBBBAwIQARY+JMDNJBBBAAAEEEKDoIQcQQAABBBBAwIQARY+JMDNJBBBAAAEEEKDoIQcQQAABBBBAwIQARY+JMDNJBBBAAAEEEKDoIQcQQAABBBBAwIQARY+JMDNJBBBAAAEEEKDoIQcQQAABBBBAwIQARY+JMDNJBBBAAAEEEKDoIQcQQAABBBBAwIQARY+JMDNJBBBAAAEEEKDoIQcQQAABBBBAwIQARY+JMDNJBBBAAAEEEKDoIQcQQAABBBBAwIQARY+JMDNJBBBAAAEEEKDoIQcQQAABBBBAwIQARY+JMDNJBBBAAAEEEKDoIQcQQAABBBBAwIQARY+JMDNJBBBAAAEEEKDoIQcQQAABBBBAwIQARY+JMDNJBBBAAAEEEKDoIQcQQAABBBBAwIQARY+JMDNJBBBAAAEEEKDoIQcQQAABBBBAwIQARY+JMDNJBBBAAAEEEKDoIQcQQAABBBBAwIQARY+JMDNJBBBAAAEEEKDoIQcQQAABBBBAwIQARY+JMDNJBBBAAAEEEKDoIQcQQAABBBBAwIQARY+JMDNJBBBAAAEEEKDoIQcQQAABBBBAwIQARY+JMDNJBBBAAAEEEKDoIQcQQAABBBBAwIQARY+JMDNJBBBAAAEEEKDoIQcQQAABBBBAwIQARY+JMDNJBBBAAAEEEKDoIQcQQAABBBBAwIQARY+JMDNJBBBAAAEEEKDoIQcQQAABBBBAwIQARY+JMDNJBBBAAAEEEKDoIQcQQAABBBBAwIQARU+eMDdq1Ej0hwMBBBBAAIGYBaqrq0V/Yj4oevJE9zvf+Y588803MecAc0MAAQQQQEAs7HcUPRQ9LHUEEEAAAQQoesgBMZEExBkBBBBAAAE6PeQARQ85gAACCCBgQoCix0SY9zxJC0lAmBFAAAEEELCw33FPD/f0sNIRQAABBBAw8c4GRQ9FD0sdAQQQQAABip5QcmD9+vUycuRIWbJkiTRu3Fh69+4t06ZNk+bNm8vmzZtlxIgRUlFRIc2aNZMxY8bI6NGjE0/NQrsvMQYnIoAAAghEK2Bhv4ui03PaaafJ3nvvLQ8++KBUVVVJ//795cgjj5Q777xThg4dKps2bZLZs2fLunXrpEePHjJjxgzp169fosS1kASJIDgJAQQQQCBqAQv7XRRFT+fOnWXixIkycOBAl5Da5ZkzZ44sXLhQWrRoIcuWLRM9R48JEybIqlWrZP78+YmS10ISJILgJAQQQACBqAUs7HdRFD0zZ850b1/pf7dv3y5nnHGGnHLKKdKrVy/p2rWr+zMNph5aDI0fP15Wr15da/KWl5eL/uQOC1/LHfUqZnIIIIAAAokEKHoSMTX8Se+8846cc845snTpUvfvhpx00kmuCHr11Vfd21j69lbuqKyslMGDB8uGDRsSDdxCEiSC4CQEEEAAgagFLOx3wXd69N/FateunZx99tnuLa6vv/5arrjiCnn//ffluuuuc50evc8n94+Gzp07V8aNG1dnp2f3jM56Evzu3v+Sl9f8T82wj2tXJg+NODbqhcnkEEAAAQSKL5D1/a4YMw6+6Nm4caO0atVKPvroIznooIOcyZtvvildunRxn9wqKyuT5cuXS6dOndzfaWG0cuXKaO7paXtVxbfyYO0f+hYjN7gGAggggIAhAYqeQILdvn171+nRm5S10zN27Fj38fU33nhDhgwZ4oqf3Ke3evbsKdOnT4/m01sUPYEkKcNEAAEEMi5A0ZPxAOWG99Zbb8lll10mK1ascH+kb2ndfvvt0rFjR1fwDB8+3H2Sq2nTpq4giul7eih6AklShokAAghkXICiJ+MBKsXwsp4E3NNTiizgORBAAIH4BbK+3xUjAsHf01MMhD1dw0IS+Dbk+ggggAAC2RewsN9R9OTJQwtJkP2lyAgRQAABBHwLWNjvKHooenyvI66PAAIIIBCAAEVPAEHyPUQLSeDbcE/X7z9tifz3+v+tOeXoQ5vLoyOPb8gh8dwIIICASQEL+x2dHjo9Dbq4+fRZg/Lz5AgggECNAEUPyeD+zS791mcOPwIUPX5cuSoCCCBQqICF/Y5OD52eQtdFUc+n6CkqJxdDAAEE6i1A0VNvungeaCEJGjJa3NPTkPo8NwIIIPD/Ahb2Ozo9dHpY8wgggAACCJi4nYOih6KHpY4AAggggABFDzkgJpKAOCOAAAIIIMDbW+QARQ85gAACCCBgQoCix0SY9zxJC0lAmBFAAAEEELCw33FPD/f0sNIRQAABBBAw8c4GRQ9FD0sdAQQQQAABih5ygBuZyQEEEEAAARsCvL1lI857nKWFJCDMCCCAAAIIWNjveHuLt7dY6QgggAACCPD2FjnA21vkAAIIIICADQE6PTbizNtbxBkBBBBAwLwARY/5FKDTQwoggAACCNgQoOixEWc6PcQZAQQQQMC8AEWP+RSg00MKIIAAAgjYEKDosRFnOj3EGQEEEEDAvABFj/kUoNNDCiCAAAII2BCg6LERZzo9xBkBBBBAwLwARY/5FKDTQwoggAACCNgQoOixEWc6PcQZAQQQQMC8AEWP+RSg00MKIIAAAgjYEKDosRFnOj3EGQEEEEDAvABFj/kUoNNDCiCAAAII2BCg6LERZzo9xBkBBBBAwLwARY/5FKDTQwoggAACCNgQoOixEWc6PcQZAQQQQMC8AEWP+RSg00MKIIAAAgjYEKDosRFnOj3EGQEEEEDAvABFj/kUoNNDCiCAAAII2BCg6LERZzo9xBkBBBBAwLwARY/5FKDTQwoggAACCNgQoOixEWc6PcQZAQQQQMC8AEWP+RSg00MKIIAAAgjYEKDoCSjOjz76qFxzzTWyZs0aKSsrk5tvvlnOOuss2bx5s4wYMUIqKiqkWbNmMmbMGBk9enTimVlIgsQYnIgAAgggEK2Ahf2uUfV/jtAjuHjxYhkyZIg89NBD0q1bN/nss89k06ZN0r59exk6dKj737Nnz5Z169ZJjx49ZMaMGdKvX79E07aQBIkgOAkBBBBAIGoBC/tdFEXP8ccf74oe7ejsfGzZskVatGghy5Ytk86dO7u/mjBhgqxatUrmz5+fKHktJEEiCE5CAAEEEIhawMJ+F3zRs2PHDmnSpIlMmjTJdXA+//xz182ZOnWq6+x07dpVtm/fLhpMPebMmSPjx4+X1atX15q85eXloj+5QxthETTDol6oTA4BBBBAIL0ARU96Q+9X+PDDD6VNmzbSpUsXWbBggey///7uLa199tlHRo0a5d7G0re3ckdlZaUMHjxYNmzYkGhsFpIgEQQnIYAAAghELWBhvwu+06MFjb6Fdd9998mwYcNcQq5YsUK6d+8uL774ouv0VFVVSaNGjdzfzZ07V8aNG1dnp2f3jLaQBFGvYiaHAAIIIJBIwMJ+F3zRo5E87LDD5Nprr5Xzzjuvpug54YQT5JNPPnGf5Fq+fLl06tTJ/d3EiRNl5cqV3NOTaAlwEgIIIICAFQGKnkAifd1118ljjz0mCxcudB9L17e39tprL3nkkUfcDc76sfXcp7d69uwp06dP59NbgcSWYSKAAAIIlEaAoqc0zqmf5euvv3bfvzNr1ixp3Lix9O7dW+644w7X5dGCZ/jw4a4gatq0qYwdO5bv6UktzgUQQAABBGIToOiJLaL1mE+pkqDtVRXfGt3aP/Stx4h5CAIIIIAAAoULlGq/K3xkxXtEFPf0FI/j21cqVRJQ9PiMItdGAAEEEMgnUKr9Lt84fP49RU8e3VIlAUWPzzTn2ggggAAC+QRKtd/lG4fPv6fooejxmV9cGwEEEEAgEAGKnkAC5XOYpUoCOj0+o8i1EUAAAQTyCZRqv8s3Dp9/T6cnI50en0Hm2ggggAACCOQToOjJJ2Tg7y0kgYEwMkUEEEAAAV7kC50ekoBfBAgggAACCLh/mPubb76JWoKih6In6gRncggggAACyQQoepI5RX2WhSSIOoBMDgEEEEAgkYCF/Y5OD52eRIuBkxBAAAEE4hag6Ik7volmZyEJEkFwEgIIIIBA1AIW9js6PXR6ol7ETA4BBBBAIJkARU8yp6jPspAEUQeQySGAAAIIJBKwsN/R6SlRp4dvXE605jgJAQQQQKCBBCh6Ggg+S09brCSg6MlSVBkLAggggMDuAsXa77IsS6eHTk+W85OxIYAAAgiUSICip0TQWX6aYiUBnZ4sR5mxIYAAAggUa7/LsiSdHjo9Wc5PxoYAAgggUCIBip4SQWf5aSwkQZb9GRsCCCCAQGkELOx3dHpK1OkpTcryLAgggAACCNRPgKKnfm5RPcpCEkQVMCaDAAIIIFAvAQv7HZ0eOj31Whw8CAEEEEAgLgGKnrjiWa/ZWEiCesHwIAQQQACBqAQs7Hd0euj0RLVomQwCCCCAQP0EKHrq5xbVoywkQVQBYzIIIIAAAvUSsLDf0emh01OvxcGDEEAAAQTiEqDoiSue9ZqNhSSoFwwPQgABBBCISsDCfkenh05PVIuWySCAAAII1E+Aoqd+blE9ykISRBUwJoMAAgggUC8BC/sdnR46PfVaHDwIAQQQQCAuAYqeuOJZr9lYSIJ6wfAgBBBAAIGoBCzsd3R66PREtWiZDAIIIIBA/QQoeurnFtWjLCRBKAH73b3/JS+v+Z+a4R7XrkweGnFsKMNnnAgggECmBSzsd3R66PRkehHuPLi2V1V8a6xr/9A3mPEzUAQQQCDLAhQ9WY5OicZmIQlKRJn6aSh6UhNyAQQQQKBOAQv7HZ0eOj3B/Aqg6AkmVAwUAQQCFKDoCTBoxR6yhSQotpmv63FPjy9ZrosAAgiIWNjv6PTQ6WGtI4AAAgggQNFDDtiofIkzAggggAACdHrIAROVL2FGAAEEEECAooccoOghBxBAAAEETAhQ9JgI854naSEJCDMCCCCAAAIW9ruobmT+9NNPpWPHjtK2bVtZvny5y+APPvhAhg0bJi+++KK0atVKbrjhBjn77LMTZ7eFJEiMwYkIIIAAAtEKWNjvoip6Bg0aJOvXr5cvv/yypujp3r27HHXUUTJlyhRZunSp9OvXzxVAXbp0SZS4FpIgEQQnIYAAAghELWBhv4um6Fm0aJFMmjRJzj33XJk2bZoret59913p0KGDfPzxx1JWVuaSVbs8rVu3lttuuy1R8lpIgkQQnIQAAgggELWAhf0uiqJny5YtcvTRR8u8efNk2bJlcuedd7qiZ/78+XL55ZfLe++9V5Oot9xyi2iBVFlZWWvylpeXi/7kjurqatEfDgQQQAABBGIWoOgJJLpXXHGFNG7cWG688UZ54IEHaoqe2bNnu7e1Xn/99ZqZTJ8+XWbMmCGvvPJKotlZSIJEEJyEAAIIIBC1gIX9LvhOzxtvvCEDBgwQ/W+TJk12KXq00zN69GhZs2ZNTaLeeuut8vTTT9fZ6dk9oy0kQdSrmMkhgAACCCQSsLDfBV/03H777TJhwgTZf//9XVC3bt0q+nZXy5YtpaKiQo455phd7unRm531U1zc05NoDXASAggggIARAYqeAAKtBc7mzZtrRvrII4/IzJkz5amnnpIDDzxQ9NNbnTp1Eu3w6P0+ffv25dNbAcSVISKAAAIIlFaAoqe03kV5tp3v6dEL6vf0nHfeeTXf0zN58mS+p6co0lwEAQQQQCAmAYqemKJZz7lYSIJ60vAwBBBAAIGIBCzsd8Hf0+M73ywkgW9Dro8AAgggkH0BC/sdRU+ePLSQBNlfiowQAQQQQMC3gIX9jqKHosf3OuL6CCCAAAIBCFD0BBAk30O0kAS+Dbk+AggggED2BSzsd3R66PRkfyUyQgQQQAAB7wIUPd6Js/8EFpIg+1FghAgggAACvgUs7Hd0euj0+F5HXB8BBBBAIAABip4AguR7iBaSwLch10cAAQQQyL6Ahf2OTg+dnuyvREaIAAIIIOBdgKLHO3H2n8BCEmQ/CowQAQQQQMC3gIX9jk4PnR7f64jrI4AAAggEIEDRE0CQfA/RQhL4NuT6CCCAAALZF7Cw39HpodOT/ZXICBFAAAEEvAtQ9Hgnzv4TWEiC7EeBESKAAAII+BawsN/R6aHT43sdcX0EEEAAgQAEKHoCCJLvIVpIAt+GXB8BBBBAIPsCFvY7Oj10erK/EhkhAggggIB3AYoe78TZfwILSZD9KDBCBBBAAAHfAhb2Ozo9dHp8ryOujwACCCAQgABFTwBB8j1EC0ng25DrI4AAAghkX8DCfkenh05P9lciI0QAAQQQ8C5A0eOdOPtPYCEJsh8FRogAAggg4FvAwn5Hp4dOj+91xPURQAABBAIQoOgJIEi+h2ghCXwbcn0EEEAAgewLWNjv6PTQ6cn+SmSECCCAAALeBSh6vBNn/wksJEH2o8AIEUAAAQR8C1jY7+j00OnxvY64PgIIIIBAAAIUPQEEyfcQLSSBb0OujwACCCCQfQEL+x2dHjo92V+JjBABBBBAwLsARY934uw/gYUkyH4UGCECCCCAgG8BC/sdnR46Pb7XEddHAAEEEAhAgKIngCD5HqKFJPBtyPURQAABBLIvYGG/o9NDpyf7K5ERIoAAAgh4F6Do8U6c/SewkATZjwIjRAABBBDwLWBhv6PTQ6fH9zri+ggggAACAQhQ9AQQJN9DtJAEvg25PgIIIIBA9gUs7Hd0euj0ZH8lMkIEEEAAAe8CFD3eibP/BBaSIPtRYIQIIIAAAr4FLOx3dHro9PheR1wfAQQQQCAAAYqeAILke4gWksC3IddHAAEEEMi+gIX9jk4PnZ7sr0RGiAACCCDgXYCixztx+ifYtm2bjBo1Sp555hnZuHGjHHLIIXLllVfKOeec4y6+efNmGTFihFRUVEizZs1kzJgxMnr06MRPbCEJEmNwIgIIIIBAtAIW9rvgOz1ffvml3HTTTTJ06FBp166dLF26VPr06SPz5s2Tk046yf35pk2bZPbs2bJu3Trp0aOHzJgxQ/r165cocS0kQSIITkIAAQQQiFrAwn4XfNFTWwb2799funTp4ro6LVq0kGXLlknnzp3dqRMmTJBVq1bJ/PnzEyWvhSRIBMFJCCCAAAJRC1jY76Irer766itp3769TJ061XV+unbtKtu3bxcNph5z5syR8ePHy+rVq2tN3vLyctGf3FFdXS36w4EAAggggEDMAhQ9gUVXi5PBgwfLBx98IM8++6y89NJL7m0sfXsrd1RWVrpzNmzYkGh2FpIgEQQnIYAAAghELWBhv4um06MFzwUXXCArVqxwNzU3b95cXnvtNdfpqaqqkkaNGrlknTt3rowbN67OTs/uGW0hCaJexUwOAQQQQCCRgIX9LoqiRwuekSNHyiuvvOI6PHofjx5btmxx/3v58uXSqVMn92cTJ06UlStXck9PoiXASQgggAACVgQoegKJtBY8S5YskcWLF0vLli13GfWQIUPcx9Zzn97q2bOnTJ8+nU9vBRJbhokAAgggUBoBip7SOKd6Fv0Yetu2bWWfffaRvfbaq+ZagwYNknvuuccVPMOHD5eFCxdK06ZNZezYsXxPTypxHowAAgggEKMARU+MUS1wThaSoEASTkcAAQQQiFDAwn4XxT09PnPPQhL49OPaCCCAAAJhCFjY7yh68uSihSQIYzkySgQQQAABnwIW9juKHooen2uIayOAAAIIBCJA0RNIoHwO00IS+PTj2ggggAACYQhY2O/o9NDpCWM1MkoEEEAAAa8CFD1eecO4uIUkCCMSjBIBBBBAwKeAhf2OTg+dHp9riGsjgAACCAQiQNETSKB8DtNCEvj049oIIIAAAmEIWNjv6PTQ6QljNTJKBBBAAAGvAhQ9XnnDuLiFJAgjEowSAQQQQMCngIX9jk4PnR6fa4hrI4AAAggEIkDRE0igfA7TQhL49OPaCCCAAAJhCFjY7+j00OkJYzUySgQQQAABrwIUPV55w7i4hSQIIxKMEgEEEEDAp4CF/Y5OD50en2uIayOAAAIIBCJA0RNIoHwO00IS+PTj2ggggAACYQhY2O/o9NDpCWM1MkoEEEAAAa8CFD1eecO4uIUkCCMSjBIBBBBAwKeAhf2OTg+dHp9riGsjgAACCAQiQNETSKB8DtNCEvj049oIIIAAAmEIWNjv6PTQ6QljNTJKBBBAAAGvAhQ9XnnDuLiFJAgjEowSAQQQQMCngIX9jk4PnR6fa4hrI4AAAggEIkDRE0igfA7TQhL49OPaCCCAAAJhCFjY7+j00OkJYzUySgQQQAABrwIUPV55w7i4hSQIIxKMEgEEEEDAp4CF/Y5OD50en2uIayOAAAIIBCJA0RNIoHwO00IS+PTj2ggggAACYQhY2O/o9NDpCWM1MkoEEEAAAa8CFD1eecO4uIUkCCMSjBIBBBBAwKeAhf2OTg+dHp9riGsjgAACCAQiQNETSKB8DtNCEvj049oIIIAAAmEIWNjv6PTQ6QljNTJKBBBAAAGvAhQ9XnnDuLiFJAgjEowSAQQQQMCngIX9jk4PnR6fa4hrI4AAAggEIkDRE0igfA7TQhL49OPaCCCAAAJhCFjY7+j00OkJYzUySgQQQAABrwIUPV55w7i4hSQIIxKMEgEEEEDAp4CF/Y5OD50en2uIayOAAAIIBCJA0RNIoHwO00IS+PTj2ggggAACYQhY2O/o9NDpCWM1MkoEEEAAAa8CFD1eecO4uIUkCCMSjBIBBBBAwKeAhf3ORKenqqpKLrnkEnn44YdFgzps2DC56aabpFGjRnnzx0IS5EXgBAQQQACB6AUs7Hcmip5rrrlGnnzySXniiSfkq6++kl69esmoUaPkoosuypvEFpIgLwInIIAAAghEL2BhvzNR9Bx66KEybdo0Oe2001zSTp8+Xe666y557bXX8iaxhSTIi8AJCCCAAALRC1jY76Ivej777DMpKyuTtWvXyuGHH+6SdtmyZdKtWzfZtm3bt97iKi8vF/3JHdXV1aI/HAgggAACCMQsQNETQXTXr18vhx12mGjxc8ABB7gZrV69Wo444gjZunWr7LvvvnucpYUkiCDMTAEBBBBAIKWAhf3OTKdn3bp1rvjRY/ny5XLcccfV2unZPWcsJEHKdcLDEUAAAQQiELCw30Vf9Gge6j09eg9Pv379XFred9997h4f7umJYJUyBQQQQACBoghQ9BSFseEvcvXVV8uiRYtkwYIF7tNbJ598slx44YV8eqvhQ8MIEEAAAQQyIkDRk5FApB2Gfk/PxRdfvMv39Nx88818T09aWB6PAAIIIBCNAEVPNKGs/0QsJEH9dXgkAggggEAsAhb2OxP39KRJSAtJkMaHxyKAAAIIxCFgYb+j6MmTqxaSII7lyiwQQAABBNIIWNjvKHooetKsER6LAAIIIBCJAEVPJIFMMw0LSZDGh8cigAACCMQhYGG/o9NDpyeO1cosEEAAAQRSCVD0pOKL48EWkiCOSDELBBBAAIE0Ahb2Ozo9dHrSrBEeiwACCCAQiQBFTySBTDMNC0mQxofHIoAAAgjEIWBhv6PTQ6cnjtXKLBBAAAEEUglQ9KTii+PBFpIgjkgxCwQQQACBNAIW9js6PXR60qwRHosAAgggEIkARU8kgUwzDQtJkMaHxyKAAAIIxCFgYb+j00OnJ47VyiwQQAABBFIJUPSk4ovjwRaSII5IMQsEEEAAgTQCFvY7Oj10etKsER6LAAIIIBCJAEVPJIFMMw0LSZDGh8cigAACCMQhYGG/o9NDpyeO1cosEEAAAQRSCVD0pOKL48EWkiCOSDELBBBAAIE0Ahb2Ozo9dHrSrBEeiwACCCAQiQBFTySBTDMNC0mQxofHIoAAAgjEIWBhv6PTQ6cnjtXKLBBAAAEEUglQ9KTii+PBFpIgjkgxCwQQQACBNAIW9js6PXR60qwRHosAAgggEIkARU8kgUwzDQtJkMaHxyKAAAIIxCFgYb+j00OnJ47VyiwQQAABBFIJUPSk4ovjwRaSII5IMQsEEEAAgTQCFvY7Oj10etKsER6LAAIIIBCJAEVPJIFMMw0LSZDGh8cigAACCMQhYGG/o9NDpyeO1cosEEAAAQRSCVD0pOKL48EWkiCOSDELBBBAAIE0Ahb2Ozo9dHrSrBEeiwACCCAQiQBFTySBTDMNC0mQxofHIoAAAgjEIWBhv6PTQ6cnjtXKLBBAAAEEUglQ9KTii+PBFpIgjkgxCwQQQACBNAIW9js6PXR60qwRHosAAgggEIkARU8kgUwzDQtJkMaHxyKAAAIIxCFgYb+j00OnJ47VyiwQQAABBFIJUPSk4ovjwRaSII5IMQsEEEAAgTQCFvY7Oj10etKsER6LAAIIIBCJAEVPJIFMMw0LSZDGh8cigAACCMQhYGG/o9NDpyeO1cosEEAAAQRSCVD0pOLz/+AHH3xQpk2bJm+//bbst99+cuqpp8qtt94qzZs3r3nyu+++W2644QbZtGmT9OzZU2bMmCEtW7ZMPDgLSZAYgxMRQAABBKIVsLDfBd3p0YKmY8eOcswxx8iWLVtk0KBB8t3vfldmzZrlknLx4sUyYMAAqayslB/84AcybNgw2bFjh8ybNy9x0lpIgsQYnIgAAgggEK2Ahf0u6KJn98x7/PHH5dJLL5U1a9a4vxo8eLC0atVK/vjHP7r/v3r1alckffLJJ1JWVpYocTIdicgAABKZSURBVC0kQSIITkIAAQQQiFrAwn4XVdEzevRoeeedd2TBggUuMX/84x/L5ZdfLkOHDq1J1KZNm8qiRYukW7dutSZveXm56E/uqK6uFv3hQAABBBBAIGYBip6Aovvkk0/KmWeeKUuWLJFOnTq5kX//+9+XKVOmyOmnn14zkzZt2rj7en75y18mmp2FJEgEwUkIIIAAAlELWNjvMtvpOfHEE+X555+vM8F27r7k7t3561//Kj169Kh5jHZ6tPszZMiQmj9r1qyZPP3003V2enZ/QgtJEPUqZnIIIIAAAokELOx3mS16EkXoPydpwfOb3/xGHn74Yendu/cuD9N7elq3bu26PXr8+9//lg4dOnBPT1JczkMAAQQQMCNA0ZPxUD/33HPy61//Wv785z9L3759vzVaLYgGDhxY8+mt888/X6qqqvj0VsbjyvAQQAABBEovQNFTevOCnvEXv/iFvPDCC9KkSZNdHvfFF1/U/H/9WPukSZPc9/T06tWL7+kpSJiTEUAAAQSsCFD0WIn0HuZpIQkIMwIIIIAAAhb2u+Dv6fGdphaSwLch10cAAQQQyL6Ahf2OoidPHlpIguwvRUaIAAIIIOBbwMJ+R9FD0eN7HXF9BBBAAIEABCh6AgiS7yFaSALfhlwfAQQQQCD7Ahb2Ozo9dHqyvxIZIQIIIICAdwGKHu/E2X8CC0mQ/SgwQgQQQAAB3wIW9js6PXR6fK8jro8AAgggEIAARU8AQfI9RAtJ4NuQ6yOAAAIIZF/Awn5Hp4dOT/ZXIiNEAAEEEPAuQNHjnTj7T2AhCbIfBUaIAAIIIOBbwMJ+R6eHTo/vdcT1EUAAAQQCEKDoCSBIvodoIQl8G3J9BBBAAIHsC1jY7+j00OnJ/kpkhAgggAAC3gUoerwTZ/8JLCRB9qPACBFAAAEEfAtY2O/o9NDp8b2OuD4CCCCAQAACFD0BBMn3EC0kgW9Dro8AAgggkH0BC/sdnR46PdlfiYwQAQQQQMC7AEWPd+LsP4GFJMh+FBghAggggIBvAQv7HZ0eOj2+1xHXRwABBBAIQICiJ4Ag+R6ihSTwbcj1EUAAAQSyL2Bhv6PTQ6cn+yuRESKAAAIIeBeg6PFOnP0nsJAE2Y8CI0QAAQQQ8C1gYb+j00Onx/c64voIIIAAAgEIUPQEECTfQ7SQBL4NuT4CCCCAQPYFLOx3dHro9GR/JTJCBBBAAAHvAhQ93omz/wQWkiD7UWCECCCAAAK+BSzsd3R66PT4XkdcHwEEEEAgAAGKngCC5HuIFpLAtyHXRwABBBDIvoCF/Y5OD52e7K9ERogAAggg4F2Aosc7cfafwEISZD8KjBABBBBAwLeAhf2OTg+dHt/riOsjgAACCAQgQNETQJB8D9FCEvg25PoIIIAAAtkXsLDf0emh05P9lcgIEUAAAQS8C1D0eCfO/hNYSILsR4ERIoAAAgj4FrCw39HpodPjex1xfQQQQACBAAQoegIIku8hWkgC34ZcHwEEEEAg+wIW9js6PXR6sr8SGSECCCCAgHcBih7vxNl/AgtJkP0oMEIEEEAAAd8CFvY7Oj10enyvI66PAAIIIBCAAEVPAEHyPUQLSeDbkOsjgAACCBRPoO1VFd+62No/9E39BBb2Ozo9dHpSLxQugAACCCBQOgGKnvpbU/RQ9NQ/e3gkAggggEDJBSh66k8eTdEzdOhQmTVrlrz55pvyox/9qEbkmmuukbvvvlu2bdsmZ5xxhtx1112y7777Jhaz0O5LjMGJCCCAAAINLkDRU/8QRFH0PPPMMzJp0iR5/vnndyl6Zs6cKddff73o3zdv3lx+9atfyc9+9jOZMmVKYjGKnsRUnIgAAgggUAIBip76Iwdf9GzdulV+8pOfyNy5c+Woo47apej5+c9/LgMGDJCLL77YCVVWVsqZZ54pGzdulEaNGiVSo+hJxMRJCCCAAAKBC1jY74Iveq666irRQE2ePNkVMju/vaXdnccff1y6d+/uUvHTTz+V1q1by/vvvy9t2rSpNT3Ly8tFf3JHdXW16A8HAggggAACMQtQ9GQ8uv/4xz9cJ+f111+XJk2afKvoady4saxYsUK6dOniZlJVVSV77723/POf/5QOHTokmp2FJEgEwUkIIIAAAlELWNjvMtvpOfHEE909OnUdO3bskGOPPVauvfZa6dOnjzuttk7PggUL5IQTTnB/r29rtWrVao+dnt2fz0ISRL2KmRwCCCCAQCIBC/tdZouefBHatGmTlJWVubercsfHH38sLVu2dDcvX3DBBaL39AwcOFAuuugid4re0Pzb3/6We3ry4fL3CCCAAALmBCh6Mhxyvc9Gi5ydj4MPPliee+456dq1q+y3335y//33u3t99AZmvb/n9NNPd3/Hp7cyHFiGhgACCCDQIAIUPQ3CXv8n3f3tLb2Sfk+PfjdP7nt69Dt7+J6e+hvzSAQQQACBOAUoeuKMa0GzspAEBYFwMgIIIIBAlAIW9rtg7+kpVcZZSIJSWfI8CCCAAALZFbCw31H05Mk/C0mQ3SXIyBBAAAEESiVgYb+j6KHoKdV64nkQQAABBDIsQNGT4eCUamgWkqBUljwPAggggEB2BSzsd3R68uSffiIs6b/TpZfSj9IXcn5203/PI2OeoUau9nFbiKeFOfI7iHWZRsDCP7tE0ZMmQ2p5rIVKWafNPIucOA18OQvxtDBH1mYDL6QiP72VnC0y2x4vR9FTZG0rSco8i5w4DXw5C/G0MEeKngZeSEV+eis5W2Q2ip5SglpJUuZZyqzy/1wW4mlhjhQ9/tdKKZ/BSs6W0pROT5G1y8vL3bdAx34wz7gibCGeFuaoWck841mbVmJZyohR9JRSm+dCAAEEEEAAgQYToOhpMHqeGAEEEEAAAQRKKUDRU0ptngsBBBBAAAEEGkyAoqfB6HliBBBAAAEEECilAEVPKbV5LgQQQAABBBBoMAGKniLRV1VVySWXXCIPP/yw++K+YcOGyU033RT0tzNv27ZNRo0aJc8884xs3LhRDjnkELnyyivlnHPOcWqbN2+WESNGSEVFhTRr1kzGjBkjo0ePLpJow1zm008/lY4dO0rbtm1l+fLlbhAffPCBi+eLL74orVq1khtuuEHOPvvshhlgEZ710UcfdZ8wXLNmjZSVlcnNN98sZ511VjTxXL9+vYwcOVKWLFkijRs3lt69e8u0adOkefPmQc/xzjvvlAceeEDefPNN6devn8ydO7cmG/KtxVByuK45fvLJJ3LZZZfJ888/72LYvn17uf7666Vv3741BqHMUQe8p1jmJvSvf/1LunTpIqeeeuousV61apWcf/758vrrr8vhhx8ud9xxh/Tq1asIvxlsXIKip0hx1k3kySeflCeeeEK++uorl4RaMFx00UVFeobSX+bLL790hdvQoUOlXbt2snTpUunTp4/MmzdPTjrpJPfnmzZtktmzZ8u6deukR48eMmPGDPcLOdRj0KBBopumzj1X9HTv3l2OOuoomTJlijPQ+WkBpL+QQjsWL14sQ4YMkYceeki6desmn332mYuhbiKxxPO0006TvffeWx588EHRFyP9+/eXI4880m00Ic9Ri1V9QaUvQjZs2LDLRphvXqHkcF1z1AJd/+7MM8+U733ve+6FlhbqK1askB/+8IduGYYyRx3rnmKpf6//HITOR/9JI32hlStwNZ/1Rdl5553nXmA+9thjMnz4cHnnnXfkoIMOCu3XUYOMl6KnSOyHHnqoezWpv3D1mD59utx1113y2muvFekZsnEZ3UB0s9euTosWLWTZsmXSuXNnN7gJEyaIvgqZP39+NgZb4CgWLVokkyZNknPPPdfFUoued999Vzp06CAff/yx64rooV2e1q1by2233VbgMzT86ccff7wrerRDt/OxZcuWaOKp+Thx4kQZOHCgm6LGcs6cObJw4cIo5njttdfKW2+9VbMR5otdiDm8+xxrWzlHH320XHrppS6fQ5yjzqmued57773ywgsvuBcjO8f62WefdYWfFr3axdRDX7xorus7DRz5BSh68hvlPUNfLeuGuHbtWtdu1EOLAU1GfYsoln+AVDtYuginTp3qOj9du3aV7du3u1efeujGMn78eFm9enVes6ydoBuH/hLVLpbGTrsCWvRoAXf55ZfLe++9VzPkW265RbRAqqyszNo09jieHTt2SJMmTVxhpx25zz//3HXnNJ7aqYslnjNnznSdAP2v5ucZZ5whp5xyiuu+xjDH3TdKfWG1p3mFmMP5ih59u0t/12rH9ac//Wmw67S2eWpBc9xxx8krr7ziXjjvXPToC63HH39c/v73v9esdX0rV/NcX2hz5Beg6MlvlPcMfTvksMMOc28VHHDAAe583fiPOOII2bp1q+y77755r5H1E7TdOnjwYHd/i77aeOmll9zbPPrWSO7QIkDP0UUb2nHFFVe4V0433niju28iV/ToW3f6tpa+f5479JeLFg36Symk48MPP5Q2bdq4Tt2CBQtk//33d2/37LPPPu6t2Fjiqa1+ve9M34rUvNW3YrUIevXVV6OY4+4bpW78e4pdiDm8p6JHX0jq2+zaXde3MPUIcY467trmqV0bfTHy+9///lt/r/cx6Vt6+rZW7tAOu3a6/vKXv4T066jBxkrRUwT6XKdHXy1r8aOHdgm0Wo+h06MbxwUXXOAWm95PoDeE5l5d6nvMuU6Wvu88bty44Do9b7zxhgwYMED0v9oJ2bno0VfJ+t653lOQO2699VZ5+umng+v0aIGqb0ned9997sZsPTSmeu+AbpzaLQg9nt98843rQupbkPoW19dffy1a0L7//vty3XXXRTHHujo9dcUuxByuq+jJde70d5LeF6P3bukR4hxrK3q0ONdO7Msvv+x+r+7uoJ0efcGi9+blDn3BovsMnZ5kmzlFTzKnvGfpqw5tReZu4tWNRe8lCP2eHv3lou1T7Wpoh0c3TT1y9xFocdepUyf3Z7rJrFy5Mrh7em6//XZ3P5J2PvTQ7pzOr2XLlq5DcMwxx+xyT4/e7Kw3F4Z4T48W5fqLVG+EzBU9J5xwgujbBfoWbejx1E8Zamw++uijmhs79dNO2t3ST/3EMMe67umpK3a13e+S9RyurejRgkdfnOgG/7e//c11KHNHiHOsrejRe5Tuv/9+2W+//dzUvvjiC1e4a4dW56i/g/UGbu2m524r0Pv01IV7evJu0+4Eip5kTnnPuvrqq919HlqF670vJ598slx44YVBf3pLJ5376K++stAiYOdDbyDUjST36a2ePXu6VxuhfXpLCxydR+545JFH3P0gTz31lBx44IGuE6KFnXZ49H4f/ZhsqJ/e0m6Htsb1pl79mgF9e2uvvfYSnXMs8dT7zrTTo4Wsbhhjx451H1/XTl7Ic9S56I92AvQDA/oJPN34tNuRb15a2IaQw3XNUbseurFrEaCfkK3tloFQ5qi/Z+qapxZ0+snR3KG/c95++233drp+eCL36S39yLp+hF/v79GurZ5z8MEH592nOIGip2g5oMl48cUX7/I9Pfr9JyHfxKxv1+n31egrKt0Yc4e+SrznnntcoaAfl9QNtGnTpm5zCf17enSOO7+9pf9f72PSzkjue3omT54c7Pf06C9b/eTdrFmzar7DRr/nQzsgscRTb/zUDUHfutND37bTbp5+1DfkOWr3Q//V7Z0PLcife+65vPMKJYfrmqPO+8QTT3TFTu5TS+qgH5zQn9DW6Z5iuXN8a+t4aTd95+/p+dOf/sT39BSwk9PpKQCLUxFAAAEEEEAgXAGKnnBjx8gRQAABBBBAoAABip4CsDgVAQQQQAABBMIVoOgJN3aMHAEEEEAAAQQKEKDoKQCLUxFAAAEEEEAgXAGKnnBjx8gRQAABBBBAoAABip4CsDgVAQQQQAABBMIVoOgJN3aMHAEEEEAAAQQKEKDoKQCLUxFAAAEEEEAgXAGKnnBjx8gRQAABBBBAoAABip4CsDgVAQQQQAABBMIVoOgJN3aMHAEEEEAAAQQKEKDoKQCLUxFAAAEEEEAgXAGKnnBjx8gRQAABBBBAoAABip4CsDgVAQQQQAABBMIVoOgJN3aMHAEEEEAAAQQKEKDoKQCLUxFAAAEEEEAgXAGKnnBjx8gRQAABBBBAoAABip4CsDgVAQQQQAABBMIVoOgJN3aMHAEEEEAAAQQKEKDoKQCLUxFAAAEEEEAgXAGKnnBjx8gRQAABBBBAoAABip4CsDgVAQQQQAABBMIVoOgJN3aMHAEEEEAAAQQKEKDoKQCLUxFAAAEEEEAgXAGKnnBjx8gRQAABBBBAoAABip4CsDgVAQQQQAABBMIVoOgJN3aMHAEEEEAAAQQKEPg/S9fNcX3R7eEAAAAASUVORK5CYII=",
       "_figure_label": "Figure 1",
       "_model_module_version": "^0.11",
       "_size": [
        640,
        479.99999999999994
       ],
       "_view_module_version": "^0.11",
       "layout": "IPY_MODEL_282e8ffd809b4667800ad4716c92ecff",
       "toolbar": "IPY_MODEL_fce954690b9541e29c4c5a1d585ead4d",
       "toolbar_position": "left"
      }
     },
     "cda11165b2144f0fba847e7af4f697fd": {
      "model_module": "@jupyter-widgets/controls",
      "model_module_version": "2.0.0",
      "model_name": "HTMLModel",
      "state": {
       "layout": "IPY_MODEL_3db4966834a14aa3a4f899d88556e2aa",
       "style": "IPY_MODEL_f79c5c46794e44ac991aaad3df38c462",
       "value": " 18/18 [00:00&lt;00:00, 8318.36it/s]"
      }
     },
     "d01b50ee3df84a3ebb01475f7d68f1ae": {
      "model_module": "jupyter-matplotlib",
      "model_module_version": "^0.11",
      "model_name": "MPLCanvasModel",
      "state": {
       "_data_url": "data:image/png;base64,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",
       "_figure_label": "Figure 2",
       "_model_module_version": "^0.11",
       "_size": [
        640,
        479.99999999999994
       ],
       "_view_module_version": "^0.11",
       "layout": "IPY_MODEL_fea61d2b88724ba88035a9653d4ae02f",
       "toolbar": "IPY_MODEL_66a70927992a4576a2f04cff7b29e564",
       "toolbar_position": "left"
      }
     },
     "d271708258894531865cc4d6baebaf37": {
      "model_module": "@jupyter-widgets/controls",
      "model_module_version": "2.0.0",
      "model_name": "HTMLStyleModel",
      "state": {
       "description_width": "",
       "font_size": null,
       "text_color": null
      }
     },
     "d2799a2735524d1fba4ade7b333c2ff3": {
      "model_module": "@jupyter-widgets/base",
      "model_module_version": "2.0.0",
      "model_name": "LayoutModel",
      "state": {}
     },
     "e0588fe6d4a74918be13e25fa83ccc73": {
      "model_module": "@jupyter-widgets/controls",
      "model_module_version": "2.0.0",
      "model_name": "FloatProgressModel",
      "state": {
       "bar_style": "success",
       "layout": "IPY_MODEL_1c004e7e06b742cebd0b70a2211dfbe2",
       "max": 18,
       "style": "IPY_MODEL_b5af38188fdb4c1aa643db2dca504474",
       "value": 18
      }
     },
     "e769b74e4e9b4b86aab9495d9af433b4": {
      "model_module": "@jupyter-widgets/controls",
      "model_module_version": "2.0.0",
      "model_name": "FloatProgressModel",
      "state": {
       "bar_style": "success",
       "layout": "IPY_MODEL_d2799a2735524d1fba4ade7b333c2ff3",
       "max": 18,
       "style": "IPY_MODEL_b7466f646e4d4188a649c88962ecf8fc",
       "value": 18
      }
     },
     "ee75a35214e54ca69f40cd0f936527bb": {
      "model_module": "@jupyter-widgets/base",
      "model_module_version": "2.0.0",
      "model_name": "LayoutModel",
      "state": {}
     },
     "f79c5c46794e44ac991aaad3df38c462": {
      "model_module": "@jupyter-widgets/controls",
      "model_module_version": "2.0.0",
      "model_name": "HTMLStyleModel",
      "state": {
       "description_width": "",
       "font_size": null,
       "text_color": null
      }
     },
     "fce954690b9541e29c4c5a1d585ead4d": {
      "model_module": "jupyter-matplotlib",
      "model_module_version": "^0.11",
      "model_name": "ToolbarModel",
      "state": {
       "_model_module_version": "^0.11",
       "_view_module_version": "^0.11",
       "collapsed": true,
       "layout": "IPY_MODEL_1e8ea2ef36914e299fd8b187f4fce4f5",
       "orientation": "vertical",
       "toolitems": [
        [
         "Home",
         "Reset original view",
         "home",
         "home"
        ],
        [
         "Back",
         "Back to previous view",
         "arrow-left",
         "back"
        ],
        [
         "Forward",
         "Forward to next view",
         "arrow-right",
         "forward"
        ],
        [
         "Pan",
         "Left button pans, Right button zooms\nx/y fixes axis, CTRL fixes aspect",
         "arrows",
         "pan"
        ],
        [
         "Zoom",
         "Zoom to rectangle\nx/y fixes axis",
         "square-o",
         "zoom"
        ],
        [
         "Download",
         "Download plot",
         "floppy-o",
         "save_figure"
        ]
       ]
      }
     },
     "fea61d2b88724ba88035a9653d4ae02f": {
      "model_module": "@jupyter-widgets/base",
      "model_module_version": "2.0.0",
      "model_name": "LayoutModel",
      "state": {}
     }
    },
    "version_major": 2,
    "version_minor": 0
   }
  }
 },
 "nbformat": 4,
 "nbformat_minor": 4
}
