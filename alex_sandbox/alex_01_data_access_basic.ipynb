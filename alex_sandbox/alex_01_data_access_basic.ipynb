{
 "cells": [
  {
   "cell_type": "markdown",
   "metadata": {},
   "source": [
    "Valid for ping 0.25 (25/10/2024)\n",
    "\n",
    "## Data access core concepts"
   ]
  },
  {
   "cell_type": "code",
   "execution_count": 31,
   "metadata": {},
   "outputs": [],
   "source": [
    "%matplotlib widget\n",
    "\n",
    "import numpy as np\n",
    "import themachinethatgoesping as pingmachine\n",
    "from matplotlib import pyplot as plt\n",
    "from tqdm.auto import tqdm"
   ]
  },
  {
   "cell_type": "markdown",
   "metadata": {},
   "source": [
    "### 1. List raw data files with find_files()"
   ]
  },
  {
   "cell_type": "code",
   "execution_count": 32,
   "metadata": {
    "execution": {
     "iopub.execute_input": "2024-10-25T10:55:15.171710Z",
     "iopub.status.busy": "2024-10-25T10:55:15.171508Z",
     "iopub.status.idle": "2024-10-25T10:55:15.178192Z",
     "shell.execute_reply": "2024-10-25T10:55:15.177918Z",
     "shell.execute_reply.started": "2024-10-25T10:55:15.171699Z"
    }
   },
   "outputs": [
    {
     "name": "stdout",
     "output_type": "stream",
     "text": [
      "Found 8 files\n"
     ]
    }
   ],
   "source": [
    "# define a folder to search for raw data files\n",
    "folder = r'C:\\Users\\Schimel_Alexandre\\Data\\MBES\\Kongsberg all\\EM2040\\KV-Meritaito_2024_EM2040_Sorvest-F-1-1-extracts-WCD'\n",
    "\n",
    "# find all Kongsberg files in the list of folders\n",
    "files = pingmachine.echosounders.index_functions.find_files(folder, [\".all\",\"wcd\"])"
   ]
  },
  {
   "cell_type": "code",
   "execution_count": 33,
   "metadata": {},
   "outputs": [
    {
     "name": "stdout",
     "output_type": "stream",
     "text": [
      "<class 'list'>\n",
      "<class 'str'>\n",
      "C:\\Users\\Schimel_Alexandre\\Data\\MBES\\Kongsberg all\\EM2040\\KV-Meritaito_2024_EM2040_Sorvest-F-1-1-extracts-WCD\\0225_20240427_083531.all\n"
     ]
    }
   ],
   "source": [
    "# The output of find_files() is a list of file paths, which are strings\n",
    "print(type(files))\n",
    "print(type(files[0]))\n",
    "print(files[0])"
   ]
  },
  {
   "cell_type": "code",
   "execution_count": 34,
   "metadata": {
    "execution": {
     "iopub.execute_input": "2024-10-25T10:55:15.178681Z",
     "iopub.status.busy": "2024-10-25T10:55:15.178529Z",
     "iopub.status.idle": "2024-10-25T10:55:15.181068Z",
     "shell.execute_reply": "2024-10-25T10:55:15.180835Z",
     "shell.execute_reply.started": "2024-10-25T10:55:15.178669Z"
    }
   },
   "outputs": [
    {
     "name": "stdout",
     "output_type": "stream",
     "text": [
      "(0/8) C:\\Users\\Schimel_Alexandre\\Data\\MBES\\Kongsberg all\\EM2040\\KV-Meritaito_2024_EM2040_Sorvest-F-1-1-extracts-WCD\\0225_20240427_083531.all\n",
      "(1/8) C:\\Users\\Schimel_Alexandre\\Data\\MBES\\Kongsberg all\\EM2040\\KV-Meritaito_2024_EM2040_Sorvest-F-1-1-extracts-WCD\\0225_20240427_083531.wcd\n",
      "(2/8) C:\\Users\\Schimel_Alexandre\\Data\\MBES\\Kongsberg all\\EM2040\\KV-Meritaito_2024_EM2040_Sorvest-F-1-1-extracts-WCD\\0266_20240429_171944.all\n",
      "(3/8) C:\\Users\\Schimel_Alexandre\\Data\\MBES\\Kongsberg all\\EM2040\\KV-Meritaito_2024_EM2040_Sorvest-F-1-1-extracts-WCD\\0266_20240429_171944.wcd\n",
      "(4/8) C:\\Users\\Schimel_Alexandre\\Data\\MBES\\Kongsberg all\\EM2040\\KV-Meritaito_2024_EM2040_Sorvest-F-1-1-extracts-WCD\\0298_20240430_072549.all\n",
      "(5/8) C:\\Users\\Schimel_Alexandre\\Data\\MBES\\Kongsberg all\\EM2040\\KV-Meritaito_2024_EM2040_Sorvest-F-1-1-extracts-WCD\\0298_20240430_072549.wcd\n",
      "(6/8) C:\\Users\\Schimel_Alexandre\\Data\\MBES\\Kongsberg all\\EM2040\\KV-Meritaito_2024_EM2040_Sorvest-F-1-1-extracts-WCD\\0330_20240430_140406.all\n",
      "(7/8) C:\\Users\\Schimel_Alexandre\\Data\\MBES\\Kongsberg all\\EM2040\\KV-Meritaito_2024_EM2040_Sorvest-F-1-1-extracts-WCD\\0330_20240430_140406.wcd\n"
     ]
    }
   ],
   "source": [
    "# show files found\n",
    "files.sort()\n",
    "for i, file in enumerate(files):\n",
    "    print(f\"({i}/{len(files)}) {file}\")"
   ]
  },
  {
   "cell_type": "markdown",
   "metadata": {},
   "source": [
    "### 2. Create a File Handler object to access the raw data files"
   ]
  },
  {
   "cell_type": "code",
   "execution_count": 35,
   "metadata": {
    "execution": {
     "iopub.execute_input": "2024-10-25T10:55:15.181539Z",
     "iopub.status.busy": "2024-10-25T10:55:15.181382Z",
     "iopub.status.idle": "2024-10-25T10:55:15.203883Z",
     "shell.execute_reply": "2024-10-25T10:55:15.203642Z",
     "shell.execute_reply.started": "2024-10-25T10:55:15.181529Z"
    }
   },
   "outputs": [
    {
     "name": "stdout",
     "output_type": "stream",
     "text": [
      "indexing files ⠐ 100% [00m:00s<00m:00s] [.._20240427_083531.all (1/8)]                              \n",
      "indexing files ⠠ 100% [00m:00s<00m:00s] [.._20240430_140406.wcd (8/8)]                              \n",
      "indexing files ⢀ 100% [00m:00s<00m:00s] [Found: 7463 datagrams in 8 files (258MB)]                                          \n",
      "Initializing ping interface ⠄ 75% [00m:00s<00m:00s] [Done]                                              \n"
     ]
    }
   ],
   "source": [
    "# Create a File Handler to access the raw data files\n",
    "fileHandler = pingmachine.echosounders.kongsbergall.KongsbergAllFileHandler(files)"
   ]
  },
  {
   "cell_type": "code",
   "execution_count": 36,
   "metadata": {},
   "outputs": [
    {
     "data": {
      "text/plain": [
       "themachinethatgoesping.echosounders_cppy.kongsbergall.KongsbergAllFileHandler"
      ]
     },
     "execution_count": 36,
     "metadata": {},
     "output_type": "execute_result"
    }
   ],
   "source": [
    "# Notes:\n",
    "#   - A File Handler does not load the data. It only indexes it and provides access to them as a combined file stream\n",
    "#   - A file Handler is initalized with the list of files\n",
    "#   - A File Handler pairs .all and .wcd files\n",
    "\n",
    "# See class of a File Hander\n",
    "type(fileHandler)"
   ]
  },
  {
   "cell_type": "code",
   "execution_count": 37,
   "metadata": {},
   "outputs": [
    {
     "name": "stdout",
     "output_type": "stream",
     "text": [
      "KongsbergAllFileHandler\n",
      "#######################\n",
      "-\n",
      "File infos \n",
      "-------------                \n",
      "- Number of loaded .all files: : 4         \n",
      "- Number of loaded .wcd files: : 4         \n",
      "- Total file size: :             258.73 MB \n",
      "\n",
      " Detected datagrams \n",
      "^^^^^^^^^^^^^^^^^^^^ \n",
      "- timestamp_first:  27/04/2024 08:35:30.79 \n",
      "- timestamp_last:   30/04/2024 14:05:32.41 \n",
      "- Total:            7463                   \n",
      "- Datagrams [0x30]: 8                      [PUIDOutput]\n",
      "- Datagrams [0x31]: 40                     [PUStatusOutput]\n",
      "- Datagrams [0x41]: 39                     [AttitudeDatagram]\n",
      "- Datagrams [0x43]: 42                     [ClockDatagram]\n",
      "- Datagrams [0x47]: 1                      [SurfaceSoundSpeedDatagram]\n",
      "- Datagrams [0x49]: 8                      [InstallationParametersStart]\n",
      "- Datagrams [0x4e]: 836                    [RawRangeAndAngle]\n",
      "- Datagrams [0x50]: 39                     [PositionDatagram]\n",
      "- Datagrams [0x52]: 14                     [RuntimeParameters]\n",
      "- Datagrams [0x55]: 8                      [SoundSpeedProfileDatagram]\n",
      "- Datagrams [0x58]: 836                    [XYZDatagram]\n",
      "- Datagrams [0x59]: 836                    [SeabedImageData]\n",
      "- Datagrams [0x68]: 39                     [DepthOrHeightDatagram]\n",
      "- Datagrams [0x69]: 8                      [InstallationParametersStop]\n",
      "- Datagrams [0x6b]: 4308                   [WatercolumnDatagram]\n",
      "- Datagrams [0x6e]: 401                    [NetworkAttitudeVelocityDatagram]\n",
      "\n",
      " Detected Pings \n",
      "---------------- \n",
      "\n",
      " Time info \n",
      "^^^^^^^^^^^             \n",
      "- Start time: 27/04/2024 08:35:31.24 \n",
      "- End time:   30/04/2024 14:04:11.90 \n",
      "- Sorted:     no                     \n",
      "\n",
      " Contained pings \n",
      "^^^^^^^^^^^^^^^^^ \n",
      "- Total:   836 \n",
      "- TRX-333: 418 \n",
      "- TRX-335: 418 \n"
     ]
    }
   ],
   "source": [
    "# Use the print function to get a summary of the dataset that can be accessed with the File Handler\n",
    "print(fileHandler)"
   ]
  },
  {
   "cell_type": "markdown",
   "metadata": {},
   "source": [
    "### 3. Access a group of pings with the File Handler"
   ]
  },
  {
   "cell_type": "code",
   "execution_count": 38,
   "metadata": {
    "execution": {
     "iopub.execute_input": "2024-10-25T10:55:15.204356Z",
     "iopub.status.busy": "2024-10-25T10:55:15.204207Z",
     "iopub.status.idle": "2024-10-25T10:55:15.206805Z",
     "shell.execute_reply": "2024-10-25T10:55:15.206589Z",
     "shell.execute_reply.started": "2024-10-25T10:55:15.204340Z"
    }
   },
   "outputs": [
    {
     "data": {
      "text/plain": [
       "themachinethatgoesping.echosounders_cppy.kongsbergall.filedatacontainers.KongsbergAllPingContainer"
      ]
     },
     "execution_count": 38,
     "metadata": {},
     "output_type": "execute_result"
    }
   ],
   "source": [
    "# Access a group of pings from the File Handler with the get_pings() method\n",
    "pingContainer = fileHandler.get_pings()\n",
    "\n",
    "# The output is a Ping Container object\n",
    "type(pingContainer)"
   ]
  },
  {
   "cell_type": "code",
   "execution_count": 39,
   "metadata": {},
   "outputs": [
    {
     "name": "stdout",
     "output_type": "stream",
     "text": [
      "PingContainer\n",
      "#############\n",
      "-\n",
      "Time info \n",
      "------------            \n",
      "- Start time: 27/04/2024 08:35:31.24 \n",
      "- End time:   30/04/2024 14:04:11.90 \n",
      "- Sorted:     ascending              \n",
      "\n",
      " Contained pings \n",
      "----------------- \n",
      "- Total:   836 \n",
      "- TRX-333: 418 \n",
      "- TRX-335: 418 \n"
     ]
    }
   ],
   "source": [
    "# Use the print function to get a summary of the contents of a Ping Container\n",
    "print(pingContainer)"
   ]
  },
  {
   "cell_type": "markdown",
   "metadata": {},
   "source": [
    "### 4. Access an individual ping in the Ping Container\n"
   ]
  },
  {
   "cell_type": "code",
   "execution_count": 40,
   "metadata": {},
   "outputs": [
    {
     "data": {
      "text/plain": [
       "themachinethatgoesping.echosounders_cppy.kongsbergall.filetypes.KongsbergAllPing"
      ]
     },
     "execution_count": 40,
     "metadata": {},
     "output_type": "execute_result"
    }
   ],
   "source": [
    "# Access an individual ping in a Ping Container simply by indexing\n",
    "ping = pingContainer[42]\n",
    "\n",
    "# The result is a Ping object\n",
    "type(ping)"
   ]
  },
  {
   "cell_type": "code",
   "execution_count": 41,
   "metadata": {},
   "outputs": [
    {
     "name": "stdout",
     "output_type": "stream",
     "text": [
      "KongsbergAllPing\n",
      "################\n",
      "-\n",
      "Ping infos \n",
      "-------------                                                                                                                                                                                                                                                                                                                                                                                 \n",
      "- Channel id:             TRX-333                                                                                                                                                                                                                                                                                                                                                                           \n",
      "- Time info:              27/04/2024 08:35:33.13                                                                                                                                                                                                                                                                                                                                                           \n",
      "                          [1714206933.126000]\n",
      "- Features:               .get_timestamp, .get_datetime, .get_channel_id, .get_sensor_configuration, .get_sensor_data_latlon, .get_geolocation                                                                                                                                                                                                                                                              \n",
      "- Feature groups:         .bottom, .watercolumn                                                                                                                                                                                                                                                                                                                                                             \n",
      "- Features(.bottom):      .bottom : .get_two_way_travel_times, .get_xyz, .get_tx_signal_parameters, .get_number_of_tx_sectors, .get_beam_crosstrack_angles                                                                                                                                                                                                                                                  \n",
      "- Features(.watercolumn): .watercolumn : .get_amplitudes, .get_tx_signal_parameters, .get_number_of_tx_sectors, .get_beam_numbers_per_tx_sector, .get_beam_selection_all, .get_number_of_beams, .get_tx_sector_per_beam, .get_beam_crosstrack_angles, .get_bottom_range_samples, .get_amplitudes, .get_rp, .get_rv, .get_pp, .get_pv, .get_ap, .get_av, .get_power, .get_multisectorwatercolumn_calibration\n",
      "                          [Not:.get_sp, .get_sv, .get_watercolumn_calibration]\n",
      "\n",
      " Geolocation \n",
      "------------- \n",
      "- latitude:  56°37'17.4\"N  [ddd°mm',ss.s''N/S]\n",
      "- longitude: 4°37'54.9\"E   [ddd°mm',ss.s''E/W]\n",
      "- z:         3.981         [positive downwards, m]\n",
      "- yaw:       354.200       [90 ° at east]\n",
      "- pitch:     -0.799        [° positive bow up]\n",
      "- roll:      -25.354       [° positive port up]\n"
     ]
    }
   ],
   "source": [
    "# Use the print function to get a summary of the contents of a Ping object\n",
    "print(ping)"
   ]
  },
  {
   "cell_type": "markdown",
   "metadata": {},
   "source": [
    "### 5. Access data in a ping"
   ]
  },
  {
   "cell_type": "code",
   "execution_count": 42,
   "metadata": {
    "execution": {
     "iopub.execute_input": "2024-10-25T10:55:15.213651Z",
     "iopub.status.busy": "2024-10-25T10:55:15.213419Z",
     "iopub.status.idle": "2024-10-25T10:55:15.218330Z",
     "shell.execute_reply": "2024-10-25T10:55:15.218099Z",
     "shell.execute_reply.started": "2024-10-25T10:55:15.213640Z"
    }
   },
   "outputs": [
    {
     "data": {
      "text/plain": [
       "themachinethatgoesping.navigation.datastructures.GeolocationLatLon"
      ]
     },
     "execution_count": 42,
     "metadata": {},
     "output_type": "execute_result"
    }
   ],
   "source": [
    "# A Ping object has 3 types of information: base, bottom, and water-column. Let's just talk here about the base information\n",
    "\n",
    "# An example of base information is location\n",
    "pingLocation = ping.get_geolocation()\n",
    "\n",
    "# see class of a \"Ping Location\" object\n",
    "type(pingLocation)"
   ]
  },
  {
   "cell_type": "code",
   "execution_count": 43,
   "metadata": {},
   "outputs": [
    {
     "name": "stdout",
     "output_type": "stream",
     "text": [
      "GeolocationLatLon (struct)\n",
      "##########################\n",
      "- latitude:  56°37'17.4\"N  [ddd°mm',ss.s''N/S]\n",
      "- longitude: 4°37'54.9\"E   [ddd°mm',ss.s''E/W]\n",
      "- z:         3.981         [positive downwards, m]\n",
      "- yaw:       354.200       [90 ° at east]\n",
      "- pitch:     -0.799        [° positive bow up]\n",
      "- roll:      -25.354       [° positive port up]\n"
     ]
    }
   ],
   "source": [
    "# Use the print function to get a summary of the contents of a Ping Location\n",
    "print(pingLocation)"
   ]
  },
  {
   "cell_type": "code",
   "execution_count": 44,
   "metadata": {},
   "outputs": [
    {
     "name": "stdout",
     "output_type": "stream",
     "text": [
      "Example ping location - Latitude: 56.62150634373657, Longitude: 4.63191275840126\n"
     ]
    }
   ],
   "source": [
    "# Data in a Ping Location are simple attributes\n",
    "print(f\"Example ping location - Latitude: {pingLocation.latitude}, Longitude: {pingLocation.longitude}\")"
   ]
  },
  {
   "cell_type": "markdown",
   "metadata": {},
   "source": [
    "### 6. Conclusion\n",
    "Putting it all together with an example. If you want to extract latitudes and longitudes from all pings in the entire dataset"
   ]
  },
  {
   "cell_type": "code",
   "execution_count": 45,
   "metadata": {},
   "outputs": [
    {
     "name": "stdout",
     "output_type": "stream",
     "text": [
      "Found 8 files\n",
      "indexing files ⠐ 100% [00m:00s<00m:00s] [.._20240427_083531.all (1/8)]                              \n",
      "indexing files ⠠ 100% [00m:00s<00m:00s] [.._20240430_140406.wcd (8/8)]                              \n",
      "indexing files ⢀ 100% [00m:00s<00m:00s] [Found: 7463 datagrams in 8 files (258MB)]                                          \n",
      "Initializing ping interface ⠄ 75% [00m:00s<00m:00s] [Done]                                              \n"
     ]
    },
    {
     "data": {
      "text/plain": [
       "[<matplotlib.lines.Line2D at 0x25cf9ba20c0>]"
      ]
     },
     "execution_count": 45,
     "metadata": {},
     "output_type": "execute_result"
    },
    {
     "data": {
      "application/vnd.jupyter.widget-view+json": {
       "model_id": "02fa7b1ead624004938e31cf630303e2",
       "version_major": 2,
       "version_minor": 0
      },
      "image/png": "[encoded data removed]",
      "text/html": [
       "\n",
       "            <div style=\"display: inline-block;\">\n",
       "                <div class=\"jupyter-widgets widget-label\" style=\"text-align: center;\">\n",
       "                    Figure\n",
       "                </div>\n",
       "                <img src='data:image/png;base64,iVBORw0KGgoAAAANSUhEUgAAAoAAAAHgCAYAAAA10dzkAAAAOXRFWHRTb2Z0d2FyZQBNYXRwbG90bGliIHZlcnNpb24zLjkuMCwgaHR0cHM6Ly9tYXRwbG90bGliLm9yZy80BEi2AAAACXBIWXMAAA9hAAAPYQGoP6dpAAAzYElEQVR4nO3dfXRU5YHH8d+QaIyRCVXyMmPTvAlJSCX40qaEAC2JEJbDIvXQkkaL+FqFxcQSm3gEgrxErUUOuOLqKgStupb61lVjSbqyB5kEdCs0dQl5AUN4XYLJECVRw90/PN46kiBCwkzyfD/n3HO8d555cm8u9H47d2ZwWJZlCQAAAMYY5O8dAAAAwLlFAAIAABiGAAQAADAMAQgAAGAYAhAAAMAwBCAAAIBhCEAAAADDEIAAAACGIQABAAAMQwACAAAYhgAEAAAwDAEIAABgGAIQAADAMAQgAACAYQhAAAAAwxCAAAAAhiEAAQAADEMAAgAAGIYABAAAMAwBCAAAYBgCEAAAwDAEIAAAgGEIQAAAAMMQgAAAAIYhAAEAAAxDAAIAABiGAAQAADAMAQgAAGAYAhAAAMAwBCAAAIBhCEAAAADDEIAAAACGIQABAAAMQwACAAAYhgAEAAAwDAEIAABgGAIQAADAMAQgAACAYQhAAAAAwxCAAAAAhiEAAQAADEMAAgAAGIYABAAAMAwBCAAAYBgCEAAAwDAEIAAAgGEIQAAAAMMQgAAAAIYhAAEAAAxDAAIAABiGAAQAADAMAQgAAGAYAhAAAMAwBCAAAIBhCEAAAADDEIAAAACGCfb3DvRnJ06c0P79+zV48GA5HA5/7w4AADgNlmXp2LFjcrvdGjTIzNfCCMCzsH//fsXExPh7NwAAwBnYu3evvvvd7/p7N/yCADwLgwcPlvTFHyCn0+nnvQEAAKfD6/UqJibGvo6biAA8C1/e9nU6nQQgAAD9jMlv3zLzxjcAAIDBCEAAAADDEIAAAACGIQABAAAMQwACAAAYhgAEAAAwDAEIAABgGAIQAADAMAQgAACAYQhAAAAAw/BPwQEAgIATV/S6/d97Hpjixz0ZmHgFEAAABJSvxl936zh7BCAAAAgYPcUeEdi7CEAAAADDEIAAAACGIQABAAAM4/cALCkpkcPh8FmSk5N9xng8Hk2YMEFhYWFyOp0aN26cjh8/3uOcx44dU35+vmJjYxUaGqqMjAxt27bNZ8yNN9540s/Nycnpk2MEAACnp6dP/PJJ4N4VEF8Dk5qaqoqKCns9OPgfu+XxeJSTk6Pi4mKtXr1awcHB2r59uwYN6rldb7nlFtXU1OiZZ56R2+3Ws88+q+zsbH3wwQe69NJL7XE5OTlau3atvR4SEtLLRwYAAL6tPQ9M4Wtg+lhABGBwcLCio6O7faygoEDz5s1TUVGRvS0pKanHuY4fP64//vGPevXVVzVu3DhJX7zK+Kc//Ulr1qzR0qVL7bEhISE9/lwAAOA/RF/f8vstYEmqq6uT2+1WQkKC8vLy1NTUJEk6fPiwqqurFRkZqYyMDEVFRWn8+PHavHlzj3N9/vnn6urq0gUXXOCzPTQ09KTnvf3224qMjFRSUpLuuOMOtbS0nHI/Ozs75fV6fRYAAID+xu8BmJ6ernXr1qm8vFxr1qzR7t27NXbsWB07dkyNjY2SvngF79Zbb1V5ebmuvPJKZWVlqa6urtv5Bg8erNGjR2vJkiXav3+/urq69Oyzz8rj8ejAgQP2uJycHK1fv16VlZV68MEHtWnTJk2ePFldXV097mtpaanCw8PtJSYmpnd/GQAAAOeAw7Isy9878VWtra2KjY3VihUrlJKSojFjxqi4uFjLly+3x4wcOVJTpkxRaWlpt3M0NDTopptu0n//938rKChIV155pYYPH6733ntP//u//9vtcxobG5WYmKiKigplZWV1O6azs1OdnZ32utfrVUxMjNra2uR0Os/iqAEAwLni9XoVHh5u9PXb768Aft2QIUM0fPhw1dfXy+VySZJGjBjhMyYlJcW+TdydxMREbdq0Se3t7dq7d6+2bt2qzz77TAkJCT0+JyEhQUOHDlV9fX2PY0JCQuR0On0WAACA/ibgArC9vV0NDQ1yuVyKi4uT2+1WbW2tz5hdu3YpNjb2G+cKCwuTy+XSRx99pLfeekvTpk3rcWxzc7NaWlrs6AQAABio/B6A8+fP16ZNm7Rnzx5t2bJF06dPV1BQkHJzc+VwOFRYWKhVq1Zpw4YNqq+v14IFC7Rz507dfPPN9hxZWVl69NFH7fW33npL5eXl2r17tzZu3Kif/OQnSk5O1uzZsyV9EZmFhYWqqqrSnj17VFlZqWnTpumyyy7TpEmTzvnvAAAA4Fzy+9fANDc3Kzc3Vy0tLYqIiFBmZqaqqqoUEREhScrPz1dHR4cKCgp09OhRpaWlaePGjUpMTLTnaGho0JEjR+z1trY2FRcXq7m5WRdffLGuu+46LVu2TOedd54kKSgoSDt27FBZWZlaW1vldrs1ceJELVmyhO8CBAAAA17AfQikP+FNpAAA9D9cvwPgFjAAAADOLQIQAADAMAQgAACAYQhAAAAAwxCAAAAAhiEAAQAADEMAAgAAGIYABAAAMAwBCAAAYBgCEAAAwDAEIAAAgGEIQAAAAMMQgAAAAIYhAAEAAAxDAAIAABiGAAQAADAMAQgAAGAYAhAAAMAwBCAAAIBhCEAAAADDEIAAAACGIQABAAAMQwACAAAYhgAEAAAwDAEIAABgGAIQAADAMAQgAACAYQhAAAAAwxCAAAAAhiEAAQAADEMAAgAAGIYABAAAMAwBCAAAYBgCEAAAwDAEIAAAgGEIQAAAAMMQgAAAAIYhAAEAAAzj9wAsKSmRw+HwWZKTk33GeDweTZgwQWFhYXI6nRo3bpyOHz/e45zHjh1Tfn6+YmNjFRoaqoyMDG3bts1njGVZWrhwoVwul0JDQ5Wdna26uro+OUYAAIBA4vcAlKTU1FQdOHDAXjZv3mw/5vF4lJOTo4kTJ2rr1q3atm2b5s6dq0GDet71W265RRs3btQzzzyjv/3tb5o4caKys7O1b98+e8xDDz2kVatW6fHHH1d1dbXCwsI0adIkdXR09OmxAgAA+JvDsizLnztQUlKiV155Re+//363j//oRz/SNddcoyVLlpzWfMePH9fgwYP16quvasqUKfb2q666SpMnT9bSpUtlWZbcbrd+/etfa/78+ZKktrY2RUVFad26dZo5c+Zp/Syv16vw8HC1tbXJ6XSe1nMAAIB/cf0OkFcA6+rq5Ha7lZCQoLy8PDU1NUmSDh8+rOrqakVGRiojI0NRUVEaP368zyuEX/f555+rq6tLF1xwgc/20NBQ+3m7d+/WwYMHlZ2dbT8eHh6u9PR0eTyeHufu7OyU1+v1WQAAAPobvwdgenq61q1bp/Lycq1Zs0a7d+/W2LFjdezYMTU2Nkr64lXCW2+9VeXl5bryyiuVlZXV4/v1Bg8erNGjR2vJkiXav3+/urq69Oyzz8rj8ejAgQOSpIMHD0qSoqKifJ4bFRVlP9ad0tJShYeH20tMTExv/AoAAADOKb8H4OTJkzVjxgyNHDlSkyZN0htvvKHW1la9+OKLOnHihCTp9ttv1+zZs3XFFVfokUceUVJSkp5++uke53zmmWdkWZYuvfRShYSEaNWqVcrNzT3l+wZPR3Fxsdra2uxl7969ZzUfAACAP/g9AL9uyJAhGj58uOrr6+VyuSRJI0aM8BmTkpJi3ybuTmJiojZt2qT29nbt3btXW7du1WeffaaEhARJUnR0tCTp0KFDPs87dOiQ/Vh3QkJC5HQ6fRYAAID+JuACsL29XQ0NDXK5XIqLi5Pb7VZtba3PmF27dik2NvYb5woLC5PL5dJHH32kt956S9OmTZMkxcfHKzo6WpWVlfZYr9er6upqjR49uncPCAAAIMAE+3sH5s+fr6lTpyo2Nlb79+/XokWLFBQUpNzcXDkcDhUWFmrRokVKS0vTqFGjVFZWpp07d2rDhg32HFlZWZo+fbrmzp0rSXrrrbdkWZaSkpJUX1+vwsJCJScna/bs2ZIkh8Oh/Px8LV26VMOGDVN8fLwWLFggt9uta6+91h+/BgAAgHPG7wHY3Nys3NxctbS0KCIiQpmZmaqqqlJERIQkKT8/Xx0dHSooKNDRo0eVlpamjRs3KjEx0Z6joaFBR44csdfb2tpUXFys5uZmXXzxxbruuuu0bNkynXfeefaYe+65Rx9//LFuu+02tba2KjMzU+Xl5Sd9ehgAAGCg8fv3APZnfI8QAAD9D9fvAHwPIAAAAPoWAQgAAGAYAhAAAMAwBCAAAIBhCEAAAADDEIAAAACGIQABAAAMQwACAAAYhgAEAAAwDAEIAABgGAIQAADAMAQgAACAYQhAAAAAwxCAAAAAhiEAAQAADEMAAgAAGIYABAAAMAwBCAAAYBgCEAAAwDAEIAAAgGEIQAAAAMMQgAAAAIYhAAEAAAxDAAIAABiGAAQAADAMAQgAAGAYAhAAAMAwBCAAAIBhCEAAAADDEIAAAACGIQABAAAMQwACAAAYhgAEAAAwDAEIAABgGAIQAADAMAQgAACAYQhAAAAAwxCAAAAAhvF7AJaUlMjhcPgsycnJPmM8Ho8mTJigsLAwOZ1OjRs3TsePH+9xzq6uLi1YsEDx8fEKDQ1VYmKilixZIsuy7DE33njjST83Jyenz44TAAAgUAT7ewckKTU1VRUVFfZ6cPA/dsvj8SgnJ0fFxcVavXq1goODtX37dg0a1HO7Pvjgg1qzZo3KysqUmpqqd999V7Nnz1Z4eLjmzZtnj8vJydHatWvt9ZCQkF4+MgAAgMATEAEYHBys6Ojobh8rKCjQvHnzVFRUZG9LSko65XxbtmzRtGnTNGXKFElSXFycnn/+eW3dutVnXEhISI8/FwAAYKDy+y1gSaqrq5Pb7VZCQoLy8vLU1NQkSTp8+LCqq6sVGRmpjIwMRUVFafz48dq8efMp58vIyFBlZaV27dolSdq+fbs2b96syZMn+4x7++23FRkZqaSkJN1xxx1qaWnpmwMEAAAIIA7rq2+M84M333xT7e3tSkpK0oEDB7R48WLt27dPNTU1+vvf/67Ro0fr4osv1sMPP6xRo0Zp/fr1euyxx1RTU6Nhw4Z1O+eJEyd077336qGHHlJQUJC6urq0bNkyFRcX22NeeOEFXXjhhYqPj1dDQ4PuvfdeXXTRRfJ4PAoKCup23s7OTnV2dtrrXq9XMTExamtrk9Pp7N1fDAAA6BNer1fh4eFGX7/9HoBf19raqtjYWK1YsUIpKSkaM2aMiouLtXz5cnvMyJEjNWXKFJWWlnY7xwsvvKDCwkL99re/VWpqqt5//33l5+drxYoVmjVrVrfPaWxsVGJioioqKpSVldXtmJKSEi1evPik7Sb/AQIAoL8hAAPkFvBXDRkyRMOHD1d9fb1cLpckacSIET5jUlJS7NvE3SksLFRRUZFmzpypyy+/XDfccIMKCgp6DEZJSkhI0NChQ1VfX9/jmOLiYrW1tdnL3r17v+XRAQAA+F/ABWB7e7saGhrkcrkUFxcnt9ut2tpanzG7du1SbGxsj3N88sknJ31KOCgoSCdOnOjxOc3NzWppabGjszshISFyOp0+CwAAQH/j9wCcP3++Nm3apD179mjLli2aPn26goKClJubK4fDocLCQq1atUobNmxQfX29FixYoJ07d+rmm2+258jKytKjjz5qr0+dOlXLli3T66+/rj179ujll1/WihUrNH36dElfRGZhYaGqqqq0Z88eVVZWatq0abrssss0adKkc/47AAAAOJf8/jUwzc3Nys3NVUtLiyIiIpSZmamqqipFRERIkvLz89XR0aGCggIdPXpUaWlp2rhxoxITE+05GhoadOTIEXt99erVWrBgge68804dPnxYbrdbt99+uxYuXCjpi1cDd+zYobKyMrW2tsrtdmvixIlasmQJ3wUIAAAGvID7EEh/wptIAQDof7h+B8AtYAAAAJxbBCAAAIBhCEAAAADDEIAAAACGIQABAAAMQwACAAAYhgAEAAAwDAEIAABgGAIQAADAMAQgAACAYQhAAAAAwxCAAAAAhiEAAQAADEMAAgAAGIYABAAAMAwBCAAAYBgCEAAAwDAEIAAAgGEIQAAAAMMQgAAAAIYhAAEAAAxDAAIAABiGAAQAADAMAQgAAGAYAhAAAMAwBCAAAIBhCEAAAADDEIAAAACGIQABAAAMQwACAAAYhgAEAAAwDAEIAABgGAIQAADAMAQgAACAYQhAAAAAwxCAAAAAhiEAAQAADEMAAgAAGMbvAVhSUiKHw+GzJCcn+4zxeDyaMGGCwsLC5HQ6NW7cOB0/frzHObu6urRgwQLFx8crNDRUiYmJWrJkiSzLssdYlqWFCxfK5XIpNDRU2dnZqqur67PjBAAACBTB/t4BSUpNTVVFRYW9Hhz8j93yeDzKyclRcXGxVq9ereDgYG3fvl2DBvXcrg8++KDWrFmjsrIypaam6t1339Xs2bMVHh6uefPmSZIeeughrVq1SmVlZYqPj9eCBQs0adIkffDBB7rgggv67mABAAD8LCACMDg4WNHR0d0+VlBQoHnz5qmoqMjelpSUdMr5tmzZomnTpmnKlCmSpLi4OD3//PPaunWrpC9e/Vu5cqXuu+8+TZs2TZK0fv16RUVF6ZVXXtHMmTN747AAAAACkt9vAUtSXV2d3G63EhISlJeXp6amJknS4cOHVV1drcjISGVkZCgqKkrjx4/X5s2bTzlfRkaGKisrtWvXLknS9u3btXnzZk2ePFmStHv3bh08eFDZ2dn2c8LDw5Weni6Px9NHRwkAABAY/P4KYHp6utatW6ekpCQdOHBAixcv1tixY1VTU6PGxkZJX7xP8OGHH9aoUaO0fv16ZWVlqaamRsOGDet2zqKiInm9XiUnJysoKEhdXV1atmyZ8vLyJEkHDx6UJEVFRfk8Lyoqyn6sO52dners7LTXvV7vWR07AACAP/g9AL98VU6SRo4cqfT0dMXGxurFF19USkqKJOn222/X7NmzJUlXXHGFKisr9fTTT6u0tLTbOV988UX9/ve/13PPPafU1FS9//77ys/Pl9vt1qxZs854X0tLS7V48eIzfj4AAEAgCIhbwF81ZMgQDR8+XPX19XK5XJKkESNG+IxJSUmxbxN3p7CwUEVFRZo5c6Yuv/xy3XDDDSooKLCD8cv3Gx46dMjneYcOHerxvYiSVFxcrLa2NnvZu3fvGR0jAACAPwVcALa3t6uhoUEul0txcXFyu92qra31GbNr1y7Fxsb2OMcnn3xy0qeEg4KCdOLECUlSfHy8oqOjVVlZaT/u9XpVXV2t0aNH9zhvSEiInE6nzwIAANDf+P0W8Pz58zV16lTFxsZq//79WrRokYKCgpSbmyuHw6HCwkItWrRIaWlpGjVqlMrKyrRz505t2LDBniMrK0vTp0/X3LlzJUlTp07VsmXL9L3vfU+pqan661//qhUrVuimm26SJDkcDuXn52vp0qUaNmyY/TUwbrdb1157rT9+DQAAAOeM3wOwublZubm5amlpUUREhDIzM1VVVaWIiAhJUn5+vjo6OlRQUKCjR48qLS1NGzduVGJioj1HQ0ODjhw5Yq+vXr1aCxYs0J133qnDhw/L7Xbr9ttv18KFC+0x99xzjz7++GPddtttam1tVWZmpsrLy/kOQAAAMOA5rK/+8xj4Vrxer8LDw9XW1sbtYAAA+gmu3wH4HkAAAAD0LQIQAADAMAQgAACAYQhAAAAAwxCAAAAAhiEAAQAADEMAAgAAGIYABAAAMAwBCAAAYBgCEAAAwDAEIAAAgGEIQAAAAMMQgAAAAIYhAAEAAAxDAAIAABiGAAQAADAMAQgAAGAYAhAAAMAwBCAAAIBhCEAAAADDEIAAAACGIQABAAAMQwACAAAYhgAEAAAwDAEIAABgGAIQAADAMAQgAACAYQhAAAAAwxCAAAAAhiEAAQAADEMAAgAAGIYABAAAMAwBCAAAYBgCEAAAwDAEIAAAgGEIQAAAAMMQgAAAAIYhAAEAAAzj9wAsKSmRw+HwWZKTk33GeDweTZgwQWFhYXI6nRo3bpyOHz/e45xxcXEnzelwODRnzhx7zI9//OOTHv/Vr37VZ8cJAAAQKIL9vQOSlJqaqoqKCns9OPgfu+XxeJSTk6Pi4mKtXr1awcHB2r59uwYN6rldt23bpq6uLnu9pqZG11xzjWbMmOEz7tZbb9X9999vr1944YW9cTgAAAABLSACMDg4WNHR0d0+VlBQoHnz5qmoqMjelpSUdMr5IiIifNYfeOABJSYmavz48T7bL7zwwh5/LgAAwEDl91vAklRXVye3262EhATl5eWpqalJknT48GFVV1crMjJSGRkZioqK0vjx47V58+bTnvvTTz/Vs88+q5tuukkOh8Pnsd///vcaOnSovv/976u4uFiffPJJrx4XAABAIPL7K4Dp6elat26dkpKSdODAAS1evFhjx45VTU2NGhsbJX3xPsGHH35Yo0aN0vr165WVlaWamhoNGzbsG+d/5ZVX1NraqhtvvNFn+y9+8QvFxsbK7XZrx44d+s1vfqPa2lq99NJLPc7V2dmpzs5Oe93r9Z7ZQQMAAPiRw7Isy9878VWtra2KjY3VihUrlJKSojFjxqi4uFjLly+3x4wcOVJTpkxRaWnpN843adIknX/++frTn/50ynF/+ctflJWVpfr6eiUmJnY7pqSkRIsXLz5pe1tbm5xO5zfuCwAA8D+v16vw8HCjr98BcQv4q4YMGaLhw4ervr5eLpdLkjRixAifMSkpKfZt4lP58MMPVVFRoVtuueUbx6anp0uS6uvrexxTXFystrY2e9m7d+83zgsAABBoAi4A29vb1dDQIJfLpbi4OLndbtXW1vqM2bVrl2JjY79xrrVr1yoyMlJTpkz5xrHvv/++JNnR2Z2QkBA5nU6fBQAAoL/xewDOnz9fmzZt0p49e7RlyxZNnz5dQUFBys3NlcPhUGFhoVatWqUNGzaovr5eCxYs0M6dO3XzzTfbc2RlZenRRx/1mffEiRNau3atZs2a5fO1MpLU0NCgJUuW6L333tOePXv02muv6Ze//KXGjRunkSNHnpPjBgAA8Be/fwikublZubm5amlpUUREhDIzM1VVVWV/lUt+fr46OjpUUFCgo0ePKi0tTRs3bvR5n15DQ4OOHDniM29FRYWampp00003nfQzzz//fFVUVGjlypX6+OOPFRMTo+uuu0733Xdf3x4sAABAAAi4D4H0J7yJFACA/ofrdwDcAgYAAMC5RQACAAAYhgAEAAAwDAEIAABgGAIQAADAMAQgAACAYQhAAAAAwxCAAAAAhiEAAQAADEMAAgAAGIYABAAAMAwBCAAAYBgCEAAAwDAEIAAAgGEIQAAAAMMQgAAAAIYhAAEAAAxDAAIAABiGAAQAADAMAQgAAGAYAhAAAMAwBCAAAIBhCEAAAADDEIAAAACGIQABAAAMQwACAAAYhgAEAAAwDAEIAABgGAIQAADAMAQgAACAYQhAAAAAwxCAAAAAhiEAAQAADEMAAgAAGIYABAAAMAwBCAAAYBgCEAAAwDAEIAAAgGH8HoAlJSVyOBw+S3Jyss8Yj8ejCRMmKCwsTE6nU+PGjdPx48d7nDMuLu6kOR0Oh+bMmWOP6ejo0Jw5c3TJJZfooosu0nXXXadDhw712XECAAAEimB/74AkpaamqqKiwl4PDv7Hbnk8HuXk5Ki4uFirV69WcHCwtm/frkGDem7Xbdu2qaury16vqanRNddcoxkzZtjbCgoK9Prrr+sPf/iDwsPDNXfuXP30pz/VO++808tHBwAAEFgCIgCDg4MVHR3d7WMFBQWaN2+eioqK7G1JSUmnnC8iIsJn/YEHHlBiYqLGjx8vSWpra9NTTz2l5557ThMmTJAkrV27VikpKaqqqtKPfvSjszkcAACAgOb3W8CSVFdXJ7fbrYSEBOXl5ampqUmSdPjwYVVXVysyMlIZGRmKiorS+PHjtXnz5tOe+9NPP9Wzzz6rm266SQ6HQ5L03nvv6bPPPlN2drY9Ljk5Wd/73vfk8Xh69+AAAAACjN8DMD09XevWrVN5ebnWrFmj3bt3a+zYsTp27JgaGxslffE+wVtvvVXl5eW68sorlZWVpbq6utOa/5VXXlFra6tuvPFGe9vBgwd1/vnna8iQIT5jo6KidPDgwR7n6uzslNfr9VkAAAD6G7/fAp48ebL93yNHjlR6erpiY2P14osvKiUlRZJ0++23a/bs2ZKkK664QpWVlXr66adVWlr6jfM/9dRTmjx5stxu91nva2lpqRYvXnzW8wAAAPiT318B/LohQ4Zo+PDhqq+vl8vlkiSNGDHCZ0xKSop9m/hUPvzwQ1VUVOiWW27x2R4dHa1PP/1Ura2tPtsPHTrU43sRJam4uFhtbW32snfv3tM8KgAAgMARcAHY3t6uhoYGuVwuxcXFye12q7a21mfMrl27FBsb+41zrV27VpGRkZoyZYrP9quuukrnnXeeKisr7W21tbVqamrS6NGje5wvJCRETqfTZwEAAOhv/H4LeP78+Zo6dapiY2O1f/9+LVq0SEFBQcrNzZXD4VBhYaEWLVqktLQ0jRo1SmVlZdq5c6c2bNhgz5GVlaXp06dr7ty59rYTJ05o7dq1mjVrls/XykhSeHi4br75Zt199926+OKL5XQ69S//8i8aPXo0nwAGAAADnt8DsLm5Wbm5uWppaVFERIQyMzNVVVVlf5VLfn6+Ojo6VFBQoKNHjyotLU0bN25UYmKiPUdDQ4OOHDniM29FRYWampp00003dftzH3nkEQ0aNEjXXXedOjs7NWnSJD322GN9d6AAAAABwmFZluXvneivvF6vwsPD1dbWxu1gAAD6Ca7fAfgeQAAAAPQtAhAAAMAwBCAAAIBhCEAAAADDEIAAAACGIQABAAAMQwACAAAYhgAEAAAwDAEIAABgGAIQAADAMAQgAACAYQhAAAAAwxCAAAAAhiEAAQAADEMAAgAAGIYABAAAMAwBCAAAYBgCEAAAwDAEIAAAgGEIQAAAAMMQgAAAAIYhAAEAAAxDAAIAABiGAAQAADAMAQgAAGAYAhAAAMAwBCAAAIBhCEAAAADDEIAAAACGIQABAAAMQwACAAAYhgAEAAAwDAEIAABgGAIQAADAMAQgAACAYQhAAAAAwxCAAAAAhiEAAQAADOP3ACwpKZHD4fBZkpOTfcZ4PB5NmDBBYWFhcjqdGjdunI4fP37Kefft26frr79el1xyiUJDQ3X55Zfr3XfftR+/8cYbT/q5OTk5fXKMAAAAgSTY3zsgSampqaqoqLDXg4P/sVsej0c5OTkqLi7W6tWrFRwcrO3bt2vQoJ7b9aOPPtKYMWP0k5/8RG+++aYiIiJUV1en73znOz7jcnJytHbtWns9JCSkF48KAAAgMAVEAAYHBys6OrrbxwoKCjRv3jwVFRXZ25KSkk4534MPPqiYmBifuIuPjz9pXEhISI8/FwAAYKDy+y1gSaqrq5Pb7VZCQoLy8vLU1NQkSTp8+LCqq6sVGRmpjIwMRUVFafz48dq8efMp53vttdd09dVXa8aMGYqMjNQVV1yhJ5988qRxb7/9tiIjI5WUlKQ77rhDLS0tfXJ8AAAAgcRhWZblzx1488031d7erqSkJB04cECLFy/Wvn37VFNTo7///e8aPXq0Lr74Yj388MMaNWqU1q9fr8cee0w1NTUaNmxYt3NecMEFkqS7775bM2bM0LZt23TXXXfp8ccf16xZsyRJL7zwgi688ELFx8eroaFB9957ry666CJ5PB4FBQV1O29nZ6c6Ozvtda/Xq5iYGLW1tcnpdPbybwYAAPQFr9er8PBwo6/ffg/Ar2ttbVVsbKxWrFihlJQUjRkzRsXFxVq+fLk9ZuTIkZoyZYpKS0u7neP888/X1VdfrS1bttjb5s2bp23btsnj8XT7nMbGRiUmJqqiokJZWVndjikpKdHixYtP2m7yHyAAAPobAjBAbgF/1ZAhQzR8+HDV19fL5XJJkkaMGOEzJiUlxb5N3B2Xy/Wtn5OQkKChQ4eqvr6+xzHFxcVqa2uzl717957OIQEAAASUgAvA9vZ2NTQ0yOVyKS4uTm63W7W1tT5jdu3apdjY2B7nGDNmzLd+TnNzs1paWuzo7E5ISIicTqfPAgAA0N/4PQDnz5+vTZs2ac+ePdqyZYumT5+uoKAg5ebmyuFwqLCwUKtWrdKGDRtUX1+vBQsWaOfOnbr55pvtObKysvToo4/a6wUFBaqqqtLy5ctVX1+v5557Tk888YTmzJkj6YvILCwsVFVVlfbs2aPKykpNmzZNl112mSZNmnTOfwcAAADnkt+/Bqa5uVm5ublqaWlRRESEMjMzVVVVpYiICElSfn6+Ojo6VFBQoKNHjyotLU0bN25UYmKiPUdDQ4OOHDlir//gBz/Qyy+/rOLiYt1///2Kj4/XypUrlZeXJ0kKCgrSjh07VFZWptbWVrndbk2cOFFLlizhuwABAMCAF3AfAulPeBMpAAD9D9fvALgFDAAAgHOLAAQAADAMAQgAAGAYAhAAAMAwBCAAAIBhCEAAAADDEIAAAACGIQABAAAMQwACAAAYhgAEAAAwDAEIAABgGAIQAADAMAQgAACAYQhAAAAAwxCAAAAAhiEAAQAADEMAAgAAGIYABAAAMAwBCAAAYJhgf+8A+r+4otft/97zwBQ/7gkAADgdvAKIs/LV+OtuHQAABB4CEGesp9gjAgEACGwEIAAAgGF4D+AAw/vxAADAN+EVwAHkXL8fr6fAJDwBAAhsBGCAiit63V5Od/y32d5bvh57xB8AAIGPW8ABqLtX8gI5rAJ53wAAwMl4BTDA8MlaAADQ1wjAAYL34wEAgNNFAA4gvB8PAACcDodlWZa/d6K/8nq9Cg8PV1tbm5xOZ6/N293tXmIOAIDe0VfX7/6EVwADEK/kAQCAvsSngAMU0QcAAPoKrwACAAAYhgAEAAAwDAEIAABgGAIQAADAMAQgAACAYfwegCUlJXI4HD5LcnKyzxiPx6MJEyYoLCxMTqdT48aN0/Hjx0857759+3T99dfrkksuUWhoqC6//HK9++679uOWZWnhwoVyuVwKDQ1Vdna26urq+uQYAQAAAonfA1CSUlNTdeDAAXvZvHmz/ZjH41FOTo4mTpyorVu3atu2bZo7d64GDep51z/66CONGTNG5513nt5880198MEH+t3vfqfvfOc79piHHnpIq1at0uOPP67q6mqFhYVp0qRJ6ujo6NNjBQAA8LeA+B7A4OBgRUdHd/tYQUGB5s2bp6KiIntbUlLSKed78MEHFRMTo7Vr19rb4uPj7f+2LEsrV67Ufffdp2nTpkmS1q9fr6ioKL3yyiuaOXPm2RwOAABAQAuIVwDr6urkdruVkJCgvLw8NTU1SZIOHz6s6upqRUZGKiMjQ1FRURo/frzPK4Tdee2113T11VdrxowZioyM1BVXXKEnn3zSfnz37t06ePCgsrOz7W3h4eFKT0+Xx+Ppm4MEAAAIEH4PwPT0dK1bt07l5eVas2aNdu/erbFjx+rYsWNqbGyU9MX7BG+99VaVl5fryiuvVFZW1infr9fY2Kg1a9Zo2LBheuutt3THHXdo3rx5KisrkyQdPHhQkhQVFeXzvKioKPux7nR2dsrr9fosAAAA/Y3fbwFPnjzZ/u+RI0cqPT1dsbGxevHFF5WSkiJJuv322zV79mxJ0hVXXKHKyko9/fTTKi0t7XbOEydO6Oqrr9by5cvt59TU1Ojxxx/XrFmzznhfS0tLtXjx4jN+PgAAQCDwewB+3ZAhQzR8+HDV19drwoQJkqQRI0b4jElJSbFvE3fH5XJ1+5w//vGPkmS/3/DQoUNyuVz2mEOHDmnUqFE9zltcXKy7777bXm9ra9P3vvc9XgkEAKAf+fK6bVmWn/fEfwIuANvb29XQ0KAbbrhBcXFxcrvdqq2t9Rmza9cun1cOv27MmDHdPic2NlbSFx8IiY6OVmVlpR18Xq9X1dXVuuOOO3qcNyQkRCEhIfb6l3+AYmJivtUxAgAA/zt27JjCw8P9vRt+4fcAnD9/vqZOnarY2Fjt379fixYtUlBQkHJzc+VwOFRYWKhFixYpLS1No0aNUllZmXbu3KkNGzbYc2RlZWn69OmaO3eupC8+OZyRkaHly5frZz/7mbZu3aonnnhCTzzxhCTJ4XAoPz9fS5cu1bBhwxQfH68FCxbI7Xbr2muvPe19d7vd2rt3rwYPHqxjx44pJiZGe/fuldPp7NXfEb4dr9fLuQgAnIfAwHkIDJyHwPDleWhqapLD4ZDb7fb3LvmN3wOwublZubm5amlpUUREhDIzM1VVVaWIiAhJUn5+vjo6OlRQUKCjR48qLS1NGzduVGJioj1HQ0ODjhw5Yq//4Ac/0Msvv6zi4mLdf//9io+P18qVK5WXl2ePueeee/Txxx/rtttuU2trqzIzM1VeXq4LLrjgtPd90KBB+u53vyvpi6iUJKfTyV/uAMG5CAych8DAeQgMnIfAEB4ebvx5cFgm3wDvRV6vV+Hh4WprazP+D5W/cS4CA+chMHAeAgPnITBwHv7B718DAwAAgHOLAOwlISEhWrRokc+HROAfnIvAwHkIDJyHwMB5CAych3/gFjAAAIBheAUQAADAMAQgAACAYQhAAAAAwxCAAAAAhiEAT8MDDzxg/+shp9La2qo5c+bI5XIpJCREw4cP1xtvvOEz5l//9V8VFxenCy64QOnp6dq6dWsf7vnA0lvnoaSkRA6Hw2dJTk7u470fOE7nPPz4xz8+6XfscDg0ZcoUe4xlWVq4cKFcLpdCQ0OVnZ2turq6c3AEA0NvnYcbb7zxpMdzcnLOwREMDKf7v0srV65UUlKSQkNDFRMTo4KCAnV0dPiM4fpwdnrrXJhyjfD7vwQS6LZt26Z/+7d/08iRI0857tNPP9U111yjyMhIbdiwQZdeeqk+/PBDDRkyxB7zH//xH7r77rv1+OOPKz09XStXrtSkSZNUW1uryMjIPj6S/q03z4MkpaamqqKiwl4PDuavwuk43fPw0ksv6dNPP7XXW1palJaWphkzZtjbHnroIa1atUplZWX2P8c4adIkffDBB9/qX+QxUW+eB0nKycnR2rVr7XW+IuP0nO55eO6551RUVKSnn35aGRkZ2rVrlx3eK1askMT14Wz15rmQDLlGWOjRsWPHrGHDhlkbN260xo8fb9111109jl2zZo2VkJBgffrppz2O+eEPf2jNmTPHXu/q6rLcbrdVWlram7s94PT2eVi0aJGVlpbW+zs6wH2b8/B1jzzyiDV48GCrvb3dsizLOnHihBUdHW399re/tce0trZaISEh1vPPP9/buz6g9OZ5sCzLmjVrljVt2rTe39EB7tuchzlz5lgTJkzw2Xb33XdbY8aMsde5Ppy53j4XplwjuAV8CnPmzNGUKVOUnZ39jWNfe+01jR49WnPmzFFUVJS+//3va/ny5erq6pL0xStT7733ns9cgwYNUnZ2tjweT58dw0DQm+fhS3V1dXK73UpISFBeXp6ampr6avcHjG9zHr7uqaee0syZMxUWFiZJ2r17tw4ePOgzV3h4uNLT0/n78A168zx86e2331ZkZKSSkpJ0xx13qKWlpbd2d8D6NuchIyND7733nn1Lt7GxUW+88Yb+6Z/+SRLXh7PVm+fiSyZcIwbga5q944UXXtD//M//aNu2bac1vrGxUX/5y1+Ul5enN954Q/X19brzzjv12WefadGiRTpy5Ii6uroUFRXl87yoqCjt3LmzLw5hQOjt8yBJ6enpWrdunZKSknTgwAEtXrxYY8eOVU1NjQYPHtyXh9Nvfdvz8FVbt25VTU2NnnrqKXvbwYMHJanbvw9fPoaT9fZ5kL64/fvTn/5U8fHxamho0L333qvJkyfL4/EoKCiot3Z9QPm25+EXv/iFjhw5oszMTFmWpc8//1y/+tWvdO+990oS14ez0NvnQjLoGuHvlyADUVNTkxUZGWlt377d3vZNLysPGzbMiomJsT7//HN72+9+9zsrOjrasizL2rdvnyXJ2rJli8/zCgsLrR/+8Ie9ewADRF+ch+589NFHltPptP793/+9V/Z7oDmT8/BVt912m3X55Zf7bHvnnXcsSdb+/ft9ts+YMcP62c9+dtb7PBD1xXnoTkNDgyXJqqioONNdHdDO5Dz813/9lxUVFWU9+eST1o4dO6yXXnrJiomJse6//37Lsrg+nKm+OBfdGajXCAKwGy+//LIlyQoKCrIXSZbD4bCCgoJ84uJL48aNs7Kysny2vfHGG5Ykq7Oz0+rs7LSCgoKsl19+2WfML3/5S+uf//mf+/Jw+q2+OA89ufrqq62ioqJeP4aB4EzOw5fa29stp9NprVy50mf7l5Hx17/+1Wf7uHHjrHnz5vXFYfR7fXEeejJ06FDr8ccf761dH1DO5DxkZmZa8+fP99n2zDPPWKGhoVZXVxfXhzPUF+eiJwPxGsF7ALuRlZWlv/3tb3r//fft5eqrr1ZeXp7ef//9bm+LjBkzRvX19Tpx4oS9bdeuXXK5XDr//PN1/vnn66qrrlJlZaX9+IkTJ1RZWanRo0efk+Pqb/riPHSnvb1dDQ0NcrlcfXYs/dmZnIcv/eEPf1BnZ6euv/56n+3x8fGKjo72+fvg9XpVXV3N34ce9MV56E5zc7NaWlr4+9CDMzkPn3zyiQYN8r3cfjnOsiyuD2eoL85FdwbsNcLfBdpffP1l5RtuuMHn/w00NTVZgwcPtubOnWvV1tZa//mf/2lFRkZaS5cutce88MILVkhIiLVu3Trrgw8+sG677TZryJAh1sGDB8/lofRrvXEefv3rX1tvv/22tXv3buudd96xsrOzraFDh1qHDx8+l4fSr33TefhSZmam9fOf/7zbOR544AFryJAh1quvvmrt2LHDmjZtmhUfH28dP368r3Z7wDnb83Ds2DFr/vz5lsfjsXbv3m1VVFRYV155pTVs2DCro6OjL3d9QPmm87Bo0SJr8ODB1vPPP281NjZaf/7zn63ExESftztwfegdvXEuTLlG8CGQM9TU1OTz/yJiYmL01ltvqaCgQCNHjtSll16qu+66S7/5zW/sMT//+c/1f//3f1q4cKEOHjyoUaNGqby8/KQ3/uL0ncl5aG5uVm5urlpaWhQREaHMzExVVVUpIiLCH4cwIHz9PEhSbW2tNm/erD//+c/dPueee+7Rxx9/rNtuu02tra3KzMxUeXk53wF4Fr7teQgKCtKOHTtUVlam1tZWud1uTZw4UUuWLOG7AM/C18/DfffdJ4fDofvuu0/79u1TRESEpk6dqmXLltljuD70jTM5F6ZcIxyW1cNrngAAABiQeA8gAACAYQhAAAAAwxCAAAAAhiEAAQAADEMAAgAAGIYABAAAMAwBCAAAYBgCEAAAwDAEIAAAgGEIQAAAAMMQgAAAAIYhAAEAAAxDAAIAABiGAAQAADAMAQgAAGAYAhAAAMAwBCAAAIBhCEAAAADDEIAAAACGIQABAAAMQwACAAAYhgAEAAAwDAEIAABgGAIQAADAMAQgAACAYQhAAAAAwxCAAAAAhiEAAQAADEMAAgAAGIYABAAAMAwBCAAAYJj/B8vcnGdyxNWIAAAAAElFTkSuQmCC' width=640.0/>\n",
       "            </div>\n",
       "        "
      ],
      "text/plain": [
       "Canvas(toolbar=Toolbar(toolitems=[('Home', 'Reset original view', 'home', 'home'), ('Back', 'Back to previous …"
      ]
     },
     "metadata": {},
     "output_type": "display_data"
    }
   ],
   "source": [
    "# set folders of data\n",
    "folder = r'C:\\Users\\Schimel_Alexandre\\Data\\MBES\\Kongsberg all\\EM2040\\KV-Meritaito_2024_EM2040_Sorvest-F-1-1-extracts-WCD'\n",
    "\n",
    "# list files in folder\n",
    "files = pingmachine.echosounders.index_functions.find_files(folder, [\".all\",\"wcd\"]) # find all Kongsberg files in the list of folders\n",
    "\n",
    "# create a ping container for all pings in the dataset, through a File Handler\n",
    "fileHandler = pingmachine.echosounders.kongsbergall.KongsbergAllFileHandler(files)\n",
    "pingContainer = fileHandler.get_pings()\n",
    "\n",
    "# loop over all pings in the pingContainer and extract latitude and longitude of each ping\n",
    "lat, lon = [], []\n",
    "for ping in pingContainer:\n",
    "    pingLocation = ping.get_geolocation()\n",
    "    lat.append(pingLocation.latitude) \n",
    "    lon.append(pingLocation.longitude)\n",
    "\n",
    "# plot coordinates of all pings in dataset\n",
    "plt.figure()\n",
    "plt.plot(lon, lat, '.')"
   ]
  }
 ],
 "metadata": {
  "kernelspec": {
   "display_name": "ping",
   "language": "python",
   "name": "python3"
  },
  "language_info": {
   "codemirror_mode": {
    "name": "ipython",
    "version": 3
   },
   "file_extension": ".py",
   "mimetype": "text/x-python",
   "name": "python",
   "nbconvert_exporter": "python",
   "pygments_lexer": "ipython3",
   "version": "3.12.7"
  },
  "widgets": {
   "application/vnd.jupyter.widget-state+json": {
    "state": {
     "02a2f304e45544d4acb86867849e3cde": {
      "model_module": "@jupyter-widgets/base",
      "model_module_version": "2.0.0",
      "model_name": "LayoutModel",
      "state": {}
     },
     "139391cd25964eeeab97e5fd85ef1182": {
      "model_module": "@jupyter-widgets/controls",
      "model_module_version": "2.0.0",
      "model_name": "HTMLModel",
      "state": {
       "layout": "IPY_MODEL_02a2f304e45544d4acb86867849e3cde",
       "style": "IPY_MODEL_d271708258894531865cc4d6baebaf37",
       "value": "removing duplicates: 100%"
      }
     },
     "1c004e7e06b742cebd0b70a2211dfbe2": {
      "model_module": "@jupyter-widgets/base",
      "model_module_version": "2.0.0",
      "model_name": "LayoutModel",
      "state": {}
     },
     "1e8ea2ef36914e299fd8b187f4fce4f5": {
      "model_module": "@jupyter-widgets/base",
      "model_module_version": "2.0.0",
      "model_name": "LayoutModel",
      "state": {}
     },
     "282e8ffd809b4667800ad4716c92ecff": {
      "model_module": "@jupyter-widgets/base",
      "model_module_version": "2.0.0",
      "model_name": "LayoutModel",
      "state": {}
     },
     "2e69ef5921be477b8d0a21c734c6bf7b": {
      "model_module": "@jupyter-widgets/controls",
      "model_module_version": "2.0.0",
      "model_name": "HTMLModel",
      "state": {
       "layout": "IPY_MODEL_526163d1e95646c898eedcf92046396a",
       "style": "IPY_MODEL_805072820eea431fad8e53293e391654",
       "value": "removing duplicates: 100%"
      }
     },
     "3db4966834a14aa3a4f899d88556e2aa": {
      "model_module": "@jupyter-widgets/base",
      "model_module_version": "2.0.0",
      "model_name": "LayoutModel",
      "state": {}
     },
     "3f4cd3f7178440d5a021fcad4849be33": {
      "model_module": "@jupyter-widgets/controls",
      "model_module_version": "2.0.0",
      "model_name": "HTMLModel",
      "state": {
       "layout": "IPY_MODEL_9f81b598ea624c409b5c45d7156038a7",
       "style": "IPY_MODEL_95cdbf5e393443baaf25e31a0b92b20a",
       "value": " 18/18 [00:00&lt;00:00, 9055.71it/s]"
      }
     },
     "508f0661878446889a9af33be5317a65": {
      "model_module": "@jupyter-widgets/base",
      "model_module_version": "2.0.0",
      "model_name": "LayoutModel",
      "state": {}
     },
     "526163d1e95646c898eedcf92046396a": {
      "model_module": "@jupyter-widgets/base",
      "model_module_version": "2.0.0",
      "model_name": "LayoutModel",
      "state": {}
     },
     "592dec35e99f4d369aeeea289c4ed11d": {
      "model_module": "@jupyter-widgets/base",
      "model_module_version": "2.0.0",
      "model_name": "LayoutModel",
      "state": {}
     },
     "5ca09e805679489894224d2d41346532": {
      "model_module": "@jupyter-widgets/controls",
      "model_module_version": "2.0.0",
      "model_name": "HBoxModel",
      "state": {
       "children": [
        "IPY_MODEL_2e69ef5921be477b8d0a21c734c6bf7b",
        "IPY_MODEL_e0588fe6d4a74918be13e25fa83ccc73",
        "IPY_MODEL_3f4cd3f7178440d5a021fcad4849be33"
       ],
       "layout": "IPY_MODEL_ee75a35214e54ca69f40cd0f936527bb"
      }
     },
     "66a70927992a4576a2f04cff7b29e564": {
      "model_module": "jupyter-matplotlib",
      "model_module_version": "^0.11",
      "model_name": "ToolbarModel",
      "state": {
       "_model_module_version": "^0.11",
       "_view_module_version": "^0.11",
       "collapsed": true,
       "layout": "IPY_MODEL_592dec35e99f4d369aeeea289c4ed11d",
       "orientation": "vertical",
       "toolitems": [
        [
         "Home",
         "Reset original view",
         "home",
         "home"
        ],
        [
         "Back",
         "Back to previous view",
         "arrow-left",
         "back"
        ],
        [
         "Forward",
         "Forward to next view",
         "arrow-right",
         "forward"
        ],
        [
         "Pan",
         "Left button pans, Right button zooms\nx/y fixes axis, CTRL fixes aspect",
         "arrows",
         "pan"
        ],
        [
         "Zoom",
         "Zoom to rectangle\nx/y fixes axis",
         "square-o",
         "zoom"
        ],
        [
         "Download",
         "Download plot",
         "floppy-o",
         "save_figure"
        ]
       ]
      }
     },
     "68bfcf36d5304a13ad1578e7edefab61": {
      "model_module": "@jupyter-widgets/controls",
      "model_module_version": "2.0.0",
      "model_name": "HBoxModel",
      "state": {
       "children": [
        "IPY_MODEL_139391cd25964eeeab97e5fd85ef1182",
        "IPY_MODEL_e769b74e4e9b4b86aab9495d9af433b4",
        "IPY_MODEL_cda11165b2144f0fba847e7af4f697fd"
       ],
       "layout": "IPY_MODEL_508f0661878446889a9af33be5317a65"
      }
     },
     "805072820eea431fad8e53293e391654": {
      "model_module": "@jupyter-widgets/controls",
      "model_module_version": "2.0.0",
      "model_name": "HTMLStyleModel",
      "state": {
       "description_width": "",
       "font_size": null,
       "text_color": null
      }
     },
     "95cdbf5e393443baaf25e31a0b92b20a": {
      "model_module": "@jupyter-widgets/controls",
      "model_module_version": "2.0.0",
      "model_name": "HTMLStyleModel",
      "state": {
       "description_width": "",
       "font_size": null,
       "text_color": null
      }
     },
     "9f81b598ea624c409b5c45d7156038a7": {
      "model_module": "@jupyter-widgets/base",
      "model_module_version": "2.0.0",
      "model_name": "LayoutModel",
      "state": {}
     },
     "b5af38188fdb4c1aa643db2dca504474": {
      "model_module": "@jupyter-widgets/controls",
      "model_module_version": "2.0.0",
      "model_name": "ProgressStyleModel",
      "state": {
       "description_width": ""
      }
     },
     "b7466f646e4d4188a649c88962ecf8fc": {
      "model_module": "@jupyter-widgets/controls",
      "model_module_version": "2.0.0",
      "model_name": "ProgressStyleModel",
      "state": {
       "description_width": ""
      }
     },
     "b97d671c86734898a66e2f1cbce28b8c": {
      "model_module": "jupyter-matplotlib",
      "model_module_version": "^0.11",
      "model_name": "MPLCanvasModel",
      "state": {
       "_data_url": "data:image/png;base64,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",
       "_figure_label": "Figure 1",
       "_model_module_version": "^0.11",
       "_size": [
        640,
        479.99999999999994
       ],
       "_view_module_version": "^0.11",
       "layout": "IPY_MODEL_282e8ffd809b4667800ad4716c92ecff",
       "toolbar": "IPY_MODEL_fce954690b9541e29c4c5a1d585ead4d",
       "toolbar_position": "left"
      }
     },
     "cda11165b2144f0fba847e7af4f697fd": {
      "model_module": "@jupyter-widgets/controls",
      "model_module_version": "2.0.0",
      "model_name": "HTMLModel",
      "state": {
       "layout": "IPY_MODEL_3db4966834a14aa3a4f899d88556e2aa",
       "style": "IPY_MODEL_f79c5c46794e44ac991aaad3df38c462",
       "value": " 18/18 [00:00&lt;00:00, 8318.36it/s]"
      }
     },
     "d01b50ee3df84a3ebb01475f7d68f1ae": {
      "model_module": "jupyter-matplotlib",
      "model_module_version": "^0.11",
      "model_name": "MPLCanvasModel",
      "state": {
       "_data_url": "data:image/png;base64,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",
       "_figure_label": "Figure 2",
       "_model_module_version": "^0.11",
       "_size": [
        640,
        479.99999999999994
       ],
       "_view_module_version": "^0.11",
       "layout": "IPY_MODEL_fea61d2b88724ba88035a9653d4ae02f",
       "toolbar": "IPY_MODEL_66a70927992a4576a2f04cff7b29e564",
       "toolbar_position": "left"
      }
     },
     "d271708258894531865cc4d6baebaf37": {
      "model_module": "@jupyter-widgets/controls",
      "model_module_version": "2.0.0",
      "model_name": "HTMLStyleModel",
      "state": {
       "description_width": "",
       "font_size": null,
       "text_color": null
      }
     },
     "d2799a2735524d1fba4ade7b333c2ff3": {
      "model_module": "@jupyter-widgets/base",
      "model_module_version": "2.0.0",
      "model_name": "LayoutModel",
      "state": {}
     },
     "e0588fe6d4a74918be13e25fa83ccc73": {
      "model_module": "@jupyter-widgets/controls",
      "model_module_version": "2.0.0",
      "model_name": "FloatProgressModel",
      "state": {
       "bar_style": "success",
       "layout": "IPY_MODEL_1c004e7e06b742cebd0b70a2211dfbe2",
       "max": 18,
       "style": "IPY_MODEL_b5af38188fdb4c1aa643db2dca504474",
       "value": 18
      }
     },
     "e769b74e4e9b4b86aab9495d9af433b4": {
      "model_module": "@jupyter-widgets/controls",
      "model_module_version": "2.0.0",
      "model_name": "FloatProgressModel",
      "state": {
       "bar_style": "success",
       "layout": "IPY_MODEL_d2799a2735524d1fba4ade7b333c2ff3",
       "max": 18,
       "style": "IPY_MODEL_b7466f646e4d4188a649c88962ecf8fc",
       "value": 18
      }
     },
     "ee75a35214e54ca69f40cd0f936527bb": {
      "model_module": "@jupyter-widgets/base",
      "model_module_version": "2.0.0",
      "model_name": "LayoutModel",
      "state": {}
     },
     "f79c5c46794e44ac991aaad3df38c462": {
      "model_module": "@jupyter-widgets/controls",
      "model_module_version": "2.0.0",
      "model_name": "HTMLStyleModel",
      "state": {
       "description_width": "",
       "font_size": null,
       "text_color": null
      }
     },
     "fce954690b9541e29c4c5a1d585ead4d": {
      "model_module": "jupyter-matplotlib",
      "model_module_version": "^0.11",
      "model_name": "ToolbarModel",
      "state": {
       "_model_module_version": "^0.11",
       "_view_module_version": "^0.11",
       "collapsed": true,
       "layout": "IPY_MODEL_1e8ea2ef36914e299fd8b187f4fce4f5",
       "orientation": "vertical",
       "toolitems": [
        [
         "Home",
         "Reset original view",
         "home",
         "home"
        ],
        [
         "Back",
         "Back to previous view",
         "arrow-left",
         "back"
        ],
        [
         "Forward",
         "Forward to next view",
         "arrow-right",
         "forward"
        ],
        [
         "Pan",
         "Left button pans, Right button zooms\nx/y fixes axis, CTRL fixes aspect",
         "arrows",
         "pan"
        ],
        [
         "Zoom",
         "Zoom to rectangle\nx/y fixes axis",
         "square-o",
         "zoom"
        ],
        [
         "Download",
         "Download plot",
         "floppy-o",
         "save_figure"
        ]
       ]
      }
     },
     "fea61d2b88724ba88035a9653d4ae02f": {
      "model_module": "@jupyter-widgets/base",
      "model_module_version": "2.0.0",
      "model_name": "LayoutModel",
      "state": {}
     }
    },
    "version_major": 2,
    "version_minor": 0
   }
  }
 },
 "nbformat": 4,
 "nbformat_minor": 4
}
