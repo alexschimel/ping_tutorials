{
 "cells": [
  {
   "cell_type": "markdown",
   "metadata": {},
   "source": [
    "Valid for ping 0.25 (25/10/2024)\n",
    "\n",
    "## Data access core concepts"
   ]
  },
  {
   "cell_type": "code",
   "execution_count": null,
   "metadata": {},
   "outputs": [],
   "source": [
    "%matplotlib widget\n",
    "\n",
    "import numpy as np\n",
    "import themachinethatgoesping as pingmachine\n",
    "from matplotlib import pyplot as plt\n",
    "from tqdm.auto import tqdm"
   ]
  },
  {
   "cell_type": "markdown",
   "metadata": {},
   "source": [
    "### 1. List raw data files with find_files()"
   ]
  },
  {
   "cell_type": "code",
   "execution_count": null,
   "metadata": {
    "execution": {
     "iopub.execute_input": "2024-10-25T10:55:15.171710Z",
     "iopub.status.busy": "2024-10-25T10:55:15.171508Z",
     "iopub.status.idle": "2024-10-25T10:55:15.178192Z",
     "shell.execute_reply": "2024-10-25T10:55:15.177918Z",
     "shell.execute_reply.started": "2024-10-25T10:55:15.171699Z"
    }
   },
   "outputs": [],
   "source": [
    "# define a folder to search for raw data files\n",
    "folder = r'C:\\Users\\Schimel_Alexandre\\Data\\MBES\\Kongsberg all\\EM2040\\KV-Meritaito_2024_EM2040_Sorvest-F-1-1-extracts-WCD'\n",
    "\n",
    "# find all Kongsberg files in the list of folders\n",
    "files = pingmachine.echosounders.index_functions.find_files(folder, [\".all\",\"wcd\"])"
   ]
  },
  {
   "cell_type": "code",
   "execution_count": null,
   "metadata": {},
   "outputs": [],
   "source": [
    "# The output of find_files() is a list of file paths, which are strings\n",
    "print(type(files))\n",
    "print(type(files[0]))\n",
    "print(files[0])"
   ]
  },
  {
   "cell_type": "code",
   "execution_count": null,
   "metadata": {
    "execution": {
     "iopub.execute_input": "2024-10-25T10:55:15.178681Z",
     "iopub.status.busy": "2024-10-25T10:55:15.178529Z",
     "iopub.status.idle": "2024-10-25T10:55:15.181068Z",
     "shell.execute_reply": "2024-10-25T10:55:15.180835Z",
     "shell.execute_reply.started": "2024-10-25T10:55:15.178669Z"
    }
   },
   "outputs": [],
   "source": [
    "# show files found\n",
    "files.sort()\n",
    "for i, file in enumerate(files):\n",
    "    print(f\"({i}/{len(files)}) {file}\")"
   ]
  },
  {
   "cell_type": "markdown",
   "metadata": {},
   "source": [
    "### 2. Create a File Handler object to access the raw data files"
   ]
  },
  {
   "cell_type": "code",
   "execution_count": null,
   "metadata": {
    "execution": {
     "iopub.execute_input": "2024-10-25T10:55:15.181539Z",
     "iopub.status.busy": "2024-10-25T10:55:15.181382Z",
     "iopub.status.idle": "2024-10-25T10:55:15.203883Z",
     "shell.execute_reply": "2024-10-25T10:55:15.203642Z",
     "shell.execute_reply.started": "2024-10-25T10:55:15.181529Z"
    }
   },
   "outputs": [],
   "source": [
    "# Create a File Handler to access the raw data files\n",
    "fileHandler = pingmachine.echosounders.kongsbergall.KongsbergAllFileHandler(files)"
   ]
  },
  {
   "cell_type": "code",
   "execution_count": null,
   "metadata": {},
   "outputs": [],
   "source": [
    "# Notes:\n",
    "#   - A File Handler extracts basic information from the files but do not load the acoustic data. It only indexes the datagrams and provides access to them as a combined file stream\n",
    "#   - A file Handler is initalized with the list of files\n",
    "#   - A File Handler pairs .all and .wcd files\n",
    "\n",
    "# See class of a File Hander\n",
    "type(fileHandler)"
   ]
  },
  {
   "cell_type": "code",
   "execution_count": null,
   "metadata": {},
   "outputs": [],
   "source": [
    "# Use the print function to get a summary of the dataset that can be accessed with the File Handler\n",
    "print(fileHandler)"
   ]
  },
  {
   "cell_type": "markdown",
   "metadata": {},
   "source": [
    "### 3. Access a group of pings with the File Handler"
   ]
  },
  {
   "cell_type": "code",
   "execution_count": null,
   "metadata": {
    "execution": {
     "iopub.execute_input": "2024-10-25T10:55:15.204356Z",
     "iopub.status.busy": "2024-10-25T10:55:15.204207Z",
     "iopub.status.idle": "2024-10-25T10:55:15.206805Z",
     "shell.execute_reply": "2024-10-25T10:55:15.206589Z",
     "shell.execute_reply.started": "2024-10-25T10:55:15.204340Z"
    }
   },
   "outputs": [],
   "source": [
    "# Access a group of pings from the File Handler with the get_pings() method\n",
    "pingContainer = fileHandler.get_pings()\n",
    "\n",
    "# The output is a Ping Container object\n",
    "type(pingContainer)"
   ]
  },
  {
   "cell_type": "code",
   "execution_count": null,
   "metadata": {},
   "outputs": [],
   "source": [
    "# Use the print function to get a summary of the contents of a Ping Container\n",
    "print(pingContainer)"
   ]
  },
  {
   "cell_type": "markdown",
   "metadata": {},
   "source": [
    "### 4. Access an individual ping in the Ping Container\n"
   ]
  },
  {
   "cell_type": "code",
   "execution_count": null,
   "metadata": {},
   "outputs": [],
   "source": [
    "# Access an individual ping in a Ping Container simply by indexing\n",
    "ping = pingContainer[42]\n",
    "\n",
    "# The result is a Ping object\n",
    "type(ping)"
   ]
  },
  {
   "cell_type": "code",
   "execution_count": null,
   "metadata": {},
   "outputs": [],
   "source": [
    "# Use the print function to get a summary of the contents of a Ping object\n",
    "print(ping)"
   ]
  },
  {
   "cell_type": "markdown",
   "metadata": {},
   "source": [
    "### 5. Access data in a ping"
   ]
  },
  {
   "cell_type": "code",
   "execution_count": null,
   "metadata": {
    "execution": {
     "iopub.execute_input": "2024-10-25T10:55:15.213651Z",
     "iopub.status.busy": "2024-10-25T10:55:15.213419Z",
     "iopub.status.idle": "2024-10-25T10:55:15.218330Z",
     "shell.execute_reply": "2024-10-25T10:55:15.218099Z",
     "shell.execute_reply.started": "2024-10-25T10:55:15.213640Z"
    }
   },
   "outputs": [],
   "source": [
    "# A Ping object has 3 types of information: base, bottom, and water-column. Let's just talk here about the base information\n",
    "\n",
    "# An example of base information is location\n",
    "pingLocation = ping.get_geolocation()\n",
    "\n",
    "# see class of a \"Ping Location\" object\n",
    "type(pingLocation)"
   ]
  },
  {
   "cell_type": "code",
   "execution_count": null,
   "metadata": {},
   "outputs": [],
   "source": [
    "# Use the print function to get a summary of the contents of a Ping Location\n",
    "print(pingLocation)"
   ]
  },
  {
   "cell_type": "code",
   "execution_count": null,
   "metadata": {},
   "outputs": [],
   "source": [
    "# Data in a Ping Location are simple attributes\n",
    "print(f\"Example ping location - Latitude: {pingLocation.latitude}, Longitude: {pingLocation.longitude}\")"
   ]
  },
  {
   "cell_type": "markdown",
   "metadata": {},
   "source": [
    "### 6. Conclusion\n",
    "Putting it all together with an example. If you want to extract latitudes and longitudes from all pings in the entire dataset"
   ]
  },
  {
   "cell_type": "code",
   "execution_count": null,
   "metadata": {},
   "outputs": [],
   "source": [
    "# set folders of data\n",
    "folder = r'C:\\Users\\Schimel_Alexandre\\Data\\MBES\\Kongsberg all\\EM2040\\KV-Meritaito_2024_EM2040_Sorvest-F-1-1-extracts-WCD'\n",
    "\n",
    "# list files in folder\n",
    "files = pingmachine.echosounders.index_functions.find_files(folder, [\".all\",\"wcd\"]) # find all Kongsberg files in the list of folders\n",
    "\n",
    "# create a ping container for all pings in the dataset, through a File Handler\n",
    "fileHandler = pingmachine.echosounders.kongsbergall.KongsbergAllFileHandler(files)\n",
    "pingContainer = fileHandler.get_pings()\n",
    "\n",
    "# loop over all pings in the pingContainer and extract latitude and longitude of each ping\n",
    "lat, lon = [], []\n",
    "for ping in pingContainer:\n",
    "    pingLocation = ping.get_geolocation()\n",
    "    lat.append(pingLocation.latitude) \n",
    "    lon.append(pingLocation.longitude)\n",
    "\n",
    "# plot coordinates of all pings in dataset\n",
    "plt.figure()\n",
    "plt.plot(lon, lat, '.')"
   ]
  }
 ],
 "metadata": {
  "kernelspec": {
   "display_name": "ping",
   "language": "python",
   "name": "python3"
  },
  "language_info": {
   "codemirror_mode": {
    "name": "ipython",
    "version": 3
   },
   "file_extension": ".py",
   "mimetype": "text/x-python",
   "name": "python",
   "nbconvert_exporter": "python",
   "pygments_lexer": "ipython3",
   "version": "3.12.7"
  },
  "widgets": {
   "application/vnd.jupyter.widget-state+json": {
    "state": {
     "02a2f304e45544d4acb86867849e3cde": {
      "model_module": "@jupyter-widgets/base",
      "model_module_version": "2.0.0",
      "model_name": "LayoutModel",
      "state": {}
     },
     "139391cd25964eeeab97e5fd85ef1182": {
      "model_module": "@jupyter-widgets/controls",
      "model_module_version": "2.0.0",
      "model_name": "HTMLModel",
      "state": {
       "layout": "IPY_MODEL_02a2f304e45544d4acb86867849e3cde",
       "style": "IPY_MODEL_d271708258894531865cc4d6baebaf37",
       "value": "removing duplicates: 100%"
      }
     },
     "1c004e7e06b742cebd0b70a2211dfbe2": {
      "model_module": "@jupyter-widgets/base",
      "model_module_version": "2.0.0",
      "model_name": "LayoutModel",
      "state": {}
     },
     "1e8ea2ef36914e299fd8b187f4fce4f5": {
      "model_module": "@jupyter-widgets/base",
      "model_module_version": "2.0.0",
      "model_name": "LayoutModel",
      "state": {}
     },
     "282e8ffd809b4667800ad4716c92ecff": {
      "model_module": "@jupyter-widgets/base",
      "model_module_version": "2.0.0",
      "model_name": "LayoutModel",
      "state": {}
     },
     "2e69ef5921be477b8d0a21c734c6bf7b": {
      "model_module": "@jupyter-widgets/controls",
      "model_module_version": "2.0.0",
      "model_name": "HTMLModel",
      "state": {
       "layout": "IPY_MODEL_526163d1e95646c898eedcf92046396a",
       "style": "IPY_MODEL_805072820eea431fad8e53293e391654",
       "value": "removing duplicates: 100%"
      }
     },
     "3db4966834a14aa3a4f899d88556e2aa": {
      "model_module": "@jupyter-widgets/base",
      "model_module_version": "2.0.0",
      "model_name": "LayoutModel",
      "state": {}
     },
     "3f4cd3f7178440d5a021fcad4849be33": {
      "model_module": "@jupyter-widgets/controls",
      "model_module_version": "2.0.0",
      "model_name": "HTMLModel",
      "state": {
       "layout": "IPY_MODEL_9f81b598ea624c409b5c45d7156038a7",
       "style": "IPY_MODEL_95cdbf5e393443baaf25e31a0b92b20a",
       "value": " 18/18 [00:00&lt;00:00, 9055.71it/s]"
      }
     },
     "508f0661878446889a9af33be5317a65": {
      "model_module": "@jupyter-widgets/base",
      "model_module_version": "2.0.0",
      "model_name": "LayoutModel",
      "state": {}
     },
     "526163d1e95646c898eedcf92046396a": {
      "model_module": "@jupyter-widgets/base",
      "model_module_version": "2.0.0",
      "model_name": "LayoutModel",
      "state": {}
     },
     "592dec35e99f4d369aeeea289c4ed11d": {
      "model_module": "@jupyter-widgets/base",
      "model_module_version": "2.0.0",
      "model_name": "LayoutModel",
      "state": {}
     },
     "5ca09e805679489894224d2d41346532": {
      "model_module": "@jupyter-widgets/controls",
      "model_module_version": "2.0.0",
      "model_name": "HBoxModel",
      "state": {
       "children": [
        "IPY_MODEL_2e69ef5921be477b8d0a21c734c6bf7b",
        "IPY_MODEL_e0588fe6d4a74918be13e25fa83ccc73",
        "IPY_MODEL_3f4cd3f7178440d5a021fcad4849be33"
       ],
       "layout": "IPY_MODEL_ee75a35214e54ca69f40cd0f936527bb"
      }
     },
     "66a70927992a4576a2f04cff7b29e564": {
      "model_module": "jupyter-matplotlib",
      "model_module_version": "^0.11",
      "model_name": "ToolbarModel",
      "state": {
       "_model_module_version": "^0.11",
       "_view_module_version": "^0.11",
       "collapsed": true,
       "layout": "IPY_MODEL_592dec35e99f4d369aeeea289c4ed11d",
       "orientation": "vertical",
       "toolitems": [
        [
         "Home",
         "Reset original view",
         "home",
         "home"
        ],
        [
         "Back",
         "Back to previous view",
         "arrow-left",
         "back"
        ],
        [
         "Forward",
         "Forward to next view",
         "arrow-right",
         "forward"
        ],
        [
         "Pan",
         "Left button pans, Right button zooms\nx/y fixes axis, CTRL fixes aspect",
         "arrows",
         "pan"
        ],
        [
         "Zoom",
         "Zoom to rectangle\nx/y fixes axis",
         "square-o",
         "zoom"
        ],
        [
         "Download",
         "Download plot",
         "floppy-o",
         "save_figure"
        ]
       ]
      }
     },
     "68bfcf36d5304a13ad1578e7edefab61": {
      "model_module": "@jupyter-widgets/controls",
      "model_module_version": "2.0.0",
      "model_name": "HBoxModel",
      "state": {
       "children": [
        "IPY_MODEL_139391cd25964eeeab97e5fd85ef1182",
        "IPY_MODEL_e769b74e4e9b4b86aab9495d9af433b4",
        "IPY_MODEL_cda11165b2144f0fba847e7af4f697fd"
       ],
       "layout": "IPY_MODEL_508f0661878446889a9af33be5317a65"
      }
     },
     "805072820eea431fad8e53293e391654": {
      "model_module": "@jupyter-widgets/controls",
      "model_module_version": "2.0.0",
      "model_name": "HTMLStyleModel",
      "state": {
       "description_width": "",
       "font_size": null,
       "text_color": null
      }
     },
     "95cdbf5e393443baaf25e31a0b92b20a": {
      "model_module": "@jupyter-widgets/controls",
      "model_module_version": "2.0.0",
      "model_name": "HTMLStyleModel",
      "state": {
       "description_width": "",
       "font_size": null,
       "text_color": null
      }
     },
     "9f81b598ea624c409b5c45d7156038a7": {
      "model_module": "@jupyter-widgets/base",
      "model_module_version": "2.0.0",
      "model_name": "LayoutModel",
      "state": {}
     },
     "b5af38188fdb4c1aa643db2dca504474": {
      "model_module": "@jupyter-widgets/controls",
      "model_module_version": "2.0.0",
      "model_name": "ProgressStyleModel",
      "state": {
       "description_width": ""
      }
     },
     "b7466f646e4d4188a649c88962ecf8fc": {
      "model_module": "@jupyter-widgets/controls",
      "model_module_version": "2.0.0",
      "model_name": "ProgressStyleModel",
      "state": {
       "description_width": ""
      }
     },
     "b97d671c86734898a66e2f1cbce28b8c": {
      "model_module": "jupyter-matplotlib",
      "model_module_version": "^0.11",
      "model_name": "MPLCanvasModel",
      "state": {
       "_data_url": "data:image/png;base64,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",
       "_figure_label": "Figure 1",
       "_model_module_version": "^0.11",
       "_size": [
        640,
        479.99999999999994
       ],
       "_view_module_version": "^0.11",
       "layout": "IPY_MODEL_282e8ffd809b4667800ad4716c92ecff",
       "toolbar": "IPY_MODEL_fce954690b9541e29c4c5a1d585ead4d",
       "toolbar_position": "left"
      }
     },
     "cda11165b2144f0fba847e7af4f697fd": {
      "model_module": "@jupyter-widgets/controls",
      "model_module_version": "2.0.0",
      "model_name": "HTMLModel",
      "state": {
       "layout": "IPY_MODEL_3db4966834a14aa3a4f899d88556e2aa",
       "style": "IPY_MODEL_f79c5c46794e44ac991aaad3df38c462",
       "value": " 18/18 [00:00&lt;00:00, 8318.36it/s]"
      }
     },
     "d01b50ee3df84a3ebb01475f7d68f1ae": {
      "model_module": "jupyter-matplotlib",
      "model_module_version": "^0.11",
      "model_name": "MPLCanvasModel",
      "state": {
       "_data_url": "data:image/png;base64,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",
       "_figure_label": "Figure 2",
       "_model_module_version": "^0.11",
       "_size": [
        640,
        479.99999999999994
       ],
       "_view_module_version": "^0.11",
       "layout": "IPY_MODEL_fea61d2b88724ba88035a9653d4ae02f",
       "toolbar": "IPY_MODEL_66a70927992a4576a2f04cff7b29e564",
       "toolbar_position": "left"
      }
     },
     "d271708258894531865cc4d6baebaf37": {
      "model_module": "@jupyter-widgets/controls",
      "model_module_version": "2.0.0",
      "model_name": "HTMLStyleModel",
      "state": {
       "description_width": "",
       "font_size": null,
       "text_color": null
      }
     },
     "d2799a2735524d1fba4ade7b333c2ff3": {
      "model_module": "@jupyter-widgets/base",
      "model_module_version": "2.0.0",
      "model_name": "LayoutModel",
      "state": {}
     },
     "e0588fe6d4a74918be13e25fa83ccc73": {
      "model_module": "@jupyter-widgets/controls",
      "model_module_version": "2.0.0",
      "model_name": "FloatProgressModel",
      "state": {
       "bar_style": "success",
       "layout": "IPY_MODEL_1c004e7e06b742cebd0b70a2211dfbe2",
       "max": 18,
       "style": "IPY_MODEL_b5af38188fdb4c1aa643db2dca504474",
       "value": 18
      }
     },
     "e769b74e4e9b4b86aab9495d9af433b4": {
      "model_module": "@jupyter-widgets/controls",
      "model_module_version": "2.0.0",
      "model_name": "FloatProgressModel",
      "state": {
       "bar_style": "success",
       "layout": "IPY_MODEL_d2799a2735524d1fba4ade7b333c2ff3",
       "max": 18,
       "style": "IPY_MODEL_b7466f646e4d4188a649c88962ecf8fc",
       "value": 18
      }
     },
     "ee75a35214e54ca69f40cd0f936527bb": {
      "model_module": "@jupyter-widgets/base",
      "model_module_version": "2.0.0",
      "model_name": "LayoutModel",
      "state": {}
     },
     "f79c5c46794e44ac991aaad3df38c462": {
      "model_module": "@jupyter-widgets/controls",
      "model_module_version": "2.0.0",
      "model_name": "HTMLStyleModel",
      "state": {
       "description_width": "",
       "font_size": null,
       "text_color": null
      }
     },
     "fce954690b9541e29c4c5a1d585ead4d": {
      "model_module": "jupyter-matplotlib",
      "model_module_version": "^0.11",
      "model_name": "ToolbarModel",
      "state": {
       "_model_module_version": "^0.11",
       "_view_module_version": "^0.11",
       "collapsed": true,
       "layout": "IPY_MODEL_1e8ea2ef36914e299fd8b187f4fce4f5",
       "orientation": "vertical",
       "toolitems": [
        [
         "Home",
         "Reset original view",
         "home",
         "home"
        ],
        [
         "Back",
         "Back to previous view",
         "arrow-left",
         "back"
        ],
        [
         "Forward",
         "Forward to next view",
         "arrow-right",
         "forward"
        ],
        [
         "Pan",
         "Left button pans, Right button zooms\nx/y fixes axis, CTRL fixes aspect",
         "arrows",
         "pan"
        ],
        [
         "Zoom",
         "Zoom to rectangle\nx/y fixes axis",
         "square-o",
         "zoom"
        ],
        [
         "Download",
         "Download plot",
         "floppy-o",
         "save_figure"
        ]
       ]
      }
     },
     "fea61d2b88724ba88035a9653d4ae02f": {
      "model_module": "@jupyter-widgets/base",
      "model_module_version": "2.0.0",
      "model_name": "LayoutModel",
      "state": {}
     }
    },
    "version_major": 2,
    "version_minor": 0
   }
  }
 },
 "nbformat": 4,
 "nbformat_minor": 4
}
