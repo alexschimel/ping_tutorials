{
 "cells": [
  {
   "cell_type": "markdown",
   "metadata": {},
   "source": [
    "Valid for ping 0.25 (25/10/2024)\n",
    "### Load data"
   ]
  },
  {
   "cell_type": "code",
   "execution_count": null,
   "metadata": {},
   "outputs": [],
   "source": [
    "%matplotlib widget\n",
    "\n",
    "import numpy as np\n",
    "import themachinethatgoesping as pingmachine\n",
    "from matplotlib import pyplot as plt\n",
    "from tqdm.auto import tqdm\n",
    "\n",
    "# data folder\n",
    "folder = r'C:\\Users\\Schimel_Alexandre\\Data\\MBES\\Kongsberg all\\EM2040\\KV-Meritaito_2024_EM2040_Sorvest-F-1-1-extracts-WCD'\n",
    "\n",
    "# list raw data files\n",
    "files = pingmachine.echosounders.index_functions.find_files(folder,['.all','.wcd'])\n",
    "files.sort()\n",
    "\n",
    "# create the file handler\n",
    "cache_files = pingmachine.echosounders.index_functions.get_cache_file_paths(files)\n",
    "fileHandler = pingmachine.echosounders.kongsbergall.KongsbergAllFileHandler(files,cache_files,init=True)\n",
    "\n",
    "# get the list of all pings that contain WCD\n",
    "pings = pingmachine.pingprocessing.filter_pings.by_features(fileHandler.get_pings(),['watercolumn.amplitudes'])\n",
    "\n",
    "# check data with the WCI Viewer\n",
    "viewer = pingmachine.pingprocessing.widgets.WCIViewer(pings)"
   ]
  },
  {
   "cell_type": "markdown",
   "metadata": {},
   "source": [
    "### Get WCD"
   ]
  },
  {
   "cell_type": "code",
   "execution_count": null,
   "metadata": {},
   "outputs": [],
   "source": [
    "# Get the WCD from the first ping\n",
    "image = pings[0].watercolumn.get_av()\n",
    "# output is a beam x samples numpy array\n",
    "print(f\"num beams: {np.shape(image)[0]}, num samples: {np.shape(image)[1]}\")\n",
    "\n",
    "# display\n",
    "fig1,ax1 = pingmachine.pingprocessing.core.create_figure('wci') # we transpose the image for display purposes\n",
    "ax1.imshow(image.transpose(),aspect='auto')\n",
    "ax1.set_xlabel('Beam #')\n",
    "ax1.set_ylabel('Sample #')\n",
    "ax1.set_title('first ping full WCD, flat view')"
   ]
  },
  {
   "cell_type": "markdown",
   "metadata": {},
   "source": [
    "### WCD data subselection"
   ]
  },
  {
   "cell_type": "code",
   "execution_count": null,
   "metadata": {},
   "outputs": [],
   "source": [
    "# We can specify the data we want, using a pingsampleselector \n",
    "pss = pingmachine.echosounders.pingtools.PingSampleSelector()\n",
    "pss.select_beam_range_by_angles(-45,0,5) # min angle, max angle, stepsize in degrees. Other selection options are available\n",
    "\n",
    "# apply the ping selector for beam x sample data\n",
    "bs = pss.apply_selection(pings[0].watercolumn)\n",
    "image = pings[0].watercolumn.get_av(bs)\n",
    "\n",
    "# display\n",
    "fig2,ax2 = pingmachine.pingprocessing.core.create_figure('wci') # we transpose the image for display purposes\n",
    "ax2.imshow(image.transpose(),aspect='auto')\n",
    "ax2.set_xlabel('Beam #')\n",
    "ax2.set_ylabel('Sample #')\n",
    "ax2.set_title('first ping WCD, flat view, selected beams')"
   ]
  }
 ],
 "metadata": {
  "kernelspec": {
   "display_name": "ping",
   "language": "python",
   "name": "python3"
  },
  "language_info": {
   "codemirror_mode": {
    "name": "ipython",
    "version": 3
   },
   "file_extension": ".py",
   "mimetype": "text/x-python",
   "name": "python",
   "nbconvert_exporter": "python",
   "pygments_lexer": "ipython3",
   "version": "3.12.7"
  }
 },
 "nbformat": 4,
 "nbformat_minor": 2
}
